{
 "cells": [
  {
   "cell_type": "markdown",
   "metadata": {
    "id": "09zg9pLwb_Mo"
   },
   "source": [
    "![banner](../banner.jpg)\n",
    "\n",
    "***[Workshop 8](about) - Planning analysis and presenting results***\n",
    "\n",
    "---"
   ]
  },
  {
   "cell_type": "markdown",
   "metadata": {
    "id": "QPvqgYQHAfKF"
   },
   "source": [
    "# Module 2 - Presenting results of a genomic surveillance data analysis \n",
    "\n",
    "\n",
    "**Theme: Analysis**\n",
    "\n",
    "This module will provide advice on how to communicate key results from a genomic surveillance data analysis. The focus is on planning a presentation, using a suggested outline to organise information and communicate your results effectively."
   ]
  },
  {
   "cell_type": "markdown",
   "metadata": {
    "id": "TOnaa1RkDDIB"
   },
   "source": [
    "## Learning objectives\n",
    "\n",
    "After completing this module, you will be able to:\n",
    "\n",
    "* Prepare a presentation of genomic data analysis for a public health scientific audience\n",
    "* Present and communicate analysis results clearly and concisely "
   ]
  },
  {
   "cell_type": "markdown",
   "metadata": {
    "id": "-JKyzOkc6xBI"
   },
   "source": [
    "## Lecture"
   ]
  },
  {
   "cell_type": "markdown",
   "metadata": {
    "id": "lVcQYAO56xBJ"
   },
   "source": [
    "### English"
   ]
  },
  {
   "cell_type": "code",
   "execution_count": 1,
   "metadata": {
    "colab": {
     "base_uri": "https://localhost:8080/",
     "height": 336
    },
    "id": "PAdLd3lB6xBL",
    "outputId": "3a466421-43cd-46f3-99e0-7dcbcd2878b5",
    "tags": [
     "remove-input"
    ]
   },
   "outputs": [
    {
     "data": {
      "text/html": [
       "<iframe width=\"560\" height=\"315\" src=\"https://www.youtube.com/embed/6kGB0seGiJU\" title=\"YouTube video player\" frameborder=\"0\" allow=\"accelerometer; autoplay; clipboard-write; encrypted-media; gyroscope; picture-in-picture\" allowfullscreen></iframe>\n"
      ],
      "text/plain": [
       "<IPython.core.display.HTML object>"
      ]
     },
     "metadata": {},
     "output_type": "display_data"
    }
   ],
   "source": [
    "%%html\n",
    "<iframe width=\"560\" height=\"315\" src=\"https://www.youtube.com/embed/6kGB0seGiJU\" title=\"YouTube video player\" frameborder=\"0\" allow=\"accelerometer; autoplay; clipboard-write; encrypted-media; gyroscope; picture-in-picture\" allowfullscreen></iframe>"
   ]
  },
  {
   "cell_type": "markdown",
   "metadata": {
    "id": "_DiEDV6K6xBQ"
   },
   "source": [
    "### Français"
   ]
  },
  {
   "cell_type": "code",
   "execution_count": 2,
   "metadata": {
    "colab": {
     "base_uri": "https://localhost:8080/",
     "height": 336
    },
    "id": "8s3zGws66xBS",
    "outputId": "8ff372a0-818c-4f9e-e96c-fe2a9e8de1ab",
    "tags": [
     "remove-input"
    ]
   },
   "outputs": [],
   "source": [
    "# %%html\n",
    "# <iframe width=\"560\" height=\"315\" src=\"\" title=\"YouTube video player\" frameborder=\"0\" allow=\"accelerometer; autoplay; clipboard-write; encrypted-media; gyroscope; picture-in-picture\" allowfullscreen></iframe>"
   ]
  },
  {
   "cell_type": "markdown",
   "metadata": {},
   "source": [
    "---\n",
    "## Assumptions\n",
    "\n",
    "Before starting to think on how to communicate results, we will assume that:\n",
    "\n",
    "* You have genomic data from a surveillance project.\n",
    "* You have completed your exploratory analysis.\n",
    "* You have identified some key findings which are interesting and relevant to malaria vector surveillance and control.\n",
    "* You want to present your findings to a general international scientific audience in field of global health. E.g., PAMCA or ASTMH conference\n",
    "\n",
    "---"
   ]
  },
  {
   "cell_type": "markdown",
   "metadata": {},
   "source": [
    "## Planning & preparation\n",
    "\n",
    "Before you prepare a presentation, consider your audience and what they are likely to know.\n",
    "* We are going to assume an **international scientific audience in the general field of global health research**.\n",
    "* Remember, the knowledge within the audience will be mixed and there might be people working on a similar topic to yours but from a completely different point of view. For this exercise, we will consider the audience:\n",
    "    * May know about malaria in Africa but not epidemiology or vector ecology/control.\n",
    "    * Will understand basic concepts in genomics but is unlikely to be expert on specifics such as NGS or population genomics methods.\n",
    "    * Is unlikely to have detailed knowledge of the genes or variants involved in insecticide resistance.\n",
    "* Adapt your presentation to your audience. Depending on the conference or session, you can assume different depth of knowledge on a particular topic which will allow you to effectively allocate your time to different subjects.\n",
    "\n",
    "## Timing\n",
    "\n",
    "* Consider the time available for your presentation\n",
    "    * In general, allowing 1 slide per minute is sensible\n",
    "* We are going to assume you have time for a longer presentation, e.g., ~20 minutes\n",
    "* If the available time is shorter, focus only on a few key findings which you think are most relevant\n",
    "    * Some scientific conferences allow ~12 minutes per talk, which is very challenging!\n",
    "* Although it is tempting to include all your results, remember that communicating less information well is better than communicating more information badly - less is more!\n",
    "\n",
    "\n",
    "## Data Storytelling\n",
    "Your goal is to communicate your **key findings** and their relevance to current challenges in malaria vector research, surveillance and control.\n",
    "So, you want to start thinking from the key findings and see if you can build a “data story” around them.\n",
    "* Think about the narrative structure and arc\n",
    "* Select the right data\n",
    "* Choose appropriate visualization\n",
    "\n",
    "There are loads of great resources on the web providing training and advice on good data storytelling. E.g., [_Telling Effective Data Stories with Data, Narrative and Visuals_](https://www.datacamp.com/blog/telling-effective-data-stories-with-data-narrative-and-visuals). You can also search for the term “data storytelling” to find more resources.\n",
    "\n",
    "---"
   ]
  },
  {
   "cell_type": "markdown",
   "metadata": {},
   "source": [
    "## Suggested outline\n",
    "Here is a suggest outline for your presentation:\n",
    "1. Brief overview\n",
    "1. Background and motivation\n",
    "1. Methods (study design and data)\n",
    "1. Findings and interpretation\n",
    "1. Conclusions\n",
    "\n",
    "### Background and motivation\n",
    "\n",
    "You want to concisely answer: **Why is your research important?** and **How does your research fits into the wider field?** \n",
    "\n",
    "Include relevant overviews of:\n",
    "* Malaria epidemiology in your country.\n",
    "    * Highlight the burden, spatial variations and temporal trends.\n",
    "\n",
    "* Malaria control policy in your country.\n",
    "    * Current and planned interventions.\n",
    "    * Successes, challenges and threats.\n",
    "\n",
    "* Vector ecology.\n",
    "    * Major vector species. \n",
    "    * Important spatial or temporal variation.\n",
    "\n",
    "Then, you want to focus on: **What is your specific question, how does it contribute to current knowledge and how will you address it?** You can relate this to the background information you just talked through. Here is an example: E.g., _“To investigate whether population have insecticide resistance to pyrethroids in response to recent population control we investigated genomic variation at the voltage gated sodium channel gene.”_\n",
    "\n",
    "### Methods\n",
    "You need to include information on: \n",
    "* Study design\n",
    "    * What mosquitoes were collected, how many, where, when, how?\n",
    "\n",
    "* Data\n",
    "    * How the data was processed? Consider how many samples passed QC, how they where sequenced, etc. \n",
    "\n",
    "    * Where can the data be accessed from? Remember that there is data freely available through the MalariaGEN python package.\n",
    "\n",
    "All of these details are important to ensure reproducibility.\n",
    "\n",
    "Remember these methods do not refer to the analytical methods which you can usually summarise when presenting particular pieces of data.\n",
    "\n",
    "\n",
    "### Findings and interpretation\n",
    "The order provided in the exploratory analysis plan (module 1) is intuitive but view it as a menu from which to pick your key findings. \n",
    "- For example, if the species assignment is non-controversial you might choose not to present the AIM or PCA analysis.\n",
    "- If the geographical population structure fits what you would expect to see, you could only mention the number of samples used and that they do not have apparent population structure. \n",
    "- If you have not found any CNVs of interest, you might want to leave this out to spend more time on other results.\n",
    "### Conclusions\n",
    "\n",
    "* Restate the key findings.\n",
    "    * Recapitulate\n",
    "    * Link evidence you have presented earlier\n",
    "\n",
    "* Sum up evidence for or against hypothesis.\n",
    "\n",
    "* Place findings back into wider context.\n",
    "\n",
    "* Suggested next steps or improvements.\n",
    "---"
   ]
  },
  {
   "cell_type": "markdown",
   "metadata": {},
   "source": [
    "## Effective presentation\n",
    "\n",
    "### Presenting your findings\n",
    "To make sure you cover all your points on each slide, you could try to talk through each slide using the same flow: \n",
    "* Question - state the question you’d like to answer.\n",
    "    * _e.g._, _“Is there any geographical population structure within An. coluzzii?”_ \n",
    "* Method - state very briefly what analysis you did.\n",
    "    * _e.g._, _“I ran a principal components analysis of the SNP data using An. coluzzii samples”_\n",
    "* Finding - state what you found/discovered from the analysis.\n",
    "    * _e.g._, _“I found that there are clearly two distinct groups of An. coluzzii, divided by collection location in the north or south of the country.”_\n",
    "* Evidence - highlight the features of the data which support your finding.\n",
    "    * _e.g._, _“You can see these two clusters the scatter plot of the first two principal components.”_\n",
    "* Significance - what does this mean and why is this interesting?\n",
    "    * _e.g._, _“Gene flow appears limited between the north and south. This is interesting because the two regions have different ecologies, so perhaps there are two distinct populations adapted to the different settings.”_\n",
    "\n",
    "### Advice on slides\n",
    "* Aim to convey a single main point per slide.\n",
    "* Avoid too much text or many bullet points.\n",
    "* Choose visualisations that focus on the finding you want to communicate.\n",
    "* Make sure visualisations are clear and readable (including label axes, font size, colour combinations, _etc._)\n",
    "* Annotate figures or tables to highlight key findings.\n",
    "* Text on the slide should not be your exact talk, try practicing beforehand so you do not end up reading all the text from it.\n",
    "\n",
    "Here are some examples of bad slides. On the first one, you want to avoid too much text as it makes it harder for the audience to read and understand your main message, also, you want to avoid colour schemes that could make the reading more challenging (_e.g._ try to use colour-blind friendly palettes). \n",
    "![m2-bad-slide-1](images/m2-bad-slide-1.png)\n",
    "\n",
    "On the second, we have too many figures, which detract from the message. \n",
    "![m2-bad-slide-2](images/m2-bad-slide-2.png)\n",
    "\n",
    "On a good slide, you can see: \n",
    "* A clear header\n",
    "* A single bullet point that highlights a single main finding\n",
    "* A single figure that conveys the message\n",
    "* An annotation in the figure that helps draw attention to the main finding\n",
    "![m2-good-slide-1](images/m2-good-slide-1.png)\n",
    "\n",
    "---"
   ]
  },
  {
   "cell_type": "markdown",
   "metadata": {},
   "source": [
    "## Example slide presentation\n",
    "Let's look at some examples of presenting slides with different key findings: \n",
    "\n",
    "### Population structure in East African _An. Arabiensis_"
   ]
  },
  {
   "cell_type": "code",
   "execution_count": 1,
   "metadata": {
    "tags": []
   },
   "outputs": [
    {
     "data": {
      "text/html": [
       "<iframe width=\"560\" height=\"315\" src=\"https://www.youtube.com/embed/6kGB0seGiJU?start=1021&end=1112\" title=\"YouTube video player\" frameborder=\"0\" allow=\"accelerometer; autoplay; clipboard-write; encrypted-media; gyroscope; picture-in-picture\" allowfullscreen></iframe>\n"
      ],
      "text/plain": [
       "<IPython.core.display.HTML object>"
      ]
     },
     "metadata": {},
     "output_type": "display_data"
    }
   ],
   "source": [
    "%%html \n",
    "<iframe width=\"560\" height=\"315\" src=\"https://www.youtube.com/embed/6kGB0seGiJU?start=1021&end=1112\" title=\"YouTube video player\" frameborder=\"0\" allow=\"accelerometer; autoplay; clipboard-write; encrypted-media; gyroscope; picture-in-picture\" allowfullscreen></iframe>"
   ]
  },
  {
   "cell_type": "markdown",
   "metadata": {},
   "source": [
    "### Genomic variants associated with pyrethroid target-site resistance in Burkina Faso"
   ]
  },
  {
   "cell_type": "code",
   "execution_count": 4,
   "metadata": {},
   "outputs": [
    {
     "data": {
      "text/html": [
       "<iframe width=\"560\" height=\"315\" src=\"https://www.youtube.com/embed/6kGB0seGiJU?start=1115&end=1194\" title=\"YouTube video player\" frameborder=\"0\" allow=\"accelerometer; autoplay; clipboard-write; encrypted-media; gyroscope; picture-in-picture\" allowfullscreen></iframe>\n"
      ],
      "text/plain": [
       "<IPython.core.display.HTML object>"
      ]
     },
     "metadata": {},
     "output_type": "display_data"
    }
   ],
   "source": [
    "%%html  \n",
    "<iframe width=\"560\" height=\"315\" src=\"https://www.youtube.com/embed/6kGB0seGiJU?start=1115&end=1194\" title=\"YouTube video player\" frameborder=\"0\" allow=\"accelerometer; autoplay; clipboard-write; encrypted-media; gyroscope; picture-in-picture\" allowfullscreen></iframe>"
   ]
  },
  {
   "cell_type": "markdown",
   "metadata": {},
   "source": [
    "### Positive selection at the Cyp6 locus in Burkina Faso"
   ]
  },
  {
   "cell_type": "code",
   "execution_count": 5,
   "metadata": {},
   "outputs": [
    {
     "data": {
      "text/html": [
       "<iframe width=\"560\" height=\"315\" src=\"https://www.youtube.com/embed/6kGB0seGiJU?start=1196&end=1269\" title=\"YouTube video player\" frameborder=\"0\" allow=\"accelerometer; autoplay; clipboard-write; encrypted-media; gyroscope; picture-in-picture\" allowfullscreen></iframe>\n"
      ],
      "text/plain": [
       "<IPython.core.display.HTML object>"
      ]
     },
     "metadata": {},
     "output_type": "display_data"
    }
   ],
   "source": [
    "%%html \n",
    "<iframe width=\"560\" height=\"315\" src=\"https://www.youtube.com/embed/6kGB0seGiJU?start=1196&end=1269\" title=\"YouTube video player\" frameborder=\"0\" allow=\"accelerometer; autoplay; clipboard-write; encrypted-media; gyroscope; picture-in-picture\" allowfullscreen></iframe>"
   ]
  },
  {
   "cell_type": "markdown",
   "metadata": {
    "id": "GZHxDB1EUFLY"
   },
   "source": [
    "## Well done!\n",
    "\n",
    "In this module we have learnt how to:\n",
    "* Consider the audience, timing and story when planning to communicate results\n",
    "* Use a suggested outline to create an easy-to-follow presentation\n",
    "* Present results clearly and effectively"
   ]
  },
  {
   "cell_type": "markdown",
   "metadata": {
    "id": "resb3397UjKI"
   },
   "source": [
    "## Practical exercises\n",
    "\n",
    "### English\n",
    "\n",
    "In the next modules 3 & 4, you will be able to see some end-to-end examples of what we have covered in module 1 & 2. Use these, together with the structure and advice outlined here, to create a slidedeck to present the key findings (up to a maximum of 10) you identified on module 1.\n",
    "\n",
    "* Consider your audience. If you are attending a conference soon, you might want to think about the specifics of this audience. If you’re attending a training workshop, consider your fellow trainees as your audience.\n",
    "* Make sure to keep your presentation under 20 minutes.\n",
    "\n",
    "**Remember:**\n",
    "- You could analyse your own data, but check assumptions above if these data are not part of the MalariaGEN vector observatory.\n",
    "- You can use data from other studies in the MalariaGEN vector observatory data to conduct your exploratory data analysis on. These data are open-access but subject to a publication embargo. This means that you will need to **obtain permission before publicly communicating any findings**.\n",
    "\n",
    "\n",
    "### Français\n",
    "\n",
    "Dans les prochains cours, 3 et 4, vous pourrez interroger des exemples complets de ce que nous avons couvert dans les cours 1 et 2. Interrogez-les avec la structure et les conseils décrits ici, pour créer un diaporama à présenter les principales conclusions (maximum de 10) que vous avez identifiées dans le cour 1.\n",
    "\n",
    "* Considérez votre public. Si vous assisterez prochainement à une conférence, vous pourriez réfléchir aux spécificités de ce public. Si vous assisterez à un formation, considérez vos collègues stagiaires comme votre public.\n",
    "* Assurez-vous de maintenir votre présentation sous de 20 minutes.\n",
    "\n",
    "**Se souvenir:**\n",
    "\n",
    "Vous pouvez utiliser vos propres données pour effectuer les exercices (vérifiez les hypothèses ci-dessus si ces données ne font pas partie de l'observatoire des vecteurs MalariaGEN).\n",
    "Vous pouvez utiliser les données d'autres études dans l'observatoire des vecteurs MalariaGEN pour effectuer votre analyse exploratoire. Ces données sont << accès libre >> mais sont aussi restictif par l'embargo de publication. Par conséquence, **vous devrez obtenir une autorisation avant de communiquer publiquement toute découverte**.\n"
   ]
  },
  {
   "cell_type": "code",
   "execution_count": null,
   "metadata": {},
   "outputs": [],
   "source": []
  },
  {
   "cell_type": "code",
   "execution_count": null,
   "metadata": {},
   "outputs": [],
   "source": []
  }
 ],
 "metadata": {
  "colab": {
   "collapsed_sections": [],
   "name": "Workshop 1 - Module 1 - Interactive cloud computing with Google Colaboratory - 2022-03-03.ipynb",
   "provenance": []
  },
  "kernelspec": {
   "display_name": "Python 3 (ipykernel)",
   "language": "python",
   "name": "python3"
  },
  "language_info": {
   "codemirror_mode": {
    "name": "ipython",
    "version": 3
   },
   "file_extension": ".py",
   "mimetype": "text/x-python",
   "name": "python",
   "nbconvert_exporter": "python",
   "pygments_lexer": "ipython3",
   "version": "3.10.6"
  }
 },
 "nbformat": 4,
 "nbformat_minor": 4
}
