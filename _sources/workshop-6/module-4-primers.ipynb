{
 "cells": [
  {
   "cell_type": "markdown",
   "id": "815e8658",
   "metadata": {
    "id": "815e8658"
   },
   "source": [
    "![banner](../banner.jpg)\n",
    "\n",
    "***[Workshop 6](about) - Training course in data analysis for genomic surveillance of African malaria vectors***\n",
    "\n",
    "---"
   ]
  },
  {
   "cell_type": "markdown",
   "id": "95841879",
   "metadata": {
    "id": "95841879"
   },
   "source": [
    "# Module 4 - AnoPrimer - Primer Design in *Anopheles gambiae*\n",
    "\n",
    "**Theme: Tools & technology**\n",
    "\n",
    "In the previous modules of workshop 6, we learnt how to discover candidate loci for insecticide resistance, using genome-wide selection scans (GWSS). In this module, we introduce a new python package [AnoPrimer](https://github.com/sanjaynagi/AnoPrimer), which uses the [malariagen_data API](https://malariagen.github.io/vector-data/ag3/api.html) and [primer3-py](https://github.com/libnano/primer3-py), to allow us to design primers and probes in *Anopheles gambiae s.l*. We can use them to design these primers and probes to help us validate putative resistance loci. By integrating with data from MalariaGEN, AnoPrimer allows us to consider and avoid genetic variation in the Ag1000G resource during the design of our primers."
   ]
  },
  {
   "cell_type": "markdown",
   "id": "b0ccaed6",
   "metadata": {
    "id": "b0ccaed6"
   },
   "source": [
    "## Learning objectives\n",
    "\n",
    "At the end of this module you will be able to:\n",
    "\n",
    "- Describe the principles of PCR, qPCR, and the role of primers. \n",
    "- Describe some of the applications of PCR in vector control.\n",
    "- Explain why it is important to consider SNPs when designing primers.\n",
    "- Design genomic DNA primers to target the *ace1*-G280S mutation.\n",
    "- Design RT-qPCR primers to measure gene expression of the carboxylesterase, COEAE2F."
   ]
  },
  {
   "cell_type": "markdown",
   "id": "ecb88d41",
   "metadata": {
    "id": "3cb60aec"
   },
   "source": [
    "## Lecture"
   ]
  },
  {
   "cell_type": "markdown",
   "id": "18e5a3b3",
   "metadata": {
    "id": "3cb60aec"
   },
   "source": [
    "### English"
   ]
  },
  {
   "cell_type": "code",
   "execution_count": null,
   "id": "d9f72176",
   "metadata": {
    "tags": [
     "remove-input"
    ]
   },
   "outputs": [],
   "source": [
    "%%html\n",
    "<iframe width=\"560\" height=\"315\" src=\"https://www.youtube.com/embed/cKOmFymhxio\" title=\"YouTube video player\" frameborder=\"0\" allow=\"accelerometer; autoplay; clipboard-write; encrypted-media; gyroscope; picture-in-picture\" allowfullscreen></iframe>"
   ]
  },
  {
   "cell_type": "markdown",
   "id": "3cb60aec",
   "metadata": {
    "id": "3cb60aec"
   },
   "source": [
    "### Français"
   ]
  },
  {
   "cell_type": "code",
   "execution_count": null,
   "id": "25c34398",
   "metadata": {
    "tags": [
     "remove-input"
    ]
   },
   "outputs": [],
   "source": [
    "%%html\n",
    "<iframe width=\"560\" height=\"315\" src=\"https://www.youtube.com/embed/-ih8OII1irY\" title=\"YouTube video player\" frameborder=\"0\" allow=\"accelerometer; autoplay; clipboard-write; encrypted-media; gyroscope; picture-in-picture\" allowfullscreen></iframe>"
   ]
  },
  {
   "cell_type": "markdown",
   "id": "5068e78b-30ef-4ae0-a12d-67b7eade6f0e",
   "metadata": {},
   "source": [
    "Please note that the code in the cells below might differ from that shown in the video. This can happen because Python packages and their dependencies change due to updates, necessitating tweaks to the code."
   ]
  },
  {
   "cell_type": "markdown",
   "id": "527ff02d",
   "metadata": {
    "id": "527ff02d"
   },
   "source": [
    "## Introduction\n",
    "\n",
    "### What is the polymerase chain reaction (PCR)?\n",
    "\n",
    "PCR is a technique used to \"amplify\" small segments of DNA. Using PCR it is possible to generate thousands to millions of copies of a particular section of DNA from a very small input amount. In the context of vector control, we can use PCR and qPCR to genotype vectors for specific alleles, determine species, identify bloodmeals, measure gene expression, and much more.\n",
    "  \n",
    "**Ingredients**\n",
    "- The **DNA template** to be copied\n",
    "- DNA nucleotide bases (also known as **dNTPs**). DNA bases (A, C, G and T) are the building blocks of DNA and are needed to construct the new strand of DNA\n",
    "- **Taq polymerase** enzyme to add in the new DNA bases\n",
    "- **Buffer** to ensure the right conditions for the reaction\n",
    "- **Primers**, short stretches of DNA that initiate the PCR reaction, designed to bind to either side of the section of DNA you want to copy. **DNA polymerase** enzymes which perform DNA replication are only capable of adding nucleotides to the 3’-end of an existing nucleic acid, requiring a primer be bound to the template before DNA polymerase can begin a complementary strand.\n",
    "\n",
    "<center><img src=\"https://github.com/sanjaynagi/AgamPrimer/blob/main/graphics/teaching/ing_pcr.png?raw=1\" alt=\"pcr\" width=\"700\" height=\"300\"/></center>\n",
    "\n",
    "\n",
    "**The stages of PCR:**  \n",
    "\n",
    "<center><img src=\"https://github.com/sanjaynagi/AgamPrimer/blob/main/graphics/teaching/pcr_cycles.png?raw=1\" alt=\"pcr\" width=\"600\" height=\"250\"/></center>\n",
    "\n",
    "**Denaturation** – Heat the reaction to ~95°C to break apart the double stranded DNA template into single strands.\n",
    "\n",
    "<center><img src=\"https://github.com/sanjaynagi/AgamPrimer/blob/main/graphics/teaching/pcr-denaturing-animation.gif?raw=1\" alt=\"denaturing\" width=\"500\" height=\"150\" /></center>\n",
    "  \n",
    "**Annealing** – Lower the temperature to 50-56°C enable the DNA primers to attach to the single-stranded template DNA. \n",
    "\n",
    "<center><img src=\"https://github.com/sanjaynagi/AgamPrimer/blob/main/graphics/teaching/pcr-annealing-animation.gif?raw=1\" alt=\"denaturing\" width=500, height=150/></center>\n",
    "\n",
    "**Extension** – Raise the temperature to 72°C and the new strand of DNA is synthesised by the Taq polymerase enzyme.\n",
    "\n",
    "<center><img src=\"https://github.com/sanjaynagi/AgamPrimer/blob/main/graphics/teaching/extension.png?raw=1\" alt=\"denaturing\" width=500, height=175/></center>\n",
    "\n",
    " **Repeat entire process for 25-40 cycles. After each cycle, the number of DNA molecules will approximately double**.\n",
    "\n"
   ]
  },
  {
   "cell_type": "markdown",
   "id": "1AIewh3-CJM1",
   "metadata": {
    "id": "1AIewh3-CJM1"
   },
   "source": [
    "\n",
    "### Standard PCR (Detection / Genotyping / Sequencing)\n",
    "\n",
    "In standard PCR, we amplify specific regions of the genome and utilise the PCR product at the end of the reaction. This could be an endpoint PCR, where we run the PCR product on an agarose gel to determine the size of the amplicon. Alternatively, standard PCR can be used to amplify specific regions of the genome prior to next-generation sequencing (amplicon sequencing).\n",
    "\n",
    "<img src=\"https://github.com/sanjaynagi/AgamPrimer/blob/main/graphics/teaching/SINE.png?raw=1\" alt=\"denaturing\" width=300, height=300 align='right'/>\n",
    "\n",
    "#### Example applications in *An. gambiae*\n",
    "\n",
    "- The **SINE PCR species ID assay** for *An. gambiae s.l*, which can differentiate between the members of the gambiae complex, based on a marker on the X chromosome <sup>[1]</sup>   \n",
    "\n",
    "- The **2La PCR assay**, which determines the karyotype of the 2la inversion. <sup>[2]</sup>  \n",
    "\n",
    "- [**ANOSPP**](https://www.sanger.ac.uk/collaboration/the-anospp-project/), an amplicon sequencing panel which determines species within the entire *Anopheles* genus <sup>[3]</sup>"
   ]
  },
  {
   "cell_type": "markdown",
   "id": "03e16fb1",
   "metadata": {
    "id": "w34dumRntUEJ"
   },
   "source": [
    "### Quantitative PCR (Detection / Genotyping / Genotyping)\n",
    "\n",
    "In quantitative PCR, the concept is the same as standard PCR, but we measure the amount of DNA in the reaction at each cycle. To do this, we use either a fluorescent dye or fluorescent hybridisation probes, which emit light as the DNA concentration increases. The number of cycles at which each sample passes a given threshold, is called the **Cq or Ct value**. By measuring fluorescense and determining Cq values, we can determine the amount of DNA template that was in the original sample.\n",
    "\n",
    "<center><img src=\"https://github.com/sanjaynagi/AgamPrimer/blob/main/graphics/teaching/realtimePCR.png?raw=1\" alt=\"pcr\" width=\"700\" height=\"300\"/></center>\n",
    "\n",
    "\n",
    "\n",
    "### SYBR green\n",
    "\n",
    "SYBR green is a fluorescent dye, which emits a fluorescent signal when bound to double stranded DNA. \n",
    "\n",
    "<center><img src=\"https://github.com/sanjaynagi/AgamPrimer/blob/main/graphics/teaching/SYBR2.png?raw=1\" alt=\"sybr\" width=\"700\" height=\"300\"/></center>\n",
    "\n",
    "#### Example applications in *An. gambiae*\n",
    "\n",
    "-  Standard RT-qPCR assays for measuring **gene expression**\n",
    "-  The **SINE melt curve assay species ID** for *An. gambiae s.l* <sup>[4]</sup>, a high throughput version of the SINE PCR assay."
   ]
  },
  {
   "cell_type": "markdown",
   "id": "w34dumRntUEJ",
   "metadata": {
    "id": "w34dumRntUEJ"
   },
   "source": [
    "### TaqMan / LNA Probe\n",
    "\n",
    "Hybridisation probes are short sequences, like primers, which bind to the DNA template. These can have flourophores attached, which emit fluorescence when the probe is displaced from the DNA template. By designing multiple probes (with different fluorophores) which are specific to either the wild-type or mutant allele, we can genotype SNPs. TaqMan and Locked nucleic acid probes have modifications which increase the stability of the probe-template duplex and help probes to discriminate between SNPs.\n",
    "\n",
    "<center><img src=\"https://github.com/sanjaynagi/AgamPrimer/blob/main/graphics/teaching/TaqMan_lna.png?raw=1\" alt=\"pcr\" width=\"700\" height=\"300\"/></center>\n",
    "\n",
    "#### Example applications in *An. gambiae*\n",
    "\n",
    "-  TaqMan genotyping assays for Ace1, KDR. \n",
    "- ***Kdr* LNA assay** <sup>[5]</sup>, which simultaneously genotypes the *vgsc*-995F and *vgsc*-995S mutations."
   ]
  },
  {
   "cell_type": "markdown",
   "id": "o61vafg1XuK3",
   "metadata": {
    "id": "o61vafg1XuK3"
   },
   "source": [
    "\n",
    "### What is important to consider when designing primers?\n",
    "\n",
    "Suitable primers are crucial to effective PCR reactions and must be designed to be robust, reliable and consistent across experimental conditions. Primers are typically designed with the following characteristics:\n",
    "\n",
    "- **Size**: Size of the primer.\n",
    "  - Between 17-24 bases long\n",
    "  - This can vary depending on the application. Often, TaqMan and LNA probes are shorter, as it helps to discriminate between SNPs.\n",
    "- **Tm**: the temperature at which the primer duplex dissociates into single strands.\n",
    "  - A Melting temperature of 59–64°C, with an ideal temperature of 62°C, which is based on typical PCR conditions and the optimum temperature for PCR enzymes.\n",
    "- **GC content**\n",
    "  - GC content between 35–70%, with an ideal content of ~50%. \n",
    "  - Should not contain regions of 4 or more consecutive G residues. \n",
    " \n",
    "Primers should also be free of strong secondary structures and self-complementarity. Primer design algorithms, such as primer3, will take these considerations into account. \n"
   ]
  },
  {
   "cell_type": "markdown",
   "id": "CIsEtpolXwN0",
   "metadata": {
    "id": "CIsEtpolXwN0"
   },
   "source": [
    "\n",
    "### What happens if there are SNPs in primer binding sites?\n",
    "\n",
    "Single nucleotide polymorphisms (SNPs) in primer binding sites can affect both the stability and *Tm* of the primer-template duplex, as well as the efficiency with which DNA polymerases can extend the primer (Figure 2). In some cases, this can completely prevent primer binding and amplification of the template DNA, often referred to as null alleles. Null alleles can become particular troublesome when performing PCR on pooled samples, where we may not observe whether all samples amplified successfully, and so we may not be sampling and observing the full range of alleles.\n",
    "\n",
    "An equally problematic scenario may occur if primers bind but with unequal efficiency against different genetic variants. In this case, in any quantitative molecular assay such as qPCR for gene expression, SNPs could lead to biases in the estimation of gene expression between genetic variants or strains. Even single SNPs can introduce a variety of effects, ranging from minor to major impacts on Cq values <sup>[6]</sup>. The effect will depend on the type of SNP (which nucleotides are involved), and on the position of the SNP (3’ or 5’ end), as SNPs within the last 5 nucleotides at the 3’ end can disrupt the nearby polymerase active site, and so these tend to have a much greater impact <sup>[7]</sup>. SNPs at the terminal 3’ base had the strongest shift of Cq, altering Cq by as much as 5–7 cycles (Figure 2).\n",
    "\n",
    "<figure style=\"float: center; width: 500px;\">\n",
    "    <img src=\"https://github.com/sanjaynagi/AgamPrimer/blob/main/graphics/teaching/snps_primer.jpg?raw=1\" alt=\"mismatches2\"/>\n",
    "    <figcaption>Figure 2: Mismatches at the 3’ end of primers substantially reduce qPCR performance <sup>[6]</sup>.</figcaption>\n",
    "</figure>\n",
    "\n",
    "To maximise the accuracy of our data we should therefore aim to either design primers that avoid SNPs completely or that contain a mix of bases (degenerate) at the sites of SNPs. There is a useful article on this topic on the IDT website - [Consider SNPs when designing PCR and qPCR assays](https://eu.idtdna.com/pages/education/decoded/article/considering-snps-when-designing-pcr-and-qpcr-assays).\n",
    "\n",
    "\n",
    "### AnoPrimer \n",
    "\n",
    "As we have seen in earlier workshops, the Ag1000G resource <sup>[8]</sup> has revealed extreme amounts of [genetic variation in *Anopheles gambiae s.l*](https://genome.cshlp.org/content/30/10/1533.full). You can find a SNP in less than every 2 bases of the accessible genome - which makes considering SNPs even more important when designing molecular assays. However, it was not previously straightforward to consider genetic variation when designing primers, and so the vast majority of primers currently in use did not consider SNP variation during their design.\n",
    "\n",
    "Primer3 is the most widely cited program for primer design, and has been used extensively over the past two decades <sup>[9]</sup>. It is also the primer design engine behind [Primer-BLAST](https://www.ncbi.nlm.nih.gov/tools/primer-blast/) <sup>[10]</sup>, a web-server which designs primers and then blasts the primers to check for specificity. Thanks to the [primer3-py](https://github.com/libnano/primer3-py) python package and the [malariagen_data API](https://malariagen.github.io/vector-data/ag3/api.html), it is now possible to design primers in the cloud with google colab, considering SNP variation."
   ]
  },
  {
   "cell_type": "markdown",
   "id": "f07c4647",
   "metadata": {
    "id": "f07c4647"
   },
   "source": [
    "## Setup\n",
    "\n",
    "Install and import the packages we'll need."
   ]
  },
  {
   "cell_type": "code",
   "execution_count": null,
   "id": "5bc91912-b667-4013-8c2d-a68e520a5758",
   "metadata": {
    "tags": []
   },
   "outputs": [],
   "source": [
    "%pip install -q --no-warn-conflicts malariagen_data AnoPrimer primer3-py kaleido"
   ]
  },
  {
   "cell_type": "markdown",
   "id": "bdf2903a",
   "metadata": {},
   "source": [
    "You might see a warning message looking something like:\n",
    "\n",
    "`Tue May 14 04:41:51 2024 WARNING No project ID could be determined. Consider running 'gcloud config set project' or setting the GOOGLE_CLOUD_PROJECT environment variable`\n",
    "\n",
    "This can safely be ignored."
   ]
  },
  {
   "cell_type": "code",
   "execution_count": 1,
   "id": "528ae85d",
   "metadata": {
    "id": "528ae85d",
    "tags": []
   },
   "outputs": [],
   "source": [
    "# Import libraries \n",
    "import malariagen_data\n",
    "import pandas as pd\n",
    "import primer3\n",
    "import AnoPrimer\n",
    "\n",
    "#configure plotting with matplotlib\n",
    "%matplotlib inline\n",
    "%config InlineBackend.figure_format = \"retina\""
   ]
  },
  {
   "cell_type": "markdown",
   "id": "bf14ab7c",
   "metadata": {
    "id": "746LdtO9W8lE"
   },
   "source": [
    "\n",
    "## Worked example: Designing primers for the *ace1*-280S mutation\n",
    "\n",
    "In the rest of this module, we will design primers and probes for the *ace1*-280S mutation (previously *ace1*-119S). This mutation is known to be important in resistance to organophosphates and carbamates, insecticides which are widely used in indoor residual spraying (IRS). The resistance mutation has spread throughout much of west and central Africa, including introgressing from *An. gambiae* to *An. coluzzii*, and is often found on the background of large duplications which often pair wild-type and mutant alleles <sup>[11]</sup>. We see very large signals of selection at this locus in many contemporary populations of *An. gambiae*. "
   ]
  },
  {
   "cell_type": "markdown",
   "id": "5d32c5b4",
   "metadata": {},
   "source": [
    "### Selecting primer parameters\n",
    "\n",
    "In the below cells, replace the values with those desired for your primers."
   ]
  },
  {
   "cell_type": "code",
   "execution_count": 2,
   "id": "SV03ewwc9de8",
   "metadata": {
    "cellView": "form",
    "id": "SV03ewwc9de8",
    "tags": []
   },
   "outputs": [],
   "source": [
    "#@title **Primer parameters** { run: \"auto\" }\n",
    "\n",
    "# N.B., this cell will be rendered as a form when running on colab\n",
    "\n",
    "assay_type = \"gDNA primers + probe\"  #@param [\"gDNA primers\", \"gDNA primers + probe\", \"probe\", \"cDNA primers\"]\n",
    "assay_name = 'ace1-280s'  #@param {type:\"string\"}\n",
    "min_amplicon_size = 60  #@param {type:\"integer\"}\n",
    "max_amplicon_size = 120  #@param {type:\"integer\"}\n",
    "amplicon_size_range = [[min_amplicon_size, max_amplicon_size]]\n",
    "n_primer_pairs = 6  #@param {type:\"slider\", min:1, max:20, step:1}\n",
    "cDNA_exon_junction=True #ignore\n",
    "\n",
    "#@markdown    \n",
    "#@markdown target_loc is required for gDNA primers and probes, and transcript required for qPCR primers.\n",
    "\n",
    "target_loc =  '2R:3492074'  #@param {type:\"string\"}\n",
    "transcript =  ''  #@param {type:\"string\"} \n",
    "\n",
    "if any(item in assay_type for item in ['gDNA', 'probe']):\n",
    "  assert int(target_loc[3:]) > 0, \"Target location must be above 0 and less than the contig length\"\n",
    "elif assay_type == 'cDNA primers':\n",
    "  assert len(transcript) > 2, \"Transcript ID is not valid, should be vectorbase ID such as 'AGAP004707-RD'\""
   ]
  },
  {
   "cell_type": "markdown",
   "id": "c2073e67",
   "metadata": {
    "id": "c2073e67"
   },
   "source": [
    "Configure access to the MalariaGEN Ag3 data resource.\n",
    "Note that authentication is required to access data through the package, please follow the instructions [here](https://malariagen.github.io/vector-data/vobs/vobs-data-access.html)."
   ]
  },
  {
   "cell_type": "code",
   "execution_count": 3,
   "id": "338d8c1a",
   "metadata": {
    "colab": {
     "base_uri": "https://localhost:8080/",
     "height": 233
    },
    "id": "338d8c1a",
    "outputId": "c39c3494-8072-4421-c3c0-44b3f34ee7e6",
    "tags": []
   },
   "outputs": [
    {
     "data": {
      "application/javascript": "(function(root) {\n  function now() {\n    return new Date();\n  }\n\n  const force = true;\n\n  if (typeof root._bokeh_onload_callbacks === \"undefined\" || force === true) {\n    root._bokeh_onload_callbacks = [];\n    root._bokeh_is_loading = undefined;\n  }\n\nconst JS_MIME_TYPE = 'application/javascript';\n  const HTML_MIME_TYPE = 'text/html';\n  const EXEC_MIME_TYPE = 'application/vnd.bokehjs_exec.v0+json';\n  const CLASS_NAME = 'output_bokeh rendered_html';\n\n  /**\n   * Render data to the DOM node\n   */\n  function render(props, node) {\n    const script = document.createElement(\"script\");\n    node.appendChild(script);\n  }\n\n  /**\n   * Handle when an output is cleared or removed\n   */\n  function handleClearOutput(event, handle) {\n    function drop(id) {\n      const view = Bokeh.index.get_by_id(id)\n      if (view != null) {\n        view.model.document.clear()\n        Bokeh.index.delete(view)\n      }\n    }\n\n    const cell = handle.cell;\n\n    const id = cell.output_area._bokeh_element_id;\n    const server_id = cell.output_area._bokeh_server_id;\n\n    // Clean up Bokeh references\n    if (id != null) {\n      drop(id)\n    }\n\n    if (server_id !== undefined) {\n      // Clean up Bokeh references\n      const cmd_clean = \"from bokeh.io.state import curstate; print(curstate().uuid_to_server['\" + server_id + \"'].get_sessions()[0].document.roots[0]._id)\";\n      cell.notebook.kernel.execute(cmd_clean, {\n        iopub: {\n          output: function(msg) {\n            const id = msg.content.text.trim()\n            drop(id)\n          }\n        }\n      });\n      // Destroy server and session\n      const cmd_destroy = \"import bokeh.io.notebook as ion; ion.destroy_server('\" + server_id + \"')\";\n      cell.notebook.kernel.execute(cmd_destroy);\n    }\n  }\n\n  /**\n   * Handle when a new output is added\n   */\n  function handleAddOutput(event, handle) {\n    const output_area = handle.output_area;\n    const output = handle.output;\n\n    // limit handleAddOutput to display_data with EXEC_MIME_TYPE content only\n    if ((output.output_type != \"display_data\") || (!Object.prototype.hasOwnProperty.call(output.data, EXEC_MIME_TYPE))) {\n      return\n    }\n\n    const toinsert = output_area.element.find(\".\" + CLASS_NAME.split(' ')[0]);\n\n    if (output.metadata[EXEC_MIME_TYPE][\"id\"] !== undefined) {\n      toinsert[toinsert.length - 1].firstChild.textContent = output.data[JS_MIME_TYPE];\n      // store reference to embed id on output_area\n      output_area._bokeh_element_id = output.metadata[EXEC_MIME_TYPE][\"id\"];\n    }\n    if (output.metadata[EXEC_MIME_TYPE][\"server_id\"] !== undefined) {\n      const bk_div = document.createElement(\"div\");\n      bk_div.innerHTML = output.data[HTML_MIME_TYPE];\n      const script_attrs = bk_div.children[0].attributes;\n      for (let i = 0; i < script_attrs.length; i++) {\n        toinsert[toinsert.length - 1].firstChild.setAttribute(script_attrs[i].name, script_attrs[i].value);\n        toinsert[toinsert.length - 1].firstChild.textContent = bk_div.children[0].textContent\n      }\n      // store reference to server id on output_area\n      output_area._bokeh_server_id = output.metadata[EXEC_MIME_TYPE][\"server_id\"];\n    }\n  }\n\n  function register_renderer(events, OutputArea) {\n\n    function append_mime(data, metadata, element) {\n      // create a DOM node to render to\n      const toinsert = this.create_output_subarea(\n        metadata,\n        CLASS_NAME,\n        EXEC_MIME_TYPE\n      );\n      this.keyboard_manager.register_events(toinsert);\n      // Render to node\n      const props = {data: data, metadata: metadata[EXEC_MIME_TYPE]};\n      render(props, toinsert[toinsert.length - 1]);\n      element.append(toinsert);\n      return toinsert\n    }\n\n    /* Handle when an output is cleared or removed */\n    events.on('clear_output.CodeCell', handleClearOutput);\n    events.on('delete.Cell', handleClearOutput);\n\n    /* Handle when a new output is added */\n    events.on('output_added.OutputArea', handleAddOutput);\n\n    /**\n     * Register the mime type and append_mime function with output_area\n     */\n    OutputArea.prototype.register_mime_type(EXEC_MIME_TYPE, append_mime, {\n      /* Is output safe? */\n      safe: true,\n      /* Index of renderer in `output_area.display_order` */\n      index: 0\n    });\n  }\n\n  // register the mime type if in Jupyter Notebook environment and previously unregistered\n  if (root.Jupyter !== undefined) {\n    const events = require('base/js/events');\n    const OutputArea = require('notebook/js/outputarea').OutputArea;\n\n    if (OutputArea.prototype.mime_types().indexOf(EXEC_MIME_TYPE) == -1) {\n      register_renderer(events, OutputArea);\n    }\n  }\n  if (typeof (root._bokeh_timeout) === \"undefined\" || force === true) {\n    root._bokeh_timeout = Date.now() + 5000;\n    root._bokeh_failed_load = false;\n  }\n\n  const NB_LOAD_WARNING = {'data': {'text/html':\n     \"<div style='background-color: #fdd'>\\n\"+\n     \"<p>\\n\"+\n     \"BokehJS does not appear to have successfully loaded. If loading BokehJS from CDN, this \\n\"+\n     \"may be due to a slow or bad network connection. Possible fixes:\\n\"+\n     \"</p>\\n\"+\n     \"<ul>\\n\"+\n     \"<li>re-rerun `output_notebook()` to attempt to load from CDN again, or</li>\\n\"+\n     \"<li>use INLINE resources instead, as so:</li>\\n\"+\n     \"</ul>\\n\"+\n     \"<code>\\n\"+\n     \"from bokeh.resources import INLINE\\n\"+\n     \"output_notebook(resources=INLINE)\\n\"+\n     \"</code>\\n\"+\n     \"</div>\"}};\n\n  function display_loaded() {\n    const el = document.getElementById(null);\n    if (el != null) {\n      el.textContent = \"BokehJS is loading...\";\n    }\n    if (root.Bokeh !== undefined) {\n      if (el != null) {\n        el.textContent = \"BokehJS \" + root.Bokeh.version + \" successfully loaded.\";\n      }\n    } else if (Date.now() < root._bokeh_timeout) {\n      setTimeout(display_loaded, 100)\n    }\n  }\n\n  function run_callbacks() {\n    try {\n      root._bokeh_onload_callbacks.forEach(function(callback) {\n        if (callback != null)\n          callback();\n      });\n    } finally {\n      delete root._bokeh_onload_callbacks\n    }\n    console.debug(\"Bokeh: all callbacks have finished\");\n  }\n\n  function load_libs(css_urls, js_urls, callback) {\n    if (css_urls == null) css_urls = [];\n    if (js_urls == null) js_urls = [];\n\n    root._bokeh_onload_callbacks.push(callback);\n    if (root._bokeh_is_loading > 0) {\n      console.debug(\"Bokeh: BokehJS is being loaded, scheduling callback at\", now());\n      return null;\n    }\n    if (js_urls == null || js_urls.length === 0) {\n      run_callbacks();\n      return null;\n    }\n    console.debug(\"Bokeh: BokehJS not loaded, scheduling load and callback at\", now());\n    root._bokeh_is_loading = css_urls.length + js_urls.length;\n\n    function on_load() {\n      root._bokeh_is_loading--;\n      if (root._bokeh_is_loading === 0) {\n        console.debug(\"Bokeh: all BokehJS libraries/stylesheets loaded\");\n        run_callbacks()\n      }\n    }\n\n    function on_error(url) {\n      console.error(\"failed to load \" + url);\n    }\n\n    for (let i = 0; i < css_urls.length; i++) {\n      const url = css_urls[i];\n      const element = document.createElement(\"link\");\n      element.onload = on_load;\n      element.onerror = on_error.bind(null, url);\n      element.rel = \"stylesheet\";\n      element.type = \"text/css\";\n      element.href = url;\n      console.debug(\"Bokeh: injecting link tag for BokehJS stylesheet: \", url);\n      document.body.appendChild(element);\n    }\n\n    for (let i = 0; i < js_urls.length; i++) {\n      const url = js_urls[i];\n      const element = document.createElement('script');\n      element.onload = on_load;\n      element.onerror = on_error.bind(null, url);\n      element.async = false;\n      element.src = url;\n      console.debug(\"Bokeh: injecting script tag for BokehJS library: \", url);\n      document.head.appendChild(element);\n    }\n  };\n\n  function inject_raw_css(css) {\n    const element = document.createElement(\"style\");\n    element.appendChild(document.createTextNode(css));\n    document.body.appendChild(element);\n  }\n\n  const js_urls = [\"https://cdn.bokeh.org/bokeh/release/bokeh-3.3.4.min.js\", \"https://cdn.bokeh.org/bokeh/release/bokeh-gl-3.3.4.min.js\", \"https://cdn.bokeh.org/bokeh/release/bokeh-widgets-3.3.4.min.js\", \"https://cdn.bokeh.org/bokeh/release/bokeh-tables-3.3.4.min.js\", \"https://cdn.bokeh.org/bokeh/release/bokeh-mathjax-3.3.4.min.js\"];\n  const css_urls = [];\n\n  const inline_js = [    function(Bokeh) {\n      Bokeh.set_log_level(\"info\");\n    },\nfunction(Bokeh) {\n    }\n  ];\n\n  function run_inline_js() {\n    if (root.Bokeh !== undefined || force === true) {\n          for (let i = 0; i < inline_js.length; i++) {\n      inline_js[i].call(root, root.Bokeh);\n    }\n} else if (Date.now() < root._bokeh_timeout) {\n      setTimeout(run_inline_js, 100);\n    } else if (!root._bokeh_failed_load) {\n      console.log(\"Bokeh: BokehJS failed to load within specified timeout.\");\n      root._bokeh_failed_load = true;\n    } else if (force !== true) {\n      const cell = $(document.getElementById(null)).parents('.cell').data().cell;\n      cell.output_area.append_execute_result(NB_LOAD_WARNING)\n    }\n  }\n\n  if (root._bokeh_is_loading === 0) {\n    console.debug(\"Bokeh: BokehJS loaded, going straight to plotting\");\n    run_inline_js();\n  } else {\n    load_libs(css_urls, js_urls, function() {\n      console.debug(\"Bokeh: BokehJS plotting callback run at\", now());\n      run_inline_js();\n    });\n  }\n}(window));",
      "application/vnd.bokehjs_load.v0+json": ""
     },
     "metadata": {},
     "output_type": "display_data"
    },
    {
     "data": {
      "application/javascript": "(function(root) {\n  function now() {\n    return new Date();\n  }\n\n  const force = true;\n\n  if (typeof root._bokeh_onload_callbacks === \"undefined\" || force === true) {\n    root._bokeh_onload_callbacks = [];\n    root._bokeh_is_loading = undefined;\n  }\n\nconst JS_MIME_TYPE = 'application/javascript';\n  const HTML_MIME_TYPE = 'text/html';\n  const EXEC_MIME_TYPE = 'application/vnd.bokehjs_exec.v0+json';\n  const CLASS_NAME = 'output_bokeh rendered_html';\n\n  /**\n   * Render data to the DOM node\n   */\n  function render(props, node) {\n    const script = document.createElement(\"script\");\n    node.appendChild(script);\n  }\n\n  /**\n   * Handle when an output is cleared or removed\n   */\n  function handleClearOutput(event, handle) {\n    function drop(id) {\n      const view = Bokeh.index.get_by_id(id)\n      if (view != null) {\n        view.model.document.clear()\n        Bokeh.index.delete(view)\n      }\n    }\n\n    const cell = handle.cell;\n\n    const id = cell.output_area._bokeh_element_id;\n    const server_id = cell.output_area._bokeh_server_id;\n\n    // Clean up Bokeh references\n    if (id != null) {\n      drop(id)\n    }\n\n    if (server_id !== undefined) {\n      // Clean up Bokeh references\n      const cmd_clean = \"from bokeh.io.state import curstate; print(curstate().uuid_to_server['\" + server_id + \"'].get_sessions()[0].document.roots[0]._id)\";\n      cell.notebook.kernel.execute(cmd_clean, {\n        iopub: {\n          output: function(msg) {\n            const id = msg.content.text.trim()\n            drop(id)\n          }\n        }\n      });\n      // Destroy server and session\n      const cmd_destroy = \"import bokeh.io.notebook as ion; ion.destroy_server('\" + server_id + \"')\";\n      cell.notebook.kernel.execute(cmd_destroy);\n    }\n  }\n\n  /**\n   * Handle when a new output is added\n   */\n  function handleAddOutput(event, handle) {\n    const output_area = handle.output_area;\n    const output = handle.output;\n\n    // limit handleAddOutput to display_data with EXEC_MIME_TYPE content only\n    if ((output.output_type != \"display_data\") || (!Object.prototype.hasOwnProperty.call(output.data, EXEC_MIME_TYPE))) {\n      return\n    }\n\n    const toinsert = output_area.element.find(\".\" + CLASS_NAME.split(' ')[0]);\n\n    if (output.metadata[EXEC_MIME_TYPE][\"id\"] !== undefined) {\n      toinsert[toinsert.length - 1].firstChild.textContent = output.data[JS_MIME_TYPE];\n      // store reference to embed id on output_area\n      output_area._bokeh_element_id = output.metadata[EXEC_MIME_TYPE][\"id\"];\n    }\n    if (output.metadata[EXEC_MIME_TYPE][\"server_id\"] !== undefined) {\n      const bk_div = document.createElement(\"div\");\n      bk_div.innerHTML = output.data[HTML_MIME_TYPE];\n      const script_attrs = bk_div.children[0].attributes;\n      for (let i = 0; i < script_attrs.length; i++) {\n        toinsert[toinsert.length - 1].firstChild.setAttribute(script_attrs[i].name, script_attrs[i].value);\n        toinsert[toinsert.length - 1].firstChild.textContent = bk_div.children[0].textContent\n      }\n      // store reference to server id on output_area\n      output_area._bokeh_server_id = output.metadata[EXEC_MIME_TYPE][\"server_id\"];\n    }\n  }\n\n  function register_renderer(events, OutputArea) {\n\n    function append_mime(data, metadata, element) {\n      // create a DOM node to render to\n      const toinsert = this.create_output_subarea(\n        metadata,\n        CLASS_NAME,\n        EXEC_MIME_TYPE\n      );\n      this.keyboard_manager.register_events(toinsert);\n      // Render to node\n      const props = {data: data, metadata: metadata[EXEC_MIME_TYPE]};\n      render(props, toinsert[toinsert.length - 1]);\n      element.append(toinsert);\n      return toinsert\n    }\n\n    /* Handle when an output is cleared or removed */\n    events.on('clear_output.CodeCell', handleClearOutput);\n    events.on('delete.Cell', handleClearOutput);\n\n    /* Handle when a new output is added */\n    events.on('output_added.OutputArea', handleAddOutput);\n\n    /**\n     * Register the mime type and append_mime function with output_area\n     */\n    OutputArea.prototype.register_mime_type(EXEC_MIME_TYPE, append_mime, {\n      /* Is output safe? */\n      safe: true,\n      /* Index of renderer in `output_area.display_order` */\n      index: 0\n    });\n  }\n\n  // register the mime type if in Jupyter Notebook environment and previously unregistered\n  if (root.Jupyter !== undefined) {\n    const events = require('base/js/events');\n    const OutputArea = require('notebook/js/outputarea').OutputArea;\n\n    if (OutputArea.prototype.mime_types().indexOf(EXEC_MIME_TYPE) == -1) {\n      register_renderer(events, OutputArea);\n    }\n  }\n  if (typeof (root._bokeh_timeout) === \"undefined\" || force === true) {\n    root._bokeh_timeout = Date.now() + 5000;\n    root._bokeh_failed_load = false;\n  }\n\n  const NB_LOAD_WARNING = {'data': {'text/html':\n     \"<div style='background-color: #fdd'>\\n\"+\n     \"<p>\\n\"+\n     \"BokehJS does not appear to have successfully loaded. If loading BokehJS from CDN, this \\n\"+\n     \"may be due to a slow or bad network connection. Possible fixes:\\n\"+\n     \"</p>\\n\"+\n     \"<ul>\\n\"+\n     \"<li>re-rerun `output_notebook()` to attempt to load from CDN again, or</li>\\n\"+\n     \"<li>use INLINE resources instead, as so:</li>\\n\"+\n     \"</ul>\\n\"+\n     \"<code>\\n\"+\n     \"from bokeh.resources import INLINE\\n\"+\n     \"output_notebook(resources=INLINE)\\n\"+\n     \"</code>\\n\"+\n     \"</div>\"}};\n\n  function display_loaded() {\n    const el = document.getElementById(null);\n    if (el != null) {\n      el.textContent = \"BokehJS is loading...\";\n    }\n    if (root.Bokeh !== undefined) {\n      if (el != null) {\n        el.textContent = \"BokehJS \" + root.Bokeh.version + \" successfully loaded.\";\n      }\n    } else if (Date.now() < root._bokeh_timeout) {\n      setTimeout(display_loaded, 100)\n    }\n  }\n\n  function run_callbacks() {\n    try {\n      root._bokeh_onload_callbacks.forEach(function(callback) {\n        if (callback != null)\n          callback();\n      });\n    } finally {\n      delete root._bokeh_onload_callbacks\n    }\n    console.debug(\"Bokeh: all callbacks have finished\");\n  }\n\n  function load_libs(css_urls, js_urls, callback) {\n    if (css_urls == null) css_urls = [];\n    if (js_urls == null) js_urls = [];\n\n    root._bokeh_onload_callbacks.push(callback);\n    if (root._bokeh_is_loading > 0) {\n      console.debug(\"Bokeh: BokehJS is being loaded, scheduling callback at\", now());\n      return null;\n    }\n    if (js_urls == null || js_urls.length === 0) {\n      run_callbacks();\n      return null;\n    }\n    console.debug(\"Bokeh: BokehJS not loaded, scheduling load and callback at\", now());\n    root._bokeh_is_loading = css_urls.length + js_urls.length;\n\n    function on_load() {\n      root._bokeh_is_loading--;\n      if (root._bokeh_is_loading === 0) {\n        console.debug(\"Bokeh: all BokehJS libraries/stylesheets loaded\");\n        run_callbacks()\n      }\n    }\n\n    function on_error(url) {\n      console.error(\"failed to load \" + url);\n    }\n\n    for (let i = 0; i < css_urls.length; i++) {\n      const url = css_urls[i];\n      const element = document.createElement(\"link\");\n      element.onload = on_load;\n      element.onerror = on_error.bind(null, url);\n      element.rel = \"stylesheet\";\n      element.type = \"text/css\";\n      element.href = url;\n      console.debug(\"Bokeh: injecting link tag for BokehJS stylesheet: \", url);\n      document.body.appendChild(element);\n    }\n\n    for (let i = 0; i < js_urls.length; i++) {\n      const url = js_urls[i];\n      const element = document.createElement('script');\n      element.onload = on_load;\n      element.onerror = on_error.bind(null, url);\n      element.async = false;\n      element.src = url;\n      console.debug(\"Bokeh: injecting script tag for BokehJS library: \", url);\n      document.head.appendChild(element);\n    }\n  };\n\n  function inject_raw_css(css) {\n    const element = document.createElement(\"style\");\n    element.appendChild(document.createTextNode(css));\n    document.body.appendChild(element);\n  }\n\n  const js_urls = [\"https://cdn.bokeh.org/bokeh/release/bokeh-3.3.4.min.js\", \"https://cdn.bokeh.org/bokeh/release/bokeh-gl-3.3.4.min.js\", \"https://cdn.bokeh.org/bokeh/release/bokeh-widgets-3.3.4.min.js\", \"https://cdn.bokeh.org/bokeh/release/bokeh-tables-3.3.4.min.js\", \"https://cdn.bokeh.org/bokeh/release/bokeh-mathjax-3.3.4.min.js\"];\n  const css_urls = [];\n\n  const inline_js = [    function(Bokeh) {\n      Bokeh.set_log_level(\"info\");\n    },\nfunction(Bokeh) {\n    }\n  ];\n\n  function run_inline_js() {\n    if (root.Bokeh !== undefined || force === true) {\n          for (let i = 0; i < inline_js.length; i++) {\n      inline_js[i].call(root, root.Bokeh);\n    }\n} else if (Date.now() < root._bokeh_timeout) {\n      setTimeout(run_inline_js, 100);\n    } else if (!root._bokeh_failed_load) {\n      console.log(\"Bokeh: BokehJS failed to load within specified timeout.\");\n      root._bokeh_failed_load = true;\n    } else if (force !== true) {\n      const cell = $(document.getElementById(null)).parents('.cell').data().cell;\n      cell.output_area.append_execute_result(NB_LOAD_WARNING)\n    }\n  }\n\n  if (root._bokeh_is_loading === 0) {\n    console.debug(\"Bokeh: BokehJS loaded, going straight to plotting\");\n    run_inline_js();\n  } else {\n    load_libs(css_urls, js_urls, function() {\n      console.debug(\"Bokeh: BokehJS plotting callback run at\", now());\n      run_inline_js();\n    });\n  }\n}(window));",
      "application/vnd.bokehjs_load.v0+json": ""
     },
     "metadata": {},
     "output_type": "display_data"
    },
    {
     "name": "stdout",
     "output_type": "stream",
     "text": [
      "Our genome sequence for 2R is 61545105 bp long\n"
     ]
    }
   ],
   "source": [
    "ag3 = malariagen_data.Ag3()\n",
    "# Connect to the malariagen_data ag3 API\n",
    "contig, target = AnoPrimer.check_and_split_target(species=\"gambiae_sl\", target=target_loc, assay_type=assay_type)\n",
    "genome_seq = ag3.genome_sequence(region=contig)\n",
    "print(f\"Our genome sequence for {contig} is {genome_seq.shape[0]} bp long\")"
   ]
  },
  {
   "cell_type": "markdown",
   "id": "aa733775",
   "metadata": {
    "id": "aa733775"
   },
   "source": [
    "Load sequence data for the chromosomal arm of choice, using the [malariagen_data API](https://malariagen.github.io/vector-data/ag3/api.html):"
   ]
  },
  {
   "cell_type": "code",
   "execution_count": 4,
   "id": "5fa0be8d",
   "metadata": {
    "colab": {
     "base_uri": "https://localhost:8080/"
    },
    "id": "5fa0be8d",
    "outputId": "eb3fbe20-0f9d-4909-d1ac-04e7ba9f04c3",
    "tags": []
   },
   "outputs": [
    {
     "name": "stdout",
     "output_type": "stream",
     "text": [
      "Our genome sequence for 2R is 61545105 bp long\n"
     ]
    }
   ],
   "source": [
    "genome_seq = ag3.genome_sequence(region=contig)\n",
    "print(f\"Our genome sequence for {contig} is {genome_seq.shape[0]} bp long\")"
   ]
  },
  {
   "cell_type": "markdown",
   "id": "144a37ce",
   "metadata": {
    "id": "144a37ce"
   },
   "source": [
    "Now we need to extract the bit of genome sequence we need. We will use functions in the [AnoPrimer](https://pypi.org/project/AnoPrimer/) package. For genomic DNA primers, this is quite simple and we can make direct use of the `ag3.genome_sequence()` function, but for cDNA qPCR primers, we must only include coding sequence, and so we must concatenate exons together.\n",
    "\n",
    "With qPCR primers for cDNA, we also must ensure that one primer spans an exon-exon junction, to ensure that any residual genomic DNA in our samples does not get amplified. We must therefore make a note of where the exon junctions are, and we store that as a list in the `exon_junctions` variable."
   ]
  },
  {
   "cell_type": "code",
   "execution_count": 5,
   "id": "R0CkEd38VXGY",
   "metadata": {
    "colab": {
     "base_uri": "https://localhost:8080/"
    },
    "id": "R0CkEd38VXGY",
    "outputId": "98dbbc29-e598-44da-ba33-75ba0f853171",
    "tags": []
   },
   "outputs": [
    {
     "name": "stdout",
     "output_type": "stream",
     "text": [
      "The target sequence is 239 bases long\n",
      "the target snp is 119 bp into our target sequence\n"
     ]
    }
   ],
   "source": [
    "seq_parameters = AnoPrimer.prepare_sequence(\n",
    "                                species=\"gambiae_sl\",\n",
    "                                target=target,\n",
    "                                assay_type=assay_type,\n",
    "                                assay_name=assay_name,\n",
    "                                genome_seq=genome_seq,\n",
    "                                amplicon_size_range=amplicon_size_range,\n",
    "                                cDNA_exon_junction=cDNA_exon_junction,\n",
    "                                )"
   ]
  },
  {
   "cell_type": "markdown",
   "id": "_aaCJGAXUCSx",
   "metadata": {
    "id": "_aaCJGAXUCSx"
   },
   "source": [
    "Now we have our target sequence. Lets take a look..."
   ]
  },
  {
   "cell_type": "code",
   "execution_count": 6,
   "id": "nDaWXq7f9hyA",
   "metadata": {
    "colab": {
     "base_uri": "https://localhost:8080/",
     "height": 53
    },
    "id": "nDaWXq7f9hyA",
    "outputId": "635d7c7a-6014-4107-a671-0e2503cdb9c4",
    "tags": []
   },
   "outputs": [
    {
     "data": {
      "text/plain": [
       "'CGGGCGCGACCATGTGGAACCCGAACACGCCCCTGTCCGAGGACTGTCTGTACATTAACGTGGTGGCACCGCGACCCCGGCCCAAGAATGCGGCCGTCATGCTGTGGATCTTCGGCGGCGGCTTCTACTCCGGCACCGCCACCCTGGACGTGTACGACCACCGGGCGCTTGCGTCGGAGGAGAACGTGATCGTGGTGTCGCTGCAGTACCGCGTGGCCAGTCTGGGCTTCCTGTTTCTC'"
      ]
     },
     "execution_count": 6,
     "metadata": {},
     "output_type": "execute_result"
    }
   ],
   "source": [
    "seq_parameters['SEQUENCE_TEMPLATE']"
   ]
  },
  {
   "cell_type": "markdown",
   "id": "38fe2530",
   "metadata": {
    "id": "38fe2530"
   },
   "source": [
    "We need to set up a second python dictionary, which will be our input to primer3. This contains our preferred primer parameters. In the below cell, you can modify or add primer3 parameters, such as optimal primer size, TM, GC content etc etc. A full list of possible parameters and their functions can be found in the [primer3 2.6.1 manual](https://htmlpreview.github.io/?https://github.com/primer3-org/primer3/blob/v2.6.1/src/primer3_manual.htm)."
   ]
  },
  {
   "cell_type": "code",
   "execution_count": 7,
   "id": "622ac6d9",
   "metadata": {
    "id": "622ac6d9",
    "tags": []
   },
   "outputs": [],
   "source": [
    "primer_parameters  =  {\n",
    "    'PRIMER_OPT_SIZE': 20,\n",
    "    'PRIMER_TASK':'generic',\n",
    "    'PRIMER_MIN_SIZE': 17,\n",
    "    'PRIMER_MAX_SIZE': 24,\n",
    "    'PRIMER_OPT_TM': 60.0,\n",
    "    'PRIMER_MIN_TM': 55.0,\n",
    "    'PRIMER_MAX_TM': 64.0,\n",
    "    'PRIMER_MIN_GC': 30.0,\n",
    "    'PRIMER_MAX_GC': 75.0,\n",
    "    'PRIMER_MIN_THREE_PRIME_DISTANCE': 3,  # this parameter is the minimum distance between successive pairs. If 1, it means successive primer pairs could be identical bar one base shift\n",
    "    'PRIMER_INTERNAL_OPT_SIZE': 16,  # Probe size preferences if selected, otherwise ignored\n",
    "    'PRIMER_INTERNAL_MIN_SIZE': 10,\n",
    "    'PRIMER_INTERNAL_MAX_SIZE': 22,\n",
    "    'PRIMER_INTERNAL_MIN_TM': 45,\n",
    "    'PRIMER_INTERNAL_MAX_TM': 65,  # Probe considerations are quite relaxed, assumed that LNAs / Taqman will be used later to affect TM\n",
    "    # Extra primer3 parameters can go here\n",
    "    # In the same format as above                       \n",
    "}\n",
    "\n",
    "# adds some necessary parameters depending on assay type\n",
    "primer_parameters = AnoPrimer.primer_params(\n",
    "    assay_type=assay_type, \n",
    "    primer_parameters=primer_parameters, \n",
    "    n_primer_pairs=n_primer_pairs, \n",
    "    amplicon_size_range=amplicon_size_range,\n",
    ") "
   ]
  },
  {
   "cell_type": "markdown",
   "id": "0819ba76",
   "metadata": {
    "id": "0819ba76"
   },
   "source": [
    "### Run the primer3 algorithm!"
   ]
  },
  {
   "cell_type": "code",
   "execution_count": 8,
   "id": "ae6e7525",
   "metadata": {
    "id": "ae6e7525",
    "tags": []
   },
   "outputs": [],
   "source": [
    "primer_dict = primer3.designPrimers(\n",
    "    seq_args=seq_parameters, \n",
    "    global_args=primer_parameters\n",
    ")"
   ]
  },
  {
   "cell_type": "markdown",
   "id": "56945ca6",
   "metadata": {
    "id": "56945ca6"
   },
   "source": [
    "It should be *fast*. The output, which we store as 'primer_dict', is a python dictionary containing the full results from primer3. We will turn this into a pandas dataframe containing just the necessary bits of information. First, we'll print some information from the primer3 run."
   ]
  },
  {
   "cell_type": "code",
   "execution_count": 9,
   "id": "1bb40846",
   "metadata": {
    "colab": {
     "base_uri": "https://localhost:8080/"
    },
    "id": "1bb40846",
    "outputId": "052f3437-9a32-47d5-d15f-604aa756e8ee",
    "tags": []
   },
   "outputs": [
    {
     "name": "stdout",
     "output_type": "stream",
     "text": [
      "primer_forward_explain  :  considered 796, GC content failed 84, low tm 72, high tm 347, ok 293 \n",
      "\n",
      "primer_reverse_explain  :  considered 724, GC content failed 68, low tm 17, high tm 395, high hairpin stability 22, ok 222 \n",
      "\n",
      "primer_probe_explain  :  considered 2912, GC content failed 190, low tm 918, high tm 50, high hairpin stability 3, no overlap of required point 1636, ok 115 \n",
      "\n",
      "primer_pair_explain  :  considered 3980, unacceptable product size 3962, no internal oligo 9, primer in pair overlaps a primer in a better pair 1886, ok 9 \n",
      "\n",
      "primer_forward_num_returned  :  5 \n",
      "\n",
      "primer_reverse_num_returned  :  5 \n",
      "\n",
      "primer_probe_num_returned  :  5 \n",
      "\n",
      "primer_pair_num_returned  :  5 \n",
      "\n",
      "primer_pair  :  [{'PENALTY': 0.7107151008710275, 'COMPL_ANY_TH': 0.0, 'COMPL_END_TH': 0.0, 'PRODUCT_SIZE': 95, 'PRODUCT_TM': 88.90156407263927}, {'PENALTY': 1.8268188261876048, 'COMPL_ANY_TH': 0.0, 'COMPL_END_TH': 0.0, 'PRODUCT_SIZE': 66, 'PRODUCT_TM': 86.70188305190561}, {'PENALTY': 3.1582579651147853, 'COMPL_ANY_TH': 0.0, 'COMPL_END_TH': 1.562469314775342, 'PRODUCT_SIZE': 103, 'PRODUCT_TM': 89.70217725608332}, {'PENALTY': 3.3586929277500417, 'COMPL_ANY_TH': 12.973825966488278, 'COMPL_END_TH': 17.231667178159967, 'PRODUCT_SIZE': 112, 'PRODUCT_TM': 90.19160166662422}, {'PENALTY': 5.1324389543266875, 'COMPL_ANY_TH': 0.0, 'COMPL_END_TH': 0.0, 'PRODUCT_SIZE': 120, 'PRODUCT_TM': 90.45112547614804}] \n",
      "\n",
      "primer_forward  :  [{'PENALTY': 0.46258069149581615, 'SEQUENCE': 'TCATGCTGTGGATCTTCGGC', 'COORDS': [96, 20], 'TM': 60.462580691495816, 'GC_PERCENT': 55.0, 'SELF_ANY_TH': 12.259940761643293, 'SELF_END_TH': 12.259940761643293, 'HAIRPIN_TH': 36.59415215911514, 'END_STABILITY': 5.54}, {'PENALTY': 0.7458448421797357, 'SEQUENCE': 'GCCGTCATGCTGTGGATCTT', 'COORDS': [92, 20], 'TM': 60.745844842179736, 'GC_PERCENT': 55.0, 'SELF_ANY_TH': 0.0, 'SELF_END_TH': 0.0, 'HAIRPIN_TH': 0.0, 'END_STABILITY': 2.4}, {'PENALTY': 1.0630056029440311, 'SEQUENCE': 'CAAGAATGCGGCCGTCATG', 'COORDS': [82, 19], 'TM': 59.93699439705597, 'GC_PERCENT': 57.89473684210526, 'SELF_ANY_TH': 27.740677587638743, 'SELF_END_TH': 17.565181116897747, 'HAIRPIN_TH': 0.0, 'END_STABILITY': 3.07}, {'PENALTY': 1.2319584737745117, 'SEQUENCE': 'ACATTAACGTGGTGGCACCG', 'COORDS': [51, 20], 'TM': 61.23195847377451, 'GC_PERCENT': 55.0, 'SELF_ANY_TH': 30.138122022371874, 'SELF_END_TH': 21.521828989913672, 'HAIRPIN_TH': 42.57679566489054, 'END_STABILITY': 4.94}, {'PENALTY': 2.0373810945843616, 'SEQUENCE': 'TCTGTACATTAACGTGGTGGCA', 'COORDS': [46, 22], 'TM': 59.96261890541564, 'GC_PERCENT': 45.45454545454545, 'SELF_ANY_TH': 0.0, 'SELF_END_TH': 0.0, 'HAIRPIN_TH': 0.0, 'END_STABILITY': 4.92}] \n",
      "\n",
      "primer_reverse  :  [{'PENALTY': 0.24813440937521136, 'SEQUENCE': 'GATCACGTTCTCCTCCGACG', 'COORDS': [190, 20], 'TM': 60.24813440937521, 'GC_PERCENT': 60.0, 'SELF_ANY_TH': 0.0, 'SELF_END_TH': 0.0, 'HAIRPIN_TH': 42.12619709637721, 'END_STABILITY': 5.12}, {'PENALTY': 1.0809739840078691, 'SEQUENCE': 'GTCGTACACGTCCAGGGTG', 'COORDS': [157, 19], 'TM': 60.08097398400787, 'GC_PERCENT': 63.1578947368421, 'SELF_ANY_TH': 1.1902412874118795, 'SELF_END_TH': 0.0, 'HAIRPIN_TH': 36.90501393969038, 'END_STABILITY': 4.61}, {'PENALTY': 2.095252362170754, 'SEQUENCE': 'GTTCTCCTCCGACGCAAGC', 'COORDS': [184, 19], 'TM': 61.095252362170754, 'GC_PERCENT': 63.1578947368421, 'SELF_ANY_TH': 0.0, 'SELF_END_TH': 0.0, 'HAIRPIN_TH': 45.62213695404927, 'END_STABILITY': 4.01}, {'PENALTY': 2.12673445397553, 'SEQUENCE': 'CGGTGGTCGTACACGTCC', 'COORDS': [162, 18], 'TM': 60.12673445397553, 'GC_PERCENT': 66.66666666666667, 'SELF_ANY_TH': 10.508612029603285, 'SELF_END_TH': 10.508612029603285, 'HAIRPIN_TH': 45.42514212470502, 'END_STABILITY': 4.79}, {'PENALTY': 3.095057859742326, 'SEQUENCE': 'GCCCGGTGGTCGTACAC', 'COORDS': [165, 17], 'TM': 60.095057859742326, 'GC_PERCENT': 70.58823529411765, 'SELF_ANY_TH': 0.0, 'SELF_END_TH': 4.099068456778866, 'HAIRPIN_TH': 40.60200555214965, 'END_STABILITY': 2.9}] \n",
      "\n",
      "primer_probe  :  [{'PENALTY': 4.161169114371262, 'SEQUENCE': 'GCGGCTTCTACTCCGGCACC', 'COORDS': [117, 20], 'TM': 59.83883088562874, 'GC_PERCENT': 70.0, 'SELF_ANY_TH': 0.0, 'SELF_END_TH': 0.0, 'HAIRPIN_TH': 42.29746586682808}, {'PENALTY': 3.1023652706057874, 'SEQUENCE': 'GCGGCGGCTTCTACTCCGG', 'COORDS': [114, 19], 'TM': 59.89763472939421, 'GC_PERCENT': 73.6842105263158, 'SELF_ANY_TH': 7.734280912202962, 'SELF_END_TH': 0.0, 'HAIRPIN_TH': 42.29746586682808}, {'PENALTY': 2.4995809801899327, 'SEQUENCE': 'GGATCTTCGGCGGCGGCT', 'COORDS': [105, 18], 'TM': 59.50041901981007, 'GC_PERCENT': 72.22222222222223, 'SELF_ANY_TH': 28.91330394666676, 'SELF_END_TH': 8.89162996824166, 'HAIRPIN_TH': 37.703259299207616}, {'PENALTY': 3.348382651400243, 'SEQUENCE': 'TCTTCGGCGGCGGCTTCT', 'COORDS': [108, 18], 'TM': 58.65161734859976, 'GC_PERCENT': 66.66666666666667, 'SELF_ANY_TH': 28.91330394666676, 'SELF_END_TH': 0.0, 'HAIRPIN_TH': 37.703259299207616}, {'PENALTY': 3.9645828504137626, 'SEQUENCE': 'TCGGCGGCGGCTTCTACT', 'COORDS': [111, 18], 'TM': 58.03541714958624, 'GC_PERCENT': 66.66666666666667, 'SELF_ANY_TH': 28.91330394666676, 'SELF_END_TH': 0.0, 'HAIRPIN_TH': 37.703259299207616}] \n",
      "\n"
     ]
    }
   ],
   "source": [
    "AnoPrimer.primer3_run_statistics(primer_dict, assay_type)"
   ]
  },
  {
   "cell_type": "markdown",
   "id": "CbVMwOdCrNMf",
   "metadata": {
    "id": "CbVMwOdCrNMf"
   },
   "source": [
    "Now lets convert this into an easy to read pandas dataframe."
   ]
  },
  {
   "cell_type": "code",
   "execution_count": 10,
   "id": "bf8c5970",
   "metadata": {
    "colab": {
     "base_uri": "https://localhost:8080/",
     "height": 488
    },
    "id": "bf8c5970",
    "outputId": "6d83511f-35a3-409a-ead3-cfa867029fc0",
    "tags": []
   },
   "outputs": [
    {
     "data": {
      "text/html": [
       "<div>\n",
       "<style scoped>\n",
       "    .dataframe tbody tr th:only-of-type {\n",
       "        vertical-align: middle;\n",
       "    }\n",
       "\n",
       "    .dataframe tbody tr th {\n",
       "        vertical-align: top;\n",
       "    }\n",
       "\n",
       "    .dataframe thead th {\n",
       "        text-align: right;\n",
       "    }\n",
       "</style>\n",
       "<table border=\"1\" class=\"dataframe\">\n",
       "  <thead>\n",
       "    <tr style=\"text-align: right;\">\n",
       "      <th>primer_pair</th>\n",
       "      <th>1</th>\n",
       "      <th>2</th>\n",
       "      <th>3</th>\n",
       "      <th>4</th>\n",
       "      <th>5</th>\n",
       "    </tr>\n",
       "    <tr>\n",
       "      <th>parameter</th>\n",
       "      <th></th>\n",
       "      <th></th>\n",
       "      <th></th>\n",
       "      <th></th>\n",
       "      <th></th>\n",
       "    </tr>\n",
       "  </thead>\n",
       "  <tbody>\n",
       "    <tr>\n",
       "      <th>primer_forward_sequence</th>\n",
       "      <td>TCATGCTGTGGATCTTCGGC</td>\n",
       "      <td>GCCGTCATGCTGTGGATCTT</td>\n",
       "      <td>CAAGAATGCGGCCGTCATG</td>\n",
       "      <td>ACATTAACGTGGTGGCACCG</td>\n",
       "      <td>TCTGTACATTAACGTGGTGGCA</td>\n",
       "    </tr>\n",
       "    <tr>\n",
       "      <th>primer_reverse_sequence</th>\n",
       "      <td>GATCACGTTCTCCTCCGACG</td>\n",
       "      <td>GTCGTACACGTCCAGGGTG</td>\n",
       "      <td>GTTCTCCTCCGACGCAAGC</td>\n",
       "      <td>CGGTGGTCGTACACGTCC</td>\n",
       "      <td>GCCCGGTGGTCGTACAC</td>\n",
       "    </tr>\n",
       "    <tr>\n",
       "      <th>primer_probe_sequence</th>\n",
       "      <td>GCGGCTTCTACTCCGGCACC</td>\n",
       "      <td>GCGGCGGCTTCTACTCCGG</td>\n",
       "      <td>GGATCTTCGGCGGCGGCT</td>\n",
       "      <td>TCTTCGGCGGCGGCTTCT</td>\n",
       "      <td>TCGGCGGCGGCTTCTACT</td>\n",
       "    </tr>\n",
       "    <tr>\n",
       "      <th>primer_forward_tm</th>\n",
       "      <td>60.462581</td>\n",
       "      <td>60.745845</td>\n",
       "      <td>59.936994</td>\n",
       "      <td>61.231958</td>\n",
       "      <td>59.962619</td>\n",
       "    </tr>\n",
       "    <tr>\n",
       "      <th>primer_reverse_tm</th>\n",
       "      <td>60.248134</td>\n",
       "      <td>60.080974</td>\n",
       "      <td>61.095252</td>\n",
       "      <td>60.126734</td>\n",
       "      <td>60.095058</td>\n",
       "    </tr>\n",
       "    <tr>\n",
       "      <th>primer_probe_tm</th>\n",
       "      <td>59.838831</td>\n",
       "      <td>59.897635</td>\n",
       "      <td>59.500419</td>\n",
       "      <td>58.651617</td>\n",
       "      <td>58.035417</td>\n",
       "    </tr>\n",
       "    <tr>\n",
       "      <th>primer_forward_gc_percent</th>\n",
       "      <td>55.0</td>\n",
       "      <td>55.0</td>\n",
       "      <td>57.894737</td>\n",
       "      <td>55.0</td>\n",
       "      <td>45.454545</td>\n",
       "    </tr>\n",
       "    <tr>\n",
       "      <th>primer_reverse_gc_percent</th>\n",
       "      <td>60.0</td>\n",
       "      <td>63.157895</td>\n",
       "      <td>63.157895</td>\n",
       "      <td>66.666667</td>\n",
       "      <td>70.588235</td>\n",
       "    </tr>\n",
       "    <tr>\n",
       "      <th>primer_probe_gc_percent</th>\n",
       "      <td>70.0</td>\n",
       "      <td>73.684211</td>\n",
       "      <td>72.222222</td>\n",
       "      <td>66.666667</td>\n",
       "      <td>66.666667</td>\n",
       "    </tr>\n",
       "    <tr>\n",
       "      <th>primer_forward</th>\n",
       "      <td>[96, 20]</td>\n",
       "      <td>[92, 20]</td>\n",
       "      <td>[82, 19]</td>\n",
       "      <td>[51, 20]</td>\n",
       "      <td>[46, 22]</td>\n",
       "    </tr>\n",
       "    <tr>\n",
       "      <th>primer_reverse</th>\n",
       "      <td>[190, 20]</td>\n",
       "      <td>[157, 19]</td>\n",
       "      <td>[184, 19]</td>\n",
       "      <td>[162, 18]</td>\n",
       "      <td>[165, 17]</td>\n",
       "    </tr>\n",
       "    <tr>\n",
       "      <th>primer_probe</th>\n",
       "      <td>[117, 20]</td>\n",
       "      <td>[114, 19]</td>\n",
       "      <td>[105, 18]</td>\n",
       "      <td>[108, 18]</td>\n",
       "      <td>[111, 18]</td>\n",
       "    </tr>\n",
       "    <tr>\n",
       "      <th>primer_pair_product_size</th>\n",
       "      <td>95</td>\n",
       "      <td>66</td>\n",
       "      <td>103</td>\n",
       "      <td>112</td>\n",
       "      <td>120</td>\n",
       "    </tr>\n",
       "  </tbody>\n",
       "</table>\n",
       "</div>"
      ],
      "text/plain": [
       "primer_pair                                   1                     2  \\\n",
       "parameter                                                               \n",
       "primer_forward_sequence    TCATGCTGTGGATCTTCGGC  GCCGTCATGCTGTGGATCTT   \n",
       "primer_reverse_sequence    GATCACGTTCTCCTCCGACG   GTCGTACACGTCCAGGGTG   \n",
       "primer_probe_sequence      GCGGCTTCTACTCCGGCACC   GCGGCGGCTTCTACTCCGG   \n",
       "primer_forward_tm                     60.462581             60.745845   \n",
       "primer_reverse_tm                     60.248134             60.080974   \n",
       "primer_probe_tm                       59.838831             59.897635   \n",
       "primer_forward_gc_percent                  55.0                  55.0   \n",
       "primer_reverse_gc_percent                  60.0             63.157895   \n",
       "primer_probe_gc_percent                    70.0             73.684211   \n",
       "primer_forward                         [96, 20]              [92, 20]   \n",
       "primer_reverse                        [190, 20]             [157, 19]   \n",
       "primer_probe                          [117, 20]             [114, 19]   \n",
       "primer_pair_product_size                     95                    66   \n",
       "\n",
       "primer_pair                                  3                     4  \\\n",
       "parameter                                                              \n",
       "primer_forward_sequence    CAAGAATGCGGCCGTCATG  ACATTAACGTGGTGGCACCG   \n",
       "primer_reverse_sequence    GTTCTCCTCCGACGCAAGC    CGGTGGTCGTACACGTCC   \n",
       "primer_probe_sequence       GGATCTTCGGCGGCGGCT    TCTTCGGCGGCGGCTTCT   \n",
       "primer_forward_tm                    59.936994             61.231958   \n",
       "primer_reverse_tm                    61.095252             60.126734   \n",
       "primer_probe_tm                      59.500419             58.651617   \n",
       "primer_forward_gc_percent            57.894737                  55.0   \n",
       "primer_reverse_gc_percent            63.157895             66.666667   \n",
       "primer_probe_gc_percent              72.222222             66.666667   \n",
       "primer_forward                        [82, 19]              [51, 20]   \n",
       "primer_reverse                       [184, 19]             [162, 18]   \n",
       "primer_probe                         [105, 18]             [108, 18]   \n",
       "primer_pair_product_size                   103                   112   \n",
       "\n",
       "primer_pair                                     5  \n",
       "parameter                                          \n",
       "primer_forward_sequence    TCTGTACATTAACGTGGTGGCA  \n",
       "primer_reverse_sequence         GCCCGGTGGTCGTACAC  \n",
       "primer_probe_sequence          TCGGCGGCGGCTTCTACT  \n",
       "primer_forward_tm                       59.962619  \n",
       "primer_reverse_tm                       60.095058  \n",
       "primer_probe_tm                         58.035417  \n",
       "primer_forward_gc_percent               45.454545  \n",
       "primer_reverse_gc_percent               70.588235  \n",
       "primer_probe_gc_percent                 66.666667  \n",
       "primer_forward                           [46, 22]  \n",
       "primer_reverse                          [165, 17]  \n",
       "primer_probe                            [111, 18]  \n",
       "primer_pair_product_size                      120  "
      ]
     },
     "execution_count": 10,
     "metadata": {},
     "output_type": "execute_result"
    }
   ],
   "source": [
    "primer_df = AnoPrimer.primer3_to_pandas(primer_dict, assay_type)\n",
    "primer_df"
   ]
  },
  {
   "cell_type": "markdown",
   "id": "Lf0CeEVrtaxP",
   "metadata": {
    "id": "Lf0CeEVrtaxP"
   },
   "source": [
    "\n",
    "We can write this to .tsv and excel files, which can be explored in other editors."
   ]
  },
  {
   "cell_type": "code",
   "execution_count": 13,
   "id": "09eQYSeT7lHG",
   "metadata": {
    "id": "09eQYSeT7lHG",
    "tags": []
   },
   "outputs": [],
   "source": [
    "primer_df.to_csv(f\"{assay_name}.{assay_type}.primers.tsv\", sep=\"\\t\")\n",
    "primer_df.to_excel(f\"{assay_name}.{assay_type}.primers.xlsx\")"
   ]
  },
  {
   "cell_type": "markdown",
   "id": "6fcc8593",
   "metadata": {},
   "source": [
    "Lets create an AnoPrimerResults object, which will allow us to easily access and explore the results of our primer3 run."
   ]
  },
  {
   "cell_type": "code",
   "execution_count": 11,
   "id": "29e5bc81",
   "metadata": {},
   "outputs": [
    {
     "data": {
      "text/plain": [
       "AnoPrimerResults for ace1-280s (gDNA primers + probe)"
      ]
     },
     "execution_count": 11,
     "metadata": {},
     "output_type": "execute_result"
    }
   ],
   "source": [
    "primers = AnoPrimer.AnoPrimerResults(\n",
    "        species=\"gambiae_sl\",\n",
    "        data_resource=ag3,\n",
    "        contig=contig,\n",
    "        assay_type=assay_type,\n",
    "        assay_name=assay_name,\n",
    "        target=target,\n",
    "        primer_df=primer_df,\n",
    "        seq_parameters=seq_parameters,\n",
    "        primer_parameters=primer_parameters,\n",
    "    )\n",
    "\n",
    "primers"
   ]
  },
  {
   "cell_type": "markdown",
   "id": "b4a9776c",
   "metadata": {
    "id": "b4a9776c"
   },
   "source": [
    "### Looking for variation using the Ag1000G data resource\n",
    "\n",
    "As we've seen in earlier workshops, Ag1000G samples are organised into sample sets. Lets look at what each sample set contains, breaking it down by species, year and country. "
   ]
  },
  {
   "cell_type": "code",
   "execution_count": null,
   "id": "61286685",
   "metadata": {
    "colab": {
     "base_uri": "https://localhost:8080/",
     "height": 1000,
     "referenced_widgets": [
      "bbf351cef55f45a9af635ae3fdef4545",
      "00fd40decfb447c98307cf817055cc83",
      "3df8d1664f99432e90a3521ffaa54fe3",
      "e73718d89be642e7adbb8abab441cd71",
      "bf628ae9b7df45c59dcd381d179746dd",
      "13e0faac5a534973a737f2c11158110c",
      "edf49ec3949047ab902b8ab2d6981bdf",
      "5b2e179c55794344bc6231fc3537d264",
      "e3f78396230249a5b4e08a8fe93c9bb4",
      "25344ace43974c59be0eee35f4915b3a",
      "fa94ca372db84ebb898eede7aa8fd855"
     ]
    },
    "id": "61286685",
    "outputId": "fa90b592-e22e-43af-82f3-c7b83a34ffd9",
    "tags": []
   },
   "outputs": [],
   "source": [
    "primers.summarise_metadata(sample_sets=\"3.0\", sample_query=None)"
   ]
  },
  {
   "cell_type": "markdown",
   "id": "BLwvXBT28NYE",
   "metadata": {
    "id": "BLwvXBT28NYE"
   },
   "source": [
    "Here, we can see the breakdown by sample set for country, species and year. For the purposes of this notebook, let's use the Ghana sample set. If we wanted to use all sample sets, we could supply '3.0' instead of a sample set, which will load all samples from the Ag3.0 release."
   ]
  },
  {
   "cell_type": "code",
   "execution_count": 14,
   "id": "49ca7f2b",
   "metadata": {
    "id": "49ca7f2b",
    "tags": []
   },
   "outputs": [],
   "source": [
    "sample_sets = ['AG1000G-BF-A', 'AG1000G-GH', 'AG1000G-GN-A']\n",
    "# here we could subset to specific values in the metadata e.g.: \"taxon == 'gambiae'\" , or \"taxon == 'arabiensis'\"\n",
    "sample_query = None "
   ]
  },
  {
   "cell_type": "markdown",
   "id": "67coxQKoo82x",
   "metadata": {
    "id": "67coxQKoo82x"
   },
   "source": [
    "### Plot allele frequencies in primers locations\n",
    "\n",
    "Now we can plot the primers pairs, and the frequency of any alternate alleles in the Ag1000G sample set of choice. When calculating allele frequencies, we will take the sum of all alternate alleles, as we are interested here in any mutations which are different from the reference genome. We can see the frequencies of specific alleles by hovering over the points of the plot - in some cases it may be preferable to design degenerate primers rather than avoid a primer pair completely.\n",
    "\n",
    "We will also plot the primer Tm, GC and genomic spans of each primer binding site. We can use this plot to identify primers pairs and probes which may be suitable, particularly trying to avoid SNPs in the 3' end. "
   ]
  },
  {
   "cell_type": "code",
   "execution_count": 15,
   "id": "shXKBpG49LSU",
   "metadata": {
    "colab": {
     "base_uri": "https://localhost:8080/",
     "height": 1000
    },
    "id": "shXKBpG49LSU",
    "outputId": "b9b2466f-67d0-40e4-c9da-e50ee12299d6",
    "tags": []
   },
   "outputs": [
    {
     "data": {
      "application/javascript": "(function(root) {\n  function now() {\n    return new Date();\n  }\n\n  const force = true;\n\n  if (typeof root._bokeh_onload_callbacks === \"undefined\" || force === true) {\n    root._bokeh_onload_callbacks = [];\n    root._bokeh_is_loading = undefined;\n  }\n\nconst JS_MIME_TYPE = 'application/javascript';\n  const HTML_MIME_TYPE = 'text/html';\n  const EXEC_MIME_TYPE = 'application/vnd.bokehjs_exec.v0+json';\n  const CLASS_NAME = 'output_bokeh rendered_html';\n\n  /**\n   * Render data to the DOM node\n   */\n  function render(props, node) {\n    const script = document.createElement(\"script\");\n    node.appendChild(script);\n  }\n\n  /**\n   * Handle when an output is cleared or removed\n   */\n  function handleClearOutput(event, handle) {\n    function drop(id) {\n      const view = Bokeh.index.get_by_id(id)\n      if (view != null) {\n        view.model.document.clear()\n        Bokeh.index.delete(view)\n      }\n    }\n\n    const cell = handle.cell;\n\n    const id = cell.output_area._bokeh_element_id;\n    const server_id = cell.output_area._bokeh_server_id;\n\n    // Clean up Bokeh references\n    if (id != null) {\n      drop(id)\n    }\n\n    if (server_id !== undefined) {\n      // Clean up Bokeh references\n      const cmd_clean = \"from bokeh.io.state import curstate; print(curstate().uuid_to_server['\" + server_id + \"'].get_sessions()[0].document.roots[0]._id)\";\n      cell.notebook.kernel.execute(cmd_clean, {\n        iopub: {\n          output: function(msg) {\n            const id = msg.content.text.trim()\n            drop(id)\n          }\n        }\n      });\n      // Destroy server and session\n      const cmd_destroy = \"import bokeh.io.notebook as ion; ion.destroy_server('\" + server_id + \"')\";\n      cell.notebook.kernel.execute(cmd_destroy);\n    }\n  }\n\n  /**\n   * Handle when a new output is added\n   */\n  function handleAddOutput(event, handle) {\n    const output_area = handle.output_area;\n    const output = handle.output;\n\n    // limit handleAddOutput to display_data with EXEC_MIME_TYPE content only\n    if ((output.output_type != \"display_data\") || (!Object.prototype.hasOwnProperty.call(output.data, EXEC_MIME_TYPE))) {\n      return\n    }\n\n    const toinsert = output_area.element.find(\".\" + CLASS_NAME.split(' ')[0]);\n\n    if (output.metadata[EXEC_MIME_TYPE][\"id\"] !== undefined) {\n      toinsert[toinsert.length - 1].firstChild.textContent = output.data[JS_MIME_TYPE];\n      // store reference to embed id on output_area\n      output_area._bokeh_element_id = output.metadata[EXEC_MIME_TYPE][\"id\"];\n    }\n    if (output.metadata[EXEC_MIME_TYPE][\"server_id\"] !== undefined) {\n      const bk_div = document.createElement(\"div\");\n      bk_div.innerHTML = output.data[HTML_MIME_TYPE];\n      const script_attrs = bk_div.children[0].attributes;\n      for (let i = 0; i < script_attrs.length; i++) {\n        toinsert[toinsert.length - 1].firstChild.setAttribute(script_attrs[i].name, script_attrs[i].value);\n        toinsert[toinsert.length - 1].firstChild.textContent = bk_div.children[0].textContent\n      }\n      // store reference to server id on output_area\n      output_area._bokeh_server_id = output.metadata[EXEC_MIME_TYPE][\"server_id\"];\n    }\n  }\n\n  function register_renderer(events, OutputArea) {\n\n    function append_mime(data, metadata, element) {\n      // create a DOM node to render to\n      const toinsert = this.create_output_subarea(\n        metadata,\n        CLASS_NAME,\n        EXEC_MIME_TYPE\n      );\n      this.keyboard_manager.register_events(toinsert);\n      // Render to node\n      const props = {data: data, metadata: metadata[EXEC_MIME_TYPE]};\n      render(props, toinsert[toinsert.length - 1]);\n      element.append(toinsert);\n      return toinsert\n    }\n\n    /* Handle when an output is cleared or removed */\n    events.on('clear_output.CodeCell', handleClearOutput);\n    events.on('delete.Cell', handleClearOutput);\n\n    /* Handle when a new output is added */\n    events.on('output_added.OutputArea', handleAddOutput);\n\n    /**\n     * Register the mime type and append_mime function with output_area\n     */\n    OutputArea.prototype.register_mime_type(EXEC_MIME_TYPE, append_mime, {\n      /* Is output safe? */\n      safe: true,\n      /* Index of renderer in `output_area.display_order` */\n      index: 0\n    });\n  }\n\n  // register the mime type if in Jupyter Notebook environment and previously unregistered\n  if (root.Jupyter !== undefined) {\n    const events = require('base/js/events');\n    const OutputArea = require('notebook/js/outputarea').OutputArea;\n\n    if (OutputArea.prototype.mime_types().indexOf(EXEC_MIME_TYPE) == -1) {\n      register_renderer(events, OutputArea);\n    }\n  }\n  if (typeof (root._bokeh_timeout) === \"undefined\" || force === true) {\n    root._bokeh_timeout = Date.now() + 5000;\n    root._bokeh_failed_load = false;\n  }\n\n  const NB_LOAD_WARNING = {'data': {'text/html':\n     \"<div style='background-color: #fdd'>\\n\"+\n     \"<p>\\n\"+\n     \"BokehJS does not appear to have successfully loaded. If loading BokehJS from CDN, this \\n\"+\n     \"may be due to a slow or bad network connection. Possible fixes:\\n\"+\n     \"</p>\\n\"+\n     \"<ul>\\n\"+\n     \"<li>re-rerun `output_notebook()` to attempt to load from CDN again, or</li>\\n\"+\n     \"<li>use INLINE resources instead, as so:</li>\\n\"+\n     \"</ul>\\n\"+\n     \"<code>\\n\"+\n     \"from bokeh.resources import INLINE\\n\"+\n     \"output_notebook(resources=INLINE)\\n\"+\n     \"</code>\\n\"+\n     \"</div>\"}};\n\n  function display_loaded() {\n    const el = document.getElementById(null);\n    if (el != null) {\n      el.textContent = \"BokehJS is loading...\";\n    }\n    if (root.Bokeh !== undefined) {\n      if (el != null) {\n        el.textContent = \"BokehJS \" + root.Bokeh.version + \" successfully loaded.\";\n      }\n    } else if (Date.now() < root._bokeh_timeout) {\n      setTimeout(display_loaded, 100)\n    }\n  }\n\n  function run_callbacks() {\n    try {\n      root._bokeh_onload_callbacks.forEach(function(callback) {\n        if (callback != null)\n          callback();\n      });\n    } finally {\n      delete root._bokeh_onload_callbacks\n    }\n    console.debug(\"Bokeh: all callbacks have finished\");\n  }\n\n  function load_libs(css_urls, js_urls, callback) {\n    if (css_urls == null) css_urls = [];\n    if (js_urls == null) js_urls = [];\n\n    root._bokeh_onload_callbacks.push(callback);\n    if (root._bokeh_is_loading > 0) {\n      console.debug(\"Bokeh: BokehJS is being loaded, scheduling callback at\", now());\n      return null;\n    }\n    if (js_urls == null || js_urls.length === 0) {\n      run_callbacks();\n      return null;\n    }\n    console.debug(\"Bokeh: BokehJS not loaded, scheduling load and callback at\", now());\n    root._bokeh_is_loading = css_urls.length + js_urls.length;\n\n    function on_load() {\n      root._bokeh_is_loading--;\n      if (root._bokeh_is_loading === 0) {\n        console.debug(\"Bokeh: all BokehJS libraries/stylesheets loaded\");\n        run_callbacks()\n      }\n    }\n\n    function on_error(url) {\n      console.error(\"failed to load \" + url);\n    }\n\n    for (let i = 0; i < css_urls.length; i++) {\n      const url = css_urls[i];\n      const element = document.createElement(\"link\");\n      element.onload = on_load;\n      element.onerror = on_error.bind(null, url);\n      element.rel = \"stylesheet\";\n      element.type = \"text/css\";\n      element.href = url;\n      console.debug(\"Bokeh: injecting link tag for BokehJS stylesheet: \", url);\n      document.body.appendChild(element);\n    }\n\n    for (let i = 0; i < js_urls.length; i++) {\n      const url = js_urls[i];\n      const element = document.createElement('script');\n      element.onload = on_load;\n      element.onerror = on_error.bind(null, url);\n      element.async = false;\n      element.src = url;\n      console.debug(\"Bokeh: injecting script tag for BokehJS library: \", url);\n      document.head.appendChild(element);\n    }\n  };\n\n  function inject_raw_css(css) {\n    const element = document.createElement(\"style\");\n    element.appendChild(document.createTextNode(css));\n    document.body.appendChild(element);\n  }\n\n  const js_urls = [\"https://cdn.bokeh.org/bokeh/release/bokeh-3.3.4.min.js\", \"https://cdn.bokeh.org/bokeh/release/bokeh-gl-3.3.4.min.js\", \"https://cdn.bokeh.org/bokeh/release/bokeh-widgets-3.3.4.min.js\", \"https://cdn.bokeh.org/bokeh/release/bokeh-tables-3.3.4.min.js\", \"https://cdn.bokeh.org/bokeh/release/bokeh-mathjax-3.3.4.min.js\"];\n  const css_urls = [];\n\n  const inline_js = [    function(Bokeh) {\n      Bokeh.set_log_level(\"info\");\n    },\nfunction(Bokeh) {\n    }\n  ];\n\n  function run_inline_js() {\n    if (root.Bokeh !== undefined || force === true) {\n          for (let i = 0; i < inline_js.length; i++) {\n      inline_js[i].call(root, root.Bokeh);\n    }\n} else if (Date.now() < root._bokeh_timeout) {\n      setTimeout(run_inline_js, 100);\n    } else if (!root._bokeh_failed_load) {\n      console.log(\"Bokeh: BokehJS failed to load within specified timeout.\");\n      root._bokeh_failed_load = true;\n    } else if (force !== true) {\n      const cell = $(document.getElementById(null)).parents('.cell').data().cell;\n      cell.output_area.append_execute_result(NB_LOAD_WARNING)\n    }\n  }\n\n  if (root._bokeh_is_loading === 0) {\n    console.debug(\"Bokeh: BokehJS loaded, going straight to plotting\");\n    run_inline_js();\n  } else {\n    load_libs(css_urls, js_urls, function() {\n      console.debug(\"Bokeh: BokehJS plotting callback run at\", now());\n      run_inline_js();\n    });\n  }\n}(window));",
      "application/vnd.bokehjs_load.v0+json": ""
     },
     "metadata": {},
     "output_type": "display_data"
    },
    {
     "name": "stdout",
     "output_type": "stream",
     "text": [
      "                                 \r"
     ]
    },
    {
     "data": {
      "application/javascript": "(function(root) {\n  function now() {\n    return new Date();\n  }\n\n  const force = true;\n\n  if (typeof root._bokeh_onload_callbacks === \"undefined\" || force === true) {\n    root._bokeh_onload_callbacks = [];\n    root._bokeh_is_loading = undefined;\n  }\n\nconst JS_MIME_TYPE = 'application/javascript';\n  const HTML_MIME_TYPE = 'text/html';\n  const EXEC_MIME_TYPE = 'application/vnd.bokehjs_exec.v0+json';\n  const CLASS_NAME = 'output_bokeh rendered_html';\n\n  /**\n   * Render data to the DOM node\n   */\n  function render(props, node) {\n    const script = document.createElement(\"script\");\n    node.appendChild(script);\n  }\n\n  /**\n   * Handle when an output is cleared or removed\n   */\n  function handleClearOutput(event, handle) {\n    function drop(id) {\n      const view = Bokeh.index.get_by_id(id)\n      if (view != null) {\n        view.model.document.clear()\n        Bokeh.index.delete(view)\n      }\n    }\n\n    const cell = handle.cell;\n\n    const id = cell.output_area._bokeh_element_id;\n    const server_id = cell.output_area._bokeh_server_id;\n\n    // Clean up Bokeh references\n    if (id != null) {\n      drop(id)\n    }\n\n    if (server_id !== undefined) {\n      // Clean up Bokeh references\n      const cmd_clean = \"from bokeh.io.state import curstate; print(curstate().uuid_to_server['\" + server_id + \"'].get_sessions()[0].document.roots[0]._id)\";\n      cell.notebook.kernel.execute(cmd_clean, {\n        iopub: {\n          output: function(msg) {\n            const id = msg.content.text.trim()\n            drop(id)\n          }\n        }\n      });\n      // Destroy server and session\n      const cmd_destroy = \"import bokeh.io.notebook as ion; ion.destroy_server('\" + server_id + \"')\";\n      cell.notebook.kernel.execute(cmd_destroy);\n    }\n  }\n\n  /**\n   * Handle when a new output is added\n   */\n  function handleAddOutput(event, handle) {\n    const output_area = handle.output_area;\n    const output = handle.output;\n\n    // limit handleAddOutput to display_data with EXEC_MIME_TYPE content only\n    if ((output.output_type != \"display_data\") || (!Object.prototype.hasOwnProperty.call(output.data, EXEC_MIME_TYPE))) {\n      return\n    }\n\n    const toinsert = output_area.element.find(\".\" + CLASS_NAME.split(' ')[0]);\n\n    if (output.metadata[EXEC_MIME_TYPE][\"id\"] !== undefined) {\n      toinsert[toinsert.length - 1].firstChild.textContent = output.data[JS_MIME_TYPE];\n      // store reference to embed id on output_area\n      output_area._bokeh_element_id = output.metadata[EXEC_MIME_TYPE][\"id\"];\n    }\n    if (output.metadata[EXEC_MIME_TYPE][\"server_id\"] !== undefined) {\n      const bk_div = document.createElement(\"div\");\n      bk_div.innerHTML = output.data[HTML_MIME_TYPE];\n      const script_attrs = bk_div.children[0].attributes;\n      for (let i = 0; i < script_attrs.length; i++) {\n        toinsert[toinsert.length - 1].firstChild.setAttribute(script_attrs[i].name, script_attrs[i].value);\n        toinsert[toinsert.length - 1].firstChild.textContent = bk_div.children[0].textContent\n      }\n      // store reference to server id on output_area\n      output_area._bokeh_server_id = output.metadata[EXEC_MIME_TYPE][\"server_id\"];\n    }\n  }\n\n  function register_renderer(events, OutputArea) {\n\n    function append_mime(data, metadata, element) {\n      // create a DOM node to render to\n      const toinsert = this.create_output_subarea(\n        metadata,\n        CLASS_NAME,\n        EXEC_MIME_TYPE\n      );\n      this.keyboard_manager.register_events(toinsert);\n      // Render to node\n      const props = {data: data, metadata: metadata[EXEC_MIME_TYPE]};\n      render(props, toinsert[toinsert.length - 1]);\n      element.append(toinsert);\n      return toinsert\n    }\n\n    /* Handle when an output is cleared or removed */\n    events.on('clear_output.CodeCell', handleClearOutput);\n    events.on('delete.Cell', handleClearOutput);\n\n    /* Handle when a new output is added */\n    events.on('output_added.OutputArea', handleAddOutput);\n\n    /**\n     * Register the mime type and append_mime function with output_area\n     */\n    OutputArea.prototype.register_mime_type(EXEC_MIME_TYPE, append_mime, {\n      /* Is output safe? */\n      safe: true,\n      /* Index of renderer in `output_area.display_order` */\n      index: 0\n    });\n  }\n\n  // register the mime type if in Jupyter Notebook environment and previously unregistered\n  if (root.Jupyter !== undefined) {\n    const events = require('base/js/events');\n    const OutputArea = require('notebook/js/outputarea').OutputArea;\n\n    if (OutputArea.prototype.mime_types().indexOf(EXEC_MIME_TYPE) == -1) {\n      register_renderer(events, OutputArea);\n    }\n  }\n  if (typeof (root._bokeh_timeout) === \"undefined\" || force === true) {\n    root._bokeh_timeout = Date.now() + 5000;\n    root._bokeh_failed_load = false;\n  }\n\n  const NB_LOAD_WARNING = {'data': {'text/html':\n     \"<div style='background-color: #fdd'>\\n\"+\n     \"<p>\\n\"+\n     \"BokehJS does not appear to have successfully loaded. If loading BokehJS from CDN, this \\n\"+\n     \"may be due to a slow or bad network connection. Possible fixes:\\n\"+\n     \"</p>\\n\"+\n     \"<ul>\\n\"+\n     \"<li>re-rerun `output_notebook()` to attempt to load from CDN again, or</li>\\n\"+\n     \"<li>use INLINE resources instead, as so:</li>\\n\"+\n     \"</ul>\\n\"+\n     \"<code>\\n\"+\n     \"from bokeh.resources import INLINE\\n\"+\n     \"output_notebook(resources=INLINE)\\n\"+\n     \"</code>\\n\"+\n     \"</div>\"}};\n\n  function display_loaded() {\n    const el = document.getElementById(null);\n    if (el != null) {\n      el.textContent = \"BokehJS is loading...\";\n    }\n    if (root.Bokeh !== undefined) {\n      if (el != null) {\n        el.textContent = \"BokehJS \" + root.Bokeh.version + \" successfully loaded.\";\n      }\n    } else if (Date.now() < root._bokeh_timeout) {\n      setTimeout(display_loaded, 100)\n    }\n  }\n\n  function run_callbacks() {\n    try {\n      root._bokeh_onload_callbacks.forEach(function(callback) {\n        if (callback != null)\n          callback();\n      });\n    } finally {\n      delete root._bokeh_onload_callbacks\n    }\n    console.debug(\"Bokeh: all callbacks have finished\");\n  }\n\n  function load_libs(css_urls, js_urls, callback) {\n    if (css_urls == null) css_urls = [];\n    if (js_urls == null) js_urls = [];\n\n    root._bokeh_onload_callbacks.push(callback);\n    if (root._bokeh_is_loading > 0) {\n      console.debug(\"Bokeh: BokehJS is being loaded, scheduling callback at\", now());\n      return null;\n    }\n    if (js_urls == null || js_urls.length === 0) {\n      run_callbacks();\n      return null;\n    }\n    console.debug(\"Bokeh: BokehJS not loaded, scheduling load and callback at\", now());\n    root._bokeh_is_loading = css_urls.length + js_urls.length;\n\n    function on_load() {\n      root._bokeh_is_loading--;\n      if (root._bokeh_is_loading === 0) {\n        console.debug(\"Bokeh: all BokehJS libraries/stylesheets loaded\");\n        run_callbacks()\n      }\n    }\n\n    function on_error(url) {\n      console.error(\"failed to load \" + url);\n    }\n\n    for (let i = 0; i < css_urls.length; i++) {\n      const url = css_urls[i];\n      const element = document.createElement(\"link\");\n      element.onload = on_load;\n      element.onerror = on_error.bind(null, url);\n      element.rel = \"stylesheet\";\n      element.type = \"text/css\";\n      element.href = url;\n      console.debug(\"Bokeh: injecting link tag for BokehJS stylesheet: \", url);\n      document.body.appendChild(element);\n    }\n\n    for (let i = 0; i < js_urls.length; i++) {\n      const url = js_urls[i];\n      const element = document.createElement('script');\n      element.onload = on_load;\n      element.onerror = on_error.bind(null, url);\n      element.async = false;\n      element.src = url;\n      console.debug(\"Bokeh: injecting script tag for BokehJS library: \", url);\n      document.head.appendChild(element);\n    }\n  };\n\n  function inject_raw_css(css) {\n    const element = document.createElement(\"style\");\n    element.appendChild(document.createTextNode(css));\n    document.body.appendChild(element);\n  }\n\n  const js_urls = [\"https://cdn.bokeh.org/bokeh/release/bokeh-3.3.4.min.js\", \"https://cdn.bokeh.org/bokeh/release/bokeh-gl-3.3.4.min.js\", \"https://cdn.bokeh.org/bokeh/release/bokeh-widgets-3.3.4.min.js\", \"https://cdn.bokeh.org/bokeh/release/bokeh-tables-3.3.4.min.js\", \"https://cdn.bokeh.org/bokeh/release/bokeh-mathjax-3.3.4.min.js\"];\n  const css_urls = [];\n\n  const inline_js = [    function(Bokeh) {\n      Bokeh.set_log_level(\"info\");\n    },\nfunction(Bokeh) {\n    }\n  ];\n\n  function run_inline_js() {\n    if (root.Bokeh !== undefined || force === true) {\n          for (let i = 0; i < inline_js.length; i++) {\n      inline_js[i].call(root, root.Bokeh);\n    }\n} else if (Date.now() < root._bokeh_timeout) {\n      setTimeout(run_inline_js, 100);\n    } else if (!root._bokeh_failed_load) {\n      console.log(\"Bokeh: BokehJS failed to load within specified timeout.\");\n      root._bokeh_failed_load = true;\n    } else if (force !== true) {\n      const cell = $(document.getElementById(null)).parents('.cell').data().cell;\n      cell.output_area.append_execute_result(NB_LOAD_WARNING)\n    }\n  }\n\n  if (root._bokeh_is_loading === 0) {\n    console.debug(\"Bokeh: BokehJS loaded, going straight to plotting\");\n    run_inline_js();\n  } else {\n    load_libs(css_urls, js_urls, function() {\n      console.debug(\"Bokeh: BokehJS plotting callback run at\", now());\n      run_inline_js();\n    });\n  }\n}(window));",
      "application/vnd.bokehjs_load.v0+json": ""
     },
     "metadata": {},
     "output_type": "display_data"
    },
    {
     "name": "stdout",
     "output_type": "stream",
     "text": [
      "                                 \r"
     ]
    },
    {
     "data": {
      "application/javascript": "(function(root) {\n  function now() {\n    return new Date();\n  }\n\n  const force = true;\n\n  if (typeof root._bokeh_onload_callbacks === \"undefined\" || force === true) {\n    root._bokeh_onload_callbacks = [];\n    root._bokeh_is_loading = undefined;\n  }\n\nconst JS_MIME_TYPE = 'application/javascript';\n  const HTML_MIME_TYPE = 'text/html';\n  const EXEC_MIME_TYPE = 'application/vnd.bokehjs_exec.v0+json';\n  const CLASS_NAME = 'output_bokeh rendered_html';\n\n  /**\n   * Render data to the DOM node\n   */\n  function render(props, node) {\n    const script = document.createElement(\"script\");\n    node.appendChild(script);\n  }\n\n  /**\n   * Handle when an output is cleared or removed\n   */\n  function handleClearOutput(event, handle) {\n    function drop(id) {\n      const view = Bokeh.index.get_by_id(id)\n      if (view != null) {\n        view.model.document.clear()\n        Bokeh.index.delete(view)\n      }\n    }\n\n    const cell = handle.cell;\n\n    const id = cell.output_area._bokeh_element_id;\n    const server_id = cell.output_area._bokeh_server_id;\n\n    // Clean up Bokeh references\n    if (id != null) {\n      drop(id)\n    }\n\n    if (server_id !== undefined) {\n      // Clean up Bokeh references\n      const cmd_clean = \"from bokeh.io.state import curstate; print(curstate().uuid_to_server['\" + server_id + \"'].get_sessions()[0].document.roots[0]._id)\";\n      cell.notebook.kernel.execute(cmd_clean, {\n        iopub: {\n          output: function(msg) {\n            const id = msg.content.text.trim()\n            drop(id)\n          }\n        }\n      });\n      // Destroy server and session\n      const cmd_destroy = \"import bokeh.io.notebook as ion; ion.destroy_server('\" + server_id + \"')\";\n      cell.notebook.kernel.execute(cmd_destroy);\n    }\n  }\n\n  /**\n   * Handle when a new output is added\n   */\n  function handleAddOutput(event, handle) {\n    const output_area = handle.output_area;\n    const output = handle.output;\n\n    // limit handleAddOutput to display_data with EXEC_MIME_TYPE content only\n    if ((output.output_type != \"display_data\") || (!Object.prototype.hasOwnProperty.call(output.data, EXEC_MIME_TYPE))) {\n      return\n    }\n\n    const toinsert = output_area.element.find(\".\" + CLASS_NAME.split(' ')[0]);\n\n    if (output.metadata[EXEC_MIME_TYPE][\"id\"] !== undefined) {\n      toinsert[toinsert.length - 1].firstChild.textContent = output.data[JS_MIME_TYPE];\n      // store reference to embed id on output_area\n      output_area._bokeh_element_id = output.metadata[EXEC_MIME_TYPE][\"id\"];\n    }\n    if (output.metadata[EXEC_MIME_TYPE][\"server_id\"] !== undefined) {\n      const bk_div = document.createElement(\"div\");\n      bk_div.innerHTML = output.data[HTML_MIME_TYPE];\n      const script_attrs = bk_div.children[0].attributes;\n      for (let i = 0; i < script_attrs.length; i++) {\n        toinsert[toinsert.length - 1].firstChild.setAttribute(script_attrs[i].name, script_attrs[i].value);\n        toinsert[toinsert.length - 1].firstChild.textContent = bk_div.children[0].textContent\n      }\n      // store reference to server id on output_area\n      output_area._bokeh_server_id = output.metadata[EXEC_MIME_TYPE][\"server_id\"];\n    }\n  }\n\n  function register_renderer(events, OutputArea) {\n\n    function append_mime(data, metadata, element) {\n      // create a DOM node to render to\n      const toinsert = this.create_output_subarea(\n        metadata,\n        CLASS_NAME,\n        EXEC_MIME_TYPE\n      );\n      this.keyboard_manager.register_events(toinsert);\n      // Render to node\n      const props = {data: data, metadata: metadata[EXEC_MIME_TYPE]};\n      render(props, toinsert[toinsert.length - 1]);\n      element.append(toinsert);\n      return toinsert\n    }\n\n    /* Handle when an output is cleared or removed */\n    events.on('clear_output.CodeCell', handleClearOutput);\n    events.on('delete.Cell', handleClearOutput);\n\n    /* Handle when a new output is added */\n    events.on('output_added.OutputArea', handleAddOutput);\n\n    /**\n     * Register the mime type and append_mime function with output_area\n     */\n    OutputArea.prototype.register_mime_type(EXEC_MIME_TYPE, append_mime, {\n      /* Is output safe? */\n      safe: true,\n      /* Index of renderer in `output_area.display_order` */\n      index: 0\n    });\n  }\n\n  // register the mime type if in Jupyter Notebook environment and previously unregistered\n  if (root.Jupyter !== undefined) {\n    const events = require('base/js/events');\n    const OutputArea = require('notebook/js/outputarea').OutputArea;\n\n    if (OutputArea.prototype.mime_types().indexOf(EXEC_MIME_TYPE) == -1) {\n      register_renderer(events, OutputArea);\n    }\n  }\n  if (typeof (root._bokeh_timeout) === \"undefined\" || force === true) {\n    root._bokeh_timeout = Date.now() + 5000;\n    root._bokeh_failed_load = false;\n  }\n\n  const NB_LOAD_WARNING = {'data': {'text/html':\n     \"<div style='background-color: #fdd'>\\n\"+\n     \"<p>\\n\"+\n     \"BokehJS does not appear to have successfully loaded. If loading BokehJS from CDN, this \\n\"+\n     \"may be due to a slow or bad network connection. Possible fixes:\\n\"+\n     \"</p>\\n\"+\n     \"<ul>\\n\"+\n     \"<li>re-rerun `output_notebook()` to attempt to load from CDN again, or</li>\\n\"+\n     \"<li>use INLINE resources instead, as so:</li>\\n\"+\n     \"</ul>\\n\"+\n     \"<code>\\n\"+\n     \"from bokeh.resources import INLINE\\n\"+\n     \"output_notebook(resources=INLINE)\\n\"+\n     \"</code>\\n\"+\n     \"</div>\"}};\n\n  function display_loaded() {\n    const el = document.getElementById(null);\n    if (el != null) {\n      el.textContent = \"BokehJS is loading...\";\n    }\n    if (root.Bokeh !== undefined) {\n      if (el != null) {\n        el.textContent = \"BokehJS \" + root.Bokeh.version + \" successfully loaded.\";\n      }\n    } else if (Date.now() < root._bokeh_timeout) {\n      setTimeout(display_loaded, 100)\n    }\n  }\n\n  function run_callbacks() {\n    try {\n      root._bokeh_onload_callbacks.forEach(function(callback) {\n        if (callback != null)\n          callback();\n      });\n    } finally {\n      delete root._bokeh_onload_callbacks\n    }\n    console.debug(\"Bokeh: all callbacks have finished\");\n  }\n\n  function load_libs(css_urls, js_urls, callback) {\n    if (css_urls == null) css_urls = [];\n    if (js_urls == null) js_urls = [];\n\n    root._bokeh_onload_callbacks.push(callback);\n    if (root._bokeh_is_loading > 0) {\n      console.debug(\"Bokeh: BokehJS is being loaded, scheduling callback at\", now());\n      return null;\n    }\n    if (js_urls == null || js_urls.length === 0) {\n      run_callbacks();\n      return null;\n    }\n    console.debug(\"Bokeh: BokehJS not loaded, scheduling load and callback at\", now());\n    root._bokeh_is_loading = css_urls.length + js_urls.length;\n\n    function on_load() {\n      root._bokeh_is_loading--;\n      if (root._bokeh_is_loading === 0) {\n        console.debug(\"Bokeh: all BokehJS libraries/stylesheets loaded\");\n        run_callbacks()\n      }\n    }\n\n    function on_error(url) {\n      console.error(\"failed to load \" + url);\n    }\n\n    for (let i = 0; i < css_urls.length; i++) {\n      const url = css_urls[i];\n      const element = document.createElement(\"link\");\n      element.onload = on_load;\n      element.onerror = on_error.bind(null, url);\n      element.rel = \"stylesheet\";\n      element.type = \"text/css\";\n      element.href = url;\n      console.debug(\"Bokeh: injecting link tag for BokehJS stylesheet: \", url);\n      document.body.appendChild(element);\n    }\n\n    for (let i = 0; i < js_urls.length; i++) {\n      const url = js_urls[i];\n      const element = document.createElement('script');\n      element.onload = on_load;\n      element.onerror = on_error.bind(null, url);\n      element.async = false;\n      element.src = url;\n      console.debug(\"Bokeh: injecting script tag for BokehJS library: \", url);\n      document.head.appendChild(element);\n    }\n  };\n\n  function inject_raw_css(css) {\n    const element = document.createElement(\"style\");\n    element.appendChild(document.createTextNode(css));\n    document.body.appendChild(element);\n  }\n\n  const js_urls = [\"https://cdn.bokeh.org/bokeh/release/bokeh-3.3.4.min.js\", \"https://cdn.bokeh.org/bokeh/release/bokeh-gl-3.3.4.min.js\", \"https://cdn.bokeh.org/bokeh/release/bokeh-widgets-3.3.4.min.js\", \"https://cdn.bokeh.org/bokeh/release/bokeh-tables-3.3.4.min.js\", \"https://cdn.bokeh.org/bokeh/release/bokeh-mathjax-3.3.4.min.js\"];\n  const css_urls = [];\n\n  const inline_js = [    function(Bokeh) {\n      Bokeh.set_log_level(\"info\");\n    },\nfunction(Bokeh) {\n    }\n  ];\n\n  function run_inline_js() {\n    if (root.Bokeh !== undefined || force === true) {\n          for (let i = 0; i < inline_js.length; i++) {\n      inline_js[i].call(root, root.Bokeh);\n    }\n} else if (Date.now() < root._bokeh_timeout) {\n      setTimeout(run_inline_js, 100);\n    } else if (!root._bokeh_failed_load) {\n      console.log(\"Bokeh: BokehJS failed to load within specified timeout.\");\n      root._bokeh_failed_load = true;\n    } else if (force !== true) {\n      const cell = $(document.getElementById(null)).parents('.cell').data().cell;\n      cell.output_area.append_execute_result(NB_LOAD_WARNING)\n    }\n  }\n\n  if (root._bokeh_is_loading === 0) {\n    console.debug(\"Bokeh: BokehJS loaded, going straight to plotting\");\n    run_inline_js();\n  } else {\n    load_libs(css_urls, js_urls, function() {\n      console.debug(\"Bokeh: BokehJS plotting callback run at\", now());\n      run_inline_js();\n    });\n  }\n}(window));",
      "application/vnd.bokehjs_load.v0+json": ""
     },
     "metadata": {},
     "output_type": "display_data"
    },
    {
     "name": "stdout",
     "output_type": "stream",
     "text": [
      "                                 \r"
     ]
    },
    {
     "data": {
      "application/javascript": "(function(root) {\n  function now() {\n    return new Date();\n  }\n\n  const force = true;\n\n  if (typeof root._bokeh_onload_callbacks === \"undefined\" || force === true) {\n    root._bokeh_onload_callbacks = [];\n    root._bokeh_is_loading = undefined;\n  }\n\nconst JS_MIME_TYPE = 'application/javascript';\n  const HTML_MIME_TYPE = 'text/html';\n  const EXEC_MIME_TYPE = 'application/vnd.bokehjs_exec.v0+json';\n  const CLASS_NAME = 'output_bokeh rendered_html';\n\n  /**\n   * Render data to the DOM node\n   */\n  function render(props, node) {\n    const script = document.createElement(\"script\");\n    node.appendChild(script);\n  }\n\n  /**\n   * Handle when an output is cleared or removed\n   */\n  function handleClearOutput(event, handle) {\n    function drop(id) {\n      const view = Bokeh.index.get_by_id(id)\n      if (view != null) {\n        view.model.document.clear()\n        Bokeh.index.delete(view)\n      }\n    }\n\n    const cell = handle.cell;\n\n    const id = cell.output_area._bokeh_element_id;\n    const server_id = cell.output_area._bokeh_server_id;\n\n    // Clean up Bokeh references\n    if (id != null) {\n      drop(id)\n    }\n\n    if (server_id !== undefined) {\n      // Clean up Bokeh references\n      const cmd_clean = \"from bokeh.io.state import curstate; print(curstate().uuid_to_server['\" + server_id + \"'].get_sessions()[0].document.roots[0]._id)\";\n      cell.notebook.kernel.execute(cmd_clean, {\n        iopub: {\n          output: function(msg) {\n            const id = msg.content.text.trim()\n            drop(id)\n          }\n        }\n      });\n      // Destroy server and session\n      const cmd_destroy = \"import bokeh.io.notebook as ion; ion.destroy_server('\" + server_id + \"')\";\n      cell.notebook.kernel.execute(cmd_destroy);\n    }\n  }\n\n  /**\n   * Handle when a new output is added\n   */\n  function handleAddOutput(event, handle) {\n    const output_area = handle.output_area;\n    const output = handle.output;\n\n    // limit handleAddOutput to display_data with EXEC_MIME_TYPE content only\n    if ((output.output_type != \"display_data\") || (!Object.prototype.hasOwnProperty.call(output.data, EXEC_MIME_TYPE))) {\n      return\n    }\n\n    const toinsert = output_area.element.find(\".\" + CLASS_NAME.split(' ')[0]);\n\n    if (output.metadata[EXEC_MIME_TYPE][\"id\"] !== undefined) {\n      toinsert[toinsert.length - 1].firstChild.textContent = output.data[JS_MIME_TYPE];\n      // store reference to embed id on output_area\n      output_area._bokeh_element_id = output.metadata[EXEC_MIME_TYPE][\"id\"];\n    }\n    if (output.metadata[EXEC_MIME_TYPE][\"server_id\"] !== undefined) {\n      const bk_div = document.createElement(\"div\");\n      bk_div.innerHTML = output.data[HTML_MIME_TYPE];\n      const script_attrs = bk_div.children[0].attributes;\n      for (let i = 0; i < script_attrs.length; i++) {\n        toinsert[toinsert.length - 1].firstChild.setAttribute(script_attrs[i].name, script_attrs[i].value);\n        toinsert[toinsert.length - 1].firstChild.textContent = bk_div.children[0].textContent\n      }\n      // store reference to server id on output_area\n      output_area._bokeh_server_id = output.metadata[EXEC_MIME_TYPE][\"server_id\"];\n    }\n  }\n\n  function register_renderer(events, OutputArea) {\n\n    function append_mime(data, metadata, element) {\n      // create a DOM node to render to\n      const toinsert = this.create_output_subarea(\n        metadata,\n        CLASS_NAME,\n        EXEC_MIME_TYPE\n      );\n      this.keyboard_manager.register_events(toinsert);\n      // Render to node\n      const props = {data: data, metadata: metadata[EXEC_MIME_TYPE]};\n      render(props, toinsert[toinsert.length - 1]);\n      element.append(toinsert);\n      return toinsert\n    }\n\n    /* Handle when an output is cleared or removed */\n    events.on('clear_output.CodeCell', handleClearOutput);\n    events.on('delete.Cell', handleClearOutput);\n\n    /* Handle when a new output is added */\n    events.on('output_added.OutputArea', handleAddOutput);\n\n    /**\n     * Register the mime type and append_mime function with output_area\n     */\n    OutputArea.prototype.register_mime_type(EXEC_MIME_TYPE, append_mime, {\n      /* Is output safe? */\n      safe: true,\n      /* Index of renderer in `output_area.display_order` */\n      index: 0\n    });\n  }\n\n  // register the mime type if in Jupyter Notebook environment and previously unregistered\n  if (root.Jupyter !== undefined) {\n    const events = require('base/js/events');\n    const OutputArea = require('notebook/js/outputarea').OutputArea;\n\n    if (OutputArea.prototype.mime_types().indexOf(EXEC_MIME_TYPE) == -1) {\n      register_renderer(events, OutputArea);\n    }\n  }\n  if (typeof (root._bokeh_timeout) === \"undefined\" || force === true) {\n    root._bokeh_timeout = Date.now() + 5000;\n    root._bokeh_failed_load = false;\n  }\n\n  const NB_LOAD_WARNING = {'data': {'text/html':\n     \"<div style='background-color: #fdd'>\\n\"+\n     \"<p>\\n\"+\n     \"BokehJS does not appear to have successfully loaded. If loading BokehJS from CDN, this \\n\"+\n     \"may be due to a slow or bad network connection. Possible fixes:\\n\"+\n     \"</p>\\n\"+\n     \"<ul>\\n\"+\n     \"<li>re-rerun `output_notebook()` to attempt to load from CDN again, or</li>\\n\"+\n     \"<li>use INLINE resources instead, as so:</li>\\n\"+\n     \"</ul>\\n\"+\n     \"<code>\\n\"+\n     \"from bokeh.resources import INLINE\\n\"+\n     \"output_notebook(resources=INLINE)\\n\"+\n     \"</code>\\n\"+\n     \"</div>\"}};\n\n  function display_loaded() {\n    const el = document.getElementById(null);\n    if (el != null) {\n      el.textContent = \"BokehJS is loading...\";\n    }\n    if (root.Bokeh !== undefined) {\n      if (el != null) {\n        el.textContent = \"BokehJS \" + root.Bokeh.version + \" successfully loaded.\";\n      }\n    } else if (Date.now() < root._bokeh_timeout) {\n      setTimeout(display_loaded, 100)\n    }\n  }\n\n  function run_callbacks() {\n    try {\n      root._bokeh_onload_callbacks.forEach(function(callback) {\n        if (callback != null)\n          callback();\n      });\n    } finally {\n      delete root._bokeh_onload_callbacks\n    }\n    console.debug(\"Bokeh: all callbacks have finished\");\n  }\n\n  function load_libs(css_urls, js_urls, callback) {\n    if (css_urls == null) css_urls = [];\n    if (js_urls == null) js_urls = [];\n\n    root._bokeh_onload_callbacks.push(callback);\n    if (root._bokeh_is_loading > 0) {\n      console.debug(\"Bokeh: BokehJS is being loaded, scheduling callback at\", now());\n      return null;\n    }\n    if (js_urls == null || js_urls.length === 0) {\n      run_callbacks();\n      return null;\n    }\n    console.debug(\"Bokeh: BokehJS not loaded, scheduling load and callback at\", now());\n    root._bokeh_is_loading = css_urls.length + js_urls.length;\n\n    function on_load() {\n      root._bokeh_is_loading--;\n      if (root._bokeh_is_loading === 0) {\n        console.debug(\"Bokeh: all BokehJS libraries/stylesheets loaded\");\n        run_callbacks()\n      }\n    }\n\n    function on_error(url) {\n      console.error(\"failed to load \" + url);\n    }\n\n    for (let i = 0; i < css_urls.length; i++) {\n      const url = css_urls[i];\n      const element = document.createElement(\"link\");\n      element.onload = on_load;\n      element.onerror = on_error.bind(null, url);\n      element.rel = \"stylesheet\";\n      element.type = \"text/css\";\n      element.href = url;\n      console.debug(\"Bokeh: injecting link tag for BokehJS stylesheet: \", url);\n      document.body.appendChild(element);\n    }\n\n    for (let i = 0; i < js_urls.length; i++) {\n      const url = js_urls[i];\n      const element = document.createElement('script');\n      element.onload = on_load;\n      element.onerror = on_error.bind(null, url);\n      element.async = false;\n      element.src = url;\n      console.debug(\"Bokeh: injecting script tag for BokehJS library: \", url);\n      document.head.appendChild(element);\n    }\n  };\n\n  function inject_raw_css(css) {\n    const element = document.createElement(\"style\");\n    element.appendChild(document.createTextNode(css));\n    document.body.appendChild(element);\n  }\n\n  const js_urls = [\"https://cdn.bokeh.org/bokeh/release/bokeh-3.3.4.min.js\", \"https://cdn.bokeh.org/bokeh/release/bokeh-gl-3.3.4.min.js\", \"https://cdn.bokeh.org/bokeh/release/bokeh-widgets-3.3.4.min.js\", \"https://cdn.bokeh.org/bokeh/release/bokeh-tables-3.3.4.min.js\", \"https://cdn.bokeh.org/bokeh/release/bokeh-mathjax-3.3.4.min.js\"];\n  const css_urls = [];\n\n  const inline_js = [    function(Bokeh) {\n      Bokeh.set_log_level(\"info\");\n    },\nfunction(Bokeh) {\n    }\n  ];\n\n  function run_inline_js() {\n    if (root.Bokeh !== undefined || force === true) {\n          for (let i = 0; i < inline_js.length; i++) {\n      inline_js[i].call(root, root.Bokeh);\n    }\n} else if (Date.now() < root._bokeh_timeout) {\n      setTimeout(run_inline_js, 100);\n    } else if (!root._bokeh_failed_load) {\n      console.log(\"Bokeh: BokehJS failed to load within specified timeout.\");\n      root._bokeh_failed_load = true;\n    } else if (force !== true) {\n      const cell = $(document.getElementById(null)).parents('.cell').data().cell;\n      cell.output_area.append_execute_result(NB_LOAD_WARNING)\n    }\n  }\n\n  if (root._bokeh_is_loading === 0) {\n    console.debug(\"Bokeh: BokehJS loaded, going straight to plotting\");\n    run_inline_js();\n  } else {\n    load_libs(css_urls, js_urls, function() {\n      console.debug(\"Bokeh: BokehJS plotting callback run at\", now());\n      run_inline_js();\n    });\n  }\n}(window));",
      "application/vnd.bokehjs_load.v0+json": ""
     },
     "metadata": {},
     "output_type": "display_data"
    },
    {
     "name": "stdout",
     "output_type": "stream",
     "text": [
      "                                 \r"
     ]
    },
    {
     "data": {
      "application/javascript": "(function(root) {\n  function now() {\n    return new Date();\n  }\n\n  const force = true;\n\n  if (typeof root._bokeh_onload_callbacks === \"undefined\" || force === true) {\n    root._bokeh_onload_callbacks = [];\n    root._bokeh_is_loading = undefined;\n  }\n\nconst JS_MIME_TYPE = 'application/javascript';\n  const HTML_MIME_TYPE = 'text/html';\n  const EXEC_MIME_TYPE = 'application/vnd.bokehjs_exec.v0+json';\n  const CLASS_NAME = 'output_bokeh rendered_html';\n\n  /**\n   * Render data to the DOM node\n   */\n  function render(props, node) {\n    const script = document.createElement(\"script\");\n    node.appendChild(script);\n  }\n\n  /**\n   * Handle when an output is cleared or removed\n   */\n  function handleClearOutput(event, handle) {\n    function drop(id) {\n      const view = Bokeh.index.get_by_id(id)\n      if (view != null) {\n        view.model.document.clear()\n        Bokeh.index.delete(view)\n      }\n    }\n\n    const cell = handle.cell;\n\n    const id = cell.output_area._bokeh_element_id;\n    const server_id = cell.output_area._bokeh_server_id;\n\n    // Clean up Bokeh references\n    if (id != null) {\n      drop(id)\n    }\n\n    if (server_id !== undefined) {\n      // Clean up Bokeh references\n      const cmd_clean = \"from bokeh.io.state import curstate; print(curstate().uuid_to_server['\" + server_id + \"'].get_sessions()[0].document.roots[0]._id)\";\n      cell.notebook.kernel.execute(cmd_clean, {\n        iopub: {\n          output: function(msg) {\n            const id = msg.content.text.trim()\n            drop(id)\n          }\n        }\n      });\n      // Destroy server and session\n      const cmd_destroy = \"import bokeh.io.notebook as ion; ion.destroy_server('\" + server_id + \"')\";\n      cell.notebook.kernel.execute(cmd_destroy);\n    }\n  }\n\n  /**\n   * Handle when a new output is added\n   */\n  function handleAddOutput(event, handle) {\n    const output_area = handle.output_area;\n    const output = handle.output;\n\n    // limit handleAddOutput to display_data with EXEC_MIME_TYPE content only\n    if ((output.output_type != \"display_data\") || (!Object.prototype.hasOwnProperty.call(output.data, EXEC_MIME_TYPE))) {\n      return\n    }\n\n    const toinsert = output_area.element.find(\".\" + CLASS_NAME.split(' ')[0]);\n\n    if (output.metadata[EXEC_MIME_TYPE][\"id\"] !== undefined) {\n      toinsert[toinsert.length - 1].firstChild.textContent = output.data[JS_MIME_TYPE];\n      // store reference to embed id on output_area\n      output_area._bokeh_element_id = output.metadata[EXEC_MIME_TYPE][\"id\"];\n    }\n    if (output.metadata[EXEC_MIME_TYPE][\"server_id\"] !== undefined) {\n      const bk_div = document.createElement(\"div\");\n      bk_div.innerHTML = output.data[HTML_MIME_TYPE];\n      const script_attrs = bk_div.children[0].attributes;\n      for (let i = 0; i < script_attrs.length; i++) {\n        toinsert[toinsert.length - 1].firstChild.setAttribute(script_attrs[i].name, script_attrs[i].value);\n        toinsert[toinsert.length - 1].firstChild.textContent = bk_div.children[0].textContent\n      }\n      // store reference to server id on output_area\n      output_area._bokeh_server_id = output.metadata[EXEC_MIME_TYPE][\"server_id\"];\n    }\n  }\n\n  function register_renderer(events, OutputArea) {\n\n    function append_mime(data, metadata, element) {\n      // create a DOM node to render to\n      const toinsert = this.create_output_subarea(\n        metadata,\n        CLASS_NAME,\n        EXEC_MIME_TYPE\n      );\n      this.keyboard_manager.register_events(toinsert);\n      // Render to node\n      const props = {data: data, metadata: metadata[EXEC_MIME_TYPE]};\n      render(props, toinsert[toinsert.length - 1]);\n      element.append(toinsert);\n      return toinsert\n    }\n\n    /* Handle when an output is cleared or removed */\n    events.on('clear_output.CodeCell', handleClearOutput);\n    events.on('delete.Cell', handleClearOutput);\n\n    /* Handle when a new output is added */\n    events.on('output_added.OutputArea', handleAddOutput);\n\n    /**\n     * Register the mime type and append_mime function with output_area\n     */\n    OutputArea.prototype.register_mime_type(EXEC_MIME_TYPE, append_mime, {\n      /* Is output safe? */\n      safe: true,\n      /* Index of renderer in `output_area.display_order` */\n      index: 0\n    });\n  }\n\n  // register the mime type if in Jupyter Notebook environment and previously unregistered\n  if (root.Jupyter !== undefined) {\n    const events = require('base/js/events');\n    const OutputArea = require('notebook/js/outputarea').OutputArea;\n\n    if (OutputArea.prototype.mime_types().indexOf(EXEC_MIME_TYPE) == -1) {\n      register_renderer(events, OutputArea);\n    }\n  }\n  if (typeof (root._bokeh_timeout) === \"undefined\" || force === true) {\n    root._bokeh_timeout = Date.now() + 5000;\n    root._bokeh_failed_load = false;\n  }\n\n  const NB_LOAD_WARNING = {'data': {'text/html':\n     \"<div style='background-color: #fdd'>\\n\"+\n     \"<p>\\n\"+\n     \"BokehJS does not appear to have successfully loaded. If loading BokehJS from CDN, this \\n\"+\n     \"may be due to a slow or bad network connection. Possible fixes:\\n\"+\n     \"</p>\\n\"+\n     \"<ul>\\n\"+\n     \"<li>re-rerun `output_notebook()` to attempt to load from CDN again, or</li>\\n\"+\n     \"<li>use INLINE resources instead, as so:</li>\\n\"+\n     \"</ul>\\n\"+\n     \"<code>\\n\"+\n     \"from bokeh.resources import INLINE\\n\"+\n     \"output_notebook(resources=INLINE)\\n\"+\n     \"</code>\\n\"+\n     \"</div>\"}};\n\n  function display_loaded() {\n    const el = document.getElementById(null);\n    if (el != null) {\n      el.textContent = \"BokehJS is loading...\";\n    }\n    if (root.Bokeh !== undefined) {\n      if (el != null) {\n        el.textContent = \"BokehJS \" + root.Bokeh.version + \" successfully loaded.\";\n      }\n    } else if (Date.now() < root._bokeh_timeout) {\n      setTimeout(display_loaded, 100)\n    }\n  }\n\n  function run_callbacks() {\n    try {\n      root._bokeh_onload_callbacks.forEach(function(callback) {\n        if (callback != null)\n          callback();\n      });\n    } finally {\n      delete root._bokeh_onload_callbacks\n    }\n    console.debug(\"Bokeh: all callbacks have finished\");\n  }\n\n  function load_libs(css_urls, js_urls, callback) {\n    if (css_urls == null) css_urls = [];\n    if (js_urls == null) js_urls = [];\n\n    root._bokeh_onload_callbacks.push(callback);\n    if (root._bokeh_is_loading > 0) {\n      console.debug(\"Bokeh: BokehJS is being loaded, scheduling callback at\", now());\n      return null;\n    }\n    if (js_urls == null || js_urls.length === 0) {\n      run_callbacks();\n      return null;\n    }\n    console.debug(\"Bokeh: BokehJS not loaded, scheduling load and callback at\", now());\n    root._bokeh_is_loading = css_urls.length + js_urls.length;\n\n    function on_load() {\n      root._bokeh_is_loading--;\n      if (root._bokeh_is_loading === 0) {\n        console.debug(\"Bokeh: all BokehJS libraries/stylesheets loaded\");\n        run_callbacks()\n      }\n    }\n\n    function on_error(url) {\n      console.error(\"failed to load \" + url);\n    }\n\n    for (let i = 0; i < css_urls.length; i++) {\n      const url = css_urls[i];\n      const element = document.createElement(\"link\");\n      element.onload = on_load;\n      element.onerror = on_error.bind(null, url);\n      element.rel = \"stylesheet\";\n      element.type = \"text/css\";\n      element.href = url;\n      console.debug(\"Bokeh: injecting link tag for BokehJS stylesheet: \", url);\n      document.body.appendChild(element);\n    }\n\n    for (let i = 0; i < js_urls.length; i++) {\n      const url = js_urls[i];\n      const element = document.createElement('script');\n      element.onload = on_load;\n      element.onerror = on_error.bind(null, url);\n      element.async = false;\n      element.src = url;\n      console.debug(\"Bokeh: injecting script tag for BokehJS library: \", url);\n      document.head.appendChild(element);\n    }\n  };\n\n  function inject_raw_css(css) {\n    const element = document.createElement(\"style\");\n    element.appendChild(document.createTextNode(css));\n    document.body.appendChild(element);\n  }\n\n  const js_urls = [\"https://cdn.bokeh.org/bokeh/release/bokeh-3.3.4.min.js\", \"https://cdn.bokeh.org/bokeh/release/bokeh-gl-3.3.4.min.js\", \"https://cdn.bokeh.org/bokeh/release/bokeh-widgets-3.3.4.min.js\", \"https://cdn.bokeh.org/bokeh/release/bokeh-tables-3.3.4.min.js\", \"https://cdn.bokeh.org/bokeh/release/bokeh-mathjax-3.3.4.min.js\"];\n  const css_urls = [];\n\n  const inline_js = [    function(Bokeh) {\n      Bokeh.set_log_level(\"info\");\n    },\nfunction(Bokeh) {\n    }\n  ];\n\n  function run_inline_js() {\n    if (root.Bokeh !== undefined || force === true) {\n          for (let i = 0; i < inline_js.length; i++) {\n      inline_js[i].call(root, root.Bokeh);\n    }\n} else if (Date.now() < root._bokeh_timeout) {\n      setTimeout(run_inline_js, 100);\n    } else if (!root._bokeh_failed_load) {\n      console.log(\"Bokeh: BokehJS failed to load within specified timeout.\");\n      root._bokeh_failed_load = true;\n    } else if (force !== true) {\n      const cell = $(document.getElementById(null)).parents('.cell').data().cell;\n      cell.output_area.append_execute_result(NB_LOAD_WARNING)\n    }\n  }\n\n  if (root._bokeh_is_loading === 0) {\n    console.debug(\"Bokeh: BokehJS loaded, going straight to plotting\");\n    run_inline_js();\n  } else {\n    load_libs(css_urls, js_urls, function() {\n      console.debug(\"Bokeh: BokehJS plotting callback run at\", now());\n      run_inline_js();\n    });\n  }\n}(window));",
      "application/vnd.bokehjs_load.v0+json": ""
     },
     "metadata": {},
     "output_type": "display_data"
    },
    {
     "name": "stdout",
     "output_type": "stream",
     "text": [
      "                                 \r"
     ]
    },
    {
     "data": {
      "application/vnd.plotly.v1+json": {
       "config": {
        "plotlyServerURL": "https://plot.ly"
       },
       "data": [
        {
         "customdata": [
          [
           0,
           0,
           0,
           1,
           "T_3492051"
          ],
          [
           0,
           1,
           0,
           0,
           "C_3492052"
          ],
          [
           1,
           0,
           0,
           0,
           "A_3492053"
          ],
          [
           0,
           0,
           0,
           1,
           "T_3492054"
          ],
          [
           0,
           0,
           1,
           0,
           "G_3492055"
          ],
          [
           0,
           1,
           0,
           0,
           "C_3492056"
          ],
          [
           0,
           0,
           0,
           1,
           "T_3492057"
          ],
          [
           0,
           0,
           1,
           0,
           "G_3492058"
          ],
          [
           0,
           0,
           0,
           1,
           "T_3492059"
          ],
          [
           0,
           0,
           1,
           0,
           "G_3492060"
          ],
          [
           0,
           0,
           1,
           0,
           "G_3492061"
          ],
          [
           1,
           0,
           0,
           0,
           "A_3492062"
          ],
          [
           0,
           0,
           0,
           1,
           "T_3492063"
          ],
          [
           0,
           0.99,
           0,
           0.01,
           "C_3492064"
          ],
          [
           0,
           0,
           0,
           1,
           "T_3492065"
          ],
          [
           0,
           0,
           0,
           1,
           "T_3492066"
          ],
          [
           0,
           0.99,
           0,
           0.01,
           "C_3492067"
          ],
          [
           0,
           0,
           1,
           0,
           "G_3492068"
          ],
          [
           0,
           0,
           1,
           0,
           "G_3492069"
          ],
          [
           0,
           1,
           0,
           0,
           "C_3492070"
          ]
         ],
         "hovertemplate": "Base / Position: %{customdata[4]}<br>Total Alternate freq: %{y}<br>A_freq: %{customdata[0]}<br>C_freq: %{customdata[1]}<br>G_freq: %{customdata[2]}<br>T_freq: %{customdata[3]}",
         "marker": {
          "color": [
           -1,
           1,
           -1,
           -1,
           -1,
           -1,
           -1,
           -1,
           -1,
           -1,
           -1,
           -1,
           -1,
           1,
           -1,
           -1,
           1,
           -1,
           -1,
           1
          ],
          "colorscale": [
           [
            0,
            "lightgray"
           ],
           [
            0.5,
            "lightgray"
           ],
           [
            1,
            "dodgerblue"
           ]
          ],
          "line": {
           "color": "black",
           "width": 2
          },
          "size": 14,
          "symbol": "circle"
         },
         "mode": "markers",
         "type": "scatter",
         "x": [
          "T_3492051",
          "C_3492052",
          "A_3492053",
          "T_3492054",
          "G_3492055",
          "C_3492056",
          "T_3492057",
          "G_3492058",
          "T_3492059",
          "G_3492060",
          "G_3492061",
          "A_3492062",
          "T_3492063",
          "C_3492064",
          "T_3492065",
          "T_3492066",
          "C_3492067",
          "G_3492068",
          "G_3492069",
          "C_3492070"
         ],
         "xaxis": "x",
         "y": [
          0,
          0.003067484662576687,
          0,
          0,
          0,
          0,
          0,
          0,
          0,
          0,
          0,
          0,
          0,
          0.006134969325153374,
          0,
          0,
          0.013803680981595092,
          0,
          0,
          0.0015337423312883436
         ],
         "yaxis": "y"
        },
        {
         "customdata": [
          [
           0,
           0,
           1,
           0,
           "G_3492047"
          ],
          [
           0,
           1,
           0,
           0,
           "C_3492048"
          ],
          [
           0,
           1,
           0,
           0,
           "C_3492049"
          ],
          [
           0,
           0,
           1,
           0,
           "G_3492050"
          ],
          [
           0,
           0,
           0,
           1,
           "T_3492051"
          ],
          [
           0,
           1,
           0,
           0,
           "C_3492052"
          ],
          [
           1,
           0,
           0,
           0,
           "A_3492053"
          ],
          [
           0,
           0,
           0,
           1,
           "T_3492054"
          ],
          [
           0,
           0,
           1,
           0,
           "G_3492055"
          ],
          [
           0,
           1,
           0,
           0,
           "C_3492056"
          ],
          [
           0,
           0,
           0,
           1,
           "T_3492057"
          ],
          [
           0,
           0,
           1,
           0,
           "G_3492058"
          ],
          [
           0,
           0,
           0,
           1,
           "T_3492059"
          ],
          [
           0,
           0,
           1,
           0,
           "G_3492060"
          ],
          [
           0,
           0,
           1,
           0,
           "G_3492061"
          ],
          [
           1,
           0,
           0,
           0,
           "A_3492062"
          ],
          [
           0,
           0,
           0,
           1,
           "T_3492063"
          ],
          [
           0,
           0.99,
           0,
           0.01,
           "C_3492064"
          ],
          [
           0,
           0,
           0,
           1,
           "T_3492065"
          ],
          [
           0,
           0,
           0,
           1,
           "T_3492066"
          ]
         ],
         "hovertemplate": "Base / Position: %{customdata[4]}<br>Total Alternate freq: %{y}<br>A_freq: %{customdata[0]}<br>C_freq: %{customdata[1]}<br>G_freq: %{customdata[2]}<br>T_freq: %{customdata[3]}",
         "marker": {
          "color": [
           -1,
           -1,
           1,
           1,
           -1,
           1,
           -1,
           -1,
           -1,
           -1,
           -1,
           -1,
           -1,
           -1,
           -1,
           -1,
           -1,
           1,
           -1,
           -1
          ],
          "colorscale": [
           [
            0,
            "lightgray"
           ],
           [
            0.5,
            "lightgray"
           ],
           [
            1,
            "dodgerblue"
           ]
          ],
          "line": {
           "color": "black",
           "width": 2
          },
          "size": 14,
          "symbol": "circle"
         },
         "mode": "markers",
         "type": "scatter",
         "x": [
          "G_3492047",
          "C_3492048",
          "C_3492049",
          "G_3492050",
          "T_3492051",
          "C_3492052",
          "A_3492053",
          "T_3492054",
          "G_3492055",
          "C_3492056",
          "T_3492057",
          "G_3492058",
          "T_3492059",
          "G_3492060",
          "G_3492061",
          "A_3492062",
          "T_3492063",
          "C_3492064",
          "T_3492065",
          "T_3492066"
         ],
         "xaxis": "x4",
         "y": [
          0,
          0,
          0.0015337423312883436,
          0.0015337423312883436,
          0,
          0.003067484662576687,
          0,
          0,
          0,
          0,
          0,
          0,
          0,
          0,
          0,
          0,
          0,
          0.006134969325153374,
          0,
          0
         ],
         "yaxis": "y4"
        },
        {
         "customdata": [
          [
           0,
           1,
           0,
           0,
           "C_3492037"
          ],
          [
           1,
           0,
           0,
           0,
           "A_3492038"
          ],
          [
           1,
           0,
           0,
           0,
           "A_3492039"
          ],
          [
           0,
           0,
           1,
           0,
           "G_3492040"
          ],
          [
           1,
           0,
           0,
           0,
           "A_3492041"
          ],
          [
           1,
           0,
           0,
           0,
           "A_3492042"
          ],
          [
           0,
           0,
           0,
           1,
           "T_3492043"
          ],
          [
           0,
           0,
           1,
           0,
           "G_3492044"
          ],
          [
           0,
           1,
           0,
           0,
           "C_3492045"
          ],
          [
           0,
           0,
           0.99,
           0,
           "G_3492046"
          ],
          [
           0,
           0,
           1,
           0,
           "G_3492047"
          ],
          [
           0,
           1,
           0,
           0,
           "C_3492048"
          ],
          [
           0,
           1,
           0,
           0,
           "C_3492049"
          ],
          [
           0,
           0,
           1,
           0,
           "G_3492050"
          ],
          [
           0,
           0,
           0,
           1,
           "T_3492051"
          ],
          [
           0,
           1,
           0,
           0,
           "C_3492052"
          ],
          [
           1,
           0,
           0,
           0,
           "A_3492053"
          ],
          [
           0,
           0,
           0,
           1,
           "T_3492054"
          ],
          [
           0,
           0,
           1,
           0,
           "G_3492055"
          ]
         ],
         "hovertemplate": "Base / Position: %{customdata[4]}<br>Total Alternate freq: %{y}<br>A_freq: %{customdata[0]}<br>C_freq: %{customdata[1]}<br>G_freq: %{customdata[2]}<br>T_freq: %{customdata[3]}",
         "marker": {
          "color": [
           1,
           -1,
           -1,
           1,
           -1,
           -1,
           1,
           -1,
           -1,
           1,
           -1,
           -1,
           1,
           1,
           -1,
           1,
           -1,
           -1,
           -1
          ],
          "colorscale": [
           [
            0,
            "lightgray"
           ],
           [
            0.5,
            "lightgray"
           ],
           [
            1,
            "dodgerblue"
           ]
          ],
          "line": {
           "color": "black",
           "width": 2
          },
          "size": 14,
          "symbol": "circle"
         },
         "mode": "markers",
         "type": "scatter",
         "x": [
          "C_3492037",
          "A_3492038",
          "A_3492039",
          "G_3492040",
          "A_3492041",
          "A_3492042",
          "T_3492043",
          "G_3492044",
          "C_3492045",
          "G_3492046",
          "G_3492047",
          "C_3492048",
          "C_3492049",
          "G_3492050",
          "T_3492051",
          "C_3492052",
          "A_3492053",
          "T_3492054",
          "G_3492055"
         ],
         "xaxis": "x7",
         "y": [
          0.004601226993865031,
          0,
          0,
          0.003067484662576687,
          0,
          0,
          0.0015337423312883436,
          0,
          0,
          0.006134969325153374,
          0,
          0,
          0.0015337423312883436,
          0.0015337423312883436,
          0,
          0.003067484662576687,
          0,
          0,
          0
         ],
         "yaxis": "y7"
        },
        {
         "customdata": [
          [
           1,
           0,
           0,
           0,
           "A_3492006"
          ],
          [
           0,
           1,
           0,
           0,
           "C_3492007"
          ],
          [
           1,
           0,
           0,
           0,
           "A_3492008"
          ],
          [
           0,
           0,
           0,
           1,
           "T_3492009"
          ],
          [
           0,
           0,
           0,
           1,
           "T_3492010"
          ],
          [
           1,
           0,
           0,
           0,
           "A_3492011"
          ],
          [
           1,
           0,
           0,
           0,
           "A_3492012"
          ],
          [
           0,
           1,
           0,
           0,
           "C_3492013"
          ],
          [
           0,
           0,
           1,
           0,
           "G_3492014"
          ],
          [
           0,
           0,
           0,
           1,
           "T_3492015"
          ],
          [
           0,
           0,
           1,
           0,
           "G_3492016"
          ],
          [
           0,
           0,
           1,
           0,
           "G_3492017"
          ],
          [
           0,
           0,
           0,
           1,
           "T_3492018"
          ],
          [
           0,
           0,
           1,
           0,
           "G_3492019"
          ],
          [
           0,
           0,
           1,
           0,
           "G_3492020"
          ],
          [
           0,
           1,
           0,
           0,
           "C_3492021"
          ],
          [
           1,
           0,
           0,
           0,
           "A_3492022"
          ],
          [
           0,
           1,
           0,
           0,
           "C_3492023"
          ],
          [
           0,
           1,
           0,
           0,
           "C_3492024"
          ],
          [
           0,
           0,
           1,
           0,
           "G_3492025"
          ]
         ],
         "hovertemplate": "Base / Position: %{customdata[4]}<br>Total Alternate freq: %{y}<br>A_freq: %{customdata[0]}<br>C_freq: %{customdata[1]}<br>G_freq: %{customdata[2]}<br>T_freq: %{customdata[3]}",
         "marker": {
          "color": [
           -1,
           -1,
           -1,
           -1,
           -1,
           -1,
           -1,
           -1,
           -1,
           -1,
           -1,
           -1,
           -1,
           1,
           -1,
           -1,
           -1,
           -1,
           -1,
           1
          ],
          "colorscale": [
           [
            0,
            "lightgray"
           ],
           [
            0.5,
            "lightgray"
           ],
           [
            1,
            "dodgerblue"
           ]
          ],
          "line": {
           "color": "black",
           "width": 2
          },
          "size": 14,
          "symbol": "circle"
         },
         "mode": "markers",
         "type": "scatter",
         "x": [
          "A_3492006",
          "C_3492007",
          "A_3492008",
          "T_3492009",
          "T_3492010",
          "A_3492011",
          "A_3492012",
          "C_3492013",
          "G_3492014",
          "T_3492015",
          "G_3492016",
          "G_3492017",
          "T_3492018",
          "G_3492019",
          "G_3492020",
          "C_3492021",
          "A_3492022",
          "C_3492023",
          "C_3492024",
          "G_3492025"
         ],
         "xaxis": "x10",
         "y": [
          0,
          0,
          0,
          0,
          0,
          0,
          0,
          0,
          0,
          0,
          0,
          0,
          0,
          0.004601226993865031,
          0,
          0,
          0,
          0,
          0,
          0.0015337423312883436
         ],
         "yaxis": "y10"
        },
        {
         "customdata": [
          [
           0,
           0,
           0,
           1,
           "T_3492001"
          ],
          [
           0,
           1,
           0,
           0,
           "C_3492002"
          ],
          [
           0,
           0,
           0,
           1,
           "T_3492003"
          ],
          [
           0,
           0,
           1,
           0,
           "G_3492004"
          ],
          [
           0,
           0,
           0,
           1,
           "T_3492005"
          ],
          [
           1,
           0,
           0,
           0,
           "A_3492006"
          ],
          [
           0,
           1,
           0,
           0,
           "C_3492007"
          ],
          [
           1,
           0,
           0,
           0,
           "A_3492008"
          ],
          [
           0,
           0,
           0,
           1,
           "T_3492009"
          ],
          [
           0,
           0,
           0,
           1,
           "T_3492010"
          ],
          [
           1,
           0,
           0,
           0,
           "A_3492011"
          ],
          [
           1,
           0,
           0,
           0,
           "A_3492012"
          ],
          [
           0,
           1,
           0,
           0,
           "C_3492013"
          ],
          [
           0,
           0,
           1,
           0,
           "G_3492014"
          ],
          [
           0,
           0,
           0,
           1,
           "T_3492015"
          ],
          [
           0,
           0,
           1,
           0,
           "G_3492016"
          ],
          [
           0,
           0,
           1,
           0,
           "G_3492017"
          ],
          [
           0,
           0,
           0,
           1,
           "T_3492018"
          ],
          [
           0,
           0,
           1,
           0,
           "G_3492019"
          ],
          [
           0,
           0,
           1,
           0,
           "G_3492020"
          ],
          [
           0,
           1,
           0,
           0,
           "C_3492021"
          ],
          [
           1,
           0,
           0,
           0,
           "A_3492022"
          ]
         ],
         "hovertemplate": "Base / Position: %{customdata[4]}<br>Total Alternate freq: %{y}<br>A_freq: %{customdata[0]}<br>C_freq: %{customdata[1]}<br>G_freq: %{customdata[2]}<br>T_freq: %{customdata[3]}",
         "marker": {
          "color": [
           -1,
           1,
           -1,
           -1,
           -1,
           -1,
           -1,
           -1,
           -1,
           -1,
           -1,
           -1,
           -1,
           -1,
           -1,
           -1,
           -1,
           -1,
           1,
           -1,
           -1,
           -1
          ],
          "colorscale": [
           [
            0,
            "lightgray"
           ],
           [
            0.5,
            "lightgray"
           ],
           [
            1,
            "dodgerblue"
           ]
          ],
          "line": {
           "color": "black",
           "width": 2
          },
          "size": 14,
          "symbol": "circle"
         },
         "mode": "markers",
         "type": "scatter",
         "x": [
          "T_3492001",
          "C_3492002",
          "T_3492003",
          "G_3492004",
          "T_3492005",
          "A_3492006",
          "C_3492007",
          "A_3492008",
          "T_3492009",
          "T_3492010",
          "A_3492011",
          "A_3492012",
          "C_3492013",
          "G_3492014",
          "T_3492015",
          "G_3492016",
          "G_3492017",
          "T_3492018",
          "G_3492019",
          "G_3492020",
          "C_3492021",
          "A_3492022"
         ],
         "xaxis": "x13",
         "y": [
          0,
          0.004601226993865031,
          0,
          0,
          0,
          0,
          0,
          0,
          0,
          0,
          0,
          0,
          0,
          0,
          0,
          0,
          0,
          0,
          0.004601226993865031,
          0,
          0,
          0
         ],
         "yaxis": "y13"
        },
        {
         "customdata": [
          [
           0,
           0,
           1,
           0,
           "G_3492145"
          ],
          [
           1,
           0,
           0,
           0,
           "A_3492144"
          ],
          [
           0,
           0,
           0,
           1,
           "T_3492143"
          ],
          [
           0,
           1,
           0,
           0,
           "C_3492142"
          ],
          [
           1,
           0,
           0,
           0,
           "A_3492141"
          ],
          [
           0,
           1,
           0,
           0,
           "C_3492140"
          ],
          [
           0,
           0,
           1,
           0,
           "G_3492139"
          ],
          [
           0,
           0,
           0,
           1,
           "T_3492138"
          ],
          [
           0,
           0,
           0,
           1,
           "T_3492137"
          ],
          [
           0,
           1,
           0,
           0,
           "C_3492136"
          ],
          [
           0,
           0,
           0,
           1,
           "T_3492135"
          ],
          [
           0,
           1,
           0,
           0,
           "C_3492134"
          ],
          [
           0,
           1,
           0,
           0,
           "C_3492133"
          ],
          [
           0,
           0,
           0,
           1,
           "T_3492132"
          ],
          [
           0,
           1,
           0,
           0,
           "C_3492131"
          ],
          [
           0,
           1,
           0,
           0,
           "C_3492130"
          ],
          [
           0,
           0,
           1,
           0,
           "G_3492129"
          ],
          [
           1,
           0,
           0,
           0,
           "A_3492128"
          ],
          [
           0,
           1,
           0,
           0,
           "C_3492127"
          ],
          [
           0,
           0,
           1,
           0,
           "G_3492126"
          ]
         ],
         "hovertemplate": "Base / Position: %{customdata[4]}<br>Total Alternate freq: %{y}<br>A_freq: %{customdata[0]}<br>C_freq: %{customdata[1]}<br>G_freq: %{customdata[2]}<br>T_freq: %{customdata[3]}",
         "marker": {
          "color": [
           -1,
           -1,
           -1,
           -1,
           -1,
           -1,
           -1,
           -1,
           -1,
           1,
           -1,
           -1,
           1,
           -1,
           -1,
           -1,
           1,
           1,
           1,
           -1
          ],
          "colorscale": [
           [
            0,
            "lightgray"
           ],
           [
            0.5,
            "lightgray"
           ],
           [
            1,
            "dodgerblue"
           ]
          ],
          "line": {
           "color": "black",
           "width": 2
          },
          "size": 14,
          "symbol": "circle"
         },
         "mode": "markers",
         "type": "scatter",
         "x": [
          "G_3492145",
          "A_3492144",
          "T_3492143",
          "C_3492142",
          "A_3492141",
          "C_3492140",
          "G_3492139",
          "T_3492138",
          "T_3492137",
          "C_3492136",
          "T_3492135",
          "C_3492134",
          "C_3492133",
          "T_3492132",
          "C_3492131",
          "C_3492130",
          "G_3492129",
          "A_3492128",
          "C_3492127",
          "G_3492126"
         ],
         "xaxis": "x2",
         "y": [
          0,
          0,
          0,
          0,
          0,
          0,
          0,
          0,
          0,
          0.003067484662576687,
          0,
          0,
          0.004601226993865031,
          0,
          0,
          0,
          0.003067484662576687,
          0.0015337423312883436,
          0.0015337423312883436,
          0
         ],
         "yaxis": "y2"
        },
        {
         "customdata": [
          [
           0,
           0,
           1,
           0,
           "G_3492112"
          ],
          [
           0,
           0,
           0,
           1,
           "T_3492111"
          ],
          [
           0,
           1,
           0,
           0,
           "C_3492110"
          ],
          [
           0,
           0,
           1,
           0,
           "G_3492109"
          ],
          [
           0,
           0,
           0,
           1,
           "T_3492108"
          ],
          [
           1,
           0,
           0,
           0,
           "A_3492107"
          ],
          [
           0,
           1,
           0,
           0,
           "C_3492106"
          ],
          [
           1,
           0,
           0,
           0,
           "A_3492105"
          ],
          [
           0,
           1,
           0,
           0,
           "C_3492104"
          ],
          [
           0,
           0,
           1,
           0,
           "G_3492103"
          ],
          [
           0,
           0,
           0,
           1,
           "T_3492102"
          ],
          [
           0,
           1,
           0,
           0,
           "C_3492101"
          ],
          [
           0,
           1,
           0,
           0,
           "C_3492100"
          ],
          [
           1,
           0,
           0,
           0,
           "A_3492099"
          ],
          [
           0,
           0,
           1,
           0,
           "G_3492098"
          ],
          [
           0,
           0,
           1,
           0,
           "G_3492097"
          ],
          [
           0,
           0,
           1,
           0,
           "G_3492096"
          ],
          [
           0,
           0,
           0,
           1,
           "T_3492095"
          ],
          [
           0,
           0,
           1,
           0,
           "G_3492094"
          ]
         ],
         "hovertemplate": "Base / Position: %{customdata[4]}<br>Total Alternate freq: %{y}<br>A_freq: %{customdata[0]}<br>C_freq: %{customdata[1]}<br>G_freq: %{customdata[2]}<br>T_freq: %{customdata[3]}",
         "marker": {
          "color": [
           -1,
           -1,
           -1,
           -1,
           -1,
           -1,
           -1,
           -1,
           -1,
           -1,
           -1,
           -1,
           -1,
           -1,
           -1,
           1,
           -1,
           1,
           1
          ],
          "colorscale": [
           [
            0,
            "lightgray"
           ],
           [
            0.5,
            "lightgray"
           ],
           [
            1,
            "dodgerblue"
           ]
          ],
          "line": {
           "color": "black",
           "width": 2
          },
          "size": 14,
          "symbol": "circle"
         },
         "mode": "markers",
         "type": "scatter",
         "x": [
          "G_3492112",
          "T_3492111",
          "C_3492110",
          "G_3492109",
          "T_3492108",
          "A_3492107",
          "C_3492106",
          "A_3492105",
          "C_3492104",
          "G_3492103",
          "T_3492102",
          "C_3492101",
          "C_3492100",
          "A_3492099",
          "G_3492098",
          "G_3492097",
          "G_3492096",
          "T_3492095",
          "G_3492094"
         ],
         "xaxis": "x5",
         "y": [
          0,
          0,
          0,
          0,
          0,
          0,
          0,
          0,
          0,
          0,
          0,
          0,
          0,
          0,
          0,
          0.0015337423312883436,
          0,
          0.0015337423312883436,
          0.003067484662576687
         ],
         "yaxis": "y5"
        },
        {
         "customdata": [
          [
           0,
           0,
           1,
           0,
           "G_3492139"
          ],
          [
           0,
           0,
           0,
           1,
           "T_3492138"
          ],
          [
           0,
           0,
           0,
           1,
           "T_3492137"
          ],
          [
           0,
           1,
           0,
           0,
           "C_3492136"
          ],
          [
           0,
           0,
           0,
           1,
           "T_3492135"
          ],
          [
           0,
           1,
           0,
           0,
           "C_3492134"
          ],
          [
           0,
           1,
           0,
           0,
           "C_3492133"
          ],
          [
           0,
           0,
           0,
           1,
           "T_3492132"
          ],
          [
           0,
           1,
           0,
           0,
           "C_3492131"
          ],
          [
           0,
           1,
           0,
           0,
           "C_3492130"
          ],
          [
           0,
           0,
           1,
           0,
           "G_3492129"
          ],
          [
           1,
           0,
           0,
           0,
           "A_3492128"
          ],
          [
           0,
           1,
           0,
           0,
           "C_3492127"
          ],
          [
           0,
           0,
           1,
           0,
           "G_3492126"
          ],
          [
           0,
           1,
           0,
           0,
           "C_3492125"
          ],
          [
           1,
           0,
           0,
           0,
           "A_3492124"
          ],
          [
           1,
           0,
           0,
           0,
           "A_3492123"
          ],
          [
           0,
           0,
           1,
           0,
           "G_3492122"
          ],
          [
           0,
           1,
           0,
           0,
           "C_3492121"
          ]
         ],
         "hovertemplate": "Base / Position: %{customdata[4]}<br>Total Alternate freq: %{y}<br>A_freq: %{customdata[0]}<br>C_freq: %{customdata[1]}<br>G_freq: %{customdata[2]}<br>T_freq: %{customdata[3]}",
         "marker": {
          "color": [
           -1,
           -1,
           -1,
           1,
           -1,
           -1,
           1,
           -1,
           -1,
           -1,
           1,
           1,
           1,
           -1,
           -1,
           -1,
           -1,
           -1,
           1
          ],
          "colorscale": [
           [
            0,
            "lightgray"
           ],
           [
            0.5,
            "lightgray"
           ],
           [
            1,
            "dodgerblue"
           ]
          ],
          "line": {
           "color": "black",
           "width": 2
          },
          "size": 14,
          "symbol": "circle"
         },
         "mode": "markers",
         "type": "scatter",
         "x": [
          "G_3492139",
          "T_3492138",
          "T_3492137",
          "C_3492136",
          "T_3492135",
          "C_3492134",
          "C_3492133",
          "T_3492132",
          "C_3492131",
          "C_3492130",
          "G_3492129",
          "A_3492128",
          "C_3492127",
          "G_3492126",
          "C_3492125",
          "A_3492124",
          "A_3492123",
          "G_3492122",
          "C_3492121"
         ],
         "xaxis": "x8",
         "y": [
          0,
          0,
          0,
          0.003067484662576687,
          0,
          0,
          0.004601226993865031,
          0,
          0,
          0,
          0.003067484662576687,
          0.0015337423312883436,
          0.0015337423312883436,
          0,
          0,
          0,
          0,
          0,
          0.0015337423312883436
         ],
         "yaxis": "y8"
        },
        {
         "customdata": [
          [
           0,
           1,
           0,
           0,
           "C_3492117"
          ],
          [
           0,
           0,
           1,
           0,
           "G_3492116"
          ],
          [
           0.01,
           0,
           0.99,
           0,
           "G_3492115"
          ],
          [
           0,
           0,
           0,
           1,
           "T_3492114"
          ],
          [
           0,
           0,
           1,
           0,
           "G_3492113"
          ],
          [
           0,
           0,
           1,
           0,
           "G_3492112"
          ],
          [
           0,
           0,
           0,
           1,
           "T_3492111"
          ],
          [
           0,
           1,
           0,
           0,
           "C_3492110"
          ],
          [
           0,
           0,
           1,
           0,
           "G_3492109"
          ],
          [
           0,
           0,
           0,
           1,
           "T_3492108"
          ],
          [
           1,
           0,
           0,
           0,
           "A_3492107"
          ],
          [
           0,
           1,
           0,
           0,
           "C_3492106"
          ],
          [
           1,
           0,
           0,
           0,
           "A_3492105"
          ],
          [
           0,
           1,
           0,
           0,
           "C_3492104"
          ],
          [
           0,
           0,
           1,
           0,
           "G_3492103"
          ],
          [
           0,
           0,
           0,
           1,
           "T_3492102"
          ],
          [
           0,
           1,
           0,
           0,
           "C_3492101"
          ],
          [
           0,
           1,
           0,
           0,
           "C_3492100"
          ]
         ],
         "hovertemplate": "Base / Position: %{customdata[4]}<br>Total Alternate freq: %{y}<br>A_freq: %{customdata[0]}<br>C_freq: %{customdata[1]}<br>G_freq: %{customdata[2]}<br>T_freq: %{customdata[3]}",
         "marker": {
          "color": [
           -1,
           -1,
           1,
           -1,
           -1,
           -1,
           -1,
           -1,
           -1,
           -1,
           -1,
           -1,
           -1,
           -1,
           -1,
           -1,
           -1,
           -1
          ],
          "colorscale": [
           [
            0,
            "lightgray"
           ],
           [
            0.5,
            "lightgray"
           ],
           [
            1,
            "dodgerblue"
           ]
          ],
          "line": {
           "color": "black",
           "width": 2
          },
          "size": 14,
          "symbol": "circle"
         },
         "mode": "markers",
         "type": "scatter",
         "x": [
          "C_3492117",
          "G_3492116",
          "G_3492115",
          "T_3492114",
          "G_3492113",
          "G_3492112",
          "T_3492111",
          "C_3492110",
          "G_3492109",
          "T_3492108",
          "A_3492107",
          "C_3492106",
          "A_3492105",
          "C_3492104",
          "G_3492103",
          "T_3492102",
          "C_3492101",
          "C_3492100"
         ],
         "xaxis": "x11",
         "y": [
          0,
          0,
          0.010736196319018405,
          0,
          0,
          0,
          0,
          0,
          0,
          0,
          0,
          0,
          0,
          0,
          0,
          0,
          0,
          0
         ],
         "yaxis": "y11"
        },
        {
         "customdata": [
          [
           0,
           0,
           1,
           0,
           "G_3492120"
          ],
          [
           0,
           1,
           0,
           0,
           "C_3492119"
          ],
          [
           0,
           1,
           0,
           0,
           "C_3492118"
          ],
          [
           0,
           1,
           0,
           0,
           "C_3492117"
          ],
          [
           0,
           0,
           1,
           0,
           "G_3492116"
          ],
          [
           0.01,
           0,
           0.99,
           0,
           "G_3492115"
          ],
          [
           0,
           0,
           0,
           1,
           "T_3492114"
          ],
          [
           0,
           0,
           1,
           0,
           "G_3492113"
          ],
          [
           0,
           0,
           1,
           0,
           "G_3492112"
          ],
          [
           0,
           0,
           0,
           1,
           "T_3492111"
          ],
          [
           0,
           1,
           0,
           0,
           "C_3492110"
          ],
          [
           0,
           0,
           1,
           0,
           "G_3492109"
          ],
          [
           0,
           0,
           0,
           1,
           "T_3492108"
          ],
          [
           1,
           0,
           0,
           0,
           "A_3492107"
          ],
          [
           0,
           1,
           0,
           0,
           "C_3492106"
          ],
          [
           1,
           0,
           0,
           0,
           "A_3492105"
          ],
          [
           0,
           1,
           0,
           0,
           "C_3492104"
          ]
         ],
         "hovertemplate": "Base / Position: %{customdata[4]}<br>Total Alternate freq: %{y}<br>A_freq: %{customdata[0]}<br>C_freq: %{customdata[1]}<br>G_freq: %{customdata[2]}<br>T_freq: %{customdata[3]}",
         "marker": {
          "color": [
           -1,
           -1,
           -1,
           -1,
           -1,
           1,
           -1,
           -1,
           -1,
           -1,
           -1,
           -1,
           -1,
           -1,
           -1,
           -1,
           -1
          ],
          "colorscale": [
           [
            0,
            "lightgray"
           ],
           [
            0.5,
            "lightgray"
           ],
           [
            1,
            "dodgerblue"
           ]
          ],
          "line": {
           "color": "black",
           "width": 2
          },
          "size": 14,
          "symbol": "circle"
         },
         "mode": "markers",
         "type": "scatter",
         "x": [
          "G_3492120",
          "C_3492119",
          "C_3492118",
          "C_3492117",
          "G_3492116",
          "G_3492115",
          "T_3492114",
          "G_3492113",
          "G_3492112",
          "T_3492111",
          "C_3492110",
          "G_3492109",
          "T_3492108",
          "A_3492107",
          "C_3492106",
          "A_3492105",
          "C_3492104"
         ],
         "xaxis": "x14",
         "y": [
          0,
          0,
          0,
          0,
          0,
          0.010736196319018405,
          0,
          0,
          0,
          0,
          0,
          0,
          0,
          0,
          0,
          0,
          0
         ],
         "yaxis": "y14"
        },
        {
         "customdata": [
          [
           0,
           0,
           1,
           0,
           "G_3492072"
          ],
          [
           0,
           1,
           0,
           0,
           "C_3492073"
          ],
          [
           0.15,
           0,
           0.85,
           0,
           "G_3492074"
          ],
          [
           0,
           0,
           1,
           0,
           "G_3492075"
          ],
          [
           0,
           1,
           0,
           0,
           "C_3492076"
          ],
          [
           0,
           0,
           0,
           1,
           "T_3492077"
          ],
          [
           0,
           0,
           0,
           1,
           "T_3492078"
          ],
          [
           0,
           1,
           0,
           0,
           "C_3492079"
          ],
          [
           0,
           0,
           0,
           1,
           "T_3492080"
          ],
          [
           1,
           0,
           0,
           0,
           "A_3492081"
          ],
          [
           0,
           1,
           0,
           0,
           "C_3492082"
          ],
          [
           0,
           0,
           0,
           1,
           "T_3492083"
          ],
          [
           0,
           1,
           0,
           0,
           "C_3492084"
          ],
          [
           0,
           1,
           0,
           0,
           "C_3492085"
          ],
          [
           0,
           0,
           1,
           0,
           "G_3492086"
          ],
          [
           0,
           0,
           1,
           0,
           "G_3492087"
          ],
          [
           0,
           1,
           0,
           0,
           "C_3492088"
          ],
          [
           1,
           0,
           0,
           0,
           "A_3492089"
          ],
          [
           0,
           1,
           0,
           0,
           "C_3492090"
          ],
          [
           0,
           1,
           0,
           0,
           "C_3492091"
          ]
         ],
         "hovertemplate": "Base / Position: %{customdata[4]}<br>Total Alternate freq: %{y}<br>A_freq: %{customdata[0]}<br>C_freq: %{customdata[1]}<br>G_freq: %{customdata[2]}<br>T_freq: %{customdata[3]}",
         "marker": {
          "color": [
           -1,
           -1,
           1,
           -1,
           1,
           -1,
           -1,
           -1,
           -1,
           -1,
           -1,
           -1,
           -1,
           1,
           -1,
           -1,
           -1,
           1,
           -1,
           -1
          ],
          "colorscale": [
           [
            0,
            "lightgray"
           ],
           [
            0.5,
            "lightgray"
           ],
           [
            1,
            "dodgerblue"
           ]
          ],
          "line": {
           "color": "black",
           "width": 2
          },
          "size": 14,
          "symbol": "circle"
         },
         "mode": "markers",
         "type": "scatter",
         "x": [
          "G_3492072",
          "C_3492073",
          "G_3492074",
          "G_3492075",
          "C_3492076",
          "T_3492077",
          "T_3492078",
          "C_3492079",
          "T_3492080",
          "A_3492081",
          "C_3492082",
          "T_3492083",
          "C_3492084",
          "C_3492085",
          "G_3492086",
          "G_3492087",
          "C_3492088",
          "A_3492089",
          "C_3492090",
          "C_3492091"
         ],
         "xaxis": "x3",
         "y": [
          0,
          0,
          0.14877300613496933,
          0,
          0.0015337423312883436,
          0,
          0,
          0,
          0,
          0,
          0,
          0,
          0,
          0.0015337423312883436,
          0,
          0,
          0,
          0.0015337423312883436,
          0,
          0
         ],
         "yaxis": "y3"
        },
        {
         "customdata": [
          [
           0,
           0,
           1,
           0,
           "G_3492069"
          ],
          [
           0,
           1,
           0,
           0,
           "C_3492070"
          ],
          [
           0,
           0,
           1,
           0,
           "G_3492071"
          ],
          [
           0,
           0,
           1,
           0,
           "G_3492072"
          ],
          [
           0,
           1,
           0,
           0,
           "C_3492073"
          ],
          [
           0.15,
           0,
           0.85,
           0,
           "G_3492074"
          ],
          [
           0,
           0,
           1,
           0,
           "G_3492075"
          ],
          [
           0,
           1,
           0,
           0,
           "C_3492076"
          ],
          [
           0,
           0,
           0,
           1,
           "T_3492077"
          ],
          [
           0,
           0,
           0,
           1,
           "T_3492078"
          ],
          [
           0,
           1,
           0,
           0,
           "C_3492079"
          ],
          [
           0,
           0,
           0,
           1,
           "T_3492080"
          ],
          [
           1,
           0,
           0,
           0,
           "A_3492081"
          ],
          [
           0,
           1,
           0,
           0,
           "C_3492082"
          ],
          [
           0,
           0,
           0,
           1,
           "T_3492083"
          ],
          [
           0,
           1,
           0,
           0,
           "C_3492084"
          ],
          [
           0,
           1,
           0,
           0,
           "C_3492085"
          ],
          [
           0,
           0,
           1,
           0,
           "G_3492086"
          ],
          [
           0,
           0,
           1,
           0,
           "G_3492087"
          ]
         ],
         "hovertemplate": "Base / Position: %{customdata[4]}<br>Total Alternate freq: %{y}<br>A_freq: %{customdata[0]}<br>C_freq: %{customdata[1]}<br>G_freq: %{customdata[2]}<br>T_freq: %{customdata[3]}",
         "marker": {
          "color": [
           -1,
           1,
           -1,
           -1,
           -1,
           1,
           -1,
           1,
           -1,
           -1,
           -1,
           -1,
           -1,
           -1,
           -1,
           -1,
           1,
           -1,
           -1
          ],
          "colorscale": [
           [
            0,
            "lightgray"
           ],
           [
            0.5,
            "lightgray"
           ],
           [
            1,
            "dodgerblue"
           ]
          ],
          "line": {
           "color": "black",
           "width": 2
          },
          "size": 14,
          "symbol": "circle"
         },
         "mode": "markers",
         "type": "scatter",
         "x": [
          "G_3492069",
          "C_3492070",
          "G_3492071",
          "G_3492072",
          "C_3492073",
          "G_3492074",
          "G_3492075",
          "C_3492076",
          "T_3492077",
          "T_3492078",
          "C_3492079",
          "T_3492080",
          "A_3492081",
          "C_3492082",
          "T_3492083",
          "C_3492084",
          "C_3492085",
          "G_3492086",
          "G_3492087"
         ],
         "xaxis": "x6",
         "y": [
          0,
          0.0015337423312883436,
          0,
          0,
          0,
          0.14877300613496933,
          0,
          0.0015337423312883436,
          0,
          0,
          0,
          0,
          0,
          0,
          0,
          0,
          0.0015337423312883436,
          0,
          0
         ],
         "yaxis": "y6"
        },
        {
         "customdata": [
          [
           0,
           0,
           1,
           0,
           "G_3492060"
          ],
          [
           0,
           0,
           1,
           0,
           "G_3492061"
          ],
          [
           1,
           0,
           0,
           0,
           "A_3492062"
          ],
          [
           0,
           0,
           0,
           1,
           "T_3492063"
          ],
          [
           0,
           0.99,
           0,
           0.01,
           "C_3492064"
          ],
          [
           0,
           0,
           0,
           1,
           "T_3492065"
          ],
          [
           0,
           0,
           0,
           1,
           "T_3492066"
          ],
          [
           0,
           0.99,
           0,
           0.01,
           "C_3492067"
          ],
          [
           0,
           0,
           1,
           0,
           "G_3492068"
          ],
          [
           0,
           0,
           1,
           0,
           "G_3492069"
          ],
          [
           0,
           1,
           0,
           0,
           "C_3492070"
          ],
          [
           0,
           0,
           1,
           0,
           "G_3492071"
          ],
          [
           0,
           0,
           1,
           0,
           "G_3492072"
          ],
          [
           0,
           1,
           0,
           0,
           "C_3492073"
          ],
          [
           0.15,
           0,
           0.85,
           0,
           "G_3492074"
          ],
          [
           0,
           0,
           1,
           0,
           "G_3492075"
          ],
          [
           0,
           1,
           0,
           0,
           "C_3492076"
          ],
          [
           0,
           0,
           0,
           1,
           "T_3492077"
          ]
         ],
         "hovertemplate": "Base / Position: %{customdata[4]}<br>Total Alternate freq: %{y}<br>A_freq: %{customdata[0]}<br>C_freq: %{customdata[1]}<br>G_freq: %{customdata[2]}<br>T_freq: %{customdata[3]}",
         "marker": {
          "color": [
           -1,
           -1,
           -1,
           -1,
           1,
           -1,
           -1,
           1,
           -1,
           -1,
           1,
           -1,
           -1,
           -1,
           1,
           -1,
           1,
           -1
          ],
          "colorscale": [
           [
            0,
            "lightgray"
           ],
           [
            0.5,
            "lightgray"
           ],
           [
            1,
            "dodgerblue"
           ]
          ],
          "line": {
           "color": "black",
           "width": 2
          },
          "size": 14,
          "symbol": "circle"
         },
         "mode": "markers",
         "type": "scatter",
         "x": [
          "G_3492060",
          "G_3492061",
          "A_3492062",
          "T_3492063",
          "C_3492064",
          "T_3492065",
          "T_3492066",
          "C_3492067",
          "G_3492068",
          "G_3492069",
          "C_3492070",
          "G_3492071",
          "G_3492072",
          "C_3492073",
          "G_3492074",
          "G_3492075",
          "C_3492076",
          "T_3492077"
         ],
         "xaxis": "x9",
         "y": [
          0,
          0,
          0,
          0,
          0.006134969325153374,
          0,
          0,
          0.013803680981595092,
          0,
          0,
          0.0015337423312883436,
          0,
          0,
          0,
          0.14877300613496933,
          0,
          0.0015337423312883436,
          0
         ],
         "yaxis": "y9"
        },
        {
         "customdata": [
          [
           0,
           0,
           0,
           1,
           "T_3492063"
          ],
          [
           0,
           0.99,
           0,
           0.01,
           "C_3492064"
          ],
          [
           0,
           0,
           0,
           1,
           "T_3492065"
          ],
          [
           0,
           0,
           0,
           1,
           "T_3492066"
          ],
          [
           0,
           0.99,
           0,
           0.01,
           "C_3492067"
          ],
          [
           0,
           0,
           1,
           0,
           "G_3492068"
          ],
          [
           0,
           0,
           1,
           0,
           "G_3492069"
          ],
          [
           0,
           1,
           0,
           0,
           "C_3492070"
          ],
          [
           0,
           0,
           1,
           0,
           "G_3492071"
          ],
          [
           0,
           0,
           1,
           0,
           "G_3492072"
          ],
          [
           0,
           1,
           0,
           0,
           "C_3492073"
          ],
          [
           0.15,
           0,
           0.85,
           0,
           "G_3492074"
          ],
          [
           0,
           0,
           1,
           0,
           "G_3492075"
          ],
          [
           0,
           1,
           0,
           0,
           "C_3492076"
          ],
          [
           0,
           0,
           0,
           1,
           "T_3492077"
          ],
          [
           0,
           0,
           0,
           1,
           "T_3492078"
          ],
          [
           0,
           1,
           0,
           0,
           "C_3492079"
          ],
          [
           0,
           0,
           0,
           1,
           "T_3492080"
          ]
         ],
         "hovertemplate": "Base / Position: %{customdata[4]}<br>Total Alternate freq: %{y}<br>A_freq: %{customdata[0]}<br>C_freq: %{customdata[1]}<br>G_freq: %{customdata[2]}<br>T_freq: %{customdata[3]}",
         "marker": {
          "color": [
           -1,
           1,
           -1,
           -1,
           1,
           -1,
           -1,
           1,
           -1,
           -1,
           -1,
           1,
           -1,
           1,
           -1,
           -1,
           -1,
           -1
          ],
          "colorscale": [
           [
            0,
            "lightgray"
           ],
           [
            0.5,
            "lightgray"
           ],
           [
            1,
            "dodgerblue"
           ]
          ],
          "line": {
           "color": "black",
           "width": 2
          },
          "size": 14,
          "symbol": "circle"
         },
         "mode": "markers",
         "type": "scatter",
         "x": [
          "T_3492063",
          "C_3492064",
          "T_3492065",
          "T_3492066",
          "C_3492067",
          "G_3492068",
          "G_3492069",
          "C_3492070",
          "G_3492071",
          "G_3492072",
          "C_3492073",
          "G_3492074",
          "G_3492075",
          "C_3492076",
          "T_3492077",
          "T_3492078",
          "C_3492079",
          "T_3492080"
         ],
         "xaxis": "x12",
         "y": [
          0,
          0.006134969325153374,
          0,
          0,
          0.013803680981595092,
          0,
          0,
          0.0015337423312883436,
          0,
          0,
          0,
          0.14877300613496933,
          0,
          0.0015337423312883436,
          0,
          0,
          0,
          0
         ],
         "yaxis": "y12"
        },
        {
         "customdata": [
          [
           0,
           0,
           0,
           1,
           "T_3492066"
          ],
          [
           0,
           0.99,
           0,
           0.01,
           "C_3492067"
          ],
          [
           0,
           0,
           1,
           0,
           "G_3492068"
          ],
          [
           0,
           0,
           1,
           0,
           "G_3492069"
          ],
          [
           0,
           1,
           0,
           0,
           "C_3492070"
          ],
          [
           0,
           0,
           1,
           0,
           "G_3492071"
          ],
          [
           0,
           0,
           1,
           0,
           "G_3492072"
          ],
          [
           0,
           1,
           0,
           0,
           "C_3492073"
          ],
          [
           0.15,
           0,
           0.85,
           0,
           "G_3492074"
          ],
          [
           0,
           0,
           1,
           0,
           "G_3492075"
          ],
          [
           0,
           1,
           0,
           0,
           "C_3492076"
          ],
          [
           0,
           0,
           0,
           1,
           "T_3492077"
          ],
          [
           0,
           0,
           0,
           1,
           "T_3492078"
          ],
          [
           0,
           1,
           0,
           0,
           "C_3492079"
          ],
          [
           0,
           0,
           0,
           1,
           "T_3492080"
          ],
          [
           1,
           0,
           0,
           0,
           "A_3492081"
          ],
          [
           0,
           1,
           0,
           0,
           "C_3492082"
          ],
          [
           0,
           0,
           0,
           1,
           "T_3492083"
          ]
         ],
         "hovertemplate": "Base / Position: %{customdata[4]}<br>Total Alternate freq: %{y}<br>A_freq: %{customdata[0]}<br>C_freq: %{customdata[1]}<br>G_freq: %{customdata[2]}<br>T_freq: %{customdata[3]}",
         "marker": {
          "color": [
           -1,
           1,
           -1,
           -1,
           1,
           -1,
           -1,
           -1,
           1,
           -1,
           1,
           -1,
           -1,
           -1,
           -1,
           -1,
           -1,
           -1
          ],
          "colorscale": [
           [
            0,
            "lightgray"
           ],
           [
            0.5,
            "lightgray"
           ],
           [
            1,
            "dodgerblue"
           ]
          ],
          "line": {
           "color": "black",
           "width": 2
          },
          "size": 14,
          "symbol": "circle"
         },
         "mode": "markers",
         "type": "scatter",
         "x": [
          "T_3492066",
          "C_3492067",
          "G_3492068",
          "G_3492069",
          "C_3492070",
          "G_3492071",
          "G_3492072",
          "C_3492073",
          "G_3492074",
          "G_3492075",
          "C_3492076",
          "T_3492077",
          "T_3492078",
          "C_3492079",
          "T_3492080",
          "A_3492081",
          "C_3492082",
          "T_3492083"
         ],
         "xaxis": "x15",
         "y": [
          0,
          0.013803680981595092,
          0,
          0,
          0.0015337423312883436,
          0,
          0,
          0,
          0.14877300613496933,
          0,
          0.0015337423312883436,
          0,
          0,
          0,
          0,
          0,
          0,
          0
         ],
         "yaxis": "y15"
        }
       ],
       "layout": {
        "annotations": [
         {
          "font": {
           "size": 13
          },
          "showarrow": false,
          "text": "Forward primer 1",
          "x": 0.15666666666666665,
          "xanchor": "center",
          "xref": "paper",
          "y": 0.9999999999999999,
          "yanchor": "bottom",
          "yref": "paper"
         },
         {
          "font": {
           "size": 13
          },
          "showarrow": false,
          "text": "Reverse primer 1",
          "x": 0.4999999999999999,
          "xanchor": "center",
          "xref": "paper",
          "y": 0.9999999999999999,
          "yanchor": "bottom",
          "yref": "paper"
         },
         {
          "font": {
           "size": 13
          },
          "showarrow": false,
          "text": "Probe 1",
          "x": 0.8433333333333332,
          "xanchor": "center",
          "xref": "paper",
          "y": 0.9999999999999999,
          "yanchor": "bottom",
          "yref": "paper"
         },
         {
          "font": {
           "size": 13
          },
          "showarrow": false,
          "text": "Forward primer 2",
          "x": 0.15666666666666665,
          "xanchor": "center",
          "xref": "paper",
          "y": 0.7839999999999999,
          "yanchor": "bottom",
          "yref": "paper"
         },
         {
          "font": {
           "size": 13
          },
          "showarrow": false,
          "text": "Reverse primer 2",
          "x": 0.4999999999999999,
          "xanchor": "center",
          "xref": "paper",
          "y": 0.7839999999999999,
          "yanchor": "bottom",
          "yref": "paper"
         },
         {
          "font": {
           "size": 13
          },
          "showarrow": false,
          "text": "Probe 2",
          "x": 0.8433333333333332,
          "xanchor": "center",
          "xref": "paper",
          "y": 0.7839999999999999,
          "yanchor": "bottom",
          "yref": "paper"
         },
         {
          "font": {
           "size": 13
          },
          "showarrow": false,
          "text": "Forward primer 3",
          "x": 0.15666666666666665,
          "xanchor": "center",
          "xref": "paper",
          "y": 0.568,
          "yanchor": "bottom",
          "yref": "paper"
         },
         {
          "font": {
           "size": 13
          },
          "showarrow": false,
          "text": "Reverse primer 3",
          "x": 0.4999999999999999,
          "xanchor": "center",
          "xref": "paper",
          "y": 0.568,
          "yanchor": "bottom",
          "yref": "paper"
         },
         {
          "font": {
           "size": 13
          },
          "showarrow": false,
          "text": "Probe 3",
          "x": 0.8433333333333332,
          "xanchor": "center",
          "xref": "paper",
          "y": 0.568,
          "yanchor": "bottom",
          "yref": "paper"
         },
         {
          "font": {
           "size": 13
          },
          "showarrow": false,
          "text": "Forward primer 4",
          "x": 0.15666666666666665,
          "xanchor": "center",
          "xref": "paper",
          "y": 0.352,
          "yanchor": "bottom",
          "yref": "paper"
         },
         {
          "font": {
           "size": 13
          },
          "showarrow": false,
          "text": "Reverse primer 4",
          "x": 0.4999999999999999,
          "xanchor": "center",
          "xref": "paper",
          "y": 0.352,
          "yanchor": "bottom",
          "yref": "paper"
         },
         {
          "font": {
           "size": 13
          },
          "showarrow": false,
          "text": "Probe 4",
          "x": 0.8433333333333332,
          "xanchor": "center",
          "xref": "paper",
          "y": 0.352,
          "yanchor": "bottom",
          "yref": "paper"
         },
         {
          "font": {
           "size": 13
          },
          "showarrow": false,
          "text": "Forward primer 5",
          "x": 0.15666666666666665,
          "xanchor": "center",
          "xref": "paper",
          "y": 0.13599999999999998,
          "yanchor": "bottom",
          "yref": "paper"
         },
         {
          "font": {
           "size": 13
          },
          "showarrow": false,
          "text": "Reverse primer 5",
          "x": 0.4999999999999999,
          "xanchor": "center",
          "xref": "paper",
          "y": 0.13599999999999998,
          "yanchor": "bottom",
          "yref": "paper"
         },
         {
          "font": {
           "size": 13
          },
          "showarrow": false,
          "text": "Probe 5",
          "x": 0.8433333333333332,
          "xanchor": "center",
          "xref": "paper",
          "y": 0.13599999999999998,
          "yanchor": "bottom",
          "yref": "paper"
         },
         {
          "showarrow": false,
          "text": "5'",
          "x": "T_3492051",
          "xref": "x",
          "y": 0.8,
          "yref": "y"
         },
         {
          "showarrow": false,
          "text": "3'",
          "x": "C_3492070",
          "xref": "x",
          "y": 0.8,
          "yref": "y"
         },
         {
          "showarrow": false,
          "text": "3492051-3492070",
          "x": "G_3492055",
          "xref": "x",
          "y": 0.92,
          "yref": "y"
         },
         {
          "showarrow": false,
          "text": "GC=55",
          "x": "C_3492064",
          "xref": "x",
          "y": 0.92,
          "yref": "y"
         },
         {
          "showarrow": false,
          "text": "TM=60.46",
          "x": "G_3492068",
          "xref": "x",
          "y": 0.92,
          "yref": "y"
         },
         {
          "showarrow": false,
          "text": "5'",
          "x": "G_3492047",
          "xref": "x4",
          "y": 0.8,
          "yref": "y4"
         },
         {
          "showarrow": false,
          "text": "3'",
          "x": "T_3492066",
          "xref": "x4",
          "y": 0.8,
          "yref": "y4"
         },
         {
          "showarrow": false,
          "text": "3492047-3492066",
          "x": "T_3492051",
          "xref": "x4",
          "y": 0.92,
          "yref": "y4"
         },
         {
          "showarrow": false,
          "text": "GC=55",
          "x": "G_3492060",
          "xref": "x4",
          "y": 0.92,
          "yref": "y4"
         },
         {
          "showarrow": false,
          "text": "TM=60.75",
          "x": "C_3492064",
          "xref": "x4",
          "y": 0.92,
          "yref": "y4"
         },
         {
          "showarrow": false,
          "text": "5'",
          "x": "C_3492037",
          "xref": "x7",
          "y": 0.8,
          "yref": "y7"
         },
         {
          "showarrow": false,
          "text": "3'",
          "x": "G_3492055",
          "xref": "x7",
          "y": 0.8,
          "yref": "y7"
         },
         {
          "showarrow": false,
          "text": "3492037-3492055",
          "x": "A_3492041",
          "xref": "x7",
          "y": 0.92,
          "yref": "y7"
         },
         {
          "showarrow": false,
          "text": "GC=57.89",
          "x": "C_3492049",
          "xref": "x7",
          "y": 0.92,
          "yref": "y7"
         },
         {
          "showarrow": false,
          "text": "TM=59.94",
          "x": "A_3492053",
          "xref": "x7",
          "y": 0.92,
          "yref": "y7"
         },
         {
          "showarrow": false,
          "text": "5'",
          "x": "A_3492006",
          "xref": "x10",
          "y": 0.8,
          "yref": "y10"
         },
         {
          "showarrow": false,
          "text": "3'",
          "x": "G_3492025",
          "xref": "x10",
          "y": 0.8,
          "yref": "y10"
         },
         {
          "showarrow": false,
          "text": "3492006-3492025",
          "x": "T_3492010",
          "xref": "x10",
          "y": 0.92,
          "yref": "y10"
         },
         {
          "showarrow": false,
          "text": "GC=55",
          "x": "G_3492019",
          "xref": "x10",
          "y": 0.92,
          "yref": "y10"
         },
         {
          "showarrow": false,
          "text": "TM=61.23",
          "x": "C_3492023",
          "xref": "x10",
          "y": 0.92,
          "yref": "y10"
         },
         {
          "showarrow": false,
          "text": "5'",
          "x": "T_3492001",
          "xref": "x13",
          "y": 0.8,
          "yref": "y13"
         },
         {
          "showarrow": false,
          "text": "3'",
          "x": "A_3492022",
          "xref": "x13",
          "y": 0.8,
          "yref": "y13"
         },
         {
          "showarrow": false,
          "text": "3492001-3492022",
          "x": "T_3492005",
          "xref": "x13",
          "y": 0.92,
          "yref": "y13"
         },
         {
          "showarrow": false,
          "text": "GC=45.45",
          "x": "G_3492016",
          "xref": "x13",
          "y": 0.92,
          "yref": "y13"
         },
         {
          "showarrow": false,
          "text": "TM=59.96",
          "x": "G_3492020",
          "xref": "x13",
          "y": 0.92,
          "yref": "y13"
         },
         {
          "showarrow": false,
          "text": "5'",
          "x": "G_3492145",
          "xref": "x2",
          "y": 0.8,
          "yref": "y2"
         },
         {
          "showarrow": false,
          "text": "3'",
          "x": "G_3492126",
          "xref": "x2",
          "y": 0.8,
          "yref": "y2"
         },
         {
          "showarrow": false,
          "text": "3492126-3492145",
          "x": "A_3492141",
          "xref": "x2",
          "y": 0.92,
          "yref": "y2"
         },
         {
          "showarrow": false,
          "text": "GC=60",
          "x": "T_3492132",
          "xref": "x2",
          "y": 0.92,
          "yref": "y2"
         },
         {
          "showarrow": false,
          "text": "TM=60.25",
          "x": "A_3492128",
          "xref": "x2",
          "y": 0.92,
          "yref": "y2"
         },
         {
          "showarrow": false,
          "text": "5'",
          "x": "G_3492112",
          "xref": "x5",
          "y": 0.8,
          "yref": "y5"
         },
         {
          "showarrow": false,
          "text": "3'",
          "x": "G_3492094",
          "xref": "x5",
          "y": 0.8,
          "yref": "y5"
         },
         {
          "showarrow": false,
          "text": "3492094-3492112",
          "x": "T_3492108",
          "xref": "x5",
          "y": 0.92,
          "yref": "y5"
         },
         {
          "showarrow": false,
          "text": "GC=63.16",
          "x": "C_3492100",
          "xref": "x5",
          "y": 0.92,
          "yref": "y5"
         },
         {
          "showarrow": false,
          "text": "TM=60.08",
          "x": "G_3492096",
          "xref": "x5",
          "y": 0.92,
          "yref": "y5"
         },
         {
          "showarrow": false,
          "text": "5'",
          "x": "G_3492139",
          "xref": "x8",
          "y": 0.8,
          "yref": "y8"
         },
         {
          "showarrow": false,
          "text": "3'",
          "x": "C_3492121",
          "xref": "x8",
          "y": 0.8,
          "yref": "y8"
         },
         {
          "showarrow": false,
          "text": "3492121-3492139",
          "x": "T_3492135",
          "xref": "x8",
          "y": 0.92,
          "yref": "y8"
         },
         {
          "showarrow": false,
          "text": "GC=63.16",
          "x": "C_3492127",
          "xref": "x8",
          "y": 0.92,
          "yref": "y8"
         },
         {
          "showarrow": false,
          "text": "TM=61.1",
          "x": "A_3492123",
          "xref": "x8",
          "y": 0.92,
          "yref": "y8"
         },
         {
          "showarrow": false,
          "text": "5'",
          "x": "C_3492117",
          "xref": "x11",
          "y": 0.8,
          "yref": "y11"
         },
         {
          "showarrow": false,
          "text": "3'",
          "x": "C_3492100",
          "xref": "x11",
          "y": 0.8,
          "yref": "y11"
         },
         {
          "showarrow": false,
          "text": "3492100-3492117",
          "x": "G_3492113",
          "xref": "x11",
          "y": 0.92,
          "yref": "y11"
         },
         {
          "showarrow": false,
          "text": "GC=66.67",
          "x": "C_3492106",
          "xref": "x11",
          "y": 0.92,
          "yref": "y11"
         },
         {
          "showarrow": false,
          "text": "TM=60.13",
          "x": "T_3492102",
          "xref": "x11",
          "y": 0.92,
          "yref": "y11"
         },
         {
          "showarrow": false,
          "text": "5'",
          "x": "G_3492120",
          "xref": "x14",
          "y": 0.8,
          "yref": "y14"
         },
         {
          "showarrow": false,
          "text": "3'",
          "x": "C_3492104",
          "xref": "x14",
          "y": 0.8,
          "yref": "y14"
         },
         {
          "showarrow": false,
          "text": "3492104-3492120",
          "x": "G_3492116",
          "xref": "x14",
          "y": 0.92,
          "yref": "y14"
         },
         {
          "showarrow": false,
          "text": "GC=70.59",
          "x": "C_3492110",
          "xref": "x14",
          "y": 0.92,
          "yref": "y14"
         },
         {
          "showarrow": false,
          "text": "TM=60.1",
          "x": "C_3492106",
          "xref": "x14",
          "y": 0.92,
          "yref": "y14"
         },
         {
          "showarrow": false,
          "text": "5'",
          "x": "G_3492072",
          "xref": "x3",
          "y": 0.8,
          "yref": "y3"
         },
         {
          "showarrow": false,
          "text": "3'",
          "x": "C_3492091",
          "xref": "x3",
          "y": 0.8,
          "yref": "y3"
         },
         {
          "showarrow": false,
          "text": "3492072-3492091",
          "x": "C_3492076",
          "xref": "x3",
          "y": 0.92,
          "yref": "y3"
         },
         {
          "showarrow": false,
          "text": "GC=70",
          "x": "C_3492085",
          "xref": "x3",
          "y": 0.92,
          "yref": "y3"
         },
         {
          "showarrow": false,
          "text": "TM=59.84",
          "x": "A_3492089",
          "xref": "x3",
          "y": 0.92,
          "yref": "y3"
         },
         {
          "showarrow": false,
          "text": "5'",
          "x": "G_3492069",
          "xref": "x6",
          "y": 0.8,
          "yref": "y6"
         },
         {
          "showarrow": false,
          "text": "3'",
          "x": "G_3492087",
          "xref": "x6",
          "y": 0.8,
          "yref": "y6"
         },
         {
          "showarrow": false,
          "text": "3492069-3492087",
          "x": "C_3492073",
          "xref": "x6",
          "y": 0.92,
          "yref": "y6"
         },
         {
          "showarrow": false,
          "text": "GC=73.68",
          "x": "A_3492081",
          "xref": "x6",
          "y": 0.92,
          "yref": "y6"
         },
         {
          "showarrow": false,
          "text": "TM=59.9",
          "x": "C_3492085",
          "xref": "x6",
          "y": 0.92,
          "yref": "y6"
         },
         {
          "showarrow": false,
          "text": "5'",
          "x": "G_3492060",
          "xref": "x9",
          "y": 0.8,
          "yref": "y9"
         },
         {
          "showarrow": false,
          "text": "3'",
          "x": "T_3492077",
          "xref": "x9",
          "y": 0.8,
          "yref": "y9"
         },
         {
          "showarrow": false,
          "text": "3492060-3492077",
          "x": "C_3492064",
          "xref": "x9",
          "y": 0.92,
          "yref": "y9"
         },
         {
          "showarrow": false,
          "text": "GC=72.22",
          "x": "G_3492071",
          "xref": "x9",
          "y": 0.92,
          "yref": "y9"
         },
         {
          "showarrow": false,
          "text": "TM=59.5",
          "x": "G_3492075",
          "xref": "x9",
          "y": 0.92,
          "yref": "y9"
         },
         {
          "showarrow": false,
          "text": "5'",
          "x": "T_3492063",
          "xref": "x12",
          "y": 0.8,
          "yref": "y12"
         },
         {
          "showarrow": false,
          "text": "3'",
          "x": "T_3492080",
          "xref": "x12",
          "y": 0.8,
          "yref": "y12"
         },
         {
          "showarrow": false,
          "text": "3492063-3492080",
          "x": "C_3492067",
          "xref": "x12",
          "y": 0.92,
          "yref": "y12"
         },
         {
          "showarrow": false,
          "text": "GC=66.67",
          "x": "G_3492074",
          "xref": "x12",
          "y": 0.92,
          "yref": "y12"
         },
         {
          "showarrow": false,
          "text": "TM=58.65",
          "x": "T_3492078",
          "xref": "x12",
          "y": 0.92,
          "yref": "y12"
         },
         {
          "showarrow": false,
          "text": "5'",
          "x": "T_3492066",
          "xref": "x15",
          "y": 0.8,
          "yref": "y15"
         },
         {
          "showarrow": false,
          "text": "3'",
          "x": "T_3492083",
          "xref": "x15",
          "y": 0.8,
          "yref": "y15"
         },
         {
          "showarrow": false,
          "text": "3492066-3492083",
          "x": "C_3492070",
          "xref": "x15",
          "y": 0.92,
          "yref": "y15"
         },
         {
          "showarrow": false,
          "text": "GC=66.67",
          "x": "T_3492077",
          "xref": "x15",
          "y": 0.92,
          "yref": "y15"
         },
         {
          "showarrow": false,
          "text": "TM=58.04",
          "x": "A_3492081",
          "xref": "x15",
          "y": 0.92,
          "yref": "y15"
         }
        ],
        "height": 1100,
        "showlegend": false,
        "template": {
         "data": {
          "bar": [
           {
            "error_x": {
             "color": "rgb(36,36,36)"
            },
            "error_y": {
             "color": "rgb(36,36,36)"
            },
            "marker": {
             "line": {
              "color": "white",
              "width": 0.5
             },
             "pattern": {
              "fillmode": "overlay",
              "size": 10,
              "solidity": 0.2
             }
            },
            "type": "bar"
           }
          ],
          "barpolar": [
           {
            "marker": {
             "line": {
              "color": "white",
              "width": 0.5
             },
             "pattern": {
              "fillmode": "overlay",
              "size": 10,
              "solidity": 0.2
             }
            },
            "type": "barpolar"
           }
          ],
          "carpet": [
           {
            "aaxis": {
             "endlinecolor": "rgb(36,36,36)",
             "gridcolor": "white",
             "linecolor": "white",
             "minorgridcolor": "white",
             "startlinecolor": "rgb(36,36,36)"
            },
            "baxis": {
             "endlinecolor": "rgb(36,36,36)",
             "gridcolor": "white",
             "linecolor": "white",
             "minorgridcolor": "white",
             "startlinecolor": "rgb(36,36,36)"
            },
            "type": "carpet"
           }
          ],
          "choropleth": [
           {
            "colorbar": {
             "outlinewidth": 1,
             "tickcolor": "rgb(36,36,36)",
             "ticks": "outside"
            },
            "type": "choropleth"
           }
          ],
          "contour": [
           {
            "colorbar": {
             "outlinewidth": 1,
             "tickcolor": "rgb(36,36,36)",
             "ticks": "outside"
            },
            "colorscale": [
             [
              0,
              "#440154"
             ],
             [
              0.1111111111111111,
              "#482878"
             ],
             [
              0.2222222222222222,
              "#3e4989"
             ],
             [
              0.3333333333333333,
              "#31688e"
             ],
             [
              0.4444444444444444,
              "#26828e"
             ],
             [
              0.5555555555555556,
              "#1f9e89"
             ],
             [
              0.6666666666666666,
              "#35b779"
             ],
             [
              0.7777777777777778,
              "#6ece58"
             ],
             [
              0.8888888888888888,
              "#b5de2b"
             ],
             [
              1,
              "#fde725"
             ]
            ],
            "type": "contour"
           }
          ],
          "contourcarpet": [
           {
            "colorbar": {
             "outlinewidth": 1,
             "tickcolor": "rgb(36,36,36)",
             "ticks": "outside"
            },
            "type": "contourcarpet"
           }
          ],
          "heatmap": [
           {
            "colorbar": {
             "outlinewidth": 1,
             "tickcolor": "rgb(36,36,36)",
             "ticks": "outside"
            },
            "colorscale": [
             [
              0,
              "#440154"
             ],
             [
              0.1111111111111111,
              "#482878"
             ],
             [
              0.2222222222222222,
              "#3e4989"
             ],
             [
              0.3333333333333333,
              "#31688e"
             ],
             [
              0.4444444444444444,
              "#26828e"
             ],
             [
              0.5555555555555556,
              "#1f9e89"
             ],
             [
              0.6666666666666666,
              "#35b779"
             ],
             [
              0.7777777777777778,
              "#6ece58"
             ],
             [
              0.8888888888888888,
              "#b5de2b"
             ],
             [
              1,
              "#fde725"
             ]
            ],
            "type": "heatmap"
           }
          ],
          "heatmapgl": [
           {
            "colorbar": {
             "outlinewidth": 1,
             "tickcolor": "rgb(36,36,36)",
             "ticks": "outside"
            },
            "colorscale": [
             [
              0,
              "#440154"
             ],
             [
              0.1111111111111111,
              "#482878"
             ],
             [
              0.2222222222222222,
              "#3e4989"
             ],
             [
              0.3333333333333333,
              "#31688e"
             ],
             [
              0.4444444444444444,
              "#26828e"
             ],
             [
              0.5555555555555556,
              "#1f9e89"
             ],
             [
              0.6666666666666666,
              "#35b779"
             ],
             [
              0.7777777777777778,
              "#6ece58"
             ],
             [
              0.8888888888888888,
              "#b5de2b"
             ],
             [
              1,
              "#fde725"
             ]
            ],
            "type": "heatmapgl"
           }
          ],
          "histogram": [
           {
            "marker": {
             "line": {
              "color": "white",
              "width": 0.6
             }
            },
            "type": "histogram"
           }
          ],
          "histogram2d": [
           {
            "colorbar": {
             "outlinewidth": 1,
             "tickcolor": "rgb(36,36,36)",
             "ticks": "outside"
            },
            "colorscale": [
             [
              0,
              "#440154"
             ],
             [
              0.1111111111111111,
              "#482878"
             ],
             [
              0.2222222222222222,
              "#3e4989"
             ],
             [
              0.3333333333333333,
              "#31688e"
             ],
             [
              0.4444444444444444,
              "#26828e"
             ],
             [
              0.5555555555555556,
              "#1f9e89"
             ],
             [
              0.6666666666666666,
              "#35b779"
             ],
             [
              0.7777777777777778,
              "#6ece58"
             ],
             [
              0.8888888888888888,
              "#b5de2b"
             ],
             [
              1,
              "#fde725"
             ]
            ],
            "type": "histogram2d"
           }
          ],
          "histogram2dcontour": [
           {
            "colorbar": {
             "outlinewidth": 1,
             "tickcolor": "rgb(36,36,36)",
             "ticks": "outside"
            },
            "colorscale": [
             [
              0,
              "#440154"
             ],
             [
              0.1111111111111111,
              "#482878"
             ],
             [
              0.2222222222222222,
              "#3e4989"
             ],
             [
              0.3333333333333333,
              "#31688e"
             ],
             [
              0.4444444444444444,
              "#26828e"
             ],
             [
              0.5555555555555556,
              "#1f9e89"
             ],
             [
              0.6666666666666666,
              "#35b779"
             ],
             [
              0.7777777777777778,
              "#6ece58"
             ],
             [
              0.8888888888888888,
              "#b5de2b"
             ],
             [
              1,
              "#fde725"
             ]
            ],
            "type": "histogram2dcontour"
           }
          ],
          "mesh3d": [
           {
            "colorbar": {
             "outlinewidth": 1,
             "tickcolor": "rgb(36,36,36)",
             "ticks": "outside"
            },
            "type": "mesh3d"
           }
          ],
          "parcoords": [
           {
            "line": {
             "colorbar": {
              "outlinewidth": 1,
              "tickcolor": "rgb(36,36,36)",
              "ticks": "outside"
             }
            },
            "type": "parcoords"
           }
          ],
          "pie": [
           {
            "automargin": true,
            "type": "pie"
           }
          ],
          "scatter": [
           {
            "fillpattern": {
             "fillmode": "overlay",
             "size": 10,
             "solidity": 0.2
            },
            "type": "scatter"
           }
          ],
          "scatter3d": [
           {
            "line": {
             "colorbar": {
              "outlinewidth": 1,
              "tickcolor": "rgb(36,36,36)",
              "ticks": "outside"
             }
            },
            "marker": {
             "colorbar": {
              "outlinewidth": 1,
              "tickcolor": "rgb(36,36,36)",
              "ticks": "outside"
             }
            },
            "type": "scatter3d"
           }
          ],
          "scattercarpet": [
           {
            "marker": {
             "colorbar": {
              "outlinewidth": 1,
              "tickcolor": "rgb(36,36,36)",
              "ticks": "outside"
             }
            },
            "type": "scattercarpet"
           }
          ],
          "scattergeo": [
           {
            "marker": {
             "colorbar": {
              "outlinewidth": 1,
              "tickcolor": "rgb(36,36,36)",
              "ticks": "outside"
             }
            },
            "type": "scattergeo"
           }
          ],
          "scattergl": [
           {
            "marker": {
             "colorbar": {
              "outlinewidth": 1,
              "tickcolor": "rgb(36,36,36)",
              "ticks": "outside"
             }
            },
            "type": "scattergl"
           }
          ],
          "scattermapbox": [
           {
            "marker": {
             "colorbar": {
              "outlinewidth": 1,
              "tickcolor": "rgb(36,36,36)",
              "ticks": "outside"
             }
            },
            "type": "scattermapbox"
           }
          ],
          "scatterpolar": [
           {
            "marker": {
             "colorbar": {
              "outlinewidth": 1,
              "tickcolor": "rgb(36,36,36)",
              "ticks": "outside"
             }
            },
            "type": "scatterpolar"
           }
          ],
          "scatterpolargl": [
           {
            "marker": {
             "colorbar": {
              "outlinewidth": 1,
              "tickcolor": "rgb(36,36,36)",
              "ticks": "outside"
             }
            },
            "type": "scatterpolargl"
           }
          ],
          "scatterternary": [
           {
            "marker": {
             "colorbar": {
              "outlinewidth": 1,
              "tickcolor": "rgb(36,36,36)",
              "ticks": "outside"
             }
            },
            "type": "scatterternary"
           }
          ],
          "surface": [
           {
            "colorbar": {
             "outlinewidth": 1,
             "tickcolor": "rgb(36,36,36)",
             "ticks": "outside"
            },
            "colorscale": [
             [
              0,
              "#440154"
             ],
             [
              0.1111111111111111,
              "#482878"
             ],
             [
              0.2222222222222222,
              "#3e4989"
             ],
             [
              0.3333333333333333,
              "#31688e"
             ],
             [
              0.4444444444444444,
              "#26828e"
             ],
             [
              0.5555555555555556,
              "#1f9e89"
             ],
             [
              0.6666666666666666,
              "#35b779"
             ],
             [
              0.7777777777777778,
              "#6ece58"
             ],
             [
              0.8888888888888888,
              "#b5de2b"
             ],
             [
              1,
              "#fde725"
             ]
            ],
            "type": "surface"
           }
          ],
          "table": [
           {
            "cells": {
             "fill": {
              "color": "rgb(237,237,237)"
             },
             "line": {
              "color": "white"
             }
            },
            "header": {
             "fill": {
              "color": "rgb(217,217,217)"
             },
             "line": {
              "color": "white"
             }
            },
            "type": "table"
           }
          ]
         },
         "layout": {
          "annotationdefaults": {
           "arrowhead": 0,
           "arrowwidth": 1
          },
          "autotypenumbers": "strict",
          "coloraxis": {
           "colorbar": {
            "outlinewidth": 1,
            "tickcolor": "rgb(36,36,36)",
            "ticks": "outside"
           }
          },
          "colorscale": {
           "diverging": [
            [
             0,
             "rgb(103,0,31)"
            ],
            [
             0.1,
             "rgb(178,24,43)"
            ],
            [
             0.2,
             "rgb(214,96,77)"
            ],
            [
             0.3,
             "rgb(244,165,130)"
            ],
            [
             0.4,
             "rgb(253,219,199)"
            ],
            [
             0.5,
             "rgb(247,247,247)"
            ],
            [
             0.6,
             "rgb(209,229,240)"
            ],
            [
             0.7,
             "rgb(146,197,222)"
            ],
            [
             0.8,
             "rgb(67,147,195)"
            ],
            [
             0.9,
             "rgb(33,102,172)"
            ],
            [
             1,
             "rgb(5,48,97)"
            ]
           ],
           "sequential": [
            [
             0,
             "#440154"
            ],
            [
             0.1111111111111111,
             "#482878"
            ],
            [
             0.2222222222222222,
             "#3e4989"
            ],
            [
             0.3333333333333333,
             "#31688e"
            ],
            [
             0.4444444444444444,
             "#26828e"
            ],
            [
             0.5555555555555556,
             "#1f9e89"
            ],
            [
             0.6666666666666666,
             "#35b779"
            ],
            [
             0.7777777777777778,
             "#6ece58"
            ],
            [
             0.8888888888888888,
             "#b5de2b"
            ],
            [
             1,
             "#fde725"
            ]
           ],
           "sequentialminus": [
            [
             0,
             "#440154"
            ],
            [
             0.1111111111111111,
             "#482878"
            ],
            [
             0.2222222222222222,
             "#3e4989"
            ],
            [
             0.3333333333333333,
             "#31688e"
            ],
            [
             0.4444444444444444,
             "#26828e"
            ],
            [
             0.5555555555555556,
             "#1f9e89"
            ],
            [
             0.6666666666666666,
             "#35b779"
            ],
            [
             0.7777777777777778,
             "#6ece58"
            ],
            [
             0.8888888888888888,
             "#b5de2b"
            ],
            [
             1,
             "#fde725"
            ]
           ]
          },
          "colorway": [
           "#1F77B4",
           "#FF7F0E",
           "#2CA02C",
           "#D62728",
           "#9467BD",
           "#8C564B",
           "#E377C2",
           "#7F7F7F",
           "#BCBD22",
           "#17BECF"
          ],
          "font": {
           "color": "rgb(36,36,36)"
          },
          "geo": {
           "bgcolor": "white",
           "lakecolor": "white",
           "landcolor": "white",
           "showlakes": true,
           "showland": true,
           "subunitcolor": "white"
          },
          "hoverlabel": {
           "align": "left"
          },
          "hovermode": "closest",
          "mapbox": {
           "style": "light"
          },
          "paper_bgcolor": "white",
          "plot_bgcolor": "white",
          "polar": {
           "angularaxis": {
            "gridcolor": "rgb(232,232,232)",
            "linecolor": "rgb(36,36,36)",
            "showgrid": false,
            "showline": true,
            "ticks": "outside"
           },
           "bgcolor": "white",
           "radialaxis": {
            "gridcolor": "rgb(232,232,232)",
            "linecolor": "rgb(36,36,36)",
            "showgrid": false,
            "showline": true,
            "ticks": "outside"
           }
          },
          "scene": {
           "xaxis": {
            "backgroundcolor": "white",
            "gridcolor": "rgb(232,232,232)",
            "gridwidth": 2,
            "linecolor": "rgb(36,36,36)",
            "showbackground": true,
            "showgrid": false,
            "showline": true,
            "ticks": "outside",
            "zeroline": false,
            "zerolinecolor": "rgb(36,36,36)"
           },
           "yaxis": {
            "backgroundcolor": "white",
            "gridcolor": "rgb(232,232,232)",
            "gridwidth": 2,
            "linecolor": "rgb(36,36,36)",
            "showbackground": true,
            "showgrid": false,
            "showline": true,
            "ticks": "outside",
            "zeroline": false,
            "zerolinecolor": "rgb(36,36,36)"
           },
           "zaxis": {
            "backgroundcolor": "white",
            "gridcolor": "rgb(232,232,232)",
            "gridwidth": 2,
            "linecolor": "rgb(36,36,36)",
            "showbackground": true,
            "showgrid": false,
            "showline": true,
            "ticks": "outside",
            "zeroline": false,
            "zerolinecolor": "rgb(36,36,36)"
           }
          },
          "shapedefaults": {
           "fillcolor": "black",
           "line": {
            "width": 0
           },
           "opacity": 0.3
          },
          "ternary": {
           "aaxis": {
            "gridcolor": "rgb(232,232,232)",
            "linecolor": "rgb(36,36,36)",
            "showgrid": false,
            "showline": true,
            "ticks": "outside"
           },
           "baxis": {
            "gridcolor": "rgb(232,232,232)",
            "linecolor": "rgb(36,36,36)",
            "showgrid": false,
            "showline": true,
            "ticks": "outside"
           },
           "bgcolor": "white",
           "caxis": {
            "gridcolor": "rgb(232,232,232)",
            "linecolor": "rgb(36,36,36)",
            "showgrid": false,
            "showline": true,
            "ticks": "outside"
           }
          },
          "title": {
           "x": 0.05
          },
          "xaxis": {
           "automargin": true,
           "gridcolor": "rgb(232,232,232)",
           "linecolor": "rgb(36,36,36)",
           "showgrid": false,
           "showline": true,
           "ticks": "outside",
           "title": {
            "standoff": 15
           },
           "zeroline": false,
           "zerolinecolor": "rgb(36,36,36)"
          },
          "yaxis": {
           "automargin": true,
           "gridcolor": "rgb(232,232,232)",
           "linecolor": "rgb(36,36,36)",
           "showgrid": false,
           "showline": true,
           "ticks": "outside",
           "title": {
            "standoff": 15
           },
           "zeroline": false,
           "zerolinecolor": "rgb(36,36,36)"
          }
         }
        },
        "title": {
         "text": "ace1-280s primer pairs | ['AG1000G-BF-A', 'AG1000G-GH', 'AG1000G-GN-A'] | target 3492074 bp",
         "x": 0.5
        },
        "width": 1500,
        "xaxis": {
         "anchor": "y",
         "domain": [
          0,
          0.3133333333333333
         ],
         "mirror": true,
         "tickangle": 0,
         "tickmode": "array",
         "ticktext": [
          "T",
          "C",
          "A",
          "T",
          "G",
          "C",
          "T",
          "G",
          "T",
          "G",
          "G",
          "A",
          "T",
          "C",
          "T",
          "T",
          "C",
          "G",
          "G",
          "C"
         ],
         "tickvals": [
          "T_3492051",
          "C_3492052",
          "A_3492053",
          "T_3492054",
          "G_3492055",
          "C_3492056",
          "T_3492057",
          "G_3492058",
          "T_3492059",
          "G_3492060",
          "G_3492061",
          "A_3492062",
          "T_3492063",
          "C_3492064",
          "T_3492065",
          "T_3492066",
          "C_3492067",
          "G_3492068",
          "G_3492069",
          "C_3492070"
         ]
        },
        "xaxis10": {
         "anchor": "y10",
         "domain": [
          0,
          0.3133333333333333
         ],
         "mirror": true,
         "tickangle": 0,
         "tickmode": "array",
         "ticktext": [
          "A",
          "C",
          "A",
          "T",
          "T",
          "A",
          "A",
          "C",
          "G",
          "T",
          "G",
          "G",
          "T",
          "G",
          "G",
          "C",
          "A",
          "C",
          "C",
          "G"
         ],
         "tickvals": [
          "A_3492006",
          "C_3492007",
          "A_3492008",
          "T_3492009",
          "T_3492010",
          "A_3492011",
          "A_3492012",
          "C_3492013",
          "G_3492014",
          "T_3492015",
          "G_3492016",
          "G_3492017",
          "T_3492018",
          "G_3492019",
          "G_3492020",
          "C_3492021",
          "A_3492022",
          "C_3492023",
          "C_3492024",
          "G_3492025"
         ]
        },
        "xaxis11": {
         "anchor": "y11",
         "domain": [
          0.34333333333333327,
          0.6566666666666665
         ],
         "mirror": true,
         "tickangle": 0,
         "tickmode": "array",
         "ticktext": [
          "C",
          "G",
          "G",
          "T",
          "G",
          "G",
          "T",
          "C",
          "G",
          "T",
          "A",
          "C",
          "A",
          "C",
          "G",
          "T",
          "C",
          "C"
         ],
         "tickvals": [
          "C_3492117",
          "G_3492116",
          "G_3492115",
          "T_3492114",
          "G_3492113",
          "G_3492112",
          "T_3492111",
          "C_3492110",
          "G_3492109",
          "T_3492108",
          "A_3492107",
          "C_3492106",
          "A_3492105",
          "C_3492104",
          "G_3492103",
          "T_3492102",
          "C_3492101",
          "C_3492100"
         ]
        },
        "xaxis12": {
         "anchor": "y12",
         "domain": [
          0.6866666666666665,
          0.9999999999999998
         ],
         "mirror": true,
         "tickangle": 0,
         "tickmode": "array",
         "ticktext": [
          "T",
          "C",
          "T",
          "T",
          "C",
          "G",
          "G",
          "C",
          "G",
          "G",
          "C",
          "G",
          "G",
          "C",
          "T",
          "T",
          "C",
          "T"
         ],
         "tickvals": [
          "T_3492063",
          "C_3492064",
          "T_3492065",
          "T_3492066",
          "C_3492067",
          "G_3492068",
          "G_3492069",
          "C_3492070",
          "G_3492071",
          "G_3492072",
          "C_3492073",
          "G_3492074",
          "G_3492075",
          "C_3492076",
          "T_3492077",
          "T_3492078",
          "C_3492079",
          "T_3492080"
         ]
        },
        "xaxis13": {
         "anchor": "y13",
         "domain": [
          0,
          0.3133333333333333
         ],
         "mirror": true,
         "tickangle": 0,
         "tickmode": "array",
         "ticktext": [
          "T",
          "C",
          "T",
          "G",
          "T",
          "A",
          "C",
          "A",
          "T",
          "T",
          "A",
          "A",
          "C",
          "G",
          "T",
          "G",
          "G",
          "T",
          "G",
          "G",
          "C",
          "A"
         ],
         "tickvals": [
          "T_3492001",
          "C_3492002",
          "T_3492003",
          "G_3492004",
          "T_3492005",
          "A_3492006",
          "C_3492007",
          "A_3492008",
          "T_3492009",
          "T_3492010",
          "A_3492011",
          "A_3492012",
          "C_3492013",
          "G_3492014",
          "T_3492015",
          "G_3492016",
          "G_3492017",
          "T_3492018",
          "G_3492019",
          "G_3492020",
          "C_3492021",
          "A_3492022"
         ]
        },
        "xaxis14": {
         "anchor": "y14",
         "domain": [
          0.34333333333333327,
          0.6566666666666665
         ],
         "mirror": true,
         "tickangle": 0,
         "tickmode": "array",
         "ticktext": [
          "G",
          "C",
          "C",
          "C",
          "G",
          "G",
          "T",
          "G",
          "G",
          "T",
          "C",
          "G",
          "T",
          "A",
          "C",
          "A",
          "C"
         ],
         "tickvals": [
          "G_3492120",
          "C_3492119",
          "C_3492118",
          "C_3492117",
          "G_3492116",
          "G_3492115",
          "T_3492114",
          "G_3492113",
          "G_3492112",
          "T_3492111",
          "C_3492110",
          "G_3492109",
          "T_3492108",
          "A_3492107",
          "C_3492106",
          "A_3492105",
          "C_3492104"
         ]
        },
        "xaxis15": {
         "anchor": "y15",
         "domain": [
          0.6866666666666665,
          0.9999999999999998
         ],
         "mirror": true,
         "tickangle": 0,
         "tickmode": "array",
         "ticktext": [
          "T",
          "C",
          "G",
          "G",
          "C",
          "G",
          "G",
          "C",
          "G",
          "G",
          "C",
          "T",
          "T",
          "C",
          "T",
          "A",
          "C",
          "T"
         ],
         "tickvals": [
          "T_3492066",
          "C_3492067",
          "G_3492068",
          "G_3492069",
          "C_3492070",
          "G_3492071",
          "G_3492072",
          "C_3492073",
          "G_3492074",
          "G_3492075",
          "C_3492076",
          "T_3492077",
          "T_3492078",
          "C_3492079",
          "T_3492080",
          "A_3492081",
          "C_3492082",
          "T_3492083"
         ]
        },
        "xaxis2": {
         "anchor": "y2",
         "domain": [
          0.34333333333333327,
          0.6566666666666665
         ],
         "mirror": true,
         "tickangle": 0,
         "tickmode": "array",
         "ticktext": [
          "G",
          "A",
          "T",
          "C",
          "A",
          "C",
          "G",
          "T",
          "T",
          "C",
          "T",
          "C",
          "C",
          "T",
          "C",
          "C",
          "G",
          "A",
          "C",
          "G"
         ],
         "tickvals": [
          "G_3492145",
          "A_3492144",
          "T_3492143",
          "C_3492142",
          "A_3492141",
          "C_3492140",
          "G_3492139",
          "T_3492138",
          "T_3492137",
          "C_3492136",
          "T_3492135",
          "C_3492134",
          "C_3492133",
          "T_3492132",
          "C_3492131",
          "C_3492130",
          "G_3492129",
          "A_3492128",
          "C_3492127",
          "G_3492126"
         ]
        },
        "xaxis3": {
         "anchor": "y3",
         "domain": [
          0.6866666666666665,
          0.9999999999999998
         ],
         "mirror": true,
         "tickangle": 0,
         "tickmode": "array",
         "ticktext": [
          "G",
          "C",
          "G",
          "G",
          "C",
          "T",
          "T",
          "C",
          "T",
          "A",
          "C",
          "T",
          "C",
          "C",
          "G",
          "G",
          "C",
          "A",
          "C",
          "C"
         ],
         "tickvals": [
          "G_3492072",
          "C_3492073",
          "G_3492074",
          "G_3492075",
          "C_3492076",
          "T_3492077",
          "T_3492078",
          "C_3492079",
          "T_3492080",
          "A_3492081",
          "C_3492082",
          "T_3492083",
          "C_3492084",
          "C_3492085",
          "G_3492086",
          "G_3492087",
          "C_3492088",
          "A_3492089",
          "C_3492090",
          "C_3492091"
         ]
        },
        "xaxis4": {
         "anchor": "y4",
         "domain": [
          0,
          0.3133333333333333
         ],
         "mirror": true,
         "tickangle": 0,
         "tickmode": "array",
         "ticktext": [
          "G",
          "C",
          "C",
          "G",
          "T",
          "C",
          "A",
          "T",
          "G",
          "C",
          "T",
          "G",
          "T",
          "G",
          "G",
          "A",
          "T",
          "C",
          "T",
          "T"
         ],
         "tickvals": [
          "G_3492047",
          "C_3492048",
          "C_3492049",
          "G_3492050",
          "T_3492051",
          "C_3492052",
          "A_3492053",
          "T_3492054",
          "G_3492055",
          "C_3492056",
          "T_3492057",
          "G_3492058",
          "T_3492059",
          "G_3492060",
          "G_3492061",
          "A_3492062",
          "T_3492063",
          "C_3492064",
          "T_3492065",
          "T_3492066"
         ]
        },
        "xaxis5": {
         "anchor": "y5",
         "domain": [
          0.34333333333333327,
          0.6566666666666665
         ],
         "mirror": true,
         "tickangle": 0,
         "tickmode": "array",
         "ticktext": [
          "G",
          "T",
          "C",
          "G",
          "T",
          "A",
          "C",
          "A",
          "C",
          "G",
          "T",
          "C",
          "C",
          "A",
          "G",
          "G",
          "G",
          "T",
          "G"
         ],
         "tickvals": [
          "G_3492112",
          "T_3492111",
          "C_3492110",
          "G_3492109",
          "T_3492108",
          "A_3492107",
          "C_3492106",
          "A_3492105",
          "C_3492104",
          "G_3492103",
          "T_3492102",
          "C_3492101",
          "C_3492100",
          "A_3492099",
          "G_3492098",
          "G_3492097",
          "G_3492096",
          "T_3492095",
          "G_3492094"
         ]
        },
        "xaxis6": {
         "anchor": "y6",
         "domain": [
          0.6866666666666665,
          0.9999999999999998
         ],
         "mirror": true,
         "tickangle": 0,
         "tickmode": "array",
         "ticktext": [
          "G",
          "C",
          "G",
          "G",
          "C",
          "G",
          "G",
          "C",
          "T",
          "T",
          "C",
          "T",
          "A",
          "C",
          "T",
          "C",
          "C",
          "G",
          "G"
         ],
         "tickvals": [
          "G_3492069",
          "C_3492070",
          "G_3492071",
          "G_3492072",
          "C_3492073",
          "G_3492074",
          "G_3492075",
          "C_3492076",
          "T_3492077",
          "T_3492078",
          "C_3492079",
          "T_3492080",
          "A_3492081",
          "C_3492082",
          "T_3492083",
          "C_3492084",
          "C_3492085",
          "G_3492086",
          "G_3492087"
         ]
        },
        "xaxis7": {
         "anchor": "y7",
         "domain": [
          0,
          0.3133333333333333
         ],
         "mirror": true,
         "tickangle": 0,
         "tickmode": "array",
         "ticktext": [
          "C",
          "A",
          "A",
          "G",
          "A",
          "A",
          "T",
          "G",
          "C",
          "G",
          "G",
          "C",
          "C",
          "G",
          "T",
          "C",
          "A",
          "T",
          "G"
         ],
         "tickvals": [
          "C_3492037",
          "A_3492038",
          "A_3492039",
          "G_3492040",
          "A_3492041",
          "A_3492042",
          "T_3492043",
          "G_3492044",
          "C_3492045",
          "G_3492046",
          "G_3492047",
          "C_3492048",
          "C_3492049",
          "G_3492050",
          "T_3492051",
          "C_3492052",
          "A_3492053",
          "T_3492054",
          "G_3492055"
         ]
        },
        "xaxis8": {
         "anchor": "y8",
         "domain": [
          0.34333333333333327,
          0.6566666666666665
         ],
         "mirror": true,
         "tickangle": 0,
         "tickmode": "array",
         "ticktext": [
          "G",
          "T",
          "T",
          "C",
          "T",
          "C",
          "C",
          "T",
          "C",
          "C",
          "G",
          "A",
          "C",
          "G",
          "C",
          "A",
          "A",
          "G",
          "C"
         ],
         "tickvals": [
          "G_3492139",
          "T_3492138",
          "T_3492137",
          "C_3492136",
          "T_3492135",
          "C_3492134",
          "C_3492133",
          "T_3492132",
          "C_3492131",
          "C_3492130",
          "G_3492129",
          "A_3492128",
          "C_3492127",
          "G_3492126",
          "C_3492125",
          "A_3492124",
          "A_3492123",
          "G_3492122",
          "C_3492121"
         ]
        },
        "xaxis9": {
         "anchor": "y9",
         "domain": [
          0.6866666666666665,
          0.9999999999999998
         ],
         "mirror": true,
         "tickangle": 0,
         "tickmode": "array",
         "ticktext": [
          "G",
          "G",
          "A",
          "T",
          "C",
          "T",
          "T",
          "C",
          "G",
          "G",
          "C",
          "G",
          "G",
          "C",
          "G",
          "G",
          "C",
          "T"
         ],
         "tickvals": [
          "G_3492060",
          "G_3492061",
          "A_3492062",
          "T_3492063",
          "C_3492064",
          "T_3492065",
          "T_3492066",
          "C_3492067",
          "G_3492068",
          "G_3492069",
          "C_3492070",
          "G_3492071",
          "G_3492072",
          "C_3492073",
          "G_3492074",
          "G_3492075",
          "C_3492076",
          "T_3492077"
         ]
        },
        "yaxis": {
         "anchor": "x",
         "domain": [
          0.8639999999999999,
          0.9999999999999999
         ],
         "mirror": true,
         "range": [
          0,
          1
         ],
         "tickvals": [
          0,
          0.2,
          0.4,
          0.6000000000000001,
          0.8
         ]
        },
        "yaxis10": {
         "anchor": "x10",
         "domain": [
          0.21599999999999997,
          0.352
         ],
         "mirror": true,
         "range": [
          0,
          1
         ],
         "tickvals": [
          0,
          0.2,
          0.4,
          0.6000000000000001,
          0.8
         ],
         "title": {
          "text": "Alternate allele frequency"
         }
        },
        "yaxis11": {
         "anchor": "x11",
         "domain": [
          0.21599999999999997,
          0.352
         ],
         "mirror": true,
         "range": [
          0,
          1
         ],
         "showticklabels": false,
         "tickvals": [
          0,
          0.2,
          0.4,
          0.6000000000000001,
          0.8
         ]
        },
        "yaxis12": {
         "anchor": "x12",
         "domain": [
          0.21599999999999997,
          0.352
         ],
         "mirror": true,
         "range": [
          0,
          1
         ],
         "showticklabels": false,
         "tickvals": [
          0,
          0.2,
          0.4,
          0.6000000000000001,
          0.8
         ]
        },
        "yaxis13": {
         "anchor": "x13",
         "domain": [
          0,
          0.13599999999999998
         ],
         "mirror": true,
         "range": [
          0,
          1
         ],
         "tickvals": [
          0,
          0.2,
          0.4,
          0.6000000000000001,
          0.8
         ]
        },
        "yaxis14": {
         "anchor": "x14",
         "domain": [
          0,
          0.13599999999999998
         ],
         "mirror": true,
         "range": [
          0,
          1
         ],
         "showticklabels": false,
         "tickvals": [
          0,
          0.2,
          0.4,
          0.6000000000000001,
          0.8
         ]
        },
        "yaxis15": {
         "anchor": "x15",
         "domain": [
          0,
          0.13599999999999998
         ],
         "mirror": true,
         "range": [
          0,
          1
         ],
         "showticklabels": false,
         "tickvals": [
          0,
          0.2,
          0.4,
          0.6000000000000001,
          0.8
         ]
        },
        "yaxis2": {
         "anchor": "x2",
         "domain": [
          0.8639999999999999,
          0.9999999999999999
         ],
         "mirror": true,
         "range": [
          0,
          1
         ],
         "showticklabels": false,
         "tickvals": [
          0,
          0.2,
          0.4,
          0.6000000000000001,
          0.8
         ]
        },
        "yaxis3": {
         "anchor": "x3",
         "domain": [
          0.8639999999999999,
          0.9999999999999999
         ],
         "mirror": true,
         "range": [
          0,
          1
         ],
         "showticklabels": false,
         "tickvals": [
          0,
          0.2,
          0.4,
          0.6000000000000001,
          0.8
         ]
        },
        "yaxis4": {
         "anchor": "x4",
         "domain": [
          0.6479999999999999,
          0.7839999999999999
         ],
         "mirror": true,
         "range": [
          0,
          1
         ],
         "tickvals": [
          0,
          0.2,
          0.4,
          0.6000000000000001,
          0.8
         ],
         "title": {
          "text": "Alternate allele frequency"
         }
        },
        "yaxis5": {
         "anchor": "x5",
         "domain": [
          0.6479999999999999,
          0.7839999999999999
         ],
         "mirror": true,
         "range": [
          0,
          1
         ],
         "showticklabels": false,
         "tickvals": [
          0,
          0.2,
          0.4,
          0.6000000000000001,
          0.8
         ]
        },
        "yaxis6": {
         "anchor": "x6",
         "domain": [
          0.6479999999999999,
          0.7839999999999999
         ],
         "mirror": true,
         "range": [
          0,
          1
         ],
         "showticklabels": false,
         "tickvals": [
          0,
          0.2,
          0.4,
          0.6000000000000001,
          0.8
         ]
        },
        "yaxis7": {
         "anchor": "x7",
         "domain": [
          0.43199999999999994,
          0.568
         ],
         "mirror": true,
         "range": [
          0,
          1
         ],
         "tickvals": [
          0,
          0.2,
          0.4,
          0.6000000000000001,
          0.8
         ]
        },
        "yaxis8": {
         "anchor": "x8",
         "domain": [
          0.43199999999999994,
          0.568
         ],
         "mirror": true,
         "range": [
          0,
          1
         ],
         "showticklabels": false,
         "tickvals": [
          0,
          0.2,
          0.4,
          0.6000000000000001,
          0.8
         ]
        },
        "yaxis9": {
         "anchor": "x9",
         "domain": [
          0.43199999999999994,
          0.568
         ],
         "mirror": true,
         "range": [
          0,
          1
         ],
         "showticklabels": false,
         "tickvals": [
          0,
          0.2,
          0.4,
          0.6000000000000001,
          0.8
         ]
        }
       }
      }
     },
     "metadata": {},
     "output_type": "display_data"
    }
   ],
   "source": [
    "results_dict = primers.plot_primer_snp_frequencies(\n",
    "    sample_sets=sample_sets, \n",
    "    sample_query=sample_query,\n",
    "    out_dir=\".\"\n",
    ")"
   ]
  },
  {
   "cell_type": "markdown",
   "id": "aCVuE1CiAR4h",
   "metadata": {
    "id": "aCVuE1CiAR4h"
   },
   "source": [
    "Now lets plot these primer pairs across the genome, highlighting where they are in relation to any nearby exons..."
   ]
  },
  {
   "cell_type": "code",
   "execution_count": 16,
   "id": "cAacbw-q8Sgm",
   "metadata": {
    "colab": {
     "base_uri": "https://localhost:8080/",
     "height": 286
    },
    "id": "cAacbw-q8Sgm",
    "outputId": "aeb67689-9587-4bab-f8c0-97f66aea0699"
   },
   "outputs": [
    {
     "data": {
      "application/javascript": "(function(root) {\n  function now() {\n    return new Date();\n  }\n\n  const force = true;\n\n  if (typeof root._bokeh_onload_callbacks === \"undefined\" || force === true) {\n    root._bokeh_onload_callbacks = [];\n    root._bokeh_is_loading = undefined;\n  }\n\nconst JS_MIME_TYPE = 'application/javascript';\n  const HTML_MIME_TYPE = 'text/html';\n  const EXEC_MIME_TYPE = 'application/vnd.bokehjs_exec.v0+json';\n  const CLASS_NAME = 'output_bokeh rendered_html';\n\n  /**\n   * Render data to the DOM node\n   */\n  function render(props, node) {\n    const script = document.createElement(\"script\");\n    node.appendChild(script);\n  }\n\n  /**\n   * Handle when an output is cleared or removed\n   */\n  function handleClearOutput(event, handle) {\n    function drop(id) {\n      const view = Bokeh.index.get_by_id(id)\n      if (view != null) {\n        view.model.document.clear()\n        Bokeh.index.delete(view)\n      }\n    }\n\n    const cell = handle.cell;\n\n    const id = cell.output_area._bokeh_element_id;\n    const server_id = cell.output_area._bokeh_server_id;\n\n    // Clean up Bokeh references\n    if (id != null) {\n      drop(id)\n    }\n\n    if (server_id !== undefined) {\n      // Clean up Bokeh references\n      const cmd_clean = \"from bokeh.io.state import curstate; print(curstate().uuid_to_server['\" + server_id + \"'].get_sessions()[0].document.roots[0]._id)\";\n      cell.notebook.kernel.execute(cmd_clean, {\n        iopub: {\n          output: function(msg) {\n            const id = msg.content.text.trim()\n            drop(id)\n          }\n        }\n      });\n      // Destroy server and session\n      const cmd_destroy = \"import bokeh.io.notebook as ion; ion.destroy_server('\" + server_id + \"')\";\n      cell.notebook.kernel.execute(cmd_destroy);\n    }\n  }\n\n  /**\n   * Handle when a new output is added\n   */\n  function handleAddOutput(event, handle) {\n    const output_area = handle.output_area;\n    const output = handle.output;\n\n    // limit handleAddOutput to display_data with EXEC_MIME_TYPE content only\n    if ((output.output_type != \"display_data\") || (!Object.prototype.hasOwnProperty.call(output.data, EXEC_MIME_TYPE))) {\n      return\n    }\n\n    const toinsert = output_area.element.find(\".\" + CLASS_NAME.split(' ')[0]);\n\n    if (output.metadata[EXEC_MIME_TYPE][\"id\"] !== undefined) {\n      toinsert[toinsert.length - 1].firstChild.textContent = output.data[JS_MIME_TYPE];\n      // store reference to embed id on output_area\n      output_area._bokeh_element_id = output.metadata[EXEC_MIME_TYPE][\"id\"];\n    }\n    if (output.metadata[EXEC_MIME_TYPE][\"server_id\"] !== undefined) {\n      const bk_div = document.createElement(\"div\");\n      bk_div.innerHTML = output.data[HTML_MIME_TYPE];\n      const script_attrs = bk_div.children[0].attributes;\n      for (let i = 0; i < script_attrs.length; i++) {\n        toinsert[toinsert.length - 1].firstChild.setAttribute(script_attrs[i].name, script_attrs[i].value);\n        toinsert[toinsert.length - 1].firstChild.textContent = bk_div.children[0].textContent\n      }\n      // store reference to server id on output_area\n      output_area._bokeh_server_id = output.metadata[EXEC_MIME_TYPE][\"server_id\"];\n    }\n  }\n\n  function register_renderer(events, OutputArea) {\n\n    function append_mime(data, metadata, element) {\n      // create a DOM node to render to\n      const toinsert = this.create_output_subarea(\n        metadata,\n        CLASS_NAME,\n        EXEC_MIME_TYPE\n      );\n      this.keyboard_manager.register_events(toinsert);\n      // Render to node\n      const props = {data: data, metadata: metadata[EXEC_MIME_TYPE]};\n      render(props, toinsert[toinsert.length - 1]);\n      element.append(toinsert);\n      return toinsert\n    }\n\n    /* Handle when an output is cleared or removed */\n    events.on('clear_output.CodeCell', handleClearOutput);\n    events.on('delete.Cell', handleClearOutput);\n\n    /* Handle when a new output is added */\n    events.on('output_added.OutputArea', handleAddOutput);\n\n    /**\n     * Register the mime type and append_mime function with output_area\n     */\n    OutputArea.prototype.register_mime_type(EXEC_MIME_TYPE, append_mime, {\n      /* Is output safe? */\n      safe: true,\n      /* Index of renderer in `output_area.display_order` */\n      index: 0\n    });\n  }\n\n  // register the mime type if in Jupyter Notebook environment and previously unregistered\n  if (root.Jupyter !== undefined) {\n    const events = require('base/js/events');\n    const OutputArea = require('notebook/js/outputarea').OutputArea;\n\n    if (OutputArea.prototype.mime_types().indexOf(EXEC_MIME_TYPE) == -1) {\n      register_renderer(events, OutputArea);\n    }\n  }\n  if (typeof (root._bokeh_timeout) === \"undefined\" || force === true) {\n    root._bokeh_timeout = Date.now() + 5000;\n    root._bokeh_failed_load = false;\n  }\n\n  const NB_LOAD_WARNING = {'data': {'text/html':\n     \"<div style='background-color: #fdd'>\\n\"+\n     \"<p>\\n\"+\n     \"BokehJS does not appear to have successfully loaded. If loading BokehJS from CDN, this \\n\"+\n     \"may be due to a slow or bad network connection. Possible fixes:\\n\"+\n     \"</p>\\n\"+\n     \"<ul>\\n\"+\n     \"<li>re-rerun `output_notebook()` to attempt to load from CDN again, or</li>\\n\"+\n     \"<li>use INLINE resources instead, as so:</li>\\n\"+\n     \"</ul>\\n\"+\n     \"<code>\\n\"+\n     \"from bokeh.resources import INLINE\\n\"+\n     \"output_notebook(resources=INLINE)\\n\"+\n     \"</code>\\n\"+\n     \"</div>\"}};\n\n  function display_loaded() {\n    const el = document.getElementById(null);\n    if (el != null) {\n      el.textContent = \"BokehJS is loading...\";\n    }\n    if (root.Bokeh !== undefined) {\n      if (el != null) {\n        el.textContent = \"BokehJS \" + root.Bokeh.version + \" successfully loaded.\";\n      }\n    } else if (Date.now() < root._bokeh_timeout) {\n      setTimeout(display_loaded, 100)\n    }\n  }\n\n  function run_callbacks() {\n    try {\n      root._bokeh_onload_callbacks.forEach(function(callback) {\n        if (callback != null)\n          callback();\n      });\n    } finally {\n      delete root._bokeh_onload_callbacks\n    }\n    console.debug(\"Bokeh: all callbacks have finished\");\n  }\n\n  function load_libs(css_urls, js_urls, callback) {\n    if (css_urls == null) css_urls = [];\n    if (js_urls == null) js_urls = [];\n\n    root._bokeh_onload_callbacks.push(callback);\n    if (root._bokeh_is_loading > 0) {\n      console.debug(\"Bokeh: BokehJS is being loaded, scheduling callback at\", now());\n      return null;\n    }\n    if (js_urls == null || js_urls.length === 0) {\n      run_callbacks();\n      return null;\n    }\n    console.debug(\"Bokeh: BokehJS not loaded, scheduling load and callback at\", now());\n    root._bokeh_is_loading = css_urls.length + js_urls.length;\n\n    function on_load() {\n      root._bokeh_is_loading--;\n      if (root._bokeh_is_loading === 0) {\n        console.debug(\"Bokeh: all BokehJS libraries/stylesheets loaded\");\n        run_callbacks()\n      }\n    }\n\n    function on_error(url) {\n      console.error(\"failed to load \" + url);\n    }\n\n    for (let i = 0; i < css_urls.length; i++) {\n      const url = css_urls[i];\n      const element = document.createElement(\"link\");\n      element.onload = on_load;\n      element.onerror = on_error.bind(null, url);\n      element.rel = \"stylesheet\";\n      element.type = \"text/css\";\n      element.href = url;\n      console.debug(\"Bokeh: injecting link tag for BokehJS stylesheet: \", url);\n      document.body.appendChild(element);\n    }\n\n    for (let i = 0; i < js_urls.length; i++) {\n      const url = js_urls[i];\n      const element = document.createElement('script');\n      element.onload = on_load;\n      element.onerror = on_error.bind(null, url);\n      element.async = false;\n      element.src = url;\n      console.debug(\"Bokeh: injecting script tag for BokehJS library: \", url);\n      document.head.appendChild(element);\n    }\n  };\n\n  function inject_raw_css(css) {\n    const element = document.createElement(\"style\");\n    element.appendChild(document.createTextNode(css));\n    document.body.appendChild(element);\n  }\n\n  const js_urls = [\"https://cdn.bokeh.org/bokeh/release/bokeh-3.3.4.min.js\", \"https://cdn.bokeh.org/bokeh/release/bokeh-gl-3.3.4.min.js\", \"https://cdn.bokeh.org/bokeh/release/bokeh-widgets-3.3.4.min.js\", \"https://cdn.bokeh.org/bokeh/release/bokeh-tables-3.3.4.min.js\", \"https://cdn.bokeh.org/bokeh/release/bokeh-mathjax-3.3.4.min.js\"];\n  const css_urls = [];\n\n  const inline_js = [    function(Bokeh) {\n      Bokeh.set_log_level(\"info\");\n    },\nfunction(Bokeh) {\n    }\n  ];\n\n  function run_inline_js() {\n    if (root.Bokeh !== undefined || force === true) {\n          for (let i = 0; i < inline_js.length; i++) {\n      inline_js[i].call(root, root.Bokeh);\n    }\n} else if (Date.now() < root._bokeh_timeout) {\n      setTimeout(run_inline_js, 100);\n    } else if (!root._bokeh_failed_load) {\n      console.log(\"Bokeh: BokehJS failed to load within specified timeout.\");\n      root._bokeh_failed_load = true;\n    } else if (force !== true) {\n      const cell = $(document.getElementById(null)).parents('.cell').data().cell;\n      cell.output_area.append_execute_result(NB_LOAD_WARNING)\n    }\n  }\n\n  if (root._bokeh_is_loading === 0) {\n    console.debug(\"Bokeh: BokehJS loaded, going straight to plotting\");\n    run_inline_js();\n  } else {\n    load_libs(css_urls, js_urls, function() {\n      console.debug(\"Bokeh: BokehJS plotting callback run at\", now());\n      run_inline_js();\n    });\n  }\n}(window));",
      "application/vnd.bokehjs_load.v0+json": ""
     },
     "metadata": {},
     "output_type": "display_data"
    },
    {
     "name": "stdout",
     "output_type": "stream",
     "text": [
      "                                     \r"
     ]
    },
    {
     "data": {
      "image/png": "[encoded data removed]",
      "text/plain": [
       "<Figure size 1600x400 with 1 Axes>"
      ]
     },
     "metadata": {
      "image/png": {
       "height": 379,
       "width": 1288
      }
     },
     "output_type": "display_data"
    }
   ],
   "source": [
    "primers.plot_primer_locs(\n",
    "    legend_loc='lower left',\n",
    "    out_dir=\".\",\n",
    ")"
   ]
  },
  {
   "cell_type": "markdown",
   "id": "-aIy4IyoBc7-",
   "metadata": {
    "id": "-aIy4IyoBc7-"
   },
   "source": [
    "### Checking our primers for specificity to the *Anopheles gambiae* genome\n",
    "\n",
    "We can use a cool new python package, [gget](https://github.com/pachterlab/gget), to rapidly search our primers against the AgamP3 genome, to ensure they will not amplify any other regions of the genome. gget rapidly queries large databases - in this case we can use the program BLAT to align primer sequences. Unfortunately as the lengths of primer sequences are so short, it is at the limit of BLATs sensitivity, and in some cases, matches are not returned. gget can also currently only query the older AgamP3 assembly, and not *An. funestus*. Therefore, it is also recommended run a more exhaustive search in [Primer-BLAST](https://www.ncbi.nlm.nih.gov/tools/primer-blast/)."
   ]
  },
  {
   "cell_type": "code",
   "execution_count": 17,
   "id": "f9fedfe4",
   "metadata": {
    "colab": {
     "base_uri": "https://localhost:8080/",
     "height": 631
    },
    "id": "f9fedfe4",
    "outputId": "b8baa2e0-6636-4022-b940-b033e7fdb4ce"
   },
   "outputs": [
    {
     "name": "stderr",
     "output_type": "stream",
     "text": [
      "Tue Oct 15 19:20:24 2024 INFO No DNA BLAT matches were found for this sequence in genome anoGam3.\n"
     ]
    },
    {
     "name": "stdout",
     "output_type": "stream",
     "text": [
      "No hit for forward - pair 3\n"
     ]
    },
    {
     "name": "stderr",
     "output_type": "stream",
     "text": [
      "Tue Oct 15 19:20:28 2024 INFO No DNA BLAT matches were found for this sequence in genome anoGam3.\n"
     ]
    },
    {
     "name": "stdout",
     "output_type": "stream",
     "text": [
      "No hit for probe - pair 4\n"
     ]
    },
    {
     "name": "stderr",
     "output_type": "stream",
     "text": [
      "Tue Oct 15 19:20:30 2024 ERROR \n",
      "            BLAT of seqtype 'DNA' using assembly 'anoGam3' was unsuccesful. \n",
      "            Possible causes: \n",
      "            - Sequence possibly too short (required minimum: 20 characters). \n",
      "            - Assembly possibly invalid. All available species with their respective assemblies are listed at https://genome.ucsc.edu/cgi-bin/hgBlat.\n",
      "            \n"
     ]
    },
    {
     "name": "stdout",
     "output_type": "stream",
     "text": [
      "No hit for reverse - pair 5\n"
     ]
    },
    {
     "data": {
      "text/html": [
       "<div>\n",
       "<style scoped>\n",
       "    .dataframe tbody tr th:only-of-type {\n",
       "        vertical-align: middle;\n",
       "    }\n",
       "\n",
       "    .dataframe tbody tr th {\n",
       "        vertical-align: top;\n",
       "    }\n",
       "\n",
       "    .dataframe thead th {\n",
       "        text-align: right;\n",
       "    }\n",
       "</style>\n",
       "<table border=\"1\" class=\"dataframe\">\n",
       "  <thead>\n",
       "    <tr style=\"text-align: right;\">\n",
       "      <th></th>\n",
       "      <th></th>\n",
       "      <th>genome</th>\n",
       "      <th>query_size</th>\n",
       "      <th>aligned_start</th>\n",
       "      <th>aligned_end</th>\n",
       "      <th>matches</th>\n",
       "      <th>mismatches</th>\n",
       "      <th>%_aligned</th>\n",
       "      <th>%_matched</th>\n",
       "      <th>chromosome</th>\n",
       "      <th>strand</th>\n",
       "      <th>start</th>\n",
       "      <th>end</th>\n",
       "    </tr>\n",
       "    <tr>\n",
       "      <th></th>\n",
       "      <th>primer</th>\n",
       "      <th></th>\n",
       "      <th></th>\n",
       "      <th></th>\n",
       "      <th></th>\n",
       "      <th></th>\n",
       "      <th></th>\n",
       "      <th></th>\n",
       "      <th></th>\n",
       "      <th></th>\n",
       "      <th></th>\n",
       "      <th></th>\n",
       "      <th></th>\n",
       "    </tr>\n",
       "  </thead>\n",
       "  <tbody>\n",
       "    <tr>\n",
       "      <th rowspan=\"3\" valign=\"top\">1</th>\n",
       "      <th>forward_1</th>\n",
       "      <td>anoGam3</td>\n",
       "      <td>20</td>\n",
       "      <td>1</td>\n",
       "      <td>20</td>\n",
       "      <td>20</td>\n",
       "      <td>0</td>\n",
       "      <td>100.0</td>\n",
       "      <td>100.0</td>\n",
       "      <td>chr2R</td>\n",
       "      <td>+</td>\n",
       "      <td>3492051</td>\n",
       "      <td>3492070</td>\n",
       "    </tr>\n",
       "    <tr>\n",
       "      <th>reverse_1</th>\n",
       "      <td>anoGam3</td>\n",
       "      <td>20</td>\n",
       "      <td>1</td>\n",
       "      <td>20</td>\n",
       "      <td>20</td>\n",
       "      <td>0</td>\n",
       "      <td>100.0</td>\n",
       "      <td>100.0</td>\n",
       "      <td>chr2R</td>\n",
       "      <td>-</td>\n",
       "      <td>3492126</td>\n",
       "      <td>3492145</td>\n",
       "    </tr>\n",
       "    <tr>\n",
       "      <th>probe_1</th>\n",
       "      <td>anoGam3</td>\n",
       "      <td>20</td>\n",
       "      <td>1</td>\n",
       "      <td>20</td>\n",
       "      <td>20</td>\n",
       "      <td>0</td>\n",
       "      <td>100.0</td>\n",
       "      <td>100.0</td>\n",
       "      <td>chr2R</td>\n",
       "      <td>+</td>\n",
       "      <td>3492072</td>\n",
       "      <td>3492091</td>\n",
       "    </tr>\n",
       "    <tr>\n",
       "      <th rowspan=\"3\" valign=\"top\">2</th>\n",
       "      <th>forward_2</th>\n",
       "      <td>anoGam3</td>\n",
       "      <td>20</td>\n",
       "      <td>1</td>\n",
       "      <td>20</td>\n",
       "      <td>20</td>\n",
       "      <td>0</td>\n",
       "      <td>100.0</td>\n",
       "      <td>100.0</td>\n",
       "      <td>chr2R</td>\n",
       "      <td>+</td>\n",
       "      <td>3492047</td>\n",
       "      <td>3492066</td>\n",
       "    </tr>\n",
       "    <tr>\n",
       "      <th>reverse_2</th>\n",
       "      <td>anoGam3</td>\n",
       "      <td>19</td>\n",
       "      <td>1</td>\n",
       "      <td>19</td>\n",
       "      <td>19</td>\n",
       "      <td>0</td>\n",
       "      <td>100.0</td>\n",
       "      <td>100.0</td>\n",
       "      <td>chr2R</td>\n",
       "      <td>-</td>\n",
       "      <td>3492094</td>\n",
       "      <td>3492112</td>\n",
       "    </tr>\n",
       "    <tr>\n",
       "      <th>probe_2</th>\n",
       "      <td>anoGam3</td>\n",
       "      <td>19</td>\n",
       "      <td>1</td>\n",
       "      <td>19</td>\n",
       "      <td>19</td>\n",
       "      <td>0</td>\n",
       "      <td>100.0</td>\n",
       "      <td>100.0</td>\n",
       "      <td>chr2R</td>\n",
       "      <td>+</td>\n",
       "      <td>3492069</td>\n",
       "      <td>3492087</td>\n",
       "    </tr>\n",
       "    <tr>\n",
       "      <th rowspan=\"2\" valign=\"top\">3</th>\n",
       "      <th>reverse_3</th>\n",
       "      <td>anoGam3</td>\n",
       "      <td>19</td>\n",
       "      <td>1</td>\n",
       "      <td>19</td>\n",
       "      <td>19</td>\n",
       "      <td>0</td>\n",
       "      <td>100.0</td>\n",
       "      <td>100.0</td>\n",
       "      <td>chr2R</td>\n",
       "      <td>-</td>\n",
       "      <td>3492121</td>\n",
       "      <td>3492139</td>\n",
       "    </tr>\n",
       "    <tr>\n",
       "      <th>probe_3</th>\n",
       "      <td>anoGam3</td>\n",
       "      <td>18</td>\n",
       "      <td>1</td>\n",
       "      <td>18</td>\n",
       "      <td>18</td>\n",
       "      <td>0</td>\n",
       "      <td>100.0</td>\n",
       "      <td>100.0</td>\n",
       "      <td>chr2R</td>\n",
       "      <td>+</td>\n",
       "      <td>3492060</td>\n",
       "      <td>3492077</td>\n",
       "    </tr>\n",
       "    <tr>\n",
       "      <th rowspan=\"2\" valign=\"top\">4</th>\n",
       "      <th>forward_4</th>\n",
       "      <td>anoGam3</td>\n",
       "      <td>20</td>\n",
       "      <td>1</td>\n",
       "      <td>20</td>\n",
       "      <td>20</td>\n",
       "      <td>0</td>\n",
       "      <td>100.0</td>\n",
       "      <td>100.0</td>\n",
       "      <td>chr2R</td>\n",
       "      <td>+</td>\n",
       "      <td>3492006</td>\n",
       "      <td>3492025</td>\n",
       "    </tr>\n",
       "    <tr>\n",
       "      <th>reverse_4</th>\n",
       "      <td>anoGam3</td>\n",
       "      <td>18</td>\n",
       "      <td>1</td>\n",
       "      <td>18</td>\n",
       "      <td>18</td>\n",
       "      <td>0</td>\n",
       "      <td>100.0</td>\n",
       "      <td>100.0</td>\n",
       "      <td>chr2R</td>\n",
       "      <td>-</td>\n",
       "      <td>3492100</td>\n",
       "      <td>3492117</td>\n",
       "    </tr>\n",
       "    <tr>\n",
       "      <th rowspan=\"2\" valign=\"top\">5</th>\n",
       "      <th>forward_5</th>\n",
       "      <td>anoGam3</td>\n",
       "      <td>22</td>\n",
       "      <td>1</td>\n",
       "      <td>22</td>\n",
       "      <td>22</td>\n",
       "      <td>0</td>\n",
       "      <td>100.0</td>\n",
       "      <td>100.0</td>\n",
       "      <td>chr2R</td>\n",
       "      <td>+</td>\n",
       "      <td>3492001</td>\n",
       "      <td>3492022</td>\n",
       "    </tr>\n",
       "    <tr>\n",
       "      <th>probe_5</th>\n",
       "      <td>anoGam3</td>\n",
       "      <td>18</td>\n",
       "      <td>1</td>\n",
       "      <td>18</td>\n",
       "      <td>18</td>\n",
       "      <td>0</td>\n",
       "      <td>100.0</td>\n",
       "      <td>100.0</td>\n",
       "      <td>chr2R</td>\n",
       "      <td>+</td>\n",
       "      <td>3492066</td>\n",
       "      <td>3492083</td>\n",
       "    </tr>\n",
       "  </tbody>\n",
       "</table>\n",
       "</div>"
      ],
      "text/plain": [
       "              genome  query_size  aligned_start  aligned_end  matches  \\\n",
       "  primer                                                                \n",
       "1 forward_1  anoGam3          20              1           20       20   \n",
       "  reverse_1  anoGam3          20              1           20       20   \n",
       "  probe_1    anoGam3          20              1           20       20   \n",
       "2 forward_2  anoGam3          20              1           20       20   \n",
       "  reverse_2  anoGam3          19              1           19       19   \n",
       "  probe_2    anoGam3          19              1           19       19   \n",
       "3 reverse_3  anoGam3          19              1           19       19   \n",
       "  probe_3    anoGam3          18              1           18       18   \n",
       "4 forward_4  anoGam3          20              1           20       20   \n",
       "  reverse_4  anoGam3          18              1           18       18   \n",
       "5 forward_5  anoGam3          22              1           22       22   \n",
       "  probe_5    anoGam3          18              1           18       18   \n",
       "\n",
       "             mismatches  %_aligned  %_matched chromosome strand    start  \\\n",
       "  primer                                                                   \n",
       "1 forward_1           0      100.0      100.0      chr2R      +  3492051   \n",
       "  reverse_1           0      100.0      100.0      chr2R      -  3492126   \n",
       "  probe_1             0      100.0      100.0      chr2R      +  3492072   \n",
       "2 forward_2           0      100.0      100.0      chr2R      +  3492047   \n",
       "  reverse_2           0      100.0      100.0      chr2R      -  3492094   \n",
       "  probe_2             0      100.0      100.0      chr2R      +  3492069   \n",
       "3 reverse_3           0      100.0      100.0      chr2R      -  3492121   \n",
       "  probe_3             0      100.0      100.0      chr2R      +  3492060   \n",
       "4 forward_4           0      100.0      100.0      chr2R      +  3492006   \n",
       "  reverse_4           0      100.0      100.0      chr2R      -  3492100   \n",
       "5 forward_5           0      100.0      100.0      chr2R      +  3492001   \n",
       "  probe_5             0      100.0      100.0      chr2R      +  3492066   \n",
       "\n",
       "                 end  \n",
       "  primer              \n",
       "1 forward_1  3492070  \n",
       "  reverse_1  3492145  \n",
       "  probe_1    3492091  \n",
       "2 forward_2  3492066  \n",
       "  reverse_2  3492112  \n",
       "  probe_2    3492087  \n",
       "3 reverse_3  3492139  \n",
       "  probe_3    3492077  \n",
       "4 forward_4  3492025  \n",
       "  reverse_4  3492117  \n",
       "5 forward_5  3492022  \n",
       "  probe_5    3492083  "
      ]
     },
     "execution_count": 17,
     "metadata": {},
     "output_type": "execute_result"
    }
   ],
   "source": [
    "blat_result_df = primers.gget_blat_genome(\n",
    "    assembly='anoGam3'\n",
    ")\n",
    "\n",
    "blat_result_df"
   ]
  },
  {
   "cell_type": "markdown",
   "id": "1f7ca79e",
   "metadata": {
    "id": "1f7ca79e"
   },
   "source": [
    "### Further considerations\n",
    "\n",
    "We may now have designed suitable primers. However, there are some further considerations...\n",
    "\n",
    "- Primers should be run in [**Primer-BLAST**](https://www.ncbi.nlm.nih.gov/tools/primer-blast/), to ensure specificity against the host organism, and specificity for the genomic location of interest.\n",
    "\n",
    "- If in multiplexed use with other primers or probes, primers must not interact with each other. This can be investigated on a one by one basis using the IDT tool [oligoanalyzer](https://eu.idtdna.com/calc/analyzer), though higher throughput algorithms may be required.\n",
    "\n",
    "- If designing TaqMan or Locked Nucleic Acid (LNA) probes for SNP detection, further modification will be required, such as adding fluorophores and ensuring the two probes (one for wild-type, one for mutant) can discriminate between SNPs. for LNA probes, you will want to play around with the placement of LNAs in the oligo sequence, which can allow short probes (~10-14 bases) to bind with high affinity and discriminate between SNPs. IDT have a tool for this which allow you to check the binding affinity between mismatches, though it requires a log in https://eu.idtdna.com/calc/analyzer/lna. \n",
    "\n",
    "- Many more considerations.... [IDT - How to design primers and probes for PCR and qPCR](https://eu.idtdna.com/pages/education/decoded/article/designing-pcr-primers-and-probes)   \n"
   ]
  },
  {
   "cell_type": "markdown",
   "id": "7FUld8V3GQRk",
   "metadata": {
    "id": "7FUld8V3GQRk"
   },
   "source": [
    "## Worked example: Primers to avoid\n",
    "\n",
    "In the above *ace1* example, all of the primer pairs look reasonable. Lets have a look at an example where some of the primers do not look so good. A UGT detoxification gene, AGAP006222, is overexpressed very highly in populations of *An. coluzzii* - lets try and design some qPCR primers to measure its expression. The below `AnoPrimer.designPrimers()` function integrates the entire notebook into one function, for convenience."
   ]
  },
  {
   "cell_type": "code",
   "execution_count": 18,
   "id": "hKugtREjGU8-",
   "metadata": {
    "colab": {
     "base_uri": "https://localhost:8080/",
     "height": 1000
    },
    "id": "hKugtREjGU8-",
    "outputId": "f6cbfa18-b3e7-41d0-f01b-2347dd317015"
   },
   "outputs": [
    {
     "data": {
      "application/javascript": "(function(root) {\n  function now() {\n    return new Date();\n  }\n\n  const force = true;\n\n  if (typeof root._bokeh_onload_callbacks === \"undefined\" || force === true) {\n    root._bokeh_onload_callbacks = [];\n    root._bokeh_is_loading = undefined;\n  }\n\nconst JS_MIME_TYPE = 'application/javascript';\n  const HTML_MIME_TYPE = 'text/html';\n  const EXEC_MIME_TYPE = 'application/vnd.bokehjs_exec.v0+json';\n  const CLASS_NAME = 'output_bokeh rendered_html';\n\n  /**\n   * Render data to the DOM node\n   */\n  function render(props, node) {\n    const script = document.createElement(\"script\");\n    node.appendChild(script);\n  }\n\n  /**\n   * Handle when an output is cleared or removed\n   */\n  function handleClearOutput(event, handle) {\n    function drop(id) {\n      const view = Bokeh.index.get_by_id(id)\n      if (view != null) {\n        view.model.document.clear()\n        Bokeh.index.delete(view)\n      }\n    }\n\n    const cell = handle.cell;\n\n    const id = cell.output_area._bokeh_element_id;\n    const server_id = cell.output_area._bokeh_server_id;\n\n    // Clean up Bokeh references\n    if (id != null) {\n      drop(id)\n    }\n\n    if (server_id !== undefined) {\n      // Clean up Bokeh references\n      const cmd_clean = \"from bokeh.io.state import curstate; print(curstate().uuid_to_server['\" + server_id + \"'].get_sessions()[0].document.roots[0]._id)\";\n      cell.notebook.kernel.execute(cmd_clean, {\n        iopub: {\n          output: function(msg) {\n            const id = msg.content.text.trim()\n            drop(id)\n          }\n        }\n      });\n      // Destroy server and session\n      const cmd_destroy = \"import bokeh.io.notebook as ion; ion.destroy_server('\" + server_id + \"')\";\n      cell.notebook.kernel.execute(cmd_destroy);\n    }\n  }\n\n  /**\n   * Handle when a new output is added\n   */\n  function handleAddOutput(event, handle) {\n    const output_area = handle.output_area;\n    const output = handle.output;\n\n    // limit handleAddOutput to display_data with EXEC_MIME_TYPE content only\n    if ((output.output_type != \"display_data\") || (!Object.prototype.hasOwnProperty.call(output.data, EXEC_MIME_TYPE))) {\n      return\n    }\n\n    const toinsert = output_area.element.find(\".\" + CLASS_NAME.split(' ')[0]);\n\n    if (output.metadata[EXEC_MIME_TYPE][\"id\"] !== undefined) {\n      toinsert[toinsert.length - 1].firstChild.textContent = output.data[JS_MIME_TYPE];\n      // store reference to embed id on output_area\n      output_area._bokeh_element_id = output.metadata[EXEC_MIME_TYPE][\"id\"];\n    }\n    if (output.metadata[EXEC_MIME_TYPE][\"server_id\"] !== undefined) {\n      const bk_div = document.createElement(\"div\");\n      bk_div.innerHTML = output.data[HTML_MIME_TYPE];\n      const script_attrs = bk_div.children[0].attributes;\n      for (let i = 0; i < script_attrs.length; i++) {\n        toinsert[toinsert.length - 1].firstChild.setAttribute(script_attrs[i].name, script_attrs[i].value);\n        toinsert[toinsert.length - 1].firstChild.textContent = bk_div.children[0].textContent\n      }\n      // store reference to server id on output_area\n      output_area._bokeh_server_id = output.metadata[EXEC_MIME_TYPE][\"server_id\"];\n    }\n  }\n\n  function register_renderer(events, OutputArea) {\n\n    function append_mime(data, metadata, element) {\n      // create a DOM node to render to\n      const toinsert = this.create_output_subarea(\n        metadata,\n        CLASS_NAME,\n        EXEC_MIME_TYPE\n      );\n      this.keyboard_manager.register_events(toinsert);\n      // Render to node\n      const props = {data: data, metadata: metadata[EXEC_MIME_TYPE]};\n      render(props, toinsert[toinsert.length - 1]);\n      element.append(toinsert);\n      return toinsert\n    }\n\n    /* Handle when an output is cleared or removed */\n    events.on('clear_output.CodeCell', handleClearOutput);\n    events.on('delete.Cell', handleClearOutput);\n\n    /* Handle when a new output is added */\n    events.on('output_added.OutputArea', handleAddOutput);\n\n    /**\n     * Register the mime type and append_mime function with output_area\n     */\n    OutputArea.prototype.register_mime_type(EXEC_MIME_TYPE, append_mime, {\n      /* Is output safe? */\n      safe: true,\n      /* Index of renderer in `output_area.display_order` */\n      index: 0\n    });\n  }\n\n  // register the mime type if in Jupyter Notebook environment and previously unregistered\n  if (root.Jupyter !== undefined) {\n    const events = require('base/js/events');\n    const OutputArea = require('notebook/js/outputarea').OutputArea;\n\n    if (OutputArea.prototype.mime_types().indexOf(EXEC_MIME_TYPE) == -1) {\n      register_renderer(events, OutputArea);\n    }\n  }\n  if (typeof (root._bokeh_timeout) === \"undefined\" || force === true) {\n    root._bokeh_timeout = Date.now() + 5000;\n    root._bokeh_failed_load = false;\n  }\n\n  const NB_LOAD_WARNING = {'data': {'text/html':\n     \"<div style='background-color: #fdd'>\\n\"+\n     \"<p>\\n\"+\n     \"BokehJS does not appear to have successfully loaded. If loading BokehJS from CDN, this \\n\"+\n     \"may be due to a slow or bad network connection. Possible fixes:\\n\"+\n     \"</p>\\n\"+\n     \"<ul>\\n\"+\n     \"<li>re-rerun `output_notebook()` to attempt to load from CDN again, or</li>\\n\"+\n     \"<li>use INLINE resources instead, as so:</li>\\n\"+\n     \"</ul>\\n\"+\n     \"<code>\\n\"+\n     \"from bokeh.resources import INLINE\\n\"+\n     \"output_notebook(resources=INLINE)\\n\"+\n     \"</code>\\n\"+\n     \"</div>\"}};\n\n  function display_loaded() {\n    const el = document.getElementById(null);\n    if (el != null) {\n      el.textContent = \"BokehJS is loading...\";\n    }\n    if (root.Bokeh !== undefined) {\n      if (el != null) {\n        el.textContent = \"BokehJS \" + root.Bokeh.version + \" successfully loaded.\";\n      }\n    } else if (Date.now() < root._bokeh_timeout) {\n      setTimeout(display_loaded, 100)\n    }\n  }\n\n  function run_callbacks() {\n    try {\n      root._bokeh_onload_callbacks.forEach(function(callback) {\n        if (callback != null)\n          callback();\n      });\n    } finally {\n      delete root._bokeh_onload_callbacks\n    }\n    console.debug(\"Bokeh: all callbacks have finished\");\n  }\n\n  function load_libs(css_urls, js_urls, callback) {\n    if (css_urls == null) css_urls = [];\n    if (js_urls == null) js_urls = [];\n\n    root._bokeh_onload_callbacks.push(callback);\n    if (root._bokeh_is_loading > 0) {\n      console.debug(\"Bokeh: BokehJS is being loaded, scheduling callback at\", now());\n      return null;\n    }\n    if (js_urls == null || js_urls.length === 0) {\n      run_callbacks();\n      return null;\n    }\n    console.debug(\"Bokeh: BokehJS not loaded, scheduling load and callback at\", now());\n    root._bokeh_is_loading = css_urls.length + js_urls.length;\n\n    function on_load() {\n      root._bokeh_is_loading--;\n      if (root._bokeh_is_loading === 0) {\n        console.debug(\"Bokeh: all BokehJS libraries/stylesheets loaded\");\n        run_callbacks()\n      }\n    }\n\n    function on_error(url) {\n      console.error(\"failed to load \" + url);\n    }\n\n    for (let i = 0; i < css_urls.length; i++) {\n      const url = css_urls[i];\n      const element = document.createElement(\"link\");\n      element.onload = on_load;\n      element.onerror = on_error.bind(null, url);\n      element.rel = \"stylesheet\";\n      element.type = \"text/css\";\n      element.href = url;\n      console.debug(\"Bokeh: injecting link tag for BokehJS stylesheet: \", url);\n      document.body.appendChild(element);\n    }\n\n    for (let i = 0; i < js_urls.length; i++) {\n      const url = js_urls[i];\n      const element = document.createElement('script');\n      element.onload = on_load;\n      element.onerror = on_error.bind(null, url);\n      element.async = false;\n      element.src = url;\n      console.debug(\"Bokeh: injecting script tag for BokehJS library: \", url);\n      document.head.appendChild(element);\n    }\n  };\n\n  function inject_raw_css(css) {\n    const element = document.createElement(\"style\");\n    element.appendChild(document.createTextNode(css));\n    document.body.appendChild(element);\n  }\n\n  const js_urls = [\"https://cdn.bokeh.org/bokeh/release/bokeh-3.3.4.min.js\", \"https://cdn.bokeh.org/bokeh/release/bokeh-gl-3.3.4.min.js\", \"https://cdn.bokeh.org/bokeh/release/bokeh-widgets-3.3.4.min.js\", \"https://cdn.bokeh.org/bokeh/release/bokeh-tables-3.3.4.min.js\", \"https://cdn.bokeh.org/bokeh/release/bokeh-mathjax-3.3.4.min.js\"];\n  const css_urls = [];\n\n  const inline_js = [    function(Bokeh) {\n      Bokeh.set_log_level(\"info\");\n    },\nfunction(Bokeh) {\n    }\n  ];\n\n  function run_inline_js() {\n    if (root.Bokeh !== undefined || force === true) {\n          for (let i = 0; i < inline_js.length; i++) {\n      inline_js[i].call(root, root.Bokeh);\n    }\n} else if (Date.now() < root._bokeh_timeout) {\n      setTimeout(run_inline_js, 100);\n    } else if (!root._bokeh_failed_load) {\n      console.log(\"Bokeh: BokehJS failed to load within specified timeout.\");\n      root._bokeh_failed_load = true;\n    } else if (force !== true) {\n      const cell = $(document.getElementById(null)).parents('.cell').data().cell;\n      cell.output_area.append_execute_result(NB_LOAD_WARNING)\n    }\n  }\n\n  if (root._bokeh_is_loading === 0) {\n    console.debug(\"Bokeh: BokehJS loaded, going straight to plotting\");\n    run_inline_js();\n  } else {\n    load_libs(css_urls, js_urls, function() {\n      console.debug(\"Bokeh: BokehJS plotting callback run at\", now());\n      run_inline_js();\n    });\n  }\n}(window));",
      "application/vnd.bokehjs_load.v0+json": ""
     },
     "metadata": {},
     "output_type": "display_data"
    },
    {
     "data": {
      "application/javascript": "(function(root) {\n  function now() {\n    return new Date();\n  }\n\n  const force = true;\n\n  if (typeof root._bokeh_onload_callbacks === \"undefined\" || force === true) {\n    root._bokeh_onload_callbacks = [];\n    root._bokeh_is_loading = undefined;\n  }\n\nconst JS_MIME_TYPE = 'application/javascript';\n  const HTML_MIME_TYPE = 'text/html';\n  const EXEC_MIME_TYPE = 'application/vnd.bokehjs_exec.v0+json';\n  const CLASS_NAME = 'output_bokeh rendered_html';\n\n  /**\n   * Render data to the DOM node\n   */\n  function render(props, node) {\n    const script = document.createElement(\"script\");\n    node.appendChild(script);\n  }\n\n  /**\n   * Handle when an output is cleared or removed\n   */\n  function handleClearOutput(event, handle) {\n    function drop(id) {\n      const view = Bokeh.index.get_by_id(id)\n      if (view != null) {\n        view.model.document.clear()\n        Bokeh.index.delete(view)\n      }\n    }\n\n    const cell = handle.cell;\n\n    const id = cell.output_area._bokeh_element_id;\n    const server_id = cell.output_area._bokeh_server_id;\n\n    // Clean up Bokeh references\n    if (id != null) {\n      drop(id)\n    }\n\n    if (server_id !== undefined) {\n      // Clean up Bokeh references\n      const cmd_clean = \"from bokeh.io.state import curstate; print(curstate().uuid_to_server['\" + server_id + \"'].get_sessions()[0].document.roots[0]._id)\";\n      cell.notebook.kernel.execute(cmd_clean, {\n        iopub: {\n          output: function(msg) {\n            const id = msg.content.text.trim()\n            drop(id)\n          }\n        }\n      });\n      // Destroy server and session\n      const cmd_destroy = \"import bokeh.io.notebook as ion; ion.destroy_server('\" + server_id + \"')\";\n      cell.notebook.kernel.execute(cmd_destroy);\n    }\n  }\n\n  /**\n   * Handle when a new output is added\n   */\n  function handleAddOutput(event, handle) {\n    const output_area = handle.output_area;\n    const output = handle.output;\n\n    // limit handleAddOutput to display_data with EXEC_MIME_TYPE content only\n    if ((output.output_type != \"display_data\") || (!Object.prototype.hasOwnProperty.call(output.data, EXEC_MIME_TYPE))) {\n      return\n    }\n\n    const toinsert = output_area.element.find(\".\" + CLASS_NAME.split(' ')[0]);\n\n    if (output.metadata[EXEC_MIME_TYPE][\"id\"] !== undefined) {\n      toinsert[toinsert.length - 1].firstChild.textContent = output.data[JS_MIME_TYPE];\n      // store reference to embed id on output_area\n      output_area._bokeh_element_id = output.metadata[EXEC_MIME_TYPE][\"id\"];\n    }\n    if (output.metadata[EXEC_MIME_TYPE][\"server_id\"] !== undefined) {\n      const bk_div = document.createElement(\"div\");\n      bk_div.innerHTML = output.data[HTML_MIME_TYPE];\n      const script_attrs = bk_div.children[0].attributes;\n      for (let i = 0; i < script_attrs.length; i++) {\n        toinsert[toinsert.length - 1].firstChild.setAttribute(script_attrs[i].name, script_attrs[i].value);\n        toinsert[toinsert.length - 1].firstChild.textContent = bk_div.children[0].textContent\n      }\n      // store reference to server id on output_area\n      output_area._bokeh_server_id = output.metadata[EXEC_MIME_TYPE][\"server_id\"];\n    }\n  }\n\n  function register_renderer(events, OutputArea) {\n\n    function append_mime(data, metadata, element) {\n      // create a DOM node to render to\n      const toinsert = this.create_output_subarea(\n        metadata,\n        CLASS_NAME,\n        EXEC_MIME_TYPE\n      );\n      this.keyboard_manager.register_events(toinsert);\n      // Render to node\n      const props = {data: data, metadata: metadata[EXEC_MIME_TYPE]};\n      render(props, toinsert[toinsert.length - 1]);\n      element.append(toinsert);\n      return toinsert\n    }\n\n    /* Handle when an output is cleared or removed */\n    events.on('clear_output.CodeCell', handleClearOutput);\n    events.on('delete.Cell', handleClearOutput);\n\n    /* Handle when a new output is added */\n    events.on('output_added.OutputArea', handleAddOutput);\n\n    /**\n     * Register the mime type and append_mime function with output_area\n     */\n    OutputArea.prototype.register_mime_type(EXEC_MIME_TYPE, append_mime, {\n      /* Is output safe? */\n      safe: true,\n      /* Index of renderer in `output_area.display_order` */\n      index: 0\n    });\n  }\n\n  // register the mime type if in Jupyter Notebook environment and previously unregistered\n  if (root.Jupyter !== undefined) {\n    const events = require('base/js/events');\n    const OutputArea = require('notebook/js/outputarea').OutputArea;\n\n    if (OutputArea.prototype.mime_types().indexOf(EXEC_MIME_TYPE) == -1) {\n      register_renderer(events, OutputArea);\n    }\n  }\n  if (typeof (root._bokeh_timeout) === \"undefined\" || force === true) {\n    root._bokeh_timeout = Date.now() + 5000;\n    root._bokeh_failed_load = false;\n  }\n\n  const NB_LOAD_WARNING = {'data': {'text/html':\n     \"<div style='background-color: #fdd'>\\n\"+\n     \"<p>\\n\"+\n     \"BokehJS does not appear to have successfully loaded. If loading BokehJS from CDN, this \\n\"+\n     \"may be due to a slow or bad network connection. Possible fixes:\\n\"+\n     \"</p>\\n\"+\n     \"<ul>\\n\"+\n     \"<li>re-rerun `output_notebook()` to attempt to load from CDN again, or</li>\\n\"+\n     \"<li>use INLINE resources instead, as so:</li>\\n\"+\n     \"</ul>\\n\"+\n     \"<code>\\n\"+\n     \"from bokeh.resources import INLINE\\n\"+\n     \"output_notebook(resources=INLINE)\\n\"+\n     \"</code>\\n\"+\n     \"</div>\"}};\n\n  function display_loaded() {\n    const el = document.getElementById(null);\n    if (el != null) {\n      el.textContent = \"BokehJS is loading...\";\n    }\n    if (root.Bokeh !== undefined) {\n      if (el != null) {\n        el.textContent = \"BokehJS \" + root.Bokeh.version + \" successfully loaded.\";\n      }\n    } else if (Date.now() < root._bokeh_timeout) {\n      setTimeout(display_loaded, 100)\n    }\n  }\n\n  function run_callbacks() {\n    try {\n      root._bokeh_onload_callbacks.forEach(function(callback) {\n        if (callback != null)\n          callback();\n      });\n    } finally {\n      delete root._bokeh_onload_callbacks\n    }\n    console.debug(\"Bokeh: all callbacks have finished\");\n  }\n\n  function load_libs(css_urls, js_urls, callback) {\n    if (css_urls == null) css_urls = [];\n    if (js_urls == null) js_urls = [];\n\n    root._bokeh_onload_callbacks.push(callback);\n    if (root._bokeh_is_loading > 0) {\n      console.debug(\"Bokeh: BokehJS is being loaded, scheduling callback at\", now());\n      return null;\n    }\n    if (js_urls == null || js_urls.length === 0) {\n      run_callbacks();\n      return null;\n    }\n    console.debug(\"Bokeh: BokehJS not loaded, scheduling load and callback at\", now());\n    root._bokeh_is_loading = css_urls.length + js_urls.length;\n\n    function on_load() {\n      root._bokeh_is_loading--;\n      if (root._bokeh_is_loading === 0) {\n        console.debug(\"Bokeh: all BokehJS libraries/stylesheets loaded\");\n        run_callbacks()\n      }\n    }\n\n    function on_error(url) {\n      console.error(\"failed to load \" + url);\n    }\n\n    for (let i = 0; i < css_urls.length; i++) {\n      const url = css_urls[i];\n      const element = document.createElement(\"link\");\n      element.onload = on_load;\n      element.onerror = on_error.bind(null, url);\n      element.rel = \"stylesheet\";\n      element.type = \"text/css\";\n      element.href = url;\n      console.debug(\"Bokeh: injecting link tag for BokehJS stylesheet: \", url);\n      document.body.appendChild(element);\n    }\n\n    for (let i = 0; i < js_urls.length; i++) {\n      const url = js_urls[i];\n      const element = document.createElement('script');\n      element.onload = on_load;\n      element.onerror = on_error.bind(null, url);\n      element.async = false;\n      element.src = url;\n      console.debug(\"Bokeh: injecting script tag for BokehJS library: \", url);\n      document.head.appendChild(element);\n    }\n  };\n\n  function inject_raw_css(css) {\n    const element = document.createElement(\"style\");\n    element.appendChild(document.createTextNode(css));\n    document.body.appendChild(element);\n  }\n\n  const js_urls = [\"https://cdn.bokeh.org/bokeh/release/bokeh-3.3.4.min.js\", \"https://cdn.bokeh.org/bokeh/release/bokeh-gl-3.3.4.min.js\", \"https://cdn.bokeh.org/bokeh/release/bokeh-widgets-3.3.4.min.js\", \"https://cdn.bokeh.org/bokeh/release/bokeh-tables-3.3.4.min.js\", \"https://cdn.bokeh.org/bokeh/release/bokeh-mathjax-3.3.4.min.js\"];\n  const css_urls = [];\n\n  const inline_js = [    function(Bokeh) {\n      Bokeh.set_log_level(\"info\");\n    },\nfunction(Bokeh) {\n    }\n  ];\n\n  function run_inline_js() {\n    if (root.Bokeh !== undefined || force === true) {\n          for (let i = 0; i < inline_js.length; i++) {\n      inline_js[i].call(root, root.Bokeh);\n    }\n} else if (Date.now() < root._bokeh_timeout) {\n      setTimeout(run_inline_js, 100);\n    } else if (!root._bokeh_failed_load) {\n      console.log(\"Bokeh: BokehJS failed to load within specified timeout.\");\n      root._bokeh_failed_load = true;\n    } else if (force !== true) {\n      const cell = $(document.getElementById(null)).parents('.cell').data().cell;\n      cell.output_area.append_execute_result(NB_LOAD_WARNING)\n    }\n  }\n\n  if (root._bokeh_is_loading === 0) {\n    console.debug(\"Bokeh: BokehJS loaded, going straight to plotting\");\n    run_inline_js();\n  } else {\n    load_libs(css_urls, js_urls, function() {\n      console.debug(\"Bokeh: BokehJS plotting callback run at\", now());\n      run_inline_js();\n    });\n  }\n}(window));",
      "application/vnd.bokehjs_load.v0+json": ""
     },
     "metadata": {},
     "output_type": "display_data"
    },
    {
     "name": "stdout",
     "output_type": "stream",
     "text": [
      "Our genome sequence for 2L is 49364325 bp long\n"
     ]
    },
    {
     "data": {
      "application/javascript": "(function(root) {\n  function now() {\n    return new Date();\n  }\n\n  const force = true;\n\n  if (typeof root._bokeh_onload_callbacks === \"undefined\" || force === true) {\n    root._bokeh_onload_callbacks = [];\n    root._bokeh_is_loading = undefined;\n  }\n\nconst JS_MIME_TYPE = 'application/javascript';\n  const HTML_MIME_TYPE = 'text/html';\n  const EXEC_MIME_TYPE = 'application/vnd.bokehjs_exec.v0+json';\n  const CLASS_NAME = 'output_bokeh rendered_html';\n\n  /**\n   * Render data to the DOM node\n   */\n  function render(props, node) {\n    const script = document.createElement(\"script\");\n    node.appendChild(script);\n  }\n\n  /**\n   * Handle when an output is cleared or removed\n   */\n  function handleClearOutput(event, handle) {\n    function drop(id) {\n      const view = Bokeh.index.get_by_id(id)\n      if (view != null) {\n        view.model.document.clear()\n        Bokeh.index.delete(view)\n      }\n    }\n\n    const cell = handle.cell;\n\n    const id = cell.output_area._bokeh_element_id;\n    const server_id = cell.output_area._bokeh_server_id;\n\n    // Clean up Bokeh references\n    if (id != null) {\n      drop(id)\n    }\n\n    if (server_id !== undefined) {\n      // Clean up Bokeh references\n      const cmd_clean = \"from bokeh.io.state import curstate; print(curstate().uuid_to_server['\" + server_id + \"'].get_sessions()[0].document.roots[0]._id)\";\n      cell.notebook.kernel.execute(cmd_clean, {\n        iopub: {\n          output: function(msg) {\n            const id = msg.content.text.trim()\n            drop(id)\n          }\n        }\n      });\n      // Destroy server and session\n      const cmd_destroy = \"import bokeh.io.notebook as ion; ion.destroy_server('\" + server_id + \"')\";\n      cell.notebook.kernel.execute(cmd_destroy);\n    }\n  }\n\n  /**\n   * Handle when a new output is added\n   */\n  function handleAddOutput(event, handle) {\n    const output_area = handle.output_area;\n    const output = handle.output;\n\n    // limit handleAddOutput to display_data with EXEC_MIME_TYPE content only\n    if ((output.output_type != \"display_data\") || (!Object.prototype.hasOwnProperty.call(output.data, EXEC_MIME_TYPE))) {\n      return\n    }\n\n    const toinsert = output_area.element.find(\".\" + CLASS_NAME.split(' ')[0]);\n\n    if (output.metadata[EXEC_MIME_TYPE][\"id\"] !== undefined) {\n      toinsert[toinsert.length - 1].firstChild.textContent = output.data[JS_MIME_TYPE];\n      // store reference to embed id on output_area\n      output_area._bokeh_element_id = output.metadata[EXEC_MIME_TYPE][\"id\"];\n    }\n    if (output.metadata[EXEC_MIME_TYPE][\"server_id\"] !== undefined) {\n      const bk_div = document.createElement(\"div\");\n      bk_div.innerHTML = output.data[HTML_MIME_TYPE];\n      const script_attrs = bk_div.children[0].attributes;\n      for (let i = 0; i < script_attrs.length; i++) {\n        toinsert[toinsert.length - 1].firstChild.setAttribute(script_attrs[i].name, script_attrs[i].value);\n        toinsert[toinsert.length - 1].firstChild.textContent = bk_div.children[0].textContent\n      }\n      // store reference to server id on output_area\n      output_area._bokeh_server_id = output.metadata[EXEC_MIME_TYPE][\"server_id\"];\n    }\n  }\n\n  function register_renderer(events, OutputArea) {\n\n    function append_mime(data, metadata, element) {\n      // create a DOM node to render to\n      const toinsert = this.create_output_subarea(\n        metadata,\n        CLASS_NAME,\n        EXEC_MIME_TYPE\n      );\n      this.keyboard_manager.register_events(toinsert);\n      // Render to node\n      const props = {data: data, metadata: metadata[EXEC_MIME_TYPE]};\n      render(props, toinsert[toinsert.length - 1]);\n      element.append(toinsert);\n      return toinsert\n    }\n\n    /* Handle when an output is cleared or removed */\n    events.on('clear_output.CodeCell', handleClearOutput);\n    events.on('delete.Cell', handleClearOutput);\n\n    /* Handle when a new output is added */\n    events.on('output_added.OutputArea', handleAddOutput);\n\n    /**\n     * Register the mime type and append_mime function with output_area\n     */\n    OutputArea.prototype.register_mime_type(EXEC_MIME_TYPE, append_mime, {\n      /* Is output safe? */\n      safe: true,\n      /* Index of renderer in `output_area.display_order` */\n      index: 0\n    });\n  }\n\n  // register the mime type if in Jupyter Notebook environment and previously unregistered\n  if (root.Jupyter !== undefined) {\n    const events = require('base/js/events');\n    const OutputArea = require('notebook/js/outputarea').OutputArea;\n\n    if (OutputArea.prototype.mime_types().indexOf(EXEC_MIME_TYPE) == -1) {\n      register_renderer(events, OutputArea);\n    }\n  }\n  if (typeof (root._bokeh_timeout) === \"undefined\" || force === true) {\n    root._bokeh_timeout = Date.now() + 5000;\n    root._bokeh_failed_load = false;\n  }\n\n  const NB_LOAD_WARNING = {'data': {'text/html':\n     \"<div style='background-color: #fdd'>\\n\"+\n     \"<p>\\n\"+\n     \"BokehJS does not appear to have successfully loaded. If loading BokehJS from CDN, this \\n\"+\n     \"may be due to a slow or bad network connection. Possible fixes:\\n\"+\n     \"</p>\\n\"+\n     \"<ul>\\n\"+\n     \"<li>re-rerun `output_notebook()` to attempt to load from CDN again, or</li>\\n\"+\n     \"<li>use INLINE resources instead, as so:</li>\\n\"+\n     \"</ul>\\n\"+\n     \"<code>\\n\"+\n     \"from bokeh.resources import INLINE\\n\"+\n     \"output_notebook(resources=INLINE)\\n\"+\n     \"</code>\\n\"+\n     \"</div>\"}};\n\n  function display_loaded() {\n    const el = document.getElementById(null);\n    if (el != null) {\n      el.textContent = \"BokehJS is loading...\";\n    }\n    if (root.Bokeh !== undefined) {\n      if (el != null) {\n        el.textContent = \"BokehJS \" + root.Bokeh.version + \" successfully loaded.\";\n      }\n    } else if (Date.now() < root._bokeh_timeout) {\n      setTimeout(display_loaded, 100)\n    }\n  }\n\n  function run_callbacks() {\n    try {\n      root._bokeh_onload_callbacks.forEach(function(callback) {\n        if (callback != null)\n          callback();\n      });\n    } finally {\n      delete root._bokeh_onload_callbacks\n    }\n    console.debug(\"Bokeh: all callbacks have finished\");\n  }\n\n  function load_libs(css_urls, js_urls, callback) {\n    if (css_urls == null) css_urls = [];\n    if (js_urls == null) js_urls = [];\n\n    root._bokeh_onload_callbacks.push(callback);\n    if (root._bokeh_is_loading > 0) {\n      console.debug(\"Bokeh: BokehJS is being loaded, scheduling callback at\", now());\n      return null;\n    }\n    if (js_urls == null || js_urls.length === 0) {\n      run_callbacks();\n      return null;\n    }\n    console.debug(\"Bokeh: BokehJS not loaded, scheduling load and callback at\", now());\n    root._bokeh_is_loading = css_urls.length + js_urls.length;\n\n    function on_load() {\n      root._bokeh_is_loading--;\n      if (root._bokeh_is_loading === 0) {\n        console.debug(\"Bokeh: all BokehJS libraries/stylesheets loaded\");\n        run_callbacks()\n      }\n    }\n\n    function on_error(url) {\n      console.error(\"failed to load \" + url);\n    }\n\n    for (let i = 0; i < css_urls.length; i++) {\n      const url = css_urls[i];\n      const element = document.createElement(\"link\");\n      element.onload = on_load;\n      element.onerror = on_error.bind(null, url);\n      element.rel = \"stylesheet\";\n      element.type = \"text/css\";\n      element.href = url;\n      console.debug(\"Bokeh: injecting link tag for BokehJS stylesheet: \", url);\n      document.body.appendChild(element);\n    }\n\n    for (let i = 0; i < js_urls.length; i++) {\n      const url = js_urls[i];\n      const element = document.createElement('script');\n      element.onload = on_load;\n      element.onerror = on_error.bind(null, url);\n      element.async = false;\n      element.src = url;\n      console.debug(\"Bokeh: injecting script tag for BokehJS library: \", url);\n      document.head.appendChild(element);\n    }\n  };\n\n  function inject_raw_css(css) {\n    const element = document.createElement(\"style\");\n    element.appendChild(document.createTextNode(css));\n    document.body.appendChild(element);\n  }\n\n  const js_urls = [\"https://cdn.bokeh.org/bokeh/release/bokeh-3.3.4.min.js\", \"https://cdn.bokeh.org/bokeh/release/bokeh-gl-3.3.4.min.js\", \"https://cdn.bokeh.org/bokeh/release/bokeh-widgets-3.3.4.min.js\", \"https://cdn.bokeh.org/bokeh/release/bokeh-tables-3.3.4.min.js\", \"https://cdn.bokeh.org/bokeh/release/bokeh-mathjax-3.3.4.min.js\"];\n  const css_urls = [];\n\n  const inline_js = [    function(Bokeh) {\n      Bokeh.set_log_level(\"info\");\n    },\nfunction(Bokeh) {\n    }\n  ];\n\n  function run_inline_js() {\n    if (root.Bokeh !== undefined || force === true) {\n          for (let i = 0; i < inline_js.length; i++) {\n      inline_js[i].call(root, root.Bokeh);\n    }\n} else if (Date.now() < root._bokeh_timeout) {\n      setTimeout(run_inline_js, 100);\n    } else if (!root._bokeh_failed_load) {\n      console.log(\"Bokeh: BokehJS failed to load within specified timeout.\");\n      root._bokeh_failed_load = true;\n    } else if (force !== true) {\n      const cell = $(document.getElementById(null)).parents('.cell').data().cell;\n      cell.output_area.append_execute_result(NB_LOAD_WARNING)\n    }\n  }\n\n  if (root._bokeh_is_loading === 0) {\n    console.debug(\"Bokeh: BokehJS loaded, going straight to plotting\");\n    run_inline_js();\n  } else {\n    load_libs(css_urls, js_urls, function() {\n      console.debug(\"Bokeh: BokehJS plotting callback run at\", now());\n      run_inline_js();\n    });\n  }\n}(window));",
      "application/vnd.bokehjs_load.v0+json": ""
     },
     "metadata": {},
     "output_type": "display_data"
    },
    {
     "name": "stdout",
     "output_type": "stream",
     "text": [
      "Exon junctions for AGAP006222-RA: [ 238  325  911 1353] [28524463, 28524621, 28525282, 28525790] \n",
      "\n",
      "Subsetting allele frequencies to taxon == 'coluzzii'\n"
     ]
    },
    {
     "data": {
      "application/javascript": "(function(root) {\n  function now() {\n    return new Date();\n  }\n\n  const force = true;\n\n  if (typeof root._bokeh_onload_callbacks === \"undefined\" || force === true) {\n    root._bokeh_onload_callbacks = [];\n    root._bokeh_is_loading = undefined;\n  }\n\nconst JS_MIME_TYPE = 'application/javascript';\n  const HTML_MIME_TYPE = 'text/html';\n  const EXEC_MIME_TYPE = 'application/vnd.bokehjs_exec.v0+json';\n  const CLASS_NAME = 'output_bokeh rendered_html';\n\n  /**\n   * Render data to the DOM node\n   */\n  function render(props, node) {\n    const script = document.createElement(\"script\");\n    node.appendChild(script);\n  }\n\n  /**\n   * Handle when an output is cleared or removed\n   */\n  function handleClearOutput(event, handle) {\n    function drop(id) {\n      const view = Bokeh.index.get_by_id(id)\n      if (view != null) {\n        view.model.document.clear()\n        Bokeh.index.delete(view)\n      }\n    }\n\n    const cell = handle.cell;\n\n    const id = cell.output_area._bokeh_element_id;\n    const server_id = cell.output_area._bokeh_server_id;\n\n    // Clean up Bokeh references\n    if (id != null) {\n      drop(id)\n    }\n\n    if (server_id !== undefined) {\n      // Clean up Bokeh references\n      const cmd_clean = \"from bokeh.io.state import curstate; print(curstate().uuid_to_server['\" + server_id + \"'].get_sessions()[0].document.roots[0]._id)\";\n      cell.notebook.kernel.execute(cmd_clean, {\n        iopub: {\n          output: function(msg) {\n            const id = msg.content.text.trim()\n            drop(id)\n          }\n        }\n      });\n      // Destroy server and session\n      const cmd_destroy = \"import bokeh.io.notebook as ion; ion.destroy_server('\" + server_id + \"')\";\n      cell.notebook.kernel.execute(cmd_destroy);\n    }\n  }\n\n  /**\n   * Handle when a new output is added\n   */\n  function handleAddOutput(event, handle) {\n    const output_area = handle.output_area;\n    const output = handle.output;\n\n    // limit handleAddOutput to display_data with EXEC_MIME_TYPE content only\n    if ((output.output_type != \"display_data\") || (!Object.prototype.hasOwnProperty.call(output.data, EXEC_MIME_TYPE))) {\n      return\n    }\n\n    const toinsert = output_area.element.find(\".\" + CLASS_NAME.split(' ')[0]);\n\n    if (output.metadata[EXEC_MIME_TYPE][\"id\"] !== undefined) {\n      toinsert[toinsert.length - 1].firstChild.textContent = output.data[JS_MIME_TYPE];\n      // store reference to embed id on output_area\n      output_area._bokeh_element_id = output.metadata[EXEC_MIME_TYPE][\"id\"];\n    }\n    if (output.metadata[EXEC_MIME_TYPE][\"server_id\"] !== undefined) {\n      const bk_div = document.createElement(\"div\");\n      bk_div.innerHTML = output.data[HTML_MIME_TYPE];\n      const script_attrs = bk_div.children[0].attributes;\n      for (let i = 0; i < script_attrs.length; i++) {\n        toinsert[toinsert.length - 1].firstChild.setAttribute(script_attrs[i].name, script_attrs[i].value);\n        toinsert[toinsert.length - 1].firstChild.textContent = bk_div.children[0].textContent\n      }\n      // store reference to server id on output_area\n      output_area._bokeh_server_id = output.metadata[EXEC_MIME_TYPE][\"server_id\"];\n    }\n  }\n\n  function register_renderer(events, OutputArea) {\n\n    function append_mime(data, metadata, element) {\n      // create a DOM node to render to\n      const toinsert = this.create_output_subarea(\n        metadata,\n        CLASS_NAME,\n        EXEC_MIME_TYPE\n      );\n      this.keyboard_manager.register_events(toinsert);\n      // Render to node\n      const props = {data: data, metadata: metadata[EXEC_MIME_TYPE]};\n      render(props, toinsert[toinsert.length - 1]);\n      element.append(toinsert);\n      return toinsert\n    }\n\n    /* Handle when an output is cleared or removed */\n    events.on('clear_output.CodeCell', handleClearOutput);\n    events.on('delete.Cell', handleClearOutput);\n\n    /* Handle when a new output is added */\n    events.on('output_added.OutputArea', handleAddOutput);\n\n    /**\n     * Register the mime type and append_mime function with output_area\n     */\n    OutputArea.prototype.register_mime_type(EXEC_MIME_TYPE, append_mime, {\n      /* Is output safe? */\n      safe: true,\n      /* Index of renderer in `output_area.display_order` */\n      index: 0\n    });\n  }\n\n  // register the mime type if in Jupyter Notebook environment and previously unregistered\n  if (root.Jupyter !== undefined) {\n    const events = require('base/js/events');\n    const OutputArea = require('notebook/js/outputarea').OutputArea;\n\n    if (OutputArea.prototype.mime_types().indexOf(EXEC_MIME_TYPE) == -1) {\n      register_renderer(events, OutputArea);\n    }\n  }\n  if (typeof (root._bokeh_timeout) === \"undefined\" || force === true) {\n    root._bokeh_timeout = Date.now() + 5000;\n    root._bokeh_failed_load = false;\n  }\n\n  const NB_LOAD_WARNING = {'data': {'text/html':\n     \"<div style='background-color: #fdd'>\\n\"+\n     \"<p>\\n\"+\n     \"BokehJS does not appear to have successfully loaded. If loading BokehJS from CDN, this \\n\"+\n     \"may be due to a slow or bad network connection. Possible fixes:\\n\"+\n     \"</p>\\n\"+\n     \"<ul>\\n\"+\n     \"<li>re-rerun `output_notebook()` to attempt to load from CDN again, or</li>\\n\"+\n     \"<li>use INLINE resources instead, as so:</li>\\n\"+\n     \"</ul>\\n\"+\n     \"<code>\\n\"+\n     \"from bokeh.resources import INLINE\\n\"+\n     \"output_notebook(resources=INLINE)\\n\"+\n     \"</code>\\n\"+\n     \"</div>\"}};\n\n  function display_loaded() {\n    const el = document.getElementById(null);\n    if (el != null) {\n      el.textContent = \"BokehJS is loading...\";\n    }\n    if (root.Bokeh !== undefined) {\n      if (el != null) {\n        el.textContent = \"BokehJS \" + root.Bokeh.version + \" successfully loaded.\";\n      }\n    } else if (Date.now() < root._bokeh_timeout) {\n      setTimeout(display_loaded, 100)\n    }\n  }\n\n  function run_callbacks() {\n    try {\n      root._bokeh_onload_callbacks.forEach(function(callback) {\n        if (callback != null)\n          callback();\n      });\n    } finally {\n      delete root._bokeh_onload_callbacks\n    }\n    console.debug(\"Bokeh: all callbacks have finished\");\n  }\n\n  function load_libs(css_urls, js_urls, callback) {\n    if (css_urls == null) css_urls = [];\n    if (js_urls == null) js_urls = [];\n\n    root._bokeh_onload_callbacks.push(callback);\n    if (root._bokeh_is_loading > 0) {\n      console.debug(\"Bokeh: BokehJS is being loaded, scheduling callback at\", now());\n      return null;\n    }\n    if (js_urls == null || js_urls.length === 0) {\n      run_callbacks();\n      return null;\n    }\n    console.debug(\"Bokeh: BokehJS not loaded, scheduling load and callback at\", now());\n    root._bokeh_is_loading = css_urls.length + js_urls.length;\n\n    function on_load() {\n      root._bokeh_is_loading--;\n      if (root._bokeh_is_loading === 0) {\n        console.debug(\"Bokeh: all BokehJS libraries/stylesheets loaded\");\n        run_callbacks()\n      }\n    }\n\n    function on_error(url) {\n      console.error(\"failed to load \" + url);\n    }\n\n    for (let i = 0; i < css_urls.length; i++) {\n      const url = css_urls[i];\n      const element = document.createElement(\"link\");\n      element.onload = on_load;\n      element.onerror = on_error.bind(null, url);\n      element.rel = \"stylesheet\";\n      element.type = \"text/css\";\n      element.href = url;\n      console.debug(\"Bokeh: injecting link tag for BokehJS stylesheet: \", url);\n      document.body.appendChild(element);\n    }\n\n    for (let i = 0; i < js_urls.length; i++) {\n      const url = js_urls[i];\n      const element = document.createElement('script');\n      element.onload = on_load;\n      element.onerror = on_error.bind(null, url);\n      element.async = false;\n      element.src = url;\n      console.debug(\"Bokeh: injecting script tag for BokehJS library: \", url);\n      document.head.appendChild(element);\n    }\n  };\n\n  function inject_raw_css(css) {\n    const element = document.createElement(\"style\");\n    element.appendChild(document.createTextNode(css));\n    document.body.appendChild(element);\n  }\n\n  const js_urls = [\"https://cdn.bokeh.org/bokeh/release/bokeh-3.3.4.min.js\", \"https://cdn.bokeh.org/bokeh/release/bokeh-gl-3.3.4.min.js\", \"https://cdn.bokeh.org/bokeh/release/bokeh-widgets-3.3.4.min.js\", \"https://cdn.bokeh.org/bokeh/release/bokeh-tables-3.3.4.min.js\", \"https://cdn.bokeh.org/bokeh/release/bokeh-mathjax-3.3.4.min.js\"];\n  const css_urls = [];\n\n  const inline_js = [    function(Bokeh) {\n      Bokeh.set_log_level(\"info\");\n    },\nfunction(Bokeh) {\n    }\n  ];\n\n  function run_inline_js() {\n    if (root.Bokeh !== undefined || force === true) {\n          for (let i = 0; i < inline_js.length; i++) {\n      inline_js[i].call(root, root.Bokeh);\n    }\n} else if (Date.now() < root._bokeh_timeout) {\n      setTimeout(run_inline_js, 100);\n    } else if (!root._bokeh_failed_load) {\n      console.log(\"Bokeh: BokehJS failed to load within specified timeout.\");\n      root._bokeh_failed_load = true;\n    } else if (force !== true) {\n      const cell = $(document.getElementById(null)).parents('.cell').data().cell;\n      cell.output_area.append_execute_result(NB_LOAD_WARNING)\n    }\n  }\n\n  if (root._bokeh_is_loading === 0) {\n    console.debug(\"Bokeh: BokehJS loaded, going straight to plotting\");\n    run_inline_js();\n  } else {\n    load_libs(css_urls, js_urls, function() {\n      console.debug(\"Bokeh: BokehJS plotting callback run at\", now());\n      run_inline_js();\n    });\n  }\n}(window));",
      "application/vnd.bokehjs_load.v0+json": ""
     },
     "metadata": {},
     "output_type": "display_data"
    },
    {
     "name": "stdout",
     "output_type": "stream",
     "text": [
      "                                     \r"
     ]
    },
    {
     "data": {
      "application/javascript": "(function(root) {\n  function now() {\n    return new Date();\n  }\n\n  const force = true;\n\n  if (typeof root._bokeh_onload_callbacks === \"undefined\" || force === true) {\n    root._bokeh_onload_callbacks = [];\n    root._bokeh_is_loading = undefined;\n  }\n\nconst JS_MIME_TYPE = 'application/javascript';\n  const HTML_MIME_TYPE = 'text/html';\n  const EXEC_MIME_TYPE = 'application/vnd.bokehjs_exec.v0+json';\n  const CLASS_NAME = 'output_bokeh rendered_html';\n\n  /**\n   * Render data to the DOM node\n   */\n  function render(props, node) {\n    const script = document.createElement(\"script\");\n    node.appendChild(script);\n  }\n\n  /**\n   * Handle when an output is cleared or removed\n   */\n  function handleClearOutput(event, handle) {\n    function drop(id) {\n      const view = Bokeh.index.get_by_id(id)\n      if (view != null) {\n        view.model.document.clear()\n        Bokeh.index.delete(view)\n      }\n    }\n\n    const cell = handle.cell;\n\n    const id = cell.output_area._bokeh_element_id;\n    const server_id = cell.output_area._bokeh_server_id;\n\n    // Clean up Bokeh references\n    if (id != null) {\n      drop(id)\n    }\n\n    if (server_id !== undefined) {\n      // Clean up Bokeh references\n      const cmd_clean = \"from bokeh.io.state import curstate; print(curstate().uuid_to_server['\" + server_id + \"'].get_sessions()[0].document.roots[0]._id)\";\n      cell.notebook.kernel.execute(cmd_clean, {\n        iopub: {\n          output: function(msg) {\n            const id = msg.content.text.trim()\n            drop(id)\n          }\n        }\n      });\n      // Destroy server and session\n      const cmd_destroy = \"import bokeh.io.notebook as ion; ion.destroy_server('\" + server_id + \"')\";\n      cell.notebook.kernel.execute(cmd_destroy);\n    }\n  }\n\n  /**\n   * Handle when a new output is added\n   */\n  function handleAddOutput(event, handle) {\n    const output_area = handle.output_area;\n    const output = handle.output;\n\n    // limit handleAddOutput to display_data with EXEC_MIME_TYPE content only\n    if ((output.output_type != \"display_data\") || (!Object.prototype.hasOwnProperty.call(output.data, EXEC_MIME_TYPE))) {\n      return\n    }\n\n    const toinsert = output_area.element.find(\".\" + CLASS_NAME.split(' ')[0]);\n\n    if (output.metadata[EXEC_MIME_TYPE][\"id\"] !== undefined) {\n      toinsert[toinsert.length - 1].firstChild.textContent = output.data[JS_MIME_TYPE];\n      // store reference to embed id on output_area\n      output_area._bokeh_element_id = output.metadata[EXEC_MIME_TYPE][\"id\"];\n    }\n    if (output.metadata[EXEC_MIME_TYPE][\"server_id\"] !== undefined) {\n      const bk_div = document.createElement(\"div\");\n      bk_div.innerHTML = output.data[HTML_MIME_TYPE];\n      const script_attrs = bk_div.children[0].attributes;\n      for (let i = 0; i < script_attrs.length; i++) {\n        toinsert[toinsert.length - 1].firstChild.setAttribute(script_attrs[i].name, script_attrs[i].value);\n        toinsert[toinsert.length - 1].firstChild.textContent = bk_div.children[0].textContent\n      }\n      // store reference to server id on output_area\n      output_area._bokeh_server_id = output.metadata[EXEC_MIME_TYPE][\"server_id\"];\n    }\n  }\n\n  function register_renderer(events, OutputArea) {\n\n    function append_mime(data, metadata, element) {\n      // create a DOM node to render to\n      const toinsert = this.create_output_subarea(\n        metadata,\n        CLASS_NAME,\n        EXEC_MIME_TYPE\n      );\n      this.keyboard_manager.register_events(toinsert);\n      // Render to node\n      const props = {data: data, metadata: metadata[EXEC_MIME_TYPE]};\n      render(props, toinsert[toinsert.length - 1]);\n      element.append(toinsert);\n      return toinsert\n    }\n\n    /* Handle when an output is cleared or removed */\n    events.on('clear_output.CodeCell', handleClearOutput);\n    events.on('delete.Cell', handleClearOutput);\n\n    /* Handle when a new output is added */\n    events.on('output_added.OutputArea', handleAddOutput);\n\n    /**\n     * Register the mime type and append_mime function with output_area\n     */\n    OutputArea.prototype.register_mime_type(EXEC_MIME_TYPE, append_mime, {\n      /* Is output safe? */\n      safe: true,\n      /* Index of renderer in `output_area.display_order` */\n      index: 0\n    });\n  }\n\n  // register the mime type if in Jupyter Notebook environment and previously unregistered\n  if (root.Jupyter !== undefined) {\n    const events = require('base/js/events');\n    const OutputArea = require('notebook/js/outputarea').OutputArea;\n\n    if (OutputArea.prototype.mime_types().indexOf(EXEC_MIME_TYPE) == -1) {\n      register_renderer(events, OutputArea);\n    }\n  }\n  if (typeof (root._bokeh_timeout) === \"undefined\" || force === true) {\n    root._bokeh_timeout = Date.now() + 5000;\n    root._bokeh_failed_load = false;\n  }\n\n  const NB_LOAD_WARNING = {'data': {'text/html':\n     \"<div style='background-color: #fdd'>\\n\"+\n     \"<p>\\n\"+\n     \"BokehJS does not appear to have successfully loaded. If loading BokehJS from CDN, this \\n\"+\n     \"may be due to a slow or bad network connection. Possible fixes:\\n\"+\n     \"</p>\\n\"+\n     \"<ul>\\n\"+\n     \"<li>re-rerun `output_notebook()` to attempt to load from CDN again, or</li>\\n\"+\n     \"<li>use INLINE resources instead, as so:</li>\\n\"+\n     \"</ul>\\n\"+\n     \"<code>\\n\"+\n     \"from bokeh.resources import INLINE\\n\"+\n     \"output_notebook(resources=INLINE)\\n\"+\n     \"</code>\\n\"+\n     \"</div>\"}};\n\n  function display_loaded() {\n    const el = document.getElementById(null);\n    if (el != null) {\n      el.textContent = \"BokehJS is loading...\";\n    }\n    if (root.Bokeh !== undefined) {\n      if (el != null) {\n        el.textContent = \"BokehJS \" + root.Bokeh.version + \" successfully loaded.\";\n      }\n    } else if (Date.now() < root._bokeh_timeout) {\n      setTimeout(display_loaded, 100)\n    }\n  }\n\n  function run_callbacks() {\n    try {\n      root._bokeh_onload_callbacks.forEach(function(callback) {\n        if (callback != null)\n          callback();\n      });\n    } finally {\n      delete root._bokeh_onload_callbacks\n    }\n    console.debug(\"Bokeh: all callbacks have finished\");\n  }\n\n  function load_libs(css_urls, js_urls, callback) {\n    if (css_urls == null) css_urls = [];\n    if (js_urls == null) js_urls = [];\n\n    root._bokeh_onload_callbacks.push(callback);\n    if (root._bokeh_is_loading > 0) {\n      console.debug(\"Bokeh: BokehJS is being loaded, scheduling callback at\", now());\n      return null;\n    }\n    if (js_urls == null || js_urls.length === 0) {\n      run_callbacks();\n      return null;\n    }\n    console.debug(\"Bokeh: BokehJS not loaded, scheduling load and callback at\", now());\n    root._bokeh_is_loading = css_urls.length + js_urls.length;\n\n    function on_load() {\n      root._bokeh_is_loading--;\n      if (root._bokeh_is_loading === 0) {\n        console.debug(\"Bokeh: all BokehJS libraries/stylesheets loaded\");\n        run_callbacks()\n      }\n    }\n\n    function on_error(url) {\n      console.error(\"failed to load \" + url);\n    }\n\n    for (let i = 0; i < css_urls.length; i++) {\n      const url = css_urls[i];\n      const element = document.createElement(\"link\");\n      element.onload = on_load;\n      element.onerror = on_error.bind(null, url);\n      element.rel = \"stylesheet\";\n      element.type = \"text/css\";\n      element.href = url;\n      console.debug(\"Bokeh: injecting link tag for BokehJS stylesheet: \", url);\n      document.body.appendChild(element);\n    }\n\n    for (let i = 0; i < js_urls.length; i++) {\n      const url = js_urls[i];\n      const element = document.createElement('script');\n      element.onload = on_load;\n      element.onerror = on_error.bind(null, url);\n      element.async = false;\n      element.src = url;\n      console.debug(\"Bokeh: injecting script tag for BokehJS library: \", url);\n      document.head.appendChild(element);\n    }\n  };\n\n  function inject_raw_css(css) {\n    const element = document.createElement(\"style\");\n    element.appendChild(document.createTextNode(css));\n    document.body.appendChild(element);\n  }\n\n  const js_urls = [\"https://cdn.bokeh.org/bokeh/release/bokeh-3.3.4.min.js\", \"https://cdn.bokeh.org/bokeh/release/bokeh-gl-3.3.4.min.js\", \"https://cdn.bokeh.org/bokeh/release/bokeh-widgets-3.3.4.min.js\", \"https://cdn.bokeh.org/bokeh/release/bokeh-tables-3.3.4.min.js\", \"https://cdn.bokeh.org/bokeh/release/bokeh-mathjax-3.3.4.min.js\"];\n  const css_urls = [];\n\n  const inline_js = [    function(Bokeh) {\n      Bokeh.set_log_level(\"info\");\n    },\nfunction(Bokeh) {\n    }\n  ];\n\n  function run_inline_js() {\n    if (root.Bokeh !== undefined || force === true) {\n          for (let i = 0; i < inline_js.length; i++) {\n      inline_js[i].call(root, root.Bokeh);\n    }\n} else if (Date.now() < root._bokeh_timeout) {\n      setTimeout(run_inline_js, 100);\n    } else if (!root._bokeh_failed_load) {\n      console.log(\"Bokeh: BokehJS failed to load within specified timeout.\");\n      root._bokeh_failed_load = true;\n    } else if (force !== true) {\n      const cell = $(document.getElementById(null)).parents('.cell').data().cell;\n      cell.output_area.append_execute_result(NB_LOAD_WARNING)\n    }\n  }\n\n  if (root._bokeh_is_loading === 0) {\n    console.debug(\"Bokeh: BokehJS loaded, going straight to plotting\");\n    run_inline_js();\n  } else {\n    load_libs(css_urls, js_urls, function() {\n      console.debug(\"Bokeh: BokehJS plotting callback run at\", now());\n      run_inline_js();\n    });\n  }\n}(window));",
      "application/vnd.bokehjs_load.v0+json": ""
     },
     "metadata": {},
     "output_type": "display_data"
    },
    {
     "name": "stdout",
     "output_type": "stream",
     "text": [
      "                                     \r"
     ]
    },
    {
     "data": {
      "application/javascript": "(function(root) {\n  function now() {\n    return new Date();\n  }\n\n  const force = true;\n\n  if (typeof root._bokeh_onload_callbacks === \"undefined\" || force === true) {\n    root._bokeh_onload_callbacks = [];\n    root._bokeh_is_loading = undefined;\n  }\n\nconst JS_MIME_TYPE = 'application/javascript';\n  const HTML_MIME_TYPE = 'text/html';\n  const EXEC_MIME_TYPE = 'application/vnd.bokehjs_exec.v0+json';\n  const CLASS_NAME = 'output_bokeh rendered_html';\n\n  /**\n   * Render data to the DOM node\n   */\n  function render(props, node) {\n    const script = document.createElement(\"script\");\n    node.appendChild(script);\n  }\n\n  /**\n   * Handle when an output is cleared or removed\n   */\n  function handleClearOutput(event, handle) {\n    function drop(id) {\n      const view = Bokeh.index.get_by_id(id)\n      if (view != null) {\n        view.model.document.clear()\n        Bokeh.index.delete(view)\n      }\n    }\n\n    const cell = handle.cell;\n\n    const id = cell.output_area._bokeh_element_id;\n    const server_id = cell.output_area._bokeh_server_id;\n\n    // Clean up Bokeh references\n    if (id != null) {\n      drop(id)\n    }\n\n    if (server_id !== undefined) {\n      // Clean up Bokeh references\n      const cmd_clean = \"from bokeh.io.state import curstate; print(curstate().uuid_to_server['\" + server_id + \"'].get_sessions()[0].document.roots[0]._id)\";\n      cell.notebook.kernel.execute(cmd_clean, {\n        iopub: {\n          output: function(msg) {\n            const id = msg.content.text.trim()\n            drop(id)\n          }\n        }\n      });\n      // Destroy server and session\n      const cmd_destroy = \"import bokeh.io.notebook as ion; ion.destroy_server('\" + server_id + \"')\";\n      cell.notebook.kernel.execute(cmd_destroy);\n    }\n  }\n\n  /**\n   * Handle when a new output is added\n   */\n  function handleAddOutput(event, handle) {\n    const output_area = handle.output_area;\n    const output = handle.output;\n\n    // limit handleAddOutput to display_data with EXEC_MIME_TYPE content only\n    if ((output.output_type != \"display_data\") || (!Object.prototype.hasOwnProperty.call(output.data, EXEC_MIME_TYPE))) {\n      return\n    }\n\n    const toinsert = output_area.element.find(\".\" + CLASS_NAME.split(' ')[0]);\n\n    if (output.metadata[EXEC_MIME_TYPE][\"id\"] !== undefined) {\n      toinsert[toinsert.length - 1].firstChild.textContent = output.data[JS_MIME_TYPE];\n      // store reference to embed id on output_area\n      output_area._bokeh_element_id = output.metadata[EXEC_MIME_TYPE][\"id\"];\n    }\n    if (output.metadata[EXEC_MIME_TYPE][\"server_id\"] !== undefined) {\n      const bk_div = document.createElement(\"div\");\n      bk_div.innerHTML = output.data[HTML_MIME_TYPE];\n      const script_attrs = bk_div.children[0].attributes;\n      for (let i = 0; i < script_attrs.length; i++) {\n        toinsert[toinsert.length - 1].firstChild.setAttribute(script_attrs[i].name, script_attrs[i].value);\n        toinsert[toinsert.length - 1].firstChild.textContent = bk_div.children[0].textContent\n      }\n      // store reference to server id on output_area\n      output_area._bokeh_server_id = output.metadata[EXEC_MIME_TYPE][\"server_id\"];\n    }\n  }\n\n  function register_renderer(events, OutputArea) {\n\n    function append_mime(data, metadata, element) {\n      // create a DOM node to render to\n      const toinsert = this.create_output_subarea(\n        metadata,\n        CLASS_NAME,\n        EXEC_MIME_TYPE\n      );\n      this.keyboard_manager.register_events(toinsert);\n      // Render to node\n      const props = {data: data, metadata: metadata[EXEC_MIME_TYPE]};\n      render(props, toinsert[toinsert.length - 1]);\n      element.append(toinsert);\n      return toinsert\n    }\n\n    /* Handle when an output is cleared or removed */\n    events.on('clear_output.CodeCell', handleClearOutput);\n    events.on('delete.Cell', handleClearOutput);\n\n    /* Handle when a new output is added */\n    events.on('output_added.OutputArea', handleAddOutput);\n\n    /**\n     * Register the mime type and append_mime function with output_area\n     */\n    OutputArea.prototype.register_mime_type(EXEC_MIME_TYPE, append_mime, {\n      /* Is output safe? */\n      safe: true,\n      /* Index of renderer in `output_area.display_order` */\n      index: 0\n    });\n  }\n\n  // register the mime type if in Jupyter Notebook environment and previously unregistered\n  if (root.Jupyter !== undefined) {\n    const events = require('base/js/events');\n    const OutputArea = require('notebook/js/outputarea').OutputArea;\n\n    if (OutputArea.prototype.mime_types().indexOf(EXEC_MIME_TYPE) == -1) {\n      register_renderer(events, OutputArea);\n    }\n  }\n  if (typeof (root._bokeh_timeout) === \"undefined\" || force === true) {\n    root._bokeh_timeout = Date.now() + 5000;\n    root._bokeh_failed_load = false;\n  }\n\n  const NB_LOAD_WARNING = {'data': {'text/html':\n     \"<div style='background-color: #fdd'>\\n\"+\n     \"<p>\\n\"+\n     \"BokehJS does not appear to have successfully loaded. If loading BokehJS from CDN, this \\n\"+\n     \"may be due to a slow or bad network connection. Possible fixes:\\n\"+\n     \"</p>\\n\"+\n     \"<ul>\\n\"+\n     \"<li>re-rerun `output_notebook()` to attempt to load from CDN again, or</li>\\n\"+\n     \"<li>use INLINE resources instead, as so:</li>\\n\"+\n     \"</ul>\\n\"+\n     \"<code>\\n\"+\n     \"from bokeh.resources import INLINE\\n\"+\n     \"output_notebook(resources=INLINE)\\n\"+\n     \"</code>\\n\"+\n     \"</div>\"}};\n\n  function display_loaded() {\n    const el = document.getElementById(null);\n    if (el != null) {\n      el.textContent = \"BokehJS is loading...\";\n    }\n    if (root.Bokeh !== undefined) {\n      if (el != null) {\n        el.textContent = \"BokehJS \" + root.Bokeh.version + \" successfully loaded.\";\n      }\n    } else if (Date.now() < root._bokeh_timeout) {\n      setTimeout(display_loaded, 100)\n    }\n  }\n\n  function run_callbacks() {\n    try {\n      root._bokeh_onload_callbacks.forEach(function(callback) {\n        if (callback != null)\n          callback();\n      });\n    } finally {\n      delete root._bokeh_onload_callbacks\n    }\n    console.debug(\"Bokeh: all callbacks have finished\");\n  }\n\n  function load_libs(css_urls, js_urls, callback) {\n    if (css_urls == null) css_urls = [];\n    if (js_urls == null) js_urls = [];\n\n    root._bokeh_onload_callbacks.push(callback);\n    if (root._bokeh_is_loading > 0) {\n      console.debug(\"Bokeh: BokehJS is being loaded, scheduling callback at\", now());\n      return null;\n    }\n    if (js_urls == null || js_urls.length === 0) {\n      run_callbacks();\n      return null;\n    }\n    console.debug(\"Bokeh: BokehJS not loaded, scheduling load and callback at\", now());\n    root._bokeh_is_loading = css_urls.length + js_urls.length;\n\n    function on_load() {\n      root._bokeh_is_loading--;\n      if (root._bokeh_is_loading === 0) {\n        console.debug(\"Bokeh: all BokehJS libraries/stylesheets loaded\");\n        run_callbacks()\n      }\n    }\n\n    function on_error(url) {\n      console.error(\"failed to load \" + url);\n    }\n\n    for (let i = 0; i < css_urls.length; i++) {\n      const url = css_urls[i];\n      const element = document.createElement(\"link\");\n      element.onload = on_load;\n      element.onerror = on_error.bind(null, url);\n      element.rel = \"stylesheet\";\n      element.type = \"text/css\";\n      element.href = url;\n      console.debug(\"Bokeh: injecting link tag for BokehJS stylesheet: \", url);\n      document.body.appendChild(element);\n    }\n\n    for (let i = 0; i < js_urls.length; i++) {\n      const url = js_urls[i];\n      const element = document.createElement('script');\n      element.onload = on_load;\n      element.onerror = on_error.bind(null, url);\n      element.async = false;\n      element.src = url;\n      console.debug(\"Bokeh: injecting script tag for BokehJS library: \", url);\n      document.head.appendChild(element);\n    }\n  };\n\n  function inject_raw_css(css) {\n    const element = document.createElement(\"style\");\n    element.appendChild(document.createTextNode(css));\n    document.body.appendChild(element);\n  }\n\n  const js_urls = [\"https://cdn.bokeh.org/bokeh/release/bokeh-3.3.4.min.js\", \"https://cdn.bokeh.org/bokeh/release/bokeh-gl-3.3.4.min.js\", \"https://cdn.bokeh.org/bokeh/release/bokeh-widgets-3.3.4.min.js\", \"https://cdn.bokeh.org/bokeh/release/bokeh-tables-3.3.4.min.js\", \"https://cdn.bokeh.org/bokeh/release/bokeh-mathjax-3.3.4.min.js\"];\n  const css_urls = [];\n\n  const inline_js = [    function(Bokeh) {\n      Bokeh.set_log_level(\"info\");\n    },\nfunction(Bokeh) {\n    }\n  ];\n\n  function run_inline_js() {\n    if (root.Bokeh !== undefined || force === true) {\n          for (let i = 0; i < inline_js.length; i++) {\n      inline_js[i].call(root, root.Bokeh);\n    }\n} else if (Date.now() < root._bokeh_timeout) {\n      setTimeout(run_inline_js, 100);\n    } else if (!root._bokeh_failed_load) {\n      console.log(\"Bokeh: BokehJS failed to load within specified timeout.\");\n      root._bokeh_failed_load = true;\n    } else if (force !== true) {\n      const cell = $(document.getElementById(null)).parents('.cell').data().cell;\n      cell.output_area.append_execute_result(NB_LOAD_WARNING)\n    }\n  }\n\n  if (root._bokeh_is_loading === 0) {\n    console.debug(\"Bokeh: BokehJS loaded, going straight to plotting\");\n    run_inline_js();\n  } else {\n    load_libs(css_urls, js_urls, function() {\n      console.debug(\"Bokeh: BokehJS plotting callback run at\", now());\n      run_inline_js();\n    });\n  }\n}(window));",
      "application/vnd.bokehjs_load.v0+json": ""
     },
     "metadata": {},
     "output_type": "display_data"
    },
    {
     "name": "stdout",
     "output_type": "stream",
     "text": [
      "                                     \r"
     ]
    },
    {
     "data": {
      "application/javascript": "(function(root) {\n  function now() {\n    return new Date();\n  }\n\n  const force = true;\n\n  if (typeof root._bokeh_onload_callbacks === \"undefined\" || force === true) {\n    root._bokeh_onload_callbacks = [];\n    root._bokeh_is_loading = undefined;\n  }\n\nconst JS_MIME_TYPE = 'application/javascript';\n  const HTML_MIME_TYPE = 'text/html';\n  const EXEC_MIME_TYPE = 'application/vnd.bokehjs_exec.v0+json';\n  const CLASS_NAME = 'output_bokeh rendered_html';\n\n  /**\n   * Render data to the DOM node\n   */\n  function render(props, node) {\n    const script = document.createElement(\"script\");\n    node.appendChild(script);\n  }\n\n  /**\n   * Handle when an output is cleared or removed\n   */\n  function handleClearOutput(event, handle) {\n    function drop(id) {\n      const view = Bokeh.index.get_by_id(id)\n      if (view != null) {\n        view.model.document.clear()\n        Bokeh.index.delete(view)\n      }\n    }\n\n    const cell = handle.cell;\n\n    const id = cell.output_area._bokeh_element_id;\n    const server_id = cell.output_area._bokeh_server_id;\n\n    // Clean up Bokeh references\n    if (id != null) {\n      drop(id)\n    }\n\n    if (server_id !== undefined) {\n      // Clean up Bokeh references\n      const cmd_clean = \"from bokeh.io.state import curstate; print(curstate().uuid_to_server['\" + server_id + \"'].get_sessions()[0].document.roots[0]._id)\";\n      cell.notebook.kernel.execute(cmd_clean, {\n        iopub: {\n          output: function(msg) {\n            const id = msg.content.text.trim()\n            drop(id)\n          }\n        }\n      });\n      // Destroy server and session\n      const cmd_destroy = \"import bokeh.io.notebook as ion; ion.destroy_server('\" + server_id + \"')\";\n      cell.notebook.kernel.execute(cmd_destroy);\n    }\n  }\n\n  /**\n   * Handle when a new output is added\n   */\n  function handleAddOutput(event, handle) {\n    const output_area = handle.output_area;\n    const output = handle.output;\n\n    // limit handleAddOutput to display_data with EXEC_MIME_TYPE content only\n    if ((output.output_type != \"display_data\") || (!Object.prototype.hasOwnProperty.call(output.data, EXEC_MIME_TYPE))) {\n      return\n    }\n\n    const toinsert = output_area.element.find(\".\" + CLASS_NAME.split(' ')[0]);\n\n    if (output.metadata[EXEC_MIME_TYPE][\"id\"] !== undefined) {\n      toinsert[toinsert.length - 1].firstChild.textContent = output.data[JS_MIME_TYPE];\n      // store reference to embed id on output_area\n      output_area._bokeh_element_id = output.metadata[EXEC_MIME_TYPE][\"id\"];\n    }\n    if (output.metadata[EXEC_MIME_TYPE][\"server_id\"] !== undefined) {\n      const bk_div = document.createElement(\"div\");\n      bk_div.innerHTML = output.data[HTML_MIME_TYPE];\n      const script_attrs = bk_div.children[0].attributes;\n      for (let i = 0; i < script_attrs.length; i++) {\n        toinsert[toinsert.length - 1].firstChild.setAttribute(script_attrs[i].name, script_attrs[i].value);\n        toinsert[toinsert.length - 1].firstChild.textContent = bk_div.children[0].textContent\n      }\n      // store reference to server id on output_area\n      output_area._bokeh_server_id = output.metadata[EXEC_MIME_TYPE][\"server_id\"];\n    }\n  }\n\n  function register_renderer(events, OutputArea) {\n\n    function append_mime(data, metadata, element) {\n      // create a DOM node to render to\n      const toinsert = this.create_output_subarea(\n        metadata,\n        CLASS_NAME,\n        EXEC_MIME_TYPE\n      );\n      this.keyboard_manager.register_events(toinsert);\n      // Render to node\n      const props = {data: data, metadata: metadata[EXEC_MIME_TYPE]};\n      render(props, toinsert[toinsert.length - 1]);\n      element.append(toinsert);\n      return toinsert\n    }\n\n    /* Handle when an output is cleared or removed */\n    events.on('clear_output.CodeCell', handleClearOutput);\n    events.on('delete.Cell', handleClearOutput);\n\n    /* Handle when a new output is added */\n    events.on('output_added.OutputArea', handleAddOutput);\n\n    /**\n     * Register the mime type and append_mime function with output_area\n     */\n    OutputArea.prototype.register_mime_type(EXEC_MIME_TYPE, append_mime, {\n      /* Is output safe? */\n      safe: true,\n      /* Index of renderer in `output_area.display_order` */\n      index: 0\n    });\n  }\n\n  // register the mime type if in Jupyter Notebook environment and previously unregistered\n  if (root.Jupyter !== undefined) {\n    const events = require('base/js/events');\n    const OutputArea = require('notebook/js/outputarea').OutputArea;\n\n    if (OutputArea.prototype.mime_types().indexOf(EXEC_MIME_TYPE) == -1) {\n      register_renderer(events, OutputArea);\n    }\n  }\n  if (typeof (root._bokeh_timeout) === \"undefined\" || force === true) {\n    root._bokeh_timeout = Date.now() + 5000;\n    root._bokeh_failed_load = false;\n  }\n\n  const NB_LOAD_WARNING = {'data': {'text/html':\n     \"<div style='background-color: #fdd'>\\n\"+\n     \"<p>\\n\"+\n     \"BokehJS does not appear to have successfully loaded. If loading BokehJS from CDN, this \\n\"+\n     \"may be due to a slow or bad network connection. Possible fixes:\\n\"+\n     \"</p>\\n\"+\n     \"<ul>\\n\"+\n     \"<li>re-rerun `output_notebook()` to attempt to load from CDN again, or</li>\\n\"+\n     \"<li>use INLINE resources instead, as so:</li>\\n\"+\n     \"</ul>\\n\"+\n     \"<code>\\n\"+\n     \"from bokeh.resources import INLINE\\n\"+\n     \"output_notebook(resources=INLINE)\\n\"+\n     \"</code>\\n\"+\n     \"</div>\"}};\n\n  function display_loaded() {\n    const el = document.getElementById(null);\n    if (el != null) {\n      el.textContent = \"BokehJS is loading...\";\n    }\n    if (root.Bokeh !== undefined) {\n      if (el != null) {\n        el.textContent = \"BokehJS \" + root.Bokeh.version + \" successfully loaded.\";\n      }\n    } else if (Date.now() < root._bokeh_timeout) {\n      setTimeout(display_loaded, 100)\n    }\n  }\n\n  function run_callbacks() {\n    try {\n      root._bokeh_onload_callbacks.forEach(function(callback) {\n        if (callback != null)\n          callback();\n      });\n    } finally {\n      delete root._bokeh_onload_callbacks\n    }\n    console.debug(\"Bokeh: all callbacks have finished\");\n  }\n\n  function load_libs(css_urls, js_urls, callback) {\n    if (css_urls == null) css_urls = [];\n    if (js_urls == null) js_urls = [];\n\n    root._bokeh_onload_callbacks.push(callback);\n    if (root._bokeh_is_loading > 0) {\n      console.debug(\"Bokeh: BokehJS is being loaded, scheduling callback at\", now());\n      return null;\n    }\n    if (js_urls == null || js_urls.length === 0) {\n      run_callbacks();\n      return null;\n    }\n    console.debug(\"Bokeh: BokehJS not loaded, scheduling load and callback at\", now());\n    root._bokeh_is_loading = css_urls.length + js_urls.length;\n\n    function on_load() {\n      root._bokeh_is_loading--;\n      if (root._bokeh_is_loading === 0) {\n        console.debug(\"Bokeh: all BokehJS libraries/stylesheets loaded\");\n        run_callbacks()\n      }\n    }\n\n    function on_error(url) {\n      console.error(\"failed to load \" + url);\n    }\n\n    for (let i = 0; i < css_urls.length; i++) {\n      const url = css_urls[i];\n      const element = document.createElement(\"link\");\n      element.onload = on_load;\n      element.onerror = on_error.bind(null, url);\n      element.rel = \"stylesheet\";\n      element.type = \"text/css\";\n      element.href = url;\n      console.debug(\"Bokeh: injecting link tag for BokehJS stylesheet: \", url);\n      document.body.appendChild(element);\n    }\n\n    for (let i = 0; i < js_urls.length; i++) {\n      const url = js_urls[i];\n      const element = document.createElement('script');\n      element.onload = on_load;\n      element.onerror = on_error.bind(null, url);\n      element.async = false;\n      element.src = url;\n      console.debug(\"Bokeh: injecting script tag for BokehJS library: \", url);\n      document.head.appendChild(element);\n    }\n  };\n\n  function inject_raw_css(css) {\n    const element = document.createElement(\"style\");\n    element.appendChild(document.createTextNode(css));\n    document.body.appendChild(element);\n  }\n\n  const js_urls = [\"https://cdn.bokeh.org/bokeh/release/bokeh-3.3.4.min.js\", \"https://cdn.bokeh.org/bokeh/release/bokeh-gl-3.3.4.min.js\", \"https://cdn.bokeh.org/bokeh/release/bokeh-widgets-3.3.4.min.js\", \"https://cdn.bokeh.org/bokeh/release/bokeh-tables-3.3.4.min.js\", \"https://cdn.bokeh.org/bokeh/release/bokeh-mathjax-3.3.4.min.js\"];\n  const css_urls = [];\n\n  const inline_js = [    function(Bokeh) {\n      Bokeh.set_log_level(\"info\");\n    },\nfunction(Bokeh) {\n    }\n  ];\n\n  function run_inline_js() {\n    if (root.Bokeh !== undefined || force === true) {\n          for (let i = 0; i < inline_js.length; i++) {\n      inline_js[i].call(root, root.Bokeh);\n    }\n} else if (Date.now() < root._bokeh_timeout) {\n      setTimeout(run_inline_js, 100);\n    } else if (!root._bokeh_failed_load) {\n      console.log(\"Bokeh: BokehJS failed to load within specified timeout.\");\n      root._bokeh_failed_load = true;\n    } else if (force !== true) {\n      const cell = $(document.getElementById(null)).parents('.cell').data().cell;\n      cell.output_area.append_execute_result(NB_LOAD_WARNING)\n    }\n  }\n\n  if (root._bokeh_is_loading === 0) {\n    console.debug(\"Bokeh: BokehJS loaded, going straight to plotting\");\n    run_inline_js();\n  } else {\n    load_libs(css_urls, js_urls, function() {\n      console.debug(\"Bokeh: BokehJS plotting callback run at\", now());\n      run_inline_js();\n    });\n  }\n}(window));",
      "application/vnd.bokehjs_load.v0+json": ""
     },
     "metadata": {},
     "output_type": "display_data"
    },
    {
     "name": "stdout",
     "output_type": "stream",
     "text": [
      "                                     \r"
     ]
    },
    {
     "data": {
      "application/javascript": "(function(root) {\n  function now() {\n    return new Date();\n  }\n\n  const force = true;\n\n  if (typeof root._bokeh_onload_callbacks === \"undefined\" || force === true) {\n    root._bokeh_onload_callbacks = [];\n    root._bokeh_is_loading = undefined;\n  }\n\nconst JS_MIME_TYPE = 'application/javascript';\n  const HTML_MIME_TYPE = 'text/html';\n  const EXEC_MIME_TYPE = 'application/vnd.bokehjs_exec.v0+json';\n  const CLASS_NAME = 'output_bokeh rendered_html';\n\n  /**\n   * Render data to the DOM node\n   */\n  function render(props, node) {\n    const script = document.createElement(\"script\");\n    node.appendChild(script);\n  }\n\n  /**\n   * Handle when an output is cleared or removed\n   */\n  function handleClearOutput(event, handle) {\n    function drop(id) {\n      const view = Bokeh.index.get_by_id(id)\n      if (view != null) {\n        view.model.document.clear()\n        Bokeh.index.delete(view)\n      }\n    }\n\n    const cell = handle.cell;\n\n    const id = cell.output_area._bokeh_element_id;\n    const server_id = cell.output_area._bokeh_server_id;\n\n    // Clean up Bokeh references\n    if (id != null) {\n      drop(id)\n    }\n\n    if (server_id !== undefined) {\n      // Clean up Bokeh references\n      const cmd_clean = \"from bokeh.io.state import curstate; print(curstate().uuid_to_server['\" + server_id + \"'].get_sessions()[0].document.roots[0]._id)\";\n      cell.notebook.kernel.execute(cmd_clean, {\n        iopub: {\n          output: function(msg) {\n            const id = msg.content.text.trim()\n            drop(id)\n          }\n        }\n      });\n      // Destroy server and session\n      const cmd_destroy = \"import bokeh.io.notebook as ion; ion.destroy_server('\" + server_id + \"')\";\n      cell.notebook.kernel.execute(cmd_destroy);\n    }\n  }\n\n  /**\n   * Handle when a new output is added\n   */\n  function handleAddOutput(event, handle) {\n    const output_area = handle.output_area;\n    const output = handle.output;\n\n    // limit handleAddOutput to display_data with EXEC_MIME_TYPE content only\n    if ((output.output_type != \"display_data\") || (!Object.prototype.hasOwnProperty.call(output.data, EXEC_MIME_TYPE))) {\n      return\n    }\n\n    const toinsert = output_area.element.find(\".\" + CLASS_NAME.split(' ')[0]);\n\n    if (output.metadata[EXEC_MIME_TYPE][\"id\"] !== undefined) {\n      toinsert[toinsert.length - 1].firstChild.textContent = output.data[JS_MIME_TYPE];\n      // store reference to embed id on output_area\n      output_area._bokeh_element_id = output.metadata[EXEC_MIME_TYPE][\"id\"];\n    }\n    if (output.metadata[EXEC_MIME_TYPE][\"server_id\"] !== undefined) {\n      const bk_div = document.createElement(\"div\");\n      bk_div.innerHTML = output.data[HTML_MIME_TYPE];\n      const script_attrs = bk_div.children[0].attributes;\n      for (let i = 0; i < script_attrs.length; i++) {\n        toinsert[toinsert.length - 1].firstChild.setAttribute(script_attrs[i].name, script_attrs[i].value);\n        toinsert[toinsert.length - 1].firstChild.textContent = bk_div.children[0].textContent\n      }\n      // store reference to server id on output_area\n      output_area._bokeh_server_id = output.metadata[EXEC_MIME_TYPE][\"server_id\"];\n    }\n  }\n\n  function register_renderer(events, OutputArea) {\n\n    function append_mime(data, metadata, element) {\n      // create a DOM node to render to\n      const toinsert = this.create_output_subarea(\n        metadata,\n        CLASS_NAME,\n        EXEC_MIME_TYPE\n      );\n      this.keyboard_manager.register_events(toinsert);\n      // Render to node\n      const props = {data: data, metadata: metadata[EXEC_MIME_TYPE]};\n      render(props, toinsert[toinsert.length - 1]);\n      element.append(toinsert);\n      return toinsert\n    }\n\n    /* Handle when an output is cleared or removed */\n    events.on('clear_output.CodeCell', handleClearOutput);\n    events.on('delete.Cell', handleClearOutput);\n\n    /* Handle when a new output is added */\n    events.on('output_added.OutputArea', handleAddOutput);\n\n    /**\n     * Register the mime type and append_mime function with output_area\n     */\n    OutputArea.prototype.register_mime_type(EXEC_MIME_TYPE, append_mime, {\n      /* Is output safe? */\n      safe: true,\n      /* Index of renderer in `output_area.display_order` */\n      index: 0\n    });\n  }\n\n  // register the mime type if in Jupyter Notebook environment and previously unregistered\n  if (root.Jupyter !== undefined) {\n    const events = require('base/js/events');\n    const OutputArea = require('notebook/js/outputarea').OutputArea;\n\n    if (OutputArea.prototype.mime_types().indexOf(EXEC_MIME_TYPE) == -1) {\n      register_renderer(events, OutputArea);\n    }\n  }\n  if (typeof (root._bokeh_timeout) === \"undefined\" || force === true) {\n    root._bokeh_timeout = Date.now() + 5000;\n    root._bokeh_failed_load = false;\n  }\n\n  const NB_LOAD_WARNING = {'data': {'text/html':\n     \"<div style='background-color: #fdd'>\\n\"+\n     \"<p>\\n\"+\n     \"BokehJS does not appear to have successfully loaded. If loading BokehJS from CDN, this \\n\"+\n     \"may be due to a slow or bad network connection. Possible fixes:\\n\"+\n     \"</p>\\n\"+\n     \"<ul>\\n\"+\n     \"<li>re-rerun `output_notebook()` to attempt to load from CDN again, or</li>\\n\"+\n     \"<li>use INLINE resources instead, as so:</li>\\n\"+\n     \"</ul>\\n\"+\n     \"<code>\\n\"+\n     \"from bokeh.resources import INLINE\\n\"+\n     \"output_notebook(resources=INLINE)\\n\"+\n     \"</code>\\n\"+\n     \"</div>\"}};\n\n  function display_loaded() {\n    const el = document.getElementById(null);\n    if (el != null) {\n      el.textContent = \"BokehJS is loading...\";\n    }\n    if (root.Bokeh !== undefined) {\n      if (el != null) {\n        el.textContent = \"BokehJS \" + root.Bokeh.version + \" successfully loaded.\";\n      }\n    } else if (Date.now() < root._bokeh_timeout) {\n      setTimeout(display_loaded, 100)\n    }\n  }\n\n  function run_callbacks() {\n    try {\n      root._bokeh_onload_callbacks.forEach(function(callback) {\n        if (callback != null)\n          callback();\n      });\n    } finally {\n      delete root._bokeh_onload_callbacks\n    }\n    console.debug(\"Bokeh: all callbacks have finished\");\n  }\n\n  function load_libs(css_urls, js_urls, callback) {\n    if (css_urls == null) css_urls = [];\n    if (js_urls == null) js_urls = [];\n\n    root._bokeh_onload_callbacks.push(callback);\n    if (root._bokeh_is_loading > 0) {\n      console.debug(\"Bokeh: BokehJS is being loaded, scheduling callback at\", now());\n      return null;\n    }\n    if (js_urls == null || js_urls.length === 0) {\n      run_callbacks();\n      return null;\n    }\n    console.debug(\"Bokeh: BokehJS not loaded, scheduling load and callback at\", now());\n    root._bokeh_is_loading = css_urls.length + js_urls.length;\n\n    function on_load() {\n      root._bokeh_is_loading--;\n      if (root._bokeh_is_loading === 0) {\n        console.debug(\"Bokeh: all BokehJS libraries/stylesheets loaded\");\n        run_callbacks()\n      }\n    }\n\n    function on_error(url) {\n      console.error(\"failed to load \" + url);\n    }\n\n    for (let i = 0; i < css_urls.length; i++) {\n      const url = css_urls[i];\n      const element = document.createElement(\"link\");\n      element.onload = on_load;\n      element.onerror = on_error.bind(null, url);\n      element.rel = \"stylesheet\";\n      element.type = \"text/css\";\n      element.href = url;\n      console.debug(\"Bokeh: injecting link tag for BokehJS stylesheet: \", url);\n      document.body.appendChild(element);\n    }\n\n    for (let i = 0; i < js_urls.length; i++) {\n      const url = js_urls[i];\n      const element = document.createElement('script');\n      element.onload = on_load;\n      element.onerror = on_error.bind(null, url);\n      element.async = false;\n      element.src = url;\n      console.debug(\"Bokeh: injecting script tag for BokehJS library: \", url);\n      document.head.appendChild(element);\n    }\n  };\n\n  function inject_raw_css(css) {\n    const element = document.createElement(\"style\");\n    element.appendChild(document.createTextNode(css));\n    document.body.appendChild(element);\n  }\n\n  const js_urls = [\"https://cdn.bokeh.org/bokeh/release/bokeh-3.3.4.min.js\", \"https://cdn.bokeh.org/bokeh/release/bokeh-gl-3.3.4.min.js\", \"https://cdn.bokeh.org/bokeh/release/bokeh-widgets-3.3.4.min.js\", \"https://cdn.bokeh.org/bokeh/release/bokeh-tables-3.3.4.min.js\", \"https://cdn.bokeh.org/bokeh/release/bokeh-mathjax-3.3.4.min.js\"];\n  const css_urls = [];\n\n  const inline_js = [    function(Bokeh) {\n      Bokeh.set_log_level(\"info\");\n    },\nfunction(Bokeh) {\n    }\n  ];\n\n  function run_inline_js() {\n    if (root.Bokeh !== undefined || force === true) {\n          for (let i = 0; i < inline_js.length; i++) {\n      inline_js[i].call(root, root.Bokeh);\n    }\n} else if (Date.now() < root._bokeh_timeout) {\n      setTimeout(run_inline_js, 100);\n    } else if (!root._bokeh_failed_load) {\n      console.log(\"Bokeh: BokehJS failed to load within specified timeout.\");\n      root._bokeh_failed_load = true;\n    } else if (force !== true) {\n      const cell = $(document.getElementById(null)).parents('.cell').data().cell;\n      cell.output_area.append_execute_result(NB_LOAD_WARNING)\n    }\n  }\n\n  if (root._bokeh_is_loading === 0) {\n    console.debug(\"Bokeh: BokehJS loaded, going straight to plotting\");\n    run_inline_js();\n  } else {\n    load_libs(css_urls, js_urls, function() {\n      console.debug(\"Bokeh: BokehJS plotting callback run at\", now());\n      run_inline_js();\n    });\n  }\n}(window));",
      "application/vnd.bokehjs_load.v0+json": ""
     },
     "metadata": {},
     "output_type": "display_data"
    },
    {
     "name": "stdout",
     "output_type": "stream",
     "text": [
      "                                     \r"
     ]
    },
    {
     "data": {
      "application/vnd.plotly.v1+json": {
       "config": {
        "plotlyServerURL": "https://plot.ly"
       },
       "data": [
        {
         "customdata": [
          [
           0,
           0,
           1,
           0,
           "G_28525774"
          ],
          [
           0,
           0,
           0,
           1,
           "T_28525775"
          ],
          [
           0,
           0,
           0,
           1,
           "T_28525776"
          ],
          [
           0.01,
           0.99,
           0,
           0,
           "C_28525777"
          ],
          [
           0,
           0,
           0,
           1,
           "T_28525778"
          ],
          [
           0.01,
           0.99,
           0,
           0,
           "C_28525779"
          ],
          [
           0,
           0,
           1,
           0,
           "G_28525780"
          ],
          [
           0.01,
           0,
           0.99,
           0,
           "G_28525781"
          ],
          [
           0,
           0,
           0,
           1,
           "T_28525782"
          ],
          [
           0.1,
           0,
           0.9,
           0,
           "G_28525783"
          ],
          [
           1,
           0,
           0,
           0,
           "A_28525784"
          ],
          [
           0,
           1,
           0,
           0,
           "C_28525785"
          ],
          [
           0,
           0.98,
           0,
           0.02,
           "C_28525786"
          ],
          [
           0,
           1,
           0,
           0,
           "C_28525787"
          ],
          [
           1,
           0,
           0,
           0,
           "A_28525788"
          ],
          [
           1,
           0,
           0,
           0,
           "A_28525789"
          ],
          [
           0,
           0,
           1,
           0,
           "G_28525790"
          ],
          [
           0,
           0.46,
           0,
           0.54,
           "C_28525850"
          ],
          [
           0,
           0,
           0,
           1,
           "T_28525851"
          ],
          [
           1,
           0,
           0,
           0,
           "A_28525852"
          ]
         ],
         "hovertemplate": "Base / Position: %{customdata[4]}<br>Total Alternate freq: %{y}<br>A_freq: %{customdata[0]}<br>C_freq: %{customdata[1]}<br>G_freq: %{customdata[2]}<br>T_freq: %{customdata[3]}",
         "marker": {
          "color": [
           -1,
           -1,
           -1,
           1,
           -1,
           1,
           -1,
           1,
           -1,
           1,
           -1,
           -1,
           1,
           -1,
           -1,
           -1,
           -1,
           1,
           -1,
           -1
          ],
          "colorscale": [
           [
            0,
            "lightgray"
           ],
           [
            0.5,
            "lightgray"
           ],
           [
            1,
            "dodgerblue"
           ]
          ],
          "line": {
           "color": "black",
           "width": 2
          },
          "size": 14,
          "symbol": "circle"
         },
         "mode": "markers",
         "type": "scatter",
         "x": [
          "G_28525774",
          "T_28525775",
          "T_28525776",
          "C_28525777",
          "T_28525778",
          "C_28525779",
          "G_28525780",
          "G_28525781",
          "T_28525782",
          "G_28525783",
          "A_28525784",
          "C_28525785",
          "C_28525786",
          "C_28525787",
          "A_28525788",
          "A_28525789",
          "G_28525790",
          "C_28525850",
          "T_28525851",
          "A_28525852"
         ],
         "xaxis": "x",
         "y": [
          0,
          0,
          0,
          0.0078125,
          0,
          0.0078125,
          0,
          0.0078125,
          0,
          0.1015625,
          0,
          0,
          0.0234375,
          0,
          0,
          0,
          0,
          0.5390625,
          0,
          0
         ],
         "yaxis": "y"
        },
        {
         "customdata": [
          [
           0.52,
           0,
           0.05,
           0.43,
           "T_28525707"
          ],
          [
           0,
           0,
           1,
           0,
           "G_28525708"
          ],
          [
           0,
           0,
           1,
           0,
           "G_28525709"
          ],
          [
           0,
           1,
           0,
           0,
           "C_28525710"
          ],
          [
           0,
           0,
           0,
           1,
           "T_28525711"
          ],
          [
           0,
           0,
           1,
           0,
           "G_28525712"
          ],
          [
           0,
           0,
           1,
           0,
           "G_28525713"
          ],
          [
           0,
           0,
           1,
           0,
           "G_28525714"
          ],
          [
           0,
           0,
           1,
           0,
           "G_28525715"
          ],
          [
           0,
           0,
           0,
           1,
           "T_28525716"
          ],
          [
           1,
           0,
           0,
           0,
           "A_28525717"
          ],
          [
           0,
           0,
           0,
           1,
           "T_28525718"
          ],
          [
           0,
           1,
           0,
           0,
           "C_28525719"
          ],
          [
           0,
           0,
           1,
           0,
           "G_28525720"
          ],
          [
           0,
           0,
           1,
           0,
           "G_28525721"
          ],
          [
           0.52,
           0.01,
           0.16,
           0.32,
           "A_28525722"
          ],
          [
           0,
           0,
           1,
           0,
           "G_28525723"
          ],
          [
           0,
           0,
           0,
           1,
           "T_28525724"
          ],
          [
           0.33,
           0,
           0,
           0.67,
           "T_28525725"
          ],
          [
           1,
           0,
           0,
           0,
           "A_28525726"
          ]
         ],
         "hovertemplate": "Base / Position: %{customdata[4]}<br>Total Alternate freq: %{y}<br>A_freq: %{customdata[0]}<br>C_freq: %{customdata[1]}<br>G_freq: %{customdata[2]}<br>T_freq: %{customdata[3]}",
         "marker": {
          "color": [
           1,
           -1,
           -1,
           -1,
           -1,
           -1,
           -1,
           -1,
           -1,
           -1,
           -1,
           -1,
           -1,
           -1,
           -1,
           1,
           -1,
           -1,
           1,
           -1
          ],
          "colorscale": [
           [
            0,
            "lightgray"
           ],
           [
            0.5,
            "lightgray"
           ],
           [
            1,
            "dodgerblue"
           ]
          ],
          "line": {
           "color": "black",
           "width": 2
          },
          "size": 14,
          "symbol": "circle"
         },
         "mode": "markers",
         "type": "scatter",
         "x": [
          "T_28525707",
          "G_28525708",
          "G_28525709",
          "C_28525710",
          "T_28525711",
          "G_28525712",
          "G_28525713",
          "G_28525714",
          "G_28525715",
          "T_28525716",
          "A_28525717",
          "T_28525718",
          "C_28525719",
          "G_28525720",
          "G_28525721",
          "A_28525722",
          "G_28525723",
          "T_28525724",
          "T_28525725",
          "A_28525726"
         ],
         "xaxis": "x3",
         "y": [
          0.5703125,
          0,
          0,
          0,
          0,
          0,
          0,
          0,
          0,
          0,
          0,
          0,
          0,
          0,
          0,
          0.484375,
          0,
          0,
          0.328125,
          0
         ],
         "yaxis": "y3"
        },
        {
         "customdata": [
          [
           0,
           0,
           1,
           0,
           "G_28525780"
          ],
          [
           0.01,
           0,
           0.99,
           0,
           "G_28525781"
          ],
          [
           0,
           0,
           0,
           1,
           "T_28525782"
          ],
          [
           0.1,
           0,
           0.9,
           0,
           "G_28525783"
          ],
          [
           1,
           0,
           0,
           0,
           "A_28525784"
          ],
          [
           0,
           1,
           0,
           0,
           "C_28525785"
          ],
          [
           0,
           0.98,
           0,
           0.02,
           "C_28525786"
          ],
          [
           0,
           1,
           0,
           0,
           "C_28525787"
          ],
          [
           1,
           0,
           0,
           0,
           "A_28525788"
          ],
          [
           1,
           0,
           0,
           0,
           "A_28525789"
          ],
          [
           0,
           0,
           1,
           0,
           "G_28525790"
          ],
          [
           0,
           0.46,
           0,
           0.54,
           "C_28525850"
          ],
          [
           0,
           0,
           0,
           1,
           "T_28525851"
          ],
          [
           1,
           0,
           0,
           0,
           "A_28525852"
          ],
          [
           0,
           0,
           0,
           1,
           "T_28525853"
          ],
          [
           0.12,
           0,
           0.88,
           0,
           "A_28525854"
          ],
          [
           0,
           1,
           0,
           0,
           "C_28525855"
          ],
          [
           0,
           0.28,
           0,
           0.72,
           "T_28525856"
          ],
          [
           0,
           0,
           1,
           0,
           "G_28525857"
          ],
          [
           0,
           1,
           0,
           0,
           "C_28525858"
          ],
          [
           1,
           0,
           0,
           0,
           "A_28525859"
          ]
         ],
         "hovertemplate": "Base / Position: %{customdata[4]}<br>Total Alternate freq: %{y}<br>A_freq: %{customdata[0]}<br>C_freq: %{customdata[1]}<br>G_freq: %{customdata[2]}<br>T_freq: %{customdata[3]}",
         "marker": {
          "color": [
           -1,
           1,
           -1,
           1,
           -1,
           -1,
           1,
           -1,
           -1,
           -1,
           -1,
           1,
           -1,
           -1,
           -1,
           1,
           -1,
           1,
           -1,
           -1,
           -1
          ],
          "colorscale": [
           [
            0,
            "lightgray"
           ],
           [
            0.5,
            "lightgray"
           ],
           [
            1,
            "dodgerblue"
           ]
          ],
          "line": {
           "color": "black",
           "width": 2
          },
          "size": 14,
          "symbol": "circle"
         },
         "mode": "markers",
         "type": "scatter",
         "x": [
          "G_28525780",
          "G_28525781",
          "T_28525782",
          "G_28525783",
          "A_28525784",
          "C_28525785",
          "C_28525786",
          "C_28525787",
          "A_28525788",
          "A_28525789",
          "G_28525790",
          "C_28525850",
          "T_28525851",
          "A_28525852",
          "T_28525853",
          "A_28525854",
          "C_28525855",
          "T_28525856",
          "G_28525857",
          "C_28525858",
          "A_28525859"
         ],
         "xaxis": "x5",
         "y": [
          0,
          0.0078125,
          0,
          0.1015625,
          0,
          0,
          0.0234375,
          0,
          0,
          0,
          0,
          0.5390625,
          0,
          0,
          0,
          0.8828125,
          0,
          0.28125,
          0,
          0,
          0
         ],
         "yaxis": "y5"
        },
        {
         "customdata": [
          [
           0,
           0,
           0,
           1,
           "T_28525776"
          ],
          [
           0.01,
           0.99,
           0,
           0,
           "C_28525777"
          ],
          [
           0,
           0,
           0,
           1,
           "T_28525778"
          ],
          [
           0.01,
           0.99,
           0,
           0,
           "C_28525779"
          ],
          [
           0,
           0,
           1,
           0,
           "G_28525780"
          ],
          [
           0.01,
           0,
           0.99,
           0,
           "G_28525781"
          ],
          [
           0,
           0,
           0,
           1,
           "T_28525782"
          ],
          [
           0.1,
           0,
           0.9,
           0,
           "G_28525783"
          ],
          [
           1,
           0,
           0,
           0,
           "A_28525784"
          ],
          [
           0,
           1,
           0,
           0,
           "C_28525785"
          ],
          [
           0,
           0.98,
           0,
           0.02,
           "C_28525786"
          ],
          [
           0,
           1,
           0,
           0,
           "C_28525787"
          ],
          [
           1,
           0,
           0,
           0,
           "A_28525788"
          ],
          [
           1,
           0,
           0,
           0,
           "A_28525789"
          ],
          [
           0,
           0,
           1,
           0,
           "G_28525790"
          ],
          [
           0,
           0.46,
           0,
           0.54,
           "C_28525850"
          ],
          [
           0,
           0,
           0,
           1,
           "T_28525851"
          ],
          [
           1,
           0,
           0,
           0,
           "A_28525852"
          ],
          [
           0,
           0,
           0,
           1,
           "T_28525853"
          ],
          [
           0.12,
           0,
           0.88,
           0,
           "A_28525854"
          ],
          [
           0,
           1,
           0,
           0,
           "C_28525855"
          ]
         ],
         "hovertemplate": "Base / Position: %{customdata[4]}<br>Total Alternate freq: %{y}<br>A_freq: %{customdata[0]}<br>C_freq: %{customdata[1]}<br>G_freq: %{customdata[2]}<br>T_freq: %{customdata[3]}",
         "marker": {
          "color": [
           -1,
           1,
           -1,
           1,
           -1,
           1,
           -1,
           1,
           -1,
           -1,
           1,
           -1,
           -1,
           -1,
           -1,
           1,
           -1,
           -1,
           -1,
           1,
           -1
          ],
          "colorscale": [
           [
            0,
            "lightgray"
           ],
           [
            0.5,
            "lightgray"
           ],
           [
            1,
            "dodgerblue"
           ]
          ],
          "line": {
           "color": "black",
           "width": 2
          },
          "size": 14,
          "symbol": "circle"
         },
         "mode": "markers",
         "type": "scatter",
         "x": [
          "T_28525776",
          "C_28525777",
          "T_28525778",
          "C_28525779",
          "G_28525780",
          "G_28525781",
          "T_28525782",
          "G_28525783",
          "A_28525784",
          "C_28525785",
          "C_28525786",
          "C_28525787",
          "A_28525788",
          "A_28525789",
          "G_28525790",
          "C_28525850",
          "T_28525851",
          "A_28525852",
          "T_28525853",
          "A_28525854",
          "C_28525855"
         ],
         "xaxis": "x7",
         "y": [
          0,
          0.0078125,
          0,
          0.0078125,
          0,
          0.0078125,
          0,
          0.1015625,
          0,
          0,
          0.0234375,
          0,
          0,
          0,
          0,
          0.5390625,
          0,
          0,
          0,
          0.8828125,
          0
         ],
         "yaxis": "y7"
        },
        {
         "customdata": [
          [
           0,
           0,
           0,
           1,
           "T_28524378"
          ],
          [
           0,
           0,
           0,
           1,
           "T_28524379"
          ],
          [
           0,
           1,
           0,
           0,
           "C_28524380"
          ],
          [
           0,
           0,
           0,
           1,
           "T_28524381"
          ],
          [
           0,
           0,
           0,
           1,
           "T_28524382"
          ],
          [
           0,
           0,
           1,
           0,
           "G_28524383"
          ],
          [
           0,
           0,
           1,
           0,
           "G_28524384"
          ],
          [
           0,
           1,
           0,
           0,
           "C_28524385"
          ],
          [
           1,
           0,
           0,
           0,
           "A_28524386"
          ],
          [
           0,
           0,
           0,
           1,
           "T_28524387"
          ],
          [
           0,
           1,
           0,
           0,
           "C_28524388"
          ],
          [
           0,
           0,
           0,
           1,
           "T_28524389"
          ],
          [
           0.02,
           0,
           0,
           0.98,
           "T_28524390"
          ],
          [
           0,
           1,
           0,
           0,
           "C_28524391"
          ],
          [
           0,
           1,
           0,
           0,
           "C_28524392"
          ],
          [
           0,
           1,
           0,
           0,
           "C_28524393"
          ],
          [
           0,
           1,
           0,
           0,
           "C_28524394"
          ],
          [
           1,
           0,
           0,
           0,
           "A_28524395"
          ],
          [
           0,
           1,
           0,
           0,
           "C_28524396"
          ],
          [
           0,
           1,
           0,
           0,
           "C_28524397"
          ]
         ],
         "hovertemplate": "Base / Position: %{customdata[4]}<br>Total Alternate freq: %{y}<br>A_freq: %{customdata[0]}<br>C_freq: %{customdata[1]}<br>G_freq: %{customdata[2]}<br>T_freq: %{customdata[3]}",
         "marker": {
          "color": [
           -1,
           -1,
           -1,
           -1,
           -1,
           -1,
           -1,
           -1,
           -1,
           -1,
           -1,
           -1,
           1,
           -1,
           -1,
           -1,
           -1,
           -1,
           -1,
           -1
          ],
          "colorscale": [
           [
            0,
            "lightgray"
           ],
           [
            0.5,
            "lightgray"
           ],
           [
            1,
            "dodgerblue"
           ]
          ],
          "line": {
           "color": "black",
           "width": 2
          },
          "size": 14,
          "symbol": "circle"
         },
         "mode": "markers",
         "type": "scatter",
         "x": [
          "T_28524378",
          "T_28524379",
          "C_28524380",
          "T_28524381",
          "T_28524382",
          "G_28524383",
          "G_28524384",
          "C_28524385",
          "A_28524386",
          "T_28524387",
          "C_28524388",
          "T_28524389",
          "T_28524390",
          "C_28524391",
          "C_28524392",
          "C_28524393",
          "C_28524394",
          "A_28524395",
          "C_28524396",
          "C_28524397"
         ],
         "xaxis": "x9",
         "y": [
          0,
          0,
          0,
          0,
          0,
          0,
          0,
          0,
          0,
          0,
          0,
          0,
          0.0234375,
          0,
          0,
          0,
          0,
          0,
          0,
          0
         ],
         "yaxis": "y9"
        },
        {
         "customdata": [
          [
           0,
           0,
           1,
           0,
           "G_28525905"
          ],
          [
           0,
           0.53,
           0,
           0.47,
           "C_28525904"
          ],
          [
           0,
           0,
           1,
           0,
           "G_28525903"
          ],
          [
           0,
           1,
           0,
           0,
           "C_28525902"
          ],
          [
           0,
           0.74,
           0,
           0.26,
           "T_28525901"
          ],
          [
           1,
           0,
           0,
           0,
           "A_28525900"
          ],
          [
           0,
           0,
           1,
           0,
           "G_28525899"
          ],
          [
           0,
           0.18,
           0.82,
           0,
           "G_28525898"
          ],
          [
           0,
           0,
           1,
           0,
           "G_28525897"
          ],
          [
           0,
           0,
           1,
           0,
           "G_28525896"
          ],
          [
           0,
           0,
           0,
           1,
           "T_28525895"
          ],
          [
           0,
           0,
           0,
           1,
           "T_28525894"
          ],
          [
           0,
           0,
           1,
           0,
           "G_28525893"
          ],
          [
           1,
           0,
           0,
           0,
           "A_28525892"
          ],
          [
           0,
           0,
           0,
           1,
           "T_28525891"
          ],
          [
           0,
           1,
           0,
           0,
           "C_28525890"
          ],
          [
           0,
           0,
           0,
           1,
           "T_28525889"
          ],
          [
           0,
           1,
           0,
           0,
           "C_28525888"
          ],
          [
           0,
           0,
           0,
           1,
           "T_28525887"
          ],
          [
           0,
           1,
           0,
           0,
           "C_28525886"
          ]
         ],
         "hovertemplate": "Base / Position: %{customdata[4]}<br>Total Alternate freq: %{y}<br>A_freq: %{customdata[0]}<br>C_freq: %{customdata[1]}<br>G_freq: %{customdata[2]}<br>T_freq: %{customdata[3]}",
         "marker": {
          "color": [
           -1,
           1,
           -1,
           -1,
           1,
           -1,
           -1,
           1,
           -1,
           -1,
           -1,
           -1,
           -1,
           -1,
           -1,
           -1,
           -1,
           -1,
           -1,
           -1
          ],
          "colorscale": [
           [
            0,
            "lightgray"
           ],
           [
            0.5,
            "lightgray"
           ],
           [
            1,
            "dodgerblue"
           ]
          ],
          "line": {
           "color": "black",
           "width": 2
          },
          "size": 14,
          "symbol": "circle"
         },
         "mode": "markers",
         "type": "scatter",
         "x": [
          "G_28525905",
          "C_28525904",
          "G_28525903",
          "C_28525902",
          "T_28525901",
          "A_28525900",
          "G_28525899",
          "G_28525898",
          "G_28525897",
          "G_28525896",
          "T_28525895",
          "T_28525894",
          "G_28525893",
          "A_28525892",
          "T_28525891",
          "C_28525890",
          "T_28525889",
          "C_28525888",
          "T_28525887",
          "C_28525886"
         ],
         "xaxis": "x2",
         "y": [
          0,
          0.46875,
          0,
          0,
          0.7421875,
          0,
          0,
          0.1796875,
          0,
          0,
          0,
          0,
          0,
          0,
          0,
          0,
          0,
          0,
          0,
          0
         ],
         "yaxis": "y2"
        },
        {
         "customdata": [
          [
           0,
           0,
           0,
           1,
           "T_28525859"
          ],
          [
           0,
           0,
           1,
           0,
           "G_28525858"
          ],
          [
           0,
           1,
           0,
           0,
           "C_28525857"
          ],
          [
           0.72,
           0,
           0.28,
           0,
           "A_28525856"
          ],
          [
           0,
           0,
           1,
           0,
           "G_28525855"
          ],
          [
           0,
           0.88,
           0,
           0.12,
           "T_28525854"
          ],
          [
           1,
           0,
           0,
           0,
           "A_28525853"
          ],
          [
           0,
           0,
           0,
           1,
           "T_28525852"
          ],
          [
           1,
           0,
           0,
           0,
           "A_28525851"
          ],
          [
           0.54,
           0,
           0.46,
           0,
           "G_28525850"
          ],
          [
           0,
           1,
           0,
           0,
           "C_28525790"
          ],
          [
           0,
           0,
           0,
           1,
           "T_28525789"
          ],
          [
           0,
           0,
           0,
           1,
           "T_28525788"
          ],
          [
           0,
           0,
           1,
           0,
           "G_28525787"
          ],
          [
           0.02,
           0,
           0.98,
           0,
           "G_28525786"
          ],
          [
           0,
           0,
           1,
           0,
           "G_28525785"
          ],
          [
           0,
           0,
           0,
           1,
           "T_28525784"
          ],
          [
           0,
           0.9,
           0,
           0.1,
           "C_28525783"
          ],
          [
           1,
           0,
           0,
           0,
           "A_28525782"
          ],
          [
           0,
           0.99,
           0,
           0.01,
           "C_28525781"
          ],
          [
           0,
           1,
           0,
           0,
           "C_28525780"
          ]
         ],
         "hovertemplate": "Base / Position: %{customdata[4]}<br>Total Alternate freq: %{y}<br>A_freq: %{customdata[0]}<br>C_freq: %{customdata[1]}<br>G_freq: %{customdata[2]}<br>T_freq: %{customdata[3]}",
         "marker": {
          "color": [
           -1,
           -1,
           -1,
           1,
           -1,
           1,
           -1,
           -1,
           -1,
           1,
           -1,
           -1,
           -1,
           -1,
           1,
           -1,
           -1,
           1,
           -1,
           1,
           -1
          ],
          "colorscale": [
           [
            0,
            "lightgray"
           ],
           [
            0.5,
            "lightgray"
           ],
           [
            1,
            "dodgerblue"
           ]
          ],
          "line": {
           "color": "black",
           "width": 2
          },
          "size": 14,
          "symbol": "circle"
         },
         "mode": "markers",
         "type": "scatter",
         "x": [
          "T_28525859",
          "G_28525858",
          "C_28525857",
          "A_28525856",
          "G_28525855",
          "T_28525854",
          "A_28525853",
          "T_28525852",
          "A_28525851",
          "G_28525850",
          "C_28525790",
          "T_28525789",
          "T_28525788",
          "G_28525787",
          "G_28525786",
          "G_28525785",
          "T_28525784",
          "C_28525783",
          "A_28525782",
          "C_28525781",
          "C_28525780"
         ],
         "xaxis": "x4",
         "y": [
          0,
          0,
          0,
          0.28125,
          0,
          0.8828125,
          0,
          0,
          0,
          0.5390625,
          0,
          0,
          0,
          0,
          0.0234375,
          0,
          0,
          0.1015625,
          0,
          0.0078125,
          0
         ],
         "yaxis": "y4"
        },
        {
         "customdata": [
          [
           1,
           0,
           0,
           0,
           "A_28525909"
          ],
          [
           0,
           0,
           0,
           1,
           "T_28525908"
          ],
          [
           0,
           0,
           0,
           1,
           "T_28525907"
          ],
          [
           0,
           0,
           1,
           0,
           "G_28525906"
          ],
          [
           0,
           0,
           1,
           0,
           "G_28525905"
          ],
          [
           0,
           0.53,
           0,
           0.47,
           "C_28525904"
          ],
          [
           0,
           0,
           1,
           0,
           "G_28525903"
          ],
          [
           0,
           1,
           0,
           0,
           "C_28525902"
          ],
          [
           0,
           0.74,
           0,
           0.26,
           "T_28525901"
          ],
          [
           1,
           0,
           0,
           0,
           "A_28525900"
          ],
          [
           0,
           0,
           1,
           0,
           "G_28525899"
          ],
          [
           0,
           0.18,
           0.82,
           0,
           "G_28525898"
          ],
          [
           0,
           0,
           1,
           0,
           "G_28525897"
          ],
          [
           0,
           0,
           1,
           0,
           "G_28525896"
          ],
          [
           0,
           0,
           0,
           1,
           "T_28525895"
          ],
          [
           0,
           0,
           0,
           1,
           "T_28525894"
          ],
          [
           0,
           0,
           1,
           0,
           "G_28525893"
          ],
          [
           1,
           0,
           0,
           0,
           "A_28525892"
          ],
          [
           0,
           0,
           0,
           1,
           "T_28525891"
          ],
          [
           0,
           1,
           0,
           0,
           "C_28525890"
          ]
         ],
         "hovertemplate": "Base / Position: %{customdata[4]}<br>Total Alternate freq: %{y}<br>A_freq: %{customdata[0]}<br>C_freq: %{customdata[1]}<br>G_freq: %{customdata[2]}<br>T_freq: %{customdata[3]}",
         "marker": {
          "color": [
           -1,
           -1,
           -1,
           -1,
           -1,
           1,
           -1,
           -1,
           1,
           -1,
           -1,
           1,
           -1,
           -1,
           -1,
           -1,
           -1,
           -1,
           -1,
           -1
          ],
          "colorscale": [
           [
            0,
            "lightgray"
           ],
           [
            0.5,
            "lightgray"
           ],
           [
            1,
            "dodgerblue"
           ]
          ],
          "line": {
           "color": "black",
           "width": 2
          },
          "size": 14,
          "symbol": "circle"
         },
         "mode": "markers",
         "type": "scatter",
         "x": [
          "A_28525909",
          "T_28525908",
          "T_28525907",
          "G_28525906",
          "G_28525905",
          "C_28525904",
          "G_28525903",
          "C_28525902",
          "T_28525901",
          "A_28525900",
          "G_28525899",
          "G_28525898",
          "G_28525897",
          "G_28525896",
          "T_28525895",
          "T_28525894",
          "G_28525893",
          "A_28525892",
          "T_28525891",
          "C_28525890"
         ],
         "xaxis": "x6",
         "y": [
          0,
          0,
          0,
          0,
          0,
          0.46875,
          0,
          0,
          0.7421875,
          0,
          0,
          0.1796875,
          0,
          0,
          0,
          0,
          0,
          0,
          0,
          0
         ],
         "yaxis": "y6"
        },
        {
         "customdata": [
          [
           0.01,
           0,
           0.99,
           0,
           "G_28525915"
          ],
          [
           0,
           0,
           0,
           1,
           "T_28525914"
          ],
          [
           1,
           0,
           0,
           0,
           "A_28525913"
          ],
          [
           0,
           0,
           0,
           1,
           "T_28525912"
          ],
          [
           0,
           1,
           0,
           0,
           "C_28525911"
          ],
          [
           0,
           1,
           0,
           0,
           "C_28525910"
          ],
          [
           1,
           0,
           0,
           0,
           "A_28525909"
          ],
          [
           0,
           0,
           0,
           1,
           "T_28525908"
          ],
          [
           0,
           0,
           0,
           1,
           "T_28525907"
          ],
          [
           0,
           0,
           1,
           0,
           "G_28525906"
          ],
          [
           0,
           0,
           1,
           0,
           "G_28525905"
          ],
          [
           0,
           0.53,
           0,
           0.47,
           "C_28525904"
          ],
          [
           0,
           0,
           1,
           0,
           "G_28525903"
          ],
          [
           0,
           1,
           0,
           0,
           "C_28525902"
          ],
          [
           0,
           0.74,
           0,
           0.26,
           "T_28525901"
          ],
          [
           1,
           0,
           0,
           0,
           "A_28525900"
          ],
          [
           0,
           0,
           1,
           0,
           "G_28525899"
          ],
          [
           0,
           0.18,
           0.82,
           0,
           "G_28525898"
          ],
          [
           0,
           0,
           1,
           0,
           "G_28525897"
          ],
          [
           0,
           0,
           1,
           0,
           "G_28525896"
          ]
         ],
         "hovertemplate": "Base / Position: %{customdata[4]}<br>Total Alternate freq: %{y}<br>A_freq: %{customdata[0]}<br>C_freq: %{customdata[1]}<br>G_freq: %{customdata[2]}<br>T_freq: %{customdata[3]}",
         "marker": {
          "color": [
           1,
           -1,
           -1,
           -1,
           -1,
           -1,
           -1,
           -1,
           -1,
           -1,
           -1,
           1,
           -1,
           -1,
           1,
           -1,
           -1,
           1,
           -1,
           -1
          ],
          "colorscale": [
           [
            0,
            "lightgray"
           ],
           [
            0.5,
            "lightgray"
           ],
           [
            1,
            "dodgerblue"
           ]
          ],
          "line": {
           "color": "black",
           "width": 2
          },
          "size": 14,
          "symbol": "circle"
         },
         "mode": "markers",
         "type": "scatter",
         "x": [
          "G_28525915",
          "T_28525914",
          "A_28525913",
          "T_28525912",
          "C_28525911",
          "C_28525910",
          "A_28525909",
          "T_28525908",
          "T_28525907",
          "G_28525906",
          "G_28525905",
          "C_28525904",
          "G_28525903",
          "C_28525902",
          "T_28525901",
          "A_28525900",
          "G_28525899",
          "G_28525898",
          "G_28525897",
          "G_28525896"
         ],
         "xaxis": "x8",
         "y": [
          0.0078125,
          0,
          0,
          0,
          0,
          0,
          0,
          0,
          0,
          0,
          0,
          0.46875,
          0,
          0,
          0.7421875,
          0,
          0,
          0.1796875,
          0,
          0
         ],
         "yaxis": "y8"
        },
        {
         "customdata": [
          [
           0,
           1,
           0,
           0,
           "C_28524551"
          ],
          [
           0,
           0,
           1,
           0,
           "G_28524550"
          ],
          [
           0,
           0,
           1,
           0,
           "G_28524549"
          ],
          [
           0,
           0,
           1,
           0,
           "G_28524548"
          ],
          [
           0,
           1,
           0,
           0,
           "C_28524547"
          ],
          [
           0,
           0,
           0,
           1,
           "T_28524546"
          ],
          [
           0,
           0,
           0,
           1,
           "T_28524545"
          ],
          [
           1,
           0,
           0,
           0,
           "A_28524544"
          ],
          [
           0,
           0,
           0,
           1,
           "T_28524543"
          ],
          [
           0,
           1,
           0,
           0,
           "C_28524542"
          ],
          [
           1,
           0,
           0,
           0,
           "A_28524541"
          ],
          [
           0,
           0,
           0,
           1,
           "T_28524540"
          ],
          [
           0,
           0,
           0,
           1,
           "T_28524539"
          ],
          [
           0,
           0,
           1,
           0,
           "G_28524538"
          ],
          [
           0,
           0,
           0,
           1,
           "T_28524537"
          ],
          [
           0,
           0,
           0,
           1,
           "T_28524536"
          ],
          [
           1,
           0,
           0,
           0,
           "A_28524535"
          ],
          [
           0,
           1,
           0,
           0,
           "C_28524534"
          ],
          [
           0,
           1,
           0,
           0,
           "C_28524463"
          ],
          [
           0,
           0,
           0,
           1,
           "T_28524462"
          ],
          [
           0,
           1,
           0,
           0,
           "C_28524461"
          ],
          [
           0.02,
           0,
           0.98,
           0,
           "G_28524460"
          ]
         ],
         "hovertemplate": "Base / Position: %{customdata[4]}<br>Total Alternate freq: %{y}<br>A_freq: %{customdata[0]}<br>C_freq: %{customdata[1]}<br>G_freq: %{customdata[2]}<br>T_freq: %{customdata[3]}",
         "marker": {
          "color": [
           -1,
           -1,
           -1,
           -1,
           -1,
           -1,
           -1,
           -1,
           -1,
           -1,
           -1,
           -1,
           -1,
           -1,
           -1,
           -1,
           -1,
           -1,
           -1,
           -1,
           -1,
           1
          ],
          "colorscale": [
           [
            0,
            "lightgray"
           ],
           [
            0.5,
            "lightgray"
           ],
           [
            1,
            "dodgerblue"
           ]
          ],
          "line": {
           "color": "black",
           "width": 2
          },
          "size": 14,
          "symbol": "circle"
         },
         "mode": "markers",
         "type": "scatter",
         "x": [
          "C_28524551",
          "G_28524550",
          "G_28524549",
          "G_28524548",
          "C_28524547",
          "T_28524546",
          "T_28524545",
          "A_28524544",
          "T_28524543",
          "C_28524542",
          "A_28524541",
          "T_28524540",
          "T_28524539",
          "G_28524538",
          "T_28524537",
          "T_28524536",
          "A_28524535",
          "C_28524534",
          "C_28524463",
          "T_28524462",
          "C_28524461",
          "G_28524460"
         ],
         "xaxis": "x10",
         "y": [
          0,
          0,
          0,
          0,
          0,
          0,
          0,
          0,
          0,
          0,
          0,
          0,
          0,
          0,
          0,
          0,
          0,
          0,
          0,
          0,
          0,
          0.015625
         ],
         "yaxis": "y10"
        }
       ],
       "layout": {
        "annotations": [
         {
          "font": {
           "size": 13
          },
          "showarrow": false,
          "text": "Forward primer 1",
          "x": 0.2425,
          "xanchor": "center",
          "xref": "paper",
          "y": 0.9999999999999999,
          "yanchor": "bottom",
          "yref": "paper"
         },
         {
          "font": {
           "size": 13
          },
          "showarrow": false,
          "text": "Reverse primer 1",
          "x": 0.7575000000000001,
          "xanchor": "center",
          "xref": "paper",
          "y": 0.9999999999999999,
          "yanchor": "bottom",
          "yref": "paper"
         },
         {
          "font": {
           "size": 13
          },
          "showarrow": false,
          "text": "Forward primer 2",
          "x": 0.2425,
          "xanchor": "center",
          "xref": "paper",
          "y": 0.7839999999999999,
          "yanchor": "bottom",
          "yref": "paper"
         },
         {
          "font": {
           "size": 13
          },
          "showarrow": false,
          "text": "Reverse primer 2",
          "x": 0.7575000000000001,
          "xanchor": "center",
          "xref": "paper",
          "y": 0.7839999999999999,
          "yanchor": "bottom",
          "yref": "paper"
         },
         {
          "font": {
           "size": 13
          },
          "showarrow": false,
          "text": "Forward primer 3",
          "x": 0.2425,
          "xanchor": "center",
          "xref": "paper",
          "y": 0.568,
          "yanchor": "bottom",
          "yref": "paper"
         },
         {
          "font": {
           "size": 13
          },
          "showarrow": false,
          "text": "Reverse primer 3",
          "x": 0.7575000000000001,
          "xanchor": "center",
          "xref": "paper",
          "y": 0.568,
          "yanchor": "bottom",
          "yref": "paper"
         },
         {
          "font": {
           "size": 13
          },
          "showarrow": false,
          "text": "Forward primer 4",
          "x": 0.2425,
          "xanchor": "center",
          "xref": "paper",
          "y": 0.352,
          "yanchor": "bottom",
          "yref": "paper"
         },
         {
          "font": {
           "size": 13
          },
          "showarrow": false,
          "text": "Reverse primer 4",
          "x": 0.7575000000000001,
          "xanchor": "center",
          "xref": "paper",
          "y": 0.352,
          "yanchor": "bottom",
          "yref": "paper"
         },
         {
          "font": {
           "size": 13
          },
          "showarrow": false,
          "text": "Forward primer 5",
          "x": 0.2425,
          "xanchor": "center",
          "xref": "paper",
          "y": 0.13599999999999998,
          "yanchor": "bottom",
          "yref": "paper"
         },
         {
          "font": {
           "size": 13
          },
          "showarrow": false,
          "text": "Reverse primer 5",
          "x": 0.7575000000000001,
          "xanchor": "center",
          "xref": "paper",
          "y": 0.13599999999999998,
          "yanchor": "bottom",
          "yref": "paper"
         },
         {
          "showarrow": false,
          "text": "5'",
          "x": "G_28525774",
          "xref": "x",
          "y": 0.8,
          "yref": "y"
         },
         {
          "showarrow": false,
          "text": "3'",
          "x": "A_28525852",
          "xref": "x",
          "y": 0.8,
          "yref": "y"
         },
         {
          "showarrow": false,
          "text": "28525774-28525852",
          "x": "T_28525778",
          "xref": "x",
          "y": 0.92,
          "yref": "y"
         },
         {
          "showarrow": false,
          "text": "GC=55",
          "x": "C_28525787",
          "xref": "x",
          "y": 0.92,
          "yref": "y"
         },
         {
          "showarrow": false,
          "text": "TM=59.39",
          "x": "C_28525850",
          "xref": "x",
          "y": 0.92,
          "yref": "y"
         },
         {
          "showarrow": false,
          "text": "5'",
          "x": "T_28525707",
          "xref": "x3",
          "y": 0.8,
          "yref": "y3"
         },
         {
          "showarrow": false,
          "text": "3'",
          "x": "A_28525726",
          "xref": "x3",
          "y": 0.8,
          "yref": "y3"
         },
         {
          "showarrow": false,
          "text": "28525707-28525726",
          "x": "T_28525711",
          "xref": "x3",
          "y": 0.92,
          "yref": "y3"
         },
         {
          "showarrow": false,
          "text": "GC=55",
          "x": "G_28525720",
          "xref": "x3",
          "y": 0.92,
          "yref": "y3"
         },
         {
          "showarrow": false,
          "text": "TM=60.03",
          "x": "T_28525724",
          "xref": "x3",
          "y": 0.92,
          "yref": "y3"
         },
         {
          "showarrow": false,
          "text": "5'",
          "x": "G_28525780",
          "xref": "x5",
          "y": 0.8,
          "yref": "y5"
         },
         {
          "showarrow": false,
          "text": "3'",
          "x": "A_28525859",
          "xref": "x5",
          "y": 0.8,
          "yref": "y5"
         },
         {
          "showarrow": false,
          "text": "28525780-28525859",
          "x": "A_28525784",
          "xref": "x5",
          "y": 0.92,
          "yref": "y5"
         },
         {
          "showarrow": false,
          "text": "GC=52.38",
          "x": "T_28525853",
          "xref": "x5",
          "y": 0.92,
          "yref": "y5"
         },
         {
          "showarrow": false,
          "text": "TM=59.79",
          "x": "G_28525857",
          "xref": "x5",
          "y": 0.92,
          "yref": "y5"
         },
         {
          "showarrow": false,
          "text": "5'",
          "x": "T_28525776",
          "xref": "x7",
          "y": 0.8,
          "yref": "y7"
         },
         {
          "showarrow": false,
          "text": "3'",
          "x": "C_28525855",
          "xref": "x7",
          "y": 0.8,
          "yref": "y7"
         },
         {
          "showarrow": false,
          "text": "28525776-28525855",
          "x": "G_28525780",
          "xref": "x7",
          "y": 0.92,
          "yref": "y7"
         },
         {
          "showarrow": false,
          "text": "GC=52.38",
          "x": "G_28525790",
          "xref": "x7",
          "y": 0.92,
          "yref": "y7"
         },
         {
          "showarrow": false,
          "text": "TM=58.97",
          "x": "T_28525853",
          "xref": "x7",
          "y": 0.92,
          "yref": "y7"
         },
         {
          "showarrow": false,
          "text": "5'",
          "x": "T_28524378",
          "xref": "x9",
          "y": 0.8,
          "yref": "y9"
         },
         {
          "showarrow": false,
          "text": "3'",
          "x": "C_28524397",
          "xref": "x9",
          "y": 0.8,
          "yref": "y9"
         },
         {
          "showarrow": false,
          "text": "28524378-28524397",
          "x": "T_28524382",
          "xref": "x9",
          "y": 0.92,
          "yref": "y9"
         },
         {
          "showarrow": false,
          "text": "GC=55",
          "x": "C_28524391",
          "xref": "x9",
          "y": 0.92,
          "yref": "y9"
         },
         {
          "showarrow": false,
          "text": "TM=59.96",
          "x": "A_28524395",
          "xref": "x9",
          "y": 0.92,
          "yref": "y9"
         },
         {
          "showarrow": false,
          "text": "5'",
          "x": "G_28525905",
          "xref": "x2",
          "y": 0.8,
          "yref": "y2"
         },
         {
          "showarrow": false,
          "text": "3'",
          "x": "C_28525886",
          "xref": "x2",
          "y": 0.8,
          "yref": "y2"
         },
         {
          "showarrow": false,
          "text": "28525886-28525905",
          "x": "T_28525901",
          "xref": "x2",
          "y": 0.92,
          "yref": "y2"
         },
         {
          "showarrow": false,
          "text": "GC=60",
          "x": "A_28525892",
          "xref": "x2",
          "y": 0.92,
          "yref": "y2"
         },
         {
          "showarrow": false,
          "text": "TM=59.97",
          "x": "C_28525888",
          "xref": "x2",
          "y": 0.92,
          "yref": "y2"
         },
         {
          "showarrow": false,
          "text": "5'",
          "x": "T_28525859",
          "xref": "x4",
          "y": 0.8,
          "yref": "y4"
         },
         {
          "showarrow": false,
          "text": "3'",
          "x": "C_28525780",
          "xref": "x4",
          "y": 0.8,
          "yref": "y4"
         },
         {
          "showarrow": false,
          "text": "28525780-28525859",
          "x": "G_28525855",
          "xref": "x4",
          "y": 0.92,
          "yref": "y4"
         },
         {
          "showarrow": false,
          "text": "GC=52.38",
          "x": "G_28525786",
          "xref": "x4",
          "y": 0.92,
          "yref": "y4"
         },
         {
          "showarrow": false,
          "text": "TM=59.79",
          "x": "A_28525782",
          "xref": "x4",
          "y": 0.92,
          "yref": "y4"
         },
         {
          "showarrow": false,
          "text": "5'",
          "x": "A_28525909",
          "xref": "x6",
          "y": 0.8,
          "yref": "y6"
         },
         {
          "showarrow": false,
          "text": "3'",
          "x": "C_28525890",
          "xref": "x6",
          "y": 0.8,
          "yref": "y6"
         },
         {
          "showarrow": false,
          "text": "28525890-28525909",
          "x": "G_28525905",
          "xref": "x6",
          "y": 0.92,
          "yref": "y6"
         },
         {
          "showarrow": false,
          "text": "GC=55",
          "x": "G_28525896",
          "xref": "x6",
          "y": 0.92,
          "yref": "y6"
         },
         {
          "showarrow": false,
          "text": "TM=60.18",
          "x": "A_28525892",
          "xref": "x6",
          "y": 0.92,
          "yref": "y6"
         },
         {
          "showarrow": false,
          "text": "5'",
          "x": "G_28525915",
          "xref": "x8",
          "y": 0.8,
          "yref": "y8"
         },
         {
          "showarrow": false,
          "text": "3'",
          "x": "G_28525896",
          "xref": "x8",
          "y": 0.8,
          "yref": "y8"
         },
         {
          "showarrow": false,
          "text": "28525896-28525915",
          "x": "C_28525911",
          "xref": "x8",
          "y": 0.92,
          "yref": "y8"
         },
         {
          "showarrow": false,
          "text": "GC=60",
          "x": "C_28525902",
          "xref": "x8",
          "y": 0.92,
          "yref": "y8"
         },
         {
          "showarrow": false,
          "text": "TM=60.32",
          "x": "G_28525898",
          "xref": "x8",
          "y": 0.92,
          "yref": "y8"
         },
         {
          "showarrow": false,
          "text": "5'",
          "x": "C_28524551",
          "xref": "x10",
          "y": 0.8,
          "yref": "y10"
         },
         {
          "showarrow": false,
          "text": "3'",
          "x": "G_28524460",
          "xref": "x10",
          "y": 0.8,
          "yref": "y10"
         },
         {
          "showarrow": false,
          "text": "28524460-28524551",
          "x": "C_28524547",
          "xref": "x10",
          "y": 0.92,
          "yref": "y10"
         },
         {
          "showarrow": false,
          "text": "GC=50",
          "x": "T_28524536",
          "xref": "x10",
          "y": 0.92,
          "yref": "y10"
         },
         {
          "showarrow": false,
          "text": "TM=59.2",
          "x": "T_28524462",
          "xref": "x10",
          "y": 0.92,
          "yref": "y10"
         }
        ],
        "height": 1100,
        "showlegend": false,
        "template": {
         "data": {
          "bar": [
           {
            "error_x": {
             "color": "rgb(36,36,36)"
            },
            "error_y": {
             "color": "rgb(36,36,36)"
            },
            "marker": {
             "line": {
              "color": "white",
              "width": 0.5
             },
             "pattern": {
              "fillmode": "overlay",
              "size": 10,
              "solidity": 0.2
             }
            },
            "type": "bar"
           }
          ],
          "barpolar": [
           {
            "marker": {
             "line": {
              "color": "white",
              "width": 0.5
             },
             "pattern": {
              "fillmode": "overlay",
              "size": 10,
              "solidity": 0.2
             }
            },
            "type": "barpolar"
           }
          ],
          "carpet": [
           {
            "aaxis": {
             "endlinecolor": "rgb(36,36,36)",
             "gridcolor": "white",
             "linecolor": "white",
             "minorgridcolor": "white",
             "startlinecolor": "rgb(36,36,36)"
            },
            "baxis": {
             "endlinecolor": "rgb(36,36,36)",
             "gridcolor": "white",
             "linecolor": "white",
             "minorgridcolor": "white",
             "startlinecolor": "rgb(36,36,36)"
            },
            "type": "carpet"
           }
          ],
          "choropleth": [
           {
            "colorbar": {
             "outlinewidth": 1,
             "tickcolor": "rgb(36,36,36)",
             "ticks": "outside"
            },
            "type": "choropleth"
           }
          ],
          "contour": [
           {
            "colorbar": {
             "outlinewidth": 1,
             "tickcolor": "rgb(36,36,36)",
             "ticks": "outside"
            },
            "colorscale": [
             [
              0,
              "#440154"
             ],
             [
              0.1111111111111111,
              "#482878"
             ],
             [
              0.2222222222222222,
              "#3e4989"
             ],
             [
              0.3333333333333333,
              "#31688e"
             ],
             [
              0.4444444444444444,
              "#26828e"
             ],
             [
              0.5555555555555556,
              "#1f9e89"
             ],
             [
              0.6666666666666666,
              "#35b779"
             ],
             [
              0.7777777777777778,
              "#6ece58"
             ],
             [
              0.8888888888888888,
              "#b5de2b"
             ],
             [
              1,
              "#fde725"
             ]
            ],
            "type": "contour"
           }
          ],
          "contourcarpet": [
           {
            "colorbar": {
             "outlinewidth": 1,
             "tickcolor": "rgb(36,36,36)",
             "ticks": "outside"
            },
            "type": "contourcarpet"
           }
          ],
          "heatmap": [
           {
            "colorbar": {
             "outlinewidth": 1,
             "tickcolor": "rgb(36,36,36)",
             "ticks": "outside"
            },
            "colorscale": [
             [
              0,
              "#440154"
             ],
             [
              0.1111111111111111,
              "#482878"
             ],
             [
              0.2222222222222222,
              "#3e4989"
             ],
             [
              0.3333333333333333,
              "#31688e"
             ],
             [
              0.4444444444444444,
              "#26828e"
             ],
             [
              0.5555555555555556,
              "#1f9e89"
             ],
             [
              0.6666666666666666,
              "#35b779"
             ],
             [
              0.7777777777777778,
              "#6ece58"
             ],
             [
              0.8888888888888888,
              "#b5de2b"
             ],
             [
              1,
              "#fde725"
             ]
            ],
            "type": "heatmap"
           }
          ],
          "heatmapgl": [
           {
            "colorbar": {
             "outlinewidth": 1,
             "tickcolor": "rgb(36,36,36)",
             "ticks": "outside"
            },
            "colorscale": [
             [
              0,
              "#440154"
             ],
             [
              0.1111111111111111,
              "#482878"
             ],
             [
              0.2222222222222222,
              "#3e4989"
             ],
             [
              0.3333333333333333,
              "#31688e"
             ],
             [
              0.4444444444444444,
              "#26828e"
             ],
             [
              0.5555555555555556,
              "#1f9e89"
             ],
             [
              0.6666666666666666,
              "#35b779"
             ],
             [
              0.7777777777777778,
              "#6ece58"
             ],
             [
              0.8888888888888888,
              "#b5de2b"
             ],
             [
              1,
              "#fde725"
             ]
            ],
            "type": "heatmapgl"
           }
          ],
          "histogram": [
           {
            "marker": {
             "line": {
              "color": "white",
              "width": 0.6
             }
            },
            "type": "histogram"
           }
          ],
          "histogram2d": [
           {
            "colorbar": {
             "outlinewidth": 1,
             "tickcolor": "rgb(36,36,36)",
             "ticks": "outside"
            },
            "colorscale": [
             [
              0,
              "#440154"
             ],
             [
              0.1111111111111111,
              "#482878"
             ],
             [
              0.2222222222222222,
              "#3e4989"
             ],
             [
              0.3333333333333333,
              "#31688e"
             ],
             [
              0.4444444444444444,
              "#26828e"
             ],
             [
              0.5555555555555556,
              "#1f9e89"
             ],
             [
              0.6666666666666666,
              "#35b779"
             ],
             [
              0.7777777777777778,
              "#6ece58"
             ],
             [
              0.8888888888888888,
              "#b5de2b"
             ],
             [
              1,
              "#fde725"
             ]
            ],
            "type": "histogram2d"
           }
          ],
          "histogram2dcontour": [
           {
            "colorbar": {
             "outlinewidth": 1,
             "tickcolor": "rgb(36,36,36)",
             "ticks": "outside"
            },
            "colorscale": [
             [
              0,
              "#440154"
             ],
             [
              0.1111111111111111,
              "#482878"
             ],
             [
              0.2222222222222222,
              "#3e4989"
             ],
             [
              0.3333333333333333,
              "#31688e"
             ],
             [
              0.4444444444444444,
              "#26828e"
             ],
             [
              0.5555555555555556,
              "#1f9e89"
             ],
             [
              0.6666666666666666,
              "#35b779"
             ],
             [
              0.7777777777777778,
              "#6ece58"
             ],
             [
              0.8888888888888888,
              "#b5de2b"
             ],
             [
              1,
              "#fde725"
             ]
            ],
            "type": "histogram2dcontour"
           }
          ],
          "mesh3d": [
           {
            "colorbar": {
             "outlinewidth": 1,
             "tickcolor": "rgb(36,36,36)",
             "ticks": "outside"
            },
            "type": "mesh3d"
           }
          ],
          "parcoords": [
           {
            "line": {
             "colorbar": {
              "outlinewidth": 1,
              "tickcolor": "rgb(36,36,36)",
              "ticks": "outside"
             }
            },
            "type": "parcoords"
           }
          ],
          "pie": [
           {
            "automargin": true,
            "type": "pie"
           }
          ],
          "scatter": [
           {
            "fillpattern": {
             "fillmode": "overlay",
             "size": 10,
             "solidity": 0.2
            },
            "type": "scatter"
           }
          ],
          "scatter3d": [
           {
            "line": {
             "colorbar": {
              "outlinewidth": 1,
              "tickcolor": "rgb(36,36,36)",
              "ticks": "outside"
             }
            },
            "marker": {
             "colorbar": {
              "outlinewidth": 1,
              "tickcolor": "rgb(36,36,36)",
              "ticks": "outside"
             }
            },
            "type": "scatter3d"
           }
          ],
          "scattercarpet": [
           {
            "marker": {
             "colorbar": {
              "outlinewidth": 1,
              "tickcolor": "rgb(36,36,36)",
              "ticks": "outside"
             }
            },
            "type": "scattercarpet"
           }
          ],
          "scattergeo": [
           {
            "marker": {
             "colorbar": {
              "outlinewidth": 1,
              "tickcolor": "rgb(36,36,36)",
              "ticks": "outside"
             }
            },
            "type": "scattergeo"
           }
          ],
          "scattergl": [
           {
            "marker": {
             "colorbar": {
              "outlinewidth": 1,
              "tickcolor": "rgb(36,36,36)",
              "ticks": "outside"
             }
            },
            "type": "scattergl"
           }
          ],
          "scattermapbox": [
           {
            "marker": {
             "colorbar": {
              "outlinewidth": 1,
              "tickcolor": "rgb(36,36,36)",
              "ticks": "outside"
             }
            },
            "type": "scattermapbox"
           }
          ],
          "scatterpolar": [
           {
            "marker": {
             "colorbar": {
              "outlinewidth": 1,
              "tickcolor": "rgb(36,36,36)",
              "ticks": "outside"
             }
            },
            "type": "scatterpolar"
           }
          ],
          "scatterpolargl": [
           {
            "marker": {
             "colorbar": {
              "outlinewidth": 1,
              "tickcolor": "rgb(36,36,36)",
              "ticks": "outside"
             }
            },
            "type": "scatterpolargl"
           }
          ],
          "scatterternary": [
           {
            "marker": {
             "colorbar": {
              "outlinewidth": 1,
              "tickcolor": "rgb(36,36,36)",
              "ticks": "outside"
             }
            },
            "type": "scatterternary"
           }
          ],
          "surface": [
           {
            "colorbar": {
             "outlinewidth": 1,
             "tickcolor": "rgb(36,36,36)",
             "ticks": "outside"
            },
            "colorscale": [
             [
              0,
              "#440154"
             ],
             [
              0.1111111111111111,
              "#482878"
             ],
             [
              0.2222222222222222,
              "#3e4989"
             ],
             [
              0.3333333333333333,
              "#31688e"
             ],
             [
              0.4444444444444444,
              "#26828e"
             ],
             [
              0.5555555555555556,
              "#1f9e89"
             ],
             [
              0.6666666666666666,
              "#35b779"
             ],
             [
              0.7777777777777778,
              "#6ece58"
             ],
             [
              0.8888888888888888,
              "#b5de2b"
             ],
             [
              1,
              "#fde725"
             ]
            ],
            "type": "surface"
           }
          ],
          "table": [
           {
            "cells": {
             "fill": {
              "color": "rgb(237,237,237)"
             },
             "line": {
              "color": "white"
             }
            },
            "header": {
             "fill": {
              "color": "rgb(217,217,217)"
             },
             "line": {
              "color": "white"
             }
            },
            "type": "table"
           }
          ]
         },
         "layout": {
          "annotationdefaults": {
           "arrowhead": 0,
           "arrowwidth": 1
          },
          "autotypenumbers": "strict",
          "coloraxis": {
           "colorbar": {
            "outlinewidth": 1,
            "tickcolor": "rgb(36,36,36)",
            "ticks": "outside"
           }
          },
          "colorscale": {
           "diverging": [
            [
             0,
             "rgb(103,0,31)"
            ],
            [
             0.1,
             "rgb(178,24,43)"
            ],
            [
             0.2,
             "rgb(214,96,77)"
            ],
            [
             0.3,
             "rgb(244,165,130)"
            ],
            [
             0.4,
             "rgb(253,219,199)"
            ],
            [
             0.5,
             "rgb(247,247,247)"
            ],
            [
             0.6,
             "rgb(209,229,240)"
            ],
            [
             0.7,
             "rgb(146,197,222)"
            ],
            [
             0.8,
             "rgb(67,147,195)"
            ],
            [
             0.9,
             "rgb(33,102,172)"
            ],
            [
             1,
             "rgb(5,48,97)"
            ]
           ],
           "sequential": [
            [
             0,
             "#440154"
            ],
            [
             0.1111111111111111,
             "#482878"
            ],
            [
             0.2222222222222222,
             "#3e4989"
            ],
            [
             0.3333333333333333,
             "#31688e"
            ],
            [
             0.4444444444444444,
             "#26828e"
            ],
            [
             0.5555555555555556,
             "#1f9e89"
            ],
            [
             0.6666666666666666,
             "#35b779"
            ],
            [
             0.7777777777777778,
             "#6ece58"
            ],
            [
             0.8888888888888888,
             "#b5de2b"
            ],
            [
             1,
             "#fde725"
            ]
           ],
           "sequentialminus": [
            [
             0,
             "#440154"
            ],
            [
             0.1111111111111111,
             "#482878"
            ],
            [
             0.2222222222222222,
             "#3e4989"
            ],
            [
             0.3333333333333333,
             "#31688e"
            ],
            [
             0.4444444444444444,
             "#26828e"
            ],
            [
             0.5555555555555556,
             "#1f9e89"
            ],
            [
             0.6666666666666666,
             "#35b779"
            ],
            [
             0.7777777777777778,
             "#6ece58"
            ],
            [
             0.8888888888888888,
             "#b5de2b"
            ],
            [
             1,
             "#fde725"
            ]
           ]
          },
          "colorway": [
           "#1F77B4",
           "#FF7F0E",
           "#2CA02C",
           "#D62728",
           "#9467BD",
           "#8C564B",
           "#E377C2",
           "#7F7F7F",
           "#BCBD22",
           "#17BECF"
          ],
          "font": {
           "color": "rgb(36,36,36)"
          },
          "geo": {
           "bgcolor": "white",
           "lakecolor": "white",
           "landcolor": "white",
           "showlakes": true,
           "showland": true,
           "subunitcolor": "white"
          },
          "hoverlabel": {
           "align": "left"
          },
          "hovermode": "closest",
          "mapbox": {
           "style": "light"
          },
          "paper_bgcolor": "white",
          "plot_bgcolor": "white",
          "polar": {
           "angularaxis": {
            "gridcolor": "rgb(232,232,232)",
            "linecolor": "rgb(36,36,36)",
            "showgrid": false,
            "showline": true,
            "ticks": "outside"
           },
           "bgcolor": "white",
           "radialaxis": {
            "gridcolor": "rgb(232,232,232)",
            "linecolor": "rgb(36,36,36)",
            "showgrid": false,
            "showline": true,
            "ticks": "outside"
           }
          },
          "scene": {
           "xaxis": {
            "backgroundcolor": "white",
            "gridcolor": "rgb(232,232,232)",
            "gridwidth": 2,
            "linecolor": "rgb(36,36,36)",
            "showbackground": true,
            "showgrid": false,
            "showline": true,
            "ticks": "outside",
            "zeroline": false,
            "zerolinecolor": "rgb(36,36,36)"
           },
           "yaxis": {
            "backgroundcolor": "white",
            "gridcolor": "rgb(232,232,232)",
            "gridwidth": 2,
            "linecolor": "rgb(36,36,36)",
            "showbackground": true,
            "showgrid": false,
            "showline": true,
            "ticks": "outside",
            "zeroline": false,
            "zerolinecolor": "rgb(36,36,36)"
           },
           "zaxis": {
            "backgroundcolor": "white",
            "gridcolor": "rgb(232,232,232)",
            "gridwidth": 2,
            "linecolor": "rgb(36,36,36)",
            "showbackground": true,
            "showgrid": false,
            "showline": true,
            "ticks": "outside",
            "zeroline": false,
            "zerolinecolor": "rgb(36,36,36)"
           }
          },
          "shapedefaults": {
           "fillcolor": "black",
           "line": {
            "width": 0
           },
           "opacity": 0.3
          },
          "ternary": {
           "aaxis": {
            "gridcolor": "rgb(232,232,232)",
            "linecolor": "rgb(36,36,36)",
            "showgrid": false,
            "showline": true,
            "ticks": "outside"
           },
           "baxis": {
            "gridcolor": "rgb(232,232,232)",
            "linecolor": "rgb(36,36,36)",
            "showgrid": false,
            "showline": true,
            "ticks": "outside"
           },
           "bgcolor": "white",
           "caxis": {
            "gridcolor": "rgb(232,232,232)",
            "linecolor": "rgb(36,36,36)",
            "showgrid": false,
            "showline": true,
            "ticks": "outside"
           }
          },
          "title": {
           "x": 0.05
          },
          "xaxis": {
           "automargin": true,
           "gridcolor": "rgb(232,232,232)",
           "linecolor": "rgb(36,36,36)",
           "showgrid": false,
           "showline": true,
           "ticks": "outside",
           "title": {
            "standoff": 15
           },
           "zeroline": false,
           "zerolinecolor": "rgb(36,36,36)"
          },
          "yaxis": {
           "automargin": true,
           "gridcolor": "rgb(232,232,232)",
           "linecolor": "rgb(36,36,36)",
           "showgrid": false,
           "showline": true,
           "ticks": "outside",
           "title": {
            "standoff": 15
           },
           "zeroline": false,
           "zerolinecolor": "rgb(36,36,36)"
          }
         }
        },
        "title": {
         "text": "UGT_222 primer pairs | AG1000G-GH | target AGAP006222-RA",
         "x": 0.5
        },
        "width": 1000,
        "xaxis": {
         "anchor": "y",
         "domain": [
          0,
          0.485
         ],
         "mirror": true,
         "tickangle": 0,
         "tickmode": "array",
         "ticktext": [
          "G",
          "T",
          "T",
          "C",
          "T",
          "C",
          "G",
          "G",
          "T",
          "G",
          "A",
          "C",
          "C",
          "C",
          "A",
          "A",
          "G",
          "C",
          "T",
          "A"
         ],
         "tickvals": [
          "G_28525774",
          "T_28525775",
          "T_28525776",
          "C_28525777",
          "T_28525778",
          "C_28525779",
          "G_28525780",
          "G_28525781",
          "T_28525782",
          "G_28525783",
          "A_28525784",
          "C_28525785",
          "C_28525786",
          "C_28525787",
          "A_28525788",
          "A_28525789",
          "G_28525790",
          "C_28525850",
          "T_28525851",
          "A_28525852"
         ]
        },
        "xaxis10": {
         "anchor": "y10",
         "domain": [
          0.515,
          1
         ],
         "mirror": true,
         "tickangle": 0,
         "tickmode": "array",
         "ticktext": [
          "C",
          "G",
          "G",
          "G",
          "C",
          "T",
          "T",
          "A",
          "T",
          "C",
          "A",
          "T",
          "T",
          "G",
          "T",
          "T",
          "A",
          "C",
          "C",
          "T",
          "C",
          "G"
         ],
         "tickvals": [
          "C_28524551",
          "G_28524550",
          "G_28524549",
          "G_28524548",
          "C_28524547",
          "T_28524546",
          "T_28524545",
          "A_28524544",
          "T_28524543",
          "C_28524542",
          "A_28524541",
          "T_28524540",
          "T_28524539",
          "G_28524538",
          "T_28524537",
          "T_28524536",
          "A_28524535",
          "C_28524534",
          "C_28524463",
          "T_28524462",
          "C_28524461",
          "G_28524460"
         ]
        },
        "xaxis2": {
         "anchor": "y2",
         "domain": [
          0.515,
          1
         ],
         "mirror": true,
         "tickangle": 0,
         "tickmode": "array",
         "ticktext": [
          "G",
          "C",
          "G",
          "C",
          "T",
          "A",
          "G",
          "G",
          "G",
          "G",
          "T",
          "T",
          "G",
          "A",
          "T",
          "C",
          "T",
          "C",
          "T",
          "C"
         ],
         "tickvals": [
          "G_28525905",
          "C_28525904",
          "G_28525903",
          "C_28525902",
          "T_28525901",
          "A_28525900",
          "G_28525899",
          "G_28525898",
          "G_28525897",
          "G_28525896",
          "T_28525895",
          "T_28525894",
          "G_28525893",
          "A_28525892",
          "T_28525891",
          "C_28525890",
          "T_28525889",
          "C_28525888",
          "T_28525887",
          "C_28525886"
         ]
        },
        "xaxis3": {
         "anchor": "y3",
         "domain": [
          0,
          0.485
         ],
         "mirror": true,
         "tickangle": 0,
         "tickmode": "array",
         "ticktext": [
          "T",
          "G",
          "G",
          "C",
          "T",
          "G",
          "G",
          "G",
          "G",
          "T",
          "A",
          "T",
          "C",
          "G",
          "G",
          "A",
          "G",
          "T",
          "T",
          "A"
         ],
         "tickvals": [
          "T_28525707",
          "G_28525708",
          "G_28525709",
          "C_28525710",
          "T_28525711",
          "G_28525712",
          "G_28525713",
          "G_28525714",
          "G_28525715",
          "T_28525716",
          "A_28525717",
          "T_28525718",
          "C_28525719",
          "G_28525720",
          "G_28525721",
          "A_28525722",
          "G_28525723",
          "T_28525724",
          "T_28525725",
          "A_28525726"
         ]
        },
        "xaxis4": {
         "anchor": "y4",
         "domain": [
          0.515,
          1
         ],
         "mirror": true,
         "tickangle": 0,
         "tickmode": "array",
         "ticktext": [
          "T",
          "G",
          "C",
          "A",
          "G",
          "T",
          "A",
          "T",
          "A",
          "G",
          "C",
          "T",
          "T",
          "G",
          "G",
          "G",
          "T",
          "C",
          "A",
          "C",
          "C"
         ],
         "tickvals": [
          "T_28525859",
          "G_28525858",
          "C_28525857",
          "A_28525856",
          "G_28525855",
          "T_28525854",
          "A_28525853",
          "T_28525852",
          "A_28525851",
          "G_28525850",
          "C_28525790",
          "T_28525789",
          "T_28525788",
          "G_28525787",
          "G_28525786",
          "G_28525785",
          "T_28525784",
          "C_28525783",
          "A_28525782",
          "C_28525781",
          "C_28525780"
         ]
        },
        "xaxis5": {
         "anchor": "y5",
         "domain": [
          0,
          0.485
         ],
         "mirror": true,
         "tickangle": 0,
         "tickmode": "array",
         "ticktext": [
          "G",
          "G",
          "T",
          "G",
          "A",
          "C",
          "C",
          "C",
          "A",
          "A",
          "G",
          "C",
          "T",
          "A",
          "T",
          "A",
          "C",
          "T",
          "G",
          "C",
          "A"
         ],
         "tickvals": [
          "G_28525780",
          "G_28525781",
          "T_28525782",
          "G_28525783",
          "A_28525784",
          "C_28525785",
          "C_28525786",
          "C_28525787",
          "A_28525788",
          "A_28525789",
          "G_28525790",
          "C_28525850",
          "T_28525851",
          "A_28525852",
          "T_28525853",
          "A_28525854",
          "C_28525855",
          "T_28525856",
          "G_28525857",
          "C_28525858",
          "A_28525859"
         ]
        },
        "xaxis6": {
         "anchor": "y6",
         "domain": [
          0.515,
          1
         ],
         "mirror": true,
         "tickangle": 0,
         "tickmode": "array",
         "ticktext": [
          "A",
          "T",
          "T",
          "G",
          "G",
          "C",
          "G",
          "C",
          "T",
          "A",
          "G",
          "G",
          "G",
          "G",
          "T",
          "T",
          "G",
          "A",
          "T",
          "C"
         ],
         "tickvals": [
          "A_28525909",
          "T_28525908",
          "T_28525907",
          "G_28525906",
          "G_28525905",
          "C_28525904",
          "G_28525903",
          "C_28525902",
          "T_28525901",
          "A_28525900",
          "G_28525899",
          "G_28525898",
          "G_28525897",
          "G_28525896",
          "T_28525895",
          "T_28525894",
          "G_28525893",
          "A_28525892",
          "T_28525891",
          "C_28525890"
         ]
        },
        "xaxis7": {
         "anchor": "y7",
         "domain": [
          0,
          0.485
         ],
         "mirror": true,
         "tickangle": 0,
         "tickmode": "array",
         "ticktext": [
          "T",
          "C",
          "T",
          "C",
          "G",
          "G",
          "T",
          "G",
          "A",
          "C",
          "C",
          "C",
          "A",
          "A",
          "G",
          "C",
          "T",
          "A",
          "T",
          "A",
          "C"
         ],
         "tickvals": [
          "T_28525776",
          "C_28525777",
          "T_28525778",
          "C_28525779",
          "G_28525780",
          "G_28525781",
          "T_28525782",
          "G_28525783",
          "A_28525784",
          "C_28525785",
          "C_28525786",
          "C_28525787",
          "A_28525788",
          "A_28525789",
          "G_28525790",
          "C_28525850",
          "T_28525851",
          "A_28525852",
          "T_28525853",
          "A_28525854",
          "C_28525855"
         ]
        },
        "xaxis8": {
         "anchor": "y8",
         "domain": [
          0.515,
          1
         ],
         "mirror": true,
         "tickangle": 0,
         "tickmode": "array",
         "ticktext": [
          "G",
          "T",
          "A",
          "T",
          "C",
          "C",
          "A",
          "T",
          "T",
          "G",
          "G",
          "C",
          "G",
          "C",
          "T",
          "A",
          "G",
          "G",
          "G",
          "G"
         ],
         "tickvals": [
          "G_28525915",
          "T_28525914",
          "A_28525913",
          "T_28525912",
          "C_28525911",
          "C_28525910",
          "A_28525909",
          "T_28525908",
          "T_28525907",
          "G_28525906",
          "G_28525905",
          "C_28525904",
          "G_28525903",
          "C_28525902",
          "T_28525901",
          "A_28525900",
          "G_28525899",
          "G_28525898",
          "G_28525897",
          "G_28525896"
         ]
        },
        "xaxis9": {
         "anchor": "y9",
         "domain": [
          0,
          0.485
         ],
         "mirror": true,
         "tickangle": 0,
         "tickmode": "array",
         "ticktext": [
          "T",
          "T",
          "C",
          "T",
          "T",
          "G",
          "G",
          "C",
          "A",
          "T",
          "C",
          "T",
          "T",
          "C",
          "C",
          "C",
          "C",
          "A",
          "C",
          "C"
         ],
         "tickvals": [
          "T_28524378",
          "T_28524379",
          "C_28524380",
          "T_28524381",
          "T_28524382",
          "G_28524383",
          "G_28524384",
          "C_28524385",
          "A_28524386",
          "T_28524387",
          "C_28524388",
          "T_28524389",
          "T_28524390",
          "C_28524391",
          "C_28524392",
          "C_28524393",
          "C_28524394",
          "A_28524395",
          "C_28524396",
          "C_28524397"
         ]
        },
        "yaxis": {
         "anchor": "x",
         "domain": [
          0.8639999999999999,
          0.9999999999999999
         ],
         "mirror": true,
         "range": [
          0,
          1
         ],
         "tickvals": [
          0,
          0.2,
          0.4,
          0.6000000000000001,
          0.8
         ]
        },
        "yaxis10": {
         "anchor": "x10",
         "domain": [
          0,
          0.13599999999999998
         ],
         "mirror": true,
         "range": [
          0,
          1
         ],
         "showticklabels": false,
         "tickvals": [
          0,
          0.2,
          0.4,
          0.6000000000000001,
          0.8
         ]
        },
        "yaxis2": {
         "anchor": "x2",
         "domain": [
          0.8639999999999999,
          0.9999999999999999
         ],
         "mirror": true,
         "range": [
          0,
          1
         ],
         "showticklabels": false,
         "tickvals": [
          0,
          0.2,
          0.4,
          0.6000000000000001,
          0.8
         ]
        },
        "yaxis3": {
         "anchor": "x3",
         "domain": [
          0.6479999999999999,
          0.7839999999999999
         ],
         "mirror": true,
         "range": [
          0,
          1
         ],
         "tickvals": [
          0,
          0.2,
          0.4,
          0.6000000000000001,
          0.8
         ],
         "title": {
          "text": "Alternate allele frequency"
         }
        },
        "yaxis4": {
         "anchor": "x4",
         "domain": [
          0.6479999999999999,
          0.7839999999999999
         ],
         "mirror": true,
         "range": [
          0,
          1
         ],
         "showticklabels": false,
         "tickvals": [
          0,
          0.2,
          0.4,
          0.6000000000000001,
          0.8
         ]
        },
        "yaxis5": {
         "anchor": "x5",
         "domain": [
          0.43199999999999994,
          0.568
         ],
         "mirror": true,
         "range": [
          0,
          1
         ],
         "tickvals": [
          0,
          0.2,
          0.4,
          0.6000000000000001,
          0.8
         ]
        },
        "yaxis6": {
         "anchor": "x6",
         "domain": [
          0.43199999999999994,
          0.568
         ],
         "mirror": true,
         "range": [
          0,
          1
         ],
         "showticklabels": false,
         "tickvals": [
          0,
          0.2,
          0.4,
          0.6000000000000001,
          0.8
         ]
        },
        "yaxis7": {
         "anchor": "x7",
         "domain": [
          0.21599999999999997,
          0.352
         ],
         "mirror": true,
         "range": [
          0,
          1
         ],
         "tickvals": [
          0,
          0.2,
          0.4,
          0.6000000000000001,
          0.8
         ],
         "title": {
          "text": "Alternate allele frequency"
         }
        },
        "yaxis8": {
         "anchor": "x8",
         "domain": [
          0.21599999999999997,
          0.352
         ],
         "mirror": true,
         "range": [
          0,
          1
         ],
         "showticklabels": false,
         "tickvals": [
          0,
          0.2,
          0.4,
          0.6000000000000001,
          0.8
         ]
        },
        "yaxis9": {
         "anchor": "x9",
         "domain": [
          0,
          0.13599999999999998
         ],
         "mirror": true,
         "range": [
          0,
          1
         ],
         "tickvals": [
          0,
          0.2,
          0.4,
          0.6000000000000001,
          0.8
         ]
        }
       }
      }
     },
     "metadata": {},
     "output_type": "display_data"
    },
    {
     "data": {
      "application/javascript": "(function(root) {\n  function now() {\n    return new Date();\n  }\n\n  const force = true;\n\n  if (typeof root._bokeh_onload_callbacks === \"undefined\" || force === true) {\n    root._bokeh_onload_callbacks = [];\n    root._bokeh_is_loading = undefined;\n  }\n\nconst JS_MIME_TYPE = 'application/javascript';\n  const HTML_MIME_TYPE = 'text/html';\n  const EXEC_MIME_TYPE = 'application/vnd.bokehjs_exec.v0+json';\n  const CLASS_NAME = 'output_bokeh rendered_html';\n\n  /**\n   * Render data to the DOM node\n   */\n  function render(props, node) {\n    const script = document.createElement(\"script\");\n    node.appendChild(script);\n  }\n\n  /**\n   * Handle when an output is cleared or removed\n   */\n  function handleClearOutput(event, handle) {\n    function drop(id) {\n      const view = Bokeh.index.get_by_id(id)\n      if (view != null) {\n        view.model.document.clear()\n        Bokeh.index.delete(view)\n      }\n    }\n\n    const cell = handle.cell;\n\n    const id = cell.output_area._bokeh_element_id;\n    const server_id = cell.output_area._bokeh_server_id;\n\n    // Clean up Bokeh references\n    if (id != null) {\n      drop(id)\n    }\n\n    if (server_id !== undefined) {\n      // Clean up Bokeh references\n      const cmd_clean = \"from bokeh.io.state import curstate; print(curstate().uuid_to_server['\" + server_id + \"'].get_sessions()[0].document.roots[0]._id)\";\n      cell.notebook.kernel.execute(cmd_clean, {\n        iopub: {\n          output: function(msg) {\n            const id = msg.content.text.trim()\n            drop(id)\n          }\n        }\n      });\n      // Destroy server and session\n      const cmd_destroy = \"import bokeh.io.notebook as ion; ion.destroy_server('\" + server_id + \"')\";\n      cell.notebook.kernel.execute(cmd_destroy);\n    }\n  }\n\n  /**\n   * Handle when a new output is added\n   */\n  function handleAddOutput(event, handle) {\n    const output_area = handle.output_area;\n    const output = handle.output;\n\n    // limit handleAddOutput to display_data with EXEC_MIME_TYPE content only\n    if ((output.output_type != \"display_data\") || (!Object.prototype.hasOwnProperty.call(output.data, EXEC_MIME_TYPE))) {\n      return\n    }\n\n    const toinsert = output_area.element.find(\".\" + CLASS_NAME.split(' ')[0]);\n\n    if (output.metadata[EXEC_MIME_TYPE][\"id\"] !== undefined) {\n      toinsert[toinsert.length - 1].firstChild.textContent = output.data[JS_MIME_TYPE];\n      // store reference to embed id on output_area\n      output_area._bokeh_element_id = output.metadata[EXEC_MIME_TYPE][\"id\"];\n    }\n    if (output.metadata[EXEC_MIME_TYPE][\"server_id\"] !== undefined) {\n      const bk_div = document.createElement(\"div\");\n      bk_div.innerHTML = output.data[HTML_MIME_TYPE];\n      const script_attrs = bk_div.children[0].attributes;\n      for (let i = 0; i < script_attrs.length; i++) {\n        toinsert[toinsert.length - 1].firstChild.setAttribute(script_attrs[i].name, script_attrs[i].value);\n        toinsert[toinsert.length - 1].firstChild.textContent = bk_div.children[0].textContent\n      }\n      // store reference to server id on output_area\n      output_area._bokeh_server_id = output.metadata[EXEC_MIME_TYPE][\"server_id\"];\n    }\n  }\n\n  function register_renderer(events, OutputArea) {\n\n    function append_mime(data, metadata, element) {\n      // create a DOM node to render to\n      const toinsert = this.create_output_subarea(\n        metadata,\n        CLASS_NAME,\n        EXEC_MIME_TYPE\n      );\n      this.keyboard_manager.register_events(toinsert);\n      // Render to node\n      const props = {data: data, metadata: metadata[EXEC_MIME_TYPE]};\n      render(props, toinsert[toinsert.length - 1]);\n      element.append(toinsert);\n      return toinsert\n    }\n\n    /* Handle when an output is cleared or removed */\n    events.on('clear_output.CodeCell', handleClearOutput);\n    events.on('delete.Cell', handleClearOutput);\n\n    /* Handle when a new output is added */\n    events.on('output_added.OutputArea', handleAddOutput);\n\n    /**\n     * Register the mime type and append_mime function with output_area\n     */\n    OutputArea.prototype.register_mime_type(EXEC_MIME_TYPE, append_mime, {\n      /* Is output safe? */\n      safe: true,\n      /* Index of renderer in `output_area.display_order` */\n      index: 0\n    });\n  }\n\n  // register the mime type if in Jupyter Notebook environment and previously unregistered\n  if (root.Jupyter !== undefined) {\n    const events = require('base/js/events');\n    const OutputArea = require('notebook/js/outputarea').OutputArea;\n\n    if (OutputArea.prototype.mime_types().indexOf(EXEC_MIME_TYPE) == -1) {\n      register_renderer(events, OutputArea);\n    }\n  }\n  if (typeof (root._bokeh_timeout) === \"undefined\" || force === true) {\n    root._bokeh_timeout = Date.now() + 5000;\n    root._bokeh_failed_load = false;\n  }\n\n  const NB_LOAD_WARNING = {'data': {'text/html':\n     \"<div style='background-color: #fdd'>\\n\"+\n     \"<p>\\n\"+\n     \"BokehJS does not appear to have successfully loaded. If loading BokehJS from CDN, this \\n\"+\n     \"may be due to a slow or bad network connection. Possible fixes:\\n\"+\n     \"</p>\\n\"+\n     \"<ul>\\n\"+\n     \"<li>re-rerun `output_notebook()` to attempt to load from CDN again, or</li>\\n\"+\n     \"<li>use INLINE resources instead, as so:</li>\\n\"+\n     \"</ul>\\n\"+\n     \"<code>\\n\"+\n     \"from bokeh.resources import INLINE\\n\"+\n     \"output_notebook(resources=INLINE)\\n\"+\n     \"</code>\\n\"+\n     \"</div>\"}};\n\n  function display_loaded() {\n    const el = document.getElementById(null);\n    if (el != null) {\n      el.textContent = \"BokehJS is loading...\";\n    }\n    if (root.Bokeh !== undefined) {\n      if (el != null) {\n        el.textContent = \"BokehJS \" + root.Bokeh.version + \" successfully loaded.\";\n      }\n    } else if (Date.now() < root._bokeh_timeout) {\n      setTimeout(display_loaded, 100)\n    }\n  }\n\n  function run_callbacks() {\n    try {\n      root._bokeh_onload_callbacks.forEach(function(callback) {\n        if (callback != null)\n          callback();\n      });\n    } finally {\n      delete root._bokeh_onload_callbacks\n    }\n    console.debug(\"Bokeh: all callbacks have finished\");\n  }\n\n  function load_libs(css_urls, js_urls, callback) {\n    if (css_urls == null) css_urls = [];\n    if (js_urls == null) js_urls = [];\n\n    root._bokeh_onload_callbacks.push(callback);\n    if (root._bokeh_is_loading > 0) {\n      console.debug(\"Bokeh: BokehJS is being loaded, scheduling callback at\", now());\n      return null;\n    }\n    if (js_urls == null || js_urls.length === 0) {\n      run_callbacks();\n      return null;\n    }\n    console.debug(\"Bokeh: BokehJS not loaded, scheduling load and callback at\", now());\n    root._bokeh_is_loading = css_urls.length + js_urls.length;\n\n    function on_load() {\n      root._bokeh_is_loading--;\n      if (root._bokeh_is_loading === 0) {\n        console.debug(\"Bokeh: all BokehJS libraries/stylesheets loaded\");\n        run_callbacks()\n      }\n    }\n\n    function on_error(url) {\n      console.error(\"failed to load \" + url);\n    }\n\n    for (let i = 0; i < css_urls.length; i++) {\n      const url = css_urls[i];\n      const element = document.createElement(\"link\");\n      element.onload = on_load;\n      element.onerror = on_error.bind(null, url);\n      element.rel = \"stylesheet\";\n      element.type = \"text/css\";\n      element.href = url;\n      console.debug(\"Bokeh: injecting link tag for BokehJS stylesheet: \", url);\n      document.body.appendChild(element);\n    }\n\n    for (let i = 0; i < js_urls.length; i++) {\n      const url = js_urls[i];\n      const element = document.createElement('script');\n      element.onload = on_load;\n      element.onerror = on_error.bind(null, url);\n      element.async = false;\n      element.src = url;\n      console.debug(\"Bokeh: injecting script tag for BokehJS library: \", url);\n      document.head.appendChild(element);\n    }\n  };\n\n  function inject_raw_css(css) {\n    const element = document.createElement(\"style\");\n    element.appendChild(document.createTextNode(css));\n    document.body.appendChild(element);\n  }\n\n  const js_urls = [\"https://cdn.bokeh.org/bokeh/release/bokeh-3.3.4.min.js\", \"https://cdn.bokeh.org/bokeh/release/bokeh-gl-3.3.4.min.js\", \"https://cdn.bokeh.org/bokeh/release/bokeh-widgets-3.3.4.min.js\", \"https://cdn.bokeh.org/bokeh/release/bokeh-tables-3.3.4.min.js\", \"https://cdn.bokeh.org/bokeh/release/bokeh-mathjax-3.3.4.min.js\"];\n  const css_urls = [];\n\n  const inline_js = [    function(Bokeh) {\n      Bokeh.set_log_level(\"info\");\n    },\nfunction(Bokeh) {\n    }\n  ];\n\n  function run_inline_js() {\n    if (root.Bokeh !== undefined || force === true) {\n          for (let i = 0; i < inline_js.length; i++) {\n      inline_js[i].call(root, root.Bokeh);\n    }\n} else if (Date.now() < root._bokeh_timeout) {\n      setTimeout(run_inline_js, 100);\n    } else if (!root._bokeh_failed_load) {\n      console.log(\"Bokeh: BokehJS failed to load within specified timeout.\");\n      root._bokeh_failed_load = true;\n    } else if (force !== true) {\n      const cell = $(document.getElementById(null)).parents('.cell').data().cell;\n      cell.output_area.append_execute_result(NB_LOAD_WARNING)\n    }\n  }\n\n  if (root._bokeh_is_loading === 0) {\n    console.debug(\"Bokeh: BokehJS loaded, going straight to plotting\");\n    run_inline_js();\n  } else {\n    load_libs(css_urls, js_urls, function() {\n      console.debug(\"Bokeh: BokehJS plotting callback run at\", now());\n      run_inline_js();\n    });\n  }\n}(window));",
      "application/vnd.bokehjs_load.v0+json": ""
     },
     "metadata": {},
     "output_type": "display_data"
    },
    {
     "name": "stdout",
     "output_type": "stream",
     "text": [
      "                                     \r"
     ]
    },
    {
     "name": "stderr",
     "output_type": "stream",
     "text": [
      "Tue Oct 15 19:25:20 2024 INFO No DNA BLAT matches were found for this sequence in genome anoGam3.\n"
     ]
    },
    {
     "name": "stdout",
     "output_type": "stream",
     "text": [
      "No hit for reverse - pair 2\n"
     ]
    },
    {
     "name": "stderr",
     "output_type": "stream",
     "text": [
      "Tue Oct 15 19:25:21 2024 INFO No DNA BLAT matches were found for this sequence in genome anoGam3.\n"
     ]
    },
    {
     "name": "stdout",
     "output_type": "stream",
     "text": [
      "No hit for forward - pair 3\n"
     ]
    },
    {
     "name": "stderr",
     "output_type": "stream",
     "text": [
      "Tue Oct 15 19:25:23 2024 INFO No DNA BLAT matches were found for this sequence in genome anoGam3.\n"
     ]
    },
    {
     "name": "stdout",
     "output_type": "stream",
     "text": [
      "No hit for forward - pair 4\n"
     ]
    },
    {
     "data": {
      "image/png": "[encoded data removed]",
      "text/plain": [
       "<Figure size 1600x400 with 1 Axes>"
      ]
     },
     "metadata": {
      "image/png": {
       "height": 379,
       "width": 1308
      }
     },
     "output_type": "display_data"
    }
   ],
   "source": [
    "primer_parameters  =  {\n",
    "    'PRIMER_OPT_SIZE': 20,\n",
    "    'PRIMER_TASK':'generic',\n",
    "    'PRIMER_MIN_SIZE': 17,\n",
    "    'PRIMER_MAX_SIZE': 24,\n",
    "    'PRIMER_OPT_TM': 60.0,\n",
    "    'PRIMER_MIN_TM': 55.0,\n",
    "    'PRIMER_MAX_TM': 64.0,\n",
    "    'PRIMER_MIN_GC': 30.0,\n",
    "    'PRIMER_MAX_GC': 70.0,\n",
    "    'PRIMER_MIN_THREE_PRIME_DISTANCE': 3,  # this parameter is the minimum distance between successive pairs. If 1, it means successive primer pairs could be identical bar one base shift\n",
    "    'PRIMER_INTERNAL_OPT_SIZE': 16,  # Probe size preferences if selected, otherwise ignored\n",
    "    'PRIMER_INTERNAL_MIN_SIZE': 10,\n",
    "    'PRIMER_INTERNAL_MAX_SIZE': 22,\n",
    "    'PRIMER_INTERNAL_MIN_TM': 45,\n",
    "    'PRIMER_INTERNAL_MAX_TM': 65,  # Probe considerations are quite relaxed, assumed that LNAs / Taqman will be used later to affect TM\n",
    "    # Extra primer3 parameters can go here\n",
    "    # In the same format as above\n",
    "    }\n",
    "\n",
    "bad_primers = AnoPrimer.design_primers(\n",
    "    species='gambiae_sl',\n",
    "    assay_type='cDNA primers',  # assay_type options are: 'cDNA primers', 'gDNA primers', 'gDNA primers + probe', 'probe'\n",
    "    target='AGAP006222-RA',  # target should be an AGAP transcript identifier in for cDNA, otherwise should be an integer in genome\n",
    "    assay_name='UGT_222',\n",
    "    n_primer_pairs=5,\n",
    "    min_amplicon_size=60,\n",
    "    max_amplicon_size=120,\n",
    "    primer_parameters=primer_parameters,\n",
    ")\n",
    "\n",
    "bad_primers.evaluate_primers(    \n",
    "    sample_sets='AG1000G-GH',          # sample_set = '3.0' .you can also supply lists with multiple sample sets e.g ['AG1000G-GH', 'AG1000G-CI', 'AG1000G-BF-A']\n",
    "    sample_query=\"taxon == 'coluzzii'\",\n",
    "    out_dir=\".\"\n",
    "    )"
   ]
  },
  {
   "cell_type": "markdown",
   "id": "DvUpSAphIKoC",
   "metadata": {
    "id": "DvUpSAphIKoC"
   },
   "source": [
    "We can see that only primer pair 4 really looks suitable, as all the other primer pairs contain SNPs at their 3' end in at least one of the forward or reverse primers."
   ]
  },
  {
   "cell_type": "markdown",
   "id": "63b9ebf8",
   "metadata": {
    "id": "86c29277"
   },
   "source": [
    "## Well done!!\n",
    "\n",
    "Well done on completing the notebook and designing sets of SNP-variation informed primers!"
   ]
  },
  {
   "cell_type": "markdown",
   "id": "86c29277",
   "metadata": {
    "id": "86c29277"
   },
   "source": [
    "## Exercises\n",
    "\n",
    "### English\n",
    "\n",
    "For the exercises, you can either re-run this notebook or use the function in the cell above, which integrates the above notebook into one single function, for convenience.\n",
    "\n",
    "1. Design a set of qPCR primers to measure gene expression of the carboxylesterase gene, COEAE2F (contig='2L', transcript='AGAP006228-RA'), restricting the samples to just *Anopheles gambiae*. HINT: use 'cDNA primers'.\n",
    "\n",
    "2. Design a set of primers and a probe for the *vgsc*-995F *kdr* mutation (contig = 2L, genome bp = 2422652)\n",
    "\n",
    "3. Design a set of qPCR primers to target the gene from module 3's practical exercise. \n",
    "\n",
    "### Français\n",
    "\n",
    "En tant qu'exercices, vous pouvez soit exécuter à nouveau ce notebook ou utiliser la fonction de la cellule ci-dessus, qui intègre le contenu du reste du notebook dans une seule cellule, pour une plus grande aisance.\n",
    "\n",
    "1. Créer un ensemble d'amorces pour qPCR afin de mesurer l'expression génique du gène carboxylesterase COEAE2F (contig='2L', transcript='AGAP006228-RA'), en limitant les échantillons aux Anopheles gambiae. INDICE: utiliser 'cDNA primers'.\n",
    "\n",
    "2. Créer un ensemble d'amorces et une sonde pour la mutation vgsc-995F kdr (contig = 2L, genome bp = 2422652)\n",
    "\n",
    "3. Créer un ensemble d'amorces pour qPCR ciblant le gène de l'exercice pratique du module 3\n"
   ]
  },
  {
   "cell_type": "code",
   "execution_count": 23,
   "id": "C0wyXmfVQmVv",
   "metadata": {
    "id": "C0wyXmfVQmVv"
   },
   "outputs": [],
   "source": [
    "primer_parameters  =  {\n",
    "    'PRIMER_OPT_SIZE': 20,\n",
    "    'PRIMER_TASK':'generic',\n",
    "    'PRIMER_MIN_SIZE': 17,\n",
    "    'PRIMER_MAX_SIZE': 24,\n",
    "    'PRIMER_OPT_TM': 60.0,\n",
    "    'PRIMER_MIN_TM': 55.0,\n",
    "    'PRIMER_MAX_TM': 64.0,\n",
    "    'PRIMER_MIN_GC': 30.0,\n",
    "    'PRIMER_MAX_GC': 75.0,\n",
    "    'PRIMER_MIN_THREE_PRIME_DISTANCE': 3,  # this parameter is the minimum distance between successive pairs. If 1, it means successive primer pairs could be identical bar one base shift\n",
    "    'PRIMER_INTERNAL_OPT_SIZE': 16,  # Probe size preferences if selected, otherwise ignored\n",
    "    'PRIMER_INTERNAL_MIN_SIZE': 10,\n",
    "    'PRIMER_INTERNAL_MAX_SIZE': 22,\n",
    "    'PRIMER_INTERNAL_MIN_TM': 45,\n",
    "    'PRIMER_INTERNAL_MAX_TM': 65,  # Probe considerations are quite relaxed, assumed that LNAs / Taqman will be used later to affect TM\n",
    "    # Extra primer3 parameters can go here\n",
    "    # In the same format as above                       \n",
    "    }\n",
    "\n",
    "\n",
    "# coe_primers= AnoPrimer.design_primers(\n",
    "#      species='gambiae_sl',\n",
    "#      assay_type='cDNA primers',  # assay_type options are: 'cDNA primers', 'gDNA primers', 'gDNA primers + probe', 'probe'\n",
    "#      target='AGAP000818-RA',            # target should be an AGAP transcript identifier in for cDNA primers, otherwise should be an integer in genome\n",
    "#      assay_name='COEAE2F',\n",
    "#      n_primer_pairs=8,\n",
    "#      min_amplicon_size=60,\n",
    "#      max_amplicon_size=120,\n",
    "#      primer_parameters=primer_parameters,\n",
    "# )\n",
    "#\n",
    "# coe_primers.evaluate_primers(\n",
    "#      sample_sets=['AG1000G-BF-A', 'AG1000G-GH', 'AG1000G-GN-A'], \n",
    "#      out_dir=\".\"\n",
    "# )"
   ]
  },
  {
   "cell_type": "markdown",
   "id": "f5293683",
   "metadata": {
    "id": "Qp9P2RhWQbdN"
   },
   "source": [
    "## Future development\n",
    "\n",
    "Any contributions or suggestions on how we can improve this notebook are more than welcome. Please [email](mailto:sanjay.nagi@lstmed.ac.uk) or log an [issue on github](https://github.com/sanjaynagi/primerDesignAg/issues). This notebook and source code for AnoPrimer are located here - https://github.com/sanjaynagi/AnoPrimer/    "
   ]
  },
  {
   "cell_type": "markdown",
   "id": "Qp9P2RhWQbdN",
   "metadata": {
    "id": "Qp9P2RhWQbdN"
   },
   "source": [
    "## References\n",
    "\n",
    "\n",
    "[1] Santolamazza, F., Mancini, E., Simard, F. et al. **Insertion polymorphisms of SINE200 retrotransposons within speciation islands of Anopheles gambiae molecular forms**. Malar J 7, 163 (2008). https://doi.org/10.1186/1475-2875-7-163\n",
    "\n",
    "[2] White BJ, Santolamazza F, Kamau L, Pombi M, Grushko O, Mouline K, Brengues C, Guelbeogo W, Coulibaly M, Kayondo JK, Sharakhov I, Simard F, Petrarca V, Della Torre A, Besansky NJ. **Molecular karyotyping of the 2La inversion in Anopheles gambiae**. Am J Trop Med Hyg. 2007 Feb;76(2):334-9. PMID: 17297045.\n",
    "\n",
    "[3] Makunin, A., Korlević, P., Park, N., Goodwin, S., Waterhouse, R. M., von Wyschetzki, K., Jacob, C. G., Davies, R., Kwiatkowski, D., St Laurent, B., Ayala, D., & Lawniczak, M. K. N. (2022). **A targeted amplicon sequencing panel to simultaneously identify mosquito species and Plasmodium presence across the entire Anopheles genus**. Molecular Ecology Resources, 22, 28– 44. https://doi.org/10.1111/1755-0998.13436\n",
    "\n",
    "[4] Chabi J, Van’t Hof A, N’dri LK, Datsomor A, Okyere D, Njoroge H, et al. (2019) **Rapid high throughput SYBR green assay for identifying the malaria vectors Anopheles arabiensis, Anopheles coluzzii and Anopheles gambiae s.s**. Giles. PLoS ONE 14(4)\n",
    "\n",
    "[5] Lynd, A., Oruni, A., van’t Hof, A.E. et al. **Insecticide resistance in Anopheles gambiae from the northern Democratic Republic of Congo, with extreme knockdown resistance (kdr) mutation frequencies revealed by a new diagnostic assay**. Malar J 17, 412 (2018). https://doi.org/10.1186/s12936-018-2561-5\n",
    "\n",
    "[6] Lefever S, Pattyn F, et al. (2013) **Single-nucleotide polymorphisms and other mismatches reduce performance of quantitative PCR assays. Single-nucleotide polymorphisms and other mismatches reduce performance of quantitative PCR assays**. Clin Chem, 59(10):1470–1480.\n",
    "\n",
    "\n",
    "[7] Owczarzy R, Tataurov AV, et al. (2008) **IDT SciTools: a suite for analysis and design of nucleic acid oligomers**. Nucl Acids Res, 36 (suppl 2):W163–169.\n",
    "\n",
    "[8] The Anopheles gambiae 1000 Genomes Consortium (2020). **Genome variation and population structure among 1142 mosquitoes of the African malaria vector species *Anopheles gambiae* and *Anopheles coluzzii***. *Genome Research*, **30**: 1533-1546. \n",
    "https://genome.cshlp.org/content/early/2020/09/25/gr.262790.120\n",
    "\n",
    "[9] Untergasser A, Cutcutache I, Koressaar T, Ye J, Faircloth BC, Remm M and Rozen SG (2012). **Primer3--new capabilities and interfaces**. *Nucleic Acids Research*. 40(15):e115.\n",
    "\n",
    "[10] Ye, J., Coulouris, G., Zaretskaya, I. et al. **Primer-BLAST: A tool to design target-specific primers for polymerase chain reaction**. BMC Bioinformatics 13, 134 (2012). https://doi.org/10.1186/1471-2105-13-134\n",
    "\n",
    "[11] Grau-Bové X, Lucas E, Pipini D, Rippon E, van ‘t Hof AE, Constant E, et al. (2021) **Resistance to pirimiphos-methyl in West African Anopheles is spreading via duplication and introgression of the Ace1 locus**. PLoS Genet 17(1): e1009253. https://doi.org/10.1371/journal.pgen.1009253"
   ]
  }
 ],
 "metadata": {
  "celltoolbar": "Tags",
  "colab": {
   "collapsed_sections": [],
   "name": "Workshop 6 - Module 4 - AgamPrimer",
   "provenance": []
  },
  "kernelspec": {
   "display_name": "base",
   "language": "python",
   "name": "python3"
  },
  "language_info": {
   "codemirror_mode": {
    "name": "ipython",
    "version": 3
   },
   "file_extension": ".py",
   "mimetype": "text/x-python",
   "name": "python",
   "nbconvert_exporter": "python",
   "pygments_lexer": "ipython3",
   "version": "3.11.0"
  },
  "widgets": {
   "application/vnd.jupyter.widget-state+json": {
    "state": {},
    "version_major": 2,
    "version_minor": 0
   }
  }
 },
 "nbformat": 4,
 "nbformat_minor": 5
}
