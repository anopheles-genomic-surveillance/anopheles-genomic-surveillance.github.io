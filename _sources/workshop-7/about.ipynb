{
 "cells": [
  {
   "cell_type": "markdown",
   "id": "d27c267b",
   "metadata": {},
   "source": [
    "![banner](../banner.jpg)\n",
    "\n",
    "***Training course in data analysis for genomic surveillance of African malaria vectors***\n",
    "\n",
    "---"
   ]
  },
  {
   "cell_type": "markdown",
   "id": "4bd1b90f",
   "metadata": {},
   "source": [
    "# Workshop 7 - Gene flow and the spread of insecticide resistance\n",
    "\n",
    "## Topic\n",
    "\n",
    "This training workshop focuses on the use of genomic data to investigate the spread of insecticide resistance between mosquito populations. Over the past decade we have learned from genomic studies that insecticide resistance mutations can be spread between important malaria vector species within the *Anopheles gambiae* species complex. We've also learned that mosquito populations from different geographical locations are highly interconnected, and although each individual mosquito may only be able to travel a relatively short distance in its lifetime, nevertheless insecticide resistance mutations may still spread over hundreds or even thousands of kilometres over multiple generations of mosquito dispersal and reproduction. This potential for adaptive gene flow between species and countries is an important topic for malaria vector surveillance and research, because we need to learn more about where and when public health measures aimed at managing or mitigating the impact of insecticide resistance need to be more coordinated. "
   ]
  },
  {
   "cell_type": "markdown",
   "id": "83b3d78d",
   "metadata": {},
   "source": [
    "## Structure and format\n",
    "\n",
    "This workshop comprises four modules:\n",
    "\n",
    "* {doc}`module-1-op-ir`\n",
    "* {doc}`module-2-gene-flow`\n",
    "* {doc}`module-3-haplotype-clustering`\n",
    "* {doc}`module-4-haplotype-networks`\n",
    "\n",
    "Each module includes a video lecture, and is accompanied by a notebook which includes lecture notes, code examples and practical exercises"
   ]
  }
 ],
 "metadata": {
  "kernelspec": {
   "display_name": "Python 3 (ipykernel)",
   "language": "python",
   "name": "python3"
  },
  "language_info": {
   "codemirror_mode": {
    "name": "ipython",
    "version": 3
   },
   "file_extension": ".py",
   "mimetype": "text/x-python",
   "name": "python",
   "nbconvert_exporter": "python",
   "pygments_lexer": "ipython3",
   "version": "3.9.7"
  }
 },
 "nbformat": 4,
 "nbformat_minor": 5
}
