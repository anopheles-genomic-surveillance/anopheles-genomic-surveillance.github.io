{
 "cells": [
  {
   "cell_type": "markdown",
   "metadata": {
    "id": "PegF1K0D1ZnS"
   },
   "source": [
    "![banner](../banner.jpg)\n",
    "\n",
    "***[Workshop 4](about) - Training course in data analysis for genomic surveillance of African malaria vectors***\n",
    "\n",
    "---"
   ]
  },
  {
   "cell_type": "markdown",
   "metadata": {
    "id": "IWbYSGsC1vhV"
   },
   "source": [
    "# Module 1 - NumPy arrays\n",
    "\n",
    "**Theme: Tools & technology**\n",
    "\n",
    "NumPy (Numerical Python) is a Python package for working with numerical data. It is right at the heart of the scientific computing ecosystem in Python, and is a powerful tool for fast and memory-efficient analysis of large genomic datasets. This module introduces NumPy arrays, which are the fundamental data structure that NumPy provides for storing and computing with numerical data. \n",
    "\n",
    "This module borrows heavily from [NumPy: the absolute basics for beginners](https://numpy.org/doc/stable/user/absolute_beginners.html) by the NumPy team and [A visual Intro to NumPy and Data Representation](https://jalammar.github.io/visual-numpy/) by Jay Alammar. "
   ]
  },
  {
   "cell_type": "markdown",
   "metadata": {
    "id": "WiKt280J13oB"
   },
   "source": [
    "## Learning objectives\n",
    "\n",
    "At the end of this module you will be able to:\n",
    "\n",
    "* Explain why we use NumPy for genomic data analysis.\n",
    "* Create NumPy arrays.\n",
    "* Access data in an array using indexing and slicing.\n",
    "* Perform simple mathematical computations with arrays.\n",
    "* Perform simple aggregations with arrays."
   ]
  },
  {
   "cell_type": "markdown",
   "metadata": {},
   "source": [
    "## Lecture"
   ]
  },
  {
   "cell_type": "markdown",
   "metadata": {},
   "source": [
    "### English"
   ]
  },
  {
   "cell_type": "code",
   "execution_count": 2,
   "metadata": {
    "tags": [
     "remove-input"
    ]
   },
   "outputs": [
    {
     "data": {
      "text/html": [
       "<iframe width=\"560\" height=\"315\" src=\"https://www.youtube.com/embed/N0TkJ2KITK0\" title=\"YouTube video player\" frameborder=\"0\" allow=\"accelerometer; autoplay; clipboard-write; encrypted-media; gyroscope; picture-in-picture\" allowfullscreen></iframe>\n"
      ],
      "text/plain": [
       "<IPython.core.display.HTML object>"
      ]
     },
     "metadata": {},
     "output_type": "display_data"
    }
   ],
   "source": [
    "%%html\n",
    "<iframe width=\"560\" height=\"315\" src=\"https://www.youtube.com/embed/N0TkJ2KITK0\" title=\"YouTube video player\" frameborder=\"0\" allow=\"accelerometer; autoplay; clipboard-write; encrypted-media; gyroscope; picture-in-picture\" allowfullscreen></iframe>"
   ]
  },
  {
   "cell_type": "markdown",
   "metadata": {},
   "source": [
    "### Français"
   ]
  },
  {
   "cell_type": "code",
   "execution_count": 1,
   "metadata": {
    "tags": [
     "remove-input"
    ]
   },
   "outputs": [
    {
     "data": {
      "text/html": [
       "<iframe width=\"560\" height=\"315\" src=\"https://www.youtube.com/embed/1IaraoWkySA\" title=\"YouTube video player\" frameborder=\"0\" allow=\"accelerometer; autoplay; clipboard-write; encrypted-media; gyroscope; picture-in-picture\" allowfullscreen></iframe>\n"
      ],
      "text/plain": [
       "<IPython.core.display.HTML object>"
      ]
     },
     "metadata": {},
     "output_type": "display_data"
    }
   ],
   "source": [
    "%%html\n",
    "<iframe width=\"560\" height=\"315\" src=\"https://www.youtube.com/embed/1IaraoWkySA\" title=\"YouTube video player\" frameborder=\"0\" allow=\"accelerometer; autoplay; clipboard-write; encrypted-media; gyroscope; picture-in-picture\" allowfullscreen></iframe>"
   ]
  },
  {
   "cell_type": "markdown",
   "metadata": {
    "id": "O4aWuag_LWgf"
   },
   "source": [
    "## Why use NumPy?\n",
    "\n",
    "In this course we want to perform analyses with large datasets using cloud computing services. Because the datasets are large, we need to be careful about how we use memory (RAM).\n",
    "\n",
    "We also want to perform those analyses interactively. \n",
    "\n",
    "Interactivity means computations need to run quickly, so we don't have to wait and can continue straight on with the next step in our exploration of the data.\n",
    "\n",
    "Interactivity also means we don't want to spend hours writing complicated code for each step in the analysis. We want simple code that can be written quickly and adapted as needed.\n",
    "\n",
    "In summary, we want to store numerical data so that:\n",
    "\n",
    "* **Memory is used efficiently**\n",
    "* **Computations are fast**\n",
    "* **Code is simple and concise**"
   ]
  },
  {
   "cell_type": "markdown",
   "metadata": {
    "id": "CJGGNBmGSVV6"
   },
   "source": [
    "## What is a NumPy array?\n",
    "\n",
    "A NumPy array is a data structure where the data values are arranged in an N-dimensional grid. Let's look at some examples of data that can be stored using NumPy arrays.\n",
    "\n"
   ]
  },
  {
   "cell_type": "markdown",
   "metadata": {
    "id": "6Wz4l0IsVaU9"
   },
   "source": [
    "### 1-D array (vector)\n",
    "\n",
    "An audio recording is an example of data that can be represented as a 1-dimensional (1-D) array. A 1-D array is also sometimes called a \"vector\".\n",
    "\n",
    "Here the data values in the array are the amplitude values sampled at regular time intervals, and the first (and only) dimension of the array corresponds to the time at which each audio sample should be played."
   ]
  },
  {
   "cell_type": "markdown",
   "metadata": {
    "id": "Ls8fJ7jkVArK"
   },
   "source": [
    "<img src=\"https://jalammar.github.io/images/numpy/numpy-audio.png\"/>"
   ]
  },
  {
   "cell_type": "markdown",
   "metadata": {
    "id": "rghiwjY2VeCm"
   },
   "source": [
    "### 2-D array (matrix)\n",
    "\n",
    "A black-and-white image is an example of data that can be represented as a 2-dimensional (2-D) array. A 2-D array is also sometimes called a \"matrix\".\n",
    "\n",
    "Here the data values in the array correspond to the colour of a pixel, where 0 represents black, 255 represents white, and numbers in between correspond to shades of grey.\n",
    "\n",
    "The first dimension of the array corresponds to the vertical position of pixels within the image, and the second dimension corresponds to the horizontal position of the pixels."
   ]
  },
  {
   "cell_type": "markdown",
   "metadata": {
    "id": "LHh4zzGSVFG3"
   },
   "source": [
    "<img src=\"https://jalammar.github.io/images/numpy/numpy-grayscale-image.png\"/>"
   ]
  },
  {
   "cell_type": "markdown",
   "metadata": {
    "id": "DA3P34b1Vg3y"
   },
   "source": [
    "### 3-D array (tensor)\n",
    "\n",
    "A colour image is an example of data that can be represented as a 3-dimensional (3-D) array. A 3-D array is sometimes also called a \"tensor\".\n",
    "\n",
    "Here the data values represent the intensity of each pixel in three separate colour channels - red, green and blue. \n",
    "\n",
    "As with the black-and-white image, the first dimension of the array corresponds to the vertical position of pixels within the image, and the second dimension corresponds to the horizontal position of the pixels. Here now there is also a third dimension of length three, which represents the three colour channels."
   ]
  },
  {
   "cell_type": "markdown",
   "metadata": {
    "id": "rqNkYBW8VIpF"
   },
   "source": [
    "<img src=\"https://jalammar.github.io/images/numpy/numpy-color-image.png\"/>"
   ]
  },
  {
   "cell_type": "markdown",
   "metadata": {
    "id": "wceY3NRtujba"
   },
   "source": [
    "Genotype calls are another example of data that can be stored as a 3-D array. \n",
    "\n",
    "Here each data value is an allele encoded numerically, where 0 encodes the reference allele, and higher values encode alternate alleles.\n",
    "\n",
    "The first dimension (rows) corresponds to the positions in the reference genome; the second dimension (columns) corresponds to the individual organisms that were sequenced; and the third dimension corresponds to the ploidy of the organisms (2 for animals such as humans or mosquitoes)."
   ]
  },
  {
   "cell_type": "markdown",
   "metadata": {
    "id": "EpJjT63TIg1Z"
   },
   "source": [
    "<img src=\"https://storage.googleapis.com/vo_agam_release/reference/training-images/workshop-4/mosquito-genotype-array.png\"/>"
   ]
  },
  {
   "cell_type": "markdown",
   "metadata": {
    "id": "p6y1HwLmLNxC"
   },
   "source": [
    "## Importing NumPy\n",
    "\n",
    "On colab, NumPy is already installed, so we can go ahead and import it."
   ]
  },
  {
   "cell_type": "code",
   "execution_count": 3,
   "metadata": {
    "id": "giiF2vNELRXr"
   },
   "outputs": [],
   "source": [
    "import numpy as np"
   ]
  },
  {
   "cell_type": "markdown",
   "metadata": {
    "id": "Am-Q3UnrLSZE"
   },
   "source": [
    "## Creating an array from existing data\n",
    "\n",
    "There are various ways to create a NumPy array. One way is to create an array from some existing data, via the [`np.array()`](https://numpy.org/doc/stable/reference/generated/numpy.array.html#numpy.array) function."
   ]
  },
  {
   "cell_type": "markdown",
   "metadata": {
    "id": "O_oGejY1m1Et"
   },
   "source": [
    "### Creating a 1-D array\n",
    "\n",
    "Let's create a 1-D array storing the data values `[1, 2, 3]`. We'll assign this array to a variable named `data`, but this variable could be named whatever you like."
   ]
  },
  {
   "cell_type": "code",
   "execution_count": 4,
   "metadata": {
    "colab": {
     "base_uri": "https://localhost:8080/"
    },
    "id": "2iLJDe5FMomJ",
    "outputId": "6d84e607-bb83-44bb-9d95-c1e2bb7c63f9"
   },
   "outputs": [
    {
     "data": {
      "text/plain": [
       "array([1, 2, 3])"
      ]
     },
     "execution_count": 4,
     "metadata": {},
     "output_type": "execute_result"
    }
   ],
   "source": [
    "data = np.array([1, 2, 3])\n",
    "data"
   ]
  },
  {
   "cell_type": "code",
   "execution_count": 5,
   "metadata": {
    "colab": {
     "base_uri": "https://localhost:8080/"
    },
    "id": "RFCnVWjy5J8i",
    "outputId": "e2aaf489-0e2f-4f48-fb79-ae032f906b7e"
   },
   "outputs": [
    {
     "data": {
      "text/plain": [
       "numpy.ndarray"
      ]
     },
     "execution_count": 5,
     "metadata": {},
     "output_type": "execute_result"
    }
   ],
   "source": [
    "type(data)"
   ]
  },
  {
   "cell_type": "markdown",
   "metadata": {
    "id": "-C7UncnVwQup"
   },
   "source": [
    "Here is a visual illustration of the array we just created."
   ]
  },
  {
   "cell_type": "markdown",
   "metadata": {
    "id": "hSWfU325Mqa-"
   },
   "source": [
    "<img src=\"https://numpy.org/doc/stable/_images/np_array.png\"></img>"
   ]
  },
  {
   "cell_type": "markdown",
   "metadata": {
    "id": "GD5mL0sYwXYe"
   },
   "source": [
    "Every NumPy array has some useful attributes which tell us something about the array.\n",
    "\n",
    "Here is the number of dimensions:"
   ]
  },
  {
   "cell_type": "code",
   "execution_count": 6,
   "metadata": {
    "colab": {
     "base_uri": "https://localhost:8080/"
    },
    "id": "8uxPzKJ0M7IW",
    "outputId": "bfd07425-9d6d-4db0-cbd4-d6476906f9f6"
   },
   "outputs": [
    {
     "data": {
      "text/plain": [
       "1"
      ]
     },
     "execution_count": 6,
     "metadata": {},
     "output_type": "execute_result"
    }
   ],
   "source": [
    "data.ndim"
   ]
  },
  {
   "cell_type": "markdown",
   "metadata": {
    "id": "ZRM0xvDhwgrb"
   },
   "source": [
    "Here is the total number of elements in the array:"
   ]
  },
  {
   "cell_type": "code",
   "execution_count": 7,
   "metadata": {
    "colab": {
     "base_uri": "https://localhost:8080/"
    },
    "id": "H4v8NS3DLW52",
    "outputId": "001901f9-8797-463d-f564-46cf35e383f0"
   },
   "outputs": [
    {
     "data": {
      "text/plain": [
       "3"
      ]
     },
     "execution_count": 7,
     "metadata": {},
     "output_type": "execute_result"
    }
   ],
   "source": [
    "data.size"
   ]
  },
  {
   "cell_type": "markdown",
   "metadata": {
    "id": "56Wj1peqwml-"
   },
   "source": [
    "Here is the shape of the array, which tells us the lengths of each of the dimensions. This returns a [tuple](https://docs.python.org/3/tutorial/datastructures.html#tuples-and-sequences) of numbers, one length for each dimension. Here there is only one dimension, so we get a tuple of length one."
   ]
  },
  {
   "cell_type": "code",
   "execution_count": 8,
   "metadata": {
    "colab": {
     "base_uri": "https://localhost:8080/"
    },
    "id": "r077TtRLNgz_",
    "outputId": "83ae27ab-4893-47af-f35f-f48ad294f2c9"
   },
   "outputs": [
    {
     "data": {
      "text/plain": [
       "(3,)"
      ]
     },
     "execution_count": 8,
     "metadata": {},
     "output_type": "execute_result"
    }
   ],
   "source": [
    "data.shape"
   ]
  },
  {
   "cell_type": "markdown",
   "metadata": {
    "id": "WCnvwe4Iw9oj"
   },
   "source": [
    "Every array also has a data type (dtype) which defines the type of all of the data values."
   ]
  },
  {
   "cell_type": "code",
   "execution_count": 9,
   "metadata": {
    "colab": {
     "base_uri": "https://localhost:8080/"
    },
    "id": "t30fImEINhgy",
    "outputId": "eea1b1f9-3ad4-490b-defa-d138777878fb"
   },
   "outputs": [
    {
     "data": {
      "text/plain": [
       "dtype('int64')"
      ]
     },
     "execution_count": 9,
     "metadata": {},
     "output_type": "execute_result"
    }
   ],
   "source": [
    "data.dtype"
   ]
  },
  {
   "cell_type": "markdown",
   "metadata": {
    "id": "TTSJaprLxD8s"
   },
   "source": [
    "Here \"int\" means [integer](https://en.wikipedia.org/wiki/Integer), i.e., data values in this array should be interpreted as whole numbers."
   ]
  },
  {
   "cell_type": "markdown",
   "metadata": {
    "id": "tDNogdx2Nim_"
   },
   "source": [
    "### Creating a 2-D array\n",
    "\n",
    "Let's create a 2-D array with three rows and two columns."
   ]
  },
  {
   "cell_type": "code",
   "execution_count": 10,
   "metadata": {
    "colab": {
     "base_uri": "https://localhost:8080/"
    },
    "id": "oDFUi_uxNpCI",
    "outputId": "2d28adba-8412-4cc7-c9e7-88f579ac4a09"
   },
   "outputs": [
    {
     "data": {
      "text/plain": [
       "array([[1, 2],\n",
       "       [3, 4],\n",
       "       [5, 6]])"
      ]
     },
     "execution_count": 10,
     "metadata": {},
     "output_type": "execute_result"
    }
   ],
   "source": [
    "data_2d = np.array([[1, 2], [3, 4], [5, 6]])\n",
    "data_2d"
   ]
  },
  {
   "cell_type": "markdown",
   "metadata": {
    "id": "CiHOWGL5xacL"
   },
   "source": [
    "Here is a visual illustration of this 2-D array."
   ]
  },
  {
   "cell_type": "markdown",
   "metadata": {
    "id": "XZmuxfdJNrh5"
   },
   "source": [
    "<img src=\"https://numpy.org/doc/stable/_images/np_create_matrix.png\"></img>"
   ]
  },
  {
   "cell_type": "markdown",
   "metadata": {
    "id": "S1IfdXFaxexw"
   },
   "source": [
    "Again, let's access the attributes of this array to find out more about it."
   ]
  },
  {
   "cell_type": "code",
   "execution_count": 11,
   "metadata": {
    "colab": {
     "base_uri": "https://localhost:8080/"
    },
    "id": "om9MGsz3NzSz",
    "outputId": "20da937a-904f-49de-cf59-40138cfa1384"
   },
   "outputs": [
    {
     "data": {
      "text/plain": [
       "2"
      ]
     },
     "execution_count": 11,
     "metadata": {},
     "output_type": "execute_result"
    }
   ],
   "source": [
    "data_2d.ndim"
   ]
  },
  {
   "cell_type": "code",
   "execution_count": 12,
   "metadata": {
    "colab": {
     "base_uri": "https://localhost:8080/"
    },
    "id": "-xdfDO_qL3ao",
    "outputId": "f22fffff-4ee8-48de-a193-02bfa26833d1"
   },
   "outputs": [
    {
     "data": {
      "text/plain": [
       "6"
      ]
     },
     "execution_count": 12,
     "metadata": {},
     "output_type": "execute_result"
    }
   ],
   "source": [
    "data_2d.size"
   ]
  },
  {
   "cell_type": "code",
   "execution_count": 13,
   "metadata": {
    "colab": {
     "base_uri": "https://localhost:8080/"
    },
    "id": "UNEaU457N0ap",
    "outputId": "de893ad2-0c74-482d-e381-6358a77471aa"
   },
   "outputs": [
    {
     "data": {
      "text/plain": [
       "(3, 2)"
      ]
     },
     "execution_count": 13,
     "metadata": {},
     "output_type": "execute_result"
    }
   ],
   "source": [
    "data_2d.shape"
   ]
  },
  {
   "cell_type": "code",
   "execution_count": 14,
   "metadata": {
    "colab": {
     "base_uri": "https://localhost:8080/"
    },
    "id": "ZM9MQB7oN1Cn",
    "outputId": "fc3c3924-4beb-4845-f156-d3e9d2bbd802"
   },
   "outputs": [
    {
     "data": {
      "text/plain": [
       "dtype('int64')"
      ]
     },
     "execution_count": 14,
     "metadata": {},
     "output_type": "execute_result"
    }
   ],
   "source": [
    "data_2d.dtype"
   ]
  },
  {
   "cell_type": "markdown",
   "metadata": {
    "id": "rcEMdbGRXL5y"
   },
   "source": [
    "### Creating a 3-D array\n",
    "\n",
    "Let's now create a 3-D array, with shape (2, 2, 2) - i.e., all dimensions are length 2."
   ]
  },
  {
   "cell_type": "code",
   "execution_count": 15,
   "metadata": {
    "colab": {
     "base_uri": "https://localhost:8080/"
    },
    "id": "D9cA3D4uXOsY",
    "outputId": "f3e8d856-34ec-4c2d-fb13-36f05bb4ef21"
   },
   "outputs": [
    {
     "data": {
      "text/plain": [
       "array([[[1, 2],\n",
       "        [3, 4]],\n",
       "\n",
       "       [[5, 6],\n",
       "        [7, 8]]])"
      ]
     },
     "execution_count": 15,
     "metadata": {},
     "output_type": "execute_result"
    }
   ],
   "source": [
    "data_3d = np.array([[[1, 2], [3, 4]], \n",
    "                    [[5, 6], [7, 8]]])\n",
    "data_3d"
   ]
  },
  {
   "cell_type": "markdown",
   "metadata": {
    "id": "XVF_1StCXUkH"
   },
   "source": [
    "<img src=\"https://jalammar.github.io/images/numpy/numpy-3d-array.png\"/>"
   ]
  },
  {
   "cell_type": "markdown",
   "metadata": {
    "id": "2du6NmyAOSzy"
   },
   "source": [
    "## Some other array creation functions\n",
    "\n",
    "Often it is useful to create an array and initialise it such that all data values are set for us by NumPy. There are several functions for doing this, including [`np.ones()`](https://numpy.org/doc/stable/reference/generated/numpy.ones.html), [`np.zeros()`](https://numpy.org/doc/stable/reference/generated/numpy.zeros.html) and [`np.random.random()`](https://numpy.org/doc/stable/reference/random/generated/numpy.random.Generator.random.html#numpy.random.Generator.random)."
   ]
  },
  {
   "cell_type": "markdown",
   "metadata": {
    "id": "rwVA7htlmYDu"
   },
   "source": [
    "### 1-D arrays"
   ]
  },
  {
   "cell_type": "markdown",
   "metadata": {
    "id": "Wgg7ezLzy35e"
   },
   "source": [
    "Create an array with all data values initialised to one."
   ]
  },
  {
   "cell_type": "code",
   "execution_count": 16,
   "metadata": {
    "colab": {
     "base_uri": "https://localhost:8080/"
    },
    "id": "AFK46CLHOAKa",
    "outputId": "c6c44df2-8f52-43f7-dbdd-1fea8e8299ce"
   },
   "outputs": [
    {
     "data": {
      "text/plain": [
       "array([1., 1., 1.])"
      ]
     },
     "execution_count": 16,
     "metadata": {},
     "output_type": "execute_result"
    }
   ],
   "source": [
    "ones = np.ones(3)\n",
    "ones"
   ]
  },
  {
   "cell_type": "code",
   "execution_count": 17,
   "metadata": {
    "colab": {
     "base_uri": "https://localhost:8080/"
    },
    "id": "X4M-jpjcQS7n",
    "outputId": "2edefd51-414b-4693-8242-619437377e15"
   },
   "outputs": [
    {
     "data": {
      "text/plain": [
       "1"
      ]
     },
     "execution_count": 17,
     "metadata": {},
     "output_type": "execute_result"
    }
   ],
   "source": [
    "ones.ndim"
   ]
  },
  {
   "cell_type": "code",
   "execution_count": 18,
   "metadata": {
    "colab": {
     "base_uri": "https://localhost:8080/"
    },
    "id": "tXWlnFydMUVs",
    "outputId": "a31960e4-4c16-4277-ea6b-c1190a9119d9"
   },
   "outputs": [
    {
     "data": {
      "text/plain": [
       "3"
      ]
     },
     "execution_count": 18,
     "metadata": {},
     "output_type": "execute_result"
    }
   ],
   "source": [
    "ones.size"
   ]
  },
  {
   "cell_type": "code",
   "execution_count": 19,
   "metadata": {
    "colab": {
     "base_uri": "https://localhost:8080/"
    },
    "id": "qf3yC0_WQRGJ",
    "outputId": "47f68d3c-9b8e-4321-f649-a3ab370bb6f8"
   },
   "outputs": [
    {
     "data": {
      "text/plain": [
       "(3,)"
      ]
     },
     "execution_count": 19,
     "metadata": {},
     "output_type": "execute_result"
    }
   ],
   "source": [
    "ones.shape"
   ]
  },
  {
   "cell_type": "code",
   "execution_count": 20,
   "metadata": {
    "colab": {
     "base_uri": "https://localhost:8080/"
    },
    "id": "evZhzKcTQRtK",
    "outputId": "11362f3e-a9e7-4b70-9686-63efd8238b60"
   },
   "outputs": [
    {
     "data": {
      "text/plain": [
       "dtype('float64')"
      ]
     },
     "execution_count": 20,
     "metadata": {},
     "output_type": "execute_result"
    }
   ],
   "source": [
    "ones.dtype"
   ]
  },
  {
   "cell_type": "markdown",
   "metadata": {
    "id": "981gyIwKy8QO"
   },
   "source": [
    "Note here the dtype is \"float64\". Here \"float\" means [floating-point number](https://en.wikipedia.org/wiki/Floating-point_arithmetic#Floating-point_numbers), i.e., the data values should be interpreted as real numbers (i.e., continuous quantities) with some degree of precision."
   ]
  },
  {
   "cell_type": "markdown",
   "metadata": {
    "id": "YnHgMcOBzl_z"
   },
   "source": [
    "Similarly, create an array with all data values initialised to zero."
   ]
  },
  {
   "cell_type": "code",
   "execution_count": 21,
   "metadata": {
    "colab": {
     "base_uri": "https://localhost:8080/"
    },
    "id": "xIVtPVk9OEO8",
    "outputId": "70996991-802a-4517-c39e-84464acf3aec"
   },
   "outputs": [
    {
     "data": {
      "text/plain": [
       "array([0., 0., 0.])"
      ]
     },
     "execution_count": 21,
     "metadata": {},
     "output_type": "execute_result"
    }
   ],
   "source": [
    "zeros = np.zeros(3)\n",
    "zeros"
   ]
  },
  {
   "cell_type": "markdown",
   "metadata": {
    "id": "vaPcZy1Azqxb"
   },
   "source": [
    "Create an array with data values initialised using a random number generator."
   ]
  },
  {
   "cell_type": "code",
   "execution_count": 22,
   "metadata": {
    "colab": {
     "base_uri": "https://localhost:8080/"
    },
    "id": "XFJxImHaOIXP",
    "outputId": "a51e017d-c89b-4239-ad7d-2eaa37d64e4c"
   },
   "outputs": [
    {
     "data": {
      "text/plain": [
       "array([0.47496624, 0.0843243 , 0.87849017])"
      ]
     },
     "execution_count": 22,
     "metadata": {},
     "output_type": "execute_result"
    }
   ],
   "source": [
    "foo = np.random.random(3)\n",
    "foo"
   ]
  },
  {
   "cell_type": "markdown",
   "metadata": {
    "id": "mgfPoHDkzxQD"
   },
   "source": [
    "Here are visual illustrations of the three arrays we just created."
   ]
  },
  {
   "cell_type": "markdown",
   "metadata": {
    "id": "_6vhDMWtOKvQ"
   },
   "source": [
    "<img src=\"https://numpy.org/doc/stable/_images/np_ones_zeros_random.png\"></img>"
   ]
  },
  {
   "cell_type": "markdown",
   "metadata": {},
   "source": [
    "**Exercise 1 (English)**\n",
    "\n",
    "Uncomment and run the code cells below to answer the following questions.\n",
    "\n",
    "What is the number of dimensions of the `foo` array we created above?\n",
    "\n",
    "What is the number of items (size) of the `foo` array?\n",
    "\n",
    "What is the shape of the `foo` array?\n",
    "\n",
    "What is the data type of the `foo` array?\n",
    "\n",
    "Create an array of ten zeros.\n",
    "\n",
    "Create an array of one million random numbers.\n",
    "\n",
    "**Exercice 1 (Français)**\n",
    "\n",
    "Décommenter et exécuter les cellules de code ci-dessous pour répondre aux questions suivantes.\n",
    "\n",
    "Combien de dimensions a l'array `foo` que nous avons créé plus haut?\n",
    "\n",
    "Combien d'objets (taille) l'array `foo` contient-il?\n",
    "\n",
    "Quel est le type des données de l'array `foo`?\n",
    "\n",
    "Créer un array contenant dix zéros.\n",
    "\n",
    "Créer un array contenant un million de nombres aléatoires."
   ]
  },
  {
   "cell_type": "code",
   "execution_count": 23,
   "metadata": {},
   "outputs": [],
   "source": [
    "# foo.ndim"
   ]
  },
  {
   "cell_type": "code",
   "execution_count": 24,
   "metadata": {},
   "outputs": [],
   "source": [
    "# foo.size"
   ]
  },
  {
   "cell_type": "code",
   "execution_count": 25,
   "metadata": {},
   "outputs": [],
   "source": [
    "# foo.shape"
   ]
  },
  {
   "cell_type": "code",
   "execution_count": 26,
   "metadata": {},
   "outputs": [],
   "source": [
    "# foo.dtype"
   ]
  },
  {
   "cell_type": "code",
   "execution_count": 27,
   "metadata": {},
   "outputs": [],
   "source": [
    "# bar = np.zeros(10)\n",
    "# bar"
   ]
  },
  {
   "cell_type": "code",
   "execution_count": 28,
   "metadata": {},
   "outputs": [],
   "source": [
    "# baz = np.random.random(1_000_000)\n",
    "# baz"
   ]
  },
  {
   "cell_type": "markdown",
   "metadata": {
    "id": "awfb2jYTmd5V"
   },
   "source": [
    "### 2-D arrays\n",
    "\n",
    "We can also created 2-D arrays via the same functions, by passing the shape of the desired array as the first parameter.\n",
    "\n",
    "E.g., create an array with three rows and two columns with all data values initialised to one."
   ]
  },
  {
   "cell_type": "code",
   "execution_count": 29,
   "metadata": {
    "colab": {
     "base_uri": "https://localhost:8080/"
    },
    "id": "QmhSadw9N1u7",
    "outputId": "312f9bbf-6799-4d80-8eff-30697dffc557"
   },
   "outputs": [
    {
     "data": {
      "text/plain": [
       "array([[1., 1.],\n",
       "       [1., 1.],\n",
       "       [1., 1.]])"
      ]
     },
     "execution_count": 29,
     "metadata": {},
     "output_type": "execute_result"
    }
   ],
   "source": [
    "ones_2d = np.ones((3, 2))\n",
    "ones_2d"
   ]
  },
  {
   "cell_type": "markdown",
   "metadata": {
    "id": "xUu50zbc0ibk"
   },
   "source": [
    "E.g., create an array with three rows and two columns with all data values initialised to zero."
   ]
  },
  {
   "cell_type": "code",
   "execution_count": 30,
   "metadata": {
    "colab": {
     "base_uri": "https://localhost:8080/"
    },
    "id": "3B3PdaCnPv9l",
    "outputId": "46ddb691-237c-407c-9cfc-9e5b52da1385"
   },
   "outputs": [
    {
     "data": {
      "text/plain": [
       "array([[0., 0.],\n",
       "       [0., 0.],\n",
       "       [0., 0.]])"
      ]
     },
     "execution_count": 30,
     "metadata": {},
     "output_type": "execute_result"
    }
   ],
   "source": [
    "zeros_2d = np.zeros((3, 2))\n",
    "zeros_2d"
   ]
  },
  {
   "cell_type": "markdown",
   "metadata": {
    "id": "sx6bUSr70sWr"
   },
   "source": [
    "E.g., create an array with three rows and two columns, initialised with random numbers."
   ]
  },
  {
   "cell_type": "code",
   "execution_count": 31,
   "metadata": {
    "colab": {
     "base_uri": "https://localhost:8080/"
    },
    "id": "7pMr6IOKPzMv",
    "outputId": "c92733d6-284f-48b0-ae3e-b5f825569861"
   },
   "outputs": [
    {
     "data": {
      "text/plain": [
       "array([[0.37998668, 0.78589495],\n",
       "       [0.66937203, 0.83885881],\n",
       "       [0.67516526, 0.3452637 ]])"
      ]
     },
     "execution_count": 31,
     "metadata": {},
     "output_type": "execute_result"
    }
   ],
   "source": [
    "bar = np.random.random((3, 2))\n",
    "bar"
   ]
  },
  {
   "cell_type": "markdown",
   "metadata": {
    "id": "JJU4psxV0xbe"
   },
   "source": [
    "Here's an illustration of the 2-D arrays we created."
   ]
  },
  {
   "cell_type": "markdown",
   "metadata": {
    "id": "OVDysxxqP2cO"
   },
   "source": [
    "<img src=\"https://numpy.org/doc/stable/_images/np_ones_zeros_matrix.png\"/>"
   ]
  },
  {
   "cell_type": "markdown",
   "metadata": {},
   "source": [
    "**Exercise 2 (English)**\n",
    "\n",
    "Create a 2-D array of random numbers with 1,000 rows and 500 columns. Check the values of the `ndim`, `size`, `shape` and `dtype` attributes.\n",
    "\n",
    "**Exercice 2 (Français)**\n",
    "\n",
    "Créer un array de dimension 2 contenant 1000 lignes et 500 colonnes de nombres aléatoires. Vérifier les valeurs des attributs `ndim`, `size`, `shape` et `dtype`."
   ]
  },
  {
   "cell_type": "markdown",
   "metadata": {
    "id": "Go95PYOeQCSW"
   },
   "source": [
    "## Accessing elements of an array (indexing and slicing)\n",
    "\n",
    "The data values of an array can be accessed by using the square bracket notation. Remember that indices start from zero in Python."
   ]
  },
  {
   "cell_type": "markdown",
   "metadata": {
    "id": "Y2aB3O7HZI3T"
   },
   "source": [
    "### 1-D arrays"
   ]
  },
  {
   "cell_type": "code",
   "execution_count": 32,
   "metadata": {
    "colab": {
     "base_uri": "https://localhost:8080/"
    },
    "id": "nriRtxTEOBt9",
    "outputId": "156081c1-36d8-49e6-a7f8-b4d3d57396f2"
   },
   "outputs": [
    {
     "data": {
      "text/plain": [
       "array([1, 2, 3])"
      ]
     },
     "execution_count": 32,
     "metadata": {},
     "output_type": "execute_result"
    }
   ],
   "source": [
    "data = np.array([1, 2, 3])\n",
    "data"
   ]
  },
  {
   "cell_type": "markdown",
   "metadata": {
    "id": "rkTa4PhwYFbG"
   },
   "source": [
    "<img src=\"https://numpy.org/doc/stable/_images/np_array.png\"></img>"
   ]
  },
  {
   "cell_type": "markdown",
   "metadata": {
    "id": "T7YG72B81HKV"
   },
   "source": [
    "For 1-D arrays, we write a single index in the square brackets.\n",
    "\n",
    "E.g., access the data value in the first element of the array:"
   ]
  },
  {
   "cell_type": "code",
   "execution_count": 33,
   "metadata": {
    "colab": {
     "base_uri": "https://localhost:8080/"
    },
    "id": "6GvCF-sxOG6Q",
    "outputId": "14736cdc-96f7-43b4-df13-267b02c40106"
   },
   "outputs": [
    {
     "data": {
      "text/plain": [
       "1"
      ]
     },
     "execution_count": 33,
     "metadata": {},
     "output_type": "execute_result"
    }
   ],
   "source": [
    "data[0]"
   ]
  },
  {
   "cell_type": "markdown",
   "metadata": {
    "id": "c0PHm6R41SUS"
   },
   "source": [
    "Access the second element:"
   ]
  },
  {
   "cell_type": "code",
   "execution_count": 34,
   "metadata": {
    "colab": {
     "base_uri": "https://localhost:8080/"
    },
    "id": "lZqN1WhqOH6N",
    "outputId": "e43957e5-384a-450b-89d5-6c3de7e476b5"
   },
   "outputs": [
    {
     "data": {
      "text/plain": [
       "2"
      ]
     },
     "execution_count": 34,
     "metadata": {},
     "output_type": "execute_result"
    }
   ],
   "source": [
    "data[1]"
   ]
  },
  {
   "cell_type": "markdown",
   "metadata": {
    "id": "LEPLH8TZ1Ujh"
   },
   "source": [
    "We can also access a contiguous region of an array using the slicing notation, by writing the start and stop indices separated by a colon. Note that this will return a new array. Remember that the start index is included, but the stop index is not.\n",
    "\n",
    "E.g., access the first two elements:"
   ]
  },
  {
   "cell_type": "code",
   "execution_count": 35,
   "metadata": {
    "colab": {
     "base_uri": "https://localhost:8080/"
    },
    "id": "ZEnRpHHlOIc5",
    "outputId": "e10515f1-8549-4985-c2b7-c09343694423"
   },
   "outputs": [
    {
     "data": {
      "text/plain": [
       "array([1, 2])"
      ]
     },
     "execution_count": 35,
     "metadata": {},
     "output_type": "execute_result"
    }
   ],
   "source": [
    "data[0:2]"
   ]
  },
  {
   "cell_type": "markdown",
   "metadata": {
    "id": "CDcEcJfh1g07"
   },
   "source": [
    "Access the second and all subsequent elements:"
   ]
  },
  {
   "cell_type": "code",
   "execution_count": 36,
   "metadata": {
    "colab": {
     "base_uri": "https://localhost:8080/"
    },
    "id": "2iB353RbOJZm",
    "outputId": "f98ae4eb-f808-419c-8369-4af08cad7874"
   },
   "outputs": [
    {
     "data": {
      "text/plain": [
       "array([2, 3])"
      ]
     },
     "execution_count": 36,
     "metadata": {},
     "output_type": "execute_result"
    }
   ],
   "source": [
    "data[1:]"
   ]
  },
  {
   "cell_type": "markdown",
   "metadata": {
    "id": "Z34qHq7r1mff"
   },
   "source": [
    "Negative indices can also be used, and count backwards from the end of an array.\n",
    "\n",
    "E.g., access the second from last and all subsequent elements:"
   ]
  },
  {
   "cell_type": "code",
   "execution_count": 37,
   "metadata": {
    "colab": {
     "base_uri": "https://localhost:8080/"
    },
    "id": "BwCImQn1OKNl",
    "outputId": "9ce0450f-c502-48c5-8ef4-df6e63cf68b7"
   },
   "outputs": [
    {
     "data": {
      "text/plain": [
       "array([2, 3])"
      ]
     },
     "execution_count": 37,
     "metadata": {},
     "output_type": "execute_result"
    }
   ],
   "source": [
    "data[-2:]"
   ]
  },
  {
   "cell_type": "markdown",
   "metadata": {
    "id": "qrvToOJ51ulq"
   },
   "source": [
    "Here is an illustration of the array we created, and the results of indexing the array in different ways."
   ]
  },
  {
   "cell_type": "markdown",
   "metadata": {
    "id": "m2xIVfODONop"
   },
   "source": [
    "<img src=\"https://numpy.org/doc/stable/_images/np_indexing.png\"/>"
   ]
  },
  {
   "cell_type": "markdown",
   "metadata": {},
   "source": [
    "**Exercise 3 (English)**\n",
    "\n",
    "Create a new 1-D array initialised with the data values `[0, 5, 23, 37, 42, 54, 61, 79, 88, 90]`.\n",
    "\n",
    "Using indexing to access the data value in the fifth element of the array.\n",
    "\n",
    "Access the final element of the array.\n",
    "\n",
    "Using slicing to access the third, fourth and fifth elements of the array.\n",
    "\n",
    "**Exercice 3 (Français)**\n",
    "\n",
    "Créer un array de dimension 1 contenant les valeurs `[0, 5, 23, 37, 42, 54, 61, 79, 88, 90]`.\n",
    "\n",
    "Utiliser un index pour accéder à la valeur du cinquième élément de cet array.\n",
    "\n",
    "Accéder au dernier élément de cet array.\n",
    "\n",
    "Utiliser une tranche pour accéder au troisième, quatrième et cinquième éléments de cet array."
   ]
  },
  {
   "cell_type": "markdown",
   "metadata": {
    "id": "ZBQq3WjMZK3p"
   },
   "source": [
    "### 2-D arrays\n",
    "\n",
    "2-D arrays can also be indexed using the square bracket notation. Here, because there are two dimensions, we need to provide two indices, one for each dimension."
   ]
  },
  {
   "cell_type": "code",
   "execution_count": 38,
   "metadata": {
    "colab": {
     "base_uri": "https://localhost:8080/"
    },
    "id": "PeIvS7SKOT_O",
    "outputId": "ba6d24f5-4ea6-4276-a6ea-d42283bf12be"
   },
   "outputs": [
    {
     "data": {
      "text/plain": [
       "array([[1, 2],\n",
       "       [3, 4],\n",
       "       [5, 6]])"
      ]
     },
     "execution_count": 38,
     "metadata": {},
     "output_type": "execute_result"
    }
   ],
   "source": [
    "data = np.array([[1, 2], [3, 4], [5, 6]])\n",
    "data"
   ]
  },
  {
   "cell_type": "markdown",
   "metadata": {
    "id": "R_LNPHQLX4r3"
   },
   "source": [
    "<img src=\"https://numpy.org/doc/stable/_images/np_create_matrix.png\"/>"
   ]
  },
  {
   "cell_type": "markdown",
   "metadata": {
    "id": "WfLnpg4V2DWw"
   },
   "source": [
    "E.g., access the data value in the first row, second column:"
   ]
  },
  {
   "cell_type": "code",
   "execution_count": 39,
   "metadata": {
    "colab": {
     "base_uri": "https://localhost:8080/"
    },
    "id": "joJpQNFtYRTb",
    "outputId": "bb56a259-e7ee-4d8d-cec8-9c77e1e42232"
   },
   "outputs": [
    {
     "data": {
      "text/plain": [
       "2"
      ]
     },
     "execution_count": 39,
     "metadata": {},
     "output_type": "execute_result"
    }
   ],
   "source": [
    "data[0, 1]"
   ]
  },
  {
   "cell_type": "markdown",
   "metadata": {
    "id": "Pd6X8ikq2HFr"
   },
   "source": [
    "We can also slice 2-D arrays.\n",
    "\n",
    "E.g., access the second and all subsequent rows, and all columns:"
   ]
  },
  {
   "cell_type": "code",
   "execution_count": 40,
   "metadata": {
    "colab": {
     "base_uri": "https://localhost:8080/"
    },
    "id": "qVfIg6PBYTM8",
    "outputId": "1cc3fb4c-bd67-4f2f-b6a8-f231b69766c7"
   },
   "outputs": [
    {
     "data": {
      "text/plain": [
       "array([[3, 4],\n",
       "       [5, 6]])"
      ]
     },
     "execution_count": 40,
     "metadata": {},
     "output_type": "execute_result"
    }
   ],
   "source": [
    "data[1:3]"
   ]
  },
  {
   "cell_type": "markdown",
   "metadata": {
    "id": "7Oq9LT09Tdhi"
   },
   "source": [
    "To be more explicit, we could also provide the slice we require along the second dimension, i.e., all columns:"
   ]
  },
  {
   "cell_type": "code",
   "execution_count": 41,
   "metadata": {
    "colab": {
     "base_uri": "https://localhost:8080/"
    },
    "id": "aPiaCS6Q9606",
    "outputId": "92f45da7-ca93-4c42-a0ab-cbd052e9f5fa"
   },
   "outputs": [
    {
     "data": {
      "text/plain": [
       "array([[3, 4],\n",
       "       [5, 6]])"
      ]
     },
     "execution_count": 41,
     "metadata": {},
     "output_type": "execute_result"
    }
   ],
   "source": [
    "data[1:3, :]"
   ]
  },
  {
   "cell_type": "markdown",
   "metadata": {
    "id": "BV1vcgd92LKq"
   },
   "source": [
    "Access the first two rows, first column:"
   ]
  },
  {
   "cell_type": "code",
   "execution_count": 42,
   "metadata": {
    "colab": {
     "base_uri": "https://localhost:8080/"
    },
    "id": "8Kn_nAu_YUtQ",
    "outputId": "e7593c64-c939-4774-86a8-d6c73578e22e"
   },
   "outputs": [
    {
     "data": {
      "text/plain": [
       "array([1, 3])"
      ]
     },
     "execution_count": 42,
     "metadata": {},
     "output_type": "execute_result"
    }
   ],
   "source": [
    "data[0:2, 0]"
   ]
  },
  {
   "cell_type": "markdown",
   "metadata": {
    "id": "St_bXl4x2OrJ"
   },
   "source": [
    "Here's an illustration of these indexing operations on a 2-D array:"
   ]
  },
  {
   "cell_type": "markdown",
   "metadata": {
    "id": "7yv5k32hYXhJ"
   },
   "source": [
    "<img src=\"https://numpy.org/doc/stable/_images/np_matrix_indexing.png\"/>"
   ]
  },
  {
   "cell_type": "markdown",
   "metadata": {},
   "source": [
    "**Exercise 4 (English)**\n",
    "\n",
    "Create a new 2-D array initialised with the data values `[[0, 5, 23], [37, 42, 54], [61, 79, 88]]`.\n",
    "\n",
    "Use indexing to access the data value in second row, third column of the array.\n",
    "\n",
    "Use slicing to access the first and second rows of the array.\n",
    "\n",
    "Access the last two values in the second column of the array.\n",
    "\n",
    "**Exercice 4 (Français)**\n",
    "\n",
    "Créer un nouvel array de dimension 2 contenant les valeurs `[[0, 5, 23], [37, 42, 54], [61, 79, 88]]`.\n",
    "\n",
    "Utiliser les indexes pour accéder à la valeur se trouvant à la deuxième ligne, troisième colonne de cet array.\n",
    "\n",
    "Utiliser une tranche pour accéder à la première et à la seconde ligne de cet array.\n",
    "\n",
    "Accéder aux deux dernières valeurs de la seconde colonne de cet array."
   ]
  },
  {
   "cell_type": "markdown",
   "metadata": {
    "id": "gmUr7sRlYbT3"
   },
   "source": [
    "## Basic mathematical operations with arrays\n",
    "\n",
    "One of the most powerful features of NumPy arrays is that you can use them to perform mathematical operations. In particular, you can apply mathematical operations between entire arrays, without having to write any `for` loops. Let's see this in action."
   ]
  },
  {
   "cell_type": "markdown",
   "metadata": {
    "id": "wbn0J1GjbLCc"
   },
   "source": [
    "### 1-D arrays\n",
    "\n",
    "To demonstrate, let's create two arrays."
   ]
  },
  {
   "cell_type": "code",
   "execution_count": 43,
   "metadata": {
    "id": "lhlgJLq3ZaGh"
   },
   "outputs": [],
   "source": [
    "data = np.array([1, 2])\n",
    "ones = np.ones(2)"
   ]
  },
  {
   "cell_type": "markdown",
   "metadata": {
    "id": "-biCC58QZdcs"
   },
   "source": [
    "<img src=\"https://numpy.org/doc/stable/_images/np_array_dataones.png\"/>"
   ]
  },
  {
   "cell_type": "markdown",
   "metadata": {
    "id": "Mo_ZDoXS8xSP"
   },
   "source": [
    "Now, add these two arrays together."
   ]
  },
  {
   "cell_type": "code",
   "execution_count": 44,
   "metadata": {
    "colab": {
     "base_uri": "https://localhost:8080/"
    },
    "id": "IZ2dmw-eZgU4",
    "outputId": "3e2d80ea-ec22-43cc-8b61-0661375b1d34"
   },
   "outputs": [
    {
     "data": {
      "text/plain": [
       "array([2., 3.])"
      ]
     },
     "execution_count": 44,
     "metadata": {},
     "output_type": "execute_result"
    }
   ],
   "source": [
    "result = data + ones\n",
    "result"
   ]
  },
  {
   "cell_type": "markdown",
   "metadata": {
    "id": "bOKOuaVm83G_"
   },
   "source": [
    "Each element of the `data` array has been added to each element of the `ones` array, to create a new array that we've assigned to the variable named `result`. This is an example of an elementwise computation that NumPy performs for us.\n",
    "\n",
    "Here's an illustration of this computation:"
   ]
  },
  {
   "cell_type": "markdown",
   "metadata": {
    "id": "R4ODsQr7Zir_"
   },
   "source": [
    "<img src=\"https://numpy.org/doc/stable/_images/np_data_plus_ones.png\"/>"
   ]
  },
  {
   "cell_type": "markdown",
   "metadata": {
    "id": "QjVtOgDC9U3Q"
   },
   "source": [
    "Similarly, we can subtract, multiply and divide arrays."
   ]
  },
  {
   "cell_type": "code",
   "execution_count": 45,
   "metadata": {
    "colab": {
     "base_uri": "https://localhost:8080/"
    },
    "id": "JjRK8TeBZn08",
    "outputId": "9851d0f4-3991-4952-ffff-0c5e02119453"
   },
   "outputs": [
    {
     "data": {
      "text/plain": [
       "array([0., 1.])"
      ]
     },
     "execution_count": 45,
     "metadata": {},
     "output_type": "execute_result"
    }
   ],
   "source": [
    "data - ones"
   ]
  },
  {
   "cell_type": "code",
   "execution_count": 46,
   "metadata": {
    "colab": {
     "base_uri": "https://localhost:8080/"
    },
    "id": "jLu-aB6cZuio",
    "outputId": "8ad1dcf6-25c2-4b0d-d45f-e15f1d3399f3"
   },
   "outputs": [
    {
     "data": {
      "text/plain": [
       "array([1, 4])"
      ]
     },
     "execution_count": 46,
     "metadata": {},
     "output_type": "execute_result"
    }
   ],
   "source": [
    "data * data"
   ]
  },
  {
   "cell_type": "code",
   "execution_count": 47,
   "metadata": {
    "colab": {
     "base_uri": "https://localhost:8080/"
    },
    "id": "n6ZmOISrZv-c",
    "outputId": "19d76da7-9fb5-48cd-f8c5-d9d253d71fd2"
   },
   "outputs": [
    {
     "data": {
      "text/plain": [
       "array([1., 1.])"
      ]
     },
     "execution_count": 47,
     "metadata": {},
     "output_type": "execute_result"
    }
   ],
   "source": [
    "data / data"
   ]
  },
  {
   "cell_type": "markdown",
   "metadata": {
    "id": "aO5NPxA7Zxo2"
   },
   "source": [
    "<img src=\"https://numpy.org/doc/stable/_images/np_sub_mult_divide.png\"/>"
   ]
  },
  {
   "cell_type": "markdown",
   "metadata": {
    "id": "lKiAkG2-9v3v"
   },
   "source": [
    "You can also perform arithmetic between arrays and a single number (also known as a scalar). E.g., multiply all values in the `data` array by the number 1.6:"
   ]
  },
  {
   "cell_type": "code",
   "execution_count": 48,
   "metadata": {
    "colab": {
     "base_uri": "https://localhost:8080/"
    },
    "id": "Ki_Zg2CLZ1EX",
    "outputId": "2c94e4f9-d70e-499c-9cd3-b14442d20187"
   },
   "outputs": [
    {
     "data": {
      "text/plain": [
       "array([1.6, 3.2])"
      ]
     },
     "execution_count": 48,
     "metadata": {},
     "output_type": "execute_result"
    }
   ],
   "source": [
    "data * 1.6"
   ]
  },
  {
   "cell_type": "markdown",
   "metadata": {
    "id": "BeUy9KmF95X5"
   },
   "source": [
    "Here, NumPy has guessed that we want to multiply each element of the `data` array. Do it has \"broadcast\" the scalar value 1.6 to an array of the same shape as `data`. This is an illustration of what happened:"
   ]
  },
  {
   "cell_type": "markdown",
   "metadata": {
    "id": "TtZp7WojaF-8"
   },
   "source": [
    "<img src=\"https://numpy.org/doc/stable/_images/np_multiply_broadcasting.png\"/>"
   ]
  },
  {
   "cell_type": "markdown",
   "metadata": {
    "id": "JA1av9fw-G5l"
   },
   "source": [
    "As well as arithmetic, you can also perform comparisons. E.g., compute all values in the `data` array that are greater than one:"
   ]
  },
  {
   "cell_type": "code",
   "execution_count": 49,
   "metadata": {
    "colab": {
     "base_uri": "https://localhost:8080/"
    },
    "id": "q3IgyT182fiM",
    "outputId": "b5a1bbb2-7b8a-4413-cd0c-7ae403d64d99"
   },
   "outputs": [
    {
     "data": {
      "text/plain": [
       "array([False,  True])"
      ]
     },
     "execution_count": 49,
     "metadata": {},
     "output_type": "execute_result"
    }
   ],
   "source": [
    "result = data > 1\n",
    "result"
   ]
  },
  {
   "cell_type": "markdown",
   "metadata": {
    "id": "DCF4xkYT-QX8"
   },
   "source": [
    "Note that the result is an array of Boolean values (either True or False)."
   ]
  },
  {
   "cell_type": "code",
   "execution_count": 50,
   "metadata": {
    "colab": {
     "base_uri": "https://localhost:8080/"
    },
    "id": "CQfvLWJA-V17",
    "outputId": "4dc764f7-6f06-4c75-86d4-7f9caafe0fff"
   },
   "outputs": [
    {
     "data": {
      "text/plain": [
       "dtype('bool')"
      ]
     },
     "execution_count": 50,
     "metadata": {},
     "output_type": "execute_result"
    }
   ],
   "source": [
    "result.dtype"
   ]
  },
  {
   "cell_type": "markdown",
   "metadata": {
    "id": "1aOUt2SDbNwl"
   },
   "source": [
    "### 2-D arrays\n",
    "\n",
    "All of the same mathematical operations can be performed with 2-D arrays as well.\n",
    "\n",
    "E.g., add two arrays:"
   ]
  },
  {
   "cell_type": "code",
   "execution_count": 51,
   "metadata": {
    "colab": {
     "base_uri": "https://localhost:8080/"
    },
    "id": "kJKqkzsWbOyS",
    "outputId": "79544f5a-0d97-40b0-8c5d-e9d51809cb80"
   },
   "outputs": [
    {
     "data": {
      "text/plain": [
       "array([[2., 3.],\n",
       "       [4., 5.]])"
      ]
     },
     "execution_count": 51,
     "metadata": {},
     "output_type": "execute_result"
    }
   ],
   "source": [
    "data = np.array([[1, 2], [3, 4]])\n",
    "ones = np.ones((2, 2))\n",
    "data + ones"
   ]
  },
  {
   "cell_type": "markdown",
   "metadata": {
    "id": "LqhiGJAubWMz"
   },
   "source": [
    "<img src=\"https://numpy.org/doc/stable/_images/np_matrix_arithmetic.png\"/>"
   ]
  },
  {
   "cell_type": "markdown",
   "metadata": {
    "id": "0SA3Biah-hym"
   },
   "source": [
    "E.g., multiply an  array by a scalar:"
   ]
  },
  {
   "cell_type": "code",
   "execution_count": 52,
   "metadata": {
    "colab": {
     "base_uri": "https://localhost:8080/"
    },
    "id": "6fcK_TZzbcvm",
    "outputId": "b579931d-ebd8-4bc8-c482-1f3b64dbcc98"
   },
   "outputs": [
    {
     "data": {
      "text/plain": [
       "array([[1.6, 3.2],\n",
       "       [4.8, 6.4]])"
      ]
     },
     "execution_count": 52,
     "metadata": {},
     "output_type": "execute_result"
    }
   ],
   "source": [
    "data * 1.6"
   ]
  },
  {
   "cell_type": "markdown",
   "metadata": {
    "id": "kAYvJJj7-k5O"
   },
   "source": [
    "E.g., compare an array with a scalar:"
   ]
  },
  {
   "cell_type": "code",
   "execution_count": 53,
   "metadata": {
    "colab": {
     "base_uri": "https://localhost:8080/"
    },
    "id": "pPhLfTHF2kSl",
    "outputId": "5cb1dbba-d1eb-4a91-e7ce-58c23ec76b55"
   },
   "outputs": [
    {
     "data": {
      "text/plain": [
       "array([[False,  True],\n",
       "       [ True,  True]])"
      ]
     },
     "execution_count": 53,
     "metadata": {},
     "output_type": "execute_result"
    }
   ],
   "source": [
    "data > 1"
   ]
  },
  {
   "cell_type": "markdown",
   "metadata": {},
   "source": [
    "**Exercise 5 (English)**\n",
    "\n",
    "Create a new array initialised with the data values `[[0, 5, 23], [37, 42, 54], [61, 79, 88]]`.\n",
    "\n",
    "Multiply this array by itself.\n",
    "\n",
    "Add one to every element of this array. \n",
    "\n",
    "**Exercice 5 (Français)**\n",
    "\n",
    "Créer un nouvel array initialisé avec les valeurs `[[0, 5, 23], [37, 42, 54], [61, 79, 88]]`.\n",
    "\n",
    "Multiplier cet array par lui-même.\n",
    "\n",
    "Ajouter un à chaque élément de cet array."
   ]
  },
  {
   "cell_type": "markdown",
   "metadata": {
    "id": "uu8v0wfZaJer"
   },
   "source": [
    "## Aggregations\n",
    "\n",
    "NumPy also provides some aggregation functions, including `max()`, `min()`, `sum()`, and `count_nonzero()`, which you can use with arrays. \n",
    "\n",
    "Note that `max()`, `min()` and `sum()` can be called in two different ways: either as methods of an array, or as a function."
   ]
  },
  {
   "cell_type": "markdown",
   "metadata": {
    "id": "_7VHw2rOa3cZ"
   },
   "source": [
    "### 1-D arrays\n",
    "\n",
    "Here are examples of aggregation functions used with a 1-D array."
   ]
  },
  {
   "cell_type": "code",
   "execution_count": 54,
   "metadata": {
    "id": "yoHju24HabiY"
   },
   "outputs": [],
   "source": [
    "data = np.array([1, 2, 3])"
   ]
  },
  {
   "cell_type": "code",
   "execution_count": 55,
   "metadata": {
    "colab": {
     "base_uri": "https://localhost:8080/"
    },
    "id": "iAmqdT0jaky7",
    "outputId": "dbe2d566-6e47-4d0d-a74e-e767a983b870"
   },
   "outputs": [
    {
     "data": {
      "text/plain": [
       "3"
      ]
     },
     "execution_count": 55,
     "metadata": {},
     "output_type": "execute_result"
    }
   ],
   "source": [
    "data.max()"
   ]
  },
  {
   "cell_type": "code",
   "execution_count": 56,
   "metadata": {
    "colab": {
     "base_uri": "https://localhost:8080/"
    },
    "id": "IE3gMna4br6w",
    "outputId": "f52d9c19-2c96-46bb-8cfe-c4e4eb150676"
   },
   "outputs": [
    {
     "data": {
      "text/plain": [
       "3"
      ]
     },
     "execution_count": 56,
     "metadata": {},
     "output_type": "execute_result"
    }
   ],
   "source": [
    "np.max(data)"
   ]
  },
  {
   "cell_type": "code",
   "execution_count": 57,
   "metadata": {
    "colab": {
     "base_uri": "https://localhost:8080/"
    },
    "id": "5Zl8bHZyalvg",
    "outputId": "a8c49fc1-f95e-4b4c-cab9-26860ec11c2e"
   },
   "outputs": [
    {
     "data": {
      "text/plain": [
       "1"
      ]
     },
     "execution_count": 57,
     "metadata": {},
     "output_type": "execute_result"
    }
   ],
   "source": [
    "data.min()"
   ]
  },
  {
   "cell_type": "code",
   "execution_count": 58,
   "metadata": {
    "colab": {
     "base_uri": "https://localhost:8080/"
    },
    "id": "OPz27potamTI",
    "outputId": "836b325e-6bc4-42c2-9161-dc8b5a705802"
   },
   "outputs": [
    {
     "data": {
      "text/plain": [
       "6"
      ]
     },
     "execution_count": 58,
     "metadata": {},
     "output_type": "execute_result"
    }
   ],
   "source": [
    "data.sum()"
   ]
  },
  {
   "cell_type": "markdown",
   "metadata": {
    "id": "K_VMXBl_am-o"
   },
   "source": [
    "<img src=\"https://numpy.org/doc/stable/_images/np_aggregation.png\"/>"
   ]
  },
  {
   "cell_type": "code",
   "execution_count": 59,
   "metadata": {
    "colab": {
     "base_uri": "https://localhost:8080/"
    },
    "id": "HW8CXnJs2vU8",
    "outputId": "bdefc333-c566-4860-ceda-6317eab16e47"
   },
   "outputs": [
    {
     "data": {
      "text/plain": [
       "array([False,  True,  True])"
      ]
     },
     "execution_count": 59,
     "metadata": {},
     "output_type": "execute_result"
    }
   ],
   "source": [
    "data > 1"
   ]
  },
  {
   "cell_type": "code",
   "execution_count": 60,
   "metadata": {
    "colab": {
     "base_uri": "https://localhost:8080/"
    },
    "id": "KG79Yj4A2w2w",
    "outputId": "f6f53b5a-e281-4a90-c626-8f590310251e"
   },
   "outputs": [
    {
     "data": {
      "text/plain": [
       "2"
      ]
     },
     "execution_count": 60,
     "metadata": {},
     "output_type": "execute_result"
    }
   ],
   "source": [
    "np.count_nonzero(data > 1)"
   ]
  },
  {
   "cell_type": "markdown",
   "metadata": {
    "id": "PdILVV-Za7Ci"
   },
   "source": [
    "### 2-D arrays\n",
    "\n",
    "Here are examples of aggregation functions used with a 2-D array."
   ]
  },
  {
   "cell_type": "code",
   "execution_count": 61,
   "metadata": {
    "id": "HzF4r-zvatRQ"
   },
   "outputs": [
    {
     "data": {
      "text/plain": [
       "array([[1, 2],\n",
       "       [3, 4],\n",
       "       [5, 6]])"
      ]
     },
     "execution_count": 61,
     "metadata": {},
     "output_type": "execute_result"
    }
   ],
   "source": [
    "data = np.array([[1, 2], [3, 4], [5, 6]])\n",
    "data"
   ]
  },
  {
   "cell_type": "code",
   "execution_count": 62,
   "metadata": {
    "id": "MUyXKAd-a2zj"
   },
   "outputs": [
    {
     "data": {
      "text/plain": [
       "6"
      ]
     },
     "execution_count": 62,
     "metadata": {},
     "output_type": "execute_result"
    }
   ],
   "source": [
    "data.max()"
   ]
  },
  {
   "cell_type": "code",
   "execution_count": 63,
   "metadata": {
    "id": "aPalAsaKa9wg"
   },
   "outputs": [
    {
     "data": {
      "text/plain": [
       "1"
      ]
     },
     "execution_count": 63,
     "metadata": {},
     "output_type": "execute_result"
    }
   ],
   "source": [
    "data.min()"
   ]
  },
  {
   "cell_type": "code",
   "execution_count": 64,
   "metadata": {
    "id": "WFr6TRmFa-M4"
   },
   "outputs": [
    {
     "data": {
      "text/plain": [
       "21"
      ]
     },
     "execution_count": 64,
     "metadata": {},
     "output_type": "execute_result"
    }
   ],
   "source": [
    "data.sum()"
   ]
  },
  {
   "cell_type": "markdown",
   "metadata": {
    "id": "LsotaOKba-wI"
   },
   "source": [
    "<img src=\"https://numpy.org/doc/stable/_images/np_matrix_aggregation.png\"/>"
   ]
  },
  {
   "cell_type": "markdown",
   "metadata": {
    "id": "CipeNaya_P1w"
   },
   "source": [
    "The `axis` parameter can also be used here to perform aggregation along a dimension of an array."
   ]
  },
  {
   "cell_type": "code",
   "execution_count": 65,
   "metadata": {
    "id": "zBl1-YnlbCJT"
   },
   "outputs": [
    {
     "data": {
      "text/plain": [
       "array([5, 6])"
      ]
     },
     "execution_count": 65,
     "metadata": {},
     "output_type": "execute_result"
    }
   ],
   "source": [
    "data.max(axis=0)"
   ]
  },
  {
   "cell_type": "code",
   "execution_count": 66,
   "metadata": {
    "id": "Jd5xVRuVbxgb"
   },
   "outputs": [
    {
     "data": {
      "text/plain": [
       "array([2, 4, 6])"
      ]
     },
     "execution_count": 66,
     "metadata": {},
     "output_type": "execute_result"
    }
   ],
   "source": [
    "data.max(axis=1)"
   ]
  },
  {
   "cell_type": "markdown",
   "metadata": {
    "id": "4Yu2O7lIb96Q"
   },
   "source": [
    "<img src=\"https://numpy.org/doc/stable/_images/np_matrix_aggregation_row.png\"/>"
   ]
  },
  {
   "cell_type": "code",
   "execution_count": 67,
   "metadata": {
    "id": "ufjOyYVc24kY"
   },
   "outputs": [
    {
     "data": {
      "text/plain": [
       "array([[False,  True],\n",
       "       [ True,  True],\n",
       "       [ True,  True]])"
      ]
     },
     "execution_count": 67,
     "metadata": {},
     "output_type": "execute_result"
    }
   ],
   "source": [
    "data > 1"
   ]
  },
  {
   "cell_type": "code",
   "execution_count": 68,
   "metadata": {
    "id": "mGQfo2nt25Uy"
   },
   "outputs": [
    {
     "data": {
      "text/plain": [
       "5"
      ]
     },
     "execution_count": 68,
     "metadata": {},
     "output_type": "execute_result"
    }
   ],
   "source": [
    "np.count_nonzero(data > 1)"
   ]
  },
  {
   "cell_type": "code",
   "execution_count": 69,
   "metadata": {
    "id": "XBmm1PK228Kd"
   },
   "outputs": [
    {
     "data": {
      "text/plain": [
       "array([1, 2, 2])"
      ]
     },
     "execution_count": 69,
     "metadata": {},
     "output_type": "execute_result"
    }
   ],
   "source": [
    "np.count_nonzero(data > 1, axis=1)"
   ]
  },
  {
   "cell_type": "markdown",
   "metadata": {},
   "source": [
    "**Exercise 6 (English)**\n",
    "\n",
    "Create a 2-D array of random numbers with 4 rows and 3 columns.\n",
    "\n",
    "Multiply the array by 100.\n",
    "\n",
    "Find the maximum, minimum and sum of the array.\n",
    "\n",
    "Find the maximum value in each row.\n",
    "\n",
    "Find the minimum value in each column.\n",
    "\n",
    "**Exercice 6 (Français)**\n",
    "\n",
    "Créer un array de dimension 2 avec 4 lignes et 3 colonnes de nombres aléatoires.\n",
    "\n",
    "Multiplier cet array par 100.\n",
    "\n",
    "Trouver le maximum, le minimum et la somme de cet array.\n",
    "\n",
    "Trouver le maximum de chaque ligne.\n",
    "\n",
    "Trouver le minimum de chaque colonne."
   ]
  },
  {
   "cell_type": "markdown",
   "metadata": {
    "id": "jlrhPpvCcBLA"
   },
   "source": [
    "## Working with mathematical formulas\n",
    "\n",
    "NumPy can be used to implement mathematical formulas and perform some computation over data of any size.\n",
    "\n",
    "For example, here is a formula for computing mean square error."
   ]
  },
  {
   "cell_type": "markdown",
   "metadata": {
    "id": "5e9D7jrHcfto"
   },
   "source": [
    "<img src=\"https://numpy.org/doc/stable/_images/np_MSE_formula.png\"/>"
   ]
  },
  {
   "cell_type": "markdown",
   "metadata": {
    "id": "ClzPEILZ_k09"
   },
   "source": [
    "To illustrate how we would implement this with NumPy, let's create some data:"
   ]
  },
  {
   "cell_type": "code",
   "execution_count": 70,
   "metadata": {
    "id": "sPqULeBzcmHD"
   },
   "outputs": [
    {
     "data": {
      "text/plain": [
       "array([1, 1, 1])"
      ]
     },
     "execution_count": 70,
     "metadata": {},
     "output_type": "execute_result"
    }
   ],
   "source": [
    "predictions = np.array([1, 1, 1])\n",
    "predictions"
   ]
  },
  {
   "cell_type": "code",
   "execution_count": 71,
   "metadata": {
    "id": "ipfddTVxctJQ"
   },
   "outputs": [
    {
     "data": {
      "text/plain": [
       "array([1, 2, 3])"
      ]
     },
     "execution_count": 71,
     "metadata": {},
     "output_type": "execute_result"
    }
   ],
   "source": [
    "labels = np.array([1, 2, 3])\n",
    "labels"
   ]
  },
  {
   "cell_type": "markdown",
   "metadata": {
    "id": "2EZVniPl_2me"
   },
   "source": [
    "Now implement the formula to compute the mean square error between `predictions` and `labels`:"
   ]
  },
  {
   "cell_type": "code",
   "execution_count": 72,
   "metadata": {
    "id": "qfd4upHPc05Y"
   },
   "outputs": [
    {
     "data": {
      "text/plain": [
       "1.6666666666666665"
      ]
     },
     "execution_count": 72,
     "metadata": {},
     "output_type": "execute_result"
    }
   ],
   "source": [
    "n = predictions.size\n",
    "error = (1/n) * np.sum(np.square(predictions - labels))\n",
    "error"
   ]
  },
  {
   "cell_type": "markdown",
   "metadata": {
    "id": "3wUDavZk_8AP"
   },
   "source": [
    "Here is a visual illustration of how NumPy performs this computation internally."
   ]
  },
  {
   "cell_type": "markdown",
   "metadata": {
    "id": "QQ_KMVe_dBjQ"
   },
   "source": [
    "<img src=\"https://numpy.org/doc/stable/_images/np_MSE_implementation.png\"/>\n",
    "\n",
    "<img src=\"https://numpy.org/doc/stable/_images/np_mse_viz1.png\"/>\n",
    "\n",
    "<img src=\"https://numpy.org/doc/stable/_images/np_mse_viz2.png\"/>\n",
    "\n",
    "<img src=\"https://numpy.org/doc/stable/_images/np_MSE_explanation2.png\"/>"
   ]
  },
  {
   "cell_type": "markdown",
   "metadata": {
    "id": "DzDKTbCvAITU"
   },
   "source": [
    "In fact, there is an even simpler way we could compute this, using the `np.mean()` function:"
   ]
  },
  {
   "cell_type": "code",
   "execution_count": 73,
   "metadata": {
    "id": "YZC9H3RGAJhE"
   },
   "outputs": [
    {
     "data": {
      "text/plain": [
       "1.6666666666666667"
      ]
     },
     "execution_count": 73,
     "metadata": {},
     "output_type": "execute_result"
    }
   ],
   "source": [
    "error = np.mean(np.square(predictions - labels))\n",
    "error"
   ]
  },
  {
   "cell_type": "markdown",
   "metadata": {
    "id": "T_v7hShxAO99"
   },
   "source": [
    "Of course, the best part about this is, it doesn't matter how much data we have - we could pass arrays of any size into this computation."
   ]
  },
  {
   "cell_type": "markdown",
   "metadata": {
    "id": "hNdd8udZdbkz"
   },
   "source": [
    "## Data types (dtypes)\n",
    "\n",
    "Finally, let's take a very brief look at some of the different data types that NumPy supports."
   ]
  },
  {
   "cell_type": "markdown",
   "metadata": {
    "id": "tOb90HevAdN1"
   },
   "source": [
    "At the beginning of this module, we created an array from some existing data values using `np.array()`. "
   ]
  },
  {
   "cell_type": "code",
   "execution_count": 74,
   "metadata": {
    "id": "SefHR1TPdt4o"
   },
   "outputs": [
    {
     "data": {
      "text/plain": [
       "array([1, 2, 3])"
      ]
     },
     "execution_count": 74,
     "metadata": {},
     "output_type": "execute_result"
    }
   ],
   "source": [
    "data = np.array([1, 2, 3])\n",
    "data"
   ]
  },
  {
   "cell_type": "markdown",
   "metadata": {
    "id": "-RCwKCgFAl4E"
   },
   "source": [
    "Because of the data values we provided, NumPy chose an integer data type for us:"
   ]
  },
  {
   "cell_type": "code",
   "execution_count": 75,
   "metadata": {
    "id": "lNqTQQQ0d8ix"
   },
   "outputs": [
    {
     "data": {
      "text/plain": [
       "dtype('int64')"
      ]
     },
     "execution_count": 75,
     "metadata": {},
     "output_type": "execute_result"
    }
   ],
   "source": [
    "data.dtype"
   ]
  },
  {
   "cell_type": "markdown",
   "metadata": {
    "id": "TAFqprvqAquH"
   },
   "source": [
    "Earlier, we created an array of zeros using the `np.zeros()` function. "
   ]
  },
  {
   "cell_type": "code",
   "execution_count": 76,
   "metadata": {
    "id": "s9VY75qnd9mw"
   },
   "outputs": [
    {
     "data": {
      "text/plain": [
       "array([0., 0., 0.])"
      ]
     },
     "execution_count": 76,
     "metadata": {},
     "output_type": "execute_result"
    }
   ],
   "source": [
    "zeros = np.zeros(3)\n",
    "zeros"
   ]
  },
  {
   "cell_type": "markdown",
   "metadata": {
    "id": "ZXkHoHioAveF"
   },
   "source": [
    "By default, NumPy created this array with a floating-point data type:"
   ]
  },
  {
   "cell_type": "code",
   "execution_count": 77,
   "metadata": {
    "id": "ynVBmnJzeBy4"
   },
   "outputs": [
    {
     "data": {
      "text/plain": [
       "dtype('float64')"
      ]
     },
     "execution_count": 77,
     "metadata": {},
     "output_type": "execute_result"
    }
   ],
   "source": [
    "zeros.dtype"
   ]
  },
  {
   "cell_type": "markdown",
   "metadata": {
    "id": "V7ulRk5SA5YH"
   },
   "source": [
    "If we knew we only wanted to store whole numbers, we could have used the `dtype` parameter to override the default, e.g.:"
   ]
  },
  {
   "cell_type": "code",
   "execution_count": 78,
   "metadata": {
    "id": "61UDvJhkgAlo"
   },
   "outputs": [
    {
     "data": {
      "text/plain": [
       "array([0, 0, 0])"
      ]
     },
     "execution_count": 78,
     "metadata": {},
     "output_type": "execute_result"
    }
   ],
   "source": [
    "zeros = np.zeros(3, dtype=np.int64)\n",
    "zeros"
   ]
  },
  {
   "cell_type": "code",
   "execution_count": 79,
   "metadata": {
    "id": "KP8Y5FBD3b9K"
   },
   "outputs": [
    {
     "data": {
      "text/plain": [
       "dtype('int64')"
      ]
     },
     "execution_count": 79,
     "metadata": {},
     "output_type": "execute_result"
    }
   ],
   "source": [
    "zeros.dtype"
   ]
  },
  {
   "cell_type": "markdown",
   "metadata": {
    "id": "i3X2nMFsBD5U"
   },
   "source": [
    "Here are all of the integer data types that NumPy supports, along with the range of possible data values for each:"
   ]
  },
  {
   "cell_type": "markdown",
   "metadata": {
    "id": "45AVmmRGfssU"
   },
   "source": [
    "<img src=\"https://miro.medium.com/max/1400/1*XDBcGPOkqTGd5C7DuRrAiw.png\"/>"
   ]
  },
  {
   "cell_type": "markdown",
   "metadata": {
    "id": "rYzIg1pIBPF2"
   },
   "source": [
    "Here are all of the floating-point data types that NumPy currently supports, along with the range of possible data values for each:"
   ]
  },
  {
   "cell_type": "markdown",
   "metadata": {
    "id": "UcJ-L-aue_MA"
   },
   "source": [
    "<img src=\"https://miro.medium.com/max/1400/1*aXnGirp9NLC5oljJ5wGcyA.png\"/>"
   ]
  },
  {
   "cell_type": "markdown",
   "metadata": {
    "id": "ohVE_Oi6BX5_"
   },
   "source": [
    "## Further reading\n",
    "\n",
    "Please see the [NumPy website](https://numpy.org/doc/stable/index.html) for a more complete introduction to NumPy and links to other tutorials and documentation.\n",
    "\n",
    "For more information about data types, see also [NumPy data types](https://numpy.org/doc/stable/user/basics.types.html) and [A comprehensive guide to NumPy data types](https://betterprogramming.pub/a-comprehensive-guide-to-numpy-data-types-8f62cb57ea83) by Lex Maximov."
   ]
  }
 ],
 "metadata": {
  "celltoolbar": "Tags",
  "colab": {
   "collapsed_sections": [],
   "name": "Workshop 4 - Module 1 - 2022-06-07 - NumPy arrays.ipynb",
   "provenance": []
  },
  "kernelspec": {
   "display_name": "Python [conda env:ags-book-dev-w4]",
   "language": "python",
   "name": "conda-env-ags-book-dev-w4-py"
  },
  "language_info": {
   "codemirror_mode": {
    "name": "ipython",
    "version": 3
   },
   "file_extension": ".py",
   "mimetype": "text/x-python",
   "name": "python",
   "nbconvert_exporter": "python",
   "pygments_lexer": "ipython3",
   "version": "3.7.12"
  }
 },
 "nbformat": 4,
 "nbformat_minor": 4
}
