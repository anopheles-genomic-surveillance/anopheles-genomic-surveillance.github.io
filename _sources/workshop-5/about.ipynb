{
 "cells": [
  {
   "cell_type": "markdown",
   "id": "d27c267b",
   "metadata": {},
   "source": [
    "![banner](../banner.jpg)\n",
    "\n",
    "***Training course in data analysis for genomic surveillance of African malaria vectors***\n",
    "\n",
    "---"
   ]
  },
  {
   "cell_type": "markdown",
   "id": "4bd1b90f",
   "metadata": {},
   "source": [
    "# Workshop 5 - Genetic diversity\n",
    "\n",
    "## Topic\n",
    "\n",
    "This training workshop covers the use of genomic data to quantify, characterise and compare genetic diversity in mosquito populations. In general, *Anopheles* mosquitoes are known to harbour high levels of genetic diversity relative to many other organisms. However, genetic diversity is known to vary between mosquito species, and between populations of mosquitoes from the same species sampled from different geographical locations and/or points in time. These differences are interesting to explore, because genetic diversity is shaped by demographic factors including population size history and migration. Thus surveying and monitoring diversity could be used to learn more about mosquito population demography, and to investigate the demographic impact of vector contol interventions. In this workshop we introduce some basic concepts of genetic diversity, and illustrates commonly-used methods for measuring diversity in different ways. "
   ]
  },
  {
   "cell_type": "markdown",
   "id": "83b3d78d",
   "metadata": {},
   "source": [
    "## Structure and format\n",
    "\n",
    "This workshop comprises four modules:\n",
    "\n",
    "* {doc}`module-1-xarray`\n",
    "* {doc}`module-2-diversity`\n",
    "* {doc}`module-3-stats`\n",
    "* {doc}`module-4-roh`\n",
    "\n",
    "Each module includes a video lecture, and is accompanied by a notebook which includes lecture notes, code examples and practical exercises"
   ]
  }
 ],
 "metadata": {
  "kernelspec": {
   "display_name": "Python 3 (ipykernel)",
   "language": "python",
   "name": "python3"
  },
  "language_info": {
   "codemirror_mode": {
    "name": "ipython",
    "version": 3
   },
   "file_extension": ".py",
   "mimetype": "text/x-python",
   "name": "python",
   "nbconvert_exporter": "python",
   "pygments_lexer": "ipython3",
   "version": "3.9.7"
  }
 },
 "nbformat": 4,
 "nbformat_minor": 5
}
