{
 "cells": [
  {
   "cell_type": "markdown",
   "id": "c6f4410c-7f7e-4cce-9921-175e7702ba1c",
   "metadata": {},
   "source": [
    "![banner](../banner.jpg)\n",
    "\n",
    "***Training course in data analysis for genomic surveillance of African malaria vectors***\n",
    "\n",
    "---"
   ]
  },
  {
   "cell_type": "markdown",
   "id": "44b51744-93e6-43a9-8039-4a1fccc3fe01",
   "metadata": {},
   "source": [
    "# Workshop 2 - Metabolic insecticide resistance and copy number variation\n",
    "\n",
    "## Topic\n",
    "\n",
    "This training workshop covers the use of genomic data to analyse mutations in genes that cause metabolic resistance to insecticides. There are several families of genes in the mosquito genome which can break down insecticides before they have a chance to act, including cytochrome P450 (*Cyp*) and glutathione S-transferase (*Gst*) gene families. Certain mutations such as copy number variation (CNV) can increase the expression of these genes, increasing the ability of a mosquito to survive exposure to an insecticide. Detecting this type of insecticide resistance is an important surveillance activity, because it can provide evidence about the likely strength of resistance in a mosquito population, and can inform decisions about which vector control tools to deploy."
   ]
  },
  {
   "cell_type": "markdown",
   "id": "29608732-cabe-403a-b6a7-b1c6cf691236",
   "metadata": {},
   "source": [
    "## Structure and format\n",
    "\n",
    "This workshop comprises four modules:\n",
    "\n",
    "* {doc}`module-1-pandas`\n",
    "* {doc}`module-2-metabolic-ir`\n",
    "* {doc}`module-3-cnv-calling`\n",
    "* {doc}`module-4-cnv-frequencies`\n",
    "\n",
    "Each module includes a video lecture, and is accompanied by a notebook which includes lecture notes, code examples and practical exercises"
   ]
  }
 ],
 "metadata": {
  "kernelspec": {
   "display_name": "Python 3 (ipykernel)",
   "language": "python",
   "name": "python3"
  },
  "language_info": {
   "codemirror_mode": {
    "name": "ipython",
    "version": 3
   },
   "file_extension": ".py",
   "mimetype": "text/x-python",
   "name": "python",
   "nbconvert_exporter": "python",
   "pygments_lexer": "ipython3",
   "version": "3.9.7"
  }
 },
 "nbformat": 4,
 "nbformat_minor": 5
}
