{
 "cells": [
  {
   "cell_type": "markdown",
   "id": "c6f4410c-7f7e-4cce-9921-175e7702ba1c",
   "metadata": {},
   "source": [
    "![banner](../banner.jpg)\n",
    "\n",
    "***[Workshop 3](about) - Training course in data analysis for genomic surveillance of African malaria vectors***\n",
    "\n",
    "---"
   ]
  },
  {
   "cell_type": "markdown",
   "id": "44b51744-93e6-43a9-8039-4a1fccc3fe01",
   "metadata": {},
   "source": [
    "# Journal club - Ag1000G Consortium (2017) \n",
    "\n",
    "For our third journal club, the paper \"[Genetic diversity of the African malaria vector Anopheles gambiae](https://www.ncbi.nlm.nih.gov/pmc/articles/PMC6026373/)\" was presented and discussed by Dr Alistair Miles."
   ]
  },
  {
   "cell_type": "code",
   "execution_count": 1,
   "id": "4d5ab47a-9a7b-4572-bf5a-f2036b26226c",
   "metadata": {
    "tags": [
     "remove-input"
    ]
   },
   "outputs": [
    {
     "data": {
      "text/html": [
       "<iframe width=\"560\" height=\"315\" src=\"https://www.youtube.com/embed/HAjQdXvzgfY\" title=\"YouTube video player\" frameborder=\"0\" allow=\"accelerometer; autoplay; clipboard-write; encrypted-media; gyroscope; picture-in-picture\" allowfullscreen></iframe>\n"
      ],
      "text/plain": [
       "<IPython.core.display.HTML object>"
      ]
     },
     "metadata": {},
     "output_type": "display_data"
    }
   ],
   "source": [
    "%%html\n",
    "<iframe width=\"560\" height=\"315\" src=\"https://www.youtube.com/embed/HAjQdXvzgfY\" title=\"YouTube video player\" frameborder=\"0\" allow=\"accelerometer; autoplay; clipboard-write; encrypted-media; gyroscope; picture-in-picture\" allowfullscreen></iframe>"
   ]
  }
 ],
 "metadata": {
  "kernelspec": {
   "display_name": "Python 3 (ipykernel)",
   "language": "python",
   "name": "python3"
  },
  "language_info": {
   "codemirror_mode": {
    "name": "ipython",
    "version": 3
   },
   "file_extension": ".py",
   "mimetype": "text/x-python",
   "name": "python",
   "nbconvert_exporter": "python",
   "pygments_lexer": "ipython3",
   "version": "3.9.7"
  }
 },
 "nbformat": 4,
 "nbformat_minor": 5
}
