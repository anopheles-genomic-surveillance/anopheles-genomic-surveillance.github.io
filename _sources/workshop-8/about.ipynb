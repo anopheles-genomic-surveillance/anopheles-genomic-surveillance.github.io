{
 "cells": [
  {
   "cell_type": "markdown",
   "id": "d27c267b",
   "metadata": {},
   "source": [
    "![banner](../banner.jpg)\n",
    "\n",
    "***Training course in data analysis for genomic surveillance of African malaria vectors***\n",
    "\n",
    "---"
   ]
  },
  {
   "cell_type": "markdown",
   "id": "4bd1b90f",
   "metadata": {},
   "source": [
    "# Workshop 8 - Analysis planning and reporting \n",
    "\n",
    "\n",
    "## Topic\n",
    "\n",
    "This training workshop focuses on how to plan an exploratory data analysis of genomic surveillance data and present the results. Here, we will: \n",
    "1. Revisit the analyses performed in previous workshops in a logical order that allows for systematic exploration of new data.\n",
    "1. Identify and contextualise key findings within a dataset.\n",
    "1. Discuss how to communicate these results clearly and concisely.\n",
    "1. See examples of presentations showcasing results from a data analysis of genomic surveillance data focused on specific geographical areas.\n"
   ]
  },
  {
   "cell_type": "markdown",
   "id": "83b3d78d",
   "metadata": {},
   "source": [
    "## Structure and format\n",
    "\n",
    "This workshop comprises of four modules:\n",
    "\n",
    "* {doc}`module-1-planning-analysis`\n",
    "* {doc}`module-2-presenting-results`\n",
    "* {doc}`module-3-genomic-surveillance-tanzania`\n",
    "* {doc}`module-4-genomic-surveillance-ghana`\n",
    "\n",
    "\n",
    "Each module includes a video lecture and is accompanied by a notebook which includes lecture notes and practical exercises."
   ]
  },
  {
   "cell_type": "code",
   "execution_count": null,
   "id": "78a73604",
   "metadata": {},
   "outputs": [],
   "source": []
  }
 ],
 "metadata": {
  "kernelspec": {
   "display_name": "Python 3 (ipykernel)",
   "language": "python",
   "name": "python3"
  },
  "language_info": {
   "codemirror_mode": {
    "name": "ipython",
    "version": 3
   },
   "file_extension": ".py",
   "mimetype": "text/x-python",
   "name": "python",
   "nbconvert_exporter": "python",
   "pygments_lexer": "ipython3",
   "version": "3.9.10"
  }
 },
 "nbformat": 4,
 "nbformat_minor": 5
}
