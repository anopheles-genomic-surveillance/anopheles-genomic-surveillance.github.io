{
 "cells": [
  {
   "cell_type": "markdown",
   "id": "d27c267b",
   "metadata": {},
   "source": [
    "![banner](../banner.jpg)\n",
    "\n",
    "***Training course in data analysis for genomic surveillance of African malaria vectors***\n",
    "\n",
    "---"
   ]
  },
  {
   "cell_type": "markdown",
   "id": "4bd1b90f",
   "metadata": {},
   "source": [
    "# Workshop 4 - Cryptic species\n",
    "\n",
    "## Topic\n",
    "\n",
    "This training workshop covers the use of genomic data to investigate cryptic mosquito species within the *Anopheles gambiae* complex. In general, anopheline mosquito species often occur within species complexes, which are groups of species that are difficult or impossible to differentiate from their appearance (morphology) alone. Because of this morphological similarity, genetic methods are required to identify cryptic species within species complexes. Within the *Anopheles gambiae* complex, a number of species are already known, but evidence continues to emerge that there are still further species within this complex to be discovered and fully characterised. Correctly identifying cryptic species is crucial for vector surveillance, because different species may have different behaviours or insecticide resistance mutations, and therefore may need different control strategies."
   ]
  },
  {
   "cell_type": "markdown",
   "id": "83b3d78d",
   "metadata": {},
   "source": [
    "## Structure and format\n",
    "\n",
    "This workshop comprises four modules:\n",
    "\n",
    "* {doc}`module-1-numpy`\n",
    "* {doc}`module-2-cryptic-species`\n",
    "* {doc}`module-3-aims`\n",
    "* {doc}`module-4-taxon-analysis`\n",
    "\n",
    "Each module includes a video lecture, and is accompanied by a notebook which includes lecture notes, code examples and practical exercises"
   ]
  }
 ],
 "metadata": {
  "kernelspec": {
   "display_name": "Python 3 (ipykernel)",
   "language": "python",
   "name": "python3"
  },
  "language_info": {
   "codemirror_mode": {
    "name": "ipython",
    "version": 3
   },
   "file_extension": ".py",
   "mimetype": "text/x-python",
   "name": "python",
   "nbconvert_exporter": "python",
   "pygments_lexer": "ipython3",
   "version": "3.9.7"
  }
 },
 "nbformat": 4,
 "nbformat_minor": 5
}
