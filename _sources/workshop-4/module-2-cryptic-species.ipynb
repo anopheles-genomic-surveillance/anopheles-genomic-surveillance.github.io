{
 "cells": [
  {
   "cell_type": "markdown",
   "id": "a20914ce",
   "metadata": {},
   "source": [
    "![banner](https://anopheles-genomic-surveillance.github.io/_images/banner.jpg)\n",
    "\n",
    "***Training course in data analysis for genomic surveillance of African malaria vectors - Workshop 4***\n",
    "\n",
    "---"
   ]
  },
  {
   "cell_type": "markdown",
   "id": "7ed63b34-d54d-448d-bcb9-55e4aa87e982",
   "metadata": {},
   "source": [
    "# Module 2 - Species complexes and cryptic taxa in malaria vectors\n",
    "\n",
    "**Theme: Biology**\n",
    "\n",
    "This module provides an introduction to the biology of species complexes, and covers the history of the discovery of cryptic species within the *Anopheles gambiae* complex, which includes species that are major malaria vectors throughout much of sub-Saharan Africa."
   ]
  },
  {
   "cell_type": "markdown",
   "id": "434e79a6-34ff-45f6-b259-0d3c7858e250",
   "metadata": {},
   "source": [
    "## Learning objectives\n",
    "\n",
    "In this module, we will:\n",
    "\n",
    "* Explain the concepts of species complex and cryptic taxa.\n",
    "* Learn about the abundance of cryptic species in nature.\n",
    "* Appreciated the history of the discovery of species within the *Anopheles gambiae* complex.\n",
    "* Gain some knowledge of the current understanding of putative cryptic taxa in *Anopheles* populations.\n",
    "* Link the importance of accurately identifying species to malaria vector control.\n"
   ]
  },
  {
   "cell_type": "markdown",
   "id": "b66bb5b8",
   "metadata": {},
   "source": [
    "## Lecture"
   ]
  },
  {
   "cell_type": "markdown",
   "id": "5c688ab3",
   "metadata": {},
   "source": [
    "### English"
   ]
  },
  {
   "cell_type": "code",
   "execution_count": 1,
   "id": "c5e8aeda",
   "metadata": {
    "tags": [
     "remove-input"
    ]
   },
   "outputs": [
    {
     "data": {
      "text/html": [
       "<iframe width=\"560\" height=\"315\" src=\"https://www.youtube.com/embed/3h2c8ryjYnY\" title=\"YouTube video player\" frameborder=\"0\" allow=\"accelerometer; autoplay; clipboard-write; encrypted-media; gyroscope; picture-in-picture\" allowfullscreen></iframe>\n"
      ],
      "text/plain": [
       "<IPython.core.display.HTML object>"
      ]
     },
     "metadata": {},
     "output_type": "display_data"
    }
   ],
   "source": [
    "%%html\n",
    "<iframe width=\"560\" height=\"315\" src=\"https://www.youtube.com/embed/3h2c8ryjYnY\" title=\"YouTube video player\" frameborder=\"0\" allow=\"accelerometer; autoplay; clipboard-write; encrypted-media; gyroscope; picture-in-picture\" allowfullscreen></iframe>"
   ]
  },
  {
   "cell_type": "markdown",
   "id": "c64766c0",
   "metadata": {},
   "source": [
    "### Français\n"
   ]
  },
  {
   "cell_type": "code",
   "execution_count": 2,
   "id": "e7e8ae53",
   "metadata": {
    "tags": [
     "remove-input"
    ]
   },
   "outputs": [
    {
     "data": {
      "text/html": [
       "@@TODO\n"
      ],
      "text/plain": [
       "<IPython.core.display.HTML object>"
      ]
     },
     "metadata": {},
     "output_type": "display_data"
    }
   ],
   "source": [
    "%%html\n",
    "@@TODO"
   ]
  },
  {
   "cell_type": "markdown",
   "id": "24bbc0e9",
   "metadata": {},
   "source": [
    "## Further reading\n",
    "\n",
    "* Miles (2021) Historical context: correspondence on the discovery of the *Anopheles gambiae* species complex. Chapter 2 in: Genomic epidemiology of malaria vectors in the *Anopheles gambiae* species complex. DPhil thesis, University of Oxford. https://ora.ox.ac.uk/objects/uuid:d0fc0f47-e24f-4804-9022-26c4e3cf1428\n",
    "* Tennessen et al. (2021) A population genomic unveiling of a new cryptic mosquito taxon within the malaria-transmitting *Anopheles gambiae* complex. Mol Ecol. https://pubmed.ncbi.nlm.nih.gov/33253481/\n",
    "* Crawford et al. (2016) Evolution of GOUNDRY, a cryptic subgroup of *Anopheles gambiae* s.l., and its impact on susceptibility to *Plasmodium* infection. Mol Ecol. https://pubmed.ncbi.nlm.nih.gov/26846876/\n",
    "* Vicente et al. (2017) Massive introgression drives species radiation at the range limit of *Anopheles gambiae*. Sci Rep. https://pubmed.ncbi.nlm.nih.gov/28417969/"
   ]
  }
 ],
 "metadata": {
  "celltoolbar": "Tags",
  "kernelspec": {
   "display_name": "Python 3 (ipykernel)",
   "language": "python",
   "name": "python3"
  },
  "language_info": {
   "codemirror_mode": {
    "name": "ipython",
    "version": 3
   },
   "file_extension": ".py",
   "mimetype": "text/x-python",
   "name": "python",
   "nbconvert_exporter": "python",
   "pygments_lexer": "ipython3",
   "version": "3.9.7"
  }
 },
 "nbformat": 4,
 "nbformat_minor": 5
}
