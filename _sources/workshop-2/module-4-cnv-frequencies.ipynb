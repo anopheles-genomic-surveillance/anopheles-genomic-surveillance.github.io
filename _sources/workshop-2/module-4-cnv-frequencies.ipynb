{
 "cells": [
  {
   "cell_type": "markdown",
   "id": "91a50739-678a-4857-a8b4-0aaa8749b352",
   "metadata": {
    "id": "eCHyfe2oQWuP"
   },
   "source": [
    "![banner](../banner.jpg)\n",
    "\n",
    "***[Workshop 2](about) - Training course in data analysis for genomic surveillance of African malaria vectors***\n",
    "\n",
    "---"
   ]
  },
  {
   "cell_type": "markdown",
   "id": "3dfb6a5f-db14-46f6-9537-28fae4942623",
   "metadata": {
    "id": "ppr9qu23Qey6"
   },
   "source": [
    "# Module 4 - Analysing CNV frequencies at metabolic resistance genes\n",
    "\n",
    "**Theme: Analysis**\n",
    "\n",
    "\n",
    "In this module we're going to analyse copy number variation in genes that are known to be associated with metabolic insecticide resistance in the *Anopheles gambiae* complex, particularly cytochrome P450 (*Cyp*) genes. We will compute the frequency of copy number variation in these genes of interest, and compare these frequencies between mosquitoes from different time points, geographical locations and species."
   ]
  },
  {
   "cell_type": "markdown",
   "id": "576042b8-8504-46f5-843f-61526b45540f",
   "metadata": {
    "id": "KKoSwVpSSLp9"
   },
   "source": [
    "## Learning objectives\n",
    "\n",
    "At the end of this module you will be able to:\n",
    "\n",
    "* Compute the frequency of gene copy number variation in different mosquito cohorts.\n",
    "* Extract and analyse CNV frequencies for metabolic resistance genes.\n",
    "* Visualise frequencies using heatmaps, time series plots and maps."
   ]
  },
  {
   "cell_type": "markdown",
   "id": "94db0cb9-031e-4ff0-98e6-3d6549c63438",
   "metadata": {
    "tags": []
   },
   "source": [
    "## Lecture"
   ]
  },
  {
   "cell_type": "markdown",
   "id": "a1b12267-fdf7-443d-8eae-55e83d05363d",
   "metadata": {},
   "source": [
    "### English"
   ]
  },
  {
   "cell_type": "code",
   "execution_count": 1,
   "id": "5744cd86-d5c7-40b4-99be-5d339ce5b354",
   "metadata": {
    "tags": [
     "remove-input"
    ]
   },
   "outputs": [
    {
     "data": {
      "text/html": [
       "<iframe width=\"560\" height=\"315\" src=\"https://www.youtube.com/embed/1bwESsRJPdw\" title=\"YouTube video player\" frameborder=\"0\" allow=\"accelerometer; autoplay; clipboard-write; encrypted-media; gyroscope; picture-in-picture\" allowfullscreen></iframe>\n"
      ],
      "text/plain": [
       "<IPython.core.display.HTML object>"
      ]
     },
     "metadata": {},
     "output_type": "display_data"
    }
   ],
   "source": [
    "%%html\n",
    "<iframe width=\"560\" height=\"315\" src=\"https://www.youtube.com/embed/1bwESsRJPdw\" title=\"YouTube video player\" frameborder=\"0\" allow=\"accelerometer; autoplay; clipboard-write; encrypted-media; gyroscope; picture-in-picture\" allowfullscreen></iframe>"
   ]
  },
  {
   "cell_type": "markdown",
   "id": "dd0682fe-e73b-4af4-9818-70d5182bf996",
   "metadata": {},
   "source": [
    "### Français"
   ]
  },
  {
   "cell_type": "code",
   "execution_count": 2,
   "id": "11fcb8de",
   "metadata": {
    "tags": [
     "remove-input"
    ]
   },
   "outputs": [
    {
     "data": {
      "text/html": [
       "<iframe width=\"560\" height=\"315\" src=\"https://www.youtube.com/embed/OzwIukNbu4M\" title=\"YouTube video player\" frameborder=\"0\" allow=\"accelerometer; autoplay; clipboard-write; encrypted-media; gyroscope; picture-in-picture\" allowfullscreen></iframe>\n"
      ],
      "text/plain": [
       "<IPython.core.display.HTML object>"
      ]
     },
     "metadata": {},
     "output_type": "display_data"
    }
   ],
   "source": [
    "%%html\n",
    "<iframe width=\"560\" height=\"315\" src=\"https://www.youtube.com/embed/OzwIukNbu4M\" title=\"YouTube video player\" frameborder=\"0\" allow=\"accelerometer; autoplay; clipboard-write; encrypted-media; gyroscope; picture-in-picture\" allowfullscreen></iframe>"
   ]
  },
  {
   "cell_type": "markdown",
   "id": "56427050",
   "metadata": {},
   "source": [
    "Please note that the code in the cells below might differ from that shown in the video. This can happen because Python packages and their dependencies change due to updates, necessitating tweaks to the code."
   ]
  },
  {
   "cell_type": "markdown",
   "id": "a96928f8-02b3-47ca-8740-2196ea0b00bc",
   "metadata": {
    "id": "RNlTB9CB2XZ3",
    "tags": []
   },
   "source": [
    "## Setup\n",
    "First, let's install the python packages we will need for our analyses."
   ]
  },
  {
   "cell_type": "code",
   "execution_count": 3,
   "id": "66a3c1ac-edf4-4820-9d6f-c1bc7acb01e4",
   "metadata": {
    "tags": [
     "remove-output"
    ]
   },
   "outputs": [],
   "source": [
    "%pip install -q --no-warn-conflicts malariagen_data"
   ]
  },
  {
   "cell_type": "markdown",
   "id": "106c0eae-5fde-413e-bf1b-6d26500b7c60",
   "metadata": {
    "id": "CXPlA6lfub3H"
   },
   "source": [
    "Now we've installed `malariagen_data`, we can import it into our environment and set it up to access data in the cloud."
   ]
  },
  {
   "cell_type": "markdown",
   "id": "0d8dbee7",
   "metadata": {},
   "source": [
    "Note that authentication is required to access data through the package, please follow the instructions [here](https://malariagen.github.io/vector-data/vobs/vobs-data-access.html)."
   ]
  },
  {
   "cell_type": "code",
   "execution_count": 4,
   "id": "cf0ff546-f031-41dd-885c-8a5ceb2e548d",
   "metadata": {},
   "outputs": [],
   "source": [
    "import malariagen_data"
   ]
  },
  {
   "cell_type": "code",
   "execution_count": 5,
   "id": "e070c6c7-914d-4686-916b-605d45b23508",
   "metadata": {
    "tags": []
   },
   "outputs": [],
   "source": [
    "#import os\n",
    "#os.environ[\"MGEN_SHOW_PROGRESS\"] = \"0\"\n",
    "import plotly.io as pio\n",
    "pio.renderers.default = \"notebook+colab\""
   ]
  },
  {
   "cell_type": "code",
   "execution_count": 6,
   "id": "89bd4047-be44-4c0d-9303-0ae022dd65ec",
   "metadata": {},
   "outputs": [
    {
     "data": {
      "application/javascript": [
       "'use strict';\n",
       "(function(root) {\n",
       "  function now() {\n",
       "    return new Date();\n",
       "  }\n",
       "\n",
       "  const force = true;\n",
       "\n",
       "  if (typeof root._bokeh_onload_callbacks === \"undefined\" || force === true) {\n",
       "    root._bokeh_onload_callbacks = [];\n",
       "    root._bokeh_is_loading = undefined;\n",
       "  }\n",
       "\n",
       "const JS_MIME_TYPE = 'application/javascript';\n",
       "  const HTML_MIME_TYPE = 'text/html';\n",
       "  const EXEC_MIME_TYPE = 'application/vnd.bokehjs_exec.v0+json';\n",
       "  const CLASS_NAME = 'output_bokeh rendered_html';\n",
       "\n",
       "  /**\n",
       "   * Render data to the DOM node\n",
       "   */\n",
       "  function render(props, node) {\n",
       "    const script = document.createElement(\"script\");\n",
       "    node.appendChild(script);\n",
       "  }\n",
       "\n",
       "  /**\n",
       "   * Handle when an output is cleared or removed\n",
       "   */\n",
       "  function handleClearOutput(event, handle) {\n",
       "    function drop(id) {\n",
       "      const view = Bokeh.index.get_by_id(id)\n",
       "      if (view != null) {\n",
       "        view.model.document.clear()\n",
       "        Bokeh.index.delete(view)\n",
       "      }\n",
       "    }\n",
       "\n",
       "    const cell = handle.cell;\n",
       "\n",
       "    const id = cell.output_area._bokeh_element_id;\n",
       "    const server_id = cell.output_area._bokeh_server_id;\n",
       "\n",
       "    // Clean up Bokeh references\n",
       "    if (id != null) {\n",
       "      drop(id)\n",
       "    }\n",
       "\n",
       "    if (server_id !== undefined) {\n",
       "      // Clean up Bokeh references\n",
       "      const cmd_clean = \"from bokeh.io.state import curstate; print(curstate().uuid_to_server['\" + server_id + \"'].get_sessions()[0].document.roots[0]._id)\";\n",
       "      cell.notebook.kernel.execute(cmd_clean, {\n",
       "        iopub: {\n",
       "          output: function(msg) {\n",
       "            const id = msg.content.text.trim()\n",
       "            drop(id)\n",
       "          }\n",
       "        }\n",
       "      });\n",
       "      // Destroy server and session\n",
       "      const cmd_destroy = \"import bokeh.io.notebook as ion; ion.destroy_server('\" + server_id + \"')\";\n",
       "      cell.notebook.kernel.execute(cmd_destroy);\n",
       "    }\n",
       "  }\n",
       "\n",
       "  /**\n",
       "   * Handle when a new output is added\n",
       "   */\n",
       "  function handleAddOutput(event, handle) {\n",
       "    const output_area = handle.output_area;\n",
       "    const output = handle.output;\n",
       "\n",
       "    // limit handleAddOutput to display_data with EXEC_MIME_TYPE content only\n",
       "    if ((output.output_type != \"display_data\") || (!Object.prototype.hasOwnProperty.call(output.data, EXEC_MIME_TYPE))) {\n",
       "      return\n",
       "    }\n",
       "\n",
       "    const toinsert = output_area.element.find(\".\" + CLASS_NAME.split(' ')[0]);\n",
       "\n",
       "    if (output.metadata[EXEC_MIME_TYPE][\"id\"] !== undefined) {\n",
       "      toinsert[toinsert.length - 1].firstChild.textContent = output.data[JS_MIME_TYPE];\n",
       "      // store reference to embed id on output_area\n",
       "      output_area._bokeh_element_id = output.metadata[EXEC_MIME_TYPE][\"id\"];\n",
       "    }\n",
       "    if (output.metadata[EXEC_MIME_TYPE][\"server_id\"] !== undefined) {\n",
       "      const bk_div = document.createElement(\"div\");\n",
       "      bk_div.innerHTML = output.data[HTML_MIME_TYPE];\n",
       "      const script_attrs = bk_div.children[0].attributes;\n",
       "      for (let i = 0; i < script_attrs.length; i++) {\n",
       "        toinsert[toinsert.length - 1].firstChild.setAttribute(script_attrs[i].name, script_attrs[i].value);\n",
       "        toinsert[toinsert.length - 1].firstChild.textContent = bk_div.children[0].textContent\n",
       "      }\n",
       "      // store reference to server id on output_area\n",
       "      output_area._bokeh_server_id = output.metadata[EXEC_MIME_TYPE][\"server_id\"];\n",
       "    }\n",
       "  }\n",
       "\n",
       "  function register_renderer(events, OutputArea) {\n",
       "\n",
       "    function append_mime(data, metadata, element) {\n",
       "      // create a DOM node to render to\n",
       "      const toinsert = this.create_output_subarea(\n",
       "        metadata,\n",
       "        CLASS_NAME,\n",
       "        EXEC_MIME_TYPE\n",
       "      );\n",
       "      this.keyboard_manager.register_events(toinsert);\n",
       "      // Render to node\n",
       "      const props = {data: data, metadata: metadata[EXEC_MIME_TYPE]};\n",
       "      render(props, toinsert[toinsert.length - 1]);\n",
       "      element.append(toinsert);\n",
       "      return toinsert\n",
       "    }\n",
       "\n",
       "    /* Handle when an output is cleared or removed */\n",
       "    events.on('clear_output.CodeCell', handleClearOutput);\n",
       "    events.on('delete.Cell', handleClearOutput);\n",
       "\n",
       "    /* Handle when a new output is added */\n",
       "    events.on('output_added.OutputArea', handleAddOutput);\n",
       "\n",
       "    /**\n",
       "     * Register the mime type and append_mime function with output_area\n",
       "     */\n",
       "    OutputArea.prototype.register_mime_type(EXEC_MIME_TYPE, append_mime, {\n",
       "      /* Is output safe? */\n",
       "      safe: true,\n",
       "      /* Index of renderer in `output_area.display_order` */\n",
       "      index: 0\n",
       "    });\n",
       "  }\n",
       "\n",
       "  // register the mime type if in Jupyter Notebook environment and previously unregistered\n",
       "  if (root.Jupyter !== undefined) {\n",
       "    const events = require('base/js/events');\n",
       "    const OutputArea = require('notebook/js/outputarea').OutputArea;\n",
       "\n",
       "    if (OutputArea.prototype.mime_types().indexOf(EXEC_MIME_TYPE) == -1) {\n",
       "      register_renderer(events, OutputArea);\n",
       "    }\n",
       "  }\n",
       "  if (typeof (root._bokeh_timeout) === \"undefined\" || force === true) {\n",
       "    root._bokeh_timeout = Date.now() + 5000;\n",
       "    root._bokeh_failed_load = false;\n",
       "  }\n",
       "\n",
       "  const NB_LOAD_WARNING = {'data': {'text/html':\n",
       "     \"<div style='background-color: #fdd'>\\n\"+\n",
       "     \"<p>\\n\"+\n",
       "     \"BokehJS does not appear to have successfully loaded. If loading BokehJS from CDN, this \\n\"+\n",
       "     \"may be due to a slow or bad network connection. Possible fixes:\\n\"+\n",
       "     \"</p>\\n\"+\n",
       "     \"<ul>\\n\"+\n",
       "     \"<li>re-rerun `output_notebook()` to attempt to load from CDN again, or</li>\\n\"+\n",
       "     \"<li>use INLINE resources instead, as so:</li>\\n\"+\n",
       "     \"</ul>\\n\"+\n",
       "     \"<code>\\n\"+\n",
       "     \"from bokeh.resources import INLINE\\n\"+\n",
       "     \"output_notebook(resources=INLINE)\\n\"+\n",
       "     \"</code>\\n\"+\n",
       "     \"</div>\"}};\n",
       "\n",
       "  function display_loaded(error = null) {\n",
       "    const el = document.getElementById(null);\n",
       "    if (el != null) {\n",
       "      const html = (() => {\n",
       "        if (typeof root.Bokeh === \"undefined\") {\n",
       "          if (error == null) {\n",
       "            return \"BokehJS is loading ...\";\n",
       "          } else {\n",
       "            return \"BokehJS failed to load.\";\n",
       "          }\n",
       "        } else {\n",
       "          const prefix = `BokehJS ${root.Bokeh.version}`;\n",
       "          if (error == null) {\n",
       "            return `${prefix} successfully loaded.`;\n",
       "          } else {\n",
       "            return `${prefix} <b>encountered errors</b> while loading and may not function as expected.`;\n",
       "          }\n",
       "        }\n",
       "      })();\n",
       "      el.innerHTML = html;\n",
       "\n",
       "      if (error != null) {\n",
       "        const wrapper = document.createElement(\"div\");\n",
       "        wrapper.style.overflow = \"auto\";\n",
       "        wrapper.style.height = \"5em\";\n",
       "        wrapper.style.resize = \"vertical\";\n",
       "        const content = document.createElement(\"div\");\n",
       "        content.style.fontFamily = \"monospace\";\n",
       "        content.style.whiteSpace = \"pre-wrap\";\n",
       "        content.style.backgroundColor = \"rgb(255, 221, 221)\";\n",
       "        content.textContent = error.stack ?? error.toString();\n",
       "        wrapper.append(content);\n",
       "        el.append(wrapper);\n",
       "      }\n",
       "    } else if (Date.now() < root._bokeh_timeout) {\n",
       "      setTimeout(() => display_loaded(error), 100);\n",
       "    }\n",
       "  }\n",
       "\n",
       "  function run_callbacks() {\n",
       "    try {\n",
       "      root._bokeh_onload_callbacks.forEach(function(callback) {\n",
       "        if (callback != null)\n",
       "          callback();\n",
       "      });\n",
       "    } finally {\n",
       "      delete root._bokeh_onload_callbacks\n",
       "    }\n",
       "    console.debug(\"Bokeh: all callbacks have finished\");\n",
       "  }\n",
       "\n",
       "  function load_libs(css_urls, js_urls, callback) {\n",
       "    if (css_urls == null) css_urls = [];\n",
       "    if (js_urls == null) js_urls = [];\n",
       "\n",
       "    root._bokeh_onload_callbacks.push(callback);\n",
       "    if (root._bokeh_is_loading > 0) {\n",
       "      console.debug(\"Bokeh: BokehJS is being loaded, scheduling callback at\", now());\n",
       "      return null;\n",
       "    }\n",
       "    if (js_urls == null || js_urls.length === 0) {\n",
       "      run_callbacks();\n",
       "      return null;\n",
       "    }\n",
       "    console.debug(\"Bokeh: BokehJS not loaded, scheduling load and callback at\", now());\n",
       "    root._bokeh_is_loading = css_urls.length + js_urls.length;\n",
       "\n",
       "    function on_load() {\n",
       "      root._bokeh_is_loading--;\n",
       "      if (root._bokeh_is_loading === 0) {\n",
       "        console.debug(\"Bokeh: all BokehJS libraries/stylesheets loaded\");\n",
       "        run_callbacks()\n",
       "      }\n",
       "    }\n",
       "\n",
       "    function on_error(url) {\n",
       "      console.error(\"failed to load \" + url);\n",
       "    }\n",
       "\n",
       "    for (let i = 0; i < css_urls.length; i++) {\n",
       "      const url = css_urls[i];\n",
       "      const element = document.createElement(\"link\");\n",
       "      element.onload = on_load;\n",
       "      element.onerror = on_error.bind(null, url);\n",
       "      element.rel = \"stylesheet\";\n",
       "      element.type = \"text/css\";\n",
       "      element.href = url;\n",
       "      console.debug(\"Bokeh: injecting link tag for BokehJS stylesheet: \", url);\n",
       "      document.body.appendChild(element);\n",
       "    }\n",
       "\n",
       "    for (let i = 0; i < js_urls.length; i++) {\n",
       "      const url = js_urls[i];\n",
       "      const element = document.createElement('script');\n",
       "      element.onload = on_load;\n",
       "      element.onerror = on_error.bind(null, url);\n",
       "      element.async = false;\n",
       "      element.src = url;\n",
       "      console.debug(\"Bokeh: injecting script tag for BokehJS library: \", url);\n",
       "      document.head.appendChild(element);\n",
       "    }\n",
       "  };\n",
       "\n",
       "  function inject_raw_css(css) {\n",
       "    const element = document.createElement(\"style\");\n",
       "    element.appendChild(document.createTextNode(css));\n",
       "    document.body.appendChild(element);\n",
       "  }\n",
       "\n",
       "  const js_urls = [\"https://cdn.bokeh.org/bokeh/release/bokeh-3.7.0.min.js\", \"https://cdn.bokeh.org/bokeh/release/bokeh-gl-3.7.0.min.js\", \"https://cdn.bokeh.org/bokeh/release/bokeh-widgets-3.7.0.min.js\", \"https://cdn.bokeh.org/bokeh/release/bokeh-tables-3.7.0.min.js\", \"https://cdn.bokeh.org/bokeh/release/bokeh-mathjax-3.7.0.min.js\"];\n",
       "  const css_urls = [];\n",
       "\n",
       "  const inline_js = [    function(Bokeh) {\n",
       "      Bokeh.set_log_level(\"info\");\n",
       "    },\n",
       "function(Bokeh) {\n",
       "    }\n",
       "  ];\n",
       "\n",
       "  function run_inline_js() {\n",
       "    if (root.Bokeh !== undefined || force === true) {\n",
       "      try {\n",
       "            for (let i = 0; i < inline_js.length; i++) {\n",
       "      inline_js[i].call(root, root.Bokeh);\n",
       "    }\n",
       "\n",
       "      } catch (error) {throw error;\n",
       "      }} else if (Date.now() < root._bokeh_timeout) {\n",
       "      setTimeout(run_inline_js, 100);\n",
       "    } else if (!root._bokeh_failed_load) {\n",
       "      console.log(\"Bokeh: BokehJS failed to load within specified timeout.\");\n",
       "      root._bokeh_failed_load = true;\n",
       "    } else if (force !== true) {\n",
       "      const cell = $(document.getElementById(null)).parents('.cell').data().cell;\n",
       "      cell.output_area.append_execute_result(NB_LOAD_WARNING)\n",
       "    }\n",
       "  }\n",
       "\n",
       "  if (root._bokeh_is_loading === 0) {\n",
       "    console.debug(\"Bokeh: BokehJS loaded, going straight to plotting\");\n",
       "    run_inline_js();\n",
       "  } else {\n",
       "    load_libs(css_urls, js_urls, function() {\n",
       "      console.debug(\"Bokeh: BokehJS plotting callback run at\", now());\n",
       "      run_inline_js();\n",
       "    });\n",
       "  }\n",
       "}(window));"
      ],
      "application/vnd.bokehjs_load.v0+json": "'use strict';\n(function(root) {\n  function now() {\n    return new Date();\n  }\n\n  const force = true;\n\n  if (typeof root._bokeh_onload_callbacks === \"undefined\" || force === true) {\n    root._bokeh_onload_callbacks = [];\n    root._bokeh_is_loading = undefined;\n  }\n\n\n  if (typeof (root._bokeh_timeout) === \"undefined\" || force === true) {\n    root._bokeh_timeout = Date.now() + 5000;\n    root._bokeh_failed_load = false;\n  }\n\n  const NB_LOAD_WARNING = {'data': {'text/html':\n     \"<div style='background-color: #fdd'>\\n\"+\n     \"<p>\\n\"+\n     \"BokehJS does not appear to have successfully loaded. If loading BokehJS from CDN, this \\n\"+\n     \"may be due to a slow or bad network connection. Possible fixes:\\n\"+\n     \"</p>\\n\"+\n     \"<ul>\\n\"+\n     \"<li>re-rerun `output_notebook()` to attempt to load from CDN again, or</li>\\n\"+\n     \"<li>use INLINE resources instead, as so:</li>\\n\"+\n     \"</ul>\\n\"+\n     \"<code>\\n\"+\n     \"from bokeh.resources import INLINE\\n\"+\n     \"output_notebook(resources=INLINE)\\n\"+\n     \"</code>\\n\"+\n     \"</div>\"}};\n\n  function display_loaded(error = null) {\n    const el = document.getElementById(null);\n    if (el != null) {\n      const html = (() => {\n        if (typeof root.Bokeh === \"undefined\") {\n          if (error == null) {\n            return \"BokehJS is loading ...\";\n          } else {\n            return \"BokehJS failed to load.\";\n          }\n        } else {\n          const prefix = `BokehJS ${root.Bokeh.version}`;\n          if (error == null) {\n            return `${prefix} successfully loaded.`;\n          } else {\n            return `${prefix} <b>encountered errors</b> while loading and may not function as expected.`;\n          }\n        }\n      })();\n      el.innerHTML = html;\n\n      if (error != null) {\n        const wrapper = document.createElement(\"div\");\n        wrapper.style.overflow = \"auto\";\n        wrapper.style.height = \"5em\";\n        wrapper.style.resize = \"vertical\";\n        const content = document.createElement(\"div\");\n        content.style.fontFamily = \"monospace\";\n        content.style.whiteSpace = \"pre-wrap\";\n        content.style.backgroundColor = \"rgb(255, 221, 221)\";\n        content.textContent = error.stack ?? error.toString();\n        wrapper.append(content);\n        el.append(wrapper);\n      }\n    } else if (Date.now() < root._bokeh_timeout) {\n      setTimeout(() => display_loaded(error), 100);\n    }\n  }\n\n  function run_callbacks() {\n    try {\n      root._bokeh_onload_callbacks.forEach(function(callback) {\n        if (callback != null)\n          callback();\n      });\n    } finally {\n      delete root._bokeh_onload_callbacks\n    }\n    console.debug(\"Bokeh: all callbacks have finished\");\n  }\n\n  function load_libs(css_urls, js_urls, callback) {\n    if (css_urls == null) css_urls = [];\n    if (js_urls == null) js_urls = [];\n\n    root._bokeh_onload_callbacks.push(callback);\n    if (root._bokeh_is_loading > 0) {\n      console.debug(\"Bokeh: BokehJS is being loaded, scheduling callback at\", now());\n      return null;\n    }\n    if (js_urls == null || js_urls.length === 0) {\n      run_callbacks();\n      return null;\n    }\n    console.debug(\"Bokeh: BokehJS not loaded, scheduling load and callback at\", now());\n    root._bokeh_is_loading = css_urls.length + js_urls.length;\n\n    function on_load() {\n      root._bokeh_is_loading--;\n      if (root._bokeh_is_loading === 0) {\n        console.debug(\"Bokeh: all BokehJS libraries/stylesheets loaded\");\n        run_callbacks()\n      }\n    }\n\n    function on_error(url) {\n      console.error(\"failed to load \" + url);\n    }\n\n    for (let i = 0; i < css_urls.length; i++) {\n      const url = css_urls[i];\n      const element = document.createElement(\"link\");\n      element.onload = on_load;\n      element.onerror = on_error.bind(null, url);\n      element.rel = \"stylesheet\";\n      element.type = \"text/css\";\n      element.href = url;\n      console.debug(\"Bokeh: injecting link tag for BokehJS stylesheet: \", url);\n      document.body.appendChild(element);\n    }\n\n    for (let i = 0; i < js_urls.length; i++) {\n      const url = js_urls[i];\n      const element = document.createElement('script');\n      element.onload = on_load;\n      element.onerror = on_error.bind(null, url);\n      element.async = false;\n      element.src = url;\n      console.debug(\"Bokeh: injecting script tag for BokehJS library: \", url);\n      document.head.appendChild(element);\n    }\n  };\n\n  function inject_raw_css(css) {\n    const element = document.createElement(\"style\");\n    element.appendChild(document.createTextNode(css));\n    document.body.appendChild(element);\n  }\n\n  const js_urls = [\"https://cdn.bokeh.org/bokeh/release/bokeh-3.7.0.min.js\", \"https://cdn.bokeh.org/bokeh/release/bokeh-gl-3.7.0.min.js\", \"https://cdn.bokeh.org/bokeh/release/bokeh-widgets-3.7.0.min.js\", \"https://cdn.bokeh.org/bokeh/release/bokeh-tables-3.7.0.min.js\", \"https://cdn.bokeh.org/bokeh/release/bokeh-mathjax-3.7.0.min.js\"];\n  const css_urls = [];\n\n  const inline_js = [    function(Bokeh) {\n      Bokeh.set_log_level(\"info\");\n    },\nfunction(Bokeh) {\n    }\n  ];\n\n  function run_inline_js() {\n    if (root.Bokeh !== undefined || force === true) {\n      try {\n            for (let i = 0; i < inline_js.length; i++) {\n      inline_js[i].call(root, root.Bokeh);\n    }\n\n      } catch (error) {throw error;\n      }} else if (Date.now() < root._bokeh_timeout) {\n      setTimeout(run_inline_js, 100);\n    } else if (!root._bokeh_failed_load) {\n      console.log(\"Bokeh: BokehJS failed to load within specified timeout.\");\n      root._bokeh_failed_load = true;\n    } else if (force !== true) {\n      const cell = $(document.getElementById(null)).parents('.cell').data().cell;\n      cell.output_area.append_execute_result(NB_LOAD_WARNING)\n    }\n  }\n\n  if (root._bokeh_is_loading === 0) {\n    console.debug(\"Bokeh: BokehJS loaded, going straight to plotting\");\n    run_inline_js();\n  } else {\n    load_libs(css_urls, js_urls, function() {\n      console.debug(\"Bokeh: BokehJS plotting callback run at\", now());\n      run_inline_js();\n    });\n  }\n}(window));"
     },
     "metadata": {},
     "output_type": "display_data"
    },
    {
     "data": {
      "text/html": [
       "\n",
       "            <table class=\"malariagen-ag3\">\n",
       "                <thead>\n",
       "                    <tr>\n",
       "                        <th style=\"text-align: left\" colspan=\"2\">MalariaGEN Ag3 API client</th>\n",
       "                    </tr>\n",
       "                    <tr><td colspan=\"2\" style=\"text-align: left\">\n",
       "                        Please note that data are subject to terms of use,\n",
       "                        for more information see <a href=\"https://www.malariagen.net/data\">\n",
       "                        the MalariaGEN website</a> or contact support@malariagen.net.\n",
       "                        See also the <a href=\"https://malariagen.github.io/malariagen-data-python/v15.0.1/Ag3.html\">Ag3 API docs</a>.\n",
       "                    </td></tr>\n",
       "                </thead>\n",
       "                <tbody>\n",
       "                    <tr>\n",
       "                        <th style=\"text-align: left\">\n",
       "                            Storage URL\n",
       "                        </th>\n",
       "                        <td>gs://vo_agam_release_master_us_central1</td>\n",
       "                    </tr>\n",
       "                    <tr>\n",
       "                        <th style=\"text-align: left\">\n",
       "                            Data releases available\n",
       "                        </th>\n",
       "                        <td>3.0, 3.1, 3.2, 3.3, 3.4, 3.5, 3.6, 3.7, 3.8, 3.9, 3.10, 3.11, 3.12, 3.13, 3.14</td>\n",
       "                    </tr>\n",
       "                    <tr>\n",
       "                        <th style=\"text-align: left\">\n",
       "                            Results cache\n",
       "                        </th>\n",
       "                        <td>None</td>\n",
       "                    </tr>\n",
       "                    <tr>\n",
       "                        <th style=\"text-align: left\">\n",
       "                            Cohorts analysis\n",
       "                        </th>\n",
       "                        <td>20250502</td>\n",
       "                    </tr>\n",
       "                    <tr>\n",
       "                        <th style=\"text-align: left\">\n",
       "                            AIM analysis\n",
       "                        </th>\n",
       "                        <td>20220528</td>\n",
       "                    </tr>\n",
       "                    <tr>\n",
       "                        <th style=\"text-align: left\">\n",
       "                            Site filters analysis\n",
       "                        </th>\n",
       "                        <td>dt_20200416</td>\n",
       "                    </tr>\n",
       "                    <tr>\n",
       "                        <th style=\"text-align: left\">\n",
       "                            Software version\n",
       "                        </th>\n",
       "                        <td>malariagen_data 15.0.1</td>\n",
       "                    </tr>\n",
       "                    <tr>\n",
       "                        <th style=\"text-align: left\">\n",
       "                            Client location\n",
       "                        </th>\n",
       "                        <td>Iowa, United States (Google Cloud us-central1)</td>\n",
       "                    </tr>\n",
       "                </tbody>\n",
       "            </table>\n",
       "        "
      ],
      "text/plain": [
       "<MalariaGEN Ag3 API client>\n",
       "Storage URL             : gs://vo_agam_release_master_us_central1\n",
       "Data releases available : 3.0, 3.1, 3.2, 3.3, 3.4, 3.5, 3.6, 3.7, 3.8, 3.9, 3.10, 3.11, 3.12, 3.13, 3.14\n",
       "Results cache           : None\n",
       "Cohorts analysis        : 20250502\n",
       "AIM analysis            : 20220528\n",
       "Site filters analysis   : dt_20200416\n",
       "Software version        : malariagen_data 15.0.1\n",
       "Client location         : Iowa, United States (Google Cloud us-central1)\n",
       "---\n",
       "Please note that data are subject to terms of use,\n",
       "for more information see https://www.malariagen.net/data\n",
       "or contact support@malariagen.net. For API documentation see \n",
       "https://malariagen.github.io/malariagen-data-python/v15.0.1/Ag3.html"
      ]
     },
     "execution_count": 6,
     "metadata": {},
     "output_type": "execute_result"
    }
   ],
   "source": [
    "ag3 = malariagen_data.Ag3()\n",
    "ag3"
   ]
  },
  {
   "cell_type": "markdown",
   "id": "924b164f-afb1-427c-a603-29e9e4367cb5",
   "metadata": {
    "id": "sLDdj5XEQx39",
    "tags": []
   },
   "source": [
    "Above we can see some information about how access to *Anopheles gambiae* genomic data from MalariaGEN has been configured. This tells us where the data are stored (the \"gs\" stands for Google Cloud Storage), which data releases are available to analyse (Ag3.0, Ag3.1, ...) and what the default analyses are for cohorts, species and site filters. We can also see that we are using version 15.0.1 of the `malariagen_data` Python package."
   ]
  },
  {
   "cell_type": "markdown",
   "id": "47658aba-7df2-4327-a4ca-d72066d278d7",
   "metadata": {
    "id": "v42xQSre2CWE"
   },
   "source": [
    "## Summarising copy number variation by gene\n",
    "\n",
    "For surveillance analyses, it can be convenient to summarise the copy number data for each individual by gene. This allows us to ask questions like, for some metabolic resistance gene of interest, does a given mosquito have any copy number variation at that gene? \n",
    "\n",
    "We've seen in the previous module how the copy number variation data is calculated in 300 base pair windows over the genome, but in general genes are larger than 300 base pairs and so will span multiple windows. So how do we summarise the windowed copy number data by gene? \n",
    "\n",
    "One way to do this is to compute some kind of average over all the windows overlapping a given gene of interest. Because copy number state is a discrete variable, we typically prefer to do this by computing the modal copy number for windows overlapping a gene. \n",
    "\n",
    "The diagram below shows the windowed copy number for a single mosquito for the region of the genome spanning several metabolic resistance genes. We illustrate how the summarisation is done to compute modal copy number by gene."
   ]
  },
  {
   "cell_type": "markdown",
   "id": "cce63fc4-3e0b-4182-8faa-a175fe37509a",
   "metadata": {
    "tags": [
     "remove-input"
    ]
   },
   "source": [
    "<img width=\"80%\" height=\"80%\" src=\"https://github.com/anopheles-genomic-surveillance/anopheles-genomic-surveillance.github.io/blob/master/src/img/workshop-2/w2m4-1.png?raw=1\" />"
   ]
  },
  {
   "cell_type": "markdown",
   "id": "907dd0ee-92ba-41c4-849a-725d18465542",
   "metadata": {
    "id": "46uDR6c5SWI6"
   },
   "source": [
    "## Computing gene CNV frequencies\n",
    "\n",
    "Now that we know how to summarise the data by gene, the next step is to then summarise these data over multiple individual mosquitoes, so that we can estimate the fraction of mosquitoes from a given time, place and species that carry some form of copy number variation at a given gene of interest. This is ultimately what we are interested in, because we would like to know if metabolic resistance is at low or high frequency and whether this varies over time or between geographical locations or species. \n",
    "\n",
    "Because copy number variation is more complex than single nucleotide polymorphism, we compute the frequency of CNVs in a simplified way. We compute the fraction of individuals that carry some kind of copy number variation at a given gene, ignoring whether the individual was heterozygous or homozygous for that CNV, and also ignoring the number of additional copies that may be present. We also divide this into two types of CNV - amplification and deletion. So, for example, we compute the fraction of individuals which have an amplification at some gene; and similarly we compute the fraction with some deletion. Although generally we're more interested in amplification, because amplification of metabolic resistance genes can cause increased insecticide resistance.\n",
    "\n",
    "The diagram below illustrates this simple calculation of amplification and deletion frequencies for some genes of interest."
   ]
  },
  {
   "cell_type": "markdown",
   "id": "248e7da2-bb43-4b81-a8d2-5622f1025b83",
   "metadata": {
    "colab": {
     "base_uri": "https://localhost:8080/",
     "height": 621
    },
    "id": "hv7oK0HfV7ri",
    "outputId": "418d650a-8e7d-4fb5-ebb9-f47f897d0793",
    "tags": [
     "remove-input"
    ]
   },
   "source": [
    "<img width=\"81%\" height=\"81%\" src=\"https://github.com/anopheles-genomic-surveillance/anopheles-genomic-surveillance.github.io/blob/master/src/img/workshop-2/w2m4-2.png?raw=1\" />"
   ]
  },
  {
   "cell_type": "markdown",
   "id": "0cb529a5-195f-4573-b194-06b1c478a5bb",
   "metadata": {
    "id": "OQDnEKtm7o-O"
   },
   "source": [
    "Let's now compute gene CNV frequencies. To do this we can use the [`gene_cnv_frequencies()`](https://malariagen.github.io/malariagen-data-python/latest/generated/malariagen_data.ag3.Ag3.gene_cnv_frequencies.html#malariagen_data.ag3.Ag3.gene_cnv_frequencies) function.\n",
    "\n",
    "We can look at the documentation for this function by using \"?\"."
   ]
  },
  {
   "cell_type": "code",
   "execution_count": 10,
   "id": "a8d7373f-767b-47b7-8487-18bf6eccfadc",
   "metadata": {
    "tags": [
     "remove-output"
    ]
   },
   "outputs": [
    {
     "data": {
      "text/plain": [
       "\u001b[31mSignature:\u001b[39m\n",
       "ag3.gene_cnv_frequencies(\n",
       "    region: Union[str, malariagen_data.util.Region, Mapping, List[Union[str, malariagen_data.util.Region, Mapping]], Tuple[Union[str, malariagen_data.util.Region, Mapping], ...]],\n",
       "    cohorts: Union[str, Mapping[str, str]],\n",
       "    sample_query: Optional[str] = \u001b[38;5;28;01mNone\u001b[39;00m,\n",
       "    sample_query_options: Optional[dict] = \u001b[38;5;28;01mNone\u001b[39;00m,\n",
       "    min_cohort_size: int = \u001b[32m10\u001b[39m,\n",
       "    max_coverage_variance: Optional[float] = \u001b[32m0.2\u001b[39m,\n",
       "    sample_sets: Union[str, Sequence[str], NoneType] = \u001b[38;5;28;01mNone\u001b[39;00m,\n",
       "    drop_invariant: bool = \u001b[38;5;28;01mTrue\u001b[39;00m,\n",
       "    include_counts: bool = \u001b[38;5;28;01mFalse\u001b[39;00m,\n",
       "    chunks: Union[int, str, Tuple[Union[int, str], ...], Callable[[Tuple[int, ...]], Union[int, str, Tuple[Union[int, str], ...]]]] = \u001b[33m'native'\u001b[39m,\n",
       "    inline_array: bool = \u001b[38;5;28;01mTrue\u001b[39;00m,\n",
       ") -> pandas.core.frame.DataFrame\n",
       "\u001b[31mDocstring:\u001b[39m\n",
       "Compute modal copy number by gene, then compute the frequency of\n",
       "amplifications and deletions in one or more cohorts, from HMM data.\n",
       "\n",
       "Parameters\n",
       "----------\n",
       "region : str or Region or Mapping or list of str or Region or Mapping or tuple of str or Region or Mapping\n",
       "    Region of the reference genome. Can be a contig name, region string\n",
       "    (formatted like \"{contig}:{start}-{end}\"), or identifier of a genome\n",
       "    feature such as a gene or transcript. Can also be a sequence (e.g.,\n",
       "    list) of regions.\n",
       "cohorts : str or Mapping[str, str]\n",
       "    Either a string giving the name of a predefined cohort set (e.g.,\n",
       "    \"admin1_month\") or a dict mapping custom cohort labels to sample\n",
       "    queries.\n",
       "sample_query : str or None, optional\n",
       "    A pandas query string to be evaluated against the sample metadata, to\n",
       "    select samples to be included in the returned data.\n",
       "sample_query_options : dict or None, optional\n",
       "    A dictionary of arguments that will be passed through to pandas\n",
       "    query() or eval(), e.g. parser, engine, local_dict, global_dict,\n",
       "    resolvers.\n",
       "min_cohort_size : int, optional, default: 10\n",
       "    Minimum cohort size. Raise an error if the number of samples is less\n",
       "    than this value.\n",
       "max_coverage_variance : float or None, optional, default: 0.2\n",
       "    Remove samples if coverage variance exceeds this value.\n",
       "sample_sets : sequence of str or str or None, optional\n",
       "    List of sample sets and/or releases. Can also be a single sample set\n",
       "    or release.\n",
       "drop_invariant : bool, optional, default: True\n",
       "    If True, drop variants not observed in the selected samples.\n",
       "include_counts : bool, optional, default: False\n",
       "    Include columns with allele counts and number of non-missing allele\n",
       "    calls (nobs).\n",
       "chunks : int or str or tuple of int or str or Callable[[typing.Tuple[int, ...]], int or str or tuple of int or str], optional, default: 'native'\n",
       "    Define how input data being read from zarr should be divided into\n",
       "    chunks for a dask computation. If 'native', use underlying zarr\n",
       "    chunks. If a string specifying a target memory size, e.g., '300 MiB',\n",
       "    resize chunks in arrays with more than one dimension to match this\n",
       "    size. If 'auto', let dask decide chunk size.  If 'ndauto', let dask\n",
       "    decide chunk size but only for arrays with more than one dimension. If\n",
       "    'ndauto0', as 'ndauto' but only vary the first chunk dimension. If\n",
       "    'ndauto1', as 'ndauto' but only vary the second chunk dimension. If\n",
       "    'ndauto01', as 'ndauto' but only vary the first and second chunk\n",
       "    dimensions. Also, can be a tuple of integers, or a callable which\n",
       "    accepts the native chunks as a single argument and returns a valid\n",
       "    dask chunks value.\n",
       "inline_array : bool, optional, default: True\n",
       "    Passed through to dask `from_array()`.\n",
       "\n",
       "Returns\n",
       "-------\n",
       "DataFrame\n",
       "    A dataframe of CNV amplification (amp) and deletion (del)\n",
       "    frequencies in the specified cohorts, one row per gene and CNV type\n",
       "    (amp/del).\n",
       "\u001b[31mFile:\u001b[39m      /home/conda/developer/55fe7ffdc8f19782d8fa1d5de44c1f26cc58e5a472146c0c30061f0238bc3185-20250317-170017-682536-85-training-nb-maintenance-mgen-15.0.1/lib/python3.11/site-packages/malariagen_data/anoph/cnv_frq.py\n",
       "\u001b[31mType:\u001b[39m      method"
      ]
     },
     "metadata": {},
     "output_type": "display_data"
    }
   ],
   "source": [
    "ag3.gene_cnv_frequencies?"
   ]
  },
  {
   "cell_type": "markdown",
   "id": "e81c0026-32d9-43b8-9b22-30470e71ca7e",
   "metadata": {
    "id": "icRiiynV60nu"
   },
   "source": [
    "The documentation shows us that there are two required parameters for this function. The `region` parameter is the genomic region that we want to analyse, and the `cohorts` parameter determines how samples are to be grouped into cohorts.\n",
    "\n",
    "Let's initially analyse all genes in the *Cyp6aa/p* cluster on chromosome arm 2R, which starts around position 28,450,000 and ends at around position 28,510,000."
   ]
  },
  {
   "cell_type": "code",
   "execution_count": 11,
   "id": "c47332f4-ca8a-4db2-9ceb-f92359a24772",
   "metadata": {},
   "outputs": [],
   "source": [
    "cyp6aap_region = \"2R:28,480,000-28,510,000\""
   ]
  },
  {
   "cell_type": "markdown",
   "id": "2db26dca-a0f1-4c5b-bb3d-ae36c9214fda",
   "metadata": {
    "id": "1roHKUz2CFy2"
   },
   "source": [
    "There are different ways to group our mosquitoes in to cohorts (more on this later) but for this analysis we'll group spatially by level 1 administrative divisions within countries, and temporally by year."
   ]
  },
  {
   "cell_type": "code",
   "execution_count": 12,
   "id": "1718197b-177c-4bef-870c-5def3afb920c",
   "metadata": {},
   "outputs": [],
   "source": [
    "cohorts = \"admin1_year\""
   ]
  },
  {
   "cell_type": "markdown",
   "id": "342e8f28-32a9-4eb5-98e6-e2405cf06797",
   "metadata": {
    "id": "O0nCC6JJEnsG"
   },
   "source": [
    "Were also going to use one of the optional parameters, `sample_sets`, to analyse just a subset the data.\n",
    "\n",
    "Let's have a look at what sample sets are available in the Ag3.0 data resource."
   ]
  },
  {
   "cell_type": "code",
   "execution_count": 13,
   "id": "a2be89f6-f8bd-488e-8e95-d2322c07cabf",
   "metadata": {},
   "outputs": [
    {
     "data": {
      "text/html": [
       "<div>\n",
       "<style scoped>\n",
       "    .dataframe tbody tr th:only-of-type {\n",
       "        vertical-align: middle;\n",
       "    }\n",
       "\n",
       "    .dataframe tbody tr th {\n",
       "        vertical-align: top;\n",
       "    }\n",
       "\n",
       "    .dataframe thead th {\n",
       "        text-align: right;\n",
       "    }\n",
       "</style>\n",
       "<table border=\"1\" class=\"dataframe\">\n",
       "  <thead>\n",
       "    <tr style=\"text-align: right;\">\n",
       "      <th></th>\n",
       "      <th>sample_set</th>\n",
       "      <th>sample_count</th>\n",
       "      <th>study_id</th>\n",
       "    </tr>\n",
       "  </thead>\n",
       "  <tbody>\n",
       "    <tr>\n",
       "      <th>0</th>\n",
       "      <td>AG1000G-AO</td>\n",
       "      <td>81</td>\n",
       "      <td>AG1000G-AO</td>\n",
       "    </tr>\n",
       "    <tr>\n",
       "      <th>1</th>\n",
       "      <td>AG1000G-BF-A</td>\n",
       "      <td>181</td>\n",
       "      <td>AG1000G-BF-1</td>\n",
       "    </tr>\n",
       "    <tr>\n",
       "      <th>2</th>\n",
       "      <td>AG1000G-BF-B</td>\n",
       "      <td>102</td>\n",
       "      <td>AG1000G-BF-1</td>\n",
       "    </tr>\n",
       "    <tr>\n",
       "      <th>3</th>\n",
       "      <td>AG1000G-BF-C</td>\n",
       "      <td>13</td>\n",
       "      <td>AG1000G-BF-2</td>\n",
       "    </tr>\n",
       "    <tr>\n",
       "      <th>4</th>\n",
       "      <td>AG1000G-CD</td>\n",
       "      <td>76</td>\n",
       "      <td>AG1000G-CD</td>\n",
       "    </tr>\n",
       "    <tr>\n",
       "      <th>5</th>\n",
       "      <td>AG1000G-CF</td>\n",
       "      <td>73</td>\n",
       "      <td>AG1000G-CF</td>\n",
       "    </tr>\n",
       "    <tr>\n",
       "      <th>6</th>\n",
       "      <td>AG1000G-CI</td>\n",
       "      <td>80</td>\n",
       "      <td>AG1000G-CI</td>\n",
       "    </tr>\n",
       "    <tr>\n",
       "      <th>7</th>\n",
       "      <td>AG1000G-CM-A</td>\n",
       "      <td>303</td>\n",
       "      <td>AG1000G-CM-1</td>\n",
       "    </tr>\n",
       "    <tr>\n",
       "      <th>8</th>\n",
       "      <td>AG1000G-CM-B</td>\n",
       "      <td>97</td>\n",
       "      <td>AG1000G-CM-2</td>\n",
       "    </tr>\n",
       "    <tr>\n",
       "      <th>9</th>\n",
       "      <td>AG1000G-CM-C</td>\n",
       "      <td>44</td>\n",
       "      <td>AG1000G-CM-3</td>\n",
       "    </tr>\n",
       "    <tr>\n",
       "      <th>10</th>\n",
       "      <td>AG1000G-FR</td>\n",
       "      <td>23</td>\n",
       "      <td>AG1000G-FR</td>\n",
       "    </tr>\n",
       "    <tr>\n",
       "      <th>11</th>\n",
       "      <td>AG1000G-GA-A</td>\n",
       "      <td>69</td>\n",
       "      <td>AG1000G-GA-1</td>\n",
       "    </tr>\n",
       "    <tr>\n",
       "      <th>12</th>\n",
       "      <td>AG1000G-GH</td>\n",
       "      <td>100</td>\n",
       "      <td>AG1000G-GH</td>\n",
       "    </tr>\n",
       "    <tr>\n",
       "      <th>13</th>\n",
       "      <td>AG1000G-GM-A</td>\n",
       "      <td>74</td>\n",
       "      <td>AG1000G-GM-1</td>\n",
       "    </tr>\n",
       "    <tr>\n",
       "      <th>14</th>\n",
       "      <td>AG1000G-GM-B</td>\n",
       "      <td>31</td>\n",
       "      <td>AG1000G-GM-2</td>\n",
       "    </tr>\n",
       "    <tr>\n",
       "      <th>15</th>\n",
       "      <td>AG1000G-GM-C</td>\n",
       "      <td>174</td>\n",
       "      <td>AG1000G-GM-3</td>\n",
       "    </tr>\n",
       "    <tr>\n",
       "      <th>16</th>\n",
       "      <td>AG1000G-GN-A</td>\n",
       "      <td>45</td>\n",
       "      <td>AG1000G-GN-ML</td>\n",
       "    </tr>\n",
       "    <tr>\n",
       "      <th>17</th>\n",
       "      <td>AG1000G-GN-B</td>\n",
       "      <td>185</td>\n",
       "      <td>AG1000G-GN-ML</td>\n",
       "    </tr>\n",
       "    <tr>\n",
       "      <th>18</th>\n",
       "      <td>AG1000G-GQ</td>\n",
       "      <td>10</td>\n",
       "      <td>AG1000G-GQ</td>\n",
       "    </tr>\n",
       "    <tr>\n",
       "      <th>19</th>\n",
       "      <td>AG1000G-GW</td>\n",
       "      <td>101</td>\n",
       "      <td>AG1000G-GW</td>\n",
       "    </tr>\n",
       "    <tr>\n",
       "      <th>20</th>\n",
       "      <td>AG1000G-KE</td>\n",
       "      <td>86</td>\n",
       "      <td>AG1000G-KE</td>\n",
       "    </tr>\n",
       "    <tr>\n",
       "      <th>21</th>\n",
       "      <td>AG1000G-ML-A</td>\n",
       "      <td>60</td>\n",
       "      <td>AG1000G-ML-1</td>\n",
       "    </tr>\n",
       "    <tr>\n",
       "      <th>22</th>\n",
       "      <td>AG1000G-ML-B</td>\n",
       "      <td>71</td>\n",
       "      <td>AG1000G-ML-2</td>\n",
       "    </tr>\n",
       "    <tr>\n",
       "      <th>23</th>\n",
       "      <td>AG1000G-MW</td>\n",
       "      <td>41</td>\n",
       "      <td>AG1000G-MW</td>\n",
       "    </tr>\n",
       "    <tr>\n",
       "      <th>24</th>\n",
       "      <td>AG1000G-MZ</td>\n",
       "      <td>74</td>\n",
       "      <td>AG1000G-MZ</td>\n",
       "    </tr>\n",
       "    <tr>\n",
       "      <th>25</th>\n",
       "      <td>AG1000G-TZ</td>\n",
       "      <td>300</td>\n",
       "      <td>AG1000G-TZ</td>\n",
       "    </tr>\n",
       "    <tr>\n",
       "      <th>26</th>\n",
       "      <td>AG1000G-UG</td>\n",
       "      <td>290</td>\n",
       "      <td>AG1000G-UG</td>\n",
       "    </tr>\n",
       "    <tr>\n",
       "      <th>27</th>\n",
       "      <td>AG1000G-X</td>\n",
       "      <td>669</td>\n",
       "      <td>AG1000G-X</td>\n",
       "    </tr>\n",
       "  </tbody>\n",
       "</table>\n",
       "</div>"
      ],
      "text/plain": [
       "      sample_set  sample_count       study_id\n",
       "0     AG1000G-AO            81     AG1000G-AO\n",
       "1   AG1000G-BF-A           181   AG1000G-BF-1\n",
       "2   AG1000G-BF-B           102   AG1000G-BF-1\n",
       "3   AG1000G-BF-C            13   AG1000G-BF-2\n",
       "4     AG1000G-CD            76     AG1000G-CD\n",
       "5     AG1000G-CF            73     AG1000G-CF\n",
       "6     AG1000G-CI            80     AG1000G-CI\n",
       "7   AG1000G-CM-A           303   AG1000G-CM-1\n",
       "8   AG1000G-CM-B            97   AG1000G-CM-2\n",
       "9   AG1000G-CM-C            44   AG1000G-CM-3\n",
       "10    AG1000G-FR            23     AG1000G-FR\n",
       "11  AG1000G-GA-A            69   AG1000G-GA-1\n",
       "12    AG1000G-GH           100     AG1000G-GH\n",
       "13  AG1000G-GM-A            74   AG1000G-GM-1\n",
       "14  AG1000G-GM-B            31   AG1000G-GM-2\n",
       "15  AG1000G-GM-C           174   AG1000G-GM-3\n",
       "16  AG1000G-GN-A            45  AG1000G-GN-ML\n",
       "17  AG1000G-GN-B           185  AG1000G-GN-ML\n",
       "18    AG1000G-GQ            10     AG1000G-GQ\n",
       "19    AG1000G-GW           101     AG1000G-GW\n",
       "20    AG1000G-KE            86     AG1000G-KE\n",
       "21  AG1000G-ML-A            60   AG1000G-ML-1\n",
       "22  AG1000G-ML-B            71   AG1000G-ML-2\n",
       "23    AG1000G-MW            41     AG1000G-MW\n",
       "24    AG1000G-MZ            74     AG1000G-MZ\n",
       "25    AG1000G-TZ           300     AG1000G-TZ\n",
       "26    AG1000G-UG           290     AG1000G-UG\n",
       "27     AG1000G-X           669      AG1000G-X"
      ]
     },
     "execution_count": 13,
     "metadata": {},
     "output_type": "execute_result"
    }
   ],
   "source": [
    "ag3.sample_sets(release='3.0')[['sample_set','sample_count','study_id']]"
   ]
  },
  {
   "cell_type": "markdown",
   "id": "81700cb5-07b8-4e93-8822-1cb9bdac9e54",
   "metadata": {
    "id": "UxNhyDj2Geo6"
   },
   "source": [
    "To keep things simple, for this module we'll focus on mosquitoes from Burkina Faso. There are three sample sets in the Ag3.0 resource providing data on mosquitoes from Burkina Faso."
   ]
  },
  {
   "cell_type": "code",
   "execution_count": 14,
   "id": "30b3f46e-aad5-4562-9c29-081b9f8a74e6",
   "metadata": {},
   "outputs": [],
   "source": [
    "sample_sets = [\"AG1000G-BF-A\", \"AG1000G-BF-B\", \"AG1000G-BF-C\"]"
   ]
  },
  {
   "cell_type": "markdown",
   "id": "eeb4ca2f-ebac-4160-a92e-953a0242a018",
   "metadata": {
    "id": "qx2kHJ-4LBpS"
   },
   "source": [
    "Now we're ready to run the analysis."
   ]
  },
  {
   "cell_type": "code",
   "execution_count": 15,
   "id": "55a49d5a-50f2-4388-bcee-4c0df65810b2",
   "metadata": {},
   "outputs": [
    {
     "data": {
      "text/html": [
       "<div>\n",
       "<style scoped>\n",
       "    .dataframe tbody tr th:only-of-type {\n",
       "        vertical-align: middle;\n",
       "    }\n",
       "\n",
       "    .dataframe tbody tr th {\n",
       "        vertical-align: top;\n",
       "    }\n",
       "\n",
       "    .dataframe thead th {\n",
       "        text-align: right;\n",
       "    }\n",
       "</style>\n",
       "<table border=\"1\" class=\"dataframe\">\n",
       "  <thead>\n",
       "    <tr style=\"text-align: right;\">\n",
       "      <th></th>\n",
       "      <th></th>\n",
       "      <th></th>\n",
       "      <th>gene_strand</th>\n",
       "      <th>gene_description</th>\n",
       "      <th>contig</th>\n",
       "      <th>start</th>\n",
       "      <th>end</th>\n",
       "      <th>frq_BF-07_gamb_2004</th>\n",
       "      <th>frq_BF-09_colu_2012</th>\n",
       "      <th>frq_BF-09_colu_2014</th>\n",
       "      <th>frq_BF-09_gamb_2012</th>\n",
       "      <th>frq_BF-09_gamb_2014</th>\n",
       "      <th>max_af</th>\n",
       "      <th>windows</th>\n",
       "      <th>label</th>\n",
       "    </tr>\n",
       "    <tr>\n",
       "      <th>gene_id</th>\n",
       "      <th>gene_name</th>\n",
       "      <th>cnv_type</th>\n",
       "      <th></th>\n",
       "      <th></th>\n",
       "      <th></th>\n",
       "      <th></th>\n",
       "      <th></th>\n",
       "      <th></th>\n",
       "      <th></th>\n",
       "      <th></th>\n",
       "      <th></th>\n",
       "      <th></th>\n",
       "      <th></th>\n",
       "      <th></th>\n",
       "      <th></th>\n",
       "    </tr>\n",
       "  </thead>\n",
       "  <tbody>\n",
       "    <tr>\n",
       "      <th rowspan=\"2\" valign=\"top\">AGAP002859</th>\n",
       "      <th rowspan=\"2\" valign=\"top\">NaN</th>\n",
       "      <th>amp</th>\n",
       "      <td>+</td>\n",
       "      <td>solute carrier family 8 (sodium/calcium exchan...</td>\n",
       "      <td>2R</td>\n",
       "      <td>28397312</td>\n",
       "      <td>28516028</td>\n",
       "      <td>0.0</td>\n",
       "      <td>0.0000</td>\n",
       "      <td>0.000000</td>\n",
       "      <td>0.000000</td>\n",
       "      <td>0.000000</td>\n",
       "      <td>0.000000</td>\n",
       "      <td>397</td>\n",
       "      <td>AGAP002859 amp</td>\n",
       "    </tr>\n",
       "    <tr>\n",
       "      <th>del</th>\n",
       "      <td>+</td>\n",
       "      <td>solute carrier family 8 (sodium/calcium exchan...</td>\n",
       "      <td>2R</td>\n",
       "      <td>28397312</td>\n",
       "      <td>28516028</td>\n",
       "      <td>0.0</td>\n",
       "      <td>0.0000</td>\n",
       "      <td>0.000000</td>\n",
       "      <td>0.000000</td>\n",
       "      <td>0.000000</td>\n",
       "      <td>0.000000</td>\n",
       "      <td>397</td>\n",
       "      <td>AGAP002859 del</td>\n",
       "    </tr>\n",
       "    <tr>\n",
       "      <th rowspan=\"2\" valign=\"top\">AGAP002862</th>\n",
       "      <th rowspan=\"2\" valign=\"top\">CYP6AA1</th>\n",
       "      <th>amp</th>\n",
       "      <td>-</td>\n",
       "      <td>cytochrome P450 [Source:VB Community Annotation]</td>\n",
       "      <td>2R</td>\n",
       "      <td>28480576</td>\n",
       "      <td>28482637</td>\n",
       "      <td>0.0</td>\n",
       "      <td>0.9125</td>\n",
       "      <td>0.811321</td>\n",
       "      <td>0.040816</td>\n",
       "      <td>0.065217</td>\n",
       "      <td>0.912500</td>\n",
       "      <td>8</td>\n",
       "      <td>AGAP002862 (CYP6AA1) amp</td>\n",
       "    </tr>\n",
       "    <tr>\n",
       "      <th>del</th>\n",
       "      <td>-</td>\n",
       "      <td>cytochrome P450 [Source:VB Community Annotation]</td>\n",
       "      <td>2R</td>\n",
       "      <td>28480576</td>\n",
       "      <td>28482637</td>\n",
       "      <td>0.0</td>\n",
       "      <td>0.0000</td>\n",
       "      <td>0.000000</td>\n",
       "      <td>0.000000</td>\n",
       "      <td>0.000000</td>\n",
       "      <td>0.000000</td>\n",
       "      <td>8</td>\n",
       "      <td>AGAP002862 (CYP6AA1) del</td>\n",
       "    </tr>\n",
       "    <tr>\n",
       "      <th rowspan=\"2\" valign=\"top\">AGAP013128</th>\n",
       "      <th rowspan=\"2\" valign=\"top\">CYP6AA2</th>\n",
       "      <th>amp</th>\n",
       "      <td>-</td>\n",
       "      <td>cytochrome P450 [Source:VB Community Annotation]</td>\n",
       "      <td>2R</td>\n",
       "      <td>28483301</td>\n",
       "      <td>28484921</td>\n",
       "      <td>0.0</td>\n",
       "      <td>0.8250</td>\n",
       "      <td>0.792453</td>\n",
       "      <td>0.040816</td>\n",
       "      <td>0.065217</td>\n",
       "      <td>0.825000</td>\n",
       "      <td>6</td>\n",
       "      <td>AGAP013128 (CYP6AA2) amp</td>\n",
       "    </tr>\n",
       "    <tr>\n",
       "      <th>del</th>\n",
       "      <td>-</td>\n",
       "      <td>cytochrome P450 [Source:VB Community Annotation]</td>\n",
       "      <td>2R</td>\n",
       "      <td>28483301</td>\n",
       "      <td>28484921</td>\n",
       "      <td>0.0</td>\n",
       "      <td>0.0000</td>\n",
       "      <td>0.000000</td>\n",
       "      <td>0.000000</td>\n",
       "      <td>0.000000</td>\n",
       "      <td>0.000000</td>\n",
       "      <td>6</td>\n",
       "      <td>AGAP013128 (CYP6AA2) del</td>\n",
       "    </tr>\n",
       "    <tr>\n",
       "      <th rowspan=\"2\" valign=\"top\">AGAP002863</th>\n",
       "      <th rowspan=\"2\" valign=\"top\">COEAE6O</th>\n",
       "      <th>amp</th>\n",
       "      <td>-</td>\n",
       "      <td>carboxylesterase alpha esterase [Source:VB Com...</td>\n",
       "      <td>2R</td>\n",
       "      <td>28485262</td>\n",
       "      <td>28487080</td>\n",
       "      <td>0.0</td>\n",
       "      <td>0.6000</td>\n",
       "      <td>0.509434</td>\n",
       "      <td>0.010204</td>\n",
       "      <td>0.021739</td>\n",
       "      <td>0.600000</td>\n",
       "      <td>7</td>\n",
       "      <td>AGAP002863 (COEAE6O) amp</td>\n",
       "    </tr>\n",
       "    <tr>\n",
       "      <th>del</th>\n",
       "      <td>-</td>\n",
       "      <td>carboxylesterase alpha esterase [Source:VB Com...</td>\n",
       "      <td>2R</td>\n",
       "      <td>28485262</td>\n",
       "      <td>28487080</td>\n",
       "      <td>0.0</td>\n",
       "      <td>0.0000</td>\n",
       "      <td>0.000000</td>\n",
       "      <td>0.000000</td>\n",
       "      <td>0.000000</td>\n",
       "      <td>0.000000</td>\n",
       "      <td>7</td>\n",
       "      <td>AGAP002863 (COEAE6O) del</td>\n",
       "    </tr>\n",
       "    <tr>\n",
       "      <th rowspan=\"2\" valign=\"top\">AGAP002864</th>\n",
       "      <th rowspan=\"2\" valign=\"top\">CYP6P15P</th>\n",
       "      <th>amp</th>\n",
       "      <td>-</td>\n",
       "      <td>cytochrome P450 [Source:VB Community Annotation]</td>\n",
       "      <td>2R</td>\n",
       "      <td>28487640</td>\n",
       "      <td>28489092</td>\n",
       "      <td>0.0</td>\n",
       "      <td>0.5250</td>\n",
       "      <td>0.528302</td>\n",
       "      <td>0.010204</td>\n",
       "      <td>0.021739</td>\n",
       "      <td>0.528302</td>\n",
       "      <td>6</td>\n",
       "      <td>AGAP002864 (CYP6P15P) amp</td>\n",
       "    </tr>\n",
       "    <tr>\n",
       "      <th>del</th>\n",
       "      <td>-</td>\n",
       "      <td>cytochrome P450 [Source:VB Community Annotation]</td>\n",
       "      <td>2R</td>\n",
       "      <td>28487640</td>\n",
       "      <td>28489092</td>\n",
       "      <td>0.0</td>\n",
       "      <td>0.0000</td>\n",
       "      <td>0.000000</td>\n",
       "      <td>0.000000</td>\n",
       "      <td>0.000000</td>\n",
       "      <td>0.000000</td>\n",
       "      <td>6</td>\n",
       "      <td>AGAP002864 (CYP6P15P) del</td>\n",
       "    </tr>\n",
       "    <tr>\n",
       "      <th rowspan=\"2\" valign=\"top\">AGAP002865</th>\n",
       "      <th rowspan=\"2\" valign=\"top\">CYP6P3</th>\n",
       "      <th>amp</th>\n",
       "      <td>-</td>\n",
       "      <td>cytochrome P450 [Source:VB Community Annotation]</td>\n",
       "      <td>2R</td>\n",
       "      <td>28491415</td>\n",
       "      <td>28493141</td>\n",
       "      <td>0.0</td>\n",
       "      <td>0.0375</td>\n",
       "      <td>0.075472</td>\n",
       "      <td>0.010204</td>\n",
       "      <td>0.021739</td>\n",
       "      <td>0.075472</td>\n",
       "      <td>7</td>\n",
       "      <td>AGAP002865 (CYP6P3) amp</td>\n",
       "    </tr>\n",
       "    <tr>\n",
       "      <th>del</th>\n",
       "      <td>-</td>\n",
       "      <td>cytochrome P450 [Source:VB Community Annotation]</td>\n",
       "      <td>2R</td>\n",
       "      <td>28491415</td>\n",
       "      <td>28493141</td>\n",
       "      <td>0.0</td>\n",
       "      <td>0.0000</td>\n",
       "      <td>0.000000</td>\n",
       "      <td>0.112245</td>\n",
       "      <td>0.000000</td>\n",
       "      <td>0.112245</td>\n",
       "      <td>7</td>\n",
       "      <td>AGAP002865 (CYP6P3) del</td>\n",
       "    </tr>\n",
       "    <tr>\n",
       "      <th rowspan=\"2\" valign=\"top\">AGAP002866</th>\n",
       "      <th rowspan=\"2\" valign=\"top\">CYP6P5</th>\n",
       "      <th>amp</th>\n",
       "      <td>-</td>\n",
       "      <td>cytochrome P450 [Source:VB Community Annotation]</td>\n",
       "      <td>2R</td>\n",
       "      <td>28494017</td>\n",
       "      <td>28495645</td>\n",
       "      <td>0.0</td>\n",
       "      <td>0.0375</td>\n",
       "      <td>0.056604</td>\n",
       "      <td>0.020408</td>\n",
       "      <td>0.021739</td>\n",
       "      <td>0.056604</td>\n",
       "      <td>6</td>\n",
       "      <td>AGAP002866 (CYP6P5) amp</td>\n",
       "    </tr>\n",
       "    <tr>\n",
       "      <th>del</th>\n",
       "      <td>-</td>\n",
       "      <td>cytochrome P450 [Source:VB Community Annotation]</td>\n",
       "      <td>2R</td>\n",
       "      <td>28494017</td>\n",
       "      <td>28495645</td>\n",
       "      <td>0.0</td>\n",
       "      <td>0.0000</td>\n",
       "      <td>0.000000</td>\n",
       "      <td>0.000000</td>\n",
       "      <td>0.000000</td>\n",
       "      <td>0.000000</td>\n",
       "      <td>6</td>\n",
       "      <td>AGAP002866 (CYP6P5) del</td>\n",
       "    </tr>\n",
       "    <tr>\n",
       "      <th rowspan=\"2\" valign=\"top\">AGAP002867</th>\n",
       "      <th rowspan=\"2\" valign=\"top\">CYP6P4</th>\n",
       "      <th>amp</th>\n",
       "      <td>-</td>\n",
       "      <td>cytochrome P450 [Source:VB Community Annotation]</td>\n",
       "      <td>2R</td>\n",
       "      <td>28497087</td>\n",
       "      <td>28498674</td>\n",
       "      <td>0.0</td>\n",
       "      <td>0.0375</td>\n",
       "      <td>0.075472</td>\n",
       "      <td>0.010204</td>\n",
       "      <td>0.021739</td>\n",
       "      <td>0.075472</td>\n",
       "      <td>6</td>\n",
       "      <td>AGAP002867 (CYP6P4) amp</td>\n",
       "    </tr>\n",
       "    <tr>\n",
       "      <th>del</th>\n",
       "      <td>-</td>\n",
       "      <td>cytochrome P450 [Source:VB Community Annotation]</td>\n",
       "      <td>2R</td>\n",
       "      <td>28497087</td>\n",
       "      <td>28498674</td>\n",
       "      <td>0.0</td>\n",
       "      <td>0.0000</td>\n",
       "      <td>0.000000</td>\n",
       "      <td>0.000000</td>\n",
       "      <td>0.000000</td>\n",
       "      <td>0.000000</td>\n",
       "      <td>6</td>\n",
       "      <td>AGAP002867 (CYP6P4) del</td>\n",
       "    </tr>\n",
       "    <tr>\n",
       "      <th rowspan=\"2\" valign=\"top\">AGAP002868</th>\n",
       "      <th rowspan=\"2\" valign=\"top\">CYP6P1</th>\n",
       "      <th>amp</th>\n",
       "      <td>-</td>\n",
       "      <td>cytochrome P450 [Source:VB Community Annotation]</td>\n",
       "      <td>2R</td>\n",
       "      <td>28499251</td>\n",
       "      <td>28500900</td>\n",
       "      <td>0.0</td>\n",
       "      <td>0.0375</td>\n",
       "      <td>0.056604</td>\n",
       "      <td>0.010204</td>\n",
       "      <td>0.021739</td>\n",
       "      <td>0.056604</td>\n",
       "      <td>6</td>\n",
       "      <td>AGAP002868 (CYP6P1) amp</td>\n",
       "    </tr>\n",
       "    <tr>\n",
       "      <th>del</th>\n",
       "      <td>-</td>\n",
       "      <td>cytochrome P450 [Source:VB Community Annotation]</td>\n",
       "      <td>2R</td>\n",
       "      <td>28499251</td>\n",
       "      <td>28500900</td>\n",
       "      <td>0.0</td>\n",
       "      <td>0.0000</td>\n",
       "      <td>0.000000</td>\n",
       "      <td>0.000000</td>\n",
       "      <td>0.000000</td>\n",
       "      <td>0.000000</td>\n",
       "      <td>6</td>\n",
       "      <td>AGAP002868 (CYP6P1) del</td>\n",
       "    </tr>\n",
       "    <tr>\n",
       "      <th rowspan=\"2\" valign=\"top\">AGAP002869</th>\n",
       "      <th rowspan=\"2\" valign=\"top\">CYP6P2</th>\n",
       "      <th>amp</th>\n",
       "      <td>-</td>\n",
       "      <td>cytochrome P450 [Source:VB Community Annotation]</td>\n",
       "      <td>2R</td>\n",
       "      <td>28501033</td>\n",
       "      <td>28502910</td>\n",
       "      <td>0.0</td>\n",
       "      <td>0.0375</td>\n",
       "      <td>0.056604</td>\n",
       "      <td>0.010204</td>\n",
       "      <td>0.021739</td>\n",
       "      <td>0.056604</td>\n",
       "      <td>7</td>\n",
       "      <td>AGAP002869 (CYP6P2) amp</td>\n",
       "    </tr>\n",
       "    <tr>\n",
       "      <th>del</th>\n",
       "      <td>-</td>\n",
       "      <td>cytochrome P450 [Source:VB Community Annotation]</td>\n",
       "      <td>2R</td>\n",
       "      <td>28501033</td>\n",
       "      <td>28502910</td>\n",
       "      <td>0.0</td>\n",
       "      <td>0.0000</td>\n",
       "      <td>0.000000</td>\n",
       "      <td>0.000000</td>\n",
       "      <td>0.000000</td>\n",
       "      <td>0.000000</td>\n",
       "      <td>7</td>\n",
       "      <td>AGAP002869 (CYP6P2) del</td>\n",
       "    </tr>\n",
       "    <tr>\n",
       "      <th rowspan=\"2\" valign=\"top\">AGAP002870</th>\n",
       "      <th rowspan=\"2\" valign=\"top\">CYP6AD1</th>\n",
       "      <th>amp</th>\n",
       "      <td>-</td>\n",
       "      <td>cytochrome P450 [Source:VB Community Annotation]</td>\n",
       "      <td>2R</td>\n",
       "      <td>28504248</td>\n",
       "      <td>28505816</td>\n",
       "      <td>0.0</td>\n",
       "      <td>0.0375</td>\n",
       "      <td>0.056604</td>\n",
       "      <td>0.010204</td>\n",
       "      <td>0.021739</td>\n",
       "      <td>0.056604</td>\n",
       "      <td>6</td>\n",
       "      <td>AGAP002870 (CYP6AD1) amp</td>\n",
       "    </tr>\n",
       "    <tr>\n",
       "      <th>del</th>\n",
       "      <td>-</td>\n",
       "      <td>cytochrome P450 [Source:VB Community Annotation]</td>\n",
       "      <td>2R</td>\n",
       "      <td>28504248</td>\n",
       "      <td>28505816</td>\n",
       "      <td>0.0</td>\n",
       "      <td>0.0000</td>\n",
       "      <td>0.000000</td>\n",
       "      <td>0.000000</td>\n",
       "      <td>0.000000</td>\n",
       "      <td>0.000000</td>\n",
       "      <td>6</td>\n",
       "      <td>AGAP002870 (CYP6AD1) del</td>\n",
       "    </tr>\n",
       "  </tbody>\n",
       "</table>\n",
       "</div>"
      ],
      "text/plain": [
       "                              gene_strand  \\\n",
       "gene_id    gene_name cnv_type               \n",
       "AGAP002859 NaN       amp                +   \n",
       "                     del                +   \n",
       "AGAP002862 CYP6AA1   amp                -   \n",
       "                     del                -   \n",
       "AGAP013128 CYP6AA2   amp                -   \n",
       "                     del                -   \n",
       "AGAP002863 COEAE6O   amp                -   \n",
       "                     del                -   \n",
       "AGAP002864 CYP6P15P  amp                -   \n",
       "                     del                -   \n",
       "AGAP002865 CYP6P3    amp                -   \n",
       "                     del                -   \n",
       "AGAP002866 CYP6P5    amp                -   \n",
       "                     del                -   \n",
       "AGAP002867 CYP6P4    amp                -   \n",
       "                     del                -   \n",
       "AGAP002868 CYP6P1    amp                -   \n",
       "                     del                -   \n",
       "AGAP002869 CYP6P2    amp                -   \n",
       "                     del                -   \n",
       "AGAP002870 CYP6AD1   amp                -   \n",
       "                     del                -   \n",
       "\n",
       "                                                                gene_description  \\\n",
       "gene_id    gene_name cnv_type                                                      \n",
       "AGAP002859 NaN       amp       solute carrier family 8 (sodium/calcium exchan...   \n",
       "                     del       solute carrier family 8 (sodium/calcium exchan...   \n",
       "AGAP002862 CYP6AA1   amp        cytochrome P450 [Source:VB Community Annotation]   \n",
       "                     del        cytochrome P450 [Source:VB Community Annotation]   \n",
       "AGAP013128 CYP6AA2   amp        cytochrome P450 [Source:VB Community Annotation]   \n",
       "                     del        cytochrome P450 [Source:VB Community Annotation]   \n",
       "AGAP002863 COEAE6O   amp       carboxylesterase alpha esterase [Source:VB Com...   \n",
       "                     del       carboxylesterase alpha esterase [Source:VB Com...   \n",
       "AGAP002864 CYP6P15P  amp        cytochrome P450 [Source:VB Community Annotation]   \n",
       "                     del        cytochrome P450 [Source:VB Community Annotation]   \n",
       "AGAP002865 CYP6P3    amp        cytochrome P450 [Source:VB Community Annotation]   \n",
       "                     del        cytochrome P450 [Source:VB Community Annotation]   \n",
       "AGAP002866 CYP6P5    amp        cytochrome P450 [Source:VB Community Annotation]   \n",
       "                     del        cytochrome P450 [Source:VB Community Annotation]   \n",
       "AGAP002867 CYP6P4    amp        cytochrome P450 [Source:VB Community Annotation]   \n",
       "                     del        cytochrome P450 [Source:VB Community Annotation]   \n",
       "AGAP002868 CYP6P1    amp        cytochrome P450 [Source:VB Community Annotation]   \n",
       "                     del        cytochrome P450 [Source:VB Community Annotation]   \n",
       "AGAP002869 CYP6P2    amp        cytochrome P450 [Source:VB Community Annotation]   \n",
       "                     del        cytochrome P450 [Source:VB Community Annotation]   \n",
       "AGAP002870 CYP6AD1   amp        cytochrome P450 [Source:VB Community Annotation]   \n",
       "                     del        cytochrome P450 [Source:VB Community Annotation]   \n",
       "\n",
       "                              contig     start       end  frq_BF-07_gamb_2004  \\\n",
       "gene_id    gene_name cnv_type                                                   \n",
       "AGAP002859 NaN       amp          2R  28397312  28516028                  0.0   \n",
       "                     del          2R  28397312  28516028                  0.0   \n",
       "AGAP002862 CYP6AA1   amp          2R  28480576  28482637                  0.0   \n",
       "                     del          2R  28480576  28482637                  0.0   \n",
       "AGAP013128 CYP6AA2   amp          2R  28483301  28484921                  0.0   \n",
       "                     del          2R  28483301  28484921                  0.0   \n",
       "AGAP002863 COEAE6O   amp          2R  28485262  28487080                  0.0   \n",
       "                     del          2R  28485262  28487080                  0.0   \n",
       "AGAP002864 CYP6P15P  amp          2R  28487640  28489092                  0.0   \n",
       "                     del          2R  28487640  28489092                  0.0   \n",
       "AGAP002865 CYP6P3    amp          2R  28491415  28493141                  0.0   \n",
       "                     del          2R  28491415  28493141                  0.0   \n",
       "AGAP002866 CYP6P5    amp          2R  28494017  28495645                  0.0   \n",
       "                     del          2R  28494017  28495645                  0.0   \n",
       "AGAP002867 CYP6P4    amp          2R  28497087  28498674                  0.0   \n",
       "                     del          2R  28497087  28498674                  0.0   \n",
       "AGAP002868 CYP6P1    amp          2R  28499251  28500900                  0.0   \n",
       "                     del          2R  28499251  28500900                  0.0   \n",
       "AGAP002869 CYP6P2    amp          2R  28501033  28502910                  0.0   \n",
       "                     del          2R  28501033  28502910                  0.0   \n",
       "AGAP002870 CYP6AD1   amp          2R  28504248  28505816                  0.0   \n",
       "                     del          2R  28504248  28505816                  0.0   \n",
       "\n",
       "                               frq_BF-09_colu_2012  frq_BF-09_colu_2014  \\\n",
       "gene_id    gene_name cnv_type                                             \n",
       "AGAP002859 NaN       amp                    0.0000             0.000000   \n",
       "                     del                    0.0000             0.000000   \n",
       "AGAP002862 CYP6AA1   amp                    0.9125             0.811321   \n",
       "                     del                    0.0000             0.000000   \n",
       "AGAP013128 CYP6AA2   amp                    0.8250             0.792453   \n",
       "                     del                    0.0000             0.000000   \n",
       "AGAP002863 COEAE6O   amp                    0.6000             0.509434   \n",
       "                     del                    0.0000             0.000000   \n",
       "AGAP002864 CYP6P15P  amp                    0.5250             0.528302   \n",
       "                     del                    0.0000             0.000000   \n",
       "AGAP002865 CYP6P3    amp                    0.0375             0.075472   \n",
       "                     del                    0.0000             0.000000   \n",
       "AGAP002866 CYP6P5    amp                    0.0375             0.056604   \n",
       "                     del                    0.0000             0.000000   \n",
       "AGAP002867 CYP6P4    amp                    0.0375             0.075472   \n",
       "                     del                    0.0000             0.000000   \n",
       "AGAP002868 CYP6P1    amp                    0.0375             0.056604   \n",
       "                     del                    0.0000             0.000000   \n",
       "AGAP002869 CYP6P2    amp                    0.0375             0.056604   \n",
       "                     del                    0.0000             0.000000   \n",
       "AGAP002870 CYP6AD1   amp                    0.0375             0.056604   \n",
       "                     del                    0.0000             0.000000   \n",
       "\n",
       "                               frq_BF-09_gamb_2012  frq_BF-09_gamb_2014  \\\n",
       "gene_id    gene_name cnv_type                                             \n",
       "AGAP002859 NaN       amp                  0.000000             0.000000   \n",
       "                     del                  0.000000             0.000000   \n",
       "AGAP002862 CYP6AA1   amp                  0.040816             0.065217   \n",
       "                     del                  0.000000             0.000000   \n",
       "AGAP013128 CYP6AA2   amp                  0.040816             0.065217   \n",
       "                     del                  0.000000             0.000000   \n",
       "AGAP002863 COEAE6O   amp                  0.010204             0.021739   \n",
       "                     del                  0.000000             0.000000   \n",
       "AGAP002864 CYP6P15P  amp                  0.010204             0.021739   \n",
       "                     del                  0.000000             0.000000   \n",
       "AGAP002865 CYP6P3    amp                  0.010204             0.021739   \n",
       "                     del                  0.112245             0.000000   \n",
       "AGAP002866 CYP6P5    amp                  0.020408             0.021739   \n",
       "                     del                  0.000000             0.000000   \n",
       "AGAP002867 CYP6P4    amp                  0.010204             0.021739   \n",
       "                     del                  0.000000             0.000000   \n",
       "AGAP002868 CYP6P1    amp                  0.010204             0.021739   \n",
       "                     del                  0.000000             0.000000   \n",
       "AGAP002869 CYP6P2    amp                  0.010204             0.021739   \n",
       "                     del                  0.000000             0.000000   \n",
       "AGAP002870 CYP6AD1   amp                  0.010204             0.021739   \n",
       "                     del                  0.000000             0.000000   \n",
       "\n",
       "                                 max_af  windows                      label  \n",
       "gene_id    gene_name cnv_type                                                \n",
       "AGAP002859 NaN       amp       0.000000      397             AGAP002859 amp  \n",
       "                     del       0.000000      397             AGAP002859 del  \n",
       "AGAP002862 CYP6AA1   amp       0.912500        8   AGAP002862 (CYP6AA1) amp  \n",
       "                     del       0.000000        8   AGAP002862 (CYP6AA1) del  \n",
       "AGAP013128 CYP6AA2   amp       0.825000        6   AGAP013128 (CYP6AA2) amp  \n",
       "                     del       0.000000        6   AGAP013128 (CYP6AA2) del  \n",
       "AGAP002863 COEAE6O   amp       0.600000        7   AGAP002863 (COEAE6O) amp  \n",
       "                     del       0.000000        7   AGAP002863 (COEAE6O) del  \n",
       "AGAP002864 CYP6P15P  amp       0.528302        6  AGAP002864 (CYP6P15P) amp  \n",
       "                     del       0.000000        6  AGAP002864 (CYP6P15P) del  \n",
       "AGAP002865 CYP6P3    amp       0.075472        7    AGAP002865 (CYP6P3) amp  \n",
       "                     del       0.112245        7    AGAP002865 (CYP6P3) del  \n",
       "AGAP002866 CYP6P5    amp       0.056604        6    AGAP002866 (CYP6P5) amp  \n",
       "                     del       0.000000        6    AGAP002866 (CYP6P5) del  \n",
       "AGAP002867 CYP6P4    amp       0.075472        6    AGAP002867 (CYP6P4) amp  \n",
       "                     del       0.000000        6    AGAP002867 (CYP6P4) del  \n",
       "AGAP002868 CYP6P1    amp       0.056604        6    AGAP002868 (CYP6P1) amp  \n",
       "                     del       0.000000        6    AGAP002868 (CYP6P1) del  \n",
       "AGAP002869 CYP6P2    amp       0.056604        7    AGAP002869 (CYP6P2) amp  \n",
       "                     del       0.000000        7    AGAP002869 (CYP6P2) del  \n",
       "AGAP002870 CYP6AD1   amp       0.056604        6   AGAP002870 (CYP6AD1) amp  \n",
       "                     del       0.000000        6   AGAP002870 (CYP6AD1) del  "
      ]
     },
     "execution_count": 15,
     "metadata": {},
     "output_type": "execute_result"
    }
   ],
   "source": [
    "burkina_cyp6aap_cnv_freqs_df = ag3.gene_cnv_frequencies(\n",
    "    region=cyp6aap_region,\n",
    "    cohorts=cohorts,\n",
    "    sample_sets=sample_sets,\n",
    "    drop_invariant=False,\n",
    ")\n",
    "burkina_cyp6aap_cnv_freqs_df"
   ]
  },
  {
   "cell_type": "markdown",
   "id": "56870489-7158-40c2-87e3-fb27df2b6830",
   "metadata": {
    "id": "59QbQyRz8Yym"
   },
   "source": [
    "The function outputs a pandas DataFrame, where rows represent gene CNVs. There are two rows for each gene, one representing an amplification (\"amp\" - increase in copy number), the other representing a deletion (\"del\" - decrease in copy number). There are 11 annotated genes on the chromosome arms we selected, so there are 2 times 11 = 22 rows in this dataframe. "
   ]
  },
  {
   "cell_type": "code",
   "execution_count": 16,
   "id": "cd2e19fa-d35a-4ebe-84c0-8bcc9cda54c8",
   "metadata": {},
   "outputs": [
    {
     "data": {
      "text/plain": [
       "22"
      ]
     },
     "execution_count": 16,
     "metadata": {},
     "output_type": "execute_result"
    }
   ],
   "source": [
    "len(burkina_cyp6aap_cnv_freqs_df)"
   ]
  },
  {
   "cell_type": "markdown",
   "id": "2d9f72dc-789e-4f5c-bf0c-57a46da1b5f9",
   "metadata": {
    "id": "59QbQyRz8Yym"
   },
   "source": [
    "Let's look at the columns that provide information about the genes."
   ]
  },
  {
   "cell_type": "code",
   "execution_count": 17,
   "id": "ce99b5f2-ea6b-4952-99e7-a1b44089bcf7",
   "metadata": {},
   "outputs": [
    {
     "data": {
      "text/html": [
       "<div>\n",
       "<style scoped>\n",
       "    .dataframe tbody tr th:only-of-type {\n",
       "        vertical-align: middle;\n",
       "    }\n",
       "\n",
       "    .dataframe tbody tr th {\n",
       "        vertical-align: top;\n",
       "    }\n",
       "\n",
       "    .dataframe thead th {\n",
       "        text-align: right;\n",
       "    }\n",
       "</style>\n",
       "<table border=\"1\" class=\"dataframe\">\n",
       "  <thead>\n",
       "    <tr style=\"text-align: right;\">\n",
       "      <th></th>\n",
       "      <th></th>\n",
       "      <th></th>\n",
       "      <th>gene_strand</th>\n",
       "      <th>gene_description</th>\n",
       "      <th>contig</th>\n",
       "      <th>start</th>\n",
       "      <th>end</th>\n",
       "    </tr>\n",
       "    <tr>\n",
       "      <th>gene_id</th>\n",
       "      <th>gene_name</th>\n",
       "      <th>cnv_type</th>\n",
       "      <th></th>\n",
       "      <th></th>\n",
       "      <th></th>\n",
       "      <th></th>\n",
       "      <th></th>\n",
       "    </tr>\n",
       "  </thead>\n",
       "  <tbody>\n",
       "    <tr>\n",
       "      <th rowspan=\"2\" valign=\"top\">AGAP002859</th>\n",
       "      <th rowspan=\"2\" valign=\"top\">NaN</th>\n",
       "      <th>amp</th>\n",
       "      <td>+</td>\n",
       "      <td>solute carrier family 8 (sodium/calcium exchan...</td>\n",
       "      <td>2R</td>\n",
       "      <td>28397312</td>\n",
       "      <td>28516028</td>\n",
       "    </tr>\n",
       "    <tr>\n",
       "      <th>del</th>\n",
       "      <td>+</td>\n",
       "      <td>solute carrier family 8 (sodium/calcium exchan...</td>\n",
       "      <td>2R</td>\n",
       "      <td>28397312</td>\n",
       "      <td>28516028</td>\n",
       "    </tr>\n",
       "    <tr>\n",
       "      <th rowspan=\"2\" valign=\"top\">AGAP002862</th>\n",
       "      <th rowspan=\"2\" valign=\"top\">CYP6AA1</th>\n",
       "      <th>amp</th>\n",
       "      <td>-</td>\n",
       "      <td>cytochrome P450 [Source:VB Community Annotation]</td>\n",
       "      <td>2R</td>\n",
       "      <td>28480576</td>\n",
       "      <td>28482637</td>\n",
       "    </tr>\n",
       "    <tr>\n",
       "      <th>del</th>\n",
       "      <td>-</td>\n",
       "      <td>cytochrome P450 [Source:VB Community Annotation]</td>\n",
       "      <td>2R</td>\n",
       "      <td>28480576</td>\n",
       "      <td>28482637</td>\n",
       "    </tr>\n",
       "    <tr>\n",
       "      <th rowspan=\"2\" valign=\"top\">AGAP013128</th>\n",
       "      <th rowspan=\"2\" valign=\"top\">CYP6AA2</th>\n",
       "      <th>amp</th>\n",
       "      <td>-</td>\n",
       "      <td>cytochrome P450 [Source:VB Community Annotation]</td>\n",
       "      <td>2R</td>\n",
       "      <td>28483301</td>\n",
       "      <td>28484921</td>\n",
       "    </tr>\n",
       "    <tr>\n",
       "      <th>del</th>\n",
       "      <td>-</td>\n",
       "      <td>cytochrome P450 [Source:VB Community Annotation]</td>\n",
       "      <td>2R</td>\n",
       "      <td>28483301</td>\n",
       "      <td>28484921</td>\n",
       "    </tr>\n",
       "    <tr>\n",
       "      <th rowspan=\"2\" valign=\"top\">AGAP002863</th>\n",
       "      <th rowspan=\"2\" valign=\"top\">COEAE6O</th>\n",
       "      <th>amp</th>\n",
       "      <td>-</td>\n",
       "      <td>carboxylesterase alpha esterase [Source:VB Com...</td>\n",
       "      <td>2R</td>\n",
       "      <td>28485262</td>\n",
       "      <td>28487080</td>\n",
       "    </tr>\n",
       "    <tr>\n",
       "      <th>del</th>\n",
       "      <td>-</td>\n",
       "      <td>carboxylesterase alpha esterase [Source:VB Com...</td>\n",
       "      <td>2R</td>\n",
       "      <td>28485262</td>\n",
       "      <td>28487080</td>\n",
       "    </tr>\n",
       "    <tr>\n",
       "      <th rowspan=\"2\" valign=\"top\">AGAP002864</th>\n",
       "      <th rowspan=\"2\" valign=\"top\">CYP6P15P</th>\n",
       "      <th>amp</th>\n",
       "      <td>-</td>\n",
       "      <td>cytochrome P450 [Source:VB Community Annotation]</td>\n",
       "      <td>2R</td>\n",
       "      <td>28487640</td>\n",
       "      <td>28489092</td>\n",
       "    </tr>\n",
       "    <tr>\n",
       "      <th>del</th>\n",
       "      <td>-</td>\n",
       "      <td>cytochrome P450 [Source:VB Community Annotation]</td>\n",
       "      <td>2R</td>\n",
       "      <td>28487640</td>\n",
       "      <td>28489092</td>\n",
       "    </tr>\n",
       "    <tr>\n",
       "      <th rowspan=\"2\" valign=\"top\">AGAP002865</th>\n",
       "      <th rowspan=\"2\" valign=\"top\">CYP6P3</th>\n",
       "      <th>amp</th>\n",
       "      <td>-</td>\n",
       "      <td>cytochrome P450 [Source:VB Community Annotation]</td>\n",
       "      <td>2R</td>\n",
       "      <td>28491415</td>\n",
       "      <td>28493141</td>\n",
       "    </tr>\n",
       "    <tr>\n",
       "      <th>del</th>\n",
       "      <td>-</td>\n",
       "      <td>cytochrome P450 [Source:VB Community Annotation]</td>\n",
       "      <td>2R</td>\n",
       "      <td>28491415</td>\n",
       "      <td>28493141</td>\n",
       "    </tr>\n",
       "    <tr>\n",
       "      <th rowspan=\"2\" valign=\"top\">AGAP002866</th>\n",
       "      <th rowspan=\"2\" valign=\"top\">CYP6P5</th>\n",
       "      <th>amp</th>\n",
       "      <td>-</td>\n",
       "      <td>cytochrome P450 [Source:VB Community Annotation]</td>\n",
       "      <td>2R</td>\n",
       "      <td>28494017</td>\n",
       "      <td>28495645</td>\n",
       "    </tr>\n",
       "    <tr>\n",
       "      <th>del</th>\n",
       "      <td>-</td>\n",
       "      <td>cytochrome P450 [Source:VB Community Annotation]</td>\n",
       "      <td>2R</td>\n",
       "      <td>28494017</td>\n",
       "      <td>28495645</td>\n",
       "    </tr>\n",
       "    <tr>\n",
       "      <th rowspan=\"2\" valign=\"top\">AGAP002867</th>\n",
       "      <th rowspan=\"2\" valign=\"top\">CYP6P4</th>\n",
       "      <th>amp</th>\n",
       "      <td>-</td>\n",
       "      <td>cytochrome P450 [Source:VB Community Annotation]</td>\n",
       "      <td>2R</td>\n",
       "      <td>28497087</td>\n",
       "      <td>28498674</td>\n",
       "    </tr>\n",
       "    <tr>\n",
       "      <th>del</th>\n",
       "      <td>-</td>\n",
       "      <td>cytochrome P450 [Source:VB Community Annotation]</td>\n",
       "      <td>2R</td>\n",
       "      <td>28497087</td>\n",
       "      <td>28498674</td>\n",
       "    </tr>\n",
       "    <tr>\n",
       "      <th rowspan=\"2\" valign=\"top\">AGAP002868</th>\n",
       "      <th rowspan=\"2\" valign=\"top\">CYP6P1</th>\n",
       "      <th>amp</th>\n",
       "      <td>-</td>\n",
       "      <td>cytochrome P450 [Source:VB Community Annotation]</td>\n",
       "      <td>2R</td>\n",
       "      <td>28499251</td>\n",
       "      <td>28500900</td>\n",
       "    </tr>\n",
       "    <tr>\n",
       "      <th>del</th>\n",
       "      <td>-</td>\n",
       "      <td>cytochrome P450 [Source:VB Community Annotation]</td>\n",
       "      <td>2R</td>\n",
       "      <td>28499251</td>\n",
       "      <td>28500900</td>\n",
       "    </tr>\n",
       "    <tr>\n",
       "      <th rowspan=\"2\" valign=\"top\">AGAP002869</th>\n",
       "      <th rowspan=\"2\" valign=\"top\">CYP6P2</th>\n",
       "      <th>amp</th>\n",
       "      <td>-</td>\n",
       "      <td>cytochrome P450 [Source:VB Community Annotation]</td>\n",
       "      <td>2R</td>\n",
       "      <td>28501033</td>\n",
       "      <td>28502910</td>\n",
       "    </tr>\n",
       "    <tr>\n",
       "      <th>del</th>\n",
       "      <td>-</td>\n",
       "      <td>cytochrome P450 [Source:VB Community Annotation]</td>\n",
       "      <td>2R</td>\n",
       "      <td>28501033</td>\n",
       "      <td>28502910</td>\n",
       "    </tr>\n",
       "    <tr>\n",
       "      <th rowspan=\"2\" valign=\"top\">AGAP002870</th>\n",
       "      <th rowspan=\"2\" valign=\"top\">CYP6AD1</th>\n",
       "      <th>amp</th>\n",
       "      <td>-</td>\n",
       "      <td>cytochrome P450 [Source:VB Community Annotation]</td>\n",
       "      <td>2R</td>\n",
       "      <td>28504248</td>\n",
       "      <td>28505816</td>\n",
       "    </tr>\n",
       "    <tr>\n",
       "      <th>del</th>\n",
       "      <td>-</td>\n",
       "      <td>cytochrome P450 [Source:VB Community Annotation]</td>\n",
       "      <td>2R</td>\n",
       "      <td>28504248</td>\n",
       "      <td>28505816</td>\n",
       "    </tr>\n",
       "  </tbody>\n",
       "</table>\n",
       "</div>"
      ],
      "text/plain": [
       "                              gene_strand  \\\n",
       "gene_id    gene_name cnv_type               \n",
       "AGAP002859 NaN       amp                +   \n",
       "                     del                +   \n",
       "AGAP002862 CYP6AA1   amp                -   \n",
       "                     del                -   \n",
       "AGAP013128 CYP6AA2   amp                -   \n",
       "                     del                -   \n",
       "AGAP002863 COEAE6O   amp                -   \n",
       "                     del                -   \n",
       "AGAP002864 CYP6P15P  amp                -   \n",
       "                     del                -   \n",
       "AGAP002865 CYP6P3    amp                -   \n",
       "                     del                -   \n",
       "AGAP002866 CYP6P5    amp                -   \n",
       "                     del                -   \n",
       "AGAP002867 CYP6P4    amp                -   \n",
       "                     del                -   \n",
       "AGAP002868 CYP6P1    amp                -   \n",
       "                     del                -   \n",
       "AGAP002869 CYP6P2    amp                -   \n",
       "                     del                -   \n",
       "AGAP002870 CYP6AD1   amp                -   \n",
       "                     del                -   \n",
       "\n",
       "                                                                gene_description  \\\n",
       "gene_id    gene_name cnv_type                                                      \n",
       "AGAP002859 NaN       amp       solute carrier family 8 (sodium/calcium exchan...   \n",
       "                     del       solute carrier family 8 (sodium/calcium exchan...   \n",
       "AGAP002862 CYP6AA1   amp        cytochrome P450 [Source:VB Community Annotation]   \n",
       "                     del        cytochrome P450 [Source:VB Community Annotation]   \n",
       "AGAP013128 CYP6AA2   amp        cytochrome P450 [Source:VB Community Annotation]   \n",
       "                     del        cytochrome P450 [Source:VB Community Annotation]   \n",
       "AGAP002863 COEAE6O   amp       carboxylesterase alpha esterase [Source:VB Com...   \n",
       "                     del       carboxylesterase alpha esterase [Source:VB Com...   \n",
       "AGAP002864 CYP6P15P  amp        cytochrome P450 [Source:VB Community Annotation]   \n",
       "                     del        cytochrome P450 [Source:VB Community Annotation]   \n",
       "AGAP002865 CYP6P3    amp        cytochrome P450 [Source:VB Community Annotation]   \n",
       "                     del        cytochrome P450 [Source:VB Community Annotation]   \n",
       "AGAP002866 CYP6P5    amp        cytochrome P450 [Source:VB Community Annotation]   \n",
       "                     del        cytochrome P450 [Source:VB Community Annotation]   \n",
       "AGAP002867 CYP6P4    amp        cytochrome P450 [Source:VB Community Annotation]   \n",
       "                     del        cytochrome P450 [Source:VB Community Annotation]   \n",
       "AGAP002868 CYP6P1    amp        cytochrome P450 [Source:VB Community Annotation]   \n",
       "                     del        cytochrome P450 [Source:VB Community Annotation]   \n",
       "AGAP002869 CYP6P2    amp        cytochrome P450 [Source:VB Community Annotation]   \n",
       "                     del        cytochrome P450 [Source:VB Community Annotation]   \n",
       "AGAP002870 CYP6AD1   amp        cytochrome P450 [Source:VB Community Annotation]   \n",
       "                     del        cytochrome P450 [Source:VB Community Annotation]   \n",
       "\n",
       "                              contig     start       end  \n",
       "gene_id    gene_name cnv_type                             \n",
       "AGAP002859 NaN       amp          2R  28397312  28516028  \n",
       "                     del          2R  28397312  28516028  \n",
       "AGAP002862 CYP6AA1   amp          2R  28480576  28482637  \n",
       "                     del          2R  28480576  28482637  \n",
       "AGAP013128 CYP6AA2   amp          2R  28483301  28484921  \n",
       "                     del          2R  28483301  28484921  \n",
       "AGAP002863 COEAE6O   amp          2R  28485262  28487080  \n",
       "                     del          2R  28485262  28487080  \n",
       "AGAP002864 CYP6P15P  amp          2R  28487640  28489092  \n",
       "                     del          2R  28487640  28489092  \n",
       "AGAP002865 CYP6P3    amp          2R  28491415  28493141  \n",
       "                     del          2R  28491415  28493141  \n",
       "AGAP002866 CYP6P5    amp          2R  28494017  28495645  \n",
       "                     del          2R  28494017  28495645  \n",
       "AGAP002867 CYP6P4    amp          2R  28497087  28498674  \n",
       "                     del          2R  28497087  28498674  \n",
       "AGAP002868 CYP6P1    amp          2R  28499251  28500900  \n",
       "                     del          2R  28499251  28500900  \n",
       "AGAP002869 CYP6P2    amp          2R  28501033  28502910  \n",
       "                     del          2R  28501033  28502910  \n",
       "AGAP002870 CYP6AD1   amp          2R  28504248  28505816  \n",
       "                     del          2R  28504248  28505816  "
      ]
     },
     "execution_count": 17,
     "metadata": {},
     "output_type": "execute_result"
    }
   ],
   "source": [
    "burkina_cyp6aap_cnv_freqs_df[[\"gene_strand\", \"gene_description\", \"contig\", \"start\", \"end\"]]"
   ]
  },
  {
   "cell_type": "markdown",
   "id": "782e9fd7-8a97-4350-8ad0-06b421a18947",
   "metadata": {
    "id": "vICFUeR_8pYo",
    "tags": []
   },
   "source": [
    "## Reminder - cohorts\n",
    "\n",
    "When we want to analyse frequencies we first define cohorts, which are simply groups of mosquitoes that we have data for and which we take as representatives of a mosquito population from a given time, place and species. \n",
    "\n",
    "To define these cohorts we group mosquitoes according to these different variables, i.e., geographically, temporally and according to species (taxon). There are different options for doing this, depending on how fine-grained we want our analysis to be, and how many samples are available. \n",
    "\n",
    "When computing frequencies and choosing cohorts, we need to think about two factors:\n",
    "\n",
    "* **Cohort size** - The larger the cohort the lower the uncertainty and the more confident we can be that the frequency we calculate within the cohort is representative of the frequency in the population from which the cohort was sampled. By default, the functions that compute frequencies in the `malariagen_data` package require a minimum cohort size of 10 individuals.\n",
    "\n",
    "* **Heterogeneity** - If we group samples together from a wide geographical area, or from a long time period, we may be losing information about any smaller-scale variation.\n",
    "\n",
    "Often we have to make a compromise, and do the best we can with available data.\n",
    "\n",
    "In the example above, we provided the `cohorts=\"admin1_year\"` parameter, which means that samples will be grouped by species (taxon), administrative level 1 divisions, and year of collection. This gives us frequencies for five cohorts. Let's look at the cohort frequency columns.\n"
   ]
  },
  {
   "cell_type": "code",
   "execution_count": 18,
   "id": "d233e331-09b7-40ce-8172-284792d38e6b",
   "metadata": {},
   "outputs": [
    {
     "data": {
      "text/plain": [
       "['frq_BF-07_gamb_2004',\n",
       " 'frq_BF-09_colu_2012',\n",
       " 'frq_BF-09_colu_2014',\n",
       " 'frq_BF-09_gamb_2012',\n",
       " 'frq_BF-09_gamb_2014']"
      ]
     },
     "execution_count": 18,
     "metadata": {},
     "output_type": "execute_result"
    }
   ],
   "source": [
    "frequency_columns = [\n",
    "    col for col in burkina_cyp6aap_cnv_freqs_df.columns \n",
    "    if col.startswith(\"frq_\")\n",
    "]\n",
    "frequency_columns"
   ]
  },
  {
   "cell_type": "markdown",
   "id": "b63aa331-8a99-4c1b-9f26-80a9457bdfd3",
   "metadata": {
    "id": "5pWbGcA0-WLV"
   },
   "source": [
    "Remember, e.g., \"frq_BF-09_gamb_2012\" means the frequency of the allele within the cohort of *Anopheles gambiae* mosquitoes from the BF-09 (Haut-Bassins) region collected in 2012.\n",
    "\n",
    "Let's look at the values of these frequency columns in our DataFrame."
   ]
  },
  {
   "cell_type": "code",
   "execution_count": 19,
   "id": "3f450927-8c87-4133-81e2-032045fb7064",
   "metadata": {},
   "outputs": [
    {
     "data": {
      "text/html": [
       "<div>\n",
       "<style scoped>\n",
       "    .dataframe tbody tr th:only-of-type {\n",
       "        vertical-align: middle;\n",
       "    }\n",
       "\n",
       "    .dataframe tbody tr th {\n",
       "        vertical-align: top;\n",
       "    }\n",
       "\n",
       "    .dataframe thead th {\n",
       "        text-align: right;\n",
       "    }\n",
       "</style>\n",
       "<table border=\"1\" class=\"dataframe\">\n",
       "  <thead>\n",
       "    <tr style=\"text-align: right;\">\n",
       "      <th></th>\n",
       "      <th></th>\n",
       "      <th></th>\n",
       "      <th>frq_BF-07_gamb_2004</th>\n",
       "      <th>frq_BF-09_colu_2012</th>\n",
       "      <th>frq_BF-09_colu_2014</th>\n",
       "      <th>frq_BF-09_gamb_2012</th>\n",
       "      <th>frq_BF-09_gamb_2014</th>\n",
       "      <th>max_af</th>\n",
       "      <th>windows</th>\n",
       "    </tr>\n",
       "    <tr>\n",
       "      <th>gene_id</th>\n",
       "      <th>gene_name</th>\n",
       "      <th>cnv_type</th>\n",
       "      <th></th>\n",
       "      <th></th>\n",
       "      <th></th>\n",
       "      <th></th>\n",
       "      <th></th>\n",
       "      <th></th>\n",
       "      <th></th>\n",
       "    </tr>\n",
       "  </thead>\n",
       "  <tbody>\n",
       "    <tr>\n",
       "      <th rowspan=\"2\" valign=\"top\">AGAP002859</th>\n",
       "      <th rowspan=\"2\" valign=\"top\">NaN</th>\n",
       "      <th>amp</th>\n",
       "      <td>0.0</td>\n",
       "      <td>0.0000</td>\n",
       "      <td>0.000000</td>\n",
       "      <td>0.000000</td>\n",
       "      <td>0.000000</td>\n",
       "      <td>0.000000</td>\n",
       "      <td>397</td>\n",
       "    </tr>\n",
       "    <tr>\n",
       "      <th>del</th>\n",
       "      <td>0.0</td>\n",
       "      <td>0.0000</td>\n",
       "      <td>0.000000</td>\n",
       "      <td>0.000000</td>\n",
       "      <td>0.000000</td>\n",
       "      <td>0.000000</td>\n",
       "      <td>397</td>\n",
       "    </tr>\n",
       "    <tr>\n",
       "      <th rowspan=\"2\" valign=\"top\">AGAP002862</th>\n",
       "      <th rowspan=\"2\" valign=\"top\">CYP6AA1</th>\n",
       "      <th>amp</th>\n",
       "      <td>0.0</td>\n",
       "      <td>0.9125</td>\n",
       "      <td>0.811321</td>\n",
       "      <td>0.040816</td>\n",
       "      <td>0.065217</td>\n",
       "      <td>0.912500</td>\n",
       "      <td>8</td>\n",
       "    </tr>\n",
       "    <tr>\n",
       "      <th>del</th>\n",
       "      <td>0.0</td>\n",
       "      <td>0.0000</td>\n",
       "      <td>0.000000</td>\n",
       "      <td>0.000000</td>\n",
       "      <td>0.000000</td>\n",
       "      <td>0.000000</td>\n",
       "      <td>8</td>\n",
       "    </tr>\n",
       "    <tr>\n",
       "      <th rowspan=\"2\" valign=\"top\">AGAP013128</th>\n",
       "      <th rowspan=\"2\" valign=\"top\">CYP6AA2</th>\n",
       "      <th>amp</th>\n",
       "      <td>0.0</td>\n",
       "      <td>0.8250</td>\n",
       "      <td>0.792453</td>\n",
       "      <td>0.040816</td>\n",
       "      <td>0.065217</td>\n",
       "      <td>0.825000</td>\n",
       "      <td>6</td>\n",
       "    </tr>\n",
       "    <tr>\n",
       "      <th>del</th>\n",
       "      <td>0.0</td>\n",
       "      <td>0.0000</td>\n",
       "      <td>0.000000</td>\n",
       "      <td>0.000000</td>\n",
       "      <td>0.000000</td>\n",
       "      <td>0.000000</td>\n",
       "      <td>6</td>\n",
       "    </tr>\n",
       "    <tr>\n",
       "      <th rowspan=\"2\" valign=\"top\">AGAP002863</th>\n",
       "      <th rowspan=\"2\" valign=\"top\">COEAE6O</th>\n",
       "      <th>amp</th>\n",
       "      <td>0.0</td>\n",
       "      <td>0.6000</td>\n",
       "      <td>0.509434</td>\n",
       "      <td>0.010204</td>\n",
       "      <td>0.021739</td>\n",
       "      <td>0.600000</td>\n",
       "      <td>7</td>\n",
       "    </tr>\n",
       "    <tr>\n",
       "      <th>del</th>\n",
       "      <td>0.0</td>\n",
       "      <td>0.0000</td>\n",
       "      <td>0.000000</td>\n",
       "      <td>0.000000</td>\n",
       "      <td>0.000000</td>\n",
       "      <td>0.000000</td>\n",
       "      <td>7</td>\n",
       "    </tr>\n",
       "    <tr>\n",
       "      <th rowspan=\"2\" valign=\"top\">AGAP002864</th>\n",
       "      <th rowspan=\"2\" valign=\"top\">CYP6P15P</th>\n",
       "      <th>amp</th>\n",
       "      <td>0.0</td>\n",
       "      <td>0.5250</td>\n",
       "      <td>0.528302</td>\n",
       "      <td>0.010204</td>\n",
       "      <td>0.021739</td>\n",
       "      <td>0.528302</td>\n",
       "      <td>6</td>\n",
       "    </tr>\n",
       "    <tr>\n",
       "      <th>del</th>\n",
       "      <td>0.0</td>\n",
       "      <td>0.0000</td>\n",
       "      <td>0.000000</td>\n",
       "      <td>0.000000</td>\n",
       "      <td>0.000000</td>\n",
       "      <td>0.000000</td>\n",
       "      <td>6</td>\n",
       "    </tr>\n",
       "    <tr>\n",
       "      <th rowspan=\"2\" valign=\"top\">AGAP002865</th>\n",
       "      <th rowspan=\"2\" valign=\"top\">CYP6P3</th>\n",
       "      <th>amp</th>\n",
       "      <td>0.0</td>\n",
       "      <td>0.0375</td>\n",
       "      <td>0.075472</td>\n",
       "      <td>0.010204</td>\n",
       "      <td>0.021739</td>\n",
       "      <td>0.075472</td>\n",
       "      <td>7</td>\n",
       "    </tr>\n",
       "    <tr>\n",
       "      <th>del</th>\n",
       "      <td>0.0</td>\n",
       "      <td>0.0000</td>\n",
       "      <td>0.000000</td>\n",
       "      <td>0.112245</td>\n",
       "      <td>0.000000</td>\n",
       "      <td>0.112245</td>\n",
       "      <td>7</td>\n",
       "    </tr>\n",
       "    <tr>\n",
       "      <th rowspan=\"2\" valign=\"top\">AGAP002866</th>\n",
       "      <th rowspan=\"2\" valign=\"top\">CYP6P5</th>\n",
       "      <th>amp</th>\n",
       "      <td>0.0</td>\n",
       "      <td>0.0375</td>\n",
       "      <td>0.056604</td>\n",
       "      <td>0.020408</td>\n",
       "      <td>0.021739</td>\n",
       "      <td>0.056604</td>\n",
       "      <td>6</td>\n",
       "    </tr>\n",
       "    <tr>\n",
       "      <th>del</th>\n",
       "      <td>0.0</td>\n",
       "      <td>0.0000</td>\n",
       "      <td>0.000000</td>\n",
       "      <td>0.000000</td>\n",
       "      <td>0.000000</td>\n",
       "      <td>0.000000</td>\n",
       "      <td>6</td>\n",
       "    </tr>\n",
       "    <tr>\n",
       "      <th rowspan=\"2\" valign=\"top\">AGAP002867</th>\n",
       "      <th rowspan=\"2\" valign=\"top\">CYP6P4</th>\n",
       "      <th>amp</th>\n",
       "      <td>0.0</td>\n",
       "      <td>0.0375</td>\n",
       "      <td>0.075472</td>\n",
       "      <td>0.010204</td>\n",
       "      <td>0.021739</td>\n",
       "      <td>0.075472</td>\n",
       "      <td>6</td>\n",
       "    </tr>\n",
       "    <tr>\n",
       "      <th>del</th>\n",
       "      <td>0.0</td>\n",
       "      <td>0.0000</td>\n",
       "      <td>0.000000</td>\n",
       "      <td>0.000000</td>\n",
       "      <td>0.000000</td>\n",
       "      <td>0.000000</td>\n",
       "      <td>6</td>\n",
       "    </tr>\n",
       "    <tr>\n",
       "      <th rowspan=\"2\" valign=\"top\">AGAP002868</th>\n",
       "      <th rowspan=\"2\" valign=\"top\">CYP6P1</th>\n",
       "      <th>amp</th>\n",
       "      <td>0.0</td>\n",
       "      <td>0.0375</td>\n",
       "      <td>0.056604</td>\n",
       "      <td>0.010204</td>\n",
       "      <td>0.021739</td>\n",
       "      <td>0.056604</td>\n",
       "      <td>6</td>\n",
       "    </tr>\n",
       "    <tr>\n",
       "      <th>del</th>\n",
       "      <td>0.0</td>\n",
       "      <td>0.0000</td>\n",
       "      <td>0.000000</td>\n",
       "      <td>0.000000</td>\n",
       "      <td>0.000000</td>\n",
       "      <td>0.000000</td>\n",
       "      <td>6</td>\n",
       "    </tr>\n",
       "    <tr>\n",
       "      <th rowspan=\"2\" valign=\"top\">AGAP002869</th>\n",
       "      <th rowspan=\"2\" valign=\"top\">CYP6P2</th>\n",
       "      <th>amp</th>\n",
       "      <td>0.0</td>\n",
       "      <td>0.0375</td>\n",
       "      <td>0.056604</td>\n",
       "      <td>0.010204</td>\n",
       "      <td>0.021739</td>\n",
       "      <td>0.056604</td>\n",
       "      <td>7</td>\n",
       "    </tr>\n",
       "    <tr>\n",
       "      <th>del</th>\n",
       "      <td>0.0</td>\n",
       "      <td>0.0000</td>\n",
       "      <td>0.000000</td>\n",
       "      <td>0.000000</td>\n",
       "      <td>0.000000</td>\n",
       "      <td>0.000000</td>\n",
       "      <td>7</td>\n",
       "    </tr>\n",
       "    <tr>\n",
       "      <th rowspan=\"2\" valign=\"top\">AGAP002870</th>\n",
       "      <th rowspan=\"2\" valign=\"top\">CYP6AD1</th>\n",
       "      <th>amp</th>\n",
       "      <td>0.0</td>\n",
       "      <td>0.0375</td>\n",
       "      <td>0.056604</td>\n",
       "      <td>0.010204</td>\n",
       "      <td>0.021739</td>\n",
       "      <td>0.056604</td>\n",
       "      <td>6</td>\n",
       "    </tr>\n",
       "    <tr>\n",
       "      <th>del</th>\n",
       "      <td>0.0</td>\n",
       "      <td>0.0000</td>\n",
       "      <td>0.000000</td>\n",
       "      <td>0.000000</td>\n",
       "      <td>0.000000</td>\n",
       "      <td>0.000000</td>\n",
       "      <td>6</td>\n",
       "    </tr>\n",
       "  </tbody>\n",
       "</table>\n",
       "</div>"
      ],
      "text/plain": [
       "                               frq_BF-07_gamb_2004  frq_BF-09_colu_2012  \\\n",
       "gene_id    gene_name cnv_type                                             \n",
       "AGAP002859 NaN       amp                       0.0               0.0000   \n",
       "                     del                       0.0               0.0000   \n",
       "AGAP002862 CYP6AA1   amp                       0.0               0.9125   \n",
       "                     del                       0.0               0.0000   \n",
       "AGAP013128 CYP6AA2   amp                       0.0               0.8250   \n",
       "                     del                       0.0               0.0000   \n",
       "AGAP002863 COEAE6O   amp                       0.0               0.6000   \n",
       "                     del                       0.0               0.0000   \n",
       "AGAP002864 CYP6P15P  amp                       0.0               0.5250   \n",
       "                     del                       0.0               0.0000   \n",
       "AGAP002865 CYP6P3    amp                       0.0               0.0375   \n",
       "                     del                       0.0               0.0000   \n",
       "AGAP002866 CYP6P5    amp                       0.0               0.0375   \n",
       "                     del                       0.0               0.0000   \n",
       "AGAP002867 CYP6P4    amp                       0.0               0.0375   \n",
       "                     del                       0.0               0.0000   \n",
       "AGAP002868 CYP6P1    amp                       0.0               0.0375   \n",
       "                     del                       0.0               0.0000   \n",
       "AGAP002869 CYP6P2    amp                       0.0               0.0375   \n",
       "                     del                       0.0               0.0000   \n",
       "AGAP002870 CYP6AD1   amp                       0.0               0.0375   \n",
       "                     del                       0.0               0.0000   \n",
       "\n",
       "                               frq_BF-09_colu_2014  frq_BF-09_gamb_2012  \\\n",
       "gene_id    gene_name cnv_type                                             \n",
       "AGAP002859 NaN       amp                  0.000000             0.000000   \n",
       "                     del                  0.000000             0.000000   \n",
       "AGAP002862 CYP6AA1   amp                  0.811321             0.040816   \n",
       "                     del                  0.000000             0.000000   \n",
       "AGAP013128 CYP6AA2   amp                  0.792453             0.040816   \n",
       "                     del                  0.000000             0.000000   \n",
       "AGAP002863 COEAE6O   amp                  0.509434             0.010204   \n",
       "                     del                  0.000000             0.000000   \n",
       "AGAP002864 CYP6P15P  amp                  0.528302             0.010204   \n",
       "                     del                  0.000000             0.000000   \n",
       "AGAP002865 CYP6P3    amp                  0.075472             0.010204   \n",
       "                     del                  0.000000             0.112245   \n",
       "AGAP002866 CYP6P5    amp                  0.056604             0.020408   \n",
       "                     del                  0.000000             0.000000   \n",
       "AGAP002867 CYP6P4    amp                  0.075472             0.010204   \n",
       "                     del                  0.000000             0.000000   \n",
       "AGAP002868 CYP6P1    amp                  0.056604             0.010204   \n",
       "                     del                  0.000000             0.000000   \n",
       "AGAP002869 CYP6P2    amp                  0.056604             0.010204   \n",
       "                     del                  0.000000             0.000000   \n",
       "AGAP002870 CYP6AD1   amp                  0.056604             0.010204   \n",
       "                     del                  0.000000             0.000000   \n",
       "\n",
       "                               frq_BF-09_gamb_2014    max_af  windows  \n",
       "gene_id    gene_name cnv_type                                          \n",
       "AGAP002859 NaN       amp                  0.000000  0.000000      397  \n",
       "                     del                  0.000000  0.000000      397  \n",
       "AGAP002862 CYP6AA1   amp                  0.065217  0.912500        8  \n",
       "                     del                  0.000000  0.000000        8  \n",
       "AGAP013128 CYP6AA2   amp                  0.065217  0.825000        6  \n",
       "                     del                  0.000000  0.000000        6  \n",
       "AGAP002863 COEAE6O   amp                  0.021739  0.600000        7  \n",
       "                     del                  0.000000  0.000000        7  \n",
       "AGAP002864 CYP6P15P  amp                  0.021739  0.528302        6  \n",
       "                     del                  0.000000  0.000000        6  \n",
       "AGAP002865 CYP6P3    amp                  0.021739  0.075472        7  \n",
       "                     del                  0.000000  0.112245        7  \n",
       "AGAP002866 CYP6P5    amp                  0.021739  0.056604        6  \n",
       "                     del                  0.000000  0.000000        6  \n",
       "AGAP002867 CYP6P4    amp                  0.021739  0.075472        6  \n",
       "                     del                  0.000000  0.000000        6  \n",
       "AGAP002868 CYP6P1    amp                  0.021739  0.056604        6  \n",
       "                     del                  0.000000  0.000000        6  \n",
       "AGAP002869 CYP6P2    amp                  0.021739  0.056604        7  \n",
       "                     del                  0.000000  0.000000        7  \n",
       "AGAP002870 CYP6AD1   amp                  0.021739  0.056604        6  \n",
       "                     del                  0.000000  0.000000        6  "
      ]
     },
     "execution_count": 19,
     "metadata": {},
     "output_type": "execute_result"
    }
   ],
   "source": [
    "burkina_cyp6aap_cnv_freqs_df[frequency_columns + [\"max_af\", \"windows\"]]"
   ]
  },
  {
   "cell_type": "markdown",
   "id": "474b631e-143e-414d-9402-5727cf71ec04",
   "metadata": {
    "id": "U80muOZ8-h0A"
   },
   "source": [
    "Remember frequency values range between 0 and 1. 0 means no individuals have the variant. 1 means all individuals have the variant. 0.5 means 50% of individuals have the variant.\n",
    "  \n",
    "\n",
    "The `max_af` column simply shows the highest frequency found in the cohorts and is useful for filtering the output down to just CNVs at appreciable frequency in at least one cohort, and the `windows` columns shows how many 300 bp windows the frequency is calculated over."
   ]
  },
  {
   "cell_type": "markdown",
   "id": "21b1943b-049f-4e63-b49c-46b3f7446627",
   "metadata": {
    "id": "6VUA8GY-SY8q",
    "tags": []
   },
   "source": [
    "## Plotting frequency heatmaps\n",
    "\n",
    "Just like we could with SNP allele frequencies, we can also make gene cnv frequency DataFrames easier to interpret by plotting them as a heat map.\n",
    "\n",
    "Let's also filter our DataFrame by `max_af` to just CNVs present in at least one cohort over 5%, using a pandas query."
   ]
  },
  {
   "cell_type": "code",
   "execution_count": null,
   "id": "f839f3f5-dfed-42f9-8b14-5848992f1a3d",
   "metadata": {},
   "outputs": [],
   "source": [
    "ag3.plot_frequencies_heatmap(\n",
    "    burkina_cyp6aap_cnv_freqs_df.query(\"max_af > 0.05\"), \n",
    "    title=\"Gene CNV frequencies, Burkina Faso, Cyp6aa/p locus\")"
   ]
  },
  {
   "cell_type": "markdown",
   "id": "55c82ef5-f1dc-42d1-85c4-dfe5a252c726",
   "metadata": {
    "id": "wrsEr1bX_vCT"
   },
   "source": [
    "We can see clearly now that amplifications appear to be at high frequency within *An. coluzzii* but not *An. gambiae* cohorts, and the amplifications appear to be highest for the *Cyp6aa1* gene."
   ]
  },
  {
   "cell_type": "markdown",
   "id": "cc1818e8-e953-41ca-940b-ff58ac81a2e9",
   "metadata": {
    "id": "wrsEr1bX_vCT"
   },
   "source": [
    "**Exercise 1 (English)**\n",
    "\n",
    "Recall that there are several other cytochrome P450 (*Cyp*) genes and gene clusters associated with insecticide resistance in the genome, so let's make a new region query to look at some other *Cyp* genes of interest and visualise them as heatmaps.\n",
    "\n",
    "First, have a look at the *Cyp9k1* gene on the X chromosome (15,240,000-15,250,000).\n",
    "\n",
    "Hint: `cyp9k1_region = \"X:15,240,000-15,250,000\"`\n",
    "\n",
    "**Exercice 1 (Français)**\n",
    "\n",
    "Il y a d'autres gènes cytochrome P450 (Cyp) et groupes de gènes associés à la résistance aux insecticides dans le génome, utilisons donc une autre requête pour obtenir une région contenant d'autres gènes *Cyp* et les visualiser sous forme de heatmap.\n",
    "\n",
    "D'abord, regardons le gène *Cyp9k1* sur le chromosome X (15,240,000-15,250,000).\n",
    "\n",
    "Indice: `cyp9k1_region = \"X:15,240,000-15,250,000\"`\n"
   ]
  },
  {
   "cell_type": "code",
   "execution_count": null,
   "id": "17e63e18-9f7d-44c6-8d3d-31ab27d64600",
   "metadata": {},
   "outputs": [],
   "source": [
    "# cyp9k1_region = ???\n",
    "\n",
    "# burkina_cyp9k1_cnv_freqs_df = ag3.gene_cnv_frequencies(\n",
    "#     region=cyp9k1_region,\n",
    "#     cohorts=\"admin1_year\",\n",
    "#     sample_sets=[\"AG1000G-BF-A\", \"AG1000G-BF-B\", \"AG1000G-BF-C\"],\n",
    "# )\n",
    "\n",
    "# ag3.plot_frequencies_heatmap(\n",
    "#     burkina_cyp9k1_cnv_freqs_df.query(\"max_af > 0.05\"),\n",
    "# )"
   ]
  },
  {
   "cell_type": "markdown",
   "id": "43a68b7d-d71b-4a9a-95a9-decaf1e87c28",
   "metadata": {
    "id": "moX0Pd8r8fhV"
   },
   "source": [
    "**Exercise 2 (English)**\n",
    "\n",
    "Next, try the *Cyp6mz* region.  \n",
    "\n",
    "Hint: `cyp6mz_region = \"3R:6,924,000-6,980,000\"`\n",
    "\n",
    "**Exercice 2 (Français)**\n",
    "\n",
    "Essayons ensuite la région de *Cyp6mz*.\n",
    "\n",
    "Indice: `cyp6mz_region = \"3R:6,924,000-6,980,000\"`"
   ]
  },
  {
   "cell_type": "code",
   "execution_count": null,
   "id": "92e8570e-184e-40f0-80ac-02876284fb96",
   "metadata": {},
   "outputs": [],
   "source": [
    "# cyp6mz_region = ???\n",
    "\n",
    "# burkina_cyp6mz_cnv_freqs_df = ag3.gene_cnv_frequencies(\n",
    "#     region=cyp6mz_region,\n",
    "#     cohorts=\"admin1_year\",\n",
    "#     sample_sets=[\"AG1000G-BF-A\", \"AG1000G-BF-B\", \"AG1000G-BF-C\"],\n",
    "# )\n",
    "\n",
    "# ag3.plot_frequencies_heatmap(\n",
    "#     burkina_cyp6mz_cnv_freqs_df.query(\"max_af > 0.05\"),\n",
    "# )"
   ]
  },
  {
   "cell_type": "markdown",
   "id": "82739751-5a5c-4d05-8a0c-c59de82b3d69",
   "metadata": {
    "id": "4o-5G7bBA8mj"
   },
   "source": [
    "**Exercise 3 (English)**\n",
    "\n",
    "Let's also have a look at the *Gste* gene cluster on chromosome arm 3R.  What patterns can you see?  \n",
    "\n",
    "Hint: `gste_region = \"3R:28,590,000-28,610,000\"`\n",
    "\n",
    "**Exercice 3 (Français)**\n",
    "\n",
    "Regardons aussi le groupe de gènes *Gste* sur le bras de chromosome 3R. Quel motif observez-vous?\n",
    "\n",
    "Indice: `gste_region = \"3R:28,590,000-28,610,000\"`\n"
   ]
  },
  {
   "cell_type": "code",
   "execution_count": null,
   "id": "60edbd58-3947-4af2-ad3e-0fbe61005a9f",
   "metadata": {},
   "outputs": [],
   "source": [
    "# gste_region = ???\n",
    "\n",
    "# burkina_gste_cnv_freqs_df = ag3.gene_cnv_frequencies(\n",
    "#     region=???,\n",
    "#     cohorts=\"admin1_year\",\n",
    "#     sample_sets=[\"AG1000G-BF-A\", \"AG1000G-BF-B\", \"AG1000G-BF-C\"],\n",
    "# )\n",
    "\n",
    "# ag3.plot_frequencies_heatmap(\n",
    "#     burkina_gste_cnv_freqs_df.query(\"max_af > 0.05\"),\n",
    "# )"
   ]
  },
  {
   "cell_type": "markdown",
   "id": "0c461f62-232f-43f7-bb90-4b03bb9339c6",
   "metadata": {
    "id": "VsUWobj8BZ-T"
   },
   "source": [
    "## Using sample queries\n",
    "\n",
    "Sometimes you may want to analyse data across many sample sets, but select only samples from a single country or species. The useful `sample_query` parameter enables us to achieve this easily.\n",
    "\n",
    "For example, if we wanted to analyse the *Cyp6aa/p* gene cluster in all of the Ag3.0 sample sets, but only look at *Anopheles coluzzii* samples in those sample sets, then we would set the `sample_sets` parameter to \"3.0\"..."
   ]
  },
  {
   "cell_type": "code",
   "execution_count": 24,
   "id": "5407586c-fdd2-45bb-90e3-6eebd344abe6",
   "metadata": {},
   "outputs": [],
   "source": [
    "sample_sets = \"3.0\""
   ]
  },
  {
   "cell_type": "markdown",
   "id": "67734fed-501f-4303-8378-0d0802438ff1",
   "metadata": {
    "id": "84SfVbFKYfUh"
   },
   "source": [
    "... and pass a pandas query string to `sample_query`."
   ]
  },
  {
   "cell_type": "code",
   "execution_count": 25,
   "id": "bfdad019-f349-4146-ae86-66c624aee89a",
   "metadata": {},
   "outputs": [],
   "source": [
    "sample_query = \"taxon == 'coluzzii'\""
   ]
  },
  {
   "cell_type": "code",
   "execution_count": 26,
   "id": "7e577c50-be21-4dc2-8564-9dd0ac6d7f19",
   "metadata": {},
   "outputs": [
    {
     "data": {
      "text/html": [
       "<div>\n",
       "<style scoped>\n",
       "    .dataframe tbody tr th:only-of-type {\n",
       "        vertical-align: middle;\n",
       "    }\n",
       "\n",
       "    .dataframe tbody tr th {\n",
       "        vertical-align: top;\n",
       "    }\n",
       "\n",
       "    .dataframe thead th {\n",
       "        text-align: right;\n",
       "    }\n",
       "</style>\n",
       "<table border=\"1\" class=\"dataframe\">\n",
       "  <thead>\n",
       "    <tr style=\"text-align: right;\">\n",
       "      <th></th>\n",
       "      <th></th>\n",
       "      <th></th>\n",
       "      <th>gene_strand</th>\n",
       "      <th>gene_description</th>\n",
       "      <th>contig</th>\n",
       "      <th>start</th>\n",
       "      <th>end</th>\n",
       "      <th>frq_AO-LUA_colu_2009</th>\n",
       "      <th>frq_BF-09_colu_2012</th>\n",
       "      <th>frq_BF-09_colu_2014</th>\n",
       "      <th>frq_CF-BGF_colu_1994</th>\n",
       "      <th>frq_CI-LG_colu_2012</th>\n",
       "      <th>...</th>\n",
       "      <th>frq_GH-WP_colu_2012</th>\n",
       "      <th>frq_GM-M_colu_2012</th>\n",
       "      <th>frq_GN-N_colu_2012</th>\n",
       "      <th>frq_ML-2_colu_2004</th>\n",
       "      <th>frq_ML-2_colu_2014</th>\n",
       "      <th>frq_ML-3_colu_2012</th>\n",
       "      <th>frq_ML-4_colu_2004</th>\n",
       "      <th>max_af</th>\n",
       "      <th>windows</th>\n",
       "      <th>label</th>\n",
       "    </tr>\n",
       "    <tr>\n",
       "      <th>gene_id</th>\n",
       "      <th>gene_name</th>\n",
       "      <th>cnv_type</th>\n",
       "      <th></th>\n",
       "      <th></th>\n",
       "      <th></th>\n",
       "      <th></th>\n",
       "      <th></th>\n",
       "      <th></th>\n",
       "      <th></th>\n",
       "      <th></th>\n",
       "      <th></th>\n",
       "      <th></th>\n",
       "      <th></th>\n",
       "      <th></th>\n",
       "      <th></th>\n",
       "      <th></th>\n",
       "      <th></th>\n",
       "      <th></th>\n",
       "      <th></th>\n",
       "      <th></th>\n",
       "      <th></th>\n",
       "      <th></th>\n",
       "      <th></th>\n",
       "    </tr>\n",
       "  </thead>\n",
       "  <tbody>\n",
       "    <tr>\n",
       "      <th>AGAP002862</th>\n",
       "      <th>CYP6AA1</th>\n",
       "      <th>amp</th>\n",
       "      <td>-</td>\n",
       "      <td>cytochrome P450 [Source:VB Community Annotation]</td>\n",
       "      <td>2R</td>\n",
       "      <td>28480576</td>\n",
       "      <td>28482637</td>\n",
       "      <td>0.0</td>\n",
       "      <td>0.9125</td>\n",
       "      <td>0.811321</td>\n",
       "      <td>0.0</td>\n",
       "      <td>0.870130</td>\n",
       "      <td>...</td>\n",
       "      <td>0.125000</td>\n",
       "      <td>0.046784</td>\n",
       "      <td>0.8</td>\n",
       "      <td>0.8</td>\n",
       "      <td>0.526316</td>\n",
       "      <td>0.846154</td>\n",
       "      <td>0.260870</td>\n",
       "      <td>0.912500</td>\n",
       "      <td>8</td>\n",
       "      <td>AGAP002862 (CYP6AA1) amp</td>\n",
       "    </tr>\n",
       "    <tr>\n",
       "      <th>AGAP013128</th>\n",
       "      <th>CYP6AA2</th>\n",
       "      <th>amp</th>\n",
       "      <td>-</td>\n",
       "      <td>cytochrome P450 [Source:VB Community Annotation]</td>\n",
       "      <td>2R</td>\n",
       "      <td>28483301</td>\n",
       "      <td>28484921</td>\n",
       "      <td>0.0</td>\n",
       "      <td>0.8250</td>\n",
       "      <td>0.792453</td>\n",
       "      <td>0.0</td>\n",
       "      <td>0.870130</td>\n",
       "      <td>...</td>\n",
       "      <td>0.125000</td>\n",
       "      <td>0.029240</td>\n",
       "      <td>0.8</td>\n",
       "      <td>0.8</td>\n",
       "      <td>0.421053</td>\n",
       "      <td>0.769231</td>\n",
       "      <td>0.260870</td>\n",
       "      <td>0.870130</td>\n",
       "      <td>6</td>\n",
       "      <td>AGAP013128 (CYP6AA2) amp</td>\n",
       "    </tr>\n",
       "    <tr>\n",
       "      <th>AGAP002863</th>\n",
       "      <th>COEAE6O</th>\n",
       "      <th>amp</th>\n",
       "      <td>-</td>\n",
       "      <td>carboxylesterase alpha esterase [Source:VB Com...</td>\n",
       "      <td>2R</td>\n",
       "      <td>28485262</td>\n",
       "      <td>28487080</td>\n",
       "      <td>0.0</td>\n",
       "      <td>0.6000</td>\n",
       "      <td>0.509434</td>\n",
       "      <td>0.0</td>\n",
       "      <td>0.740260</td>\n",
       "      <td>...</td>\n",
       "      <td>0.083333</td>\n",
       "      <td>0.000000</td>\n",
       "      <td>0.1</td>\n",
       "      <td>0.0</td>\n",
       "      <td>0.263158</td>\n",
       "      <td>0.461538</td>\n",
       "      <td>0.043478</td>\n",
       "      <td>0.740260</td>\n",
       "      <td>7</td>\n",
       "      <td>AGAP002863 (COEAE6O) amp</td>\n",
       "    </tr>\n",
       "    <tr>\n",
       "      <th>AGAP002864</th>\n",
       "      <th>CYP6P15P</th>\n",
       "      <th>amp</th>\n",
       "      <td>-</td>\n",
       "      <td>cytochrome P450 [Source:VB Community Annotation]</td>\n",
       "      <td>2R</td>\n",
       "      <td>28487640</td>\n",
       "      <td>28489092</td>\n",
       "      <td>0.0</td>\n",
       "      <td>0.5250</td>\n",
       "      <td>0.528302</td>\n",
       "      <td>0.0</td>\n",
       "      <td>0.922078</td>\n",
       "      <td>...</td>\n",
       "      <td>0.083333</td>\n",
       "      <td>0.000000</td>\n",
       "      <td>0.0</td>\n",
       "      <td>0.2</td>\n",
       "      <td>0.263158</td>\n",
       "      <td>0.346154</td>\n",
       "      <td>0.043478</td>\n",
       "      <td>0.922078</td>\n",
       "      <td>6</td>\n",
       "      <td>AGAP002864 (CYP6P15P) amp</td>\n",
       "    </tr>\n",
       "    <tr>\n",
       "      <th>AGAP002865</th>\n",
       "      <th>CYP6P3</th>\n",
       "      <th>amp</th>\n",
       "      <td>-</td>\n",
       "      <td>cytochrome P450 [Source:VB Community Annotation]</td>\n",
       "      <td>2R</td>\n",
       "      <td>28491415</td>\n",
       "      <td>28493141</td>\n",
       "      <td>0.0</td>\n",
       "      <td>0.0375</td>\n",
       "      <td>0.075472</td>\n",
       "      <td>0.0</td>\n",
       "      <td>0.922078</td>\n",
       "      <td>...</td>\n",
       "      <td>0.041667</td>\n",
       "      <td>0.000000</td>\n",
       "      <td>0.0</td>\n",
       "      <td>0.2</td>\n",
       "      <td>0.000000</td>\n",
       "      <td>0.038462</td>\n",
       "      <td>0.000000</td>\n",
       "      <td>0.922078</td>\n",
       "      <td>7</td>\n",
       "      <td>AGAP002865 (CYP6P3) amp</td>\n",
       "    </tr>\n",
       "    <tr>\n",
       "      <th>AGAP002866</th>\n",
       "      <th>CYP6P5</th>\n",
       "      <th>amp</th>\n",
       "      <td>-</td>\n",
       "      <td>cytochrome P450 [Source:VB Community Annotation]</td>\n",
       "      <td>2R</td>\n",
       "      <td>28494017</td>\n",
       "      <td>28495645</td>\n",
       "      <td>0.0</td>\n",
       "      <td>0.0375</td>\n",
       "      <td>0.056604</td>\n",
       "      <td>0.0</td>\n",
       "      <td>0.922078</td>\n",
       "      <td>...</td>\n",
       "      <td>0.000000</td>\n",
       "      <td>0.000000</td>\n",
       "      <td>0.0</td>\n",
       "      <td>0.2</td>\n",
       "      <td>0.000000</td>\n",
       "      <td>0.038462</td>\n",
       "      <td>0.000000</td>\n",
       "      <td>0.922078</td>\n",
       "      <td>6</td>\n",
       "      <td>AGAP002866 (CYP6P5) amp</td>\n",
       "    </tr>\n",
       "    <tr>\n",
       "      <th>AGAP002867</th>\n",
       "      <th>CYP6P4</th>\n",
       "      <th>amp</th>\n",
       "      <td>-</td>\n",
       "      <td>cytochrome P450 [Source:VB Community Annotation]</td>\n",
       "      <td>2R</td>\n",
       "      <td>28497087</td>\n",
       "      <td>28498674</td>\n",
       "      <td>0.0</td>\n",
       "      <td>0.0375</td>\n",
       "      <td>0.075472</td>\n",
       "      <td>0.0</td>\n",
       "      <td>0.922078</td>\n",
       "      <td>...</td>\n",
       "      <td>0.000000</td>\n",
       "      <td>0.000000</td>\n",
       "      <td>0.0</td>\n",
       "      <td>0.2</td>\n",
       "      <td>0.000000</td>\n",
       "      <td>0.038462</td>\n",
       "      <td>0.000000</td>\n",
       "      <td>0.922078</td>\n",
       "      <td>6</td>\n",
       "      <td>AGAP002867 (CYP6P4) amp</td>\n",
       "    </tr>\n",
       "    <tr>\n",
       "      <th>AGAP002868</th>\n",
       "      <th>CYP6P1</th>\n",
       "      <th>amp</th>\n",
       "      <td>-</td>\n",
       "      <td>cytochrome P450 [Source:VB Community Annotation]</td>\n",
       "      <td>2R</td>\n",
       "      <td>28499251</td>\n",
       "      <td>28500900</td>\n",
       "      <td>0.0</td>\n",
       "      <td>0.0375</td>\n",
       "      <td>0.056604</td>\n",
       "      <td>0.0</td>\n",
       "      <td>0.909091</td>\n",
       "      <td>...</td>\n",
       "      <td>0.000000</td>\n",
       "      <td>0.000000</td>\n",
       "      <td>0.0</td>\n",
       "      <td>0.2</td>\n",
       "      <td>0.000000</td>\n",
       "      <td>0.038462</td>\n",
       "      <td>0.000000</td>\n",
       "      <td>0.909091</td>\n",
       "      <td>6</td>\n",
       "      <td>AGAP002868 (CYP6P1) amp</td>\n",
       "    </tr>\n",
       "    <tr>\n",
       "      <th rowspan=\"2\" valign=\"top\">AGAP002869</th>\n",
       "      <th rowspan=\"2\" valign=\"top\">CYP6P2</th>\n",
       "      <th>amp</th>\n",
       "      <td>-</td>\n",
       "      <td>cytochrome P450 [Source:VB Community Annotation]</td>\n",
       "      <td>2R</td>\n",
       "      <td>28501033</td>\n",
       "      <td>28502910</td>\n",
       "      <td>0.0</td>\n",
       "      <td>0.0375</td>\n",
       "      <td>0.056604</td>\n",
       "      <td>0.0</td>\n",
       "      <td>0.922078</td>\n",
       "      <td>...</td>\n",
       "      <td>0.000000</td>\n",
       "      <td>0.000000</td>\n",
       "      <td>0.0</td>\n",
       "      <td>0.2</td>\n",
       "      <td>0.000000</td>\n",
       "      <td>0.038462</td>\n",
       "      <td>0.000000</td>\n",
       "      <td>0.922078</td>\n",
       "      <td>7</td>\n",
       "      <td>AGAP002869 (CYP6P2) amp</td>\n",
       "    </tr>\n",
       "    <tr>\n",
       "      <th>del</th>\n",
       "      <td>-</td>\n",
       "      <td>cytochrome P450 [Source:VB Community Annotation]</td>\n",
       "      <td>2R</td>\n",
       "      <td>28501033</td>\n",
       "      <td>28502910</td>\n",
       "      <td>0.0</td>\n",
       "      <td>0.0000</td>\n",
       "      <td>0.000000</td>\n",
       "      <td>0.0</td>\n",
       "      <td>0.000000</td>\n",
       "      <td>...</td>\n",
       "      <td>0.000000</td>\n",
       "      <td>0.000000</td>\n",
       "      <td>0.0</td>\n",
       "      <td>0.0</td>\n",
       "      <td>0.000000</td>\n",
       "      <td>0.000000</td>\n",
       "      <td>0.000000</td>\n",
       "      <td>0.040000</td>\n",
       "      <td>7</td>\n",
       "      <td>AGAP002869 (CYP6P2) del</td>\n",
       "    </tr>\n",
       "    <tr>\n",
       "      <th>AGAP002870</th>\n",
       "      <th>CYP6AD1</th>\n",
       "      <th>amp</th>\n",
       "      <td>-</td>\n",
       "      <td>cytochrome P450 [Source:VB Community Annotation]</td>\n",
       "      <td>2R</td>\n",
       "      <td>28504248</td>\n",
       "      <td>28505816</td>\n",
       "      <td>0.0</td>\n",
       "      <td>0.0375</td>\n",
       "      <td>0.056604</td>\n",
       "      <td>0.0</td>\n",
       "      <td>0.922078</td>\n",
       "      <td>...</td>\n",
       "      <td>0.000000</td>\n",
       "      <td>0.000000</td>\n",
       "      <td>0.0</td>\n",
       "      <td>0.2</td>\n",
       "      <td>0.000000</td>\n",
       "      <td>0.038462</td>\n",
       "      <td>0.000000</td>\n",
       "      <td>0.922078</td>\n",
       "      <td>6</td>\n",
       "      <td>AGAP002870 (CYP6AD1) amp</td>\n",
       "    </tr>\n",
       "  </tbody>\n",
       "</table>\n",
       "<p>11 rows × 22 columns</p>\n",
       "</div>"
      ],
      "text/plain": [
       "                              gene_strand  \\\n",
       "gene_id    gene_name cnv_type               \n",
       "AGAP002862 CYP6AA1   amp                -   \n",
       "AGAP013128 CYP6AA2   amp                -   \n",
       "AGAP002863 COEAE6O   amp                -   \n",
       "AGAP002864 CYP6P15P  amp                -   \n",
       "AGAP002865 CYP6P3    amp                -   \n",
       "AGAP002866 CYP6P5    amp                -   \n",
       "AGAP002867 CYP6P4    amp                -   \n",
       "AGAP002868 CYP6P1    amp                -   \n",
       "AGAP002869 CYP6P2    amp                -   \n",
       "                     del                -   \n",
       "AGAP002870 CYP6AD1   amp                -   \n",
       "\n",
       "                                                                gene_description  \\\n",
       "gene_id    gene_name cnv_type                                                      \n",
       "AGAP002862 CYP6AA1   amp        cytochrome P450 [Source:VB Community Annotation]   \n",
       "AGAP013128 CYP6AA2   amp        cytochrome P450 [Source:VB Community Annotation]   \n",
       "AGAP002863 COEAE6O   amp       carboxylesterase alpha esterase [Source:VB Com...   \n",
       "AGAP002864 CYP6P15P  amp        cytochrome P450 [Source:VB Community Annotation]   \n",
       "AGAP002865 CYP6P3    amp        cytochrome P450 [Source:VB Community Annotation]   \n",
       "AGAP002866 CYP6P5    amp        cytochrome P450 [Source:VB Community Annotation]   \n",
       "AGAP002867 CYP6P4    amp        cytochrome P450 [Source:VB Community Annotation]   \n",
       "AGAP002868 CYP6P1    amp        cytochrome P450 [Source:VB Community Annotation]   \n",
       "AGAP002869 CYP6P2    amp        cytochrome P450 [Source:VB Community Annotation]   \n",
       "                     del        cytochrome P450 [Source:VB Community Annotation]   \n",
       "AGAP002870 CYP6AD1   amp        cytochrome P450 [Source:VB Community Annotation]   \n",
       "\n",
       "                              contig     start       end  \\\n",
       "gene_id    gene_name cnv_type                              \n",
       "AGAP002862 CYP6AA1   amp          2R  28480576  28482637   \n",
       "AGAP013128 CYP6AA2   amp          2R  28483301  28484921   \n",
       "AGAP002863 COEAE6O   amp          2R  28485262  28487080   \n",
       "AGAP002864 CYP6P15P  amp          2R  28487640  28489092   \n",
       "AGAP002865 CYP6P3    amp          2R  28491415  28493141   \n",
       "AGAP002866 CYP6P5    amp          2R  28494017  28495645   \n",
       "AGAP002867 CYP6P4    amp          2R  28497087  28498674   \n",
       "AGAP002868 CYP6P1    amp          2R  28499251  28500900   \n",
       "AGAP002869 CYP6P2    amp          2R  28501033  28502910   \n",
       "                     del          2R  28501033  28502910   \n",
       "AGAP002870 CYP6AD1   amp          2R  28504248  28505816   \n",
       "\n",
       "                               frq_AO-LUA_colu_2009  frq_BF-09_colu_2012  \\\n",
       "gene_id    gene_name cnv_type                                              \n",
       "AGAP002862 CYP6AA1   amp                        0.0               0.9125   \n",
       "AGAP013128 CYP6AA2   amp                        0.0               0.8250   \n",
       "AGAP002863 COEAE6O   amp                        0.0               0.6000   \n",
       "AGAP002864 CYP6P15P  amp                        0.0               0.5250   \n",
       "AGAP002865 CYP6P3    amp                        0.0               0.0375   \n",
       "AGAP002866 CYP6P5    amp                        0.0               0.0375   \n",
       "AGAP002867 CYP6P4    amp                        0.0               0.0375   \n",
       "AGAP002868 CYP6P1    amp                        0.0               0.0375   \n",
       "AGAP002869 CYP6P2    amp                        0.0               0.0375   \n",
       "                     del                        0.0               0.0000   \n",
       "AGAP002870 CYP6AD1   amp                        0.0               0.0375   \n",
       "\n",
       "                               frq_BF-09_colu_2014  frq_CF-BGF_colu_1994  \\\n",
       "gene_id    gene_name cnv_type                                              \n",
       "AGAP002862 CYP6AA1   amp                  0.811321                   0.0   \n",
       "AGAP013128 CYP6AA2   amp                  0.792453                   0.0   \n",
       "AGAP002863 COEAE6O   amp                  0.509434                   0.0   \n",
       "AGAP002864 CYP6P15P  amp                  0.528302                   0.0   \n",
       "AGAP002865 CYP6P3    amp                  0.075472                   0.0   \n",
       "AGAP002866 CYP6P5    amp                  0.056604                   0.0   \n",
       "AGAP002867 CYP6P4    amp                  0.075472                   0.0   \n",
       "AGAP002868 CYP6P1    amp                  0.056604                   0.0   \n",
       "AGAP002869 CYP6P2    amp                  0.056604                   0.0   \n",
       "                     del                  0.000000                   0.0   \n",
       "AGAP002870 CYP6AD1   amp                  0.056604                   0.0   \n",
       "\n",
       "                               frq_CI-LG_colu_2012  ...  frq_GH-WP_colu_2012  \\\n",
       "gene_id    gene_name cnv_type                       ...                        \n",
       "AGAP002862 CYP6AA1   amp                  0.870130  ...             0.125000   \n",
       "AGAP013128 CYP6AA2   amp                  0.870130  ...             0.125000   \n",
       "AGAP002863 COEAE6O   amp                  0.740260  ...             0.083333   \n",
       "AGAP002864 CYP6P15P  amp                  0.922078  ...             0.083333   \n",
       "AGAP002865 CYP6P3    amp                  0.922078  ...             0.041667   \n",
       "AGAP002866 CYP6P5    amp                  0.922078  ...             0.000000   \n",
       "AGAP002867 CYP6P4    amp                  0.922078  ...             0.000000   \n",
       "AGAP002868 CYP6P1    amp                  0.909091  ...             0.000000   \n",
       "AGAP002869 CYP6P2    amp                  0.922078  ...             0.000000   \n",
       "                     del                  0.000000  ...             0.000000   \n",
       "AGAP002870 CYP6AD1   amp                  0.922078  ...             0.000000   \n",
       "\n",
       "                               frq_GM-M_colu_2012  frq_GN-N_colu_2012  \\\n",
       "gene_id    gene_name cnv_type                                           \n",
       "AGAP002862 CYP6AA1   amp                 0.046784                 0.8   \n",
       "AGAP013128 CYP6AA2   amp                 0.029240                 0.8   \n",
       "AGAP002863 COEAE6O   amp                 0.000000                 0.1   \n",
       "AGAP002864 CYP6P15P  amp                 0.000000                 0.0   \n",
       "AGAP002865 CYP6P3    amp                 0.000000                 0.0   \n",
       "AGAP002866 CYP6P5    amp                 0.000000                 0.0   \n",
       "AGAP002867 CYP6P4    amp                 0.000000                 0.0   \n",
       "AGAP002868 CYP6P1    amp                 0.000000                 0.0   \n",
       "AGAP002869 CYP6P2    amp                 0.000000                 0.0   \n",
       "                     del                 0.000000                 0.0   \n",
       "AGAP002870 CYP6AD1   amp                 0.000000                 0.0   \n",
       "\n",
       "                               frq_ML-2_colu_2004  frq_ML-2_colu_2014  \\\n",
       "gene_id    gene_name cnv_type                                           \n",
       "AGAP002862 CYP6AA1   amp                      0.8            0.526316   \n",
       "AGAP013128 CYP6AA2   amp                      0.8            0.421053   \n",
       "AGAP002863 COEAE6O   amp                      0.0            0.263158   \n",
       "AGAP002864 CYP6P15P  amp                      0.2            0.263158   \n",
       "AGAP002865 CYP6P3    amp                      0.2            0.000000   \n",
       "AGAP002866 CYP6P5    amp                      0.2            0.000000   \n",
       "AGAP002867 CYP6P4    amp                      0.2            0.000000   \n",
       "AGAP002868 CYP6P1    amp                      0.2            0.000000   \n",
       "AGAP002869 CYP6P2    amp                      0.2            0.000000   \n",
       "                     del                      0.0            0.000000   \n",
       "AGAP002870 CYP6AD1   amp                      0.2            0.000000   \n",
       "\n",
       "                               frq_ML-3_colu_2012  frq_ML-4_colu_2004  \\\n",
       "gene_id    gene_name cnv_type                                           \n",
       "AGAP002862 CYP6AA1   amp                 0.846154            0.260870   \n",
       "AGAP013128 CYP6AA2   amp                 0.769231            0.260870   \n",
       "AGAP002863 COEAE6O   amp                 0.461538            0.043478   \n",
       "AGAP002864 CYP6P15P  amp                 0.346154            0.043478   \n",
       "AGAP002865 CYP6P3    amp                 0.038462            0.000000   \n",
       "AGAP002866 CYP6P5    amp                 0.038462            0.000000   \n",
       "AGAP002867 CYP6P4    amp                 0.038462            0.000000   \n",
       "AGAP002868 CYP6P1    amp                 0.038462            0.000000   \n",
       "AGAP002869 CYP6P2    amp                 0.038462            0.000000   \n",
       "                     del                 0.000000            0.000000   \n",
       "AGAP002870 CYP6AD1   amp                 0.038462            0.000000   \n",
       "\n",
       "                                 max_af  windows                      label  \n",
       "gene_id    gene_name cnv_type                                                \n",
       "AGAP002862 CYP6AA1   amp       0.912500        8   AGAP002862 (CYP6AA1) amp  \n",
       "AGAP013128 CYP6AA2   amp       0.870130        6   AGAP013128 (CYP6AA2) amp  \n",
       "AGAP002863 COEAE6O   amp       0.740260        7   AGAP002863 (COEAE6O) amp  \n",
       "AGAP002864 CYP6P15P  amp       0.922078        6  AGAP002864 (CYP6P15P) amp  \n",
       "AGAP002865 CYP6P3    amp       0.922078        7    AGAP002865 (CYP6P3) amp  \n",
       "AGAP002866 CYP6P5    amp       0.922078        6    AGAP002866 (CYP6P5) amp  \n",
       "AGAP002867 CYP6P4    amp       0.922078        6    AGAP002867 (CYP6P4) amp  \n",
       "AGAP002868 CYP6P1    amp       0.909091        6    AGAP002868 (CYP6P1) amp  \n",
       "AGAP002869 CYP6P2    amp       0.922078        7    AGAP002869 (CYP6P2) amp  \n",
       "                     del       0.040000        7    AGAP002869 (CYP6P2) del  \n",
       "AGAP002870 CYP6AD1   amp       0.922078        6   AGAP002870 (CYP6AD1) amp  \n",
       "\n",
       "[11 rows x 22 columns]"
      ]
     },
     "execution_count": 26,
     "metadata": {},
     "output_type": "execute_result"
    }
   ],
   "source": [
    "coluzzii_cyp6aap_cnv_freqs_df = ag3.gene_cnv_frequencies(\n",
    "    region=cyp6aap_region,\n",
    "    cohorts=cohorts,\n",
    "    sample_sets=sample_sets,\n",
    "    sample_query=sample_query,\n",
    ")\n",
    "coluzzii_cyp6aap_cnv_freqs_df"
   ]
  },
  {
   "cell_type": "markdown",
   "id": "f3955c5f-dbdf-4dbc-b1cc-cd301de8d40b",
   "metadata": {
    "id": "NV3QdJ6FjWBs"
   },
   "source": [
    "We can see that our query string has worked by listing the cohort frequency (\"frq\") columns in our output DataFrame. Note that the taxon is \"colu\" in each cohort."
   ]
  },
  {
   "cell_type": "code",
   "execution_count": 27,
   "id": "f2fa1258-616f-4b37-903e-9375adc89db7",
   "metadata": {},
   "outputs": [
    {
     "data": {
      "text/plain": [
       "['frq_AO-LUA_colu_2009',\n",
       " 'frq_BF-09_colu_2012',\n",
       " 'frq_BF-09_colu_2014',\n",
       " 'frq_CF-BGF_colu_1994',\n",
       " 'frq_CI-LG_colu_2012',\n",
       " 'frq_GH-AA_colu_2012',\n",
       " 'frq_GH-CP_colu_2012',\n",
       " 'frq_GH-WP_colu_2012',\n",
       " 'frq_GM-M_colu_2012',\n",
       " 'frq_GN-N_colu_2012',\n",
       " 'frq_ML-2_colu_2004',\n",
       " 'frq_ML-2_colu_2014',\n",
       " 'frq_ML-3_colu_2012',\n",
       " 'frq_ML-4_colu_2004']"
      ]
     },
     "execution_count": 27,
     "metadata": {},
     "output_type": "execute_result"
    }
   ],
   "source": [
    "colu_frequency_columns = [\n",
    "    col for col in coluzzii_cyp6aap_cnv_freqs_df.columns \n",
    "    if col.startswith(\"frq_\")\n",
    "]\n",
    "\n",
    "colu_frequency_columns"
   ]
  },
  {
   "cell_type": "markdown",
   "id": "536838c8-0914-4047-a87e-27af74c1663c",
   "metadata": {
    "id": "1BpOBVQiBqOH"
   },
   "source": [
    "Now we can visualise data for a locus of interest from this output using a heatmap, just as we did before."
   ]
  },
  {
   "cell_type": "code",
   "execution_count": 28,
   "id": "7e97bd70-e311-476e-9ae8-b3823bb289dc",
   "metadata": {},
   "outputs": [
    {
     "data": {
      "text/html": [
       "<html>\n",
       "<head><meta charset=\"utf-8\" /></head>\n",
       "<body>\n",
       "    <div>            <script src=\"https://cdnjs.cloudflare.com/ajax/libs/mathjax/2.7.5/MathJax.js?config=TeX-AMS-MML_SVG\"></script><script type=\"text/javascript\">if (window.MathJax && window.MathJax.Hub && window.MathJax.Hub.Config) {window.MathJax.Hub.Config({SVG: {font: \"STIX-Web\"}});}</script>                <script type=\"text/javascript\">window.PlotlyConfig = {MathJaxConfig: 'local'};</script>\n",
       "        <script charset=\"utf-8\" src=\"https://cdn.plot.ly/plotly-3.0.1.min.js\"></script>                <div id=\"88e555eb-39ae-4fbe-b3b3-0186bca68eb8\" class=\"plotly-graph-div\" style=\"height:440px; width:1000px;\"></div>            <script type=\"text/javascript\">                window.PLOTLYENV=window.PLOTLYENV || {};                                if (document.getElementById(\"88e555eb-39ae-4fbe-b3b3-0186bca68eb8\")) {                    Plotly.newPlot(                        \"88e555eb-39ae-4fbe-b3b3-0186bca68eb8\",                        [{\"coloraxis\":\"coloraxis\",\"name\":\"0\",\"texttemplate\":\"%{z:.0%}\",\"x\":[\"AO-LUA_colu_2009\",\"BF-09_colu_2012\",\"BF-09_colu_2014\",\"CF-BGF_colu_1994\",\"CI-LG_colu_2012\",\"GH-AA_colu_2012\",\"GH-CP_colu_2012\",\"GH-WP_colu_2012\",\"GM-M_colu_2012\",\"GN-N_colu_2012\",\"ML-2_colu_2004\",\"ML-2_colu_2014\",\"ML-3_colu_2012\",\"ML-4_colu_2004\"],\"y\":[\"AGAP002862 (CYP6AA1) amp\",\"AGAP013128 (CYP6AA2) amp\",\"AGAP002863 (COEAE6O) amp\",\"AGAP002864 (CYP6P15P) amp\",\"AGAP002865 (CYP6P3) amp\",\"AGAP002866 (CYP6P5) amp\",\"AGAP002867 (CYP6P4) amp\",\"AGAP002868 (CYP6P1) amp\",\"AGAP002869 (CYP6P2) amp\",\"AGAP002870 (CYP6AD1) amp\"],\"z\":{\"dtype\":\"f8\",\"bdata\":\"AAAAAAAAAAAzMzMzMzPtP0RqgvFW9uk\\u002fAAAAAAAAAABqYO+YGtjrPwAAAAAAAAAAexSuR+F6xD8AAAAAAADAP0B\\u002fAf0F9Kc\\u002fmpmZmZmZ6T+amZmZmZnpP3kN5TWU1+A\\u002fO7ETO7ET6z8LWchCFrLQPwAAAAAAAAAAZmZmZmZm6j9+DqkJxlvpPwAAAAAAAAAAamDvmBrY6z8AAAAAAAAAAHsUrkfhesQ\\u002fAAAAAAAAwD8Q30F8B\\u002fGdP5qZmZmZmek\\u002fmpmZmZmZ6T8or6G8hvLaP9mJndiJneg\\u002fC1nIQhay0D8AAAAAAAAAADMzMzMzM+M\\u002f463sc0hN4D8AAAAAAAAAANXA3jE1sOc\\u002fAAAAAAAAAAB7FK5H4Xq0P1VVVVVVVbU\\u002fAAAAAAAAAACamZmZmZm5PwAAAAAAAAAAeQ3lNZTX0D+e2Imd2IndP2QhC1nIQqY\\u002fAAAAAAAAAADNzMzMzMzgP6kJxlvZ5+A\\u002fAAAAAAAAAACmBvaOqYHtPwAAAAAAAAAAuB6F61G4zj9VVVVVVVW1PwAAAAAAAAAAAAAAAAAAAACamZmZmZnJP3kN5TWU19A\\u002fdmIndmIn1j9kIQtZyEKmPwAAAAAAAAAAMzMzMzMzoz\\u002fBeCv7HFKzPwAAAAAAAAAApgb2jqmB7T8AAAAAAAAAAHsUrkfhesQ\\u002fVVVVVVVVpT8AAAAAAAAAAAAAAAAAAAAAmpmZmZmZyT8AAAAAAAAAABQ7sRM7saM\\u002fAAAAAAAAAAAAAAAAAAAAADMzMzMzM6M\\u002fIjXBeCv7rD8AAAAAAAAAAKYG9o6pge0\\u002fAAAAAAAAAAB7FK5H4XrEPwAAAAAAAAAAAAAAAAAAAAAAAAAAAAAAAJqZmZmZmck\\u002fAAAAAAAAAAAUO7ETO7GjPwAAAAAAAAAAAAAAAAAAAAAzMzMzMzOjP8F4K\\u002fscUrM\\u002fAAAAAAAAAACmBvaOqYHtPwAAAAAAAAAAexSuR+F6xD8AAAAAAAAAAAAAAAAAAAAAAAAAAAAAAACamZmZmZnJPwAAAAAAAAAAFDuxEzuxoz8AAAAAAAAAAAAAAAAAAAAAMzMzMzMzoz8iNcF4K\\u002fusPwAAAAAAAAAAF1100UUX7T8AAAAAAAAAAHsUrkfhesQ\\u002fAAAAAAAAAAAAAAAAAAAAAAAAAAAAAAAAmpmZmZmZyT8AAAAAAAAAABQ7sRM7saM\\u002fAAAAAAAAAAAAAAAAAAAAADMzMzMzM6M\\u002fIjXBeCv7rD8AAAAAAAAAAKYG9o6pge0\\u002fAAAAAAAAAAB7FK5H4XrEPwAAAAAAAAAAAAAAAAAAAAAAAAAAAAAAAJqZmZmZmck\\u002fAAAAAAAAAAAUO7ETO7GjPwAAAAAAAAAAAAAAAAAAAAAzMzMzMzOjPyI1wXgr+6w\\u002fAAAAAAAAAACmBvaOqYHtPwAAAAAAAAAAexSuR+F6xD8AAAAAAAAAAAAAAAAAAAAAAAAAAAAAAACamZmZmZnJPwAAAAAAAAAAFDuxEzuxoz8AAAAAAAAAAA==\",\"shape\":\"10, 14\"},\"type\":\"heatmap\",\"xaxis\":\"x\",\"yaxis\":\"y\",\"hovertemplate\":\"x: %{x}\\u003cbr\\u003elabel: %{y}\\u003cbr\\u003ecolor: %{z}\\u003cextra\\u003e\\u003c\\u002fextra\\u003e\"}],                        {\"template\":{\"data\":{\"histogram2dcontour\":[{\"type\":\"histogram2dcontour\",\"colorbar\":{\"outlinewidth\":0,\"ticks\":\"\"},\"colorscale\":[[0.0,\"#0d0887\"],[0.1111111111111111,\"#46039f\"],[0.2222222222222222,\"#7201a8\"],[0.3333333333333333,\"#9c179e\"],[0.4444444444444444,\"#bd3786\"],[0.5555555555555556,\"#d8576b\"],[0.6666666666666666,\"#ed7953\"],[0.7777777777777778,\"#fb9f3a\"],[0.8888888888888888,\"#fdca26\"],[1.0,\"#f0f921\"]]}],\"choropleth\":[{\"type\":\"choropleth\",\"colorbar\":{\"outlinewidth\":0,\"ticks\":\"\"}}],\"histogram2d\":[{\"type\":\"histogram2d\",\"colorbar\":{\"outlinewidth\":0,\"ticks\":\"\"},\"colorscale\":[[0.0,\"#0d0887\"],[0.1111111111111111,\"#46039f\"],[0.2222222222222222,\"#7201a8\"],[0.3333333333333333,\"#9c179e\"],[0.4444444444444444,\"#bd3786\"],[0.5555555555555556,\"#d8576b\"],[0.6666666666666666,\"#ed7953\"],[0.7777777777777778,\"#fb9f3a\"],[0.8888888888888888,\"#fdca26\"],[1.0,\"#f0f921\"]]}],\"heatmap\":[{\"type\":\"heatmap\",\"colorbar\":{\"outlinewidth\":0,\"ticks\":\"\"},\"colorscale\":[[0.0,\"#0d0887\"],[0.1111111111111111,\"#46039f\"],[0.2222222222222222,\"#7201a8\"],[0.3333333333333333,\"#9c179e\"],[0.4444444444444444,\"#bd3786\"],[0.5555555555555556,\"#d8576b\"],[0.6666666666666666,\"#ed7953\"],[0.7777777777777778,\"#fb9f3a\"],[0.8888888888888888,\"#fdca26\"],[1.0,\"#f0f921\"]]}],\"contourcarpet\":[{\"type\":\"contourcarpet\",\"colorbar\":{\"outlinewidth\":0,\"ticks\":\"\"}}],\"contour\":[{\"type\":\"contour\",\"colorbar\":{\"outlinewidth\":0,\"ticks\":\"\"},\"colorscale\":[[0.0,\"#0d0887\"],[0.1111111111111111,\"#46039f\"],[0.2222222222222222,\"#7201a8\"],[0.3333333333333333,\"#9c179e\"],[0.4444444444444444,\"#bd3786\"],[0.5555555555555556,\"#d8576b\"],[0.6666666666666666,\"#ed7953\"],[0.7777777777777778,\"#fb9f3a\"],[0.8888888888888888,\"#fdca26\"],[1.0,\"#f0f921\"]]}],\"surface\":[{\"type\":\"surface\",\"colorbar\":{\"outlinewidth\":0,\"ticks\":\"\"},\"colorscale\":[[0.0,\"#0d0887\"],[0.1111111111111111,\"#46039f\"],[0.2222222222222222,\"#7201a8\"],[0.3333333333333333,\"#9c179e\"],[0.4444444444444444,\"#bd3786\"],[0.5555555555555556,\"#d8576b\"],[0.6666666666666666,\"#ed7953\"],[0.7777777777777778,\"#fb9f3a\"],[0.8888888888888888,\"#fdca26\"],[1.0,\"#f0f921\"]]}],\"mesh3d\":[{\"type\":\"mesh3d\",\"colorbar\":{\"outlinewidth\":0,\"ticks\":\"\"}}],\"scatter\":[{\"fillpattern\":{\"fillmode\":\"overlay\",\"size\":10,\"solidity\":0.2},\"type\":\"scatter\"}],\"parcoords\":[{\"type\":\"parcoords\",\"line\":{\"colorbar\":{\"outlinewidth\":0,\"ticks\":\"\"}}}],\"scatterpolargl\":[{\"type\":\"scatterpolargl\",\"marker\":{\"colorbar\":{\"outlinewidth\":0,\"ticks\":\"\"}}}],\"bar\":[{\"error_x\":{\"color\":\"#2a3f5f\"},\"error_y\":{\"color\":\"#2a3f5f\"},\"marker\":{\"line\":{\"color\":\"#E5ECF6\",\"width\":0.5},\"pattern\":{\"fillmode\":\"overlay\",\"size\":10,\"solidity\":0.2}},\"type\":\"bar\"}],\"scattergeo\":[{\"type\":\"scattergeo\",\"marker\":{\"colorbar\":{\"outlinewidth\":0,\"ticks\":\"\"}}}],\"scatterpolar\":[{\"type\":\"scatterpolar\",\"marker\":{\"colorbar\":{\"outlinewidth\":0,\"ticks\":\"\"}}}],\"histogram\":[{\"marker\":{\"pattern\":{\"fillmode\":\"overlay\",\"size\":10,\"solidity\":0.2}},\"type\":\"histogram\"}],\"scattergl\":[{\"type\":\"scattergl\",\"marker\":{\"colorbar\":{\"outlinewidth\":0,\"ticks\":\"\"}}}],\"scatter3d\":[{\"type\":\"scatter3d\",\"line\":{\"colorbar\":{\"outlinewidth\":0,\"ticks\":\"\"}},\"marker\":{\"colorbar\":{\"outlinewidth\":0,\"ticks\":\"\"}}}],\"scattermap\":[{\"type\":\"scattermap\",\"marker\":{\"colorbar\":{\"outlinewidth\":0,\"ticks\":\"\"}}}],\"scattermapbox\":[{\"type\":\"scattermapbox\",\"marker\":{\"colorbar\":{\"outlinewidth\":0,\"ticks\":\"\"}}}],\"scatterternary\":[{\"type\":\"scatterternary\",\"marker\":{\"colorbar\":{\"outlinewidth\":0,\"ticks\":\"\"}}}],\"scattercarpet\":[{\"type\":\"scattercarpet\",\"marker\":{\"colorbar\":{\"outlinewidth\":0,\"ticks\":\"\"}}}],\"carpet\":[{\"aaxis\":{\"endlinecolor\":\"#2a3f5f\",\"gridcolor\":\"white\",\"linecolor\":\"white\",\"minorgridcolor\":\"white\",\"startlinecolor\":\"#2a3f5f\"},\"baxis\":{\"endlinecolor\":\"#2a3f5f\",\"gridcolor\":\"white\",\"linecolor\":\"white\",\"minorgridcolor\":\"white\",\"startlinecolor\":\"#2a3f5f\"},\"type\":\"carpet\"}],\"table\":[{\"cells\":{\"fill\":{\"color\":\"#EBF0F8\"},\"line\":{\"color\":\"white\"}},\"header\":{\"fill\":{\"color\":\"#C8D4E3\"},\"line\":{\"color\":\"white\"}},\"type\":\"table\"}],\"barpolar\":[{\"marker\":{\"line\":{\"color\":\"#E5ECF6\",\"width\":0.5},\"pattern\":{\"fillmode\":\"overlay\",\"size\":10,\"solidity\":0.2}},\"type\":\"barpolar\"}],\"pie\":[{\"automargin\":true,\"type\":\"pie\"}]},\"layout\":{\"autotypenumbers\":\"strict\",\"colorway\":[\"#636efa\",\"#EF553B\",\"#00cc96\",\"#ab63fa\",\"#FFA15A\",\"#19d3f3\",\"#FF6692\",\"#B6E880\",\"#FF97FF\",\"#FECB52\"],\"font\":{\"color\":\"#2a3f5f\"},\"hovermode\":\"closest\",\"hoverlabel\":{\"align\":\"left\"},\"paper_bgcolor\":\"white\",\"plot_bgcolor\":\"#E5ECF6\",\"polar\":{\"bgcolor\":\"#E5ECF6\",\"angularaxis\":{\"gridcolor\":\"white\",\"linecolor\":\"white\",\"ticks\":\"\"},\"radialaxis\":{\"gridcolor\":\"white\",\"linecolor\":\"white\",\"ticks\":\"\"}},\"ternary\":{\"bgcolor\":\"#E5ECF6\",\"aaxis\":{\"gridcolor\":\"white\",\"linecolor\":\"white\",\"ticks\":\"\"},\"baxis\":{\"gridcolor\":\"white\",\"linecolor\":\"white\",\"ticks\":\"\"},\"caxis\":{\"gridcolor\":\"white\",\"linecolor\":\"white\",\"ticks\":\"\"}},\"coloraxis\":{\"colorbar\":{\"outlinewidth\":0,\"ticks\":\"\"}},\"colorscale\":{\"sequential\":[[0.0,\"#0d0887\"],[0.1111111111111111,\"#46039f\"],[0.2222222222222222,\"#7201a8\"],[0.3333333333333333,\"#9c179e\"],[0.4444444444444444,\"#bd3786\"],[0.5555555555555556,\"#d8576b\"],[0.6666666666666666,\"#ed7953\"],[0.7777777777777778,\"#fb9f3a\"],[0.8888888888888888,\"#fdca26\"],[1.0,\"#f0f921\"]],\"sequentialminus\":[[0.0,\"#0d0887\"],[0.1111111111111111,\"#46039f\"],[0.2222222222222222,\"#7201a8\"],[0.3333333333333333,\"#9c179e\"],[0.4444444444444444,\"#bd3786\"],[0.5555555555555556,\"#d8576b\"],[0.6666666666666666,\"#ed7953\"],[0.7777777777777778,\"#fb9f3a\"],[0.8888888888888888,\"#fdca26\"],[1.0,\"#f0f921\"]],\"diverging\":[[0,\"#8e0152\"],[0.1,\"#c51b7d\"],[0.2,\"#de77ae\"],[0.3,\"#f1b6da\"],[0.4,\"#fde0ef\"],[0.5,\"#f7f7f7\"],[0.6,\"#e6f5d0\"],[0.7,\"#b8e186\"],[0.8,\"#7fbc41\"],[0.9,\"#4d9221\"],[1,\"#276419\"]]},\"xaxis\":{\"gridcolor\":\"white\",\"linecolor\":\"white\",\"ticks\":\"\",\"title\":{\"standoff\":15},\"zerolinecolor\":\"white\",\"automargin\":true,\"zerolinewidth\":2},\"yaxis\":{\"gridcolor\":\"white\",\"linecolor\":\"white\",\"ticks\":\"\",\"title\":{\"standoff\":15},\"zerolinecolor\":\"white\",\"automargin\":true,\"zerolinewidth\":2},\"scene\":{\"xaxis\":{\"backgroundcolor\":\"#E5ECF6\",\"gridcolor\":\"white\",\"linecolor\":\"white\",\"showbackground\":true,\"ticks\":\"\",\"zerolinecolor\":\"white\",\"gridwidth\":2},\"yaxis\":{\"backgroundcolor\":\"#E5ECF6\",\"gridcolor\":\"white\",\"linecolor\":\"white\",\"showbackground\":true,\"ticks\":\"\",\"zerolinecolor\":\"white\",\"gridwidth\":2},\"zaxis\":{\"backgroundcolor\":\"#E5ECF6\",\"gridcolor\":\"white\",\"linecolor\":\"white\",\"showbackground\":true,\"ticks\":\"\",\"zerolinecolor\":\"white\",\"gridwidth\":2}},\"shapedefaults\":{\"line\":{\"color\":\"#2a3f5f\"}},\"annotationdefaults\":{\"arrowcolor\":\"#2a3f5f\",\"arrowhead\":0,\"arrowwidth\":1},\"geo\":{\"bgcolor\":\"white\",\"landcolor\":\"#E5ECF6\",\"subunitcolor\":\"white\",\"showland\":true,\"showlakes\":true,\"lakecolor\":\"white\"},\"title\":{\"x\":0.05},\"mapbox\":{\"style\":\"light\"}}},\"xaxis\":{\"anchor\":\"y\",\"domain\":[0.0,1.0],\"side\":\"bottom\",\"tickangle\":30,\"title\":{\"text\":\"Cohorts\"}},\"yaxis\":{\"anchor\":\"x\",\"domain\":[0.0,1.0],\"autorange\":\"reversed\",\"title\":{\"text\":\"Variants\"}},\"coloraxis\":{\"colorscale\":[[0.0,\"rgb(255,245,240)\"],[0.125,\"rgb(254,224,210)\"],[0.25,\"rgb(252,187,161)\"],[0.375,\"rgb(252,146,114)\"],[0.5,\"rgb(251,106,74)\"],[0.625,\"rgb(239,59,44)\"],[0.75,\"rgb(203,24,29)\"],[0.875,\"rgb(165,15,21)\"],[1.0,\"rgb(103,0,13)\"]],\"cmin\":0,\"cmax\":1,\"colorbar\":{\"title\":{\"text\":\"Frequency\"},\"tickvals\":[0,0.2,0.4,0.6,0.8,1.0],\"ticktext\":[\"0%\",\"20%\",\"40%\",\"60%\",\"80%\",\"100%\"]}},\"title\":{\"text\":\"Gene CNV frequencies, An. coluzzii, Cyp6aa\\u002fp locus\"},\"height\":440,\"width\":1000},                        {\"responsive\": true}                    ).then(function(){\n",
       "                            \n",
       "var gd = document.getElementById('88e555eb-39ae-4fbe-b3b3-0186bca68eb8');\n",
       "var x = new MutationObserver(function (mutations, observer) {{\n",
       "        var display = window.getComputedStyle(gd).display;\n",
       "        if (!display || display === 'none') {{\n",
       "            console.log([gd, 'removed!']);\n",
       "            Plotly.purge(gd);\n",
       "            observer.disconnect();\n",
       "        }}\n",
       "}});\n",
       "\n",
       "// Listen for the removal of the full notebook cells\n",
       "var notebookContainer = gd.closest('#notebook-container');\n",
       "if (notebookContainer) {{\n",
       "    x.observe(notebookContainer, {childList: true});\n",
       "}}\n",
       "\n",
       "// Listen for the clearing of the current output cell\n",
       "var outputEl = gd.closest('.output');\n",
       "if (outputEl) {{\n",
       "    x.observe(outputEl, {childList: true});\n",
       "}}\n",
       "\n",
       "                        })                };            </script>        </div>\n",
       "</body>\n",
       "</html>"
      ]
     },
     "metadata": {},
     "output_type": "display_data"
    }
   ],
   "source": [
    "ag3.plot_frequencies_heatmap(\n",
    "    coluzzii_cyp6aap_cnv_freqs_df.query(\"max_af > 0.05\"), \n",
    "    title=\"Gene CNV frequencies, An. coluzzii, Cyp6aa/p locus\"\n",
    ")"
   ]
  },
  {
   "cell_type": "markdown",
   "id": "84ba04d7-aeb7-425b-8403-6a5fd4edb2c4",
   "metadata": {
    "id": "cX87UJ16lZfD"
   },
   "source": [
    "We can see CNV frequencies appear to differ between geographical locations drastically. For example, Cote D'Ivoire has the highest frequencies across the most genes in the cluster (\"CI-LG_colu_2012\"), but the collection from the same year in neighbouring Ghana (\"GH-AA_colu_2012\") has no evidence for CNVs at this locus."
   ]
  },
  {
   "cell_type": "markdown",
   "id": "a9a59881-9c8a-4c89-aa7c-65d793b3a400",
   "metadata": {
    "id": "-F5rviLiOdup"
   },
   "source": [
    "**Exercise 4 (English)**\n",
    "\n",
    "Look at the same *Cypaa/p* locus, but this time at only *An. gambiae*.  What patterns can you see in the results?\n",
    "\n",
    "Hint: change `sample_query` taxon to \"gambiae\".\n",
    "\n",
    "**Exercice 4 (Français)**\n",
    "\n",
    "Observer le même locus *Cypaa/p*, mais cette fois seulement pour *An. gambiae*. Quels motifs pouvez-vous observer dans ces résultats?\n",
    "\n",
    "Indice: remplacer le taxon dans `sample_query` par \"gambiae\"."
   ]
  },
  {
   "cell_type": "code",
   "execution_count": 29,
   "id": "6b7cc20c-ebe0-45eb-b996-c7b37d99ec12",
   "metadata": {},
   "outputs": [],
   "source": [
    "# sample_query = ???\n",
    "\n",
    "# gambiae_cyp6aap_cnv_freqs_df = ag3.gene_cnv_frequencies(\n",
    "#     region=cyp6aap_region,\n",
    "#     cohorts=cohorts,\n",
    "#     sample_sets=sample_sets,\n",
    "#     sample_query=sample_query,\n",
    "# )\n",
    "\n",
    "# ag3.plot_frequencies_heatmap(\n",
    "#     gambiae_cyp6aap_cnv_freqs_df.query(\"max_af > 0.05\"), \n",
    "#     title=\"Gene CNV frequencies, An. gambiae, Cyp6aa/p locus\"\n",
    "# )"
   ]
  },
  {
   "cell_type": "markdown",
   "id": "e6dc6088-89b8-4b56-bad2-029f5a8479f4",
   "metadata": {
    "id": "f-6Lzvw_SbuH",
    "tags": []
   },
   "source": [
    "## Plotting frequency time series\n",
    "  \n",
    "For surveillance it can be very informative to observe changes in CNV frequencies over time for a given sampling location and species. CNVs under selection due to insecticide resistance will increase in frequency over time, and plotting the frequency data as a time series can help to see this. The `malariagen_data` package includes a function [`plot_frequencies_time_series()`](https://malariagen.github.io/malariagen-data-python/latest/generated/malariagen_data.ag3.Ag3.plot_frequencies_time_series.html#malariagen_data.ag3.Ag3.plot_frequencies_time_series) for plotting frequency time series. These are a little more advanced to use, but we'll illustrate them below.\n",
    "\n",
    "*N.B.*, in the Ag3.0 data resource there is only one country where we have data from multiple time points, which is Burkina Faso. However, data in future releases will contain a number of time series, and so it's useful to illustrate this functionality now.\n",
    "\n",
    "First we need to compute the gene CNV frequencies. To obtain the necessary data for time series plotting, we need to use a slightly different function for computing the frequencies - [`gene_cnv_frequencies_advanced()`](https://malariagen.github.io/malariagen-data-python/latest/generated/malariagen_data.ag3.Ag3.gene_cnv_frequencies_advanced.html#malariagen_data.ag3.Ag3.gene_cnv_frequencies_advanced)."
   ]
  },
  {
   "cell_type": "code",
   "execution_count": 30,
   "id": "3afcf714-789f-4005-afc7-83f7a71b6d9e",
   "metadata": {
    "tags": [
     "remove-output"
    ]
   },
   "outputs": [
    {
     "data": {
      "text/plain": [
       "\u001b[31mSignature:\u001b[39m\n",
       "ag3.gene_cnv_frequencies_advanced(\n",
       "    region: Union[str, malariagen_data.util.Region, Mapping, List[Union[str, malariagen_data.util.Region, Mapping]], Tuple[Union[str, malariagen_data.util.Region, Mapping], ...]],\n",
       "    area_by: str,\n",
       "    period_by: Literal[\u001b[33m'year'\u001b[39m, \u001b[33m'quarter'\u001b[39m, \u001b[33m'month'\u001b[39m],\n",
       "    sample_sets: Union[str, Sequence[str], NoneType] = \u001b[38;5;28;01mNone\u001b[39;00m,\n",
       "    sample_query: Optional[str] = \u001b[38;5;28;01mNone\u001b[39;00m,\n",
       "    sample_query_options: Optional[dict] = \u001b[38;5;28;01mNone\u001b[39;00m,\n",
       "    min_cohort_size: int = \u001b[32m10\u001b[39m,\n",
       "    drop_invariant: bool = \u001b[38;5;28;01mTrue\u001b[39;00m,\n",
       "    variant_query: Optional[str] = \u001b[38;5;28;01mNone\u001b[39;00m,\n",
       "    max_coverage_variance: Optional[float] = \u001b[32m0.2\u001b[39m,\n",
       "    nobs_mode: Literal[\u001b[33m'called'\u001b[39m, \u001b[33m'fixed'\u001b[39m] = \u001b[33m'called'\u001b[39m,\n",
       "    ci_method: Optional[Literal[\u001b[33m'normal'\u001b[39m, \u001b[33m'agresti_coull'\u001b[39m, \u001b[33m'beta'\u001b[39m, \u001b[33m'wilson'\u001b[39m, \u001b[33m'binom_test'\u001b[39m]] = \u001b[33m'wilson'\u001b[39m,\n",
       "    chunks: Union[int, str, Tuple[Union[int, str], ...], Callable[[Tuple[int, ...]], Union[int, str, Tuple[Union[int, str], ...]]]] = \u001b[33m'native'\u001b[39m,\n",
       "    inline_array: bool = \u001b[38;5;28;01mTrue\u001b[39;00m,\n",
       ") -> xarray.core.dataset.Dataset\n",
       "\u001b[31mDocstring:\u001b[39m\n",
       "Group samples by taxon, area (space) and period (time), then compute\n",
       "gene CNV counts and frequencies.\n",
       "\n",
       "Parameters\n",
       "----------\n",
       "region : str or Region or Mapping or list of str or Region or Mapping or tuple of str or Region or Mapping\n",
       "    Region of the reference genome. Can be a contig name, region string\n",
       "    (formatted like \"{contig}:{start}-{end}\"), or identifier of a genome\n",
       "    feature such as a gene or transcript. Can also be a sequence (e.g.,\n",
       "    list) of regions.\n",
       "area_by : str\n",
       "    Column name in the sample metadata to use to group samples spatially.\n",
       "    E.g., use \"admin1_iso\" or \"admin1_name\" to group by level 1\n",
       "    administrative divisions, or use \"admin2_name\" to group by level 2\n",
       "    administrative divisions.\n",
       "period_by : {'year', 'quarter', 'month'}\n",
       "    Length of time to group samples temporally.\n",
       "sample_sets : sequence of str or str or None, optional\n",
       "    List of sample sets and/or releases. Can also be a single sample set\n",
       "    or release.\n",
       "sample_query : str or None, optional\n",
       "    A pandas query string to be evaluated against the sample metadata, to\n",
       "    select samples to be included in the returned data.\n",
       "sample_query_options : dict or None, optional\n",
       "    A dictionary of arguments that will be passed through to pandas\n",
       "    query() or eval(), e.g. parser, engine, local_dict, global_dict,\n",
       "    resolvers.\n",
       "min_cohort_size : int, optional, default: 10\n",
       "    Minimum cohort size. Raise an error if the number of samples is less\n",
       "    than this value.\n",
       "drop_invariant : bool, optional, default: True\n",
       "    If True, drop variants not observed in the selected samples.\n",
       "variant_query : str or None, optional\n",
       "    A pandas query to be evaluated against variants.\n",
       "max_coverage_variance : float or None, optional, default: 0.2\n",
       "    Remove samples if coverage variance exceeds this value.\n",
       "nobs_mode : {'called', 'fixed'}, optional, default: 'called'\n",
       "    Method for calculating the denominator when computing frequencies. If\n",
       "    \"called\" then use the number of called alleles, i.e., number of\n",
       "    samples with non-missing genotype calls multiplied by 2. If \"fixed\"\n",
       "    then use the number of samples multiplied by 2.\n",
       "ci_method : {'normal', 'agresti_coull', 'beta', 'wilson', 'binom_test'} or None, optional, default: 'wilson'\n",
       "    Method to use for computing confidence intervals, passed through to\n",
       "    `statsmodels.stats.proportion.proportion_confint`.\n",
       "chunks : int or str or tuple of int or str or Callable[[typing.Tuple[int, ...]], int or str or tuple of int or str], optional, default: 'native'\n",
       "    Define how input data being read from zarr should be divided into\n",
       "    chunks for a dask computation. If 'native', use underlying zarr\n",
       "    chunks. If a string specifying a target memory size, e.g., '300 MiB',\n",
       "    resize chunks in arrays with more than one dimension to match this\n",
       "    size. If 'auto', let dask decide chunk size.  If 'ndauto', let dask\n",
       "    decide chunk size but only for arrays with more than one dimension. If\n",
       "    'ndauto0', as 'ndauto' but only vary the first chunk dimension. If\n",
       "    'ndauto1', as 'ndauto' but only vary the second chunk dimension. If\n",
       "    'ndauto01', as 'ndauto' but only vary the first and second chunk\n",
       "    dimensions. Also, can be a tuple of integers, or a callable which\n",
       "    accepts the native chunks as a single argument and returns a valid\n",
       "    dask chunks value.\n",
       "inline_array : bool, optional, default: True\n",
       "    Passed through to dask `from_array()`.\n",
       "\n",
       "Returns\n",
       "-------\n",
       "Dataset\n",
       "    The resulting dataset contains data has dimensions \"cohorts\" and\n",
       "    \"variants\". Variables prefixed with \"cohort\" are 1-dimensional\n",
       "    arrays with data about the cohorts, such as the area, period, taxon\n",
       "    and cohort size. Variables prefixed with \"variant\" are 1-dimensional\n",
       "    arrays with data about the variants, such as the contig, position,\n",
       "    reference and alternate alleles. Variables prefixed with \"event\" are\n",
       "    2-dimensional arrays with the allele counts and frequency\n",
       "    calculations.\n",
       "\u001b[31mFile:\u001b[39m      /home/conda/developer/55fe7ffdc8f19782d8fa1d5de44c1f26cc58e5a472146c0c30061f0238bc3185-20250317-170017-682536-85-training-nb-maintenance-mgen-15.0.1/lib/python3.11/site-packages/malariagen_data/anoph/cnv_frq.py\n",
       "\u001b[31mType:\u001b[39m      method"
      ]
     },
     "metadata": {},
     "output_type": "display_data"
    }
   ],
   "source": [
    "ag3.gene_cnv_frequencies_advanced?"
   ]
  },
  {
   "cell_type": "markdown",
   "id": "d77b02f4-f0a1-41eb-9713-a7d13e431f79",
   "metadata": {
    "id": "1qsqQGV9SMK0"
   },
   "source": [
    "We can see alongside `region` there are a couple of new required parameters for this function.\n",
    "  \n",
    "The `area_by` parameter determines how to group samples in space - we're going to use \"admin1_iso\" here, which uses the ISO codes for level 1 administrative divisions. (Another option would be \"admin2_name\" to group by level 2 administrative divisions.)\n",
    "\n",
    "The `period_by` parameter determines how to group samples in time, let's do this by \"year\".\n",
    "\n",
    "So let's look at the *Cyp6aa/p* locus, again using just samples from Burkina Faso."
   ]
  },
  {
   "cell_type": "code",
   "execution_count": 31,
   "id": "3917be81-695c-4887-948d-9a292a178460",
   "metadata": {},
   "outputs": [
    {
     "data": {
      "text/html": [
       "<div><svg style=\"position: absolute; width: 0; height: 0; overflow: hidden\">\n",
       "<defs>\n",
       "<symbol id=\"icon-database\" viewBox=\"0 0 32 32\">\n",
       "<path d=\"M16 0c-8.837 0-16 2.239-16 5v4c0 2.761 7.163 5 16 5s16-2.239 16-5v-4c0-2.761-7.163-5-16-5z\"></path>\n",
       "<path d=\"M16 17c-8.837 0-16-2.239-16-5v6c0 2.761 7.163 5 16 5s16-2.239 16-5v-6c0 2.761-7.163 5-16 5z\"></path>\n",
       "<path d=\"M16 26c-8.837 0-16-2.239-16-5v6c0 2.761 7.163 5 16 5s16-2.239 16-5v-6c0 2.761-7.163 5-16 5z\"></path>\n",
       "</symbol>\n",
       "<symbol id=\"icon-file-text2\" viewBox=\"0 0 32 32\">\n",
       "<path d=\"M28.681 7.159c-0.694-0.947-1.662-2.053-2.724-3.116s-2.169-2.030-3.116-2.724c-1.612-1.182-2.393-1.319-2.841-1.319h-15.5c-1.378 0-2.5 1.121-2.5 2.5v27c0 1.378 1.122 2.5 2.5 2.5h23c1.378 0 2.5-1.122 2.5-2.5v-19.5c0-0.448-0.137-1.23-1.319-2.841zM24.543 5.457c0.959 0.959 1.712 1.825 2.268 2.543h-4.811v-4.811c0.718 0.556 1.584 1.309 2.543 2.268zM28 29.5c0 0.271-0.229 0.5-0.5 0.5h-23c-0.271 0-0.5-0.229-0.5-0.5v-27c0-0.271 0.229-0.5 0.5-0.5 0 0 15.499-0 15.5 0v7c0 0.552 0.448 1 1 1h7v19.5z\"></path>\n",
       "<path d=\"M23 26h-14c-0.552 0-1-0.448-1-1s0.448-1 1-1h14c0.552 0 1 0.448 1 1s-0.448 1-1 1z\"></path>\n",
       "<path d=\"M23 22h-14c-0.552 0-1-0.448-1-1s0.448-1 1-1h14c0.552 0 1 0.448 1 1s-0.448 1-1 1z\"></path>\n",
       "<path d=\"M23 18h-14c-0.552 0-1-0.448-1-1s0.448-1 1-1h14c0.552 0 1 0.448 1 1s-0.448 1-1 1z\"></path>\n",
       "</symbol>\n",
       "</defs>\n",
       "</svg>\n",
       "<style>/* CSS stylesheet for displaying xarray objects in jupyterlab.\n",
       " *\n",
       " */\n",
       "\n",
       ":root {\n",
       "  --xr-font-color0: var(--jp-content-font-color0, rgba(0, 0, 0, 1));\n",
       "  --xr-font-color2: var(--jp-content-font-color2, rgba(0, 0, 0, 0.54));\n",
       "  --xr-font-color3: var(--jp-content-font-color3, rgba(0, 0, 0, 0.38));\n",
       "  --xr-border-color: var(--jp-border-color2, #e0e0e0);\n",
       "  --xr-disabled-color: var(--jp-layout-color3, #bdbdbd);\n",
       "  --xr-background-color: var(--jp-layout-color0, white);\n",
       "  --xr-background-color-row-even: var(--jp-layout-color1, white);\n",
       "  --xr-background-color-row-odd: var(--jp-layout-color2, #eeeeee);\n",
       "}\n",
       "\n",
       "html[theme=dark],\n",
       "html[data-theme=dark],\n",
       "body[data-theme=dark],\n",
       "body.vscode-dark {\n",
       "  --xr-font-color0: rgba(255, 255, 255, 1);\n",
       "  --xr-font-color2: rgba(255, 255, 255, 0.54);\n",
       "  --xr-font-color3: rgba(255, 255, 255, 0.38);\n",
       "  --xr-border-color: #1F1F1F;\n",
       "  --xr-disabled-color: #515151;\n",
       "  --xr-background-color: #111111;\n",
       "  --xr-background-color-row-even: #111111;\n",
       "  --xr-background-color-row-odd: #313131;\n",
       "}\n",
       "\n",
       ".xr-wrap {\n",
       "  display: block !important;\n",
       "  min-width: 300px;\n",
       "  max-width: 700px;\n",
       "}\n",
       "\n",
       ".xr-text-repr-fallback {\n",
       "  /* fallback to plain text repr when CSS is not injected (untrusted notebook) */\n",
       "  display: none;\n",
       "}\n",
       "\n",
       ".xr-header {\n",
       "  padding-top: 6px;\n",
       "  padding-bottom: 6px;\n",
       "  margin-bottom: 4px;\n",
       "  border-bottom: solid 1px var(--xr-border-color);\n",
       "}\n",
       "\n",
       ".xr-header > div,\n",
       ".xr-header > ul {\n",
       "  display: inline;\n",
       "  margin-top: 0;\n",
       "  margin-bottom: 0;\n",
       "}\n",
       "\n",
       ".xr-obj-type,\n",
       ".xr-array-name {\n",
       "  margin-left: 2px;\n",
       "  margin-right: 10px;\n",
       "}\n",
       "\n",
       ".xr-obj-type {\n",
       "  color: var(--xr-font-color2);\n",
       "}\n",
       "\n",
       ".xr-sections {\n",
       "  padding-left: 0 !important;\n",
       "  display: grid;\n",
       "  grid-template-columns: 150px auto auto 1fr 0 20px 0 20px;\n",
       "}\n",
       "\n",
       ".xr-section-item {\n",
       "  display: contents;\n",
       "}\n",
       "\n",
       ".xr-section-item input {\n",
       "  display: inline-block;\n",
       "  opacity: 0;\n",
       "}\n",
       "\n",
       ".xr-section-item input + label {\n",
       "  color: var(--xr-disabled-color);\n",
       "}\n",
       "\n",
       ".xr-section-item input:enabled + label {\n",
       "  cursor: pointer;\n",
       "  color: var(--xr-font-color2);\n",
       "}\n",
       "\n",
       ".xr-section-item input:focus + label {\n",
       "  border: 2px solid var(--xr-font-color0);\n",
       "}\n",
       "\n",
       ".xr-section-item input:enabled + label:hover {\n",
       "  color: var(--xr-font-color0);\n",
       "}\n",
       "\n",
       ".xr-section-summary {\n",
       "  grid-column: 1;\n",
       "  color: var(--xr-font-color2);\n",
       "  font-weight: 500;\n",
       "}\n",
       "\n",
       ".xr-section-summary > span {\n",
       "  display: inline-block;\n",
       "  padding-left: 0.5em;\n",
       "}\n",
       "\n",
       ".xr-section-summary-in:disabled + label {\n",
       "  color: var(--xr-font-color2);\n",
       "}\n",
       "\n",
       ".xr-section-summary-in + label:before {\n",
       "  display: inline-block;\n",
       "  content: '►';\n",
       "  font-size: 11px;\n",
       "  width: 15px;\n",
       "  text-align: center;\n",
       "}\n",
       "\n",
       ".xr-section-summary-in:disabled + label:before {\n",
       "  color: var(--xr-disabled-color);\n",
       "}\n",
       "\n",
       ".xr-section-summary-in:checked + label:before {\n",
       "  content: '▼';\n",
       "}\n",
       "\n",
       ".xr-section-summary-in:checked + label > span {\n",
       "  display: none;\n",
       "}\n",
       "\n",
       ".xr-section-summary,\n",
       ".xr-section-inline-details {\n",
       "  padding-top: 4px;\n",
       "  padding-bottom: 4px;\n",
       "}\n",
       "\n",
       ".xr-section-inline-details {\n",
       "  grid-column: 2 / -1;\n",
       "}\n",
       "\n",
       ".xr-section-details {\n",
       "  display: none;\n",
       "  grid-column: 1 / -1;\n",
       "  margin-bottom: 5px;\n",
       "}\n",
       "\n",
       ".xr-section-summary-in:checked ~ .xr-section-details {\n",
       "  display: contents;\n",
       "}\n",
       "\n",
       ".xr-array-wrap {\n",
       "  grid-column: 1 / -1;\n",
       "  display: grid;\n",
       "  grid-template-columns: 20px auto;\n",
       "}\n",
       "\n",
       ".xr-array-wrap > label {\n",
       "  grid-column: 1;\n",
       "  vertical-align: top;\n",
       "}\n",
       "\n",
       ".xr-preview {\n",
       "  color: var(--xr-font-color3);\n",
       "}\n",
       "\n",
       ".xr-array-preview,\n",
       ".xr-array-data {\n",
       "  padding: 0 5px !important;\n",
       "  grid-column: 2;\n",
       "}\n",
       "\n",
       ".xr-array-data,\n",
       ".xr-array-in:checked ~ .xr-array-preview {\n",
       "  display: none;\n",
       "}\n",
       "\n",
       ".xr-array-in:checked ~ .xr-array-data,\n",
       ".xr-array-preview {\n",
       "  display: inline-block;\n",
       "}\n",
       "\n",
       ".xr-dim-list {\n",
       "  display: inline-block !important;\n",
       "  list-style: none;\n",
       "  padding: 0 !important;\n",
       "  margin: 0;\n",
       "}\n",
       "\n",
       ".xr-dim-list li {\n",
       "  display: inline-block;\n",
       "  padding: 0;\n",
       "  margin: 0;\n",
       "}\n",
       "\n",
       ".xr-dim-list:before {\n",
       "  content: '(';\n",
       "}\n",
       "\n",
       ".xr-dim-list:after {\n",
       "  content: ')';\n",
       "}\n",
       "\n",
       ".xr-dim-list li:not(:last-child):after {\n",
       "  content: ',';\n",
       "  padding-right: 5px;\n",
       "}\n",
       "\n",
       ".xr-has-index {\n",
       "  font-weight: bold;\n",
       "}\n",
       "\n",
       ".xr-var-list,\n",
       ".xr-var-item {\n",
       "  display: contents;\n",
       "}\n",
       "\n",
       ".xr-var-item > div,\n",
       ".xr-var-item label,\n",
       ".xr-var-item > .xr-var-name span {\n",
       "  background-color: var(--xr-background-color-row-even);\n",
       "  margin-bottom: 0;\n",
       "}\n",
       "\n",
       ".xr-var-item > .xr-var-name:hover span {\n",
       "  padding-right: 5px;\n",
       "}\n",
       "\n",
       ".xr-var-list > li:nth-child(odd) > div,\n",
       ".xr-var-list > li:nth-child(odd) > label,\n",
       ".xr-var-list > li:nth-child(odd) > .xr-var-name span {\n",
       "  background-color: var(--xr-background-color-row-odd);\n",
       "}\n",
       "\n",
       ".xr-var-name {\n",
       "  grid-column: 1;\n",
       "}\n",
       "\n",
       ".xr-var-dims {\n",
       "  grid-column: 2;\n",
       "}\n",
       "\n",
       ".xr-var-dtype {\n",
       "  grid-column: 3;\n",
       "  text-align: right;\n",
       "  color: var(--xr-font-color2);\n",
       "}\n",
       "\n",
       ".xr-var-preview {\n",
       "  grid-column: 4;\n",
       "}\n",
       "\n",
       ".xr-index-preview {\n",
       "  grid-column: 2 / 5;\n",
       "  color: var(--xr-font-color2);\n",
       "}\n",
       "\n",
       ".xr-var-name,\n",
       ".xr-var-dims,\n",
       ".xr-var-dtype,\n",
       ".xr-preview,\n",
       ".xr-attrs dt {\n",
       "  white-space: nowrap;\n",
       "  overflow: hidden;\n",
       "  text-overflow: ellipsis;\n",
       "  padding-right: 10px;\n",
       "}\n",
       "\n",
       ".xr-var-name:hover,\n",
       ".xr-var-dims:hover,\n",
       ".xr-var-dtype:hover,\n",
       ".xr-attrs dt:hover {\n",
       "  overflow: visible;\n",
       "  width: auto;\n",
       "  z-index: 1;\n",
       "}\n",
       "\n",
       ".xr-var-attrs,\n",
       ".xr-var-data,\n",
       ".xr-index-data {\n",
       "  display: none;\n",
       "  background-color: var(--xr-background-color) !important;\n",
       "  padding-bottom: 5px !important;\n",
       "}\n",
       "\n",
       ".xr-var-attrs-in:checked ~ .xr-var-attrs,\n",
       ".xr-var-data-in:checked ~ .xr-var-data,\n",
       ".xr-index-data-in:checked ~ .xr-index-data {\n",
       "  display: block;\n",
       "}\n",
       "\n",
       ".xr-var-data > table {\n",
       "  float: right;\n",
       "}\n",
       "\n",
       ".xr-var-name span,\n",
       ".xr-var-data,\n",
       ".xr-index-name div,\n",
       ".xr-index-data,\n",
       ".xr-attrs {\n",
       "  padding-left: 25px !important;\n",
       "}\n",
       "\n",
       ".xr-attrs,\n",
       ".xr-var-attrs,\n",
       ".xr-var-data,\n",
       ".xr-index-data {\n",
       "  grid-column: 1 / -1;\n",
       "}\n",
       "\n",
       "dl.xr-attrs {\n",
       "  padding: 0;\n",
       "  margin: 0;\n",
       "  display: grid;\n",
       "  grid-template-columns: 125px auto;\n",
       "}\n",
       "\n",
       ".xr-attrs dt,\n",
       ".xr-attrs dd {\n",
       "  padding: 0;\n",
       "  margin: 0;\n",
       "  float: left;\n",
       "  padding-right: 10px;\n",
       "  width: auto;\n",
       "}\n",
       "\n",
       ".xr-attrs dt {\n",
       "  font-weight: normal;\n",
       "  grid-column: 1;\n",
       "}\n",
       "\n",
       ".xr-attrs dt:hover span {\n",
       "  display: inline-block;\n",
       "  background: var(--xr-background-color);\n",
       "  padding-right: 10px;\n",
       "}\n",
       "\n",
       ".xr-attrs dd {\n",
       "  grid-column: 2;\n",
       "  white-space: pre-wrap;\n",
       "  word-break: break-all;\n",
       "}\n",
       "\n",
       ".xr-icon-database,\n",
       ".xr-icon-file-text2,\n",
       ".xr-no-icon {\n",
       "  display: inline-block;\n",
       "  vertical-align: middle;\n",
       "  width: 1em;\n",
       "  height: 1.5em !important;\n",
       "  stroke-width: 0;\n",
       "  stroke: currentColor;\n",
       "  fill: currentColor;\n",
       "}\n",
       "</style><pre class='xr-text-repr-fallback'>&lt;xarray.Dataset&gt; Size: 4kB\n",
       "Dimensions:                 (cohorts: 5, variants: 11)\n",
       "Dimensions without coordinates: cohorts, variants\n",
       "Data variables: (12/28)\n",
       "    cohort_area             (cohorts) object 40B &#x27;BF-09&#x27; &#x27;BF-09&#x27; ... &#x27;BF-09&#x27;\n",
       "    cohort_label            (cohorts) object 40B &#x27;BF-09_colu_2012&#x27; ... &#x27;BF-09...\n",
       "    cohort_lat_max          (cohorts) float64 40B 11.24 11.24 12.06 11.24 11.24\n",
       "    cohort_lat_mean         (cohorts) float64 40B 11.22 11.23 12.06 11.2 11.21\n",
       "    cohort_lat_min          (cohorts) float64 40B 11.15 11.23 12.06 11.15 11.15\n",
       "    cohort_lon_max          (cohorts) float64 40B -4.235 -4.235 ... -4.235\n",
       "    ...                      ...\n",
       "    variant_gene_name       (variants) object 88B &#x27;CYP6AA1&#x27; ... &#x27;CYP6AD1&#x27;\n",
       "    variant_gene_strand     (variants) object 88B &#x27;-&#x27; &#x27;-&#x27; &#x27;-&#x27; ... &#x27;-&#x27; &#x27;-&#x27; &#x27;-&#x27;\n",
       "    variant_label           (variants) object 88B &#x27;AGAP002862 (CYP6AA1) amp&#x27; ...\n",
       "    variant_max_af          (variants) float64 88B 0.9125 0.825 ... 0.0566\n",
       "    variant_start           (variants) int64 88B 28480576 28483301 ... 28504248\n",
       "    variant_windows         (variants) int64 88B 8 6 7 6 7 7 6 6 6 7 6\n",
       "Attributes:\n",
       "    title:    Gene CNV frequencies (2R:28,480,000-28,510,000)</pre><div class='xr-wrap' style='display:none'><div class='xr-header'><div class='xr-obj-type'>xarray.Dataset</div></div><ul class='xr-sections'><li class='xr-section-item'><input id='section-9c7e12dc-96ce-4f29-80ce-00ff7ace747e' class='xr-section-summary-in' type='checkbox' disabled ><label for='section-9c7e12dc-96ce-4f29-80ce-00ff7ace747e' class='xr-section-summary'  title='Expand/collapse section'>Dimensions:</label><div class='xr-section-inline-details'><ul class='xr-dim-list'><li><span>cohorts</span>: 5</li><li><span>variants</span>: 11</li></ul></div><div class='xr-section-details'></div></li><li class='xr-section-item'><input id='section-6ed75120-7812-4f61-b41d-1fa9fc9a321b' class='xr-section-summary-in' type='checkbox' disabled ><label for='section-6ed75120-7812-4f61-b41d-1fa9fc9a321b' class='xr-section-summary'  title='Expand/collapse section'>Coordinates: <span>(0)</span></label><div class='xr-section-inline-details'></div><div class='xr-section-details'><ul class='xr-var-list'></ul></div></li><li class='xr-section-item'><input id='section-5e6cc3ae-3a22-4d14-afbb-1118c3815e4f' class='xr-section-summary-in' type='checkbox'  ><label for='section-5e6cc3ae-3a22-4d14-afbb-1118c3815e4f' class='xr-section-summary' >Data variables: <span>(28)</span></label><div class='xr-section-inline-details'></div><div class='xr-section-details'><ul class='xr-var-list'><li class='xr-var-item'><div class='xr-var-name'><span>cohort_area</span></div><div class='xr-var-dims'>(cohorts)</div><div class='xr-var-dtype'>object</div><div class='xr-var-preview xr-preview'>&#x27;BF-09&#x27; &#x27;BF-09&#x27; ... &#x27;BF-09&#x27; &#x27;BF-09&#x27;</div><input id='attrs-fe4d4f8b-da8d-4279-b612-f165c7aec1ae' class='xr-var-attrs-in' type='checkbox' disabled><label for='attrs-fe4d4f8b-da8d-4279-b612-f165c7aec1ae' title='Show/Hide attributes'><svg class='icon xr-icon-file-text2'><use xlink:href='#icon-file-text2'></use></svg></label><input id='data-71f3f0cb-ac38-4019-a532-7d0790d57bbd' class='xr-var-data-in' type='checkbox'><label for='data-71f3f0cb-ac38-4019-a532-7d0790d57bbd' title='Show/Hide data repr'><svg class='icon xr-icon-database'><use xlink:href='#icon-database'></use></svg></label><div class='xr-var-attrs'><dl class='xr-attrs'></dl></div><div class='xr-var-data'><pre>array([&#x27;BF-09&#x27;, &#x27;BF-09&#x27;, &#x27;BF-07&#x27;, &#x27;BF-09&#x27;, &#x27;BF-09&#x27;], dtype=object)</pre></div></li><li class='xr-var-item'><div class='xr-var-name'><span>cohort_label</span></div><div class='xr-var-dims'>(cohorts)</div><div class='xr-var-dtype'>object</div><div class='xr-var-preview xr-preview'>&#x27;BF-09_colu_2012&#x27; ... &#x27;BF-09_gam...</div><input id='attrs-53beb504-ca9a-46dc-ae3d-95f62fc8be93' class='xr-var-attrs-in' type='checkbox' disabled><label for='attrs-53beb504-ca9a-46dc-ae3d-95f62fc8be93' title='Show/Hide attributes'><svg class='icon xr-icon-file-text2'><use xlink:href='#icon-file-text2'></use></svg></label><input id='data-4d97f8df-5427-495b-a5cb-f16a23ce9620' class='xr-var-data-in' type='checkbox'><label for='data-4d97f8df-5427-495b-a5cb-f16a23ce9620' title='Show/Hide data repr'><svg class='icon xr-icon-database'><use xlink:href='#icon-database'></use></svg></label><div class='xr-var-attrs'><dl class='xr-attrs'></dl></div><div class='xr-var-data'><pre>array([&#x27;BF-09_colu_2012&#x27;, &#x27;BF-09_colu_2014&#x27;, &#x27;BF-07_gamb_2004&#x27;,\n",
       "       &#x27;BF-09_gamb_2012&#x27;, &#x27;BF-09_gamb_2014&#x27;], dtype=object)</pre></div></li><li class='xr-var-item'><div class='xr-var-name'><span>cohort_lat_max</span></div><div class='xr-var-dims'>(cohorts)</div><div class='xr-var-dtype'>float64</div><div class='xr-var-preview xr-preview'>11.24 11.24 12.06 11.24 11.24</div><input id='attrs-4de6a2a5-9a9f-4e4c-992f-a455dbd4d6a5' class='xr-var-attrs-in' type='checkbox' disabled><label for='attrs-4de6a2a5-9a9f-4e4c-992f-a455dbd4d6a5' title='Show/Hide attributes'><svg class='icon xr-icon-file-text2'><use xlink:href='#icon-file-text2'></use></svg></label><input id='data-e2fcb4f5-fd82-48dd-adb7-f3ca613a3e5e' class='xr-var-data-in' type='checkbox'><label for='data-e2fcb4f5-fd82-48dd-adb7-f3ca613a3e5e' title='Show/Hide data repr'><svg class='icon xr-icon-database'><use xlink:href='#icon-database'></use></svg></label><div class='xr-var-attrs'><dl class='xr-attrs'></dl></div><div class='xr-var-data'><pre>array([11.238, 11.238, 12.06 , 11.238, 11.238])</pre></div></li><li class='xr-var-item'><div class='xr-var-name'><span>cohort_lat_mean</span></div><div class='xr-var-dims'>(cohorts)</div><div class='xr-var-dtype'>float64</div><div class='xr-var-preview xr-preview'>11.22 11.23 12.06 11.2 11.21</div><input id='attrs-8d28d893-4210-4d9a-a1aa-1de79da123de' class='xr-var-attrs-in' type='checkbox' disabled><label for='attrs-8d28d893-4210-4d9a-a1aa-1de79da123de' title='Show/Hide attributes'><svg class='icon xr-icon-file-text2'><use xlink:href='#icon-file-text2'></use></svg></label><input id='data-28096132-8294-4c38-b54c-9a9424207963' class='xr-var-data-in' type='checkbox'><label for='data-28096132-8294-4c38-b54c-9a9424207963' title='Show/Hide data repr'><svg class='icon xr-icon-database'><use xlink:href='#icon-database'></use></svg></label><div class='xr-var-attrs'><dl class='xr-attrs'></dl></div><div class='xr-var-data'><pre>array([11.2235375 , 11.23356604, 12.06      , 11.19510204, 11.2061087 ])</pre></div></li><li class='xr-var-item'><div class='xr-var-name'><span>cohort_lat_min</span></div><div class='xr-var-dims'>(cohorts)</div><div class='xr-var-dtype'>float64</div><div class='xr-var-preview xr-preview'>11.15 11.23 12.06 11.15 11.15</div><input id='attrs-f7308885-869c-4696-b312-f218e1e22f26' class='xr-var-attrs-in' type='checkbox' disabled><label for='attrs-f7308885-869c-4696-b312-f218e1e22f26' title='Show/Hide attributes'><svg class='icon xr-icon-file-text2'><use xlink:href='#icon-file-text2'></use></svg></label><input id='data-c15f1eb1-fa4e-48ac-b43f-1d494fb39ded' class='xr-var-data-in' type='checkbox'><label for='data-c15f1eb1-fa4e-48ac-b43f-1d494fb39ded' title='Show/Hide data repr'><svg class='icon xr-icon-database'><use xlink:href='#icon-database'></use></svg></label><div class='xr-var-attrs'><dl class='xr-attrs'></dl></div><div class='xr-var-data'><pre>array([11.151, 11.233, 12.06 , 11.151, 11.151])</pre></div></li><li class='xr-var-item'><div class='xr-var-name'><span>cohort_lon_max</span></div><div class='xr-var-dims'>(cohorts)</div><div class='xr-var-dtype'>float64</div><div class='xr-var-preview xr-preview'>-4.235 -4.235 -1.17 -4.235 -4.235</div><input id='attrs-7d8a9991-2591-4dbe-a465-d4c5e8f1bbc8' class='xr-var-attrs-in' type='checkbox' disabled><label for='attrs-7d8a9991-2591-4dbe-a465-d4c5e8f1bbc8' title='Show/Hide attributes'><svg class='icon xr-icon-file-text2'><use xlink:href='#icon-file-text2'></use></svg></label><input id='data-b8a5b6a8-9bf7-4408-9091-516c642359b2' class='xr-var-data-in' type='checkbox'><label for='data-b8a5b6a8-9bf7-4408-9091-516c642359b2' title='Show/Hide data repr'><svg class='icon xr-icon-database'><use xlink:href='#icon-database'></use></svg></label><div class='xr-var-attrs'><dl class='xr-attrs'></dl></div><div class='xr-var-data'><pre>array([-4.235, -4.235, -1.17 , -4.235, -4.235])</pre></div></li><li class='xr-var-item'><div class='xr-var-name'><span>cohort_lon_mean</span></div><div class='xr-var-dims'>(cohorts)</div><div class='xr-var-dtype'>float64</div><div class='xr-var-preview xr-preview'>-4.354 -4.445 -1.17 -4.291 -4.312</div><input id='attrs-ea38ff48-4a4a-460e-8de1-9daebaa4a88e' class='xr-var-attrs-in' type='checkbox' disabled><label for='attrs-ea38ff48-4a4a-460e-8de1-9daebaa4a88e' title='Show/Hide attributes'><svg class='icon xr-icon-file-text2'><use xlink:href='#icon-file-text2'></use></svg></label><input id='data-8ec8d705-8f06-46db-b9b9-cb114eacaa57' class='xr-var-data-in' type='checkbox'><label for='data-8ec8d705-8f06-46db-b9b9-cb114eacaa57' title='Show/Hide data repr'><svg class='icon xr-icon-database'><use xlink:href='#icon-database'></use></svg></label><div class='xr-var-attrs'><dl class='xr-attrs'></dl></div><div class='xr-var-data'><pre>array([-4.3535    , -4.44516981, -1.17      , -4.29062245, -4.31228261])</pre></div></li><li class='xr-var-item'><div class='xr-var-name'><span>cohort_lon_min</span></div><div class='xr-var-dims'>(cohorts)</div><div class='xr-var-dtype'>float64</div><div class='xr-var-preview xr-preview'>-4.472 -4.472 -1.17 -4.472 -4.472</div><input id='attrs-391113b8-40b9-49e9-bddf-c67dce405138' class='xr-var-attrs-in' type='checkbox' disabled><label for='attrs-391113b8-40b9-49e9-bddf-c67dce405138' title='Show/Hide attributes'><svg class='icon xr-icon-file-text2'><use xlink:href='#icon-file-text2'></use></svg></label><input id='data-bac3509e-356a-4963-8bd5-a8820efbb223' class='xr-var-data-in' type='checkbox'><label for='data-bac3509e-356a-4963-8bd5-a8820efbb223' title='Show/Hide data repr'><svg class='icon xr-icon-database'><use xlink:href='#icon-database'></use></svg></label><div class='xr-var-attrs'><dl class='xr-attrs'></dl></div><div class='xr-var-data'><pre>array([-4.472, -4.472, -1.17 , -4.472, -4.472])</pre></div></li><li class='xr-var-item'><div class='xr-var-name'><span>cohort_period</span></div><div class='xr-var-dims'>(cohorts)</div><div class='xr-var-dtype'>object</div><div class='xr-var-preview xr-preview'>2012 2014 2004 2012 2014</div><input id='attrs-7a92aa03-5adf-4fdb-b7de-9f62f6c2726a' class='xr-var-attrs-in' type='checkbox' disabled><label for='attrs-7a92aa03-5adf-4fdb-b7de-9f62f6c2726a' title='Show/Hide attributes'><svg class='icon xr-icon-file-text2'><use xlink:href='#icon-file-text2'></use></svg></label><input id='data-51ea5192-09b4-4ea9-b059-245b83835c62' class='xr-var-data-in' type='checkbox'><label for='data-51ea5192-09b4-4ea9-b059-245b83835c62' title='Show/Hide data repr'><svg class='icon xr-icon-database'><use xlink:href='#icon-database'></use></svg></label><div class='xr-var-attrs'><dl class='xr-attrs'></dl></div><div class='xr-var-data'><pre>array([Period(&#x27;2012&#x27;, &#x27;Y-DEC&#x27;), Period(&#x27;2014&#x27;, &#x27;Y-DEC&#x27;),\n",
       "       Period(&#x27;2004&#x27;, &#x27;Y-DEC&#x27;), Period(&#x27;2012&#x27;, &#x27;Y-DEC&#x27;),\n",
       "       Period(&#x27;2014&#x27;, &#x27;Y-DEC&#x27;)], dtype=object)</pre></div></li><li class='xr-var-item'><div class='xr-var-name'><span>cohort_period_end</span></div><div class='xr-var-dims'>(cohorts)</div><div class='xr-var-dtype'>datetime64[ns]</div><div class='xr-var-preview xr-preview'>2012-12-31T23:59:59.999999999 .....</div><input id='attrs-1f984474-92f0-4d8c-8f7e-0d544fe42025' class='xr-var-attrs-in' type='checkbox' disabled><label for='attrs-1f984474-92f0-4d8c-8f7e-0d544fe42025' title='Show/Hide attributes'><svg class='icon xr-icon-file-text2'><use xlink:href='#icon-file-text2'></use></svg></label><input id='data-c03930cd-ddce-4b4e-bd44-c82035530b3e' class='xr-var-data-in' type='checkbox'><label for='data-c03930cd-ddce-4b4e-bd44-c82035530b3e' title='Show/Hide data repr'><svg class='icon xr-icon-database'><use xlink:href='#icon-database'></use></svg></label><div class='xr-var-attrs'><dl class='xr-attrs'></dl></div><div class='xr-var-data'><pre>array([&#x27;2012-12-31T23:59:59.999999999&#x27;, &#x27;2014-12-31T23:59:59.999999999&#x27;,\n",
       "       &#x27;2004-12-31T23:59:59.999999999&#x27;, &#x27;2012-12-31T23:59:59.999999999&#x27;,\n",
       "       &#x27;2014-12-31T23:59:59.999999999&#x27;], dtype=&#x27;datetime64[ns]&#x27;)</pre></div></li><li class='xr-var-item'><div class='xr-var-name'><span>cohort_period_start</span></div><div class='xr-var-dims'>(cohorts)</div><div class='xr-var-dtype'>datetime64[ns]</div><div class='xr-var-preview xr-preview'>2012-01-01 ... 2014-01-01</div><input id='attrs-1bbab287-cb63-4a21-b849-b15b435bf8fa' class='xr-var-attrs-in' type='checkbox' disabled><label for='attrs-1bbab287-cb63-4a21-b849-b15b435bf8fa' title='Show/Hide attributes'><svg class='icon xr-icon-file-text2'><use xlink:href='#icon-file-text2'></use></svg></label><input id='data-96f691a2-dc91-415c-ba38-c5b713ef6954' class='xr-var-data-in' type='checkbox'><label for='data-96f691a2-dc91-415c-ba38-c5b713ef6954' title='Show/Hide data repr'><svg class='icon xr-icon-database'><use xlink:href='#icon-database'></use></svg></label><div class='xr-var-attrs'><dl class='xr-attrs'></dl></div><div class='xr-var-data'><pre>array([&#x27;2012-01-01T00:00:00.000000000&#x27;, &#x27;2014-01-01T00:00:00.000000000&#x27;,\n",
       "       &#x27;2004-01-01T00:00:00.000000000&#x27;, &#x27;2012-01-01T00:00:00.000000000&#x27;,\n",
       "       &#x27;2014-01-01T00:00:00.000000000&#x27;], dtype=&#x27;datetime64[ns]&#x27;)</pre></div></li><li class='xr-var-item'><div class='xr-var-name'><span>cohort_size</span></div><div class='xr-var-dims'>(cohorts)</div><div class='xr-var-dtype'>int64</div><div class='xr-var-preview xr-preview'>80 53 13 98 46</div><input id='attrs-50c7c970-7960-4e22-be99-a22030b59324' class='xr-var-attrs-in' type='checkbox' disabled><label for='attrs-50c7c970-7960-4e22-be99-a22030b59324' title='Show/Hide attributes'><svg class='icon xr-icon-file-text2'><use xlink:href='#icon-file-text2'></use></svg></label><input id='data-18947ecd-98b0-4a84-aef1-f7bcc4d5d4f2' class='xr-var-data-in' type='checkbox'><label for='data-18947ecd-98b0-4a84-aef1-f7bcc4d5d4f2' title='Show/Hide data repr'><svg class='icon xr-icon-database'><use xlink:href='#icon-database'></use></svg></label><div class='xr-var-attrs'><dl class='xr-attrs'></dl></div><div class='xr-var-data'><pre>array([80, 53, 13, 98, 46])</pre></div></li><li class='xr-var-item'><div class='xr-var-name'><span>cohort_taxon</span></div><div class='xr-var-dims'>(cohorts)</div><div class='xr-var-dtype'>object</div><div class='xr-var-preview xr-preview'>&#x27;coluzzii&#x27; &#x27;coluzzii&#x27; ... &#x27;gambiae&#x27;</div><input id='attrs-0fdbdfba-4afa-43ef-af45-577b326f74d9' class='xr-var-attrs-in' type='checkbox' disabled><label for='attrs-0fdbdfba-4afa-43ef-af45-577b326f74d9' title='Show/Hide attributes'><svg class='icon xr-icon-file-text2'><use xlink:href='#icon-file-text2'></use></svg></label><input id='data-ae891fd4-f009-40dc-83db-62d1f0db447c' class='xr-var-data-in' type='checkbox'><label for='data-ae891fd4-f009-40dc-83db-62d1f0db447c' title='Show/Hide data repr'><svg class='icon xr-icon-database'><use xlink:href='#icon-database'></use></svg></label><div class='xr-var-attrs'><dl class='xr-attrs'></dl></div><div class='xr-var-data'><pre>array([&#x27;coluzzii&#x27;, &#x27;coluzzii&#x27;, &#x27;gambiae&#x27;, &#x27;gambiae&#x27;, &#x27;gambiae&#x27;],\n",
       "      dtype=object)</pre></div></li><li class='xr-var-item'><div class='xr-var-name'><span>event_count</span></div><div class='xr-var-dims'>(variants, cohorts)</div><div class='xr-var-dtype'>int64</div><div class='xr-var-preview xr-preview'>73 43 0 4 3 66 42 ... 1 1 3 3 0 1 1</div><input id='attrs-937ecbfe-10e3-4ee2-8732-b52f71cd3558' class='xr-var-attrs-in' type='checkbox' disabled><label for='attrs-937ecbfe-10e3-4ee2-8732-b52f71cd3558' title='Show/Hide attributes'><svg class='icon xr-icon-file-text2'><use xlink:href='#icon-file-text2'></use></svg></label><input id='data-b9d94018-c8b7-46ad-ac75-1391b5688659' class='xr-var-data-in' type='checkbox'><label for='data-b9d94018-c8b7-46ad-ac75-1391b5688659' title='Show/Hide data repr'><svg class='icon xr-icon-database'><use xlink:href='#icon-database'></use></svg></label><div class='xr-var-attrs'><dl class='xr-attrs'></dl></div><div class='xr-var-data'><pre>array([[73, 43,  0,  4,  3],\n",
       "       [66, 42,  0,  4,  3],\n",
       "       [48, 27,  0,  1,  1],\n",
       "       [42, 28,  0,  1,  1],\n",
       "       [ 3,  4,  0,  1,  1],\n",
       "       [ 0,  0,  0, 11,  0],\n",
       "       [ 3,  3,  0,  2,  1],\n",
       "       [ 3,  4,  0,  1,  1],\n",
       "       [ 3,  3,  0,  1,  1],\n",
       "       [ 3,  3,  0,  1,  1],\n",
       "       [ 3,  3,  0,  1,  1]])</pre></div></li><li class='xr-var-item'><div class='xr-var-name'><span>event_frequency</span></div><div class='xr-var-dims'>(variants, cohorts)</div><div class='xr-var-dtype'>float64</div><div class='xr-var-preview xr-preview'>0.9125 0.8113 ... 0.0102 0.02174</div><input id='attrs-6be21b01-b4ff-4b12-a83f-eb6697b48fc6' class='xr-var-attrs-in' type='checkbox' disabled><label for='attrs-6be21b01-b4ff-4b12-a83f-eb6697b48fc6' title='Show/Hide attributes'><svg class='icon xr-icon-file-text2'><use xlink:href='#icon-file-text2'></use></svg></label><input id='data-6cc34212-f027-40f0-b92f-b26c0a64acf5' class='xr-var-data-in' type='checkbox'><label for='data-6cc34212-f027-40f0-b92f-b26c0a64acf5' title='Show/Hide data repr'><svg class='icon xr-icon-database'><use xlink:href='#icon-database'></use></svg></label><div class='xr-var-attrs'><dl class='xr-attrs'></dl></div><div class='xr-var-data'><pre>array([[0.9125    , 0.81132075, 0.        , 0.04081633, 0.06521739],\n",
       "       [0.825     , 0.79245283, 0.        , 0.04081633, 0.06521739],\n",
       "       [0.6       , 0.50943396, 0.        , 0.01020408, 0.02173913],\n",
       "       [0.525     , 0.52830189, 0.        , 0.01020408, 0.02173913],\n",
       "       [0.0375    , 0.0754717 , 0.        , 0.01020408, 0.02173913],\n",
       "       [0.        , 0.        , 0.        , 0.1122449 , 0.        ],\n",
       "       [0.0375    , 0.05660377, 0.        , 0.02040816, 0.02173913],\n",
       "       [0.0375    , 0.0754717 , 0.        , 0.01020408, 0.02173913],\n",
       "       [0.0375    , 0.05660377, 0.        , 0.01020408, 0.02173913],\n",
       "       [0.0375    , 0.05660377, 0.        , 0.01020408, 0.02173913],\n",
       "       [0.0375    , 0.05660377, 0.        , 0.01020408, 0.02173913]])</pre></div></li><li class='xr-var-item'><div class='xr-var-name'><span>event_frequency_ci_low</span></div><div class='xr-var-dims'>(variants, cohorts)</div><div class='xr-var-dtype'>float64</div><div class='xr-var-preview xr-preview'>0.8302 0.6864 ... 0.001804 0.003848</div><input id='attrs-daa8c54a-7d16-4f60-8312-0ef1102a28b9' class='xr-var-attrs-in' type='checkbox' disabled><label for='attrs-daa8c54a-7d16-4f60-8312-0ef1102a28b9' title='Show/Hide attributes'><svg class='icon xr-icon-file-text2'><use xlink:href='#icon-file-text2'></use></svg></label><input id='data-67a4c82a-f410-4c84-9537-c1e29ad8e8ac' class='xr-var-data-in' type='checkbox'><label for='data-67a4c82a-f410-4c84-9537-c1e29ad8e8ac' title='Show/Hide data repr'><svg class='icon xr-icon-database'><use xlink:href='#icon-database'></use></svg></label><div class='xr-var-attrs'><dl class='xr-attrs'></dl></div><div class='xr-var-data'><pre>array([[0.83023204, 0.68641541, 0.        , 0.01598525, 0.02242786],\n",
       "       [0.72742458, 0.66542255, 0.        , 0.01598525, 0.02242786],\n",
       "       [0.49045465, 0.37883529, 0.        , 0.00180355, 0.00384785],\n",
       "       [0.41695643, 0.39660081, 0.        , 0.00180355, 0.00384785],\n",
       "       [0.01283457, 0.02973956, 0.        , 0.00180355, 0.00384785],\n",
       "       [0.        , 0.        , 0.        , 0.0638427 , 0.        ],\n",
       "       [0.01283457, 0.01943666, 0.        , 0.00561461, 0.00384785],\n",
       "       [0.01283457, 0.02973956, 0.        , 0.00180355, 0.00384785],\n",
       "       [0.01283457, 0.01943666, 0.        , 0.00180355, 0.00384785],\n",
       "       [0.01283457, 0.01943666, 0.        , 0.00180355, 0.00384785],\n",
       "       [0.01283457, 0.01943666, 0.        , 0.00180355, 0.00384785]])</pre></div></li><li class='xr-var-item'><div class='xr-var-name'><span>event_frequency_ci_upp</span></div><div class='xr-var-dims'>(variants, cohorts)</div><div class='xr-var-dtype'>float64</div><div class='xr-var-preview xr-preview'>0.957 0.8941 ... 0.05555 0.1134</div><input id='attrs-555ca9d1-bd9f-4843-a645-62b6a3f61ed3' class='xr-var-attrs-in' type='checkbox' disabled><label for='attrs-555ca9d1-bd9f-4843-a645-62b6a3f61ed3' title='Show/Hide attributes'><svg class='icon xr-icon-file-text2'><use xlink:href='#icon-file-text2'></use></svg></label><input id='data-d1271742-b4eb-44a3-934e-36450b332651' class='xr-var-data-in' type='checkbox'><label for='data-d1271742-b4eb-44a3-934e-36450b332651' title='Show/Hide data repr'><svg class='icon xr-icon-database'><use xlink:href='#icon-database'></use></svg></label><div class='xr-var-attrs'><dl class='xr-attrs'></dl></div><div class='xr-var-data'><pre>array([[0.956968  , 0.89414675, 0.22809537, 0.10028821, 0.17502741],\n",
       "       [0.89279364, 0.87995402, 0.22809537, 0.10028821, 0.17502741],\n",
       "       [0.70038172, 0.6387575 , 0.22809537, 0.05555481, 0.11335295],\n",
       "       [0.63075267, 0.65617757, 0.22809537, 0.05555481, 0.11335295],\n",
       "       [0.1045472 , 0.17858477, 0.22809537, 0.05555481, 0.11335295],\n",
       "       [0.04581813, 0.06758199, 0.22809537, 0.18989933, 0.07707356],\n",
       "       [0.1045472 , 0.15370208, 0.22809537, 0.07138211, 0.11335295],\n",
       "       [0.1045472 , 0.17858477, 0.22809537, 0.05555481, 0.11335295],\n",
       "       [0.1045472 , 0.15370208, 0.22809537, 0.05555481, 0.11335295],\n",
       "       [0.1045472 , 0.15370208, 0.22809537, 0.05555481, 0.11335295],\n",
       "       [0.1045472 , 0.15370208, 0.22809537, 0.05555481, 0.11335295]])</pre></div></li><li class='xr-var-item'><div class='xr-var-name'><span>event_nobs</span></div><div class='xr-var-dims'>(variants, cohorts)</div><div class='xr-var-dtype'>int64</div><div class='xr-var-preview xr-preview'>80 53 13 98 46 ... 80 53 13 98 46</div><input id='attrs-985e53e8-8abc-42c4-acd8-0afcb390e86e' class='xr-var-attrs-in' type='checkbox' disabled><label for='attrs-985e53e8-8abc-42c4-acd8-0afcb390e86e' title='Show/Hide attributes'><svg class='icon xr-icon-file-text2'><use xlink:href='#icon-file-text2'></use></svg></label><input id='data-1e970c14-f770-4ba5-b3c9-546f21b7479c' class='xr-var-data-in' type='checkbox'><label for='data-1e970c14-f770-4ba5-b3c9-546f21b7479c' title='Show/Hide data repr'><svg class='icon xr-icon-database'><use xlink:href='#icon-database'></use></svg></label><div class='xr-var-attrs'><dl class='xr-attrs'></dl></div><div class='xr-var-data'><pre>array([[80, 53, 13, 98, 46],\n",
       "       [80, 53, 13, 98, 46],\n",
       "       [80, 53, 13, 98, 46],\n",
       "       [80, 53, 13, 98, 46],\n",
       "       [80, 53, 13, 98, 46],\n",
       "       [80, 53, 13, 98, 46],\n",
       "       [80, 53, 13, 98, 46],\n",
       "       [80, 53, 13, 98, 46],\n",
       "       [80, 53, 13, 98, 46],\n",
       "       [80, 53, 13, 98, 46],\n",
       "       [80, 53, 13, 98, 46]])</pre></div></li><li class='xr-var-item'><div class='xr-var-name'><span>variant_cnv_type</span></div><div class='xr-var-dims'>(variants)</div><div class='xr-var-dtype'>object</div><div class='xr-var-preview xr-preview'>&#x27;amp&#x27; &#x27;amp&#x27; &#x27;amp&#x27; ... &#x27;amp&#x27; &#x27;amp&#x27;</div><input id='attrs-395712db-4c4e-4a09-8d74-ae3f989ff6fc' class='xr-var-attrs-in' type='checkbox' disabled><label for='attrs-395712db-4c4e-4a09-8d74-ae3f989ff6fc' title='Show/Hide attributes'><svg class='icon xr-icon-file-text2'><use xlink:href='#icon-file-text2'></use></svg></label><input id='data-f2cb4289-501d-4f4b-a125-82c0d00c9ce1' class='xr-var-data-in' type='checkbox'><label for='data-f2cb4289-501d-4f4b-a125-82c0d00c9ce1' title='Show/Hide data repr'><svg class='icon xr-icon-database'><use xlink:href='#icon-database'></use></svg></label><div class='xr-var-attrs'><dl class='xr-attrs'></dl></div><div class='xr-var-data'><pre>array([&#x27;amp&#x27;, &#x27;amp&#x27;, &#x27;amp&#x27;, &#x27;amp&#x27;, &#x27;amp&#x27;, &#x27;del&#x27;, &#x27;amp&#x27;, &#x27;amp&#x27;, &#x27;amp&#x27;,\n",
       "       &#x27;amp&#x27;, &#x27;amp&#x27;], dtype=object)</pre></div></li><li class='xr-var-item'><div class='xr-var-name'><span>variant_contig</span></div><div class='xr-var-dims'>(variants)</div><div class='xr-var-dtype'>object</div><div class='xr-var-preview xr-preview'>&#x27;2R&#x27; &#x27;2R&#x27; &#x27;2R&#x27; ... &#x27;2R&#x27; &#x27;2R&#x27; &#x27;2R&#x27;</div><input id='attrs-88965942-b8fc-4053-9ae5-076f6ea66523' class='xr-var-attrs-in' type='checkbox' disabled><label for='attrs-88965942-b8fc-4053-9ae5-076f6ea66523' title='Show/Hide attributes'><svg class='icon xr-icon-file-text2'><use xlink:href='#icon-file-text2'></use></svg></label><input id='data-1f69b8a6-6428-4ad5-b3ae-8e19264b5a7f' class='xr-var-data-in' type='checkbox'><label for='data-1f69b8a6-6428-4ad5-b3ae-8e19264b5a7f' title='Show/Hide data repr'><svg class='icon xr-icon-database'><use xlink:href='#icon-database'></use></svg></label><div class='xr-var-attrs'><dl class='xr-attrs'></dl></div><div class='xr-var-data'><pre>array([&#x27;2R&#x27;, &#x27;2R&#x27;, &#x27;2R&#x27;, &#x27;2R&#x27;, &#x27;2R&#x27;, &#x27;2R&#x27;, &#x27;2R&#x27;, &#x27;2R&#x27;, &#x27;2R&#x27;, &#x27;2R&#x27;, &#x27;2R&#x27;],\n",
       "      dtype=object)</pre></div></li><li class='xr-var-item'><div class='xr-var-name'><span>variant_end</span></div><div class='xr-var-dims'>(variants)</div><div class='xr-var-dtype'>int64</div><div class='xr-var-preview xr-preview'>28482637 28484921 ... 28505816</div><input id='attrs-b893d4db-3d35-4681-a905-339d79a698e2' class='xr-var-attrs-in' type='checkbox' disabled><label for='attrs-b893d4db-3d35-4681-a905-339d79a698e2' title='Show/Hide attributes'><svg class='icon xr-icon-file-text2'><use xlink:href='#icon-file-text2'></use></svg></label><input id='data-bf32f118-56be-4e85-a2d5-ec331808e76f' class='xr-var-data-in' type='checkbox'><label for='data-bf32f118-56be-4e85-a2d5-ec331808e76f' title='Show/Hide data repr'><svg class='icon xr-icon-database'><use xlink:href='#icon-database'></use></svg></label><div class='xr-var-attrs'><dl class='xr-attrs'></dl></div><div class='xr-var-data'><pre>array([28482637, 28484921, 28487080, 28489092, 28493141, 28493141,\n",
       "       28495645, 28498674, 28500900, 28502910, 28505816])</pre></div></li><li class='xr-var-item'><div class='xr-var-name'><span>variant_gene_id</span></div><div class='xr-var-dims'>(variants)</div><div class='xr-var-dtype'>object</div><div class='xr-var-preview xr-preview'>&#x27;AGAP002862&#x27; ... &#x27;AGAP002870&#x27;</div><input id='attrs-03321969-f356-494f-8d35-25958e86f267' class='xr-var-attrs-in' type='checkbox' disabled><label for='attrs-03321969-f356-494f-8d35-25958e86f267' title='Show/Hide attributes'><svg class='icon xr-icon-file-text2'><use xlink:href='#icon-file-text2'></use></svg></label><input id='data-54d579b7-ecba-43f9-8ff3-9f1a4eb5748b' class='xr-var-data-in' type='checkbox'><label for='data-54d579b7-ecba-43f9-8ff3-9f1a4eb5748b' title='Show/Hide data repr'><svg class='icon xr-icon-database'><use xlink:href='#icon-database'></use></svg></label><div class='xr-var-attrs'><dl class='xr-attrs'></dl></div><div class='xr-var-data'><pre>array([&#x27;AGAP002862&#x27;, &#x27;AGAP013128&#x27;, &#x27;AGAP002863&#x27;, &#x27;AGAP002864&#x27;,\n",
       "       &#x27;AGAP002865&#x27;, &#x27;AGAP002865&#x27;, &#x27;AGAP002866&#x27;, &#x27;AGAP002867&#x27;,\n",
       "       &#x27;AGAP002868&#x27;, &#x27;AGAP002869&#x27;, &#x27;AGAP002870&#x27;], dtype=object)</pre></div></li><li class='xr-var-item'><div class='xr-var-name'><span>variant_gene_name</span></div><div class='xr-var-dims'>(variants)</div><div class='xr-var-dtype'>object</div><div class='xr-var-preview xr-preview'>&#x27;CYP6AA1&#x27; &#x27;CYP6AA2&#x27; ... &#x27;CYP6AD1&#x27;</div><input id='attrs-39b63fe8-0278-4f16-812b-7eaa7dbbe05e' class='xr-var-attrs-in' type='checkbox' disabled><label for='attrs-39b63fe8-0278-4f16-812b-7eaa7dbbe05e' title='Show/Hide attributes'><svg class='icon xr-icon-file-text2'><use xlink:href='#icon-file-text2'></use></svg></label><input id='data-b9893c64-b729-468c-ac96-b4d2a41217fe' class='xr-var-data-in' type='checkbox'><label for='data-b9893c64-b729-468c-ac96-b4d2a41217fe' title='Show/Hide data repr'><svg class='icon xr-icon-database'><use xlink:href='#icon-database'></use></svg></label><div class='xr-var-attrs'><dl class='xr-attrs'></dl></div><div class='xr-var-data'><pre>array([&#x27;CYP6AA1&#x27;, &#x27;CYP6AA2&#x27;, &#x27;COEAE6O&#x27;, &#x27;CYP6P15P&#x27;, &#x27;CYP6P3&#x27;, &#x27;CYP6P3&#x27;,\n",
       "       &#x27;CYP6P5&#x27;, &#x27;CYP6P4&#x27;, &#x27;CYP6P1&#x27;, &#x27;CYP6P2&#x27;, &#x27;CYP6AD1&#x27;], dtype=object)</pre></div></li><li class='xr-var-item'><div class='xr-var-name'><span>variant_gene_strand</span></div><div class='xr-var-dims'>(variants)</div><div class='xr-var-dtype'>object</div><div class='xr-var-preview xr-preview'>&#x27;-&#x27; &#x27;-&#x27; &#x27;-&#x27; &#x27;-&#x27; ... &#x27;-&#x27; &#x27;-&#x27; &#x27;-&#x27; &#x27;-&#x27;</div><input id='attrs-f522ad29-7c9d-4ad5-9cff-211c23315902' class='xr-var-attrs-in' type='checkbox' disabled><label for='attrs-f522ad29-7c9d-4ad5-9cff-211c23315902' title='Show/Hide attributes'><svg class='icon xr-icon-file-text2'><use xlink:href='#icon-file-text2'></use></svg></label><input id='data-68d4f6c1-39c0-4a18-93dc-e20751889695' class='xr-var-data-in' type='checkbox'><label for='data-68d4f6c1-39c0-4a18-93dc-e20751889695' title='Show/Hide data repr'><svg class='icon xr-icon-database'><use xlink:href='#icon-database'></use></svg></label><div class='xr-var-attrs'><dl class='xr-attrs'></dl></div><div class='xr-var-data'><pre>array([&#x27;-&#x27;, &#x27;-&#x27;, &#x27;-&#x27;, &#x27;-&#x27;, &#x27;-&#x27;, &#x27;-&#x27;, &#x27;-&#x27;, &#x27;-&#x27;, &#x27;-&#x27;, &#x27;-&#x27;, &#x27;-&#x27;],\n",
       "      dtype=object)</pre></div></li><li class='xr-var-item'><div class='xr-var-name'><span>variant_label</span></div><div class='xr-var-dims'>(variants)</div><div class='xr-var-dtype'>object</div><div class='xr-var-preview xr-preview'>&#x27;AGAP002862 (CYP6AA1) amp&#x27; ... &#x27;...</div><input id='attrs-fd8f2f6b-e6a8-4669-a27f-cc1432129866' class='xr-var-attrs-in' type='checkbox' disabled><label for='attrs-fd8f2f6b-e6a8-4669-a27f-cc1432129866' title='Show/Hide attributes'><svg class='icon xr-icon-file-text2'><use xlink:href='#icon-file-text2'></use></svg></label><input id='data-ef635027-ab54-424a-87f6-4bc482fc8346' class='xr-var-data-in' type='checkbox'><label for='data-ef635027-ab54-424a-87f6-4bc482fc8346' title='Show/Hide data repr'><svg class='icon xr-icon-database'><use xlink:href='#icon-database'></use></svg></label><div class='xr-var-attrs'><dl class='xr-attrs'></dl></div><div class='xr-var-data'><pre>array([&#x27;AGAP002862 (CYP6AA1) amp&#x27;, &#x27;AGAP013128 (CYP6AA2) amp&#x27;,\n",
       "       &#x27;AGAP002863 (COEAE6O) amp&#x27;, &#x27;AGAP002864 (CYP6P15P) amp&#x27;,\n",
       "       &#x27;AGAP002865 (CYP6P3) amp&#x27;, &#x27;AGAP002865 (CYP6P3) del&#x27;,\n",
       "       &#x27;AGAP002866 (CYP6P5) amp&#x27;, &#x27;AGAP002867 (CYP6P4) amp&#x27;,\n",
       "       &#x27;AGAP002868 (CYP6P1) amp&#x27;, &#x27;AGAP002869 (CYP6P2) amp&#x27;,\n",
       "       &#x27;AGAP002870 (CYP6AD1) amp&#x27;], dtype=object)</pre></div></li><li class='xr-var-item'><div class='xr-var-name'><span>variant_max_af</span></div><div class='xr-var-dims'>(variants)</div><div class='xr-var-dtype'>float64</div><div class='xr-var-preview xr-preview'>0.9125 0.825 0.6 ... 0.0566 0.0566</div><input id='attrs-1e18c5b8-e227-4b1f-be86-20834b66cb36' class='xr-var-attrs-in' type='checkbox' disabled><label for='attrs-1e18c5b8-e227-4b1f-be86-20834b66cb36' title='Show/Hide attributes'><svg class='icon xr-icon-file-text2'><use xlink:href='#icon-file-text2'></use></svg></label><input id='data-038da39a-3fdc-45d6-a36b-ad59765a70df' class='xr-var-data-in' type='checkbox'><label for='data-038da39a-3fdc-45d6-a36b-ad59765a70df' title='Show/Hide data repr'><svg class='icon xr-icon-database'><use xlink:href='#icon-database'></use></svg></label><div class='xr-var-attrs'><dl class='xr-attrs'></dl></div><div class='xr-var-data'><pre>array([0.9125    , 0.825     , 0.6       , 0.52830189, 0.0754717 ,\n",
       "       0.1122449 , 0.05660377, 0.0754717 , 0.05660377, 0.05660377,\n",
       "       0.05660377])</pre></div></li><li class='xr-var-item'><div class='xr-var-name'><span>variant_start</span></div><div class='xr-var-dims'>(variants)</div><div class='xr-var-dtype'>int64</div><div class='xr-var-preview xr-preview'>28480576 28483301 ... 28504248</div><input id='attrs-414352db-75b2-44e0-8017-ef5b0c4ed7d5' class='xr-var-attrs-in' type='checkbox' disabled><label for='attrs-414352db-75b2-44e0-8017-ef5b0c4ed7d5' title='Show/Hide attributes'><svg class='icon xr-icon-file-text2'><use xlink:href='#icon-file-text2'></use></svg></label><input id='data-3dd738e2-9876-48e3-9c13-a2578bf0c0d0' class='xr-var-data-in' type='checkbox'><label for='data-3dd738e2-9876-48e3-9c13-a2578bf0c0d0' title='Show/Hide data repr'><svg class='icon xr-icon-database'><use xlink:href='#icon-database'></use></svg></label><div class='xr-var-attrs'><dl class='xr-attrs'></dl></div><div class='xr-var-data'><pre>array([28480576, 28483301, 28485262, 28487640, 28491415, 28491415,\n",
       "       28494017, 28497087, 28499251, 28501033, 28504248])</pre></div></li><li class='xr-var-item'><div class='xr-var-name'><span>variant_windows</span></div><div class='xr-var-dims'>(variants)</div><div class='xr-var-dtype'>int64</div><div class='xr-var-preview xr-preview'>8 6 7 6 7 7 6 6 6 7 6</div><input id='attrs-a163613e-1ac4-4cc8-95db-e99f40ccd069' class='xr-var-attrs-in' type='checkbox' disabled><label for='attrs-a163613e-1ac4-4cc8-95db-e99f40ccd069' title='Show/Hide attributes'><svg class='icon xr-icon-file-text2'><use xlink:href='#icon-file-text2'></use></svg></label><input id='data-f83cbeca-49b0-45e1-a280-cb7bb9a756fc' class='xr-var-data-in' type='checkbox'><label for='data-f83cbeca-49b0-45e1-a280-cb7bb9a756fc' title='Show/Hide data repr'><svg class='icon xr-icon-database'><use xlink:href='#icon-database'></use></svg></label><div class='xr-var-attrs'><dl class='xr-attrs'></dl></div><div class='xr-var-data'><pre>array([8, 6, 7, 6, 7, 7, 6, 6, 6, 7, 6])</pre></div></li></ul></div></li><li class='xr-section-item'><input id='section-1e30bec4-580c-40ff-95fb-e26d74159849' class='xr-section-summary-in' type='checkbox' disabled ><label for='section-1e30bec4-580c-40ff-95fb-e26d74159849' class='xr-section-summary'  title='Expand/collapse section'>Indexes: <span>(0)</span></label><div class='xr-section-inline-details'></div><div class='xr-section-details'><ul class='xr-var-list'></ul></div></li><li class='xr-section-item'><input id='section-c09d6ef6-d040-4743-ba61-fa8fb1827313' class='xr-section-summary-in' type='checkbox'  checked><label for='section-c09d6ef6-d040-4743-ba61-fa8fb1827313' class='xr-section-summary' >Attributes: <span>(1)</span></label><div class='xr-section-inline-details'></div><div class='xr-section-details'><dl class='xr-attrs'><dt><span>title :</span></dt><dd>Gene CNV frequencies (2R:28,480,000-28,510,000)</dd></dl></div></li></ul></div></div>"
      ],
      "text/plain": [
       "<xarray.Dataset> Size: 4kB\n",
       "Dimensions:                 (cohorts: 5, variants: 11)\n",
       "Dimensions without coordinates: cohorts, variants\n",
       "Data variables: (12/28)\n",
       "    cohort_area             (cohorts) object 40B 'BF-09' 'BF-09' ... 'BF-09'\n",
       "    cohort_label            (cohorts) object 40B 'BF-09_colu_2012' ... 'BF-09...\n",
       "    cohort_lat_max          (cohorts) float64 40B 11.24 11.24 12.06 11.24 11.24\n",
       "    cohort_lat_mean         (cohorts) float64 40B 11.22 11.23 12.06 11.2 11.21\n",
       "    cohort_lat_min          (cohorts) float64 40B 11.15 11.23 12.06 11.15 11.15\n",
       "    cohort_lon_max          (cohorts) float64 40B -4.235 -4.235 ... -4.235\n",
       "    ...                      ...\n",
       "    variant_gene_name       (variants) object 88B 'CYP6AA1' ... 'CYP6AD1'\n",
       "    variant_gene_strand     (variants) object 88B '-' '-' '-' ... '-' '-' '-'\n",
       "    variant_label           (variants) object 88B 'AGAP002862 (CYP6AA1) amp' ...\n",
       "    variant_max_af          (variants) float64 88B 0.9125 0.825 ... 0.0566\n",
       "    variant_start           (variants) int64 88B 28480576 28483301 ... 28504248\n",
       "    variant_windows         (variants) int64 88B 8 6 7 6 7 7 6 6 6 7 6\n",
       "Attributes:\n",
       "    title:    Gene CNV frequencies (2R:28,480,000-28,510,000)"
      ]
     },
     "execution_count": 31,
     "metadata": {},
     "output_type": "execute_result"
    }
   ],
   "source": [
    "burkina_cyp6aap_cnv_ds = ag3.gene_cnv_frequencies_advanced(\n",
    "    region=cyp6aap_region,\n",
    "    area_by=\"admin1_iso\",\n",
    "    period_by=\"year\",\n",
    "    sample_sets=\"3.0\",\n",
    "    sample_query=\"country == 'Burkina Faso'\",\n",
    "    variant_query=\"max_af > 0.05\"\n",
    ")\n",
    "burkina_cyp6aap_cnv_ds"
   ]
  },
  {
   "cell_type": "markdown",
   "id": "b77512c4-847b-4142-9c35-38cf7a025d98",
   "metadata": {
    "id": "svbez3frY48O"
   },
   "source": [
    "Instead of a pandas DataFrame, this function outputs an [xarray Dataset](https://xarray.pydata.org/en/stable/user-guide/data-structures.html#dataset) containing the gene cnv frequencies alongside associated metadata.\n",
    "\n",
    "We will look at xarray in more detail in later workshops, but for now we can just use this Dataset with our time series plotting function. "
   ]
  },
  {
   "cell_type": "code",
   "execution_count": 32,
   "id": "07672cea-5423-4c4e-9f51-ed7bed7c6fa9",
   "metadata": {},
   "outputs": [
    {
     "data": {
      "text/html": [
       "<html>\n",
       "<head><meta charset=\"utf-8\" /></head>\n",
       "<body>\n",
       "    <div>            <script src=\"https://cdnjs.cloudflare.com/ajax/libs/mathjax/2.7.5/MathJax.js?config=TeX-AMS-MML_SVG\"></script><script type=\"text/javascript\">if (window.MathJax && window.MathJax.Hub && window.MathJax.Hub.Config) {window.MathJax.Hub.Config({SVG: {font: \"STIX-Web\"}});}</script>                <script type=\"text/javascript\">window.PlotlyConfig = {MathJaxConfig: 'local'};</script>\n",
       "        <script charset=\"utf-8\" src=\"https://cdn.plot.ly/plotly-3.0.1.min.js\"></script>                <div id=\"46113947-9429-4b42-9066-25464653120b\" class=\"plotly-graph-div\" style=\"height:500px; width:800px;\"></div>            <script type=\"text/javascript\">                window.PLOTLYENV=window.PLOTLYENV || {};                                if (document.getElementById(\"46113947-9429-4b42-9066-25464653120b\")) {                    Plotly.newPlot(                        \"46113947-9429-4b42-9066-25464653120b\",                        [{\"customdata\":[[\"2012\",\"BF-09\",\"coluzzii\",80,\"AGAP002862 (CYP6AA1) amp\"],[\"2014\",\"BF-09\",\"coluzzii\",53,\"AGAP002862 (CYP6AA1) amp\"]],\"error_y\":{\"array\":{\"dtype\":\"f8\",\"bdata\":\"YBghbILEpj\\u002fAx1+YFTS1Pw==\"},\"arrayminus\":{\"dtype\":\"f8\",\"bdata\":\"UAmZQIMPtT+w\\u002fmD2y\\u002fm\\u002fPw==\"}},\"hovertemplate\":\"\\u003cb\\u003e%{hovertext}\\u003c\\u002fb\\u003e\\u003cbr\\u003e\\u003cbr\\u003eArea=%{customdata[1]}\\u003cbr\\u003eTaxon=%{customdata[2]}\\u003cbr\\u003eFrequency=%{y:.0%}\\u003cbr\\u003ePeriod=%{customdata[0]}\\u003cbr\\u003eSample size=%{customdata[3]}\\u003cextra\\u003e\\u003c\\u002fextra\\u003e\",\"hovertext\":[\"AGAP002862 (CYP6AA1) amp\",\"AGAP002862 (CYP6AA1) amp\"],\"legendgroup\":\"AGAP002862 (CYP6AA1) amp\",\"line\":{\"color\":\"#636efa\",\"dash\":\"solid\"},\"marker\":{\"symbol\":\"circle\"},\"mode\":\"lines+markers\",\"name\":\"AGAP002862 (CYP6AA1) amp\",\"orientation\":\"v\",\"showlegend\":true,\"x\":[\"2012-01-01T00:00:00.000000000\",\"2014-01-01T00:00:00.000000000\"],\"xaxis\":\"x3\",\"y\":{\"dtype\":\"f8\",\"bdata\":\"MzMzMzMz7T9EaoLxVvbpPw==\"},\"yaxis\":\"y3\",\"type\":\"scatter\"},{\"customdata\":[[\"2012\",\"BF-09\",\"gambiae\",98,\"AGAP002862 (CYP6AA1) amp\"],[\"2014\",\"BF-09\",\"gambiae\",46,\"AGAP002862 (CYP6AA1) amp\"]],\"error_y\":{\"array\":{\"dtype\":\"f8\",\"bdata\":\"P4fTThlzrj9Lt5Zqghy8Pw==\"},\"arrayminus\":{\"dtype\":\"f8\",\"bdata\":\"0B2XZFFtmT9yZNleguilPw==\"}},\"hovertemplate\":\"\\u003cb\\u003e%{hovertext}\\u003c\\u002fb\\u003e\\u003cbr\\u003e\\u003cbr\\u003eArea=%{customdata[1]}\\u003cbr\\u003eTaxon=%{customdata[2]}\\u003cbr\\u003eFrequency=%{y:.0%}\\u003cbr\\u003ePeriod=%{customdata[0]}\\u003cbr\\u003eSample size=%{customdata[3]}\\u003cextra\\u003e\\u003c\\u002fextra\\u003e\",\"hovertext\":[\"AGAP002862 (CYP6AA1) amp\",\"AGAP002862 (CYP6AA1) amp\"],\"legendgroup\":\"AGAP002862 (CYP6AA1) amp\",\"line\":{\"color\":\"#636efa\",\"dash\":\"solid\"},\"marker\":{\"symbol\":\"circle\"},\"mode\":\"lines+markers\",\"name\":\"AGAP002862 (CYP6AA1) amp\",\"orientation\":\"v\",\"showlegend\":false,\"x\":[\"2012-01-01T00:00:00.000000000\",\"2014-01-01T00:00:00.000000000\"],\"xaxis\":\"x4\",\"y\":{\"dtype\":\"f8\",\"bdata\":\"OQUvp+DlpD8LWchCFrKwPw==\"},\"yaxis\":\"y4\",\"type\":\"scatter\"},{\"customdata\":[[\"2004\",\"BF-07\",\"gambiae\",13,\"AGAP002862 (CYP6AA1) amp\"]],\"error_y\":{\"array\":{\"dtype\":\"f8\",\"bdata\":\"NqtQqjoyzT8=\"},\"arrayminus\":{\"dtype\":\"f8\",\"bdata\":\"AAAAAAAAAAA=\"}},\"hovertemplate\":\"\\u003cb\\u003e%{hovertext}\\u003c\\u002fb\\u003e\\u003cbr\\u003e\\u003cbr\\u003eArea=%{customdata[1]}\\u003cbr\\u003eTaxon=%{customdata[2]}\\u003cbr\\u003eFrequency=%{y:.0%}\\u003cbr\\u003ePeriod=%{customdata[0]}\\u003cbr\\u003eSample size=%{customdata[3]}\\u003cextra\\u003e\\u003c\\u002fextra\\u003e\",\"hovertext\":[\"AGAP002862 (CYP6AA1) amp\"],\"legendgroup\":\"AGAP002862 (CYP6AA1) amp\",\"line\":{\"color\":\"#636efa\",\"dash\":\"solid\"},\"marker\":{\"symbol\":\"circle\"},\"mode\":\"lines+markers\",\"name\":\"AGAP002862 (CYP6AA1) amp\",\"orientation\":\"v\",\"showlegend\":false,\"x\":[\"2004-01-01T00:00:00.000000000\"],\"xaxis\":\"x2\",\"y\":{\"dtype\":\"f8\",\"bdata\":\"AAAAAAAAAAA=\"},\"yaxis\":\"y2\",\"type\":\"scatter\"},{\"customdata\":[[\"2012\",\"BF-09\",\"coluzzii\",80,\"AGAP013128 (CYP6AA2) amp\"],[\"2014\",\"BF-09\",\"coluzzii\",53,\"AGAP013128 (CYP6AA2) amp\"]],\"error_y\":{\"array\":{\"dtype\":\"f8\",\"bdata\":\"EKi8d+xasT+AW3dbema2Pw==\"},\"arrayminus\":{\"dtype\":\"f8\",\"bdata\":\"AGDi5LP6uD8YVxkzh0LAPw==\"}},\"hovertemplate\":\"\\u003cb\\u003e%{hovertext}\\u003c\\u002fb\\u003e\\u003cbr\\u003e\\u003cbr\\u003eArea=%{customdata[1]}\\u003cbr\\u003eTaxon=%{customdata[2]}\\u003cbr\\u003eFrequency=%{y:.0%}\\u003cbr\\u003ePeriod=%{customdata[0]}\\u003cbr\\u003eSample size=%{customdata[3]}\\u003cextra\\u003e\\u003c\\u002fextra\\u003e\",\"hovertext\":[\"AGAP013128 (CYP6AA2) amp\",\"AGAP013128 (CYP6AA2) amp\"],\"legendgroup\":\"AGAP013128 (CYP6AA2) amp\",\"line\":{\"color\":\"#EF553B\",\"dash\":\"solid\"},\"marker\":{\"symbol\":\"circle\"},\"mode\":\"lines+markers\",\"name\":\"AGAP013128 (CYP6AA2) amp\",\"orientation\":\"v\",\"showlegend\":true,\"x\":[\"2012-01-01T00:00:00.000000000\",\"2014-01-01T00:00:00.000000000\"],\"xaxis\":\"x3\",\"y\":{\"dtype\":\"f8\",\"bdata\":\"ZmZmZmZm6j9+DqkJxlvpPw==\"},\"yaxis\":\"y3\",\"type\":\"scatter\"},{\"customdata\":[[\"2012\",\"BF-09\",\"gambiae\",98,\"AGAP013128 (CYP6AA2) amp\"],[\"2014\",\"BF-09\",\"gambiae\",46,\"AGAP013128 (CYP6AA2) amp\"]],\"error_y\":{\"array\":{\"dtype\":\"f8\",\"bdata\":\"P4fTThlzrj9Lt5Zqghy8Pw==\"},\"arrayminus\":{\"dtype\":\"f8\",\"bdata\":\"0B2XZFFtmT9yZNleguilPw==\"}},\"hovertemplate\":\"\\u003cb\\u003e%{hovertext}\\u003c\\u002fb\\u003e\\u003cbr\\u003e\\u003cbr\\u003eArea=%{customdata[1]}\\u003cbr\\u003eTaxon=%{customdata[2]}\\u003cbr\\u003eFrequency=%{y:.0%}\\u003cbr\\u003ePeriod=%{customdata[0]}\\u003cbr\\u003eSample size=%{customdata[3]}\\u003cextra\\u003e\\u003c\\u002fextra\\u003e\",\"hovertext\":[\"AGAP013128 (CYP6AA2) amp\",\"AGAP013128 (CYP6AA2) amp\"],\"legendgroup\":\"AGAP013128 (CYP6AA2) amp\",\"line\":{\"color\":\"#EF553B\",\"dash\":\"solid\"},\"marker\":{\"symbol\":\"circle\"},\"mode\":\"lines+markers\",\"name\":\"AGAP013128 (CYP6AA2) amp\",\"orientation\":\"v\",\"showlegend\":false,\"x\":[\"2012-01-01T00:00:00.000000000\",\"2014-01-01T00:00:00.000000000\"],\"xaxis\":\"x4\",\"y\":{\"dtype\":\"f8\",\"bdata\":\"OQUvp+DlpD8LWchCFrKwPw==\"},\"yaxis\":\"y4\",\"type\":\"scatter\"},{\"customdata\":[[\"2004\",\"BF-07\",\"gambiae\",13,\"AGAP013128 (CYP6AA2) amp\"]],\"error_y\":{\"array\":{\"dtype\":\"f8\",\"bdata\":\"NqtQqjoyzT8=\"},\"arrayminus\":{\"dtype\":\"f8\",\"bdata\":\"AAAAAAAAAAA=\"}},\"hovertemplate\":\"\\u003cb\\u003e%{hovertext}\\u003c\\u002fb\\u003e\\u003cbr\\u003e\\u003cbr\\u003eArea=%{customdata[1]}\\u003cbr\\u003eTaxon=%{customdata[2]}\\u003cbr\\u003eFrequency=%{y:.0%}\\u003cbr\\u003ePeriod=%{customdata[0]}\\u003cbr\\u003eSample size=%{customdata[3]}\\u003cextra\\u003e\\u003c\\u002fextra\\u003e\",\"hovertext\":[\"AGAP013128 (CYP6AA2) amp\"],\"legendgroup\":\"AGAP013128 (CYP6AA2) amp\",\"line\":{\"color\":\"#EF553B\",\"dash\":\"solid\"},\"marker\":{\"symbol\":\"circle\"},\"mode\":\"lines+markers\",\"name\":\"AGAP013128 (CYP6AA2) amp\",\"orientation\":\"v\",\"showlegend\":false,\"x\":[\"2004-01-01T00:00:00.000000000\"],\"xaxis\":\"x2\",\"y\":{\"dtype\":\"f8\",\"bdata\":\"AAAAAAAAAAA=\"},\"yaxis\":\"y2\",\"type\":\"scatter\"},{\"customdata\":[[\"2012\",\"BF-09\",\"coluzzii\",80,\"AGAP002863 (COEAE6O) amp\"],[\"2014\",\"BF-09\",\"coluzzii\",53,\"AGAP002863 (COEAE6O) amp\"]],\"error_y\":{\"array\":{\"dtype\":\"f8\",\"bdata\":\"yJnf3Z2yuT98Vtt5rI3APw==\"},\"arrayminus\":{\"dtype\":\"f8\",\"bdata\":\"eA11\\u002fykLvD+Oz6wOdbfAPw==\"}},\"hovertemplate\":\"\\u003cb\\u003e%{hovertext}\\u003c\\u002fb\\u003e\\u003cbr\\u003e\\u003cbr\\u003eArea=%{customdata[1]}\\u003cbr\\u003eTaxon=%{customdata[2]}\\u003cbr\\u003eFrequency=%{y:.0%}\\u003cbr\\u003ePeriod=%{customdata[0]}\\u003cbr\\u003eSample size=%{customdata[3]}\\u003cextra\\u003e\\u003c\\u002fextra\\u003e\",\"hovertext\":[\"AGAP002863 (COEAE6O) amp\",\"AGAP002863 (COEAE6O) amp\"],\"legendgroup\":\"AGAP002863 (COEAE6O) amp\",\"line\":{\"color\":\"#00cc96\",\"dash\":\"solid\"},\"marker\":{\"symbol\":\"circle\"},\"mode\":\"lines+markers\",\"name\":\"AGAP002863 (COEAE6O) amp\",\"orientation\":\"v\",\"showlegend\":true,\"x\":[\"2012-01-01T00:00:00.000000000\",\"2014-01-01T00:00:00.000000000\"],\"xaxis\":\"x3\",\"y\":{\"dtype\":\"f8\",\"bdata\":\"MzMzMzMz4z\\u002fjrexzSE3gPw==\"},\"yaxis\":\"y3\",\"type\":\"scatter\"},{\"customdata\":[[\"2012\",\"BF-09\",\"gambiae\",98,\"AGAP002863 (COEAE6O) amp\"],[\"2014\",\"BF-09\",\"gambiae\",46,\"AGAP002863 (COEAE6O) amp\"]],\"error_y\":{\"array\":{\"dtype\":\"f8\",\"bdata\":\"faCh7TU4pz8F5FfCAHS3Pw==\"},\"arrayminus\":{\"dtype\":\"f8\",\"bdata\":\"PTwgkkw0gT+SRkA4F1KSPw==\"}},\"hovertemplate\":\"\\u003cb\\u003e%{hovertext}\\u003c\\u002fb\\u003e\\u003cbr\\u003e\\u003cbr\\u003eArea=%{customdata[1]}\\u003cbr\\u003eTaxon=%{customdata[2]}\\u003cbr\\u003eFrequency=%{y:.0%}\\u003cbr\\u003ePeriod=%{customdata[0]}\\u003cbr\\u003eSample size=%{customdata[3]}\\u003cextra\\u003e\\u003c\\u002fextra\\u003e\",\"hovertext\":[\"AGAP002863 (COEAE6O) amp\",\"AGAP002863 (COEAE6O) amp\"],\"legendgroup\":\"AGAP002863 (COEAE6O) amp\",\"line\":{\"color\":\"#00cc96\",\"dash\":\"solid\"},\"marker\":{\"symbol\":\"circle\"},\"mode\":\"lines+markers\",\"name\":\"AGAP002863 (COEAE6O) amp\",\"orientation\":\"v\",\"showlegend\":false,\"x\":[\"2012-01-01T00:00:00.000000000\",\"2014-01-01T00:00:00.000000000\"],\"xaxis\":\"x4\",\"y\":{\"dtype\":\"f8\",\"bdata\":\"OQUvp+DlhD9kIQtZyEKWPw==\"},\"yaxis\":\"y4\",\"type\":\"scatter\"},{\"customdata\":[[\"2004\",\"BF-07\",\"gambiae\",13,\"AGAP002863 (COEAE6O) amp\"]],\"error_y\":{\"array\":{\"dtype\":\"f8\",\"bdata\":\"NqtQqjoyzT8=\"},\"arrayminus\":{\"dtype\":\"f8\",\"bdata\":\"AAAAAAAAAAA=\"}},\"hovertemplate\":\"\\u003cb\\u003e%{hovertext}\\u003c\\u002fb\\u003e\\u003cbr\\u003e\\u003cbr\\u003eArea=%{customdata[1]}\\u003cbr\\u003eTaxon=%{customdata[2]}\\u003cbr\\u003eFrequency=%{y:.0%}\\u003cbr\\u003ePeriod=%{customdata[0]}\\u003cbr\\u003eSample size=%{customdata[3]}\\u003cextra\\u003e\\u003c\\u002fextra\\u003e\",\"hovertext\":[\"AGAP002863 (COEAE6O) amp\"],\"legendgroup\":\"AGAP002863 (COEAE6O) amp\",\"line\":{\"color\":\"#00cc96\",\"dash\":\"solid\"},\"marker\":{\"symbol\":\"circle\"},\"mode\":\"lines+markers\",\"name\":\"AGAP002863 (COEAE6O) amp\",\"orientation\":\"v\",\"showlegend\":false,\"x\":[\"2004-01-01T00:00:00.000000000\"],\"xaxis\":\"x2\",\"y\":{\"dtype\":\"f8\",\"bdata\":\"AAAAAAAAAAA=\"},\"yaxis\":\"y2\",\"type\":\"scatter\"},{\"customdata\":[[\"2012\",\"BF-09\",\"coluzzii\",80,\"AGAP002864 (CYP6P15P) amp\"],[\"2014\",\"BF-09\",\"coluzzii\",53,\"AGAP002864 (CYP6P15P) amp\"]],\"error_y\":{\"array\":{\"dtype\":\"f8\",\"bdata\":\"yFNXVpsSuz+IVmXwOl7APw==\"},\"arrayminus\":{\"dtype\":\"f8\",\"bdata\":\"uLC8Xr6ouz\\u002fAwdmulNvAPw==\"}},\"hovertemplate\":\"\\u003cb\\u003e%{hovertext}\\u003c\\u002fb\\u003e\\u003cbr\\u003e\\u003cbr\\u003eArea=%{customdata[1]}\\u003cbr\\u003eTaxon=%{customdata[2]}\\u003cbr\\u003eFrequency=%{y:.0%}\\u003cbr\\u003ePeriod=%{customdata[0]}\\u003cbr\\u003eSample size=%{customdata[3]}\\u003cextra\\u003e\\u003c\\u002fextra\\u003e\",\"hovertext\":[\"AGAP002864 (CYP6P15P) amp\",\"AGAP002864 (CYP6P15P) amp\"],\"legendgroup\":\"AGAP002864 (CYP6P15P) amp\",\"line\":{\"color\":\"#ab63fa\",\"dash\":\"solid\"},\"marker\":{\"symbol\":\"circle\"},\"mode\":\"lines+markers\",\"name\":\"AGAP002864 (CYP6P15P) amp\",\"orientation\":\"v\",\"showlegend\":true,\"x\":[\"2012-01-01T00:00:00.000000000\",\"2014-01-01T00:00:00.000000000\"],\"xaxis\":\"x3\",\"y\":{\"dtype\":\"f8\",\"bdata\":\"zczMzMzM4D+pCcZb2efgPw==\"},\"yaxis\":\"y3\",\"type\":\"scatter\"},{\"customdata\":[[\"2012\",\"BF-09\",\"gambiae\",98,\"AGAP002864 (CYP6P15P) amp\"],[\"2014\",\"BF-09\",\"gambiae\",46,\"AGAP002864 (CYP6P15P) amp\"]],\"error_y\":{\"array\":{\"dtype\":\"f8\",\"bdata\":\"faCh7TU4pz8F5FfCAHS3Pw==\"},\"arrayminus\":{\"dtype\":\"f8\",\"bdata\":\"PTwgkkw0gT+SRkA4F1KSPw==\"}},\"hovertemplate\":\"\\u003cb\\u003e%{hovertext}\\u003c\\u002fb\\u003e\\u003cbr\\u003e\\u003cbr\\u003eArea=%{customdata[1]}\\u003cbr\\u003eTaxon=%{customdata[2]}\\u003cbr\\u003eFrequency=%{y:.0%}\\u003cbr\\u003ePeriod=%{customdata[0]}\\u003cbr\\u003eSample size=%{customdata[3]}\\u003cextra\\u003e\\u003c\\u002fextra\\u003e\",\"hovertext\":[\"AGAP002864 (CYP6P15P) amp\",\"AGAP002864 (CYP6P15P) amp\"],\"legendgroup\":\"AGAP002864 (CYP6P15P) amp\",\"line\":{\"color\":\"#ab63fa\",\"dash\":\"solid\"},\"marker\":{\"symbol\":\"circle\"},\"mode\":\"lines+markers\",\"name\":\"AGAP002864 (CYP6P15P) amp\",\"orientation\":\"v\",\"showlegend\":false,\"x\":[\"2012-01-01T00:00:00.000000000\",\"2014-01-01T00:00:00.000000000\"],\"xaxis\":\"x4\",\"y\":{\"dtype\":\"f8\",\"bdata\":\"OQUvp+DlhD9kIQtZyEKWPw==\"},\"yaxis\":\"y4\",\"type\":\"scatter\"},{\"customdata\":[[\"2004\",\"BF-07\",\"gambiae\",13,\"AGAP002864 (CYP6P15P) amp\"]],\"error_y\":{\"array\":{\"dtype\":\"f8\",\"bdata\":\"NqtQqjoyzT8=\"},\"arrayminus\":{\"dtype\":\"f8\",\"bdata\":\"AAAAAAAAAAA=\"}},\"hovertemplate\":\"\\u003cb\\u003e%{hovertext}\\u003c\\u002fb\\u003e\\u003cbr\\u003e\\u003cbr\\u003eArea=%{customdata[1]}\\u003cbr\\u003eTaxon=%{customdata[2]}\\u003cbr\\u003eFrequency=%{y:.0%}\\u003cbr\\u003ePeriod=%{customdata[0]}\\u003cbr\\u003eSample size=%{customdata[3]}\\u003cextra\\u003e\\u003c\\u002fextra\\u003e\",\"hovertext\":[\"AGAP002864 (CYP6P15P) amp\"],\"legendgroup\":\"AGAP002864 (CYP6P15P) amp\",\"line\":{\"color\":\"#ab63fa\",\"dash\":\"solid\"},\"marker\":{\"symbol\":\"circle\"},\"mode\":\"lines+markers\",\"name\":\"AGAP002864 (CYP6P15P) amp\",\"orientation\":\"v\",\"showlegend\":false,\"x\":[\"2004-01-01T00:00:00.000000000\"],\"xaxis\":\"x2\",\"y\":{\"dtype\":\"f8\",\"bdata\":\"AAAAAAAAAAA=\"},\"yaxis\":\"y2\",\"type\":\"scatter\"},{\"customdata\":[[\"2012\",\"BF-09\",\"coluzzii\",80,\"AGAP002865 (CYP6P3) amp\"],[\"2014\",\"BF-09\",\"coluzzii\",53,\"AGAP002865 (CYP6P3) amp\"]],\"error_y\":{\"array\":{\"dtype\":\"f8\",\"bdata\":\"KuEnXwEqsT\\u002fpDVFcnmW6Pw==\"},\"arrayminus\":{\"dtype\":\"f8\",\"bdata\":\"6KhSD+VBmT9W+lgVNGqnPw==\"}},\"hovertemplate\":\"\\u003cb\\u003e%{hovertext}\\u003c\\u002fb\\u003e\\u003cbr\\u003e\\u003cbr\\u003eArea=%{customdata[1]}\\u003cbr\\u003eTaxon=%{customdata[2]}\\u003cbr\\u003eFrequency=%{y:.0%}\\u003cbr\\u003ePeriod=%{customdata[0]}\\u003cbr\\u003eSample size=%{customdata[3]}\\u003cextra\\u003e\\u003c\\u002fextra\\u003e\",\"hovertext\":[\"AGAP002865 (CYP6P3) amp\",\"AGAP002865 (CYP6P3) amp\"],\"legendgroup\":\"AGAP002865 (CYP6P3) amp\",\"line\":{\"color\":\"#FFA15A\",\"dash\":\"solid\"},\"marker\":{\"symbol\":\"circle\"},\"mode\":\"lines+markers\",\"name\":\"AGAP002865 (CYP6P3) amp\",\"orientation\":\"v\",\"showlegend\":true,\"x\":[\"2012-01-01T00:00:00.000000000\",\"2014-01-01T00:00:00.000000000\"],\"xaxis\":\"x3\",\"y\":{\"dtype\":\"f8\",\"bdata\":\"MzMzMzMzoz\\u002fBeCv7HFKzPw==\"},\"yaxis\":\"y3\",\"type\":\"scatter\"},{\"customdata\":[[\"2012\",\"BF-09\",\"gambiae\",98,\"AGAP002865 (CYP6P3) amp\"],[\"2014\",\"BF-09\",\"gambiae\",46,\"AGAP002865 (CYP6P3) amp\"]],\"error_y\":{\"array\":{\"dtype\":\"f8\",\"bdata\":\"faCh7TU4pz8F5FfCAHS3Pw==\"},\"arrayminus\":{\"dtype\":\"f8\",\"bdata\":\"PTwgkkw0gT+SRkA4F1KSPw==\"}},\"hovertemplate\":\"\\u003cb\\u003e%{hovertext}\\u003c\\u002fb\\u003e\\u003cbr\\u003e\\u003cbr\\u003eArea=%{customdata[1]}\\u003cbr\\u003eTaxon=%{customdata[2]}\\u003cbr\\u003eFrequency=%{y:.0%}\\u003cbr\\u003ePeriod=%{customdata[0]}\\u003cbr\\u003eSample size=%{customdata[3]}\\u003cextra\\u003e\\u003c\\u002fextra\\u003e\",\"hovertext\":[\"AGAP002865 (CYP6P3) amp\",\"AGAP002865 (CYP6P3) amp\"],\"legendgroup\":\"AGAP002865 (CYP6P3) amp\",\"line\":{\"color\":\"#FFA15A\",\"dash\":\"solid\"},\"marker\":{\"symbol\":\"circle\"},\"mode\":\"lines+markers\",\"name\":\"AGAP002865 (CYP6P3) amp\",\"orientation\":\"v\",\"showlegend\":false,\"x\":[\"2012-01-01T00:00:00.000000000\",\"2014-01-01T00:00:00.000000000\"],\"xaxis\":\"x4\",\"y\":{\"dtype\":\"f8\",\"bdata\":\"OQUvp+DlhD9kIQtZyEKWPw==\"},\"yaxis\":\"y4\",\"type\":\"scatter\"},{\"customdata\":[[\"2004\",\"BF-07\",\"gambiae\",13,\"AGAP002865 (CYP6P3) amp\"]],\"error_y\":{\"array\":{\"dtype\":\"f8\",\"bdata\":\"NqtQqjoyzT8=\"},\"arrayminus\":{\"dtype\":\"f8\",\"bdata\":\"AAAAAAAAAAA=\"}},\"hovertemplate\":\"\\u003cb\\u003e%{hovertext}\\u003c\\u002fb\\u003e\\u003cbr\\u003e\\u003cbr\\u003eArea=%{customdata[1]}\\u003cbr\\u003eTaxon=%{customdata[2]}\\u003cbr\\u003eFrequency=%{y:.0%}\\u003cbr\\u003ePeriod=%{customdata[0]}\\u003cbr\\u003eSample size=%{customdata[3]}\\u003cextra\\u003e\\u003c\\u002fextra\\u003e\",\"hovertext\":[\"AGAP002865 (CYP6P3) amp\"],\"legendgroup\":\"AGAP002865 (CYP6P3) amp\",\"line\":{\"color\":\"#FFA15A\",\"dash\":\"solid\"},\"marker\":{\"symbol\":\"circle\"},\"mode\":\"lines+markers\",\"name\":\"AGAP002865 (CYP6P3) amp\",\"orientation\":\"v\",\"showlegend\":false,\"x\":[\"2004-01-01T00:00:00.000000000\"],\"xaxis\":\"x2\",\"y\":{\"dtype\":\"f8\",\"bdata\":\"AAAAAAAAAAA=\"},\"yaxis\":\"y2\",\"type\":\"scatter\"},{\"customdata\":[[\"2012\",\"BF-09\",\"coluzzii\",80,\"AGAP002865 (CYP6P3) del\"],[\"2014\",\"BF-09\",\"coluzzii\",53,\"AGAP002865 (CYP6P3) del\"]],\"error_y\":{\"array\":{\"dtype\":\"f8\",\"bdata\":\"ooTWT3l1pz\\u002fzIbyeDU2xPw==\"},\"arrayminus\":{\"dtype\":\"f8\",\"bdata\":\"AAAAAAAAAAAAAAAAAAAAAA==\"}},\"hovertemplate\":\"\\u003cb\\u003e%{hovertext}\\u003c\\u002fb\\u003e\\u003cbr\\u003e\\u003cbr\\u003eArea=%{customdata[1]}\\u003cbr\\u003eTaxon=%{customdata[2]}\\u003cbr\\u003eFrequency=%{y:.0%}\\u003cbr\\u003ePeriod=%{customdata[0]}\\u003cbr\\u003eSample size=%{customdata[3]}\\u003cextra\\u003e\\u003c\\u002fextra\\u003e\",\"hovertext\":[\"AGAP002865 (CYP6P3) del\",\"AGAP002865 (CYP6P3) del\"],\"legendgroup\":\"AGAP002865 (CYP6P3) del\",\"line\":{\"color\":\"#19d3f3\",\"dash\":\"solid\"},\"marker\":{\"symbol\":\"circle\"},\"mode\":\"lines+markers\",\"name\":\"AGAP002865 (CYP6P3) del\",\"orientation\":\"v\",\"showlegend\":true,\"x\":[\"2012-01-01T00:00:00.000000000\",\"2014-01-01T00:00:00.000000000\"],\"xaxis\":\"x3\",\"y\":{\"dtype\":\"f8\",\"bdata\":\"AAAAAAAAAAAAAAAAAAAAAA==\"},\"yaxis\":\"y3\",\"type\":\"scatter\"},{\"customdata\":[[\"2012\",\"BF-09\",\"gambiae\",98,\"AGAP002865 (CYP6P3) del\"],[\"2014\",\"BF-09\",\"gambiae\",46,\"AGAP002865 (CYP6P3) del\"]],\"error_y\":{\"array\":{\"dtype\":\"f8\",\"bdata\":\"cdHhPSnhsz8GudbQF7uzPw==\"},\"arrayminus\":{\"dtype\":\"f8\",\"bdata\":\"vg86RyzIqD8AAAAAAAAAAA==\"}},\"hovertemplate\":\"\\u003cb\\u003e%{hovertext}\\u003c\\u002fb\\u003e\\u003cbr\\u003e\\u003cbr\\u003eArea=%{customdata[1]}\\u003cbr\\u003eTaxon=%{customdata[2]}\\u003cbr\\u003eFrequency=%{y:.0%}\\u003cbr\\u003ePeriod=%{customdata[0]}\\u003cbr\\u003eSample size=%{customdata[3]}\\u003cextra\\u003e\\u003c\\u002fextra\\u003e\",\"hovertext\":[\"AGAP002865 (CYP6P3) del\",\"AGAP002865 (CYP6P3) del\"],\"legendgroup\":\"AGAP002865 (CYP6P3) del\",\"line\":{\"color\":\"#19d3f3\",\"dash\":\"solid\"},\"marker\":{\"symbol\":\"circle\"},\"mode\":\"lines+markers\",\"name\":\"AGAP002865 (CYP6P3) del\",\"orientation\":\"v\",\"showlegend\":false,\"x\":[\"2012-01-01T00:00:00.000000000\",\"2014-01-01T00:00:00.000000000\"],\"xaxis\":\"x4\",\"y\":{\"dtype\":\"f8\",\"bdata\":\"L6fg5RS8vD8AAAAAAAAAAA==\"},\"yaxis\":\"y4\",\"type\":\"scatter\"},{\"customdata\":[[\"2004\",\"BF-07\",\"gambiae\",13,\"AGAP002865 (CYP6P3) del\"]],\"error_y\":{\"array\":{\"dtype\":\"f8\",\"bdata\":\"NqtQqjoyzT8=\"},\"arrayminus\":{\"dtype\":\"f8\",\"bdata\":\"AAAAAAAAAAA=\"}},\"hovertemplate\":\"\\u003cb\\u003e%{hovertext}\\u003c\\u002fb\\u003e\\u003cbr\\u003e\\u003cbr\\u003eArea=%{customdata[1]}\\u003cbr\\u003eTaxon=%{customdata[2]}\\u003cbr\\u003eFrequency=%{y:.0%}\\u003cbr\\u003ePeriod=%{customdata[0]}\\u003cbr\\u003eSample size=%{customdata[3]}\\u003cextra\\u003e\\u003c\\u002fextra\\u003e\",\"hovertext\":[\"AGAP002865 (CYP6P3) del\"],\"legendgroup\":\"AGAP002865 (CYP6P3) del\",\"line\":{\"color\":\"#19d3f3\",\"dash\":\"solid\"},\"marker\":{\"symbol\":\"circle\"},\"mode\":\"lines+markers\",\"name\":\"AGAP002865 (CYP6P3) del\",\"orientation\":\"v\",\"showlegend\":false,\"x\":[\"2004-01-01T00:00:00.000000000\"],\"xaxis\":\"x2\",\"y\":{\"dtype\":\"f8\",\"bdata\":\"AAAAAAAAAAA=\"},\"yaxis\":\"y2\",\"type\":\"scatter\"},{\"customdata\":[[\"2012\",\"BF-09\",\"coluzzii\",80,\"AGAP002866 (CYP6P5) amp\"],[\"2014\",\"BF-09\",\"coluzzii\",53,\"AGAP002866 (CYP6P5) amp\"]],\"error_y\":{\"array\":{\"dtype\":\"f8\",\"bdata\":\"KuEnXwEqsT9rOt9Pb9u4Pw==\"},\"arrayminus\":{\"dtype\":\"f8\",\"bdata\":\"6KhSD+VBmT++iulVkQejPw==\"}},\"hovertemplate\":\"\\u003cb\\u003e%{hovertext}\\u003c\\u002fb\\u003e\\u003cbr\\u003e\\u003cbr\\u003eArea=%{customdata[1]}\\u003cbr\\u003eTaxon=%{customdata[2]}\\u003cbr\\u003eFrequency=%{y:.0%}\\u003cbr\\u003ePeriod=%{customdata[0]}\\u003cbr\\u003eSample size=%{customdata[3]}\\u003cextra\\u003e\\u003c\\u002fextra\\u003e\",\"hovertext\":[\"AGAP002866 (CYP6P5) amp\",\"AGAP002866 (CYP6P5) amp\"],\"legendgroup\":\"AGAP002866 (CYP6P5) amp\",\"line\":{\"color\":\"#FF6692\",\"dash\":\"solid\"},\"marker\":{\"symbol\":\"circle\"},\"mode\":\"lines+markers\",\"name\":\"AGAP002866 (CYP6P5) amp\",\"orientation\":\"v\",\"showlegend\":true,\"x\":[\"2012-01-01T00:00:00.000000000\",\"2014-01-01T00:00:00.000000000\"],\"xaxis\":\"x3\",\"y\":{\"dtype\":\"f8\",\"bdata\":\"MzMzMzMzoz8iNcF4K\\u002fusPw==\"},\"yaxis\":\"y3\",\"type\":\"scatter\"},{\"customdata\":[[\"2012\",\"BF-09\",\"gambiae\",98,\"AGAP002866 (CYP6P5) amp\"],[\"2014\",\"BF-09\",\"gambiae\",46,\"AGAP002866 (CYP6P5) amp\"]],\"error_y\":{\"array\":{\"dtype\":\"f8\",\"bdata\":\"egF83UEZqj8F5FfCAHS3Pw==\"},\"arrayminus\":{\"dtype\":\"f8\",\"bdata\":\"Soz2jBRMjj+SRkA4F1KSPw==\"}},\"hovertemplate\":\"\\u003cb\\u003e%{hovertext}\\u003c\\u002fb\\u003e\\u003cbr\\u003e\\u003cbr\\u003eArea=%{customdata[1]}\\u003cbr\\u003eTaxon=%{customdata[2]}\\u003cbr\\u003eFrequency=%{y:.0%}\\u003cbr\\u003ePeriod=%{customdata[0]}\\u003cbr\\u003eSample size=%{customdata[3]}\\u003cextra\\u003e\\u003c\\u002fextra\\u003e\",\"hovertext\":[\"AGAP002866 (CYP6P5) amp\",\"AGAP002866 (CYP6P5) amp\"],\"legendgroup\":\"AGAP002866 (CYP6P5) amp\",\"line\":{\"color\":\"#FF6692\",\"dash\":\"solid\"},\"marker\":{\"symbol\":\"circle\"},\"mode\":\"lines+markers\",\"name\":\"AGAP002866 (CYP6P5) amp\",\"orientation\":\"v\",\"showlegend\":false,\"x\":[\"2012-01-01T00:00:00.000000000\",\"2014-01-01T00:00:00.000000000\"],\"xaxis\":\"x4\",\"y\":{\"dtype\":\"f8\",\"bdata\":\"OQUvp+DllD9kIQtZyEKWPw==\"},\"yaxis\":\"y4\",\"type\":\"scatter\"},{\"customdata\":[[\"2004\",\"BF-07\",\"gambiae\",13,\"AGAP002866 (CYP6P5) amp\"]],\"error_y\":{\"array\":{\"dtype\":\"f8\",\"bdata\":\"NqtQqjoyzT8=\"},\"arrayminus\":{\"dtype\":\"f8\",\"bdata\":\"AAAAAAAAAAA=\"}},\"hovertemplate\":\"\\u003cb\\u003e%{hovertext}\\u003c\\u002fb\\u003e\\u003cbr\\u003e\\u003cbr\\u003eArea=%{customdata[1]}\\u003cbr\\u003eTaxon=%{customdata[2]}\\u003cbr\\u003eFrequency=%{y:.0%}\\u003cbr\\u003ePeriod=%{customdata[0]}\\u003cbr\\u003eSample size=%{customdata[3]}\\u003cextra\\u003e\\u003c\\u002fextra\\u003e\",\"hovertext\":[\"AGAP002866 (CYP6P5) amp\"],\"legendgroup\":\"AGAP002866 (CYP6P5) amp\",\"line\":{\"color\":\"#FF6692\",\"dash\":\"solid\"},\"marker\":{\"symbol\":\"circle\"},\"mode\":\"lines+markers\",\"name\":\"AGAP002866 (CYP6P5) amp\",\"orientation\":\"v\",\"showlegend\":false,\"x\":[\"2004-01-01T00:00:00.000000000\"],\"xaxis\":\"x2\",\"y\":{\"dtype\":\"f8\",\"bdata\":\"AAAAAAAAAAA=\"},\"yaxis\":\"y2\",\"type\":\"scatter\"},{\"customdata\":[[\"2012\",\"BF-09\",\"coluzzii\",80,\"AGAP002867 (CYP6P4) amp\"],[\"2014\",\"BF-09\",\"coluzzii\",53,\"AGAP002867 (CYP6P4) amp\"]],\"error_y\":{\"array\":{\"dtype\":\"f8\",\"bdata\":\"KuEnXwEqsT\\u002fpDVFcnmW6Pw==\"},\"arrayminus\":{\"dtype\":\"f8\",\"bdata\":\"6KhSD+VBmT9W+lgVNGqnPw==\"}},\"hovertemplate\":\"\\u003cb\\u003e%{hovertext}\\u003c\\u002fb\\u003e\\u003cbr\\u003e\\u003cbr\\u003eArea=%{customdata[1]}\\u003cbr\\u003eTaxon=%{customdata[2]}\\u003cbr\\u003eFrequency=%{y:.0%}\\u003cbr\\u003ePeriod=%{customdata[0]}\\u003cbr\\u003eSample size=%{customdata[3]}\\u003cextra\\u003e\\u003c\\u002fextra\\u003e\",\"hovertext\":[\"AGAP002867 (CYP6P4) amp\",\"AGAP002867 (CYP6P4) amp\"],\"legendgroup\":\"AGAP002867 (CYP6P4) amp\",\"line\":{\"color\":\"#B6E880\",\"dash\":\"solid\"},\"marker\":{\"symbol\":\"circle\"},\"mode\":\"lines+markers\",\"name\":\"AGAP002867 (CYP6P4) amp\",\"orientation\":\"v\",\"showlegend\":true,\"x\":[\"2012-01-01T00:00:00.000000000\",\"2014-01-01T00:00:00.000000000\"],\"xaxis\":\"x3\",\"y\":{\"dtype\":\"f8\",\"bdata\":\"MzMzMzMzoz\\u002fBeCv7HFKzPw==\"},\"yaxis\":\"y3\",\"type\":\"scatter\"},{\"customdata\":[[\"2012\",\"BF-09\",\"gambiae\",98,\"AGAP002867 (CYP6P4) amp\"],[\"2014\",\"BF-09\",\"gambiae\",46,\"AGAP002867 (CYP6P4) amp\"]],\"error_y\":{\"array\":{\"dtype\":\"f8\",\"bdata\":\"faCh7TU4pz8F5FfCAHS3Pw==\"},\"arrayminus\":{\"dtype\":\"f8\",\"bdata\":\"PTwgkkw0gT+SRkA4F1KSPw==\"}},\"hovertemplate\":\"\\u003cb\\u003e%{hovertext}\\u003c\\u002fb\\u003e\\u003cbr\\u003e\\u003cbr\\u003eArea=%{customdata[1]}\\u003cbr\\u003eTaxon=%{customdata[2]}\\u003cbr\\u003eFrequency=%{y:.0%}\\u003cbr\\u003ePeriod=%{customdata[0]}\\u003cbr\\u003eSample size=%{customdata[3]}\\u003cextra\\u003e\\u003c\\u002fextra\\u003e\",\"hovertext\":[\"AGAP002867 (CYP6P4) amp\",\"AGAP002867 (CYP6P4) amp\"],\"legendgroup\":\"AGAP002867 (CYP6P4) amp\",\"line\":{\"color\":\"#B6E880\",\"dash\":\"solid\"},\"marker\":{\"symbol\":\"circle\"},\"mode\":\"lines+markers\",\"name\":\"AGAP002867 (CYP6P4) amp\",\"orientation\":\"v\",\"showlegend\":false,\"x\":[\"2012-01-01T00:00:00.000000000\",\"2014-01-01T00:00:00.000000000\"],\"xaxis\":\"x4\",\"y\":{\"dtype\":\"f8\",\"bdata\":\"OQUvp+DlhD9kIQtZyEKWPw==\"},\"yaxis\":\"y4\",\"type\":\"scatter\"},{\"customdata\":[[\"2004\",\"BF-07\",\"gambiae\",13,\"AGAP002867 (CYP6P4) amp\"]],\"error_y\":{\"array\":{\"dtype\":\"f8\",\"bdata\":\"NqtQqjoyzT8=\"},\"arrayminus\":{\"dtype\":\"f8\",\"bdata\":\"AAAAAAAAAAA=\"}},\"hovertemplate\":\"\\u003cb\\u003e%{hovertext}\\u003c\\u002fb\\u003e\\u003cbr\\u003e\\u003cbr\\u003eArea=%{customdata[1]}\\u003cbr\\u003eTaxon=%{customdata[2]}\\u003cbr\\u003eFrequency=%{y:.0%}\\u003cbr\\u003ePeriod=%{customdata[0]}\\u003cbr\\u003eSample size=%{customdata[3]}\\u003cextra\\u003e\\u003c\\u002fextra\\u003e\",\"hovertext\":[\"AGAP002867 (CYP6P4) amp\"],\"legendgroup\":\"AGAP002867 (CYP6P4) amp\",\"line\":{\"color\":\"#B6E880\",\"dash\":\"solid\"},\"marker\":{\"symbol\":\"circle\"},\"mode\":\"lines+markers\",\"name\":\"AGAP002867 (CYP6P4) amp\",\"orientation\":\"v\",\"showlegend\":false,\"x\":[\"2004-01-01T00:00:00.000000000\"],\"xaxis\":\"x2\",\"y\":{\"dtype\":\"f8\",\"bdata\":\"AAAAAAAAAAA=\"},\"yaxis\":\"y2\",\"type\":\"scatter\"},{\"customdata\":[[\"2012\",\"BF-09\",\"coluzzii\",80,\"AGAP002868 (CYP6P1) amp\"],[\"2014\",\"BF-09\",\"coluzzii\",53,\"AGAP002868 (CYP6P1) amp\"]],\"error_y\":{\"array\":{\"dtype\":\"f8\",\"bdata\":\"KuEnXwEqsT9rOt9Pb9u4Pw==\"},\"arrayminus\":{\"dtype\":\"f8\",\"bdata\":\"6KhSD+VBmT++iulVkQejPw==\"}},\"hovertemplate\":\"\\u003cb\\u003e%{hovertext}\\u003c\\u002fb\\u003e\\u003cbr\\u003e\\u003cbr\\u003eArea=%{customdata[1]}\\u003cbr\\u003eTaxon=%{customdata[2]}\\u003cbr\\u003eFrequency=%{y:.0%}\\u003cbr\\u003ePeriod=%{customdata[0]}\\u003cbr\\u003eSample size=%{customdata[3]}\\u003cextra\\u003e\\u003c\\u002fextra\\u003e\",\"hovertext\":[\"AGAP002868 (CYP6P1) amp\",\"AGAP002868 (CYP6P1) amp\"],\"legendgroup\":\"AGAP002868 (CYP6P1) amp\",\"line\":{\"color\":\"#FF97FF\",\"dash\":\"solid\"},\"marker\":{\"symbol\":\"circle\"},\"mode\":\"lines+markers\",\"name\":\"AGAP002868 (CYP6P1) amp\",\"orientation\":\"v\",\"showlegend\":true,\"x\":[\"2012-01-01T00:00:00.000000000\",\"2014-01-01T00:00:00.000000000\"],\"xaxis\":\"x3\",\"y\":{\"dtype\":\"f8\",\"bdata\":\"MzMzMzMzoz8iNcF4K\\u002fusPw==\"},\"yaxis\":\"y3\",\"type\":\"scatter\"},{\"customdata\":[[\"2012\",\"BF-09\",\"gambiae\",98,\"AGAP002868 (CYP6P1) amp\"],[\"2014\",\"BF-09\",\"gambiae\",46,\"AGAP002868 (CYP6P1) amp\"]],\"error_y\":{\"array\":{\"dtype\":\"f8\",\"bdata\":\"faCh7TU4pz8F5FfCAHS3Pw==\"},\"arrayminus\":{\"dtype\":\"f8\",\"bdata\":\"PTwgkkw0gT+SRkA4F1KSPw==\"}},\"hovertemplate\":\"\\u003cb\\u003e%{hovertext}\\u003c\\u002fb\\u003e\\u003cbr\\u003e\\u003cbr\\u003eArea=%{customdata[1]}\\u003cbr\\u003eTaxon=%{customdata[2]}\\u003cbr\\u003eFrequency=%{y:.0%}\\u003cbr\\u003ePeriod=%{customdata[0]}\\u003cbr\\u003eSample size=%{customdata[3]}\\u003cextra\\u003e\\u003c\\u002fextra\\u003e\",\"hovertext\":[\"AGAP002868 (CYP6P1) amp\",\"AGAP002868 (CYP6P1) amp\"],\"legendgroup\":\"AGAP002868 (CYP6P1) amp\",\"line\":{\"color\":\"#FF97FF\",\"dash\":\"solid\"},\"marker\":{\"symbol\":\"circle\"},\"mode\":\"lines+markers\",\"name\":\"AGAP002868 (CYP6P1) amp\",\"orientation\":\"v\",\"showlegend\":false,\"x\":[\"2012-01-01T00:00:00.000000000\",\"2014-01-01T00:00:00.000000000\"],\"xaxis\":\"x4\",\"y\":{\"dtype\":\"f8\",\"bdata\":\"OQUvp+DlhD9kIQtZyEKWPw==\"},\"yaxis\":\"y4\",\"type\":\"scatter\"},{\"customdata\":[[\"2004\",\"BF-07\",\"gambiae\",13,\"AGAP002868 (CYP6P1) amp\"]],\"error_y\":{\"array\":{\"dtype\":\"f8\",\"bdata\":\"NqtQqjoyzT8=\"},\"arrayminus\":{\"dtype\":\"f8\",\"bdata\":\"AAAAAAAAAAA=\"}},\"hovertemplate\":\"\\u003cb\\u003e%{hovertext}\\u003c\\u002fb\\u003e\\u003cbr\\u003e\\u003cbr\\u003eArea=%{customdata[1]}\\u003cbr\\u003eTaxon=%{customdata[2]}\\u003cbr\\u003eFrequency=%{y:.0%}\\u003cbr\\u003ePeriod=%{customdata[0]}\\u003cbr\\u003eSample size=%{customdata[3]}\\u003cextra\\u003e\\u003c\\u002fextra\\u003e\",\"hovertext\":[\"AGAP002868 (CYP6P1) amp\"],\"legendgroup\":\"AGAP002868 (CYP6P1) amp\",\"line\":{\"color\":\"#FF97FF\",\"dash\":\"solid\"},\"marker\":{\"symbol\":\"circle\"},\"mode\":\"lines+markers\",\"name\":\"AGAP002868 (CYP6P1) amp\",\"orientation\":\"v\",\"showlegend\":false,\"x\":[\"2004-01-01T00:00:00.000000000\"],\"xaxis\":\"x2\",\"y\":{\"dtype\":\"f8\",\"bdata\":\"AAAAAAAAAAA=\"},\"yaxis\":\"y2\",\"type\":\"scatter\"},{\"customdata\":[[\"2012\",\"BF-09\",\"coluzzii\",80,\"AGAP002869 (CYP6P2) amp\"],[\"2014\",\"BF-09\",\"coluzzii\",53,\"AGAP002869 (CYP6P2) amp\"]],\"error_y\":{\"array\":{\"dtype\":\"f8\",\"bdata\":\"KuEnXwEqsT9rOt9Pb9u4Pw==\"},\"arrayminus\":{\"dtype\":\"f8\",\"bdata\":\"6KhSD+VBmT++iulVkQejPw==\"}},\"hovertemplate\":\"\\u003cb\\u003e%{hovertext}\\u003c\\u002fb\\u003e\\u003cbr\\u003e\\u003cbr\\u003eArea=%{customdata[1]}\\u003cbr\\u003eTaxon=%{customdata[2]}\\u003cbr\\u003eFrequency=%{y:.0%}\\u003cbr\\u003ePeriod=%{customdata[0]}\\u003cbr\\u003eSample size=%{customdata[3]}\\u003cextra\\u003e\\u003c\\u002fextra\\u003e\",\"hovertext\":[\"AGAP002869 (CYP6P2) amp\",\"AGAP002869 (CYP6P2) amp\"],\"legendgroup\":\"AGAP002869 (CYP6P2) amp\",\"line\":{\"color\":\"#FECB52\",\"dash\":\"solid\"},\"marker\":{\"symbol\":\"circle\"},\"mode\":\"lines+markers\",\"name\":\"AGAP002869 (CYP6P2) amp\",\"orientation\":\"v\",\"showlegend\":true,\"x\":[\"2012-01-01T00:00:00.000000000\",\"2014-01-01T00:00:00.000000000\"],\"xaxis\":\"x3\",\"y\":{\"dtype\":\"f8\",\"bdata\":\"MzMzMzMzoz8iNcF4K\\u002fusPw==\"},\"yaxis\":\"y3\",\"type\":\"scatter\"},{\"customdata\":[[\"2012\",\"BF-09\",\"gambiae\",98,\"AGAP002869 (CYP6P2) amp\"],[\"2014\",\"BF-09\",\"gambiae\",46,\"AGAP002869 (CYP6P2) amp\"]],\"error_y\":{\"array\":{\"dtype\":\"f8\",\"bdata\":\"faCh7TU4pz8F5FfCAHS3Pw==\"},\"arrayminus\":{\"dtype\":\"f8\",\"bdata\":\"PTwgkkw0gT+SRkA4F1KSPw==\"}},\"hovertemplate\":\"\\u003cb\\u003e%{hovertext}\\u003c\\u002fb\\u003e\\u003cbr\\u003e\\u003cbr\\u003eArea=%{customdata[1]}\\u003cbr\\u003eTaxon=%{customdata[2]}\\u003cbr\\u003eFrequency=%{y:.0%}\\u003cbr\\u003ePeriod=%{customdata[0]}\\u003cbr\\u003eSample size=%{customdata[3]}\\u003cextra\\u003e\\u003c\\u002fextra\\u003e\",\"hovertext\":[\"AGAP002869 (CYP6P2) amp\",\"AGAP002869 (CYP6P2) amp\"],\"legendgroup\":\"AGAP002869 (CYP6P2) amp\",\"line\":{\"color\":\"#FECB52\",\"dash\":\"solid\"},\"marker\":{\"symbol\":\"circle\"},\"mode\":\"lines+markers\",\"name\":\"AGAP002869 (CYP6P2) amp\",\"orientation\":\"v\",\"showlegend\":false,\"x\":[\"2012-01-01T00:00:00.000000000\",\"2014-01-01T00:00:00.000000000\"],\"xaxis\":\"x4\",\"y\":{\"dtype\":\"f8\",\"bdata\":\"OQUvp+DlhD9kIQtZyEKWPw==\"},\"yaxis\":\"y4\",\"type\":\"scatter\"},{\"customdata\":[[\"2004\",\"BF-07\",\"gambiae\",13,\"AGAP002869 (CYP6P2) amp\"]],\"error_y\":{\"array\":{\"dtype\":\"f8\",\"bdata\":\"NqtQqjoyzT8=\"},\"arrayminus\":{\"dtype\":\"f8\",\"bdata\":\"AAAAAAAAAAA=\"}},\"hovertemplate\":\"\\u003cb\\u003e%{hovertext}\\u003c\\u002fb\\u003e\\u003cbr\\u003e\\u003cbr\\u003eArea=%{customdata[1]}\\u003cbr\\u003eTaxon=%{customdata[2]}\\u003cbr\\u003eFrequency=%{y:.0%}\\u003cbr\\u003ePeriod=%{customdata[0]}\\u003cbr\\u003eSample size=%{customdata[3]}\\u003cextra\\u003e\\u003c\\u002fextra\\u003e\",\"hovertext\":[\"AGAP002869 (CYP6P2) amp\"],\"legendgroup\":\"AGAP002869 (CYP6P2) amp\",\"line\":{\"color\":\"#FECB52\",\"dash\":\"solid\"},\"marker\":{\"symbol\":\"circle\"},\"mode\":\"lines+markers\",\"name\":\"AGAP002869 (CYP6P2) amp\",\"orientation\":\"v\",\"showlegend\":false,\"x\":[\"2004-01-01T00:00:00.000000000\"],\"xaxis\":\"x2\",\"y\":{\"dtype\":\"f8\",\"bdata\":\"AAAAAAAAAAA=\"},\"yaxis\":\"y2\",\"type\":\"scatter\"},{\"customdata\":[[\"2012\",\"BF-09\",\"coluzzii\",80,\"AGAP002870 (CYP6AD1) amp\"],[\"2014\",\"BF-09\",\"coluzzii\",53,\"AGAP002870 (CYP6AD1) amp\"]],\"error_y\":{\"array\":{\"dtype\":\"f8\",\"bdata\":\"KuEnXwEqsT9rOt9Pb9u4Pw==\"},\"arrayminus\":{\"dtype\":\"f8\",\"bdata\":\"6KhSD+VBmT++iulVkQejPw==\"}},\"hovertemplate\":\"\\u003cb\\u003e%{hovertext}\\u003c\\u002fb\\u003e\\u003cbr\\u003e\\u003cbr\\u003eArea=%{customdata[1]}\\u003cbr\\u003eTaxon=%{customdata[2]}\\u003cbr\\u003eFrequency=%{y:.0%}\\u003cbr\\u003ePeriod=%{customdata[0]}\\u003cbr\\u003eSample size=%{customdata[3]}\\u003cextra\\u003e\\u003c\\u002fextra\\u003e\",\"hovertext\":[\"AGAP002870 (CYP6AD1) amp\",\"AGAP002870 (CYP6AD1) amp\"],\"legendgroup\":\"AGAP002870 (CYP6AD1) amp\",\"line\":{\"color\":\"#636efa\",\"dash\":\"solid\"},\"marker\":{\"symbol\":\"circle\"},\"mode\":\"lines+markers\",\"name\":\"AGAP002870 (CYP6AD1) amp\",\"orientation\":\"v\",\"showlegend\":true,\"x\":[\"2012-01-01T00:00:00.000000000\",\"2014-01-01T00:00:00.000000000\"],\"xaxis\":\"x3\",\"y\":{\"dtype\":\"f8\",\"bdata\":\"MzMzMzMzoz8iNcF4K\\u002fusPw==\"},\"yaxis\":\"y3\",\"type\":\"scatter\"},{\"customdata\":[[\"2012\",\"BF-09\",\"gambiae\",98,\"AGAP002870 (CYP6AD1) amp\"],[\"2014\",\"BF-09\",\"gambiae\",46,\"AGAP002870 (CYP6AD1) amp\"]],\"error_y\":{\"array\":{\"dtype\":\"f8\",\"bdata\":\"faCh7TU4pz8F5FfCAHS3Pw==\"},\"arrayminus\":{\"dtype\":\"f8\",\"bdata\":\"PTwgkkw0gT+SRkA4F1KSPw==\"}},\"hovertemplate\":\"\\u003cb\\u003e%{hovertext}\\u003c\\u002fb\\u003e\\u003cbr\\u003e\\u003cbr\\u003eArea=%{customdata[1]}\\u003cbr\\u003eTaxon=%{customdata[2]}\\u003cbr\\u003eFrequency=%{y:.0%}\\u003cbr\\u003ePeriod=%{customdata[0]}\\u003cbr\\u003eSample size=%{customdata[3]}\\u003cextra\\u003e\\u003c\\u002fextra\\u003e\",\"hovertext\":[\"AGAP002870 (CYP6AD1) amp\",\"AGAP002870 (CYP6AD1) amp\"],\"legendgroup\":\"AGAP002870 (CYP6AD1) amp\",\"line\":{\"color\":\"#636efa\",\"dash\":\"solid\"},\"marker\":{\"symbol\":\"circle\"},\"mode\":\"lines+markers\",\"name\":\"AGAP002870 (CYP6AD1) amp\",\"orientation\":\"v\",\"showlegend\":false,\"x\":[\"2012-01-01T00:00:00.000000000\",\"2014-01-01T00:00:00.000000000\"],\"xaxis\":\"x4\",\"y\":{\"dtype\":\"f8\",\"bdata\":\"OQUvp+DlhD9kIQtZyEKWPw==\"},\"yaxis\":\"y4\",\"type\":\"scatter\"},{\"customdata\":[[\"2004\",\"BF-07\",\"gambiae\",13,\"AGAP002870 (CYP6AD1) amp\"]],\"error_y\":{\"array\":{\"dtype\":\"f8\",\"bdata\":\"NqtQqjoyzT8=\"},\"arrayminus\":{\"dtype\":\"f8\",\"bdata\":\"AAAAAAAAAAA=\"}},\"hovertemplate\":\"\\u003cb\\u003e%{hovertext}\\u003c\\u002fb\\u003e\\u003cbr\\u003e\\u003cbr\\u003eArea=%{customdata[1]}\\u003cbr\\u003eTaxon=%{customdata[2]}\\u003cbr\\u003eFrequency=%{y:.0%}\\u003cbr\\u003ePeriod=%{customdata[0]}\\u003cbr\\u003eSample size=%{customdata[3]}\\u003cextra\\u003e\\u003c\\u002fextra\\u003e\",\"hovertext\":[\"AGAP002870 (CYP6AD1) amp\"],\"legendgroup\":\"AGAP002870 (CYP6AD1) amp\",\"line\":{\"color\":\"#636efa\",\"dash\":\"solid\"},\"marker\":{\"symbol\":\"circle\"},\"mode\":\"lines+markers\",\"name\":\"AGAP002870 (CYP6AD1) amp\",\"orientation\":\"v\",\"showlegend\":false,\"x\":[\"2004-01-01T00:00:00.000000000\"],\"xaxis\":\"x2\",\"y\":{\"dtype\":\"f8\",\"bdata\":\"AAAAAAAAAAA=\"},\"yaxis\":\"y2\",\"type\":\"scatter\"}],                        {\"template\":{\"data\":{\"histogram2dcontour\":[{\"type\":\"histogram2dcontour\",\"colorbar\":{\"outlinewidth\":0,\"ticks\":\"\"},\"colorscale\":[[0.0,\"#0d0887\"],[0.1111111111111111,\"#46039f\"],[0.2222222222222222,\"#7201a8\"],[0.3333333333333333,\"#9c179e\"],[0.4444444444444444,\"#bd3786\"],[0.5555555555555556,\"#d8576b\"],[0.6666666666666666,\"#ed7953\"],[0.7777777777777778,\"#fb9f3a\"],[0.8888888888888888,\"#fdca26\"],[1.0,\"#f0f921\"]]}],\"choropleth\":[{\"type\":\"choropleth\",\"colorbar\":{\"outlinewidth\":0,\"ticks\":\"\"}}],\"histogram2d\":[{\"type\":\"histogram2d\",\"colorbar\":{\"outlinewidth\":0,\"ticks\":\"\"},\"colorscale\":[[0.0,\"#0d0887\"],[0.1111111111111111,\"#46039f\"],[0.2222222222222222,\"#7201a8\"],[0.3333333333333333,\"#9c179e\"],[0.4444444444444444,\"#bd3786\"],[0.5555555555555556,\"#d8576b\"],[0.6666666666666666,\"#ed7953\"],[0.7777777777777778,\"#fb9f3a\"],[0.8888888888888888,\"#fdca26\"],[1.0,\"#f0f921\"]]}],\"heatmap\":[{\"type\":\"heatmap\",\"colorbar\":{\"outlinewidth\":0,\"ticks\":\"\"},\"colorscale\":[[0.0,\"#0d0887\"],[0.1111111111111111,\"#46039f\"],[0.2222222222222222,\"#7201a8\"],[0.3333333333333333,\"#9c179e\"],[0.4444444444444444,\"#bd3786\"],[0.5555555555555556,\"#d8576b\"],[0.6666666666666666,\"#ed7953\"],[0.7777777777777778,\"#fb9f3a\"],[0.8888888888888888,\"#fdca26\"],[1.0,\"#f0f921\"]]}],\"contourcarpet\":[{\"type\":\"contourcarpet\",\"colorbar\":{\"outlinewidth\":0,\"ticks\":\"\"}}],\"contour\":[{\"type\":\"contour\",\"colorbar\":{\"outlinewidth\":0,\"ticks\":\"\"},\"colorscale\":[[0.0,\"#0d0887\"],[0.1111111111111111,\"#46039f\"],[0.2222222222222222,\"#7201a8\"],[0.3333333333333333,\"#9c179e\"],[0.4444444444444444,\"#bd3786\"],[0.5555555555555556,\"#d8576b\"],[0.6666666666666666,\"#ed7953\"],[0.7777777777777778,\"#fb9f3a\"],[0.8888888888888888,\"#fdca26\"],[1.0,\"#f0f921\"]]}],\"surface\":[{\"type\":\"surface\",\"colorbar\":{\"outlinewidth\":0,\"ticks\":\"\"},\"colorscale\":[[0.0,\"#0d0887\"],[0.1111111111111111,\"#46039f\"],[0.2222222222222222,\"#7201a8\"],[0.3333333333333333,\"#9c179e\"],[0.4444444444444444,\"#bd3786\"],[0.5555555555555556,\"#d8576b\"],[0.6666666666666666,\"#ed7953\"],[0.7777777777777778,\"#fb9f3a\"],[0.8888888888888888,\"#fdca26\"],[1.0,\"#f0f921\"]]}],\"mesh3d\":[{\"type\":\"mesh3d\",\"colorbar\":{\"outlinewidth\":0,\"ticks\":\"\"}}],\"scatter\":[{\"fillpattern\":{\"fillmode\":\"overlay\",\"size\":10,\"solidity\":0.2},\"type\":\"scatter\"}],\"parcoords\":[{\"type\":\"parcoords\",\"line\":{\"colorbar\":{\"outlinewidth\":0,\"ticks\":\"\"}}}],\"scatterpolargl\":[{\"type\":\"scatterpolargl\",\"marker\":{\"colorbar\":{\"outlinewidth\":0,\"ticks\":\"\"}}}],\"bar\":[{\"error_x\":{\"color\":\"#2a3f5f\"},\"error_y\":{\"color\":\"#2a3f5f\"},\"marker\":{\"line\":{\"color\":\"#E5ECF6\",\"width\":0.5},\"pattern\":{\"fillmode\":\"overlay\",\"size\":10,\"solidity\":0.2}},\"type\":\"bar\"}],\"scattergeo\":[{\"type\":\"scattergeo\",\"marker\":{\"colorbar\":{\"outlinewidth\":0,\"ticks\":\"\"}}}],\"scatterpolar\":[{\"type\":\"scatterpolar\",\"marker\":{\"colorbar\":{\"outlinewidth\":0,\"ticks\":\"\"}}}],\"histogram\":[{\"marker\":{\"pattern\":{\"fillmode\":\"overlay\",\"size\":10,\"solidity\":0.2}},\"type\":\"histogram\"}],\"scattergl\":[{\"type\":\"scattergl\",\"marker\":{\"colorbar\":{\"outlinewidth\":0,\"ticks\":\"\"}}}],\"scatter3d\":[{\"type\":\"scatter3d\",\"line\":{\"colorbar\":{\"outlinewidth\":0,\"ticks\":\"\"}},\"marker\":{\"colorbar\":{\"outlinewidth\":0,\"ticks\":\"\"}}}],\"scattermap\":[{\"type\":\"scattermap\",\"marker\":{\"colorbar\":{\"outlinewidth\":0,\"ticks\":\"\"}}}],\"scattermapbox\":[{\"type\":\"scattermapbox\",\"marker\":{\"colorbar\":{\"outlinewidth\":0,\"ticks\":\"\"}}}],\"scatterternary\":[{\"type\":\"scatterternary\",\"marker\":{\"colorbar\":{\"outlinewidth\":0,\"ticks\":\"\"}}}],\"scattercarpet\":[{\"type\":\"scattercarpet\",\"marker\":{\"colorbar\":{\"outlinewidth\":0,\"ticks\":\"\"}}}],\"carpet\":[{\"aaxis\":{\"endlinecolor\":\"#2a3f5f\",\"gridcolor\":\"white\",\"linecolor\":\"white\",\"minorgridcolor\":\"white\",\"startlinecolor\":\"#2a3f5f\"},\"baxis\":{\"endlinecolor\":\"#2a3f5f\",\"gridcolor\":\"white\",\"linecolor\":\"white\",\"minorgridcolor\":\"white\",\"startlinecolor\":\"#2a3f5f\"},\"type\":\"carpet\"}],\"table\":[{\"cells\":{\"fill\":{\"color\":\"#EBF0F8\"},\"line\":{\"color\":\"white\"}},\"header\":{\"fill\":{\"color\":\"#C8D4E3\"},\"line\":{\"color\":\"white\"}},\"type\":\"table\"}],\"barpolar\":[{\"marker\":{\"line\":{\"color\":\"#E5ECF6\",\"width\":0.5},\"pattern\":{\"fillmode\":\"overlay\",\"size\":10,\"solidity\":0.2}},\"type\":\"barpolar\"}],\"pie\":[{\"automargin\":true,\"type\":\"pie\"}]},\"layout\":{\"autotypenumbers\":\"strict\",\"colorway\":[\"#636efa\",\"#EF553B\",\"#00cc96\",\"#ab63fa\",\"#FFA15A\",\"#19d3f3\",\"#FF6692\",\"#B6E880\",\"#FF97FF\",\"#FECB52\"],\"font\":{\"color\":\"#2a3f5f\"},\"hovermode\":\"closest\",\"hoverlabel\":{\"align\":\"left\"},\"paper_bgcolor\":\"white\",\"plot_bgcolor\":\"#E5ECF6\",\"polar\":{\"bgcolor\":\"#E5ECF6\",\"angularaxis\":{\"gridcolor\":\"white\",\"linecolor\":\"white\",\"ticks\":\"\"},\"radialaxis\":{\"gridcolor\":\"white\",\"linecolor\":\"white\",\"ticks\":\"\"}},\"ternary\":{\"bgcolor\":\"#E5ECF6\",\"aaxis\":{\"gridcolor\":\"white\",\"linecolor\":\"white\",\"ticks\":\"\"},\"baxis\":{\"gridcolor\":\"white\",\"linecolor\":\"white\",\"ticks\":\"\"},\"caxis\":{\"gridcolor\":\"white\",\"linecolor\":\"white\",\"ticks\":\"\"}},\"coloraxis\":{\"colorbar\":{\"outlinewidth\":0,\"ticks\":\"\"}},\"colorscale\":{\"sequential\":[[0.0,\"#0d0887\"],[0.1111111111111111,\"#46039f\"],[0.2222222222222222,\"#7201a8\"],[0.3333333333333333,\"#9c179e\"],[0.4444444444444444,\"#bd3786\"],[0.5555555555555556,\"#d8576b\"],[0.6666666666666666,\"#ed7953\"],[0.7777777777777778,\"#fb9f3a\"],[0.8888888888888888,\"#fdca26\"],[1.0,\"#f0f921\"]],\"sequentialminus\":[[0.0,\"#0d0887\"],[0.1111111111111111,\"#46039f\"],[0.2222222222222222,\"#7201a8\"],[0.3333333333333333,\"#9c179e\"],[0.4444444444444444,\"#bd3786\"],[0.5555555555555556,\"#d8576b\"],[0.6666666666666666,\"#ed7953\"],[0.7777777777777778,\"#fb9f3a\"],[0.8888888888888888,\"#fdca26\"],[1.0,\"#f0f921\"]],\"diverging\":[[0,\"#8e0152\"],[0.1,\"#c51b7d\"],[0.2,\"#de77ae\"],[0.3,\"#f1b6da\"],[0.4,\"#fde0ef\"],[0.5,\"#f7f7f7\"],[0.6,\"#e6f5d0\"],[0.7,\"#b8e186\"],[0.8,\"#7fbc41\"],[0.9,\"#4d9221\"],[1,\"#276419\"]]},\"xaxis\":{\"gridcolor\":\"white\",\"linecolor\":\"white\",\"ticks\":\"\",\"title\":{\"standoff\":15},\"zerolinecolor\":\"white\",\"automargin\":true,\"zerolinewidth\":2},\"yaxis\":{\"gridcolor\":\"white\",\"linecolor\":\"white\",\"ticks\":\"\",\"title\":{\"standoff\":15},\"zerolinecolor\":\"white\",\"automargin\":true,\"zerolinewidth\":2},\"scene\":{\"xaxis\":{\"backgroundcolor\":\"#E5ECF6\",\"gridcolor\":\"white\",\"linecolor\":\"white\",\"showbackground\":true,\"ticks\":\"\",\"zerolinecolor\":\"white\",\"gridwidth\":2},\"yaxis\":{\"backgroundcolor\":\"#E5ECF6\",\"gridcolor\":\"white\",\"linecolor\":\"white\",\"showbackground\":true,\"ticks\":\"\",\"zerolinecolor\":\"white\",\"gridwidth\":2},\"zaxis\":{\"backgroundcolor\":\"#E5ECF6\",\"gridcolor\":\"white\",\"linecolor\":\"white\",\"showbackground\":true,\"ticks\":\"\",\"zerolinecolor\":\"white\",\"gridwidth\":2}},\"shapedefaults\":{\"line\":{\"color\":\"#2a3f5f\"}},\"annotationdefaults\":{\"arrowcolor\":\"#2a3f5f\",\"arrowhead\":0,\"arrowwidth\":1},\"geo\":{\"bgcolor\":\"white\",\"landcolor\":\"#E5ECF6\",\"subunitcolor\":\"white\",\"showland\":true,\"showlakes\":true,\"lakecolor\":\"white\"},\"title\":{\"x\":0.05},\"mapbox\":{\"style\":\"light\"}}},\"xaxis\":{\"anchor\":\"y\",\"domain\":[0.0,0.48],\"title\":{\"text\":\"Date\"}},\"yaxis\":{\"anchor\":\"x\",\"domain\":[0.0,0.485],\"title\":{\"text\":\"Frequency\"},\"range\":[-0.05,1.05]},\"xaxis2\":{\"anchor\":\"y2\",\"domain\":[0.5,0.98],\"matches\":\"x\",\"title\":{\"text\":\"Date\"}},\"yaxis2\":{\"anchor\":\"x2\",\"domain\":[0.0,0.485],\"matches\":\"y\",\"showticklabels\":false},\"xaxis3\":{\"anchor\":\"y3\",\"domain\":[0.0,0.48],\"matches\":\"x\",\"showticklabels\":false},\"yaxis3\":{\"anchor\":\"x3\",\"domain\":[0.515,1.0],\"matches\":\"y\",\"title\":{\"text\":\"Frequency\"}},\"xaxis4\":{\"anchor\":\"y4\",\"domain\":[0.5,0.98],\"matches\":\"x\",\"showticklabels\":false},\"yaxis4\":{\"anchor\":\"x4\",\"domain\":[0.515,1.0],\"matches\":\"y\",\"showticklabels\":false},\"annotations\":[{\"font\":{},\"showarrow\":false,\"text\":\"Taxon=coluzzii\",\"x\":0.24,\"xanchor\":\"center\",\"xref\":\"paper\",\"y\":1.0,\"yanchor\":\"bottom\",\"yref\":\"paper\"},{\"font\":{},\"showarrow\":false,\"text\":\"Taxon=gambiae\",\"x\":0.74,\"xanchor\":\"center\",\"xref\":\"paper\",\"y\":1.0,\"yanchor\":\"bottom\",\"yref\":\"paper\"},{\"font\":{},\"showarrow\":false,\"text\":\"Area=BF-07\",\"textangle\":90,\"x\":0.98,\"xanchor\":\"left\",\"xref\":\"paper\",\"y\":0.2425,\"yanchor\":\"middle\",\"yref\":\"paper\"},{\"font\":{},\"showarrow\":false,\"text\":\"Area=BF-09\",\"textangle\":90,\"x\":0.98,\"xanchor\":\"left\",\"xref\":\"paper\",\"y\":0.7575000000000001,\"yanchor\":\"middle\",\"yref\":\"paper\"}],\"legend\":{\"title\":{\"text\":\"Variant\"},\"tracegroupgap\":0,\"itemsizing\":\"constant\"},\"title\":{\"text\":\"Gene CNV frequencies, Burkina Faso, Cyp6aa\\u002fp locus\"},\"height\":500,\"width\":800},                        {\"responsive\": true}                    ).then(function(){\n",
       "                            \n",
       "var gd = document.getElementById('46113947-9429-4b42-9066-25464653120b');\n",
       "var x = new MutationObserver(function (mutations, observer) {{\n",
       "        var display = window.getComputedStyle(gd).display;\n",
       "        if (!display || display === 'none') {{\n",
       "            console.log([gd, 'removed!']);\n",
       "            Plotly.purge(gd);\n",
       "            observer.disconnect();\n",
       "        }}\n",
       "}});\n",
       "\n",
       "// Listen for the removal of the full notebook cells\n",
       "var notebookContainer = gd.closest('#notebook-container');\n",
       "if (notebookContainer) {{\n",
       "    x.observe(notebookContainer, {childList: true});\n",
       "}}\n",
       "\n",
       "// Listen for the clearing of the current output cell\n",
       "var outputEl = gd.closest('.output');\n",
       "if (outputEl) {{\n",
       "    x.observe(outputEl, {childList: true});\n",
       "}}\n",
       "\n",
       "                        })                };            </script>        </div>\n",
       "</body>\n",
       "</html>"
      ]
     },
     "metadata": {},
     "output_type": "display_data"
    }
   ],
   "source": [
    "ag3.plot_frequencies_time_series(\n",
    "    burkina_cyp6aap_cnv_ds, \n",
    "    height=500, \n",
    "    width=800, \n",
    "    title=\"Gene CNV frequencies, Burkina Faso, Cyp6aa/p locus\"\n",
    ")"
   ]
  },
  {
   "cell_type": "markdown",
   "id": "5de7a40c-f7b3-4e6c-924c-87b38390c8b8",
   "metadata": {
    "id": "N-aQ0oRarLLQ"
   },
   "source": [
    "Note that this figure is interactive, you can hover over points for more information, and zoom into regions of plots.\n",
    "\n",
    "In this plot we have data from two Burkina Faso admin 1 regions, BF-09 (Haut-Bassins) and BF-07 (Centre-Sud). In BF-09 we have data from 2012 and 2014, and so we have the beginning of a time series. In BF-07 we have data only from 2004, so just a single point in time.\n",
    "\n",
    "There are 3 sub-plots, faceted by taxon and area to allow for comparison. The error bars in the plots show 95% confidence intervals for the frequency estimates.\n",
    "\n",
    "We only have two times points in this time series, so we cannot draw strong conclusions. However, future sample sets will contain more time series data."
   ]
  },
  {
   "cell_type": "markdown",
   "id": "5eb23446-0bc6-48ce-a3fa-458ab2c547db",
   "metadata": {
    "id": "VrTt0w5RT4p2",
    "tags": []
   },
   "source": [
    "**Exercise 5 (English)**\n",
    "\n",
    "Plot a CNV frequency time-series for *Gste*. \n",
    "\n",
    "Hint: `gste_region = \"3R:28,590,000-28,610,000\"`\n",
    "\n",
    "**Exercice 5 (Français)**\n",
    "\n",
    "Afficher la série temporelle des CNVs pour *Gste*.\n",
    "\n",
    "Indice: `gste_region = \"3R:28,590,000-28,610,000\"`"
   ]
  },
  {
   "cell_type": "code",
   "execution_count": 33,
   "id": "e585a598-bb34-4905-8ffa-a87998f8e5aa",
   "metadata": {},
   "outputs": [],
   "source": [
    "#  ??? = ???\n",
    "\n",
    "#  burkina_gste_cnv_ds = ag3.gene_cnv_frequencies_advanced(\n",
    "#     region=???,\n",
    "#     area_by=\"admin1_iso\",\n",
    "#     period_by=\"year\",\n",
    "#     sample_sets=\"3.0\",\n",
    "#     sample_query=\"country == 'Burkina Faso'\",\n",
    "#     variant_query=\"max_af > 0.05\"\n",
    "# )\n",
    "\n",
    "# ag3.plot_frequencies_time_series(\n",
    "#     burkina_gste_cnv_ds, \n",
    "#     height=500, \n",
    "#     width=800, \n",
    "#     title=\"Gene CNV frequencies, Burkina Faso, gste locus\"\n",
    "# )"
   ]
  },
  {
   "cell_type": "markdown",
   "id": "f662c120-4fee-4d3b-883a-50a166d3ccfe",
   "metadata": {
    "id": "Arldr1d6Si4q",
    "tags": []
   },
   "source": [
    "## Plotting frequencies using interactive maps\n",
    "\n",
    "It is often useful, when making geographical comparisons, to plot gene CNV frequencies on a map. We can do this via the [`plot_frequencies_interactive_map()`](https://malariagen.github.io/malariagen-data-python/latest/generated/malariagen_data.ag3.Ag3.plot_frequencies_interactive_map.html#malariagen_data.ag3.Ag3.plot_frequencies_interactive_map) function in the `malariagen_data` package. Let's demonstrate, analysing the *Cyp6aa/p* gene cluster  using all data in the Ag3.0 resource.\n",
    "  \n",
    "As with the time series plots, we first calculate our gene CNV frequencies using the [`gene_cnv_frequencies_advanced()`](https://malariagen.github.io/malariagen-data-python/latest/generated/malariagen_data.ag3.Ag3.gene_cnv_frequencies_advanced.html#malariagen_data.ag3.Ag3.gene_cnv_frequencies_advanced) function as this provides additional metadata that we need for plotting data on a map. We will keep all our parameters the same as the time series analysis above, except that this time we will not use a sample query, because we want to include all available samples in the analysis."
   ]
  },
  {
   "cell_type": "code",
   "execution_count": 34,
   "id": "5d59ad36-7a59-4352-89fd-a58ed40cee5c",
   "metadata": {},
   "outputs": [
    {
     "data": {
      "text/html": [
       "<div><svg style=\"position: absolute; width: 0; height: 0; overflow: hidden\">\n",
       "<defs>\n",
       "<symbol id=\"icon-database\" viewBox=\"0 0 32 32\">\n",
       "<path d=\"M16 0c-8.837 0-16 2.239-16 5v4c0 2.761 7.163 5 16 5s16-2.239 16-5v-4c0-2.761-7.163-5-16-5z\"></path>\n",
       "<path d=\"M16 17c-8.837 0-16-2.239-16-5v6c0 2.761 7.163 5 16 5s16-2.239 16-5v-6c0 2.761-7.163 5-16 5z\"></path>\n",
       "<path d=\"M16 26c-8.837 0-16-2.239-16-5v6c0 2.761 7.163 5 16 5s16-2.239 16-5v-6c0 2.761-7.163 5-16 5z\"></path>\n",
       "</symbol>\n",
       "<symbol id=\"icon-file-text2\" viewBox=\"0 0 32 32\">\n",
       "<path d=\"M28.681 7.159c-0.694-0.947-1.662-2.053-2.724-3.116s-2.169-2.030-3.116-2.724c-1.612-1.182-2.393-1.319-2.841-1.319h-15.5c-1.378 0-2.5 1.121-2.5 2.5v27c0 1.378 1.122 2.5 2.5 2.5h23c1.378 0 2.5-1.122 2.5-2.5v-19.5c0-0.448-0.137-1.23-1.319-2.841zM24.543 5.457c0.959 0.959 1.712 1.825 2.268 2.543h-4.811v-4.811c0.718 0.556 1.584 1.309 2.543 2.268zM28 29.5c0 0.271-0.229 0.5-0.5 0.5h-23c-0.271 0-0.5-0.229-0.5-0.5v-27c0-0.271 0.229-0.5 0.5-0.5 0 0 15.499-0 15.5 0v7c0 0.552 0.448 1 1 1h7v19.5z\"></path>\n",
       "<path d=\"M23 26h-14c-0.552 0-1-0.448-1-1s0.448-1 1-1h14c0.552 0 1 0.448 1 1s-0.448 1-1 1z\"></path>\n",
       "<path d=\"M23 22h-14c-0.552 0-1-0.448-1-1s0.448-1 1-1h14c0.552 0 1 0.448 1 1s-0.448 1-1 1z\"></path>\n",
       "<path d=\"M23 18h-14c-0.552 0-1-0.448-1-1s0.448-1 1-1h14c0.552 0 1 0.448 1 1s-0.448 1-1 1z\"></path>\n",
       "</symbol>\n",
       "</defs>\n",
       "</svg>\n",
       "<style>/* CSS stylesheet for displaying xarray objects in jupyterlab.\n",
       " *\n",
       " */\n",
       "\n",
       ":root {\n",
       "  --xr-font-color0: var(--jp-content-font-color0, rgba(0, 0, 0, 1));\n",
       "  --xr-font-color2: var(--jp-content-font-color2, rgba(0, 0, 0, 0.54));\n",
       "  --xr-font-color3: var(--jp-content-font-color3, rgba(0, 0, 0, 0.38));\n",
       "  --xr-border-color: var(--jp-border-color2, #e0e0e0);\n",
       "  --xr-disabled-color: var(--jp-layout-color3, #bdbdbd);\n",
       "  --xr-background-color: var(--jp-layout-color0, white);\n",
       "  --xr-background-color-row-even: var(--jp-layout-color1, white);\n",
       "  --xr-background-color-row-odd: var(--jp-layout-color2, #eeeeee);\n",
       "}\n",
       "\n",
       "html[theme=dark],\n",
       "html[data-theme=dark],\n",
       "body[data-theme=dark],\n",
       "body.vscode-dark {\n",
       "  --xr-font-color0: rgba(255, 255, 255, 1);\n",
       "  --xr-font-color2: rgba(255, 255, 255, 0.54);\n",
       "  --xr-font-color3: rgba(255, 255, 255, 0.38);\n",
       "  --xr-border-color: #1F1F1F;\n",
       "  --xr-disabled-color: #515151;\n",
       "  --xr-background-color: #111111;\n",
       "  --xr-background-color-row-even: #111111;\n",
       "  --xr-background-color-row-odd: #313131;\n",
       "}\n",
       "\n",
       ".xr-wrap {\n",
       "  display: block !important;\n",
       "  min-width: 300px;\n",
       "  max-width: 700px;\n",
       "}\n",
       "\n",
       ".xr-text-repr-fallback {\n",
       "  /* fallback to plain text repr when CSS is not injected (untrusted notebook) */\n",
       "  display: none;\n",
       "}\n",
       "\n",
       ".xr-header {\n",
       "  padding-top: 6px;\n",
       "  padding-bottom: 6px;\n",
       "  margin-bottom: 4px;\n",
       "  border-bottom: solid 1px var(--xr-border-color);\n",
       "}\n",
       "\n",
       ".xr-header > div,\n",
       ".xr-header > ul {\n",
       "  display: inline;\n",
       "  margin-top: 0;\n",
       "  margin-bottom: 0;\n",
       "}\n",
       "\n",
       ".xr-obj-type,\n",
       ".xr-array-name {\n",
       "  margin-left: 2px;\n",
       "  margin-right: 10px;\n",
       "}\n",
       "\n",
       ".xr-obj-type {\n",
       "  color: var(--xr-font-color2);\n",
       "}\n",
       "\n",
       ".xr-sections {\n",
       "  padding-left: 0 !important;\n",
       "  display: grid;\n",
       "  grid-template-columns: 150px auto auto 1fr 0 20px 0 20px;\n",
       "}\n",
       "\n",
       ".xr-section-item {\n",
       "  display: contents;\n",
       "}\n",
       "\n",
       ".xr-section-item input {\n",
       "  display: inline-block;\n",
       "  opacity: 0;\n",
       "}\n",
       "\n",
       ".xr-section-item input + label {\n",
       "  color: var(--xr-disabled-color);\n",
       "}\n",
       "\n",
       ".xr-section-item input:enabled + label {\n",
       "  cursor: pointer;\n",
       "  color: var(--xr-font-color2);\n",
       "}\n",
       "\n",
       ".xr-section-item input:focus + label {\n",
       "  border: 2px solid var(--xr-font-color0);\n",
       "}\n",
       "\n",
       ".xr-section-item input:enabled + label:hover {\n",
       "  color: var(--xr-font-color0);\n",
       "}\n",
       "\n",
       ".xr-section-summary {\n",
       "  grid-column: 1;\n",
       "  color: var(--xr-font-color2);\n",
       "  font-weight: 500;\n",
       "}\n",
       "\n",
       ".xr-section-summary > span {\n",
       "  display: inline-block;\n",
       "  padding-left: 0.5em;\n",
       "}\n",
       "\n",
       ".xr-section-summary-in:disabled + label {\n",
       "  color: var(--xr-font-color2);\n",
       "}\n",
       "\n",
       ".xr-section-summary-in + label:before {\n",
       "  display: inline-block;\n",
       "  content: '►';\n",
       "  font-size: 11px;\n",
       "  width: 15px;\n",
       "  text-align: center;\n",
       "}\n",
       "\n",
       ".xr-section-summary-in:disabled + label:before {\n",
       "  color: var(--xr-disabled-color);\n",
       "}\n",
       "\n",
       ".xr-section-summary-in:checked + label:before {\n",
       "  content: '▼';\n",
       "}\n",
       "\n",
       ".xr-section-summary-in:checked + label > span {\n",
       "  display: none;\n",
       "}\n",
       "\n",
       ".xr-section-summary,\n",
       ".xr-section-inline-details {\n",
       "  padding-top: 4px;\n",
       "  padding-bottom: 4px;\n",
       "}\n",
       "\n",
       ".xr-section-inline-details {\n",
       "  grid-column: 2 / -1;\n",
       "}\n",
       "\n",
       ".xr-section-details {\n",
       "  display: none;\n",
       "  grid-column: 1 / -1;\n",
       "  margin-bottom: 5px;\n",
       "}\n",
       "\n",
       ".xr-section-summary-in:checked ~ .xr-section-details {\n",
       "  display: contents;\n",
       "}\n",
       "\n",
       ".xr-array-wrap {\n",
       "  grid-column: 1 / -1;\n",
       "  display: grid;\n",
       "  grid-template-columns: 20px auto;\n",
       "}\n",
       "\n",
       ".xr-array-wrap > label {\n",
       "  grid-column: 1;\n",
       "  vertical-align: top;\n",
       "}\n",
       "\n",
       ".xr-preview {\n",
       "  color: var(--xr-font-color3);\n",
       "}\n",
       "\n",
       ".xr-array-preview,\n",
       ".xr-array-data {\n",
       "  padding: 0 5px !important;\n",
       "  grid-column: 2;\n",
       "}\n",
       "\n",
       ".xr-array-data,\n",
       ".xr-array-in:checked ~ .xr-array-preview {\n",
       "  display: none;\n",
       "}\n",
       "\n",
       ".xr-array-in:checked ~ .xr-array-data,\n",
       ".xr-array-preview {\n",
       "  display: inline-block;\n",
       "}\n",
       "\n",
       ".xr-dim-list {\n",
       "  display: inline-block !important;\n",
       "  list-style: none;\n",
       "  padding: 0 !important;\n",
       "  margin: 0;\n",
       "}\n",
       "\n",
       ".xr-dim-list li {\n",
       "  display: inline-block;\n",
       "  padding: 0;\n",
       "  margin: 0;\n",
       "}\n",
       "\n",
       ".xr-dim-list:before {\n",
       "  content: '(';\n",
       "}\n",
       "\n",
       ".xr-dim-list:after {\n",
       "  content: ')';\n",
       "}\n",
       "\n",
       ".xr-dim-list li:not(:last-child):after {\n",
       "  content: ',';\n",
       "  padding-right: 5px;\n",
       "}\n",
       "\n",
       ".xr-has-index {\n",
       "  font-weight: bold;\n",
       "}\n",
       "\n",
       ".xr-var-list,\n",
       ".xr-var-item {\n",
       "  display: contents;\n",
       "}\n",
       "\n",
       ".xr-var-item > div,\n",
       ".xr-var-item label,\n",
       ".xr-var-item > .xr-var-name span {\n",
       "  background-color: var(--xr-background-color-row-even);\n",
       "  margin-bottom: 0;\n",
       "}\n",
       "\n",
       ".xr-var-item > .xr-var-name:hover span {\n",
       "  padding-right: 5px;\n",
       "}\n",
       "\n",
       ".xr-var-list > li:nth-child(odd) > div,\n",
       ".xr-var-list > li:nth-child(odd) > label,\n",
       ".xr-var-list > li:nth-child(odd) > .xr-var-name span {\n",
       "  background-color: var(--xr-background-color-row-odd);\n",
       "}\n",
       "\n",
       ".xr-var-name {\n",
       "  grid-column: 1;\n",
       "}\n",
       "\n",
       ".xr-var-dims {\n",
       "  grid-column: 2;\n",
       "}\n",
       "\n",
       ".xr-var-dtype {\n",
       "  grid-column: 3;\n",
       "  text-align: right;\n",
       "  color: var(--xr-font-color2);\n",
       "}\n",
       "\n",
       ".xr-var-preview {\n",
       "  grid-column: 4;\n",
       "}\n",
       "\n",
       ".xr-index-preview {\n",
       "  grid-column: 2 / 5;\n",
       "  color: var(--xr-font-color2);\n",
       "}\n",
       "\n",
       ".xr-var-name,\n",
       ".xr-var-dims,\n",
       ".xr-var-dtype,\n",
       ".xr-preview,\n",
       ".xr-attrs dt {\n",
       "  white-space: nowrap;\n",
       "  overflow: hidden;\n",
       "  text-overflow: ellipsis;\n",
       "  padding-right: 10px;\n",
       "}\n",
       "\n",
       ".xr-var-name:hover,\n",
       ".xr-var-dims:hover,\n",
       ".xr-var-dtype:hover,\n",
       ".xr-attrs dt:hover {\n",
       "  overflow: visible;\n",
       "  width: auto;\n",
       "  z-index: 1;\n",
       "}\n",
       "\n",
       ".xr-var-attrs,\n",
       ".xr-var-data,\n",
       ".xr-index-data {\n",
       "  display: none;\n",
       "  background-color: var(--xr-background-color) !important;\n",
       "  padding-bottom: 5px !important;\n",
       "}\n",
       "\n",
       ".xr-var-attrs-in:checked ~ .xr-var-attrs,\n",
       ".xr-var-data-in:checked ~ .xr-var-data,\n",
       ".xr-index-data-in:checked ~ .xr-index-data {\n",
       "  display: block;\n",
       "}\n",
       "\n",
       ".xr-var-data > table {\n",
       "  float: right;\n",
       "}\n",
       "\n",
       ".xr-var-name span,\n",
       ".xr-var-data,\n",
       ".xr-index-name div,\n",
       ".xr-index-data,\n",
       ".xr-attrs {\n",
       "  padding-left: 25px !important;\n",
       "}\n",
       "\n",
       ".xr-attrs,\n",
       ".xr-var-attrs,\n",
       ".xr-var-data,\n",
       ".xr-index-data {\n",
       "  grid-column: 1 / -1;\n",
       "}\n",
       "\n",
       "dl.xr-attrs {\n",
       "  padding: 0;\n",
       "  margin: 0;\n",
       "  display: grid;\n",
       "  grid-template-columns: 125px auto;\n",
       "}\n",
       "\n",
       ".xr-attrs dt,\n",
       ".xr-attrs dd {\n",
       "  padding: 0;\n",
       "  margin: 0;\n",
       "  float: left;\n",
       "  padding-right: 10px;\n",
       "  width: auto;\n",
       "}\n",
       "\n",
       ".xr-attrs dt {\n",
       "  font-weight: normal;\n",
       "  grid-column: 1;\n",
       "}\n",
       "\n",
       ".xr-attrs dt:hover span {\n",
       "  display: inline-block;\n",
       "  background: var(--xr-background-color);\n",
       "  padding-right: 10px;\n",
       "}\n",
       "\n",
       ".xr-attrs dd {\n",
       "  grid-column: 2;\n",
       "  white-space: pre-wrap;\n",
       "  word-break: break-all;\n",
       "}\n",
       "\n",
       ".xr-icon-database,\n",
       ".xr-icon-file-text2,\n",
       ".xr-no-icon {\n",
       "  display: inline-block;\n",
       "  vertical-align: middle;\n",
       "  width: 1em;\n",
       "  height: 1.5em !important;\n",
       "  stroke-width: 0;\n",
       "  stroke: currentColor;\n",
       "  fill: currentColor;\n",
       "}\n",
       "</style><pre class='xr-text-repr-fallback'>&lt;xarray.Dataset&gt; Size: 30kB\n",
       "Dimensions:                 (cohorts: 49, variants: 12)\n",
       "Dimensions without coordinates: cohorts, variants\n",
       "Data variables: (12/28)\n",
       "    cohort_area             (cohorts) object 392B &#x27;MW-S&#x27; &#x27;TZ-05&#x27; ... &#x27;KE-14&#x27;\n",
       "    cohort_label            (cohorts) object 392B &#x27;MW-S_arab_2015&#x27; ... &#x27;KE-14...\n",
       "    cohort_lat_max          (cohorts) float64 392B -15.93 -1.962 ... -3.511\n",
       "    cohort_lat_mean         (cohorts) float64 392B -15.93 -1.962 ... -3.511\n",
       "    cohort_lat_min          (cohorts) float64 392B -15.93 -1.962 ... -3.511\n",
       "    cohort_lon_max          (cohorts) float64 392B 34.76 31.62 ... 29.7 39.91\n",
       "    ...                      ...\n",
       "    variant_gene_name       (variants) object 96B nan &#x27;CYP6AA1&#x27; ... &#x27;CYP6AD1&#x27;\n",
       "    variant_gene_strand     (variants) object 96B &#x27;+&#x27; &#x27;-&#x27; &#x27;-&#x27; ... &#x27;-&#x27; &#x27;-&#x27; &#x27;-&#x27;\n",
       "    variant_label           (variants) object 96B &#x27;AGAP002859 amp&#x27; ... &#x27;AGAP0...\n",
       "    variant_max_af          (variants) float64 96B 0.1579 0.9355 ... 0.9221\n",
       "    variant_start           (variants) int64 96B 28397312 28480576 ... 28504248\n",
       "    variant_windows         (variants) int64 96B 397 8 6 7 6 7 7 6 6 6 7 6\n",
       "Attributes:\n",
       "    title:    Gene CNV frequencies (2R:28,480,000-28,510,000)</pre><div class='xr-wrap' style='display:none'><div class='xr-header'><div class='xr-obj-type'>xarray.Dataset</div></div><ul class='xr-sections'><li class='xr-section-item'><input id='section-9b3f96a6-9f6b-48e4-ba01-74b2558f3ec1' class='xr-section-summary-in' type='checkbox' disabled ><label for='section-9b3f96a6-9f6b-48e4-ba01-74b2558f3ec1' class='xr-section-summary'  title='Expand/collapse section'>Dimensions:</label><div class='xr-section-inline-details'><ul class='xr-dim-list'><li><span>cohorts</span>: 49</li><li><span>variants</span>: 12</li></ul></div><div class='xr-section-details'></div></li><li class='xr-section-item'><input id='section-eaa65521-6411-44d2-9d0d-1feec2a2f12c' class='xr-section-summary-in' type='checkbox' disabled ><label for='section-eaa65521-6411-44d2-9d0d-1feec2a2f12c' class='xr-section-summary'  title='Expand/collapse section'>Coordinates: <span>(0)</span></label><div class='xr-section-inline-details'></div><div class='xr-section-details'><ul class='xr-var-list'></ul></div></li><li class='xr-section-item'><input id='section-64cae645-f6dc-4522-88f8-90cdd5034379' class='xr-section-summary-in' type='checkbox'  ><label for='section-64cae645-f6dc-4522-88f8-90cdd5034379' class='xr-section-summary' >Data variables: <span>(28)</span></label><div class='xr-section-inline-details'></div><div class='xr-section-details'><ul class='xr-var-list'><li class='xr-var-item'><div class='xr-var-name'><span>cohort_area</span></div><div class='xr-var-dims'>(cohorts)</div><div class='xr-var-dtype'>object</div><div class='xr-var-preview xr-preview'>&#x27;MW-S&#x27; &#x27;TZ-05&#x27; ... &#x27;UG-W&#x27; &#x27;KE-14&#x27;</div><input id='attrs-8f78a00e-d1ea-487a-a484-c848fac1797c' class='xr-var-attrs-in' type='checkbox' disabled><label for='attrs-8f78a00e-d1ea-487a-a484-c848fac1797c' title='Show/Hide attributes'><svg class='icon xr-icon-file-text2'><use xlink:href='#icon-file-text2'></use></svg></label><input id='data-2b7ae298-3af3-4be9-9041-a9aaff095045' class='xr-var-data-in' type='checkbox'><label for='data-2b7ae298-3af3-4be9-9041-a9aaff095045' title='Show/Hide data repr'><svg class='icon xr-icon-database'><use xlink:href='#icon-database'></use></svg></label><div class='xr-var-attrs'><dl class='xr-attrs'></dl></div><div class='xr-var-data'><pre>array([&#x27;MW-S&#x27;, &#x27;TZ-05&#x27;, &#x27;TZ-13&#x27;, &#x27;TZ-26&#x27;, &#x27;UG-E&#x27;, &#x27;GM-N&#x27;, &#x27;GW-BM&#x27;,\n",
       "       &#x27;GW-BS&#x27;, &#x27;AO-LUA&#x27;, &#x27;BF-09&#x27;, &#x27;BF-09&#x27;, &#x27;CF-BGF&#x27;, &#x27;CI-LG&#x27;, &#x27;GH-AA&#x27;,\n",
       "       &#x27;GH-CP&#x27;, &#x27;GH-WP&#x27;, &#x27;GM-M&#x27;, &#x27;GN-N&#x27;, &#x27;ML-2&#x27;, &#x27;ML-2&#x27;, &#x27;ML-3&#x27;, &#x27;ML-4&#x27;,\n",
       "       &#x27;BF-07&#x27;, &#x27;BF-09&#x27;, &#x27;BF-09&#x27;, &#x27;CD-NU&#x27;, &#x27;CF-BGF&#x27;, &#x27;CM-AD&#x27;, &#x27;CM-CE&#x27;,\n",
       "       &#x27;CM-EN&#x27;, &#x27;CM-ES&#x27;, &#x27;CM-NO&#x27;, &#x27;GA-1&#x27;, &#x27;GH-AA&#x27;, &#x27;GH-EP&#x27;, &#x27;GN-F&#x27;,\n",
       "       &#x27;GN-N&#x27;, &#x27;GQ-BN&#x27;, &#x27;KE-14&#x27;, &#x27;ML-2&#x27;, &#x27;ML-2&#x27;, &#x27;ML-3&#x27;, &#x27;MYT&#x27;, &#x27;MZ-I&#x27;,\n",
       "       &#x27;TZ-05&#x27;, &#x27;TZ-25&#x27;, &#x27;UG-E&#x27;, &#x27;UG-W&#x27;, &#x27;KE-14&#x27;], dtype=object)</pre></div></li><li class='xr-var-item'><div class='xr-var-name'><span>cohort_label</span></div><div class='xr-var-dims'>(cohorts)</div><div class='xr-var-dtype'>object</div><div class='xr-var-preview xr-preview'>&#x27;MW-S_arab_2015&#x27; ... &#x27;KE-14_pwan...</div><input id='attrs-319fd3d3-4925-45a6-8d5f-ee142d5cb380' class='xr-var-attrs-in' type='checkbox' disabled><label for='attrs-319fd3d3-4925-45a6-8d5f-ee142d5cb380' title='Show/Hide attributes'><svg class='icon xr-icon-file-text2'><use xlink:href='#icon-file-text2'></use></svg></label><input id='data-88c798d7-2e92-4ced-b46a-5a29a16d94f3' class='xr-var-data-in' type='checkbox'><label for='data-88c798d7-2e92-4ced-b46a-5a29a16d94f3' title='Show/Hide data repr'><svg class='icon xr-icon-database'><use xlink:href='#icon-database'></use></svg></label><div class='xr-var-attrs'><dl class='xr-attrs'></dl></div><div class='xr-var-data'><pre>array([&#x27;MW-S_arab_2015&#x27;, &#x27;TZ-05_arab_2015&#x27;, &#x27;TZ-13_arab_2012&#x27;,\n",
       "       &#x27;TZ-26_arab_2012&#x27;, &#x27;UG-E_arab_2012&#x27;, &#x27;GM-N_biss_2011&#x27;,\n",
       "       &#x27;GW-BM_biss_2010&#x27;, &#x27;GW-BS_biss_2010&#x27;, &#x27;AO-LUA_colu_2009&#x27;,\n",
       "       &#x27;BF-09_colu_2012&#x27;, &#x27;BF-09_colu_2014&#x27;, &#x27;CF-BGF_colu_1994&#x27;,\n",
       "       &#x27;CI-LG_colu_2012&#x27;, &#x27;GH-AA_colu_2012&#x27;, &#x27;GH-CP_colu_2012&#x27;,\n",
       "       &#x27;GH-WP_colu_2012&#x27;, &#x27;GM-M_colu_2012&#x27;, &#x27;GN-N_colu_2012&#x27;,\n",
       "       &#x27;ML-2_colu_2004&#x27;, &#x27;ML-2_colu_2014&#x27;, &#x27;ML-3_colu_2012&#x27;,\n",
       "       &#x27;ML-4_colu_2004&#x27;, &#x27;BF-07_gamb_2004&#x27;, &#x27;BF-09_gamb_2012&#x27;,\n",
       "       &#x27;BF-09_gamb_2014&#x27;, &#x27;CD-NU_gamb_2015&#x27;, &#x27;CF-BGF_gamb_1994&#x27;,\n",
       "       &#x27;CM-AD_gamb_2005&#x27;, &#x27;CM-CE_gamb_2005&#x27;, &#x27;CM-EN_gamb_2005&#x27;,\n",
       "       &#x27;CM-ES_gamb_2009&#x27;, &#x27;CM-NO_gamb_2005&#x27;, &#x27;GA-1_gamb_2000&#x27;,\n",
       "       &#x27;GH-AA_gamb_2012&#x27;, &#x27;GH-EP_gamb_2012&#x27;, &#x27;GN-F_gamb_2012&#x27;,\n",
       "       &#x27;GN-N_gamb_2012&#x27;, &#x27;GQ-BN_gamb_2002&#x27;, &#x27;KE-14_gamb_2000&#x27;,\n",
       "       &#x27;ML-2_gamb_2004&#x27;, &#x27;ML-2_gamb_2014&#x27;, &#x27;ML-3_gamb_2012&#x27;,\n",
       "       &#x27;MYT_gamb_2011&#x27;, &#x27;MZ-I_gamb_2004&#x27;, &#x27;TZ-05_gamb_2015&#x27;,\n",
       "       &#x27;TZ-25_gamb_2013&#x27;, &#x27;UG-E_gamb_2012&#x27;, &#x27;UG-W_gamb_2012&#x27;,\n",
       "       &#x27;KE-14_pwan_2012&#x27;], dtype=object)</pre></div></li><li class='xr-var-item'><div class='xr-var-name'><span>cohort_lat_max</span></div><div class='xr-var-dims'>(cohorts)</div><div class='xr-var-dtype'>float64</div><div class='xr-var-preview xr-preview'>-15.93 -1.962 ... -0.751 -3.511</div><input id='attrs-39f9d9ca-049f-4030-96e5-bfad68cc5ed1' class='xr-var-attrs-in' type='checkbox' disabled><label for='attrs-39f9d9ca-049f-4030-96e5-bfad68cc5ed1' title='Show/Hide attributes'><svg class='icon xr-icon-file-text2'><use xlink:href='#icon-file-text2'></use></svg></label><input id='data-710be2f1-2bf1-4167-9483-4f145c13bab4' class='xr-var-data-in' type='checkbox'><label for='data-710be2f1-2bf1-4167-9483-4f145c13bab4' title='Show/Hide data repr'><svg class='icon xr-icon-database'><use xlink:href='#icon-database'></use></svg></label><div class='xr-var-attrs'><dl class='xr-attrs'></dl></div><div class='xr-var-data'><pre>array([-15.933,  -1.962,  -1.431,  -3.482,   0.77 ,  13.55 ,  11.957,\n",
       "        11.891,  -8.884,  11.238,  11.238,   4.367,   5.898,   5.668,\n",
       "         5.609,   4.912,  13.567,   8.48 ,  12.69 ,  12.9  ,  11.47 ,\n",
       "        13.21 ,  12.06 ,  11.238,  11.238,   4.283,   4.367,   7.399,\n",
       "         4.332,  10.708,   5.747,  10.05 ,   0.384,   5.668,   6.094,\n",
       "         9.28 ,   8.48 ,   3.7  ,  -3.511,  12.2  ,  12.9  ,  11.47 ,\n",
       "       -12.703, -23.716,  -1.962,  -4.94 ,   0.77 ,  -0.751,  -3.511])</pre></div></li><li class='xr-var-item'><div class='xr-var-name'><span>cohort_lat_mean</span></div><div class='xr-var-dims'>(cohorts)</div><div class='xr-var-dtype'>float64</div><div class='xr-var-preview xr-preview'>-15.93 -1.962 ... -0.751 -3.511</div><input id='attrs-2ed0b027-da0b-43b4-a310-70cf8602f99d' class='xr-var-attrs-in' type='checkbox' disabled><label for='attrs-2ed0b027-da0b-43b4-a310-70cf8602f99d' title='Show/Hide attributes'><svg class='icon xr-icon-file-text2'><use xlink:href='#icon-file-text2'></use></svg></label><input id='data-909833bc-20fc-45ca-b8bf-20f31e72a343' class='xr-var-data-in' type='checkbox'><label for='data-909833bc-20fc-45ca-b8bf-20f31e72a343' title='Show/Hide data repr'><svg class='icon xr-icon-database'><use xlink:href='#icon-database'></use></svg></label><div class='xr-var-attrs'><dl class='xr-attrs'></dl></div><div class='xr-var-data'><pre>array([-15.933     ,  -1.962     ,  -1.431     ,  -3.482     ,\n",
       "         0.77      ,  13.55      ,  11.957     ,  11.891     ,\n",
       "        -8.884     ,  11.2235375 ,  11.23356604,   4.367     ,\n",
       "         5.898     ,   5.668     ,   5.609     ,   4.912     ,\n",
       "        13.567     ,   8.48      ,  12.686     ,  12.89368421,\n",
       "        11.42076923,  13.2073913 ,  12.06      ,  11.19510204,\n",
       "        11.2061087 ,   4.283     ,   4.367     ,   7.14257143,\n",
       "         3.95575   ,  10.31707407,   4.93241137,   8.94027586,\n",
       "         0.384     ,   5.668     ,   6.094     ,   9.28      ,\n",
       "         8.48      ,   3.7       ,  -3.511     ,  11.97142857,\n",
       "        12.89125   ,  10.88      , -12.85709091, -23.716     ,\n",
       "        -1.962     ,  -4.94      ,   0.77      ,  -0.751     ,\n",
       "        -3.511     ])</pre></div></li><li class='xr-var-item'><div class='xr-var-name'><span>cohort_lat_min</span></div><div class='xr-var-dims'>(cohorts)</div><div class='xr-var-dtype'>float64</div><div class='xr-var-preview xr-preview'>-15.93 -1.962 ... -0.751 -3.511</div><input id='attrs-7e561c5f-f6ff-4d81-9852-03c423daf2b2' class='xr-var-attrs-in' type='checkbox' disabled><label for='attrs-7e561c5f-f6ff-4d81-9852-03c423daf2b2' title='Show/Hide attributes'><svg class='icon xr-icon-file-text2'><use xlink:href='#icon-file-text2'></use></svg></label><input id='data-a9a8cb53-fb58-4cc8-b122-144286e35cce' class='xr-var-data-in' type='checkbox'><label for='data-a9a8cb53-fb58-4cc8-b122-144286e35cce' title='Show/Hide data repr'><svg class='icon xr-icon-database'><use xlink:href='#icon-database'></use></svg></label><div class='xr-var-attrs'><dl class='xr-attrs'></dl></div><div class='xr-var-data'><pre>array([-15.933,  -1.962,  -1.431,  -3.482,   0.77 ,  13.55 ,  11.957,\n",
       "        11.891,  -8.884,  11.151,  11.233,   4.367,   5.898,   5.668,\n",
       "         5.609,   4.912,  13.567,   8.48 ,  12.68 ,  12.89 ,  10.83 ,\n",
       "        13.2  ,  12.06 ,  11.151,  11.151,   4.283,   4.367,   6.751,\n",
       "         3.369,  10.102,   4.341,   7.783,   0.384,   5.668,   6.094,\n",
       "         9.28 ,   8.48 ,   3.7  ,  -3.511,  11.88 ,  12.89 ,  10.83 ,\n",
       "       -12.991, -23.716,  -1.962,  -4.94 ,   0.77 ,  -0.751,  -3.511])</pre></div></li><li class='xr-var-item'><div class='xr-var-name'><span>cohort_lon_max</span></div><div class='xr-var-dims'>(cohorts)</div><div class='xr-var-dtype'>float64</div><div class='xr-var-preview xr-preview'>34.76 31.62 34.2 ... 29.7 39.91</div><input id='attrs-c211896c-f427-47db-9ee9-6869b1ec3abd' class='xr-var-attrs-in' type='checkbox' disabled><label for='attrs-c211896c-f427-47db-9ee9-6869b1ec3abd' title='Show/Hide attributes'><svg class='icon xr-icon-file-text2'><use xlink:href='#icon-file-text2'></use></svg></label><input id='data-4515e4c6-0bfe-455e-a343-6f2c953d7e6a' class='xr-var-data-in' type='checkbox'><label for='data-4515e4c6-0bfe-455e-a343-6f2c953d7e6a' title='Show/Hide data repr'><svg class='icon xr-icon-database'><use xlink:href='#icon-database'></use></svg></label><div class='xr-var-attrs'><dl class='xr-attrs'></dl></div><div class='xr-var-data'><pre>array([ 34.755,  31.621,  34.199,  37.308,  34.026, -15.9  , -15.649,\n",
       "       -15.582,  13.302,  -4.235,  -4.235,  18.583,  -4.823,  -0.219,\n",
       "        -1.549,  -1.774, -14.917,  -9.53 ,  -7.84 ,  -8.15 ,  -7.81 ,\n",
       "        -5.9  ,  -1.17 ,  -4.235,  -4.235,  21.017,  18.583,  13.578,\n",
       "        11.632,  14.29 ,  14.442,  14.149,   9.455,  -0.219,  -0.261,\n",
       "       -10.03 ,  -9.53 ,   8.7  ,  39.909,  -8.2  ,  -8.15 ,  -7.81 ,\n",
       "        45.156,  35.299,  31.621,  38.948,  34.026,  29.701,  39.909])</pre></div></li><li class='xr-var-item'><div class='xr-var-name'><span>cohort_lon_mean</span></div><div class='xr-var-dims'>(cohorts)</div><div class='xr-var-dtype'>float64</div><div class='xr-var-preview xr-preview'>34.76 31.62 34.2 ... 29.7 39.91</div><input id='attrs-149fcbbe-e820-4927-b00f-d99758dde7fc' class='xr-var-attrs-in' type='checkbox' disabled><label for='attrs-149fcbbe-e820-4927-b00f-d99758dde7fc' title='Show/Hide attributes'><svg class='icon xr-icon-file-text2'><use xlink:href='#icon-file-text2'></use></svg></label><input id='data-082338c7-3e30-4d8e-b216-0e5c9c2e7839' class='xr-var-data-in' type='checkbox'><label for='data-082338c7-3e30-4d8e-b216-0e5c9c2e7839' title='Show/Hide data repr'><svg class='icon xr-icon-database'><use xlink:href='#icon-database'></use></svg></label><div class='xr-var-attrs'><dl class='xr-attrs'></dl></div><div class='xr-var-data'><pre>array([ 34.755     ,  31.621     ,  34.199     ,  37.308     ,\n",
       "        34.026     , -15.9       , -15.649     , -15.582     ,\n",
       "        13.302     ,  -4.3535    ,  -4.44516981,  18.583     ,\n",
       "        -4.823     ,  -0.219     ,  -1.549     ,  -1.774     ,\n",
       "       -14.917     ,  -9.53      ,  -7.858     ,  -8.15368421,\n",
       "        -8.29      ,  -5.96      ,  -1.17      ,  -4.29062245,\n",
       "        -4.31228261,  21.017     ,  18.583     ,  13.34507143,\n",
       "        11.55408333,  14.20885185,  13.93365217,  13.68075862,\n",
       "         9.455     ,  -0.219     ,  -0.261     , -10.03      ,\n",
       "        -9.53      ,   8.7       ,  39.909     ,  -8.37857143,\n",
       "        -8.15125   ,  -7.850625  ,  45.13663636,  35.299     ,\n",
       "        31.621     ,  38.948     ,  34.026     ,  29.701     ,\n",
       "        39.909     ])</pre></div></li><li class='xr-var-item'><div class='xr-var-name'><span>cohort_lon_min</span></div><div class='xr-var-dims'>(cohorts)</div><div class='xr-var-dtype'>float64</div><div class='xr-var-preview xr-preview'>34.76 31.62 34.2 ... 29.7 39.91</div><input id='attrs-50f279fd-74d5-4f92-b229-43f192108f12' class='xr-var-attrs-in' type='checkbox' disabled><label for='attrs-50f279fd-74d5-4f92-b229-43f192108f12' title='Show/Hide attributes'><svg class='icon xr-icon-file-text2'><use xlink:href='#icon-file-text2'></use></svg></label><input id='data-bb57fb7c-d176-4bcd-aa32-2bdf7a5274d2' class='xr-var-data-in' type='checkbox'><label for='data-bb57fb7c-d176-4bcd-aa32-2bdf7a5274d2' title='Show/Hide data repr'><svg class='icon xr-icon-database'><use xlink:href='#icon-database'></use></svg></label><div class='xr-var-attrs'><dl class='xr-attrs'></dl></div><div class='xr-var-data'><pre>array([ 34.755,  31.621,  34.199,  37.308,  34.026, -15.9  , -15.649,\n",
       "       -15.582,  13.302,  -4.472,  -4.472,  18.583,  -4.823,  -0.219,\n",
       "        -1.549,  -1.774, -14.917,  -9.53 ,  -7.87 ,  -8.16 ,  -8.33 ,\n",
       "        -6.13 ,  -1.17 ,  -4.472,  -4.472,  21.017,  18.583,  13.111,\n",
       "        11.5  ,  14.143,  13.558,  13.506,   9.455,  -0.219,  -0.261,\n",
       "       -10.03 ,  -9.53 ,   8.7  ,  39.909,  -8.45 ,  -8.16 ,  -8.33 ,\n",
       "        45.081,  35.299,  31.621,  38.948,  34.026,  29.701,  39.909])</pre></div></li><li class='xr-var-item'><div class='xr-var-name'><span>cohort_period</span></div><div class='xr-var-dims'>(cohorts)</div><div class='xr-var-dtype'>object</div><div class='xr-var-preview xr-preview'>2015 2015 2012 ... 2012 2012 2012</div><input id='attrs-e43eee70-dc80-45e6-a5aa-67340dcda4b5' class='xr-var-attrs-in' type='checkbox' disabled><label for='attrs-e43eee70-dc80-45e6-a5aa-67340dcda4b5' title='Show/Hide attributes'><svg class='icon xr-icon-file-text2'><use xlink:href='#icon-file-text2'></use></svg></label><input id='data-4c16184b-b891-4c76-af66-bd0079bd95dd' class='xr-var-data-in' type='checkbox'><label for='data-4c16184b-b891-4c76-af66-bd0079bd95dd' title='Show/Hide data repr'><svg class='icon xr-icon-database'><use xlink:href='#icon-database'></use></svg></label><div class='xr-var-attrs'><dl class='xr-attrs'></dl></div><div class='xr-var-data'><pre>array([Period(&#x27;2015&#x27;, &#x27;Y-DEC&#x27;), Period(&#x27;2015&#x27;, &#x27;Y-DEC&#x27;),\n",
       "       Period(&#x27;2012&#x27;, &#x27;Y-DEC&#x27;), Period(&#x27;2012&#x27;, &#x27;Y-DEC&#x27;),\n",
       "       Period(&#x27;2012&#x27;, &#x27;Y-DEC&#x27;), Period(&#x27;2011&#x27;, &#x27;Y-DEC&#x27;),\n",
       "       Period(&#x27;2010&#x27;, &#x27;Y-DEC&#x27;), Period(&#x27;2010&#x27;, &#x27;Y-DEC&#x27;),\n",
       "       Period(&#x27;2009&#x27;, &#x27;Y-DEC&#x27;), Period(&#x27;2012&#x27;, &#x27;Y-DEC&#x27;),\n",
       "       Period(&#x27;2014&#x27;, &#x27;Y-DEC&#x27;), Period(&#x27;1994&#x27;, &#x27;Y-DEC&#x27;),\n",
       "       Period(&#x27;2012&#x27;, &#x27;Y-DEC&#x27;), Period(&#x27;2012&#x27;, &#x27;Y-DEC&#x27;),\n",
       "       Period(&#x27;2012&#x27;, &#x27;Y-DEC&#x27;), Period(&#x27;2012&#x27;, &#x27;Y-DEC&#x27;),\n",
       "       Period(&#x27;2012&#x27;, &#x27;Y-DEC&#x27;), Period(&#x27;2012&#x27;, &#x27;Y-DEC&#x27;),\n",
       "       Period(&#x27;2004&#x27;, &#x27;Y-DEC&#x27;), Period(&#x27;2014&#x27;, &#x27;Y-DEC&#x27;),\n",
       "       Period(&#x27;2012&#x27;, &#x27;Y-DEC&#x27;), Period(&#x27;2004&#x27;, &#x27;Y-DEC&#x27;),\n",
       "       Period(&#x27;2004&#x27;, &#x27;Y-DEC&#x27;), Period(&#x27;2012&#x27;, &#x27;Y-DEC&#x27;),\n",
       "       Period(&#x27;2014&#x27;, &#x27;Y-DEC&#x27;), Period(&#x27;2015&#x27;, &#x27;Y-DEC&#x27;),\n",
       "       Period(&#x27;1994&#x27;, &#x27;Y-DEC&#x27;), Period(&#x27;2005&#x27;, &#x27;Y-DEC&#x27;),\n",
       "       Period(&#x27;2005&#x27;, &#x27;Y-DEC&#x27;), Period(&#x27;2005&#x27;, &#x27;Y-DEC&#x27;),\n",
       "       Period(&#x27;2009&#x27;, &#x27;Y-DEC&#x27;), Period(&#x27;2005&#x27;, &#x27;Y-DEC&#x27;),\n",
       "       Period(&#x27;2000&#x27;, &#x27;Y-DEC&#x27;), Period(&#x27;2012&#x27;, &#x27;Y-DEC&#x27;),\n",
       "       Period(&#x27;2012&#x27;, &#x27;Y-DEC&#x27;), Period(&#x27;2012&#x27;, &#x27;Y-DEC&#x27;),\n",
       "       Period(&#x27;2012&#x27;, &#x27;Y-DEC&#x27;), Period(&#x27;2002&#x27;, &#x27;Y-DEC&#x27;),\n",
       "       Period(&#x27;2000&#x27;, &#x27;Y-DEC&#x27;), Period(&#x27;2004&#x27;, &#x27;Y-DEC&#x27;),\n",
       "       Period(&#x27;2014&#x27;, &#x27;Y-DEC&#x27;), Period(&#x27;2012&#x27;, &#x27;Y-DEC&#x27;),\n",
       "       Period(&#x27;2011&#x27;, &#x27;Y-DEC&#x27;), Period(&#x27;2004&#x27;, &#x27;Y-DEC&#x27;),\n",
       "       Period(&#x27;2015&#x27;, &#x27;Y-DEC&#x27;), Period(&#x27;2013&#x27;, &#x27;Y-DEC&#x27;),\n",
       "       Period(&#x27;2012&#x27;, &#x27;Y-DEC&#x27;), Period(&#x27;2012&#x27;, &#x27;Y-DEC&#x27;),\n",
       "       Period(&#x27;2012&#x27;, &#x27;Y-DEC&#x27;)], dtype=object)</pre></div></li><li class='xr-var-item'><div class='xr-var-name'><span>cohort_period_end</span></div><div class='xr-var-dims'>(cohorts)</div><div class='xr-var-dtype'>datetime64[ns]</div><div class='xr-var-preview xr-preview'>2015-12-31T23:59:59.999999999 .....</div><input id='attrs-e24708e0-7d6d-4b66-ba73-4a2220cb812c' class='xr-var-attrs-in' type='checkbox' disabled><label for='attrs-e24708e0-7d6d-4b66-ba73-4a2220cb812c' title='Show/Hide attributes'><svg class='icon xr-icon-file-text2'><use xlink:href='#icon-file-text2'></use></svg></label><input id='data-4389c070-0097-4b58-9947-b9f5b3cd6613' class='xr-var-data-in' type='checkbox'><label for='data-4389c070-0097-4b58-9947-b9f5b3cd6613' title='Show/Hide data repr'><svg class='icon xr-icon-database'><use xlink:href='#icon-database'></use></svg></label><div class='xr-var-attrs'><dl class='xr-attrs'></dl></div><div class='xr-var-data'><pre>array([&#x27;2015-12-31T23:59:59.999999999&#x27;, &#x27;2015-12-31T23:59:59.999999999&#x27;,\n",
       "       &#x27;2012-12-31T23:59:59.999999999&#x27;, &#x27;2012-12-31T23:59:59.999999999&#x27;,\n",
       "       &#x27;2012-12-31T23:59:59.999999999&#x27;, &#x27;2011-12-31T23:59:59.999999999&#x27;,\n",
       "       &#x27;2010-12-31T23:59:59.999999999&#x27;, &#x27;2010-12-31T23:59:59.999999999&#x27;,\n",
       "       &#x27;2009-12-31T23:59:59.999999999&#x27;, &#x27;2012-12-31T23:59:59.999999999&#x27;,\n",
       "       &#x27;2014-12-31T23:59:59.999999999&#x27;, &#x27;1994-12-31T23:59:59.999999999&#x27;,\n",
       "       &#x27;2012-12-31T23:59:59.999999999&#x27;, &#x27;2012-12-31T23:59:59.999999999&#x27;,\n",
       "       &#x27;2012-12-31T23:59:59.999999999&#x27;, &#x27;2012-12-31T23:59:59.999999999&#x27;,\n",
       "       &#x27;2012-12-31T23:59:59.999999999&#x27;, &#x27;2012-12-31T23:59:59.999999999&#x27;,\n",
       "       &#x27;2004-12-31T23:59:59.999999999&#x27;, &#x27;2014-12-31T23:59:59.999999999&#x27;,\n",
       "       &#x27;2012-12-31T23:59:59.999999999&#x27;, &#x27;2004-12-31T23:59:59.999999999&#x27;,\n",
       "       &#x27;2004-12-31T23:59:59.999999999&#x27;, &#x27;2012-12-31T23:59:59.999999999&#x27;,\n",
       "       &#x27;2014-12-31T23:59:59.999999999&#x27;, &#x27;2015-12-31T23:59:59.999999999&#x27;,\n",
       "       &#x27;1994-12-31T23:59:59.999999999&#x27;, &#x27;2005-12-31T23:59:59.999999999&#x27;,\n",
       "       &#x27;2005-12-31T23:59:59.999999999&#x27;, &#x27;2005-12-31T23:59:59.999999999&#x27;,\n",
       "       &#x27;2009-12-31T23:59:59.999999999&#x27;, &#x27;2005-12-31T23:59:59.999999999&#x27;,\n",
       "       &#x27;2000-12-31T23:59:59.999999999&#x27;, &#x27;2012-12-31T23:59:59.999999999&#x27;,\n",
       "       &#x27;2012-12-31T23:59:59.999999999&#x27;, &#x27;2012-12-31T23:59:59.999999999&#x27;,\n",
       "       &#x27;2012-12-31T23:59:59.999999999&#x27;, &#x27;2002-12-31T23:59:59.999999999&#x27;,\n",
       "       &#x27;2000-12-31T23:59:59.999999999&#x27;, &#x27;2004-12-31T23:59:59.999999999&#x27;,\n",
       "       &#x27;2014-12-31T23:59:59.999999999&#x27;, &#x27;2012-12-31T23:59:59.999999999&#x27;,\n",
       "       &#x27;2011-12-31T23:59:59.999999999&#x27;, &#x27;2004-12-31T23:59:59.999999999&#x27;,\n",
       "       &#x27;2015-12-31T23:59:59.999999999&#x27;, &#x27;2013-12-31T23:59:59.999999999&#x27;,\n",
       "       &#x27;2012-12-31T23:59:59.999999999&#x27;, &#x27;2012-12-31T23:59:59.999999999&#x27;,\n",
       "       &#x27;2012-12-31T23:59:59.999999999&#x27;], dtype=&#x27;datetime64[ns]&#x27;)</pre></div></li><li class='xr-var-item'><div class='xr-var-name'><span>cohort_period_start</span></div><div class='xr-var-dims'>(cohorts)</div><div class='xr-var-dtype'>datetime64[ns]</div><div class='xr-var-preview xr-preview'>2015-01-01 ... 2012-01-01</div><input id='attrs-b264e46a-cad5-4e8c-ab54-89b03275f199' class='xr-var-attrs-in' type='checkbox' disabled><label for='attrs-b264e46a-cad5-4e8c-ab54-89b03275f199' title='Show/Hide attributes'><svg class='icon xr-icon-file-text2'><use xlink:href='#icon-file-text2'></use></svg></label><input id='data-f748f4e4-92dc-4c56-9cfd-e0b50c5bc9ca' class='xr-var-data-in' type='checkbox'><label for='data-f748f4e4-92dc-4c56-9cfd-e0b50c5bc9ca' title='Show/Hide data repr'><svg class='icon xr-icon-database'><use xlink:href='#icon-database'></use></svg></label><div class='xr-var-attrs'><dl class='xr-attrs'></dl></div><div class='xr-var-data'><pre>array([&#x27;2015-01-01T00:00:00.000000000&#x27;, &#x27;2015-01-01T00:00:00.000000000&#x27;,\n",
       "       &#x27;2012-01-01T00:00:00.000000000&#x27;, &#x27;2012-01-01T00:00:00.000000000&#x27;,\n",
       "       &#x27;2012-01-01T00:00:00.000000000&#x27;, &#x27;2011-01-01T00:00:00.000000000&#x27;,\n",
       "       &#x27;2010-01-01T00:00:00.000000000&#x27;, &#x27;2010-01-01T00:00:00.000000000&#x27;,\n",
       "       &#x27;2009-01-01T00:00:00.000000000&#x27;, &#x27;2012-01-01T00:00:00.000000000&#x27;,\n",
       "       &#x27;2014-01-01T00:00:00.000000000&#x27;, &#x27;1994-01-01T00:00:00.000000000&#x27;,\n",
       "       &#x27;2012-01-01T00:00:00.000000000&#x27;, &#x27;2012-01-01T00:00:00.000000000&#x27;,\n",
       "       &#x27;2012-01-01T00:00:00.000000000&#x27;, &#x27;2012-01-01T00:00:00.000000000&#x27;,\n",
       "       &#x27;2012-01-01T00:00:00.000000000&#x27;, &#x27;2012-01-01T00:00:00.000000000&#x27;,\n",
       "       &#x27;2004-01-01T00:00:00.000000000&#x27;, &#x27;2014-01-01T00:00:00.000000000&#x27;,\n",
       "       &#x27;2012-01-01T00:00:00.000000000&#x27;, &#x27;2004-01-01T00:00:00.000000000&#x27;,\n",
       "       &#x27;2004-01-01T00:00:00.000000000&#x27;, &#x27;2012-01-01T00:00:00.000000000&#x27;,\n",
       "       &#x27;2014-01-01T00:00:00.000000000&#x27;, &#x27;2015-01-01T00:00:00.000000000&#x27;,\n",
       "       &#x27;1994-01-01T00:00:00.000000000&#x27;, &#x27;2005-01-01T00:00:00.000000000&#x27;,\n",
       "       &#x27;2005-01-01T00:00:00.000000000&#x27;, &#x27;2005-01-01T00:00:00.000000000&#x27;,\n",
       "       &#x27;2009-01-01T00:00:00.000000000&#x27;, &#x27;2005-01-01T00:00:00.000000000&#x27;,\n",
       "       &#x27;2000-01-01T00:00:00.000000000&#x27;, &#x27;2012-01-01T00:00:00.000000000&#x27;,\n",
       "       &#x27;2012-01-01T00:00:00.000000000&#x27;, &#x27;2012-01-01T00:00:00.000000000&#x27;,\n",
       "       &#x27;2012-01-01T00:00:00.000000000&#x27;, &#x27;2002-01-01T00:00:00.000000000&#x27;,\n",
       "       &#x27;2000-01-01T00:00:00.000000000&#x27;, &#x27;2004-01-01T00:00:00.000000000&#x27;,\n",
       "       &#x27;2014-01-01T00:00:00.000000000&#x27;, &#x27;2012-01-01T00:00:00.000000000&#x27;,\n",
       "       &#x27;2011-01-01T00:00:00.000000000&#x27;, &#x27;2004-01-01T00:00:00.000000000&#x27;,\n",
       "       &#x27;2015-01-01T00:00:00.000000000&#x27;, &#x27;2013-01-01T00:00:00.000000000&#x27;,\n",
       "       &#x27;2012-01-01T00:00:00.000000000&#x27;, &#x27;2012-01-01T00:00:00.000000000&#x27;,\n",
       "       &#x27;2012-01-01T00:00:00.000000000&#x27;], dtype=&#x27;datetime64[ns]&#x27;)</pre></div></li><li class='xr-var-item'><div class='xr-var-name'><span>cohort_size</span></div><div class='xr-var-dims'>(cohorts)</div><div class='xr-var-dtype'>int64</div><div class='xr-var-preview xr-preview'>38 136 47 38 81 ... 31 29 112 94 47</div><input id='attrs-0ba75bf5-f486-4287-9fd8-a2b52a423e8c' class='xr-var-attrs-in' type='checkbox' disabled><label for='attrs-0ba75bf5-f486-4287-9fd8-a2b52a423e8c' title='Show/Hide attributes'><svg class='icon xr-icon-file-text2'><use xlink:href='#icon-file-text2'></use></svg></label><input id='data-18929cde-e403-4642-b9c3-8e05b836ae5d' class='xr-var-data-in' type='checkbox'><label for='data-18929cde-e403-4642-b9c3-8e05b836ae5d' title='Show/Hide data repr'><svg class='icon xr-icon-database'><use xlink:href='#icon-database'></use></svg></label><div class='xr-var-attrs'><dl class='xr-attrs'></dl></div><div class='xr-var-data'><pre>array([ 38, 136,  47,  38,  81,  67,  33,  58,  71,  80,  53,  13,  77,\n",
       "        14,  25,  24, 171,  10,  10,  19,  26,  23,  13,  98,  46,  37,\n",
       "        52,  14,  12,  27, 299,  29,  68,  13,  23,  60,  60,  10,  18,\n",
       "        28,  32,  64,  22,  71,  31,  29, 112,  94,  47])</pre></div></li><li class='xr-var-item'><div class='xr-var-name'><span>cohort_taxon</span></div><div class='xr-var-dims'>(cohorts)</div><div class='xr-var-dtype'>object</div><div class='xr-var-preview xr-preview'>&#x27;arabiensis&#x27; ... &#x27;pwani&#x27;</div><input id='attrs-c14e0b31-4624-43fb-8f13-d54fb37bda9b' class='xr-var-attrs-in' type='checkbox' disabled><label for='attrs-c14e0b31-4624-43fb-8f13-d54fb37bda9b' title='Show/Hide attributes'><svg class='icon xr-icon-file-text2'><use xlink:href='#icon-file-text2'></use></svg></label><input id='data-97fd8d75-caef-42b6-bb8e-02f5c60d82a1' class='xr-var-data-in' type='checkbox'><label for='data-97fd8d75-caef-42b6-bb8e-02f5c60d82a1' title='Show/Hide data repr'><svg class='icon xr-icon-database'><use xlink:href='#icon-database'></use></svg></label><div class='xr-var-attrs'><dl class='xr-attrs'></dl></div><div class='xr-var-data'><pre>array([&#x27;arabiensis&#x27;, &#x27;arabiensis&#x27;, &#x27;arabiensis&#x27;, &#x27;arabiensis&#x27;,\n",
       "       &#x27;arabiensis&#x27;, &#x27;bissau&#x27;, &#x27;bissau&#x27;, &#x27;bissau&#x27;, &#x27;coluzzii&#x27;, &#x27;coluzzii&#x27;,\n",
       "       &#x27;coluzzii&#x27;, &#x27;coluzzii&#x27;, &#x27;coluzzii&#x27;, &#x27;coluzzii&#x27;, &#x27;coluzzii&#x27;,\n",
       "       &#x27;coluzzii&#x27;, &#x27;coluzzii&#x27;, &#x27;coluzzii&#x27;, &#x27;coluzzii&#x27;, &#x27;coluzzii&#x27;,\n",
       "       &#x27;coluzzii&#x27;, &#x27;coluzzii&#x27;, &#x27;gambiae&#x27;, &#x27;gambiae&#x27;, &#x27;gambiae&#x27;, &#x27;gambiae&#x27;,\n",
       "       &#x27;gambiae&#x27;, &#x27;gambiae&#x27;, &#x27;gambiae&#x27;, &#x27;gambiae&#x27;, &#x27;gambiae&#x27;, &#x27;gambiae&#x27;,\n",
       "       &#x27;gambiae&#x27;, &#x27;gambiae&#x27;, &#x27;gambiae&#x27;, &#x27;gambiae&#x27;, &#x27;gambiae&#x27;, &#x27;gambiae&#x27;,\n",
       "       &#x27;gambiae&#x27;, &#x27;gambiae&#x27;, &#x27;gambiae&#x27;, &#x27;gambiae&#x27;, &#x27;gambiae&#x27;, &#x27;gambiae&#x27;,\n",
       "       &#x27;gambiae&#x27;, &#x27;gambiae&#x27;, &#x27;gambiae&#x27;, &#x27;gambiae&#x27;, &#x27;pwani&#x27;], dtype=object)</pre></div></li><li class='xr-var-item'><div class='xr-var-name'><span>event_count</span></div><div class='xr-var-dims'>(variants, cohorts)</div><div class='xr-var-dtype'>int64</div><div class='xr-var-preview xr-preview'>6 0 0 0 0 0 0 0 ... 0 0 0 0 0 1 4 0</div><input id='attrs-06ccca02-b305-49ba-9077-668b7f5a7d00' class='xr-var-attrs-in' type='checkbox' disabled><label for='attrs-06ccca02-b305-49ba-9077-668b7f5a7d00' title='Show/Hide attributes'><svg class='icon xr-icon-file-text2'><use xlink:href='#icon-file-text2'></use></svg></label><input id='data-d2ec1eed-2c09-4454-9ed8-0315bf5db441' class='xr-var-data-in' type='checkbox'><label for='data-d2ec1eed-2c09-4454-9ed8-0315bf5db441' title='Show/Hide data repr'><svg class='icon xr-icon-database'><use xlink:href='#icon-database'></use></svg></label><div class='xr-var-attrs'><dl class='xr-attrs'></dl></div><div class='xr-var-data'><pre>array([[ 6,  0,  0,  0,  0,  0,  0,  0,  0,  0,  0,  0,  0,  0,  0,  0,\n",
       "         0,  0,  0,  0,  0,  0,  0,  0,  0,  0,  0,  0,  0,  0,  0,  0,\n",
       "         0,  0,  0,  0,  0,  0,  0,  0,  0,  0,  0,  0,  0,  0,  0,  0,\n",
       "         0],\n",
       "       [13,  0,  0,  0,  1,  0,  0,  0,  0, 73, 43,  0, 67,  0,  4,  3,\n",
       "         8,  8,  8, 10, 22,  6,  0,  4,  3, 25,  0,  0,  0,  0,  1,  0,\n",
       "         0,  0,  1,  6,  2,  0,  0,  0,  2,  7,  0,  0, 29,  0, 72, 28,\n",
       "         0],\n",
       "       [ 8,  0,  0,  0,  0,  0,  0,  0,  0, 66, 42,  0, 67,  0,  4,  3,\n",
       "         5,  8,  8,  8, 20,  6,  0,  4,  3,  5,  0,  0,  0,  0,  0,  0,\n",
       "         0,  0,  1,  6,  2,  0,  0,  0,  2,  7,  0,  0,  2,  0,  8,  8,\n",
       "         0],\n",
       "       [ 7,  0,  0,  0,  0,  0,  0,  0,  0, 48, 27,  0, 57,  0,  2,  2,\n",
       "         0,  1,  0,  5, 12,  1,  0,  1,  1,  0,  0,  0,  0,  0,  0,  0,\n",
       "         0,  0,  0,  0,  0,  0,  0,  0,  0,  2,  0,  0,  0,  0,  2,  4,\n",
       "         0],\n",
       "       [ 7,  0,  0,  0,  0,  0,  0,  0,  0, 42, 28,  0, 71,  0,  6,  2,\n",
       "         0,  0,  2,  5,  9,  1,  0,  1,  1,  0,  0,  0,  0,  0,  0,  0,\n",
       "         0,  0,  0,  0,  0,  0,  0,  0,  0,  1,  0,  0,  0,  0,  2,  4,\n",
       "         0],\n",
       "...\n",
       "       [ 7,  0,  0,  0,  0,  0,  0,  0,  0,  3,  3,  0, 71,  0,  4,  0,\n",
       "         0,  0,  2,  0,  1,  0,  0,  2,  1,  0,  0,  0,  1,  0,  0,  0,\n",
       "         0,  0,  0,  0,  1,  0,  0,  0,  0,  0,  0,  0,  0,  0,  1,  4,\n",
       "         0],\n",
       "       [ 3,  0,  0,  0,  0,  0,  0,  0,  0,  3,  4,  0, 71,  0,  4,  0,\n",
       "         0,  0,  2,  0,  1,  0,  0,  1,  1,  0,  0,  0,  1,  0,  0,  1,\n",
       "         0,  0,  0,  0,  0,  0,  0,  0,  0,  0,  0,  0,  0,  0,  1,  4,\n",
       "         0],\n",
       "       [ 0,  0,  0,  0,  0,  0,  0,  0,  0,  3,  3,  0, 70,  0,  4,  0,\n",
       "         0,  0,  2,  0,  1,  0,  0,  1,  1,  0,  0,  0,  0,  0,  0,  0,\n",
       "         0,  0,  0,  0,  0,  0,  0,  0,  0,  0,  0,  0,  0,  0,  1,  4,\n",
       "         0],\n",
       "       [ 0,  0,  0,  0,  0,  0,  0,  0,  0,  3,  3,  0, 71,  0,  4,  0,\n",
       "         0,  0,  2,  0,  1,  0,  0,  1,  1,  0,  0,  0,  0,  0,  0,  0,\n",
       "         0,  0,  0,  0,  0,  0,  0,  0,  0,  0,  0,  0,  0,  0,  1,  4,\n",
       "         0],\n",
       "       [ 0,  0,  0,  0,  0,  0,  0,  0,  0,  3,  3,  0, 71,  0,  4,  0,\n",
       "         0,  0,  2,  0,  1,  0,  0,  1,  1,  0,  0,  0,  0,  0,  0,  0,\n",
       "         0,  0,  0,  0,  0,  0,  0,  0,  0,  0,  0,  0,  0,  0,  1,  4,\n",
       "         0]])</pre></div></li><li class='xr-var-item'><div class='xr-var-name'><span>event_frequency</span></div><div class='xr-var-dims'>(variants, cohorts)</div><div class='xr-var-dtype'>float64</div><div class='xr-var-preview xr-preview'>0.1579 0.0 0.0 ... 0.04255 0.0</div><input id='attrs-b22b5ee2-f09a-4d77-9a7c-1aede15f574a' class='xr-var-attrs-in' type='checkbox' disabled><label for='attrs-b22b5ee2-f09a-4d77-9a7c-1aede15f574a' title='Show/Hide attributes'><svg class='icon xr-icon-file-text2'><use xlink:href='#icon-file-text2'></use></svg></label><input id='data-c4e9425d-720e-4799-85e3-60f73fecda82' class='xr-var-data-in' type='checkbox'><label for='data-c4e9425d-720e-4799-85e3-60f73fecda82' title='Show/Hide data repr'><svg class='icon xr-icon-database'><use xlink:href='#icon-database'></use></svg></label><div class='xr-var-attrs'><dl class='xr-attrs'></dl></div><div class='xr-var-data'><pre>array([[0.15789474, 0.        , 0.        , 0.        , 0.        ,\n",
       "        0.        , 0.        , 0.        , 0.        , 0.        ,\n",
       "        0.        , 0.        , 0.        , 0.        , 0.        ,\n",
       "        0.        , 0.        , 0.        , 0.        , 0.        ,\n",
       "        0.        , 0.        , 0.        , 0.        , 0.        ,\n",
       "        0.        , 0.        , 0.        , 0.        , 0.        ,\n",
       "        0.        , 0.        , 0.        , 0.        , 0.        ,\n",
       "        0.        , 0.        , 0.        , 0.        , 0.        ,\n",
       "        0.        , 0.        , 0.        , 0.        , 0.        ,\n",
       "        0.        , 0.        , 0.        , 0.        ],\n",
       "       [0.34210526, 0.        , 0.        , 0.        , 0.01234568,\n",
       "        0.        , 0.        , 0.        , 0.        , 0.9125    ,\n",
       "        0.81132075, 0.        , 0.87012987, 0.        , 0.16      ,\n",
       "        0.125     , 0.04678363, 0.8       , 0.8       , 0.52631579,\n",
       "        0.84615385, 0.26086957, 0.        , 0.04081633, 0.06521739,\n",
       "        0.67567568, 0.        , 0.        , 0.        , 0.        ,\n",
       "        0.00334448, 0.        , 0.        , 0.        , 0.04347826,\n",
       "        0.1       , 0.03333333, 0.        , 0.        , 0.        ,\n",
       "        0.0625    , 0.109375  , 0.        , 0.        , 0.93548387,\n",
       "        0.        , 0.64285714, 0.29787234, 0.        ],\n",
       "...\n",
       "       [0.        , 0.        , 0.        , 0.        , 0.        ,\n",
       "        0.        , 0.        , 0.        , 0.        , 0.0375    ,\n",
       "        0.05660377, 0.        , 0.92207792, 0.        , 0.16      ,\n",
       "        0.        , 0.        , 0.        , 0.2       , 0.        ,\n",
       "        0.03846154, 0.        , 0.        , 0.01020408, 0.02173913,\n",
       "        0.        , 0.        , 0.        , 0.        , 0.        ,\n",
       "        0.        , 0.        , 0.        , 0.        , 0.        ,\n",
       "        0.        , 0.        , 0.        , 0.        , 0.        ,\n",
       "        0.        , 0.        , 0.        , 0.        , 0.        ,\n",
       "        0.        , 0.00892857, 0.04255319, 0.        ],\n",
       "       [0.        , 0.        , 0.        , 0.        , 0.        ,\n",
       "        0.        , 0.        , 0.        , 0.        , 0.0375    ,\n",
       "        0.05660377, 0.        , 0.92207792, 0.        , 0.16      ,\n",
       "        0.        , 0.        , 0.        , 0.2       , 0.        ,\n",
       "        0.03846154, 0.        , 0.        , 0.01020408, 0.02173913,\n",
       "        0.        , 0.        , 0.        , 0.        , 0.        ,\n",
       "        0.        , 0.        , 0.        , 0.        , 0.        ,\n",
       "        0.        , 0.        , 0.        , 0.        , 0.        ,\n",
       "        0.        , 0.        , 0.        , 0.        , 0.        ,\n",
       "        0.        , 0.00892857, 0.04255319, 0.        ]])</pre></div></li><li class='xr-var-item'><div class='xr-var-name'><span>event_frequency_ci_low</span></div><div class='xr-var-dims'>(variants, cohorts)</div><div class='xr-var-dtype'>float64</div><div class='xr-var-preview xr-preview'>0.07444 0.0 0.0 ... 0.01667 0.0</div><input id='attrs-c86f4445-0cd0-4303-a958-6c14fc3bcb8e' class='xr-var-attrs-in' type='checkbox' disabled><label for='attrs-c86f4445-0cd0-4303-a958-6c14fc3bcb8e' title='Show/Hide attributes'><svg class='icon xr-icon-file-text2'><use xlink:href='#icon-file-text2'></use></svg></label><input id='data-b7addf42-5172-448d-8c59-df7ccde38295' class='xr-var-data-in' type='checkbox'><label for='data-b7addf42-5172-448d-8c59-df7ccde38295' title='Show/Hide data repr'><svg class='icon xr-icon-database'><use xlink:href='#icon-database'></use></svg></label><div class='xr-var-attrs'><dl class='xr-attrs'></dl></div><div class='xr-var-data'><pre>array([[ 7.44386342e-02,  0.00000000e+00,  0.00000000e+00,\n",
       "         6.93889390e-18,  0.00000000e+00,  0.00000000e+00,\n",
       "         0.00000000e+00,  0.00000000e+00,  0.00000000e+00,\n",
       "         0.00000000e+00,  0.00000000e+00,  0.00000000e+00,\n",
       "        -3.46944695e-18,  2.77555756e-17,  0.00000000e+00,\n",
       "         0.00000000e+00,  0.00000000e+00,  0.00000000e+00,\n",
       "         0.00000000e+00,  1.38777878e-17,  0.00000000e+00,\n",
       "         0.00000000e+00,  0.00000000e+00,  0.00000000e+00,\n",
       "         0.00000000e+00,  6.93889390e-18,  0.00000000e+00,\n",
       "         2.77555756e-17,  0.00000000e+00,  0.00000000e+00,\n",
       "         8.67361738e-19,  0.00000000e+00,  0.00000000e+00,\n",
       "         0.00000000e+00,  0.00000000e+00,  0.00000000e+00,\n",
       "         0.00000000e+00,  0.00000000e+00,  1.38777878e-17,\n",
       "         1.38777878e-17,  0.00000000e+00,  0.00000000e+00,\n",
       "         0.00000000e+00,  0.00000000e+00,  0.00000000e+00,\n",
       "         0.00000000e+00,  3.46944695e-18,  0.00000000e+00,\n",
       "         0.00000000e+00],\n",
       "       [ 2.12124152e-01,  0.00000000e+00,  0.00000000e+00,\n",
       "         6.93889390e-18,  2.18265006e-03,  0.00000000e+00,\n",
       "         0.00000000e+00,  0.00000000e+00,  0.00000000e+00,\n",
       "...\n",
       "         0.00000000e+00,  0.00000000e+00,  0.00000000e+00,\n",
       "         0.00000000e+00,  1.57785470e-03,  1.66705482e-02,\n",
       "         0.00000000e+00],\n",
       "       [ 6.93889390e-18,  0.00000000e+00,  0.00000000e+00,\n",
       "         6.93889390e-18,  0.00000000e+00,  0.00000000e+00,\n",
       "         0.00000000e+00,  0.00000000e+00,  0.00000000e+00,\n",
       "         1.28345689e-02,  1.94366615e-02,  0.00000000e+00,\n",
       "         8.40243843e-01,  2.77555756e-17,  6.40345146e-02,\n",
       "         0.00000000e+00,  0.00000000e+00,  0.00000000e+00,\n",
       "         5.66821515e-02,  1.38777878e-17,  6.82198499e-03,\n",
       "         0.00000000e+00,  0.00000000e+00,  1.80354776e-03,\n",
       "         3.84785426e-03,  6.93889390e-18,  0.00000000e+00,\n",
       "         2.77555756e-17,  0.00000000e+00,  0.00000000e+00,\n",
       "         8.67361738e-19,  0.00000000e+00,  0.00000000e+00,\n",
       "         0.00000000e+00,  0.00000000e+00,  0.00000000e+00,\n",
       "         0.00000000e+00,  0.00000000e+00,  1.38777878e-17,\n",
       "         1.38777878e-17,  0.00000000e+00,  0.00000000e+00,\n",
       "         0.00000000e+00,  0.00000000e+00,  0.00000000e+00,\n",
       "         0.00000000e+00,  1.57785470e-03,  1.66705482e-02,\n",
       "         0.00000000e+00]])</pre></div></li><li class='xr-var-item'><div class='xr-var-name'><span>event_frequency_ci_upp</span></div><div class='xr-var-dims'>(variants, cohorts)</div><div class='xr-var-dtype'>float64</div><div class='xr-var-preview xr-preview'>0.3042 0.02747 ... 0.1044 0.07556</div><input id='attrs-41d4d025-b942-4ce0-9fb0-2e7ae86871a6' class='xr-var-attrs-in' type='checkbox' disabled><label for='attrs-41d4d025-b942-4ce0-9fb0-2e7ae86871a6' title='Show/Hide attributes'><svg class='icon xr-icon-file-text2'><use xlink:href='#icon-file-text2'></use></svg></label><input id='data-0fb19c71-7793-413f-af98-770bee7d8a81' class='xr-var-data-in' type='checkbox'><label for='data-0fb19c71-7793-413f-af98-770bee7d8a81' title='Show/Hide data repr'><svg class='icon xr-icon-database'><use xlink:href='#icon-database'></use></svg></label><div class='xr-var-attrs'><dl class='xr-attrs'></dl></div><div class='xr-var-data'><pre>array([[0.30416812, 0.0274701 , 0.0755576 , 0.09180987, 0.04527809,\n",
       "        0.05422614, 0.10427   , 0.06211786, 0.05132795, 0.04581813,\n",
       "        0.06758199, 0.22809537, 0.04751843, 0.2153108 , 0.13319225,\n",
       "        0.1379762 , 0.0219711 , 0.2775328 , 0.2775328 , 0.16817922,\n",
       "        0.12872892, 0.14311662, 0.22809537, 0.03771999, 0.07707356,\n",
       "        0.09405783, 0.06879224, 0.2153108 , 0.24249401, 0.12455503,\n",
       "        0.01268472, 0.1169698 , 0.05347134, 0.22809537, 0.14311662,\n",
       "        0.06017185, 0.06017185, 0.2775328 , 0.17587922, 0.1206433 ,\n",
       "        0.1071792 , 0.05662406, 0.14865487, 0.05132795, 0.1102554 ,\n",
       "        0.1169698 , 0.03316135, 0.03926208, 0.0755576 ],\n",
       "       [0.50107896, 0.0274701 , 0.0755576 , 0.09180987, 0.06666882,\n",
       "        0.05422614, 0.10427   , 0.06211786, 0.05132795, 0.956968  ,\n",
       "        0.89414675, 0.22809537, 0.92790171, 0.2153108 , 0.34653622,\n",
       "        0.31003881, 0.08958873, 0.94331785, 0.94331785, 0.72670195,\n",
       "        0.93849966, 0.46470005, 0.22809537, 0.10028821, 0.17502741,\n",
       "        0.80366733, 0.06879224, 0.2153108 , 0.24249401, 0.12455503,\n",
       "        0.01869821, 0.1169698 , 0.05347134, 0.22809537, 0.20991155,\n",
       "        0.20149465, 0.11363774, 0.2775328 , 0.17587922, 0.1206433 ,\n",
       "        0.20147123, 0.20898641, 0.14865487, 0.05132795, 0.98212522,\n",
       "        0.1169698 , 0.72550411, 0.39677215, 0.0755576 ],\n",
       "...\n",
       "       [0.09180987, 0.0274701 , 0.0755576 , 0.09180987, 0.04527809,\n",
       "        0.05422614, 0.10427   , 0.06211786, 0.05132795, 0.1045472 ,\n",
       "        0.15370208, 0.22809537, 0.96379904, 0.2153108 , 0.34653622,\n",
       "        0.1379762 , 0.0219711 , 0.2775328 , 0.50983753, 0.16817922,\n",
       "        0.18892779, 0.14311662, 0.22809537, 0.05555481, 0.11335295,\n",
       "        0.09405783, 0.06879224, 0.2153108 , 0.24249401, 0.12455503,\n",
       "        0.01268472, 0.1169698 , 0.05347134, 0.22809537, 0.14311662,\n",
       "        0.06017185, 0.06017185, 0.2775328 , 0.17587922, 0.1206433 ,\n",
       "        0.1071792 , 0.05662406, 0.14865487, 0.05132795, 0.1102554 ,\n",
       "        0.1169698 , 0.04884847, 0.10435646, 0.0755576 ],\n",
       "       [0.09180987, 0.0274701 , 0.0755576 , 0.09180987, 0.04527809,\n",
       "        0.05422614, 0.10427   , 0.06211786, 0.05132795, 0.1045472 ,\n",
       "        0.15370208, 0.22809537, 0.96379904, 0.2153108 , 0.34653622,\n",
       "        0.1379762 , 0.0219711 , 0.2775328 , 0.50983753, 0.16817922,\n",
       "        0.18892779, 0.14311662, 0.22809537, 0.05555481, 0.11335295,\n",
       "        0.09405783, 0.06879224, 0.2153108 , 0.24249401, 0.12455503,\n",
       "        0.01268472, 0.1169698 , 0.05347134, 0.22809537, 0.14311662,\n",
       "        0.06017185, 0.06017185, 0.2775328 , 0.17587922, 0.1206433 ,\n",
       "        0.1071792 , 0.05662406, 0.14865487, 0.05132795, 0.1102554 ,\n",
       "        0.1169698 , 0.04884847, 0.10435646, 0.0755576 ]])</pre></div></li><li class='xr-var-item'><div class='xr-var-name'><span>event_nobs</span></div><div class='xr-var-dims'>(variants, cohorts)</div><div class='xr-var-dtype'>int64</div><div class='xr-var-preview xr-preview'>38 136 47 38 81 ... 31 29 112 94 47</div><input id='attrs-81aa1a35-e482-450c-b44c-468924f03b2f' class='xr-var-attrs-in' type='checkbox' disabled><label for='attrs-81aa1a35-e482-450c-b44c-468924f03b2f' title='Show/Hide attributes'><svg class='icon xr-icon-file-text2'><use xlink:href='#icon-file-text2'></use></svg></label><input id='data-86ea5be3-5ace-49e9-b2fe-87a5b09ce8f5' class='xr-var-data-in' type='checkbox'><label for='data-86ea5be3-5ace-49e9-b2fe-87a5b09ce8f5' title='Show/Hide data repr'><svg class='icon xr-icon-database'><use xlink:href='#icon-database'></use></svg></label><div class='xr-var-attrs'><dl class='xr-attrs'></dl></div><div class='xr-var-data'><pre>array([[ 38, 136,  47,  38,  81,  67,  33,  58,  71,  80,  53,  13,  77,\n",
       "         14,  25,  24, 171,  10,  10,  19,  26,  23,  13,  98,  46,  37,\n",
       "         52,  14,  12,  27, 299,  29,  68,  13,  23,  60,  60,  10,  18,\n",
       "         28,  32,  64,  22,  71,  31,  29, 112,  94,  47],\n",
       "       [ 38, 136,  47,  38,  81,  67,  33,  58,  71,  80,  53,  13,  77,\n",
       "         14,  25,  24, 171,  10,  10,  19,  26,  23,  13,  98,  46,  37,\n",
       "         52,  14,  12,  27, 299,  29,  68,  13,  23,  60,  60,  10,  18,\n",
       "         28,  32,  64,  22,  71,  31,  29, 112,  94,  47],\n",
       "       [ 38, 136,  47,  38,  81,  67,  33,  58,  71,  80,  53,  13,  77,\n",
       "         14,  25,  24, 171,  10,  10,  19,  26,  23,  13,  98,  46,  37,\n",
       "         52,  14,  12,  27, 299,  29,  68,  13,  23,  60,  60,  10,  18,\n",
       "         28,  32,  64,  22,  71,  31,  29, 112,  94,  47],\n",
       "       [ 38, 136,  47,  38,  81,  67,  33,  58,  71,  80,  53,  13,  77,\n",
       "         14,  25,  24, 171,  10,  10,  19,  26,  23,  13,  98,  46,  37,\n",
       "         52,  14,  12,  27, 299,  29,  68,  13,  23,  60,  60,  10,  18,\n",
       "         28,  32,  64,  22,  71,  31,  29, 112,  94,  47],\n",
       "       [ 38, 136,  47,  38,  81,  67,  33,  58,  71,  80,  53,  13,  77,\n",
       "         14,  25,  24, 171,  10,  10,  19,  26,  23,  13,  98,  46,  37,\n",
       "         52,  14,  12,  27, 299,  29,  68,  13,  23,  60,  60,  10,  18,\n",
       "         28,  32,  64,  22,  71,  31,  29, 112,  94,  47],\n",
       "...\n",
       "       [ 38, 136,  47,  38,  81,  67,  33,  58,  71,  80,  53,  13,  77,\n",
       "         14,  25,  24, 171,  10,  10,  19,  26,  23,  13,  98,  46,  37,\n",
       "         52,  14,  12,  27, 299,  29,  68,  13,  23,  60,  60,  10,  18,\n",
       "         28,  32,  64,  22,  71,  31,  29, 112,  94,  47],\n",
       "       [ 38, 136,  47,  38,  81,  67,  33,  58,  71,  80,  53,  13,  77,\n",
       "         14,  25,  24, 171,  10,  10,  19,  26,  23,  13,  98,  46,  37,\n",
       "         52,  14,  12,  27, 299,  29,  68,  13,  23,  60,  60,  10,  18,\n",
       "         28,  32,  64,  22,  71,  31,  29, 112,  94,  47],\n",
       "       [ 38, 136,  47,  38,  81,  67,  33,  58,  71,  80,  53,  13,  77,\n",
       "         14,  25,  24, 171,  10,  10,  19,  26,  23,  13,  98,  46,  37,\n",
       "         52,  14,  12,  27, 299,  29,  68,  13,  23,  60,  60,  10,  18,\n",
       "         28,  32,  64,  22,  71,  31,  29, 112,  94,  47],\n",
       "       [ 38, 136,  47,  38,  81,  67,  33,  58,  71,  80,  53,  13,  77,\n",
       "         14,  25,  24, 171,  10,  10,  19,  26,  23,  13,  98,  46,  37,\n",
       "         52,  14,  12,  27, 299,  29,  68,  13,  23,  60,  60,  10,  18,\n",
       "         28,  32,  64,  22,  71,  31,  29, 112,  94,  47],\n",
       "       [ 38, 136,  47,  38,  81,  67,  33,  58,  71,  80,  53,  13,  77,\n",
       "         14,  25,  24, 171,  10,  10,  19,  26,  23,  13,  98,  46,  37,\n",
       "         52,  14,  12,  27, 299,  29,  68,  13,  23,  60,  60,  10,  18,\n",
       "         28,  32,  64,  22,  71,  31,  29, 112,  94,  47]])</pre></div></li><li class='xr-var-item'><div class='xr-var-name'><span>variant_cnv_type</span></div><div class='xr-var-dims'>(variants)</div><div class='xr-var-dtype'>object</div><div class='xr-var-preview xr-preview'>&#x27;amp&#x27; &#x27;amp&#x27; &#x27;amp&#x27; ... &#x27;amp&#x27; &#x27;amp&#x27;</div><input id='attrs-fa7242ce-08d2-4e98-a11b-23c590020a05' class='xr-var-attrs-in' type='checkbox' disabled><label for='attrs-fa7242ce-08d2-4e98-a11b-23c590020a05' title='Show/Hide attributes'><svg class='icon xr-icon-file-text2'><use xlink:href='#icon-file-text2'></use></svg></label><input id='data-ca3557f3-8249-440e-a661-758d0ca1096a' class='xr-var-data-in' type='checkbox'><label for='data-ca3557f3-8249-440e-a661-758d0ca1096a' title='Show/Hide data repr'><svg class='icon xr-icon-database'><use xlink:href='#icon-database'></use></svg></label><div class='xr-var-attrs'><dl class='xr-attrs'></dl></div><div class='xr-var-data'><pre>array([&#x27;amp&#x27;, &#x27;amp&#x27;, &#x27;amp&#x27;, &#x27;amp&#x27;, &#x27;amp&#x27;, &#x27;amp&#x27;, &#x27;del&#x27;, &#x27;amp&#x27;, &#x27;amp&#x27;,\n",
       "       &#x27;amp&#x27;, &#x27;amp&#x27;, &#x27;amp&#x27;], dtype=object)</pre></div></li><li class='xr-var-item'><div class='xr-var-name'><span>variant_contig</span></div><div class='xr-var-dims'>(variants)</div><div class='xr-var-dtype'>object</div><div class='xr-var-preview xr-preview'>&#x27;2R&#x27; &#x27;2R&#x27; &#x27;2R&#x27; ... &#x27;2R&#x27; &#x27;2R&#x27; &#x27;2R&#x27;</div><input id='attrs-4865c5a1-6d24-4412-a362-ca03512d020e' class='xr-var-attrs-in' type='checkbox' disabled><label for='attrs-4865c5a1-6d24-4412-a362-ca03512d020e' title='Show/Hide attributes'><svg class='icon xr-icon-file-text2'><use xlink:href='#icon-file-text2'></use></svg></label><input id='data-ad86e4dd-153c-4cab-8cc1-ede3e76a4cce' class='xr-var-data-in' type='checkbox'><label for='data-ad86e4dd-153c-4cab-8cc1-ede3e76a4cce' title='Show/Hide data repr'><svg class='icon xr-icon-database'><use xlink:href='#icon-database'></use></svg></label><div class='xr-var-attrs'><dl class='xr-attrs'></dl></div><div class='xr-var-data'><pre>array([&#x27;2R&#x27;, &#x27;2R&#x27;, &#x27;2R&#x27;, &#x27;2R&#x27;, &#x27;2R&#x27;, &#x27;2R&#x27;, &#x27;2R&#x27;, &#x27;2R&#x27;, &#x27;2R&#x27;, &#x27;2R&#x27;, &#x27;2R&#x27;,\n",
       "       &#x27;2R&#x27;], dtype=object)</pre></div></li><li class='xr-var-item'><div class='xr-var-name'><span>variant_end</span></div><div class='xr-var-dims'>(variants)</div><div class='xr-var-dtype'>int64</div><div class='xr-var-preview xr-preview'>28516028 28482637 ... 28505816</div><input id='attrs-f96fda79-0276-439b-95da-5d6c94ec5bb5' class='xr-var-attrs-in' type='checkbox' disabled><label for='attrs-f96fda79-0276-439b-95da-5d6c94ec5bb5' title='Show/Hide attributes'><svg class='icon xr-icon-file-text2'><use xlink:href='#icon-file-text2'></use></svg></label><input id='data-ef699273-5e4e-469d-915f-d4f53421294c' class='xr-var-data-in' type='checkbox'><label for='data-ef699273-5e4e-469d-915f-d4f53421294c' title='Show/Hide data repr'><svg class='icon xr-icon-database'><use xlink:href='#icon-database'></use></svg></label><div class='xr-var-attrs'><dl class='xr-attrs'></dl></div><div class='xr-var-data'><pre>array([28516028, 28482637, 28484921, 28487080, 28489092, 28493141,\n",
       "       28493141, 28495645, 28498674, 28500900, 28502910, 28505816])</pre></div></li><li class='xr-var-item'><div class='xr-var-name'><span>variant_gene_id</span></div><div class='xr-var-dims'>(variants)</div><div class='xr-var-dtype'>object</div><div class='xr-var-preview xr-preview'>&#x27;AGAP002859&#x27; ... &#x27;AGAP002870&#x27;</div><input id='attrs-ae124c3d-a586-4ed9-a23f-92ac885ea04e' class='xr-var-attrs-in' type='checkbox' disabled><label for='attrs-ae124c3d-a586-4ed9-a23f-92ac885ea04e' title='Show/Hide attributes'><svg class='icon xr-icon-file-text2'><use xlink:href='#icon-file-text2'></use></svg></label><input id='data-b73f79b1-a5a3-4c9a-83d0-0a2e466e64c6' class='xr-var-data-in' type='checkbox'><label for='data-b73f79b1-a5a3-4c9a-83d0-0a2e466e64c6' title='Show/Hide data repr'><svg class='icon xr-icon-database'><use xlink:href='#icon-database'></use></svg></label><div class='xr-var-attrs'><dl class='xr-attrs'></dl></div><div class='xr-var-data'><pre>array([&#x27;AGAP002859&#x27;, &#x27;AGAP002862&#x27;, &#x27;AGAP013128&#x27;, &#x27;AGAP002863&#x27;,\n",
       "       &#x27;AGAP002864&#x27;, &#x27;AGAP002865&#x27;, &#x27;AGAP002865&#x27;, &#x27;AGAP002866&#x27;,\n",
       "       &#x27;AGAP002867&#x27;, &#x27;AGAP002868&#x27;, &#x27;AGAP002869&#x27;, &#x27;AGAP002870&#x27;],\n",
       "      dtype=object)</pre></div></li><li class='xr-var-item'><div class='xr-var-name'><span>variant_gene_name</span></div><div class='xr-var-dims'>(variants)</div><div class='xr-var-dtype'>object</div><div class='xr-var-preview xr-preview'>nan &#x27;CYP6AA1&#x27; ... &#x27;CYP6AD1&#x27;</div><input id='attrs-35be1468-90c7-49d3-b5da-212fb0679c43' class='xr-var-attrs-in' type='checkbox' disabled><label for='attrs-35be1468-90c7-49d3-b5da-212fb0679c43' title='Show/Hide attributes'><svg class='icon xr-icon-file-text2'><use xlink:href='#icon-file-text2'></use></svg></label><input id='data-0aaedea5-fb4e-48e8-9396-ddcca1c1b6d7' class='xr-var-data-in' type='checkbox'><label for='data-0aaedea5-fb4e-48e8-9396-ddcca1c1b6d7' title='Show/Hide data repr'><svg class='icon xr-icon-database'><use xlink:href='#icon-database'></use></svg></label><div class='xr-var-attrs'><dl class='xr-attrs'></dl></div><div class='xr-var-data'><pre>array([nan, &#x27;CYP6AA1&#x27;, &#x27;CYP6AA2&#x27;, &#x27;COEAE6O&#x27;, &#x27;CYP6P15P&#x27;, &#x27;CYP6P3&#x27;,\n",
       "       &#x27;CYP6P3&#x27;, &#x27;CYP6P5&#x27;, &#x27;CYP6P4&#x27;, &#x27;CYP6P1&#x27;, &#x27;CYP6P2&#x27;, &#x27;CYP6AD1&#x27;],\n",
       "      dtype=object)</pre></div></li><li class='xr-var-item'><div class='xr-var-name'><span>variant_gene_strand</span></div><div class='xr-var-dims'>(variants)</div><div class='xr-var-dtype'>object</div><div class='xr-var-preview xr-preview'>&#x27;+&#x27; &#x27;-&#x27; &#x27;-&#x27; &#x27;-&#x27; ... &#x27;-&#x27; &#x27;-&#x27; &#x27;-&#x27; &#x27;-&#x27;</div><input id='attrs-2533d56b-716a-463c-8ee8-8208d0c5aa0c' class='xr-var-attrs-in' type='checkbox' disabled><label for='attrs-2533d56b-716a-463c-8ee8-8208d0c5aa0c' title='Show/Hide attributes'><svg class='icon xr-icon-file-text2'><use xlink:href='#icon-file-text2'></use></svg></label><input id='data-e422d986-8940-4cf5-81d9-551ca7d4f8a4' class='xr-var-data-in' type='checkbox'><label for='data-e422d986-8940-4cf5-81d9-551ca7d4f8a4' title='Show/Hide data repr'><svg class='icon xr-icon-database'><use xlink:href='#icon-database'></use></svg></label><div class='xr-var-attrs'><dl class='xr-attrs'></dl></div><div class='xr-var-data'><pre>array([&#x27;+&#x27;, &#x27;-&#x27;, &#x27;-&#x27;, &#x27;-&#x27;, &#x27;-&#x27;, &#x27;-&#x27;, &#x27;-&#x27;, &#x27;-&#x27;, &#x27;-&#x27;, &#x27;-&#x27;, &#x27;-&#x27;, &#x27;-&#x27;],\n",
       "      dtype=object)</pre></div></li><li class='xr-var-item'><div class='xr-var-name'><span>variant_label</span></div><div class='xr-var-dims'>(variants)</div><div class='xr-var-dtype'>object</div><div class='xr-var-preview xr-preview'>&#x27;AGAP002859 amp&#x27; ... &#x27;AGAP002870...</div><input id='attrs-a0b7d621-e303-4f1f-8191-ce267598077a' class='xr-var-attrs-in' type='checkbox' disabled><label for='attrs-a0b7d621-e303-4f1f-8191-ce267598077a' title='Show/Hide attributes'><svg class='icon xr-icon-file-text2'><use xlink:href='#icon-file-text2'></use></svg></label><input id='data-bd734609-70aa-4b0e-ad48-9e64fc177351' class='xr-var-data-in' type='checkbox'><label for='data-bd734609-70aa-4b0e-ad48-9e64fc177351' title='Show/Hide data repr'><svg class='icon xr-icon-database'><use xlink:href='#icon-database'></use></svg></label><div class='xr-var-attrs'><dl class='xr-attrs'></dl></div><div class='xr-var-data'><pre>array([&#x27;AGAP002859 amp&#x27;, &#x27;AGAP002862 (CYP6AA1) amp&#x27;,\n",
       "       &#x27;AGAP013128 (CYP6AA2) amp&#x27;, &#x27;AGAP002863 (COEAE6O) amp&#x27;,\n",
       "       &#x27;AGAP002864 (CYP6P15P) amp&#x27;, &#x27;AGAP002865 (CYP6P3) amp&#x27;,\n",
       "       &#x27;AGAP002865 (CYP6P3) del&#x27;, &#x27;AGAP002866 (CYP6P5) amp&#x27;,\n",
       "       &#x27;AGAP002867 (CYP6P4) amp&#x27;, &#x27;AGAP002868 (CYP6P1) amp&#x27;,\n",
       "       &#x27;AGAP002869 (CYP6P2) amp&#x27;, &#x27;AGAP002870 (CYP6AD1) amp&#x27;],\n",
       "      dtype=object)</pre></div></li><li class='xr-var-item'><div class='xr-var-name'><span>variant_max_af</span></div><div class='xr-var-dims'>(variants)</div><div class='xr-var-dtype'>float64</div><div class='xr-var-preview xr-preview'>0.1579 0.9355 ... 0.9221 0.9221</div><input id='attrs-0cc38399-0422-4d3d-af16-2c66f037dac9' class='xr-var-attrs-in' type='checkbox' disabled><label for='attrs-0cc38399-0422-4d3d-af16-2c66f037dac9' title='Show/Hide attributes'><svg class='icon xr-icon-file-text2'><use xlink:href='#icon-file-text2'></use></svg></label><input id='data-913a2a9b-34e9-44c1-a294-8e5f5b8f602f' class='xr-var-data-in' type='checkbox'><label for='data-913a2a9b-34e9-44c1-a294-8e5f5b8f602f' title='Show/Hide data repr'><svg class='icon xr-icon-database'><use xlink:href='#icon-database'></use></svg></label><div class='xr-var-attrs'><dl class='xr-attrs'></dl></div><div class='xr-var-data'><pre>array([0.15789474, 0.93548387, 0.87012987, 0.74025974, 0.92207792,\n",
       "       0.92207792, 0.18333333, 0.92207792, 0.92207792, 0.90909091,\n",
       "       0.92207792, 0.92207792])</pre></div></li><li class='xr-var-item'><div class='xr-var-name'><span>variant_start</span></div><div class='xr-var-dims'>(variants)</div><div class='xr-var-dtype'>int64</div><div class='xr-var-preview xr-preview'>28397312 28480576 ... 28504248</div><input id='attrs-2d651d02-6db1-4672-a906-85b1a4677738' class='xr-var-attrs-in' type='checkbox' disabled><label for='attrs-2d651d02-6db1-4672-a906-85b1a4677738' title='Show/Hide attributes'><svg class='icon xr-icon-file-text2'><use xlink:href='#icon-file-text2'></use></svg></label><input id='data-860c2b72-6c28-45bc-b2c6-3ea4d7362562' class='xr-var-data-in' type='checkbox'><label for='data-860c2b72-6c28-45bc-b2c6-3ea4d7362562' title='Show/Hide data repr'><svg class='icon xr-icon-database'><use xlink:href='#icon-database'></use></svg></label><div class='xr-var-attrs'><dl class='xr-attrs'></dl></div><div class='xr-var-data'><pre>array([28397312, 28480576, 28483301, 28485262, 28487640, 28491415,\n",
       "       28491415, 28494017, 28497087, 28499251, 28501033, 28504248])</pre></div></li><li class='xr-var-item'><div class='xr-var-name'><span>variant_windows</span></div><div class='xr-var-dims'>(variants)</div><div class='xr-var-dtype'>int64</div><div class='xr-var-preview xr-preview'>397 8 6 7 6 7 7 6 6 6 7 6</div><input id='attrs-a56fe968-4f96-43ac-adc3-7e617930920e' class='xr-var-attrs-in' type='checkbox' disabled><label for='attrs-a56fe968-4f96-43ac-adc3-7e617930920e' title='Show/Hide attributes'><svg class='icon xr-icon-file-text2'><use xlink:href='#icon-file-text2'></use></svg></label><input id='data-c6050e11-8125-4dcd-844e-ecfc92c543a9' class='xr-var-data-in' type='checkbox'><label for='data-c6050e11-8125-4dcd-844e-ecfc92c543a9' title='Show/Hide data repr'><svg class='icon xr-icon-database'><use xlink:href='#icon-database'></use></svg></label><div class='xr-var-attrs'><dl class='xr-attrs'></dl></div><div class='xr-var-data'><pre>array([397,   8,   6,   7,   6,   7,   7,   6,   6,   6,   7,   6])</pre></div></li></ul></div></li><li class='xr-section-item'><input id='section-faeded45-9065-40ce-a582-41a1b9998034' class='xr-section-summary-in' type='checkbox' disabled ><label for='section-faeded45-9065-40ce-a582-41a1b9998034' class='xr-section-summary'  title='Expand/collapse section'>Indexes: <span>(0)</span></label><div class='xr-section-inline-details'></div><div class='xr-section-details'><ul class='xr-var-list'></ul></div></li><li class='xr-section-item'><input id='section-e41c0348-e453-47fa-9663-564a917e5c04' class='xr-section-summary-in' type='checkbox'  checked><label for='section-e41c0348-e453-47fa-9663-564a917e5c04' class='xr-section-summary' >Attributes: <span>(1)</span></label><div class='xr-section-inline-details'></div><div class='xr-section-details'><dl class='xr-attrs'><dt><span>title :</span></dt><dd>Gene CNV frequencies (2R:28,480,000-28,510,000)</dd></dl></div></li></ul></div></div>"
      ],
      "text/plain": [
       "<xarray.Dataset> Size: 30kB\n",
       "Dimensions:                 (cohorts: 49, variants: 12)\n",
       "Dimensions without coordinates: cohorts, variants\n",
       "Data variables: (12/28)\n",
       "    cohort_area             (cohorts) object 392B 'MW-S' 'TZ-05' ... 'KE-14'\n",
       "    cohort_label            (cohorts) object 392B 'MW-S_arab_2015' ... 'KE-14...\n",
       "    cohort_lat_max          (cohorts) float64 392B -15.93 -1.962 ... -3.511\n",
       "    cohort_lat_mean         (cohorts) float64 392B -15.93 -1.962 ... -3.511\n",
       "    cohort_lat_min          (cohorts) float64 392B -15.93 -1.962 ... -3.511\n",
       "    cohort_lon_max          (cohorts) float64 392B 34.76 31.62 ... 29.7 39.91\n",
       "    ...                      ...\n",
       "    variant_gene_name       (variants) object 96B nan 'CYP6AA1' ... 'CYP6AD1'\n",
       "    variant_gene_strand     (variants) object 96B '+' '-' '-' ... '-' '-' '-'\n",
       "    variant_label           (variants) object 96B 'AGAP002859 amp' ... 'AGAP0...\n",
       "    variant_max_af          (variants) float64 96B 0.1579 0.9355 ... 0.9221\n",
       "    variant_start           (variants) int64 96B 28397312 28480576 ... 28504248\n",
       "    variant_windows         (variants) int64 96B 397 8 6 7 6 7 7 6 6 6 7 6\n",
       "Attributes:\n",
       "    title:    Gene CNV frequencies (2R:28,480,000-28,510,000)"
      ]
     },
     "execution_count": 34,
     "metadata": {},
     "output_type": "execute_result"
    }
   ],
   "source": [
    "cyp6aap_cnv_ds = ag3.gene_cnv_frequencies_advanced(\n",
    "    region=cyp6aap_region,\n",
    "    area_by=\"admin1_iso\",  # group samples in space by admin level 1\n",
    "    period_by=\"year\",  # group samples in time by year\n",
    "    sample_sets=\"3.0\",\n",
    "    variant_query=\"max_af > 0.05\"\n",
    ")\n",
    "cyp6aap_cnv_ds"
   ]
  },
  {
   "cell_type": "markdown",
   "id": "de40a630-aef0-4e43-8c17-79fb478c89bb",
   "metadata": {
    "id": "DdrHiZM8K2C9"
   },
   "source": [
    "Then we can pass the xarray Dataset to the interactive map plotting funtion."
   ]
  },
  {
   "cell_type": "code",
   "execution_count": 35,
   "id": "9ec77855-594b-4f4e-af64-e3c816841f25",
   "metadata": {},
   "outputs": [
    {
     "data": {
      "application/vnd.jupyter.widget-view+json": {
       "model_id": "33f24e53051744de9346de7ef0c4cc3a",
       "version_major": 2,
       "version_minor": 0
      },
      "text/plain": [
       "VBox(children=(HTML(value='<h3>Gene CNV frequencies, Cyp6aa/p locus</h3>'), interactive(children=(Dropdown(des…"
      ]
     },
     "metadata": {},
     "output_type": "display_data"
    }
   ],
   "source": [
    "ag3.plot_frequencies_interactive_map(\n",
    "    cyp6aap_cnv_ds,\n",
    "    title=\"Gene CNV frequencies, Cyp6aa/p locus\"\n",
    ")"
   ]
  },
  {
   "cell_type": "markdown",
   "id": "a0c90cc2-c2fc-4e95-8a12-9fd7b2276f20",
   "metadata": {
    "id": "SDVEGci4LDfe"
   },
   "source": [
    "The drop down menus allow selection of variant, taxon and time period. Gene CNV frequencies are then plotted on the map where samples were collected. The opacity of the marker shows relative frequency, but actual values can be accessed by clicking on the marker."
   ]
  },
  {
   "cell_type": "markdown",
   "id": "84c663ea-8269-4edc-9429-e503157f3fc2",
   "metadata": {
    "tags": []
   },
   "source": [
    "N.B., you will need to run this notebook for yourself in colab in order for the interactive map to work."
   ]
  },
  {
   "cell_type": "markdown",
   "id": "0e792f1c-550d-43a9-a34e-f98a428fb7e4",
   "metadata": {
    "id": "AB3ri0crVgzT",
    "tags": []
   },
   "source": [
    "**Exercise 6 (English)**\n",
    "\n",
    "Using the interactive map we have just created - what is the frequency of *Cyp6aa1* amplifications in *An. gambiae* from Uganda area UG-E in 2012?  \n",
    "\n",
    "What is the frequency of *Cyp6p3* amplifications in *An. coluzzii* from Cote D'Ivoire area CI-LG in 2012?\n",
    "\n",
    "**Exercice 6 (Français)**\n",
    "\n",
    "En utilisant la carte interactive que nous venons de créer, quelle est la fréquence de l'amplification de *Cyp6aa1* chez les *An. gambiae* venant de la région de l'Ouganda UG-E en 2012?\n",
    "\n",
    "Quelle est la fréquence de l'amplification de *Cyp6p3* chez les *An. coluzzii* venant de la région CI-LG de la Côte D'Ivoire en 2012?"
   ]
  },
  {
   "cell_type": "markdown",
   "id": "c88299bb-92b9-4b15-9ca9-7fd84c118f60",
   "metadata": {
    "id": "vTocz1Nf96vQ",
    "tags": []
   },
   "source": [
    "## Well done!\n",
    "\n",
    "In this module we have learnt how to analyse CNVs in genes that are associated with metabolic insecticide resistance in the *Anopheles gambiae* complex.\n",
    "\n",
    "We have computed the frequency of copy number variation in genes of interest, and learnt different ways to compare these frequencies between mosquitoes from different time points, geographical locations and species."
   ]
  },
  {
   "cell_type": "markdown",
   "id": "c390d19f-044e-4388-b777-c2747d638d83",
   "metadata": {
    "id": "1cwp4JmESlC9"
   },
   "source": [
    "## Exercises\n",
    "\n",
    "### English\n",
    "\n",
    "Open this notebook in Google Colab and run it for yourself from top to bottom. As you run through the notebook, cell by cell, think about what each cell is doing, and try the practical exercises along the way.\n",
    "\n",
    "Have go at the practical exercises, but please don't worry if you don't have time to do them all during the practical session, and please ask the teaching assistants for help if you are stuck.\n",
    "\n",
    "Hint: To open the notebook in Google Colab, click the rocket icon at the top of the page, then select “Colab” from the drop-down menu.\n",
    "  \n",
    "### Français\n",
    "\n",
    "Ouvrir ce notebook dans Google Colab et l'exécuter vous-même du début à la fin. Pendant que vous exécutez le notebook, cellule par cellule, pensez à ce que chaque cellule fait et essayez de faire les exercices quand vous les rencontrez.\n",
    "\n",
    "Essayez de faire les exercices mais ne vous inquiétez pas si vous n'avez pas le temps de tout faire pendant la séance appliquée et n'hésitez pas à demander aux enseignants assistants si vous avez besoin d'aide parce que vous êtes bloqués.\n",
    "\n",
    "Indice: Pour ouvrir le notebook dans Google Colab, cliquer sur l'icône de fusée au sommet de cette page puis choisissez \"Colab\" dans le menu déroulant."
   ]
  },
  {
   "cell_type": "code",
   "execution_count": null,
   "id": "fb35866f-232d-4007-a4cf-72690c27176d",
   "metadata": {},
   "outputs": [],
   "source": []
  }
 ],
 "metadata": {
  "celltoolbar": "Tags",
  "kernelspec": {
   "display_name": "developer-developer-training-nb-maintenance-mgen-15.0.1",
   "language": "python",
   "name": "conda-env-developer-developer-training-nb-maintenance-mgen-15.0.1-py"
  },
  "language_info": {
   "codemirror_mode": {
    "name": "ipython",
    "version": 3
   },
   "file_extension": ".py",
   "mimetype": "text/x-python",
   "name": "python",
   "nbconvert_exporter": "python",
   "pygments_lexer": "ipython3",
   "version": "3.11.11"
  },
  "widgets": {
   "application/vnd.jupyter.widget-state+json": {
    "state": {
     "00253f09e79b4aeda6e78d489ea7884d": {
      "model_module": "@jupyter-widgets/base",
      "model_module_version": "1.2.0",
      "model_name": "LayoutModel",
      "state": {}
     },
     "004ddc173bb845fa9e55fb2d15451a38": {
      "model_module": "@jupyter-widgets/controls",
      "model_module_version": "1.5.0",
      "model_name": "DescriptionStyleModel",
      "state": {
       "description_width": ""
      }
     },
     "00765edb2ef1474eb3bab46483163a1b": {
      "model_module": "@jupyter-widgets/base",
      "model_module_version": "1.2.0",
      "model_name": "LayoutModel",
      "state": {}
     },
     "00999074fa3e4aecaace0260650e2715": {
      "model_module": "jupyter-leaflet",
      "model_module_version": "^0.17.0",
      "model_name": "LeafletPopupModel",
      "state": {
       "_model_module_version": "^0.17.0",
       "_view_module_version": "^0.17.0",
       "auto_close": true,
       "auto_pan": true,
       "auto_pan_padding": [
        5,
        5
       ],
       "auto_pan_padding_bottom_right": null,
       "auto_pan_padding_top_left": null,
       "child": "IPY_MODEL_e18b16f12b074806a75185d29cd7952b",
       "close_button": true,
       "close_on_escape_key": true,
       "keep_in_view": false,
       "options": [
        "auto_close",
        "auto_pan",
        "auto_pan_padding",
        "auto_pan_padding_bottom_right",
        "auto_pan_padding_top_left",
        "close_button",
        "close_on_escape_key",
        "keep_in_view",
        "max_height",
        "max_width",
        "min_width"
       ]
      }
     },
     "00b3913ccdb64c1ba7a08da9e9b71b18": {
      "model_module": "@jupyter-widgets/base",
      "model_module_version": "1.2.0",
      "model_name": "LayoutModel",
      "state": {}
     },
     "00c6229688f34d3594a2983dde5bf295": {
      "model_module": "@jupyter-widgets/controls",
      "model_module_version": "1.5.0",
      "model_name": "HTMLModel",
      "state": {
       "layout": "IPY_MODEL_762d1e3dd4c1479aac7c335b2181130c",
       "style": "IPY_MODEL_5a7b6169e4ef48169919b27e3d9f1c47",
       "value": "Compute modal gene copy number:   0%"
      }
     },
     "00ebd1ecb7714222b29d7cb802d84d79": {
      "model_module": "@jupyter-widgets/controls",
      "model_module_version": "1.5.0",
      "model_name": "DescriptionStyleModel",
      "state": {
       "description_width": ""
      }
     },
     "011786e33216475198342616b65d21dc": {
      "model_module": "jupyter-leaflet",
      "model_module_version": "^0.17.0",
      "model_name": "LeafletPopupModel",
      "state": {
       "_model_module_version": "^0.17.0",
       "_view_module_version": "^0.17.0",
       "auto_close": true,
       "auto_pan": true,
       "auto_pan_padding": [
        5,
        5
       ],
       "auto_pan_padding_bottom_right": null,
       "auto_pan_padding_top_left": null,
       "child": "IPY_MODEL_97a11e7664094106af2e7a7fc8b7839d",
       "close_button": true,
       "close_on_escape_key": true,
       "keep_in_view": false,
       "options": [
        "auto_close",
        "auto_pan",
        "auto_pan_padding",
        "auto_pan_padding_bottom_right",
        "auto_pan_padding_top_left",
        "close_button",
        "close_on_escape_key",
        "keep_in_view",
        "max_height",
        "max_width",
        "min_width"
       ]
      }
     },
     "0134b845adc841d3af7e224223e759ab": {
      "model_module": "@jupyter-widgets/controls",
      "model_module_version": "1.5.0",
      "model_name": "ProgressStyleModel",
      "state": {
       "description_width": ""
      }
     },
     "015cb4ad4a6f48dca47d92b79b6b7f60": {
      "model_module": "@jupyter-widgets/base",
      "model_module_version": "1.2.0",
      "model_name": "LayoutModel",
      "state": {}
     },
     "01c33b7680b847f5b9270823616d1a17": {
      "model_module": "@jupyter-widgets/base",
      "model_module_version": "1.2.0",
      "model_name": "LayoutModel",
      "state": {}
     },
     "021e339f058548c5b6ec91c9a21b622f": {
      "model_module": "@jupyter-widgets/controls",
      "model_module_version": "1.5.0",
      "model_name": "DescriptionStyleModel",
      "state": {
       "description_width": ""
      }
     },
     "0227f40b494a41c7a1d652e6425972ee": {
      "model_module": "@jupyter-widgets/controls",
      "model_module_version": "1.5.0",
      "model_name": "DescriptionStyleModel",
      "state": {
       "description_width": ""
      }
     },
     "02afd23dba1145fab120bff552a91c66": {
      "model_module": "@jupyter-widgets/base",
      "model_module_version": "1.2.0",
      "model_name": "LayoutModel",
      "state": {
       "visibility": "hidden"
      }
     },
     "02b57e2af6fb426aa09d923379df60c2": {
      "model_module": "@jupyter-widgets/base",
      "model_module_version": "1.2.0",
      "model_name": "LayoutModel",
      "state": {}
     },
     "042153490eda4b629cfa078504d167e0": {
      "model_module": "@jupyter-widgets/controls",
      "model_module_version": "1.5.0",
      "model_name": "HTMLModel",
      "state": {
       "layout": "IPY_MODEL_5901da7336ce4ce8b0626dd4aaaf7f84",
       "style": "IPY_MODEL_8c4c34497aee41fe866e06a4a7b6273c",
       "value": "\n                Variant frequencies are shown as coloured markers. Opacity of color\n                denotes frequency. Click on a marker for more information.\n            "
      }
     },
     "04d9650211f04279ad82c92427f0bed7": {
      "model_module": "@jupyter-widgets/controls",
      "model_module_version": "1.5.0",
      "model_name": "DescriptionStyleModel",
      "state": {
       "description_width": ""
      }
     },
     "04db58bf37d24946b04b25a7f0f39d12": {
      "model_module": "@jupyter-widgets/controls",
      "model_module_version": "1.5.0",
      "model_name": "FloatProgressModel",
      "state": {
       "layout": "IPY_MODEL_67a8c3f408d64487817ce0659da9d958",
       "max": 56,
       "style": "IPY_MODEL_68bb7292dbfe4a6a84135818c35a980e",
       "value": 56
      }
     },
     "056b864d605b4e24a01872a6ccd52834": {
      "model_module": "@jupyter-widgets/base",
      "model_module_version": "1.2.0",
      "model_name": "LayoutModel",
      "state": {}
     },
     "0599f297328d49a0b86aa4964192013c": {
      "model_module": "@jupyter-widgets/controls",
      "model_module_version": "1.5.0",
      "model_name": "DescriptionStyleModel",
      "state": {
       "description_width": ""
      }
     },
     "0626236a21a949d1af68e09bf893af27": {
      "model_module": "@jupyter-widgets/base",
      "model_module_version": "1.2.0",
      "model_name": "LayoutModel",
      "state": {
       "visibility": "hidden"
      }
     },
     "06f8d6dbedaa4e1ca9d4cc42bc0b7ca5": {
      "model_module": "@jupyter-widgets/controls",
      "model_module_version": "1.5.0",
      "model_name": "DescriptionStyleModel",
      "state": {
       "description_width": ""
      }
     },
     "082819ed84d741178f473363b84a8560": {
      "model_module": "@jupyter-widgets/controls",
      "model_module_version": "1.5.0",
      "model_name": "ProgressStyleModel",
      "state": {
       "description_width": ""
      }
     },
     "09245ae71893407cb508d828d0c07f05": {
      "model_module": "@jupyter-widgets/controls",
      "model_module_version": "1.5.0",
      "model_name": "HTMLModel",
      "state": {
       "layout": "IPY_MODEL_898c080a78284f428fa01c107e4b9f80",
       "style": "IPY_MODEL_90e616990f89458dab0c9a0fea7d51c2",
       "value": "Load CNV HMM data:  98%"
      }
     },
     "0acb63d0574b459c9b4cdc3222683fef": {
      "model_module": "jupyter-leaflet",
      "model_module_version": "^0.17.0",
      "model_name": "LeafletPopupModel",
      "state": {
       "_model_module_version": "^0.17.0",
       "_view_module_version": "^0.17.0",
       "auto_close": true,
       "auto_pan": true,
       "auto_pan_padding": [
        5,
        5
       ],
       "auto_pan_padding_bottom_right": null,
       "auto_pan_padding_top_left": null,
       "child": "IPY_MODEL_8fd2f0df8ecd410ca709d09718637c13",
       "close_button": true,
       "close_on_escape_key": true,
       "keep_in_view": false,
       "options": [
        "auto_close",
        "auto_pan",
        "auto_pan_padding",
        "auto_pan_padding_bottom_right",
        "auto_pan_padding_top_left",
        "close_button",
        "close_on_escape_key",
        "keep_in_view",
        "max_height",
        "max_width",
        "min_width"
       ]
      }
     },
     "0b3741a19c8d48a2b39f1211631687e2": {
      "model_module": "@jupyter-widgets/controls",
      "model_module_version": "1.5.0",
      "model_name": "HTMLModel",
      "state": {
       "layout": "IPY_MODEL_e9c5db2c7bba4261898baacd57b83be1",
       "style": "IPY_MODEL_6ec483da785942a8a0397be5b9e62489",
       "value": "Load CNV HMM data:  88%"
      }
     },
     "0b9bb14b26464c6dae986d53aa18c9db": {
      "model_module": "@jupyter-widgets/base",
      "model_module_version": "1.2.0",
      "model_name": "LayoutModel",
      "state": {}
     },
     "0bc821a2b29048b2853f3052a6949695": {
      "model_module": "@jupyter-widgets/controls",
      "model_module_version": "1.5.0",
      "model_name": "HTMLModel",
      "state": {
       "layout": "IPY_MODEL_423137f13700461d8374a955524f0f6a",
       "style": "IPY_MODEL_2709f20451b349ae84fb105c14b02ac9",
       "value": "Load CNV HMM data:  99%"
      }
     },
     "0bdebf7ffdd9487e885a2063c5e9f16a": {
      "model_module": "@jupyter-widgets/controls",
      "model_module_version": "1.5.0",
      "model_name": "HTMLModel",
      "state": {
       "layout": "IPY_MODEL_a8d39c7a249049ea975b034e34ed5868",
       "style": "IPY_MODEL_444b396304aa49638b8f338f04869252",
       "value": "Load CNV HMM data: 100%"
      }
     },
     "0c355676891d477bb497afd18d63ec64": {
      "model_module": "@jupyter-widgets/base",
      "model_module_version": "1.2.0",
      "model_name": "LayoutModel",
      "state": {}
     },
     "0c4081481ad2447fa337781771540925": {
      "model_module": "@jupyter-widgets/base",
      "model_module_version": "1.2.0",
      "model_name": "LayoutModel",
      "state": {}
     },
     "0c6dec341a28420288f6efb5ddac776f": {
      "model_module": "@jupyter-widgets/controls",
      "model_module_version": "1.5.0",
      "model_name": "DescriptionStyleModel",
      "state": {
       "description_width": ""
      }
     },
     "0d111087e2a44b4c978eab95020d7ad4": {
      "model_module": "@jupyter-widgets/base",
      "model_module_version": "1.2.0",
      "model_name": "LayoutModel",
      "state": {}
     },
     "0d1d860cf44a49158e959c4703126fcc": {
      "model_module": "@jupyter-widgets/controls",
      "model_module_version": "1.5.0",
      "model_name": "DescriptionStyleModel",
      "state": {
       "description_width": ""
      }
     },
     "0dcfe88bf120493d8d2c3e6fa6575e27": {
      "model_module": "@jupyter-widgets/controls",
      "model_module_version": "1.5.0",
      "model_name": "DescriptionStyleModel",
      "state": {
       "description_width": ""
      }
     },
     "0eccacced4c84cb3933970acd56cd524": {
      "model_module": "@jupyter-widgets/controls",
      "model_module_version": "1.5.0",
      "model_name": "DescriptionStyleModel",
      "state": {
       "description_width": ""
      }
     },
     "0f1532d9f3da4df0b6d795670a1e2103": {
      "model_module": "@jupyter-widgets/controls",
      "model_module_version": "1.5.0",
      "model_name": "HTMLModel",
      "state": {
       "layout": "IPY_MODEL_97714596057342a79439e984f66e7c78",
       "style": "IPY_MODEL_62de27325114427492348e75a2a65b26",
       "value": " 0/11 [00:00&lt;?, ?it/s]"
      }
     },
     "0fa58dc1579744aabe7a2a584b986e15": {
      "model_module": "@jupyter-widgets/controls",
      "model_module_version": "1.5.0",
      "model_name": "FloatProgressModel",
      "state": {
       "layout": "IPY_MODEL_c34e0d078003440995b9c8753e3ae724",
       "max": 504,
       "style": "IPY_MODEL_54c1528e7a824b029c836645adbe5adc",
       "value": 504
      }
     },
     "1160a56ea39b489e8db2d21901baf769": {
      "model_module": "@jupyter-widgets/base",
      "model_module_version": "1.2.0",
      "model_name": "LayoutModel",
      "state": {}
     },
     "11c23f946a1b42a58e2887d994c13b50": {
      "model_module": "@jupyter-widgets/base",
      "model_module_version": "1.2.0",
      "model_name": "LayoutModel",
      "state": {}
     },
     "12484d88cc5f4fa3be717286524bd186": {
      "model_module": "@jupyter-widgets/base",
      "model_module_version": "1.2.0",
      "model_name": "LayoutModel",
      "state": {}
     },
     "12fe7aa9e20d4447898a5caf141c19c3": {
      "model_module": "@jupyter-widgets/controls",
      "model_module_version": "1.5.0",
      "model_name": "DescriptionStyleModel",
      "state": {
       "description_width": ""
      }
     },
     "13603472f9f644069e5b5feaf14fb906": {
      "model_module": "@jupyter-widgets/controls",
      "model_module_version": "1.5.0",
      "model_name": "HTMLModel",
      "state": {
       "layout": "IPY_MODEL_12484d88cc5f4fa3be717286524bd186",
       "style": "IPY_MODEL_cc4ec0667a484bb4956142ea97fa9a5e",
       "value": "\n                <strong>AGAP002862 (CYP6AA1) amp</strong> <br/>\n                Taxon: gambiae <br/>\n                Area: ML-3 <br/>\n                Period: 2012 <br/>\n                Sample size: 64 <br/>\n                Frequency: 11%\n                (95% CI: 5% - 21%)\n            "
      }
     },
     "13a61774bd264dd0bf4a77f98dbb45df": {
      "model_module": "@jupyter-widgets/base",
      "model_module_version": "1.2.0",
      "model_name": "LayoutModel",
      "state": {}
     },
     "13d56cf3dd3943e99ea4800d5e752e8e": {
      "model_module": "@jupyter-widgets/controls",
      "model_module_version": "1.5.0",
      "model_name": "HTMLModel",
      "state": {
       "layout": "IPY_MODEL_a0b20af7f87241f29e61363299d728eb",
       "style": "IPY_MODEL_30936765047e405a98e1e070e2188cda",
       "value": "Compute modal gene copy number:   0%"
      }
     },
     "13e2f606954a401390a06ed5dd8bbe05": {
      "model_module": "jupyter-leaflet",
      "model_module_version": "^0.17.0",
      "model_name": "LeafletCircleMarkerModel",
      "state": {
       "_model_module_version": "^0.17.0",
       "_view_module_version": "^0.17.0",
       "color": "black",
       "fill_color": "red",
       "fill_opacity": 0,
       "location": [
        5.668,
        -0.219
       ],
       "options": [
        "color",
        "dash_array",
        "fill",
        "fill_color",
        "fill_opacity",
        "line_cap",
        "line_join",
        "opacity",
        "pointer_events",
        "radius",
        "stroke",
        "weight"
       ],
       "popup": "IPY_MODEL_6cf56901673a4945b63b936274de8d73",
       "radius": 20,
       "weight": 1
      }
     },
     "146a99b9d72b4217b84fa62a1a4fd732": {
      "model_module": "@jupyter-widgets/base",
      "model_module_version": "1.2.0",
      "model_name": "LayoutModel",
      "state": {}
     },
     "1488466efeb04058b5674ccc3ce8ff07": {
      "model_module": "@jupyter-widgets/controls",
      "model_module_version": "1.5.0",
      "model_name": "DescriptionStyleModel",
      "state": {
       "description_width": ""
      }
     },
     "14ba79bf36444160ab16759c0e41d69b": {
      "model_module": "@jupyter-widgets/controls",
      "model_module_version": "1.5.0",
      "model_name": "HTMLModel",
      "state": {
       "layout": "IPY_MODEL_a3795bd7ce064424bd34d3d02168e9f3",
       "style": "IPY_MODEL_84e508f4e49b48b7a4a305611ab071fb",
       "value": " 0/11 [00:00&lt;?, ?it/s]"
      }
     },
     "15a659bc4ed64144bbb1fac9c689115e": {
      "model_module": "@jupyter-widgets/base",
      "model_module_version": "1.2.0",
      "model_name": "LayoutModel",
      "state": {}
     },
     "160f7e4fe7ac4569986ddd2afe627776": {
      "model_module": "@jupyter-widgets/base",
      "model_module_version": "1.2.0",
      "model_name": "LayoutModel",
      "state": {}
     },
     "163ccd42dc7a4b6aa64597c2af39da7b": {
      "model_module": "@jupyter-widgets/controls",
      "model_module_version": "1.5.0",
      "model_name": "ProgressStyleModel",
      "state": {
       "description_width": ""
      }
     },
     "165a2a07a82440a393ad96c6a37e7a8f": {
      "model_module": "@jupyter-widgets/base",
      "model_module_version": "1.2.0",
      "model_name": "LayoutModel",
      "state": {}
     },
     "17d17aa49a354c8cb5c45f8ad688440c": {
      "model_module": "@jupyter-widgets/controls",
      "model_module_version": "1.5.0",
      "model_name": "DescriptionStyleModel",
      "state": {
       "description_width": ""
      }
     },
     "1881c29a981346e59d1acb8dc3b1b00a": {
      "model_module": "@jupyter-widgets/controls",
      "model_module_version": "1.5.0",
      "model_name": "DescriptionStyleModel",
      "state": {
       "description_width": ""
      }
     },
     "18b5038b850e4f20a7257e53d2fec781": {
      "model_module": "@jupyter-widgets/base",
      "model_module_version": "1.2.0",
      "model_name": "LayoutModel",
      "state": {}
     },
     "18f8875ac626476abe530ed8059a98d3": {
      "model_module": "@jupyter-widgets/controls",
      "model_module_version": "1.5.0",
      "model_name": "DescriptionStyleModel",
      "state": {
       "description_width": ""
      }
     },
     "191377a9ea284e8c97c233f3f4483bb5": {
      "model_module": "@jupyter-widgets/controls",
      "model_module_version": "1.5.0",
      "model_name": "ProgressStyleModel",
      "state": {
       "description_width": ""
      }
     },
     "196c857cb0bb4517bc6472628d56289d": {
      "model_module": "@jupyter-widgets/base",
      "model_module_version": "1.2.0",
      "model_name": "LayoutModel",
      "state": {}
     },
     "196e4cd0be2e4f2ba9e621f2f5d28f15": {
      "model_module": "@jupyter-widgets/base",
      "model_module_version": "1.2.0",
      "model_name": "LayoutModel",
      "state": {
       "visibility": "hidden"
      }
     },
     "1a5f2a83d80b44e7908a07d77e34d8ec": {
      "model_module": "@jupyter-widgets/base",
      "model_module_version": "1.2.0",
      "model_name": "LayoutModel",
      "state": {}
     },
     "1b531d46840e47eba6e73e840c1f27df": {
      "model_module": "@jupyter-widgets/base",
      "model_module_version": "1.2.0",
      "model_name": "LayoutModel",
      "state": {}
     },
     "1b5a6d32c7294397bd6ccdcf18422ab6": {
      "model_module": "@jupyter-widgets/base",
      "model_module_version": "1.2.0",
      "model_name": "LayoutModel",
      "state": {}
     },
     "1bde6dbdbcce4b50acb3866167c22af2": {
      "model_module": "@jupyter-widgets/controls",
      "model_module_version": "1.5.0",
      "model_name": "HTMLModel",
      "state": {
       "layout": "IPY_MODEL_00765edb2ef1474eb3bab46483163a1b",
       "style": "IPY_MODEL_00ebd1ecb7714222b29d7cb802d84d79",
       "value": "Load CNV HMM data:  99%"
      }
     },
     "1cce04ffb3074f24a2e2ec390d351046": {
      "model_module": "jupyter-leaflet",
      "model_module_version": "^0.17.0",
      "model_name": "LeafletCircleMarkerModel",
      "state": {
       "_model_module_version": "^0.17.0",
       "_view_module_version": "^0.17.0",
       "color": "black",
       "fill_color": "red",
       "fill_opacity": 0.043478260869565216,
       "location": [
        6.094,
        -0.261
       ],
       "options": [
        "color",
        "dash_array",
        "fill",
        "fill_color",
        "fill_opacity",
        "line_cap",
        "line_join",
        "opacity",
        "pointer_events",
        "radius",
        "stroke",
        "weight"
       ],
       "popup": "IPY_MODEL_2fdc280602b84919892684e3506c51df",
       "radius": 20,
       "weight": 1
      }
     },
     "1d59e4779fd641b894f2f96a09d29a70": {
      "model_module": "@jupyter-widgets/controls",
      "model_module_version": "1.5.0",
      "model_name": "DescriptionStyleModel",
      "state": {
       "description_width": ""
      }
     },
     "1d999b7b348f4d8293bd41fac027c13c": {
      "model_module": "@jupyter-widgets/base",
      "model_module_version": "1.2.0",
      "model_name": "LayoutModel",
      "state": {}
     },
     "1da856b13c924ed48319e4d0a5b6919d": {
      "model_module": "@jupyter-widgets/controls",
      "model_module_version": "1.5.0",
      "model_name": "DropdownModel",
      "state": {
       "_options_labels": [
        "AGAP002859 amp",
        "AGAP002862 (CYP6AA1) amp",
        "AGAP013128 (CYP6AA2) amp",
        "AGAP002863 (COEAE6O) amp",
        "AGAP002864 (CYP6P15P) amp",
        "AGAP002865 (CYP6P3) amp",
        "AGAP002865 (CYP6P3) del",
        "AGAP002866 (CYP6P5) amp",
        "AGAP002867 (CYP6P4) amp",
        "AGAP002868 (CYP6P1) amp",
        "AGAP002869 (CYP6P2) amp",
        "AGAP002870 (CYP6AD1) amp"
       ],
       "description": "Variant: ",
       "index": 0,
       "layout": "IPY_MODEL_c3df74bfa4084ed0ba8c0953780859d8",
       "style": "IPY_MODEL_43f58f6e06134fcdb210444a09edbc47"
      }
     },
     "1dad972bda8b4724807b516749b36be8": {
      "model_module": "@jupyter-widgets/base",
      "model_module_version": "1.2.0",
      "model_name": "LayoutModel",
      "state": {}
     },
     "1e1e3abaa9fc4fcf942c4dd39e951296": {
      "model_module": "@jupyter-widgets/controls",
      "model_module_version": "1.5.0",
      "model_name": "DescriptionStyleModel",
      "state": {
       "description_width": ""
      }
     },
     "1e26bdbf1cb3478781fa3ac9580309fa": {
      "model_module": "@jupyter-widgets/controls",
      "model_module_version": "1.5.0",
      "model_name": "FloatProgressModel",
      "state": {
       "layout": "IPY_MODEL_607cd655a5e14262839c599cdeed75bb",
       "max": 11,
       "style": "IPY_MODEL_c62d71fbfd974ee7b8a86d289b3a99ac",
       "value": 11
      }
     },
     "1e5a0d7ac7a74cc992d9f41ce8c3e3e1": {
      "model_module": "@jupyter-widgets/controls",
      "model_module_version": "1.5.0",
      "model_name": "ProgressStyleModel",
      "state": {
       "description_width": ""
      }
     },
     "1f198434905549f891cf000ccee278b1": {
      "model_module": "@jupyter-widgets/controls",
      "model_module_version": "1.5.0",
      "model_name": "FloatProgressModel",
      "state": {
       "layout": "IPY_MODEL_d145427957a842feab10d70cbb1fdabb",
       "max": 56,
       "style": "IPY_MODEL_191377a9ea284e8c97c233f3f4483bb5",
       "value": 56
      }
     },
     "1ff0d21936694efaaada44d8238c7ddc": {
      "model_module": "@jupyter-widgets/base",
      "model_module_version": "1.2.0",
      "model_name": "LayoutModel",
      "state": {
       "visibility": "hidden"
      }
     },
     "20325a6e5c654db3911a205f6ecb07ec": {
      "model_module": "@jupyter-widgets/controls",
      "model_module_version": "1.5.0",
      "model_name": "DescriptionStyleModel",
      "state": {
       "description_width": ""
      }
     },
     "207dcf7c6615442dbfc54ff90e2dd305": {
      "model_module": "@jupyter-widgets/base",
      "model_module_version": "1.2.0",
      "model_name": "LayoutModel",
      "state": {}
     },
     "210918e1264141ddb03bb5e70e26311c": {
      "model_module": "@jupyter-widgets/controls",
      "model_module_version": "1.5.0",
      "model_name": "FloatProgressModel",
      "state": {
       "layout": "IPY_MODEL_3550ac4888c1411fa99042916f99c724",
       "max": 504,
       "style": "IPY_MODEL_6a4ac1b8713c4dadb6b4c44bbcaf9618",
       "value": 504
      }
     },
     "2186f10e9296477ab82bb78434e8e563": {
      "model_module": "@jupyter-widgets/base",
      "model_module_version": "1.2.0",
      "model_name": "LayoutModel",
      "state": {}
     },
     "22298ead5771472e880bea7f3a8bfa01": {
      "model_module": "@jupyter-widgets/base",
      "model_module_version": "1.2.0",
      "model_name": "LayoutModel",
      "state": {}
     },
     "223b9b26e9c94b23b85413ff2bd3abbd": {
      "model_module": "@jupyter-widgets/controls",
      "model_module_version": "1.5.0",
      "model_name": "ProgressStyleModel",
      "state": {
       "description_width": ""
      }
     },
     "232e669ab64647218cff411a9e9ade0d": {
      "model_module": "@jupyter-widgets/base",
      "model_module_version": "1.2.0",
      "model_name": "LayoutModel",
      "state": {}
     },
     "2492b605e39048d383b0bdf7dc5a463f": {
      "model_module": "@jupyter-widgets/base",
      "model_module_version": "1.2.0",
      "model_name": "LayoutModel",
      "state": {}
     },
     "24b97ccef2a6413799e6074e8b199c27": {
      "model_module": "@jupyter-widgets/base",
      "model_module_version": "1.2.0",
      "model_name": "LayoutModel",
      "state": {}
     },
     "24dce9465d57420c903d9cd264cd9e70": {
      "model_module": "@jupyter-widgets/controls",
      "model_module_version": "1.5.0",
      "model_name": "FloatProgressModel",
      "state": {
       "layout": "IPY_MODEL_fbbbe4763a3e425a9397cda6696d5339",
       "max": 11,
       "style": "IPY_MODEL_6148d45a01724cc8a890adca3721bd5c",
       "value": 11
      }
     },
     "24f51c4cf5cb4c01a52fa5e68dc5cdd9": {
      "model_module": "@jupyter-widgets/controls",
      "model_module_version": "1.5.0",
      "model_name": "DescriptionStyleModel",
      "state": {
       "description_width": ""
      }
     },
     "255a3f22c10d49c6a62a5dda34ba58ee": {
      "model_module": "@jupyter-widgets/base",
      "model_module_version": "1.2.0",
      "model_name": "LayoutModel",
      "state": {}
     },
     "26148f9142684af18a75eafa2a7eccb9": {
      "model_module": "@jupyter-widgets/controls",
      "model_module_version": "1.5.0",
      "model_name": "FloatProgressModel",
      "state": {
       "layout": "IPY_MODEL_c6788d0f867a48d097935ba0d8634769",
       "max": 56,
       "style": "IPY_MODEL_163ccd42dc7a4b6aa64597c2af39da7b",
       "value": 56
      }
     },
     "26b76dbb5ef442fdb77551d25b5b5add": {
      "model_module": "@jupyter-widgets/controls",
      "model_module_version": "1.5.0",
      "model_name": "HTMLModel",
      "state": {
       "layout": "IPY_MODEL_419b5199edc3463eb5d7f8cdadd6376d",
       "style": "IPY_MODEL_2de6b598521e4b838f0527c91a72d3c4",
       "value": "Load CNV HMM data:  99%"
      }
     },
     "26c4adcfba5c41dfbd972d8fc6b45dfb": {
      "model_module": "@jupyter-widgets/controls",
      "model_module_version": "1.5.0",
      "model_name": "HTMLModel",
      "state": {
       "layout": "IPY_MODEL_c0a02b1451f641299facb89f1bc6068d",
       "style": "IPY_MODEL_58fcb2345f47473086f5aec4a174c23c",
       "value": " 51/56 [00:01&lt;00:00, 31.97it/s]"
      }
     },
     "2709f20451b349ae84fb105c14b02ac9": {
      "model_module": "@jupyter-widgets/controls",
      "model_module_version": "1.5.0",
      "model_name": "DescriptionStyleModel",
      "state": {
       "description_width": ""
      }
     },
     "279a108df36a4e4f92c24731fdc57ee4": {
      "model_module": "@jupyter-widgets/base",
      "model_module_version": "1.2.0",
      "model_name": "LayoutModel",
      "state": {
       "visibility": "hidden"
      }
     },
     "286637e93d2a491c86e5f7781aa8d9d4": {
      "model_module": "@jupyter-widgets/controls",
      "model_module_version": "1.5.0",
      "model_name": "FloatProgressModel",
      "state": {
       "layout": "IPY_MODEL_35e64ebe00bd49cf96d86e4bb99c54a1",
       "max": 11,
       "style": "IPY_MODEL_7a9ceefd51a146bda949eae9e164800b",
       "value": 11
      }
     },
     "291f2ad9cf9b442292d0c7e3fed5561d": {
      "model_module": "@jupyter-widgets/controls",
      "model_module_version": "1.5.0",
      "model_name": "ProgressStyleModel",
      "state": {
       "description_width": ""
      }
     },
     "2a5e7ef9ed454f93bcca953dff2f09af": {
      "model_module": "@jupyter-widgets/controls",
      "model_module_version": "1.5.0",
      "model_name": "DescriptionStyleModel",
      "state": {
       "description_width": ""
      }
     },
     "2a98d625bb3d41a09082823a41053c2d": {
      "model_module": "@jupyter-widgets/controls",
      "model_module_version": "1.5.0",
      "model_name": "DescriptionStyleModel",
      "state": {
       "description_width": ""
      }
     },
     "2ac0bb6ba27e4bf193fda8ed6f8edcf3": {
      "model_module": "@jupyter-widgets/base",
      "model_module_version": "1.2.0",
      "model_name": "LayoutModel",
      "state": {}
     },
     "2ba42e9d6a5d45aaa62939619ac43d59": {
      "model_module": "@jupyter-widgets/base",
      "model_module_version": "1.2.0",
      "model_name": "LayoutModel",
      "state": {}
     },
     "2ba458981b974de6b3c8ff29ac12c782": {
      "model_module": "@jupyter-widgets/controls",
      "model_module_version": "1.5.0",
      "model_name": "HTMLModel",
      "state": {
       "layout": "IPY_MODEL_619c3fa0fae94d49a07954d588d4f047",
       "style": "IPY_MODEL_e2ed2b25128c4e099a580e3683099786",
       "value": " 55/56 [00:02&lt;00:00, 33.54it/s]"
      }
     },
     "2c0b58d4d87b4722b633b90afe63dae6": {
      "model_module": "@jupyter-widgets/base",
      "model_module_version": "1.2.0",
      "model_name": "LayoutModel",
      "state": {}
     },
     "2c86c23acf7f4ccf8a29f08fd52d96ca": {
      "model_module": "@jupyter-widgets/controls",
      "model_module_version": "1.5.0",
      "model_name": "DescriptionStyleModel",
      "state": {
       "description_width": ""
      }
     },
     "2cb82d4486924c83a9d547870dfffb07": {
      "model_module": "@jupyter-widgets/output",
      "model_module_version": "1.0.0",
      "model_name": "OutputModel",
      "state": {
       "layout": "IPY_MODEL_87114002028646fdb20dd4f3051ffd51"
      }
     },
     "2d97613aaf45427c844ad1f858927d31": {
      "model_module": "@jupyter-widgets/controls",
      "model_module_version": "1.5.0",
      "model_name": "FloatProgressModel",
      "state": {
       "layout": "IPY_MODEL_860fcd836da343b988e21ad71344b27d",
       "max": 11,
       "style": "IPY_MODEL_fd67a22de7a04b5e9519e5d8f8c130b3",
       "value": 11
      }
     },
     "2dd33fd4852c4a3c8044fb8125bf0be1": {
      "model_module": "@jupyter-widgets/controls",
      "model_module_version": "1.5.0",
      "model_name": "DescriptionStyleModel",
      "state": {
       "description_width": ""
      }
     },
     "2de6b598521e4b838f0527c91a72d3c4": {
      "model_module": "@jupyter-widgets/controls",
      "model_module_version": "1.5.0",
      "model_name": "DescriptionStyleModel",
      "state": {
       "description_width": ""
      }
     },
     "2e0330a48f48480ca9ec08427a09c853": {
      "model_module": "jupyter-leaflet",
      "model_module_version": "^0.17.0",
      "model_name": "LeafletMapStyleModel",
      "state": {
       "_model_module_version": "^0.17.0"
      }
     },
     "2ecb3d96735e41db96d61cef3af1df08": {
      "model_module": "@jupyter-widgets/controls",
      "model_module_version": "1.5.0",
      "model_name": "HTMLModel",
      "state": {
       "layout": "IPY_MODEL_c85f43774b1c4f8786351cbda2a7e82c",
       "style": "IPY_MODEL_0599f297328d49a0b86aa4964192013c",
       "value": "Compute modal gene copy number:   0%"
      }
     },
     "2ed8a1a9e2b24dd0b3229fad77d48508": {
      "model_module": "@jupyter-widgets/base",
      "model_module_version": "1.2.0",
      "model_name": "LayoutModel",
      "state": {}
     },
     "2f15d993a97f401eb12e52859b862617": {
      "model_module": "@jupyter-widgets/base",
      "model_module_version": "1.2.0",
      "model_name": "LayoutModel",
      "state": {}
     },
     "2f95e74e90f5446a80df6aee00baed7e": {
      "model_module": "@jupyter-widgets/controls",
      "model_module_version": "1.5.0",
      "model_name": "HTMLModel",
      "state": {
       "layout": "IPY_MODEL_a11bd42c0f93457daec0f84c69afd5e0",
       "style": "IPY_MODEL_1e1e3abaa9fc4fcf942c4dd39e951296",
       "value": " 503/504 [00:17&lt;00:00, 33.95it/s]"
      }
     },
     "2fdc280602b84919892684e3506c51df": {
      "model_module": "jupyter-leaflet",
      "model_module_version": "^0.17.0",
      "model_name": "LeafletPopupModel",
      "state": {
       "_model_module_version": "^0.17.0",
       "_view_module_version": "^0.17.0",
       "auto_close": true,
       "auto_pan": true,
       "auto_pan_padding": [
        5,
        5
       ],
       "auto_pan_padding_bottom_right": null,
       "auto_pan_padding_top_left": null,
       "child": "IPY_MODEL_83cbea32e03c4ce5bce923c034a8e4a2",
       "close_button": true,
       "close_on_escape_key": true,
       "keep_in_view": false,
       "options": [
        "auto_close",
        "auto_pan",
        "auto_pan_padding",
        "auto_pan_padding_bottom_right",
        "auto_pan_padding_top_left",
        "close_button",
        "close_on_escape_key",
        "keep_in_view",
        "max_height",
        "max_width",
        "min_width"
       ]
      }
     },
     "305631698385459d9839305a71f10699": {
      "model_module": "@jupyter-widgets/base",
      "model_module_version": "1.2.0",
      "model_name": "LayoutModel",
      "state": {}
     },
     "30936765047e405a98e1e070e2188cda": {
      "model_module": "@jupyter-widgets/controls",
      "model_module_version": "1.5.0",
      "model_name": "DescriptionStyleModel",
      "state": {
       "description_width": ""
      }
     },
     "30a5f60bf13947cd9ec031f112505b5d": {
      "model_module": "@jupyter-widgets/base",
      "model_module_version": "1.2.0",
      "model_name": "LayoutModel",
      "state": {}
     },
     "30a87f055d0749e9905bbdd613b4649a": {
      "model_module": "@jupyter-widgets/base",
      "model_module_version": "1.2.0",
      "model_name": "LayoutModel",
      "state": {
       "visibility": "hidden"
      }
     },
     "317f46f2399d4343b01df1c56407e785": {
      "model_module": "@jupyter-widgets/base",
      "model_module_version": "1.2.0",
      "model_name": "LayoutModel",
      "state": {
       "visibility": "hidden"
      }
     },
     "321333c8244f4c268c81f8a9ba6f332f": {
      "model_module": "@jupyter-widgets/controls",
      "model_module_version": "1.5.0",
      "model_name": "FloatProgressModel",
      "state": {
       "layout": "IPY_MODEL_41ca8d3041d84e63b6d6b195b9950da3",
       "max": 11,
       "style": "IPY_MODEL_fade1b7e09a44a7ebe13727b4c07409c",
       "value": 11
      }
     },
     "3239fa86f0e149dd98418c4ec698b0f8": {
      "model_module": "@jupyter-widgets/controls",
      "model_module_version": "1.5.0",
      "model_name": "ProgressStyleModel",
      "state": {
       "description_width": ""
      }
     },
     "323d8fc2e1224cc599928c3c0bbbc89d": {
      "model_module": "jupyter-leaflet",
      "model_module_version": "^0.17.0",
      "model_name": "LeafletMapStyleModel",
      "state": {
       "_model_module_version": "^0.17.0"
      }
     },
     "325039f3e0d8426b961bb8460643b003": {
      "model_module": "@jupyter-widgets/controls",
      "model_module_version": "1.5.0",
      "model_name": "DescriptionStyleModel",
      "state": {
       "description_width": ""
      }
     },
     "32615181e7cc4341980e75a6d83d31f1": {
      "model_module": "@jupyter-widgets/controls",
      "model_module_version": "1.5.0",
      "model_name": "ProgressStyleModel",
      "state": {
       "description_width": ""
      }
     },
     "32ba0a33a8eb453fa7fb6aaae4c0d57d": {
      "model_module": "@jupyter-widgets/controls",
      "model_module_version": "1.5.0",
      "model_name": "DescriptionStyleModel",
      "state": {
       "description_width": ""
      }
     },
     "32bbe5bcea0d4076b08e4ae954ecf057": {
      "model_module": "@jupyter-widgets/base",
      "model_module_version": "1.2.0",
      "model_name": "LayoutModel",
      "state": {}
     },
     "32e00cb1a6df466c925837300bebee59": {
      "model_module": "@jupyter-widgets/controls",
      "model_module_version": "1.5.0",
      "model_name": "HTMLModel",
      "state": {
       "layout": "IPY_MODEL_305631698385459d9839305a71f10699",
       "style": "IPY_MODEL_fd2b2001db3a4cbe8509e50cd7384713",
       "value": " 55/56 [00:02&lt;00:00, 34.05it/s]"
      }
     },
     "3318ff9200c945e2b9009d6c1f3616ef": {
      "model_module": "@jupyter-widgets/controls",
      "model_module_version": "1.5.0",
      "model_name": "ProgressStyleModel",
      "state": {
       "description_width": ""
      }
     },
     "3543ad8e9a50488c949fc0e4c3f87296": {
      "model_module": "@jupyter-widgets/base",
      "model_module_version": "1.2.0",
      "model_name": "LayoutModel",
      "state": {}
     },
     "3550ac4888c1411fa99042916f99c724": {
      "model_module": "@jupyter-widgets/base",
      "model_module_version": "1.2.0",
      "model_name": "LayoutModel",
      "state": {}
     },
     "35e64ebe00bd49cf96d86e4bb99c54a1": {
      "model_module": "@jupyter-widgets/base",
      "model_module_version": "1.2.0",
      "model_name": "LayoutModel",
      "state": {}
     },
     "360f427e50194df6b2dc83f4ea319602": {
      "model_module": "@jupyter-widgets/controls",
      "model_module_version": "1.5.0",
      "model_name": "DescriptionStyleModel",
      "state": {
       "description_width": ""
      }
     },
     "362a75c2752d4757b396b7b4186fb4ab": {
      "model_module": "@jupyter-widgets/controls",
      "model_module_version": "1.5.0",
      "model_name": "ProgressStyleModel",
      "state": {
       "description_width": ""
      }
     },
     "37298312edf14f53bd65d0cda0fa75f7": {
      "model_module": "@jupyter-widgets/controls",
      "model_module_version": "1.5.0",
      "model_name": "ProgressStyleModel",
      "state": {
       "description_width": ""
      }
     },
     "37358a512bec49c1840576e07a297f9f": {
      "model_module": "@jupyter-widgets/base",
      "model_module_version": "1.2.0",
      "model_name": "LayoutModel",
      "state": {}
     },
     "37a798ec55364225a0b90eeca0b99133": {
      "model_module": "@jupyter-widgets/controls",
      "model_module_version": "1.5.0",
      "model_name": "DropdownModel",
      "state": {
       "_options_labels": [
        "AGAP002859 amp",
        "AGAP002862 (CYP6AA1) amp",
        "AGAP013128 (CYP6AA2) amp",
        "AGAP002863 (COEAE6O) amp",
        "AGAP002864 (CYP6P15P) amp",
        "AGAP002865 (CYP6P3) amp",
        "AGAP002865 (CYP6P3) del",
        "AGAP002866 (CYP6P5) amp",
        "AGAP002867 (CYP6P4) amp",
        "AGAP002868 (CYP6P1) amp",
        "AGAP002869 (CYP6P2) amp",
        "AGAP002870 (CYP6AD1) amp"
       ],
       "description": "Variant: ",
       "index": 1,
       "layout": "IPY_MODEL_0b9bb14b26464c6dae986d53aa18c9db",
       "style": "IPY_MODEL_2c86c23acf7f4ccf8a29f08fd52d96ca"
      }
     },
     "3800f0a2917548729839c4e533814875": {
      "model_module": "@jupyter-widgets/controls",
      "model_module_version": "1.5.0",
      "model_name": "HTMLModel",
      "state": {
       "layout": "IPY_MODEL_b7a3df37c7844f04814806280f102cf3",
       "style": "IPY_MODEL_8335bc4a897548489a9bc3910d407b10",
       "value": " 0/11 [00:00&lt;?, ?it/s]"
      }
     },
     "38e9a7522e184aa2857efefc6da37b3f": {
      "model_module": "@jupyter-widgets/controls",
      "model_module_version": "1.5.0",
      "model_name": "HTMLModel",
      "state": {
       "layout": "IPY_MODEL_e890286ec07040b3bd94e56772ef6b1b",
       "style": "IPY_MODEL_aa1f3e987e1246f8a8f363787c2b9a53",
       "value": "\n                <strong>AGAP002862 (CYP6AA1) amp</strong> <br/>\n                Taxon: gambiae <br/>\n                Area: GN-F <br/>\n                Period: 2012 <br/>\n                Sample size: 60 <br/>\n                Frequency: 10%\n                (95% CI: 5% - 20%)\n            "
      }
     },
     "3920970a012d455d8073d75d0666896a": {
      "model_module": "jupyter-leaflet",
      "model_module_version": "^0.17.0",
      "model_name": "LeafletCircleMarkerModel",
      "state": {
       "_model_module_version": "^0.17.0",
       "_view_module_version": "^0.17.0",
       "color": "black",
       "fill_color": "red",
       "fill_opacity": 0,
       "location": [
        4.367,
        18.583
       ],
       "options": [
        "color",
        "dash_array",
        "fill",
        "fill_color",
        "fill_opacity",
        "line_cap",
        "line_join",
        "opacity",
        "pointer_events",
        "radius",
        "stroke",
        "weight"
       ],
       "popup": "IPY_MODEL_f35ce2f1755743b88c401ef7a6d8f7cf",
       "radius": 20,
       "weight": 1
      }
     },
     "3a1ff078743f42c0b4017ebb1e7026b1": {
      "model_module": "@jupyter-widgets/controls",
      "model_module_version": "1.5.0",
      "model_name": "FloatProgressModel",
      "state": {
       "layout": "IPY_MODEL_02b57e2af6fb426aa09d923379df60c2",
       "max": 56,
       "style": "IPY_MODEL_be7957cb699c4db28e4dc458560812ff",
       "value": 56
      }
     },
     "3a8fee5cfca749d4ac7e616ff01fe7b8": {
      "model_module": "@jupyter-widgets/base",
      "model_module_version": "1.2.0",
      "model_name": "LayoutModel",
      "state": {}
     },
     "3af059129e5c4319959012bdbc760856": {
      "model_module": "@jupyter-widgets/controls",
      "model_module_version": "1.5.0",
      "model_name": "FloatProgressModel",
      "state": {
       "layout": "IPY_MODEL_1b5a6d32c7294397bd6ccdcf18422ab6",
       "max": 56,
       "style": "IPY_MODEL_223b9b26e9c94b23b85413ff2bd3abbd",
       "value": 56
      }
     },
     "3bac879f74bd4d3cabca1e9161cfef49": {
      "model_module": "@jupyter-widgets/controls",
      "model_module_version": "1.5.0",
      "model_name": "HTMLModel",
      "state": {
       "layout": "IPY_MODEL_900dff37c0d24fefbcd4fa90d00d465d",
       "style": "IPY_MODEL_62da1c1674174908a5ce6434f222d207",
       "value": "Compute modal gene copy number:   0%"
      }
     },
     "3c69abb652f54d9abb2fb8ad74b0c44f": {
      "model_module": "@jupyter-widgets/controls",
      "model_module_version": "1.5.0",
      "model_name": "HTMLModel",
      "state": {
       "layout": "IPY_MODEL_54231f563502423abc0d37021b12a8e6",
       "style": "IPY_MODEL_20325a6e5c654db3911a205f6ecb07ec",
       "value": "Load CNV HMM data:  97%"
      }
     },
     "3cf883d1fd09499684890698fe1294f8": {
      "model_module": "jupyter-leaflet",
      "model_module_version": "^0.17.0",
      "model_name": "LeafletMapStyleModel",
      "state": {
       "_model_module_version": "^0.17.0",
       "cursor": "move"
      }
     },
     "3d51cdf61b9f42a5bf806120c0c4c964": {
      "model_module": "@jupyter-widgets/controls",
      "model_module_version": "1.5.0",
      "model_name": "DescriptionStyleModel",
      "state": {
       "description_width": ""
      }
     },
     "3e1113bbdd2745dd9ed9dfec7c66633a": {
      "model_module": "jupyter-leaflet",
      "model_module_version": "^0.17.0",
      "model_name": "LeafletMapStyleModel",
      "state": {
       "_model_module_version": "^0.17.0"
      }
     },
     "3e9eefc0874e428b8fc2477ab8c8b8c5": {
      "model_module": "@jupyter-widgets/controls",
      "model_module_version": "1.5.0",
      "model_name": "HTMLModel",
      "state": {
       "layout": "IPY_MODEL_c28216c512764ba3bb7df1917627599f",
       "style": "IPY_MODEL_5b0f1839a5894900bf5b4c640858c67a",
       "value": "<h3>Gene CNV frequencies, Cyp6aa/p locus</h3>"
      }
     },
     "3ead4f015bd9482d8a61db53e5d8d23a": {
      "model_module": "@jupyter-widgets/base",
      "model_module_version": "1.2.0",
      "model_name": "LayoutModel",
      "state": {}
     },
     "3eb985db55f94e02bba685ff38f2eedc": {
      "model_module": "@jupyter-widgets/base",
      "model_module_version": "1.2.0",
      "model_name": "LayoutModel",
      "state": {}
     },
     "404e7262cc6348ce9133dc0223f1fd31": {
      "model_module": "@jupyter-widgets/controls",
      "model_module_version": "1.5.0",
      "model_name": "DescriptionStyleModel",
      "state": {
       "description_width": ""
      }
     },
     "419b5199edc3463eb5d7f8cdadd6376d": {
      "model_module": "@jupyter-widgets/base",
      "model_module_version": "1.2.0",
      "model_name": "LayoutModel",
      "state": {}
     },
     "41b76f1ed15d46d9b1c2de3b7cb43c61": {
      "model_module": "@jupyter-widgets/controls",
      "model_module_version": "1.5.0",
      "model_name": "DescriptionStyleModel",
      "state": {
       "description_width": ""
      }
     },
     "41ca8d3041d84e63b6d6b195b9950da3": {
      "model_module": "@jupyter-widgets/base",
      "model_module_version": "1.2.0",
      "model_name": "LayoutModel",
      "state": {}
     },
     "41f8489d71f84df2b0554b3a8cc2f93d": {
      "model_module": "jupyter-leaflet",
      "model_module_version": "^0.17.0",
      "model_name": "LeafletCircleMarkerModel",
      "state": {
       "_model_module_version": "^0.17.0",
       "_view_module_version": "^0.17.0",
       "color": "black",
       "fill_color": "red",
       "fill_opacity": 0.1,
       "location": [
        9.28,
        -10.03
       ],
       "options": [
        "color",
        "dash_array",
        "fill",
        "fill_color",
        "fill_opacity",
        "line_cap",
        "line_join",
        "opacity",
        "pointer_events",
        "radius",
        "stroke",
        "weight"
       ],
       "popup": "IPY_MODEL_43325b39daed423087310e2b194ecd99",
       "radius": 20,
       "weight": 1
      }
     },
     "41fad389b22449f89db90069367c6d41": {
      "model_module": "@jupyter-widgets/controls",
      "model_module_version": "1.5.0",
      "model_name": "DescriptionStyleModel",
      "state": {
       "description_width": ""
      }
     },
     "423137f13700461d8374a955524f0f6a": {
      "model_module": "@jupyter-widgets/base",
      "model_module_version": "1.2.0",
      "model_name": "LayoutModel",
      "state": {}
     },
     "42348820dfe049e9974cdcf1fc6753c2": {
      "model_module": "@jupyter-widgets/controls",
      "model_module_version": "1.5.0",
      "model_name": "HTMLModel",
      "state": {
       "layout": "IPY_MODEL_18b5038b850e4f20a7257e53d2fec781",
       "style": "IPY_MODEL_c22c405db255456ab7a914cd37bc6297",
       "value": "\n                <strong>AGAP002862 (CYP6AA1) amp</strong> <br/>\n                Taxon: gambiae <br/>\n                Area: CF-BGF <br/>\n                Period: 1994 <br/>\n                Sample size: 52 <br/>\n                Frequency: 0%\n                (95% CI: 0% - 7%)\n            "
      }
     },
     "43325b39daed423087310e2b194ecd99": {
      "model_module": "jupyter-leaflet",
      "model_module_version": "^0.17.0",
      "model_name": "LeafletPopupModel",
      "state": {
       "_model_module_version": "^0.17.0",
       "_view_module_version": "^0.17.0",
       "auto_close": true,
       "auto_pan": true,
       "auto_pan_padding": [
        5,
        5
       ],
       "auto_pan_padding_bottom_right": null,
       "auto_pan_padding_top_left": null,
       "child": "IPY_MODEL_38e9a7522e184aa2857efefc6da37b3f",
       "close_button": true,
       "close_on_escape_key": true,
       "keep_in_view": false,
       "options": [
        "auto_close",
        "auto_pan",
        "auto_pan_padding",
        "auto_pan_padding_bottom_right",
        "auto_pan_padding_top_left",
        "close_button",
        "close_on_escape_key",
        "keep_in_view",
        "max_height",
        "max_width",
        "min_width"
       ]
      }
     },
     "43838f1041b64501972718ee68005714": {
      "model_module": "@jupyter-widgets/controls",
      "model_module_version": "1.5.0",
      "model_name": "DescriptionStyleModel",
      "state": {
       "description_width": ""
      }
     },
     "43f58f6e06134fcdb210444a09edbc47": {
      "model_module": "@jupyter-widgets/controls",
      "model_module_version": "1.5.0",
      "model_name": "DescriptionStyleModel",
      "state": {
       "description_width": ""
      }
     },
     "443254f78a9042cdbbad1276590eb507": {
      "model_module": "@jupyter-widgets/base",
      "model_module_version": "1.2.0",
      "model_name": "LayoutModel",
      "state": {}
     },
     "444b396304aa49638b8f338f04869252": {
      "model_module": "@jupyter-widgets/controls",
      "model_module_version": "1.5.0",
      "model_name": "DescriptionStyleModel",
      "state": {
       "description_width": ""
      }
     },
     "44c2a3f9e6a94661a790fb94878917de": {
      "model_module": "@jupyter-widgets/controls",
      "model_module_version": "1.5.0",
      "model_name": "HTMLModel",
      "state": {
       "layout": "IPY_MODEL_de011bdc4c5149bb92733ab0c2b622c9",
       "style": "IPY_MODEL_24f51c4cf5cb4c01a52fa5e68dc5cdd9",
       "value": " 51/56 [00:01&lt;00:00, 50.73it/s]"
      }
     },
     "451f9c0713054c759bd52b72221f2212": {
      "model_module": "@jupyter-widgets/controls",
      "model_module_version": "1.5.0",
      "model_name": "HTMLModel",
      "state": {
       "layout": "IPY_MODEL_81ebe939e4204472b1ba643c02c560ad",
       "style": "IPY_MODEL_c2aadddd547d4950a0a385a23a5e2c2d",
       "value": "Load CNV HMM data:  97%"
      }
     },
     "458bf8dde5d442b4b38f454822438366": {
      "model_module": "@jupyter-widgets/controls",
      "model_module_version": "1.5.0",
      "model_name": "DescriptionStyleModel",
      "state": {
       "description_width": ""
      }
     },
     "45b5334bb9934330a5e5d17ebcdddcd4": {
      "model_module": "@jupyter-widgets/controls",
      "model_module_version": "1.5.0",
      "model_name": "DescriptionStyleModel",
      "state": {
       "description_width": ""
      }
     },
     "46082bcf765f409a96301fc7306ea1b7": {
      "model_module": "@jupyter-widgets/base",
      "model_module_version": "1.2.0",
      "model_name": "LayoutModel",
      "state": {
       "visibility": "hidden"
      }
     },
     "47b5a6d6872f417bbbd68e4b8b5f595e": {
      "model_module": "@jupyter-widgets/controls",
      "model_module_version": "1.5.0",
      "model_name": "DescriptionStyleModel",
      "state": {
       "description_width": ""
      }
     },
     "47d7bc3fd7ee4360b20191d72986fe92": {
      "model_module": "@jupyter-widgets/controls",
      "model_module_version": "1.5.0",
      "model_name": "HTMLModel",
      "state": {
       "layout": "IPY_MODEL_160f7e4fe7ac4569986ddd2afe627776",
       "style": "IPY_MODEL_1d59e4779fd641b894f2f96a09d29a70",
       "value": " 0/11 [00:00&lt;?, ?it/s]"
      }
     },
     "49ab0775d4d742718fa9098f02bb47fa": {
      "model_module": "@jupyter-widgets/controls",
      "model_module_version": "1.5.0",
      "model_name": "HTMLModel",
      "state": {
       "layout": "IPY_MODEL_f448c17ac37047a6bd03de967b9110b6",
       "style": "IPY_MODEL_17d17aa49a354c8cb5c45f8ad688440c",
       "value": "Load CNV HMM data:  91%"
      }
     },
     "49e61e20ed4d497d9567c031f16dba98": {
      "model_module": "@jupyter-widgets/base",
      "model_module_version": "1.2.0",
      "model_name": "LayoutModel",
      "state": {}
     },
     "4aa2dc52e6f8404298dd82ffd955f466": {
      "model_module": "@jupyter-widgets/base",
      "model_module_version": "1.2.0",
      "model_name": "LayoutModel",
      "state": {}
     },
     "4ab0a44a769d41b8939d6b9d56d9e89d": {
      "model_module": "@jupyter-widgets/base",
      "model_module_version": "1.2.0",
      "model_name": "LayoutModel",
      "state": {}
     },
     "4b28c7e1448f4b2ca57c96cf78f74446": {
      "model_module": "@jupyter-widgets/base",
      "model_module_version": "1.2.0",
      "model_name": "LayoutModel",
      "state": {}
     },
     "4b5bba87bf6240daa6cf3a6cbf12f1e7": {
      "model_module": "jupyter-leaflet",
      "model_module_version": "^0.17.0",
      "model_name": "LeafletCircleMarkerModel",
      "state": {
       "_model_module_version": "^0.17.0",
       "_view_module_version": "^0.17.0",
       "color": "black",
       "fill_color": "red",
       "fill_opacity": 0.04081632653061224,
       "location": [
        11.195102040816325,
        -4.290622448979592
       ],
       "options": [
        "color",
        "dash_array",
        "fill",
        "fill_color",
        "fill_opacity",
        "line_cap",
        "line_join",
        "opacity",
        "pointer_events",
        "radius",
        "stroke",
        "weight"
       ],
       "popup": "IPY_MODEL_011786e33216475198342616b65d21dc",
       "radius": 20,
       "weight": 1
      }
     },
     "4cd89dac6979421cb436db7d77951dd9": {
      "model_module": "jupyter-leaflet",
      "model_module_version": "^0.17.0",
      "model_name": "LeafletCircleMarkerModel",
      "state": {
       "_model_module_version": "^0.17.0",
       "_view_module_version": "^0.17.0",
       "color": "black",
       "fill_color": "red",
       "fill_opacity": 0.03333333333333333,
       "location": [
        8.48,
        -9.53
       ],
       "options": [
        "color",
        "dash_array",
        "fill",
        "fill_color",
        "fill_opacity",
        "line_cap",
        "line_join",
        "opacity",
        "pointer_events",
        "radius",
        "stroke",
        "weight"
       ],
       "popup": "IPY_MODEL_db9ae5e1f7a84de69793780fc599c212",
       "radius": 20,
       "weight": 1
      }
     },
     "4d9b26f88efb414ba1f0278ad7b0ddf7": {
      "model_module": "@jupyter-widgets/controls",
      "model_module_version": "1.5.0",
      "model_name": "HTMLModel",
      "state": {
       "layout": "IPY_MODEL_24b97ccef2a6413799e6074e8b199c27",
       "style": "IPY_MODEL_da1a8c821b9140a79606aab480bcf0f8",
       "value": "Load CNV HMM data:  91%"
      }
     },
     "4db4cbd2c47c43198155f088e1ff5814": {
      "model_module": "jupyter-leaflet",
      "model_module_version": "^0.17.0",
      "model_name": "LeafletPopupModel",
      "state": {
       "_model_module_version": "^0.17.0",
       "_view_module_version": "^0.17.0",
       "auto_close": true,
       "auto_pan": true,
       "auto_pan_padding": [
        5,
        5
       ],
       "auto_pan_padding_bottom_right": null,
       "auto_pan_padding_top_left": null,
       "child": "IPY_MODEL_42348820dfe049e9974cdcf1fc6753c2",
       "close_button": true,
       "close_on_escape_key": true,
       "keep_in_view": false,
       "options": [
        "auto_close",
        "auto_pan",
        "auto_pan_padding",
        "auto_pan_padding_bottom_right",
        "auto_pan_padding_top_left",
        "close_button",
        "close_on_escape_key",
        "keep_in_view",
        "max_height",
        "max_width",
        "min_width"
       ]
      }
     },
     "4e2e4c058d5a483aa236d989967985dd": {
      "model_module": "@jupyter-widgets/controls",
      "model_module_version": "1.5.0",
      "model_name": "ProgressStyleModel",
      "state": {
       "description_width": ""
      }
     },
     "4f03c3d0036648dd8d3bf8088f4105a4": {
      "model_module": "@jupyter-widgets/base",
      "model_module_version": "1.2.0",
      "model_name": "LayoutModel",
      "state": {}
     },
     "4f9e6a5acd1241a287a0e65fe23b985d": {
      "model_module": "jupyter-leaflet",
      "model_module_version": "^0.17.0",
      "model_name": "LeafletPopupModel",
      "state": {
       "_model_module_version": "^0.17.0",
       "_view_module_version": "^0.17.0",
       "auto_close": true,
       "auto_pan": true,
       "auto_pan_padding": [
        5,
        5
       ],
       "auto_pan_padding_bottom_right": null,
       "auto_pan_padding_top_left": null,
       "child": "IPY_MODEL_f9498c92fb0f414e8de778b50b811127",
       "close_button": true,
       "close_on_escape_key": true,
       "keep_in_view": false,
       "options": [
        "auto_close",
        "auto_pan",
        "auto_pan_padding",
        "auto_pan_padding_bottom_right",
        "auto_pan_padding_top_left",
        "close_button",
        "close_on_escape_key",
        "keep_in_view",
        "max_height",
        "max_width",
        "min_width"
       ]
      }
     },
     "4fb642a74f644c6fae982faeaab099b6": {
      "model_module": "@jupyter-widgets/base",
      "model_module_version": "1.2.0",
      "model_name": "LayoutModel",
      "state": {
       "visibility": "hidden"
      }
     },
     "5051439fc47f45349770d3d4ce7de6d9": {
      "model_module": "@jupyter-widgets/controls",
      "model_module_version": "1.5.0",
      "model_name": "VBoxModel",
      "state": {
       "children": [
        "IPY_MODEL_3e9eefc0874e428b8fc2477ab8c8b8c5",
        "IPY_MODEL_c6f2666665aa42279d66573185f8c4e7",
        "IPY_MODEL_ec4dd3fb018a408bb2150841b2cb671a",
        "IPY_MODEL_7a1ff8dd55bb48c4abc4bc4372c4abe2"
       ],
       "layout": "IPY_MODEL_a2b4498fef7842a4b790731cf6603b5d"
      }
     },
     "50c9e09717f14520852eee88519798f9": {
      "model_module": "@jupyter-widgets/base",
      "model_module_version": "1.2.0",
      "model_name": "LayoutModel",
      "state": {}
     },
     "50d788e5188d4ac587f07fbb4cca8ac8": {
      "model_module": "@jupyter-widgets/controls",
      "model_module_version": "1.5.0",
      "model_name": "DescriptionStyleModel",
      "state": {
       "description_width": ""
      }
     },
     "5113846b76eb48e9823a364abb26c8ca": {
      "model_module": "@jupyter-widgets/controls",
      "model_module_version": "1.5.0",
      "model_name": "HTMLModel",
      "state": {
       "layout": "IPY_MODEL_736111a1608c40dd98933a99eeb6344f",
       "style": "IPY_MODEL_c20974dff78049b498bccae1c41fe4ab",
       "value": " 503/504 [00:13&lt;00:00, 40.29it/s]"
      }
     },
     "52d2e8e264f84e4aa5a0738e40fad2e8": {
      "model_module": "@jupyter-widgets/base",
      "model_module_version": "1.2.0",
      "model_name": "LayoutModel",
      "state": {}
     },
     "52eb90a64075405fa2f1a950c0ac5392": {
      "model_module": "@jupyter-widgets/controls",
      "model_module_version": "1.5.0",
      "model_name": "HTMLModel",
      "state": {
       "layout": "IPY_MODEL_50c9e09717f14520852eee88519798f9",
       "style": "IPY_MODEL_53b4a0b763294553ad8dd9833311cc51",
       "value": " 0/11 [00:00&lt;?, ?it/s]"
      }
     },
     "530c6f024c4b44c0aa2c600de1585c4c": {
      "model_module": "@jupyter-widgets/controls",
      "model_module_version": "1.5.0",
      "model_name": "FloatProgressModel",
      "state": {
       "layout": "IPY_MODEL_c521bfbd34a44cbbb2f4b1ba8f823e07",
       "max": 11,
       "style": "IPY_MODEL_32615181e7cc4341980e75a6d83d31f1",
       "value": 11
      }
     },
     "53b4a0b763294553ad8dd9833311cc51": {
      "model_module": "@jupyter-widgets/controls",
      "model_module_version": "1.5.0",
      "model_name": "DescriptionStyleModel",
      "state": {
       "description_width": ""
      }
     },
     "54231f563502423abc0d37021b12a8e6": {
      "model_module": "@jupyter-widgets/base",
      "model_module_version": "1.2.0",
      "model_name": "LayoutModel",
      "state": {}
     },
     "546d09c663ec478ebcbcf048feaa7e05": {
      "model_module": "@jupyter-widgets/controls",
      "model_module_version": "1.5.0",
      "model_name": "HTMLModel",
      "state": {
       "layout": "IPY_MODEL_ee1a6736256b4e29ac96ec01881ac566",
       "style": "IPY_MODEL_d9a309db5a5b41df935d12002d753427",
       "value": "\n                <strong>AGAP002862 (CYP6AA1) amp</strong> <br/>\n                Taxon: gambiae <br/>\n                Area: GN-N <br/>\n                Period: 2012 <br/>\n                Sample size: 60 <br/>\n                Frequency: 3%\n                (95% CI: 1% - 11%)\n            "
      }
     },
     "54a042ada6c84473889d86f72e6096e3": {
      "model_module": "@jupyter-widgets/controls",
      "model_module_version": "1.5.0",
      "model_name": "HTMLModel",
      "state": {
       "layout": "IPY_MODEL_196c857cb0bb4517bc6472628d56289d",
       "style": "IPY_MODEL_404e7262cc6348ce9133dc0223f1fd31",
       "value": " 55/56 [00:02&lt;00:00, 24.46it/s]"
      }
     },
     "54c1528e7a824b029c836645adbe5adc": {
      "model_module": "@jupyter-widgets/controls",
      "model_module_version": "1.5.0",
      "model_name": "ProgressStyleModel",
      "state": {
       "description_width": ""
      }
     },
     "54e2794eb00845b5891a3ee0e10c8a66": {
      "model_module": "@jupyter-widgets/base",
      "model_module_version": "1.2.0",
      "model_name": "LayoutModel",
      "state": {}
     },
     "553296d8d320404fa95486095a9b18f4": {
      "model_module": "@jupyter-widgets/controls",
      "model_module_version": "1.5.0",
      "model_name": "VBoxModel",
      "state": {
       "children": [
        "IPY_MODEL_b1c9e222192640ebab8961a85594d51f",
        "IPY_MODEL_88a8df1354834e519dbdac13736ed0a7",
        "IPY_MODEL_c165c4e5892343d5a24d425cc9a492ad",
        "IPY_MODEL_5a171bda2b8b4980ad06092c4476cef4"
       ],
       "layout": "IPY_MODEL_2f15d993a97f401eb12e52859b862617"
      }
     },
     "562b1f23dcf045dca7c9a4f77ef9041d": {
      "model_module": "@jupyter-widgets/controls",
      "model_module_version": "1.5.0",
      "model_name": "HTMLModel",
      "state": {
       "layout": "IPY_MODEL_1dad972bda8b4724807b516749b36be8",
       "style": "IPY_MODEL_93d212a26f2949619e458f99a6f0fba1",
       "value": "\n                <strong>AGAP002862 (CYP6AA1) amp</strong> <br/>\n                Taxon: gambiae <br/>\n                Area: UG-E <br/>\n                Period: 2012 <br/>\n                Sample size: 112 <br/>\n                Frequency: 64%\n                (95% CI: 55% - 73%)\n            "
      }
     },
     "564afc25f6584d7bb358720908693ce7": {
      "model_module": "@jupyter-widgets/controls",
      "model_module_version": "1.5.0",
      "model_name": "HTMLModel",
      "state": {
       "layout": "IPY_MODEL_dcb4cbf4f93547ae86ddf8b0f182ff20",
       "style": "IPY_MODEL_6d7f3d37339d41c9a54e3add1d26a613",
       "value": "\n                <strong>AGAP002862 (CYP6AA1) amp</strong> <br/>\n                Taxon: gambiae <br/>\n                Area: BF-09 <br/>\n                Period: 2012 <br/>\n                Sample size: 98 <br/>\n                Frequency: 4%\n                (95% CI: 2% - 10%)\n            "
      }
     },
     "565195457cd8413c8fba602468271b3a": {
      "model_module": "@jupyter-widgets/controls",
      "model_module_version": "1.5.0",
      "model_name": "FloatProgressModel",
      "state": {
       "layout": "IPY_MODEL_dd46c6daf305435aabe9bb04fde0dc77",
       "max": 504,
       "style": "IPY_MODEL_291f2ad9cf9b442292d0c7e3fed5561d",
       "value": 504
      }
     },
     "569a31b07a1e4928b3fb66141cfa4082": {
      "model_module": "@jupyter-widgets/controls",
      "model_module_version": "1.5.0",
      "model_name": "FloatProgressModel",
      "state": {
       "layout": "IPY_MODEL_52d2e8e264f84e4aa5a0738e40fad2e8",
       "max": 56,
       "style": "IPY_MODEL_d96e480a5ea24b149cf3e53ffb644d29",
       "value": 56
      }
     },
     "56c5ad2e75ee422b882079a5db33f85f": {
      "model_module": "@jupyter-widgets/controls",
      "model_module_version": "1.5.0",
      "model_name": "DescriptionStyleModel",
      "state": {
       "description_width": ""
      }
     },
     "5701f9b3c57e4887b2304789301cda93": {
      "model_module": "jupyter-leaflet",
      "model_module_version": "^0.17.0",
      "model_name": "LeafletPopupModel",
      "state": {
       "_model_module_version": "^0.17.0",
       "_view_module_version": "^0.17.0",
       "auto_close": true,
       "auto_pan": true,
       "auto_pan_padding": [
        5,
        5
       ],
       "auto_pan_padding_bottom_right": null,
       "auto_pan_padding_top_left": null,
       "child": "IPY_MODEL_c652309d642b4c35bf9b213127a1de1b",
       "close_button": true,
       "close_on_escape_key": true,
       "keep_in_view": false,
       "options": [
        "auto_close",
        "auto_pan",
        "auto_pan_padding",
        "auto_pan_padding_bottom_right",
        "auto_pan_padding_top_left",
        "close_button",
        "close_on_escape_key",
        "keep_in_view",
        "max_height",
        "max_width",
        "min_width"
       ]
      }
     },
     "571aeb5e3fed4292b09dc78c34c2bec3": {
      "model_module": "@jupyter-widgets/controls",
      "model_module_version": "1.5.0",
      "model_name": "VBoxModel",
      "state": {
       "_dom_classes": [
        "widget-interact"
       ],
       "children": [
        "IPY_MODEL_1da856b13c924ed48319e4d0a5b6919d",
        "IPY_MODEL_b3467ee410144c179f99cac323403b04",
        "IPY_MODEL_6e036edbc3de49cea999e598f1c025e9",
        "IPY_MODEL_f8a4a94d9c144bbab7f8dbccb9a6b652"
       ],
       "layout": "IPY_MODEL_9c4300d2712e47579fb654070a5857fd"
      }
     },
     "5734a50d01134b3ab8baa0579b20ec26": {
      "model_module": "@jupyter-widgets/controls",
      "model_module_version": "1.5.0",
      "model_name": "DropdownModel",
      "state": {
       "_options_labels": [
        "arabiensis",
        "coluzzii",
        "gambiae",
        "gcx1",
        "gcx2",
        "gcx3"
       ],
       "description": "Taxon: ",
       "index": 2,
       "layout": "IPY_MODEL_13a61774bd264dd0bf4a77f98dbb45df",
       "style": "IPY_MODEL_de089e6bfbed4d59b966314faa2c89bd"
      }
     },
     "579030b35566441d9c4a33a19180aecd": {
      "model_module": "@jupyter-widgets/controls",
      "model_module_version": "1.5.0",
      "model_name": "HTMLModel",
      "state": {
       "layout": "IPY_MODEL_e7393f753287454cbab74a2709836f22",
       "style": "IPY_MODEL_0d1d860cf44a49158e959c4703126fcc",
       "value": "Load CNV HMM data: 100%"
      }
     },
     "57d43541c64941cb8b2506b36ffa830b": {
      "model_module": "jupyter-leaflet",
      "model_module_version": "^0.17.0",
      "model_name": "LeafletTileLayerModel",
      "state": {
       "_model_module_version": "^0.17.0",
       "_view_module_version": "^0.17.0",
       "attribution": "&copy; <a href=\"https://www.openstreetmap.org/copyright\">OpenStreetMap</a> contributors",
       "base": true,
       "max_zoom": 19,
       "min_zoom": 1,
       "name": "OpenStreetMap.Mapnik",
       "options": [
        "attribution",
        "bounds",
        "detect_retina",
        "max_native_zoom",
        "max_zoom",
        "min_native_zoom",
        "min_zoom",
        "no_wrap",
        "tile_size",
        "tms"
       ],
       "url": "https://tile.openstreetmap.org/{z}/{x}/{y}.png"
      }
     },
     "582cf4c5e69341dba80f6d244833a416": {
      "model_module": "@jupyter-widgets/controls",
      "model_module_version": "1.5.0",
      "model_name": "HTMLModel",
      "state": {
       "layout": "IPY_MODEL_b96397d88d87421ca360839ee6c63490",
       "style": "IPY_MODEL_fdae163acafd48259a7ec2425488913d",
       "value": "Load CNV HMM data:  98%"
      }
     },
     "58423f22c6ca461781664bbace9a13ab": {
      "model_module": "@jupyter-widgets/controls",
      "model_module_version": "1.5.0",
      "model_name": "ProgressStyleModel",
      "state": {
       "description_width": ""
      }
     },
     "58dd7565288a449dabe7ab14c556a034": {
      "model_module": "@jupyter-widgets/base",
      "model_module_version": "1.2.0",
      "model_name": "LayoutModel",
      "state": {
       "visibility": "hidden"
      }
     },
     "58fcb2345f47473086f5aec4a174c23c": {
      "model_module": "@jupyter-widgets/controls",
      "model_module_version": "1.5.0",
      "model_name": "DescriptionStyleModel",
      "state": {
       "description_width": ""
      }
     },
     "58ff99009d0640959dd16553786a650b": {
      "model_module": "@jupyter-widgets/controls",
      "model_module_version": "1.5.0",
      "model_name": "HTMLModel",
      "state": {
       "layout": "IPY_MODEL_22298ead5771472e880bea7f3a8bfa01",
       "style": "IPY_MODEL_2a5e7ef9ed454f93bcca953dff2f09af",
       "value": "Load CNV HMM data: 100%"
      }
     },
     "5901da7336ce4ce8b0626dd4aaaf7f84": {
      "model_module": "@jupyter-widgets/base",
      "model_module_version": "1.2.0",
      "model_name": "LayoutModel",
      "state": {}
     },
     "599d6ab599064c928bdb56fde7f43b8b": {
      "model_module": "@jupyter-widgets/controls",
      "model_module_version": "1.5.0",
      "model_name": "HTMLModel",
      "state": {
       "layout": "IPY_MODEL_8fe49b2e5f0c4e6a93c8c8ac4a435c91",
       "style": "IPY_MODEL_d786b69f2fea4af5a96188fe2a3127f3",
       "value": "Compute modal gene copy number:   0%"
      }
     },
     "59b7ea19fe984814a8ce96fea13dea52": {
      "model_module": "@jupyter-widgets/base",
      "model_module_version": "1.2.0",
      "model_name": "LayoutModel",
      "state": {}
     },
     "5a171bda2b8b4980ad06092c4476cef4": {
      "model_module": "@jupyter-widgets/controls",
      "model_module_version": "1.5.0",
      "model_name": "HTMLModel",
      "state": {
       "layout": "IPY_MODEL_b5c3939ef1864557a9d1fbc258a67ece",
       "style": "IPY_MODEL_c6524d7c18444403a1b1b02b167e6a56",
       "value": "\n                Variant frequencies are shown as coloured markers. Opacity of color\n                denotes frequency. Click on a marker for more information.\n            "
      }
     },
     "5a7b6169e4ef48169919b27e3d9f1c47": {
      "model_module": "@jupyter-widgets/controls",
      "model_module_version": "1.5.0",
      "model_name": "DescriptionStyleModel",
      "state": {
       "description_width": ""
      }
     },
     "5a9e5940decc4b8eaa2a7a84c7e595e0": {
      "model_module": "jupyter-leaflet",
      "model_module_version": "^0.17.0",
      "model_name": "LeafletCircleMarkerModel",
      "state": {
       "_model_module_version": "^0.17.0",
       "_view_module_version": "^0.17.0",
       "color": "black",
       "fill_color": "red",
       "fill_opacity": 0.6428571428571429,
       "location": [
        0.7700000000000001,
        34.026
       ],
       "options": [
        "color",
        "dash_array",
        "fill",
        "fill_color",
        "fill_opacity",
        "line_cap",
        "line_join",
        "opacity",
        "pointer_events",
        "radius",
        "stroke",
        "weight"
       ],
       "popup": "IPY_MODEL_00999074fa3e4aecaace0260650e2715",
       "radius": 20,
       "weight": 1
      }
     },
     "5b0f1839a5894900bf5b4c640858c67a": {
      "model_module": "@jupyter-widgets/controls",
      "model_module_version": "1.5.0",
      "model_name": "DescriptionStyleModel",
      "state": {
       "description_width": ""
      }
     },
     "5b6edf72a3ae48cab81f2002a8234ddf": {
      "model_module": "@jupyter-widgets/controls",
      "model_module_version": "1.5.0",
      "model_name": "FloatProgressModel",
      "state": {
       "layout": "IPY_MODEL_cb1c723faf1c4053a59c529f61c68efb",
       "max": 11,
       "style": "IPY_MODEL_3318ff9200c945e2b9009d6c1f3616ef",
       "value": 11
      }
     },
     "5ccfdf9ef1914a9f8e763399fcd4bdd9": {
      "model_module": "@jupyter-widgets/controls",
      "model_module_version": "1.5.0",
      "model_name": "DescriptionStyleModel",
      "state": {
       "description_width": ""
      }
     },
     "5d4e40b1c7a549e49df9851c6671364e": {
      "model_module": "@jupyter-widgets/base",
      "model_module_version": "1.2.0",
      "model_name": "LayoutModel",
      "state": {}
     },
     "5db692f7103e42a586cfed70a43fbc23": {
      "model_module": "@jupyter-widgets/controls",
      "model_module_version": "1.5.0",
      "model_name": "DescriptionStyleModel",
      "state": {
       "description_width": ""
      }
     },
     "5de216a39fba4115985e4cc1098dcb23": {
      "model_module": "@jupyter-widgets/base",
      "model_module_version": "1.2.0",
      "model_name": "LayoutModel",
      "state": {}
     },
     "5de4317c233a4602bac62687b1f97664": {
      "model_module": "@jupyter-widgets/base",
      "model_module_version": "1.2.0",
      "model_name": "LayoutModel",
      "state": {}
     },
     "5eda1c92c9294098bda8d113f31554b6": {
      "model_module": "@jupyter-widgets/controls",
      "model_module_version": "1.5.0",
      "model_name": "HTMLModel",
      "state": {
       "layout": "IPY_MODEL_981769c2f643443b87d537c20ba84f1b",
       "style": "IPY_MODEL_972d17212003453aab9c7d86bbd31d59",
       "value": "\n                <strong>AGAP002862 (CYP6AA1) amp</strong> <br/>\n                Taxon: gambiae <br/>\n                Area: GH-AA <br/>\n                Period: 2012 <br/>\n                Sample size: 13 <br/>\n                Frequency: 0%\n                (95% CI: 0% - 23%)\n            "
      }
     },
     "5f0e2fa336cb4644ad97fca8c9316609": {
      "model_module": "@jupyter-widgets/controls",
      "model_module_version": "1.5.0",
      "model_name": "DescriptionStyleModel",
      "state": {
       "description_width": ""
      }
     },
     "5f8d148c2ba74a30a9f45787e92608ff": {
      "model_module": "@jupyter-widgets/controls",
      "model_module_version": "1.5.0",
      "model_name": "DescriptionStyleModel",
      "state": {
       "description_width": ""
      }
     },
     "600bdc7f5a7c4491941d814fd6a892c4": {
      "model_module": "@jupyter-widgets/controls",
      "model_module_version": "1.5.0",
      "model_name": "HTMLModel",
      "state": {
       "layout": "IPY_MODEL_88bb5b0245bd416b8f511cb2c7b0c9f9",
       "style": "IPY_MODEL_ef5e4a61ffdf42eeb7c2063fd797275d",
       "value": "\n                <strong>AGAP002862 (CYP6AA1) amp</strong> <br/>\n                Taxon: gambiae <br/>\n                Area: GH-EP <br/>\n                Period: 2012 <br/>\n                Sample size: 23 <br/>\n                Frequency: 4%\n                (95% CI: 1% - 21%)\n            "
      }
     },
     "607cd655a5e14262839c599cdeed75bb": {
      "model_module": "@jupyter-widgets/base",
      "model_module_version": "1.2.0",
      "model_name": "LayoutModel",
      "state": {}
     },
     "612205cff14746adb60d38bd175aefd9": {
      "model_module": "@jupyter-widgets/base",
      "model_module_version": "1.2.0",
      "model_name": "LayoutModel",
      "state": {
       "visibility": "hidden"
      }
     },
     "6148d45a01724cc8a890adca3721bd5c": {
      "model_module": "@jupyter-widgets/controls",
      "model_module_version": "1.5.0",
      "model_name": "ProgressStyleModel",
      "state": {
       "description_width": ""
      }
     },
     "619c3fa0fae94d49a07954d588d4f047": {
      "model_module": "@jupyter-widgets/base",
      "model_module_version": "1.2.0",
      "model_name": "LayoutModel",
      "state": {}
     },
     "626b64979c78489f8b120b530376d7c5": {
      "model_module": "@jupyter-widgets/controls",
      "model_module_version": "1.5.0",
      "model_name": "DropdownModel",
      "state": {
       "_options_labels": [
        "1994",
        "2000",
        "2002",
        "2004",
        "2005",
        "2009",
        "2010",
        "2011",
        "2012",
        "2013",
        "2014",
        "2015"
       ],
       "description": "Period: ",
       "index": 8,
       "layout": "IPY_MODEL_7f18979c948e43a584c2e1dad7599954",
       "style": "IPY_MODEL_1881c29a981346e59d1acb8dc3b1b00a"
      }
     },
     "62a7d2d6956c4b9faf36e79095ecf92e": {
      "model_module": "jupyter-leaflet",
      "model_module_version": "^0.17.0",
      "model_name": "LeafletCircleMarkerModel",
      "state": {
       "_model_module_version": "^0.17.0",
       "_view_module_version": "^0.17.0",
       "color": "black",
       "fill_color": "red",
       "fill_opacity": 0.1,
       "location": [
        9.28,
        -10.03
       ],
       "options": [
        "color",
        "dash_array",
        "fill",
        "fill_color",
        "fill_opacity",
        "line_cap",
        "line_join",
        "opacity",
        "pointer_events",
        "radius",
        "stroke",
        "weight"
       ],
       "popup": "IPY_MODEL_b0c5691cb80c4007a4e8d5d4703cc2f0",
       "radius": 20,
       "weight": 1
      }
     },
     "62da1c1674174908a5ce6434f222d207": {
      "model_module": "@jupyter-widgets/controls",
      "model_module_version": "1.5.0",
      "model_name": "DescriptionStyleModel",
      "state": {
       "description_width": ""
      }
     },
     "62de27325114427492348e75a2a65b26": {
      "model_module": "@jupyter-widgets/controls",
      "model_module_version": "1.5.0",
      "model_name": "DescriptionStyleModel",
      "state": {
       "description_width": ""
      }
     },
     "633250e50a1749c0af33e3b55a9653d6": {
      "model_module": "@jupyter-widgets/base",
      "model_module_version": "1.2.0",
      "model_name": "LayoutModel",
      "state": {}
     },
     "6347052465294cd39e96f8a25cc50299": {
      "model_module": "@jupyter-widgets/controls",
      "model_module_version": "1.5.0",
      "model_name": "HTMLModel",
      "state": {
       "layout": "IPY_MODEL_f5b1a46a00414324b6765607f3985d98",
       "style": "IPY_MODEL_f162159577064150b8a20bf76a7b0d00",
       "value": "Compute modal gene copy number:   0%"
      }
     },
     "6396b81f67614467afeeea741727d941": {
      "model_module": "@jupyter-widgets/controls",
      "model_module_version": "1.5.0",
      "model_name": "ProgressStyleModel",
      "state": {
       "description_width": ""
      }
     },
     "654f4b09ed814547963cb2870b0d155f": {
      "model_module": "@jupyter-widgets/controls",
      "model_module_version": "1.5.0",
      "model_name": "HTMLModel",
      "state": {
       "layout": "IPY_MODEL_3ead4f015bd9482d8a61db53e5d8d23a",
       "style": "IPY_MODEL_0dcfe88bf120493d8d2c3e6fa6575e27",
       "value": " 0/11 [00:00&lt;?, ?it/s]"
      }
     },
     "665a603606554cddb10fb7953d7ee791": {
      "model_module": "@jupyter-widgets/controls",
      "model_module_version": "1.5.0",
      "model_name": "FloatProgressModel",
      "state": {
       "layout": "IPY_MODEL_98fbe28c738547148e69d9c9ad4ced63",
       "max": 11,
       "style": "IPY_MODEL_082819ed84d741178f473363b84a8560",
       "value": 11
      }
     },
     "667325adaf714e22adb7193fc7103e71": {
      "model_module": "@jupyter-widgets/base",
      "model_module_version": "1.2.0",
      "model_name": "LayoutModel",
      "state": {}
     },
     "667aef8278474867b195abb8c68bfcf2": {
      "model_module": "@jupyter-widgets/controls",
      "model_module_version": "1.5.0",
      "model_name": "ProgressStyleModel",
      "state": {
       "description_width": ""
      }
     },
     "672aa046fa314b1891dd2662e248fb2c": {
      "model_module": "@jupyter-widgets/base",
      "model_module_version": "1.2.0",
      "model_name": "LayoutModel",
      "state": {}
     },
     "6777806db03649548d91a8ee57b79952": {
      "model_module": "@jupyter-widgets/controls",
      "model_module_version": "1.5.0",
      "model_name": "DescriptionStyleModel",
      "state": {
       "description_width": ""
      }
     },
     "67a8c3f408d64487817ce0659da9d958": {
      "model_module": "@jupyter-widgets/base",
      "model_module_version": "1.2.0",
      "model_name": "LayoutModel",
      "state": {}
     },
     "685bc62fb04d402386b2c6bf728d6224": {
      "model_module": "@jupyter-widgets/controls",
      "model_module_version": "1.5.0",
      "model_name": "FloatProgressModel",
      "state": {
       "layout": "IPY_MODEL_146a99b9d72b4217b84fa62a1a4fd732",
       "max": 11,
       "style": "IPY_MODEL_d69fd0563de2453da8542c1ba53d63f2",
       "value": 11
      }
     },
     "68bb7292dbfe4a6a84135818c35a980e": {
      "model_module": "@jupyter-widgets/controls",
      "model_module_version": "1.5.0",
      "model_name": "ProgressStyleModel",
      "state": {
       "description_width": ""
      }
     },
     "68bbf1aad3564108a9c02b1dc57af273": {
      "model_module": "@jupyter-widgets/controls",
      "model_module_version": "1.5.0",
      "model_name": "DescriptionStyleModel",
      "state": {
       "description_width": ""
      }
     },
     "68e779997a254c21a8077d081ef78395": {
      "model_module": "@jupyter-widgets/controls",
      "model_module_version": "1.5.0",
      "model_name": "DescriptionStyleModel",
      "state": {
       "description_width": ""
      }
     },
     "68ffd3d11ee440e6bd26aaabef2d7637": {
      "model_module": "jupyter-leaflet",
      "model_module_version": "^0.17.0",
      "model_name": "LeafletMapModel",
      "state": {
       "_model_module_version": "^0.17.0",
       "_view_module_version": "^0.17.0",
       "bottom": 1235,
       "center": [
        -2,
        20
       ],
       "controls": [
        "IPY_MODEL_84893e66aa854b3ab328c7cd4392db31",
        "IPY_MODEL_fb697f6d88c94490adc172ceda23147c"
       ],
       "default_style": "IPY_MODEL_d7480637d11e4ca8b7cb8715271c185f",
       "dragging_style": "IPY_MODEL_cf139be490d04206b15458659b03fd70",
       "east": 105.11718750000001,
       "fullscreen": false,
       "interpolation": "bilinear",
       "layers": [
        "IPY_MODEL_e6205ad5d8eb4991a6b9bc4fee8b10d3"
       ],
       "layout": "IPY_MODEL_bfe39b10d9d64d1c83332ef0e66ffbf0",
       "left": 654,
       "modisdate": "2024-05-09",
       "north": 31.50362930577303,
       "options": [
        "bounce_at_zoom_limits",
        "box_zoom",
        "center",
        "close_popup_on_click",
        "double_click_zoom",
        "dragging",
        "fullscreen",
        "inertia",
        "inertia_deceleration",
        "inertia_max_speed",
        "interpolation",
        "keyboard",
        "keyboard_pan_offset",
        "keyboard_zoom_offset",
        "max_zoom",
        "min_zoom",
        "prefer_canvas",
        "scroll_wheel_zoom",
        "tap",
        "tap_tolerance",
        "touch_zoom",
        "world_copy_jump",
        "zoom",
        "zoom_animation_threshold",
        "zoom_delta",
        "zoom_snap"
       ],
       "prefer_canvas": false,
       "right": 1622,
       "south": -34.74161249883172,
       "style": "IPY_MODEL_d4cd261346b14c8797a53ddd835539a0",
       "top": 835,
       "west": -65.03906250000001,
       "window_url": "https://datalab-bespin.malariagen.net/user/jonbrenas/notebooks/anopheles-genomic-surveillance.github.io/docs/workshop-2/module-4-cnv-frequencies.ipynb#",
       "zoom": 3
      }
     },
     "691fb59d542249a2bdf82bb2899e9f1b": {
      "model_module": "@jupyter-widgets/base",
      "model_module_version": "1.2.0",
      "model_name": "LayoutModel",
      "state": {
       "visibility": "hidden"
      }
     },
     "698ef2e7527e4f62bc059199d4bfd1bf": {
      "model_module": "@jupyter-widgets/controls",
      "model_module_version": "1.5.0",
      "model_name": "ProgressStyleModel",
      "state": {
       "description_width": ""
      }
     },
     "69abdfdb66d64b6b952ff2143d2c75a6": {
      "model_module": "jupyter-leaflet",
      "model_module_version": "^0.17.0",
      "model_name": "LeafletZoomControlModel",
      "state": {
       "_model_module_version": "^0.17.0",
       "_view_module_version": "^0.17.0",
       "options": [
        "position",
        "zoom_in_text",
        "zoom_in_title",
        "zoom_out_text",
        "zoom_out_title"
       ]
      }
     },
     "6a4ac1b8713c4dadb6b4c44bbcaf9618": {
      "model_module": "@jupyter-widgets/controls",
      "model_module_version": "1.5.0",
      "model_name": "ProgressStyleModel",
      "state": {
       "description_width": ""
      }
     },
     "6ad54315d1f1479b834a5b27ff22c434": {
      "model_module": "@jupyter-widgets/base",
      "model_module_version": "1.2.0",
      "model_name": "LayoutModel",
      "state": {}
     },
     "6ae33fff633240de8fd2c47b4dc91f61": {
      "model_module": "@jupyter-widgets/base",
      "model_module_version": "1.2.0",
      "model_name": "LayoutModel",
      "state": {
       "visibility": "hidden"
      }
     },
     "6b474588e3244adeb710cea8b5770416": {
      "model_module": "@jupyter-widgets/controls",
      "model_module_version": "1.5.0",
      "model_name": "DescriptionStyleModel",
      "state": {
       "description_width": ""
      }
     },
     "6b944866f8fd4645beb37dd5a70b545a": {
      "model_module": "@jupyter-widgets/controls",
      "model_module_version": "1.5.0",
      "model_name": "HTMLModel",
      "state": {
       "layout": "IPY_MODEL_207dcf7c6615442dbfc54ff90e2dd305",
       "style": "IPY_MODEL_45b5334bb9934330a5e5d17ebcdddcd4",
       "value": " 171/176 [00:04&lt;00:00, 50.21it/s]"
      }
     },
     "6c282cc8e057461e92e3477e31487bd8": {
      "model_module": "@jupyter-widgets/controls",
      "model_module_version": "1.5.0",
      "model_name": "DescriptionStyleModel",
      "state": {
       "description_width": ""
      }
     },
     "6c3dcc48e1314d8ea9ff6db7305be00c": {
      "model_module": "@jupyter-widgets/controls",
      "model_module_version": "1.5.0",
      "model_name": "HTMLModel",
      "state": {
       "layout": "IPY_MODEL_f1b16bb80ffc4c71a3495f070a7fd1ee",
       "style": "IPY_MODEL_32ba0a33a8eb453fa7fb6aaae4c0d57d",
       "value": " 55/56 [00:01&lt;00:00, 48.57it/s]"
      }
     },
     "6c572879ccf5485c8484244ed2ce5bbc": {
      "model_module": "@jupyter-widgets/controls",
      "model_module_version": "1.5.0",
      "model_name": "DescriptionStyleModel",
      "state": {
       "description_width": ""
      }
     },
     "6cbdf9669cf349bb87b1d37e6d9f45cd": {
      "model_module": "@jupyter-widgets/controls",
      "model_module_version": "1.5.0",
      "model_name": "HTMLModel",
      "state": {
       "layout": "IPY_MODEL_015cb4ad4a6f48dca47d92b79b6b7f60",
       "style": "IPY_MODEL_1488466efeb04058b5674ccc3ce8ff07",
       "value": "Compute modal gene copy number:   0%"
      }
     },
     "6cf56901673a4945b63b936274de8d73": {
      "model_module": "jupyter-leaflet",
      "model_module_version": "^0.17.0",
      "model_name": "LeafletPopupModel",
      "state": {
       "_model_module_version": "^0.17.0",
       "_view_module_version": "^0.17.0",
       "auto_close": true,
       "auto_pan": true,
       "auto_pan_padding": [
        5,
        5
       ],
       "auto_pan_padding_bottom_right": null,
       "auto_pan_padding_top_left": null,
       "child": "IPY_MODEL_5eda1c92c9294098bda8d113f31554b6",
       "close_button": true,
       "close_on_escape_key": true,
       "keep_in_view": false,
       "options": [
        "auto_close",
        "auto_pan",
        "auto_pan_padding",
        "auto_pan_padding_bottom_right",
        "auto_pan_padding_top_left",
        "close_button",
        "close_on_escape_key",
        "keep_in_view",
        "max_height",
        "max_width",
        "min_width"
       ]
      }
     },
     "6d7f3d37339d41c9a54e3add1d26a613": {
      "model_module": "@jupyter-widgets/controls",
      "model_module_version": "1.5.0",
      "model_name": "DescriptionStyleModel",
      "state": {
       "description_width": ""
      }
     },
     "6e036edbc3de49cea999e598f1c025e9": {
      "model_module": "@jupyter-widgets/controls",
      "model_module_version": "1.5.0",
      "model_name": "DropdownModel",
      "state": {
       "_options_labels": [
        "1994",
        "2000",
        "2002",
        "2004",
        "2005",
        "2009",
        "2010",
        "2011",
        "2012",
        "2013",
        "2014",
        "2015"
       ],
       "description": "Period: ",
       "index": 0,
       "layout": "IPY_MODEL_4ab0a44a769d41b8939d6b9d56d9e89d",
       "style": "IPY_MODEL_d010e3dd6c78411e9db3ce6f8a9f1715"
      }
     },
     "6e880c6ba3344803a8f92eaddf5e0344": {
      "model_module": "@jupyter-widgets/controls",
      "model_module_version": "1.5.0",
      "model_name": "DescriptionStyleModel",
      "state": {
       "description_width": ""
      }
     },
     "6eb55fd2f1f3468c97f9601b8e1377d1": {
      "model_module": "@jupyter-widgets/controls",
      "model_module_version": "1.5.0",
      "model_name": "ProgressStyleModel",
      "state": {
       "description_width": ""
      }
     },
     "6ec0d1fbe52e44d6b074e6dff5acac08": {
      "model_module": "@jupyter-widgets/base",
      "model_module_version": "1.2.0",
      "model_name": "LayoutModel",
      "state": {
       "visibility": "hidden"
      }
     },
     "6ec483da785942a8a0397be5b9e62489": {
      "model_module": "@jupyter-widgets/controls",
      "model_module_version": "1.5.0",
      "model_name": "DescriptionStyleModel",
      "state": {
       "description_width": ""
      }
     },
     "6f12cd4df32f4bee9682a6b6e41a3051": {
      "model_module": "@jupyter-widgets/base",
      "model_module_version": "1.2.0",
      "model_name": "LayoutModel",
      "state": {
       "visibility": "hidden"
      }
     },
     "6fdae20fa6e740fa8596287345399c0a": {
      "model_module": "@jupyter-widgets/controls",
      "model_module_version": "1.5.0",
      "model_name": "HTMLModel",
      "state": {
       "layout": "IPY_MODEL_4b28c7e1448f4b2ca57c96cf78f74446",
       "style": "IPY_MODEL_43838f1041b64501972718ee68005714",
       "value": " 499/504 [00:13&lt;00:00, 35.98it/s]"
      }
     },
     "6fe85e4f6d04452b987ae82d57fccd42": {
      "model_module": "@jupyter-widgets/base",
      "model_module_version": "1.2.0",
      "model_name": "LayoutModel",
      "state": {}
     },
     "7074a3018dc843999b1e370fb0421f67": {
      "model_module": "@jupyter-widgets/base",
      "model_module_version": "1.2.0",
      "model_name": "LayoutModel",
      "state": {}
     },
     "70781fa5350e45d08ef8a68629df9585": {
      "model_module": "@jupyter-widgets/controls",
      "model_module_version": "1.5.0",
      "model_name": "DescriptionStyleModel",
      "state": {
       "description_width": ""
      }
     },
     "711e7c001d324fec989abb2ecf824732": {
      "model_module": "@jupyter-widgets/controls",
      "model_module_version": "1.5.0",
      "model_name": "HTMLModel",
      "state": {
       "layout": "IPY_MODEL_2492b605e39048d383b0bdf7dc5a463f",
       "style": "IPY_MODEL_12fe7aa9e20d4447898a5caf141c19c3",
       "value": "Compute modal gene copy number:   0%"
      }
     },
     "73387dfdeea744e084fd1375822a923e": {
      "model_module": "@jupyter-widgets/base",
      "model_module_version": "1.2.0",
      "model_name": "LayoutModel",
      "state": {}
     },
     "734cf01a71954f4b92fb02a919e00284": {
      "model_module": "jupyter-leaflet",
      "model_module_version": "^0.17.0",
      "model_name": "LeafletCircleMarkerModel",
      "state": {
       "_model_module_version": "^0.17.0",
       "_view_module_version": "^0.17.0",
       "color": "black",
       "fill_color": "red",
       "fill_opacity": 0.2978723404255319,
       "location": [
        -0.7509999999999999,
        29.701000000000004
       ],
       "options": [
        "color",
        "dash_array",
        "fill",
        "fill_color",
        "fill_opacity",
        "line_cap",
        "line_join",
        "opacity",
        "pointer_events",
        "radius",
        "stroke",
        "weight"
       ],
       "popup": "IPY_MODEL_5701f9b3c57e4887b2304789301cda93",
       "radius": 20,
       "weight": 1
      }
     },
     "735c4f325c6d40f1b40db1623e212b3a": {
      "model_module": "@jupyter-widgets/controls",
      "model_module_version": "1.5.0",
      "model_name": "HTMLModel",
      "state": {
       "layout": "IPY_MODEL_e59134b4130d4eba8776ff2f007c6f93",
       "style": "IPY_MODEL_cf836cca934a4dd69d8a7113902b4d75",
       "value": "Compute modal gene copy number:   0%"
      }
     },
     "736111a1608c40dd98933a99eeb6344f": {
      "model_module": "@jupyter-widgets/base",
      "model_module_version": "1.2.0",
      "model_name": "LayoutModel",
      "state": {}
     },
     "755db93b3869408d9609eb0e115ffce6": {
      "model_module": "@jupyter-widgets/base",
      "model_module_version": "1.2.0",
      "model_name": "LayoutModel",
      "state": {
       "visibility": "hidden"
      }
     },
     "75a5c4275b7e4b42aed2f67e098c27e5": {
      "model_module": "@jupyter-widgets/base",
      "model_module_version": "1.2.0",
      "model_name": "LayoutModel",
      "state": {}
     },
     "75e31a1855494c7ba2bc62ba73f02fb9": {
      "model_module": "@jupyter-widgets/controls",
      "model_module_version": "1.5.0",
      "model_name": "HTMLModel",
      "state": {
       "layout": "IPY_MODEL_11c23f946a1b42a58e2887d994c13b50",
       "style": "IPY_MODEL_b91e756b51094ab595c669ac3556b70b",
       "value": " 55/56 [00:01&lt;00:00, 48.01it/s]"
      }
     },
     "762d1e3dd4c1479aac7c335b2181130c": {
      "model_module": "@jupyter-widgets/base",
      "model_module_version": "1.2.0",
      "model_name": "LayoutModel",
      "state": {}
     },
     "76b60753851746db98587ddf044e6e85": {
      "model_module": "@jupyter-widgets/base",
      "model_module_version": "1.2.0",
      "model_name": "LayoutModel",
      "state": {}
     },
     "775b3ec93eab4d16a5055bc9e3a55adf": {
      "model_module": "@jupyter-widgets/controls",
      "model_module_version": "1.5.0",
      "model_name": "HTMLModel",
      "state": {
       "layout": "IPY_MODEL_7e4f1b85efa04034881b4f135a48042e",
       "style": "IPY_MODEL_e1497923a1694e71bfe375ff8dbb21cc",
       "value": "Compute modal gene copy number:   0%"
      }
     },
     "79dcfc0e6598421dbef5eb82b981fafd": {
      "model_module": "jupyter-leaflet",
      "model_module_version": "^0.17.0",
      "model_name": "LeafletPopupModel",
      "state": {
       "_model_module_version": "^0.17.0",
       "_view_module_version": "^0.17.0",
       "auto_close": true,
       "auto_pan": true,
       "auto_pan_padding": [
        5,
        5
       ],
       "auto_pan_padding_bottom_right": null,
       "auto_pan_padding_top_left": null,
       "child": "IPY_MODEL_546d09c663ec478ebcbcf048feaa7e05",
       "close_button": true,
       "close_on_escape_key": true,
       "keep_in_view": false,
       "options": [
        "auto_close",
        "auto_pan",
        "auto_pan_padding",
        "auto_pan_padding_bottom_right",
        "auto_pan_padding_top_left",
        "close_button",
        "close_on_escape_key",
        "keep_in_view",
        "max_height",
        "max_width",
        "min_width"
       ]
      }
     },
     "7a1ff8dd55bb48c4abc4bc4372c4abe2": {
      "model_module": "@jupyter-widgets/controls",
      "model_module_version": "1.5.0",
      "model_name": "HTMLModel",
      "state": {
       "layout": "IPY_MODEL_cda2934305d548cc9c3603039d990bdf",
       "style": "IPY_MODEL_0c6dec341a28420288f6efb5ddac776f",
       "value": "\n                Variant frequencies are shown as coloured markers. Opacity of color\n                denotes frequency. Click on a marker for more information.\n            "
      }
     },
     "7a49b5f1a3f746af9aacc2f9d66acd16": {
      "model_module": "jupyter-leaflet",
      "model_module_version": "^0.17.0",
      "model_name": "LeafletPopupModel",
      "state": {
       "_model_module_version": "^0.17.0",
       "_view_module_version": "^0.17.0",
       "auto_close": true,
       "auto_pan": true,
       "auto_pan_padding": [
        5,
        5
       ],
       "auto_pan_padding_bottom_right": null,
       "auto_pan_padding_top_left": null,
       "child": "IPY_MODEL_600bdc7f5a7c4491941d814fd6a892c4",
       "close_button": true,
       "close_on_escape_key": true,
       "keep_in_view": false,
       "options": [
        "auto_close",
        "auto_pan",
        "auto_pan_padding",
        "auto_pan_padding_bottom_right",
        "auto_pan_padding_top_left",
        "close_button",
        "close_on_escape_key",
        "keep_in_view",
        "max_height",
        "max_width",
        "min_width"
       ]
      }
     },
     "7a9ceefd51a146bda949eae9e164800b": {
      "model_module": "@jupyter-widgets/controls",
      "model_module_version": "1.5.0",
      "model_name": "ProgressStyleModel",
      "state": {
       "description_width": ""
      }
     },
     "7abe6f3db1cb44ef9bf123ddd90553e8": {
      "model_module": "@jupyter-widgets/base",
      "model_module_version": "1.2.0",
      "model_name": "LayoutModel",
      "state": {
       "visibility": "hidden"
      }
     },
     "7c382c6ac45f48f3a76e9d94b3613650": {
      "model_module": "@jupyter-widgets/controls",
      "model_module_version": "1.5.0",
      "model_name": "FloatProgressModel",
      "state": {
       "layout": "IPY_MODEL_5de4317c233a4602bac62687b1f97664",
       "max": 216,
       "style": "IPY_MODEL_a5ea9ab08d364cd091493d5a66278cad",
       "value": 216
      }
     },
     "7cdee244fd3142199e692b7e2fd8b9d7": {
      "model_module": "@jupyter-widgets/controls",
      "model_module_version": "1.5.0",
      "model_name": "HTMLModel",
      "state": {
       "layout": "IPY_MODEL_1d999b7b348f4d8293bd41fac027c13c",
       "style": "IPY_MODEL_41fad389b22449f89db90069367c6d41",
       "value": " 0/11 [00:00&lt;?, ?it/s]"
      }
     },
     "7ce2869f500f404eb30dfec0a39b3e7a": {
      "model_module": "jupyter-leaflet",
      "model_module_version": "^0.17.0",
      "model_name": "LeafletMapStyleModel",
      "state": {
       "_model_module_version": "^0.17.0"
      }
     },
     "7ceaeaa99e2b46cfbdab1d6012212c24": {
      "model_module": "jupyter-leaflet",
      "model_module_version": "^0.17.0",
      "model_name": "LeafletCircleMarkerModel",
      "state": {
       "_model_module_version": "^0.17.0",
       "_view_module_version": "^0.17.0",
       "color": "black",
       "fill_color": "red",
       "fill_opacity": 0.043478260869565216,
       "location": [
        6.094,
        -0.261
       ],
       "options": [
        "color",
        "dash_array",
        "fill",
        "fill_color",
        "fill_opacity",
        "line_cap",
        "line_join",
        "opacity",
        "pointer_events",
        "radius",
        "stroke",
        "weight"
       ],
       "popup": "IPY_MODEL_7a49b5f1a3f746af9aacc2f9d66acd16",
       "radius": 20,
       "weight": 1
      }
     },
     "7da768bfc1fd4b718fde6b7e715b3481": {
      "model_module": "jupyter-leaflet",
      "model_module_version": "^0.17.0",
      "model_name": "LeafletCircleMarkerModel",
      "state": {
       "_model_module_version": "^0.17.0",
       "_view_module_version": "^0.17.0",
       "color": "black",
       "fill_color": "red",
       "fill_opacity": 0.6428571428571429,
       "location": [
        0.7700000000000001,
        34.026
       ],
       "options": [
        "color",
        "dash_array",
        "fill",
        "fill_color",
        "fill_opacity",
        "line_cap",
        "line_join",
        "opacity",
        "pointer_events",
        "radius",
        "stroke",
        "weight"
       ],
       "popup": "IPY_MODEL_9aedd1f7176f485ca4bf1b0de659b877",
       "radius": 20,
       "weight": 1
      }
     },
     "7e4f1b85efa04034881b4f135a48042e": {
      "model_module": "@jupyter-widgets/base",
      "model_module_version": "1.2.0",
      "model_name": "LayoutModel",
      "state": {}
     },
     "7e875adc4490459baed97bb5f2321e7c": {
      "model_module": "@jupyter-widgets/base",
      "model_module_version": "1.2.0",
      "model_name": "LayoutModel",
      "state": {}
     },
     "7f18979c948e43a584c2e1dad7599954": {
      "model_module": "@jupyter-widgets/base",
      "model_module_version": "1.2.0",
      "model_name": "LayoutModel",
      "state": {}
     },
     "800e073c3030404fbb6ce0c0278bbfd1": {
      "model_module": "jupyter-leaflet",
      "model_module_version": "^0.17.0",
      "model_name": "LeafletZoomControlModel",
      "state": {
       "_model_module_version": "^0.17.0",
       "_view_module_version": "^0.17.0",
       "options": [
        "position",
        "zoom_in_text",
        "zoom_in_title",
        "zoom_out_text",
        "zoom_out_title"
       ]
      }
     },
     "80657ead2af048a187622acb3ba6ad8f": {
      "model_module": "@jupyter-widgets/base",
      "model_module_version": "1.2.0",
      "model_name": "LayoutModel",
      "state": {}
     },
     "81a01a1361504bdea445540bc64ebb1b": {
      "model_module": "@jupyter-widgets/controls",
      "model_module_version": "1.5.0",
      "model_name": "DescriptionStyleModel",
      "state": {
       "description_width": ""
      }
     },
     "81ebe939e4204472b1ba643c02c560ad": {
      "model_module": "@jupyter-widgets/base",
      "model_module_version": "1.2.0",
      "model_name": "LayoutModel",
      "state": {}
     },
     "8233f92b9b984767b811a84868050ec2": {
      "model_module": "@jupyter-widgets/controls",
      "model_module_version": "1.5.0",
      "model_name": "HTMLModel",
      "state": {
       "layout": "IPY_MODEL_e8ddea7596304e1a938db9cf8011d26b",
       "style": "IPY_MODEL_5f8d148c2ba74a30a9f45787e92608ff",
       "value": " 0/11 [00:00&lt;?, ?it/s]"
      }
     },
     "82a379dc2db24019846fc6465ab3e330": {
      "model_module": "@jupyter-widgets/controls",
      "model_module_version": "1.5.0",
      "model_name": "FloatProgressModel",
      "state": {
       "layout": "IPY_MODEL_b2107558c5c64f10af7ee849c1db6ad9",
       "max": 11,
       "style": "IPY_MODEL_362a75c2752d4757b396b7b4186fb4ab",
       "value": 11
      }
     },
     "82ba25d0a3ea4f71b611bcaad21f15dd": {
      "model_module": "@jupyter-widgets/base",
      "model_module_version": "1.2.0",
      "model_name": "LayoutModel",
      "state": {}
     },
     "82d508ddb21940538d61e917116a2877": {
      "model_module": "@jupyter-widgets/controls",
      "model_module_version": "1.5.0",
      "model_name": "HTMLModel",
      "state": {
       "layout": "IPY_MODEL_6fe85e4f6d04452b987ae82d57fccd42",
       "style": "IPY_MODEL_2a98d625bb3d41a09082823a41053c2d",
       "value": "Compute modal gene copy number:   0%"
      }
     },
     "8335bc4a897548489a9bc3910d407b10": {
      "model_module": "@jupyter-widgets/controls",
      "model_module_version": "1.5.0",
      "model_name": "DescriptionStyleModel",
      "state": {
       "description_width": ""
      }
     },
     "8399712ce69542b3bd3ccc25a9313952": {
      "model_module": "@jupyter-widgets/controls",
      "model_module_version": "1.5.0",
      "model_name": "FloatProgressModel",
      "state": {
       "layout": "IPY_MODEL_54e2794eb00845b5891a3ee0e10c8a66",
       "max": 56,
       "style": "IPY_MODEL_f27b965c62dc45ac8af512b4c92b579c",
       "value": 56
      }
     },
     "83cbea32e03c4ce5bce923c034a8e4a2": {
      "model_module": "@jupyter-widgets/controls",
      "model_module_version": "1.5.0",
      "model_name": "HTMLModel",
      "state": {
       "layout": "IPY_MODEL_cd25fea045154fe5b07fa420c696d5da",
       "style": "IPY_MODEL_458bf8dde5d442b4b38f454822438366",
       "value": "\n                <strong>AGAP002862 (CYP6AA1) amp</strong> <br/>\n                Taxon: gambiae <br/>\n                Area: GH-EP <br/>\n                Period: 2012 <br/>\n                Sample size: 23 <br/>\n                Frequency: 4%\n                (95% CI: 1% - 21%)\n            "
      }
     },
     "84893e66aa854b3ab328c7cd4392db31": {
      "model_module": "jupyter-leaflet",
      "model_module_version": "^0.17.0",
      "model_name": "LeafletZoomControlModel",
      "state": {
       "_model_module_version": "^0.17.0",
       "_view_module_version": "^0.17.0",
       "options": [
        "position",
        "zoom_in_text",
        "zoom_in_title",
        "zoom_out_text",
        "zoom_out_title"
       ]
      }
     },
     "84d152856af3470582457a55982ad86b": {
      "model_module": "@jupyter-widgets/controls",
      "model_module_version": "1.5.0",
      "model_name": "FloatProgressModel",
      "state": {
       "layout": "IPY_MODEL_a7cf09ffa34a41f9b5cd68cb62b7e886",
       "max": 11,
       "style": "IPY_MODEL_58423f22c6ca461781664bbace9a13ab",
       "value": 11
      }
     },
     "84dc8acfb7d640c28bf589945a9371a2": {
      "model_module": "@jupyter-widgets/controls",
      "model_module_version": "1.5.0",
      "model_name": "HTMLModel",
      "state": {
       "layout": "IPY_MODEL_89a0cc4f073a466e88085a13c41a1da5",
       "style": "IPY_MODEL_a41bd69cffc24df9847662bd46a15b56",
       "value": "Compute modal gene copy number:   0%"
      }
     },
     "84e508f4e49b48b7a4a305611ab071fb": {
      "model_module": "@jupyter-widgets/controls",
      "model_module_version": "1.5.0",
      "model_name": "DescriptionStyleModel",
      "state": {
       "description_width": ""
      }
     },
     "860fcd836da343b988e21ad71344b27d": {
      "model_module": "@jupyter-widgets/base",
      "model_module_version": "1.2.0",
      "model_name": "LayoutModel",
      "state": {}
     },
     "868a7176e75a42e5b83a37d87bc7d35e": {
      "model_module": "@jupyter-widgets/controls",
      "model_module_version": "1.5.0",
      "model_name": "DropdownModel",
      "state": {
       "_options_labels": [
        "AGAP002859 amp",
        "AGAP002862 (CYP6AA1) amp",
        "AGAP013128 (CYP6AA2) amp",
        "AGAP002863 (COEAE6O) amp",
        "AGAP002864 (CYP6P15P) amp",
        "AGAP002865 (CYP6P3) amp",
        "AGAP002865 (CYP6P3) del",
        "AGAP002866 (CYP6P5) amp",
        "AGAP002867 (CYP6P4) amp",
        "AGAP002868 (CYP6P1) amp",
        "AGAP002869 (CYP6P2) amp",
        "AGAP002870 (CYP6AD1) amp"
       ],
       "description": "Variant: ",
       "index": 1,
       "layout": "IPY_MODEL_b62b838f3a32442594984f6ed00b529f",
       "style": "IPY_MODEL_81a01a1361504bdea445540bc64ebb1b"
      }
     },
     "86984d362ede48ba95b24cc8a7213175": {
      "model_module": "@jupyter-widgets/controls",
      "model_module_version": "1.5.0",
      "model_name": "FloatProgressModel",
      "state": {
       "layout": "IPY_MODEL_f55b93cc0ac643068345af9dd6eddf45",
       "max": 11,
       "style": "IPY_MODEL_9cab1a745ee64d129c94988a37aaba2b",
       "value": 11
      }
     },
     "87114002028646fdb20dd4f3051ffd51": {
      "model_module": "@jupyter-widgets/base",
      "model_module_version": "1.2.0",
      "model_name": "LayoutModel",
      "state": {}
     },
     "871a35de8fee4082b5f7101fe01160ea": {
      "model_module": "@jupyter-widgets/controls",
      "model_module_version": "1.5.0",
      "model_name": "ProgressStyleModel",
      "state": {
       "description_width": ""
      }
     },
     "879ba1f41e784a76a506dde99ecd0455": {
      "model_module": "jupyter-leaflet",
      "model_module_version": "^0.17.0",
      "model_name": "LeafletCircleMarkerModel",
      "state": {
       "_model_module_version": "^0.17.0",
       "_view_module_version": "^0.17.0",
       "color": "black",
       "fill_color": "red",
       "fill_opacity": 0.109375,
       "location": [
        10.88,
        -7.850625
       ],
       "options": [
        "color",
        "dash_array",
        "fill",
        "fill_color",
        "fill_opacity",
        "line_cap",
        "line_join",
        "opacity",
        "pointer_events",
        "radius",
        "stroke",
        "weight"
       ],
       "popup": "IPY_MODEL_0acb63d0574b459c9b4cdc3222683fef",
       "radius": 20,
       "weight": 1
      }
     },
     "886128bf3a67494aa31e0b4dde9fff27": {
      "model_module": "@jupyter-widgets/base",
      "model_module_version": "1.2.0",
      "model_name": "LayoutModel",
      "state": {}
     },
     "88a8df1354834e519dbdac13736ed0a7": {
      "model_module": "@jupyter-widgets/controls",
      "model_module_version": "1.5.0",
      "model_name": "VBoxModel",
      "state": {
       "_dom_classes": [
        "widget-interact"
       ],
       "children": [
        "IPY_MODEL_37a798ec55364225a0b90eeca0b99133",
        "IPY_MODEL_a52a5cbe992442c186c4a2cc2a263e0a",
        "IPY_MODEL_bfbd0498b3b448609183e81b0ab9d2bf",
        "IPY_MODEL_2cb82d4486924c83a9d547870dfffb07"
       ],
       "layout": "IPY_MODEL_9dbf0863737141b784d97df264c5826d"
      }
     },
     "88bb5b0245bd416b8f511cb2c7b0c9f9": {
      "model_module": "@jupyter-widgets/base",
      "model_module_version": "1.2.0",
      "model_name": "LayoutModel",
      "state": {}
     },
     "88bf6d6158ef44d4a8679d3694dc9426": {
      "model_module": "@jupyter-widgets/controls",
      "model_module_version": "1.5.0",
      "model_name": "HTMLModel",
      "state": {
       "layout": "IPY_MODEL_49e61e20ed4d497d9567c031f16dba98",
       "style": "IPY_MODEL_325039f3e0d8426b961bb8460643b003",
       "value": " 0/11 [00:00&lt;?, ?it/s]"
      }
     },
     "898c080a78284f428fa01c107e4b9f80": {
      "model_module": "@jupyter-widgets/base",
      "model_module_version": "1.2.0",
      "model_name": "LayoutModel",
      "state": {}
     },
     "89a0cc4f073a466e88085a13c41a1da5": {
      "model_module": "@jupyter-widgets/base",
      "model_module_version": "1.2.0",
      "model_name": "LayoutModel",
      "state": {}
     },
     "8a978fa976124f45b5cba0196b267df9": {
      "model_module": "@jupyter-widgets/base",
      "model_module_version": "1.2.0",
      "model_name": "LayoutModel",
      "state": {
       "visibility": "hidden"
      }
     },
     "8b7cc4d790894f04ba01d32808159f53": {
      "model_module": "@jupyter-widgets/controls",
      "model_module_version": "1.5.0",
      "model_name": "HTMLModel",
      "state": {
       "layout": "IPY_MODEL_1160a56ea39b489e8db2d21901baf769",
       "style": "IPY_MODEL_06f8d6dbedaa4e1ca9d4cc42bc0b7ca5",
       "value": " 0/11 [00:00&lt;?, ?it/s]"
      }
     },
     "8b7ee9581acd4a04a09f40b6e2a3e04b": {
      "model_module": "@jupyter-widgets/base",
      "model_module_version": "1.2.0",
      "model_name": "LayoutModel",
      "state": {}
     },
     "8bd59606f4574bf793a4c9ee30cc3073": {
      "model_module": "@jupyter-widgets/controls",
      "model_module_version": "1.5.0",
      "model_name": "DescriptionStyleModel",
      "state": {
       "description_width": ""
      }
     },
     "8c4c34497aee41fe866e06a4a7b6273c": {
      "model_module": "@jupyter-widgets/controls",
      "model_module_version": "1.5.0",
      "model_name": "DescriptionStyleModel",
      "state": {
       "description_width": ""
      }
     },
     "8c5926049f80440782cfb244a3f376f7": {
      "model_module": "@jupyter-widgets/controls",
      "model_module_version": "1.5.0",
      "model_name": "DescriptionStyleModel",
      "state": {
       "description_width": ""
      }
     },
     "8c891ca84e1a4d6691245e6b797e8a74": {
      "model_module": "jupyter-leaflet",
      "model_module_version": "^0.17.0",
      "model_name": "LeafletCircleMarkerModel",
      "state": {
       "_model_module_version": "^0.17.0",
       "_view_module_version": "^0.17.0",
       "color": "black",
       "fill_color": "red",
       "fill_opacity": 0.2978723404255319,
       "location": [
        -0.7509999999999999,
        29.701000000000004
       ],
       "options": [
        "color",
        "dash_array",
        "fill",
        "fill_color",
        "fill_opacity",
        "line_cap",
        "line_join",
        "opacity",
        "pointer_events",
        "radius",
        "stroke",
        "weight"
       ],
       "popup": "IPY_MODEL_b26e181536c74864af039cd73c5658f1",
       "radius": 20,
       "weight": 1
      }
     },
     "8c98b015fe0045fca1506fb94455e159": {
      "model_module": "@jupyter-widgets/controls",
      "model_module_version": "1.5.0",
      "model_name": "HTMLModel",
      "state": {
       "layout": "IPY_MODEL_f86069ebe0254a1a894871bf0f9c247e",
       "style": "IPY_MODEL_68e779997a254c21a8077d081ef78395",
       "value": " 55/56 [00:01&lt;00:00, 48.60it/s]"
      }
     },
     "8cd5253271ea4416875bdf4a8f796a87": {
      "model_module": "@jupyter-widgets/controls",
      "model_module_version": "1.5.0",
      "model_name": "DescriptionStyleModel",
      "state": {
       "description_width": ""
      }
     },
     "8cf3aff223fc4b51b7ca9fe4aaacb1d3": {
      "model_module": "@jupyter-widgets/base",
      "model_module_version": "1.2.0",
      "model_name": "LayoutModel",
      "state": {
       "visibility": "hidden"
      }
     },
     "8f227e9b1b6942329e266dc908d87dad": {
      "model_module": "@jupyter-widgets/controls",
      "model_module_version": "1.5.0",
      "model_name": "HTMLModel",
      "state": {
       "layout": "IPY_MODEL_b02bee99f17549c0b76175dd535d2f06",
       "style": "IPY_MODEL_c23500dedd894d5b8802f90aab14c310",
       "value": " 216/216 [00:06&lt;00:00, 40.40it/s]"
      }
     },
     "8f7f114f93284fdabafd984de4b930f3": {
      "model_module": "@jupyter-widgets/controls",
      "model_module_version": "1.5.0",
      "model_name": "HTMLModel",
      "state": {
       "layout": "IPY_MODEL_7074a3018dc843999b1e370fb0421f67",
       "style": "IPY_MODEL_fede03d929964e07b7a818e7ba196ab4",
       "value": "Compute modal gene copy number:   0%"
      }
     },
     "8fd2f0df8ecd410ca709d09718637c13": {
      "model_module": "@jupyter-widgets/controls",
      "model_module_version": "1.5.0",
      "model_name": "HTMLModel",
      "state": {
       "layout": "IPY_MODEL_ec47d83147584087a3b36efd8f340875",
       "style": "IPY_MODEL_5ccfdf9ef1914a9f8e763399fcd4bdd9",
       "value": "\n                <strong>AGAP002862 (CYP6AA1) amp</strong> <br/>\n                Taxon: gambiae <br/>\n                Area: ML-3 <br/>\n                Period: 2012 <br/>\n                Sample size: 64 <br/>\n                Frequency: 11%\n                (95% CI: 5% - 21%)\n            "
      }
     },
     "8fe49b2e5f0c4e6a93c8c8ac4a435c91": {
      "model_module": "@jupyter-widgets/base",
      "model_module_version": "1.2.0",
      "model_name": "LayoutModel",
      "state": {}
     },
     "900dff37c0d24fefbcd4fa90d00d465d": {
      "model_module": "@jupyter-widgets/base",
      "model_module_version": "1.2.0",
      "model_name": "LayoutModel",
      "state": {}
     },
     "905f07797ebb41609029408a5f523f7e": {
      "model_module": "@jupyter-widgets/controls",
      "model_module_version": "1.5.0",
      "model_name": "HTMLModel",
      "state": {
       "layout": "IPY_MODEL_7e875adc4490459baed97bb5f2321e7c",
       "style": "IPY_MODEL_0eccacced4c84cb3933970acd56cd524",
       "value": "Compute modal gene copy number:   0%"
      }
     },
     "90e616990f89458dab0c9a0fea7d51c2": {
      "model_module": "@jupyter-widgets/controls",
      "model_module_version": "1.5.0",
      "model_name": "DescriptionStyleModel",
      "state": {
       "description_width": ""
      }
     },
     "92d1d29d68284676ba8faf90043566d7": {
      "model_module": "@jupyter-widgets/controls",
      "model_module_version": "1.5.0",
      "model_name": "FloatProgressModel",
      "state": {
       "layout": "IPY_MODEL_443254f78a9042cdbbad1276590eb507",
       "max": 56,
       "style": "IPY_MODEL_3239fa86f0e149dd98418c4ec698b0f8",
       "value": 56
      }
     },
     "934993016ed047fb95416fa018d951b9": {
      "model_module": "@jupyter-widgets/base",
      "model_module_version": "1.2.0",
      "model_name": "LayoutModel",
      "state": {}
     },
     "93d212a26f2949619e458f99a6f0fba1": {
      "model_module": "@jupyter-widgets/controls",
      "model_module_version": "1.5.0",
      "model_name": "DescriptionStyleModel",
      "state": {
       "description_width": ""
      }
     },
     "940b658b7f8c4cdd8890b328eb6c317b": {
      "model_module": "@jupyter-widgets/controls",
      "model_module_version": "1.5.0",
      "model_name": "FloatProgressModel",
      "state": {
       "layout": "IPY_MODEL_c8ba04219b4f4bd498043de2e883bff3",
       "max": 11,
       "style": "IPY_MODEL_f092848ff3b2436bb295466333a223c2",
       "value": 11
      }
     },
     "9443f72e91f94635aa76a753fae21acd": {
      "model_module": "@jupyter-widgets/controls",
      "model_module_version": "1.5.0",
      "model_name": "DescriptionStyleModel",
      "state": {
       "description_width": ""
      }
     },
     "94c3791d242b44b88ce0b68b328dde97": {
      "model_module": "@jupyter-widgets/controls",
      "model_module_version": "1.5.0",
      "model_name": "HTMLModel",
      "state": {
       "layout": "IPY_MODEL_00253f09e79b4aeda6e78d489ea7884d",
       "style": "IPY_MODEL_6b474588e3244adeb710cea8b5770416",
       "value": " 0/11 [00:00&lt;?, ?it/s]"
      }
     },
     "94d6656a21d54611b209dabbaba2fa75": {
      "model_module": "@jupyter-widgets/controls",
      "model_module_version": "1.5.0",
      "model_name": "DescriptionStyleModel",
      "state": {
       "description_width": ""
      }
     },
     "94e9fab96a004ec8b600513c78864187": {
      "model_module": "@jupyter-widgets/controls",
      "model_module_version": "1.5.0",
      "model_name": "HTMLModel",
      "state": {
       "layout": "IPY_MODEL_e08ddbcadb754ef48a4e99b76bb6d8cc",
       "style": "IPY_MODEL_9d54c56a545d4cc9b95438ba9582e741",
       "value": "Compute modal gene copy number:   0%"
      }
     },
     "9615919f29fd4a72bcdb394f539ef5a1": {
      "model_module": "@jupyter-widgets/controls",
      "model_module_version": "1.5.0",
      "model_name": "HTMLModel",
      "state": {
       "layout": "IPY_MODEL_b7619fe1787b400983d88c0227073e8c",
       "style": "IPY_MODEL_41b76f1ed15d46d9b1c2de3b7cb43c61",
       "value": " 0/11 [00:00&lt;?, ?it/s]"
      }
     },
     "9669454815544ecbbff18c98c6b70441": {
      "model_module": "@jupyter-widgets/controls",
      "model_module_version": "1.5.0",
      "model_name": "HTMLModel",
      "state": {
       "layout": "IPY_MODEL_2ba42e9d6a5d45aaa62939619ac43d59",
       "style": "IPY_MODEL_50d788e5188d4ac587f07fbb4cca8ac8",
       "value": "Load CNV HMM data: 100%"
      }
     },
     "96af83b3b72d4a6996621b6804805dae": {
      "model_module": "@jupyter-widgets/controls",
      "model_module_version": "1.5.0",
      "model_name": "FloatProgressModel",
      "state": {
       "layout": "IPY_MODEL_01c33b7680b847f5b9270823616d1a17",
       "max": 176,
       "style": "IPY_MODEL_db90f49218f840a09946a387513d341c",
       "value": 176
      }
     },
     "972d17212003453aab9c7d86bbd31d59": {
      "model_module": "@jupyter-widgets/controls",
      "model_module_version": "1.5.0",
      "model_name": "DescriptionStyleModel",
      "state": {
       "description_width": ""
      }
     },
     "97714596057342a79439e984f66e7c78": {
      "model_module": "@jupyter-widgets/base",
      "model_module_version": "1.2.0",
      "model_name": "LayoutModel",
      "state": {}
     },
     "97a11e7664094106af2e7a7fc8b7839d": {
      "model_module": "@jupyter-widgets/controls",
      "model_module_version": "1.5.0",
      "model_name": "HTMLModel",
      "state": {
       "layout": "IPY_MODEL_2186f10e9296477ab82bb78434e8e563",
       "style": "IPY_MODEL_18f8875ac626476abe530ed8059a98d3",
       "value": "\n                <strong>AGAP002862 (CYP6AA1) amp</strong> <br/>\n                Taxon: gambiae <br/>\n                Area: BF-09 <br/>\n                Period: 2012 <br/>\n                Sample size: 98 <br/>\n                Frequency: 4%\n                (95% CI: 2% - 10%)\n            "
      }
     },
     "981769c2f643443b87d537c20ba84f1b": {
      "model_module": "@jupyter-widgets/base",
      "model_module_version": "1.2.0",
      "model_name": "LayoutModel",
      "state": {}
     },
     "9821ee2c27d4448e8e20cfce45293f95": {
      "model_module": "@jupyter-widgets/base",
      "model_module_version": "1.2.0",
      "model_name": "LayoutModel",
      "state": {}
     },
     "98c56458e1bc4df0a2393a71935e6d42": {
      "model_module": "@jupyter-widgets/controls",
      "model_module_version": "1.5.0",
      "model_name": "HTMLModel",
      "state": {
       "layout": "IPY_MODEL_165a2a07a82440a393ad96c6a37e7a8f",
       "style": "IPY_MODEL_f60c56466ea64d879dc8e84b2839bd60",
       "value": "\n                <strong>AGAP002862 (CYP6AA1) amp</strong> <br/>\n                Taxon: gambiae <br/>\n                Area: GN-F <br/>\n                Period: 2012 <br/>\n                Sample size: 60 <br/>\n                Frequency: 10%\n                (95% CI: 5% - 20%)\n            "
      }
     },
     "98fbe28c738547148e69d9c9ad4ced63": {
      "model_module": "@jupyter-widgets/base",
      "model_module_version": "1.2.0",
      "model_name": "LayoutModel",
      "state": {}
     },
     "993529adc738451b809d2a5e0368df48": {
      "model_module": "@jupyter-widgets/controls",
      "model_module_version": "1.5.0",
      "model_name": "HTMLModel",
      "state": {
       "layout": "IPY_MODEL_f87168f4e27849bea9f033fd51ccc428",
       "style": "IPY_MODEL_94d6656a21d54611b209dabbaba2fa75",
       "value": "\n                <strong>AGAP002862 (CYP6AA1) amp</strong> <br/>\n                Taxon: gambiae <br/>\n                Area: UG-W <br/>\n                Period: 2012 <br/>\n                Sample size: 94 <br/>\n                Frequency: 30%\n                (95% CI: 21% - 40%)\n            "
      }
     },
     "9aedd1f7176f485ca4bf1b0de659b877": {
      "model_module": "jupyter-leaflet",
      "model_module_version": "^0.17.0",
      "model_name": "LeafletPopupModel",
      "state": {
       "_model_module_version": "^0.17.0",
       "_view_module_version": "^0.17.0",
       "auto_close": true,
       "auto_pan": true,
       "auto_pan_padding": [
        5,
        5
       ],
       "auto_pan_padding_bottom_right": null,
       "auto_pan_padding_top_left": null,
       "child": "IPY_MODEL_562b1f23dcf045dca7c9a4f77ef9041d",
       "close_button": true,
       "close_on_escape_key": true,
       "keep_in_view": false,
       "options": [
        "auto_close",
        "auto_pan",
        "auto_pan_padding",
        "auto_pan_padding_bottom_right",
        "auto_pan_padding_top_left",
        "close_button",
        "close_on_escape_key",
        "keep_in_view",
        "max_height",
        "max_width",
        "min_width"
       ]
      }
     },
     "9b053555feef430fbfe03a92801e3640": {
      "model_module": "@jupyter-widgets/controls",
      "model_module_version": "1.5.0",
      "model_name": "DescriptionStyleModel",
      "state": {
       "description_width": ""
      }
     },
     "9c4300d2712e47579fb654070a5857fd": {
      "model_module": "@jupyter-widgets/base",
      "model_module_version": "1.2.0",
      "model_name": "LayoutModel",
      "state": {}
     },
     "9cab1a745ee64d129c94988a37aaba2b": {
      "model_module": "@jupyter-widgets/controls",
      "model_module_version": "1.5.0",
      "model_name": "ProgressStyleModel",
      "state": {
       "description_width": ""
      }
     },
     "9ceac569005c498784bee6d3c383275d": {
      "model_module": "@jupyter-widgets/controls",
      "model_module_version": "1.5.0",
      "model_name": "HTMLModel",
      "state": {
       "layout": "IPY_MODEL_2ac0bb6ba27e4bf193fda8ed6f8edcf3",
       "style": "IPY_MODEL_d8be036d1b1549f0b002d854b4a86fed",
       "value": " 0/11 [00:00&lt;?, ?it/s]"
      }
     },
     "9d54c56a545d4cc9b95438ba9582e741": {
      "model_module": "@jupyter-widgets/controls",
      "model_module_version": "1.5.0",
      "model_name": "DescriptionStyleModel",
      "state": {
       "description_width": ""
      }
     },
     "9d717da4ef324cd0b19b3e00f5b8ccd5": {
      "model_module": "@jupyter-widgets/controls",
      "model_module_version": "1.5.0",
      "model_name": "HTMLModel",
      "state": {
       "layout": "IPY_MODEL_3543ad8e9a50488c949fc0e4c3f87296",
       "style": "IPY_MODEL_ec690199ff774eff9980e226f1093ed5",
       "value": " 53/56 [00:01&lt;00:00, 44.63it/s]"
      }
     },
     "9da4f436566f40009ed4e2fd1ef22f81": {
      "model_module": "@jupyter-widgets/controls",
      "model_module_version": "1.5.0",
      "model_name": "HTMLModel",
      "state": {
       "layout": "IPY_MODEL_15a659bc4ed64144bbb1fac9c689115e",
       "style": "IPY_MODEL_8bd59606f4574bf793a4c9ee30cc3073",
       "value": "\n                <strong>AGAP002862 (CYP6AA1) amp</strong> <br/>\n                Taxon: gambiae <br/>\n                Area: GN-N <br/>\n                Period: 2012 <br/>\n                Sample size: 60 <br/>\n                Frequency: 3%\n                (95% CI: 1% - 11%)\n            "
      }
     },
     "9db111dda1d146cc84ba2ed571645e25": {
      "model_module": "@jupyter-widgets/base",
      "model_module_version": "1.2.0",
      "model_name": "LayoutModel",
      "state": {}
     },
     "9dbf0863737141b784d97df264c5826d": {
      "model_module": "@jupyter-widgets/base",
      "model_module_version": "1.2.0",
      "model_name": "LayoutModel",
      "state": {}
     },
     "9e9004fb3ab0449f89fba96cb514c570": {
      "model_module": "@jupyter-widgets/controls",
      "model_module_version": "1.5.0",
      "model_name": "HTMLModel",
      "state": {
       "layout": "IPY_MODEL_dc748f566d6048e985939420bd0aee2f",
       "style": "IPY_MODEL_b0bdf523684e41788c246fda7ca363fc",
       "value": "Compute modal gene copy number:   0%"
      }
     },
     "9fce3c5407e14ca9b6b9b8b07623c48b": {
      "model_module": "@jupyter-widgets/controls",
      "model_module_version": "1.5.0",
      "model_name": "ProgressStyleModel",
      "state": {
       "description_width": ""
      }
     },
     "a0471cb4615343c08ad5634e682f72b1": {
      "model_module": "@jupyter-widgets/base",
      "model_module_version": "1.2.0",
      "model_name": "LayoutModel",
      "state": {}
     },
     "a0b20af7f87241f29e61363299d728eb": {
      "model_module": "@jupyter-widgets/base",
      "model_module_version": "1.2.0",
      "model_name": "LayoutModel",
      "state": {}
     },
     "a0e0cd93cf00441782a0f3eb09aaadbb": {
      "model_module": "@jupyter-widgets/base",
      "model_module_version": "1.2.0",
      "model_name": "LayoutModel",
      "state": {
       "visibility": "hidden"
      }
     },
     "a10ec60c2d51496d96edfb98d2c5e2de": {
      "model_module": "@jupyter-widgets/controls",
      "model_module_version": "1.5.0",
      "model_name": "FloatProgressModel",
      "state": {
       "layout": "IPY_MODEL_4aa2dc52e6f8404298dd82ffd955f466",
       "max": 11,
       "style": "IPY_MODEL_667aef8278474867b195abb8c68bfcf2",
       "value": 11
      }
     },
     "a11bd42c0f93457daec0f84c69afd5e0": {
      "model_module": "@jupyter-widgets/base",
      "model_module_version": "1.2.0",
      "model_name": "LayoutModel",
      "state": {}
     },
     "a2b4498fef7842a4b790731cf6603b5d": {
      "model_module": "@jupyter-widgets/base",
      "model_module_version": "1.2.0",
      "model_name": "LayoutModel",
      "state": {}
     },
     "a2ef30fe16cd4ef7b689b48c8d338629": {
      "model_module": "@jupyter-widgets/controls",
      "model_module_version": "1.5.0",
      "model_name": "DescriptionStyleModel",
      "state": {
       "description_width": ""
      }
     },
     "a3795bd7ce064424bd34d3d02168e9f3": {
      "model_module": "@jupyter-widgets/base",
      "model_module_version": "1.2.0",
      "model_name": "LayoutModel",
      "state": {}
     },
     "a41bd69cffc24df9847662bd46a15b56": {
      "model_module": "@jupyter-widgets/controls",
      "model_module_version": "1.5.0",
      "model_name": "DescriptionStyleModel",
      "state": {
       "description_width": ""
      }
     },
     "a46a657fd2134235b75f6e2954117e89": {
      "model_module": "@jupyter-widgets/controls",
      "model_module_version": "1.5.0",
      "model_name": "FloatProgressModel",
      "state": {
       "layout": "IPY_MODEL_73387dfdeea744e084fd1375822a923e",
       "max": 176,
       "style": "IPY_MODEL_6396b81f67614467afeeea741727d941",
       "value": 176
      }
     },
     "a52a5cbe992442c186c4a2cc2a263e0a": {
      "model_module": "@jupyter-widgets/controls",
      "model_module_version": "1.5.0",
      "model_name": "DropdownModel",
      "state": {
       "_options_labels": [
        "arabiensis",
        "coluzzii",
        "gambiae",
        "gcx1",
        "gcx2",
        "gcx3"
       ],
       "description": "Taxon: ",
       "index": 2,
       "layout": "IPY_MODEL_32bbe5bcea0d4076b08e4ae954ecf057",
       "style": "IPY_MODEL_0227f40b494a41c7a1d652e6425972ee"
      }
     },
     "a5ac21c6af894f9e8eaee49e0d795295": {
      "model_module": "jupyter-leaflet",
      "model_module_version": "^0.17.0",
      "model_name": "LeafletCircleMarkerModel",
      "state": {
       "_model_module_version": "^0.17.0",
       "_view_module_version": "^0.17.0",
       "color": "black",
       "fill_color": "red",
       "fill_opacity": 0,
       "location": [
        5.668,
        -0.219
       ],
       "options": [
        "color",
        "dash_array",
        "fill",
        "fill_color",
        "fill_opacity",
        "line_cap",
        "line_join",
        "opacity",
        "pointer_events",
        "radius",
        "stroke",
        "weight"
       ],
       "popup": "IPY_MODEL_4f9e6a5acd1241a287a0e65fe23b985d",
       "radius": 20,
       "weight": 1
      }
     },
     "a5ea9ab08d364cd091493d5a66278cad": {
      "model_module": "@jupyter-widgets/controls",
      "model_module_version": "1.5.0",
      "model_name": "ProgressStyleModel",
      "state": {
       "description_width": ""
      }
     },
     "a65a163878084aa0ad4bde3b83a96f06": {
      "model_module": "@jupyter-widgets/controls",
      "model_module_version": "1.5.0",
      "model_name": "DescriptionStyleModel",
      "state": {
       "description_width": ""
      }
     },
     "a66bddff45fb4c1da7a7aa24983fb6b6": {
      "model_module": "@jupyter-widgets/base",
      "model_module_version": "1.2.0",
      "model_name": "LayoutModel",
      "state": {
       "visibility": "hidden"
      }
     },
     "a761dcdee23044289a8767beb6451ee9": {
      "model_module": "@jupyter-widgets/base",
      "model_module_version": "1.2.0",
      "model_name": "LayoutModel",
      "state": {
       "visibility": "hidden"
      }
     },
     "a7cf09ffa34a41f9b5cd68cb62b7e886": {
      "model_module": "@jupyter-widgets/base",
      "model_module_version": "1.2.0",
      "model_name": "LayoutModel",
      "state": {}
     },
     "a8d39c7a249049ea975b034e34ed5868": {
      "model_module": "@jupyter-widgets/base",
      "model_module_version": "1.2.0",
      "model_name": "LayoutModel",
      "state": {}
     },
     "aa1f3e987e1246f8a8f363787c2b9a53": {
      "model_module": "@jupyter-widgets/controls",
      "model_module_version": "1.5.0",
      "model_name": "DescriptionStyleModel",
      "state": {
       "description_width": ""
      }
     },
     "aa7b7b15bfd14aea916811b25d649455": {
      "model_module": "@jupyter-widgets/controls",
      "model_module_version": "1.5.0",
      "model_name": "HTMLModel",
      "state": {
       "layout": "IPY_MODEL_d8c03fa494a94e9fa8452dbd6a9f4f52",
       "style": "IPY_MODEL_8cd5253271ea4416875bdf4a8f796a87",
       "value": " 56/56 [00:01&lt;00:00, 40.20it/s]"
      }
     },
     "ad8a2907547e447cbb45847aa9e74784": {
      "model_module": "@jupyter-widgets/controls",
      "model_module_version": "1.5.0",
      "model_name": "DescriptionStyleModel",
      "state": {
       "description_width": ""
      }
     },
     "adc0dbfe9bbd4c5381fa6fada21d1b32": {
      "model_module": "@jupyter-widgets/base",
      "model_module_version": "1.2.0",
      "model_name": "LayoutModel",
      "state": {
       "visibility": "hidden"
      }
     },
     "b02bee99f17549c0b76175dd535d2f06": {
      "model_module": "@jupyter-widgets/base",
      "model_module_version": "1.2.0",
      "model_name": "LayoutModel",
      "state": {}
     },
     "b0bdf523684e41788c246fda7ca363fc": {
      "model_module": "@jupyter-widgets/controls",
      "model_module_version": "1.5.0",
      "model_name": "DescriptionStyleModel",
      "state": {
       "description_width": ""
      }
     },
     "b0c5691cb80c4007a4e8d5d4703cc2f0": {
      "model_module": "jupyter-leaflet",
      "model_module_version": "^0.17.0",
      "model_name": "LeafletPopupModel",
      "state": {
       "_model_module_version": "^0.17.0",
       "_view_module_version": "^0.17.0",
       "auto_close": true,
       "auto_pan": true,
       "auto_pan_padding": [
        5,
        5
       ],
       "auto_pan_padding_bottom_right": null,
       "auto_pan_padding_top_left": null,
       "child": "IPY_MODEL_98c56458e1bc4df0a2393a71935e6d42",
       "close_button": true,
       "close_on_escape_key": true,
       "keep_in_view": false,
       "options": [
        "auto_close",
        "auto_pan",
        "auto_pan_padding",
        "auto_pan_padding_bottom_right",
        "auto_pan_padding_top_left",
        "close_button",
        "close_on_escape_key",
        "keep_in_view",
        "max_height",
        "max_width",
        "min_width"
       ]
      }
     },
     "b1c9e222192640ebab8961a85594d51f": {
      "model_module": "@jupyter-widgets/controls",
      "model_module_version": "1.5.0",
      "model_name": "HTMLModel",
      "state": {
       "layout": "IPY_MODEL_eab0e50ca2544f489fb0ef5a217979ca",
       "style": "IPY_MODEL_68bbf1aad3564108a9c02b1dc57af273",
       "value": "<h3>Gene CNV frequencies, Cyp6aa/p locus</h3>"
      }
     },
     "b2107558c5c64f10af7ee849c1db6ad9": {
      "model_module": "@jupyter-widgets/base",
      "model_module_version": "1.2.0",
      "model_name": "LayoutModel",
      "state": {}
     },
     "b26e181536c74864af039cd73c5658f1": {
      "model_module": "jupyter-leaflet",
      "model_module_version": "^0.17.0",
      "model_name": "LeafletPopupModel",
      "state": {
       "_model_module_version": "^0.17.0",
       "_view_module_version": "^0.17.0",
       "auto_close": true,
       "auto_pan": true,
       "auto_pan_padding": [
        5,
        5
       ],
       "auto_pan_padding_bottom_right": null,
       "auto_pan_padding_top_left": null,
       "child": "IPY_MODEL_993529adc738451b809d2a5e0368df48",
       "close_button": true,
       "close_on_escape_key": true,
       "keep_in_view": false,
       "options": [
        "auto_close",
        "auto_pan",
        "auto_pan_padding",
        "auto_pan_padding_bottom_right",
        "auto_pan_padding_top_left",
        "close_button",
        "close_on_escape_key",
        "keep_in_view",
        "max_height",
        "max_width",
        "min_width"
       ]
      }
     },
     "b3467ee410144c179f99cac323403b04": {
      "model_module": "@jupyter-widgets/controls",
      "model_module_version": "1.5.0",
      "model_name": "DropdownModel",
      "state": {
       "_options_labels": [
        "arabiensis",
        "coluzzii",
        "gambiae",
        "gcx1",
        "gcx3"
       ],
       "description": "Taxon: ",
       "index": 0,
       "layout": "IPY_MODEL_f371b102616c47f4bf43961dafe03cda",
       "style": "IPY_MODEL_b4cb8039fd474a24a1555077da4e1b63"
      }
     },
     "b4a1427c134e47aa9593a512f4090cb2": {
      "model_module": "jupyter-leaflet",
      "model_module_version": "^0.17.0",
      "model_name": "LeafletCircleMarkerModel",
      "state": {
       "_model_module_version": "^0.17.0",
       "_view_module_version": "^0.17.0",
       "color": "black",
       "fill_color": "red",
       "fill_opacity": 0.109375,
       "location": [
        10.88,
        -7.850625
       ],
       "options": [
        "color",
        "dash_array",
        "fill",
        "fill_color",
        "fill_opacity",
        "line_cap",
        "line_join",
        "opacity",
        "pointer_events",
        "radius",
        "stroke",
        "weight"
       ],
       "popup": "IPY_MODEL_daad8a8cb4d042feb8ff7413625781ca",
       "radius": 20,
       "weight": 1
      }
     },
     "b4cb8039fd474a24a1555077da4e1b63": {
      "model_module": "@jupyter-widgets/controls",
      "model_module_version": "1.5.0",
      "model_name": "DescriptionStyleModel",
      "state": {
       "description_width": ""
      }
     },
     "b5c3939ef1864557a9d1fbc258a67ece": {
      "model_module": "@jupyter-widgets/base",
      "model_module_version": "1.2.0",
      "model_name": "LayoutModel",
      "state": {}
     },
     "b62b838f3a32442594984f6ed00b529f": {
      "model_module": "@jupyter-widgets/base",
      "model_module_version": "1.2.0",
      "model_name": "LayoutModel",
      "state": {}
     },
     "b6804433db65477da8bcc57afa33a3c5": {
      "model_module": "@jupyter-widgets/base",
      "model_module_version": "1.2.0",
      "model_name": "LayoutModel",
      "state": {
       "visibility": "hidden"
      }
     },
     "b728e91afff74552931d7e070d1e7e3a": {
      "model_module": "@jupyter-widgets/base",
      "model_module_version": "1.2.0",
      "model_name": "LayoutModel",
      "state": {}
     },
     "b7619fe1787b400983d88c0227073e8c": {
      "model_module": "@jupyter-widgets/base",
      "model_module_version": "1.2.0",
      "model_name": "LayoutModel",
      "state": {}
     },
     "b7a3df37c7844f04814806280f102cf3": {
      "model_module": "@jupyter-widgets/base",
      "model_module_version": "1.2.0",
      "model_name": "LayoutModel",
      "state": {}
     },
     "b7b437bf22b54f09b901759070d9ae80": {
      "model_module": "@jupyter-widgets/controls",
      "model_module_version": "1.5.0",
      "model_name": "HTMLModel",
      "state": {
       "layout": "IPY_MODEL_76b60753851746db98587ddf044e6e85",
       "style": "IPY_MODEL_5f0e2fa336cb4644ad97fca8c9316609",
       "value": "Load CNV HMM data:  98%"
      }
     },
     "b91e756b51094ab595c669ac3556b70b": {
      "model_module": "@jupyter-widgets/controls",
      "model_module_version": "1.5.0",
      "model_name": "DescriptionStyleModel",
      "state": {
       "description_width": ""
      }
     },
     "b96397d88d87421ca360839ee6c63490": {
      "model_module": "@jupyter-widgets/base",
      "model_module_version": "1.2.0",
      "model_name": "LayoutModel",
      "state": {}
     },
     "b9d423b0b3fc4eaf9f467a8f72a98bf6": {
      "model_module": "@jupyter-widgets/base",
      "model_module_version": "1.2.0",
      "model_name": "LayoutModel",
      "state": {
       "visibility": "hidden"
      }
     },
     "ba1b55a9309b4d239b31dcfeba4d8a91": {
      "model_module": "@jupyter-widgets/controls",
      "model_module_version": "1.5.0",
      "model_name": "HTMLModel",
      "state": {
       "layout": "IPY_MODEL_6ad54315d1f1479b834a5b27ff22c434",
       "style": "IPY_MODEL_a2ef30fe16cd4ef7b689b48c8d338629",
       "value": " 171/176 [00:04&lt;00:00, 48.04it/s]"
      }
     },
     "ba20e02d05894ea08ddb4d7a32be9046": {
      "model_module": "@jupyter-widgets/output",
      "model_module_version": "1.0.0",
      "model_name": "OutputModel",
      "state": {
       "layout": "IPY_MODEL_056b864d605b4e24a01872a6ccd52834"
      }
     },
     "ba75ea4ec52047e089bec2ed602b794f": {
      "model_module": "@jupyter-widgets/base",
      "model_module_version": "1.2.0",
      "model_name": "LayoutModel",
      "state": {
       "visibility": "hidden"
      }
     },
     "bc2343aa8c8a4aec8d677c41cce1bcd1": {
      "model_module": "@jupyter-widgets/base",
      "model_module_version": "1.2.0",
      "model_name": "LayoutModel",
      "state": {
       "visibility": "hidden"
      }
     },
     "bc5d68cd763c4e4fa3869552ce1caea3": {
      "model_module": "@jupyter-widgets/base",
      "model_module_version": "1.2.0",
      "model_name": "LayoutModel",
      "state": {
       "visibility": "hidden"
      }
     },
     "bcdf6b6387814455acc3bea8e9735b9b": {
      "model_module": "@jupyter-widgets/controls",
      "model_module_version": "1.5.0",
      "model_name": "DescriptionStyleModel",
      "state": {
       "description_width": ""
      }
     },
     "bd09dd918cd54f6787ae308a160210a5": {
      "model_module": "@jupyter-widgets/controls",
      "model_module_version": "1.5.0",
      "model_name": "HTMLModel",
      "state": {
       "layout": "IPY_MODEL_9db111dda1d146cc84ba2ed571645e25",
       "style": "IPY_MODEL_a65a163878084aa0ad4bde3b83a96f06",
       "value": "Load CNV HMM data:  98%"
      }
     },
     "be7957cb699c4db28e4dc458560812ff": {
      "model_module": "@jupyter-widgets/controls",
      "model_module_version": "1.5.0",
      "model_name": "ProgressStyleModel",
      "state": {
       "description_width": ""
      }
     },
     "bf543290091a443b81b43dcccf1361b3": {
      "model_module": "@jupyter-widgets/controls",
      "model_module_version": "1.5.0",
      "model_name": "HTMLModel",
      "state": {
       "layout": "IPY_MODEL_f96f997eff5b49efa653c0363fd12b43",
       "style": "IPY_MODEL_edf74391cb9c4cefa3eb172a75e5bc8c",
       "value": "Compute modal gene copy number:   0%"
      }
     },
     "bfaf6fec30f440eeac4de95995cc7499": {
      "model_module": "@jupyter-widgets/controls",
      "model_module_version": "1.5.0",
      "model_name": "HTMLModel",
      "state": {
       "layout": "IPY_MODEL_fd0fc85392114ce3bde6c8d71aeee4c0",
       "style": "IPY_MODEL_6777806db03649548d91a8ee57b79952",
       "value": " 0/11 [00:00&lt;?, ?it/s]"
      }
     },
     "bfbd0498b3b448609183e81b0ab9d2bf": {
      "model_module": "@jupyter-widgets/controls",
      "model_module_version": "1.5.0",
      "model_name": "DropdownModel",
      "state": {
       "_options_labels": [
        "1994",
        "2000",
        "2002",
        "2004",
        "2005",
        "2009",
        "2010",
        "2011",
        "2012",
        "2013",
        "2014",
        "2015"
       ],
       "description": "Period: ",
       "index": 8,
       "layout": "IPY_MODEL_80657ead2af048a187622acb3ba6ad8f",
       "style": "IPY_MODEL_9b053555feef430fbfe03a92801e3640"
      }
     },
     "bfe39b10d9d64d1c83332ef0e66ffbf0": {
      "model_module": "@jupyter-widgets/base",
      "model_module_version": "1.2.0",
      "model_name": "LayoutModel",
      "state": {}
     },
     "c04f23a59f6248159f030e4884c62ba4": {
      "model_module": "@jupyter-widgets/base",
      "model_module_version": "1.2.0",
      "model_name": "LayoutModel",
      "state": {}
     },
     "c0a02b1451f641299facb89f1bc6068d": {
      "model_module": "@jupyter-widgets/base",
      "model_module_version": "1.2.0",
      "model_name": "LayoutModel",
      "state": {}
     },
     "c13f3ece824f4f02920060b21d8a1e8f": {
      "model_module": "@jupyter-widgets/base",
      "model_module_version": "1.2.0",
      "model_name": "LayoutModel",
      "state": {
       "visibility": "hidden"
      }
     },
     "c165c4e5892343d5a24d425cc9a492ad": {
      "model_module": "jupyter-leaflet",
      "model_module_version": "^0.17.0",
      "model_name": "LeafletMapModel",
      "state": {
       "_model_module_version": "^0.17.0",
       "_view_module_version": "^0.17.0",
       "center": [
        2.6357885741666065,
        20.039062500000004
       ],
       "controls": [
        "IPY_MODEL_69abdfdb66d64b6b952ff2143d2c75a6",
        "IPY_MODEL_ee53190914664b39bf04b59f8f59da66"
       ],
       "default_style": "IPY_MODEL_7ce2869f500f404eb30dfec0a39b3e7a",
       "dragging_style": "IPY_MODEL_3cf883d1fd09499684890698fe1294f8",
       "east": null,
       "fullscreen": false,
       "interpolation": "bilinear",
       "layers": [
        "IPY_MODEL_d06d7fd2a3c24147a54ca93e0865eda7",
        "IPY_MODEL_f41465800af049038cd9772dcb3dcb21",
        "IPY_MODEL_a5ac21c6af894f9e8eaee49e0d795295",
        "IPY_MODEL_1cce04ffb3074f24a2e2ec390d351046",
        "IPY_MODEL_41f8489d71f84df2b0554b3a8cc2f93d",
        "IPY_MODEL_4cd89dac6979421cb436db7d77951dd9",
        "IPY_MODEL_879ba1f41e784a76a506dde99ecd0455",
        "IPY_MODEL_7da768bfc1fd4b718fde6b7e715b3481",
        "IPY_MODEL_734cf01a71954f4b92fb02a919e00284"
       ],
       "layout": "IPY_MODEL_fb8d260869844e9ea346fdbb8ee0751e",
       "modisdate": "2024-03-10",
       "north": -90,
       "options": [
        "bounce_at_zoom_limits",
        "box_zoom",
        "center",
        "close_popup_on_click",
        "double_click_zoom",
        "dragging",
        "fullscreen",
        "inertia",
        "inertia_deceleration",
        "inertia_max_speed",
        "interpolation",
        "keyboard",
        "keyboard_pan_offset",
        "keyboard_zoom_offset",
        "max_zoom",
        "min_zoom",
        "prefer_canvas",
        "scroll_wheel_zoom",
        "tap",
        "tap_tolerance",
        "touch_zoom",
        "world_copy_jump",
        "zoom",
        "zoom_animation_threshold",
        "zoom_delta",
        "zoom_snap"
       ],
       "prefer_canvas": false,
       "south": 90,
       "style": "IPY_MODEL_7ce2869f500f404eb30dfec0a39b3e7a",
       "west": null,
       "window_url": "https://datalab-bespin.malariagen.net/user/jonbrenas/notebooks/anopheles-genomic-surveillance.github.io/docs/workshop-2/module-4-cnv-frequencies.ipynb#",
       "zoom": 3
      }
     },
     "c1e8f45dc0124e53a582e3aa1bcb6e32": {
      "model_module": "@jupyter-widgets/controls",
      "model_module_version": "1.5.0",
      "model_name": "DescriptionStyleModel",
      "state": {
       "description_width": ""
      }
     },
     "c1ed6298b3f44d5ba089441169450592": {
      "model_module": "@jupyter-widgets/controls",
      "model_module_version": "1.5.0",
      "model_name": "DescriptionStyleModel",
      "state": {
       "description_width": ""
      }
     },
     "c20974dff78049b498bccae1c41fe4ab": {
      "model_module": "@jupyter-widgets/controls",
      "model_module_version": "1.5.0",
      "model_name": "DescriptionStyleModel",
      "state": {
       "description_width": ""
      }
     },
     "c22c405db255456ab7a914cd37bc6297": {
      "model_module": "@jupyter-widgets/controls",
      "model_module_version": "1.5.0",
      "model_name": "DescriptionStyleModel",
      "state": {
       "description_width": ""
      }
     },
     "c23500dedd894d5b8802f90aab14c310": {
      "model_module": "@jupyter-widgets/controls",
      "model_module_version": "1.5.0",
      "model_name": "DescriptionStyleModel",
      "state": {
       "description_width": ""
      }
     },
     "c2415ff7889c49a39b6f049e09b0d894": {
      "model_module": "@jupyter-widgets/base",
      "model_module_version": "1.2.0",
      "model_name": "LayoutModel",
      "state": {
       "visibility": "hidden"
      }
     },
     "c28216c512764ba3bb7df1917627599f": {
      "model_module": "@jupyter-widgets/base",
      "model_module_version": "1.2.0",
      "model_name": "LayoutModel",
      "state": {}
     },
     "c2aadddd547d4950a0a385a23a5e2c2d": {
      "model_module": "@jupyter-widgets/controls",
      "model_module_version": "1.5.0",
      "model_name": "DescriptionStyleModel",
      "state": {
       "description_width": ""
      }
     },
     "c34e0d078003440995b9c8753e3ae724": {
      "model_module": "@jupyter-widgets/base",
      "model_module_version": "1.2.0",
      "model_name": "LayoutModel",
      "state": {}
     },
     "c3df74bfa4084ed0ba8c0953780859d8": {
      "model_module": "@jupyter-widgets/base",
      "model_module_version": "1.2.0",
      "model_name": "LayoutModel",
      "state": {}
     },
     "c41d229cd1904514a2f92c4fc06f121c": {
      "model_module": "@jupyter-widgets/base",
      "model_module_version": "1.2.0",
      "model_name": "LayoutModel",
      "state": {
       "visibility": "hidden"
      }
     },
     "c4601b82afb144c2b7ad2182c0be3ba6": {
      "model_module": "@jupyter-widgets/controls",
      "model_module_version": "1.5.0",
      "model_name": "FloatProgressModel",
      "state": {
       "layout": "IPY_MODEL_59b7ea19fe984814a8ce96fea13dea52",
       "max": 11,
       "style": "IPY_MODEL_9fce3c5407e14ca9b6b9b8b07623c48b",
       "value": 11
      }
     },
     "c48d96e32fb0409f93c37097998efdfe": {
      "model_module": "@jupyter-widgets/controls",
      "model_module_version": "1.5.0",
      "model_name": "HTMLModel",
      "state": {
       "layout": "IPY_MODEL_00b3913ccdb64c1ba7a08da9e9b71b18",
       "style": "IPY_MODEL_021e339f058548c5b6ec91c9a21b622f",
       "value": "\n                <strong>AGAP002862 (CYP6AA1) amp</strong> <br/>\n                Taxon: gambiae <br/>\n                Area: CF-BGF <br/>\n                Period: 1994 <br/>\n                Sample size: 52 <br/>\n                Frequency: 0%\n                (95% CI: 0% - 7%)\n            "
      }
     },
     "c521bfbd34a44cbbb2f4b1ba8f823e07": {
      "model_module": "@jupyter-widgets/base",
      "model_module_version": "1.2.0",
      "model_name": "LayoutModel",
      "state": {}
     },
     "c60a4c8f8e9b410693ce0f55e1a9fafa": {
      "model_module": "jupyter-leaflet",
      "model_module_version": "^0.17.0",
      "model_name": "LeafletAttributionControlModel",
      "state": {
       "_model_module_version": "^0.17.0",
       "_view_module_version": "^0.17.0",
       "options": [
        "position",
        "prefix"
       ],
       "position": "bottomright",
       "prefix": "ipyleaflet"
      }
     },
     "c62d71fbfd974ee7b8a86d289b3a99ac": {
      "model_module": "@jupyter-widgets/controls",
      "model_module_version": "1.5.0",
      "model_name": "ProgressStyleModel",
      "state": {
       "description_width": ""
      }
     },
     "c652309d642b4c35bf9b213127a1de1b": {
      "model_module": "@jupyter-widgets/controls",
      "model_module_version": "1.5.0",
      "model_name": "HTMLModel",
      "state": {
       "layout": "IPY_MODEL_934993016ed047fb95416fa018d951b9",
       "style": "IPY_MODEL_e09caba87427478884444b33d7ffef61",
       "value": "\n                <strong>AGAP002862 (CYP6AA1) amp</strong> <br/>\n                Taxon: gambiae <br/>\n                Area: UG-W <br/>\n                Period: 2012 <br/>\n                Sample size: 94 <br/>\n                Frequency: 30%\n                (95% CI: 21% - 40%)\n            "
      }
     },
     "c6524d7c18444403a1b1b02b167e6a56": {
      "model_module": "@jupyter-widgets/controls",
      "model_module_version": "1.5.0",
      "model_name": "DescriptionStyleModel",
      "state": {
       "description_width": ""
      }
     },
     "c6788d0f867a48d097935ba0d8634769": {
      "model_module": "@jupyter-widgets/base",
      "model_module_version": "1.2.0",
      "model_name": "LayoutModel",
      "state": {}
     },
     "c6f2666665aa42279d66573185f8c4e7": {
      "model_module": "@jupyter-widgets/controls",
      "model_module_version": "1.5.0",
      "model_name": "VBoxModel",
      "state": {
       "_dom_classes": [
        "widget-interact"
       ],
       "children": [
        "IPY_MODEL_868a7176e75a42e5b83a37d87bc7d35e",
        "IPY_MODEL_5734a50d01134b3ab8baa0579b20ec26",
        "IPY_MODEL_626b64979c78489f8b120b530376d7c5",
        "IPY_MODEL_ba20e02d05894ea08ddb4d7a32be9046"
       ],
       "layout": "IPY_MODEL_5de216a39fba4115985e4cc1098dcb23"
      }
     },
     "c85f43774b1c4f8786351cbda2a7e82c": {
      "model_module": "@jupyter-widgets/base",
      "model_module_version": "1.2.0",
      "model_name": "LayoutModel",
      "state": {}
     },
     "c8ba04219b4f4bd498043de2e883bff3": {
      "model_module": "@jupyter-widgets/base",
      "model_module_version": "1.2.0",
      "model_name": "LayoutModel",
      "state": {}
     },
     "c9cd2c44ab194d88a42af3487ef1344f": {
      "model_module": "@jupyter-widgets/controls",
      "model_module_version": "1.5.0",
      "model_name": "ProgressStyleModel",
      "state": {
       "description_width": ""
      }
     },
     "cb1c723faf1c4053a59c529f61c68efb": {
      "model_module": "@jupyter-widgets/base",
      "model_module_version": "1.2.0",
      "model_name": "LayoutModel",
      "state": {}
     },
     "cb342a883e6340d988de80178fe660a9": {
      "model_module": "@jupyter-widgets/controls",
      "model_module_version": "1.5.0",
      "model_name": "FloatProgressModel",
      "state": {
       "layout": "IPY_MODEL_82ba25d0a3ea4f71b611bcaad21f15dd",
       "max": 11,
       "style": "IPY_MODEL_698ef2e7527e4f62bc059199d4bfd1bf",
       "value": 11
      }
     },
     "cbd2ca86c97441f09f565fee2f929dc2": {
      "model_module": "@jupyter-widgets/base",
      "model_module_version": "1.2.0",
      "model_name": "LayoutModel",
      "state": {}
     },
     "cc4ec0667a484bb4956142ea97fa9a5e": {
      "model_module": "@jupyter-widgets/controls",
      "model_module_version": "1.5.0",
      "model_name": "DescriptionStyleModel",
      "state": {
       "description_width": ""
      }
     },
     "ccaa6ccc89e443d9817fac0bb4613e46": {
      "model_module": "@jupyter-widgets/base",
      "model_module_version": "1.2.0",
      "model_name": "LayoutModel",
      "state": {
       "visibility": "hidden"
      }
     },
     "cd25fea045154fe5b07fa420c696d5da": {
      "model_module": "@jupyter-widgets/base",
      "model_module_version": "1.2.0",
      "model_name": "LayoutModel",
      "state": {}
     },
     "cda2934305d548cc9c3603039d990bdf": {
      "model_module": "@jupyter-widgets/base",
      "model_module_version": "1.2.0",
      "model_name": "LayoutModel",
      "state": {}
     },
     "ce98c9e9aff148b7a1dfa72800c5c9ad": {
      "model_module": "@jupyter-widgets/controls",
      "model_module_version": "1.5.0",
      "model_name": "VBoxModel",
      "state": {
       "children": [
        "IPY_MODEL_de55a4a2b6eb415ea7ea05e3809773ab",
        "IPY_MODEL_571aeb5e3fed4292b09dc78c34c2bec3",
        "IPY_MODEL_68ffd3d11ee440e6bd26aaabef2d7637",
        "IPY_MODEL_042153490eda4b629cfa078504d167e0"
       ],
       "layout": "IPY_MODEL_2ed8a1a9e2b24dd0b3229fad77d48508"
      }
     },
     "cf139be490d04206b15458659b03fd70": {
      "model_module": "jupyter-leaflet",
      "model_module_version": "^0.17.0",
      "model_name": "LeafletMapStyleModel",
      "state": {
       "_model_module_version": "^0.17.0",
       "cursor": "move"
      }
     },
     "cf340ed1b5e446448b2ea93fde280ef5": {
      "model_module": "@jupyter-widgets/base",
      "model_module_version": "1.2.0",
      "model_name": "LayoutModel",
      "state": {
       "visibility": "hidden"
      }
     },
     "cf836cca934a4dd69d8a7113902b4d75": {
      "model_module": "@jupyter-widgets/controls",
      "model_module_version": "1.5.0",
      "model_name": "DescriptionStyleModel",
      "state": {
       "description_width": ""
      }
     },
     "d010e3dd6c78411e9db3ce6f8a9f1715": {
      "model_module": "@jupyter-widgets/controls",
      "model_module_version": "1.5.0",
      "model_name": "DescriptionStyleModel",
      "state": {
       "description_width": ""
      }
     },
     "d06d7fd2a3c24147a54ca93e0865eda7": {
      "model_module": "jupyter-leaflet",
      "model_module_version": "^0.17.0",
      "model_name": "LeafletTileLayerModel",
      "state": {
       "_model_module_version": "^0.17.0",
       "_view_module_version": "^0.17.0",
       "attribution": "&copy; <a href=\"https://www.openstreetmap.org/copyright\">OpenStreetMap</a> contributors",
       "base": true,
       "max_zoom": 19,
       "min_zoom": 1,
       "name": "OpenStreetMap.Mapnik",
       "options": [
        "attribution",
        "bounds",
        "detect_retina",
        "max_native_zoom",
        "max_zoom",
        "min_native_zoom",
        "min_zoom",
        "no_wrap",
        "tile_size",
        "tms"
       ],
       "url": "https://tile.openstreetmap.org/{z}/{x}/{y}.png"
      }
     },
     "d106703942fb4997a4209fc979e5eb9a": {
      "model_module": "@jupyter-widgets/base",
      "model_module_version": "1.2.0",
      "model_name": "LayoutModel",
      "state": {
       "visibility": "hidden"
      }
     },
     "d13c1f8798fe4ac6b1acbd74e548f990": {
      "model_module": "@jupyter-widgets/controls",
      "model_module_version": "1.5.0",
      "model_name": "FloatProgressModel",
      "state": {
       "layout": "IPY_MODEL_2c0b58d4d87b4722b633b90afe63dae6",
       "max": 56,
       "style": "IPY_MODEL_1e5a0d7ac7a74cc992d9f41ce8c3e3e1",
       "value": 56
      }
     },
     "d145427957a842feab10d70cbb1fdabb": {
      "model_module": "@jupyter-widgets/base",
      "model_module_version": "1.2.0",
      "model_name": "LayoutModel",
      "state": {}
     },
     "d3e1bd593f774f92b686a305a37a30e1": {
      "model_module": "@jupyter-widgets/base",
      "model_module_version": "1.2.0",
      "model_name": "LayoutModel",
      "state": {}
     },
     "d451322ee23642b7966fa583ead37802": {
      "model_module": "@jupyter-widgets/controls",
      "model_module_version": "1.5.0",
      "model_name": "HTMLModel",
      "state": {
       "layout": "IPY_MODEL_255a3f22c10d49c6a62a5dda34ba58ee",
       "style": "IPY_MODEL_3d51cdf61b9f42a5bf806120c0c4c964",
       "value": "Load CNV HMM data:  95%"
      }
     },
     "d4739089ee174d51bbf5685e8bb3fe5f": {
      "model_module": "@jupyter-widgets/controls",
      "model_module_version": "1.5.0",
      "model_name": "HTMLModel",
      "state": {
       "layout": "IPY_MODEL_e5138839f99f4123a8f6b44e57b6111d",
       "style": "IPY_MODEL_70781fa5350e45d08ef8a68629df9585",
       "value": " 0/11 [00:00&lt;?, ?it/s]"
      }
     },
     "d4cd261346b14c8797a53ddd835539a0": {
      "model_module": "jupyter-leaflet",
      "model_module_version": "^0.17.0",
      "model_name": "LeafletMapStyleModel",
      "state": {
       "_model_module_version": "^0.17.0"
      }
     },
     "d64024fdf25f4882b42bc1858903a7e0": {
      "model_module": "@jupyter-widgets/controls",
      "model_module_version": "1.5.0",
      "model_name": "FloatProgressModel",
      "state": {
       "layout": "IPY_MODEL_667325adaf714e22adb7193fc7103e71",
       "max": 176,
       "style": "IPY_MODEL_871a35de8fee4082b5f7101fe01160ea",
       "value": 176
      }
     },
     "d69fd0563de2453da8542c1ba53d63f2": {
      "model_module": "@jupyter-widgets/controls",
      "model_module_version": "1.5.0",
      "model_name": "ProgressStyleModel",
      "state": {
       "description_width": ""
      }
     },
     "d70b17a3c88e457b8be39ea1f30a9fb0": {
      "model_module": "@jupyter-widgets/controls",
      "model_module_version": "1.5.0",
      "model_name": "FloatProgressModel",
      "state": {
       "layout": "IPY_MODEL_a0471cb4615343c08ad5634e682f72b1",
       "max": 56,
       "style": "IPY_MODEL_c9cd2c44ab194d88a42af3487ef1344f",
       "value": 56
      }
     },
     "d734dc294eda4c45818df445e1d03615": {
      "model_module": "@jupyter-widgets/controls",
      "model_module_version": "1.5.0",
      "model_name": "ProgressStyleModel",
      "state": {
       "description_width": ""
      }
     },
     "d7480637d11e4ca8b7cb8715271c185f": {
      "model_module": "jupyter-leaflet",
      "model_module_version": "^0.17.0",
      "model_name": "LeafletMapStyleModel",
      "state": {
       "_model_module_version": "^0.17.0"
      }
     },
     "d786b69f2fea4af5a96188fe2a3127f3": {
      "model_module": "@jupyter-widgets/controls",
      "model_module_version": "1.5.0",
      "model_name": "DescriptionStyleModel",
      "state": {
       "description_width": ""
      }
     },
     "d7d198b96be84e27b0a8438973249ffe": {
      "model_module": "@jupyter-widgets/base",
      "model_module_version": "1.2.0",
      "model_name": "LayoutModel",
      "state": {}
     },
     "d8ac7db1bba343a8b504c27d182178f7": {
      "model_module": "@jupyter-widgets/controls",
      "model_module_version": "1.5.0",
      "model_name": "ProgressStyleModel",
      "state": {
       "description_width": ""
      }
     },
     "d8be036d1b1549f0b002d854b4a86fed": {
      "model_module": "@jupyter-widgets/controls",
      "model_module_version": "1.5.0",
      "model_name": "DescriptionStyleModel",
      "state": {
       "description_width": ""
      }
     },
     "d8c03fa494a94e9fa8452dbd6a9f4f52": {
      "model_module": "@jupyter-widgets/base",
      "model_module_version": "1.2.0",
      "model_name": "LayoutModel",
      "state": {}
     },
     "d96e480a5ea24b149cf3e53ffb644d29": {
      "model_module": "@jupyter-widgets/controls",
      "model_module_version": "1.5.0",
      "model_name": "ProgressStyleModel",
      "state": {
       "description_width": ""
      }
     },
     "d975bed9874c40f4a7c2f91e6b34d691": {
      "model_module": "@jupyter-widgets/controls",
      "model_module_version": "1.5.0",
      "model_name": "HTMLModel",
      "state": {
       "layout": "IPY_MODEL_633250e50a1749c0af33e3b55a9653d6",
       "style": "IPY_MODEL_f6f5d4083c8146eb9e293a95224aa19e",
       "value": " 0/11 [00:00&lt;?, ?it/s]"
      }
     },
     "d9a309db5a5b41df935d12002d753427": {
      "model_module": "@jupyter-widgets/controls",
      "model_module_version": "1.5.0",
      "model_name": "DescriptionStyleModel",
      "state": {
       "description_width": ""
      }
     },
     "d9be03d999014ba585849b9ed9fc238c": {
      "model_module": "@jupyter-widgets/controls",
      "model_module_version": "1.5.0",
      "model_name": "FloatProgressModel",
      "state": {
       "layout": "IPY_MODEL_f3f6397be90840a290b28c69123cd4bb",
       "max": 11,
       "style": "IPY_MODEL_e373118ded734cacac121da82bf86d8a",
       "value": 11
      }
     },
     "da1a8c821b9140a79606aab480bcf0f8": {
      "model_module": "@jupyter-widgets/controls",
      "model_module_version": "1.5.0",
      "model_name": "DescriptionStyleModel",
      "state": {
       "description_width": ""
      }
     },
     "daad8a8cb4d042feb8ff7413625781ca": {
      "model_module": "jupyter-leaflet",
      "model_module_version": "^0.17.0",
      "model_name": "LeafletPopupModel",
      "state": {
       "_model_module_version": "^0.17.0",
       "_view_module_version": "^0.17.0",
       "auto_close": true,
       "auto_pan": true,
       "auto_pan_padding": [
        5,
        5
       ],
       "auto_pan_padding_bottom_right": null,
       "auto_pan_padding_top_left": null,
       "child": "IPY_MODEL_13603472f9f644069e5b5feaf14fb906",
       "close_button": true,
       "close_on_escape_key": true,
       "keep_in_view": false,
       "options": [
        "auto_close",
        "auto_pan",
        "auto_pan_padding",
        "auto_pan_padding_bottom_right",
        "auto_pan_padding_top_left",
        "close_button",
        "close_on_escape_key",
        "keep_in_view",
        "max_height",
        "max_width",
        "min_width"
       ]
      }
     },
     "daf75550816c4e068ec7a39fe310d3b8": {
      "model_module": "@jupyter-widgets/controls",
      "model_module_version": "1.5.0",
      "model_name": "HTMLModel",
      "state": {
       "layout": "IPY_MODEL_0d111087e2a44b4c978eab95020d7ad4",
       "style": "IPY_MODEL_56c5ad2e75ee422b882079a5db33f85f",
       "value": "Load CNV HMM data:  95%"
      }
     },
     "db90f49218f840a09946a387513d341c": {
      "model_module": "@jupyter-widgets/controls",
      "model_module_version": "1.5.0",
      "model_name": "ProgressStyleModel",
      "state": {
       "description_width": ""
      }
     },
     "db9ae5e1f7a84de69793780fc599c212": {
      "model_module": "jupyter-leaflet",
      "model_module_version": "^0.17.0",
      "model_name": "LeafletPopupModel",
      "state": {
       "_model_module_version": "^0.17.0",
       "_view_module_version": "^0.17.0",
       "auto_close": true,
       "auto_pan": true,
       "auto_pan_padding": [
        5,
        5
       ],
       "auto_pan_padding_bottom_right": null,
       "auto_pan_padding_top_left": null,
       "child": "IPY_MODEL_9da4f436566f40009ed4e2fd1ef22f81",
       "close_button": true,
       "close_on_escape_key": true,
       "keep_in_view": false,
       "options": [
        "auto_close",
        "auto_pan",
        "auto_pan_padding",
        "auto_pan_padding_bottom_right",
        "auto_pan_padding_top_left",
        "close_button",
        "close_on_escape_key",
        "keep_in_view",
        "max_height",
        "max_width",
        "min_width"
       ]
      }
     },
     "dc4263c1f1f947c8b33e1e0143764aec": {
      "model_module": "@jupyter-widgets/controls",
      "model_module_version": "1.5.0",
      "model_name": "HTMLModel",
      "state": {
       "layout": "IPY_MODEL_672aa046fa314b1891dd2662e248fb2c",
       "style": "IPY_MODEL_8c5926049f80440782cfb244a3f376f7",
       "value": " 0/11 [00:00&lt;?, ?it/s]"
      }
     },
     "dc748f566d6048e985939420bd0aee2f": {
      "model_module": "@jupyter-widgets/base",
      "model_module_version": "1.2.0",
      "model_name": "LayoutModel",
      "state": {}
     },
     "dcb4cbf4f93547ae86ddf8b0f182ff20": {
      "model_module": "@jupyter-widgets/base",
      "model_module_version": "1.2.0",
      "model_name": "LayoutModel",
      "state": {}
     },
     "dcf0480d41614f0cbc30f0761a2ee077": {
      "model_module": "@jupyter-widgets/base",
      "model_module_version": "1.2.0",
      "model_name": "LayoutModel",
      "state": {
       "visibility": "hidden"
      }
     },
     "dd46c6daf305435aabe9bb04fde0dc77": {
      "model_module": "@jupyter-widgets/base",
      "model_module_version": "1.2.0",
      "model_name": "LayoutModel",
      "state": {}
     },
     "dd7f6ec4500f478a862b5114f1596832": {
      "model_module": "jupyter-leaflet",
      "model_module_version": "^0.17.0",
      "model_name": "LeafletPopupModel",
      "state": {
       "_model_module_version": "^0.17.0",
       "_view_module_version": "^0.17.0",
       "auto_close": true,
       "auto_pan": true,
       "auto_pan_padding": [
        5,
        5
       ],
       "auto_pan_padding_bottom_right": null,
       "auto_pan_padding_top_left": null,
       "child": "IPY_MODEL_564afc25f6584d7bb358720908693ce7",
       "close_button": true,
       "close_on_escape_key": true,
       "keep_in_view": false,
       "options": [
        "auto_close",
        "auto_pan",
        "auto_pan_padding",
        "auto_pan_padding_bottom_right",
        "auto_pan_padding_top_left",
        "close_button",
        "close_on_escape_key",
        "keep_in_view",
        "max_height",
        "max_width",
        "min_width"
       ]
      }
     },
     "de011bdc4c5149bb92733ab0c2b622c9": {
      "model_module": "@jupyter-widgets/base",
      "model_module_version": "1.2.0",
      "model_name": "LayoutModel",
      "state": {}
     },
     "de089e6bfbed4d59b966314faa2c89bd": {
      "model_module": "@jupyter-widgets/controls",
      "model_module_version": "1.5.0",
      "model_name": "DescriptionStyleModel",
      "state": {
       "description_width": ""
      }
     },
     "de55a4a2b6eb415ea7ea05e3809773ab": {
      "model_module": "@jupyter-widgets/controls",
      "model_module_version": "1.5.0",
      "model_name": "HTMLModel",
      "state": {
       "layout": "IPY_MODEL_1b531d46840e47eba6e73e840c1f27df",
       "style": "IPY_MODEL_6c572879ccf5485c8484244ed2ce5bbc",
       "value": "<h3>Gene CNV frequencies, Cyp6aa/p locus</h3>"
      }
     },
     "e08ddbcadb754ef48a4e99b76bb6d8cc": {
      "model_module": "@jupyter-widgets/base",
      "model_module_version": "1.2.0",
      "model_name": "LayoutModel",
      "state": {}
     },
     "e09caba87427478884444b33d7ffef61": {
      "model_module": "@jupyter-widgets/controls",
      "model_module_version": "1.5.0",
      "model_name": "DescriptionStyleModel",
      "state": {
       "description_width": ""
      }
     },
     "e0abb0ce5f1342cf98517630958cd23e": {
      "model_module": "@jupyter-widgets/controls",
      "model_module_version": "1.5.0",
      "model_name": "FloatProgressModel",
      "state": {
       "layout": "IPY_MODEL_0c355676891d477bb497afd18d63ec64",
       "max": 11,
       "style": "IPY_MODEL_d734dc294eda4c45818df445e1d03615",
       "value": 11
      }
     },
     "e13b27c253cc4cbe8a644067794c163b": {
      "model_module": "@jupyter-widgets/controls",
      "model_module_version": "1.5.0",
      "model_name": "FloatProgressModel",
      "state": {
       "layout": "IPY_MODEL_30a5f60bf13947cd9ec031f112505b5d",
       "max": 11,
       "style": "IPY_MODEL_0134b845adc841d3af7e224223e759ab",
       "value": 11
      }
     },
     "e1497923a1694e71bfe375ff8dbb21cc": {
      "model_module": "@jupyter-widgets/controls",
      "model_module_version": "1.5.0",
      "model_name": "DescriptionStyleModel",
      "state": {
       "description_width": ""
      }
     },
     "e18b16f12b074806a75185d29cd7952b": {
      "model_module": "@jupyter-widgets/controls",
      "model_module_version": "1.5.0",
      "model_name": "HTMLModel",
      "state": {
       "layout": "IPY_MODEL_c04f23a59f6248159f030e4884c62ba4",
       "style": "IPY_MODEL_04d9650211f04279ad82c92427f0bed7",
       "value": "\n                <strong>AGAP002862 (CYP6AA1) amp</strong> <br/>\n                Taxon: gambiae <br/>\n                Area: UG-E <br/>\n                Period: 2012 <br/>\n                Sample size: 112 <br/>\n                Frequency: 64%\n                (95% CI: 55% - 73%)\n            "
      }
     },
     "e21145cbf01943b08e7f80229c9339a5": {
      "model_module": "@jupyter-widgets/controls",
      "model_module_version": "1.5.0",
      "model_name": "FloatProgressModel",
      "state": {
       "layout": "IPY_MODEL_886128bf3a67494aa31e0b4dde9fff27",
       "max": 56,
       "style": "IPY_MODEL_37298312edf14f53bd65d0cda0fa75f7",
       "value": 56
      }
     },
     "e2ed2b25128c4e099a580e3683099786": {
      "model_module": "@jupyter-widgets/controls",
      "model_module_version": "1.5.0",
      "model_name": "DescriptionStyleModel",
      "state": {
       "description_width": ""
      }
     },
     "e34de85a85f8459cbc169ef1790cbb8b": {
      "model_module": "@jupyter-widgets/controls",
      "model_module_version": "1.5.0",
      "model_name": "HTMLModel",
      "state": {
       "layout": "IPY_MODEL_cbd2ca86c97441f09f565fee2f929dc2",
       "style": "IPY_MODEL_9443f72e91f94635aa76a753fae21acd",
       "value": " 0/11 [00:00&lt;?, ?it/s]"
      }
     },
     "e35b716b135544e09d5599034697fdf4": {
      "model_module": "@jupyter-widgets/controls",
      "model_module_version": "1.5.0",
      "model_name": "HTMLModel",
      "state": {
       "layout": "IPY_MODEL_4f03c3d0036648dd8d3bf8088f4105a4",
       "style": "IPY_MODEL_360f427e50194df6b2dc83f4ea319602",
       "value": " 0/11 [00:00&lt;?, ?it/s]"
      }
     },
     "e373118ded734cacac121da82bf86d8a": {
      "model_module": "@jupyter-widgets/controls",
      "model_module_version": "1.5.0",
      "model_name": "ProgressStyleModel",
      "state": {
       "description_width": ""
      }
     },
     "e5138839f99f4123a8f6b44e57b6111d": {
      "model_module": "@jupyter-widgets/base",
      "model_module_version": "1.2.0",
      "model_name": "LayoutModel",
      "state": {}
     },
     "e59134b4130d4eba8776ff2f007c6f93": {
      "model_module": "@jupyter-widgets/base",
      "model_module_version": "1.2.0",
      "model_name": "LayoutModel",
      "state": {}
     },
     "e6205ad5d8eb4991a6b9bc4fee8b10d3": {
      "model_module": "jupyter-leaflet",
      "model_module_version": "^0.17.0",
      "model_name": "LeafletTileLayerModel",
      "state": {
       "_model_module_version": "^0.17.0",
       "_view_module_version": "^0.17.0",
       "attribution": "&copy; <a href=\"https://www.openstreetmap.org/copyright\">OpenStreetMap</a> contributors",
       "base": true,
       "max_zoom": 19,
       "min_zoom": 1,
       "name": "OpenStreetMap.Mapnik",
       "options": [
        "attribution",
        "bounds",
        "detect_retina",
        "max_native_zoom",
        "max_zoom",
        "min_native_zoom",
        "min_zoom",
        "no_wrap",
        "tile_size",
        "tms"
       ],
       "url": "https://tile.openstreetmap.org/{z}/{x}/{y}.png"
      }
     },
     "e69b94afe07b4b89b4506d0a3d58769a": {
      "model_module": "jupyter-leaflet",
      "model_module_version": "^0.17.0",
      "model_name": "LeafletCircleMarkerModel",
      "state": {
       "_model_module_version": "^0.17.0",
       "_view_module_version": "^0.17.0",
       "color": "black",
       "fill_color": "red",
       "fill_opacity": 0,
       "location": [
        4.367,
        18.583
       ],
       "options": [
        "color",
        "dash_array",
        "fill",
        "fill_color",
        "fill_opacity",
        "line_cap",
        "line_join",
        "opacity",
        "pointer_events",
        "radius",
        "stroke",
        "weight"
       ],
       "popup": "IPY_MODEL_4db4cbd2c47c43198155f088e1ff5814",
       "radius": 20,
       "weight": 1
      }
     },
     "e7393f753287454cbab74a2709836f22": {
      "model_module": "@jupyter-widgets/base",
      "model_module_version": "1.2.0",
      "model_name": "LayoutModel",
      "state": {}
     },
     "e844a5e205fa4635a65e98ae8c9faf60": {
      "model_module": "@jupyter-widgets/controls",
      "model_module_version": "1.5.0",
      "model_name": "HTMLModel",
      "state": {
       "layout": "IPY_MODEL_37358a512bec49c1840576e07a297f9f",
       "style": "IPY_MODEL_c1ed6298b3f44d5ba089441169450592",
       "value": "Compute modal gene copy number:   0%"
      }
     },
     "e890286ec07040b3bd94e56772ef6b1b": {
      "model_module": "@jupyter-widgets/base",
      "model_module_version": "1.2.0",
      "model_name": "LayoutModel",
      "state": {}
     },
     "e8ddea7596304e1a938db9cf8011d26b": {
      "model_module": "@jupyter-widgets/base",
      "model_module_version": "1.2.0",
      "model_name": "LayoutModel",
      "state": {}
     },
     "e97671afcb5947e48ec426227b024be0": {
      "model_module": "@jupyter-widgets/controls",
      "model_module_version": "1.5.0",
      "model_name": "HTMLModel",
      "state": {
       "layout": "IPY_MODEL_5d4e40b1c7a549e49df9851c6671364e",
       "style": "IPY_MODEL_47b5a6d6872f417bbbd68e4b8b5f595e",
       "value": "Load CNV HMM data:  98%"
      }
     },
     "e9c5db2c7bba4261898baacd57b83be1": {
      "model_module": "@jupyter-widgets/base",
      "model_module_version": "1.2.0",
      "model_name": "LayoutModel",
      "state": {}
     },
     "e9d6cadaaf86455c94b0c3338f79468d": {
      "model_module": "@jupyter-widgets/base",
      "model_module_version": "1.2.0",
      "model_name": "LayoutModel",
      "state": {
       "visibility": "hidden"
      }
     },
     "eab0e50ca2544f489fb0ef5a217979ca": {
      "model_module": "@jupyter-widgets/base",
      "model_module_version": "1.2.0",
      "model_name": "LayoutModel",
      "state": {}
     },
     "ebdf0c685acf4de783f84a957a8a3884": {
      "model_module": "@jupyter-widgets/controls",
      "model_module_version": "1.5.0",
      "model_name": "HTMLModel",
      "state": {
       "layout": "IPY_MODEL_1a5f2a83d80b44e7908a07d77e34d8ec",
       "style": "IPY_MODEL_6c282cc8e057461e92e3477e31487bd8",
       "value": "Load CNV HMM data:  98%"
      }
     },
     "ec47d83147584087a3b36efd8f340875": {
      "model_module": "@jupyter-widgets/base",
      "model_module_version": "1.2.0",
      "model_name": "LayoutModel",
      "state": {}
     },
     "ec4dd3fb018a408bb2150841b2cb671a": {
      "model_module": "jupyter-leaflet",
      "model_module_version": "^0.17.0",
      "model_name": "LeafletMapModel",
      "state": {
       "_model_module_version": "^0.17.0",
       "_view_module_version": "^0.17.0",
       "bottom": 1209,
       "center": [
        2.6357885741666065,
        20.039062500000004
       ],
       "controls": [
        "IPY_MODEL_800e073c3030404fbb6ce0c0278bbfd1",
        "IPY_MODEL_c60a4c8f8e9b410693ce0f55e1a9fafa"
       ],
       "default_style": "IPY_MODEL_323d8fc2e1224cc599928c3c0bbbc89d",
       "dragging_style": "IPY_MODEL_f2b7393072944b47b831faba5cf09d68",
       "east": 87.5390625,
       "fullscreen": false,
       "interpolation": "bilinear",
       "layers": [
        "IPY_MODEL_57d43541c64941cb8b2506b36ffa830b",
        "IPY_MODEL_4b5bba87bf6240daa6cf3a6cbf12f1e7",
        "IPY_MODEL_13e2f606954a401390a06ed5dd8bbe05",
        "IPY_MODEL_7ceaeaa99e2b46cfbdab1d6012212c24",
        "IPY_MODEL_62a7d2d6956c4b9faf36e79095ecf92e",
        "IPY_MODEL_eda2dd1d28a74521ad6836879ae9b167",
        "IPY_MODEL_b4a1427c134e47aa9593a512f4090cb2",
        "IPY_MODEL_5a9e5940decc4b8eaa2a7a84c7e595e0",
        "IPY_MODEL_8c891ca84e1a4d6691245e6b797e8a74"
       ],
       "layout": "IPY_MODEL_ffa2c08e0dc94cbd9b83a33b2894fa8f",
       "left": 754,
       "modisdate": "2024-03-10",
       "north": 35.31736632923788,
       "options": [
        "bounce_at_zoom_limits",
        "box_zoom",
        "center",
        "close_popup_on_click",
        "double_click_zoom",
        "dragging",
        "fullscreen",
        "inertia",
        "inertia_deceleration",
        "inertia_max_speed",
        "interpolation",
        "keyboard",
        "keyboard_pan_offset",
        "keyboard_zoom_offset",
        "max_zoom",
        "min_zoom",
        "prefer_canvas",
        "scroll_wheel_zoom",
        "tap",
        "tap_tolerance",
        "touch_zoom",
        "world_copy_jump",
        "zoom",
        "zoom_animation_threshold",
        "zoom_delta",
        "zoom_snap"
       ],
       "prefer_canvas": false,
       "right": 1522,
       "south": -30.90222470517144,
       "style": "IPY_MODEL_323d8fc2e1224cc599928c3c0bbbc89d",
       "top": 809,
       "west": -47.4609375,
       "window_url": "https://datalab-bespin.malariagen.net/user/jonbrenas/notebooks/anopheles-genomic-surveillance.github.io/docs/workshop-2/module-4-cnv-frequencies.ipynb#",
       "zoom": 3
      }
     },
     "ec690199ff774eff9980e226f1093ed5": {
      "model_module": "@jupyter-widgets/controls",
      "model_module_version": "1.5.0",
      "model_name": "DescriptionStyleModel",
      "state": {
       "description_width": ""
      }
     },
     "eca1b01a1ece42508d4594fe8ab6234e": {
      "model_module": "@jupyter-widgets/controls",
      "model_module_version": "1.5.0",
      "model_name": "HTMLModel",
      "state": {
       "layout": "IPY_MODEL_3eb985db55f94e02bba685ff38f2eedc",
       "style": "IPY_MODEL_5db692f7103e42a586cfed70a43fbc23",
       "value": " 0/11 [00:00&lt;?, ?it/s]"
      }
     },
     "eda2dd1d28a74521ad6836879ae9b167": {
      "model_module": "jupyter-leaflet",
      "model_module_version": "^0.17.0",
      "model_name": "LeafletCircleMarkerModel",
      "state": {
       "_model_module_version": "^0.17.0",
       "_view_module_version": "^0.17.0",
       "color": "black",
       "fill_color": "red",
       "fill_opacity": 0.03333333333333333,
       "location": [
        8.48,
        -9.53
       ],
       "options": [
        "color",
        "dash_array",
        "fill",
        "fill_color",
        "fill_opacity",
        "line_cap",
        "line_join",
        "opacity",
        "pointer_events",
        "radius",
        "stroke",
        "weight"
       ],
       "popup": "IPY_MODEL_79dcfc0e6598421dbef5eb82b981fafd",
       "radius": 20,
       "weight": 1
      }
     },
     "edf74391cb9c4cefa3eb172a75e5bc8c": {
      "model_module": "@jupyter-widgets/controls",
      "model_module_version": "1.5.0",
      "model_name": "DescriptionStyleModel",
      "state": {
       "description_width": ""
      }
     },
     "ee0cac759fce40a6bd9df5aa74a13122": {
      "model_module": "@jupyter-widgets/controls",
      "model_module_version": "1.5.0",
      "model_name": "HTMLModel",
      "state": {
       "layout": "IPY_MODEL_232e669ab64647218cff411a9e9ade0d",
       "style": "IPY_MODEL_bcdf6b6387814455acc3bea8e9735b9b",
       "value": " 498/504 [00:13&lt;00:00, 43.29it/s]"
      }
     },
     "ee1a6736256b4e29ac96ec01881ac566": {
      "model_module": "@jupyter-widgets/base",
      "model_module_version": "1.2.0",
      "model_name": "LayoutModel",
      "state": {}
     },
     "ee53190914664b39bf04b59f8f59da66": {
      "model_module": "jupyter-leaflet",
      "model_module_version": "^0.17.0",
      "model_name": "LeafletAttributionControlModel",
      "state": {
       "_model_module_version": "^0.17.0",
       "_view_module_version": "^0.17.0",
       "options": [
        "position",
        "prefix"
       ],
       "position": "bottomright",
       "prefix": "ipyleaflet"
      }
     },
     "ee9b07d90e424d258a12ca8da105e21b": {
      "model_module": "@jupyter-widgets/base",
      "model_module_version": "1.2.0",
      "model_name": "LayoutModel",
      "state": {}
     },
     "ef5e4a61ffdf42eeb7c2063fd797275d": {
      "model_module": "@jupyter-widgets/controls",
      "model_module_version": "1.5.0",
      "model_name": "DescriptionStyleModel",
      "state": {
       "description_width": ""
      }
     },
     "ef8896f88fac4250ad163b4e9e0db9c9": {
      "model_module": "@jupyter-widgets/controls",
      "model_module_version": "1.5.0",
      "model_name": "HTMLModel",
      "state": {
       "layout": "IPY_MODEL_f6ebe3eccaee4213b8e02873ec78e986",
       "style": "IPY_MODEL_004ddc173bb845fa9e55fb2d15451a38",
       "value": " 49/56 [00:01&lt;00:00, 51.20it/s]"
      }
     },
     "f092848ff3b2436bb295466333a223c2": {
      "model_module": "@jupyter-widgets/controls",
      "model_module_version": "1.5.0",
      "model_name": "ProgressStyleModel",
      "state": {
       "description_width": ""
      }
     },
     "f162159577064150b8a20bf76a7b0d00": {
      "model_module": "@jupyter-widgets/controls",
      "model_module_version": "1.5.0",
      "model_name": "DescriptionStyleModel",
      "state": {
       "description_width": ""
      }
     },
     "f1b16bb80ffc4c71a3495f070a7fd1ee": {
      "model_module": "@jupyter-widgets/base",
      "model_module_version": "1.2.0",
      "model_name": "LayoutModel",
      "state": {}
     },
     "f1b8ccd1394a46a6aa79295b0ec5e765": {
      "model_module": "@jupyter-widgets/base",
      "model_module_version": "1.2.0",
      "model_name": "LayoutModel",
      "state": {
       "visibility": "hidden"
      }
     },
     "f1c5bfb99c5c47aca9260034a3593a33": {
      "model_module": "@jupyter-widgets/base",
      "model_module_version": "1.2.0",
      "model_name": "LayoutModel",
      "state": {
       "visibility": "hidden"
      }
     },
     "f27b965c62dc45ac8af512b4c92b579c": {
      "model_module": "@jupyter-widgets/controls",
      "model_module_version": "1.5.0",
      "model_name": "ProgressStyleModel",
      "state": {
       "description_width": ""
      }
     },
     "f284b0973cd240de9e81a23eb84e421d": {
      "model_module": "@jupyter-widgets/controls",
      "model_module_version": "1.5.0",
      "model_name": "HTMLModel",
      "state": {
       "layout": "IPY_MODEL_8b7ee9581acd4a04a09f40b6e2a3e04b",
       "style": "IPY_MODEL_6e880c6ba3344803a8f92eaddf5e0344",
       "value": " 53/56 [00:01&lt;00:00, 42.88it/s]"
      }
     },
     "f2b7393072944b47b831faba5cf09d68": {
      "model_module": "jupyter-leaflet",
      "model_module_version": "^0.17.0",
      "model_name": "LeafletMapStyleModel",
      "state": {
       "_model_module_version": "^0.17.0",
       "cursor": "move"
      }
     },
     "f2beeae4ce6840dca1e040f80ef548b8": {
      "model_module": "@jupyter-widgets/controls",
      "model_module_version": "1.5.0",
      "model_name": "DescriptionStyleModel",
      "state": {
       "description_width": ""
      }
     },
     "f30a67a524564f6293c8267a82ab88aa": {
      "model_module": "@jupyter-widgets/controls",
      "model_module_version": "1.5.0",
      "model_name": "FloatProgressModel",
      "state": {
       "layout": "IPY_MODEL_9821ee2c27d4448e8e20cfce45293f95",
       "max": 504,
       "style": "IPY_MODEL_4e2e4c058d5a483aa236d989967985dd",
       "value": 504
      }
     },
     "f35ce2f1755743b88c401ef7a6d8f7cf": {
      "model_module": "jupyter-leaflet",
      "model_module_version": "^0.17.0",
      "model_name": "LeafletPopupModel",
      "state": {
       "_model_module_version": "^0.17.0",
       "_view_module_version": "^0.17.0",
       "auto_close": true,
       "auto_pan": true,
       "auto_pan_padding": [
        5,
        5
       ],
       "auto_pan_padding_bottom_right": null,
       "auto_pan_padding_top_left": null,
       "child": "IPY_MODEL_c48d96e32fb0409f93c37097998efdfe",
       "close_button": true,
       "close_on_escape_key": true,
       "keep_in_view": false,
       "options": [
        "auto_close",
        "auto_pan",
        "auto_pan_padding",
        "auto_pan_padding_bottom_right",
        "auto_pan_padding_top_left",
        "close_button",
        "close_on_escape_key",
        "keep_in_view",
        "max_height",
        "max_width",
        "min_width"
       ]
      }
     },
     "f371b102616c47f4bf43961dafe03cda": {
      "model_module": "@jupyter-widgets/base",
      "model_module_version": "1.2.0",
      "model_name": "LayoutModel",
      "state": {}
     },
     "f3c0f1926d174273bfbbcb39e89d5f6a": {
      "model_module": "@jupyter-widgets/controls",
      "model_module_version": "1.5.0",
      "model_name": "HTMLModel",
      "state": {
       "layout": "IPY_MODEL_ee9b07d90e424d258a12ca8da105e21b",
       "style": "IPY_MODEL_2dd33fd4852c4a3c8044fb8125bf0be1",
       "value": "Compute modal gene copy number:   0%"
      }
     },
     "f3f6397be90840a290b28c69123cd4bb": {
      "model_module": "@jupyter-widgets/base",
      "model_module_version": "1.2.0",
      "model_name": "LayoutModel",
      "state": {}
     },
     "f41465800af049038cd9772dcb3dcb21": {
      "model_module": "jupyter-leaflet",
      "model_module_version": "^0.17.0",
      "model_name": "LeafletCircleMarkerModel",
      "state": {
       "_model_module_version": "^0.17.0",
       "_view_module_version": "^0.17.0",
       "color": "black",
       "fill_color": "red",
       "fill_opacity": 0.04081632653061224,
       "location": [
        11.195102040816325,
        -4.290622448979592
       ],
       "options": [
        "color",
        "dash_array",
        "fill",
        "fill_color",
        "fill_opacity",
        "line_cap",
        "line_join",
        "opacity",
        "pointer_events",
        "radius",
        "stroke",
        "weight"
       ],
       "popup": "IPY_MODEL_dd7f6ec4500f478a862b5114f1596832",
       "radius": 20,
       "weight": 1
      }
     },
     "f448c17ac37047a6bd03de967b9110b6": {
      "model_module": "@jupyter-widgets/base",
      "model_module_version": "1.2.0",
      "model_name": "LayoutModel",
      "state": {}
     },
     "f5088299a01c4ecdac5c78d55f35ae59": {
      "model_module": "@jupyter-widgets/base",
      "model_module_version": "1.2.0",
      "model_name": "LayoutModel",
      "state": {
       "visibility": "hidden"
      }
     },
     "f55b93cc0ac643068345af9dd6eddf45": {
      "model_module": "@jupyter-widgets/base",
      "model_module_version": "1.2.0",
      "model_name": "LayoutModel",
      "state": {}
     },
     "f5958c975e814511906d95dd09cc2356": {
      "model_module": "@jupyter-widgets/controls",
      "model_module_version": "1.5.0",
      "model_name": "FloatProgressModel",
      "state": {
       "layout": "IPY_MODEL_3a8fee5cfca749d4ac7e616ff01fe7b8",
       "max": 11,
       "style": "IPY_MODEL_6eb55fd2f1f3468c97f9601b8e1377d1",
       "value": 11
      }
     },
     "f5b1a46a00414324b6765607f3985d98": {
      "model_module": "@jupyter-widgets/base",
      "model_module_version": "1.2.0",
      "model_name": "LayoutModel",
      "state": {}
     },
     "f60c56466ea64d879dc8e84b2839bd60": {
      "model_module": "@jupyter-widgets/controls",
      "model_module_version": "1.5.0",
      "model_name": "DescriptionStyleModel",
      "state": {
       "description_width": ""
      }
     },
     "f67c2b0f72cc47c7bfa19f819fea8143": {
      "model_module": "@jupyter-widgets/base",
      "model_module_version": "1.2.0",
      "model_name": "LayoutModel",
      "state": {
       "visibility": "hidden"
      }
     },
     "f6ebe3eccaee4213b8e02873ec78e986": {
      "model_module": "@jupyter-widgets/base",
      "model_module_version": "1.2.0",
      "model_name": "LayoutModel",
      "state": {}
     },
     "f6f5d4083c8146eb9e293a95224aa19e": {
      "model_module": "@jupyter-widgets/controls",
      "model_module_version": "1.5.0",
      "model_name": "DescriptionStyleModel",
      "state": {
       "description_width": ""
      }
     },
     "f7f1b11f31374527946428b28a9dd400": {
      "model_module": "@jupyter-widgets/controls",
      "model_module_version": "1.5.0",
      "model_name": "HTMLModel",
      "state": {
       "layout": "IPY_MODEL_b728e91afff74552931d7e070d1e7e3a",
       "style": "IPY_MODEL_c1e8f45dc0124e53a582e3aa1bcb6e32",
       "value": " 175/176 [00:06&lt;00:00, 32.61it/s]"
      }
     },
     "f86069ebe0254a1a894871bf0f9c247e": {
      "model_module": "@jupyter-widgets/base",
      "model_module_version": "1.2.0",
      "model_name": "LayoutModel",
      "state": {}
     },
     "f87168f4e27849bea9f033fd51ccc428": {
      "model_module": "@jupyter-widgets/base",
      "model_module_version": "1.2.0",
      "model_name": "LayoutModel",
      "state": {}
     },
     "f8a4a94d9c144bbab7f8dbccb9a6b652": {
      "model_module": "@jupyter-widgets/output",
      "model_module_version": "1.0.0",
      "model_name": "OutputModel",
      "state": {
       "layout": "IPY_MODEL_d3e1bd593f774f92b686a305a37a30e1"
      }
     },
     "f9498c92fb0f414e8de778b50b811127": {
      "model_module": "@jupyter-widgets/controls",
      "model_module_version": "1.5.0",
      "model_name": "HTMLModel",
      "state": {
       "layout": "IPY_MODEL_d7d198b96be84e27b0a8438973249ffe",
       "style": "IPY_MODEL_f2beeae4ce6840dca1e040f80ef548b8",
       "value": "\n                <strong>AGAP002862 (CYP6AA1) amp</strong> <br/>\n                Taxon: gambiae <br/>\n                Area: GH-AA <br/>\n                Period: 2012 <br/>\n                Sample size: 13 <br/>\n                Frequency: 0%\n                (95% CI: 0% - 23%)\n            "
      }
     },
     "f96f997eff5b49efa653c0363fd12b43": {
      "model_module": "@jupyter-widgets/base",
      "model_module_version": "1.2.0",
      "model_name": "LayoutModel",
      "state": {}
     },
     "fade1b7e09a44a7ebe13727b4c07409c": {
      "model_module": "@jupyter-widgets/controls",
      "model_module_version": "1.5.0",
      "model_name": "ProgressStyleModel",
      "state": {
       "description_width": ""
      }
     },
     "fb697f6d88c94490adc172ceda23147c": {
      "model_module": "jupyter-leaflet",
      "model_module_version": "^0.17.0",
      "model_name": "LeafletAttributionControlModel",
      "state": {
       "_model_module_version": "^0.17.0",
       "_view_module_version": "^0.17.0",
       "options": [
        "position",
        "prefix"
       ],
       "position": "bottomright",
       "prefix": "ipyleaflet"
      }
     },
     "fb8d260869844e9ea346fdbb8ee0751e": {
      "model_module": "@jupyter-widgets/base",
      "model_module_version": "1.2.0",
      "model_name": "LayoutModel",
      "state": {}
     },
     "fbbbe4763a3e425a9397cda6696d5339": {
      "model_module": "@jupyter-widgets/base",
      "model_module_version": "1.2.0",
      "model_name": "LayoutModel",
      "state": {}
     },
     "fd0fc85392114ce3bde6c8d71aeee4c0": {
      "model_module": "@jupyter-widgets/base",
      "model_module_version": "1.2.0",
      "model_name": "LayoutModel",
      "state": {}
     },
     "fd2b2001db3a4cbe8509e50cd7384713": {
      "model_module": "@jupyter-widgets/controls",
      "model_module_version": "1.5.0",
      "model_name": "DescriptionStyleModel",
      "state": {
       "description_width": ""
      }
     },
     "fd67a22de7a04b5e9519e5d8f8c130b3": {
      "model_module": "@jupyter-widgets/controls",
      "model_module_version": "1.5.0",
      "model_name": "ProgressStyleModel",
      "state": {
       "description_width": ""
      }
     },
     "fdae163acafd48259a7ec2425488913d": {
      "model_module": "@jupyter-widgets/controls",
      "model_module_version": "1.5.0",
      "model_name": "DescriptionStyleModel",
      "state": {
       "description_width": ""
      }
     },
     "fddc7169d4a64e3991ba960456225a23": {
      "model_module": "@jupyter-widgets/controls",
      "model_module_version": "1.5.0",
      "model_name": "FloatProgressModel",
      "state": {
       "layout": "IPY_MODEL_0c4081481ad2447fa337781771540925",
       "max": 56,
       "style": "IPY_MODEL_d8ac7db1bba343a8b504c27d182178f7",
       "value": 56
      }
     },
     "fede03d929964e07b7a818e7ba196ab4": {
      "model_module": "@jupyter-widgets/controls",
      "model_module_version": "1.5.0",
      "model_name": "DescriptionStyleModel",
      "state": {
       "description_width": ""
      }
     },
     "ffa2c08e0dc94cbd9b83a33b2894fa8f": {
      "model_module": "@jupyter-widgets/base",
      "model_module_version": "1.2.0",
      "model_name": "LayoutModel",
      "state": {}
     },
     "ffa4cb9785f145da811b4e8df7fe9b0e": {
      "model_module": "@jupyter-widgets/controls",
      "model_module_version": "1.5.0",
      "model_name": "HTMLModel",
      "state": {
       "layout": "IPY_MODEL_75a5c4275b7e4b42aed2f67e098c27e5",
       "style": "IPY_MODEL_ad8a2907547e447cbb45847aa9e74784",
       "value": "Compute modal gene copy number:   0%"
      }
     }
    },
    "version_major": 2,
    "version_minor": 0
   }
  }
 },
 "nbformat": 4,
 "nbformat_minor": 5
}
