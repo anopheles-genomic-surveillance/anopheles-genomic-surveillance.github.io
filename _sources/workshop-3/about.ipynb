{
 "cells": [
  {
   "cell_type": "markdown",
   "id": "d27c267b",
   "metadata": {},
   "source": [
    "![banner](../banner.jpg)\n",
    "\n",
    "***Training course in data analysis for genomic surveillance of African malaria vectors***\n",
    "\n",
    "---"
   ]
  },
  {
   "cell_type": "markdown",
   "id": "4bd1b90f",
   "metadata": {},
   "source": [
    "# Workshop 3 - Population structure\n",
    "\n",
    "## Topic\n",
    "\n",
    "This training workshop covers the use of genomic data to analyse population structure in mosquitoes from the *Anopheles gambiae* complex. In general, we expect that factors such as reproductive isolation between species and geographical isolation between distant or physically separated locations will reduce gene flow and lead to population structure. However, how these factors play out in natural mosquito populations is not always straightforward to predict. This is especially true where vector species have a broad geographical range spanning many different environments, and where species form species complexes with ongoing gene flow and evolution. Genomic data provides a new opportunity to investigate in high definition how malaria vectors across the African continent are structured into genetically distinct populations, which is an essential foundation for many other surveillance analyses."
   ]
  },
  {
   "cell_type": "markdown",
   "id": "83b3d78d",
   "metadata": {},
   "source": [
    "## Structure and format\n",
    "\n",
    "This workshop comprises four modules:\n",
    "\n",
    "* {doc}`module-1-plotly`\n",
    "* {doc}`module-2-population-structure`\n",
    "* {doc}`module-3-snps`\n",
    "* {doc}`module-4-NJT`\n",
    "\n",
    "Each module includes a video lecture, and is accompanied by a notebook which includes lecture notes, code examples and practical exercises"
   ]
  },
  {
   "cell_type": "code",
   "execution_count": null,
   "id": "4403b341-c167-4132-9c88-7b64629bfd84",
   "metadata": {},
   "outputs": [],
   "source": []
  }
 ],
 "metadata": {
  "kernelspec": {
   "display_name": "developer-developer-training-nb-maintenance-mgen-15.0.1",
   "language": "python",
   "name": "conda-env-developer-developer-training-nb-maintenance-mgen-15.0.1-py"
  },
  "language_info": {
   "codemirror_mode": {
    "name": "ipython",
    "version": 3
   },
   "file_extension": ".py",
   "mimetype": "text/x-python",
   "name": "python",
   "nbconvert_exporter": "python",
   "pygments_lexer": "ipython3",
   "version": "3.11.11"
  },
  "widgets": {
   "application/vnd.jupyter.widget-state+json": {
    "state": {},
    "version_major": 2,
    "version_minor": 0
   }
  }
 },
 "nbformat": 4,
 "nbformat_minor": 5
}
