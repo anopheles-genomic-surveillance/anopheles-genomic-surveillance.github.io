{
 "cells": [
  {
   "cell_type": "markdown",
   "id": "c6f4410c-7f7e-4cce-9921-175e7702ba1c",
   "metadata": {},
   "source": [
    "![banner](../banner.jpg)\n",
    "\n",
    "***[Workshop 8](about) - Planning analysis and presenting results***\n",
    "\n",
    "---"
   ]
  },
  {
   "cell_type": "markdown",
   "id": "44b51744-93e6-43a9-8039-4a1fccc3fe01",
   "metadata": {},
   "source": [
    "# Module 3 - Genomic surveillance of malaria vectors in Tanzania\n",
    "\n",
    "Sophia Hussein Mwinyi is a Research Scientist at the Ifakara Health Institute.\n",
    "\n",
    "In this presentation, Sophia will be talking about genomic analysis of _An. Gambiae_ complex mosquitoes from Tanzania. Specifically, on population dynamics, insecticide resistance mechanisms and spread, and on the presence of genes with selective sweeps. "
   ]
  },
  {
   "cell_type": "markdown",
   "id": "60c141d8-6059-4259-9c0b-5c68f6244525",
   "metadata": {},
   "source": [
    "## Lecture"
   ]
  },
  {
   "cell_type": "markdown",
   "id": "8e0fd1ea",
   "metadata": {},
   "source": [
    "### English"
   ]
  },
  {
   "cell_type": "code",
   "execution_count": 1,
   "id": "4d5ab47a-9a7b-4572-bf5a-f2036b26226c",
   "metadata": {
    "tags": [
     "remove-input"
    ]
   },
   "outputs": [
    {
     "data": {
      "text/html": [
       "<iframe width=\"560\" height=\"315\" src=\"https://www.youtube.com/embed/ciTbxhQxX-Q\" title=\"YouTube video player\" frameborder=\"0\" allow=\"accelerometer; autoplay; clipboard-write; encrypted-media; gyroscope; picture-in-picture\" allowfullscreen></iframe>\n"
      ],
      "text/plain": [
       "<IPython.core.display.HTML object>"
      ]
     },
     "metadata": {},
     "output_type": "display_data"
    }
   ],
   "source": [
    "%%html\n",
    "<iframe width=\"560\" height=\"315\" src=\"https://www.youtube.com/embed/ciTbxhQxX-Q\" title=\"YouTube video player\" frameborder=\"0\" allow=\"accelerometer; autoplay; clipboard-write; encrypted-media; gyroscope; picture-in-picture\" allowfullscreen></iframe>\n"
   ]
  },
  {
   "cell_type": "markdown",
   "id": "9352397e",
   "metadata": {},
   "source": [
    "### Français"
   ]
  },
  {
   "cell_type": "code",
   "execution_count": 2,
   "id": "7f3abb7f",
   "metadata": {},
   "outputs": [
    {
     "data": {
      "text/html": [
       "<iframe width=\"560\" height=\"315\" src=\"https://www.youtube.com/embed/xUhGDFTI40s\" title=\"YouTube video player\" frameborder=\"0\" allow=\"accelerometer; autoplay; clipboard-write; encrypted-media; gyroscope; picture-in-picture\" allowfullscreen></iframe>\n"
      ],
      "text/plain": [
       "<IPython.core.display.HTML object>"
      ]
     },
     "metadata": {},
     "output_type": "display_data"
    }
   ],
   "source": [
    "%%html\n",
    "<iframe width=\"560\" height=\"315\" src=\"https://www.youtube.com/embed/xUhGDFTI40s\" title=\"YouTube video player\" frameborder=\"0\" allow=\"accelerometer; autoplay; clipboard-write; encrypted-media; gyroscope; picture-in-picture\" allowfullscreen></iframe>\n"
   ]
  }
 ],
 "metadata": {
  "kernelspec": {
   "display_name": "Python 3 (ipykernel)",
   "language": "python",
   "name": "python3"
  },
  "language_info": {
   "codemirror_mode": {
    "name": "ipython",
    "version": 3
   },
   "file_extension": ".py",
   "mimetype": "text/x-python",
   "name": "python",
   "nbconvert_exporter": "python",
   "pygments_lexer": "ipython3",
   "version": "3.10.11"
  }
 },
 "nbformat": 4,
 "nbformat_minor": 5
}
