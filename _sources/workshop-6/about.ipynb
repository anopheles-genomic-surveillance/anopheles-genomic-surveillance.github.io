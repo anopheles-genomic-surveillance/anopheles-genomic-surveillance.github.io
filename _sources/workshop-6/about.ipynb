{
 "cells": [
  {
   "cell_type": "markdown",
   "id": "d27c267b",
   "metadata": {},
   "source": [
    "![banner](../banner.jpg)\n",
    "\n",
    "***Training course in data analysis for genomic surveillance of African malaria vectors***\n",
    "\n",
    "---"
   ]
  },
  {
   "cell_type": "markdown",
   "id": "4bd1b90f",
   "metadata": {},
   "source": [
    "# Workshop 6 - Detecting genes under recent positive selection\n",
    "\n",
    "## Topic\n",
    "\n",
    "This training workshop focuses on the use of genomic data to discover genes under recent positive selection. Interventions such as mass distribution of long-lasting insecticidal bednets (LLINs) are vital for malaria control and aim to reach high coverage of people at risk of malaria. However, as the scale and coverage of these interventions increases, they create a strong selection pressure which leads to the evolution of insecticide resistance variants within *Anopheles* mosquito populations. The evolution of insecticide resistance can in turn reduce the efficacy of vector control interventions, and thus present a significant biological threat to malaria control. Some insecticide variants are already known, but many are not, and so we have an incomplete picture of the genetic changes occuring in *Anopheles* mosquitoes. Furthermore, the types of insecticide used in vector control are changing, and new insecticides create new selection pressures. We cannot always predict ahead of time which genes or variants will be involved in resistance to any given insecticide, and so we need to find ways to discover new insecticide resistance genes and variants as soon as possible. Genomic data provides a unique opportunity to identify genes that are under strong selection pressure and thus evolving rapidly in natural mosquito populations, which in turn could be used to identify and observe new forms of insecticide resistance as they emerge."
   ]
  },
  {
   "cell_type": "markdown",
   "id": "83b3d78d",
   "metadata": {},
   "source": [
    "## Structure and format\n",
    "\n",
    "This workshop comprises four modules:\n",
    "\n",
    "* {doc}`module-1-haplotypes`\n",
    "* {doc}`module-2-selection`\n",
    "* {doc}`module-3-gwss`\n",
    "* {doc}`module-4-primers`\n",
    "\n",
    "Each module includes a video lecture, and is accompanied by a notebook which includes lecture notes, code examples and practical exercises"
   ]
  }
 ],
 "metadata": {
  "kernelspec": {
   "display_name": "Python 3 (ipykernel)",
   "language": "python",
   "name": "python3"
  },
  "language_info": {
   "codemirror_mode": {
    "name": "ipython",
    "version": 3
   },
   "file_extension": ".py",
   "mimetype": "text/x-python",
   "name": "python",
   "nbconvert_exporter": "python",
   "pygments_lexer": "ipython3",
   "version": "3.9.7"
  }
 },
 "nbformat": 4,
 "nbformat_minor": 5
}
