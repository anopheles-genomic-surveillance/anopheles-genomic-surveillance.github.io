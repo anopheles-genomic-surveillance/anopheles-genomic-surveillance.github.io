{
 "cells": [
  {
   "cell_type": "markdown",
   "metadata": {
    "id": "09zg9pLwb_Mo"
   },
   "source": [
    "![banner](../banner.jpg)\n",
    "\n",
    "***[Workshop 8](about) - Planning analysis and presenting results***\n",
    "\n",
    "---"
   ]
  },
  {
   "cell_type": "markdown",
   "metadata": {
    "id": "QPvqgYQHAfKF"
   },
   "source": [
    "# Module 1 - Planning a genomic surveillance exploratory data analysis \n",
    "\n",
    "**Theme: Analysis**\n",
    "\n",
    "This module will provide a walk-through guide to the necessary steps to plan and perform a genomic surveillance exploratory data analysis, and to distil the outputs into key findings. \n",
    "\n",
    "To achieve this, we will revisit the analyses explored in previous workshops."
   ]
  },
  {
   "cell_type": "markdown",
   "metadata": {
    "id": "TOnaa1RkDDIB"
   },
   "source": [
    "## Learning objectives\n",
    "\n",
    "After completing this module, you will be able to:\n",
    "\n",
    "* Define exploratory analysis\n",
    "* Create an exploratory data analysis plan\n",
    "* Review analysis methods covered previously in the training course\n",
    "* Identify key findings\n"
   ]
  },
  {
   "cell_type": "markdown",
   "metadata": {
    "id": "-JKyzOkc6xBI"
   },
   "source": [
    "## Lecture"
   ]
  },
  {
   "cell_type": "markdown",
   "metadata": {
    "id": "lVcQYAO56xBJ"
   },
   "source": [
    "### English"
   ]
  },
  {
   "cell_type": "code",
   "execution_count": 1,
   "metadata": {
    "colab": {
     "base_uri": "https://localhost:8080/",
     "height": 336
    },
    "id": "PAdLd3lB6xBL",
    "outputId": "3a466421-43cd-46f3-99e0-7dcbcd2878b5",
    "tags": [
     "remove-input"
    ]
   },
   "outputs": [
    {
     "data": {
      "text/html": [
       "<iframe width=\"560\" height=\"315\" src=\"https://www.youtube.com/embed/0oisjYc5wk4\" title=\"YouTube video player\" frameborder=\"0\" allow=\"accelerometer; autoplay; clipboard-write; encrypted-media; gyroscope; picture-in-picture\" allowfullscreen></iframe>\n"
      ],
      "text/plain": [
       "<IPython.core.display.HTML object>"
      ]
     },
     "metadata": {},
     "output_type": "display_data"
    }
   ],
   "source": [
    "%%html  \n",
    "<iframe width=\"560\" height=\"315\" src=\"https://www.youtube.com/embed/0oisjYc5wk4\" title=\"YouTube video player\" frameborder=\"0\" allow=\"accelerometer; autoplay; clipboard-write; encrypted-media; gyroscope; picture-in-picture\" allowfullscreen></iframe>"
   ]
  },
  {
   "cell_type": "markdown",
   "metadata": {
    "id": "_DiEDV6K6xBQ"
   },
   "source": [
    "### Français"
   ]
  },
  {
   "cell_type": "code",
   "execution_count": 2,
   "metadata": {
    "colab": {
     "base_uri": "https://localhost:8080/",
     "height": 336
    },
    "id": "8s3zGws66xBS",
    "outputId": "8ff372a0-818c-4f9e-e96c-fe2a9e8de1ab",
    "tags": [
     "remove-input"
    ]
   },
   "outputs": [
    {
     "data": {
      "text/html": [
       "<iframe width=\"560\" height=\"315\" src=\"https://www.youtube.com/embed/A29y7xJ1Nns\" title=\"YouTube video player\" frameborder=\"0\" allow=\"accelerometer; autoplay; clipboard-write; encrypted-media; gyroscope; picture-in-picture\" allowfullscreen></iframe>\n"
      ],
      "text/plain": [
       "<IPython.core.display.HTML object>"
      ]
     },
     "metadata": {},
     "output_type": "display_data"
    }
   ],
   "source": [
    "%%html\n",
    "<iframe width=\"560\" height=\"315\" src=\"https://www.youtube.com/embed/A29y7xJ1Nns\" title=\"YouTube video player\" frameborder=\"0\" allow=\"accelerometer; autoplay; clipboard-write; encrypted-media; gyroscope; picture-in-picture\" allowfullscreen></iframe>"
   ]
  },
  {
   "cell_type": "markdown",
   "metadata": {
    "id": "FFwdnsOSD_hI"
   },
   "source": [
    "---\n",
    "## Assumptions\n",
    "\n",
    "Before starting on the analysis, we make some assumptions: \n",
    "\n",
    "* You have data from a surveillance study which has collected mosquitoes from multiple locations or time points within a given study area (_e.g._, a country, province or region)\n",
    "* The mosquitoes were wild-caught and the sampling was relatively unbiased (i.e. mosquitoes collected were representative of natural populations) \n",
    "* Mosquitoes have been individually whole-genome sequenced (WGS)\n",
    "* Analysis-ready SNP, CNV and haplotype data are available, along with space-time metadata for each sample (where and when each sample was collected)\n",
    "---"
   ]
  },
  {
   "cell_type": "markdown",
   "metadata": {},
   "source": [
    "## What is an exploratory data analysis?\n",
    "\n",
    "In general, most of the questions we will be interested in can be answered by comparing groups of mosquitoes, for example:\n",
    "* Comparing different mosquito species\n",
    "* Comparing mosquitoes from different geographical locations\n",
    "* Comparing mosquitoes from different time points\n",
    "\n",
    "When comparing these groups, we:\n",
    "* Look for interesting patterns (differences or similarities within/between them)\n",
    "* Explore how those patterns relate to other variables (e.g., variations in climate, geography, ecosystem, land use, vector biology, vector control intervention coverage, malaria transmission, _etc._) \n",
    "\n",
    "So, for an exploratory data analysis, we want to:\n",
    "1. Find interesting patterns in the genomic data\n",
    "1. Relate those findings to other variables such as space, time and intervention coverage\n",
    "\n",
    "## Key findings \n",
    "As our analyses progress, we will collect multiple results. We want to assess which ones describe the data accurately, clearly and are interesting. We call these, **key findings**. \n",
    "\n",
    "Key findings are observations which you think are scientifically or operationally interesting, and worth communicating to others. They can be:\n",
    "\n",
    "* **Scientifically interesting** = any new insight, _i.e._, something we didn't know before\n",
    "\n",
    "* **Operationally interesting** = anything which might be relevant to our ability to control malaria\n",
    "\n",
    "### What are we hoping to describe in our key findings?\n",
    "* New information related to mosquito population biology\n",
    "    - identify previously unknown cryptic species\n",
    "    - identify geographically isolated (or connected) populations\n",
    "\n",
    "* Identify new biological threats to malaria vector control\n",
    "    - new genes or mutations with a potential roles in insecticide resistance\n",
    "    - insecticide resistance mutations spreading between species or countries\n",
    "    \n",
    " \n",
    "We have described the assumptions for the data we will be using, and the key findings we are interested in when conducting an exploratory data analysis. Now, let's explore how we will conduct the analysis.\n"
   ]
  },
  {
   "cell_type": "markdown",
   "metadata": {},
   "source": [
    "---\n",
    "## Exploratory data analysis plan \n",
    "We have divided the analysis plan into 10 steps:\n",
    "\n",
    "0. Background reading\n",
    "1. Population sampling\n",
    "2. Taxonomic population structure\n",
    "3. Geographical population structure\n",
    "4. Cohort choice\n",
    "5. Genetic diversity\n",
    "6. Insecticide resistance variant frequencies\n",
    "7. Genome-wide selection scans\n",
    "8. Adaptive gene flow\n",
    "9. Review & refine key findings\n",
    "\n",
    "\n",
    "We have covered all of these analyses previously, but not in the same order presented here, as we chose to teach some easier concepts first. The order here provides the steps in the natural order you would use to approach an analysis exercise.\n",
    "\n",
    "Depending on the question(s) you are trying to answer you might focus more or less on certain sections described here. \n",
    "\n",
    "In summary, you will: \n",
    "* Prepare for the analysis by finding out relevant background information.\n",
    "* Explore what mosquitoes have been sequences and how they are genetically related.\n",
    "* Decide how to group mosquitoes into cohorts for comparisons.\n",
    "* Analyse and compare the mosquito cohorts.\n",
    "* Synthesise and interpret the results.\n",
    "---"
   ]
  },
  {
   "cell_type": "markdown",
   "metadata": {},
   "source": [
    "### 0. Background reading\n",
    "The first step is to prepare for the exploratory data analysis, we can do this by: \n",
    "* Learning as much as possible about the study area:  \n",
    "    - Geography\n",
    "    - Malaria epidemiology\n",
    "    - Vector ecology and population biology\n",
    "  \n",
    "\n",
    "* Learning about the study itself:\n",
    "    - Sampling design \n",
    "    - Data collection\n",
    "    \n",
    "How long you spend on this step depends on your familiarity with the study area, the depth and breadth of literature available, and on how/why the mosquitoes were collected in this study.\n",
    "\n",
    "---"
   ]
  },
  {
   "cell_type": "markdown",
   "metadata": {},
   "source": [
    "### 1. Population sampling\n",
    "\n",
    "For this section, we want to answer:\n",
    "- How many mosquitoes were sequenced in the study? \n",
    "- Where and when were they collected?\n",
    "\n",
    "For which, we will:\n",
    "\n",
    "**Analyse the sample metadata and summarise** using pivot tables, bar plots and interactive maps. See [workshop 1, module 2](https://anopheles-genomic-surveillance.github.io/workshop-1/module-2-sample-metadata.html) for examples.\n",
    "\n",
    "![m1-pop-sampling](images/m1-pop-sampling.png)\n",
    "\n",
    "Here we can see examples of the plots we will use. We have: i) a pivot table where we have summarised taxa from different locations and timepoints and ii) an interactive map that allows us to see how the samples are disributed across the study area.\n",
    "\n",
    "Additionally, you might also want to check for:\n",
    "- Any genomic data available from the same study area from other studies. \n",
    "- Any genomic data available from neighbouring countries.\n",
    "Depending on your question, it might be relevant to compare with these data and include it as part of the analyses conducted. \n",
    "\n",
    "Then, you need to decide on your sample inclusion criteria (_i.e._, which samples are you going to include in your exploratory analysis?). In your analysis code, sample inclusion criteria can be specified via the `sample_sets` parameter or the `sample_query` parameter or a combination of both, you can use these to filter for the samples you want to keep on your analysis going forward.\n",
    "\n",
    "---\n"
   ]
  },
  {
   "cell_type": "markdown",
   "metadata": {},
   "source": [
    "### 2. Taxonomic population structure\n",
    "For this section, we want to answer:\n",
    "- What mosquito taxa (species) are represented?\n",
    "- Is there any evidence for previously unknown or putative cryptic taxa?\n",
    "- Is there any evidence for unusual levels of hybridisation between taxa?\n",
    "\n",
    "Relevant analyses:\n",
    "\n",
    "#### Ancestry informative marker (AIM) analysis\n",
    "Perform AIM analysis on all samples in the study, to create and inspect AIM heatmaps and AIM fraction scatter plots. See [workshop 4, module 3](https://anopheles-genomic-surveillance.github.io/workshop-4/module-3-aims.html).\n",
    "\n",
    "![m1-2-aim](images/m1-2-aim.png)\n",
    "\n",
    "Here, you want to see which taxa are represented in your sample set. On the example above, we can see a clear-cut case where all the samples fall clearly into one of three expected taxa. However, this may not always be the case.\n",
    "\n",
    "#### Principal components analysis (PCA)\n",
    "Perform PCA on all samples in the study. Create PCA scatter plots. See [workshop 4, module 4](https://anopheles-genomic-surveillance.github.io/workshop-4/module-4-taxon-analysis.html).\n",
    "\n",
    "Generally, we expect mosquitoes to cluster in the PCA according to established taxa (_An. gambiae_, _An. coluzzii_, _An. arabiensis_) but there are some difficult cases where this does not happen.\n",
    "\n",
    "For unclear scenarios, it can be particularly useful to include samples from other studies in this analysis for comparison.\n",
    "\n",
    "![m1-2-pca](images/m1-2-pca.png)\n",
    "\n",
    "Because taxon assignment is very important but sometimes difficult, the MalariaGEN team regularly performs these analyses for all available samples as part of building each data release. Our taxon assignments are stored in the `taxon` column of the sample metadata but we still recommend you perform these analyses for yourself, to fully understand the taxonomic population structure in your study. \n",
    "\n",
    "![m1-2-taxon](images/m1-2-taxon.png)\n",
    "\n",
    "---\n"
   ]
  },
  {
   "cell_type": "markdown",
   "metadata": {},
   "source": [
    "\n",
    "\n",
    "### 3. Geographical population structure\n",
    "For this section, we want to answer:\n",
    "Within each taxon, is there any evidence for geographical isolation, _i.e._, clustering of mosquitoes according to sampling location?\n",
    "\n",
    "Perform a separate PCA for **each taxon**. Create PCA scatter plots and colour by geographical variables such as collection location, administrative division or latitude/longitude coordinates. See [workshop 3, module 4](https://anopheles-genomic-surveillance.github.io/workshop-3/module-4-pca.html).\n",
    "\n",
    "![m1-3-pca](images/m1-3-pca.png)\n",
    "\n",
    "It is particularly useful to include samples from other studies in this analysis for comparison.\n",
    "\n",
    "---"
   ]
  },
  {
   "cell_type": "markdown",
   "metadata": {
    "id": "JpsZnq9mDsTw"
   },
   "source": [
    "### 4. Select cohorts\n",
    "Now, we move into grouping the samples into biologically relevant cohorts.\n",
    "\n",
    "A \"cohort\" is a group of mosquitoes sampled from a given geographical area, time and taxon. When deciding cohorts, we need to take into account: \n",
    "- How to group spatially\n",
    "- How to group temporally\n",
    "- Which taxa are present\n",
    "- Cohort size (_i.e._, number of samples in each cohort)\n",
    "\n",
    "In general, **aim for the finest possible grouping, whilst maintaining cohorts with at least 10 samples each**. See [workshop 5, module 3](https://anopheles-genomic-surveillance.github.io/workshop-5/module-3-stats.html#selecting-cohorts).\n",
    "\n",
    "For convenience, MalariaGEN data releases include some useful columns in sample metadata for assigning mosquitoes to cohorts:\n",
    "- `cohort_admin1_year` = grouped by taxon, admin level 1 and year\n",
    "- `cohort_admin1_quarter` = grouped by taxon, admin level 1 and year quarter\n",
    "- `cohort_admin1_month` = grouped by taxon, admin level 1 and month\n",
    "- `cohort_admin2_year` = grouped by taxon, admin level 2 and year\n",
    "- `cohort_admin2_quarter` = grouped by taxon, admin level 2 and year quarter\n",
    "- `cohort_admin2_month` = grouped by taxon, admin level 2 and month\n",
    "\n",
    "![m1-4-cohorts](images/m1-4-cohorts.png)\n",
    "\n",
    "In this example, we have grouped our samples by `cohort_admin2_year`. You can see that 2 of the cohorts have a sample size smaller than 10, so these will not be used in further analyses. \n",
    "\n",
    "#### Caveats\n",
    "- Administrative divisions are often convenient for exploratory analysis but can be large and cover multiple sampling locations and different ecosystems\n",
    "- After selecting cohorts, we recommend going back and looking at results from the population structure analysis\n",
    "    - Do any of the cohorts contain mosquitoes from separate PCA clusters? If so, this could be a problem, may need to group mosquitoes into cohorts differently\n",
    "\n",
    "--- \n",
    "### 5. Genetic diversity\n",
    "\n",
    "For this section, we want to answer: \n",
    "- How genetically diverse are the mosquito populations represented by our selected cohorts?\n",
    "- Are there any notable similarities and differences in genetic diversity between cohorts?\n",
    "- Is there any evidence for recent inbreeding in any cohorts?\n",
    "\n",
    "Relevant analyses:\n",
    "#### Diversity summary statistics\n",
    "Compute and plot genetic diversity summary statistics for all cohorts. See [workshop 5, module 3](https://anopheles-genomic-surveillance.github.io/workshop-5/module-3-stats.html).\n",
    "\n",
    "![m1-5-stats](images/m1-5-stats.png)\n",
    "\n",
    "You can summarise these for each cohort using bar plots which will allow you to easily compare values.\n",
    "\n",
    "#### Runs of homozygosity (ROH)\n",
    "\n",
    "Compute and plot runs of homozygosity for individual samples. See [workshop 5, module 4](https://anopheles-genomic-surveillance.github.io/workshop-5/module-4-roh.html).\n",
    "\n",
    "![m1-5-roh](images/m1-5-roh.png)\n",
    "\n",
    "Here, we are looking for long runs of homozygosity which suggest there might be inbreeding. Note this analysis is run on each sample, so if you have many samples, you could choose a random selection for this step.\n",
    "\n",
    "---\n",
    "\n",
    "### 6. Insecticide resistance variant frequencies\n",
    "\n",
    "For this section, we want to answer: \n",
    "- What genetic variants (SNPs and CNVs) are present in known insecticide resistance genes?\n",
    "- How do these variant frequencies differ between cohorts?\n",
    "\n",
    "Relevant analyses:\n",
    "#### SNPs in the _Vgsc_ gene (pyrethroid target-site resistance)\n",
    "Compute and plot frequencies of non-synonymous SNPs in the _Vgsc_ gene. See [workshop 1, module 4](https://anopheles-genomic-surveillance.github.io/workshop-1/module-4-vgsc-snps.html).\n",
    "![m1-6-vgsc](images/m1-6-vgsc.png)\n",
    "\n",
    "#### CNVs in _Cyp_ and _GSTe_ genes (metabolic resistance)\n",
    "Compute and plot frequencies of CNVs in metabolic gene clusters. See [workshop 2, module 4](https://anopheles-genomic-surveillance.github.io/workshop-2/module-4-cnv-frequencies.html).\n",
    "![m1-6-cnv-cyp](images/m1-6-cnv-cyp.png)\n",
    "\n",
    "#### SNPs and CNVs in  _Ace1_ (organophosphate resistance) / Gste genes\n",
    "Compute and plot frequencies of non-synonymous SNPs and CNVs in the _Ace1_ gene. See [workshop 7, module 1](https://anopheles-genomic-surveillance.github.io/workshop-7/module-1-op-ir.html).\n",
    "\n",
    "\n",
    "To inspect the genetic variants we look at: i) heatmaps that allows us to compare the variants frequencies between different cohorts; ii) interactive maps that show how these frequencies are distributed georgraphically and iii) time series plots to see how frequencies change in time.\n",
    "\n",
    "---"
   ]
  },
  {
   "cell_type": "markdown",
   "metadata": {},
   "source": [
    "\n",
    "### 7. Genome-wide selection scans (GWSS)\n",
    "We want to answer:\n",
    "- What genome regions are under strong recent positive selection?\n",
    "- Are any selection signals at known insecticide resistance genes?\n",
    "- Do any selection signals suggest new candidate insecticide resistance genes?\n",
    "- How do selection scans compare between cohorts? \n",
    "\n",
    "Relevant analyses:\n",
    "#### H12\n",
    "Calibrate, compute and plot H12 for each cohort and chromosome arm. See [workshop 6, module 3](https://anopheles-genomic-surveillance.github.io/workshop-6/module-3-gwss.html).\n",
    "\n",
    "![m1-7-gwss](images/m1-7-gwss.png)\n",
    "\n",
    "Here we are looking for outliers that form peaks which suggest recent positive selection. Then, we investigate the genes underneath the peaks, to see if we see any known resisteance genes or new regions that could be involved in resistance.  \n",
    "\n",
    "---"
   ]
  },
  {
   "cell_type": "markdown",
   "metadata": {},
   "source": [
    "### 8. Adaptive gene flow\n",
    "We want to answer:\n",
    "- What genome regions are experiencing adaptive gene flow between taxa (introgression) or countries (spatial gene flow)?\n",
    "- Which cohorts are connected via adaptive gene flow events?\n",
    "- What can this tell us about how insecticide resistance may be spreading?\n",
    "\n",
    "Relevant analyses:\n",
    "#### H1X \n",
    "Compute and plot H1X for pairs of cohorts. See [workshop 7, module 2](https://anopheles-genomic-surveillance.github.io/workshop-7/module-2-gene-flow.html).\n",
    "Identify peaks, investigate further with haplotype clustering and networks.\n",
    "\n",
    "![m1-8-h1x](images/m1-8-h1x.png)\n",
    "\n",
    "As we are choosing pairs of cohorts to use here, we could compare those where we saw the similar signals of selection in our H12 analyses. We are looking for peaks, which suggest the same signal of recent selection is shared across the two cohorts. We can further investigate these regions using haplotype clustering and networks.\n",
    "\n",
    "\n",
    "#### Haplotype clustering\n",
    "Compute and plot haplotype clustering at selected genome regions where there is evidence of positive selection and adaptive gene flow. See [workshop 7, module 3](https://anopheles-genomic-surveillance.github.io/workshop-7/module-3-haplotype-clustering.html).\n",
    "![m1-8-hap-cluster](images/m1-8-hap-cluster.png)\n",
    "\n",
    "Here, we are looking at clusters of similar haplotypes shared between different countries or species, which would suggest an adaptive gene flow event.\n",
    "\n",
    "#### Haplotype networks\n",
    "Compute and plot haplotype networks at selected genome regions where there is evidence of positive selection and adaptive gene flow. See [workshop 7, module 4](https://anopheles-genomic-surveillance.github.io/workshop-7/module-4-haplotype-networks.html).\n",
    "\n",
    "![m1-8-hap-network](images/m1-8-hap-network.png)\n",
    "\n",
    "Similarly to the clustering analysis, we want to identify nodes that are shared between different countries or species, which would provide evidence for an adaptive gene flow event."
   ]
  },
  {
   "cell_type": "markdown",
   "metadata": {},
   "source": [
    "### 9. Review and refine key findings\n",
    "\n",
    "After you have finished all of the analyses above, you will find yourself with a lot of information and plots. In this step, you want to distill them, note the most relevant ones and identify **key findings**. \n",
    "\n",
    "Key findings are observations which you think are scientifically or operationally interesting, and worth communicating. \n",
    "\n",
    "After reviewing all your exploratory analysis, try to write down your key findings as a short list of bullet points in plain language. For example: \n",
    "\n",
    "* _I found that within An. gambiae, mosquitoes in the west of the country were genetically distinct from mosquitoes in the east. This is interesting because the central part of the country is much more arid, and so could be preventing An. gambiae mosquitoes from moving freely across the country._\n",
    "\n",
    "\n",
    "* _I found a new mutation in the gene targeted by pyrethroid insecticides, which was increasing in frequency in An. coluzzii mosquitoes from the north of the country. This is interesting because it could represent a stronger form of resistance to pyrethroid insecticides._\n",
    "\n",
    "\n",
    "\n",
    "Now, with these clear key findings, you can reflect on: \n",
    "- Any common themes or threads connect your key findings?\n",
    "- Any interesting connections between your key findings and other data or previous surveillance or research in your study area?\n",
    "- Starting to join your key findings up into a story\n",
    "- Talking your key findings through with a friend or colleague\n",
    "- Which plots or results from your exploratory analysis best help to communicate your key findings? "
   ]
  },
  {
   "cell_type": "markdown",
   "metadata": {
    "id": "GZHxDB1EUFLY"
   },
   "source": [
    "## Well done!\n",
    "\n",
    "In this module we have learnt how to:\n",
    "- Plan and conduct a genomic surveillance exploratory data analysis\n",
    "- Distil the outputs into key findings"
   ]
  },
  {
   "cell_type": "markdown",
   "metadata": {
    "id": "resb3397UjKI"
   },
   "source": [
    "## Practical exercises\n",
    "\n",
    "### English\n",
    "\n",
    "Now, you can run your own exploratory data analysis. For this:\n",
    "\n",
    "1. Choose a country or set of neighbourhing countries to focus on.\n",
    "1. Run all the analyses we explored in the order they have been outlined in the exploratory data analysis plan.\n",
    "1. Identify a maximum of 10 key findings.\n",
    "\n",
    "**Remember:**\n",
    "- You can  use your own data to perform the exercises on (check assumptions above if these data is not part of the MalariaGEN vector observatory).\n",
    "- You can use data from other studies in the MalariaGEN vector observatory data to conduct your exploratory data analysis on. These data are open-access but subject to a publication embargo. This means that you will need to **obtain permission before publicly communicating any findings**.\n",
    "\n",
    "\n",
    "### Français\n",
    "\n",
    "Vous pouvez maintenant réaliser votre analyse de données exploratoire. Pour cela:\n",
    "\n",
    "1. Choisissez un pays, ou un ensemble de pays voisins, sur lequel vous concentrer.\n",
    "1. Exécutez toutes les analyses que nous avons explorées, dans l’ordre dans lequel elles ont été décrites dans le plan d’analyse exploratoire.\n",
    "1. Identifiez un maximum de 10 résultats importants.\n",
    "\n",
    "**À retenir:**\n",
    "- Vous pouvez utiliser vos propres données pour effectuer les exercices (vérifiez les hypothèses ci-dessus si ces données ne font pas partie de l’observatoire des vecteurs MalariaGEN).\n",
    "- Vous pouvez utiliser les données d’autres études dans l’observatoire des vecteurs MalariaGEN pour effectuer votre analyse exploratoire. Ces données sont en libre accès mais sont aussi soumises à l’embargo de publication. Par conséquent, vous devrez **obtenir une autorisation avant de communiquer publiquement toute découverte les utilisant**."
   ]
  }
 ],
 "metadata": {
  "colab": {
   "collapsed_sections": [],
   "name": "Workshop 1 - Module 1 - Interactive cloud computing with Google Colaboratory - 2022-03-03.ipynb",
   "provenance": []
  },
  "kernelspec": {
   "display_name": "Python 3 (ipykernel)",
   "language": "python",
   "name": "python3"
  },
  "language_info": {
   "codemirror_mode": {
    "name": "ipython",
    "version": 3
   },
   "file_extension": ".py",
   "mimetype": "text/x-python",
   "name": "python",
   "nbconvert_exporter": "python",
   "pygments_lexer": "ipython3",
   "version": "3.7.16"
  }
 },
 "nbformat": 4,
 "nbformat_minor": 4
}
