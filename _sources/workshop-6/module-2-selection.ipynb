{
 "cells": [
  {
   "cell_type": "markdown",
   "metadata": {
    "id": "PegF1K0D1ZnS"
   },
   "source": [
    "![banner](https://anopheles-genomic-surveillance.github.io/_images/banner.jpg)\n",
    "\n",
    "***Training course in data analysis for genomic surveillance of African malaria vectors - Workshop 6***\n",
    "\n",
    "---"
   ]
  },
  {
   "cell_type": "markdown",
   "metadata": {
    "id": "IWbYSGsC1vhV"
   },
   "source": [
    "# Module 2 - The biology of selective sweeps\n",
    "\n",
    "**Theme: Biology**\n",
    "\n",
    "This module introduces the biology of selective sweeps, where one or more genetic variants rise in frequency because they confer some benefit or advantage to an organism. In the case of *Anopheles* mosquitoes, selective sweeps can occur when genetic variants arise which confer resistance to one or more insecticides. Selective sweeps leave a distinctive signature in genomic data, and so we can use that signature to identify genomic regions where sweeps are occuring. In the context of malaria vector surveillance, this can be one approach to discovering genes involved in recent adaptation to insecticides. "
   ]
  },
  {
   "cell_type": "markdown",
   "metadata": {
    "id": "WiKt280J13oB"
   },
   "source": [
    "## Learning objectives\n",
    "\n",
    "In this module we will:\n",
    "\n",
    "* Introduce the concept of adaptation.\n",
    "* Introduce the concept of selective sweeps.\n",
    "* Explain the difference between hard sweeps and soft sweeps.\n",
    "* Explain how selective sweeps leave a characteristic footprint in genomic data.\n",
    "* Introduce some existing and emerging methods to discover and classify selective sweeps using genomic data.\n"
   ]
  },
  {
   "cell_type": "markdown",
   "metadata": {},
   "source": [
    "## Lecture"
   ]
  },
  {
   "cell_type": "markdown",
   "metadata": {},
   "source": [
    "### English"
   ]
  },
  {
   "cell_type": "code",
   "execution_count": 1,
   "metadata": {
    "tags": [
     "remove-input"
    ]
   },
   "outputs": [
    {
     "data": {
      "text/html": [
       "<iframe width=\"560\" height=\"315\" src=\"https://www.youtube.com/embed/HdbFw55Qdjw\" title=\"YouTube video player\" frameborder=\"0\" allow=\"accelerometer; autoplay; clipboard-write; encrypted-media; gyroscope; picture-in-picture\" allowfullscreen></iframe>\n"
      ],
      "text/plain": [
       "<IPython.core.display.HTML object>"
      ]
     },
     "metadata": {},
     "output_type": "display_data"
    }
   ],
   "source": [
    "%%html\n",
    "<iframe width=\"560\" height=\"315\" src=\"https://www.youtube.com/embed/HdbFw55Qdjw\" title=\"YouTube video player\" frameborder=\"0\" allow=\"accelerometer; autoplay; clipboard-write; encrypted-media; gyroscope; picture-in-picture\" allowfullscreen></iframe>"
   ]
  },
  {
   "cell_type": "markdown",
   "metadata": {},
   "source": [
    "### Français"
   ]
  },
  {
   "cell_type": "code",
   "execution_count": 1,
   "metadata": {
    "tags": [
     "remove-input"
    ]
   },
   "outputs": [
    {
     "data": {
      "text/html": [
       "<iframe width=\"560\" height=\"315\" src=\"https://www.youtube.com/embed/3So0oR-SeQs\" title=\"YouTube video player\" frameborder=\"0\" allow=\"accelerometer; autoplay; clipboard-write; encrypted-media; gyroscope; picture-in-picture\" allowfullscreen></iframe>\n"
      ],
      "text/plain": [
       "<IPython.core.display.HTML object>"
      ]
     },
     "metadata": {},
     "output_type": "display_data"
    }
   ],
   "source": [
    "%%html\n",
    "<iframe width=\"560\" height=\"315\" src=\"https://www.youtube.com/embed/3So0oR-SeQs\" title=\"YouTube video player\" frameborder=\"0\" allow=\"accelerometer; autoplay; clipboard-write; encrypted-media; gyroscope; picture-in-picture\" allowfullscreen></iframe>"
   ]
  }
 ],
 "metadata": {
  "celltoolbar": "Tags",
  "colab": {
   "collapsed_sections": [],
   "name": "Workshop 5 - Module 1 - 2022-07-11 - Xarray datasets.ipynb",
   "provenance": []
  },
  "kernelspec": {
   "display_name": "Python [conda env:workshop-6-dev]",
   "language": "python",
   "name": "conda-env-workshop-6-dev-py"
  },
  "language_info": {
   "codemirror_mode": {
    "name": "ipython",
    "version": 3
   },
   "file_extension": ".py",
   "mimetype": "text/x-python",
   "name": "python",
   "nbconvert_exporter": "python",
   "pygments_lexer": "ipython3",
   "version": "3.7.12"
  },
  "widgets": {
   "application/vnd.jupyter.widget-state+json": {
    "state": {
     "013f430e49994c1c91854db30dcd22cd": {
      "model_module": "jupyter-leaflet",
      "model_module_version": "^0.16.0",
      "model_name": "LeafletCircleMarkerModel",
      "state": {
       "_model_module_version": "^0.16.0",
       "_view_module_version": "^0.16.0",
       "color": "black",
       "fill_color": "red",
       "fill_opacity": 0.1016949152542373,
       "location": [
        9.28,
        -10.03
       ],
       "options": [
        "color",
        "dash_array",
        "fill",
        "fill_color",
        "fill_opacity",
        "line_cap",
        "line_join",
        "opacity",
        "pointer_events",
        "radius",
        "stroke",
        "weight"
       ],
       "popup": "IPY_MODEL_bc339d57bcf64a3f902fb6518a248358",
       "radius": 20,
       "weight": 1
      }
     },
     "021d3dc5b7934e24b1968b079e02b299": {
      "model_module": "@jupyter-widgets/controls",
      "model_module_version": "1.5.0",
      "model_name": "HTMLModel",
      "state": {
       "layout": "IPY_MODEL_7ea49c23739e4d5ea300c06b44e5ef5c",
       "style": "IPY_MODEL_851a8bd3912045d1b82f9349b83cb151",
       "value": "Load CNV HMM data: 100%"
      }
     },
     "0469742e8c27493da300e91f5a36b56c": {
      "model_module": "@jupyter-widgets/base",
      "model_module_version": "1.2.0",
      "model_name": "LayoutModel",
      "state": {}
     },
     "063fcfcd65be4d6782b907569493d8d8": {
      "model_module": "@jupyter-widgets/base",
      "model_module_version": "1.2.0",
      "model_name": "LayoutModel",
      "state": {}
     },
     "06d4c7fcfcfc4dad87aa6d09234de7a2": {
      "model_module": "jupyter-leaflet",
      "model_module_version": "^0.16.0",
      "model_name": "LeafletPopupModel",
      "state": {
       "_model_module_version": "^0.16.0",
       "_view_module_version": "^0.16.0",
       "auto_close": true,
       "auto_pan": true,
       "auto_pan_padding": [
        5,
        5
       ],
       "auto_pan_padding_bottom_right": null,
       "auto_pan_padding_top_left": null,
       "child": "IPY_MODEL_be0c5027f99c4b6e830dedd97dae6c26",
       "close_button": true,
       "close_on_escape_key": true,
       "keep_in_view": false,
       "options": [
        "auto_close",
        "auto_pan",
        "auto_pan_padding",
        "auto_pan_padding_bottom_right",
        "auto_pan_padding_top_left",
        "close_button",
        "close_on_escape_key",
        "keep_in_view",
        "max_height",
        "max_width",
        "min_width"
       ]
      }
     },
     "07ce06e4ce59461f8f165eec301824a6": {
      "model_module": "@jupyter-widgets/base",
      "model_module_version": "1.2.0",
      "model_name": "LayoutModel",
      "state": {}
     },
     "0a00f77675e54c03860f668e86b17214": {
      "model_module": "@jupyter-widgets/base",
      "model_module_version": "1.2.0",
      "model_name": "LayoutModel",
      "state": {}
     },
     "0e1682dc82d64e4095fab0c36d87494c": {
      "model_module": "@jupyter-widgets/base",
      "model_module_version": "1.2.0",
      "model_name": "LayoutModel",
      "state": {}
     },
     "0f5afbc3d1f847cd82a1c6da1abcbd80": {
      "model_module": "@jupyter-widgets/base",
      "model_module_version": "1.2.0",
      "model_name": "LayoutModel",
      "state": {}
     },
     "0f91f4cf69b44b8187f604cce295a5e9": {
      "model_module": "@jupyter-widgets/controls",
      "model_module_version": "1.5.0",
      "model_name": "DescriptionStyleModel",
      "state": {
       "description_width": ""
      }
     },
     "10d31335303b414a84b6335cbb184ea8": {
      "model_module": "@jupyter-widgets/controls",
      "model_module_version": "1.5.0",
      "model_name": "DescriptionStyleModel",
      "state": {
       "description_width": ""
      }
     },
     "10e069ffa3894f2bbd9f8f03d81be868": {
      "model_module": "jupyter-leaflet",
      "model_module_version": "^0.16.0",
      "model_name": "LeafletPopupModel",
      "state": {
       "_model_module_version": "^0.16.0",
       "_view_module_version": "^0.16.0",
       "auto_close": true,
       "auto_pan": true,
       "auto_pan_padding": [
        5,
        5
       ],
       "auto_pan_padding_bottom_right": null,
       "auto_pan_padding_top_left": null,
       "child": "IPY_MODEL_28adc6d67f0443539d2b786b352ce47c",
       "close_button": true,
       "close_on_escape_key": true,
       "keep_in_view": false,
       "options": [
        "auto_close",
        "auto_pan",
        "auto_pan_padding",
        "auto_pan_padding_bottom_right",
        "auto_pan_padding_top_left",
        "close_button",
        "close_on_escape_key",
        "keep_in_view",
        "max_height",
        "max_width",
        "min_width"
       ]
      }
     },
     "113bf83a1022466fa0649d0cb3777613": {
      "model_module": "jupyter-leaflet",
      "model_module_version": "^0.16.0",
      "model_name": "LeafletPopupModel",
      "state": {
       "_model_module_version": "^0.16.0",
       "_view_module_version": "^0.16.0",
       "auto_close": true,
       "auto_pan": true,
       "auto_pan_padding": [
        5,
        5
       ],
       "auto_pan_padding_bottom_right": null,
       "auto_pan_padding_top_left": null,
       "child": "IPY_MODEL_be75be5f7c5744799770dec06bfda036",
       "close_button": true,
       "close_on_escape_key": true,
       "keep_in_view": false,
       "options": [
        "auto_close",
        "auto_pan",
        "auto_pan_padding",
        "auto_pan_padding_bottom_right",
        "auto_pan_padding_top_left",
        "close_button",
        "close_on_escape_key",
        "keep_in_view",
        "max_height",
        "max_width",
        "min_width"
       ]
      }
     },
     "1158783fc1874a8d97ffd8e55233a05b": {
      "model_module": "@jupyter-widgets/base",
      "model_module_version": "1.2.0",
      "model_name": "LayoutModel",
      "state": {}
     },
     "11cf433a5d994bf0833f8d3722951694": {
      "model_module": "@jupyter-widgets/controls",
      "model_module_version": "1.5.0",
      "model_name": "FloatProgressModel",
      "state": {
       "bar_style": "success",
       "layout": "IPY_MODEL_1158783fc1874a8d97ffd8e55233a05b",
       "max": 11,
       "style": "IPY_MODEL_836678cdd592423fb40c9e4a57ef378e",
       "value": 11
      }
     },
     "12b05ae35fe04fd4924696a5d8a3daf1": {
      "model_module": "@jupyter-widgets/controls",
      "model_module_version": "1.5.0",
      "model_name": "HBoxModel",
      "state": {
       "children": [
        "IPY_MODEL_97ef3e06501e4a5cb07627c5e5e464d4",
        "IPY_MODEL_179a6a536761491d9207fc41d0d5a8b3",
        "IPY_MODEL_6f24af0567084352bdb91fd447674fb7"
       ],
       "layout": "IPY_MODEL_fd1127fe02e94abc9bced2190cb0b271"
      }
     },
     "12fc69d9d6ce458c8af5545c138ed591": {
      "model_module": "@jupyter-widgets/base",
      "model_module_version": "1.2.0",
      "model_name": "LayoutModel",
      "state": {}
     },
     "13bdd1d80f1f44c9af404b0980a78386": {
      "model_module": "jupyter-leaflet",
      "model_module_version": "^0.16.0",
      "model_name": "LeafletZoomControlModel",
      "state": {
       "_model_module_version": "^0.16.0",
       "_view_module_version": "^0.16.0",
       "options": [
        "position",
        "zoom_in_text",
        "zoom_in_title",
        "zoom_out_text",
        "zoom_out_title"
       ]
      }
     },
     "13cdf087b67b491296a47c9bc74469bf": {
      "model_module": "@jupyter-widgets/controls",
      "model_module_version": "1.5.0",
      "model_name": "DescriptionStyleModel",
      "state": {
       "description_width": ""
      }
     },
     "15636ffe3a4f43e9a898af5f1f98f507": {
      "model_module": "@jupyter-widgets/controls",
      "model_module_version": "1.5.0",
      "model_name": "DescriptionStyleModel",
      "state": {
       "description_width": ""
      }
     },
     "1624e99ca027450380ddc5c51a8be541": {
      "model_module": "jupyter-leaflet",
      "model_module_version": "^0.16.0",
      "model_name": "LeafletMapModel",
      "state": {
       "_model_module_version": "^0.16.0",
       "_view_module_version": "^0.16.0",
       "bottom": 1210,
       "center": [
        2.4601811810210052,
        19.951171875000004
       ],
       "controls": [
        "IPY_MODEL_13bdd1d80f1f44c9af404b0980a78386",
        "IPY_MODEL_ed63791f77bc429f807bb38a003d5ff5"
       ],
       "default_style": "IPY_MODEL_f0b9399085c9450c9178c72acc9ee2bb",
       "dragging_style": "IPY_MODEL_1a2a75438fc1484298cd0ae8c4c241b1",
       "east": 101.77734375000001,
       "fullscreen": false,
       "interpolation": "bilinear",
       "layers": [
        "IPY_MODEL_19ba33212f86465eb096a9baa4a39cf9",
        "IPY_MODEL_1a3a910c91974197b708aeadb50f5ae2",
        "IPY_MODEL_98ecae88768c4a61b437fcdea6d6bfff",
        "IPY_MODEL_be823d2f03ae440bbc4db732f1efdff0",
        "IPY_MODEL_e15836b2c1c1419396f6e727e4dac986",
        "IPY_MODEL_4cfe8043eeac451eb4c63a0fa277e722",
        "IPY_MODEL_df16bfbfdc2f4b1489287328e6e85adc",
        "IPY_MODEL_1e57d0282d064cdab8afcb2f51f2abe0",
        "IPY_MODEL_6d6f60d260d54958a778aeafed5ef91c"
       ],
       "layout": "IPY_MODEL_e38813ebf48e4e059c88aff4c06bca06",
       "left": 672,
       "modisdate": "2022-07-17",
       "north": 35.17380831799959,
       "options": [
        "bounce_at_zoom_limits",
        "box_zoom",
        "center",
        "close_popup_on_click",
        "double_click_zoom",
        "dragging",
        "fullscreen",
        "inertia",
        "inertia_deceleration",
        "inertia_max_speed",
        "interpolation",
        "keyboard",
        "keyboard_pan_offset",
        "keyboard_zoom_offset",
        "max_zoom",
        "min_zoom",
        "prefer_canvas",
        "scroll_wheel_zoom",
        "tap",
        "tap_tolerance",
        "touch_zoom",
        "world_copy_jump",
        "zoom",
        "zoom_animation_threshold",
        "zoom_delta",
        "zoom_snap",
        "zoom_start"
       ],
       "prefer_canvas": false,
       "right": 1603,
       "south": -31.05293398570515,
       "style": "IPY_MODEL_f0b9399085c9450c9178c72acc9ee2bb",
       "top": 810,
       "west": -61.87500000000001,
       "window_url": "https://datalab-abafar.malariagen.net/user/alimanfoo/notebooks/github/anopheles-genomic-surveillance/anopheles-genomic-surveillance.github.io/docs/workshop-5/module-1-xarray.ipynb#",
       "zoom": 3
      }
     },
     "179028f662084f1db7c4cf7c0fe003be": {
      "model_module": "jupyter-leaflet",
      "model_module_version": "^0.16.0",
      "model_name": "LeafletMapStyleModel",
      "state": {
       "_model_module_version": "^0.16.0"
      }
     },
     "179a6a536761491d9207fc41d0d5a8b3": {
      "model_module": "@jupyter-widgets/controls",
      "model_module_version": "1.5.0",
      "model_name": "FloatProgressModel",
      "state": {
       "bar_style": "success",
       "layout": "IPY_MODEL_c4ff4ca7f8a545b2b7c178e7f1377cfd",
       "max": 28,
       "style": "IPY_MODEL_6fcba81132b040ffa37709e1e48a893e",
       "value": 28
      }
     },
     "18a95ef010ce4167b8963d38f3d44a7e": {
      "model_module": "@jupyter-widgets/controls",
      "model_module_version": "1.5.0",
      "model_name": "FloatProgressModel",
      "state": {
       "bar_style": "success",
       "layout": "IPY_MODEL_7027b22111e546b8886e4fcd694a0132",
       "max": 504,
       "style": "IPY_MODEL_cded1c1e66344050811922498f31b80f",
       "value": 504
      }
     },
     "19150f84694c4251ba70303758909ab8": {
      "model_module": "@jupyter-widgets/controls",
      "model_module_version": "1.5.0",
      "model_name": "DescriptionStyleModel",
      "state": {
       "description_width": ""
      }
     },
     "193f61ec2c494fa4a524d7166648135e": {
      "model_module": "jupyter-leaflet",
      "model_module_version": "^0.16.0",
      "model_name": "LeafletMapModel",
      "state": {
       "_model_module_version": "^0.16.0",
       "_view_module_version": "^0.16.0",
       "bottom": 1210,
       "center": [
        2.4601811810210052,
        19.951171875000004
       ],
       "controls": [
        "IPY_MODEL_8277dc28c7a44349b452d24b14640bcc",
        "IPY_MODEL_c7be7d6900de48e5b926da59c647b139"
       ],
       "default_style": "IPY_MODEL_b3998689177f40e5b07519ca361244c9",
       "dragging_style": "IPY_MODEL_cc1b045a39e342a781f9dc19983306bd",
       "east": 102.48046875000001,
       "fullscreen": false,
       "interpolation": "bilinear",
       "layers": [
        "IPY_MODEL_5c90fb43f18d4bad87f1f42e9071df9b",
        "IPY_MODEL_a47ca8c9eeea499696ec13e0acfd6ad7",
        "IPY_MODEL_fb3d7450c88747a6b7a8ee19e4c6c163",
        "IPY_MODEL_3ba5ed6482be42dfb405841e81cd0793",
        "IPY_MODEL_ae38843a3567420bb3af35d888eb6b0b",
        "IPY_MODEL_891b5c5cc3b74e218f7c7d8e57eaf9b4",
        "IPY_MODEL_fb8018ee8be647a8ba6b202020b4b409",
        "IPY_MODEL_470502fa841843b1808dc10897482036",
        "IPY_MODEL_7d78a08fa5dc44a1b2e99c52e623efe3"
       ],
       "layout": "IPY_MODEL_df1ce6830aba48cebd3a8ec3f63b19bf",
       "left": 668,
       "modisdate": "2022-07-14",
       "north": 35.17380831799959,
       "options": [
        "bounce_at_zoom_limits",
        "box_zoom",
        "center",
        "close_popup_on_click",
        "double_click_zoom",
        "dragging",
        "fullscreen",
        "inertia",
        "inertia_deceleration",
        "inertia_max_speed",
        "interpolation",
        "keyboard",
        "keyboard_pan_offset",
        "keyboard_zoom_offset",
        "max_zoom",
        "min_zoom",
        "prefer_canvas",
        "scroll_wheel_zoom",
        "tap",
        "tap_tolerance",
        "touch_zoom",
        "world_copy_jump",
        "zoom",
        "zoom_animation_threshold",
        "zoom_delta",
        "zoom_snap",
        "zoom_start"
       ],
       "prefer_canvas": false,
       "right": 1607,
       "south": -31.05293398570515,
       "style": "IPY_MODEL_b3998689177f40e5b07519ca361244c9",
       "top": 810,
       "west": -62.57812500000001,
       "window_url": "https://datalab-abafar.malariagen.net/user/alimanfoo/notebooks/github/anopheles-genomic-surveillance/anopheles-genomic-surveillance.github.io/docs/workshop-5/module-1-xarray.ipynb",
       "zoom": 3
      }
     },
     "19ba33212f86465eb096a9baa4a39cf9": {
      "model_module": "jupyter-leaflet",
      "model_module_version": "^0.16.0",
      "model_name": "LeafletTileLayerModel",
      "state": {
       "_model_module_version": "^0.16.0",
       "_view_module_version": "^0.16.0",
       "attribution": "&copy; <a href=\"https://www.openstreetmap.org/copyright\">OpenStreetMap</a> contributors",
       "base": true,
       "bounds": null,
       "max_native_zoom": 18,
       "max_zoom": 19,
       "min_native_zoom": 0,
       "min_zoom": 1,
       "name": "OpenStreetMap.Mapnik",
       "options": [
        "attribution",
        "bounds",
        "detect_retina",
        "max_native_zoom",
        "max_zoom",
        "min_native_zoom",
        "min_zoom",
        "no_wrap",
        "tile_size",
        "tms"
       ],
       "url": "https://a.tile.openstreetmap.org/{z}/{x}/{y}.png"
      }
     },
     "1a2a75438fc1484298cd0ae8c4c241b1": {
      "model_module": "jupyter-leaflet",
      "model_module_version": "^0.16.0",
      "model_name": "LeafletMapStyleModel",
      "state": {
       "_model_module_version": "^0.16.0",
       "cursor": "move"
      }
     },
     "1a3a910c91974197b708aeadb50f5ae2": {
      "model_module": "jupyter-leaflet",
      "model_module_version": "^0.16.0",
      "model_name": "LeafletCircleMarkerModel",
      "state": {
       "_model_module_version": "^0.16.0",
       "_view_module_version": "^0.16.0",
       "color": "black",
       "fill_color": "red",
       "fill_opacity": 0.9125,
       "location": [
        11.2235375,
        -4.3535
       ],
       "options": [
        "color",
        "dash_array",
        "fill",
        "fill_color",
        "fill_opacity",
        "line_cap",
        "line_join",
        "opacity",
        "pointer_events",
        "radius",
        "stroke",
        "weight"
       ],
       "popup": "IPY_MODEL_e645c7eca6184a35b896e9a0d903203b",
       "radius": 20,
       "weight": 1
      }
     },
     "1b79d57ba0d842cf838c9a29191213d5": {
      "model_module": "@jupyter-widgets/controls",
      "model_module_version": "1.5.0",
      "model_name": "FloatProgressModel",
      "state": {
       "bar_style": "success",
       "layout": "IPY_MODEL_422a0e3d614647c2acc02abf4ef03bdd",
       "max": 504,
       "style": "IPY_MODEL_ab3c013dc55e4c7bb5b246ed8bfc8831",
       "value": 504
      }
     },
     "1db5f13685e6465cae7bea85d3b18ebf": {
      "model_module": "@jupyter-widgets/controls",
      "model_module_version": "1.5.0",
      "model_name": "DescriptionStyleModel",
      "state": {
       "description_width": ""
      }
     },
     "1e57d0282d064cdab8afcb2f51f2abe0": {
      "model_module": "jupyter-leaflet",
      "model_module_version": "^0.16.0",
      "model_name": "LeafletCircleMarkerModel",
      "state": {
       "_model_module_version": "^0.16.0",
       "_view_module_version": "^0.16.0",
       "color": "black",
       "fill_color": "red",
       "fill_opacity": 0.8,
       "location": [
        8.48,
        -9.53
       ],
       "options": [
        "color",
        "dash_array",
        "fill",
        "fill_color",
        "fill_opacity",
        "line_cap",
        "line_join",
        "opacity",
        "pointer_events",
        "radius",
        "stroke",
        "weight"
       ],
       "popup": "IPY_MODEL_ec61f92beb2241ef94e57fe9422e8755",
       "radius": 20,
       "weight": 1
      }
     },
     "1ecc5890c8774534af19c38324131c0b": {
      "model_module": "@jupyter-widgets/controls",
      "model_module_version": "1.5.0",
      "model_name": "HTMLModel",
      "state": {
       "layout": "IPY_MODEL_0e1682dc82d64e4095fab0c36d87494c",
       "style": "IPY_MODEL_8a660fe4f9eb43ba85849b4700724ea4",
       "value": " 11/11 [00:00&lt;00:00, 261.34it/s]"
      }
     },
     "1ef42c56742e47339a781629d85de8c6": {
      "model_module": "@jupyter-widgets/base",
      "model_module_version": "1.2.0",
      "model_name": "LayoutModel",
      "state": {}
     },
     "214905b5bd924b80bc33a18336e2d382": {
      "model_module": "jupyter-leaflet",
      "model_module_version": "^0.16.0",
      "model_name": "LeafletPopupModel",
      "state": {
       "_model_module_version": "^0.16.0",
       "_view_module_version": "^0.16.0",
       "auto_close": true,
       "auto_pan": true,
       "auto_pan_padding": [
        5,
        5
       ],
       "auto_pan_padding_bottom_right": null,
       "auto_pan_padding_top_left": null,
       "child": "IPY_MODEL_4aef9f7902ca457a86fea1ec865d953b",
       "close_button": true,
       "close_on_escape_key": true,
       "keep_in_view": false,
       "options": [
        "auto_close",
        "auto_pan",
        "auto_pan_padding",
        "auto_pan_padding_bottom_right",
        "auto_pan_padding_top_left",
        "close_button",
        "close_on_escape_key",
        "keep_in_view",
        "max_height",
        "max_width",
        "min_width"
       ]
      }
     },
     "22c222386fe34c83ba007a0bd0353430": {
      "model_module": "@jupyter-widgets/base",
      "model_module_version": "1.2.0",
      "model_name": "LayoutModel",
      "state": {}
     },
     "2326ae5d2fbc4083a34b2773f1f03cb1": {
      "model_module": "@jupyter-widgets/base",
      "model_module_version": "1.2.0",
      "model_name": "LayoutModel",
      "state": {}
     },
     "235145c191a84f37be05fa673b6fb37e": {
      "model_module": "@jupyter-widgets/controls",
      "model_module_version": "1.5.0",
      "model_name": "HTMLModel",
      "state": {
       "layout": "IPY_MODEL_4c5d2f2f4df64ed994a153c3d0e70042",
       "style": "IPY_MODEL_679f097e1cdd42f583ca231efcb506f7",
       "value": "Compute modal gene copy number: 100%"
      }
     },
     "2356125253544bcc8f33fa7a6cee2263": {
      "model_module": "@jupyter-widgets/controls",
      "model_module_version": "1.5.0",
      "model_name": "HTMLModel",
      "state": {
       "layout": "IPY_MODEL_8c3fceaef5d043fe81ffb15f5d5c2d16",
       "style": "IPY_MODEL_62229bd0812c499bb5e5c52a1335cbf3",
       "value": "\n                <strong>AGAP002862 (CYP6AA1) amp</strong> <br/>\n                Taxon: coluzzii <br/>\n                Area: GH-CP <br/>\n                Period: 2012 <br/>\n                Sample size: 25 <br/>\n                Frequency: 16%\n                (95% CI: 6% - 35%)\n            "
      }
     },
     "244e8c6ffcc24eefa3e0454e6b27a126": {
      "model_module": "@jupyter-widgets/controls",
      "model_module_version": "1.5.0",
      "model_name": "DescriptionStyleModel",
      "state": {
       "description_width": ""
      }
     },
     "251f38cf34e3430e8ecd1b279566e214": {
      "model_module": "@jupyter-widgets/base",
      "model_module_version": "1.2.0",
      "model_name": "LayoutModel",
      "state": {}
     },
     "26302b253a1f4b738657a08b29cf6552": {
      "model_module": "@jupyter-widgets/controls",
      "model_module_version": "1.5.0",
      "model_name": "HBoxModel",
      "state": {
       "children": [
        "IPY_MODEL_ded8429bb8db4e08b181f3ee3328d7a5",
        "IPY_MODEL_ba0f797380f4417fb6154e86150b2b0c",
        "IPY_MODEL_c2a7069760834606b42b901e76ea61cd"
       ],
       "layout": "IPY_MODEL_f0085770645d4fc79839e24a10b52121"
      }
     },
     "2822e5994d0045c98f4d2055a2cce72f": {
      "model_module": "@jupyter-widgets/controls",
      "model_module_version": "1.5.0",
      "model_name": "DescriptionStyleModel",
      "state": {
       "description_width": ""
      }
     },
     "28adc6d67f0443539d2b786b352ce47c": {
      "model_module": "@jupyter-widgets/controls",
      "model_module_version": "1.5.0",
      "model_name": "HTMLModel",
      "state": {
       "layout": "IPY_MODEL_eaff17df0ec44e90bea6c715b6435eeb",
       "style": "IPY_MODEL_440ae45f7b9a492aa4a266aaa2e0f30c",
       "value": "\n                <strong>AGAP002862 (CYP6AA1) amp</strong> <br/>\n                Taxon: gambiae <br/>\n                Area: GH-EP <br/>\n                Period: 2012 <br/>\n                Sample size: 23 <br/>\n                Frequency: 4%\n                (95% CI: 1% - 21%)\n            "
      }
     },
     "295b88d75de34dc894e972165f2b1e27": {
      "model_module": "@jupyter-widgets/controls",
      "model_module_version": "1.5.0",
      "model_name": "ProgressStyleModel",
      "state": {
       "description_width": ""
      }
     },
     "2a063c8a88a144d686d0ec5e1c13ca69": {
      "model_module": "@jupyter-widgets/controls",
      "model_module_version": "1.5.0",
      "model_name": "HBoxModel",
      "state": {
       "children": [
        "IPY_MODEL_7b5cf4f688f34dc89a8463265693910f",
        "IPY_MODEL_c8415b195a0046cfa1e522926db29f3b",
        "IPY_MODEL_4dcd5475500c4f2fba93a286448e537a"
       ],
       "layout": "IPY_MODEL_12fc69d9d6ce458c8af5545c138ed591"
      }
     },
     "2a7a4a46954b401fa96586e7f3da9043": {
      "model_module": "@jupyter-widgets/base",
      "model_module_version": "1.2.0",
      "model_name": "LayoutModel",
      "state": {}
     },
     "2bd8a2d58f7b48a3ace18937aaad1ba2": {
      "model_module": "@jupyter-widgets/controls",
      "model_module_version": "1.5.0",
      "model_name": "HBoxModel",
      "state": {
       "children": [
        "IPY_MODEL_021d3dc5b7934e24b1968b079e02b299",
        "IPY_MODEL_18a95ef010ce4167b8963d38f3d44a7e",
        "IPY_MODEL_78c577f9e47e4c18aa72d117d4cf4d6b"
       ],
       "layout": "IPY_MODEL_e34b3968418541879fc1b93509d54e4e"
      }
     },
     "2c28fe7650e744febc0e3e69af0a23ff": {
      "model_module": "jupyter-leaflet",
      "model_module_version": "^0.16.0",
      "model_name": "LeafletPopupModel",
      "state": {
       "_model_module_version": "^0.16.0",
       "_view_module_version": "^0.16.0",
       "auto_close": true,
       "auto_pan": true,
       "auto_pan_padding": [
        5,
        5
       ],
       "auto_pan_padding_bottom_right": null,
       "auto_pan_padding_top_left": null,
       "child": "IPY_MODEL_d8a879377e8548e1b013a685264e92cc",
       "close_button": true,
       "close_on_escape_key": true,
       "keep_in_view": false,
       "options": [
        "auto_close",
        "auto_pan",
        "auto_pan_padding",
        "auto_pan_padding_bottom_right",
        "auto_pan_padding_top_left",
        "close_button",
        "close_on_escape_key",
        "keep_in_view",
        "max_height",
        "max_width",
        "min_width"
       ]
      }
     },
     "2c9485250c1948ce9ec6958efc2e0b74": {
      "model_module": "jupyter-leaflet",
      "model_module_version": "^0.16.0",
      "model_name": "LeafletPopupModel",
      "state": {
       "_model_module_version": "^0.16.0",
       "_view_module_version": "^0.16.0",
       "auto_close": true,
       "auto_pan": true,
       "auto_pan_padding": [
        5,
        5
       ],
       "auto_pan_padding_bottom_right": null,
       "auto_pan_padding_top_left": null,
       "child": "IPY_MODEL_f94e5b8cb41f46c5b7fc3e23b3c20999",
       "close_button": true,
       "close_on_escape_key": true,
       "keep_in_view": false,
       "options": [
        "auto_close",
        "auto_pan",
        "auto_pan_padding",
        "auto_pan_padding_bottom_right",
        "auto_pan_padding_top_left",
        "close_button",
        "close_on_escape_key",
        "keep_in_view",
        "max_height",
        "max_width",
        "min_width"
       ]
      }
     },
     "2dd94161d91f41528362c077f7700842": {
      "model_module": "@jupyter-widgets/base",
      "model_module_version": "1.2.0",
      "model_name": "LayoutModel",
      "state": {}
     },
     "2e9a4162a40c4c62a0b1b66261f408b3": {
      "model_module": "@jupyter-widgets/controls",
      "model_module_version": "1.5.0",
      "model_name": "HTMLModel",
      "state": {
       "layout": "IPY_MODEL_d26ff845be1a4adab7f00f832b816946",
       "style": "IPY_MODEL_debc9f5f804b4f96bd83fceeb4b51a6f",
       "value": "\n                <strong>AGAP002862 (CYP6AA1) amp</strong> <br/>\n                Taxon: coluzzii <br/>\n                Area: GH-WP <br/>\n                Period: 2012 <br/>\n                Sample size: 24 <br/>\n                Frequency: 12%\n                (95% CI: 4% - 31%)\n            "
      }
     },
     "3021e5a547fc49ef8ef955640cfab154": {
      "model_module": "@jupyter-widgets/controls",
      "model_module_version": "1.5.0",
      "model_name": "DescriptionStyleModel",
      "state": {
       "description_width": ""
      }
     },
     "30bb82937b764746ab9dd41bbef47567": {
      "model_module": "jupyter-leaflet",
      "model_module_version": "^0.16.0",
      "model_name": "LeafletPopupModel",
      "state": {
       "_model_module_version": "^0.16.0",
       "_view_module_version": "^0.16.0",
       "auto_close": true,
       "auto_pan": true,
       "auto_pan_padding": [
        5,
        5
       ],
       "auto_pan_padding_bottom_right": null,
       "auto_pan_padding_top_left": null,
       "child": "IPY_MODEL_74abb7d472444326a58f20c80967cfcc",
       "close_button": true,
       "close_on_escape_key": true,
       "keep_in_view": false,
       "options": [
        "auto_close",
        "auto_pan",
        "auto_pan_padding",
        "auto_pan_padding_bottom_right",
        "auto_pan_padding_top_left",
        "close_button",
        "close_on_escape_key",
        "keep_in_view",
        "max_height",
        "max_width",
        "min_width"
       ]
      }
     },
     "325cfd89da3e4bf6b40cba36a6f34d3d": {
      "model_module": "@jupyter-widgets/controls",
      "model_module_version": "1.5.0",
      "model_name": "HTMLModel",
      "state": {
       "layout": "IPY_MODEL_5c37e135a90349e89346e8f3d773238b",
       "style": "IPY_MODEL_2822e5994d0045c98f4d2055a2cce72f",
       "value": "\n                <strong>AGAP002862 (CYP6AA1) amp</strong> <br/>\n                Taxon: gambiae <br/>\n                Area: UG-W <br/>\n                Period: 2012 <br/>\n                Sample size: 94 <br/>\n                Frequency: 30%\n                (95% CI: 21% - 40%)\n            "
      }
     },
     "37781b1fd942407ebb92556f27c982af": {
      "model_module": "@jupyter-widgets/controls",
      "model_module_version": "1.5.0",
      "model_name": "DescriptionStyleModel",
      "state": {
       "description_width": ""
      }
     },
     "3838474dcc2341178a7db964a79fc36b": {
      "model_module": "jupyter-leaflet",
      "model_module_version": "^0.16.0",
      "model_name": "LeafletCircleMarkerModel",
      "state": {
       "_model_module_version": "^0.16.0",
       "_view_module_version": "^0.16.0",
       "color": "black",
       "fill_color": "red",
       "fill_opacity": 0.03333333333333333,
       "location": [
        8.48,
        -9.53
       ],
       "options": [
        "color",
        "dash_array",
        "fill",
        "fill_color",
        "fill_opacity",
        "line_cap",
        "line_join",
        "opacity",
        "pointer_events",
        "radius",
        "stroke",
        "weight"
       ],
       "popup": "IPY_MODEL_be378e21e1c0436c8b89dcb7b0ef2054",
       "radius": 20,
       "weight": 1
      }
     },
     "3b68839193fe4702be49f88c54666bdf": {
      "model_module": "jupyter-leaflet",
      "model_module_version": "^0.16.0",
      "model_name": "LeafletPopupModel",
      "state": {
       "_model_module_version": "^0.16.0",
       "_view_module_version": "^0.16.0",
       "auto_close": true,
       "auto_pan": true,
       "auto_pan_padding": [
        5,
        5
       ],
       "auto_pan_padding_bottom_right": null,
       "auto_pan_padding_top_left": null,
       "child": "IPY_MODEL_7968baed9f134c9eabc50fd714d7c4d3",
       "close_button": true,
       "close_on_escape_key": true,
       "keep_in_view": false,
       "options": [
        "auto_close",
        "auto_pan",
        "auto_pan_padding",
        "auto_pan_padding_bottom_right",
        "auto_pan_padding_top_left",
        "close_button",
        "close_on_escape_key",
        "keep_in_view",
        "max_height",
        "max_width",
        "min_width"
       ]
      }
     },
     "3b8008653c734d23aec2d82b4fd609ad": {
      "model_module": "@jupyter-widgets/controls",
      "model_module_version": "1.5.0",
      "model_name": "DescriptionStyleModel",
      "state": {
       "description_width": ""
      }
     },
     "3ba5ed6482be42dfb405841e81cd0793": {
      "model_module": "jupyter-leaflet",
      "model_module_version": "^0.16.0",
      "model_name": "LeafletCircleMarkerModel",
      "state": {
       "_model_module_version": "^0.16.0",
       "_view_module_version": "^0.16.0",
       "color": "black",
       "fill_color": "red",
       "fill_opacity": 0,
       "location": [
        5.668,
        -0.219
       ],
       "options": [
        "color",
        "dash_array",
        "fill",
        "fill_color",
        "fill_opacity",
        "line_cap",
        "line_join",
        "opacity",
        "pointer_events",
        "radius",
        "stroke",
        "weight"
       ],
       "popup": "IPY_MODEL_faf2864253af4f5db098914a8ca6875e",
       "radius": 20,
       "weight": 1
      }
     },
     "3baedd22d4e944179de1f1e477486e0d": {
      "model_module": "jupyter-leaflet",
      "model_module_version": "^0.16.0",
      "model_name": "LeafletPopupModel",
      "state": {
       "_model_module_version": "^0.16.0",
       "_view_module_version": "^0.16.0",
       "auto_close": true,
       "auto_pan": true,
       "auto_pan_padding": [
        5,
        5
       ],
       "auto_pan_padding_bottom_right": null,
       "auto_pan_padding_top_left": null,
       "child": "IPY_MODEL_d39e23813b4e40dab61448d84f9670dc",
       "close_button": true,
       "close_on_escape_key": true,
       "keep_in_view": false,
       "options": [
        "auto_close",
        "auto_pan",
        "auto_pan_padding",
        "auto_pan_padding_bottom_right",
        "auto_pan_padding_top_left",
        "close_button",
        "close_on_escape_key",
        "keep_in_view",
        "max_height",
        "max_width",
        "min_width"
       ]
      }
     },
     "3c709ebab89e4ccd9cb97c212e3b83c4": {
      "model_module": "@jupyter-widgets/controls",
      "model_module_version": "1.5.0",
      "model_name": "DescriptionStyleModel",
      "state": {
       "description_width": ""
      }
     },
     "3ce4342bf64a47889ee5cd3c012a6e7f": {
      "model_module": "jupyter-leaflet",
      "model_module_version": "^0.16.0",
      "model_name": "LeafletPopupModel",
      "state": {
       "_model_module_version": "^0.16.0",
       "_view_module_version": "^0.16.0",
       "auto_close": true,
       "auto_pan": true,
       "auto_pan_padding": [
        5,
        5
       ],
       "auto_pan_padding_bottom_right": null,
       "auto_pan_padding_top_left": null,
       "child": "IPY_MODEL_2e9a4162a40c4c62a0b1b66261f408b3",
       "close_button": true,
       "close_on_escape_key": true,
       "keep_in_view": false,
       "options": [
        "auto_close",
        "auto_pan",
        "auto_pan_padding",
        "auto_pan_padding_bottom_right",
        "auto_pan_padding_top_left",
        "close_button",
        "close_on_escape_key",
        "keep_in_view",
        "max_height",
        "max_width",
        "min_width"
       ]
      }
     },
     "3d49a6c240664d23b16ad00ffa00d19a": {
      "model_module": "@jupyter-widgets/controls",
      "model_module_version": "1.5.0",
      "model_name": "DescriptionStyleModel",
      "state": {
       "description_width": ""
      }
     },
     "3f4433e7befd4c2d8e93b96c76cfd641": {
      "model_module": "@jupyter-widgets/controls",
      "model_module_version": "1.5.0",
      "model_name": "DescriptionStyleModel",
      "state": {
       "description_width": ""
      }
     },
     "3f6a65823164436987fab2f988926921": {
      "model_module": "@jupyter-widgets/base",
      "model_module_version": "1.2.0",
      "model_name": "LayoutModel",
      "state": {}
     },
     "408ef8f254e446c6b57ab8825ef20d1c": {
      "model_module": "@jupyter-widgets/controls",
      "model_module_version": "1.5.0",
      "model_name": "DescriptionStyleModel",
      "state": {
       "description_width": ""
      }
     },
     "422a0e3d614647c2acc02abf4ef03bdd": {
      "model_module": "@jupyter-widgets/base",
      "model_module_version": "1.2.0",
      "model_name": "LayoutModel",
      "state": {}
     },
     "42489b34700549dfbd597e8741b9d2d3": {
      "model_module": "@jupyter-widgets/controls",
      "model_module_version": "1.5.0",
      "model_name": "DescriptionStyleModel",
      "state": {
       "description_width": ""
      }
     },
     "4276d74530ad4ef6ba27030262ee1f93": {
      "model_module": "@jupyter-widgets/base",
      "model_module_version": "1.2.0",
      "model_name": "LayoutModel",
      "state": {}
     },
     "440ae45f7b9a492aa4a266aaa2e0f30c": {
      "model_module": "@jupyter-widgets/controls",
      "model_module_version": "1.5.0",
      "model_name": "DescriptionStyleModel",
      "state": {
       "description_width": ""
      }
     },
     "446603dd26944d8aa311fbe23570083a": {
      "model_module": "@jupyter-widgets/base",
      "model_module_version": "1.2.0",
      "model_name": "LayoutModel",
      "state": {}
     },
     "448bdd11607e423f968f43d4a9e5f191": {
      "model_module": "@jupyter-widgets/base",
      "model_module_version": "1.2.0",
      "model_name": "LayoutModel",
      "state": {}
     },
     "453210255f714a188fbeb941fdc869ea": {
      "model_module": "jupyter-leaflet",
      "model_module_version": "^0.16.0",
      "model_name": "LeafletPopupModel",
      "state": {
       "_model_module_version": "^0.16.0",
       "_view_module_version": "^0.16.0",
       "auto_close": true,
       "auto_pan": true,
       "auto_pan_padding": [
        5,
        5
       ],
       "auto_pan_padding_bottom_right": null,
       "auto_pan_padding_top_left": null,
       "child": "IPY_MODEL_df2f8906cfc64734bd8e2d4cf7eb93cc",
       "close_button": true,
       "close_on_escape_key": true,
       "keep_in_view": false,
       "options": [
        "auto_close",
        "auto_pan",
        "auto_pan_padding",
        "auto_pan_padding_bottom_right",
        "auto_pan_padding_top_left",
        "close_button",
        "close_on_escape_key",
        "keep_in_view",
        "max_height",
        "max_width",
        "min_width"
       ]
      }
     },
     "46e133288c94440592b886f3b70b7272": {
      "model_module": "@jupyter-widgets/controls",
      "model_module_version": "1.5.0",
      "model_name": "HTMLModel",
      "state": {
       "layout": "IPY_MODEL_8a89f0936bc74039896e858441adf390",
       "style": "IPY_MODEL_dab099ea1d8f47c7b03dd61fb02ef482",
       "value": "<h3>Gene CNV frequencies, Cyp6aa/p locus</h3>"
      }
     },
     "470502fa841843b1808dc10897482036": {
      "model_module": "jupyter-leaflet",
      "model_module_version": "^0.16.0",
      "model_name": "LeafletCircleMarkerModel",
      "state": {
       "_model_module_version": "^0.16.0",
       "_view_module_version": "^0.16.0",
       "color": "black",
       "fill_color": "red",
       "fill_opacity": 0.8,
       "location": [
        8.48,
        -9.53
       ],
       "options": [
        "color",
        "dash_array",
        "fill",
        "fill_color",
        "fill_opacity",
        "line_cap",
        "line_join",
        "opacity",
        "pointer_events",
        "radius",
        "stroke",
        "weight"
       ],
       "popup": "IPY_MODEL_113bf83a1022466fa0649d0cb3777613",
       "radius": 20,
       "weight": 1
      }
     },
     "47813b571a414513b70a50f93772ea38": {
      "model_module": "@jupyter-widgets/controls",
      "model_module_version": "1.5.0",
      "model_name": "DescriptionStyleModel",
      "state": {
       "description_width": ""
      }
     },
     "4788567945344adcb46177bbe8baf3b4": {
      "model_module": "@jupyter-widgets/base",
      "model_module_version": "1.2.0",
      "model_name": "LayoutModel",
      "state": {}
     },
     "48093edb47354b29afb5f155f6d92006": {
      "model_module": "jupyter-leaflet",
      "model_module_version": "^0.16.0",
      "model_name": "LeafletPopupModel",
      "state": {
       "_model_module_version": "^0.16.0",
       "_view_module_version": "^0.16.0",
       "auto_close": true,
       "auto_pan": true,
       "auto_pan_padding": [
        5,
        5
       ],
       "auto_pan_padding_bottom_right": null,
       "auto_pan_padding_top_left": null,
       "child": "IPY_MODEL_bfe74cf83f034f44bd05a2bc4dde5926",
       "close_button": true,
       "close_on_escape_key": true,
       "keep_in_view": false,
       "options": [
        "auto_close",
        "auto_pan",
        "auto_pan_padding",
        "auto_pan_padding_bottom_right",
        "auto_pan_padding_top_left",
        "close_button",
        "close_on_escape_key",
        "keep_in_view",
        "max_height",
        "max_width",
        "min_width"
       ]
      }
     },
     "4a48f821b5d34a9487444f681be8256a": {
      "model_module": "@jupyter-widgets/base",
      "model_module_version": "1.2.0",
      "model_name": "LayoutModel",
      "state": {}
     },
     "4aef9f7902ca457a86fea1ec865d953b": {
      "model_module": "@jupyter-widgets/controls",
      "model_module_version": "1.5.0",
      "model_name": "HTMLModel",
      "state": {
       "layout": "IPY_MODEL_5aa6bb45d6b4470a94744729eec3b520",
       "style": "IPY_MODEL_fcab46fa0cab48aabd248205e7337a93",
       "value": "\n                <strong>AGAP002862 (CYP6AA1) amp</strong> <br/>\n                Taxon: coluzzii <br/>\n                Area: GM-M <br/>\n                Period: 2012 <br/>\n                Sample size: 11 <br/>\n                Frequency: 9%\n                (95% CI: 2% - 38%)\n            "
      }
     },
     "4c5d2f2f4df64ed994a153c3d0e70042": {
      "model_module": "@jupyter-widgets/base",
      "model_module_version": "1.2.0",
      "model_name": "LayoutModel",
      "state": {}
     },
     "4cfe8043eeac451eb4c63a0fa277e722": {
      "model_module": "jupyter-leaflet",
      "model_module_version": "^0.16.0",
      "model_name": "LeafletCircleMarkerModel",
      "state": {
       "_model_module_version": "^0.16.0",
       "_view_module_version": "^0.16.0",
       "color": "black",
       "fill_color": "red",
       "fill_opacity": 0.125,
       "location": [
        4.912,
        -1.774
       ],
       "options": [
        "color",
        "dash_array",
        "fill",
        "fill_color",
        "fill_opacity",
        "line_cap",
        "line_join",
        "opacity",
        "pointer_events",
        "radius",
        "stroke",
        "weight"
       ],
       "popup": "IPY_MODEL_87131bead02a4a858cf4db4b7aa1a913",
       "radius": 20,
       "weight": 1
      }
     },
     "4dcd5475500c4f2fba93a286448e537a": {
      "model_module": "@jupyter-widgets/controls",
      "model_module_version": "1.5.0",
      "model_name": "HTMLModel",
      "state": {
       "layout": "IPY_MODEL_9a39da5bde394912a0540069058b72e7",
       "style": "IPY_MODEL_ed460b0e071848d28ca1cd6effa26f8d",
       "value": " 11/11 [00:00&lt;00:00, 337.69it/s]"
      }
     },
     "4ef4f134f1a84ff79c5a3d5b464f2a9b": {
      "model_module": "@jupyter-widgets/base",
      "model_module_version": "1.2.0",
      "model_name": "LayoutModel",
      "state": {}
     },
     "4fb48deee71c4f48afa3fca976e98d4f": {
      "model_module": "@jupyter-widgets/base",
      "model_module_version": "1.2.0",
      "model_name": "LayoutModel",
      "state": {}
     },
     "52d0a5ac70804bcd92140b7aa29049be": {
      "model_module": "@jupyter-widgets/controls",
      "model_module_version": "1.5.0",
      "model_name": "DropdownModel",
      "state": {
       "_options_labels": [
        "AGAP002859 amp",
        "AGAP002862 (CYP6AA1) amp",
        "AGAP013128 (CYP6AA2) amp",
        "AGAP002863 (COEAE6O) amp",
        "AGAP002864 (CYP6P15P) amp",
        "AGAP002865 (CYP6P3) amp",
        "AGAP002865 (CYP6P3) del",
        "AGAP002866 (CYP6P5) amp",
        "AGAP002867 (CYP6P4) amp",
        "AGAP002868 (CYP6P1) amp",
        "AGAP002869 (CYP6P2) amp",
        "AGAP002870 (CYP6AD1) amp"
       ],
       "description": "Variant: ",
       "index": 1,
       "layout": "IPY_MODEL_7451a6652a344cd5867d46194d381a82",
       "style": "IPY_MODEL_de78f5323378440197df0c8d831e1bd2"
      }
     },
     "54514ba0408d438e83eff61359504eec": {
      "model_module": "@jupyter-widgets/base",
      "model_module_version": "1.2.0",
      "model_name": "LayoutModel",
      "state": {}
     },
     "5946cd73f19b4b79aeecb93173622656": {
      "model_module": "jupyter-leaflet",
      "model_module_version": "^0.16.0",
      "model_name": "LeafletCircleMarkerModel",
      "state": {
       "_model_module_version": "^0.16.0",
       "_view_module_version": "^0.16.0",
       "color": "black",
       "fill_color": "red",
       "fill_opacity": 0.6428571428571429,
       "location": [
        0.7700000000000001,
        34.026
       ],
       "options": [
        "color",
        "dash_array",
        "fill",
        "fill_color",
        "fill_opacity",
        "line_cap",
        "line_join",
        "opacity",
        "pointer_events",
        "radius",
        "stroke",
        "weight"
       ],
       "popup": "IPY_MODEL_f81c0672d766406fabc476e224eeea49",
       "radius": 20,
       "weight": 1
      }
     },
     "5990fede2a2b42068df65d5cdb3d24e0": {
      "model_module": "@jupyter-widgets/controls",
      "model_module_version": "1.5.0",
      "model_name": "DescriptionStyleModel",
      "state": {
       "description_width": ""
      }
     },
     "5a8728dcaf6b478ba0ba1e5a60895e3a": {
      "model_module": "@jupyter-widgets/controls",
      "model_module_version": "1.5.0",
      "model_name": "DescriptionStyleModel",
      "state": {
       "description_width": ""
      }
     },
     "5aa6bb45d6b4470a94744729eec3b520": {
      "model_module": "@jupyter-widgets/base",
      "model_module_version": "1.2.0",
      "model_name": "LayoutModel",
      "state": {}
     },
     "5b49d1598e414fe4976a1a77bac8fa67": {
      "model_module": "@jupyter-widgets/base",
      "model_module_version": "1.2.0",
      "model_name": "LayoutModel",
      "state": {}
     },
     "5b98ecb01213403182e097206b14bae9": {
      "model_module": "@jupyter-widgets/base",
      "model_module_version": "1.2.0",
      "model_name": "LayoutModel",
      "state": {}
     },
     "5c37e135a90349e89346e8f3d773238b": {
      "model_module": "@jupyter-widgets/base",
      "model_module_version": "1.2.0",
      "model_name": "LayoutModel",
      "state": {}
     },
     "5c90fb43f18d4bad87f1f42e9071df9b": {
      "model_module": "jupyter-leaflet",
      "model_module_version": "^0.16.0",
      "model_name": "LeafletTileLayerModel",
      "state": {
       "_model_module_version": "^0.16.0",
       "_view_module_version": "^0.16.0",
       "attribution": "&copy; <a href=\"https://www.openstreetmap.org/copyright\">OpenStreetMap</a> contributors",
       "base": true,
       "bounds": null,
       "max_native_zoom": 18,
       "max_zoom": 19,
       "min_native_zoom": 0,
       "min_zoom": 1,
       "name": "OpenStreetMap.Mapnik",
       "options": [
        "attribution",
        "bounds",
        "detect_retina",
        "max_native_zoom",
        "max_zoom",
        "min_native_zoom",
        "min_zoom",
        "no_wrap",
        "tile_size",
        "tms"
       ],
       "url": "https://a.tile.openstreetmap.org/{z}/{x}/{y}.png"
      }
     },
     "60842ef8c23a4d1a8554e2822ff932a3": {
      "model_module": "@jupyter-widgets/base",
      "model_module_version": "1.2.0",
      "model_name": "LayoutModel",
      "state": {}
     },
     "62229bd0812c499bb5e5c52a1335cbf3": {
      "model_module": "@jupyter-widgets/controls",
      "model_module_version": "1.5.0",
      "model_name": "DescriptionStyleModel",
      "state": {
       "description_width": ""
      }
     },
     "64f0f8f22c5346bdb3c32abb208ca64c": {
      "model_module": "@jupyter-widgets/controls",
      "model_module_version": "1.5.0",
      "model_name": "HTMLModel",
      "state": {
       "layout": "IPY_MODEL_ef809cc081b34fcda4b1f5c28add59fa",
       "style": "IPY_MODEL_244e8c6ffcc24eefa3e0454e6b27a126",
       "value": " 28/28 [00:08&lt;00:00,  3.56it/s]"
      }
     },
     "657160a462f64d11883e8157cd56d96e": {
      "model_module": "@jupyter-widgets/controls",
      "model_module_version": "1.5.0",
      "model_name": "HTMLModel",
      "state": {
       "layout": "IPY_MODEL_e16dabc117274caa9ca5ed8e76afde96",
       "style": "IPY_MODEL_3b8008653c734d23aec2d82b4fd609ad",
       "value": " 504/504 [00:10&lt;00:00, 51.13it/s]"
      }
     },
     "66ebf710f5ae4f03a8f57b5e60ca810c": {
      "model_module": "@jupyter-widgets/controls",
      "model_module_version": "1.5.0",
      "model_name": "DescriptionStyleModel",
      "state": {
       "description_width": ""
      }
     },
     "679c588a43d14fd0aa00c96c81e4db37": {
      "model_module": "@jupyter-widgets/base",
      "model_module_version": "1.2.0",
      "model_name": "LayoutModel",
      "state": {}
     },
     "679f097e1cdd42f583ca231efcb506f7": {
      "model_module": "@jupyter-widgets/controls",
      "model_module_version": "1.5.0",
      "model_name": "DescriptionStyleModel",
      "state": {
       "description_width": ""
      }
     },
     "6bb23d1e43ca4497b64775c29848f399": {
      "model_module": "jupyter-leaflet",
      "model_module_version": "^0.16.0",
      "model_name": "LeafletPopupModel",
      "state": {
       "_model_module_version": "^0.16.0",
       "_view_module_version": "^0.16.0",
       "auto_close": true,
       "auto_pan": true,
       "auto_pan_padding": [
        5,
        5
       ],
       "auto_pan_padding_bottom_right": null,
       "auto_pan_padding_top_left": null,
       "child": "IPY_MODEL_9a214b3203934321b9933afed449eee1",
       "close_button": true,
       "close_on_escape_key": true,
       "keep_in_view": false,
       "options": [
        "auto_close",
        "auto_pan",
        "auto_pan_padding",
        "auto_pan_padding_bottom_right",
        "auto_pan_padding_top_left",
        "close_button",
        "close_on_escape_key",
        "keep_in_view",
        "max_height",
        "max_width",
        "min_width"
       ]
      }
     },
     "6c2ad1fae7b7474bb7af8081cb633186": {
      "model_module": "@jupyter-widgets/controls",
      "model_module_version": "1.5.0",
      "model_name": "DropdownModel",
      "state": {
       "_options_labels": [
        "1994",
        "2000",
        "2002",
        "2004",
        "2005",
        "2009",
        "2010",
        "2011",
        "2012",
        "2013",
        "2014",
        "2015"
       ],
       "description": "Period: ",
       "index": 8,
       "layout": "IPY_MODEL_2a7a4a46954b401fa96586e7f3da9043",
       "style": "IPY_MODEL_9cbaaf160f0a40b09ae3e1bac03799a0"
      }
     },
     "6d6f60d260d54958a778aeafed5ef91c": {
      "model_module": "jupyter-leaflet",
      "model_module_version": "^0.16.0",
      "model_name": "LeafletCircleMarkerModel",
      "state": {
       "_model_module_version": "^0.16.0",
       "_view_module_version": "^0.16.0",
       "color": "black",
       "fill_color": "red",
       "fill_opacity": 0.8518518518518519,
       "location": [
        11.422592592592594,
        -8.291481481481481
       ],
       "options": [
        "color",
        "dash_array",
        "fill",
        "fill_color",
        "fill_opacity",
        "line_cap",
        "line_join",
        "opacity",
        "pointer_events",
        "radius",
        "stroke",
        "weight"
       ],
       "popup": "IPY_MODEL_30bb82937b764746ab9dd41bbef47567",
       "radius": 20,
       "weight": 1
      }
     },
     "6dcfe26546c84ccd884197e4a632536c": {
      "model_module": "@jupyter-widgets/controls",
      "model_module_version": "1.5.0",
      "model_name": "DescriptionStyleModel",
      "state": {
       "description_width": ""
      }
     },
     "6f24af0567084352bdb91fd447674fb7": {
      "model_module": "@jupyter-widgets/controls",
      "model_module_version": "1.5.0",
      "model_name": "HTMLModel",
      "state": {
       "layout": "IPY_MODEL_8839afe0ad8e4737a0a41c40c6a9e180",
       "style": "IPY_MODEL_a060b46c1f614be0af2ec93317ce70da",
       "value": " 28/28 [00:07&lt;00:00,  3.69it/s]"
      }
     },
     "6fcba81132b040ffa37709e1e48a893e": {
      "model_module": "@jupyter-widgets/controls",
      "model_module_version": "1.5.0",
      "model_name": "ProgressStyleModel",
      "state": {
       "description_width": ""
      }
     },
     "7027b22111e546b8886e4fcd694a0132": {
      "model_module": "@jupyter-widgets/base",
      "model_module_version": "1.2.0",
      "model_name": "LayoutModel",
      "state": {}
     },
     "709880e6c4e941208f66521c54e1fa8e": {
      "model_module": "jupyter-leaflet",
      "model_module_version": "^0.16.0",
      "model_name": "LeafletCircleMarkerModel",
      "state": {
       "_model_module_version": "^0.16.0",
       "_view_module_version": "^0.16.0",
       "color": "black",
       "fill_color": "red",
       "fill_opacity": 0,
       "location": [
        5.668,
        -0.219
       ],
       "options": [
        "color",
        "dash_array",
        "fill",
        "fill_color",
        "fill_opacity",
        "line_cap",
        "line_join",
        "opacity",
        "pointer_events",
        "radius",
        "stroke",
        "weight"
       ],
       "popup": "IPY_MODEL_3b68839193fe4702be49f88c54666bdf",
       "radius": 20,
       "weight": 1
      }
     },
     "7271424d8bdf4cc29cf7cd1fc17048e4": {
      "model_module": "@jupyter-widgets/controls",
      "model_module_version": "1.5.0",
      "model_name": "FloatProgressModel",
      "state": {
       "bar_style": "success",
       "layout": "IPY_MODEL_902a63435f1e437a8bb97093a6d2d813",
       "max": 28,
       "style": "IPY_MODEL_a0814080d261448ca15944497e45420b",
       "value": 28
      }
     },
     "729d4df2574c4b3081a219aca9488496": {
      "model_module": "@jupyter-widgets/controls",
      "model_module_version": "1.5.0",
      "model_name": "HBoxModel",
      "state": {
       "children": [
        "IPY_MODEL_a05a9fac5aec4ab2a2b988fe41b110a4",
        "IPY_MODEL_dd6f4574a62c464dae1cd8f77dc1b872",
        "IPY_MODEL_657160a462f64d11883e8157cd56d96e"
       ],
       "layout": "IPY_MODEL_1ef42c56742e47339a781629d85de8c6"
      }
     },
     "72b0b4876d8742d882751f98455b7a2d": {
      "model_module": "@jupyter-widgets/base",
      "model_module_version": "1.2.0",
      "model_name": "LayoutModel",
      "state": {}
     },
     "732a7eba9da349258f0e0fe900c22034": {
      "model_module": "@jupyter-widgets/controls",
      "model_module_version": "1.5.0",
      "model_name": "HTMLModel",
      "state": {
       "layout": "IPY_MODEL_f133349f178d4c0c8123b9adc20e5bfa",
       "style": "IPY_MODEL_13cdf087b67b491296a47c9bc74469bf",
       "value": "\n                <strong>AGAP002862 (CYP6AA1) amp</strong> <br/>\n                Taxon: coluzzii <br/>\n                Area: GN-N <br/>\n                Period: 2012 <br/>\n                Sample size: 10 <br/>\n                Frequency: 80%\n                (95% CI: 49% - 94%)\n            "
      }
     },
     "7451a6652a344cd5867d46194d381a82": {
      "model_module": "@jupyter-widgets/base",
      "model_module_version": "1.2.0",
      "model_name": "LayoutModel",
      "state": {}
     },
     "74abb7d472444326a58f20c80967cfcc": {
      "model_module": "@jupyter-widgets/controls",
      "model_module_version": "1.5.0",
      "model_name": "HTMLModel",
      "state": {
       "layout": "IPY_MODEL_f3f1106bc75f4a14a5b3bb3626c7ae9d",
       "style": "IPY_MODEL_afd263654ce244c5a8b4c098f0e5d780",
       "value": "\n                <strong>AGAP002862 (CYP6AA1) amp</strong> <br/>\n                Taxon: coluzzii <br/>\n                Area: ML-3 <br/>\n                Period: 2012 <br/>\n                Sample size: 27 <br/>\n                Frequency: 85%\n                (95% CI: 68% - 94%)\n            "
      }
     },
     "764854de73c8473d9e2590929e8d3ea2": {
      "model_module": "@jupyter-widgets/controls",
      "model_module_version": "1.5.0",
      "model_name": "HTMLModel",
      "state": {
       "layout": "IPY_MODEL_c12e63b1409e4a199afe669e07fcb37e",
       "style": "IPY_MODEL_3021e5a547fc49ef8ef955640cfab154",
       "value": "<h3>Gene CNV frequencies, Cyp6aa/p locus</h3>"
      }
     },
     "7757eda43e7c407e835356dd013fc27d": {
      "model_module": "jupyter-leaflet",
      "model_module_version": "^0.16.0",
      "model_name": "LeafletPopupModel",
      "state": {
       "_model_module_version": "^0.16.0",
       "_view_module_version": "^0.16.0",
       "auto_close": true,
       "auto_pan": true,
       "auto_pan_padding": [
        5,
        5
       ],
       "auto_pan_padding_bottom_right": null,
       "auto_pan_padding_top_left": null,
       "child": "IPY_MODEL_a50e03eac0844ac1ad4eb81fd5ea890a",
       "close_button": true,
       "close_on_escape_key": true,
       "keep_in_view": false,
       "options": [
        "auto_close",
        "auto_pan",
        "auto_pan_padding",
        "auto_pan_padding_bottom_right",
        "auto_pan_padding_top_left",
        "close_button",
        "close_on_escape_key",
        "keep_in_view",
        "max_height",
        "max_width",
        "min_width"
       ]
      }
     },
     "77a4ab20e684413ea7eb607abd4328a7": {
      "model_module": "@jupyter-widgets/controls",
      "model_module_version": "1.5.0",
      "model_name": "DescriptionStyleModel",
      "state": {
       "description_width": ""
      }
     },
     "785c5252d8fc4e1cb069b85124b7a51b": {
      "model_module": "@jupyter-widgets/controls",
      "model_module_version": "1.5.0",
      "model_name": "HTMLModel",
      "state": {
       "layout": "IPY_MODEL_afdc39c1eca24da9a78dca8ed63b8333",
       "style": "IPY_MODEL_37781b1fd942407ebb92556f27c982af",
       "value": "\n                <strong>AGAP002862 (CYP6AA1) amp</strong> <br/>\n                Taxon: coluzzii <br/>\n                Area: ML-3 <br/>\n                Period: 2012 <br/>\n                Sample size: 27 <br/>\n                Frequency: 85%\n                (95% CI: 68% - 94%)\n            "
      }
     },
     "78c577f9e47e4c18aa72d117d4cf4d6b": {
      "model_module": "@jupyter-widgets/controls",
      "model_module_version": "1.5.0",
      "model_name": "HTMLModel",
      "state": {
       "layout": "IPY_MODEL_ea03bc69cee5407eaf8ce582eecec4a1",
       "style": "IPY_MODEL_19150f84694c4251ba70303758909ab8",
       "value": " 504/504 [00:05&lt;00:00, 103.42it/s]"
      }
     },
     "791c269179994f06a34701488ece8948": {
      "model_module": "@jupyter-widgets/controls",
      "model_module_version": "1.5.0",
      "model_name": "DescriptionStyleModel",
      "state": {
       "description_width": ""
      }
     },
     "7936f57cde48424d946bc2b20ad7be6f": {
      "model_module": "@jupyter-widgets/base",
      "model_module_version": "1.2.0",
      "model_name": "LayoutModel",
      "state": {}
     },
     "7968baed9f134c9eabc50fd714d7c4d3": {
      "model_module": "@jupyter-widgets/controls",
      "model_module_version": "1.5.0",
      "model_name": "HTMLModel",
      "state": {
       "layout": "IPY_MODEL_0f5afbc3d1f847cd82a1c6da1abcbd80",
       "style": "IPY_MODEL_8f8277750ed6413bb2bad79d967981f0",
       "value": "\n                <strong>AGAP002862 (CYP6AA1) amp</strong> <br/>\n                Taxon: gambiae <br/>\n                Area: GH-AA <br/>\n                Period: 2012 <br/>\n                Sample size: 13 <br/>\n                Frequency: 0%\n                (95% CI: 0% - 23%)\n            "
      }
     },
     "7979af93138848bf85f2aacf0bbe71b2": {
      "model_module": "@jupyter-widgets/controls",
      "model_module_version": "1.5.0",
      "model_name": "HTMLModel",
      "state": {
       "layout": "IPY_MODEL_7d2728769e824b3b819d65e8ea7b09ff",
       "style": "IPY_MODEL_f9b2314a5591444a979b6b709c681991",
       "value": "\n                <strong>AGAP002862 (CYP6AA1) amp</strong> <br/>\n                Taxon: coluzzii <br/>\n                Area: GH-AA <br/>\n                Period: 2012 <br/>\n                Sample size: 14 <br/>\n                Frequency: 0%\n                (95% CI: 0% - 22%)\n            "
      }
     },
     "7a9505bd8af24732a6ad1be06d1933a7": {
      "model_module": "jupyter-leaflet",
      "model_module_version": "^0.16.0",
      "model_name": "LeafletPopupModel",
      "state": {
       "_model_module_version": "^0.16.0",
       "_view_module_version": "^0.16.0",
       "auto_close": true,
       "auto_pan": true,
       "auto_pan_padding": [
        5,
        5
       ],
       "auto_pan_padding_bottom_right": null,
       "auto_pan_padding_top_left": null,
       "child": "IPY_MODEL_a8a32acc66824586b5b1d608fc76f7b3",
       "close_button": true,
       "close_on_escape_key": true,
       "keep_in_view": false,
       "options": [
        "auto_close",
        "auto_pan",
        "auto_pan_padding",
        "auto_pan_padding_bottom_right",
        "auto_pan_padding_top_left",
        "close_button",
        "close_on_escape_key",
        "keep_in_view",
        "max_height",
        "max_width",
        "min_width"
       ]
      }
     },
     "7b5cf4f688f34dc89a8463265693910f": {
      "model_module": "@jupyter-widgets/controls",
      "model_module_version": "1.5.0",
      "model_name": "HTMLModel",
      "state": {
       "layout": "IPY_MODEL_5b49d1598e414fe4976a1a77bac8fa67",
       "style": "IPY_MODEL_dfe09a7bd2384bf1bf4373074338af2b",
       "value": "Compute modal gene copy number: 100%"
      }
     },
     "7d2728769e824b3b819d65e8ea7b09ff": {
      "model_module": "@jupyter-widgets/base",
      "model_module_version": "1.2.0",
      "model_name": "LayoutModel",
      "state": {}
     },
     "7d78a08fa5dc44a1b2e99c52e623efe3": {
      "model_module": "jupyter-leaflet",
      "model_module_version": "^0.16.0",
      "model_name": "LeafletCircleMarkerModel",
      "state": {
       "_model_module_version": "^0.16.0",
       "_view_module_version": "^0.16.0",
       "color": "black",
       "fill_color": "red",
       "fill_opacity": 0.8518518518518519,
       "location": [
        11.422592592592594,
        -8.291481481481481
       ],
       "options": [
        "color",
        "dash_array",
        "fill",
        "fill_color",
        "fill_opacity",
        "line_cap",
        "line_join",
        "opacity",
        "pointer_events",
        "radius",
        "stroke",
        "weight"
       ],
       "popup": "IPY_MODEL_a82adbe026cc443a9de1493bbbd1e255",
       "radius": 20,
       "weight": 1
      }
     },
     "7e449ad1d35c4106a91c2d725dd106f7": {
      "model_module": "jupyter-leaflet",
      "model_module_version": "^0.16.0",
      "model_name": "LeafletMapStyleModel",
      "state": {
       "_model_module_version": "^0.16.0"
      }
     },
     "7ea49c23739e4d5ea300c06b44e5ef5c": {
      "model_module": "@jupyter-widgets/base",
      "model_module_version": "1.2.0",
      "model_name": "LayoutModel",
      "state": {}
     },
     "7ff82ebfb1d74e58ad440ddc696dc1ed": {
      "model_module": "jupyter-leaflet",
      "model_module_version": "^0.16.0",
      "model_name": "LeafletCircleMarkerModel",
      "state": {
       "_model_module_version": "^0.16.0",
       "_view_module_version": "^0.16.0",
       "color": "black",
       "fill_color": "red",
       "fill_opacity": 0.2978723404255319,
       "location": [
        -0.7509999999999999,
        29.701000000000004
       ],
       "options": [
        "color",
        "dash_array",
        "fill",
        "fill_color",
        "fill_opacity",
        "line_cap",
        "line_join",
        "opacity",
        "pointer_events",
        "radius",
        "stroke",
        "weight"
       ],
       "popup": "IPY_MODEL_dba50d45800d4cadb1fa61f84ec9e797",
       "radius": 20,
       "weight": 1
      }
     },
     "82725b07f2ee46eaa38a44264b8392b9": {
      "model_module": "@jupyter-widgets/base",
      "model_module_version": "1.2.0",
      "model_name": "LayoutModel",
      "state": {}
     },
     "8277dc28c7a44349b452d24b14640bcc": {
      "model_module": "jupyter-leaflet",
      "model_module_version": "^0.16.0",
      "model_name": "LeafletZoomControlModel",
      "state": {
       "_model_module_version": "^0.16.0",
       "_view_module_version": "^0.16.0",
       "options": [
        "position",
        "zoom_in_text",
        "zoom_in_title",
        "zoom_out_text",
        "zoom_out_title"
       ]
      }
     },
     "836678cdd592423fb40c9e4a57ef378e": {
      "model_module": "@jupyter-widgets/controls",
      "model_module_version": "1.5.0",
      "model_name": "ProgressStyleModel",
      "state": {
       "description_width": ""
      }
     },
     "83e6fc2a3c5445ee8ddd35ede6c4a2f1": {
      "model_module": "@jupyter-widgets/base",
      "model_module_version": "1.2.0",
      "model_name": "LayoutModel",
      "state": {}
     },
     "84b0cb5c652b4ee9b47b9b913779fea8": {
      "model_module": "jupyter-leaflet",
      "model_module_version": "^0.16.0",
      "model_name": "LeafletPopupModel",
      "state": {
       "_model_module_version": "^0.16.0",
       "_view_module_version": "^0.16.0",
       "auto_close": true,
       "auto_pan": true,
       "auto_pan_padding": [
        5,
        5
       ],
       "auto_pan_padding_bottom_right": null,
       "auto_pan_padding_top_left": null,
       "child": "IPY_MODEL_2356125253544bcc8f33fa7a6cee2263",
       "close_button": true,
       "close_on_escape_key": true,
       "keep_in_view": false,
       "options": [
        "auto_close",
        "auto_pan",
        "auto_pan_padding",
        "auto_pan_padding_bottom_right",
        "auto_pan_padding_top_left",
        "close_button",
        "close_on_escape_key",
        "keep_in_view",
        "max_height",
        "max_width",
        "min_width"
       ]
      }
     },
     "851a8bd3912045d1b82f9349b83cb151": {
      "model_module": "@jupyter-widgets/controls",
      "model_module_version": "1.5.0",
      "model_name": "DescriptionStyleModel",
      "state": {
       "description_width": ""
      }
     },
     "87131bead02a4a858cf4db4b7aa1a913": {
      "model_module": "jupyter-leaflet",
      "model_module_version": "^0.16.0",
      "model_name": "LeafletPopupModel",
      "state": {
       "_model_module_version": "^0.16.0",
       "_view_module_version": "^0.16.0",
       "auto_close": true,
       "auto_pan": true,
       "auto_pan_padding": [
        5,
        5
       ],
       "auto_pan_padding_bottom_right": null,
       "auto_pan_padding_top_left": null,
       "child": "IPY_MODEL_923f9a1734134c1d804e8559dc8ad333",
       "close_button": true,
       "close_on_escape_key": true,
       "keep_in_view": false,
       "options": [
        "auto_close",
        "auto_pan",
        "auto_pan_padding",
        "auto_pan_padding_bottom_right",
        "auto_pan_padding_top_left",
        "close_button",
        "close_on_escape_key",
        "keep_in_view",
        "max_height",
        "max_width",
        "min_width"
       ]
      }
     },
     "8839afe0ad8e4737a0a41c40c6a9e180": {
      "model_module": "@jupyter-widgets/base",
      "model_module_version": "1.2.0",
      "model_name": "LayoutModel",
      "state": {}
     },
     "891b5c5cc3b74e218f7c7d8e57eaf9b4": {
      "model_module": "jupyter-leaflet",
      "model_module_version": "^0.16.0",
      "model_name": "LeafletCircleMarkerModel",
      "state": {
       "_model_module_version": "^0.16.0",
       "_view_module_version": "^0.16.0",
       "color": "black",
       "fill_color": "red",
       "fill_opacity": 0.125,
       "location": [
        4.912,
        -1.774
       ],
       "options": [
        "color",
        "dash_array",
        "fill",
        "fill_color",
        "fill_opacity",
        "line_cap",
        "line_join",
        "opacity",
        "pointer_events",
        "radius",
        "stroke",
        "weight"
       ],
       "popup": "IPY_MODEL_3ce4342bf64a47889ee5cd3c012a6e7f",
       "radius": 20,
       "weight": 1
      }
     },
     "8a660fe4f9eb43ba85849b4700724ea4": {
      "model_module": "@jupyter-widgets/controls",
      "model_module_version": "1.5.0",
      "model_name": "DescriptionStyleModel",
      "state": {
       "description_width": ""
      }
     },
     "8a89f0936bc74039896e858441adf390": {
      "model_module": "@jupyter-widgets/base",
      "model_module_version": "1.2.0",
      "model_name": "LayoutModel",
      "state": {}
     },
     "8c3fceaef5d043fe81ffb15f5d5c2d16": {
      "model_module": "@jupyter-widgets/base",
      "model_module_version": "1.2.0",
      "model_name": "LayoutModel",
      "state": {}
     },
     "8d1a1e86651648b189e7f4972d6bcdeb": {
      "model_module": "@jupyter-widgets/base",
      "model_module_version": "1.2.0",
      "model_name": "LayoutModel",
      "state": {}
     },
     "8f8277750ed6413bb2bad79d967981f0": {
      "model_module": "@jupyter-widgets/controls",
      "model_module_version": "1.5.0",
      "model_name": "DescriptionStyleModel",
      "state": {
       "description_width": ""
      }
     },
     "8fe6785f61184b118dc5d0d8a883060c": {
      "model_module": "@jupyter-widgets/controls",
      "model_module_version": "1.5.0",
      "model_name": "DescriptionStyleModel",
      "state": {
       "description_width": ""
      }
     },
     "8ff9ecb59f5e47979ce26e8877020aa8": {
      "model_module": "@jupyter-widgets/base",
      "model_module_version": "1.2.0",
      "model_name": "LayoutModel",
      "state": {}
     },
     "901b1bab6d1749b9a3f32e9f7284ec02": {
      "model_module": "jupyter-leaflet",
      "model_module_version": "^0.16.0",
      "model_name": "LeafletCircleMarkerModel",
      "state": {
       "_model_module_version": "^0.16.0",
       "_view_module_version": "^0.16.0",
       "color": "black",
       "fill_color": "red",
       "fill_opacity": 0.041237113402061855,
       "location": [
        11.194711340206185,
        -4.288752577319587
       ],
       "options": [
        "color",
        "dash_array",
        "fill",
        "fill_color",
        "fill_opacity",
        "line_cap",
        "line_join",
        "opacity",
        "pointer_events",
        "radius",
        "stroke",
        "weight"
       ],
       "popup": "IPY_MODEL_48093edb47354b29afb5f155f6d92006",
       "radius": 20,
       "weight": 1
      }
     },
     "902a63435f1e437a8bb97093a6d2d813": {
      "model_module": "@jupyter-widgets/base",
      "model_module_version": "1.2.0",
      "model_name": "LayoutModel",
      "state": {}
     },
     "923f9a1734134c1d804e8559dc8ad333": {
      "model_module": "@jupyter-widgets/controls",
      "model_module_version": "1.5.0",
      "model_name": "HTMLModel",
      "state": {
       "layout": "IPY_MODEL_fada169eba064c33b499c8b7171a1499",
       "style": "IPY_MODEL_3f4433e7befd4c2d8e93b96c76cfd641",
       "value": "\n                <strong>AGAP002862 (CYP6AA1) amp</strong> <br/>\n                Taxon: coluzzii <br/>\n                Area: GH-WP <br/>\n                Period: 2012 <br/>\n                Sample size: 24 <br/>\n                Frequency: 12%\n                (95% CI: 4% - 31%)\n            "
      }
     },
     "9579437dfd114b68b027999ed955a9ab": {
      "model_module": "@jupyter-widgets/base",
      "model_module_version": "1.2.0",
      "model_name": "LayoutModel",
      "state": {}
     },
     "97ef3e06501e4a5cb07627c5e5e464d4": {
      "model_module": "@jupyter-widgets/controls",
      "model_module_version": "1.5.0",
      "model_name": "HTMLModel",
      "state": {
       "layout": "IPY_MODEL_f1dbde9c29d04450b6e14b150c9ece15",
       "style": "IPY_MODEL_5a8728dcaf6b478ba0ba1e5a60895e3a",
       "value": "Load sample metadata: 100%"
      }
     },
     "98ecae88768c4a61b437fcdea6d6bfff": {
      "model_module": "jupyter-leaflet",
      "model_module_version": "^0.16.0",
      "model_name": "LeafletCircleMarkerModel",
      "state": {
       "_model_module_version": "^0.16.0",
       "_view_module_version": "^0.16.0",
       "color": "black",
       "fill_color": "red",
       "fill_opacity": 0.8701298701298701,
       "location": [
        5.898,
        -4.823
       ],
       "options": [
        "color",
        "dash_array",
        "fill",
        "fill_color",
        "fill_opacity",
        "line_cap",
        "line_join",
        "opacity",
        "pointer_events",
        "radius",
        "stroke",
        "weight"
       ],
       "popup": "IPY_MODEL_7757eda43e7c407e835356dd013fc27d",
       "radius": 20,
       "weight": 1
      }
     },
     "99d0af0659b94611bef946bf969764d7": {
      "model_module": "@jupyter-widgets/base",
      "model_module_version": "1.2.0",
      "model_name": "LayoutModel",
      "state": {}
     },
     "9a214b3203934321b9933afed449eee1": {
      "model_module": "@jupyter-widgets/controls",
      "model_module_version": "1.5.0",
      "model_name": "HTMLModel",
      "state": {
       "layout": "IPY_MODEL_22c222386fe34c83ba007a0bd0353430",
       "style": "IPY_MODEL_0f91f4cf69b44b8187f604cce295a5e9",
       "value": "\n                <strong>AGAP002862 (CYP6AA1) amp</strong> <br/>\n                Taxon: coluzzii <br/>\n                Area: BF-09 <br/>\n                Period: 2012 <br/>\n                Sample size: 80 <br/>\n                Frequency: 91%\n                (95% CI: 83% - 96%)\n            "
      }
     },
     "9a39da5bde394912a0540069058b72e7": {
      "model_module": "@jupyter-widgets/base",
      "model_module_version": "1.2.0",
      "model_name": "LayoutModel",
      "state": {}
     },
     "9ac74dd303434c3a88668a0e458a5ee4": {
      "model_module": "@jupyter-widgets/controls",
      "model_module_version": "1.5.0",
      "model_name": "HBoxModel",
      "state": {
       "children": [
        "IPY_MODEL_a4d0f4cfe23b499d818d856fe5ec8d0a",
        "IPY_MODEL_1b79d57ba0d842cf838c9a29191213d5",
        "IPY_MODEL_f2b710ac6c4741dc9ded46dd263c6d4a"
       ],
       "layout": "IPY_MODEL_4a48f821b5d34a9487444f681be8256a"
      }
     },
     "9b338cf322df4b0ca5f604768870ef77": {
      "model_module": "@jupyter-widgets/controls",
      "model_module_version": "1.5.0",
      "model_name": "VBoxModel",
      "state": {
       "children": [
        "IPY_MODEL_764854de73c8473d9e2590929e8d3ea2",
        "IPY_MODEL_ae7293fe1105453cbd59492fda204928",
        "IPY_MODEL_193f61ec2c494fa4a524d7166648135e",
        "IPY_MODEL_e5c1cb400ad5473e8ea57ce0130b7936"
       ],
       "layout": "IPY_MODEL_d6c877cfa99b4f35af04375678e50845"
      }
     },
     "9b6139486d654d689fdd75e53463adfc": {
      "model_module": "@jupyter-widgets/controls",
      "model_module_version": "1.5.0",
      "model_name": "DescriptionStyleModel",
      "state": {
       "description_width": ""
      }
     },
     "9cbaaf160f0a40b09ae3e1bac03799a0": {
      "model_module": "@jupyter-widgets/controls",
      "model_module_version": "1.5.0",
      "model_name": "DescriptionStyleModel",
      "state": {
       "description_width": ""
      }
     },
     "9d8bbc85fdfa4439bbdcda81e46418e8": {
      "model_module": "@jupyter-widgets/controls",
      "model_module_version": "1.5.0",
      "model_name": "HTMLModel",
      "state": {
       "layout": "IPY_MODEL_99d0af0659b94611bef946bf969764d7",
       "style": "IPY_MODEL_f5f7898554cd444daba1a9fcad7614c9",
       "value": "Load sample metadata: 100%"
      }
     },
     "9f9bd09e28e84c4a892fb113680a3ba7": {
      "model_module": "@jupyter-widgets/controls",
      "model_module_version": "1.5.0",
      "model_name": "DescriptionStyleModel",
      "state": {
       "description_width": ""
      }
     },
     "9fb770b16bd2436aa51675ce8c3f5d2f": {
      "model_module": "@jupyter-widgets/base",
      "model_module_version": "1.2.0",
      "model_name": "LayoutModel",
      "state": {}
     },
     "a05a9fac5aec4ab2a2b988fe41b110a4": {
      "model_module": "@jupyter-widgets/controls",
      "model_module_version": "1.5.0",
      "model_name": "HTMLModel",
      "state": {
       "layout": "IPY_MODEL_07ce06e4ce59461f8f165eec301824a6",
       "style": "IPY_MODEL_b5c2f3a5ccef4cc29e212546f23be6fd",
       "value": "Load CNV HMM data: 100%"
      }
     },
     "a060b46c1f614be0af2ec93317ce70da": {
      "model_module": "@jupyter-widgets/controls",
      "model_module_version": "1.5.0",
      "model_name": "DescriptionStyleModel",
      "state": {
       "description_width": ""
      }
     },
     "a0814080d261448ca15944497e45420b": {
      "model_module": "@jupyter-widgets/controls",
      "model_module_version": "1.5.0",
      "model_name": "ProgressStyleModel",
      "state": {
       "description_width": ""
      }
     },
     "a236abb0531a4bb7b11df8093bb80bfe": {
      "model_module": "@jupyter-widgets/base",
      "model_module_version": "1.2.0",
      "model_name": "LayoutModel",
      "state": {}
     },
     "a2f3d4a819d74ff08f281bb9870c9756": {
      "model_module": "@jupyter-widgets/controls",
      "model_module_version": "1.5.0",
      "model_name": "HTMLModel",
      "state": {
       "layout": "IPY_MODEL_60842ef8c23a4d1a8554e2822ff932a3",
       "style": "IPY_MODEL_42489b34700549dfbd597e8741b9d2d3",
       "value": "\n                <strong>AGAP002862 (CYP6AA1) amp</strong> <br/>\n                Taxon: coluzzii <br/>\n                Area: BF-09 <br/>\n                Period: 2012 <br/>\n                Sample size: 80 <br/>\n                Frequency: 91%\n                (95% CI: 83% - 96%)\n            "
      }
     },
     "a41e4d8b172247bbb642e01bf6c99cd9": {
      "model_module": "@jupyter-widgets/controls",
      "model_module_version": "1.5.0",
      "model_name": "DescriptionStyleModel",
      "state": {
       "description_width": ""
      }
     },
     "a47ca8c9eeea499696ec13e0acfd6ad7": {
      "model_module": "jupyter-leaflet",
      "model_module_version": "^0.16.0",
      "model_name": "LeafletCircleMarkerModel",
      "state": {
       "_model_module_version": "^0.16.0",
       "_view_module_version": "^0.16.0",
       "color": "black",
       "fill_color": "red",
       "fill_opacity": 0.9125,
       "location": [
        11.2235375,
        -4.3535
       ],
       "options": [
        "color",
        "dash_array",
        "fill",
        "fill_color",
        "fill_opacity",
        "line_cap",
        "line_join",
        "opacity",
        "pointer_events",
        "radius",
        "stroke",
        "weight"
       ],
       "popup": "IPY_MODEL_6bb23d1e43ca4497b64775c29848f399",
       "radius": 20,
       "weight": 1
      }
     },
     "a4d0f4cfe23b499d818d856fe5ec8d0a": {
      "model_module": "@jupyter-widgets/controls",
      "model_module_version": "1.5.0",
      "model_name": "HTMLModel",
      "state": {
       "layout": "IPY_MODEL_8ff9ecb59f5e47979ce26e8877020aa8",
       "style": "IPY_MODEL_66ebf710f5ae4f03a8f57b5e60ca810c",
       "value": "Load CNV HMM data: 100%"
      }
     },
     "a4d630d91d924718baae7aef67dd78f6": {
      "model_module": "@jupyter-widgets/controls",
      "model_module_version": "1.5.0",
      "model_name": "DropdownModel",
      "state": {
       "_options_labels": [
        "1994",
        "2000",
        "2002",
        "2004",
        "2005",
        "2009",
        "2010",
        "2011",
        "2012",
        "2013",
        "2014",
        "2015"
       ],
       "description": "Period: ",
       "index": 8,
       "layout": "IPY_MODEL_4276d74530ad4ef6ba27030262ee1f93",
       "style": "IPY_MODEL_b636950847234a6783c75aab9f70a5ec"
      }
     },
     "a50e03eac0844ac1ad4eb81fd5ea890a": {
      "model_module": "@jupyter-widgets/controls",
      "model_module_version": "1.5.0",
      "model_name": "HTMLModel",
      "state": {
       "layout": "IPY_MODEL_d2cf0e16574c4788a270aad898f0e84e",
       "style": "IPY_MODEL_5990fede2a2b42068df65d5cdb3d24e0",
       "value": "\n                <strong>AGAP002862 (CYP6AA1) amp</strong> <br/>\n                Taxon: coluzzii <br/>\n                Area: CI-LG <br/>\n                Period: 2012 <br/>\n                Sample size: 77 <br/>\n                Frequency: 87%\n                (95% CI: 78% - 93%)\n            "
      }
     },
     "a6a1e0c5dd404ff89c3114c077e17907": {
      "model_module": "@jupyter-widgets/controls",
      "model_module_version": "1.5.0",
      "model_name": "DescriptionStyleModel",
      "state": {
       "description_width": ""
      }
     },
     "a751db56ef1a4c76aa35afbef3879501": {
      "model_module": "@jupyter-widgets/base",
      "model_module_version": "1.2.0",
      "model_name": "LayoutModel",
      "state": {}
     },
     "a7f7597003c14900bd222f7fb5ecd7cc": {
      "model_module": "@jupyter-widgets/controls",
      "model_module_version": "1.5.0",
      "model_name": "DropdownModel",
      "state": {
       "_options_labels": [
        "AGAP002859 amp",
        "AGAP002862 (CYP6AA1) amp",
        "AGAP013128 (CYP6AA2) amp",
        "AGAP002863 (COEAE6O) amp",
        "AGAP002864 (CYP6P15P) amp",
        "AGAP002865 (CYP6P3) amp",
        "AGAP002865 (CYP6P3) del",
        "AGAP002866 (CYP6P5) amp",
        "AGAP002867 (CYP6P4) amp",
        "AGAP002868 (CYP6P1) amp",
        "AGAP002869 (CYP6P2) amp",
        "AGAP002870 (CYP6AD1) amp"
       ],
       "description": "Variant: ",
       "index": 1,
       "layout": "IPY_MODEL_9579437dfd114b68b027999ed955a9ab",
       "style": "IPY_MODEL_8fe6785f61184b118dc5d0d8a883060c"
      }
     },
     "a82adbe026cc443a9de1493bbbd1e255": {
      "model_module": "jupyter-leaflet",
      "model_module_version": "^0.16.0",
      "model_name": "LeafletPopupModel",
      "state": {
       "_model_module_version": "^0.16.0",
       "_view_module_version": "^0.16.0",
       "auto_close": true,
       "auto_pan": true,
       "auto_pan_padding": [
        5,
        5
       ],
       "auto_pan_padding_bottom_right": null,
       "auto_pan_padding_top_left": null,
       "child": "IPY_MODEL_785c5252d8fc4e1cb069b85124b7a51b",
       "close_button": true,
       "close_on_escape_key": true,
       "keep_in_view": false,
       "options": [
        "auto_close",
        "auto_pan",
        "auto_pan_padding",
        "auto_pan_padding_bottom_right",
        "auto_pan_padding_top_left",
        "close_button",
        "close_on_escape_key",
        "keep_in_view",
        "max_height",
        "max_width",
        "min_width"
       ]
      }
     },
     "a8a32acc66824586b5b1d608fc76f7b3": {
      "model_module": "@jupyter-widgets/controls",
      "model_module_version": "1.5.0",
      "model_name": "HTMLModel",
      "state": {
       "layout": "IPY_MODEL_5b98ecb01213403182e097206b14bae9",
       "style": "IPY_MODEL_6dcfe26546c84ccd884197e4a632536c",
       "value": "\n                <strong>AGAP002862 (CYP6AA1) amp</strong> <br/>\n                Taxon: coluzzii <br/>\n                Area: GH-CP <br/>\n                Period: 2012 <br/>\n                Sample size: 25 <br/>\n                Frequency: 16%\n                (95% CI: 6% - 35%)\n            "
      }
     },
     "aa3943e0fe4a40849d368e1da12846ef": {
      "model_module": "@jupyter-widgets/base",
      "model_module_version": "1.2.0",
      "model_name": "LayoutModel",
      "state": {}
     },
     "aad6f4ebab19463ba476112b33265388": {
      "model_module": "@jupyter-widgets/output",
      "model_module_version": "1.0.0",
      "model_name": "OutputModel",
      "state": {
       "layout": "IPY_MODEL_3f6a65823164436987fab2f988926921"
      }
     },
     "ab3c013dc55e4c7bb5b246ed8bfc8831": {
      "model_module": "@jupyter-widgets/controls",
      "model_module_version": "1.5.0",
      "model_name": "ProgressStyleModel",
      "state": {
       "description_width": ""
      }
     },
     "ae38843a3567420bb3af35d888eb6b0b": {
      "model_module": "jupyter-leaflet",
      "model_module_version": "^0.16.0",
      "model_name": "LeafletCircleMarkerModel",
      "state": {
       "_model_module_version": "^0.16.0",
       "_view_module_version": "^0.16.0",
       "color": "black",
       "fill_color": "red",
       "fill_opacity": 0.16,
       "location": [
        5.609,
        -1.5490000000000002
       ],
       "options": [
        "color",
        "dash_array",
        "fill",
        "fill_color",
        "fill_opacity",
        "line_cap",
        "line_join",
        "opacity",
        "pointer_events",
        "radius",
        "stroke",
        "weight"
       ],
       "popup": "IPY_MODEL_84b0cb5c652b4ee9b47b9b913779fea8",
       "radius": 20,
       "weight": 1
      }
     },
     "ae7293fe1105453cbd59492fda204928": {
      "model_module": "@jupyter-widgets/controls",
      "model_module_version": "1.5.0",
      "model_name": "VBoxModel",
      "state": {
       "_dom_classes": [
        "widget-interact"
       ],
       "children": [
        "IPY_MODEL_a7f7597003c14900bd222f7fb5ecd7cc",
        "IPY_MODEL_f632d0dc4eda41079e062bd85c6e7791",
        "IPY_MODEL_a4d630d91d924718baae7aef67dd78f6",
        "IPY_MODEL_aad6f4ebab19463ba476112b33265388"
       ],
       "layout": "IPY_MODEL_8d1a1e86651648b189e7f4972d6bcdeb"
      }
     },
     "aeb79edcaf2b437f804b94e86c1be547": {
      "model_module": "@jupyter-widgets/controls",
      "model_module_version": "1.5.0",
      "model_name": "DescriptionStyleModel",
      "state": {
       "description_width": ""
      }
     },
     "aefaf62ba9ef47c58308ed986a1d0d71": {
      "model_module": "@jupyter-widgets/controls",
      "model_module_version": "1.5.0",
      "model_name": "HTMLModel",
      "state": {
       "layout": "IPY_MODEL_aa3943e0fe4a40849d368e1da12846ef",
       "style": "IPY_MODEL_d71705e072a34d3f9f06b1f9eccfd6b6",
       "value": "\n                <strong>AGAP002862 (CYP6AA1) amp</strong> <br/>\n                Taxon: coluzzii <br/>\n                Area: GH-AA <br/>\n                Period: 2012 <br/>\n                Sample size: 14 <br/>\n                Frequency: 0%\n                (95% CI: 0% - 22%)\n            "
      }
     },
     "afd263654ce244c5a8b4c098f0e5d780": {
      "model_module": "@jupyter-widgets/controls",
      "model_module_version": "1.5.0",
      "model_name": "DescriptionStyleModel",
      "state": {
       "description_width": ""
      }
     },
     "afdc39c1eca24da9a78dca8ed63b8333": {
      "model_module": "@jupyter-widgets/base",
      "model_module_version": "1.2.0",
      "model_name": "LayoutModel",
      "state": {}
     },
     "b3998689177f40e5b07519ca361244c9": {
      "model_module": "jupyter-leaflet",
      "model_module_version": "^0.16.0",
      "model_name": "LeafletMapStyleModel",
      "state": {
       "_model_module_version": "^0.16.0"
      }
     },
     "b5c2f3a5ccef4cc29e212546f23be6fd": {
      "model_module": "@jupyter-widgets/controls",
      "model_module_version": "1.5.0",
      "model_name": "DescriptionStyleModel",
      "state": {
       "description_width": ""
      }
     },
     "b61abd8d37b64af5a09e46452448ddeb": {
      "model_module": "@jupyter-widgets/controls",
      "model_module_version": "1.5.0",
      "model_name": "ProgressStyleModel",
      "state": {
       "description_width": ""
      }
     },
     "b636950847234a6783c75aab9f70a5ec": {
      "model_module": "@jupyter-widgets/controls",
      "model_module_version": "1.5.0",
      "model_name": "DescriptionStyleModel",
      "state": {
       "description_width": ""
      }
     },
     "b72db97f546f40a093b27d023f8bf3da": {
      "model_module": "jupyter-leaflet",
      "model_module_version": "^0.16.0",
      "model_name": "LeafletCircleMarkerModel",
      "state": {
       "_model_module_version": "^0.16.0",
       "_view_module_version": "^0.16.0",
       "color": "black",
       "fill_color": "red",
       "fill_opacity": 0.043478260869565216,
       "location": [
        6.094,
        -0.261
       ],
       "options": [
        "color",
        "dash_array",
        "fill",
        "fill_color",
        "fill_opacity",
        "line_cap",
        "line_join",
        "opacity",
        "pointer_events",
        "radius",
        "stroke",
        "weight"
       ],
       "popup": "IPY_MODEL_10e069ffa3894f2bbd9f8f03d81be868",
       "radius": 20,
       "weight": 1
      }
     },
     "ba0f797380f4417fb6154e86150b2b0c": {
      "model_module": "@jupyter-widgets/controls",
      "model_module_version": "1.5.0",
      "model_name": "FloatProgressModel",
      "state": {
       "bar_style": "success",
       "layout": "IPY_MODEL_446603dd26944d8aa311fbe23570083a",
       "max": 11,
       "style": "IPY_MODEL_295b88d75de34dc894e972165f2b1e27",
       "value": 11
      }
     },
     "bc339d57bcf64a3f902fb6518a248358": {
      "model_module": "jupyter-leaflet",
      "model_module_version": "^0.16.0",
      "model_name": "LeafletPopupModel",
      "state": {
       "_model_module_version": "^0.16.0",
       "_view_module_version": "^0.16.0",
       "auto_close": true,
       "auto_pan": true,
       "auto_pan_padding": [
        5,
        5
       ],
       "auto_pan_padding_bottom_right": null,
       "auto_pan_padding_top_left": null,
       "child": "IPY_MODEL_f5c19b21369c4072bf9927c6408a7067",
       "close_button": true,
       "close_on_escape_key": true,
       "keep_in_view": false,
       "options": [
        "auto_close",
        "auto_pan",
        "auto_pan_padding",
        "auto_pan_padding_bottom_right",
        "auto_pan_padding_top_left",
        "close_button",
        "close_on_escape_key",
        "keep_in_view",
        "max_height",
        "max_width",
        "min_width"
       ]
      }
     },
     "be0c5027f99c4b6e830dedd97dae6c26": {
      "model_module": "@jupyter-widgets/controls",
      "model_module_version": "1.5.0",
      "model_name": "HTMLModel",
      "state": {
       "layout": "IPY_MODEL_a751db56ef1a4c76aa35afbef3879501",
       "style": "IPY_MODEL_3c709ebab89e4ccd9cb97c212e3b83c4",
       "value": "\n                <strong>AGAP002862 (CYP6AA1) amp</strong> <br/>\n                Taxon: coluzzii <br/>\n                Area: CI-LG <br/>\n                Period: 2012 <br/>\n                Sample size: 77 <br/>\n                Frequency: 87%\n                (95% CI: 78% - 93%)\n            "
      }
     },
     "be378e21e1c0436c8b89dcb7b0ef2054": {
      "model_module": "jupyter-leaflet",
      "model_module_version": "^0.16.0",
      "model_name": "LeafletPopupModel",
      "state": {
       "_model_module_version": "^0.16.0",
       "_view_module_version": "^0.16.0",
       "auto_close": true,
       "auto_pan": true,
       "auto_pan_padding": [
        5,
        5
       ],
       "auto_pan_padding_bottom_right": null,
       "auto_pan_padding_top_left": null,
       "child": "IPY_MODEL_cbca28a58cc8478b86ea0c8f65b03d67",
       "close_button": true,
       "close_on_escape_key": true,
       "keep_in_view": false,
       "options": [
        "auto_close",
        "auto_pan",
        "auto_pan_padding",
        "auto_pan_padding_bottom_right",
        "auto_pan_padding_top_left",
        "close_button",
        "close_on_escape_key",
        "keep_in_view",
        "max_height",
        "max_width",
        "min_width"
       ]
      }
     },
     "be75be5f7c5744799770dec06bfda036": {
      "model_module": "@jupyter-widgets/controls",
      "model_module_version": "1.5.0",
      "model_name": "HTMLModel",
      "state": {
       "layout": "IPY_MODEL_a236abb0531a4bb7b11df8093bb80bfe",
       "style": "IPY_MODEL_9f9bd09e28e84c4a892fb113680a3ba7",
       "value": "\n                <strong>AGAP002862 (CYP6AA1) amp</strong> <br/>\n                Taxon: coluzzii <br/>\n                Area: GN-N <br/>\n                Period: 2012 <br/>\n                Sample size: 10 <br/>\n                Frequency: 80%\n                (95% CI: 49% - 94%)\n            "
      }
     },
     "be823d2f03ae440bbc4db732f1efdff0": {
      "model_module": "jupyter-leaflet",
      "model_module_version": "^0.16.0",
      "model_name": "LeafletCircleMarkerModel",
      "state": {
       "_model_module_version": "^0.16.0",
       "_view_module_version": "^0.16.0",
       "color": "black",
       "fill_color": "red",
       "fill_opacity": 0,
       "location": [
        5.668,
        -0.219
       ],
       "options": [
        "color",
        "dash_array",
        "fill",
        "fill_color",
        "fill_opacity",
        "line_cap",
        "line_join",
        "opacity",
        "pointer_events",
        "radius",
        "stroke",
        "weight"
       ],
       "popup": "IPY_MODEL_e8c488cb3bd74d4f839c811bd126db92",
       "radius": 20,
       "weight": 1
      }
     },
     "bfe74cf83f034f44bd05a2bc4dde5926": {
      "model_module": "@jupyter-widgets/controls",
      "model_module_version": "1.5.0",
      "model_name": "HTMLModel",
      "state": {
       "layout": "IPY_MODEL_e6fd4090bfe74d6e84d001c42ac264e7",
       "style": "IPY_MODEL_1db5f13685e6465cae7bea85d3b18ebf",
       "value": "\n                <strong>AGAP002862 (CYP6AA1) amp</strong> <br/>\n                Taxon: gambiae <br/>\n                Area: BF-09 <br/>\n                Period: 2012 <br/>\n                Sample size: 97 <br/>\n                Frequency: 4%\n                (95% CI: 2% - 10%)\n            "
      }
     },
     "c08f2886cba54c44a3074921d9ee38dc": {
      "model_module": "jupyter-leaflet",
      "model_module_version": "^0.16.0",
      "model_name": "LeafletCircleMarkerModel",
      "state": {
       "_model_module_version": "^0.16.0",
       "_view_module_version": "^0.16.0",
       "color": "black",
       "fill_color": "red",
       "fill_opacity": 0,
       "location": [
        4.367,
        18.583
       ],
       "options": [
        "color",
        "dash_array",
        "fill",
        "fill_color",
        "fill_opacity",
        "line_cap",
        "line_join",
        "opacity",
        "pointer_events",
        "radius",
        "stroke",
        "weight"
       ],
       "popup": "IPY_MODEL_2c28fe7650e744febc0e3e69af0a23ff",
       "radius": 20,
       "weight": 1
      }
     },
     "c12e63b1409e4a199afe669e07fcb37e": {
      "model_module": "@jupyter-widgets/base",
      "model_module_version": "1.2.0",
      "model_name": "LayoutModel",
      "state": {}
     },
     "c2a7069760834606b42b901e76ea61cd": {
      "model_module": "@jupyter-widgets/controls",
      "model_module_version": "1.5.0",
      "model_name": "HTMLModel",
      "state": {
       "layout": "IPY_MODEL_0469742e8c27493da300e91f5a36b56c",
       "style": "IPY_MODEL_a41e4d8b172247bbb642e01bf6c99cd9",
       "value": " 11/11 [00:00&lt;00:00, 377.42it/s]"
      }
     },
     "c4ff4ca7f8a545b2b7c178e7f1377cfd": {
      "model_module": "@jupyter-widgets/base",
      "model_module_version": "1.2.0",
      "model_name": "LayoutModel",
      "state": {}
     },
     "c7be7d6900de48e5b926da59c647b139": {
      "model_module": "jupyter-leaflet",
      "model_module_version": "^0.16.0",
      "model_name": "LeafletAttributionControlModel",
      "state": {
       "_model_module_version": "^0.16.0",
       "_view_module_version": "^0.16.0",
       "options": [
        "position",
        "prefix"
       ],
       "position": "bottomright",
       "prefix": "ipyleaflet"
      }
     },
     "c8415b195a0046cfa1e522926db29f3b": {
      "model_module": "@jupyter-widgets/controls",
      "model_module_version": "1.5.0",
      "model_name": "FloatProgressModel",
      "state": {
       "bar_style": "success",
       "layout": "IPY_MODEL_e68590ad77c840fdae30c1c227ee1663",
       "max": 11,
       "style": "IPY_MODEL_f17307b63e634d1da14041ba2ff553b9",
       "value": 11
      }
     },
     "ca4fc3d607164c0690dff4ab64041182": {
      "model_module": "jupyter-leaflet",
      "model_module_version": "^0.16.0",
      "model_name": "LeafletCircleMarkerModel",
      "state": {
       "_model_module_version": "^0.16.0",
       "_view_module_version": "^0.16.0",
       "color": "black",
       "fill_color": "red",
       "fill_opacity": 0.109375,
       "location": [
        10.88,
        -7.850625
       ],
       "options": [
        "color",
        "dash_array",
        "fill",
        "fill_color",
        "fill_opacity",
        "line_cap",
        "line_join",
        "opacity",
        "pointer_events",
        "radius",
        "stroke",
        "weight"
       ],
       "popup": "IPY_MODEL_453210255f714a188fbeb941fdc869ea",
       "radius": 20,
       "weight": 1
      }
     },
     "cbca28a58cc8478b86ea0c8f65b03d67": {
      "model_module": "@jupyter-widgets/controls",
      "model_module_version": "1.5.0",
      "model_name": "HTMLModel",
      "state": {
       "layout": "IPY_MODEL_2dd94161d91f41528362c077f7700842",
       "style": "IPY_MODEL_e2dc41dc8cae4524be24be9cd939d816",
       "value": "\n                <strong>AGAP002862 (CYP6AA1) amp</strong> <br/>\n                Taxon: gambiae <br/>\n                Area: GN-N <br/>\n                Period: 2012 <br/>\n                Sample size: 60 <br/>\n                Frequency: 3%\n                (95% CI: 1% - 11%)\n            "
      }
     },
     "cc1b045a39e342a781f9dc19983306bd": {
      "model_module": "jupyter-leaflet",
      "model_module_version": "^0.16.0",
      "model_name": "LeafletMapStyleModel",
      "state": {
       "_model_module_version": "^0.16.0",
       "cursor": "move"
      }
     },
     "cded1c1e66344050811922498f31b80f": {
      "model_module": "@jupyter-widgets/controls",
      "model_module_version": "1.5.0",
      "model_name": "ProgressStyleModel",
      "state": {
       "description_width": ""
      }
     },
     "d1011249979042b383cf407c7e089334": {
      "model_module": "@jupyter-widgets/controls",
      "model_module_version": "1.5.0",
      "model_name": "HBoxModel",
      "state": {
       "children": [
        "IPY_MODEL_9d8bbc85fdfa4439bbdcda81e46418e8",
        "IPY_MODEL_7271424d8bdf4cc29cf7cd1fc17048e4",
        "IPY_MODEL_64f0f8f22c5346bdb3c32abb208ca64c"
       ],
       "layout": "IPY_MODEL_82725b07f2ee46eaa38a44264b8392b9"
      }
     },
     "d26ff845be1a4adab7f00f832b816946": {
      "model_module": "@jupyter-widgets/base",
      "model_module_version": "1.2.0",
      "model_name": "LayoutModel",
      "state": {}
     },
     "d2cf0e16574c4788a270aad898f0e84e": {
      "model_module": "@jupyter-widgets/base",
      "model_module_version": "1.2.0",
      "model_name": "LayoutModel",
      "state": {}
     },
     "d367d7e0f9c14bc8b5265d0cd184c0d4": {
      "model_module": "@jupyter-widgets/output",
      "model_module_version": "1.0.0",
      "model_name": "OutputModel",
      "state": {
       "layout": "IPY_MODEL_f1594ccea74f4c9fb780f0f6ab332518"
      }
     },
     "d39e23813b4e40dab61448d84f9670dc": {
      "model_module": "@jupyter-widgets/controls",
      "model_module_version": "1.5.0",
      "model_name": "HTMLModel",
      "state": {
       "layout": "IPY_MODEL_2326ae5d2fbc4083a34b2773f1f03cb1",
       "style": "IPY_MODEL_dd5c5ba0ff9c438eb5581935ef772eb1",
       "value": "\n                <strong>AGAP002862 (CYP6AA1) amp</strong> <br/>\n                Taxon: gambiae <br/>\n                Area: CF-BGF <br/>\n                Period: 1994 <br/>\n                Sample size: 52 <br/>\n                Frequency: 0%\n                (95% CI: 0% - 7%)\n            "
      }
     },
     "d4ca04a6953346a1bf0e5d9150f1ec65": {
      "model_module": "@jupyter-widgets/controls",
      "model_module_version": "1.5.0",
      "model_name": "DescriptionStyleModel",
      "state": {
       "description_width": ""
      }
     },
     "d6c877cfa99b4f35af04375678e50845": {
      "model_module": "@jupyter-widgets/base",
      "model_module_version": "1.2.0",
      "model_name": "LayoutModel",
      "state": {}
     },
     "d71705e072a34d3f9f06b1f9eccfd6b6": {
      "model_module": "@jupyter-widgets/controls",
      "model_module_version": "1.5.0",
      "model_name": "DescriptionStyleModel",
      "state": {
       "description_width": ""
      }
     },
     "d8a879377e8548e1b013a685264e92cc": {
      "model_module": "@jupyter-widgets/controls",
      "model_module_version": "1.5.0",
      "model_name": "HTMLModel",
      "state": {
       "layout": "IPY_MODEL_9fb770b16bd2436aa51675ce8c3f5d2f",
       "style": "IPY_MODEL_3d49a6c240664d23b16ad00ffa00d19a",
       "value": "\n                <strong>AGAP002862 (CYP6AA1) amp</strong> <br/>\n                Taxon: coluzzii <br/>\n                Area: CF-BGF <br/>\n                Period: 1994 <br/>\n                Sample size: 13 <br/>\n                Frequency: 0%\n                (95% CI: 0% - 23%)\n            "
      }
     },
     "dab099ea1d8f47c7b03dd61fb02ef482": {
      "model_module": "@jupyter-widgets/controls",
      "model_module_version": "1.5.0",
      "model_name": "DescriptionStyleModel",
      "state": {
       "description_width": ""
      }
     },
     "dba50d45800d4cadb1fa61f84ec9e797": {
      "model_module": "jupyter-leaflet",
      "model_module_version": "^0.16.0",
      "model_name": "LeafletPopupModel",
      "state": {
       "_model_module_version": "^0.16.0",
       "_view_module_version": "^0.16.0",
       "auto_close": true,
       "auto_pan": true,
       "auto_pan_padding": [
        5,
        5
       ],
       "auto_pan_padding_bottom_right": null,
       "auto_pan_padding_top_left": null,
       "child": "IPY_MODEL_325cfd89da3e4bf6b40cba36a6f34d3d",
       "close_button": true,
       "close_on_escape_key": true,
       "keep_in_view": false,
       "options": [
        "auto_close",
        "auto_pan",
        "auto_pan_padding",
        "auto_pan_padding_bottom_right",
        "auto_pan_padding_top_left",
        "close_button",
        "close_on_escape_key",
        "keep_in_view",
        "max_height",
        "max_width",
        "min_width"
       ]
      }
     },
     "dd5c5ba0ff9c438eb5581935ef772eb1": {
      "model_module": "@jupyter-widgets/controls",
      "model_module_version": "1.5.0",
      "model_name": "DescriptionStyleModel",
      "state": {
       "description_width": ""
      }
     },
     "dd6f4574a62c464dae1cd8f77dc1b872": {
      "model_module": "@jupyter-widgets/controls",
      "model_module_version": "1.5.0",
      "model_name": "FloatProgressModel",
      "state": {
       "bar_style": "success",
       "layout": "IPY_MODEL_ef1aa5a44103456b93464c48ce00c212",
       "max": 504,
       "style": "IPY_MODEL_b61abd8d37b64af5a09e46452448ddeb",
       "value": 504
      }
     },
     "de78f5323378440197df0c8d831e1bd2": {
      "model_module": "@jupyter-widgets/controls",
      "model_module_version": "1.5.0",
      "model_name": "DescriptionStyleModel",
      "state": {
       "description_width": ""
      }
     },
     "debc9f5f804b4f96bd83fceeb4b51a6f": {
      "model_module": "@jupyter-widgets/controls",
      "model_module_version": "1.5.0",
      "model_name": "DescriptionStyleModel",
      "state": {
       "description_width": ""
      }
     },
     "ded8429bb8db4e08b181f3ee3328d7a5": {
      "model_module": "@jupyter-widgets/controls",
      "model_module_version": "1.5.0",
      "model_name": "HTMLModel",
      "state": {
       "layout": "IPY_MODEL_4fb48deee71c4f48afa3fca976e98d4f",
       "style": "IPY_MODEL_15636ffe3a4f43e9a898af5f1f98f507",
       "value": "Compute modal gene copy number: 100%"
      }
     },
     "df16bfbfdc2f4b1489287328e6e85adc": {
      "model_module": "jupyter-leaflet",
      "model_module_version": "^0.16.0",
      "model_name": "LeafletCircleMarkerModel",
      "state": {
       "_model_module_version": "^0.16.0",
       "_view_module_version": "^0.16.0",
       "color": "black",
       "fill_color": "red",
       "fill_opacity": 0.09090909090909091,
       "location": [
        13.567,
        -14.917
       ],
       "options": [
        "color",
        "dash_array",
        "fill",
        "fill_color",
        "fill_opacity",
        "line_cap",
        "line_join",
        "opacity",
        "pointer_events",
        "radius",
        "stroke",
        "weight"
       ],
       "popup": "IPY_MODEL_2c9485250c1948ce9ec6958efc2e0b74",
       "radius": 20,
       "weight": 1
      }
     },
     "df1ce6830aba48cebd3a8ec3f63b19bf": {
      "model_module": "@jupyter-widgets/base",
      "model_module_version": "1.2.0",
      "model_name": "LayoutModel",
      "state": {}
     },
     "df2f8906cfc64734bd8e2d4cf7eb93cc": {
      "model_module": "@jupyter-widgets/controls",
      "model_module_version": "1.5.0",
      "model_name": "HTMLModel",
      "state": {
       "layout": "IPY_MODEL_448bdd11607e423f968f43d4a9e5f191",
       "style": "IPY_MODEL_d4ca04a6953346a1bf0e5d9150f1ec65",
       "value": "\n                <strong>AGAP002862 (CYP6AA1) amp</strong> <br/>\n                Taxon: gambiae <br/>\n                Area: ML-3 <br/>\n                Period: 2012 <br/>\n                Sample size: 64 <br/>\n                Frequency: 11%\n                (95% CI: 5% - 21%)\n            "
      }
     },
     "df9713b9f92449bf8a2d7585e86b22a6": {
      "model_module": "@jupyter-widgets/base",
      "model_module_version": "1.2.0",
      "model_name": "LayoutModel",
      "state": {}
     },
     "dfe09a7bd2384bf1bf4373074338af2b": {
      "model_module": "@jupyter-widgets/controls",
      "model_module_version": "1.5.0",
      "model_name": "DescriptionStyleModel",
      "state": {
       "description_width": ""
      }
     },
     "e09f92f5d7bc471c88f5f679121267d4": {
      "model_module": "@jupyter-widgets/controls",
      "model_module_version": "1.5.0",
      "model_name": "DropdownModel",
      "state": {
       "_options_labels": [
        "arabiensis",
        "coluzzii",
        "gambiae",
        "gcx1",
        "gcx2",
        "gcx3"
       ],
       "description": "Taxon: ",
       "index": 1,
       "layout": "IPY_MODEL_7936f57cde48424d946bc2b20ad7be6f",
       "style": "IPY_MODEL_77a4ab20e684413ea7eb607abd4328a7"
      }
     },
     "e10015c0b0ff4c3186a9b128e0fc5a65": {
      "model_module": "@jupyter-widgets/controls",
      "model_module_version": "1.5.0",
      "model_name": "HBoxModel",
      "state": {
       "children": [
        "IPY_MODEL_235145c191a84f37be05fa673b6fb37e",
        "IPY_MODEL_11cf433a5d994bf0833f8d3722951694",
        "IPY_MODEL_1ecc5890c8774534af19c38324131c0b"
       ],
       "layout": "IPY_MODEL_72b0b4876d8742d882751f98455b7a2d"
      }
     },
     "e15836b2c1c1419396f6e727e4dac986": {
      "model_module": "jupyter-leaflet",
      "model_module_version": "^0.16.0",
      "model_name": "LeafletCircleMarkerModel",
      "state": {
       "_model_module_version": "^0.16.0",
       "_view_module_version": "^0.16.0",
       "color": "black",
       "fill_color": "red",
       "fill_opacity": 0.16,
       "location": [
        5.609,
        -1.5490000000000002
       ],
       "options": [
        "color",
        "dash_array",
        "fill",
        "fill_color",
        "fill_opacity",
        "line_cap",
        "line_join",
        "opacity",
        "pointer_events",
        "radius",
        "stroke",
        "weight"
       ],
       "popup": "IPY_MODEL_7a9505bd8af24732a6ad1be06d1933a7",
       "radius": 20,
       "weight": 1
      }
     },
     "e16dabc117274caa9ca5ed8e76afde96": {
      "model_module": "@jupyter-widgets/base",
      "model_module_version": "1.2.0",
      "model_name": "LayoutModel",
      "state": {}
     },
     "e2dc41dc8cae4524be24be9cd939d816": {
      "model_module": "@jupyter-widgets/controls",
      "model_module_version": "1.5.0",
      "model_name": "DescriptionStyleModel",
      "state": {
       "description_width": ""
      }
     },
     "e344841ae5a940b8924566b8ec8de8f5": {
      "model_module": "@jupyter-widgets/controls",
      "model_module_version": "1.5.0",
      "model_name": "HTMLModel",
      "state": {
       "layout": "IPY_MODEL_063fcfcd65be4d6782b907569493d8d8",
       "style": "IPY_MODEL_aeb79edcaf2b437f804b94e86c1be547",
       "value": "\n                <strong>AGAP002862 (CYP6AA1) amp</strong> <br/>\n                Taxon: gambiae <br/>\n                Area: UG-E <br/>\n                Period: 2012 <br/>\n                Sample size: 112 <br/>\n                Frequency: 64%\n                (95% CI: 55% - 73%)\n            "
      }
     },
     "e34b3968418541879fc1b93509d54e4e": {
      "model_module": "@jupyter-widgets/base",
      "model_module_version": "1.2.0",
      "model_name": "LayoutModel",
      "state": {}
     },
     "e38813ebf48e4e059c88aff4c06bca06": {
      "model_module": "@jupyter-widgets/base",
      "model_module_version": "1.2.0",
      "model_name": "LayoutModel",
      "state": {}
     },
     "e525cb2daba14998ac48b4cd895fd723": {
      "model_module": "@jupyter-widgets/controls",
      "model_module_version": "1.5.0",
      "model_name": "HTMLModel",
      "state": {
       "layout": "IPY_MODEL_df9713b9f92449bf8a2d7585e86b22a6",
       "style": "IPY_MODEL_a6a1e0c5dd404ff89c3114c077e17907",
       "value": "\n                Variant frequencies are shown as coloured markers. Opacity of color\n                denotes frequency. Click on a marker for more information.\n            "
      }
     },
     "e5c1cb400ad5473e8ea57ce0130b7936": {
      "model_module": "@jupyter-widgets/controls",
      "model_module_version": "1.5.0",
      "model_name": "HTMLModel",
      "state": {
       "layout": "IPY_MODEL_679c588a43d14fd0aa00c96c81e4db37",
       "style": "IPY_MODEL_408ef8f254e446c6b57ab8825ef20d1c",
       "value": "\n                Variant frequencies are shown as coloured markers. Opacity of color\n                denotes frequency. Click on a marker for more information.\n            "
      }
     },
     "e645c7eca6184a35b896e9a0d903203b": {
      "model_module": "jupyter-leaflet",
      "model_module_version": "^0.16.0",
      "model_name": "LeafletPopupModel",
      "state": {
       "_model_module_version": "^0.16.0",
       "_view_module_version": "^0.16.0",
       "auto_close": true,
       "auto_pan": true,
       "auto_pan_padding": [
        5,
        5
       ],
       "auto_pan_padding_bottom_right": null,
       "auto_pan_padding_top_left": null,
       "child": "IPY_MODEL_a2f3d4a819d74ff08f281bb9870c9756",
       "close_button": true,
       "close_on_escape_key": true,
       "keep_in_view": false,
       "options": [
        "auto_close",
        "auto_pan",
        "auto_pan_padding",
        "auto_pan_padding_bottom_right",
        "auto_pan_padding_top_left",
        "close_button",
        "close_on_escape_key",
        "keep_in_view",
        "max_height",
        "max_width",
        "min_width"
       ]
      }
     },
     "e68590ad77c840fdae30c1c227ee1663": {
      "model_module": "@jupyter-widgets/base",
      "model_module_version": "1.2.0",
      "model_name": "LayoutModel",
      "state": {}
     },
     "e6fd4090bfe74d6e84d001c42ac264e7": {
      "model_module": "@jupyter-widgets/base",
      "model_module_version": "1.2.0",
      "model_name": "LayoutModel",
      "state": {}
     },
     "e884c13e35fc4fa4ad55bcd549f17512": {
      "model_module": "jupyter-leaflet",
      "model_module_version": "^0.16.0",
      "model_name": "LeafletCircleMarkerModel",
      "state": {
       "_model_module_version": "^0.16.0",
       "_view_module_version": "^0.16.0",
       "color": "black",
       "fill_color": "red",
       "fill_opacity": 0,
       "location": [
        4.367,
        18.583
       ],
       "options": [
        "color",
        "dash_array",
        "fill",
        "fill_color",
        "fill_opacity",
        "line_cap",
        "line_join",
        "opacity",
        "pointer_events",
        "radius",
        "stroke",
        "weight"
       ],
       "popup": "IPY_MODEL_3baedd22d4e944179de1f1e477486e0d",
       "radius": 20,
       "weight": 1
      }
     },
     "e8c488cb3bd74d4f839c811bd126db92": {
      "model_module": "jupyter-leaflet",
      "model_module_version": "^0.16.0",
      "model_name": "LeafletPopupModel",
      "state": {
       "_model_module_version": "^0.16.0",
       "_view_module_version": "^0.16.0",
       "auto_close": true,
       "auto_pan": true,
       "auto_pan_padding": [
        5,
        5
       ],
       "auto_pan_padding_bottom_right": null,
       "auto_pan_padding_top_left": null,
       "child": "IPY_MODEL_aefaf62ba9ef47c58308ed986a1d0d71",
       "close_button": true,
       "close_on_escape_key": true,
       "keep_in_view": false,
       "options": [
        "auto_close",
        "auto_pan",
        "auto_pan_padding",
        "auto_pan_padding_bottom_right",
        "auto_pan_padding_top_left",
        "close_button",
        "close_on_escape_key",
        "keep_in_view",
        "max_height",
        "max_width",
        "min_width"
       ]
      }
     },
     "e9091a1271dc4679a0539f7cf922a6f6": {
      "model_module": "@jupyter-widgets/controls",
      "model_module_version": "1.5.0",
      "model_name": "VBoxModel",
      "state": {
       "_dom_classes": [
        "widget-interact"
       ],
       "children": [
        "IPY_MODEL_52d0a5ac70804bcd92140b7aa29049be",
        "IPY_MODEL_e09f92f5d7bc471c88f5f679121267d4",
        "IPY_MODEL_6c2ad1fae7b7474bb7af8081cb633186",
        "IPY_MODEL_d367d7e0f9c14bc8b5265d0cd184c0d4"
       ],
       "layout": "IPY_MODEL_83e6fc2a3c5445ee8ddd35ede6c4a2f1"
      }
     },
     "ea03bc69cee5407eaf8ce582eecec4a1": {
      "model_module": "@jupyter-widgets/base",
      "model_module_version": "1.2.0",
      "model_name": "LayoutModel",
      "state": {}
     },
     "eaff17df0ec44e90bea6c715b6435eeb": {
      "model_module": "@jupyter-widgets/base",
      "model_module_version": "1.2.0",
      "model_name": "LayoutModel",
      "state": {}
     },
     "ec61f92beb2241ef94e57fe9422e8755": {
      "model_module": "jupyter-leaflet",
      "model_module_version": "^0.16.0",
      "model_name": "LeafletPopupModel",
      "state": {
       "_model_module_version": "^0.16.0",
       "_view_module_version": "^0.16.0",
       "auto_close": true,
       "auto_pan": true,
       "auto_pan_padding": [
        5,
        5
       ],
       "auto_pan_padding_bottom_right": null,
       "auto_pan_padding_top_left": null,
       "child": "IPY_MODEL_732a7eba9da349258f0e0fe900c22034",
       "close_button": true,
       "close_on_escape_key": true,
       "keep_in_view": false,
       "options": [
        "auto_close",
        "auto_pan",
        "auto_pan_padding",
        "auto_pan_padding_bottom_right",
        "auto_pan_padding_top_left",
        "close_button",
        "close_on_escape_key",
        "keep_in_view",
        "max_height",
        "max_width",
        "min_width"
       ]
      }
     },
     "ed460b0e071848d28ca1cd6effa26f8d": {
      "model_module": "@jupyter-widgets/controls",
      "model_module_version": "1.5.0",
      "model_name": "DescriptionStyleModel",
      "state": {
       "description_width": ""
      }
     },
     "ed63791f77bc429f807bb38a003d5ff5": {
      "model_module": "jupyter-leaflet",
      "model_module_version": "^0.16.0",
      "model_name": "LeafletAttributionControlModel",
      "state": {
       "_model_module_version": "^0.16.0",
       "_view_module_version": "^0.16.0",
       "options": [
        "position",
        "prefix"
       ],
       "position": "bottomright",
       "prefix": "ipyleaflet"
      }
     },
     "ef1aa5a44103456b93464c48ce00c212": {
      "model_module": "@jupyter-widgets/base",
      "model_module_version": "1.2.0",
      "model_name": "LayoutModel",
      "state": {}
     },
     "ef809cc081b34fcda4b1f5c28add59fa": {
      "model_module": "@jupyter-widgets/base",
      "model_module_version": "1.2.0",
      "model_name": "LayoutModel",
      "state": {}
     },
     "f0085770645d4fc79839e24a10b52121": {
      "model_module": "@jupyter-widgets/base",
      "model_module_version": "1.2.0",
      "model_name": "LayoutModel",
      "state": {}
     },
     "f0b9399085c9450c9178c72acc9ee2bb": {
      "model_module": "jupyter-leaflet",
      "model_module_version": "^0.16.0",
      "model_name": "LeafletMapStyleModel",
      "state": {
       "_model_module_version": "^0.16.0"
      }
     },
     "f133349f178d4c0c8123b9adc20e5bfa": {
      "model_module": "@jupyter-widgets/base",
      "model_module_version": "1.2.0",
      "model_name": "LayoutModel",
      "state": {}
     },
     "f1594ccea74f4c9fb780f0f6ab332518": {
      "model_module": "@jupyter-widgets/base",
      "model_module_version": "1.2.0",
      "model_name": "LayoutModel",
      "state": {}
     },
     "f17307b63e634d1da14041ba2ff553b9": {
      "model_module": "@jupyter-widgets/controls",
      "model_module_version": "1.5.0",
      "model_name": "ProgressStyleModel",
      "state": {
       "description_width": ""
      }
     },
     "f1dbde9c29d04450b6e14b150c9ece15": {
      "model_module": "@jupyter-widgets/base",
      "model_module_version": "1.2.0",
      "model_name": "LayoutModel",
      "state": {}
     },
     "f2b710ac6c4741dc9ded46dd263c6d4a": {
      "model_module": "@jupyter-widgets/controls",
      "model_module_version": "1.5.0",
      "model_name": "HTMLModel",
      "state": {
       "layout": "IPY_MODEL_4788567945344adcb46177bbe8baf3b4",
       "style": "IPY_MODEL_9b6139486d654d689fdd75e53463adfc",
       "value": " 504/504 [00:03&lt;00:00, 226.43it/s]"
      }
     },
     "f3f1106bc75f4a14a5b3bb3626c7ae9d": {
      "model_module": "@jupyter-widgets/base",
      "model_module_version": "1.2.0",
      "model_name": "LayoutModel",
      "state": {}
     },
     "f5c19b21369c4072bf9927c6408a7067": {
      "model_module": "@jupyter-widgets/controls",
      "model_module_version": "1.5.0",
      "model_name": "HTMLModel",
      "state": {
       "layout": "IPY_MODEL_0a00f77675e54c03860f668e86b17214",
       "style": "IPY_MODEL_10d31335303b414a84b6335cbb184ea8",
       "value": "\n                <strong>AGAP002862 (CYP6AA1) amp</strong> <br/>\n                Taxon: gambiae <br/>\n                Area: GN-F <br/>\n                Period: 2012 <br/>\n                Sample size: 59 <br/>\n                Frequency: 10%\n                (95% CI: 5% - 20%)\n            "
      }
     },
     "f5f7898554cd444daba1a9fcad7614c9": {
      "model_module": "@jupyter-widgets/controls",
      "model_module_version": "1.5.0",
      "model_name": "DescriptionStyleModel",
      "state": {
       "description_width": ""
      }
     },
     "f632d0dc4eda41079e062bd85c6e7791": {
      "model_module": "@jupyter-widgets/controls",
      "model_module_version": "1.5.0",
      "model_name": "DropdownModel",
      "state": {
       "_options_labels": [
        "arabiensis",
        "coluzzii",
        "gambiae",
        "gcx1",
        "gcx2",
        "gcx3"
       ],
       "description": "Taxon: ",
       "index": 1,
       "layout": "IPY_MODEL_4ef4f134f1a84ff79c5a3d5b464f2a9b",
       "style": "IPY_MODEL_47813b571a414513b70a50f93772ea38"
      }
     },
     "f81c0672d766406fabc476e224eeea49": {
      "model_module": "jupyter-leaflet",
      "model_module_version": "^0.16.0",
      "model_name": "LeafletPopupModel",
      "state": {
       "_model_module_version": "^0.16.0",
       "_view_module_version": "^0.16.0",
       "auto_close": true,
       "auto_pan": true,
       "auto_pan_padding": [
        5,
        5
       ],
       "auto_pan_padding_bottom_right": null,
       "auto_pan_padding_top_left": null,
       "child": "IPY_MODEL_e344841ae5a940b8924566b8ec8de8f5",
       "close_button": true,
       "close_on_escape_key": true,
       "keep_in_view": false,
       "options": [
        "auto_close",
        "auto_pan",
        "auto_pan_padding",
        "auto_pan_padding_bottom_right",
        "auto_pan_padding_top_left",
        "close_button",
        "close_on_escape_key",
        "keep_in_view",
        "max_height",
        "max_width",
        "min_width"
       ]
      }
     },
     "f94e5b8cb41f46c5b7fc3e23b3c20999": {
      "model_module": "@jupyter-widgets/controls",
      "model_module_version": "1.5.0",
      "model_name": "HTMLModel",
      "state": {
       "layout": "IPY_MODEL_54514ba0408d438e83eff61359504eec",
       "style": "IPY_MODEL_791c269179994f06a34701488ece8948",
       "value": "\n                <strong>AGAP002862 (CYP6AA1) amp</strong> <br/>\n                Taxon: coluzzii <br/>\n                Area: GM-M <br/>\n                Period: 2012 <br/>\n                Sample size: 11 <br/>\n                Frequency: 9%\n                (95% CI: 2% - 38%)\n            "
      }
     },
     "f9b2314a5591444a979b6b709c681991": {
      "model_module": "@jupyter-widgets/controls",
      "model_module_version": "1.5.0",
      "model_name": "DescriptionStyleModel",
      "state": {
       "description_width": ""
      }
     },
     "fada169eba064c33b499c8b7171a1499": {
      "model_module": "@jupyter-widgets/base",
      "model_module_version": "1.2.0",
      "model_name": "LayoutModel",
      "state": {}
     },
     "faf2864253af4f5db098914a8ca6875e": {
      "model_module": "jupyter-leaflet",
      "model_module_version": "^0.16.0",
      "model_name": "LeafletPopupModel",
      "state": {
       "_model_module_version": "^0.16.0",
       "_view_module_version": "^0.16.0",
       "auto_close": true,
       "auto_pan": true,
       "auto_pan_padding": [
        5,
        5
       ],
       "auto_pan_padding_bottom_right": null,
       "auto_pan_padding_top_left": null,
       "child": "IPY_MODEL_7979af93138848bf85f2aacf0bbe71b2",
       "close_button": true,
       "close_on_escape_key": true,
       "keep_in_view": false,
       "options": [
        "auto_close",
        "auto_pan",
        "auto_pan_padding",
        "auto_pan_padding_bottom_right",
        "auto_pan_padding_top_left",
        "close_button",
        "close_on_escape_key",
        "keep_in_view",
        "max_height",
        "max_width",
        "min_width"
       ]
      }
     },
     "fb3d7450c88747a6b7a8ee19e4c6c163": {
      "model_module": "jupyter-leaflet",
      "model_module_version": "^0.16.0",
      "model_name": "LeafletCircleMarkerModel",
      "state": {
       "_model_module_version": "^0.16.0",
       "_view_module_version": "^0.16.0",
       "color": "black",
       "fill_color": "red",
       "fill_opacity": 0.8701298701298701,
       "location": [
        5.898,
        -4.823
       ],
       "options": [
        "color",
        "dash_array",
        "fill",
        "fill_color",
        "fill_opacity",
        "line_cap",
        "line_join",
        "opacity",
        "pointer_events",
        "radius",
        "stroke",
        "weight"
       ],
       "popup": "IPY_MODEL_06d4c7fcfcfc4dad87aa6d09234de7a2",
       "radius": 20,
       "weight": 1
      }
     },
     "fb8018ee8be647a8ba6b202020b4b409": {
      "model_module": "jupyter-leaflet",
      "model_module_version": "^0.16.0",
      "model_name": "LeafletCircleMarkerModel",
      "state": {
       "_model_module_version": "^0.16.0",
       "_view_module_version": "^0.16.0",
       "color": "black",
       "fill_color": "red",
       "fill_opacity": 0.09090909090909091,
       "location": [
        13.567,
        -14.917
       ],
       "options": [
        "color",
        "dash_array",
        "fill",
        "fill_color",
        "fill_opacity",
        "line_cap",
        "line_join",
        "opacity",
        "pointer_events",
        "radius",
        "stroke",
        "weight"
       ],
       "popup": "IPY_MODEL_214905b5bd924b80bc33a18336e2d382",
       "radius": 20,
       "weight": 1
      }
     },
     "fc65ba7a81744aa78966cbb8ceeb858c": {
      "model_module": "@jupyter-widgets/controls",
      "model_module_version": "1.5.0",
      "model_name": "VBoxModel",
      "state": {
       "children": [
        "IPY_MODEL_46e133288c94440592b886f3b70b7272",
        "IPY_MODEL_e9091a1271dc4679a0539f7cf922a6f6",
        "IPY_MODEL_1624e99ca027450380ddc5c51a8be541",
        "IPY_MODEL_e525cb2daba14998ac48b4cd895fd723"
       ],
       "layout": "IPY_MODEL_251f38cf34e3430e8ecd1b279566e214"
      }
     },
     "fcab46fa0cab48aabd248205e7337a93": {
      "model_module": "@jupyter-widgets/controls",
      "model_module_version": "1.5.0",
      "model_name": "DescriptionStyleModel",
      "state": {
       "description_width": ""
      }
     },
     "fd1127fe02e94abc9bced2190cb0b271": {
      "model_module": "@jupyter-widgets/base",
      "model_module_version": "1.2.0",
      "model_name": "LayoutModel",
      "state": {}
     }
    },
    "version_major": 2,
    "version_minor": 0
   }
  }
 },
 "nbformat": 4,
 "nbformat_minor": 4
}
