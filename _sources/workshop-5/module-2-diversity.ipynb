{
 "cells": [
  {
   "cell_type": "markdown",
   "id": "a20914ce",
   "metadata": {},
   "source": [
    "![banner](https://anopheles-genomic-surveillance.github.io/_images/banner.jpg)\n",
    "\n",
    "***Training course in data analysis for genomic surveillance of African malaria vectors - Workshop 5***\n",
    "\n",
    "---"
   ]
  },
  {
   "cell_type": "markdown",
   "id": "7ed63b34-d54d-448d-bcb9-55e4aa87e982",
   "metadata": {},
   "source": [
    "# Module 2 - Introduction to genetic diversity\n",
    "\n",
    "**Theme: Biology**\n",
    "\n",
    "This module introduces the biology of genetic diversity, which allows us to characterise and quantify how individuals sampled from a population are genetically different from each other. The study of genetic diversity has many scientific applications, and in particular we will begin to examine how diversity could be used to monitor populations of mosquitoes and other organisms."
   ]
  },
  {
   "cell_type": "markdown",
   "id": "434e79a6-34ff-45f6-b259-0d3c7858e250",
   "metadata": {},
   "source": [
    "## Learning objectives\n",
    "\n",
    "In this module, we will cover:\n",
    "\n",
    "* Types of genetic diversity\n",
    "* Quantifying genetic diversity\n",
    "* What forces affect genetic diversity\n",
    "* How can genetic diversity be used to monitor populations?\n"
   ]
  },
  {
   "cell_type": "markdown",
   "id": "b66bb5b8",
   "metadata": {},
   "source": [
    "## Lecture"
   ]
  },
  {
   "cell_type": "markdown",
   "id": "5c688ab3",
   "metadata": {},
   "source": [
    "### English"
   ]
  },
  {
   "cell_type": "code",
   "execution_count": 1,
   "id": "c5e8aeda",
   "metadata": {
    "tags": [
     "remove-input"
    ]
   },
   "outputs": [
    {
     "data": {
      "text/html": [
       "<iframe width=\"560\" height=\"315\" src=\"https://www.youtube.com/embed/ZKuoKcKx1nY\" title=\"YouTube video player\" frameborder=\"0\" allow=\"accelerometer; autoplay; clipboard-write; encrypted-media; gyroscope; picture-in-picture\" allowfullscreen></iframe>\n"
      ],
      "text/plain": [
       "<IPython.core.display.HTML object>"
      ]
     },
     "metadata": {},
     "output_type": "display_data"
    }
   ],
   "source": [
    "%%html\n",
    "<iframe width=\"560\" height=\"315\" src=\"https://www.youtube.com/embed/ZKuoKcKx1nY\" title=\"YouTube video player\" frameborder=\"0\" allow=\"accelerometer; autoplay; clipboard-write; encrypted-media; gyroscope; picture-in-picture\" allowfullscreen></iframe>"
   ]
  },
  {
   "cell_type": "markdown",
   "id": "c64766c0",
   "metadata": {},
   "source": [
    "### Français\n"
   ]
  },
  {
   "cell_type": "code",
   "execution_count": 2,
   "id": "e7e8ae53",
   "metadata": {
    "tags": [
     "remove-input"
    ]
   },
   "outputs": [
    {
     "data": {
      "text/html": [
       "<iframe width=\"560\" height=\"315\" src=\"https://www.youtube.com/embed/tyxWvmmD_mY\" title=\"YouTube video player\" frameborder=\"0\" allow=\"accelerometer; autoplay; clipboard-write; encrypted-media; gyroscope; picture-in-picture\" allowfullscreen></iframe>\n"
      ],
      "text/plain": [
       "<IPython.core.display.HTML object>"
      ]
     },
     "metadata": {},
     "output_type": "display_data"
    }
   ],
   "source": [
    "%%html\n",
    "<iframe width=\"560\" height=\"315\" src=\"https://www.youtube.com/embed/tyxWvmmD_mY\" title=\"YouTube video player\" frameborder=\"0\" allow=\"accelerometer; autoplay; clipboard-write; encrypted-media; gyroscope; picture-in-picture\" allowfullscreen></iframe>"
   ]
  }
 ],
 "metadata": {
  "celltoolbar": "Tags",
  "kernelspec": {
   "display_name": "Python 3 (ipykernel)",
   "language": "python",
   "name": "python3"
  },
  "language_info": {
   "codemirror_mode": {
    "name": "ipython",
    "version": 3
   },
   "file_extension": ".py",
   "mimetype": "text/x-python",
   "name": "python",
   "nbconvert_exporter": "python",
   "pygments_lexer": "ipython3",
   "version": "3.9.7"
  }
 },
 "nbformat": 4,
 "nbformat_minor": 5
}
