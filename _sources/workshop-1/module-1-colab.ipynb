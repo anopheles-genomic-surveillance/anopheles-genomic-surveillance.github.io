{
 "cells": [
  {
   "cell_type": "markdown",
   "metadata": {
    "id": "09zg9pLwb_Mo"
   },
   "source": [
    "![banner](../banner.jpg)\n",
    "\n",
    "***[Workshop 1](about) - Training course in data analysis for genomic surveillance of African malaria vectors***\n",
    "\n",
    "---"
   ]
  },
  {
   "cell_type": "markdown",
   "metadata": {
    "id": "QPvqgYQHAfKF"
   },
   "source": [
    "# Module 1 - Interactive cloud computing with Google Colaboratory\n",
    "\n",
    "**Theme: Tools & Technology**\n",
    "\n",
    "This first technology module introduces Google Colaboratory (a.k.a. Colab), an interactive cloud computing service for data analysis, which we will be using for practical exercises throughout the course."
   ]
  },
  {
   "cell_type": "markdown",
   "metadata": {
    "id": "TOnaa1RkDDIB"
   },
   "source": [
    "## Learning objectives\n",
    "\n",
    "After completing this module, you will be able to:\n",
    "\n",
    "* Explain what colab is\n",
    "* Explain what a notebook is\n",
    "* Access Colab and use it to create and run notebooks\n",
    "* Edit notebooks and create code and text cells\n",
    "* Be familiar with some basic coding in Python\n",
    "* Import and install packages\n",
    "* Share Colab notebooks via Google Drive"
   ]
  },
  {
   "cell_type": "markdown",
   "metadata": {
    "id": "-JKyzOkc6xBI"
   },
   "source": [
    "## Lecture"
   ]
  },
  {
   "cell_type": "markdown",
   "metadata": {
    "id": "lVcQYAO56xBJ"
   },
   "source": [
    "### English"
   ]
  },
  {
   "cell_type": "code",
   "execution_count": 1,
   "metadata": {
    "colab": {
     "base_uri": "https://localhost:8080/",
     "height": 336
    },
    "id": "PAdLd3lB6xBL",
    "outputId": "3a466421-43cd-46f3-99e0-7dcbcd2878b5",
    "tags": [
     "remove-input"
    ]
   },
   "outputs": [
    {
     "data": {
      "text/html": [
       "<iframe width=\"560\" height=\"315\" src=\"https://www.youtube.com/embed/99PEyyJFzZ4\" title=\"YouTube video player\" frameborder=\"0\" allow=\"accelerometer; autoplay; clipboard-write; encrypted-media; gyroscope; picture-in-picture\" allowfullscreen></iframe>\n"
      ],
      "text/plain": [
       "<IPython.core.display.HTML object>"
      ]
     },
     "metadata": {},
     "output_type": "display_data"
    }
   ],
   "source": [
    "%%html\n",
    "<iframe width=\"560\" height=\"315\" src=\"https://www.youtube.com/embed/99PEyyJFzZ4\" title=\"YouTube video player\" frameborder=\"0\" allow=\"accelerometer; autoplay; clipboard-write; encrypted-media; gyroscope; picture-in-picture\" allowfullscreen></iframe>"
   ]
  },
  {
   "cell_type": "markdown",
   "metadata": {
    "id": "_DiEDV6K6xBQ"
   },
   "source": [
    "### Français"
   ]
  },
  {
   "cell_type": "code",
   "execution_count": 2,
   "metadata": {
    "colab": {
     "base_uri": "https://localhost:8080/",
     "height": 336
    },
    "id": "8s3zGws66xBS",
    "outputId": "8ff372a0-818c-4f9e-e96c-fe2a9e8de1ab",
    "scrolled": true,
    "tags": [
     "remove-input"
    ]
   },
   "outputs": [
    {
     "data": {
      "text/html": [
       "<iframe width=\"560\" height=\"315\" src=\"https://www.youtube.com/embed/QlgcbjrVUHs\" title=\"YouTube video player\" frameborder=\"0\" allow=\"accelerometer; autoplay; clipboard-write; encrypted-media; gyroscope; picture-in-picture\" allowfullscreen></iframe>\n"
      ],
      "text/plain": [
       "<IPython.core.display.HTML object>"
      ]
     },
     "metadata": {},
     "output_type": "display_data"
    }
   ],
   "source": [
    "%%html\n",
    "<iframe width=\"560\" height=\"315\" src=\"https://www.youtube.com/embed/QlgcbjrVUHs\" title=\"YouTube video player\" frameborder=\"0\" allow=\"accelerometer; autoplay; clipboard-write; encrypted-media; gyroscope; picture-in-picture\" allowfullscreen></iframe>"
   ]
  },
  {
   "cell_type": "markdown",
   "metadata": {},
   "source": [
    "Please note that the code in the cells below might differ from that shown in the video. This can happen because Python packages and their dependencies change due to updates, necessitating tweaks to the code."
   ]
  },
  {
   "cell_type": "markdown",
   "metadata": {
    "id": "FFwdnsOSD_hI"
   },
   "source": [
    "## What is Colab?\n",
    "\n",
    "Colab is an interactive cloud computing service provided for free by Google. To access Colab, visit the following address in your Web browser:\n",
    "\n",
    "* [https://colab.research.google.com](https://colab.research.google.com)\n",
    "\n",
    "To access Colab you will need a Google account. If you don't already have one, [create an account](https://accounts.google.com/SignUp) and then log in.\n",
    "\n",
    "Colab allows you to write and execute code using your Web browser. There are two important features of Colab that are very useful for data analysis:\n",
    "\n",
    "* **Interactive notebooks** - You can explore and analyse data one step at a time, by writing small pieces of code, running them, inspecting the results, and then writing further code. \n",
    "* **Cloud computing** - You can get access to computers hosted by Google and use them to run your code, without having to install any software or download any data onto your own computer.  "
   ]
  },
  {
   "cell_type": "markdown",
   "metadata": {
    "id": "JpsZnq9mDsTw"
   },
   "source": [
    "## What is a notebook?\n",
    "\n",
    "A notebook is an interactive, editable document that you can use to:\n",
    "\n",
    "* Write and execute code \n",
    "* Create plots, tables, written text and other types of content\n",
    "\n",
    "A notebook is built up from **cells**. There are two main types of cells in a notebook: **code cells** and **text cells**.\n"
   ]
  },
  {
   "cell_type": "markdown",
   "metadata": {
    "id": "Ge_jS8PZJTEK"
   },
   "source": [
    "## Code cells\n",
    "\n",
    "A code cell contains [Python code](https://www.python.org/). To add a code cell to your notebook, click the **`+ Code`** button at the top of the notebook.\n",
    "\n",
    "Below is an example code cell."
   ]
  },
  {
   "cell_type": "code",
   "execution_count": 3,
   "metadata": {
    "colab": {
     "base_uri": "https://localhost:8080/"
    },
    "id": "sTPWWaGdECK_",
    "outputId": "33322a3a-8c56-4313-dda7-f84553b6ff31",
    "tags": []
   },
   "outputs": [
    {
     "name": "stdout",
     "output_type": "stream",
     "text": [
      "Hello world!\n"
     ]
    }
   ],
   "source": [
    "print(\"Hello world!\")"
   ]
  },
  {
   "cell_type": "markdown",
   "metadata": {
    "id": "2rNDe9sEJia5"
   },
   "source": [
    "### Executing a code cell\n",
    "\n",
    "To execute a code cell, click on the **play icon** next to the cell. You can also type **Shift+Enter**, which will run the cell and move the focus to the next cell."
   ]
  },
  {
   "cell_type": "markdown",
   "metadata": {
    "id": "Q5DwRnvNKvRQ"
   },
   "source": [
    "### Cell output\n",
    "\n",
    "The code cell above uses the built-in `print` function, which prints the string `\"Hello world!\"` as output. If a code cell generates some output when it is run, the output is displayed below the cell.\n",
    "\n",
    "Cells do not always have output. For example, the code cell below declares a variable named `foo` and assigns the integer value `42`, but does not create an output."
   ]
  },
  {
   "cell_type": "code",
   "execution_count": 4,
   "metadata": {
    "id": "rh-0eJ5WKRAo",
    "tags": []
   },
   "outputs": [],
   "source": [
    "foo = 42"
   ]
  },
  {
   "cell_type": "markdown",
   "metadata": {
    "id": "-mvUD8sYKnly"
   },
   "source": [
    "### Inspecting a variable\n",
    "\n",
    "If you have declared a variable, such as `foo` in the code cell above, and you want to inspect its value, you can do this by writing a code cell where the variable is written on the last line."
   ]
  },
  {
   "cell_type": "code",
   "execution_count": 5,
   "metadata": {
    "colab": {
     "base_uri": "https://localhost:8080/"
    },
    "id": "ClhJT3ZaK8jr",
    "outputId": "98cd82b9-1e5c-4d9f-e35b-5077ca2c2153",
    "tags": []
   },
   "outputs": [
    {
     "data": {
      "text/plain": [
       "42"
      ]
     },
     "execution_count": 5,
     "metadata": {},
     "output_type": "execute_result"
    }
   ],
   "source": [
    "foo"
   ]
  },
  {
   "cell_type": "markdown",
   "metadata": {
    "id": "85ZduRtCK9ta"
   },
   "source": [
    "Running this code cell will print the value of the variable as the cell output. Let's try modifying this variable, and inspecting it again."
   ]
  },
  {
   "cell_type": "code",
   "execution_count": 6,
   "metadata": {
    "colab": {
     "base_uri": "https://localhost:8080/"
    },
    "id": "3dUmVSxyLGP_",
    "outputId": "dd780047-0024-4c97-f3ab-961b07863885",
    "tags": []
   },
   "outputs": [
    {
     "data": {
      "text/plain": [
       "43"
      ]
     },
     "execution_count": 6,
     "metadata": {},
     "output_type": "execute_result"
    }
   ],
   "source": [
    "foo = foo + 1\n",
    "foo"
   ]
  },
  {
   "cell_type": "markdown",
   "metadata": {
    "id": "6Z3vIIfLhY3u"
   },
   "source": [
    "It can also sometimes be useful to use the built-in `type()` function inspect what type of object has been assigned to a variable, e.g.:"
   ]
  },
  {
   "cell_type": "code",
   "execution_count": 7,
   "metadata": {
    "colab": {
     "base_uri": "https://localhost:8080/"
    },
    "id": "LramF1Wohebd",
    "outputId": "5839f0cf-54bc-41db-e766-1ee352f60e38",
    "tags": []
   },
   "outputs": [
    {
     "data": {
      "text/plain": [
       "int"
      ]
     },
     "execution_count": 7,
     "metadata": {},
     "output_type": "execute_result"
    }
   ],
   "source": [
    "type(foo)"
   ]
  },
  {
   "cell_type": "markdown",
   "metadata": {
    "id": "Q3swoV1CLLrT"
   },
   "source": [
    "## Text cells\n",
    "\n",
    "As well as code cells, you can also create text cells, which create text that you write, and can use different types of text formatting such as bold, italic, indented lists, hyperlinks and mathematical equations.\n",
    "\n",
    "To add a text cell to your notebook, click the **`+ Text`** button at the top of the notebook.\n",
    "\n",
    "To edit an existing text cell in a notebook, **double click** on the cell."
   ]
  },
  {
   "cell_type": "markdown",
   "metadata": {
    "id": "pPNPia5xNApP"
   },
   "source": [
    "### Formatting text\n",
    "\n",
    "Text cells can be formatted using a special syntax called **markdown**. \n",
    "\n",
    "Here is a quick summary of some useful markdown syntax for formatting text:\n",
    "\n",
    "Markdown syntax | Preview\n",
    "--- | ---\n",
    "`**bold text**` | **bold text**\n",
    "`*italicized text*` | *italicized text*\n",
    "`` `monospace text` `` | `Monospace`\n",
    "`[A link](https://en.wikipedia.org/wiki/Anopheles_gambiae)` | [A link](https://en.wikipedia.org/wiki/Anopheles_gambiae)"
   ]
  },
  {
   "cell_type": "markdown",
   "metadata": {
    "id": "ybXp7jCDOt98"
   },
   "source": [
    "\n",
    "### Creating lists\n",
    "\n",
    "Unordered lists can be created by putting each list item on a new line, starting with the `*` character, e.g.:\n",
    "\n",
    "```\n",
    "* A list item\n",
    "* Another list item\n",
    "* Yet another list item\n",
    "```\n",
    "\n",
    "Ordered lists can be created by starting each list item with `1.`, e.g.:\n",
    "\n",
    "```\n",
    "1. First item\n",
    "1. Second item\n",
    "1. Third item\n",
    "```"
   ]
  },
  {
   "cell_type": "markdown",
   "metadata": {
    "id": "szC-JV13OwpH"
   },
   "source": [
    "### Creating section headings\n",
    "\n",
    "To create a section heading within a notebook, begin a line of text with the `#` character. E.g.:\n",
    "\n",
    "```\n",
    "# This is a section heading\n",
    "```\n",
    "\n",
    "To create a sub-section heading, begin a line of text with `##`, E.g.:\n",
    "\n",
    "```\n",
    "## This is a sub-section heading\n",
    "```"
   ]
  },
  {
   "cell_type": "markdown",
   "metadata": {
    "id": "yecbLv7WNzvv"
   },
   "source": [
    "### Adding images\n",
    "\n",
    "You can include an image in a notebook, if the image is published on the Web and you know it's address. E.g., the markdown syntax below includes an image of an *Anopheles gambiae* mosquito available from [wikipedia](https://commons.wikimedia.org/wiki/File:AnophelesGambiaemosquito.jpg):\n",
    "\n",
    "```\n",
    "![Anopheles gambiae](https://upload.wikimedia.org/wikipedia/commons/0/0a/AnophelesGambiaemosquito.jpg)\n",
    "```\n",
    "\n",
    "Here is the image as it will appear in the notebook:\n",
    "\n",
    "![Anopheles gambiae](https://upload.wikimedia.org/wikipedia/commons/0/0a/AnophelesGambiaemosquito.jpg)\n"
   ]
  },
  {
   "cell_type": "markdown",
   "metadata": {
    "id": "wA7GGyY7QMVp"
   },
   "source": [
    "## Adding, moving and deleting cells\n",
    "\n",
    "A new cell can be added by using the **`+ Code`** and **`+ Text`** at the top of the notebook, or that show when you hover between cells.\n",
    "\n",
    "Cells can be moved within the notebook by clicking on the **up and down arrows** in the cell toolbar.\n",
    "\n",
    "A cell can be deleted by clicking the **dustbin icon** within the cell toolbar."
   ]
  },
  {
   "cell_type": "markdown",
   "metadata": {
    "id": "Pgh6vPWzhfsk"
   },
   "source": [
    "## Coding basics\n",
    "\n",
    "Here are a few examples of things you can do using Python code. For this course we don't expect you to be an experienced coder, but some familiarity with features like arithmetic, for loops and functions will be useful."
   ]
  },
  {
   "cell_type": "markdown",
   "metadata": {
    "id": "xQ71d_d4dvk2"
   },
   "source": [
    "### Math\n",
    "\n",
    "You can do arithmetic."
   ]
  },
  {
   "cell_type": "code",
   "execution_count": 8,
   "metadata": {
    "colab": {
     "base_uri": "https://localhost:8080/"
    },
    "id": "pwsHi0Hod_AV",
    "outputId": "61ef7ceb-db6e-4019-a308-f6563393fe6d",
    "tags": []
   },
   "outputs": [
    {
     "data": {
      "text/plain": [
       "42"
      ]
     },
     "execution_count": 8,
     "metadata": {},
     "output_type": "execute_result"
    }
   ],
   "source": [
    "x = 10\n",
    "y = 3 + (4 * x) - 1\n",
    "y"
   ]
  },
  {
   "cell_type": "markdown",
   "metadata": {
    "id": "xCw8S3HMeRMR"
   },
   "source": [
    "### For loops\n",
    "\n",
    "You can use a for loop to iterate over a sequence of values. E.g., you can iterative over a sequence of numbers using a for loop together with the built-in [`range()` function](https://docs.python.org/3.7/library/stdtypes.html#typesseq-range)."
   ]
  },
  {
   "cell_type": "code",
   "execution_count": 9,
   "metadata": {
    "colab": {
     "base_uri": "https://localhost:8080/"
    },
    "id": "dq79jxwjeSzx",
    "outputId": "98977a8c-3cad-4789-ca1d-c4b4042ee868",
    "tags": []
   },
   "outputs": [
    {
     "name": "stdout",
     "output_type": "stream",
     "text": [
      "0\n",
      "1\n",
      "2\n",
      "3\n",
      "4\n"
     ]
    }
   ],
   "source": [
    "for i in range(5):\n",
    "    print(i)"
   ]
  },
  {
   "cell_type": "markdown",
   "metadata": {
    "id": "uRJQN0B_dq9K"
   },
   "source": [
    "### Defining and calling functions\n",
    "\n",
    "You can organise your code into functions with parameters. E.g., here we define a function `greet()` with a single parameter `name`. "
   ]
  },
  {
   "cell_type": "code",
   "execution_count": 10,
   "metadata": {
    "id": "Jlc1NDFmdRiA",
    "tags": []
   },
   "outputs": [],
   "source": [
    "def greet(name):\n",
    "    print(f\"Hello {name}!\")"
   ]
  },
  {
   "cell_type": "markdown",
   "metadata": {
    "id": "EN0NnIZM6xBm"
   },
   "source": [
    "You can then call the function with different parameter values."
   ]
  },
  {
   "cell_type": "code",
   "execution_count": 11,
   "metadata": {
    "colab": {
     "base_uri": "https://localhost:8080/"
    },
    "id": "2lRMGm6NdYen",
    "outputId": "cf13253e-38dc-4467-accf-34d4d175e4f7",
    "tags": []
   },
   "outputs": [
    {
     "name": "stdout",
     "output_type": "stream",
     "text": [
      "Hello Mario Coluzzi!\n"
     ]
    }
   ],
   "source": [
    "greet(\"Mario Coluzzi\")"
   ]
  },
  {
   "cell_type": "code",
   "execution_count": 12,
   "metadata": {
    "colab": {
     "base_uri": "https://localhost:8080/"
    },
    "id": "mRJj59rG6xBn",
    "outputId": "2d7ffdc1-3276-48ab-f27b-8c9ed506ffd6",
    "tags": []
   },
   "outputs": [
    {
     "name": "stdout",
     "output_type": "stream",
     "text": [
      "Hello Ronald Ross!\n"
     ]
    }
   ],
   "source": [
    "greet(\"Ronald Ross\")"
   ]
  },
  {
   "cell_type": "markdown",
   "metadata": {
    "id": "bwAxxpvYRDKw"
   },
   "source": [
    "## Importing and installing Python packages\n",
    "\n",
    "Python packages are collections of functions that other people have already created, and which you can import into your notebook and use. \n",
    "\n",
    "There are some functions which are \"built-in\" to Python, like the `print()` and `range()` functions we've already seen, which are always available and you don't need to import.\n",
    "\n",
    "There are a lot more functions available as part of the [Python standard library](https://docs.python.org/3.11/library/), which will already be installed, but you do need to import them before you can use them.\n",
    "\n",
    "There are loads more functions available through \"third-party packages\" which are packages provided by other developers in the Python community. E.g., a very useful package for numerical computing is [NumPy](https://numpy.org/). On colab, numpy is already installed, and so you can just import it. By convention we abbreviate \"numpy\" to \"np\" just to reduce the amount of typing we have to do. "
   ]
  },
  {
   "cell_type": "code",
   "execution_count": 13,
   "metadata": {
    "id": "5kq8iET8ewpe",
    "tags": []
   },
   "outputs": [],
   "source": [
    "import numpy as np"
   ]
  },
  {
   "cell_type": "markdown",
   "metadata": {
    "id": "OTqJmw3D6xBp"
   },
   "source": [
    "Now that we've imported NumPy we can call functions. E.g., let's generate some random numbers using the [np.random.randint()](https://numpy.org/doc/stable/reference/random/generated/numpy.random.randint.html) function."
   ]
  },
  {
   "cell_type": "code",
   "execution_count": 14,
   "metadata": {
    "colab": {
     "base_uri": "https://localhost:8080/"
    },
    "id": "udVhR9jJfJTW",
    "outputId": "b5da1b45-99f1-4e20-85f1-87921d79feec",
    "tags": []
   },
   "outputs": [
    {
     "data": {
      "text/plain": [
       "array([20, 66, 27, 43, 87, 16, 66,  7, 14, 50])"
      ]
     },
     "execution_count": 14,
     "metadata": {},
     "output_type": "execute_result"
    }
   ],
   "source": [
    "y = np.random.randint(low=0, high=100, size=10)\n",
    "y"
   ]
  },
  {
   "cell_type": "markdown",
   "metadata": {
    "id": "c0STeqKU6xBp"
   },
   "source": [
    "Some third-party packages are not pre-installed on colab, and so you need to install them. Installing packages can be done with the special `%pip` command. E.g., let's installed the [malariagen_data](https://github.com/malariagen/malariagen-data-python) package."
   ]
  },
  {
   "cell_type": "code",
   "execution_count": 15,
   "metadata": {
    "colab": {
     "base_uri": "https://localhost:8080/"
    },
    "id": "u_38N9g4I6jF",
    "outputId": "d827cc11-5c5c-4416-8508-903ff1473aaa",
    "tags": []
   },
   "outputs": [],
   "source": [
    "%pip install -q --no-warn-conflicts malariagen_data"
   ]
  },
  {
   "cell_type": "markdown",
   "metadata": {
    "id": "Tror3nEM6xBq"
   },
   "source": [
    "Once it's installed, we can import it like we did for numpy."
   ]
  },
  {
   "cell_type": "code",
   "execution_count": 16,
   "metadata": {
    "colab": {
     "base_uri": "https://localhost:8080/"
    },
    "id": "ZhGji1ZygB_9",
    "outputId": "4befa399-53a2-42f9-d8b1-c14a419258fa",
    "tags": []
   },
   "outputs": [],
   "source": [
    "import malariagen_data"
   ]
  },
  {
   "cell_type": "markdown",
   "metadata": {
    "id": "OhNexc5i6xBq"
   },
   "source": [
    "And we can start using the package to set up access to some data.\n",
    "Note that authentication is required to access data through the package, please follow the instructions [here](https://malariagen.github.io/vector-data/vobs/vobs-data-access.html)."
   ]
  },
  {
   "cell_type": "code",
   "execution_count": 17,
   "metadata": {
    "colab": {
     "base_uri": "https://localhost:8080/",
     "height": 168
    },
    "id": "-GGTroWDgHuQ",
    "outputId": "d27c3a1d-1225-4916-81ef-33c6340f9819",
    "tags": []
   },
   "outputs": [
    {
     "data": {
      "application/javascript": [
       "'use strict';\n",
       "(function(root) {\n",
       "  function now() {\n",
       "    return new Date();\n",
       "  }\n",
       "\n",
       "  const force = true;\n",
       "\n",
       "  if (typeof root._bokeh_onload_callbacks === \"undefined\" || force === true) {\n",
       "    root._bokeh_onload_callbacks = [];\n",
       "    root._bokeh_is_loading = undefined;\n",
       "  }\n",
       "\n",
       "const JS_MIME_TYPE = 'application/javascript';\n",
       "  const HTML_MIME_TYPE = 'text/html';\n",
       "  const EXEC_MIME_TYPE = 'application/vnd.bokehjs_exec.v0+json';\n",
       "  const CLASS_NAME = 'output_bokeh rendered_html';\n",
       "\n",
       "  /**\n",
       "   * Render data to the DOM node\n",
       "   */\n",
       "  function render(props, node) {\n",
       "    const script = document.createElement(\"script\");\n",
       "    node.appendChild(script);\n",
       "  }\n",
       "\n",
       "  /**\n",
       "   * Handle when an output is cleared or removed\n",
       "   */\n",
       "  function handleClearOutput(event, handle) {\n",
       "    function drop(id) {\n",
       "      const view = Bokeh.index.get_by_id(id)\n",
       "      if (view != null) {\n",
       "        view.model.document.clear()\n",
       "        Bokeh.index.delete(view)\n",
       "      }\n",
       "    }\n",
       "\n",
       "    const cell = handle.cell;\n",
       "\n",
       "    const id = cell.output_area._bokeh_element_id;\n",
       "    const server_id = cell.output_area._bokeh_server_id;\n",
       "\n",
       "    // Clean up Bokeh references\n",
       "    if (id != null) {\n",
       "      drop(id)\n",
       "    }\n",
       "\n",
       "    if (server_id !== undefined) {\n",
       "      // Clean up Bokeh references\n",
       "      const cmd_clean = \"from bokeh.io.state import curstate; print(curstate().uuid_to_server['\" + server_id + \"'].get_sessions()[0].document.roots[0]._id)\";\n",
       "      cell.notebook.kernel.execute(cmd_clean, {\n",
       "        iopub: {\n",
       "          output: function(msg) {\n",
       "            const id = msg.content.text.trim()\n",
       "            drop(id)\n",
       "          }\n",
       "        }\n",
       "      });\n",
       "      // Destroy server and session\n",
       "      const cmd_destroy = \"import bokeh.io.notebook as ion; ion.destroy_server('\" + server_id + \"')\";\n",
       "      cell.notebook.kernel.execute(cmd_destroy);\n",
       "    }\n",
       "  }\n",
       "\n",
       "  /**\n",
       "   * Handle when a new output is added\n",
       "   */\n",
       "  function handleAddOutput(event, handle) {\n",
       "    const output_area = handle.output_area;\n",
       "    const output = handle.output;\n",
       "\n",
       "    // limit handleAddOutput to display_data with EXEC_MIME_TYPE content only\n",
       "    if ((output.output_type != \"display_data\") || (!Object.prototype.hasOwnProperty.call(output.data, EXEC_MIME_TYPE))) {\n",
       "      return\n",
       "    }\n",
       "\n",
       "    const toinsert = output_area.element.find(\".\" + CLASS_NAME.split(' ')[0]);\n",
       "\n",
       "    if (output.metadata[EXEC_MIME_TYPE][\"id\"] !== undefined) {\n",
       "      toinsert[toinsert.length - 1].firstChild.textContent = output.data[JS_MIME_TYPE];\n",
       "      // store reference to embed id on output_area\n",
       "      output_area._bokeh_element_id = output.metadata[EXEC_MIME_TYPE][\"id\"];\n",
       "    }\n",
       "    if (output.metadata[EXEC_MIME_TYPE][\"server_id\"] !== undefined) {\n",
       "      const bk_div = document.createElement(\"div\");\n",
       "      bk_div.innerHTML = output.data[HTML_MIME_TYPE];\n",
       "      const script_attrs = bk_div.children[0].attributes;\n",
       "      for (let i = 0; i < script_attrs.length; i++) {\n",
       "        toinsert[toinsert.length - 1].firstChild.setAttribute(script_attrs[i].name, script_attrs[i].value);\n",
       "        toinsert[toinsert.length - 1].firstChild.textContent = bk_div.children[0].textContent\n",
       "      }\n",
       "      // store reference to server id on output_area\n",
       "      output_area._bokeh_server_id = output.metadata[EXEC_MIME_TYPE][\"server_id\"];\n",
       "    }\n",
       "  }\n",
       "\n",
       "  function register_renderer(events, OutputArea) {\n",
       "\n",
       "    function append_mime(data, metadata, element) {\n",
       "      // create a DOM node to render to\n",
       "      const toinsert = this.create_output_subarea(\n",
       "        metadata,\n",
       "        CLASS_NAME,\n",
       "        EXEC_MIME_TYPE\n",
       "      );\n",
       "      this.keyboard_manager.register_events(toinsert);\n",
       "      // Render to node\n",
       "      const props = {data: data, metadata: metadata[EXEC_MIME_TYPE]};\n",
       "      render(props, toinsert[toinsert.length - 1]);\n",
       "      element.append(toinsert);\n",
       "      return toinsert\n",
       "    }\n",
       "\n",
       "    /* Handle when an output is cleared or removed */\n",
       "    events.on('clear_output.CodeCell', handleClearOutput);\n",
       "    events.on('delete.Cell', handleClearOutput);\n",
       "\n",
       "    /* Handle when a new output is added */\n",
       "    events.on('output_added.OutputArea', handleAddOutput);\n",
       "\n",
       "    /**\n",
       "     * Register the mime type and append_mime function with output_area\n",
       "     */\n",
       "    OutputArea.prototype.register_mime_type(EXEC_MIME_TYPE, append_mime, {\n",
       "      /* Is output safe? */\n",
       "      safe: true,\n",
       "      /* Index of renderer in `output_area.display_order` */\n",
       "      index: 0\n",
       "    });\n",
       "  }\n",
       "\n",
       "  // register the mime type if in Jupyter Notebook environment and previously unregistered\n",
       "  if (root.Jupyter !== undefined) {\n",
       "    const events = require('base/js/events');\n",
       "    const OutputArea = require('notebook/js/outputarea').OutputArea;\n",
       "\n",
       "    if (OutputArea.prototype.mime_types().indexOf(EXEC_MIME_TYPE) == -1) {\n",
       "      register_renderer(events, OutputArea);\n",
       "    }\n",
       "  }\n",
       "  if (typeof (root._bokeh_timeout) === \"undefined\" || force === true) {\n",
       "    root._bokeh_timeout = Date.now() + 5000;\n",
       "    root._bokeh_failed_load = false;\n",
       "  }\n",
       "\n",
       "  const NB_LOAD_WARNING = {'data': {'text/html':\n",
       "     \"<div style='background-color: #fdd'>\\n\"+\n",
       "     \"<p>\\n\"+\n",
       "     \"BokehJS does not appear to have successfully loaded. If loading BokehJS from CDN, this \\n\"+\n",
       "     \"may be due to a slow or bad network connection. Possible fixes:\\n\"+\n",
       "     \"</p>\\n\"+\n",
       "     \"<ul>\\n\"+\n",
       "     \"<li>re-rerun `output_notebook()` to attempt to load from CDN again, or</li>\\n\"+\n",
       "     \"<li>use INLINE resources instead, as so:</li>\\n\"+\n",
       "     \"</ul>\\n\"+\n",
       "     \"<code>\\n\"+\n",
       "     \"from bokeh.resources import INLINE\\n\"+\n",
       "     \"output_notebook(resources=INLINE)\\n\"+\n",
       "     \"</code>\\n\"+\n",
       "     \"</div>\"}};\n",
       "\n",
       "  function display_loaded(error = null) {\n",
       "    const el = document.getElementById(null);\n",
       "    if (el != null) {\n",
       "      const html = (() => {\n",
       "        if (typeof root.Bokeh === \"undefined\") {\n",
       "          if (error == null) {\n",
       "            return \"BokehJS is loading ...\";\n",
       "          } else {\n",
       "            return \"BokehJS failed to load.\";\n",
       "          }\n",
       "        } else {\n",
       "          const prefix = `BokehJS ${root.Bokeh.version}`;\n",
       "          if (error == null) {\n",
       "            return `${prefix} successfully loaded.`;\n",
       "          } else {\n",
       "            return `${prefix} <b>encountered errors</b> while loading and may not function as expected.`;\n",
       "          }\n",
       "        }\n",
       "      })();\n",
       "      el.innerHTML = html;\n",
       "\n",
       "      if (error != null) {\n",
       "        const wrapper = document.createElement(\"div\");\n",
       "        wrapper.style.overflow = \"auto\";\n",
       "        wrapper.style.height = \"5em\";\n",
       "        wrapper.style.resize = \"vertical\";\n",
       "        const content = document.createElement(\"div\");\n",
       "        content.style.fontFamily = \"monospace\";\n",
       "        content.style.whiteSpace = \"pre-wrap\";\n",
       "        content.style.backgroundColor = \"rgb(255, 221, 221)\";\n",
       "        content.textContent = error.stack ?? error.toString();\n",
       "        wrapper.append(content);\n",
       "        el.append(wrapper);\n",
       "      }\n",
       "    } else if (Date.now() < root._bokeh_timeout) {\n",
       "      setTimeout(() => display_loaded(error), 100);\n",
       "    }\n",
       "  }\n",
       "\n",
       "  function run_callbacks() {\n",
       "    try {\n",
       "      root._bokeh_onload_callbacks.forEach(function(callback) {\n",
       "        if (callback != null)\n",
       "          callback();\n",
       "      });\n",
       "    } finally {\n",
       "      delete root._bokeh_onload_callbacks\n",
       "    }\n",
       "    console.debug(\"Bokeh: all callbacks have finished\");\n",
       "  }\n",
       "\n",
       "  function load_libs(css_urls, js_urls, callback) {\n",
       "    if (css_urls == null) css_urls = [];\n",
       "    if (js_urls == null) js_urls = [];\n",
       "\n",
       "    root._bokeh_onload_callbacks.push(callback);\n",
       "    if (root._bokeh_is_loading > 0) {\n",
       "      console.debug(\"Bokeh: BokehJS is being loaded, scheduling callback at\", now());\n",
       "      return null;\n",
       "    }\n",
       "    if (js_urls == null || js_urls.length === 0) {\n",
       "      run_callbacks();\n",
       "      return null;\n",
       "    }\n",
       "    console.debug(\"Bokeh: BokehJS not loaded, scheduling load and callback at\", now());\n",
       "    root._bokeh_is_loading = css_urls.length + js_urls.length;\n",
       "\n",
       "    function on_load() {\n",
       "      root._bokeh_is_loading--;\n",
       "      if (root._bokeh_is_loading === 0) {\n",
       "        console.debug(\"Bokeh: all BokehJS libraries/stylesheets loaded\");\n",
       "        run_callbacks()\n",
       "      }\n",
       "    }\n",
       "\n",
       "    function on_error(url) {\n",
       "      console.error(\"failed to load \" + url);\n",
       "    }\n",
       "\n",
       "    for (let i = 0; i < css_urls.length; i++) {\n",
       "      const url = css_urls[i];\n",
       "      const element = document.createElement(\"link\");\n",
       "      element.onload = on_load;\n",
       "      element.onerror = on_error.bind(null, url);\n",
       "      element.rel = \"stylesheet\";\n",
       "      element.type = \"text/css\";\n",
       "      element.href = url;\n",
       "      console.debug(\"Bokeh: injecting link tag for BokehJS stylesheet: \", url);\n",
       "      document.body.appendChild(element);\n",
       "    }\n",
       "\n",
       "    for (let i = 0; i < js_urls.length; i++) {\n",
       "      const url = js_urls[i];\n",
       "      const element = document.createElement('script');\n",
       "      element.onload = on_load;\n",
       "      element.onerror = on_error.bind(null, url);\n",
       "      element.async = false;\n",
       "      element.src = url;\n",
       "      console.debug(\"Bokeh: injecting script tag for BokehJS library: \", url);\n",
       "      document.head.appendChild(element);\n",
       "    }\n",
       "  };\n",
       "\n",
       "  function inject_raw_css(css) {\n",
       "    const element = document.createElement(\"style\");\n",
       "    element.appendChild(document.createTextNode(css));\n",
       "    document.body.appendChild(element);\n",
       "  }\n",
       "\n",
       "  const js_urls = [\"https://cdn.bokeh.org/bokeh/release/bokeh-3.7.0.min.js\", \"https://cdn.bokeh.org/bokeh/release/bokeh-gl-3.7.0.min.js\", \"https://cdn.bokeh.org/bokeh/release/bokeh-widgets-3.7.0.min.js\", \"https://cdn.bokeh.org/bokeh/release/bokeh-tables-3.7.0.min.js\", \"https://cdn.bokeh.org/bokeh/release/bokeh-mathjax-3.7.0.min.js\"];\n",
       "  const css_urls = [];\n",
       "\n",
       "  const inline_js = [    function(Bokeh) {\n",
       "      Bokeh.set_log_level(\"info\");\n",
       "    },\n",
       "function(Bokeh) {\n",
       "    }\n",
       "  ];\n",
       "\n",
       "  function run_inline_js() {\n",
       "    if (root.Bokeh !== undefined || force === true) {\n",
       "      try {\n",
       "            for (let i = 0; i < inline_js.length; i++) {\n",
       "      inline_js[i].call(root, root.Bokeh);\n",
       "    }\n",
       "\n",
       "      } catch (error) {throw error;\n",
       "      }} else if (Date.now() < root._bokeh_timeout) {\n",
       "      setTimeout(run_inline_js, 100);\n",
       "    } else if (!root._bokeh_failed_load) {\n",
       "      console.log(\"Bokeh: BokehJS failed to load within specified timeout.\");\n",
       "      root._bokeh_failed_load = true;\n",
       "    } else if (force !== true) {\n",
       "      const cell = $(document.getElementById(null)).parents('.cell').data().cell;\n",
       "      cell.output_area.append_execute_result(NB_LOAD_WARNING)\n",
       "    }\n",
       "  }\n",
       "\n",
       "  if (root._bokeh_is_loading === 0) {\n",
       "    console.debug(\"Bokeh: BokehJS loaded, going straight to plotting\");\n",
       "    run_inline_js();\n",
       "  } else {\n",
       "    load_libs(css_urls, js_urls, function() {\n",
       "      console.debug(\"Bokeh: BokehJS plotting callback run at\", now());\n",
       "      run_inline_js();\n",
       "    });\n",
       "  }\n",
       "}(window));"
      ],
      "application/vnd.bokehjs_load.v0+json": "'use strict';\n(function(root) {\n  function now() {\n    return new Date();\n  }\n\n  const force = true;\n\n  if (typeof root._bokeh_onload_callbacks === \"undefined\" || force === true) {\n    root._bokeh_onload_callbacks = [];\n    root._bokeh_is_loading = undefined;\n  }\n\n\n  if (typeof (root._bokeh_timeout) === \"undefined\" || force === true) {\n    root._bokeh_timeout = Date.now() + 5000;\n    root._bokeh_failed_load = false;\n  }\n\n  const NB_LOAD_WARNING = {'data': {'text/html':\n     \"<div style='background-color: #fdd'>\\n\"+\n     \"<p>\\n\"+\n     \"BokehJS does not appear to have successfully loaded. If loading BokehJS from CDN, this \\n\"+\n     \"may be due to a slow or bad network connection. Possible fixes:\\n\"+\n     \"</p>\\n\"+\n     \"<ul>\\n\"+\n     \"<li>re-rerun `output_notebook()` to attempt to load from CDN again, or</li>\\n\"+\n     \"<li>use INLINE resources instead, as so:</li>\\n\"+\n     \"</ul>\\n\"+\n     \"<code>\\n\"+\n     \"from bokeh.resources import INLINE\\n\"+\n     \"output_notebook(resources=INLINE)\\n\"+\n     \"</code>\\n\"+\n     \"</div>\"}};\n\n  function display_loaded(error = null) {\n    const el = document.getElementById(null);\n    if (el != null) {\n      const html = (() => {\n        if (typeof root.Bokeh === \"undefined\") {\n          if (error == null) {\n            return \"BokehJS is loading ...\";\n          } else {\n            return \"BokehJS failed to load.\";\n          }\n        } else {\n          const prefix = `BokehJS ${root.Bokeh.version}`;\n          if (error == null) {\n            return `${prefix} successfully loaded.`;\n          } else {\n            return `${prefix} <b>encountered errors</b> while loading and may not function as expected.`;\n          }\n        }\n      })();\n      el.innerHTML = html;\n\n      if (error != null) {\n        const wrapper = document.createElement(\"div\");\n        wrapper.style.overflow = \"auto\";\n        wrapper.style.height = \"5em\";\n        wrapper.style.resize = \"vertical\";\n        const content = document.createElement(\"div\");\n        content.style.fontFamily = \"monospace\";\n        content.style.whiteSpace = \"pre-wrap\";\n        content.style.backgroundColor = \"rgb(255, 221, 221)\";\n        content.textContent = error.stack ?? error.toString();\n        wrapper.append(content);\n        el.append(wrapper);\n      }\n    } else if (Date.now() < root._bokeh_timeout) {\n      setTimeout(() => display_loaded(error), 100);\n    }\n  }\n\n  function run_callbacks() {\n    try {\n      root._bokeh_onload_callbacks.forEach(function(callback) {\n        if (callback != null)\n          callback();\n      });\n    } finally {\n      delete root._bokeh_onload_callbacks\n    }\n    console.debug(\"Bokeh: all callbacks have finished\");\n  }\n\n  function load_libs(css_urls, js_urls, callback) {\n    if (css_urls == null) css_urls = [];\n    if (js_urls == null) js_urls = [];\n\n    root._bokeh_onload_callbacks.push(callback);\n    if (root._bokeh_is_loading > 0) {\n      console.debug(\"Bokeh: BokehJS is being loaded, scheduling callback at\", now());\n      return null;\n    }\n    if (js_urls == null || js_urls.length === 0) {\n      run_callbacks();\n      return null;\n    }\n    console.debug(\"Bokeh: BokehJS not loaded, scheduling load and callback at\", now());\n    root._bokeh_is_loading = css_urls.length + js_urls.length;\n\n    function on_load() {\n      root._bokeh_is_loading--;\n      if (root._bokeh_is_loading === 0) {\n        console.debug(\"Bokeh: all BokehJS libraries/stylesheets loaded\");\n        run_callbacks()\n      }\n    }\n\n    function on_error(url) {\n      console.error(\"failed to load \" + url);\n    }\n\n    for (let i = 0; i < css_urls.length; i++) {\n      const url = css_urls[i];\n      const element = document.createElement(\"link\");\n      element.onload = on_load;\n      element.onerror = on_error.bind(null, url);\n      element.rel = \"stylesheet\";\n      element.type = \"text/css\";\n      element.href = url;\n      console.debug(\"Bokeh: injecting link tag for BokehJS stylesheet: \", url);\n      document.body.appendChild(element);\n    }\n\n    for (let i = 0; i < js_urls.length; i++) {\n      const url = js_urls[i];\n      const element = document.createElement('script');\n      element.onload = on_load;\n      element.onerror = on_error.bind(null, url);\n      element.async = false;\n      element.src = url;\n      console.debug(\"Bokeh: injecting script tag for BokehJS library: \", url);\n      document.head.appendChild(element);\n    }\n  };\n\n  function inject_raw_css(css) {\n    const element = document.createElement(\"style\");\n    element.appendChild(document.createTextNode(css));\n    document.body.appendChild(element);\n  }\n\n  const js_urls = [\"https://cdn.bokeh.org/bokeh/release/bokeh-3.7.0.min.js\", \"https://cdn.bokeh.org/bokeh/release/bokeh-gl-3.7.0.min.js\", \"https://cdn.bokeh.org/bokeh/release/bokeh-widgets-3.7.0.min.js\", \"https://cdn.bokeh.org/bokeh/release/bokeh-tables-3.7.0.min.js\", \"https://cdn.bokeh.org/bokeh/release/bokeh-mathjax-3.7.0.min.js\"];\n  const css_urls = [];\n\n  const inline_js = [    function(Bokeh) {\n      Bokeh.set_log_level(\"info\");\n    },\nfunction(Bokeh) {\n    }\n  ];\n\n  function run_inline_js() {\n    if (root.Bokeh !== undefined || force === true) {\n      try {\n            for (let i = 0; i < inline_js.length; i++) {\n      inline_js[i].call(root, root.Bokeh);\n    }\n\n      } catch (error) {throw error;\n      }} else if (Date.now() < root._bokeh_timeout) {\n      setTimeout(run_inline_js, 100);\n    } else if (!root._bokeh_failed_load) {\n      console.log(\"Bokeh: BokehJS failed to load within specified timeout.\");\n      root._bokeh_failed_load = true;\n    } else if (force !== true) {\n      const cell = $(document.getElementById(null)).parents('.cell').data().cell;\n      cell.output_area.append_execute_result(NB_LOAD_WARNING)\n    }\n  }\n\n  if (root._bokeh_is_loading === 0) {\n    console.debug(\"Bokeh: BokehJS loaded, going straight to plotting\");\n    run_inline_js();\n  } else {\n    load_libs(css_urls, js_urls, function() {\n      console.debug(\"Bokeh: BokehJS plotting callback run at\", now());\n      run_inline_js();\n    });\n  }\n}(window));"
     },
     "metadata": {},
     "output_type": "display_data"
    },
    {
     "data": {
      "text/html": [
       "\n",
       "            <table class=\"malariagen-ag3\">\n",
       "                <thead>\n",
       "                    <tr>\n",
       "                        <th style=\"text-align: left\" colspan=\"2\">MalariaGEN Ag3 API client</th>\n",
       "                    </tr>\n",
       "                    <tr><td colspan=\"2\" style=\"text-align: left\">\n",
       "                        Please note that data are subject to terms of use,\n",
       "                        for more information see <a href=\"https://www.malariagen.net/data\">\n",
       "                        the MalariaGEN website</a> or contact support@malariagen.net.\n",
       "                        See also the <a href=\"https://malariagen.github.io/malariagen-data-python/v15.0.1/Ag3.html\">Ag3 API docs</a>.\n",
       "                    </td></tr>\n",
       "                </thead>\n",
       "                <tbody>\n",
       "                    <tr>\n",
       "                        <th style=\"text-align: left\">\n",
       "                            Storage URL\n",
       "                        </th>\n",
       "                        <td>gs://vo_agam_release_master_us_central1</td>\n",
       "                    </tr>\n",
       "                    <tr>\n",
       "                        <th style=\"text-align: left\">\n",
       "                            Data releases available\n",
       "                        </th>\n",
       "                        <td>3.0, 3.1, 3.2, 3.3, 3.4, 3.5, 3.6, 3.7, 3.8, 3.9, 3.10, 3.11, 3.12, 3.13, 3.14</td>\n",
       "                    </tr>\n",
       "                    <tr>\n",
       "                        <th style=\"text-align: left\">\n",
       "                            Results cache\n",
       "                        </th>\n",
       "                        <td>None</td>\n",
       "                    </tr>\n",
       "                    <tr>\n",
       "                        <th style=\"text-align: left\">\n",
       "                            Cohorts analysis\n",
       "                        </th>\n",
       "                        <td>20250131</td>\n",
       "                    </tr>\n",
       "                    <tr>\n",
       "                        <th style=\"text-align: left\">\n",
       "                            AIM analysis\n",
       "                        </th>\n",
       "                        <td>20220528</td>\n",
       "                    </tr>\n",
       "                    <tr>\n",
       "                        <th style=\"text-align: left\">\n",
       "                            Site filters analysis\n",
       "                        </th>\n",
       "                        <td>dt_20200416</td>\n",
       "                    </tr>\n",
       "                    <tr>\n",
       "                        <th style=\"text-align: left\">\n",
       "                            Software version\n",
       "                        </th>\n",
       "                        <td>malariagen_data 15.0.1</td>\n",
       "                    </tr>\n",
       "                    <tr>\n",
       "                        <th style=\"text-align: left\">\n",
       "                            Client location\n",
       "                        </th>\n",
       "                        <td>Iowa, United States (Google Cloud us-central1)</td>\n",
       "                    </tr>\n",
       "                </tbody>\n",
       "            </table>\n",
       "        "
      ],
      "text/plain": [
       "<MalariaGEN Ag3 API client>\n",
       "Storage URL             : gs://vo_agam_release_master_us_central1\n",
       "Data releases available : 3.0, 3.1, 3.2, 3.3, 3.4, 3.5, 3.6, 3.7, 3.8, 3.9, 3.10, 3.11, 3.12, 3.13, 3.14\n",
       "Results cache           : None\n",
       "Cohorts analysis        : 20250131\n",
       "AIM analysis            : 20220528\n",
       "Site filters analysis   : dt_20200416\n",
       "Software version        : malariagen_data 15.0.1\n",
       "Client location         : Iowa, United States (Google Cloud us-central1)\n",
       "---\n",
       "Please note that data are subject to terms of use,\n",
       "for more information see https://www.malariagen.net/data\n",
       "or contact support@malariagen.net. For API documentation see \n",
       "https://malariagen.github.io/malariagen-data-python/v15.0.1/Ag3.html"
      ]
     },
     "execution_count": 17,
     "metadata": {},
     "output_type": "execute_result"
    }
   ],
   "source": [
    "ag3 = malariagen_data.Ag3()\n",
    "ag3"
   ]
  },
  {
   "cell_type": "markdown",
   "metadata": {
    "id": "5pqoYxbLS2qQ"
   },
   "source": [
    "## Viewing dataframes\n",
    "\n",
    "Often when analysing data you will work with [pandas DataFrames](https://pandas.pydata.org/pandas-docs/stable/user_guide/dsintro.html#dataframe), which are tables of data organised into rows and columns. We will look at DataFrames in more detail later in the course, but for now it's useful to know that you can get a preview of the data in a DataFrame.\n",
    "\n",
    "E.g., if we call the `sample_metadata()` function below, this returns a DataFrame."
   ]
  },
  {
   "cell_type": "code",
   "execution_count": 38,
   "metadata": {
    "id": "lI6zJymMgNA_",
    "tags": []
   },
   "outputs": [
    {
     "data": {
      "text/plain": [
       "pandas.core.frame.DataFrame"
      ]
     },
     "execution_count": 38,
     "metadata": {},
     "output_type": "execute_result"
    }
   ],
   "source": [
    "df_samples = ag3.sample_metadata(sample_sets=\"3.0\")\n",
    "type(df_samples)"
   ]
  },
  {
   "cell_type": "markdown",
   "metadata": {
    "id": "iDir_Rfk6xBs"
   },
   "source": [
    "If we now inspect the value of this variable, we get a preview of the data in the DataFrame, showing the first five rows and the last five rows."
   ]
  },
  {
   "cell_type": "code",
   "execution_count": 20,
   "metadata": {
    "colab": {
     "base_uri": "https://localhost:8080/",
     "height": 661
    },
    "id": "ceEI6R2EhQHd",
    "outputId": "63baa183-1f6b-4e56-91f1-664f2400e6c4",
    "tags": []
   },
   "outputs": [
    {
     "data": {
      "text/html": [
       "<div>\n",
       "<style scoped>\n",
       "    .dataframe tbody tr th:only-of-type {\n",
       "        vertical-align: middle;\n",
       "    }\n",
       "\n",
       "    .dataframe tbody tr th {\n",
       "        vertical-align: top;\n",
       "    }\n",
       "\n",
       "    .dataframe thead th {\n",
       "        text-align: right;\n",
       "    }\n",
       "</style>\n",
       "<table border=\"1\" class=\"dataframe\">\n",
       "  <thead>\n",
       "    <tr style=\"text-align: right;\">\n",
       "      <th></th>\n",
       "      <th>sample_id</th>\n",
       "      <th>partner_sample_id</th>\n",
       "      <th>contributor</th>\n",
       "      <th>country</th>\n",
       "      <th>location</th>\n",
       "      <th>year</th>\n",
       "      <th>month</th>\n",
       "      <th>latitude</th>\n",
       "      <th>longitude</th>\n",
       "      <th>sex_call</th>\n",
       "      <th>...</th>\n",
       "      <th>admin1_name</th>\n",
       "      <th>admin1_iso</th>\n",
       "      <th>admin2_name</th>\n",
       "      <th>taxon</th>\n",
       "      <th>cohort_admin1_year</th>\n",
       "      <th>cohort_admin1_month</th>\n",
       "      <th>cohort_admin1_quarter</th>\n",
       "      <th>cohort_admin2_year</th>\n",
       "      <th>cohort_admin2_month</th>\n",
       "      <th>cohort_admin2_quarter</th>\n",
       "    </tr>\n",
       "  </thead>\n",
       "  <tbody>\n",
       "    <tr>\n",
       "      <th>0</th>\n",
       "      <td>AR0047-C</td>\n",
       "      <td>LUA047</td>\n",
       "      <td>Joao Pinto</td>\n",
       "      <td>Angola</td>\n",
       "      <td>Luanda</td>\n",
       "      <td>2009</td>\n",
       "      <td>4</td>\n",
       "      <td>-8.884</td>\n",
       "      <td>13.302</td>\n",
       "      <td>F</td>\n",
       "      <td>...</td>\n",
       "      <td>Luanda</td>\n",
       "      <td>AO-LUA</td>\n",
       "      <td>Luanda</td>\n",
       "      <td>coluzzii</td>\n",
       "      <td>AO-LUA_colu_2009</td>\n",
       "      <td>AO-LUA_colu_2009_04</td>\n",
       "      <td>AO-LUA_colu_2009_Q2</td>\n",
       "      <td>AO-LUA_Luanda_colu_2009</td>\n",
       "      <td>AO-LUA_Luanda_colu_2009_04</td>\n",
       "      <td>AO-LUA_Luanda_colu_2009_Q2</td>\n",
       "    </tr>\n",
       "    <tr>\n",
       "      <th>1</th>\n",
       "      <td>AR0049-C</td>\n",
       "      <td>LUA049</td>\n",
       "      <td>Joao Pinto</td>\n",
       "      <td>Angola</td>\n",
       "      <td>Luanda</td>\n",
       "      <td>2009</td>\n",
       "      <td>4</td>\n",
       "      <td>-8.884</td>\n",
       "      <td>13.302</td>\n",
       "      <td>F</td>\n",
       "      <td>...</td>\n",
       "      <td>Luanda</td>\n",
       "      <td>AO-LUA</td>\n",
       "      <td>Luanda</td>\n",
       "      <td>coluzzii</td>\n",
       "      <td>AO-LUA_colu_2009</td>\n",
       "      <td>AO-LUA_colu_2009_04</td>\n",
       "      <td>AO-LUA_colu_2009_Q2</td>\n",
       "      <td>AO-LUA_Luanda_colu_2009</td>\n",
       "      <td>AO-LUA_Luanda_colu_2009_04</td>\n",
       "      <td>AO-LUA_Luanda_colu_2009_Q2</td>\n",
       "    </tr>\n",
       "    <tr>\n",
       "      <th>2</th>\n",
       "      <td>AR0051-C</td>\n",
       "      <td>LUA051</td>\n",
       "      <td>Joao Pinto</td>\n",
       "      <td>Angola</td>\n",
       "      <td>Luanda</td>\n",
       "      <td>2009</td>\n",
       "      <td>4</td>\n",
       "      <td>-8.884</td>\n",
       "      <td>13.302</td>\n",
       "      <td>F</td>\n",
       "      <td>...</td>\n",
       "      <td>Luanda</td>\n",
       "      <td>AO-LUA</td>\n",
       "      <td>Luanda</td>\n",
       "      <td>coluzzii</td>\n",
       "      <td>AO-LUA_colu_2009</td>\n",
       "      <td>AO-LUA_colu_2009_04</td>\n",
       "      <td>AO-LUA_colu_2009_Q2</td>\n",
       "      <td>AO-LUA_Luanda_colu_2009</td>\n",
       "      <td>AO-LUA_Luanda_colu_2009_04</td>\n",
       "      <td>AO-LUA_Luanda_colu_2009_Q2</td>\n",
       "    </tr>\n",
       "    <tr>\n",
       "      <th>3</th>\n",
       "      <td>AR0061-C</td>\n",
       "      <td>LUA061</td>\n",
       "      <td>Joao Pinto</td>\n",
       "      <td>Angola</td>\n",
       "      <td>Luanda</td>\n",
       "      <td>2009</td>\n",
       "      <td>4</td>\n",
       "      <td>-8.884</td>\n",
       "      <td>13.302</td>\n",
       "      <td>F</td>\n",
       "      <td>...</td>\n",
       "      <td>Luanda</td>\n",
       "      <td>AO-LUA</td>\n",
       "      <td>Luanda</td>\n",
       "      <td>coluzzii</td>\n",
       "      <td>AO-LUA_colu_2009</td>\n",
       "      <td>AO-LUA_colu_2009_04</td>\n",
       "      <td>AO-LUA_colu_2009_Q2</td>\n",
       "      <td>AO-LUA_Luanda_colu_2009</td>\n",
       "      <td>AO-LUA_Luanda_colu_2009_04</td>\n",
       "      <td>AO-LUA_Luanda_colu_2009_Q2</td>\n",
       "    </tr>\n",
       "    <tr>\n",
       "      <th>4</th>\n",
       "      <td>AR0078-C</td>\n",
       "      <td>LUA078</td>\n",
       "      <td>Joao Pinto</td>\n",
       "      <td>Angola</td>\n",
       "      <td>Luanda</td>\n",
       "      <td>2009</td>\n",
       "      <td>4</td>\n",
       "      <td>-8.884</td>\n",
       "      <td>13.302</td>\n",
       "      <td>F</td>\n",
       "      <td>...</td>\n",
       "      <td>Luanda</td>\n",
       "      <td>AO-LUA</td>\n",
       "      <td>Luanda</td>\n",
       "      <td>coluzzii</td>\n",
       "      <td>AO-LUA_colu_2009</td>\n",
       "      <td>AO-LUA_colu_2009_04</td>\n",
       "      <td>AO-LUA_colu_2009_Q2</td>\n",
       "      <td>AO-LUA_Luanda_colu_2009</td>\n",
       "      <td>AO-LUA_Luanda_colu_2009_04</td>\n",
       "      <td>AO-LUA_Luanda_colu_2009_Q2</td>\n",
       "    </tr>\n",
       "    <tr>\n",
       "      <th>...</th>\n",
       "      <td>...</td>\n",
       "      <td>...</td>\n",
       "      <td>...</td>\n",
       "      <td>...</td>\n",
       "      <td>...</td>\n",
       "      <td>...</td>\n",
       "      <td>...</td>\n",
       "      <td>...</td>\n",
       "      <td>...</td>\n",
       "      <td>...</td>\n",
       "      <td>...</td>\n",
       "      <td>...</td>\n",
       "      <td>...</td>\n",
       "      <td>...</td>\n",
       "      <td>...</td>\n",
       "      <td>...</td>\n",
       "      <td>...</td>\n",
       "      <td>...</td>\n",
       "      <td>...</td>\n",
       "      <td>...</td>\n",
       "      <td>...</td>\n",
       "    </tr>\n",
       "    <tr>\n",
       "      <th>3076</th>\n",
       "      <td>AD0494-C</td>\n",
       "      <td>80-2-o-16</td>\n",
       "      <td>Martin Donnelly</td>\n",
       "      <td>Lab Cross</td>\n",
       "      <td>LSTM</td>\n",
       "      <td>-1</td>\n",
       "      <td>-1</td>\n",
       "      <td>53.409</td>\n",
       "      <td>-2.969</td>\n",
       "      <td>F</td>\n",
       "      <td>...</td>\n",
       "      <td>NaN</td>\n",
       "      <td>NaN</td>\n",
       "      <td>NaN</td>\n",
       "      <td>unassigned</td>\n",
       "      <td>NaN</td>\n",
       "      <td>NaN</td>\n",
       "      <td>NaN</td>\n",
       "      <td>NaN</td>\n",
       "      <td>NaN</td>\n",
       "      <td>NaN</td>\n",
       "    </tr>\n",
       "    <tr>\n",
       "      <th>3077</th>\n",
       "      <td>AD0495-C</td>\n",
       "      <td>80-2-o-17</td>\n",
       "      <td>Martin Donnelly</td>\n",
       "      <td>Lab Cross</td>\n",
       "      <td>LSTM</td>\n",
       "      <td>-1</td>\n",
       "      <td>-1</td>\n",
       "      <td>53.409</td>\n",
       "      <td>-2.969</td>\n",
       "      <td>M</td>\n",
       "      <td>...</td>\n",
       "      <td>NaN</td>\n",
       "      <td>NaN</td>\n",
       "      <td>NaN</td>\n",
       "      <td>unassigned</td>\n",
       "      <td>NaN</td>\n",
       "      <td>NaN</td>\n",
       "      <td>NaN</td>\n",
       "      <td>NaN</td>\n",
       "      <td>NaN</td>\n",
       "      <td>NaN</td>\n",
       "    </tr>\n",
       "    <tr>\n",
       "      <th>3078</th>\n",
       "      <td>AD0496-C</td>\n",
       "      <td>80-2-o-18</td>\n",
       "      <td>Martin Donnelly</td>\n",
       "      <td>Lab Cross</td>\n",
       "      <td>LSTM</td>\n",
       "      <td>-1</td>\n",
       "      <td>-1</td>\n",
       "      <td>53.409</td>\n",
       "      <td>-2.969</td>\n",
       "      <td>M</td>\n",
       "      <td>...</td>\n",
       "      <td>NaN</td>\n",
       "      <td>NaN</td>\n",
       "      <td>NaN</td>\n",
       "      <td>unassigned</td>\n",
       "      <td>NaN</td>\n",
       "      <td>NaN</td>\n",
       "      <td>NaN</td>\n",
       "      <td>NaN</td>\n",
       "      <td>NaN</td>\n",
       "      <td>NaN</td>\n",
       "    </tr>\n",
       "    <tr>\n",
       "      <th>3079</th>\n",
       "      <td>AD0497-C</td>\n",
       "      <td>80-2-o-19</td>\n",
       "      <td>Martin Donnelly</td>\n",
       "      <td>Lab Cross</td>\n",
       "      <td>LSTM</td>\n",
       "      <td>-1</td>\n",
       "      <td>-1</td>\n",
       "      <td>53.409</td>\n",
       "      <td>-2.969</td>\n",
       "      <td>F</td>\n",
       "      <td>...</td>\n",
       "      <td>NaN</td>\n",
       "      <td>NaN</td>\n",
       "      <td>NaN</td>\n",
       "      <td>unassigned</td>\n",
       "      <td>NaN</td>\n",
       "      <td>NaN</td>\n",
       "      <td>NaN</td>\n",
       "      <td>NaN</td>\n",
       "      <td>NaN</td>\n",
       "      <td>NaN</td>\n",
       "    </tr>\n",
       "    <tr>\n",
       "      <th>3080</th>\n",
       "      <td>AD0498-C</td>\n",
       "      <td>80-2-o-20</td>\n",
       "      <td>Martin Donnelly</td>\n",
       "      <td>Lab Cross</td>\n",
       "      <td>LSTM</td>\n",
       "      <td>-1</td>\n",
       "      <td>-1</td>\n",
       "      <td>53.409</td>\n",
       "      <td>-2.969</td>\n",
       "      <td>M</td>\n",
       "      <td>...</td>\n",
       "      <td>NaN</td>\n",
       "      <td>NaN</td>\n",
       "      <td>NaN</td>\n",
       "      <td>unassigned</td>\n",
       "      <td>NaN</td>\n",
       "      <td>NaN</td>\n",
       "      <td>NaN</td>\n",
       "      <td>NaN</td>\n",
       "      <td>NaN</td>\n",
       "      <td>NaN</td>\n",
       "    </tr>\n",
       "  </tbody>\n",
       "</table>\n",
       "<p>3081 rows × 57 columns</p>\n",
       "</div>"
      ],
      "text/plain": [
       "     sample_id partner_sample_id      contributor    country location  year  \\\n",
       "0     AR0047-C            LUA047       Joao Pinto     Angola   Luanda  2009   \n",
       "1     AR0049-C            LUA049       Joao Pinto     Angola   Luanda  2009   \n",
       "2     AR0051-C            LUA051       Joao Pinto     Angola   Luanda  2009   \n",
       "3     AR0061-C            LUA061       Joao Pinto     Angola   Luanda  2009   \n",
       "4     AR0078-C            LUA078       Joao Pinto     Angola   Luanda  2009   \n",
       "...        ...               ...              ...        ...      ...   ...   \n",
       "3076  AD0494-C         80-2-o-16  Martin Donnelly  Lab Cross     LSTM    -1   \n",
       "3077  AD0495-C         80-2-o-17  Martin Donnelly  Lab Cross     LSTM    -1   \n",
       "3078  AD0496-C         80-2-o-18  Martin Donnelly  Lab Cross     LSTM    -1   \n",
       "3079  AD0497-C         80-2-o-19  Martin Donnelly  Lab Cross     LSTM    -1   \n",
       "3080  AD0498-C         80-2-o-20  Martin Donnelly  Lab Cross     LSTM    -1   \n",
       "\n",
       "      month  latitude  longitude sex_call  ... admin1_name admin1_iso  \\\n",
       "0         4    -8.884     13.302        F  ...      Luanda     AO-LUA   \n",
       "1         4    -8.884     13.302        F  ...      Luanda     AO-LUA   \n",
       "2         4    -8.884     13.302        F  ...      Luanda     AO-LUA   \n",
       "3         4    -8.884     13.302        F  ...      Luanda     AO-LUA   \n",
       "4         4    -8.884     13.302        F  ...      Luanda     AO-LUA   \n",
       "...     ...       ...        ...      ...  ...         ...        ...   \n",
       "3076     -1    53.409     -2.969        F  ...         NaN        NaN   \n",
       "3077     -1    53.409     -2.969        M  ...         NaN        NaN   \n",
       "3078     -1    53.409     -2.969        M  ...         NaN        NaN   \n",
       "3079     -1    53.409     -2.969        F  ...         NaN        NaN   \n",
       "3080     -1    53.409     -2.969        M  ...         NaN        NaN   \n",
       "\n",
       "      admin2_name       taxon cohort_admin1_year  cohort_admin1_month  \\\n",
       "0          Luanda    coluzzii   AO-LUA_colu_2009  AO-LUA_colu_2009_04   \n",
       "1          Luanda    coluzzii   AO-LUA_colu_2009  AO-LUA_colu_2009_04   \n",
       "2          Luanda    coluzzii   AO-LUA_colu_2009  AO-LUA_colu_2009_04   \n",
       "3          Luanda    coluzzii   AO-LUA_colu_2009  AO-LUA_colu_2009_04   \n",
       "4          Luanda    coluzzii   AO-LUA_colu_2009  AO-LUA_colu_2009_04   \n",
       "...           ...         ...                ...                  ...   \n",
       "3076          NaN  unassigned                NaN                  NaN   \n",
       "3077          NaN  unassigned                NaN                  NaN   \n",
       "3078          NaN  unassigned                NaN                  NaN   \n",
       "3079          NaN  unassigned                NaN                  NaN   \n",
       "3080          NaN  unassigned                NaN                  NaN   \n",
       "\n",
       "     cohort_admin1_quarter       cohort_admin2_year  \\\n",
       "0      AO-LUA_colu_2009_Q2  AO-LUA_Luanda_colu_2009   \n",
       "1      AO-LUA_colu_2009_Q2  AO-LUA_Luanda_colu_2009   \n",
       "2      AO-LUA_colu_2009_Q2  AO-LUA_Luanda_colu_2009   \n",
       "3      AO-LUA_colu_2009_Q2  AO-LUA_Luanda_colu_2009   \n",
       "4      AO-LUA_colu_2009_Q2  AO-LUA_Luanda_colu_2009   \n",
       "...                    ...                      ...   \n",
       "3076                   NaN                      NaN   \n",
       "3077                   NaN                      NaN   \n",
       "3078                   NaN                      NaN   \n",
       "3079                   NaN                      NaN   \n",
       "3080                   NaN                      NaN   \n",
       "\n",
       "             cohort_admin2_month       cohort_admin2_quarter  \n",
       "0     AO-LUA_Luanda_colu_2009_04  AO-LUA_Luanda_colu_2009_Q2  \n",
       "1     AO-LUA_Luanda_colu_2009_04  AO-LUA_Luanda_colu_2009_Q2  \n",
       "2     AO-LUA_Luanda_colu_2009_04  AO-LUA_Luanda_colu_2009_Q2  \n",
       "3     AO-LUA_Luanda_colu_2009_04  AO-LUA_Luanda_colu_2009_Q2  \n",
       "4     AO-LUA_Luanda_colu_2009_04  AO-LUA_Luanda_colu_2009_Q2  \n",
       "...                          ...                         ...  \n",
       "3076                         NaN                         NaN  \n",
       "3077                         NaN                         NaN  \n",
       "3078                         NaN                         NaN  \n",
       "3079                         NaN                         NaN  \n",
       "3080                         NaN                         NaN  \n",
       "\n",
       "[3081 rows x 57 columns]"
      ]
     },
     "execution_count": 20,
     "metadata": {},
     "output_type": "execute_result"
    }
   ],
   "source": [
    "df_samples"
   ]
  },
  {
   "cell_type": "markdown",
   "metadata": {
    "id": "lJtQ2mcqTAWA"
   },
   "source": [
    "## Creating plots\n",
    "\n",
    "You can also create plots within notebooks. There are several plotting packages available for Python, but three popular and useful plotting packages are [matplotlib](https://matplotlib.org/), [plotly express](https://matplotlib.org/), and [bokeh](https://docs.bokeh.org/en/latest/index.html). Let's illustrate making some plots with these packages.\n",
    "\n",
    "First let's generate some random data to plot."
   ]
  },
  {
   "cell_type": "code",
   "execution_count": 21,
   "metadata": {
    "colab": {
     "base_uri": "https://localhost:8080/"
    },
    "id": "0eTx4ltEj1ww",
    "outputId": "1ad1f7ca-faab-4a13-d151-8d0947f9d5f6",
    "tags": []
   },
   "outputs": [
    {
     "data": {
      "text/plain": [
       "array([14, 17, 16, ..., 15, 13,  9])"
      ]
     },
     "execution_count": 21,
     "metadata": {},
     "output_type": "execute_result"
    }
   ],
   "source": [
    "x = np.random.binomial(n=30, p=0.5, size=10_000)\n",
    "x"
   ]
  },
  {
   "cell_type": "markdown",
   "metadata": {
    "id": "tJY3E8yGTDC_"
   },
   "source": [
    "### Matplotlib\n",
    "\n",
    "Here's how to import and activate matplotlib in a notebook."
   ]
  },
  {
   "cell_type": "code",
   "execution_count": 22,
   "metadata": {
    "id": "SiolTVY8hyfH",
    "tags": []
   },
   "outputs": [],
   "source": [
    "import matplotlib.pyplot as plt\n",
    "%matplotlib inline"
   ]
  },
  {
   "cell_type": "markdown",
   "metadata": {
    "id": "Z37r1mE46xBt"
   },
   "source": [
    "Here's how to create a histogram."
   ]
  },
  {
   "cell_type": "code",
   "execution_count": 23,
   "metadata": {
    "colab": {
     "base_uri": "https://localhost:8080/",
     "height": 295
    },
    "id": "nWAXQguFhy6J",
    "outputId": "cc0b2bac-3c49-44d7-905e-72162ae3fa95",
    "tags": []
   },
   "outputs": [
    {
     "data": {
      "image/png": "[encoded data removed]",
      "text/plain": [
       "<Figure size 640x480 with 1 Axes>"
      ]
     },
     "metadata": {},
     "output_type": "display_data"
    }
   ],
   "source": [
    "fig, ax = plt.subplots()\n",
    "ax.hist(x)\n",
    "ax.set_xlabel(\"x\")\n",
    "ax.set_ylabel(\"Count\")\n",
    "ax.set_title(\"The binomial distribution\");"
   ]
  },
  {
   "cell_type": "markdown",
   "metadata": {
    "id": "xYqfzVjmTLCM"
   },
   "source": [
    "### Plotly Express\n",
    "\n",
    "Here's how to import plotly express."
   ]
  },
  {
   "cell_type": "code",
   "execution_count": 24,
   "metadata": {
    "id": "DJgxWVfzjLQg",
    "tags": []
   },
   "outputs": [],
   "source": [
    "import plotly.io as pio\n",
    "pio.renderers.default = \"notebook+colab\"\n",
    "import plotly.express as px"
   ]
  },
  {
   "cell_type": "markdown",
   "metadata": {
    "id": "5MFMXUfH6xBu"
   },
   "source": [
    "Here's how to plot a histogram."
   ]
  },
  {
   "cell_type": "code",
   "execution_count": 32,
   "metadata": {
    "colab": {
     "base_uri": "https://localhost:8080/",
     "height": 417
    },
    "id": "JLPR8ISZjMP4",
    "outputId": "e7ee6a3a-87f9-4ecd-934b-5f346f652eb8",
    "tags": []
   },
   "outputs": [],
   "source": [
    "fig = px.histogram(\n",
    "    x=x, \n",
    "    title=\"The binomial distribution\",\n",
    "    width=600,\n",
    "    height=400\n",
    ")"
   ]
  },
  {
   "cell_type": "code",
   "execution_count": 33,
   "metadata": {},
   "outputs": [
    {
     "data": {
      "text/html": [
       "<html>\n",
       "<head><meta charset=\"utf-8\" /></head>\n",
       "<body>\n",
       "    <div>            <script src=\"https://cdnjs.cloudflare.com/ajax/libs/mathjax/2.7.5/MathJax.js?config=TeX-AMS-MML_SVG\"></script><script type=\"text/javascript\">if (window.MathJax && window.MathJax.Hub && window.MathJax.Hub.Config) {window.MathJax.Hub.Config({SVG: {font: \"STIX-Web\"}});}</script>                <script type=\"text/javascript\">window.PlotlyConfig = {MathJaxConfig: 'local'};</script>\n",
       "        <script charset=\"utf-8\" src=\"https://cdn.plot.ly/plotly-3.0.1.min.js\"></script>                <div id=\"b486f02d-3d4b-4c8a-be79-f6735875db6e\" class=\"plotly-graph-div\" style=\"height:400px; width:600px;\"></div>            <script type=\"text/javascript\">                window.PLOTLYENV=window.PLOTLYENV || {};                                if (document.getElementById(\"b486f02d-3d4b-4c8a-be79-f6735875db6e\")) {                    Plotly.newPlot(                        \"b486f02d-3d4b-4c8a-be79-f6735875db6e\",                        [{\"bingroup\":\"x\",\"hovertemplate\":\"x=%{x}\\u003cbr\\u003ecount=%{y}\\u003cextra\\u003e\\u003c\\u002fextra\\u003e\",\"legendgroup\":\"\",\"marker\":{\"color\":\"#636efa\",\"pattern\":{\"shape\":\"\"}},\"name\":\"\",\"orientation\":\"v\",\"showlegend\":false,\"x\":{\"dtype\":\"i1\",\"bdata\":\"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\"},\"xaxis\":\"x\",\"yaxis\":\"y\",\"type\":\"histogram\"}],                        {\"template\":{\"data\":{\"histogram2dcontour\":[{\"type\":\"histogram2dcontour\",\"colorbar\":{\"outlinewidth\":0,\"ticks\":\"\"},\"colorscale\":[[0.0,\"#0d0887\"],[0.1111111111111111,\"#46039f\"],[0.2222222222222222,\"#7201a8\"],[0.3333333333333333,\"#9c179e\"],[0.4444444444444444,\"#bd3786\"],[0.5555555555555556,\"#d8576b\"],[0.6666666666666666,\"#ed7953\"],[0.7777777777777778,\"#fb9f3a\"],[0.8888888888888888,\"#fdca26\"],[1.0,\"#f0f921\"]]}],\"choropleth\":[{\"type\":\"choropleth\",\"colorbar\":{\"outlinewidth\":0,\"ticks\":\"\"}}],\"histogram2d\":[{\"type\":\"histogram2d\",\"colorbar\":{\"outlinewidth\":0,\"ticks\":\"\"},\"colorscale\":[[0.0,\"#0d0887\"],[0.1111111111111111,\"#46039f\"],[0.2222222222222222,\"#7201a8\"],[0.3333333333333333,\"#9c179e\"],[0.4444444444444444,\"#bd3786\"],[0.5555555555555556,\"#d8576b\"],[0.6666666666666666,\"#ed7953\"],[0.7777777777777778,\"#fb9f3a\"],[0.8888888888888888,\"#fdca26\"],[1.0,\"#f0f921\"]]}],\"heatmap\":[{\"type\":\"heatmap\",\"colorbar\":{\"outlinewidth\":0,\"ticks\":\"\"},\"colorscale\":[[0.0,\"#0d0887\"],[0.1111111111111111,\"#46039f\"],[0.2222222222222222,\"#7201a8\"],[0.3333333333333333,\"#9c179e\"],[0.4444444444444444,\"#bd3786\"],[0.5555555555555556,\"#d8576b\"],[0.6666666666666666,\"#ed7953\"],[0.7777777777777778,\"#fb9f3a\"],[0.8888888888888888,\"#fdca26\"],[1.0,\"#f0f921\"]]}],\"contourcarpet\":[{\"type\":\"contourcarpet\",\"colorbar\":{\"outlinewidth\":0,\"ticks\":\"\"}}],\"contour\":[{\"type\":\"contour\",\"colorbar\":{\"outlinewidth\":0,\"ticks\":\"\"},\"colorscale\":[[0.0,\"#0d0887\"],[0.1111111111111111,\"#46039f\"],[0.2222222222222222,\"#7201a8\"],[0.3333333333333333,\"#9c179e\"],[0.4444444444444444,\"#bd3786\"],[0.5555555555555556,\"#d8576b\"],[0.6666666666666666,\"#ed7953\"],[0.7777777777777778,\"#fb9f3a\"],[0.8888888888888888,\"#fdca26\"],[1.0,\"#f0f921\"]]}],\"surface\":[{\"type\":\"surface\",\"colorbar\":{\"outlinewidth\":0,\"ticks\":\"\"},\"colorscale\":[[0.0,\"#0d0887\"],[0.1111111111111111,\"#46039f\"],[0.2222222222222222,\"#7201a8\"],[0.3333333333333333,\"#9c179e\"],[0.4444444444444444,\"#bd3786\"],[0.5555555555555556,\"#d8576b\"],[0.6666666666666666,\"#ed7953\"],[0.7777777777777778,\"#fb9f3a\"],[0.8888888888888888,\"#fdca26\"],[1.0,\"#f0f921\"]]}],\"mesh3d\":[{\"type\":\"mesh3d\",\"colorbar\":{\"outlinewidth\":0,\"ticks\":\"\"}}],\"scatter\":[{\"fillpattern\":{\"fillmode\":\"overlay\",\"size\":10,\"solidity\":0.2},\"type\":\"scatter\"}],\"parcoords\":[{\"type\":\"parcoords\",\"line\":{\"colorbar\":{\"outlinewidth\":0,\"ticks\":\"\"}}}],\"scatterpolargl\":[{\"type\":\"scatterpolargl\",\"marker\":{\"colorbar\":{\"outlinewidth\":0,\"ticks\":\"\"}}}],\"bar\":[{\"error_x\":{\"color\":\"#2a3f5f\"},\"error_y\":{\"color\":\"#2a3f5f\"},\"marker\":{\"line\":{\"color\":\"#E5ECF6\",\"width\":0.5},\"pattern\":{\"fillmode\":\"overlay\",\"size\":10,\"solidity\":0.2}},\"type\":\"bar\"}],\"scattergeo\":[{\"type\":\"scattergeo\",\"marker\":{\"colorbar\":{\"outlinewidth\":0,\"ticks\":\"\"}}}],\"scatterpolar\":[{\"type\":\"scatterpolar\",\"marker\":{\"colorbar\":{\"outlinewidth\":0,\"ticks\":\"\"}}}],\"histogram\":[{\"marker\":{\"pattern\":{\"fillmode\":\"overlay\",\"size\":10,\"solidity\":0.2}},\"type\":\"histogram\"}],\"scattergl\":[{\"type\":\"scattergl\",\"marker\":{\"colorbar\":{\"outlinewidth\":0,\"ticks\":\"\"}}}],\"scatter3d\":[{\"type\":\"scatter3d\",\"line\":{\"colorbar\":{\"outlinewidth\":0,\"ticks\":\"\"}},\"marker\":{\"colorbar\":{\"outlinewidth\":0,\"ticks\":\"\"}}}],\"scattermap\":[{\"type\":\"scattermap\",\"marker\":{\"colorbar\":{\"outlinewidth\":0,\"ticks\":\"\"}}}],\"scattermapbox\":[{\"type\":\"scattermapbox\",\"marker\":{\"colorbar\":{\"outlinewidth\":0,\"ticks\":\"\"}}}],\"scatterternary\":[{\"type\":\"scatterternary\",\"marker\":{\"colorbar\":{\"outlinewidth\":0,\"ticks\":\"\"}}}],\"scattercarpet\":[{\"type\":\"scattercarpet\",\"marker\":{\"colorbar\":{\"outlinewidth\":0,\"ticks\":\"\"}}}],\"carpet\":[{\"aaxis\":{\"endlinecolor\":\"#2a3f5f\",\"gridcolor\":\"white\",\"linecolor\":\"white\",\"minorgridcolor\":\"white\",\"startlinecolor\":\"#2a3f5f\"},\"baxis\":{\"endlinecolor\":\"#2a3f5f\",\"gridcolor\":\"white\",\"linecolor\":\"white\",\"minorgridcolor\":\"white\",\"startlinecolor\":\"#2a3f5f\"},\"type\":\"carpet\"}],\"table\":[{\"cells\":{\"fill\":{\"color\":\"#EBF0F8\"},\"line\":{\"color\":\"white\"}},\"header\":{\"fill\":{\"color\":\"#C8D4E3\"},\"line\":{\"color\":\"white\"}},\"type\":\"table\"}],\"barpolar\":[{\"marker\":{\"line\":{\"color\":\"#E5ECF6\",\"width\":0.5},\"pattern\":{\"fillmode\":\"overlay\",\"size\":10,\"solidity\":0.2}},\"type\":\"barpolar\"}],\"pie\":[{\"automargin\":true,\"type\":\"pie\"}]},\"layout\":{\"autotypenumbers\":\"strict\",\"colorway\":[\"#636efa\",\"#EF553B\",\"#00cc96\",\"#ab63fa\",\"#FFA15A\",\"#19d3f3\",\"#FF6692\",\"#B6E880\",\"#FF97FF\",\"#FECB52\"],\"font\":{\"color\":\"#2a3f5f\"},\"hovermode\":\"closest\",\"hoverlabel\":{\"align\":\"left\"},\"paper_bgcolor\":\"white\",\"plot_bgcolor\":\"#E5ECF6\",\"polar\":{\"bgcolor\":\"#E5ECF6\",\"angularaxis\":{\"gridcolor\":\"white\",\"linecolor\":\"white\",\"ticks\":\"\"},\"radialaxis\":{\"gridcolor\":\"white\",\"linecolor\":\"white\",\"ticks\":\"\"}},\"ternary\":{\"bgcolor\":\"#E5ECF6\",\"aaxis\":{\"gridcolor\":\"white\",\"linecolor\":\"white\",\"ticks\":\"\"},\"baxis\":{\"gridcolor\":\"white\",\"linecolor\":\"white\",\"ticks\":\"\"},\"caxis\":{\"gridcolor\":\"white\",\"linecolor\":\"white\",\"ticks\":\"\"}},\"coloraxis\":{\"colorbar\":{\"outlinewidth\":0,\"ticks\":\"\"}},\"colorscale\":{\"sequential\":[[0.0,\"#0d0887\"],[0.1111111111111111,\"#46039f\"],[0.2222222222222222,\"#7201a8\"],[0.3333333333333333,\"#9c179e\"],[0.4444444444444444,\"#bd3786\"],[0.5555555555555556,\"#d8576b\"],[0.6666666666666666,\"#ed7953\"],[0.7777777777777778,\"#fb9f3a\"],[0.8888888888888888,\"#fdca26\"],[1.0,\"#f0f921\"]],\"sequentialminus\":[[0.0,\"#0d0887\"],[0.1111111111111111,\"#46039f\"],[0.2222222222222222,\"#7201a8\"],[0.3333333333333333,\"#9c179e\"],[0.4444444444444444,\"#bd3786\"],[0.5555555555555556,\"#d8576b\"],[0.6666666666666666,\"#ed7953\"],[0.7777777777777778,\"#fb9f3a\"],[0.8888888888888888,\"#fdca26\"],[1.0,\"#f0f921\"]],\"diverging\":[[0,\"#8e0152\"],[0.1,\"#c51b7d\"],[0.2,\"#de77ae\"],[0.3,\"#f1b6da\"],[0.4,\"#fde0ef\"],[0.5,\"#f7f7f7\"],[0.6,\"#e6f5d0\"],[0.7,\"#b8e186\"],[0.8,\"#7fbc41\"],[0.9,\"#4d9221\"],[1,\"#276419\"]]},\"xaxis\":{\"gridcolor\":\"white\",\"linecolor\":\"white\",\"ticks\":\"\",\"title\":{\"standoff\":15},\"zerolinecolor\":\"white\",\"automargin\":true,\"zerolinewidth\":2},\"yaxis\":{\"gridcolor\":\"white\",\"linecolor\":\"white\",\"ticks\":\"\",\"title\":{\"standoff\":15},\"zerolinecolor\":\"white\",\"automargin\":true,\"zerolinewidth\":2},\"scene\":{\"xaxis\":{\"backgroundcolor\":\"#E5ECF6\",\"gridcolor\":\"white\",\"linecolor\":\"white\",\"showbackground\":true,\"ticks\":\"\",\"zerolinecolor\":\"white\",\"gridwidth\":2},\"yaxis\":{\"backgroundcolor\":\"#E5ECF6\",\"gridcolor\":\"white\",\"linecolor\":\"white\",\"showbackground\":true,\"ticks\":\"\",\"zerolinecolor\":\"white\",\"gridwidth\":2},\"zaxis\":{\"backgroundcolor\":\"#E5ECF6\",\"gridcolor\":\"white\",\"linecolor\":\"white\",\"showbackground\":true,\"ticks\":\"\",\"zerolinecolor\":\"white\",\"gridwidth\":2}},\"shapedefaults\":{\"line\":{\"color\":\"#2a3f5f\"}},\"annotationdefaults\":{\"arrowcolor\":\"#2a3f5f\",\"arrowhead\":0,\"arrowwidth\":1},\"geo\":{\"bgcolor\":\"white\",\"landcolor\":\"#E5ECF6\",\"subunitcolor\":\"white\",\"showland\":true,\"showlakes\":true,\"lakecolor\":\"white\"},\"title\":{\"x\":0.05},\"mapbox\":{\"style\":\"light\"}}},\"xaxis\":{\"anchor\":\"y\",\"domain\":[0.0,1.0],\"title\":{\"text\":\"x\"}},\"yaxis\":{\"anchor\":\"x\",\"domain\":[0.0,1.0],\"title\":{\"text\":\"count\"}},\"legend\":{\"tracegroupgap\":0},\"title\":{\"text\":\"The binomial distribution\"},\"barmode\":\"relative\",\"height\":400,\"width\":600},                        {\"responsive\": true}                    ).then(function(){\n",
       "                            \n",
       "var gd = document.getElementById('b486f02d-3d4b-4c8a-be79-f6735875db6e');\n",
       "var x = new MutationObserver(function (mutations, observer) {{\n",
       "        var display = window.getComputedStyle(gd).display;\n",
       "        if (!display || display === 'none') {{\n",
       "            console.log([gd, 'removed!']);\n",
       "            Plotly.purge(gd);\n",
       "            observer.disconnect();\n",
       "        }}\n",
       "}});\n",
       "\n",
       "// Listen for the removal of the full notebook cells\n",
       "var notebookContainer = gd.closest('#notebook-container');\n",
       "if (notebookContainer) {{\n",
       "    x.observe(notebookContainer, {childList: true});\n",
       "}}\n",
       "\n",
       "// Listen for the clearing of the current output cell\n",
       "var outputEl = gd.closest('.output');\n",
       "if (outputEl) {{\n",
       "    x.observe(outputEl, {childList: true});\n",
       "}}\n",
       "\n",
       "                        })                };            </script>        </div>\n",
       "</body>\n",
       "</html>"
      ]
     },
     "metadata": {},
     "output_type": "display_data"
    }
   ],
   "source": [
    "fig.show()"
   ]
  },
  {
   "cell_type": "markdown",
   "metadata": {
    "id": "v0gmADhLTNJY"
   },
   "source": [
    "### Bokeh\n",
    "\n",
    "Here's how to import bokeh and activate it for use in a notebook."
   ]
  },
  {
   "cell_type": "code",
   "execution_count": 34,
   "metadata": {
    "id": "cSjm8O4VkQEU",
    "tags": []
   },
   "outputs": [
    {
     "data": {
      "text/html": [
       "    <style>\n",
       "        .bk-notebook-logo {\n",
       "            display: block;\n",
       "            width: 20px;\n",
       "            height: 20px;\n",
       "            background-image: url(data:image/png;base64,iVBORw0KGgoAAAANSUhEUgAAABQAAAAUCAYAAACNiR0NAAAABHNCSVQICAgIfAhkiAAAAAlwSFlzAAALEgAACxIB0t1+/AAAABx0RVh0U29mdHdhcmUAQWRvYmUgRmlyZXdvcmtzIENTNui8sowAAAOkSURBVDiNjZRtaJVlGMd/1/08zzln5zjP1LWcU9N0NkN8m2CYjpgQYQXqSs0I84OLIC0hkEKoPtiH3gmKoiJDU7QpLgoLjLIQCpEsNJ1vqUOdO7ppbuec5+V+rj4ctwzd8IIbbi6u+8f1539dt3A78eXC7QizUF7gyV1fD1Yqg4JWz84yffhm0qkFqBogB9rM8tZdtwVsPUhWhGcFJngGeWrPzHm5oaMmkfEg1usvLFyc8jLRqDOMru7AyC8saQr7GG7f5fvDeH7Ej8CM66nIF+8yngt6HWaKh7k49Soy9nXurCi1o3qUbS3zWfrYeQDTB/Qj6kX6Ybhw4B+bOYoLKCC9H3Nu/leUTZ1JdRWkkn2ldcCamzrcf47KKXdAJllSlxAOkRgyHsGC/zRday5Qld9DyoM4/q/rUoy/CXh3jzOu3bHUVZeU+DEn8FInkPBFlu3+nW3Nw0mk6vCDiWg8CeJaxEwuHS3+z5RgY+YBR6V1Z1nxSOfoaPa4LASWxxdNp+VWTk7+4vzaou8v8PN+xo+KY2xsw6une2frhw05CTYOmQvsEhjhWjn0bmXPjpE1+kplmmkP3suftwTubK9Vq22qKmrBhpY4jvd5afdRA3wGjFAgcnTK2s4hY0/GPNIb0nErGMCRxWOOX64Z8RAC4oCXdklmEvcL8o0BfkNK4lUg9HTl+oPlQxdNo3Mg4Nv175e/1LDGzZen30MEjRUtmXSfiTVu1kK8W4txyV6BMKlbgk3lMwYCiusNy9fVfvvwMxv8Ynl6vxoByANLTWplvuj/nF9m2+PDtt1eiHPBr1oIfhCChQMBw6Aw0UulqTKZdfVvfG7VcfIqLG9bcldL/+pdWTLxLUy8Qq38heUIjh4XlzZxzQm19lLFlr8vdQ97rjZVOLf8nclzckbcD4wxXMidpX30sFd37Fv/GtwwhzhxGVAprjbg0gCAEeIgwCZyTV2Z1REEW8O4py0wsjeloKoMr6iCY6dP92H6Vw/oTyICIthibxjm/DfN9lVz8IqtqKYLUXfoKVMVQVVJOElGjrnnUt9T9wbgp8AyYKaGlqingHZU/uG2NTZSVqwHQTWkx9hxjkpWDaCg6Ckj5qebgBVbT3V3NNXMSiWSDdGV3hrtzla7J+duwPOToIg42ChPQOQjspnSlp1V+Gjdged7+8UN5CRAV7a5EdFNwCjEaBR27b3W890TE7g24NAP/mMDXRWrGoFPQI9ls/MWO2dWFAar/xcOIImbbpA3zgAAAABJRU5ErkJggg==);\n",
       "        }\n",
       "    </style>\n",
       "    <div>\n",
       "        <a href=\"https://bokeh.org\" target=\"_blank\" class=\"bk-notebook-logo\"></a>\n",
       "        <span id=\"c168d81b-e2fa-41c8-91d1-b709cda71651\">Loading BokehJS ...</span>\n",
       "    </div>\n"
      ]
     },
     "metadata": {},
     "output_type": "display_data"
    },
    {
     "data": {
      "application/javascript": [
       "'use strict';\n",
       "(function(root) {\n",
       "  function now() {\n",
       "    return new Date();\n",
       "  }\n",
       "\n",
       "  const force = true;\n",
       "\n",
       "  if (typeof root._bokeh_onload_callbacks === \"undefined\" || force === true) {\n",
       "    root._bokeh_onload_callbacks = [];\n",
       "    root._bokeh_is_loading = undefined;\n",
       "  }\n",
       "\n",
       "const JS_MIME_TYPE = 'application/javascript';\n",
       "  const HTML_MIME_TYPE = 'text/html';\n",
       "  const EXEC_MIME_TYPE = 'application/vnd.bokehjs_exec.v0+json';\n",
       "  const CLASS_NAME = 'output_bokeh rendered_html';\n",
       "\n",
       "  /**\n",
       "   * Render data to the DOM node\n",
       "   */\n",
       "  function render(props, node) {\n",
       "    const script = document.createElement(\"script\");\n",
       "    node.appendChild(script);\n",
       "  }\n",
       "\n",
       "  /**\n",
       "   * Handle when an output is cleared or removed\n",
       "   */\n",
       "  function handleClearOutput(event, handle) {\n",
       "    function drop(id) {\n",
       "      const view = Bokeh.index.get_by_id(id)\n",
       "      if (view != null) {\n",
       "        view.model.document.clear()\n",
       "        Bokeh.index.delete(view)\n",
       "      }\n",
       "    }\n",
       "\n",
       "    const cell = handle.cell;\n",
       "\n",
       "    const id = cell.output_area._bokeh_element_id;\n",
       "    const server_id = cell.output_area._bokeh_server_id;\n",
       "\n",
       "    // Clean up Bokeh references\n",
       "    if (id != null) {\n",
       "      drop(id)\n",
       "    }\n",
       "\n",
       "    if (server_id !== undefined) {\n",
       "      // Clean up Bokeh references\n",
       "      const cmd_clean = \"from bokeh.io.state import curstate; print(curstate().uuid_to_server['\" + server_id + \"'].get_sessions()[0].document.roots[0]._id)\";\n",
       "      cell.notebook.kernel.execute(cmd_clean, {\n",
       "        iopub: {\n",
       "          output: function(msg) {\n",
       "            const id = msg.content.text.trim()\n",
       "            drop(id)\n",
       "          }\n",
       "        }\n",
       "      });\n",
       "      // Destroy server and session\n",
       "      const cmd_destroy = \"import bokeh.io.notebook as ion; ion.destroy_server('\" + server_id + \"')\";\n",
       "      cell.notebook.kernel.execute(cmd_destroy);\n",
       "    }\n",
       "  }\n",
       "\n",
       "  /**\n",
       "   * Handle when a new output is added\n",
       "   */\n",
       "  function handleAddOutput(event, handle) {\n",
       "    const output_area = handle.output_area;\n",
       "    const output = handle.output;\n",
       "\n",
       "    // limit handleAddOutput to display_data with EXEC_MIME_TYPE content only\n",
       "    if ((output.output_type != \"display_data\") || (!Object.prototype.hasOwnProperty.call(output.data, EXEC_MIME_TYPE))) {\n",
       "      return\n",
       "    }\n",
       "\n",
       "    const toinsert = output_area.element.find(\".\" + CLASS_NAME.split(' ')[0]);\n",
       "\n",
       "    if (output.metadata[EXEC_MIME_TYPE][\"id\"] !== undefined) {\n",
       "      toinsert[toinsert.length - 1].firstChild.textContent = output.data[JS_MIME_TYPE];\n",
       "      // store reference to embed id on output_area\n",
       "      output_area._bokeh_element_id = output.metadata[EXEC_MIME_TYPE][\"id\"];\n",
       "    }\n",
       "    if (output.metadata[EXEC_MIME_TYPE][\"server_id\"] !== undefined) {\n",
       "      const bk_div = document.createElement(\"div\");\n",
       "      bk_div.innerHTML = output.data[HTML_MIME_TYPE];\n",
       "      const script_attrs = bk_div.children[0].attributes;\n",
       "      for (let i = 0; i < script_attrs.length; i++) {\n",
       "        toinsert[toinsert.length - 1].firstChild.setAttribute(script_attrs[i].name, script_attrs[i].value);\n",
       "        toinsert[toinsert.length - 1].firstChild.textContent = bk_div.children[0].textContent\n",
       "      }\n",
       "      // store reference to server id on output_area\n",
       "      output_area._bokeh_server_id = output.metadata[EXEC_MIME_TYPE][\"server_id\"];\n",
       "    }\n",
       "  }\n",
       "\n",
       "  function register_renderer(events, OutputArea) {\n",
       "\n",
       "    function append_mime(data, metadata, element) {\n",
       "      // create a DOM node to render to\n",
       "      const toinsert = this.create_output_subarea(\n",
       "        metadata,\n",
       "        CLASS_NAME,\n",
       "        EXEC_MIME_TYPE\n",
       "      );\n",
       "      this.keyboard_manager.register_events(toinsert);\n",
       "      // Render to node\n",
       "      const props = {data: data, metadata: metadata[EXEC_MIME_TYPE]};\n",
       "      render(props, toinsert[toinsert.length - 1]);\n",
       "      element.append(toinsert);\n",
       "      return toinsert\n",
       "    }\n",
       "\n",
       "    /* Handle when an output is cleared or removed */\n",
       "    events.on('clear_output.CodeCell', handleClearOutput);\n",
       "    events.on('delete.Cell', handleClearOutput);\n",
       "\n",
       "    /* Handle when a new output is added */\n",
       "    events.on('output_added.OutputArea', handleAddOutput);\n",
       "\n",
       "    /**\n",
       "     * Register the mime type and append_mime function with output_area\n",
       "     */\n",
       "    OutputArea.prototype.register_mime_type(EXEC_MIME_TYPE, append_mime, {\n",
       "      /* Is output safe? */\n",
       "      safe: true,\n",
       "      /* Index of renderer in `output_area.display_order` */\n",
       "      index: 0\n",
       "    });\n",
       "  }\n",
       "\n",
       "  // register the mime type if in Jupyter Notebook environment and previously unregistered\n",
       "  if (root.Jupyter !== undefined) {\n",
       "    const events = require('base/js/events');\n",
       "    const OutputArea = require('notebook/js/outputarea').OutputArea;\n",
       "\n",
       "    if (OutputArea.prototype.mime_types().indexOf(EXEC_MIME_TYPE) == -1) {\n",
       "      register_renderer(events, OutputArea);\n",
       "    }\n",
       "  }\n",
       "  if (typeof (root._bokeh_timeout) === \"undefined\" || force === true) {\n",
       "    root._bokeh_timeout = Date.now() + 5000;\n",
       "    root._bokeh_failed_load = false;\n",
       "  }\n",
       "\n",
       "  const NB_LOAD_WARNING = {'data': {'text/html':\n",
       "     \"<div style='background-color: #fdd'>\\n\"+\n",
       "     \"<p>\\n\"+\n",
       "     \"BokehJS does not appear to have successfully loaded. If loading BokehJS from CDN, this \\n\"+\n",
       "     \"may be due to a slow or bad network connection. Possible fixes:\\n\"+\n",
       "     \"</p>\\n\"+\n",
       "     \"<ul>\\n\"+\n",
       "     \"<li>re-rerun `output_notebook()` to attempt to load from CDN again, or</li>\\n\"+\n",
       "     \"<li>use INLINE resources instead, as so:</li>\\n\"+\n",
       "     \"</ul>\\n\"+\n",
       "     \"<code>\\n\"+\n",
       "     \"from bokeh.resources import INLINE\\n\"+\n",
       "     \"output_notebook(resources=INLINE)\\n\"+\n",
       "     \"</code>\\n\"+\n",
       "     \"</div>\"}};\n",
       "\n",
       "  function display_loaded(error = null) {\n",
       "    const el = document.getElementById(\"c168d81b-e2fa-41c8-91d1-b709cda71651\");\n",
       "    if (el != null) {\n",
       "      const html = (() => {\n",
       "        if (typeof root.Bokeh === \"undefined\") {\n",
       "          if (error == null) {\n",
       "            return \"BokehJS is loading ...\";\n",
       "          } else {\n",
       "            return \"BokehJS failed to load.\";\n",
       "          }\n",
       "        } else {\n",
       "          const prefix = `BokehJS ${root.Bokeh.version}`;\n",
       "          if (error == null) {\n",
       "            return `${prefix} successfully loaded.`;\n",
       "          } else {\n",
       "            return `${prefix} <b>encountered errors</b> while loading and may not function as expected.`;\n",
       "          }\n",
       "        }\n",
       "      })();\n",
       "      el.innerHTML = html;\n",
       "\n",
       "      if (error != null) {\n",
       "        const wrapper = document.createElement(\"div\");\n",
       "        wrapper.style.overflow = \"auto\";\n",
       "        wrapper.style.height = \"5em\";\n",
       "        wrapper.style.resize = \"vertical\";\n",
       "        const content = document.createElement(\"div\");\n",
       "        content.style.fontFamily = \"monospace\";\n",
       "        content.style.whiteSpace = \"pre-wrap\";\n",
       "        content.style.backgroundColor = \"rgb(255, 221, 221)\";\n",
       "        content.textContent = error.stack ?? error.toString();\n",
       "        wrapper.append(content);\n",
       "        el.append(wrapper);\n",
       "      }\n",
       "    } else if (Date.now() < root._bokeh_timeout) {\n",
       "      setTimeout(() => display_loaded(error), 100);\n",
       "    }\n",
       "  }\n",
       "\n",
       "  function run_callbacks() {\n",
       "    try {\n",
       "      root._bokeh_onload_callbacks.forEach(function(callback) {\n",
       "        if (callback != null)\n",
       "          callback();\n",
       "      });\n",
       "    } finally {\n",
       "      delete root._bokeh_onload_callbacks\n",
       "    }\n",
       "    console.debug(\"Bokeh: all callbacks have finished\");\n",
       "  }\n",
       "\n",
       "  function load_libs(css_urls, js_urls, callback) {\n",
       "    if (css_urls == null) css_urls = [];\n",
       "    if (js_urls == null) js_urls = [];\n",
       "\n",
       "    root._bokeh_onload_callbacks.push(callback);\n",
       "    if (root._bokeh_is_loading > 0) {\n",
       "      console.debug(\"Bokeh: BokehJS is being loaded, scheduling callback at\", now());\n",
       "      return null;\n",
       "    }\n",
       "    if (js_urls == null || js_urls.length === 0) {\n",
       "      run_callbacks();\n",
       "      return null;\n",
       "    }\n",
       "    console.debug(\"Bokeh: BokehJS not loaded, scheduling load and callback at\", now());\n",
       "    root._bokeh_is_loading = css_urls.length + js_urls.length;\n",
       "\n",
       "    function on_load() {\n",
       "      root._bokeh_is_loading--;\n",
       "      if (root._bokeh_is_loading === 0) {\n",
       "        console.debug(\"Bokeh: all BokehJS libraries/stylesheets loaded\");\n",
       "        run_callbacks()\n",
       "      }\n",
       "    }\n",
       "\n",
       "    function on_error(url) {\n",
       "      console.error(\"failed to load \" + url);\n",
       "    }\n",
       "\n",
       "    for (let i = 0; i < css_urls.length; i++) {\n",
       "      const url = css_urls[i];\n",
       "      const element = document.createElement(\"link\");\n",
       "      element.onload = on_load;\n",
       "      element.onerror = on_error.bind(null, url);\n",
       "      element.rel = \"stylesheet\";\n",
       "      element.type = \"text/css\";\n",
       "      element.href = url;\n",
       "      console.debug(\"Bokeh: injecting link tag for BokehJS stylesheet: \", url);\n",
       "      document.body.appendChild(element);\n",
       "    }\n",
       "\n",
       "    for (let i = 0; i < js_urls.length; i++) {\n",
       "      const url = js_urls[i];\n",
       "      const element = document.createElement('script');\n",
       "      element.onload = on_load;\n",
       "      element.onerror = on_error.bind(null, url);\n",
       "      element.async = false;\n",
       "      element.src = url;\n",
       "      console.debug(\"Bokeh: injecting script tag for BokehJS library: \", url);\n",
       "      document.head.appendChild(element);\n",
       "    }\n",
       "  };\n",
       "\n",
       "  function inject_raw_css(css) {\n",
       "    const element = document.createElement(\"style\");\n",
       "    element.appendChild(document.createTextNode(css));\n",
       "    document.body.appendChild(element);\n",
       "  }\n",
       "\n",
       "  const js_urls = [\"https://cdn.bokeh.org/bokeh/release/bokeh-3.7.0.min.js\", \"https://cdn.bokeh.org/bokeh/release/bokeh-gl-3.7.0.min.js\", \"https://cdn.bokeh.org/bokeh/release/bokeh-widgets-3.7.0.min.js\", \"https://cdn.bokeh.org/bokeh/release/bokeh-tables-3.7.0.min.js\", \"https://cdn.bokeh.org/bokeh/release/bokeh-mathjax-3.7.0.min.js\"];\n",
       "  const css_urls = [];\n",
       "\n",
       "  const inline_js = [    function(Bokeh) {\n",
       "      Bokeh.set_log_level(\"info\");\n",
       "    },\n",
       "function(Bokeh) {\n",
       "    }\n",
       "  ];\n",
       "\n",
       "  function run_inline_js() {\n",
       "    if (root.Bokeh !== undefined || force === true) {\n",
       "      try {\n",
       "            for (let i = 0; i < inline_js.length; i++) {\n",
       "      inline_js[i].call(root, root.Bokeh);\n",
       "    }\n",
       "\n",
       "      } catch (error) {display_loaded(error);throw error;\n",
       "      }if (force === true) {\n",
       "        display_loaded();\n",
       "      }} else if (Date.now() < root._bokeh_timeout) {\n",
       "      setTimeout(run_inline_js, 100);\n",
       "    } else if (!root._bokeh_failed_load) {\n",
       "      console.log(\"Bokeh: BokehJS failed to load within specified timeout.\");\n",
       "      root._bokeh_failed_load = true;\n",
       "    } else if (force !== true) {\n",
       "      const cell = $(document.getElementById(\"c168d81b-e2fa-41c8-91d1-b709cda71651\")).parents('.cell').data().cell;\n",
       "      cell.output_area.append_execute_result(NB_LOAD_WARNING)\n",
       "    }\n",
       "  }\n",
       "\n",
       "  if (root._bokeh_is_loading === 0) {\n",
       "    console.debug(\"Bokeh: BokehJS loaded, going straight to plotting\");\n",
       "    run_inline_js();\n",
       "  } else {\n",
       "    load_libs(css_urls, js_urls, function() {\n",
       "      console.debug(\"Bokeh: BokehJS plotting callback run at\", now());\n",
       "      run_inline_js();\n",
       "    });\n",
       "  }\n",
       "}(window));"
      ],
      "application/vnd.bokehjs_load.v0+json": "'use strict';\n(function(root) {\n  function now() {\n    return new Date();\n  }\n\n  const force = true;\n\n  if (typeof root._bokeh_onload_callbacks === \"undefined\" || force === true) {\n    root._bokeh_onload_callbacks = [];\n    root._bokeh_is_loading = undefined;\n  }\n\n\n  if (typeof (root._bokeh_timeout) === \"undefined\" || force === true) {\n    root._bokeh_timeout = Date.now() + 5000;\n    root._bokeh_failed_load = false;\n  }\n\n  const NB_LOAD_WARNING = {'data': {'text/html':\n     \"<div style='background-color: #fdd'>\\n\"+\n     \"<p>\\n\"+\n     \"BokehJS does not appear to have successfully loaded. If loading BokehJS from CDN, this \\n\"+\n     \"may be due to a slow or bad network connection. Possible fixes:\\n\"+\n     \"</p>\\n\"+\n     \"<ul>\\n\"+\n     \"<li>re-rerun `output_notebook()` to attempt to load from CDN again, or</li>\\n\"+\n     \"<li>use INLINE resources instead, as so:</li>\\n\"+\n     \"</ul>\\n\"+\n     \"<code>\\n\"+\n     \"from bokeh.resources import INLINE\\n\"+\n     \"output_notebook(resources=INLINE)\\n\"+\n     \"</code>\\n\"+\n     \"</div>\"}};\n\n  function display_loaded(error = null) {\n    const el = document.getElementById(\"c168d81b-e2fa-41c8-91d1-b709cda71651\");\n    if (el != null) {\n      const html = (() => {\n        if (typeof root.Bokeh === \"undefined\") {\n          if (error == null) {\n            return \"BokehJS is loading ...\";\n          } else {\n            return \"BokehJS failed to load.\";\n          }\n        } else {\n          const prefix = `BokehJS ${root.Bokeh.version}`;\n          if (error == null) {\n            return `${prefix} successfully loaded.`;\n          } else {\n            return `${prefix} <b>encountered errors</b> while loading and may not function as expected.`;\n          }\n        }\n      })();\n      el.innerHTML = html;\n\n      if (error != null) {\n        const wrapper = document.createElement(\"div\");\n        wrapper.style.overflow = \"auto\";\n        wrapper.style.height = \"5em\";\n        wrapper.style.resize = \"vertical\";\n        const content = document.createElement(\"div\");\n        content.style.fontFamily = \"monospace\";\n        content.style.whiteSpace = \"pre-wrap\";\n        content.style.backgroundColor = \"rgb(255, 221, 221)\";\n        content.textContent = error.stack ?? error.toString();\n        wrapper.append(content);\n        el.append(wrapper);\n      }\n    } else if (Date.now() < root._bokeh_timeout) {\n      setTimeout(() => display_loaded(error), 100);\n    }\n  }\n\n  function run_callbacks() {\n    try {\n      root._bokeh_onload_callbacks.forEach(function(callback) {\n        if (callback != null)\n          callback();\n      });\n    } finally {\n      delete root._bokeh_onload_callbacks\n    }\n    console.debug(\"Bokeh: all callbacks have finished\");\n  }\n\n  function load_libs(css_urls, js_urls, callback) {\n    if (css_urls == null) css_urls = [];\n    if (js_urls == null) js_urls = [];\n\n    root._bokeh_onload_callbacks.push(callback);\n    if (root._bokeh_is_loading > 0) {\n      console.debug(\"Bokeh: BokehJS is being loaded, scheduling callback at\", now());\n      return null;\n    }\n    if (js_urls == null || js_urls.length === 0) {\n      run_callbacks();\n      return null;\n    }\n    console.debug(\"Bokeh: BokehJS not loaded, scheduling load and callback at\", now());\n    root._bokeh_is_loading = css_urls.length + js_urls.length;\n\n    function on_load() {\n      root._bokeh_is_loading--;\n      if (root._bokeh_is_loading === 0) {\n        console.debug(\"Bokeh: all BokehJS libraries/stylesheets loaded\");\n        run_callbacks()\n      }\n    }\n\n    function on_error(url) {\n      console.error(\"failed to load \" + url);\n    }\n\n    for (let i = 0; i < css_urls.length; i++) {\n      const url = css_urls[i];\n      const element = document.createElement(\"link\");\n      element.onload = on_load;\n      element.onerror = on_error.bind(null, url);\n      element.rel = \"stylesheet\";\n      element.type = \"text/css\";\n      element.href = url;\n      console.debug(\"Bokeh: injecting link tag for BokehJS stylesheet: \", url);\n      document.body.appendChild(element);\n    }\n\n    for (let i = 0; i < js_urls.length; i++) {\n      const url = js_urls[i];\n      const element = document.createElement('script');\n      element.onload = on_load;\n      element.onerror = on_error.bind(null, url);\n      element.async = false;\n      element.src = url;\n      console.debug(\"Bokeh: injecting script tag for BokehJS library: \", url);\n      document.head.appendChild(element);\n    }\n  };\n\n  function inject_raw_css(css) {\n    const element = document.createElement(\"style\");\n    element.appendChild(document.createTextNode(css));\n    document.body.appendChild(element);\n  }\n\n  const js_urls = [\"https://cdn.bokeh.org/bokeh/release/bokeh-3.7.0.min.js\", \"https://cdn.bokeh.org/bokeh/release/bokeh-gl-3.7.0.min.js\", \"https://cdn.bokeh.org/bokeh/release/bokeh-widgets-3.7.0.min.js\", \"https://cdn.bokeh.org/bokeh/release/bokeh-tables-3.7.0.min.js\", \"https://cdn.bokeh.org/bokeh/release/bokeh-mathjax-3.7.0.min.js\"];\n  const css_urls = [];\n\n  const inline_js = [    function(Bokeh) {\n      Bokeh.set_log_level(\"info\");\n    },\nfunction(Bokeh) {\n    }\n  ];\n\n  function run_inline_js() {\n    if (root.Bokeh !== undefined || force === true) {\n      try {\n            for (let i = 0; i < inline_js.length; i++) {\n      inline_js[i].call(root, root.Bokeh);\n    }\n\n      } catch (error) {display_loaded(error);throw error;\n      }if (force === true) {\n        display_loaded();\n      }} else if (Date.now() < root._bokeh_timeout) {\n      setTimeout(run_inline_js, 100);\n    } else if (!root._bokeh_failed_load) {\n      console.log(\"Bokeh: BokehJS failed to load within specified timeout.\");\n      root._bokeh_failed_load = true;\n    } else if (force !== true) {\n      const cell = $(document.getElementById(\"c168d81b-e2fa-41c8-91d1-b709cda71651\")).parents('.cell').data().cell;\n      cell.output_area.append_execute_result(NB_LOAD_WARNING)\n    }\n  }\n\n  if (root._bokeh_is_loading === 0) {\n    console.debug(\"Bokeh: BokehJS loaded, going straight to plotting\");\n    run_inline_js();\n  } else {\n    load_libs(css_urls, js_urls, function() {\n      console.debug(\"Bokeh: BokehJS plotting callback run at\", now());\n      run_inline_js();\n    });\n  }\n}(window));"
     },
     "metadata": {},
     "output_type": "display_data"
    }
   ],
   "source": [
    "import bokeh.plotting as bkplt\n",
    "import bokeh.io as bkio\n",
    "bkio.output_notebook()"
   ]
  },
  {
   "cell_type": "markdown",
   "metadata": {
    "id": "EIcZvJbX6xBv"
   },
   "source": [
    "Here's how to make a histogram."
   ]
  },
  {
   "cell_type": "code",
   "execution_count": 35,
   "metadata": {
    "colab": {
     "base_uri": "https://localhost:8080/",
     "height": 417
    },
    "id": "Kn-nNT2TkQ8h",
    "outputId": "28e231bf-6d34-40c7-a646-f689b062db16",
    "tags": []
   },
   "outputs": [
    {
     "data": {
      "text/html": [
       "\n",
       "  <div id=\"a57fc4bd-f574-447f-a0fe-2c6335c8e296\" data-root-id=\"p1048\" style=\"display: contents;\"></div>\n"
      ]
     },
     "metadata": {},
     "output_type": "display_data"
    },
    {
     "data": {
      "application/javascript": [
       "(function(root) {\n",
       "  function embed_document(root) {\n",
       "  const docs_json = {\"814fea1a-e93f-4744-873a-84869ddc82ca\":{\"version\":\"3.7.0\",\"title\":\"Bokeh Application\",\"roots\":[{\"type\":\"object\",\"name\":\"Figure\",\"id\":\"p1048\",\"attributes\":{\"height\":400,\"x_range\":{\"type\":\"object\",\"name\":\"DataRange1d\",\"id\":\"p1049\"},\"y_range\":{\"type\":\"object\",\"name\":\"DataRange1d\",\"id\":\"p1050\"},\"x_scale\":{\"type\":\"object\",\"name\":\"LinearScale\",\"id\":\"p1058\"},\"y_scale\":{\"type\":\"object\",\"name\":\"LinearScale\",\"id\":\"p1059\"},\"title\":{\"type\":\"object\",\"name\":\"Title\",\"id\":\"p1051\",\"attributes\":{\"text\":\"The binomial distribution\"}},\"renderers\":[{\"type\":\"object\",\"name\":\"GlyphRenderer\",\"id\":\"p1089\",\"attributes\":{\"data_source\":{\"type\":\"object\",\"name\":\"ColumnDataSource\",\"id\":\"p1083\",\"attributes\":{\"selected\":{\"type\":\"object\",\"name\":\"Selection\",\"id\":\"p1084\",\"attributes\":{\"indices\":[],\"line_indices\":[]}},\"selection_policy\":{\"type\":\"object\",\"name\":\"UnionRenderers\",\"id\":\"p1085\"},\"data\":{\"type\":\"map\",\"entries\":[[\"top\",{\"type\":\"ndarray\",\"array\":{\"type\":\"bytes\",\"data\":\"DAAAAE0AAACIAQAAIwUAAGgJAADUCgAAswcAACoDAADTAAAAIAAAAA==\"},\"shape\":[10],\"dtype\":\"int32\",\"order\":\"little\"}],[\"left\",{\"type\":\"ndarray\",\"array\":{\"type\":\"bytes\",\"data\":\"AAAAAAAAEEBmZmZmZmYYQGZmZmZmZiBAmpmZmZmZJEDNzMzMzMwoQAAAAAAAAC1AmpmZmZmZMEA0MzMzM7MyQM3MzMzMzDRAZ2ZmZmbmNkA=\"},\"shape\":[10],\"dtype\":\"float64\",\"order\":\"little\"}],[\"right\",{\"type\":\"ndarray\",\"array\":{\"type\":\"bytes\",\"data\":\"ZmZmZmZmGEBmZmZmZmYgQJqZmZmZmSRAzczMzMzMKEAAAAAAAAAtQJqZmZmZmTBANDMzMzOzMkDNzMzMzMw0QGdmZmZm5jZAAAAAAAAAOUA=\"},\"shape\":[10],\"dtype\":\"float64\",\"order\":\"little\"}]]}}},\"view\":{\"type\":\"object\",\"name\":\"CDSView\",\"id\":\"p1090\",\"attributes\":{\"filter\":{\"type\":\"object\",\"name\":\"AllIndices\",\"id\":\"p1091\"}}},\"glyph\":{\"type\":\"object\",\"name\":\"Quad\",\"id\":\"p1086\",\"attributes\":{\"left\":{\"type\":\"field\",\"field\":\"left\"},\"right\":{\"type\":\"field\",\"field\":\"right\"},\"bottom\":{\"type\":\"value\",\"value\":0},\"top\":{\"type\":\"field\",\"field\":\"top\"},\"line_color\":{\"type\":\"value\",\"value\":\"#1f77b4\"},\"fill_color\":{\"type\":\"value\",\"value\":\"#1f77b4\"}}},\"nonselection_glyph\":{\"type\":\"object\",\"name\":\"Quad\",\"id\":\"p1087\",\"attributes\":{\"left\":{\"type\":\"field\",\"field\":\"left\"},\"right\":{\"type\":\"field\",\"field\":\"right\"},\"bottom\":{\"type\":\"value\",\"value\":0},\"top\":{\"type\":\"field\",\"field\":\"top\"},\"line_color\":{\"type\":\"value\",\"value\":\"#1f77b4\"},\"line_alpha\":{\"type\":\"value\",\"value\":0.1},\"fill_color\":{\"type\":\"value\",\"value\":\"#1f77b4\"},\"fill_alpha\":{\"type\":\"value\",\"value\":0.1},\"hatch_alpha\":{\"type\":\"value\",\"value\":0.1}}},\"muted_glyph\":{\"type\":\"object\",\"name\":\"Quad\",\"id\":\"p1088\",\"attributes\":{\"left\":{\"type\":\"field\",\"field\":\"left\"},\"right\":{\"type\":\"field\",\"field\":\"right\"},\"bottom\":{\"type\":\"value\",\"value\":0},\"top\":{\"type\":\"field\",\"field\":\"top\"},\"line_color\":{\"type\":\"value\",\"value\":\"#1f77b4\"},\"line_alpha\":{\"type\":\"value\",\"value\":0.2},\"fill_color\":{\"type\":\"value\",\"value\":\"#1f77b4\"},\"fill_alpha\":{\"type\":\"value\",\"value\":0.2},\"hatch_alpha\":{\"type\":\"value\",\"value\":0.2}}}}}],\"toolbar\":{\"type\":\"object\",\"name\":\"Toolbar\",\"id\":\"p1057\",\"attributes\":{\"tools\":[{\"type\":\"object\",\"name\":\"PanTool\",\"id\":\"p1070\"},{\"type\":\"object\",\"name\":\"WheelZoomTool\",\"id\":\"p1071\",\"attributes\":{\"renderers\":\"auto\"}},{\"type\":\"object\",\"name\":\"BoxZoomTool\",\"id\":\"p1072\",\"attributes\":{\"dimensions\":\"both\",\"overlay\":{\"type\":\"object\",\"name\":\"BoxAnnotation\",\"id\":\"p1073\",\"attributes\":{\"syncable\":false,\"line_color\":\"black\",\"line_alpha\":1.0,\"line_width\":2,\"line_dash\":[4,4],\"fill_color\":\"lightgrey\",\"fill_alpha\":0.5,\"level\":\"overlay\",\"visible\":false,\"left\":{\"type\":\"number\",\"value\":\"nan\"},\"right\":{\"type\":\"number\",\"value\":\"nan\"},\"top\":{\"type\":\"number\",\"value\":\"nan\"},\"bottom\":{\"type\":\"number\",\"value\":\"nan\"},\"left_units\":\"canvas\",\"right_units\":\"canvas\",\"top_units\":\"canvas\",\"bottom_units\":\"canvas\",\"handles\":{\"type\":\"object\",\"name\":\"BoxInteractionHandles\",\"id\":\"p1079\",\"attributes\":{\"all\":{\"type\":\"object\",\"name\":\"AreaVisuals\",\"id\":\"p1078\",\"attributes\":{\"fill_color\":\"white\",\"hover_fill_color\":\"lightgray\"}}}}}}}},{\"type\":\"object\",\"name\":\"SaveTool\",\"id\":\"p1080\"},{\"type\":\"object\",\"name\":\"ResetTool\",\"id\":\"p1081\"},{\"type\":\"object\",\"name\":\"HelpTool\",\"id\":\"p1082\"}]}},\"left\":[{\"type\":\"object\",\"name\":\"LinearAxis\",\"id\":\"p1065\",\"attributes\":{\"ticker\":{\"type\":\"object\",\"name\":\"BasicTicker\",\"id\":\"p1066\",\"attributes\":{\"mantissas\":[1,2,5]}},\"formatter\":{\"type\":\"object\",\"name\":\"BasicTickFormatter\",\"id\":\"p1067\"},\"major_label_policy\":{\"type\":\"object\",\"name\":\"AllLabels\",\"id\":\"p1068\"}}}],\"below\":[{\"type\":\"object\",\"name\":\"LinearAxis\",\"id\":\"p1060\",\"attributes\":{\"ticker\":{\"type\":\"object\",\"name\":\"BasicTicker\",\"id\":\"p1061\",\"attributes\":{\"mantissas\":[1,2,5]}},\"formatter\":{\"type\":\"object\",\"name\":\"BasicTickFormatter\",\"id\":\"p1062\"},\"major_label_policy\":{\"type\":\"object\",\"name\":\"AllLabels\",\"id\":\"p1063\"}}}],\"center\":[{\"type\":\"object\",\"name\":\"Grid\",\"id\":\"p1064\",\"attributes\":{\"axis\":{\"id\":\"p1060\"}}},{\"type\":\"object\",\"name\":\"Grid\",\"id\":\"p1069\",\"attributes\":{\"dimension\":1,\"axis\":{\"id\":\"p1065\"}}}]}}]}};\n",
       "  const render_items = [{\"docid\":\"814fea1a-e93f-4744-873a-84869ddc82ca\",\"roots\":{\"p1048\":\"a57fc4bd-f574-447f-a0fe-2c6335c8e296\"},\"root_ids\":[\"p1048\"]}];\n",
       "  void root.Bokeh.embed.embed_items_notebook(docs_json, render_items);\n",
       "  }\n",
       "  if (root.Bokeh !== undefined) {\n",
       "    embed_document(root);\n",
       "  } else {\n",
       "    let attempts = 0;\n",
       "    const timer = setInterval(function(root) {\n",
       "      if (root.Bokeh !== undefined) {\n",
       "        clearInterval(timer);\n",
       "        embed_document(root);\n",
       "      } else {\n",
       "        attempts++;\n",
       "        if (attempts > 100) {\n",
       "          clearInterval(timer);\n",
       "          console.log(\"Bokeh: ERROR: Unable to run BokehJS code because BokehJS library is missing\");\n",
       "        }\n",
       "      }\n",
       "    }, 10, root)\n",
       "  }\n",
       "})(window);"
      ],
      "application/vnd.bokehjs_exec.v0+json": ""
     },
     "metadata": {
      "application/vnd.bokehjs_exec.v0+json": {
       "id": "p1048"
      }
     },
     "output_type": "display_data"
    }
   ],
   "source": [
    "fig = bkplt.figure(title=\"The binomial distribution\", width=600, height=400)\n",
    "hist, edges = np.histogram(x)\n",
    "fig.quad(top=hist, bottom=0, left=edges[:-1], right=edges[1:])\n",
    "bkplt.show(fig)"
   ]
  },
  {
   "cell_type": "markdown",
   "metadata": {
    "id": "p1HcXsK1TPPf"
   },
   "source": [
    "## Accessing help documentation (docstrings)\n",
    "\n",
    "Often you'll want to get access to documentation about the packages and functions you're using. An easy way to access documentation (the docstring) for a function is to type the function name then add a question mark (?). This will cause the docstring to appear next to the notebook."
   ]
  },
  {
   "cell_type": "code",
   "execution_count": 36,
   "metadata": {
    "id": "8MriYreYTaHp",
    "tags": []
   },
   "outputs": [
    {
     "data": {
      "text/plain": [
       "\u001b[31mDocstring:\u001b[39m\n",
       "binomial(n, p, size=None)\n",
       "\n",
       "Draw samples from a binomial distribution.\n",
       "\n",
       "Samples are drawn from a binomial distribution with specified\n",
       "parameters, n trials and p probability of success where\n",
       "n an integer >= 0 and p is in the interval [0,1]. (n may be\n",
       "input as a float, but it is truncated to an integer in use)\n",
       "\n",
       ".. note::\n",
       "    New code should use the `~numpy.random.Generator.binomial`\n",
       "    method of a `~numpy.random.Generator` instance instead;\n",
       "    please see the :ref:`random-quick-start`.\n",
       "\n",
       "Parameters\n",
       "----------\n",
       "n : int or array_like of ints\n",
       "    Parameter of the distribution, >= 0. Floats are also accepted,\n",
       "    but they will be truncated to integers.\n",
       "p : float or array_like of floats\n",
       "    Parameter of the distribution, >= 0 and <=1.\n",
       "size : int or tuple of ints, optional\n",
       "    Output shape.  If the given shape is, e.g., ``(m, n, k)``, then\n",
       "    ``m * n * k`` samples are drawn.  If size is ``None`` (default),\n",
       "    a single value is returned if ``n`` and ``p`` are both scalars.\n",
       "    Otherwise, ``np.broadcast(n, p).size`` samples are drawn.\n",
       "\n",
       "Returns\n",
       "-------\n",
       "out : ndarray or scalar\n",
       "    Drawn samples from the parameterized binomial distribution, where\n",
       "    each sample is equal to the number of successes over the n trials.\n",
       "\n",
       "See Also\n",
       "--------\n",
       "scipy.stats.binom : probability density function, distribution or\n",
       "    cumulative density function, etc.\n",
       "random.Generator.binomial: which should be used for new code.\n",
       "\n",
       "Notes\n",
       "-----\n",
       "The probability density for the binomial distribution is\n",
       "\n",
       ".. math:: P(N) = \\binom{n}{N}p^N(1-p)^{n-N},\n",
       "\n",
       "where :math:`n` is the number of trials, :math:`p` is the probability\n",
       "of success, and :math:`N` is the number of successes.\n",
       "\n",
       "When estimating the standard error of a proportion in a population by\n",
       "using a random sample, the normal distribution works well unless the\n",
       "product p*n <=5, where p = population proportion estimate, and n =\n",
       "number of samples, in which case the binomial distribution is used\n",
       "instead. For example, a sample of 15 people shows 4 who are left\n",
       "handed, and 11 who are right handed. Then p = 4/15 = 27%. 0.27*15 = 4,\n",
       "so the binomial distribution should be used in this case.\n",
       "\n",
       "References\n",
       "----------\n",
       ".. [1] Dalgaard, Peter, \"Introductory Statistics with R\",\n",
       "       Springer-Verlag, 2002.\n",
       ".. [2] Glantz, Stanton A. \"Primer of Biostatistics.\", McGraw-Hill,\n",
       "       Fifth Edition, 2002.\n",
       ".. [3] Lentner, Marvin, \"Elementary Applied Statistics\", Bogden\n",
       "       and Quigley, 1972.\n",
       ".. [4] Weisstein, Eric W. \"Binomial Distribution.\" From MathWorld--A\n",
       "       Wolfram Web Resource.\n",
       "       http://mathworld.wolfram.com/BinomialDistribution.html\n",
       ".. [5] Wikipedia, \"Binomial distribution\",\n",
       "       https://en.wikipedia.org/wiki/Binomial_distribution\n",
       "\n",
       "Examples\n",
       "--------\n",
       "Draw samples from the distribution:\n",
       "\n",
       ">>> n, p = 10, .5  # number of trials, probability of each trial\n",
       ">>> s = np.random.binomial(n, p, 1000)\n",
       "# result of flipping a coin 10 times, tested 1000 times.\n",
       "\n",
       "A real world example. A company drills 9 wild-cat oil exploration\n",
       "wells, each with an estimated probability of success of 0.1. All nine\n",
       "wells fail. What is the probability of that happening?\n",
       "\n",
       "Let's do 20,000 trials of the model, and count the number that\n",
       "generate zero positive results.\n",
       "\n",
       ">>> sum(np.random.binomial(9, 0.1, 20000) == 0)/20000.\n",
       "# answer = 0.38885, or 38%.\n",
       "\u001b[31mType:\u001b[39m      builtin_function_or_method"
      ]
     },
     "metadata": {},
     "output_type": "display_data"
    }
   ],
   "source": [
    "np.random.binomial?"
   ]
  },
  {
   "cell_type": "markdown",
   "metadata": {
    "id": "EvHgrWJ06xBw"
   },
   "source": [
    "You can also search the web. Most packages will have good documentation on their website. E.g., here's the online documentation for [np.random.binomial()](https://numpy.org/doc/stable/reference/random/generated/numpy.random.binomial.html)."
   ]
  },
  {
   "cell_type": "markdown",
   "metadata": {
    "id": "GZHxDB1EUFLY"
   },
   "source": [
    "## Sharing notebooks via Google Drive\n",
    "\n",
    "Finally, you can share your notebooks with colleagues to show them the results of your data analysis. Colab notebooks are stored in your Google Drive and you can share them just like any other Google doc. Click the \"share\" button at the top right to begin sharing. An easy way to share is to create a link, which you can then copy and paste to share with colleagues."
   ]
  },
  {
   "cell_type": "markdown",
   "metadata": {
    "id": "resb3397UjKI"
   },
   "source": [
    "## Practical exercises\n",
    "\n",
    "### English\n",
    "\n",
    "That's it for this module, well done for beginning your data analysis journey! When you're ready, please now try the practical exercises below.\n",
    "\n",
    "1. Go to [https://colab.research.google.com](https://colab.research.google.com) and create a new notebook.\n",
    "1. Add a code cell, type some Python code, and run (execute) the cell.\n",
    "1. Add a text cell and type some text, using markdown to format the text, e.g., bold, italic, hyperlinks, etc.\n",
    "1. Practice adding, deleting and moving cells within the notebook.\n",
    "1. Import a package (e.g., `numpy`) and call a function from that package (e.g., `numpy.random.randint()`). Hint: use `?` to display the function parameters if you can't remember them.\n",
    "1. Add a code cell which creates a pandas `DataFrame`. Hint: you can search the web for pandas code examples, and copy-paste the code into your notebook.\n",
    "1. Add a code cell which creates a matplotlib plot. Hint: try the [matplotlib examples gallery](https://matplotlib.org/stable/gallery/index.html) for some code examples to try.\n",
    "1. Add a code cell which creates a plotly plot. Hint: try the [plotly express docs](https://plotly.com/python/plotly-express/#gallery) for some code examples to try.\n",
    "1. Add a code cell which creates a bokeh plot. Hint: try the [bokeh gallery](https://docs.bokeh.org/en/latest/docs/gallery.html#standalone-examples) for some code examples to try.\n",
    "\n",
    "\n",
    "### Français\n",
    "\n",
    "C'est tout pour ce module, félicitations pour le début de votre voyage dans le monde de l'analyse des données! Quand vous êtes prêts, essayez les exercices appliqués ci-dessous.\n",
    "\n",
    "1. Se rendre sur https://colab.research.google.com et créer un nouveau notebook.\n",
    "1. Créer une nouvelle cellule de code, entrer du code Python et exécuter la cellule.\n",
    "1. Ajouter une cellule de texte et entrer du texte, utiliser le markdown pour modifier son format, par exemple en mettant en gras ou en italique certains mots ou en ajoutant un hyperlien.\n",
    "1. S'entrainer à ajouter, supprimer et déplacer les cellules.\n",
    "1. Importer un paquet (par exemple, numpy) et utiliser une fonction de ce paquet (par exemple, numpy.random.randint()). Indice: utiliser ? pour afficher les paramètres si vous les avez oubliés.\n",
    "1. Ajouter une cellule de code qui crée un DataFrame pandas. Indice: vous pouvez chercher un exemple de code pour pandas sur internet et copier-coller le code dans votre notebook.\n",
    "1. Ajouter une cellule de code qui crée un graphe matplotlib. Indice: essayer [la gallerie d'exemples matplotlib](https://matplotlib.org/stable/gallery/index.html) pour des exemples de code.\n",
    "1. Ajouter une cellule de code qui crée un graphe plotly. Indice essayer [les docs plotly express](https://plotly.com/python/plotly-express/#gallery) pour des exemples de code.\n",
    "1. Ajouter une cellule de code qui crée un graphe bokeh. Indice: essayer la [gallerie bokeh](https://docs.bokeh.org/en/latest/docs/gallery.html#standalone-examples) pour des exemples de code."
   ]
  },
  {
   "cell_type": "code",
   "execution_count": null,
   "metadata": {},
   "outputs": [],
   "source": []
  }
 ],
 "metadata": {
  "colab": {
   "collapsed_sections": [],
   "name": "Workshop 1 - Module 1 - Interactive cloud computing with Google Colaboratory - 2022-03-03.ipynb",
   "provenance": []
  },
  "kernelspec": {
   "display_name": "developer-developer-training-nb-maintenance-mgen-15.0.1",
   "language": "python",
   "name": "conda-env-developer-developer-training-nb-maintenance-mgen-15.0.1-py"
  },
  "language_info": {
   "codemirror_mode": {
    "name": "ipython",
    "version": 3
   },
   "file_extension": ".py",
   "mimetype": "text/x-python",
   "name": "python",
   "nbconvert_exporter": "python",
   "pygments_lexer": "ipython3",
   "version": "3.11.11"
  },
  "widgets": {
   "application/vnd.jupyter.widget-state+json": {
    "state": {},
    "version_major": 2,
    "version_minor": 0
   }
  }
 },
 "nbformat": 4,
 "nbformat_minor": 4
}
