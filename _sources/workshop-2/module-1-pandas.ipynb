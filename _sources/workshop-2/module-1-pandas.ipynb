{
 "cells": [
  {
   "cell_type": "markdown",
   "metadata": {
    "id": "F81ULGNjWK8h"
   },
   "source": [
    "![banner](../banner.jpg)\n",
    "\n",
    "***[Workshop 2](about) - Training course in data analysis for genomic surveillance of African malaria vectors***\n",
    "\n",
    "---"
   ]
  },
  {
   "cell_type": "markdown",
   "metadata": {
    "id": "Tf-et1y3WP32"
   },
   "source": [
    "# Module 1 - Introduction to pandas DataFrames\n",
    "\n",
    "**Theme: Tools & Technology**\n",
    "\n",
    "In this module we're going to take a closer look at a Python package called [pandas](https://pandas.pydata.org/), which is an essential part of our data analysis toolkit. We use pandas whenever we need to store, manipulate or analyse tables of data, also known as DataFrames. In this module we'll focus on using pandas to analyse genomic data, but it can be used to analyse any kind of data, so it's a very useful tool to have at your fingertips.      "
   ]
  },
  {
   "cell_type": "markdown",
   "metadata": {
    "id": "vcfJXBpaYus5"
   },
   "source": [
    "## Learning objectives \n",
    "\n",
    "After this module you will be able to:\n",
    "\n",
    "* Explain what a DataFrame is\n",
    "* Access columns and rows from a DataFrame\n",
    "* Use indexes and queries\n",
    "* Write a DataFrame to a file\n",
    "\n",
    "Please note that this module will cover only a small part of the features that pandas provides - see the links at then end of this notebook if you'd like to go further."
   ]
  },
  {
   "cell_type": "markdown",
   "metadata": {},
   "source": [
    "## Lecture"
   ]
  },
  {
   "cell_type": "markdown",
   "metadata": {},
   "source": [
    "### English"
   ]
  },
  {
   "cell_type": "code",
   "execution_count": 1,
   "metadata": {
    "tags": [
     "remove-input"
    ]
   },
   "outputs": [
    {
     "data": {
      "text/html": [
       "<iframe width=\"560\" height=\"315\" src=\"https://www.youtube.com/embed/iIYftkvS0eM\" title=\"YouTube video player\" frameborder=\"0\" allow=\"accelerometer; autoplay; clipboard-write; encrypted-media; gyroscope; picture-in-picture\" allowfullscreen></iframe>\n"
      ],
      "text/plain": [
       "<IPython.core.display.HTML object>"
      ]
     },
     "metadata": {},
     "output_type": "display_data"
    }
   ],
   "source": [
    "%%html\n",
    "<iframe width=\"560\" height=\"315\" src=\"https://www.youtube.com/embed/iIYftkvS0eM\" title=\"YouTube video player\" frameborder=\"0\" allow=\"accelerometer; autoplay; clipboard-write; encrypted-media; gyroscope; picture-in-picture\" allowfullscreen></iframe>"
   ]
  },
  {
   "cell_type": "markdown",
   "metadata": {},
   "source": [
    "### Français "
   ]
  },
  {
   "cell_type": "code",
   "execution_count": 2,
   "metadata": {
    "tags": [
     "remove-input"
    ]
   },
   "outputs": [
    {
     "data": {
      "text/html": [
       "<iframe width=\"560\" height=\"315\" src=\"https://www.youtube.com/embed/RdyXA31iHz8\" title=\"YouTube video player\" frameborder=\"0\" allow=\"accelerometer; autoplay; clipboard-write; encrypted-media; gyroscope; picture-in-picture\" allowfullscreen></iframe>\n"
      ],
      "text/plain": [
       "<IPython.core.display.HTML object>"
      ]
     },
     "metadata": {},
     "output_type": "display_data"
    }
   ],
   "source": [
    "%%html\n",
    "<iframe width=\"560\" height=\"315\" src=\"https://www.youtube.com/embed/RdyXA31iHz8\" title=\"YouTube video player\" frameborder=\"0\" allow=\"accelerometer; autoplay; clipboard-write; encrypted-media; gyroscope; picture-in-picture\" allowfullscreen></iframe>\n"
   ]
  },
  {
   "cell_type": "markdown",
   "metadata": {
    "id": "8U12DTaMZTWE"
   },
   "source": [
    "## Setup\n",
    "\n",
    "Let's install the `malariagen_data` package so we have easy access to some genomic data to demonstrate with. Pandas is already installed on colab."
   ]
  },
  {
   "cell_type": "code",
   "execution_count": 3,
   "metadata": {
    "id": "K8Y2IBOSZiYQ",
    "tags": [
     "remove-output"
    ]
   },
   "outputs": [],
   "source": [
    "!pip install -q --no-warn-conflicts malariagen_data"
   ]
  },
  {
   "cell_type": "markdown",
   "metadata": {
    "id": "Oi_DmBZXZkz9"
   },
   "source": [
    "Now import the `malariagen_data` and `pandas` packages. Note that by convention we use `pd` as an abbreviation for `pandas`."
   ]
  },
  {
   "cell_type": "code",
   "execution_count": 4,
   "metadata": {
    "id": "EojVhHt6Z7a8"
   },
   "outputs": [],
   "source": [
    "import malariagen_data\n",
    "import pandas as pd"
   ]
  },
  {
   "cell_type": "markdown",
   "metadata": {
    "id": "y_y_FnfTZ9Xj"
   },
   "source": [
    "Set up access to the MalariaGEN Ag3.0 data resource."
   ]
  },
  {
   "cell_type": "code",
   "execution_count": 5,
   "metadata": {
    "colab": {
     "base_uri": "https://localhost:8080/",
     "height": 207
    },
    "id": "XEaZOit_aJgT",
    "outputId": "406fc48f-103c-4cf9-f539-deb271219a56"
   },
   "outputs": [
    {
     "data": {
      "application/javascript": [
       "(function(root) {\n",
       "  function now() {\n",
       "    return new Date();\n",
       "  }\n",
       "\n",
       "  const force = true;\n",
       "\n",
       "  if (typeof root._bokeh_onload_callbacks === \"undefined\" || force === true) {\n",
       "    root._bokeh_onload_callbacks = [];\n",
       "    root._bokeh_is_loading = undefined;\n",
       "  }\n",
       "\n",
       "const JS_MIME_TYPE = 'application/javascript';\n",
       "  const HTML_MIME_TYPE = 'text/html';\n",
       "  const EXEC_MIME_TYPE = 'application/vnd.bokehjs_exec.v0+json';\n",
       "  const CLASS_NAME = 'output_bokeh rendered_html';\n",
       "\n",
       "  /**\n",
       "   * Render data to the DOM node\n",
       "   */\n",
       "  function render(props, node) {\n",
       "    const script = document.createElement(\"script\");\n",
       "    node.appendChild(script);\n",
       "  }\n",
       "\n",
       "  /**\n",
       "   * Handle when an output is cleared or removed\n",
       "   */\n",
       "  function handleClearOutput(event, handle) {\n",
       "    const cell = handle.cell;\n",
       "\n",
       "    const id = cell.output_area._bokeh_element_id;\n",
       "    const server_id = cell.output_area._bokeh_server_id;\n",
       "    // Clean up Bokeh references\n",
       "    if (id != null && id in Bokeh.index) {\n",
       "      Bokeh.index[id].model.document.clear();\n",
       "      delete Bokeh.index[id];\n",
       "    }\n",
       "\n",
       "    if (server_id !== undefined) {\n",
       "      // Clean up Bokeh references\n",
       "      const cmd_clean = \"from bokeh.io.state import curstate; print(curstate().uuid_to_server['\" + server_id + \"'].get_sessions()[0].document.roots[0]._id)\";\n",
       "      cell.notebook.kernel.execute(cmd_clean, {\n",
       "        iopub: {\n",
       "          output: function(msg) {\n",
       "            const id = msg.content.text.trim();\n",
       "            if (id in Bokeh.index) {\n",
       "              Bokeh.index[id].model.document.clear();\n",
       "              delete Bokeh.index[id];\n",
       "            }\n",
       "          }\n",
       "        }\n",
       "      });\n",
       "      // Destroy server and session\n",
       "      const cmd_destroy = \"import bokeh.io.notebook as ion; ion.destroy_server('\" + server_id + \"')\";\n",
       "      cell.notebook.kernel.execute(cmd_destroy);\n",
       "    }\n",
       "  }\n",
       "\n",
       "  /**\n",
       "   * Handle when a new output is added\n",
       "   */\n",
       "  function handleAddOutput(event, handle) {\n",
       "    const output_area = handle.output_area;\n",
       "    const output = handle.output;\n",
       "\n",
       "    // limit handleAddOutput to display_data with EXEC_MIME_TYPE content only\n",
       "    if ((output.output_type != \"display_data\") || (!Object.prototype.hasOwnProperty.call(output.data, EXEC_MIME_TYPE))) {\n",
       "      return\n",
       "    }\n",
       "\n",
       "    const toinsert = output_area.element.find(\".\" + CLASS_NAME.split(' ')[0]);\n",
       "\n",
       "    if (output.metadata[EXEC_MIME_TYPE][\"id\"] !== undefined) {\n",
       "      toinsert[toinsert.length - 1].firstChild.textContent = output.data[JS_MIME_TYPE];\n",
       "      // store reference to embed id on output_area\n",
       "      output_area._bokeh_element_id = output.metadata[EXEC_MIME_TYPE][\"id\"];\n",
       "    }\n",
       "    if (output.metadata[EXEC_MIME_TYPE][\"server_id\"] !== undefined) {\n",
       "      const bk_div = document.createElement(\"div\");\n",
       "      bk_div.innerHTML = output.data[HTML_MIME_TYPE];\n",
       "      const script_attrs = bk_div.children[0].attributes;\n",
       "      for (let i = 0; i < script_attrs.length; i++) {\n",
       "        toinsert[toinsert.length - 1].firstChild.setAttribute(script_attrs[i].name, script_attrs[i].value);\n",
       "        toinsert[toinsert.length - 1].firstChild.textContent = bk_div.children[0].textContent\n",
       "      }\n",
       "      // store reference to server id on output_area\n",
       "      output_area._bokeh_server_id = output.metadata[EXEC_MIME_TYPE][\"server_id\"];\n",
       "    }\n",
       "  }\n",
       "\n",
       "  function register_renderer(events, OutputArea) {\n",
       "\n",
       "    function append_mime(data, metadata, element) {\n",
       "      // create a DOM node to render to\n",
       "      const toinsert = this.create_output_subarea(\n",
       "        metadata,\n",
       "        CLASS_NAME,\n",
       "        EXEC_MIME_TYPE\n",
       "      );\n",
       "      this.keyboard_manager.register_events(toinsert);\n",
       "      // Render to node\n",
       "      const props = {data: data, metadata: metadata[EXEC_MIME_TYPE]};\n",
       "      render(props, toinsert[toinsert.length - 1]);\n",
       "      element.append(toinsert);\n",
       "      return toinsert\n",
       "    }\n",
       "\n",
       "    /* Handle when an output is cleared or removed */\n",
       "    events.on('clear_output.CodeCell', handleClearOutput);\n",
       "    events.on('delete.Cell', handleClearOutput);\n",
       "\n",
       "    /* Handle when a new output is added */\n",
       "    events.on('output_added.OutputArea', handleAddOutput);\n",
       "\n",
       "    /**\n",
       "     * Register the mime type and append_mime function with output_area\n",
       "     */\n",
       "    OutputArea.prototype.register_mime_type(EXEC_MIME_TYPE, append_mime, {\n",
       "      /* Is output safe? */\n",
       "      safe: true,\n",
       "      /* Index of renderer in `output_area.display_order` */\n",
       "      index: 0\n",
       "    });\n",
       "  }\n",
       "\n",
       "  // register the mime type if in Jupyter Notebook environment and previously unregistered\n",
       "  if (root.Jupyter !== undefined) {\n",
       "    const events = require('base/js/events');\n",
       "    const OutputArea = require('notebook/js/outputarea').OutputArea;\n",
       "\n",
       "    if (OutputArea.prototype.mime_types().indexOf(EXEC_MIME_TYPE) == -1) {\n",
       "      register_renderer(events, OutputArea);\n",
       "    }\n",
       "  }\n",
       "  if (typeof (root._bokeh_timeout) === \"undefined\" || force === true) {\n",
       "    root._bokeh_timeout = Date.now() + 5000;\n",
       "    root._bokeh_failed_load = false;\n",
       "  }\n",
       "\n",
       "  const NB_LOAD_WARNING = {'data': {'text/html':\n",
       "     \"<div style='background-color: #fdd'>\\n\"+\n",
       "     \"<p>\\n\"+\n",
       "     \"BokehJS does not appear to have successfully loaded. If loading BokehJS from CDN, this \\n\"+\n",
       "     \"may be due to a slow or bad network connection. Possible fixes:\\n\"+\n",
       "     \"</p>\\n\"+\n",
       "     \"<ul>\\n\"+\n",
       "     \"<li>re-rerun `output_notebook()` to attempt to load from CDN again, or</li>\\n\"+\n",
       "     \"<li>use INLINE resources instead, as so:</li>\\n\"+\n",
       "     \"</ul>\\n\"+\n",
       "     \"<code>\\n\"+\n",
       "     \"from bokeh.resources import INLINE\\n\"+\n",
       "     \"output_notebook(resources=INLINE)\\n\"+\n",
       "     \"</code>\\n\"+\n",
       "     \"</div>\"}};\n",
       "\n",
       "  function display_loaded() {\n",
       "    const el = document.getElementById(null);\n",
       "    if (el != null) {\n",
       "      el.textContent = \"BokehJS is loading...\";\n",
       "    }\n",
       "    if (root.Bokeh !== undefined) {\n",
       "      if (el != null) {\n",
       "        el.textContent = \"BokehJS \" + root.Bokeh.version + \" successfully loaded.\";\n",
       "      }\n",
       "    } else if (Date.now() < root._bokeh_timeout) {\n",
       "      setTimeout(display_loaded, 100)\n",
       "    }\n",
       "  }\n",
       "\n",
       "  function run_callbacks() {\n",
       "    try {\n",
       "      root._bokeh_onload_callbacks.forEach(function(callback) {\n",
       "        if (callback != null)\n",
       "          callback();\n",
       "      });\n",
       "    } finally {\n",
       "      delete root._bokeh_onload_callbacks\n",
       "    }\n",
       "    console.debug(\"Bokeh: all callbacks have finished\");\n",
       "  }\n",
       "\n",
       "  function load_libs(css_urls, js_urls, callback) {\n",
       "    if (css_urls == null) css_urls = [];\n",
       "    if (js_urls == null) js_urls = [];\n",
       "\n",
       "    root._bokeh_onload_callbacks.push(callback);\n",
       "    if (root._bokeh_is_loading > 0) {\n",
       "      console.debug(\"Bokeh: BokehJS is being loaded, scheduling callback at\", now());\n",
       "      return null;\n",
       "    }\n",
       "    if (js_urls == null || js_urls.length === 0) {\n",
       "      run_callbacks();\n",
       "      return null;\n",
       "    }\n",
       "    console.debug(\"Bokeh: BokehJS not loaded, scheduling load and callback at\", now());\n",
       "    root._bokeh_is_loading = css_urls.length + js_urls.length;\n",
       "\n",
       "    function on_load() {\n",
       "      root._bokeh_is_loading--;\n",
       "      if (root._bokeh_is_loading === 0) {\n",
       "        console.debug(\"Bokeh: all BokehJS libraries/stylesheets loaded\");\n",
       "        run_callbacks()\n",
       "      }\n",
       "    }\n",
       "\n",
       "    function on_error(url) {\n",
       "      console.error(\"failed to load \" + url);\n",
       "    }\n",
       "\n",
       "    for (let i = 0; i < css_urls.length; i++) {\n",
       "      const url = css_urls[i];\n",
       "      const element = document.createElement(\"link\");\n",
       "      element.onload = on_load;\n",
       "      element.onerror = on_error.bind(null, url);\n",
       "      element.rel = \"stylesheet\";\n",
       "      element.type = \"text/css\";\n",
       "      element.href = url;\n",
       "      console.debug(\"Bokeh: injecting link tag for BokehJS stylesheet: \", url);\n",
       "      document.body.appendChild(element);\n",
       "    }\n",
       "\n",
       "    for (let i = 0; i < js_urls.length; i++) {\n",
       "      const url = js_urls[i];\n",
       "      const element = document.createElement('script');\n",
       "      element.onload = on_load;\n",
       "      element.onerror = on_error.bind(null, url);\n",
       "      element.async = false;\n",
       "      element.src = url;\n",
       "      console.debug(\"Bokeh: injecting script tag for BokehJS library: \", url);\n",
       "      document.head.appendChild(element);\n",
       "    }\n",
       "  };\n",
       "\n",
       "  function inject_raw_css(css) {\n",
       "    const element = document.createElement(\"style\");\n",
       "    element.appendChild(document.createTextNode(css));\n",
       "    document.body.appendChild(element);\n",
       "  }\n",
       "\n",
       "  const js_urls = [\"https://cdn.bokeh.org/bokeh/release/bokeh-3.1.1.min.js\", \"https://cdn.bokeh.org/bokeh/release/bokeh-gl-3.1.1.min.js\", \"https://cdn.bokeh.org/bokeh/release/bokeh-widgets-3.1.1.min.js\", \"https://cdn.bokeh.org/bokeh/release/bokeh-tables-3.1.1.min.js\", \"https://cdn.bokeh.org/bokeh/release/bokeh-mathjax-3.1.1.min.js\"];\n",
       "  const css_urls = [];\n",
       "\n",
       "  const inline_js = [    function(Bokeh) {\n",
       "      Bokeh.set_log_level(\"info\");\n",
       "    },\n",
       "function(Bokeh) {\n",
       "    }\n",
       "  ];\n",
       "\n",
       "  function run_inline_js() {\n",
       "    if (root.Bokeh !== undefined || force === true) {\n",
       "          for (let i = 0; i < inline_js.length; i++) {\n",
       "      inline_js[i].call(root, root.Bokeh);\n",
       "    }\n",
       "} else if (Date.now() < root._bokeh_timeout) {\n",
       "      setTimeout(run_inline_js, 100);\n",
       "    } else if (!root._bokeh_failed_load) {\n",
       "      console.log(\"Bokeh: BokehJS failed to load within specified timeout.\");\n",
       "      root._bokeh_failed_load = true;\n",
       "    } else if (force !== true) {\n",
       "      const cell = $(document.getElementById(null)).parents('.cell').data().cell;\n",
       "      cell.output_area.append_execute_result(NB_LOAD_WARNING)\n",
       "    }\n",
       "  }\n",
       "\n",
       "  if (root._bokeh_is_loading === 0) {\n",
       "    console.debug(\"Bokeh: BokehJS loaded, going straight to plotting\");\n",
       "    run_inline_js();\n",
       "  } else {\n",
       "    load_libs(css_urls, js_urls, function() {\n",
       "      console.debug(\"Bokeh: BokehJS plotting callback run at\", now());\n",
       "      run_inline_js();\n",
       "    });\n",
       "  }\n",
       "}(window));"
      ],
      "application/vnd.bokehjs_load.v0+json": "(function(root) {\n  function now() {\n    return new Date();\n  }\n\n  const force = true;\n\n  if (typeof root._bokeh_onload_callbacks === \"undefined\" || force === true) {\n    root._bokeh_onload_callbacks = [];\n    root._bokeh_is_loading = undefined;\n  }\n\n\n  if (typeof (root._bokeh_timeout) === \"undefined\" || force === true) {\n    root._bokeh_timeout = Date.now() + 5000;\n    root._bokeh_failed_load = false;\n  }\n\n  const NB_LOAD_WARNING = {'data': {'text/html':\n     \"<div style='background-color: #fdd'>\\n\"+\n     \"<p>\\n\"+\n     \"BokehJS does not appear to have successfully loaded. If loading BokehJS from CDN, this \\n\"+\n     \"may be due to a slow or bad network connection. Possible fixes:\\n\"+\n     \"</p>\\n\"+\n     \"<ul>\\n\"+\n     \"<li>re-rerun `output_notebook()` to attempt to load from CDN again, or</li>\\n\"+\n     \"<li>use INLINE resources instead, as so:</li>\\n\"+\n     \"</ul>\\n\"+\n     \"<code>\\n\"+\n     \"from bokeh.resources import INLINE\\n\"+\n     \"output_notebook(resources=INLINE)\\n\"+\n     \"</code>\\n\"+\n     \"</div>\"}};\n\n  function display_loaded() {\n    const el = document.getElementById(null);\n    if (el != null) {\n      el.textContent = \"BokehJS is loading...\";\n    }\n    if (root.Bokeh !== undefined) {\n      if (el != null) {\n        el.textContent = \"BokehJS \" + root.Bokeh.version + \" successfully loaded.\";\n      }\n    } else if (Date.now() < root._bokeh_timeout) {\n      setTimeout(display_loaded, 100)\n    }\n  }\n\n  function run_callbacks() {\n    try {\n      root._bokeh_onload_callbacks.forEach(function(callback) {\n        if (callback != null)\n          callback();\n      });\n    } finally {\n      delete root._bokeh_onload_callbacks\n    }\n    console.debug(\"Bokeh: all callbacks have finished\");\n  }\n\n  function load_libs(css_urls, js_urls, callback) {\n    if (css_urls == null) css_urls = [];\n    if (js_urls == null) js_urls = [];\n\n    root._bokeh_onload_callbacks.push(callback);\n    if (root._bokeh_is_loading > 0) {\n      console.debug(\"Bokeh: BokehJS is being loaded, scheduling callback at\", now());\n      return null;\n    }\n    if (js_urls == null || js_urls.length === 0) {\n      run_callbacks();\n      return null;\n    }\n    console.debug(\"Bokeh: BokehJS not loaded, scheduling load and callback at\", now());\n    root._bokeh_is_loading = css_urls.length + js_urls.length;\n\n    function on_load() {\n      root._bokeh_is_loading--;\n      if (root._bokeh_is_loading === 0) {\n        console.debug(\"Bokeh: all BokehJS libraries/stylesheets loaded\");\n        run_callbacks()\n      }\n    }\n\n    function on_error(url) {\n      console.error(\"failed to load \" + url);\n    }\n\n    for (let i = 0; i < css_urls.length; i++) {\n      const url = css_urls[i];\n      const element = document.createElement(\"link\");\n      element.onload = on_load;\n      element.onerror = on_error.bind(null, url);\n      element.rel = \"stylesheet\";\n      element.type = \"text/css\";\n      element.href = url;\n      console.debug(\"Bokeh: injecting link tag for BokehJS stylesheet: \", url);\n      document.body.appendChild(element);\n    }\n\n    for (let i = 0; i < js_urls.length; i++) {\n      const url = js_urls[i];\n      const element = document.createElement('script');\n      element.onload = on_load;\n      element.onerror = on_error.bind(null, url);\n      element.async = false;\n      element.src = url;\n      console.debug(\"Bokeh: injecting script tag for BokehJS library: \", url);\n      document.head.appendChild(element);\n    }\n  };\n\n  function inject_raw_css(css) {\n    const element = document.createElement(\"style\");\n    element.appendChild(document.createTextNode(css));\n    document.body.appendChild(element);\n  }\n\n  const js_urls = [\"https://cdn.bokeh.org/bokeh/release/bokeh-3.1.1.min.js\", \"https://cdn.bokeh.org/bokeh/release/bokeh-gl-3.1.1.min.js\", \"https://cdn.bokeh.org/bokeh/release/bokeh-widgets-3.1.1.min.js\", \"https://cdn.bokeh.org/bokeh/release/bokeh-tables-3.1.1.min.js\", \"https://cdn.bokeh.org/bokeh/release/bokeh-mathjax-3.1.1.min.js\"];\n  const css_urls = [];\n\n  const inline_js = [    function(Bokeh) {\n      Bokeh.set_log_level(\"info\");\n    },\nfunction(Bokeh) {\n    }\n  ];\n\n  function run_inline_js() {\n    if (root.Bokeh !== undefined || force === true) {\n          for (let i = 0; i < inline_js.length; i++) {\n      inline_js[i].call(root, root.Bokeh);\n    }\n} else if (Date.now() < root._bokeh_timeout) {\n      setTimeout(run_inline_js, 100);\n    } else if (!root._bokeh_failed_load) {\n      console.log(\"Bokeh: BokehJS failed to load within specified timeout.\");\n      root._bokeh_failed_load = true;\n    } else if (force !== true) {\n      const cell = $(document.getElementById(null)).parents('.cell').data().cell;\n      cell.output_area.append_execute_result(NB_LOAD_WARNING)\n    }\n  }\n\n  if (root._bokeh_is_loading === 0) {\n    console.debug(\"Bokeh: BokehJS loaded, going straight to plotting\");\n    run_inline_js();\n  } else {\n    load_libs(css_urls, js_urls, function() {\n      console.debug(\"Bokeh: BokehJS plotting callback run at\", now());\n      run_inline_js();\n    });\n  }\n}(window));"
     },
     "metadata": {},
     "output_type": "display_data"
    },
    {
     "data": {
      "text/html": [
       "\n",
       "            <table class=\"malariagen-ag3\">\n",
       "                <thead>\n",
       "                    <tr>\n",
       "                        <th style=\"text-align: left\" colspan=\"2\">MalariaGEN Ag3 API client</th>\n",
       "                    </tr>\n",
       "                    <tr><td colspan=\"2\" style=\"text-align: left\">\n",
       "                        Please note that data are subject to terms of use,\n",
       "                        for more information see <a href=\"https://www.malariagen.net/data\">\n",
       "                        the MalariaGEN website</a> or contact data@malariagen.net.\n",
       "                        See also the <a href=\"https://malariagen.github.io/vector-data/ag3/api.html\">Ag3 API docs</a>.\n",
       "                    </td></tr>\n",
       "                </thead>\n",
       "                <tbody>\n",
       "                    <tr>\n",
       "                        <th style=\"text-align: left\">\n",
       "                            Storage URL\n",
       "                        </th>\n",
       "                        <td>gs://vo_agam_release/</td>\n",
       "                    </tr>\n",
       "                    <tr>\n",
       "                        <th style=\"text-align: left\">\n",
       "                            Data releases available\n",
       "                        </th>\n",
       "                        <td>3.0</td>\n",
       "                    </tr>\n",
       "                    <tr>\n",
       "                        <th style=\"text-align: left\">\n",
       "                            Results cache\n",
       "                        </th>\n",
       "                        <td>None</td>\n",
       "                    </tr>\n",
       "                    <tr>\n",
       "                        <th style=\"text-align: left\">\n",
       "                            Cohorts analysis\n",
       "                        </th>\n",
       "                        <td>20230516</td>\n",
       "                    </tr>\n",
       "                    <tr>\n",
       "                        <th style=\"text-align: left\">\n",
       "                            AIM analysis\n",
       "                        </th>\n",
       "                        <td>20220528</td>\n",
       "                    </tr>\n",
       "                    <tr>\n",
       "                        <th style=\"text-align: left\">\n",
       "                            Site filters analysis\n",
       "                        </th>\n",
       "                        <td>dt_20200416</td>\n",
       "                    </tr>\n",
       "                    <tr>\n",
       "                        <th style=\"text-align: left\">\n",
       "                            Software version\n",
       "                        </th>\n",
       "                        <td>malariagen_data 7.10.0</td>\n",
       "                    </tr>\n",
       "                    <tr>\n",
       "                        <th style=\"text-align: left\">\n",
       "                            Client location\n",
       "                        </th>\n",
       "                        <td>unknown</td>\n",
       "                    </tr>\n",
       "                </tbody>\n",
       "            </table>\n",
       "        "
      ],
      "text/plain": [
       "<MalariaGEN Ag3 API client>\n",
       "Storage URL             : gs://vo_agam_release/\n",
       "Data releases available : 3.0\n",
       "Results cache           : None\n",
       "Cohorts analysis        : 20230516\n",
       "AIM analysis            : 20220528\n",
       "Site filters analysis   : dt_20200416\n",
       "Software version        : malariagen_data 7.10.0\n",
       "Client location         : unknown\n",
       "---\n",
       "Please note that data are subject to terms of use,\n",
       "for more information see https://www.malariagen.net/data\n",
       "or contact data@malariagen.net. For API documentation see \n",
       "https://malariagen.github.io/vector-data/ag3/api.html"
      ]
     },
     "execution_count": 5,
     "metadata": {},
     "output_type": "execute_result"
    }
   ],
   "source": [
    "ag3 = malariagen_data.Ag3()\n",
    "ag3"
   ]
  },
  {
   "cell_type": "markdown",
   "metadata": {
    "id": "e9wRtZLlaLTr"
   },
   "source": [
    "## pandas DataFrames\n",
    "\n",
    "We use the pandas `DataFrame` class whenever we want to store and analyse data that can be structured as a table with rows and columns. Let's take a look at some examples of DataFrames that we met in the [first workshop](https://anopheles-genomic-surveillance.github.io/workshop-1/about.html) of this training course."
   ]
  },
  {
   "cell_type": "markdown",
   "metadata": {
    "id": "bhgLbyf0anqY"
   },
   "source": [
    "### Example: sample metadata\n",
    "\n",
    "In [workshop 1, module 2](https://anopheles-genomic-surveillance.github.io/workshop-1/module-2-sample-metadata.html) we encountered the [sample_metadata()](https://malariagen.github.io/vector-data/ag3/api.html#sample-metadata) function. This function returns a DataFrame of sample metadata. Let's call this function and assign the result to the variable `df_samples`."
   ]
  },
  {
   "cell_type": "code",
   "execution_count": 6,
   "metadata": {
    "id": "mAWSZ6htbD8L"
   },
   "outputs": [],
   "source": [
    "df_samples = ag3.sample_metadata(sample_sets=\"3.0\")"
   ]
  },
  {
   "cell_type": "markdown",
   "metadata": {
    "id": "MSHG6MePboMf"
   },
   "source": [
    "Check what type of object we have received."
   ]
  },
  {
   "cell_type": "code",
   "execution_count": 7,
   "metadata": {
    "colab": {
     "base_uri": "https://localhost:8080/"
    },
    "id": "1TlAAuZubsbL",
    "outputId": "3ff14245-9d54-45e9-d00e-6c2c5d68aab9"
   },
   "outputs": [
    {
     "data": {
      "text/plain": [
       "pandas.core.frame.DataFrame"
      ]
     },
     "execution_count": 7,
     "metadata": {},
     "output_type": "execute_result"
    }
   ],
   "source": [
    "type(df_samples)"
   ]
  },
  {
   "cell_type": "markdown",
   "metadata": {
    "id": "HTtb8kTcbwCm"
   },
   "source": [
    "Inspect the data in the DataFrame by running a code cell containing just the name of the variable."
   ]
  },
  {
   "cell_type": "code",
   "execution_count": 8,
   "metadata": {
    "colab": {
     "base_uri": "https://localhost:8080/",
     "height": 661
    },
    "id": "aLmcvRG2b7Gj",
    "outputId": "1ff8b23d-6805-4a8e-f966-3e3687f6af54"
   },
   "outputs": [
    {
     "data": {
      "text/html": [
       "<div>\n",
       "<style scoped>\n",
       "    .dataframe tbody tr th:only-of-type {\n",
       "        vertical-align: middle;\n",
       "    }\n",
       "\n",
       "    .dataframe tbody tr th {\n",
       "        vertical-align: top;\n",
       "    }\n",
       "\n",
       "    .dataframe thead th {\n",
       "        text-align: right;\n",
       "    }\n",
       "</style>\n",
       "<table border=\"1\" class=\"dataframe\">\n",
       "  <thead>\n",
       "    <tr style=\"text-align: right;\">\n",
       "      <th></th>\n",
       "      <th>sample_id</th>\n",
       "      <th>partner_sample_id</th>\n",
       "      <th>contributor</th>\n",
       "      <th>country</th>\n",
       "      <th>location</th>\n",
       "      <th>year</th>\n",
       "      <th>month</th>\n",
       "      <th>latitude</th>\n",
       "      <th>longitude</th>\n",
       "      <th>sex_call</th>\n",
       "      <th>...</th>\n",
       "      <th>admin1_name</th>\n",
       "      <th>admin1_iso</th>\n",
       "      <th>admin2_name</th>\n",
       "      <th>taxon</th>\n",
       "      <th>cohort_admin1_year</th>\n",
       "      <th>cohort_admin1_month</th>\n",
       "      <th>cohort_admin1_quarter</th>\n",
       "      <th>cohort_admin2_year</th>\n",
       "      <th>cohort_admin2_month</th>\n",
       "      <th>cohort_admin2_quarter</th>\n",
       "    </tr>\n",
       "  </thead>\n",
       "  <tbody>\n",
       "    <tr>\n",
       "      <th>0</th>\n",
       "      <td>AR0047-C</td>\n",
       "      <td>LUA047</td>\n",
       "      <td>Joao Pinto</td>\n",
       "      <td>Angola</td>\n",
       "      <td>Luanda</td>\n",
       "      <td>2009</td>\n",
       "      <td>4</td>\n",
       "      <td>-8.884</td>\n",
       "      <td>13.302</td>\n",
       "      <td>F</td>\n",
       "      <td>...</td>\n",
       "      <td>Luanda</td>\n",
       "      <td>AO-LUA</td>\n",
       "      <td>Luanda</td>\n",
       "      <td>coluzzii</td>\n",
       "      <td>AO-LUA_colu_2009</td>\n",
       "      <td>AO-LUA_colu_2009_04</td>\n",
       "      <td>AO-LUA_colu_2009_Q2</td>\n",
       "      <td>AO-LUA_Luanda_colu_2009</td>\n",
       "      <td>AO-LUA_Luanda_colu_2009_04</td>\n",
       "      <td>AO-LUA_Luanda_colu_2009_Q2</td>\n",
       "    </tr>\n",
       "    <tr>\n",
       "      <th>1</th>\n",
       "      <td>AR0049-C</td>\n",
       "      <td>LUA049</td>\n",
       "      <td>Joao Pinto</td>\n",
       "      <td>Angola</td>\n",
       "      <td>Luanda</td>\n",
       "      <td>2009</td>\n",
       "      <td>4</td>\n",
       "      <td>-8.884</td>\n",
       "      <td>13.302</td>\n",
       "      <td>F</td>\n",
       "      <td>...</td>\n",
       "      <td>Luanda</td>\n",
       "      <td>AO-LUA</td>\n",
       "      <td>Luanda</td>\n",
       "      <td>coluzzii</td>\n",
       "      <td>AO-LUA_colu_2009</td>\n",
       "      <td>AO-LUA_colu_2009_04</td>\n",
       "      <td>AO-LUA_colu_2009_Q2</td>\n",
       "      <td>AO-LUA_Luanda_colu_2009</td>\n",
       "      <td>AO-LUA_Luanda_colu_2009_04</td>\n",
       "      <td>AO-LUA_Luanda_colu_2009_Q2</td>\n",
       "    </tr>\n",
       "    <tr>\n",
       "      <th>2</th>\n",
       "      <td>AR0051-C</td>\n",
       "      <td>LUA051</td>\n",
       "      <td>Joao Pinto</td>\n",
       "      <td>Angola</td>\n",
       "      <td>Luanda</td>\n",
       "      <td>2009</td>\n",
       "      <td>4</td>\n",
       "      <td>-8.884</td>\n",
       "      <td>13.302</td>\n",
       "      <td>F</td>\n",
       "      <td>...</td>\n",
       "      <td>Luanda</td>\n",
       "      <td>AO-LUA</td>\n",
       "      <td>Luanda</td>\n",
       "      <td>coluzzii</td>\n",
       "      <td>AO-LUA_colu_2009</td>\n",
       "      <td>AO-LUA_colu_2009_04</td>\n",
       "      <td>AO-LUA_colu_2009_Q2</td>\n",
       "      <td>AO-LUA_Luanda_colu_2009</td>\n",
       "      <td>AO-LUA_Luanda_colu_2009_04</td>\n",
       "      <td>AO-LUA_Luanda_colu_2009_Q2</td>\n",
       "    </tr>\n",
       "    <tr>\n",
       "      <th>3</th>\n",
       "      <td>AR0061-C</td>\n",
       "      <td>LUA061</td>\n",
       "      <td>Joao Pinto</td>\n",
       "      <td>Angola</td>\n",
       "      <td>Luanda</td>\n",
       "      <td>2009</td>\n",
       "      <td>4</td>\n",
       "      <td>-8.884</td>\n",
       "      <td>13.302</td>\n",
       "      <td>F</td>\n",
       "      <td>...</td>\n",
       "      <td>Luanda</td>\n",
       "      <td>AO-LUA</td>\n",
       "      <td>Luanda</td>\n",
       "      <td>coluzzii</td>\n",
       "      <td>AO-LUA_colu_2009</td>\n",
       "      <td>AO-LUA_colu_2009_04</td>\n",
       "      <td>AO-LUA_colu_2009_Q2</td>\n",
       "      <td>AO-LUA_Luanda_colu_2009</td>\n",
       "      <td>AO-LUA_Luanda_colu_2009_04</td>\n",
       "      <td>AO-LUA_Luanda_colu_2009_Q2</td>\n",
       "    </tr>\n",
       "    <tr>\n",
       "      <th>4</th>\n",
       "      <td>AR0078-C</td>\n",
       "      <td>LUA078</td>\n",
       "      <td>Joao Pinto</td>\n",
       "      <td>Angola</td>\n",
       "      <td>Luanda</td>\n",
       "      <td>2009</td>\n",
       "      <td>4</td>\n",
       "      <td>-8.884</td>\n",
       "      <td>13.302</td>\n",
       "      <td>F</td>\n",
       "      <td>...</td>\n",
       "      <td>Luanda</td>\n",
       "      <td>AO-LUA</td>\n",
       "      <td>Luanda</td>\n",
       "      <td>coluzzii</td>\n",
       "      <td>AO-LUA_colu_2009</td>\n",
       "      <td>AO-LUA_colu_2009_04</td>\n",
       "      <td>AO-LUA_colu_2009_Q2</td>\n",
       "      <td>AO-LUA_Luanda_colu_2009</td>\n",
       "      <td>AO-LUA_Luanda_colu_2009_04</td>\n",
       "      <td>AO-LUA_Luanda_colu_2009_Q2</td>\n",
       "    </tr>\n",
       "    <tr>\n",
       "      <th>...</th>\n",
       "      <td>...</td>\n",
       "      <td>...</td>\n",
       "      <td>...</td>\n",
       "      <td>...</td>\n",
       "      <td>...</td>\n",
       "      <td>...</td>\n",
       "      <td>...</td>\n",
       "      <td>...</td>\n",
       "      <td>...</td>\n",
       "      <td>...</td>\n",
       "      <td>...</td>\n",
       "      <td>...</td>\n",
       "      <td>...</td>\n",
       "      <td>...</td>\n",
       "      <td>...</td>\n",
       "      <td>...</td>\n",
       "      <td>...</td>\n",
       "      <td>...</td>\n",
       "      <td>...</td>\n",
       "      <td>...</td>\n",
       "      <td>...</td>\n",
       "    </tr>\n",
       "    <tr>\n",
       "      <th>3076</th>\n",
       "      <td>AD0494-C</td>\n",
       "      <td>80-2-o-16</td>\n",
       "      <td>Martin Donnelly</td>\n",
       "      <td>Lab Cross</td>\n",
       "      <td>LSTM</td>\n",
       "      <td>-1</td>\n",
       "      <td>-1</td>\n",
       "      <td>53.409</td>\n",
       "      <td>-2.969</td>\n",
       "      <td>F</td>\n",
       "      <td>...</td>\n",
       "      <td>NaN</td>\n",
       "      <td>NaN</td>\n",
       "      <td>NaN</td>\n",
       "      <td>unassigned</td>\n",
       "      <td>NaN</td>\n",
       "      <td>NaN</td>\n",
       "      <td>NaN</td>\n",
       "      <td>NaN</td>\n",
       "      <td>NaN</td>\n",
       "      <td>NaN</td>\n",
       "    </tr>\n",
       "    <tr>\n",
       "      <th>3077</th>\n",
       "      <td>AD0495-C</td>\n",
       "      <td>80-2-o-17</td>\n",
       "      <td>Martin Donnelly</td>\n",
       "      <td>Lab Cross</td>\n",
       "      <td>LSTM</td>\n",
       "      <td>-1</td>\n",
       "      <td>-1</td>\n",
       "      <td>53.409</td>\n",
       "      <td>-2.969</td>\n",
       "      <td>M</td>\n",
       "      <td>...</td>\n",
       "      <td>NaN</td>\n",
       "      <td>NaN</td>\n",
       "      <td>NaN</td>\n",
       "      <td>unassigned</td>\n",
       "      <td>NaN</td>\n",
       "      <td>NaN</td>\n",
       "      <td>NaN</td>\n",
       "      <td>NaN</td>\n",
       "      <td>NaN</td>\n",
       "      <td>NaN</td>\n",
       "    </tr>\n",
       "    <tr>\n",
       "      <th>3078</th>\n",
       "      <td>AD0496-C</td>\n",
       "      <td>80-2-o-18</td>\n",
       "      <td>Martin Donnelly</td>\n",
       "      <td>Lab Cross</td>\n",
       "      <td>LSTM</td>\n",
       "      <td>-1</td>\n",
       "      <td>-1</td>\n",
       "      <td>53.409</td>\n",
       "      <td>-2.969</td>\n",
       "      <td>M</td>\n",
       "      <td>...</td>\n",
       "      <td>NaN</td>\n",
       "      <td>NaN</td>\n",
       "      <td>NaN</td>\n",
       "      <td>unassigned</td>\n",
       "      <td>NaN</td>\n",
       "      <td>NaN</td>\n",
       "      <td>NaN</td>\n",
       "      <td>NaN</td>\n",
       "      <td>NaN</td>\n",
       "      <td>NaN</td>\n",
       "    </tr>\n",
       "    <tr>\n",
       "      <th>3079</th>\n",
       "      <td>AD0497-C</td>\n",
       "      <td>80-2-o-19</td>\n",
       "      <td>Martin Donnelly</td>\n",
       "      <td>Lab Cross</td>\n",
       "      <td>LSTM</td>\n",
       "      <td>-1</td>\n",
       "      <td>-1</td>\n",
       "      <td>53.409</td>\n",
       "      <td>-2.969</td>\n",
       "      <td>F</td>\n",
       "      <td>...</td>\n",
       "      <td>NaN</td>\n",
       "      <td>NaN</td>\n",
       "      <td>NaN</td>\n",
       "      <td>unassigned</td>\n",
       "      <td>NaN</td>\n",
       "      <td>NaN</td>\n",
       "      <td>NaN</td>\n",
       "      <td>NaN</td>\n",
       "      <td>NaN</td>\n",
       "      <td>NaN</td>\n",
       "    </tr>\n",
       "    <tr>\n",
       "      <th>3080</th>\n",
       "      <td>AD0498-C</td>\n",
       "      <td>80-2-o-20</td>\n",
       "      <td>Martin Donnelly</td>\n",
       "      <td>Lab Cross</td>\n",
       "      <td>LSTM</td>\n",
       "      <td>-1</td>\n",
       "      <td>-1</td>\n",
       "      <td>53.409</td>\n",
       "      <td>-2.969</td>\n",
       "      <td>M</td>\n",
       "      <td>...</td>\n",
       "      <td>NaN</td>\n",
       "      <td>NaN</td>\n",
       "      <td>NaN</td>\n",
       "      <td>unassigned</td>\n",
       "      <td>NaN</td>\n",
       "      <td>NaN</td>\n",
       "      <td>NaN</td>\n",
       "      <td>NaN</td>\n",
       "      <td>NaN</td>\n",
       "      <td>NaN</td>\n",
       "    </tr>\n",
       "  </tbody>\n",
       "</table>\n",
       "<p>3081 rows × 30 columns</p>\n",
       "</div>"
      ],
      "text/plain": [
       "     sample_id partner_sample_id      contributor    country location  year  \\\n",
       "0     AR0047-C            LUA047       Joao Pinto     Angola   Luanda  2009   \n",
       "1     AR0049-C            LUA049       Joao Pinto     Angola   Luanda  2009   \n",
       "2     AR0051-C            LUA051       Joao Pinto     Angola   Luanda  2009   \n",
       "3     AR0061-C            LUA061       Joao Pinto     Angola   Luanda  2009   \n",
       "4     AR0078-C            LUA078       Joao Pinto     Angola   Luanda  2009   \n",
       "...        ...               ...              ...        ...      ...   ...   \n",
       "3076  AD0494-C         80-2-o-16  Martin Donnelly  Lab Cross     LSTM    -1   \n",
       "3077  AD0495-C         80-2-o-17  Martin Donnelly  Lab Cross     LSTM    -1   \n",
       "3078  AD0496-C         80-2-o-18  Martin Donnelly  Lab Cross     LSTM    -1   \n",
       "3079  AD0497-C         80-2-o-19  Martin Donnelly  Lab Cross     LSTM    -1   \n",
       "3080  AD0498-C         80-2-o-20  Martin Donnelly  Lab Cross     LSTM    -1   \n",
       "\n",
       "      month  latitude  longitude sex_call  ... admin1_name admin1_iso  \\\n",
       "0         4    -8.884     13.302        F  ...      Luanda     AO-LUA   \n",
       "1         4    -8.884     13.302        F  ...      Luanda     AO-LUA   \n",
       "2         4    -8.884     13.302        F  ...      Luanda     AO-LUA   \n",
       "3         4    -8.884     13.302        F  ...      Luanda     AO-LUA   \n",
       "4         4    -8.884     13.302        F  ...      Luanda     AO-LUA   \n",
       "...     ...       ...        ...      ...  ...         ...        ...   \n",
       "3076     -1    53.409     -2.969        F  ...         NaN        NaN   \n",
       "3077     -1    53.409     -2.969        M  ...         NaN        NaN   \n",
       "3078     -1    53.409     -2.969        M  ...         NaN        NaN   \n",
       "3079     -1    53.409     -2.969        F  ...         NaN        NaN   \n",
       "3080     -1    53.409     -2.969        M  ...         NaN        NaN   \n",
       "\n",
       "      admin2_name       taxon  cohort_admin1_year  cohort_admin1_month  \\\n",
       "0          Luanda    coluzzii    AO-LUA_colu_2009  AO-LUA_colu_2009_04   \n",
       "1          Luanda    coluzzii    AO-LUA_colu_2009  AO-LUA_colu_2009_04   \n",
       "2          Luanda    coluzzii    AO-LUA_colu_2009  AO-LUA_colu_2009_04   \n",
       "3          Luanda    coluzzii    AO-LUA_colu_2009  AO-LUA_colu_2009_04   \n",
       "4          Luanda    coluzzii    AO-LUA_colu_2009  AO-LUA_colu_2009_04   \n",
       "...           ...         ...                 ...                  ...   \n",
       "3076          NaN  unassigned                 NaN                  NaN   \n",
       "3077          NaN  unassigned                 NaN                  NaN   \n",
       "3078          NaN  unassigned                 NaN                  NaN   \n",
       "3079          NaN  unassigned                 NaN                  NaN   \n",
       "3080          NaN  unassigned                 NaN                  NaN   \n",
       "\n",
       "     cohort_admin1_quarter       cohort_admin2_year  \\\n",
       "0      AO-LUA_colu_2009_Q2  AO-LUA_Luanda_colu_2009   \n",
       "1      AO-LUA_colu_2009_Q2  AO-LUA_Luanda_colu_2009   \n",
       "2      AO-LUA_colu_2009_Q2  AO-LUA_Luanda_colu_2009   \n",
       "3      AO-LUA_colu_2009_Q2  AO-LUA_Luanda_colu_2009   \n",
       "4      AO-LUA_colu_2009_Q2  AO-LUA_Luanda_colu_2009   \n",
       "...                    ...                      ...   \n",
       "3076                   NaN                      NaN   \n",
       "3077                   NaN                      NaN   \n",
       "3078                   NaN                      NaN   \n",
       "3079                   NaN                      NaN   \n",
       "3080                   NaN                      NaN   \n",
       "\n",
       "             cohort_admin2_month       cohort_admin2_quarter  \n",
       "0     AO-LUA_Luanda_colu_2009_04  AO-LUA_Luanda_colu_2009_Q2  \n",
       "1     AO-LUA_Luanda_colu_2009_04  AO-LUA_Luanda_colu_2009_Q2  \n",
       "2     AO-LUA_Luanda_colu_2009_04  AO-LUA_Luanda_colu_2009_Q2  \n",
       "3     AO-LUA_Luanda_colu_2009_04  AO-LUA_Luanda_colu_2009_Q2  \n",
       "4     AO-LUA_Luanda_colu_2009_04  AO-LUA_Luanda_colu_2009_Q2  \n",
       "...                          ...                         ...  \n",
       "3076                         NaN                         NaN  \n",
       "3077                         NaN                         NaN  \n",
       "3078                         NaN                         NaN  \n",
       "3079                         NaN                         NaN  \n",
       "3080                         NaN                         NaN  \n",
       "\n",
       "[3081 rows x 30 columns]"
      ]
     },
     "execution_count": 8,
     "metadata": {},
     "output_type": "execute_result"
    }
   ],
   "source": [
    "df_samples"
   ]
  },
  {
   "cell_type": "markdown",
   "metadata": {
    "id": "pW1PU4SXbIXn"
   },
   "source": [
    "There are 3,081 rows and 26 columns in this DataFrame. Each row provides data about a single mosquito DNA sample that has been sequenced by MalariaGEN. The columns provide data about those mosquitoes, such as the country and year in which the mosquito was originally collected.\n",
    "\n",
    "Note that the representation of the DataFrame above only shows some of the data - there are too many rows and columns to show all at once. The ellipsis character (\"...\") shows where some data have been hidden."
   ]
  },
  {
   "cell_type": "markdown",
   "metadata": {
    "id": "RoHiFEbycbvp"
   },
   "source": [
    "### Example: genome annotations\n",
    "\n",
    "In [workshop 1, module 3](https://anopheles-genomic-surveillance.github.io/workshop-1/module-3-genome.html) we encountered the [geneset()](https://malariagen.github.io/vector-data/ag3/api.html#geneset) function. This function returns a DataFrame of genome annotations. Let's call the function and assign the result to the variable `df_geneset`."
   ]
  },
  {
   "cell_type": "code",
   "execution_count": 9,
   "metadata": {
    "colab": {
     "base_uri": "https://localhost:8080/",
     "height": 644
    },
    "id": "qL_ruddQfnsR",
    "outputId": "4a66a8b6-5d1c-46a4-b98a-787127c06005"
   },
   "outputs": [
    {
     "data": {
      "text/html": [
       "<div>\n",
       "<style scoped>\n",
       "    .dataframe tbody tr th:only-of-type {\n",
       "        vertical-align: middle;\n",
       "    }\n",
       "\n",
       "    .dataframe tbody tr th {\n",
       "        vertical-align: top;\n",
       "    }\n",
       "\n",
       "    .dataframe thead th {\n",
       "        text-align: right;\n",
       "    }\n",
       "</style>\n",
       "<table border=\"1\" class=\"dataframe\">\n",
       "  <thead>\n",
       "    <tr style=\"text-align: right;\">\n",
       "      <th></th>\n",
       "      <th>contig</th>\n",
       "      <th>source</th>\n",
       "      <th>type</th>\n",
       "      <th>start</th>\n",
       "      <th>end</th>\n",
       "      <th>score</th>\n",
       "      <th>strand</th>\n",
       "      <th>phase</th>\n",
       "      <th>ID</th>\n",
       "      <th>Parent</th>\n",
       "      <th>Name</th>\n",
       "      <th>description</th>\n",
       "    </tr>\n",
       "  </thead>\n",
       "  <tbody>\n",
       "    <tr>\n",
       "      <th>0</th>\n",
       "      <td>2L</td>\n",
       "      <td>VectorBase</td>\n",
       "      <td>chromosome</td>\n",
       "      <td>1</td>\n",
       "      <td>49364325</td>\n",
       "      <td>NaN</td>\n",
       "      <td>NaN</td>\n",
       "      <td>NaN</td>\n",
       "      <td>2L</td>\n",
       "      <td>NaN</td>\n",
       "      <td>NaN</td>\n",
       "      <td>NaN</td>\n",
       "    </tr>\n",
       "    <tr>\n",
       "      <th>1</th>\n",
       "      <td>2L</td>\n",
       "      <td>VectorBase</td>\n",
       "      <td>gene</td>\n",
       "      <td>157348</td>\n",
       "      <td>186936</td>\n",
       "      <td>NaN</td>\n",
       "      <td>-</td>\n",
       "      <td>NaN</td>\n",
       "      <td>AGAP004677</td>\n",
       "      <td>NaN</td>\n",
       "      <td>NaN</td>\n",
       "      <td>methylenetetrahydrofolate dehydrogenase(NAD ) ...</td>\n",
       "    </tr>\n",
       "    <tr>\n",
       "      <th>2</th>\n",
       "      <td>2L</td>\n",
       "      <td>VectorBase</td>\n",
       "      <td>mRNA</td>\n",
       "      <td>157348</td>\n",
       "      <td>181305</td>\n",
       "      <td>NaN</td>\n",
       "      <td>-</td>\n",
       "      <td>NaN</td>\n",
       "      <td>AGAP004677-RA</td>\n",
       "      <td>AGAP004677</td>\n",
       "      <td>NaN</td>\n",
       "      <td>NaN</td>\n",
       "    </tr>\n",
       "    <tr>\n",
       "      <th>3</th>\n",
       "      <td>2L</td>\n",
       "      <td>VectorBase</td>\n",
       "      <td>three_prime_UTR</td>\n",
       "      <td>157348</td>\n",
       "      <td>157495</td>\n",
       "      <td>NaN</td>\n",
       "      <td>-</td>\n",
       "      <td>NaN</td>\n",
       "      <td>NaN</td>\n",
       "      <td>AGAP004677-RA</td>\n",
       "      <td>NaN</td>\n",
       "      <td>NaN</td>\n",
       "    </tr>\n",
       "    <tr>\n",
       "      <th>4</th>\n",
       "      <td>2L</td>\n",
       "      <td>VectorBase</td>\n",
       "      <td>exon</td>\n",
       "      <td>157348</td>\n",
       "      <td>157623</td>\n",
       "      <td>NaN</td>\n",
       "      <td>-</td>\n",
       "      <td>NaN</td>\n",
       "      <td>NaN</td>\n",
       "      <td>AGAP004677-RA</td>\n",
       "      <td>AGAP004677-RB-E4</td>\n",
       "      <td>NaN</td>\n",
       "    </tr>\n",
       "    <tr>\n",
       "      <th>...</th>\n",
       "      <td>...</td>\n",
       "      <td>...</td>\n",
       "      <td>...</td>\n",
       "      <td>...</td>\n",
       "      <td>...</td>\n",
       "      <td>...</td>\n",
       "      <td>...</td>\n",
       "      <td>...</td>\n",
       "      <td>...</td>\n",
       "      <td>...</td>\n",
       "      <td>...</td>\n",
       "      <td>...</td>\n",
       "    </tr>\n",
       "    <tr>\n",
       "      <th>196140</th>\n",
       "      <td>Y_unplaced</td>\n",
       "      <td>VectorBase</td>\n",
       "      <td>five_prime_UTR</td>\n",
       "      <td>47932</td>\n",
       "      <td>48111</td>\n",
       "      <td>NaN</td>\n",
       "      <td>+</td>\n",
       "      <td>NaN</td>\n",
       "      <td>NaN</td>\n",
       "      <td>AGAP029375-RA</td>\n",
       "      <td>NaN</td>\n",
       "      <td>NaN</td>\n",
       "    </tr>\n",
       "    <tr>\n",
       "      <th>196141</th>\n",
       "      <td>Y_unplaced</td>\n",
       "      <td>VectorBase</td>\n",
       "      <td>exon</td>\n",
       "      <td>47932</td>\n",
       "      <td>48138</td>\n",
       "      <td>NaN</td>\n",
       "      <td>+</td>\n",
       "      <td>NaN</td>\n",
       "      <td>NaN</td>\n",
       "      <td>AGAP029375-RA</td>\n",
       "      <td>AGAP029375-RA-E2</td>\n",
       "      <td>NaN</td>\n",
       "    </tr>\n",
       "    <tr>\n",
       "      <th>196142</th>\n",
       "      <td>Y_unplaced</td>\n",
       "      <td>VectorBase</td>\n",
       "      <td>CDS</td>\n",
       "      <td>48112</td>\n",
       "      <td>48138</td>\n",
       "      <td>NaN</td>\n",
       "      <td>+</td>\n",
       "      <td>0.0</td>\n",
       "      <td>AGAP029375-PA</td>\n",
       "      <td>AGAP029375-RA</td>\n",
       "      <td>NaN</td>\n",
       "      <td>NaN</td>\n",
       "    </tr>\n",
       "    <tr>\n",
       "      <th>196143</th>\n",
       "      <td>Y_unplaced</td>\n",
       "      <td>VectorBase</td>\n",
       "      <td>exon</td>\n",
       "      <td>48301</td>\n",
       "      <td>48385</td>\n",
       "      <td>NaN</td>\n",
       "      <td>+</td>\n",
       "      <td>NaN</td>\n",
       "      <td>NaN</td>\n",
       "      <td>AGAP029375-RA</td>\n",
       "      <td>AGAP029375-RA-E3</td>\n",
       "      <td>NaN</td>\n",
       "    </tr>\n",
       "    <tr>\n",
       "      <th>196144</th>\n",
       "      <td>Y_unplaced</td>\n",
       "      <td>VectorBase</td>\n",
       "      <td>CDS</td>\n",
       "      <td>48301</td>\n",
       "      <td>48385</td>\n",
       "      <td>NaN</td>\n",
       "      <td>+</td>\n",
       "      <td>0.0</td>\n",
       "      <td>AGAP029375-PA</td>\n",
       "      <td>AGAP029375-RA</td>\n",
       "      <td>NaN</td>\n",
       "      <td>NaN</td>\n",
       "    </tr>\n",
       "  </tbody>\n",
       "</table>\n",
       "<p>196145 rows × 12 columns</p>\n",
       "</div>"
      ],
      "text/plain": [
       "            contig      source             type   start       end  score  \\\n",
       "0               2L  VectorBase       chromosome       1  49364325    NaN   \n",
       "1               2L  VectorBase             gene  157348    186936    NaN   \n",
       "2               2L  VectorBase             mRNA  157348    181305    NaN   \n",
       "3               2L  VectorBase  three_prime_UTR  157348    157495    NaN   \n",
       "4               2L  VectorBase             exon  157348    157623    NaN   \n",
       "...            ...         ...              ...     ...       ...    ...   \n",
       "196140  Y_unplaced  VectorBase   five_prime_UTR   47932     48111    NaN   \n",
       "196141  Y_unplaced  VectorBase             exon   47932     48138    NaN   \n",
       "196142  Y_unplaced  VectorBase              CDS   48112     48138    NaN   \n",
       "196143  Y_unplaced  VectorBase             exon   48301     48385    NaN   \n",
       "196144  Y_unplaced  VectorBase              CDS   48301     48385    NaN   \n",
       "\n",
       "       strand  phase             ID         Parent              Name  \\\n",
       "0         NaN    NaN             2L            NaN               NaN   \n",
       "1           -    NaN     AGAP004677            NaN               NaN   \n",
       "2           -    NaN  AGAP004677-RA     AGAP004677               NaN   \n",
       "3           -    NaN            NaN  AGAP004677-RA               NaN   \n",
       "4           -    NaN            NaN  AGAP004677-RA  AGAP004677-RB-E4   \n",
       "...       ...    ...            ...            ...               ...   \n",
       "196140      +    NaN            NaN  AGAP029375-RA               NaN   \n",
       "196141      +    NaN            NaN  AGAP029375-RA  AGAP029375-RA-E2   \n",
       "196142      +    0.0  AGAP029375-PA  AGAP029375-RA               NaN   \n",
       "196143      +    NaN            NaN  AGAP029375-RA  AGAP029375-RA-E3   \n",
       "196144      +    0.0  AGAP029375-PA  AGAP029375-RA               NaN   \n",
       "\n",
       "                                              description  \n",
       "0                                                     NaN  \n",
       "1       methylenetetrahydrofolate dehydrogenase(NAD ) ...  \n",
       "2                                                     NaN  \n",
       "3                                                     NaN  \n",
       "4                                                     NaN  \n",
       "...                                                   ...  \n",
       "196140                                                NaN  \n",
       "196141                                                NaN  \n",
       "196142                                                NaN  \n",
       "196143                                                NaN  \n",
       "196144                                                NaN  \n",
       "\n",
       "[196145 rows x 12 columns]"
      ]
     },
     "execution_count": 9,
     "metadata": {},
     "output_type": "execute_result"
    }
   ],
   "source": [
    "df_geneset = ag3.geneset()\n",
    "df_geneset"
   ]
  },
  {
   "cell_type": "markdown",
   "metadata": {
    "id": "iUhgSwjOfrTm"
   },
   "source": [
    "There are 196,145 rows and 12 columns in this DataFrame. Each row provides data about an annotated feature on the *Anopheles gambiae* AgamP4 reference genome, such as a gene. The columns provide data about those features, such as the contig (chromosome arm) on which the feature occurs, and the start and end coordinates. "
   ]
  },
  {
   "cell_type": "markdown",
   "metadata": {
    "id": "0CN4toaqgJYy"
   },
   "source": [
    "### Example: SNP allele frequencies\n",
    "\n",
    "In [workshop 1, module 4](https://anopheles-genomic-surveillance.github.io/workshop-1/module-4-vgsc-snps.html), we encountered the [snp_allele_frequencies()](https://malariagen.github.io/vector-data/ag3/api.html#snp-allele-frequencies) function. This function returns a DataFrame of single nucleotide polymorphisms (SNPs) together with their allele frequencies in different mosquito cohorts. Let's call this function and assign the result to the variable `snp_freqs_df`."
   ]
  },
  {
   "cell_type": "code",
   "execution_count": 10,
   "metadata": {
    "colab": {
     "base_uri": "https://localhost:8080/",
     "height": 797
    },
    "id": "9AkogecDggxf",
    "outputId": "54761d36-31ad-4a83-9caa-d9bab79f7e35"
   },
   "outputs": [
    {
     "data": {
      "application/vnd.jupyter.widget-view+json": {
       "model_id": "536be44d51e04783b7d21c550ff7c8ea",
       "version_major": 2,
       "version_minor": 0
      },
      "text/plain": [
       "Load SNP genotypes:   0%|          | 0/32 [00:00<?, ?it/s]"
      ]
     },
     "metadata": {},
     "output_type": "display_data"
    },
    {
     "data": {
      "application/vnd.jupyter.widget-view+json": {
       "model_id": "bf4667ea7d9844238969ae84119bd992",
       "version_major": 2,
       "version_minor": 0
      },
      "text/plain": [
       "Compute allele frequencies:   0%|          | 0/6 [00:00<?, ?it/s]"
      ]
     },
     "metadata": {},
     "output_type": "display_data"
    },
    {
     "data": {
      "application/vnd.jupyter.widget-view+json": {
       "model_id": "75cdfbace08644edbc168eacb2531bdf",
       "version_major": 2,
       "version_minor": 0
      },
      "text/plain": [
       "Compute SNP effects:   0%|          | 0/9675 [00:00<?, ?it/s]"
      ]
     },
     "metadata": {},
     "output_type": "display_data"
    },
    {
     "data": {
      "text/html": [
       "<div>\n",
       "<style scoped>\n",
       "    .dataframe tbody tr th:only-of-type {\n",
       "        vertical-align: middle;\n",
       "    }\n",
       "\n",
       "    .dataframe tbody tr th {\n",
       "        vertical-align: top;\n",
       "    }\n",
       "\n",
       "    .dataframe thead th {\n",
       "        text-align: right;\n",
       "    }\n",
       "</style>\n",
       "<table border=\"1\" class=\"dataframe\">\n",
       "  <thead>\n",
       "    <tr style=\"text-align: right;\">\n",
       "      <th></th>\n",
       "      <th></th>\n",
       "      <th></th>\n",
       "      <th></th>\n",
       "      <th></th>\n",
       "      <th>pass_gamb_colu_arab</th>\n",
       "      <th>pass_gamb_colu</th>\n",
       "      <th>pass_arab</th>\n",
       "      <th>frq_BF-07_gamb_2004</th>\n",
       "      <th>frq_BF-09_colu_2012</th>\n",
       "      <th>frq_BF-09_colu_2014</th>\n",
       "      <th>frq_BF-09_gamb_2012</th>\n",
       "      <th>frq_BF-09_gamb_2014</th>\n",
       "      <th>max_af</th>\n",
       "      <th>transcript</th>\n",
       "      <th>effect</th>\n",
       "      <th>impact</th>\n",
       "      <th>ref_codon</th>\n",
       "      <th>alt_codon</th>\n",
       "      <th>aa_pos</th>\n",
       "      <th>ref_aa</th>\n",
       "      <th>alt_aa</th>\n",
       "      <th>label</th>\n",
       "    </tr>\n",
       "    <tr>\n",
       "      <th>contig</th>\n",
       "      <th>position</th>\n",
       "      <th>ref_allele</th>\n",
       "      <th>alt_allele</th>\n",
       "      <th>aa_change</th>\n",
       "      <th></th>\n",
       "      <th></th>\n",
       "      <th></th>\n",
       "      <th></th>\n",
       "      <th></th>\n",
       "      <th></th>\n",
       "      <th></th>\n",
       "      <th></th>\n",
       "      <th></th>\n",
       "      <th></th>\n",
       "      <th></th>\n",
       "      <th></th>\n",
       "      <th></th>\n",
       "      <th></th>\n",
       "      <th></th>\n",
       "      <th></th>\n",
       "      <th></th>\n",
       "      <th></th>\n",
       "    </tr>\n",
       "  </thead>\n",
       "  <tbody>\n",
       "    <tr>\n",
       "      <th rowspan=\"11\" valign=\"top\">2L</th>\n",
       "      <th>2358252</th>\n",
       "      <th>C</th>\n",
       "      <th>T</th>\n",
       "      <th>A32V</th>\n",
       "      <td>True</td>\n",
       "      <td>True</td>\n",
       "      <td>True</td>\n",
       "      <td>0.000000</td>\n",
       "      <td>0.006098</td>\n",
       "      <td>0.0</td>\n",
       "      <td>0.000000</td>\n",
       "      <td>0.0</td>\n",
       "      <td>0.006098</td>\n",
       "      <td>AGAP004707-RD</td>\n",
       "      <td>NON_SYNONYMOUS_CODING</td>\n",
       "      <td>MODERATE</td>\n",
       "      <td>gCa</td>\n",
       "      <td>gTa</td>\n",
       "      <td>32.0</td>\n",
       "      <td>A</td>\n",
       "      <td>V</td>\n",
       "      <td>2L:2,358,252 C&gt;T (A32V)</td>\n",
       "    </tr>\n",
       "    <tr>\n",
       "      <th>2358328</th>\n",
       "      <th>T</th>\n",
       "      <th>C</th>\n",
       "      <th>NaN</th>\n",
       "      <td>True</td>\n",
       "      <td>True</td>\n",
       "      <td>True</td>\n",
       "      <td>0.000000</td>\n",
       "      <td>0.006098</td>\n",
       "      <td>0.0</td>\n",
       "      <td>0.000000</td>\n",
       "      <td>0.0</td>\n",
       "      <td>0.006098</td>\n",
       "      <td>AGAP004707-RD</td>\n",
       "      <td>INTRONIC</td>\n",
       "      <td>MODIFIER</td>\n",
       "      <td>None</td>\n",
       "      <td>None</td>\n",
       "      <td>NaN</td>\n",
       "      <td>None</td>\n",
       "      <td>None</td>\n",
       "      <td>2L:2,358,328 T&gt;C</td>\n",
       "    </tr>\n",
       "    <tr>\n",
       "      <th>2358441</th>\n",
       "      <th>A</th>\n",
       "      <th>T</th>\n",
       "      <th>NaN</th>\n",
       "      <td>True</td>\n",
       "      <td>True</td>\n",
       "      <td>True</td>\n",
       "      <td>0.038462</td>\n",
       "      <td>0.000000</td>\n",
       "      <td>0.0</td>\n",
       "      <td>0.000000</td>\n",
       "      <td>0.0</td>\n",
       "      <td>0.038462</td>\n",
       "      <td>AGAP004707-RD</td>\n",
       "      <td>INTRONIC</td>\n",
       "      <td>MODIFIER</td>\n",
       "      <td>None</td>\n",
       "      <td>None</td>\n",
       "      <td>NaN</td>\n",
       "      <td>None</td>\n",
       "      <td>None</td>\n",
       "      <td>2L:2,358,441 A&gt;T</td>\n",
       "    </tr>\n",
       "    <tr>\n",
       "      <th>2358468</th>\n",
       "      <th>A</th>\n",
       "      <th>C</th>\n",
       "      <th>NaN</th>\n",
       "      <td>True</td>\n",
       "      <td>True</td>\n",
       "      <td>True</td>\n",
       "      <td>0.269231</td>\n",
       "      <td>0.000000</td>\n",
       "      <td>0.0</td>\n",
       "      <td>0.000000</td>\n",
       "      <td>0.0</td>\n",
       "      <td>0.269231</td>\n",
       "      <td>AGAP004707-RD</td>\n",
       "      <td>INTRONIC</td>\n",
       "      <td>MODIFIER</td>\n",
       "      <td>None</td>\n",
       "      <td>None</td>\n",
       "      <td>NaN</td>\n",
       "      <td>None</td>\n",
       "      <td>None</td>\n",
       "      <td>2L:2,358,468 A&gt;C</td>\n",
       "    </tr>\n",
       "    <tr>\n",
       "      <th>2358581</th>\n",
       "      <th>T</th>\n",
       "      <th>A</th>\n",
       "      <th>NaN</th>\n",
       "      <td>True</td>\n",
       "      <td>True</td>\n",
       "      <td>True</td>\n",
       "      <td>0.192308</td>\n",
       "      <td>0.000000</td>\n",
       "      <td>0.0</td>\n",
       "      <td>0.000000</td>\n",
       "      <td>0.0</td>\n",
       "      <td>0.192308</td>\n",
       "      <td>AGAP004707-RD</td>\n",
       "      <td>INTRONIC</td>\n",
       "      <td>MODIFIER</td>\n",
       "      <td>None</td>\n",
       "      <td>None</td>\n",
       "      <td>NaN</td>\n",
       "      <td>None</td>\n",
       "      <td>None</td>\n",
       "      <td>2L:2,358,581 T&gt;A</td>\n",
       "    </tr>\n",
       "    <tr>\n",
       "      <th>...</th>\n",
       "      <th>...</th>\n",
       "      <th>...</th>\n",
       "      <th>...</th>\n",
       "      <td>...</td>\n",
       "      <td>...</td>\n",
       "      <td>...</td>\n",
       "      <td>...</td>\n",
       "      <td>...</td>\n",
       "      <td>...</td>\n",
       "      <td>...</td>\n",
       "      <td>...</td>\n",
       "      <td>...</td>\n",
       "      <td>...</td>\n",
       "      <td>...</td>\n",
       "      <td>...</td>\n",
       "      <td>...</td>\n",
       "      <td>...</td>\n",
       "      <td>...</td>\n",
       "      <td>...</td>\n",
       "      <td>...</td>\n",
       "      <td>...</td>\n",
       "    </tr>\n",
       "    <tr>\n",
       "      <th>2431424</th>\n",
       "      <th>G</th>\n",
       "      <th>T</th>\n",
       "      <th>G2055V</th>\n",
       "      <td>True</td>\n",
       "      <td>True</td>\n",
       "      <td>True</td>\n",
       "      <td>0.000000</td>\n",
       "      <td>0.000000</td>\n",
       "      <td>0.0</td>\n",
       "      <td>0.005051</td>\n",
       "      <td>0.0</td>\n",
       "      <td>0.005051</td>\n",
       "      <td>AGAP004707-RD</td>\n",
       "      <td>NON_SYNONYMOUS_CODING</td>\n",
       "      <td>MODERATE</td>\n",
       "      <td>gGc</td>\n",
       "      <td>gTc</td>\n",
       "      <td>2055.0</td>\n",
       "      <td>G</td>\n",
       "      <td>V</td>\n",
       "      <td>2L:2,431,424 G&gt;T (G2055V)</td>\n",
       "    </tr>\n",
       "    <tr>\n",
       "      <th>2431518</th>\n",
       "      <th>C</th>\n",
       "      <th>A</th>\n",
       "      <th>A2086A</th>\n",
       "      <td>True</td>\n",
       "      <td>True</td>\n",
       "      <td>True</td>\n",
       "      <td>0.038462</td>\n",
       "      <td>0.000000</td>\n",
       "      <td>0.0</td>\n",
       "      <td>0.000000</td>\n",
       "      <td>0.0</td>\n",
       "      <td>0.038462</td>\n",
       "      <td>AGAP004707-RD</td>\n",
       "      <td>SYNONYMOUS_CODING</td>\n",
       "      <td>LOW</td>\n",
       "      <td>gcC</td>\n",
       "      <td>gcA</td>\n",
       "      <td>2086.0</td>\n",
       "      <td>A</td>\n",
       "      <td>A</td>\n",
       "      <td>2L:2,431,518 C&gt;A (A2086A)</td>\n",
       "    </tr>\n",
       "    <tr>\n",
       "      <th>2431527</th>\n",
       "      <th>G</th>\n",
       "      <th>C</th>\n",
       "      <th>V2089V</th>\n",
       "      <td>True</td>\n",
       "      <td>True</td>\n",
       "      <td>True</td>\n",
       "      <td>0.038462</td>\n",
       "      <td>0.000000</td>\n",
       "      <td>0.0</td>\n",
       "      <td>0.000000</td>\n",
       "      <td>0.0</td>\n",
       "      <td>0.038462</td>\n",
       "      <td>AGAP004707-RD</td>\n",
       "      <td>SYNONYMOUS_CODING</td>\n",
       "      <td>LOW</td>\n",
       "      <td>gtG</td>\n",
       "      <td>gtC</td>\n",
       "      <td>2089.0</td>\n",
       "      <td>V</td>\n",
       "      <td>V</td>\n",
       "      <td>2L:2,431,527 G&gt;C (V2089V)</td>\n",
       "    </tr>\n",
       "    <tr>\n",
       "      <th>2431569</th>\n",
       "      <th>C</th>\n",
       "      <th>A</th>\n",
       "      <th>V2103V</th>\n",
       "      <td>True</td>\n",
       "      <td>True</td>\n",
       "      <td>True</td>\n",
       "      <td>0.038462</td>\n",
       "      <td>0.000000</td>\n",
       "      <td>0.0</td>\n",
       "      <td>0.000000</td>\n",
       "      <td>0.0</td>\n",
       "      <td>0.038462</td>\n",
       "      <td>AGAP004707-RD</td>\n",
       "      <td>SYNONYMOUS_CODING</td>\n",
       "      <td>LOW</td>\n",
       "      <td>gtC</td>\n",
       "      <td>gtA</td>\n",
       "      <td>2103.0</td>\n",
       "      <td>V</td>\n",
       "      <td>V</td>\n",
       "      <td>2L:2,431,569 C&gt;A (V2103V)</td>\n",
       "    </tr>\n",
       "    <tr>\n",
       "      <th>2431613</th>\n",
       "      <th>T</th>\n",
       "      <th>C</th>\n",
       "      <th>V2118A</th>\n",
       "      <td>True</td>\n",
       "      <td>True</td>\n",
       "      <td>True</td>\n",
       "      <td>0.000000</td>\n",
       "      <td>0.000000</td>\n",
       "      <td>0.0</td>\n",
       "      <td>0.005051</td>\n",
       "      <td>0.0</td>\n",
       "      <td>0.005051</td>\n",
       "      <td>AGAP004707-RD</td>\n",
       "      <td>NON_SYNONYMOUS_CODING</td>\n",
       "      <td>MODERATE</td>\n",
       "      <td>gTc</td>\n",
       "      <td>gCc</td>\n",
       "      <td>2118.0</td>\n",
       "      <td>V</td>\n",
       "      <td>A</td>\n",
       "      <td>2L:2,431,613 T&gt;C (V2118A)</td>\n",
       "    </tr>\n",
       "  </tbody>\n",
       "</table>\n",
       "<p>9675 rows × 18 columns</p>\n",
       "</div>"
      ],
      "text/plain": [
       "                                                 pass_gamb_colu_arab  \\\n",
       "contig position ref_allele alt_allele aa_change                        \n",
       "2L     2358252  C          T          A32V                      True   \n",
       "       2358328  T          C          NaN                       True   \n",
       "       2358441  A          T          NaN                       True   \n",
       "       2358468  A          C          NaN                       True   \n",
       "       2358581  T          A          NaN                       True   \n",
       "...                                                              ...   \n",
       "       2431424  G          T          G2055V                    True   \n",
       "       2431518  C          A          A2086A                    True   \n",
       "       2431527  G          C          V2089V                    True   \n",
       "       2431569  C          A          V2103V                    True   \n",
       "       2431613  T          C          V2118A                    True   \n",
       "\n",
       "                                                 pass_gamb_colu  pass_arab  \\\n",
       "contig position ref_allele alt_allele aa_change                              \n",
       "2L     2358252  C          T          A32V                 True       True   \n",
       "       2358328  T          C          NaN                  True       True   \n",
       "       2358441  A          T          NaN                  True       True   \n",
       "       2358468  A          C          NaN                  True       True   \n",
       "       2358581  T          A          NaN                  True       True   \n",
       "...                                                         ...        ...   \n",
       "       2431424  G          T          G2055V               True       True   \n",
       "       2431518  C          A          A2086A               True       True   \n",
       "       2431527  G          C          V2089V               True       True   \n",
       "       2431569  C          A          V2103V               True       True   \n",
       "       2431613  T          C          V2118A               True       True   \n",
       "\n",
       "                                                 frq_BF-07_gamb_2004  \\\n",
       "contig position ref_allele alt_allele aa_change                        \n",
       "2L     2358252  C          T          A32V                  0.000000   \n",
       "       2358328  T          C          NaN                   0.000000   \n",
       "       2358441  A          T          NaN                   0.038462   \n",
       "       2358468  A          C          NaN                   0.269231   \n",
       "       2358581  T          A          NaN                   0.192308   \n",
       "...                                                              ...   \n",
       "       2431424  G          T          G2055V                0.000000   \n",
       "       2431518  C          A          A2086A                0.038462   \n",
       "       2431527  G          C          V2089V                0.038462   \n",
       "       2431569  C          A          V2103V                0.038462   \n",
       "       2431613  T          C          V2118A                0.000000   \n",
       "\n",
       "                                                 frq_BF-09_colu_2012  \\\n",
       "contig position ref_allele alt_allele aa_change                        \n",
       "2L     2358252  C          T          A32V                  0.006098   \n",
       "       2358328  T          C          NaN                   0.006098   \n",
       "       2358441  A          T          NaN                   0.000000   \n",
       "       2358468  A          C          NaN                   0.000000   \n",
       "       2358581  T          A          NaN                   0.000000   \n",
       "...                                                              ...   \n",
       "       2431424  G          T          G2055V                0.000000   \n",
       "       2431518  C          A          A2086A                0.000000   \n",
       "       2431527  G          C          V2089V                0.000000   \n",
       "       2431569  C          A          V2103V                0.000000   \n",
       "       2431613  T          C          V2118A                0.000000   \n",
       "\n",
       "                                                 frq_BF-09_colu_2014  \\\n",
       "contig position ref_allele alt_allele aa_change                        \n",
       "2L     2358252  C          T          A32V                       0.0   \n",
       "       2358328  T          C          NaN                        0.0   \n",
       "       2358441  A          T          NaN                        0.0   \n",
       "       2358468  A          C          NaN                        0.0   \n",
       "       2358581  T          A          NaN                        0.0   \n",
       "...                                                              ...   \n",
       "       2431424  G          T          G2055V                     0.0   \n",
       "       2431518  C          A          A2086A                     0.0   \n",
       "       2431527  G          C          V2089V                     0.0   \n",
       "       2431569  C          A          V2103V                     0.0   \n",
       "       2431613  T          C          V2118A                     0.0   \n",
       "\n",
       "                                                 frq_BF-09_gamb_2012  \\\n",
       "contig position ref_allele alt_allele aa_change                        \n",
       "2L     2358252  C          T          A32V                  0.000000   \n",
       "       2358328  T          C          NaN                   0.000000   \n",
       "       2358441  A          T          NaN                   0.000000   \n",
       "       2358468  A          C          NaN                   0.000000   \n",
       "       2358581  T          A          NaN                   0.000000   \n",
       "...                                                              ...   \n",
       "       2431424  G          T          G2055V                0.005051   \n",
       "       2431518  C          A          A2086A                0.000000   \n",
       "       2431527  G          C          V2089V                0.000000   \n",
       "       2431569  C          A          V2103V                0.000000   \n",
       "       2431613  T          C          V2118A                0.005051   \n",
       "\n",
       "                                                 frq_BF-09_gamb_2014  \\\n",
       "contig position ref_allele alt_allele aa_change                        \n",
       "2L     2358252  C          T          A32V                       0.0   \n",
       "       2358328  T          C          NaN                        0.0   \n",
       "       2358441  A          T          NaN                        0.0   \n",
       "       2358468  A          C          NaN                        0.0   \n",
       "       2358581  T          A          NaN                        0.0   \n",
       "...                                                              ...   \n",
       "       2431424  G          T          G2055V                     0.0   \n",
       "       2431518  C          A          A2086A                     0.0   \n",
       "       2431527  G          C          V2089V                     0.0   \n",
       "       2431569  C          A          V2103V                     0.0   \n",
       "       2431613  T          C          V2118A                     0.0   \n",
       "\n",
       "                                                   max_af     transcript  \\\n",
       "contig position ref_allele alt_allele aa_change                            \n",
       "2L     2358252  C          T          A32V       0.006098  AGAP004707-RD   \n",
       "       2358328  T          C          NaN        0.006098  AGAP004707-RD   \n",
       "       2358441  A          T          NaN        0.038462  AGAP004707-RD   \n",
       "       2358468  A          C          NaN        0.269231  AGAP004707-RD   \n",
       "       2358581  T          A          NaN        0.192308  AGAP004707-RD   \n",
       "...                                                   ...            ...   \n",
       "       2431424  G          T          G2055V     0.005051  AGAP004707-RD   \n",
       "       2431518  C          A          A2086A     0.038462  AGAP004707-RD   \n",
       "       2431527  G          C          V2089V     0.038462  AGAP004707-RD   \n",
       "       2431569  C          A          V2103V     0.038462  AGAP004707-RD   \n",
       "       2431613  T          C          V2118A     0.005051  AGAP004707-RD   \n",
       "\n",
       "                                                                effect  \\\n",
       "contig position ref_allele alt_allele aa_change                          \n",
       "2L     2358252  C          T          A32V       NON_SYNONYMOUS_CODING   \n",
       "       2358328  T          C          NaN                     INTRONIC   \n",
       "       2358441  A          T          NaN                     INTRONIC   \n",
       "       2358468  A          C          NaN                     INTRONIC   \n",
       "       2358581  T          A          NaN                     INTRONIC   \n",
       "...                                                                ...   \n",
       "       2431424  G          T          G2055V     NON_SYNONYMOUS_CODING   \n",
       "       2431518  C          A          A2086A         SYNONYMOUS_CODING   \n",
       "       2431527  G          C          V2089V         SYNONYMOUS_CODING   \n",
       "       2431569  C          A          V2103V         SYNONYMOUS_CODING   \n",
       "       2431613  T          C          V2118A     NON_SYNONYMOUS_CODING   \n",
       "\n",
       "                                                   impact ref_codon alt_codon  \\\n",
       "contig position ref_allele alt_allele aa_change                                 \n",
       "2L     2358252  C          T          A32V       MODERATE       gCa       gTa   \n",
       "       2358328  T          C          NaN        MODIFIER      None      None   \n",
       "       2358441  A          T          NaN        MODIFIER      None      None   \n",
       "       2358468  A          C          NaN        MODIFIER      None      None   \n",
       "       2358581  T          A          NaN        MODIFIER      None      None   \n",
       "...                                                   ...       ...       ...   \n",
       "       2431424  G          T          G2055V     MODERATE       gGc       gTc   \n",
       "       2431518  C          A          A2086A          LOW       gcC       gcA   \n",
       "       2431527  G          C          V2089V          LOW       gtG       gtC   \n",
       "       2431569  C          A          V2103V          LOW       gtC       gtA   \n",
       "       2431613  T          C          V2118A     MODERATE       gTc       gCc   \n",
       "\n",
       "                                                 aa_pos ref_aa alt_aa  \\\n",
       "contig position ref_allele alt_allele aa_change                         \n",
       "2L     2358252  C          T          A32V         32.0      A      V   \n",
       "       2358328  T          C          NaN           NaN   None   None   \n",
       "       2358441  A          T          NaN           NaN   None   None   \n",
       "       2358468  A          C          NaN           NaN   None   None   \n",
       "       2358581  T          A          NaN           NaN   None   None   \n",
       "...                                                 ...    ...    ...   \n",
       "       2431424  G          T          G2055V     2055.0      G      V   \n",
       "       2431518  C          A          A2086A     2086.0      A      A   \n",
       "       2431527  G          C          V2089V     2089.0      V      V   \n",
       "       2431569  C          A          V2103V     2103.0      V      V   \n",
       "       2431613  T          C          V2118A     2118.0      V      A   \n",
       "\n",
       "                                                                     label  \n",
       "contig position ref_allele alt_allele aa_change                             \n",
       "2L     2358252  C          T          A32V         2L:2,358,252 C>T (A32V)  \n",
       "       2358328  T          C          NaN                 2L:2,358,328 T>C  \n",
       "       2358441  A          T          NaN                 2L:2,358,441 A>T  \n",
       "       2358468  A          C          NaN                 2L:2,358,468 A>C  \n",
       "       2358581  T          A          NaN                 2L:2,358,581 T>A  \n",
       "...                                                                    ...  \n",
       "       2431424  G          T          G2055V     2L:2,431,424 G>T (G2055V)  \n",
       "       2431518  C          A          A2086A     2L:2,431,518 C>A (A2086A)  \n",
       "       2431527  G          C          V2089V     2L:2,431,527 G>C (V2089V)  \n",
       "       2431569  C          A          V2103V     2L:2,431,569 C>A (V2103V)  \n",
       "       2431613  T          C          V2118A     2L:2,431,613 T>C (V2118A)  \n",
       "\n",
       "[9675 rows x 18 columns]"
      ]
     },
     "execution_count": 10,
     "metadata": {},
     "output_type": "execute_result"
    }
   ],
   "source": [
    "snp_freqs_df = ag3.snp_allele_frequencies(\n",
    "    transcript=\"AGAP004707-RD\", \n",
    "    cohorts=\"admin1_year\", \n",
    "    sample_sets=[\"AG1000G-BF-A\", \"AG1000G-BF-B\", \"AG1000G-BF-C\"], \n",
    ")\n",
    "snp_freqs_df"
   ]
  },
  {
   "cell_type": "markdown",
   "metadata": {
    "id": "9fLTcL1gg3dO"
   },
   "source": [
    "There are 9,675 rows and 18 columns in this DataFrame. Each row provides data about a SNP. The columns provide data about those SNPs, such as their effect, and the alternate allele frequency in a particular cohort of mosquitoes, e.g., the column named \"frq_BF-09_colu_2012\" provides the frequency in *Anopheles coluzzii* mosquitoes collected in the BF-09 (Hauts-Bassins) administrative region of Burkina Faso in 2012."
   ]
  },
  {
   "cell_type": "markdown",
   "metadata": {
    "id": "_wOS0MqhglCn"
   },
   "source": [
    "### Aside: variable naming styles\n",
    "\n",
    "You may have noticed that in the examples above, whenever we assigned a DataFrame to a variable, the name of the variable either started with the prefix \"`df_`\" or ended with the suffix \"`_df`\". Here \"df\" stands for DataFrame, and is used just as a helpful reminder that the value of the variable is a pandas DataFrame. Using a prefix of suffix on the variable name like this is entirely optional and is up to your own coding style. You can name these variables whatever you like. Different instructors in this course prefer different styles, and you will see different styles being used in different modules."
   ]
  },
  {
   "cell_type": "markdown",
   "metadata": {
    "id": "dsd17UfSiDkJ"
   },
   "source": [
    "### Example: reading from a CSV file\n",
    "\n",
    "You can also create a pandas DataFrame by reading data from a file, such as a comma-separated value (CSV) file, or an Excel workbook file. Let's use the pandas [read_csv()](https://pandas.pydata.org/docs/reference/api/pandas.read_csv.html) function to read data from a CSV file containing data from a US census that colab provides as example data for you to play with."
   ]
  },
  {
   "cell_type": "code",
   "execution_count": 11,
   "metadata": {
    "colab": {
     "base_uri": "https://localhost:8080/",
     "height": 487
    },
    "id": "UWbulj8Rih5a",
    "outputId": "b92f9ffe-8baa-4b7e-f19c-baeea823f3ab"
   },
   "outputs": [
    {
     "data": {
      "text/html": [
       "<div>\n",
       "<style scoped>\n",
       "    .dataframe tbody tr th:only-of-type {\n",
       "        vertical-align: middle;\n",
       "    }\n",
       "\n",
       "    .dataframe tbody tr th {\n",
       "        vertical-align: top;\n",
       "    }\n",
       "\n",
       "    .dataframe thead th {\n",
       "        text-align: right;\n",
       "    }\n",
       "</style>\n",
       "<table border=\"1\" class=\"dataframe\">\n",
       "  <thead>\n",
       "    <tr style=\"text-align: right;\">\n",
       "      <th></th>\n",
       "      <th>longitude</th>\n",
       "      <th>latitude</th>\n",
       "      <th>housing_median_age</th>\n",
       "      <th>total_rooms</th>\n",
       "      <th>total_bedrooms</th>\n",
       "      <th>population</th>\n",
       "      <th>households</th>\n",
       "      <th>median_income</th>\n",
       "      <th>median_house_value</th>\n",
       "    </tr>\n",
       "  </thead>\n",
       "  <tbody>\n",
       "    <tr>\n",
       "      <th>0</th>\n",
       "      <td>-114.31</td>\n",
       "      <td>34.19</td>\n",
       "      <td>15.0</td>\n",
       "      <td>5612.0</td>\n",
       "      <td>1283.0</td>\n",
       "      <td>1015.0</td>\n",
       "      <td>472.0</td>\n",
       "      <td>1.4936</td>\n",
       "      <td>66900.0</td>\n",
       "    </tr>\n",
       "    <tr>\n",
       "      <th>1</th>\n",
       "      <td>-114.47</td>\n",
       "      <td>34.40</td>\n",
       "      <td>19.0</td>\n",
       "      <td>7650.0</td>\n",
       "      <td>1901.0</td>\n",
       "      <td>1129.0</td>\n",
       "      <td>463.0</td>\n",
       "      <td>1.8200</td>\n",
       "      <td>80100.0</td>\n",
       "    </tr>\n",
       "    <tr>\n",
       "      <th>2</th>\n",
       "      <td>-114.56</td>\n",
       "      <td>33.69</td>\n",
       "      <td>17.0</td>\n",
       "      <td>720.0</td>\n",
       "      <td>174.0</td>\n",
       "      <td>333.0</td>\n",
       "      <td>117.0</td>\n",
       "      <td>1.6509</td>\n",
       "      <td>85700.0</td>\n",
       "    </tr>\n",
       "    <tr>\n",
       "      <th>3</th>\n",
       "      <td>-114.57</td>\n",
       "      <td>33.64</td>\n",
       "      <td>14.0</td>\n",
       "      <td>1501.0</td>\n",
       "      <td>337.0</td>\n",
       "      <td>515.0</td>\n",
       "      <td>226.0</td>\n",
       "      <td>3.1917</td>\n",
       "      <td>73400.0</td>\n",
       "    </tr>\n",
       "    <tr>\n",
       "      <th>4</th>\n",
       "      <td>-114.57</td>\n",
       "      <td>33.57</td>\n",
       "      <td>20.0</td>\n",
       "      <td>1454.0</td>\n",
       "      <td>326.0</td>\n",
       "      <td>624.0</td>\n",
       "      <td>262.0</td>\n",
       "      <td>1.9250</td>\n",
       "      <td>65500.0</td>\n",
       "    </tr>\n",
       "    <tr>\n",
       "      <th>...</th>\n",
       "      <td>...</td>\n",
       "      <td>...</td>\n",
       "      <td>...</td>\n",
       "      <td>...</td>\n",
       "      <td>...</td>\n",
       "      <td>...</td>\n",
       "      <td>...</td>\n",
       "      <td>...</td>\n",
       "      <td>...</td>\n",
       "    </tr>\n",
       "    <tr>\n",
       "      <th>16995</th>\n",
       "      <td>-124.26</td>\n",
       "      <td>40.58</td>\n",
       "      <td>52.0</td>\n",
       "      <td>2217.0</td>\n",
       "      <td>394.0</td>\n",
       "      <td>907.0</td>\n",
       "      <td>369.0</td>\n",
       "      <td>2.3571</td>\n",
       "      <td>111400.0</td>\n",
       "    </tr>\n",
       "    <tr>\n",
       "      <th>16996</th>\n",
       "      <td>-124.27</td>\n",
       "      <td>40.69</td>\n",
       "      <td>36.0</td>\n",
       "      <td>2349.0</td>\n",
       "      <td>528.0</td>\n",
       "      <td>1194.0</td>\n",
       "      <td>465.0</td>\n",
       "      <td>2.5179</td>\n",
       "      <td>79000.0</td>\n",
       "    </tr>\n",
       "    <tr>\n",
       "      <th>16997</th>\n",
       "      <td>-124.30</td>\n",
       "      <td>41.84</td>\n",
       "      <td>17.0</td>\n",
       "      <td>2677.0</td>\n",
       "      <td>531.0</td>\n",
       "      <td>1244.0</td>\n",
       "      <td>456.0</td>\n",
       "      <td>3.0313</td>\n",
       "      <td>103600.0</td>\n",
       "    </tr>\n",
       "    <tr>\n",
       "      <th>16998</th>\n",
       "      <td>-124.30</td>\n",
       "      <td>41.80</td>\n",
       "      <td>19.0</td>\n",
       "      <td>2672.0</td>\n",
       "      <td>552.0</td>\n",
       "      <td>1298.0</td>\n",
       "      <td>478.0</td>\n",
       "      <td>1.9797</td>\n",
       "      <td>85800.0</td>\n",
       "    </tr>\n",
       "    <tr>\n",
       "      <th>16999</th>\n",
       "      <td>-124.35</td>\n",
       "      <td>40.54</td>\n",
       "      <td>52.0</td>\n",
       "      <td>1820.0</td>\n",
       "      <td>300.0</td>\n",
       "      <td>806.0</td>\n",
       "      <td>270.0</td>\n",
       "      <td>3.0147</td>\n",
       "      <td>94600.0</td>\n",
       "    </tr>\n",
       "  </tbody>\n",
       "</table>\n",
       "<p>17000 rows × 9 columns</p>\n",
       "</div>"
      ],
      "text/plain": [
       "       longitude  latitude  housing_median_age  total_rooms  total_bedrooms  \\\n",
       "0        -114.31     34.19                15.0       5612.0          1283.0   \n",
       "1        -114.47     34.40                19.0       7650.0          1901.0   \n",
       "2        -114.56     33.69                17.0        720.0           174.0   \n",
       "3        -114.57     33.64                14.0       1501.0           337.0   \n",
       "4        -114.57     33.57                20.0       1454.0           326.0   \n",
       "...          ...       ...                 ...          ...             ...   \n",
       "16995    -124.26     40.58                52.0       2217.0           394.0   \n",
       "16996    -124.27     40.69                36.0       2349.0           528.0   \n",
       "16997    -124.30     41.84                17.0       2677.0           531.0   \n",
       "16998    -124.30     41.80                19.0       2672.0           552.0   \n",
       "16999    -124.35     40.54                52.0       1820.0           300.0   \n",
       "\n",
       "       population  households  median_income  median_house_value  \n",
       "0          1015.0       472.0         1.4936             66900.0  \n",
       "1          1129.0       463.0         1.8200             80100.0  \n",
       "2           333.0       117.0         1.6509             85700.0  \n",
       "3           515.0       226.0         3.1917             73400.0  \n",
       "4           624.0       262.0         1.9250             65500.0  \n",
       "...           ...         ...            ...                 ...  \n",
       "16995       907.0       369.0         2.3571            111400.0  \n",
       "16996      1194.0       465.0         2.5179             79000.0  \n",
       "16997      1244.0       456.0         3.0313            103600.0  \n",
       "16998      1298.0       478.0         1.9797             85800.0  \n",
       "16999       806.0       270.0         3.0147             94600.0  \n",
       "\n",
       "[17000 rows x 9 columns]"
      ]
     },
     "execution_count": 11,
     "metadata": {},
     "output_type": "execute_result"
    }
   ],
   "source": [
    "df_housing = pd.read_csv(\"sample_data/california_housing_train.csv\")\n",
    "df_housing"
   ]
  },
  {
   "cell_type": "markdown",
   "metadata": {
    "id": "NXpzrmFJiirP"
   },
   "source": [
    "This DataFrame has 17,000 rows and 9 columns. Each row provides data about a block of housing. The columns provide data about the houses within a block, such as the total number of bedrooms and the number of households.\n",
    "\n",
    "Note that you can upload your own files to Colab if you want to read in and analyse some of your own data with pandas."
   ]
  },
  {
   "cell_type": "markdown",
   "metadata": {
    "id": "Iz3pj9lxjWnw"
   },
   "source": [
    "### Example: creating a DataFrame from scratch\n",
    "\n",
    "You can also create a DataFrame by providing the data within your code. To demonstrate this, let's create a DataFrame with data about characters in a famous science fiction book called The Hitchhiker's Guide to the Galaxy."
   ]
  },
  {
   "cell_type": "code",
   "execution_count": 12,
   "metadata": {
    "colab": {
     "base_uri": "https://localhost:8080/",
     "height": 206
    },
    "id": "ADpDVj0Rj6O4",
    "outputId": "03627d6f-34bd-4adc-faaa-b1b80d016ad9"
   },
   "outputs": [
    {
     "data": {
      "text/html": [
       "<div>\n",
       "<style scoped>\n",
       "    .dataframe tbody tr th:only-of-type {\n",
       "        vertical-align: middle;\n",
       "    }\n",
       "\n",
       "    .dataframe tbody tr th {\n",
       "        vertical-align: top;\n",
       "    }\n",
       "\n",
       "    .dataframe thead th {\n",
       "        text-align: right;\n",
       "    }\n",
       "</style>\n",
       "<table border=\"1\" class=\"dataframe\">\n",
       "  <thead>\n",
       "    <tr style=\"text-align: right;\">\n",
       "      <th></th>\n",
       "      <th>name</th>\n",
       "      <th>taxon</th>\n",
       "      <th>gender</th>\n",
       "      <th>number_of_heads</th>\n",
       "      <th>intelligence</th>\n",
       "    </tr>\n",
       "  </thead>\n",
       "  <tbody>\n",
       "    <tr>\n",
       "      <th>0</th>\n",
       "      <td>Arthur Dent</td>\n",
       "      <td>human</td>\n",
       "      <td>male</td>\n",
       "      <td>1</td>\n",
       "      <td>100</td>\n",
       "    </tr>\n",
       "    <tr>\n",
       "      <th>1</th>\n",
       "      <td>Tricia McMillan</td>\n",
       "      <td>human</td>\n",
       "      <td>female</td>\n",
       "      <td>1</td>\n",
       "      <td>180</td>\n",
       "    </tr>\n",
       "    <tr>\n",
       "      <th>2</th>\n",
       "      <td>Ford Prefect</td>\n",
       "      <td>betelgeusian</td>\n",
       "      <td>male</td>\n",
       "      <td>1</td>\n",
       "      <td>120</td>\n",
       "    </tr>\n",
       "    <tr>\n",
       "      <th>3</th>\n",
       "      <td>Zaphod Beeblebrox</td>\n",
       "      <td>betelgeusian</td>\n",
       "      <td>male</td>\n",
       "      <td>2</td>\n",
       "      <td>30</td>\n",
       "    </tr>\n",
       "    <tr>\n",
       "      <th>4</th>\n",
       "      <td>Marvin the Paranoid Android</td>\n",
       "      <td>robot</td>\n",
       "      <td>None</td>\n",
       "      <td>1</td>\n",
       "      <td>5000000</td>\n",
       "    </tr>\n",
       "  </tbody>\n",
       "</table>\n",
       "</div>"
      ],
      "text/plain": [
       "                          name         taxon  gender  number_of_heads  \\\n",
       "0                  Arthur Dent         human    male                1   \n",
       "1              Tricia McMillan         human  female                1   \n",
       "2                 Ford Prefect  betelgeusian    male                1   \n",
       "3            Zaphod Beeblebrox  betelgeusian    male                2   \n",
       "4  Marvin the Paranoid Android         robot    None                1   \n",
       "\n",
       "   intelligence  \n",
       "0           100  \n",
       "1           180  \n",
       "2           120  \n",
       "3            30  \n",
       "4       5000000  "
      ]
     },
     "execution_count": 12,
     "metadata": {},
     "output_type": "execute_result"
    }
   ],
   "source": [
    "df_hitchhikers = pd.DataFrame(data={\n",
    "    \"name\": [\"Arthur Dent\", \"Tricia McMillan\", \"Ford Prefect\", \"Zaphod Beeblebrox\", \"Marvin the Paranoid Android\"],\n",
    "    \"taxon\": [\"human\", \"human\", \"betelgeusian\", \"betelgeusian\", \"robot\"],\n",
    "    \"gender\": [\"male\", \"female\", \"male\", \"male\", None],\n",
    "    \"number_of_heads\": [1, 1, 1, 2, 1],\n",
    "    \"intelligence\": [100, 180, 120, 30, 5_000_000]\n",
    "})\n",
    "df_hitchhikers"
   ]
  },
  {
   "cell_type": "markdown",
   "metadata": {
    "id": "_M6B_PWCj9Ko"
   },
   "source": [
    "This DataFrame has 5 rows and 5 columns. Each row provides data about a fictional character in the book. The columns provide data about each character, such as their name, taxon and number of heads (some alien species can have more than one)."
   ]
  },
  {
   "cell_type": "markdown",
   "metadata": {
    "id": "VH1TCKeZllgW"
   },
   "source": [
    "## Structure of a DataFrame\n",
    "\n",
    "Hopefully this will already be obvious from the examples above, but a [pandas DataFrame](https://pandas.pydata.org/docs/user_guide/dsintro.html#dataframe) is a data structure that is organised into **rows** and **columns**. Each DataFrame also has an **index**, which is a special column (or set of columns) that is shown in bold at the left of a DataFrame, and which we'll look at in more detail later."
   ]
  },
  {
   "cell_type": "code",
   "execution_count": 13,
   "metadata": {
    "colab": {
     "base_uri": "https://localhost:8080/",
     "height": 577
    },
    "id": "SnWxiOdNmmiS",
    "outputId": "4a97c6d2-9839-472c-a540-4340b9bb98fb"
   },
   "outputs": [
    {
     "data": {
      "text/html": [
       "<iframe frameborder=\"0\" style=\"width:100%;height:556px;\" src=\"https://viewer.diagrams.net/?nav=1&title=workshop-2-module-1-dataframe.drawio#Uhttps%3A%2F%2Fdrive.google.com%2Fuc%3Fid%3D1znvxOlvX2zO2dDx_BdgD7Pzztt1xS6JT%26export%3Ddownload\"></iframe>\n"
      ],
      "text/plain": [
       "<IPython.core.display.HTML object>"
      ]
     },
     "metadata": {},
     "output_type": "display_data"
    }
   ],
   "source": [
    "%%html\n",
    "<iframe frameborder=\"0\" style=\"width:100%;height:556px;\" src=\"https://viewer.diagrams.net/?nav=1&title=workshop-2-module-1-dataframe.drawio#Uhttps%3A%2F%2Fdrive.google.com%2Fuc%3Fid%3D1znvxOlvX2zO2dDx_BdgD7Pzztt1xS6JT%26export%3Ddownload\"></iframe>"
   ]
  },
  {
   "cell_type": "markdown",
   "metadata": {
    "id": "ADnREH7M2uvI"
   },
   "source": [
    "## Counting rows and columns\n",
    "\n",
    "If a DataFrame is large, you may find it useful to know how many rows and columns it contains. The representation of a DataFrame shows at the bottom how many rows and columns are present in the DataFrame, but you can also use the built-in `len()` function if you want to access the number of rows or columns in your code."
   ]
  },
  {
   "cell_type": "code",
   "execution_count": 14,
   "metadata": {
    "colab": {
     "base_uri": "https://localhost:8080/"
    },
    "id": "Udn0EKW424i4",
    "outputId": "aa05cb1e-5c0f-4542-9dc1-124266bae031"
   },
   "outputs": [
    {
     "data": {
      "text/plain": [
       "5"
      ]
     },
     "execution_count": 14,
     "metadata": {},
     "output_type": "execute_result"
    }
   ],
   "source": [
    "num_rows = len(df_hitchhikers)\n",
    "num_rows"
   ]
  },
  {
   "cell_type": "code",
   "execution_count": 15,
   "metadata": {
    "colab": {
     "base_uri": "https://localhost:8080/"
    },
    "id": "7VibMfSL26ih",
    "outputId": "fca3da4c-145b-4f37-dbe5-9e2139aacf6c"
   },
   "outputs": [
    {
     "data": {
      "text/plain": [
       "5"
      ]
     },
     "execution_count": 15,
     "metadata": {},
     "output_type": "execute_result"
    }
   ],
   "source": [
    "num_cols = len(df_hitchhikers.columns)\n",
    "num_cols"
   ]
  },
  {
   "cell_type": "markdown",
   "metadata": {
    "id": "C3qZvCOK292x"
   },
   "source": [
    "**Exercise 1 (English)**\n",
    "\n",
    "* Count the number of rows and columns in the `df_samples` DataFrame.\n",
    "\n",
    "**Exercice 1 (Français)**\n",
    "\n",
    "* Compter le nombre de lignes et de colonnes du DataFrame `df_samples`."
   ]
  },
  {
   "cell_type": "markdown",
   "metadata": {
    "id": "9jHvUkXtpjjp"
   },
   "source": [
    "## Accessing columns\n",
    "\n",
    "Often you will have a DataFrame with many columns, and you many only need to work with data from a smaller number of columns, or just a single column. Accessing one or more columns from a DataFrame can be done using the square bracket syntax after the name of a DataFrame variable. Let's see how this works.\n"
   ]
  },
  {
   "cell_type": "markdown",
   "metadata": {
    "id": "SqXl9_4vxCMC"
   },
   "source": [
    "### Accessing column names\n",
    "\n",
    "First, let's access the names of all the columns in a DataFrame, to see what columns are available. You can do this by accessing the `columns` property of a DataFrame. For simplicity, let's also convert the result to a Python list, using the built-in `list()` function. "
   ]
  },
  {
   "cell_type": "code",
   "execution_count": 16,
   "metadata": {
    "colab": {
     "base_uri": "https://localhost:8080/"
    },
    "id": "U9ngNlI5wxSf",
    "outputId": "f48465cf-539a-49da-b6bd-1d0badd379be"
   },
   "outputs": [
    {
     "data": {
      "text/plain": [
       "['name', 'taxon', 'gender', 'number_of_heads', 'intelligence']"
      ]
     },
     "execution_count": 16,
     "metadata": {},
     "output_type": "execute_result"
    }
   ],
   "source": [
    "col_names = list(df_hitchhikers.columns)\n",
    "col_names"
   ]
  },
  {
   "cell_type": "markdown",
   "metadata": {
    "id": "HfxPbsPLxKfY"
   },
   "source": [
    "This can be useful especially if you have a lot of columns in a DataFrame. "
   ]
  },
  {
   "cell_type": "markdown",
   "metadata": {
    "id": "G1yQn9rQyFS1"
   },
   "source": [
    "**Exercise 2 (English)**\n",
    "\n",
    "* Access the column names of the `df_samples` DataFrame.\n",
    "\n",
    "**Exercice 2 (Français)**\n",
    "\n",
    "* Afficher les noms des colonnes du DataFrame `df_samples`."
   ]
  },
  {
   "cell_type": "markdown",
   "metadata": {
    "id": "QGsTJZAjplEJ"
   },
   "source": [
    "### Accessing a single column\n",
    "\n",
    "To access a single column, give the column name as a string inside square brackets. Let's access the \"name\" column from the DataFrame of book characters, and assign the result to a new variable `character_name`."
   ]
  },
  {
   "cell_type": "code",
   "execution_count": 17,
   "metadata": {
    "id": "76Nu7kQmsSAx"
   },
   "outputs": [],
   "source": [
    "character_name = df_hitchhikers[\"name\"]"
   ]
  },
  {
   "cell_type": "markdown",
   "metadata": {
    "id": "wntWvW5pslFg"
   },
   "source": [
    "When you access a single column or row from a DataFrame, pandas returns a [Series](https://pandas.pydata.org/docs/user_guide/dsintro.html#series) object to you. Pandas uses the Series class to hold data either from a single column or a single row, i.e., a one-dimensional sequence of data values."
   ]
  },
  {
   "cell_type": "code",
   "execution_count": 18,
   "metadata": {
    "colab": {
     "base_uri": "https://localhost:8080/"
    },
    "id": "EkRQdkOHs2iJ",
    "outputId": "5c2add8c-5a75-497b-bf57-a5c8dfd42a00"
   },
   "outputs": [
    {
     "data": {
      "text/plain": [
       "pandas.core.series.Series"
      ]
     },
     "execution_count": 18,
     "metadata": {},
     "output_type": "execute_result"
    }
   ],
   "source": [
    "type(character_name)"
   ]
  },
  {
   "cell_type": "markdown",
   "metadata": {
    "id": "y6rIlYVVs4Kg"
   },
   "source": [
    "We can also inspect the data in the column."
   ]
  },
  {
   "cell_type": "code",
   "execution_count": 19,
   "metadata": {
    "colab": {
     "base_uri": "https://localhost:8080/"
    },
    "id": "s9r8WXwds7T5",
    "outputId": "6a4d954a-fbc3-4c2f-8fa8-411e67d19607"
   },
   "outputs": [
    {
     "data": {
      "text/plain": [
       "0                    Arthur Dent\n",
       "1                Tricia McMillan\n",
       "2                   Ford Prefect\n",
       "3              Zaphod Beeblebrox\n",
       "4    Marvin the Paranoid Android\n",
       "Name: name, dtype: object"
      ]
     },
     "execution_count": 19,
     "metadata": {},
     "output_type": "execute_result"
    }
   ],
   "source": [
    "character_name"
   ]
  },
  {
   "cell_type": "markdown",
   "metadata": {
    "id": "Lk0SIeittnUs"
   },
   "source": [
    "### Investigating data in a column\n",
    "\n",
    "The pandas Series class has some useful functions for investigating the data in a DataFrame. \n",
    "\n",
    "E.g., let's access the \"taxon\" column and use the `value_counts()` functions to get a summary of the categorical data in the column."
   ]
  },
  {
   "cell_type": "code",
   "execution_count": 20,
   "metadata": {
    "colab": {
     "base_uri": "https://localhost:8080/"
    },
    "id": "qYB5R5wut186",
    "outputId": "6fa08302-2f3b-4fa3-853d-33f5d1dce58c"
   },
   "outputs": [
    {
     "data": {
      "text/plain": [
       "taxon\n",
       "human           2\n",
       "betelgeusian    2\n",
       "robot           1\n",
       "Name: count, dtype: int64"
      ]
     },
     "execution_count": 20,
     "metadata": {},
     "output_type": "execute_result"
    }
   ],
   "source": [
    "character_taxon = df_hitchhikers[\"taxon\"]\n",
    "character_taxon.value_counts()"
   ]
  },
  {
   "cell_type": "markdown",
   "metadata": {
    "id": "Itmhf4-muFta"
   },
   "source": [
    "The pandas Series class also has a `describe()` function which can be useful for investigating numerical data. Let's use it with the `number_of_heads` column."
   ]
  },
  {
   "cell_type": "code",
   "execution_count": 21,
   "metadata": {
    "colab": {
     "base_uri": "https://localhost:8080/"
    },
    "id": "6M483UnBuM5u",
    "outputId": "b2e1f30d-8953-4c8c-baff-a25771cf3f6e"
   },
   "outputs": [
    {
     "data": {
      "text/plain": [
       "count    5.000000\n",
       "mean     1.200000\n",
       "std      0.447214\n",
       "min      1.000000\n",
       "25%      1.000000\n",
       "50%      1.000000\n",
       "75%      1.000000\n",
       "max      2.000000\n",
       "Name: number_of_heads, dtype: float64"
      ]
     },
     "execution_count": 21,
     "metadata": {},
     "output_type": "execute_result"
    }
   ],
   "source": [
    "character_heads = df_hitchhikers[\"number_of_heads\"]\n",
    "character_heads.describe()"
   ]
  },
  {
   "cell_type": "markdown",
   "metadata": {
    "id": "CSb2BzFMvOdW"
   },
   "source": [
    "The characters in our DataFrame have at least (min) 1 and at most (max) 2 heads. The mean number of heads is 1.2, but of course this a bit silly, because number of heads is not a continuous variable."
   ]
  },
  {
   "cell_type": "markdown",
   "metadata": {
    "id": "R5oYGx1FyxmN"
   },
   "source": [
    "**Exercise 3 (English)**\n",
    "\n",
    "* Access the \"country\" column from the `df_samples` DataFrame, and then use the `value_counts()` function to show the number of mosquito samples from each country.\n",
    "\n",
    "* Access the \"type\" column from the `df_geneset` DataFrame, and then use the `value_counts()` function to show the number of genome annotations of different types.\n",
    "\n",
    "* Access the \"effect\" column from the `snp_freqs_df` DataFrame, and then use the `value_counts()` function to show the number of SNPs with different effects.\n",
    "\n",
    "**Exercice 3 (Français)**\n",
    "\n",
    "* Obtenir la colonne \"country\" du DataFrame `df_samples` et utiliser la fonction `value_counts()` pour afficher le nombre de moustiques capturés dans chaque pays.\n",
    "\n",
    "* Obtenir la colonne \"type\" du DataFrame `df_geneset` et utiliser la fonction `value_counts()` pour afficher le nombre d'annotations du génome de chaque type.\n",
    "\n",
    "* Obtenir la colonne \"effect\" du DataFrame `snp_freqs_df` et utiliser la fonction `value_counts()` pour afficher le nombre de SNPs pour chaque effet possible."
   ]
  },
  {
   "cell_type": "markdown",
   "metadata": {
    "id": "uirMvaSAs8WN"
   },
   "source": [
    "### Accessing multiple columns\n",
    "\n",
    "To access multiple columns, provide the column names as a list of strings. Let's access the \"name\", \"taxon\" and \"number_of_heads\" columns from the DataFrame of book characters, and assign the resulting DataFrame to a new variable `df_hh`."
   ]
  },
  {
   "cell_type": "code",
   "execution_count": 22,
   "metadata": {
    "colab": {
     "base_uri": "https://localhost:8080/",
     "height": 206
    },
    "id": "vhyLPKestFAl",
    "outputId": "d8b84508-0b75-42ad-999f-30d54eb08a27"
   },
   "outputs": [
    {
     "data": {
      "text/html": [
       "<div>\n",
       "<style scoped>\n",
       "    .dataframe tbody tr th:only-of-type {\n",
       "        vertical-align: middle;\n",
       "    }\n",
       "\n",
       "    .dataframe tbody tr th {\n",
       "        vertical-align: top;\n",
       "    }\n",
       "\n",
       "    .dataframe thead th {\n",
       "        text-align: right;\n",
       "    }\n",
       "</style>\n",
       "<table border=\"1\" class=\"dataframe\">\n",
       "  <thead>\n",
       "    <tr style=\"text-align: right;\">\n",
       "      <th></th>\n",
       "      <th>name</th>\n",
       "      <th>taxon</th>\n",
       "      <th>number_of_heads</th>\n",
       "    </tr>\n",
       "  </thead>\n",
       "  <tbody>\n",
       "    <tr>\n",
       "      <th>0</th>\n",
       "      <td>Arthur Dent</td>\n",
       "      <td>human</td>\n",
       "      <td>1</td>\n",
       "    </tr>\n",
       "    <tr>\n",
       "      <th>1</th>\n",
       "      <td>Tricia McMillan</td>\n",
       "      <td>human</td>\n",
       "      <td>1</td>\n",
       "    </tr>\n",
       "    <tr>\n",
       "      <th>2</th>\n",
       "      <td>Ford Prefect</td>\n",
       "      <td>betelgeusian</td>\n",
       "      <td>1</td>\n",
       "    </tr>\n",
       "    <tr>\n",
       "      <th>3</th>\n",
       "      <td>Zaphod Beeblebrox</td>\n",
       "      <td>betelgeusian</td>\n",
       "      <td>2</td>\n",
       "    </tr>\n",
       "    <tr>\n",
       "      <th>4</th>\n",
       "      <td>Marvin the Paranoid Android</td>\n",
       "      <td>robot</td>\n",
       "      <td>1</td>\n",
       "    </tr>\n",
       "  </tbody>\n",
       "</table>\n",
       "</div>"
      ],
      "text/plain": [
       "                          name         taxon  number_of_heads\n",
       "0                  Arthur Dent         human                1\n",
       "1              Tricia McMillan         human                1\n",
       "2                 Ford Prefect  betelgeusian                1\n",
       "3            Zaphod Beeblebrox  betelgeusian                2\n",
       "4  Marvin the Paranoid Android         robot                1"
      ]
     },
     "execution_count": 22,
     "metadata": {},
     "output_type": "execute_result"
    }
   ],
   "source": [
    "selected_cols = [\"name\", \"taxon\", \"number_of_heads\"]\n",
    "df_hh = df_hitchhikers[selected_cols]\n",
    "df_hh"
   ]
  },
  {
   "cell_type": "markdown",
   "metadata": {
    "id": "Ls3ZW84Txynz"
   },
   "source": [
    "You can also put the list of columns directly inside the square brackets, which would give the same result."
   ]
  },
  {
   "cell_type": "code",
   "execution_count": 23,
   "metadata": {
    "colab": {
     "base_uri": "https://localhost:8080/",
     "height": 206
    },
    "id": "pSZ0AcDjwToZ",
    "outputId": "79fe5980-cf3a-47aa-d6e6-44ff5559df47"
   },
   "outputs": [
    {
     "data": {
      "text/html": [
       "<div>\n",
       "<style scoped>\n",
       "    .dataframe tbody tr th:only-of-type {\n",
       "        vertical-align: middle;\n",
       "    }\n",
       "\n",
       "    .dataframe tbody tr th {\n",
       "        vertical-align: top;\n",
       "    }\n",
       "\n",
       "    .dataframe thead th {\n",
       "        text-align: right;\n",
       "    }\n",
       "</style>\n",
       "<table border=\"1\" class=\"dataframe\">\n",
       "  <thead>\n",
       "    <tr style=\"text-align: right;\">\n",
       "      <th></th>\n",
       "      <th>name</th>\n",
       "      <th>taxon</th>\n",
       "      <th>number_of_heads</th>\n",
       "    </tr>\n",
       "  </thead>\n",
       "  <tbody>\n",
       "    <tr>\n",
       "      <th>0</th>\n",
       "      <td>Arthur Dent</td>\n",
       "      <td>human</td>\n",
       "      <td>1</td>\n",
       "    </tr>\n",
       "    <tr>\n",
       "      <th>1</th>\n",
       "      <td>Tricia McMillan</td>\n",
       "      <td>human</td>\n",
       "      <td>1</td>\n",
       "    </tr>\n",
       "    <tr>\n",
       "      <th>2</th>\n",
       "      <td>Ford Prefect</td>\n",
       "      <td>betelgeusian</td>\n",
       "      <td>1</td>\n",
       "    </tr>\n",
       "    <tr>\n",
       "      <th>3</th>\n",
       "      <td>Zaphod Beeblebrox</td>\n",
       "      <td>betelgeusian</td>\n",
       "      <td>2</td>\n",
       "    </tr>\n",
       "    <tr>\n",
       "      <th>4</th>\n",
       "      <td>Marvin the Paranoid Android</td>\n",
       "      <td>robot</td>\n",
       "      <td>1</td>\n",
       "    </tr>\n",
       "  </tbody>\n",
       "</table>\n",
       "</div>"
      ],
      "text/plain": [
       "                          name         taxon  number_of_heads\n",
       "0                  Arthur Dent         human                1\n",
       "1              Tricia McMillan         human                1\n",
       "2                 Ford Prefect  betelgeusian                1\n",
       "3            Zaphod Beeblebrox  betelgeusian                2\n",
       "4  Marvin the Paranoid Android         robot                1"
      ]
     },
     "execution_count": 23,
     "metadata": {},
     "output_type": "execute_result"
    }
   ],
   "source": [
    "df_hh = df_hitchhikers[[\"name\", \"taxon\", \"number_of_heads\"]]\n",
    "df_hh"
   ]
  },
  {
   "cell_type": "markdown",
   "metadata": {
    "id": "rf5z1-pN0RK6"
   },
   "source": [
    "**Exercise 4 (English)**\n",
    "\n",
    "* Create a new DataFrame containing only the \"sample_id\", \"country\" and \"year\" columns from the `df_samples` DataFrame.\n",
    "* Create a new DataFrame containing only the \"ID\", \"contig\", \"start\" and \"end\" columns from the `df_geneset` DataFrame.\n",
    "* Create a new DataFrame containing only the frequency columns from the `snp_freqs_df` DataFrame (hint: the names of these columns all begin with \"frq_\").\n",
    "\n",
    "**Exercice 4 (Français)**\n",
    "\n",
    "* Créer un nouveau DataFrame contenant seulement les colonnes \"sample_id\", \"country\" et \"year\" du DataFrame `df_samples`.\n",
    "\n",
    "* Créer un nouveau DataFrame contenant seulement les colonnes \"ID\", \"contig\", \"start\" et \"end\" du DataFrame `df_geneset`.\n",
    "\n",
    "* Créer un nouveau DataFrame contenant seulement les colonnes contenant les fréquences du DataFrame `snp_freqs_df` (Indice: les noms de ces colonnes commencent tous par \"frq_\")."
   ]
  },
  {
   "cell_type": "markdown",
   "metadata": {
    "id": "2yPSfEA8t-eO"
   },
   "source": [
    "## Accessing rows\n",
    "\n",
    "Now we've seen how to access columns, let's see how to access rows. To access rows by their position within a DataFrame, we can use the `iloc` property. \n",
    "\n"
   ]
  },
  {
   "cell_type": "markdown",
   "metadata": {
    "id": "VDyo26aZvj6W"
   },
   "source": [
    "### Accessing a single row\n",
    "\n",
    "To access a single row, we use the `iloc` property, then provide the row number as an integer inside square brackets, remembering that numbering starts from 0 in Python. For example, access the first row of our DataFrame of book characters, and assign the result to a variable `first_row`."
   ]
  },
  {
   "cell_type": "code",
   "execution_count": 24,
   "metadata": {
    "id": "ouCva7AMuy9r"
   },
   "outputs": [],
   "source": [
    "first_row = df_hitchhikers.iloc[0]"
   ]
  },
  {
   "cell_type": "markdown",
   "metadata": {
    "id": "CgAe2p-bu24X"
   },
   "source": [
    "When accessing a single row, pandas returns a Series."
   ]
  },
  {
   "cell_type": "code",
   "execution_count": 25,
   "metadata": {
    "colab": {
     "base_uri": "https://localhost:8080/"
    },
    "id": "brqH5awiu-CV",
    "outputId": "60182c16-535d-44a3-ba9b-27e979bf59a2"
   },
   "outputs": [
    {
     "data": {
      "text/plain": [
       "pandas.core.series.Series"
      ]
     },
     "execution_count": 25,
     "metadata": {},
     "output_type": "execute_result"
    }
   ],
   "source": [
    "type(first_row)"
   ]
  },
  {
   "cell_type": "markdown",
   "metadata": {
    "id": "ZrEnZFthu-17"
   },
   "source": [
    "Inspect the data in the row."
   ]
  },
  {
   "cell_type": "code",
   "execution_count": 26,
   "metadata": {
    "colab": {
     "base_uri": "https://localhost:8080/"
    },
    "id": "-xYECrFPvAz1",
    "outputId": "3996ed78-f2b8-4807-fec8-0bfa3f6b9cae"
   },
   "outputs": [
    {
     "data": {
      "text/plain": [
       "name               Arthur Dent\n",
       "taxon                    human\n",
       "gender                    male\n",
       "number_of_heads              1\n",
       "intelligence               100\n",
       "Name: 0, dtype: object"
      ]
     },
     "execution_count": 26,
     "metadata": {},
     "output_type": "execute_result"
    }
   ],
   "source": [
    "first_row"
   ]
  },
  {
   "cell_type": "markdown",
   "metadata": {
    "id": "2ye0BNa2vBeH"
   },
   "source": [
    "Access specific data values within the row."
   ]
  },
  {
   "cell_type": "code",
   "execution_count": 27,
   "metadata": {
    "colab": {
     "base_uri": "https://localhost:8080/",
     "height": 35
    },
    "id": "LU8unspMvQjL",
    "outputId": "cf839c35-a2d1-482a-bd21-a9ffb9ef9fd8"
   },
   "outputs": [
    {
     "data": {
      "text/plain": [
       "'Arthur Dent'"
      ]
     },
     "execution_count": 27,
     "metadata": {},
     "output_type": "execute_result"
    }
   ],
   "source": [
    "first_row[\"name\"]"
   ]
  },
  {
   "cell_type": "code",
   "execution_count": 28,
   "metadata": {
    "colab": {
     "base_uri": "https://localhost:8080/"
    },
    "id": "GhPIE1uMvRc2",
    "outputId": "8929ea73-3f06-4dd5-f491-0d165d74454c"
   },
   "outputs": [
    {
     "data": {
      "text/plain": [
       "1"
      ]
     },
     "execution_count": 28,
     "metadata": {},
     "output_type": "execute_result"
    }
   ],
   "source": [
    "first_row[\"number_of_heads\"]"
   ]
  },
  {
   "cell_type": "markdown",
   "metadata": {
    "id": "xmh7SFESwdlY"
   },
   "source": [
    "**Exercise 5 (English)**\n",
    "\n",
    "* Access the 81st row in the `df_samples` DataFrame. What country did this mosquito sample come from? (Remember: numbering starts from 0 in Python.)\n",
    "\n",
    "* Access the 73,287th row in the `df_geneset` DataFrame. What type of annotation is this? What is its Name?\n",
    "\n",
    "**Exercice 5 (Français)**\n",
    "\n",
    "* Obtenir la 81ème ligne du DataFrame `df_samples`. De quel pays est issu ce moustique? (Indice: les indices commencent à 0 en Python)\n",
    "\n",
    "* Obtenir la 73 287ème ligne du DataFrame `df_geneset`. De quel type d'annotation s'agit-il? Quel est son nom?"
   ]
  },
  {
   "cell_type": "markdown",
   "metadata": {
    "id": "bQHt4MX_vTdE"
   },
   "source": [
    "### Accessing multiple rows\n",
    "\n",
    "We can also use `iloc` to access multiple rows,from some start position to some end position. To do this we provide two integers separated by a colon (\":\") which is called a slice. \n",
    "\n",
    "As well as remembering that numbering starts from zero, we also have to remember that slices include the start position but do not include the stop position. E.g., to access the first two rows, provide the start and stop positions 0 and 2. This returns a new DataFrame with just the selected rows within the slice."
   ]
  },
  {
   "cell_type": "code",
   "execution_count": 29,
   "metadata": {
    "colab": {
     "base_uri": "https://localhost:8080/",
     "height": 112
    },
    "id": "efZuA4KIwJU7",
    "outputId": "4d5bc0f9-e377-4692-898a-cfb916ccfb15"
   },
   "outputs": [
    {
     "data": {
      "text/html": [
       "<div>\n",
       "<style scoped>\n",
       "    .dataframe tbody tr th:only-of-type {\n",
       "        vertical-align: middle;\n",
       "    }\n",
       "\n",
       "    .dataframe tbody tr th {\n",
       "        vertical-align: top;\n",
       "    }\n",
       "\n",
       "    .dataframe thead th {\n",
       "        text-align: right;\n",
       "    }\n",
       "</style>\n",
       "<table border=\"1\" class=\"dataframe\">\n",
       "  <thead>\n",
       "    <tr style=\"text-align: right;\">\n",
       "      <th></th>\n",
       "      <th>name</th>\n",
       "      <th>taxon</th>\n",
       "      <th>gender</th>\n",
       "      <th>number_of_heads</th>\n",
       "      <th>intelligence</th>\n",
       "    </tr>\n",
       "  </thead>\n",
       "  <tbody>\n",
       "    <tr>\n",
       "      <th>0</th>\n",
       "      <td>Arthur Dent</td>\n",
       "      <td>human</td>\n",
       "      <td>male</td>\n",
       "      <td>1</td>\n",
       "      <td>100</td>\n",
       "    </tr>\n",
       "    <tr>\n",
       "      <th>1</th>\n",
       "      <td>Tricia McMillan</td>\n",
       "      <td>human</td>\n",
       "      <td>female</td>\n",
       "      <td>1</td>\n",
       "      <td>180</td>\n",
       "    </tr>\n",
       "  </tbody>\n",
       "</table>\n",
       "</div>"
      ],
      "text/plain": [
       "              name  taxon  gender  number_of_heads  intelligence\n",
       "0      Arthur Dent  human    male                1           100\n",
       "1  Tricia McMillan  human  female                1           180"
      ]
     },
     "execution_count": 29,
     "metadata": {},
     "output_type": "execute_result"
    }
   ],
   "source": [
    "first_two_rows = df_hitchhikers.iloc[0:2]\n",
    "first_two_rows"
   ]
  },
  {
   "cell_type": "markdown",
   "metadata": {
    "id": "4VdkWfTowQKS"
   },
   "source": [
    "**Exercise 6 (English)**\n",
    "\n",
    "* Access rows starting from the 6th row up to and including the 10th row in the `df_samples` DataFrame.\n",
    "\n",
    "**Exercice 6 (Français)**\n",
    "\n",
    "* Obtenir toutes les lignes entre la 6ème et la 10ème (incluses) du DataFrame `df_samples`."
   ]
  },
  {
   "cell_type": "markdown",
   "metadata": {
    "id": "ue-L-N5DzUEB"
   },
   "source": [
    "## Indexes\n",
    "\n",
    "Every pandas DataFrame has an index, which is a special column (or set of columns) which can be used to access rows quickly and conveniently. In particular, indexes can be used to assign a label to every row, and then use that label to locate and access matching rows.\n",
    "\n",
    "For example, when working with our DataFrame of book characters, we might want to access rows using the name of the character. To do this, we can set the \"name\" column as the index."
   ]
  },
  {
   "cell_type": "code",
   "execution_count": 30,
   "metadata": {
    "colab": {
     "base_uri": "https://localhost:8080/",
     "height": 237
    },
    "id": "y3RWIwGE1Erf",
    "outputId": "230ad0a5-d06e-457d-8d0b-8f752b977d86"
   },
   "outputs": [
    {
     "data": {
      "text/html": [
       "<div>\n",
       "<style scoped>\n",
       "    .dataframe tbody tr th:only-of-type {\n",
       "        vertical-align: middle;\n",
       "    }\n",
       "\n",
       "    .dataframe tbody tr th {\n",
       "        vertical-align: top;\n",
       "    }\n",
       "\n",
       "    .dataframe thead th {\n",
       "        text-align: right;\n",
       "    }\n",
       "</style>\n",
       "<table border=\"1\" class=\"dataframe\">\n",
       "  <thead>\n",
       "    <tr style=\"text-align: right;\">\n",
       "      <th></th>\n",
       "      <th>taxon</th>\n",
       "      <th>gender</th>\n",
       "      <th>number_of_heads</th>\n",
       "      <th>intelligence</th>\n",
       "    </tr>\n",
       "    <tr>\n",
       "      <th>name</th>\n",
       "      <th></th>\n",
       "      <th></th>\n",
       "      <th></th>\n",
       "      <th></th>\n",
       "    </tr>\n",
       "  </thead>\n",
       "  <tbody>\n",
       "    <tr>\n",
       "      <th>Arthur Dent</th>\n",
       "      <td>human</td>\n",
       "      <td>male</td>\n",
       "      <td>1</td>\n",
       "      <td>100</td>\n",
       "    </tr>\n",
       "    <tr>\n",
       "      <th>Tricia McMillan</th>\n",
       "      <td>human</td>\n",
       "      <td>female</td>\n",
       "      <td>1</td>\n",
       "      <td>180</td>\n",
       "    </tr>\n",
       "    <tr>\n",
       "      <th>Ford Prefect</th>\n",
       "      <td>betelgeusian</td>\n",
       "      <td>male</td>\n",
       "      <td>1</td>\n",
       "      <td>120</td>\n",
       "    </tr>\n",
       "    <tr>\n",
       "      <th>Zaphod Beeblebrox</th>\n",
       "      <td>betelgeusian</td>\n",
       "      <td>male</td>\n",
       "      <td>2</td>\n",
       "      <td>30</td>\n",
       "    </tr>\n",
       "    <tr>\n",
       "      <th>Marvin the Paranoid Android</th>\n",
       "      <td>robot</td>\n",
       "      <td>None</td>\n",
       "      <td>1</td>\n",
       "      <td>5000000</td>\n",
       "    </tr>\n",
       "  </tbody>\n",
       "</table>\n",
       "</div>"
      ],
      "text/plain": [
       "                                    taxon  gender  number_of_heads  \\\n",
       "name                                                                 \n",
       "Arthur Dent                         human    male                1   \n",
       "Tricia McMillan                     human  female                1   \n",
       "Ford Prefect                 betelgeusian    male                1   \n",
       "Zaphod Beeblebrox            betelgeusian    male                2   \n",
       "Marvin the Paranoid Android         robot    None                1   \n",
       "\n",
       "                             intelligence  \n",
       "name                                       \n",
       "Arthur Dent                           100  \n",
       "Tricia McMillan                       180  \n",
       "Ford Prefect                          120  \n",
       "Zaphod Beeblebrox                      30  \n",
       "Marvin the Paranoid Android       5000000  "
      ]
     },
     "execution_count": 30,
     "metadata": {},
     "output_type": "execute_result"
    }
   ],
   "source": [
    "df_hitchhikers_indexed = df_hitchhikers.set_index(\"name\")\n",
    "df_hitchhikers_indexed"
   ]
  },
  {
   "cell_type": "markdown",
   "metadata": {
    "id": "pJAt0P-xOHII"
   },
   "source": [
    "The DataFrame `df_hitchhikers_indexed` has the same data as before, but notice that the \"name\" column has moved to the left and is shown in bold. This shows us that the \"name\" column is now being used as the DataFrame index.\n",
    "\n",
    "Now that we've set a useful index, we can use the `loc` property to locate rows with a particular name. E.g., locate the row where the character's name is \"Tricia McMillan\"."
   ]
  },
  {
   "cell_type": "code",
   "execution_count": 31,
   "metadata": {
    "id": "O2fJrsU-1Kpq"
   },
   "outputs": [],
   "source": [
    "trillian = df_hitchhikers_indexed.loc[\"Tricia McMillan\"]"
   ]
  },
  {
   "cell_type": "markdown",
   "metadata": {
    "id": "bBr_AodQi_ow"
   },
   "source": [
    "This indexing action locates a single row, and so pandas returns a Series. "
   ]
  },
  {
   "cell_type": "code",
   "execution_count": 32,
   "metadata": {
    "colab": {
     "base_uri": "https://localhost:8080/"
    },
    "id": "ygww6pG8PEoF",
    "outputId": "24a804b2-dd82-492d-d367-bdf2f8f93d93"
   },
   "outputs": [
    {
     "data": {
      "text/plain": [
       "pandas.core.series.Series"
      ]
     },
     "execution_count": 32,
     "metadata": {},
     "output_type": "execute_result"
    }
   ],
   "source": [
    "type(trillian)"
   ]
  },
  {
   "cell_type": "markdown",
   "metadata": {
    "id": "RDeAhvMEjHz3"
   },
   "source": [
    "Inspect the row of data we located."
   ]
  },
  {
   "cell_type": "code",
   "execution_count": 33,
   "metadata": {
    "colab": {
     "base_uri": "https://localhost:8080/"
    },
    "id": "CevCnVvsPFZl",
    "outputId": "0da15615-56ae-425c-8c8f-64d100ea62f8"
   },
   "outputs": [
    {
     "data": {
      "text/plain": [
       "taxon               human\n",
       "gender             female\n",
       "number_of_heads         1\n",
       "intelligence          180\n",
       "Name: Tricia McMillan, dtype: object"
      ]
     },
     "execution_count": 33,
     "metadata": {},
     "output_type": "execute_result"
    }
   ],
   "source": [
    "trillian"
   ]
  },
  {
   "cell_type": "markdown",
   "metadata": {
    "id": "6LJy_TBIPV65"
   },
   "source": [
    "It's also useful to know that you can always reset the index back to the default, using the `reset_index()` function. The default is to index the DataFrame with integers."
   ]
  },
  {
   "cell_type": "code",
   "execution_count": 34,
   "metadata": {
    "colab": {
     "base_uri": "https://localhost:8080/",
     "height": 206
    },
    "id": "cX7a4HCJ1SBR",
    "outputId": "7503bb9e-0f2d-464d-d439-b761be46ef0b"
   },
   "outputs": [
    {
     "data": {
      "text/html": [
       "<div>\n",
       "<style scoped>\n",
       "    .dataframe tbody tr th:only-of-type {\n",
       "        vertical-align: middle;\n",
       "    }\n",
       "\n",
       "    .dataframe tbody tr th {\n",
       "        vertical-align: top;\n",
       "    }\n",
       "\n",
       "    .dataframe thead th {\n",
       "        text-align: right;\n",
       "    }\n",
       "</style>\n",
       "<table border=\"1\" class=\"dataframe\">\n",
       "  <thead>\n",
       "    <tr style=\"text-align: right;\">\n",
       "      <th></th>\n",
       "      <th>name</th>\n",
       "      <th>taxon</th>\n",
       "      <th>gender</th>\n",
       "      <th>number_of_heads</th>\n",
       "      <th>intelligence</th>\n",
       "    </tr>\n",
       "  </thead>\n",
       "  <tbody>\n",
       "    <tr>\n",
       "      <th>0</th>\n",
       "      <td>Arthur Dent</td>\n",
       "      <td>human</td>\n",
       "      <td>male</td>\n",
       "      <td>1</td>\n",
       "      <td>100</td>\n",
       "    </tr>\n",
       "    <tr>\n",
       "      <th>1</th>\n",
       "      <td>Tricia McMillan</td>\n",
       "      <td>human</td>\n",
       "      <td>female</td>\n",
       "      <td>1</td>\n",
       "      <td>180</td>\n",
       "    </tr>\n",
       "    <tr>\n",
       "      <th>2</th>\n",
       "      <td>Ford Prefect</td>\n",
       "      <td>betelgeusian</td>\n",
       "      <td>male</td>\n",
       "      <td>1</td>\n",
       "      <td>120</td>\n",
       "    </tr>\n",
       "    <tr>\n",
       "      <th>3</th>\n",
       "      <td>Zaphod Beeblebrox</td>\n",
       "      <td>betelgeusian</td>\n",
       "      <td>male</td>\n",
       "      <td>2</td>\n",
       "      <td>30</td>\n",
       "    </tr>\n",
       "    <tr>\n",
       "      <th>4</th>\n",
       "      <td>Marvin the Paranoid Android</td>\n",
       "      <td>robot</td>\n",
       "      <td>None</td>\n",
       "      <td>1</td>\n",
       "      <td>5000000</td>\n",
       "    </tr>\n",
       "  </tbody>\n",
       "</table>\n",
       "</div>"
      ],
      "text/plain": [
       "                          name         taxon  gender  number_of_heads  \\\n",
       "0                  Arthur Dent         human    male                1   \n",
       "1              Tricia McMillan         human  female                1   \n",
       "2                 Ford Prefect  betelgeusian    male                1   \n",
       "3            Zaphod Beeblebrox  betelgeusian    male                2   \n",
       "4  Marvin the Paranoid Android         robot    None                1   \n",
       "\n",
       "   intelligence  \n",
       "0           100  \n",
       "1           180  \n",
       "2           120  \n",
       "3            30  \n",
       "4       5000000  "
      ]
     },
     "execution_count": 34,
     "metadata": {},
     "output_type": "execute_result"
    }
   ],
   "source": [
    "df_hitchhikers_reset = df_hitchhikers_indexed.reset_index()\n",
    "df_hitchhikers_reset"
   ]
  },
  {
   "cell_type": "markdown",
   "metadata": {
    "id": "lA_7Pq0731xR"
   },
   "source": [
    "**Exercise 7 (English)**\n",
    "\n",
    "* Set the \"sample_id\" column as the index on the `df_samples` DataFrame, then locate the row with sample identifier \"BK0055-C\". Where was this mosquito collected?\n",
    "* Set the \"ID\" column as the index on the `df_geneset` DataFrame, then locate the row with identifier \"AGAP000818\". What is the name of this gene?\n",
    "\n",
    "**Exercice 7 (Français)**\n",
    "\n",
    "* Faire de la colonne \"sample_id\" l'index du DataFrame `df_samples` et ensuite trouver la ligne avec comme identificant d'échantillon \"BK0055-C\". D'où est issu ce moustique?\n",
    "\n",
    "* Faire de la colonne \"ID\" l'index du DataFrame `df_geneset` et ensuite trouver la ligne avec comme identifiant \"AGAP000818\". Quel est le nom de ce gène?\n"
   ]
  },
  {
   "cell_type": "markdown",
   "metadata": {
    "id": "WY34jzl7zQAN"
   },
   "source": [
    "## Queries\n",
    "\n",
    "DataFrames also provide a `query()` function, which can be used to select rows matching some condition or combination of conditions. The `query()` function accepts a string containing a query expression.\n",
    "\n",
    "Let's query the book characters DataFrame to select only rows where the value of the \"taxon\" column is \"human\". To match a value we use the \"==\" operator.\n"
   ]
  },
  {
   "cell_type": "code",
   "execution_count": 35,
   "metadata": {
    "colab": {
     "base_uri": "https://localhost:8080/",
     "height": 112
    },
    "id": "tGPztYVS1Znb",
    "outputId": "8ea8adb9-c339-4d79-a657-f81d599da576"
   },
   "outputs": [
    {
     "data": {
      "text/html": [
       "<div>\n",
       "<style scoped>\n",
       "    .dataframe tbody tr th:only-of-type {\n",
       "        vertical-align: middle;\n",
       "    }\n",
       "\n",
       "    .dataframe tbody tr th {\n",
       "        vertical-align: top;\n",
       "    }\n",
       "\n",
       "    .dataframe thead th {\n",
       "        text-align: right;\n",
       "    }\n",
       "</style>\n",
       "<table border=\"1\" class=\"dataframe\">\n",
       "  <thead>\n",
       "    <tr style=\"text-align: right;\">\n",
       "      <th></th>\n",
       "      <th>name</th>\n",
       "      <th>taxon</th>\n",
       "      <th>gender</th>\n",
       "      <th>number_of_heads</th>\n",
       "      <th>intelligence</th>\n",
       "    </tr>\n",
       "  </thead>\n",
       "  <tbody>\n",
       "    <tr>\n",
       "      <th>0</th>\n",
       "      <td>Arthur Dent</td>\n",
       "      <td>human</td>\n",
       "      <td>male</td>\n",
       "      <td>1</td>\n",
       "      <td>100</td>\n",
       "    </tr>\n",
       "    <tr>\n",
       "      <th>1</th>\n",
       "      <td>Tricia McMillan</td>\n",
       "      <td>human</td>\n",
       "      <td>female</td>\n",
       "      <td>1</td>\n",
       "      <td>180</td>\n",
       "    </tr>\n",
       "  </tbody>\n",
       "</table>\n",
       "</div>"
      ],
      "text/plain": [
       "              name  taxon  gender  number_of_heads  intelligence\n",
       "0      Arthur Dent  human    male                1           100\n",
       "1  Tricia McMillan  human  female                1           180"
      ]
     },
     "execution_count": 35,
     "metadata": {},
     "output_type": "execute_result"
    }
   ],
   "source": [
    "df_human_hitchhikers = df_hitchhikers.query(\"taxon == 'human'\")\n",
    "df_human_hitchhikers"
   ]
  },
  {
   "cell_type": "markdown",
   "metadata": {
    "id": "8-Febl1q4y4k"
   },
   "source": [
    "Let's do the opposite, selecting only rows where the value of the \"taxon\" column is not \"human\", using the \"!=\" operator."
   ]
  },
  {
   "cell_type": "code",
   "execution_count": 36,
   "metadata": {
    "colab": {
     "base_uri": "https://localhost:8080/",
     "height": 143
    },
    "id": "PIm7z0wQ1qyo",
    "outputId": "0a1615a9-d648-43b6-9fac-d4add147f3c1"
   },
   "outputs": [
    {
     "data": {
      "text/html": [
       "<div>\n",
       "<style scoped>\n",
       "    .dataframe tbody tr th:only-of-type {\n",
       "        vertical-align: middle;\n",
       "    }\n",
       "\n",
       "    .dataframe tbody tr th {\n",
       "        vertical-align: top;\n",
       "    }\n",
       "\n",
       "    .dataframe thead th {\n",
       "        text-align: right;\n",
       "    }\n",
       "</style>\n",
       "<table border=\"1\" class=\"dataframe\">\n",
       "  <thead>\n",
       "    <tr style=\"text-align: right;\">\n",
       "      <th></th>\n",
       "      <th>name</th>\n",
       "      <th>taxon</th>\n",
       "      <th>gender</th>\n",
       "      <th>number_of_heads</th>\n",
       "      <th>intelligence</th>\n",
       "    </tr>\n",
       "  </thead>\n",
       "  <tbody>\n",
       "    <tr>\n",
       "      <th>2</th>\n",
       "      <td>Ford Prefect</td>\n",
       "      <td>betelgeusian</td>\n",
       "      <td>male</td>\n",
       "      <td>1</td>\n",
       "      <td>120</td>\n",
       "    </tr>\n",
       "    <tr>\n",
       "      <th>3</th>\n",
       "      <td>Zaphod Beeblebrox</td>\n",
       "      <td>betelgeusian</td>\n",
       "      <td>male</td>\n",
       "      <td>2</td>\n",
       "      <td>30</td>\n",
       "    </tr>\n",
       "    <tr>\n",
       "      <th>4</th>\n",
       "      <td>Marvin the Paranoid Android</td>\n",
       "      <td>robot</td>\n",
       "      <td>None</td>\n",
       "      <td>1</td>\n",
       "      <td>5000000</td>\n",
       "    </tr>\n",
       "  </tbody>\n",
       "</table>\n",
       "</div>"
      ],
      "text/plain": [
       "                          name         taxon gender  number_of_heads  \\\n",
       "2                 Ford Prefect  betelgeusian   male                1   \n",
       "3            Zaphod Beeblebrox  betelgeusian   male                2   \n",
       "4  Marvin the Paranoid Android         robot   None                1   \n",
       "\n",
       "   intelligence  \n",
       "2           120  \n",
       "3            30  \n",
       "4       5000000  "
      ]
     },
     "execution_count": 36,
     "metadata": {},
     "output_type": "execute_result"
    }
   ],
   "source": [
    "df_non_human_hitchhikers = df_hitchhikers.query(\"taxon != 'human'\")\n",
    "df_non_human_hitchhikers"
   ]
  },
  {
   "cell_type": "markdown",
   "metadata": {
    "id": "ryk08tOV46ro"
   },
   "source": [
    "Let's query a numerical field using the \">\" greater than operator."
   ]
  },
  {
   "cell_type": "code",
   "execution_count": 37,
   "metadata": {
    "colab": {
     "base_uri": "https://localhost:8080/",
     "height": 80
    },
    "id": "LfoFiOpL1gGQ",
    "outputId": "0902e49d-2a98-45b5-f49a-08cb6b163165"
   },
   "outputs": [
    {
     "data": {
      "text/html": [
       "<div>\n",
       "<style scoped>\n",
       "    .dataframe tbody tr th:only-of-type {\n",
       "        vertical-align: middle;\n",
       "    }\n",
       "\n",
       "    .dataframe tbody tr th {\n",
       "        vertical-align: top;\n",
       "    }\n",
       "\n",
       "    .dataframe thead th {\n",
       "        text-align: right;\n",
       "    }\n",
       "</style>\n",
       "<table border=\"1\" class=\"dataframe\">\n",
       "  <thead>\n",
       "    <tr style=\"text-align: right;\">\n",
       "      <th></th>\n",
       "      <th>name</th>\n",
       "      <th>taxon</th>\n",
       "      <th>gender</th>\n",
       "      <th>number_of_heads</th>\n",
       "      <th>intelligence</th>\n",
       "    </tr>\n",
       "  </thead>\n",
       "  <tbody>\n",
       "    <tr>\n",
       "      <th>3</th>\n",
       "      <td>Zaphod Beeblebrox</td>\n",
       "      <td>betelgeusian</td>\n",
       "      <td>male</td>\n",
       "      <td>2</td>\n",
       "      <td>30</td>\n",
       "    </tr>\n",
       "  </tbody>\n",
       "</table>\n",
       "</div>"
      ],
      "text/plain": [
       "                name         taxon gender  number_of_heads  intelligence\n",
       "3  Zaphod Beeblebrox  betelgeusian   male                2            30"
      ]
     },
     "execution_count": 37,
     "metadata": {},
     "output_type": "execute_result"
    }
   ],
   "source": [
    "df_multi_headed_hitchhikers = df_hitchhikers.query(\"number_of_heads > 1\")\n",
    "df_multi_headed_hitchhikers"
   ]
  },
  {
   "cell_type": "markdown",
   "metadata": {
    "id": "EoI5yzEE5BNJ"
   },
   "source": [
    "A query expression can combine conditions on multiple columns using \"and\" and \"or\". E.g., find rows where the value of the \"taxon\" column is \"human\" and the value of the \"number_of_heads\" column is 1."
   ]
  },
  {
   "cell_type": "code",
   "execution_count": 38,
   "metadata": {
    "colab": {
     "base_uri": "https://localhost:8080/",
     "height": 112
    },
    "id": "8DAz9x_q2rRg",
    "outputId": "d512d83a-12d2-4ccf-c931-d9cf88bc48c0"
   },
   "outputs": [
    {
     "data": {
      "text/html": [
       "<div>\n",
       "<style scoped>\n",
       "    .dataframe tbody tr th:only-of-type {\n",
       "        vertical-align: middle;\n",
       "    }\n",
       "\n",
       "    .dataframe tbody tr th {\n",
       "        vertical-align: top;\n",
       "    }\n",
       "\n",
       "    .dataframe thead th {\n",
       "        text-align: right;\n",
       "    }\n",
       "</style>\n",
       "<table border=\"1\" class=\"dataframe\">\n",
       "  <thead>\n",
       "    <tr style=\"text-align: right;\">\n",
       "      <th></th>\n",
       "      <th>name</th>\n",
       "      <th>taxon</th>\n",
       "      <th>gender</th>\n",
       "      <th>number_of_heads</th>\n",
       "      <th>intelligence</th>\n",
       "    </tr>\n",
       "  </thead>\n",
       "  <tbody>\n",
       "    <tr>\n",
       "      <th>2</th>\n",
       "      <td>Ford Prefect</td>\n",
       "      <td>betelgeusian</td>\n",
       "      <td>male</td>\n",
       "      <td>1</td>\n",
       "      <td>120</td>\n",
       "    </tr>\n",
       "    <tr>\n",
       "      <th>4</th>\n",
       "      <td>Marvin the Paranoid Android</td>\n",
       "      <td>robot</td>\n",
       "      <td>None</td>\n",
       "      <td>1</td>\n",
       "      <td>5000000</td>\n",
       "    </tr>\n",
       "  </tbody>\n",
       "</table>\n",
       "</div>"
      ],
      "text/plain": [
       "                          name         taxon gender  number_of_heads  \\\n",
       "2                 Ford Prefect  betelgeusian   male                1   \n",
       "4  Marvin the Paranoid Android         robot   None                1   \n",
       "\n",
       "   intelligence  \n",
       "2           120  \n",
       "4       5000000  "
      ]
     },
     "execution_count": 38,
     "metadata": {},
     "output_type": "execute_result"
    }
   ],
   "source": [
    "df_non_human_one_headed_hitchhikers = df_hitchhikers.query(\n",
    "    \"taxon != 'human' and number_of_heads == 1\"\n",
    ")\n",
    "df_non_human_one_headed_hitchhikers"
   ]
  },
  {
   "cell_type": "markdown",
   "metadata": {
    "id": "wnmBpoGd35Jk"
   },
   "source": [
    "**Exercise 8 (English)**\n",
    "\n",
    "* Query the `df_samples` DataFrame to select mosquitoes collected in Burkina Faso.\n",
    "* Query the `df_samples` DataFrame to select mosquitoes collected in Burkina Faso in 2014.\n",
    "* Query the `df_samples` DataFrame to select Anopheles coluzzii mosquitoes collected in Burkina Faso in 2014 (hint: `taxon == 'coluzzii'`).\n",
    "* Query the `snp_freqs_df` DataFrame to select SNPs which change the protein sequence (hint: `effect == 'NON_SYNONYMOUS_CODING'`).\n",
    "* Query the `snp_freqs_df` DataFrame to select SNPs which change the protein sequence and which occur above 5% frequency in at least one cohort (hint: `max_af > 0.05`).\n",
    "\n",
    "**Exercice 8 (Français)**\n",
    "\n",
    "* Sélectionner parmi les moustiques du DataFrame `df_samples` ceux qui ont été capturés au Burkina Faso.\n",
    "\n",
    "* Sélectionner parmi les moustiques du DataFrame `df_samples` ceux qui ont été capturés au Burkina Faso en 2014.\n",
    "\n",
    "* Sélectionner parmi les moustiques du DataFrame `df_samples` les Anophèles coluzzii qui ont été capturés au Burkina Faso en 2014. (Indice: `taxon == 'coluzzii'`).\n",
    "\n",
    "* Sélectionner parmi les SNPs du DataFrame `snp_freqs_df` ceux qui modifient la séquence d'une protéine (Indice: `effect == 'NON_SYNONYMOUS_CODING'`).\n",
    "\n",
    "* Sélectionner parmi les SNPs du DataFrame `snp_freqs_df` ceux qui modifient la séquence d'une protéine et apparaissent avec une fréquence supérieure à 5% dans au moins une cohorte (Indice: `max_af > 0.05`).\n"
   ]
  },
  {
   "cell_type": "markdown",
   "metadata": {
    "id": "dgcxkAi6zkS2"
   },
   "source": [
    "## Input/output\n",
    "\n",
    "We saw at the beginning of this module how to read in data from a file. Let's look finally at how to write data out to a file.\n",
    "\n",
    "To write a DataFrame out to a CSV file, use the [to_csv()](https://pandas.pydata.org/docs/reference/api/pandas.DataFrame.to_csv.html) function. E.g., let's write out the book characters DataFrame to a CSV file.\n"
   ]
  },
  {
   "cell_type": "code",
   "execution_count": 39,
   "metadata": {
    "id": "oIW1NmB13Joi"
   },
   "outputs": [],
   "source": [
    "df_hitchhikers.to_csv(\"hitchhikers.csv\")"
   ]
  },
  {
   "cell_type": "markdown",
   "metadata": {
    "id": "7STAA1TR6rLK"
   },
   "source": [
    "You can download this file to your local computer by opening the file browser tab to the left in colab.\n",
    "\n",
    "There are several other file formats you can write to. E.g., you could write to an Excel file. Here, we use the "
   ]
  },
  {
   "cell_type": "code",
   "execution_count": 40,
   "metadata": {
    "id": "3NFO88Ps3N5u"
   },
   "outputs": [],
   "source": [
    "df_hitchhikers.to_excel(\"hitchhikers.xlsx\")"
   ]
  },
  {
   "cell_type": "markdown",
   "metadata": {
    "id": "gC8w3iMm66UB"
   },
   "source": [
    "Any of the DataFrames we created in this module could be written out in the same way. E.g., we could write a DataFrame that we obtained by querying the book characters for only humans."
   ]
  },
  {
   "cell_type": "code",
   "execution_count": 41,
   "metadata": {
    "id": "wpwifsEr3rJh"
   },
   "outputs": [],
   "source": [
    "df_human_hitchhikers.to_excel(\"hh_human.xlsx\")"
   ]
  },
  {
   "cell_type": "markdown",
   "metadata": {
    "id": "m3FE5cIs38W-"
   },
   "source": [
    "**Exercise 9 (English)**\n",
    "\n",
    "* Write the `df_samples` DataFrame out to an Excel file.\n",
    "* Query the `df_samples` DataFrame to select only mosquitoes from Burkina Faso, then write the resulting DataFrame out to a CSV file.\n",
    "\n",
    "**Exercice 9 (Français)**\n",
    "\n",
    "* Enregistrer le DataFrame `df_samples` sous forme de fichier Excel.\n",
    "* Sélectionner parmi les moustiques du DataFrame `df_samples` ceux provenant du Burkina Faso et enregistrer le DataFrame ainsi créé sous forme de fichier CSV."
   ]
  },
  {
   "cell_type": "markdown",
   "metadata": {
    "id": "nmdGxE59zjx2"
   },
   "source": [
    "## Topics not covered here\n",
    "\n",
    "Please note that this module has only covered a few of the many features that pandas supports. Here are a few of the features that we have not covered, but which you might like to learn more about through other online tutorials.\n",
    "\n",
    "* Grouping and aggregation\n",
    "* Pivot tables\n",
    "* Joining and merging\n",
    "* Concatenating\n",
    "* Advanced indexing (multi-level indexes; Boolean indexing; ...)\n",
    "* Modifying data\n",
    "* Apply\n",
    "* Missing data\n",
    "* Time series\n",
    "* Plotting\n",
    "* Text\n",
    "* ...\n"
   ]
  },
  {
   "cell_type": "markdown",
   "metadata": {
    "id": "lX-mI70C0XZ0"
   },
   "source": [
    "## Further reading\n",
    "\n",
    "Here are a few links to online resources providing further information about pandas for new users.\n",
    "\n",
    "* [pandas getting started](https://pandas.pydata.org/pandas-docs/stable/getting_started/index.html)\n",
    "* [pandas user guide](https://pandas.pydata.org/docs/user_guide/index.html) (in particular see [10 minutes to pandas](https://pandas.pydata.org/docs/user_guide/10min.html))\n",
    "* [pandas community tutorials](https://pandas.pydata.org/pandas-docs/stable/getting_started/tutorials.html)"
   ]
  },
  {
   "cell_type": "code",
   "execution_count": null,
   "metadata": {},
   "outputs": [],
   "source": []
  }
 ],
 "metadata": {
  "colab": {
   "authorship_tag": "ABX9TyP7H6zecRQbtKf6lnLGaFhZ",
   "collapsed_sections": [],
   "name": "Workshop 2 - Module 1 - Introduction to pandas DataFrames - 2022-03-16.ipynb",
   "provenance": []
  },
  "kernelspec": {
   "display_name": "developer-developer-training-nb-maintenance-mgen-7.10.0",
   "language": "python",
   "name": "conda-env-developer-developer-training-nb-maintenance-mgen-7.10.0-py"
  },
  "language_info": {
   "codemirror_mode": {
    "name": "ipython",
    "version": 3
   },
   "file_extension": ".py",
   "mimetype": "text/x-python",
   "name": "python",
   "nbconvert_exporter": "python",
   "pygments_lexer": "ipython3",
   "version": "3.10.11"
  },
  "widgets": {
   "application/vnd.jupyter.widget-state+json": {
    "state": {
     "0122747ca8cc4ef7ba7c249c3bdfd7e3": {
      "model_module": "@jupyter-widgets/base",
      "model_module_version": "1.2.0",
      "model_name": "LayoutModel",
      "state": {}
     },
     "01feec3ce0a44d8d8dcefbd38adec76d": {
      "model_module": "@jupyter-widgets/base",
      "model_module_version": "1.2.0",
      "model_name": "LayoutModel",
      "state": {}
     },
     "03bbbfb2510b463c9d0484c9309fdbb4": {
      "model_module": "@jupyter-widgets/base",
      "model_module_version": "1.2.0",
      "model_name": "LayoutModel",
      "state": {}
     },
     "04b8290f1b93499aa28d012eccdf2381": {
      "model_module": "@jupyter-widgets/controls",
      "model_module_version": "1.5.0",
      "model_name": "FloatProgressModel",
      "state": {
       "bar_style": "success",
       "layout": "IPY_MODEL_03bbbfb2510b463c9d0484c9309fdbb4",
       "max": 9675,
       "style": "IPY_MODEL_efea2c9de56044148caab1cd7fc8018d",
       "value": 9675
      }
     },
     "09e775321e064dc186a94213be9cd428": {
      "model_module": "@jupyter-widgets/controls",
      "model_module_version": "1.5.0",
      "model_name": "DescriptionStyleModel",
      "state": {
       "description_width": ""
      }
     },
     "0b759c0b529f493aaf9bd99c1984c7d0": {
      "model_module": "@jupyter-widgets/base",
      "model_module_version": "1.2.0",
      "model_name": "LayoutModel",
      "state": {}
     },
     "1056443ce9304f6dbf1c20e449fb7794": {
      "model_module": "@jupyter-widgets/controls",
      "model_module_version": "1.5.0",
      "model_name": "FloatProgressModel",
      "state": {
       "bar_style": "success",
       "layout": "IPY_MODEL_b78ddc81e8c14c70b6c59cd216703779",
       "max": 32,
       "style": "IPY_MODEL_61e1a22db7394506b0fca90e9538605b",
       "value": 32
      }
     },
     "13d12f42b8e64833b127617fa267f816": {
      "model_module": "@jupyter-widgets/controls",
      "model_module_version": "1.5.0",
      "model_name": "FloatProgressModel",
      "state": {
       "bar_style": "success",
       "layout": "IPY_MODEL_d6dbfdbd0b09460799b4456ec57e7127",
       "max": 32,
       "style": "IPY_MODEL_8cd22ebdfff5403baab477a4eb37bce6",
       "value": 32
      }
     },
     "16f86a032d2544f1b062c82b3e4fdfcc": {
      "model_module": "@jupyter-widgets/base",
      "model_module_version": "1.2.0",
      "model_name": "LayoutModel",
      "state": {}
     },
     "17d5610bc5744ac78a017248e9024b2a": {
      "model_module": "@jupyter-widgets/controls",
      "model_module_version": "1.5.0",
      "model_name": "HTMLModel",
      "state": {
       "layout": "IPY_MODEL_93d28dc09e80429b949589070a80db84",
       "style": "IPY_MODEL_39c12e5076284ec8b1478f4943cdbcc2",
       "value": "Load SNP genotypes: 100%"
      }
     },
     "198865cffd8a4e23a532c729e1704615": {
      "model_module": "@jupyter-widgets/base",
      "model_module_version": "1.2.0",
      "model_name": "LayoutModel",
      "state": {}
     },
     "1abbaaba9cf044c6b95d3ce434b21ef1": {
      "model_module": "@jupyter-widgets/base",
      "model_module_version": "1.2.0",
      "model_name": "LayoutModel",
      "state": {}
     },
     "1d82e912a75243a7a95085e4d1b013bd": {
      "model_module": "@jupyter-widgets/base",
      "model_module_version": "1.2.0",
      "model_name": "LayoutModel",
      "state": {}
     },
     "1d85e3478d3f43d9bf1fbff545c08687": {
      "model_module": "@jupyter-widgets/controls",
      "model_module_version": "1.5.0",
      "model_name": "HTMLModel",
      "state": {
       "layout": "IPY_MODEL_3606643905cf427c8d90cabea8caf0e8",
       "style": "IPY_MODEL_24836607042740c494da16ba6c8b229c",
       "value": "Compute SNP effects: 100%"
      }
     },
     "1ea2e74af4f74c518d1ed8d0740b4c2b": {
      "model_module": "@jupyter-widgets/base",
      "model_module_version": "1.2.0",
      "model_name": "LayoutModel",
      "state": {}
     },
     "2108a6c2f0e8473f9465050d08f9278c": {
      "model_module": "@jupyter-widgets/base",
      "model_module_version": "1.2.0",
      "model_name": "LayoutModel",
      "state": {}
     },
     "22da57a2a1754af39446090815ac5218": {
      "model_module": "@jupyter-widgets/base",
      "model_module_version": "1.2.0",
      "model_name": "LayoutModel",
      "state": {}
     },
     "24836607042740c494da16ba6c8b229c": {
      "model_module": "@jupyter-widgets/controls",
      "model_module_version": "1.5.0",
      "model_name": "DescriptionStyleModel",
      "state": {
       "description_width": ""
      }
     },
     "24a27df073604a0d82272c87326ed191": {
      "model_module": "@jupyter-widgets/base",
      "model_module_version": "1.2.0",
      "model_name": "LayoutModel",
      "state": {}
     },
     "270959f2f69f4db1bcdf2e885c5e8995": {
      "model_module": "@jupyter-widgets/controls",
      "model_module_version": "1.5.0",
      "model_name": "HTMLModel",
      "state": {
       "layout": "IPY_MODEL_a2b8d6ef5a064619ab9f0b9e7ecb23d8",
       "style": "IPY_MODEL_b5e3dd8ae5544641b7e47825eb3ab086",
       "value": " 9675/9675 [00:00&lt;00:00, 24009.78it/s]"
      }
     },
     "2718927363974000af1ed9d7ddcdf973": {
      "model_module": "@jupyter-widgets/base",
      "model_module_version": "1.2.0",
      "model_name": "LayoutModel",
      "state": {}
     },
     "2822f1eb4f5b490aad73a7564cbd2e5a": {
      "model_module": "@jupyter-widgets/controls",
      "model_module_version": "1.5.0",
      "model_name": "DescriptionStyleModel",
      "state": {
       "description_width": ""
      }
     },
     "2ae68bf5b37343c185d84add35e8818f": {
      "model_module": "@jupyter-widgets/controls",
      "model_module_version": "1.5.0",
      "model_name": "DescriptionStyleModel",
      "state": {
       "description_width": ""
      }
     },
     "31a55dab84e34de7ae58647ecdf0d53c": {
      "model_module": "@jupyter-widgets/controls",
      "model_module_version": "1.5.0",
      "model_name": "DescriptionStyleModel",
      "state": {
       "description_width": ""
      }
     },
     "3354d7c9c5f34d11bb57406d045931d1": {
      "model_module": "@jupyter-widgets/controls",
      "model_module_version": "1.5.0",
      "model_name": "HTMLModel",
      "state": {
       "layout": "IPY_MODEL_16f86a032d2544f1b062c82b3e4fdfcc",
       "style": "IPY_MODEL_f46eed124c8740e8b5dfea671fa05a44",
       "value": "Compute SNP effects: 100%"
      }
     },
     "355560fa88c2458f90079129ea57df2b": {
      "model_module": "@jupyter-widgets/controls",
      "model_module_version": "1.5.0",
      "model_name": "HTMLModel",
      "state": {
       "layout": "IPY_MODEL_7cf8cffeaba54fa1955afeed06441fbd",
       "style": "IPY_MODEL_2822f1eb4f5b490aad73a7564cbd2e5a",
       "value": " 6/6 [00:00&lt;00:00, 46.19it/s]"
      }
     },
     "3606643905cf427c8d90cabea8caf0e8": {
      "model_module": "@jupyter-widgets/base",
      "model_module_version": "1.2.0",
      "model_name": "LayoutModel",
      "state": {}
     },
     "36e2163f360e4aac9d4b526ea55d1421": {
      "model_module": "@jupyter-widgets/controls",
      "model_module_version": "1.5.0",
      "model_name": "HBoxModel",
      "state": {
       "children": [
        "IPY_MODEL_962547f642b14d63bb2f01d4750ad3bf",
        "IPY_MODEL_f05d35c7b9284d8397b99c430c0284b2",
        "IPY_MODEL_9eacb59f381d4a0f89505f67a93475c6"
       ],
       "layout": "IPY_MODEL_59c85bc9c8124c9d81c2b36e40e26a00"
      }
     },
     "39c12e5076284ec8b1478f4943cdbcc2": {
      "model_module": "@jupyter-widgets/controls",
      "model_module_version": "1.5.0",
      "model_name": "DescriptionStyleModel",
      "state": {
       "description_width": ""
      }
     },
     "3b93cb367a0042019707aa2eb2beddd9": {
      "model_module": "@jupyter-widgets/controls",
      "model_module_version": "1.5.0",
      "model_name": "HBoxModel",
      "state": {
       "children": [
        "IPY_MODEL_1d85e3478d3f43d9bf1fbff545c08687",
        "IPY_MODEL_04b8290f1b93499aa28d012eccdf2381",
        "IPY_MODEL_3ed2ed85f8884a95ab244ebd09b2c0fd"
       ],
       "layout": "IPY_MODEL_1ea2e74af4f74c518d1ed8d0740b4c2b"
      }
     },
     "3d6905478253445ca29ca73f162876a6": {
      "model_module": "@jupyter-widgets/controls",
      "model_module_version": "1.5.0",
      "model_name": "HBoxModel",
      "state": {
       "children": [
        "IPY_MODEL_7a02e1056cd9495f929dfad15737992c",
        "IPY_MODEL_a037168605524e8e957941a1cf28650e",
        "IPY_MODEL_b7c48493b45445a1bcd885bfd59004e2"
       ],
       "layout": "IPY_MODEL_0b759c0b529f493aaf9bd99c1984c7d0"
      }
     },
     "3ed2ed85f8884a95ab244ebd09b2c0fd": {
      "model_module": "@jupyter-widgets/controls",
      "model_module_version": "1.5.0",
      "model_name": "HTMLModel",
      "state": {
       "layout": "IPY_MODEL_5c1e1a574ade4ad6af0118de5e65f161",
       "style": "IPY_MODEL_bcda8a6537834de1befff12992a89159",
       "value": " 9675/9675 [00:02&lt;00:00,  1.91s/it]"
      }
     },
     "4503cc6920354eeca0f6a0b1257a1b05": {
      "model_module": "@jupyter-widgets/controls",
      "model_module_version": "1.5.0",
      "model_name": "ProgressStyleModel",
      "state": {
       "description_width": ""
      }
     },
     "466ca83f6c324f30ae3ca3275c3ab78b": {
      "model_module": "@jupyter-widgets/controls",
      "model_module_version": "1.5.0",
      "model_name": "ProgressStyleModel",
      "state": {
       "description_width": ""
      }
     },
     "4836d38622be48aab4e461f4e0c35a53": {
      "model_module": "@jupyter-widgets/base",
      "model_module_version": "1.2.0",
      "model_name": "LayoutModel",
      "state": {}
     },
     "4d178fc793fd4c67a71e1e90012e017b": {
      "model_module": "@jupyter-widgets/controls",
      "model_module_version": "1.5.0",
      "model_name": "FloatProgressModel",
      "state": {
       "bar_style": "success",
       "layout": "IPY_MODEL_e72011bffa6347f2a9cb820cfd611adf",
       "max": 6,
       "style": "IPY_MODEL_cf7e0dab672243f7afe4c3c47c2ddd9d",
       "value": 6
      }
     },
     "4fa230c19e0a4a3583f0b3b1e85531ca": {
      "model_module": "@jupyter-widgets/base",
      "model_module_version": "1.2.0",
      "model_name": "LayoutModel",
      "state": {}
     },
     "536be44d51e04783b7d21c550ff7c8ea": {
      "model_module": "@jupyter-widgets/controls",
      "model_module_version": "1.5.0",
      "model_name": "HBoxModel",
      "state": {
       "children": [
        "IPY_MODEL_630da3eb815f421595ca821679ddfe78",
        "IPY_MODEL_1056443ce9304f6dbf1c20e449fb7794",
        "IPY_MODEL_7af96a4a3e3344aa86861ca09e3bd885"
       ],
       "layout": "IPY_MODEL_4fa230c19e0a4a3583f0b3b1e85531ca"
      }
     },
     "543c034668f342a49b6473f393943af2": {
      "model_module": "@jupyter-widgets/controls",
      "model_module_version": "1.5.0",
      "model_name": "HBoxModel",
      "state": {
       "children": [
        "IPY_MODEL_7dff54605d454264a6466dab4bfdc9f3",
        "IPY_MODEL_13d12f42b8e64833b127617fa267f816",
        "IPY_MODEL_9b21e6cc977c414a99f9faa3421668ba"
       ],
       "layout": "IPY_MODEL_f9dcd46db93b457784b840fa0def44a2"
      }
     },
     "570dc7cd94bd4c308b5b80ffef8276f1": {
      "model_module": "@jupyter-widgets/controls",
      "model_module_version": "1.5.0",
      "model_name": "DescriptionStyleModel",
      "state": {
       "description_width": ""
      }
     },
     "597023dfd6b64751bf548422d50f4ea9": {
      "model_module": "@jupyter-widgets/base",
      "model_module_version": "1.2.0",
      "model_name": "LayoutModel",
      "state": {}
     },
     "59c85bc9c8124c9d81c2b36e40e26a00": {
      "model_module": "@jupyter-widgets/base",
      "model_module_version": "1.2.0",
      "model_name": "LayoutModel",
      "state": {}
     },
     "5c1e1a574ade4ad6af0118de5e65f161": {
      "model_module": "@jupyter-widgets/base",
      "model_module_version": "1.2.0",
      "model_name": "LayoutModel",
      "state": {}
     },
     "615441c5e6704292b65eaba257b563f1": {
      "model_module": "@jupyter-widgets/controls",
      "model_module_version": "1.5.0",
      "model_name": "HTMLModel",
      "state": {
       "layout": "IPY_MODEL_0122747ca8cc4ef7ba7c249c3bdfd7e3",
       "style": "IPY_MODEL_e2b9df016be346a8a0ec7a064f7874a4",
       "value": "Compute allele frequencies: 100%"
      }
     },
     "61e1a22db7394506b0fca90e9538605b": {
      "model_module": "@jupyter-widgets/controls",
      "model_module_version": "1.5.0",
      "model_name": "ProgressStyleModel",
      "state": {
       "description_width": ""
      }
     },
     "61e93db6b2494fd6a2485b99d6930ce8": {
      "model_module": "@jupyter-widgets/controls",
      "model_module_version": "1.5.0",
      "model_name": "DescriptionStyleModel",
      "state": {
       "description_width": ""
      }
     },
     "630da3eb815f421595ca821679ddfe78": {
      "model_module": "@jupyter-widgets/controls",
      "model_module_version": "1.5.0",
      "model_name": "HTMLModel",
      "state": {
       "layout": "IPY_MODEL_ea1469ca85594801a87dab85308ca6ae",
       "style": "IPY_MODEL_cf718db6796740f0b94f1063346fdce1",
       "value": "Load SNP genotypes: 100%"
      }
     },
     "65aa547efcf1478dbf2840c6865af214": {
      "model_module": "@jupyter-widgets/controls",
      "model_module_version": "1.5.0",
      "model_name": "ProgressStyleModel",
      "state": {
       "description_width": ""
      }
     },
     "67d78a35a5724ca086ef51d8856cb74d": {
      "model_module": "@jupyter-widgets/base",
      "model_module_version": "1.2.0",
      "model_name": "LayoutModel",
      "state": {}
     },
     "6cb7d773758d42fc9c1c6bc131b154b8": {
      "model_module": "@jupyter-widgets/controls",
      "model_module_version": "1.5.0",
      "model_name": "FloatProgressModel",
      "state": {
       "bar_style": "success",
       "layout": "IPY_MODEL_77f6092064a148c8a3c43d99f5de529a",
       "max": 32,
       "style": "IPY_MODEL_b4343a439bd840f493f5db9c291bf327",
       "value": 32
      }
     },
     "721d20b3c62343b793c9f60fdec870e2": {
      "model_module": "@jupyter-widgets/controls",
      "model_module_version": "1.5.0",
      "model_name": "DescriptionStyleModel",
      "state": {
       "description_width": ""
      }
     },
     "75cdfbace08644edbc168eacb2531bdf": {
      "model_module": "@jupyter-widgets/controls",
      "model_module_version": "1.5.0",
      "model_name": "HBoxModel",
      "state": {
       "children": [
        "IPY_MODEL_3354d7c9c5f34d11bb57406d045931d1",
        "IPY_MODEL_a42d8fc38b0e45c397757cfaacc129bb",
        "IPY_MODEL_b574e1bc044043ac9ca380b8863df5b7"
       ],
       "layout": "IPY_MODEL_eb5c25ba5b5f42068ef12526051ba499"
      }
     },
     "77f6092064a148c8a3c43d99f5de529a": {
      "model_module": "@jupyter-widgets/base",
      "model_module_version": "1.2.0",
      "model_name": "LayoutModel",
      "state": {}
     },
     "7a02e1056cd9495f929dfad15737992c": {
      "model_module": "@jupyter-widgets/controls",
      "model_module_version": "1.5.0",
      "model_name": "HTMLModel",
      "state": {
       "layout": "IPY_MODEL_f9e452b4cc654a499daa5b729ad45806",
       "style": "IPY_MODEL_61e93db6b2494fd6a2485b99d6930ce8",
       "value": "Load SNP genotypes: 100%"
      }
     },
     "7af96a4a3e3344aa86861ca09e3bd885": {
      "model_module": "@jupyter-widgets/controls",
      "model_module_version": "1.5.0",
      "model_name": "HTMLModel",
      "state": {
       "layout": "IPY_MODEL_f765d760859d410eacc2c7c0c567aac1",
       "style": "IPY_MODEL_bceb261c28dc46c6aac5c68b3836b22e",
       "value": " 32/32 [00:00&lt;00:00, 81.37it/s]"
      }
     },
     "7cf8cffeaba54fa1955afeed06441fbd": {
      "model_module": "@jupyter-widgets/base",
      "model_module_version": "1.2.0",
      "model_name": "LayoutModel",
      "state": {}
     },
     "7dff54605d454264a6466dab4bfdc9f3": {
      "model_module": "@jupyter-widgets/controls",
      "model_module_version": "1.5.0",
      "model_name": "HTMLModel",
      "state": {
       "layout": "IPY_MODEL_a0d0b28b1bed45c09594979f477cd0c6",
       "style": "IPY_MODEL_09e775321e064dc186a94213be9cd428",
       "value": "Load SNP genotypes: 100%"
      }
     },
     "80d5d938c8354978b61b105a77b21962": {
      "model_module": "@jupyter-widgets/controls",
      "model_module_version": "1.5.0",
      "model_name": "HBoxModel",
      "state": {
       "children": [
        "IPY_MODEL_a4e4b43dfba64cabbb78a9dbac0755f1",
        "IPY_MODEL_8ac3cd931f444ca2beb8f039ff71baa4",
        "IPY_MODEL_b500c0b0f2104106acbb8ca407d50af9"
       ],
       "layout": "IPY_MODEL_eb8a7430fb4e44c2bf10ea308bab6c45"
      }
     },
     "892915945c434ea287d4a28c491f8cb9": {
      "model_module": "@jupyter-widgets/controls",
      "model_module_version": "1.5.0",
      "model_name": "ProgressStyleModel",
      "state": {
       "description_width": ""
      }
     },
     "8ac3cd931f444ca2beb8f039ff71baa4": {
      "model_module": "@jupyter-widgets/controls",
      "model_module_version": "1.5.0",
      "model_name": "FloatProgressModel",
      "state": {
       "bar_style": "success",
       "layout": "IPY_MODEL_d13cfbe6a5784352bc1cbd42be107bbc",
       "max": 9675,
       "style": "IPY_MODEL_94fec11344074e9dab9e96d0950f9461",
       "value": 9675
      }
     },
     "8c53d25142c040c0b9c0b09c84fa6a24": {
      "model_module": "@jupyter-widgets/controls",
      "model_module_version": "1.5.0",
      "model_name": "FloatProgressModel",
      "state": {
       "bar_style": "success",
       "layout": "IPY_MODEL_597023dfd6b64751bf548422d50f4ea9",
       "max": 6,
       "style": "IPY_MODEL_ecdb225ff8cb4e159b8982819eadee9b",
       "value": 6
      }
     },
     "8cd22ebdfff5403baab477a4eb37bce6": {
      "model_module": "@jupyter-widgets/controls",
      "model_module_version": "1.5.0",
      "model_name": "ProgressStyleModel",
      "state": {
       "description_width": ""
      }
     },
     "9303af7e9f644f15bae779b48e0a9f5e": {
      "model_module": "@jupyter-widgets/controls",
      "model_module_version": "1.5.0",
      "model_name": "HTMLModel",
      "state": {
       "layout": "IPY_MODEL_9fa070c8979e447b861b8627833a3dd9",
       "style": "IPY_MODEL_2ae68bf5b37343c185d84add35e8818f",
       "value": "Compute SNP effects: 100%"
      }
     },
     "93d28dc09e80429b949589070a80db84": {
      "model_module": "@jupyter-widgets/base",
      "model_module_version": "1.2.0",
      "model_name": "LayoutModel",
      "state": {}
     },
     "94fec11344074e9dab9e96d0950f9461": {
      "model_module": "@jupyter-widgets/controls",
      "model_module_version": "1.5.0",
      "model_name": "ProgressStyleModel",
      "state": {
       "description_width": ""
      }
     },
     "962547f642b14d63bb2f01d4750ad3bf": {
      "model_module": "@jupyter-widgets/controls",
      "model_module_version": "1.5.0",
      "model_name": "HTMLModel",
      "state": {
       "layout": "IPY_MODEL_1abbaaba9cf044c6b95d3ce434b21ef1",
       "style": "IPY_MODEL_b6a63bb6c5704d1c8ad30620fa5ec863",
       "value": "Compute allele frequencies: 100%"
      }
     },
     "9a2cc242763b45099db10e53e0552626": {
      "model_module": "@jupyter-widgets/base",
      "model_module_version": "1.2.0",
      "model_name": "LayoutModel",
      "state": {}
     },
     "9b21e6cc977c414a99f9faa3421668ba": {
      "model_module": "@jupyter-widgets/controls",
      "model_module_version": "1.5.0",
      "model_name": "HTMLModel",
      "state": {
       "layout": "IPY_MODEL_9a2cc242763b45099db10e53e0552626",
       "style": "IPY_MODEL_c6ec0a29215c40f882a178675b25479f",
       "value": " 32/32 [00:00&lt;00:00, 75.38it/s]"
      }
     },
     "9bf1eb790a1d4766958ffe280efbde24": {
      "model_module": "@jupyter-widgets/base",
      "model_module_version": "1.2.0",
      "model_name": "LayoutModel",
      "state": {}
     },
     "9eacb59f381d4a0f89505f67a93475c6": {
      "model_module": "@jupyter-widgets/controls",
      "model_module_version": "1.5.0",
      "model_name": "HTMLModel",
      "state": {
       "layout": "IPY_MODEL_198865cffd8a4e23a532c729e1704615",
       "style": "IPY_MODEL_f966aec30a114ee3a24a0da63a9f0136",
       "value": " 6/6 [00:00&lt;00:00, 60.16it/s]"
      }
     },
     "9fa070c8979e447b861b8627833a3dd9": {
      "model_module": "@jupyter-widgets/base",
      "model_module_version": "1.2.0",
      "model_name": "LayoutModel",
      "state": {}
     },
     "a037168605524e8e957941a1cf28650e": {
      "model_module": "@jupyter-widgets/controls",
      "model_module_version": "1.5.0",
      "model_name": "FloatProgressModel",
      "state": {
       "bar_style": "success",
       "layout": "IPY_MODEL_24a27df073604a0d82272c87326ed191",
       "max": 32,
       "style": "IPY_MODEL_466ca83f6c324f30ae3ca3275c3ab78b",
       "value": 32
      }
     },
     "a068f56c16fa48d1a216b328401ffa05": {
      "model_module": "@jupyter-widgets/base",
      "model_module_version": "1.2.0",
      "model_name": "LayoutModel",
      "state": {}
     },
     "a0d0b28b1bed45c09594979f477cd0c6": {
      "model_module": "@jupyter-widgets/base",
      "model_module_version": "1.2.0",
      "model_name": "LayoutModel",
      "state": {}
     },
     "a27c69704ba84eaeb8b11371978be68f": {
      "model_module": "@jupyter-widgets/base",
      "model_module_version": "1.2.0",
      "model_name": "LayoutModel",
      "state": {}
     },
     "a2a9769ec4e34a6592c02caa551e6184": {
      "model_module": "@jupyter-widgets/controls",
      "model_module_version": "1.5.0",
      "model_name": "HTMLModel",
      "state": {
       "layout": "IPY_MODEL_67d78a35a5724ca086ef51d8856cb74d",
       "style": "IPY_MODEL_be388a1368f846fd95baa721ac10c57b",
       "value": "Compute allele frequencies: 100%"
      }
     },
     "a2b8d6ef5a064619ab9f0b9e7ecb23d8": {
      "model_module": "@jupyter-widgets/base",
      "model_module_version": "1.2.0",
      "model_name": "LayoutModel",
      "state": {}
     },
     "a2bb0c4682ba4bbf8723bd1fc9e7dbdb": {
      "model_module": "@jupyter-widgets/base",
      "model_module_version": "1.2.0",
      "model_name": "LayoutModel",
      "state": {}
     },
     "a42d8fc38b0e45c397757cfaacc129bb": {
      "model_module": "@jupyter-widgets/controls",
      "model_module_version": "1.5.0",
      "model_name": "FloatProgressModel",
      "state": {
       "bar_style": "success",
       "layout": "IPY_MODEL_2718927363974000af1ed9d7ddcdf973",
       "max": 9675,
       "style": "IPY_MODEL_bc06570d8cc14ef9866d41e2ebb37410",
       "value": 9675
      }
     },
     "a4e4b43dfba64cabbb78a9dbac0755f1": {
      "model_module": "@jupyter-widgets/controls",
      "model_module_version": "1.5.0",
      "model_name": "HTMLModel",
      "state": {
       "layout": "IPY_MODEL_1d82e912a75243a7a95085e4d1b013bd",
       "style": "IPY_MODEL_721d20b3c62343b793c9f60fdec870e2",
       "value": "Compute SNP effects: 100%"
      }
     },
     "a9b565de86164bd8be90e5943132a60a": {
      "model_module": "@jupyter-widgets/base",
      "model_module_version": "1.2.0",
      "model_name": "LayoutModel",
      "state": {}
     },
     "b1046cf56ac04bf6be724de035707363": {
      "model_module": "@jupyter-widgets/controls",
      "model_module_version": "1.5.0",
      "model_name": "HBoxModel",
      "state": {
       "children": [
        "IPY_MODEL_9303af7e9f644f15bae779b48e0a9f5e",
        "IPY_MODEL_e1def5ea18014c38abb8c234137645f7",
        "IPY_MODEL_270959f2f69f4db1bcdf2e885c5e8995"
       ],
       "layout": "IPY_MODEL_4836d38622be48aab4e461f4e0c35a53"
      }
     },
     "b32c6f3983744d7fa734d779d0ee1ec5": {
      "model_module": "@jupyter-widgets/controls",
      "model_module_version": "1.5.0",
      "model_name": "DescriptionStyleModel",
      "state": {
       "description_width": ""
      }
     },
     "b388cc197dd64460bce3906111ce643e": {
      "model_module": "@jupyter-widgets/controls",
      "model_module_version": "1.5.0",
      "model_name": "HTMLModel",
      "state": {
       "layout": "IPY_MODEL_a9b565de86164bd8be90e5943132a60a",
       "style": "IPY_MODEL_f8f223cb9ad94ed185fb1a589fa56f07",
       "value": "Compute allele frequencies: 100%"
      }
     },
     "b4343a439bd840f493f5db9c291bf327": {
      "model_module": "@jupyter-widgets/controls",
      "model_module_version": "1.5.0",
      "model_name": "ProgressStyleModel",
      "state": {
       "description_width": ""
      }
     },
     "b48f986ed5bd4d04a932a42ea1fe3cbe": {
      "model_module": "@jupyter-widgets/controls",
      "model_module_version": "1.5.0",
      "model_name": "HBoxModel",
      "state": {
       "children": [
        "IPY_MODEL_615441c5e6704292b65eaba257b563f1",
        "IPY_MODEL_8c53d25142c040c0b9c0b09c84fa6a24",
        "IPY_MODEL_355560fa88c2458f90079129ea57df2b"
       ],
       "layout": "IPY_MODEL_c3c58da7052743e086de9152d6349b55"
      }
     },
     "b500c0b0f2104106acbb8ca407d50af9": {
      "model_module": "@jupyter-widgets/controls",
      "model_module_version": "1.5.0",
      "model_name": "HTMLModel",
      "state": {
       "layout": "IPY_MODEL_01feec3ce0a44d8d8dcefbd38adec76d",
       "style": "IPY_MODEL_d30577fdb2cd4e9d88431aaa8ff9d6a9",
       "value": " 9675/9675 [00:00&lt;00:00,  1.85it/s]"
      }
     },
     "b574e1bc044043ac9ca380b8863df5b7": {
      "model_module": "@jupyter-widgets/controls",
      "model_module_version": "1.5.0",
      "model_name": "HTMLModel",
      "state": {
       "layout": "IPY_MODEL_22da57a2a1754af39446090815ac5218",
       "style": "IPY_MODEL_b32c6f3983744d7fa734d779d0ee1ec5",
       "value": " 9675/9675 [00:00&lt;00:00, 28590.98it/s]"
      }
     },
     "b5e3dd8ae5544641b7e47825eb3ab086": {
      "model_module": "@jupyter-widgets/controls",
      "model_module_version": "1.5.0",
      "model_name": "DescriptionStyleModel",
      "state": {
       "description_width": ""
      }
     },
     "b6a63bb6c5704d1c8ad30620fa5ec863": {
      "model_module": "@jupyter-widgets/controls",
      "model_module_version": "1.5.0",
      "model_name": "DescriptionStyleModel",
      "state": {
       "description_width": ""
      }
     },
     "b78ddc81e8c14c70b6c59cd216703779": {
      "model_module": "@jupyter-widgets/base",
      "model_module_version": "1.2.0",
      "model_name": "LayoutModel",
      "state": {}
     },
     "b7c48493b45445a1bcd885bfd59004e2": {
      "model_module": "@jupyter-widgets/controls",
      "model_module_version": "1.5.0",
      "model_name": "HTMLModel",
      "state": {
       "layout": "IPY_MODEL_c69c5b32d55545efbf4120e1580d2648",
       "style": "IPY_MODEL_f5bebc45ef76487992b1f82fa999ed86",
       "value": " 32/32 [00:00&lt;00:00, 57.48it/s]"
      }
     },
     "bc06570d8cc14ef9866d41e2ebb37410": {
      "model_module": "@jupyter-widgets/controls",
      "model_module_version": "1.5.0",
      "model_name": "ProgressStyleModel",
      "state": {
       "description_width": ""
      }
     },
     "bcda8a6537834de1befff12992a89159": {
      "model_module": "@jupyter-widgets/controls",
      "model_module_version": "1.5.0",
      "model_name": "DescriptionStyleModel",
      "state": {
       "description_width": ""
      }
     },
     "bceb261c28dc46c6aac5c68b3836b22e": {
      "model_module": "@jupyter-widgets/controls",
      "model_module_version": "1.5.0",
      "model_name": "DescriptionStyleModel",
      "state": {
       "description_width": ""
      }
     },
     "be388a1368f846fd95baa721ac10c57b": {
      "model_module": "@jupyter-widgets/controls",
      "model_module_version": "1.5.0",
      "model_name": "DescriptionStyleModel",
      "state": {
       "description_width": ""
      }
     },
     "bf4667ea7d9844238969ae84119bd992": {
      "model_module": "@jupyter-widgets/controls",
      "model_module_version": "1.5.0",
      "model_name": "HBoxModel",
      "state": {
       "children": [
        "IPY_MODEL_a2a9769ec4e34a6592c02caa551e6184",
        "IPY_MODEL_4d178fc793fd4c67a71e1e90012e017b",
        "IPY_MODEL_c350cf57e2a54053b6ca3ba3ad871355"
       ],
       "layout": "IPY_MODEL_9bf1eb790a1d4766958ffe280efbde24"
      }
     },
     "c0bfd4c9151e4abd8d1179904ec2dfc9": {
      "model_module": "@jupyter-widgets/base",
      "model_module_version": "1.2.0",
      "model_name": "LayoutModel",
      "state": {}
     },
     "c350cf57e2a54053b6ca3ba3ad871355": {
      "model_module": "@jupyter-widgets/controls",
      "model_module_version": "1.5.0",
      "model_name": "HTMLModel",
      "state": {
       "layout": "IPY_MODEL_a2bb0c4682ba4bbf8723bd1fc9e7dbdb",
       "style": "IPY_MODEL_31a55dab84e34de7ae58647ecdf0d53c",
       "value": " 6/6 [00:00&lt;00:00, 59.65it/s]"
      }
     },
     "c3c58da7052743e086de9152d6349b55": {
      "model_module": "@jupyter-widgets/base",
      "model_module_version": "1.2.0",
      "model_name": "LayoutModel",
      "state": {}
     },
     "c53c9fc1eeae47cdafae586f29788678": {
      "model_module": "@jupyter-widgets/base",
      "model_module_version": "1.2.0",
      "model_name": "LayoutModel",
      "state": {}
     },
     "c69c5b32d55545efbf4120e1580d2648": {
      "model_module": "@jupyter-widgets/base",
      "model_module_version": "1.2.0",
      "model_name": "LayoutModel",
      "state": {}
     },
     "c6ec0a29215c40f882a178675b25479f": {
      "model_module": "@jupyter-widgets/controls",
      "model_module_version": "1.5.0",
      "model_name": "DescriptionStyleModel",
      "state": {
       "description_width": ""
      }
     },
     "cb0ca8b8dad841dba4af8c3dd8229631": {
      "model_module": "@jupyter-widgets/controls",
      "model_module_version": "1.5.0",
      "model_name": "FloatProgressModel",
      "state": {
       "bar_style": "success",
       "layout": "IPY_MODEL_c53c9fc1eeae47cdafae586f29788678",
       "max": 6,
       "style": "IPY_MODEL_892915945c434ea287d4a28c491f8cb9",
       "value": 6
      }
     },
     "cf718db6796740f0b94f1063346fdce1": {
      "model_module": "@jupyter-widgets/controls",
      "model_module_version": "1.5.0",
      "model_name": "DescriptionStyleModel",
      "state": {
       "description_width": ""
      }
     },
     "cf7e0dab672243f7afe4c3c47c2ddd9d": {
      "model_module": "@jupyter-widgets/controls",
      "model_module_version": "1.5.0",
      "model_name": "ProgressStyleModel",
      "state": {
       "description_width": ""
      }
     },
     "d0cb7f9464384a05ac34de9da43a27e1": {
      "model_module": "@jupyter-widgets/base",
      "model_module_version": "1.2.0",
      "model_name": "LayoutModel",
      "state": {}
     },
     "d13cfbe6a5784352bc1cbd42be107bbc": {
      "model_module": "@jupyter-widgets/base",
      "model_module_version": "1.2.0",
      "model_name": "LayoutModel",
      "state": {}
     },
     "d30577fdb2cd4e9d88431aaa8ff9d6a9": {
      "model_module": "@jupyter-widgets/controls",
      "model_module_version": "1.5.0",
      "model_name": "DescriptionStyleModel",
      "state": {
       "description_width": ""
      }
     },
     "d6dbfdbd0b09460799b4456ec57e7127": {
      "model_module": "@jupyter-widgets/base",
      "model_module_version": "1.2.0",
      "model_name": "LayoutModel",
      "state": {}
     },
     "db04a6716a6a4caa8ac70513df91318e": {
      "model_module": "@jupyter-widgets/controls",
      "model_module_version": "1.5.0",
      "model_name": "HBoxModel",
      "state": {
       "children": [
        "IPY_MODEL_b388cc197dd64460bce3906111ce643e",
        "IPY_MODEL_cb0ca8b8dad841dba4af8c3dd8229631",
        "IPY_MODEL_ee4d0ab9d77748a2b0645ff2b3e63d51"
       ],
       "layout": "IPY_MODEL_dfee9ee48f9a43628fef9bcd0582c7d7"
      }
     },
     "dfee9ee48f9a43628fef9bcd0582c7d7": {
      "model_module": "@jupyter-widgets/base",
      "model_module_version": "1.2.0",
      "model_name": "LayoutModel",
      "state": {}
     },
     "e1def5ea18014c38abb8c234137645f7": {
      "model_module": "@jupyter-widgets/controls",
      "model_module_version": "1.5.0",
      "model_name": "FloatProgressModel",
      "state": {
       "bar_style": "success",
       "layout": "IPY_MODEL_a27c69704ba84eaeb8b11371978be68f",
       "max": 9675,
       "style": "IPY_MODEL_65aa547efcf1478dbf2840c6865af214",
       "value": 9675
      }
     },
     "e2b9df016be346a8a0ec7a064f7874a4": {
      "model_module": "@jupyter-widgets/controls",
      "model_module_version": "1.5.0",
      "model_name": "DescriptionStyleModel",
      "state": {
       "description_width": ""
      }
     },
     "e30366f21178417fa4cc6e972f9f5095": {
      "model_module": "@jupyter-widgets/controls",
      "model_module_version": "1.5.0",
      "model_name": "DescriptionStyleModel",
      "state": {
       "description_width": ""
      }
     },
     "e4e478deb89946acaaf7522258156cc6": {
      "model_module": "@jupyter-widgets/controls",
      "model_module_version": "1.5.0",
      "model_name": "HBoxModel",
      "state": {
       "children": [
        "IPY_MODEL_17d5610bc5744ac78a017248e9024b2a",
        "IPY_MODEL_6cb7d773758d42fc9c1c6bc131b154b8",
        "IPY_MODEL_e682e229d4994c7981ce6de36db4d850"
       ],
       "layout": "IPY_MODEL_2108a6c2f0e8473f9465050d08f9278c"
      }
     },
     "e682e229d4994c7981ce6de36db4d850": {
      "model_module": "@jupyter-widgets/controls",
      "model_module_version": "1.5.0",
      "model_name": "HTMLModel",
      "state": {
       "layout": "IPY_MODEL_c0bfd4c9151e4abd8d1179904ec2dfc9",
       "style": "IPY_MODEL_e30366f21178417fa4cc6e972f9f5095",
       "value": " 32/32 [00:00&lt;00:00, 40.60it/s]"
      }
     },
     "e72011bffa6347f2a9cb820cfd611adf": {
      "model_module": "@jupyter-widgets/base",
      "model_module_version": "1.2.0",
      "model_name": "LayoutModel",
      "state": {}
     },
     "ea1469ca85594801a87dab85308ca6ae": {
      "model_module": "@jupyter-widgets/base",
      "model_module_version": "1.2.0",
      "model_name": "LayoutModel",
      "state": {}
     },
     "eb5c25ba5b5f42068ef12526051ba499": {
      "model_module": "@jupyter-widgets/base",
      "model_module_version": "1.2.0",
      "model_name": "LayoutModel",
      "state": {}
     },
     "eb8a7430fb4e44c2bf10ea308bab6c45": {
      "model_module": "@jupyter-widgets/base",
      "model_module_version": "1.2.0",
      "model_name": "LayoutModel",
      "state": {}
     },
     "ecdb225ff8cb4e159b8982819eadee9b": {
      "model_module": "@jupyter-widgets/controls",
      "model_module_version": "1.5.0",
      "model_name": "ProgressStyleModel",
      "state": {
       "description_width": ""
      }
     },
     "ee4d0ab9d77748a2b0645ff2b3e63d51": {
      "model_module": "@jupyter-widgets/controls",
      "model_module_version": "1.5.0",
      "model_name": "HTMLModel",
      "state": {
       "layout": "IPY_MODEL_a068f56c16fa48d1a216b328401ffa05",
       "style": "IPY_MODEL_570dc7cd94bd4c308b5b80ffef8276f1",
       "value": " 6/6 [00:00&lt;00:00, 53.27it/s]"
      }
     },
     "efea2c9de56044148caab1cd7fc8018d": {
      "model_module": "@jupyter-widgets/controls",
      "model_module_version": "1.5.0",
      "model_name": "ProgressStyleModel",
      "state": {
       "description_width": ""
      }
     },
     "f05d35c7b9284d8397b99c430c0284b2": {
      "model_module": "@jupyter-widgets/controls",
      "model_module_version": "1.5.0",
      "model_name": "FloatProgressModel",
      "state": {
       "bar_style": "success",
       "layout": "IPY_MODEL_d0cb7f9464384a05ac34de9da43a27e1",
       "max": 6,
       "style": "IPY_MODEL_4503cc6920354eeca0f6a0b1257a1b05",
       "value": 6
      }
     },
     "f46eed124c8740e8b5dfea671fa05a44": {
      "model_module": "@jupyter-widgets/controls",
      "model_module_version": "1.5.0",
      "model_name": "DescriptionStyleModel",
      "state": {
       "description_width": ""
      }
     },
     "f5bebc45ef76487992b1f82fa999ed86": {
      "model_module": "@jupyter-widgets/controls",
      "model_module_version": "1.5.0",
      "model_name": "DescriptionStyleModel",
      "state": {
       "description_width": ""
      }
     },
     "f765d760859d410eacc2c7c0c567aac1": {
      "model_module": "@jupyter-widgets/base",
      "model_module_version": "1.2.0",
      "model_name": "LayoutModel",
      "state": {}
     },
     "f8f223cb9ad94ed185fb1a589fa56f07": {
      "model_module": "@jupyter-widgets/controls",
      "model_module_version": "1.5.0",
      "model_name": "DescriptionStyleModel",
      "state": {
       "description_width": ""
      }
     },
     "f966aec30a114ee3a24a0da63a9f0136": {
      "model_module": "@jupyter-widgets/controls",
      "model_module_version": "1.5.0",
      "model_name": "DescriptionStyleModel",
      "state": {
       "description_width": ""
      }
     },
     "f9dcd46db93b457784b840fa0def44a2": {
      "model_module": "@jupyter-widgets/base",
      "model_module_version": "1.2.0",
      "model_name": "LayoutModel",
      "state": {}
     },
     "f9e452b4cc654a499daa5b729ad45806": {
      "model_module": "@jupyter-widgets/base",
      "model_module_version": "1.2.0",
      "model_name": "LayoutModel",
      "state": {}
     }
    },
    "version_major": 2,
    "version_minor": 0
   }
  }
 },
 "nbformat": 4,
 "nbformat_minor": 4
}
