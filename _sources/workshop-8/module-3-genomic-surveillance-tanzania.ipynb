{
 "cells": [
  {
   "cell_type": "markdown",
   "id": "c6f4410c-7f7e-4cce-9921-175e7702ba1c",
   "metadata": {},
   "source": [
    "![banner](../banner.jpg)\n",
    "\n",
    "***[Workshop 8](about) - Planning analysis and presenting results***\n",
    "\n",
    "---"
   ]
  },
  {
   "cell_type": "markdown",
   "id": "44b51744-93e6-43a9-8039-4a1fccc3fe01",
   "metadata": {},
   "source": [
    "# Module 3 - Genomic surveillance of malaria vectors in Tanzania\n",
    "\n",
    "Sophia Hussein Mwinyi is a Research Scientist at the Ifakara Health Institute.\n",
    "\n",
    "In this presentation, Sophia will be talking about genomic analysis of _An. Gambiae_ complex mosquitoes from Tanzania. Specifically, on population dynamics, insecticide resistance mechanisms and spread, and on the presence of genes with selective sweeps. "
   ]
  },
  {
   "cell_type": "code",
   "execution_count": 1,
   "id": "4d5ab47a-9a7b-4572-bf5a-f2036b26226c",
   "metadata": {
    "tags": [
     "remove-input"
    ]
   },
   "outputs": [
    {
     "data": {
      "text/html": [
       "<iframe width=\"560\" height=\"315\" src=\"https://www.youtube.com/embed/ciTbxhQxX-Q\" title=\"YouTube video player\" frameborder=\"0\" allow=\"accelerometer; autoplay; clipboard-write; encrypted-media; gyroscope; picture-in-picture\" allowfullscreen></iframe>\n"
      ],
      "text/plain": [
       "<IPython.core.display.HTML object>"
      ]
     },
     "metadata": {},
     "output_type": "display_data"
    }
   ],
   "source": [
    "%%html\n",
    "<iframe width=\"560\" height=\"315\" src=\"https://www.youtube.com/embed/ciTbxhQxX-Q\" title=\"YouTube video player\" frameborder=\"0\" allow=\"accelerometer; autoplay; clipboard-write; encrypted-media; gyroscope; picture-in-picture\" allowfullscreen></iframe>\n"
   ]
  },
  {
   "cell_type": "code",
   "execution_count": null,
   "id": "1e4b5cd2",
   "metadata": {},
   "outputs": [],
   "source": []
  }
 ],
 "metadata": {
  "kernelspec": {
   "display_name": "Python 3 (ipykernel)",
   "language": "python",
   "name": "python3"
  },
  "language_info": {
   "codemirror_mode": {
    "name": "ipython",
    "version": 3
   },
   "file_extension": ".py",
   "mimetype": "text/x-python",
   "name": "python",
   "nbconvert_exporter": "python",
   "pygments_lexer": "ipython3",
   "version": "3.10.6"
  }
 },
 "nbformat": 4,
 "nbformat_minor": 5
}
