{
 "cells": [
  {
   "cell_type": "markdown",
   "id": "c6f4410c-7f7e-4cce-9921-175e7702ba1c",
   "metadata": {},
   "source": [
    "![banner](../banner.jpg)\n",
    "\n",
    "***[Workshop 8](about) - Planning analysis and presenting results***\n",
    "\n",
    "---"
   ]
  },
  {
   "cell_type": "markdown",
   "id": "44b51744-93e6-43a9-8039-4a1fccc3fe01",
   "metadata": {},
   "source": [
    "# Module 4 - Genomic surveillance of malaria vectors in Ghana\n",
    "\n",
    "Dr Lucas Amenga-Etego is a Research Fellow at the West African Centre for Cell Biology of Infectious Pathogens (WACCBIP), Department of Biochemistry, Cell & Molecular Biology at the University of Ghana. \n",
    "\n",
    "In this presentation Dr Lucas Amenga-Etego will be talking about genomic surveillance of malaria vectors in Ghana. Specifically, on the influence of micro-ecological variation and malaria control selection pressures on the evolutionary dynamics of malaria vectors in the Kassena-Nankana Districts (KNDs) of northern Ghana."
   ]
  },
  {
   "cell_type": "markdown",
   "id": "5b7333fc",
   "metadata": {},
   "source": [
    "### English"
   ]
  },
  {
   "cell_type": "code",
   "execution_count": 1,
   "id": "4d5ab47a-9a7b-4572-bf5a-f2036b26226c",
   "metadata": {
    "tags": [
     "remove-input"
    ]
   },
   "outputs": [
    {
     "data": {
      "text/html": [
       "<iframe width=\"560\" height=\"315\" src=\"https://www.youtube.com/embed/jkLdAyDWemg\" title=\"YouTube video player\" frameborder=\"0\" allow=\"accelerometer; autoplay; clipboard-write; encrypted-media; gyroscope; picture-in-picture\" allowfullscreen></iframe>\n"
      ],
      "text/plain": [
       "<IPython.core.display.HTML object>"
      ]
     },
     "metadata": {},
     "output_type": "display_data"
    }
   ],
   "source": [
    "%%html\n",
    "<iframe width=\"560\" height=\"315\" src=\"https://www.youtube.com/embed/jkLdAyDWemg\" title=\"YouTube video player\" frameborder=\"0\" allow=\"accelerometer; autoplay; clipboard-write; encrypted-media; gyroscope; picture-in-picture\" allowfullscreen></iframe>"
   ]
  },
  {
   "cell_type": "markdown",
   "id": "77d44f19",
   "metadata": {},
   "source": [
    "### Français"
   ]
  },
  {
   "cell_type": "code",
   "execution_count": 2,
   "id": "dc2454ad",
   "metadata": {},
   "outputs": [
    {
     "data": {
      "text/html": [
       "<iframe width=\"560\" height=\"315\" src=\"https://www.youtube.com/embed/W36bwalhx4k\" title=\"YouTube video player\" frameborder=\"0\" allow=\"accelerometer; autoplay; clipboard-write; encrypted-media; gyroscope; picture-in-picture\" allowfullscreen></iframe>\n"
      ],
      "text/plain": [
       "<IPython.core.display.HTML object>"
      ]
     },
     "metadata": {},
     "output_type": "display_data"
    }
   ],
   "source": [
    "%%html\n",
    "<iframe width=\"560\" height=\"315\" src=\"https://www.youtube.com/embed/W36bwalhx4k\" title=\"YouTube video player\" frameborder=\"0\" allow=\"accelerometer; autoplay; clipboard-write; encrypted-media; gyroscope; picture-in-picture\" allowfullscreen></iframe>"
   ]
  }
 ],
 "metadata": {
  "kernelspec": {
   "display_name": "Python 3 (ipykernel)",
   "language": "python",
   "name": "python3"
  },
  "language_info": {
   "codemirror_mode": {
    "name": "ipython",
    "version": 3
   },
   "file_extension": ".py",
   "mimetype": "text/x-python",
   "name": "python",
   "nbconvert_exporter": "python",
   "pygments_lexer": "ipython3",
   "version": "3.7.16"
  }
 },
 "nbformat": 4,
 "nbformat_minor": 5
}
